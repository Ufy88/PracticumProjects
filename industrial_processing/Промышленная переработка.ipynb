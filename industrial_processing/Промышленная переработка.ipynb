{
 "cells": [
  {
   "cell_type": "markdown",
   "metadata": {},
   "source": [
    "# 1.   Восстановление золота из руды"
   ]
  },
  {
   "cell_type": "markdown",
   "metadata": {},
   "source": [
    "<div style=\"background-color: #fff0e0; padding: 10px; font-family: monospace; font-size: 15px\">\n",
    "Необходимо подготовить прототип модели машинного обучения для «Цифры». Компания разрабатывает решения для эффективной работы промышленных предприятий.\n",
    "<br><br>Модель должна предсказать коэффициент восстановления золота из золотосодержащей руды. Используйте данные с параметрами добычи и очистки. \n",
    "<br><br>Модель поможет оптимизировать производство, чтобы не запускать предприятие с убыточными характеристиками.\n",
    "<br><br>Нам нужно:\n",
    "    \n",
    "1. Подготовить данные;\n",
    "2. Провести исследовательский анализ данных;\n",
    "3. Построить и обучить модель.</div>"
   ]
  },
  {
   "cell_type": "markdown",
   "metadata": {},
   "source": [
    "## 1.1.   Подготовка данных"
   ]
  },
  {
   "cell_type": "markdown",
   "metadata": {},
   "source": [
    "### 1.1.1.   Импорты и чтение файлов"
   ]
  },
  {
   "cell_type": "code",
   "execution_count": 1,
   "metadata": {},
   "outputs": [],
   "source": [
    "import pandas as pd\n",
    "from matplotlib import pyplot as plt\n",
    "from sklearn.metrics import mean_absolute_error as mae\n",
    "from sklearn.model_selection import train_test_split\n",
    "from sklearn.linear_model import LinearRegression, LogisticRegression\n",
    "from sklearn.tree import DecisionTreeRegressor\n",
    "from sklearn.ensemble import RandomForestRegressor\n",
    "from sklearn.model_selection import KFold\n",
    "import warnings\n",
    "warnings.filterwarnings(\"ignore\")"
   ]
  },
  {
   "cell_type": "code",
   "execution_count": 2,
   "metadata": {},
   "outputs": [],
   "source": [
    "gr_train = pd.read_csv('/datasets/gold_recovery_train_new.csv')\n",
    "gr_test = pd.read_csv('/datasets/gold_recovery_test_new.csv')\n",
    "gr_full = pd.read_csv('/datasets/gold_recovery_full_new.csv')"
   ]
  },
  {
   "cell_type": "markdown",
   "metadata": {},
   "source": [
    "### 1.1.2.   Знакомство с данными"
   ]
  },
  {
   "cell_type": "markdown",
   "metadata": {},
   "source": [
    "### 1.1.3.   Расчет эффективности обогащения"
   ]
  },
  {
   "cell_type": "code",
   "execution_count": 3,
   "metadata": {},
   "outputs": [],
   "source": [
    "# для формулы (C * (F - T)) / (F * (C - T)) * 100 \n",
    "# создадим отдельные переменные, с соответствующими данными\n",
    "\n",
    "C = gr_train['rougher.output.concentrate_au']\n",
    "F = gr_train['rougher.input.feed_au']\n",
    "T = gr_train['rougher.output.tail_au']"
   ]
  },
  {
   "cell_type": "code",
   "execution_count": 4,
   "metadata": {},
   "outputs": [],
   "source": [
    "# расчитанные по формуле значения сохраним в отдельную переменную\n",
    "Recovery = (C * (F - T)) / (F * (C - T)) * 100"
   ]
  },
  {
   "cell_type": "code",
   "execution_count": 5,
   "metadata": {},
   "outputs": [
    {
     "data": {
      "text/plain": [
       "9.73512347450521e-15"
      ]
     },
     "execution_count": 5,
     "metadata": {},
     "output_type": "execute_result"
    }
   ],
   "source": [
    "# проверим отклонение по Mean Absolute Error\n",
    "mae(Recovery, gr_train['rougher.output.recovery'])"
   ]
  },
  {
   "cell_type": "markdown",
   "metadata": {},
   "source": [
    "<div style=\"background-color: #fff0e0; padding: 10px; font-family: monospace; font-size: 15px\">\n",
    "Крайне малое значение, погрешностью которого (при согласии исследователей) можно пренебречь – Python и на более низких разрядах ошибается (особенно при делении нецелых чисел)</div>"
   ]
  },
  {
   "cell_type": "code",
   "execution_count": 6,
   "metadata": {},
   "outputs": [],
   "source": [
    "# 0.3 / 0.1"
   ]
  },
  {
   "cell_type": "markdown",
   "metadata": {},
   "source": [
    "### 1.1.4.   Признаки тестовой выборки"
   ]
  },
  {
   "cell_type": "markdown",
   "metadata": {},
   "source": [
    "<div style=\"background-color: #fff0e0; padding: 10px; font-family: monospace; font-size: 15px\">\n",
    "Посмотрим на признаки набора, не вошедшие в тестовую выборку</div>"
   ]
  },
  {
   "cell_type": "code",
   "execution_count": 7,
   "metadata": {},
   "outputs": [
    {
     "data": {
      "text/plain": [
       "['final.output.concentrate_ag',\n",
       " 'final.output.concentrate_pb',\n",
       " 'final.output.concentrate_sol',\n",
       " 'final.output.concentrate_au',\n",
       " 'final.output.recovery',\n",
       " 'final.output.tail_ag',\n",
       " 'final.output.tail_pb',\n",
       " 'final.output.tail_sol',\n",
       " 'final.output.tail_au',\n",
       " 'primary_cleaner.output.concentrate_ag',\n",
       " 'primary_cleaner.output.concentrate_pb',\n",
       " 'primary_cleaner.output.concentrate_sol',\n",
       " 'primary_cleaner.output.concentrate_au',\n",
       " 'primary_cleaner.output.tail_ag',\n",
       " 'primary_cleaner.output.tail_pb',\n",
       " 'primary_cleaner.output.tail_sol',\n",
       " 'primary_cleaner.output.tail_au',\n",
       " 'rougher.calculation.sulfate_to_au_concentrate',\n",
       " 'rougher.calculation.floatbank10_sulfate_to_au_feed',\n",
       " 'rougher.calculation.floatbank11_sulfate_to_au_feed',\n",
       " 'rougher.calculation.au_pb_ratio',\n",
       " 'rougher.output.concentrate_ag',\n",
       " 'rougher.output.concentrate_pb',\n",
       " 'rougher.output.concentrate_sol',\n",
       " 'rougher.output.concentrate_au',\n",
       " 'rougher.output.recovery',\n",
       " 'rougher.output.tail_ag',\n",
       " 'rougher.output.tail_pb',\n",
       " 'rougher.output.tail_sol',\n",
       " 'rougher.output.tail_au',\n",
       " 'secondary_cleaner.output.tail_ag',\n",
       " 'secondary_cleaner.output.tail_pb',\n",
       " 'secondary_cleaner.output.tail_sol',\n",
       " 'secondary_cleaner.output.tail_au']"
      ]
     },
     "execution_count": 7,
     "metadata": {},
     "output_type": "execute_result"
    }
   ],
   "source": [
    "[col \n",
    " for col in gr_full.columns \n",
    " if col not in gr_test.columns]"
   ]
  },
  {
   "cell_type": "markdown",
   "metadata": {},
   "source": [
    "<div style=\"background-color: #fff0e0; padding: 10px; font-family: monospace; font-size: 15px\">\n",
    "В основном видны output - можно сделать вывод, что результативные данные подтягиваются позже, и мы, скорее всего, окажемся в ситуации, где у нас не будет этих данных при реальных предсказаниях</div>"
   ]
  },
  {
   "cell_type": "markdown",
   "metadata": {},
   "source": [
    "## 1.2.   Анализ данных"
   ]
  },
  {
   "cell_type": "markdown",
   "metadata": {},
   "source": [
    "### 1.2.1.   Поэтапное изменение концентраций"
   ]
  },
  {
   "cell_type": "markdown",
   "metadata": {},
   "source": [
    "<div style=\"background-color: #fff0e0; padding: 10px; font-family: monospace; font-size: 15px\">\n",
    "Рассмотрим три объекта – концентрацию au, ag и pb. Также для наблюдения возьмем три этапа: черновой концентрат (после флотации), состояние после первичной очистки и финальное состояние (после вторичной очистки). Рассматривать будем распределения этих показателей</div>"
   ]
  },
  {
   "cell_type": "code",
   "execution_count": 8,
   "metadata": {},
   "outputs": [
    {
     "data": {
      "image/png": "[encoded data removed]",
      "text/plain": [
       "<Figure size 864x648 with 1 Axes>"
      ]
     },
     "metadata": {
      "needs_background": "light"
     },
     "output_type": "display_data"
    },
    {
     "data": {
      "image/png": "[encoded data removed]",
      "text/plain": [
       "<Figure size 864x648 with 1 Axes>"
      ]
     },
     "metadata": {
      "needs_background": "light"
     },
     "output_type": "display_data"
    },
    {
     "data": {
      "image/png": "[encoded data removed]",
      "text/plain": [
       "<Figure size 864x648 with 1 Axes>"
      ]
     },
     "metadata": {
      "needs_background": "light"
     },
     "output_type": "display_data"
    }
   ],
   "source": [
    "plt.figure(figsize=(12, 9))\n",
    "gr_full['rougher.output.concentrate_au'].hist(bins=100, label='AU')\n",
    "gr_full['rougher.output.concentrate_pb'].hist(bins=100, label='PB')\n",
    "gr_full['rougher.output.concentrate_ag'].hist(bins=100, label='AG')\n",
    "plt.title('ROUGHER CONCENTRATE')\n",
    "plt.legend()\n",
    "plt.show()\n",
    "\n",
    "plt.figure(figsize=(12, 9))\n",
    "gr_full['primary_cleaner.output.concentrate_au'].hist(bins=100, label='AU')\n",
    "gr_full['primary_cleaner.output.concentrate_pb'].hist(bins=100, label='PB')\n",
    "gr_full['primary_cleaner.output.concentrate_ag'].hist(bins=100, label='AG')\n",
    "plt.title('PRIMARY CLEANER CONCENTRATE')\n",
    "plt.legend()\n",
    "plt.show()\n",
    "\n",
    "plt.figure(figsize=(12, 9))\n",
    "gr_full['final.output.concentrate_au'].hist(bins=100, label='AU')\n",
    "gr_full['final.output.concentrate_pb'].hist(bins=100, label='PB')\n",
    "gr_full['final.output.concentrate_ag'].hist(bins=100, label='AG')\n",
    "plt.title('FINAL CONCENTRATE')\n",
    "plt.legend()\n",
    "plt.show()"
   ]
  },
  {
   "cell_type": "markdown",
   "metadata": {},
   "source": [
    "<div style=\"background-color: #fff0e0; padding: 10px; font-family: monospace; font-size: 15px\">\n",
    "Здесь видно, что au, концентрация которого нам в конечном итоге и важна, возрастает и в абсолютном выражении, и как концентрация, в частях\n",
    "<br><br>Значения pb остаются примерно на одном месте, ag, в свою очередь, незначительно уменьшается</div>"
   ]
  },
  {
   "cell_type": "markdown",
   "metadata": {},
   "source": [
    "### 1.2.2.   Распределение размеров гранул сырья"
   ]
  },
  {
   "cell_type": "markdown",
   "metadata": {},
   "source": [
    "<div style=\"background-color: #fff0e0; padding: 10px; font-family: monospace; font-size: 15px\">\n",
    "Построим boxplot</div>"
   ]
  },
  {
   "cell_type": "code",
   "execution_count": 9,
   "metadata": {},
   "outputs": [
    {
     "data": {
      "text/plain": [
       "<AxesSubplot:>"
      ]
     },
     "execution_count": 9,
     "metadata": {},
     "output_type": "execute_result"
    },
    {
     "data": {
      "image/png": "[encoded data removed]",
      "text/plain": [
       "<Figure size 1080x648 with 2 Axes>"
      ]
     },
     "metadata": {
      "needs_background": "light"
     },
     "output_type": "display_data"
    }
   ],
   "source": [
    "fig, (ax1, ax2) = plt.subplots(ncols=2, figsize=(15, 9))\n",
    "gr_train['rougher.input.feed_size'].plot(kind='box', ax=ax1, ylim=(20, 100))\n",
    "gr_test['rougher.input.feed_size'].plot(kind='box', ax=ax2, ylim=(20, 100))"
   ]
  },
  {
   "cell_type": "markdown",
   "metadata": {},
   "source": [
    "<div style=\"background-color: #fff0e0; padding: 10px; font-family: monospace; font-size: 15px\">\n",
    "Распределения очень похожи, сильных отличий (в масштабах данных) не наблюдается</div>"
   ]
  },
  {
   "cell_type": "code",
   "execution_count": 10,
   "metadata": {},
   "outputs": [
    {
     "data": {
      "text/plain": [
       "<AxesSubplot:>"
      ]
     },
     "execution_count": 10,
     "metadata": {},
     "output_type": "execute_result"
    },
    {
     "data": {
      "image/png": "[encoded data removed]",
      "text/plain": [
       "<Figure size 1080x648 with 2 Axes>"
      ]
     },
     "metadata": {
      "needs_background": "light"
     },
     "output_type": "display_data"
    }
   ],
   "source": [
    "fig, (ax1, ax2) = plt.subplots(ncols=2, figsize=(15, 9))\n",
    "gr_train['primary_cleaner.input.feed_size'].plot(kind='box', ax=ax1, ylim=(5, 9))\n",
    "gr_test['primary_cleaner.input.feed_size'].plot(kind='box', ax=ax2, ylim=(5, 9))"
   ]
  },
  {
   "cell_type": "markdown",
   "metadata": {},
   "source": [
    "<div style=\"background-color: #fff0e0; padding: 10px; font-family: monospace; font-size: 15px\">\n",
    "Здесь примерно та же история – выбросы иногда отличаются, но большая часть данных лежит в одинаковых пределах</div>"
   ]
  },
  {
   "cell_type": "markdown",
   "metadata": {},
   "source": [
    "### 1.2.3.   Концентрация на разных стадиях"
   ]
  },
  {
   "cell_type": "markdown",
   "metadata": {},
   "source": [
    "<div style=\"background-color: #fff0e0; padding: 10px; font-family: monospace; font-size: 15px\">\n",
    "Можно посмотреть отдельно каждый элемент по этапам</div>"
   ]
  },
  {
   "cell_type": "code",
   "execution_count": 11,
   "metadata": {},
   "outputs": [
    {
     "data": {
      "image/png": "[encoded data removed]",
      "text/plain": [
       "<Figure size 864x648 with 1 Axes>"
      ]
     },
     "metadata": {
      "needs_background": "light"
     },
     "output_type": "display_data"
    },
    {
     "data": {
      "image/png": "[encoded data removed]",
      "text/plain": [
       "<Figure size 864x648 with 1 Axes>"
      ]
     },
     "metadata": {
      "needs_background": "light"
     },
     "output_type": "display_data"
    }
   ],
   "source": [
    "plt.figure(figsize=(12, 9))\n",
    "gr_full['rougher.output.concentrate_au'].hist(bins=100, label='AU rougher')\n",
    "gr_full['primary_cleaner.output.concentrate_au'].hist(bins=100, label='AU primary_cleaner')\n",
    "gr_full['final.output.concentrate_au'].hist(bins=100, label='AU final')\n",
    "plt.title('CONCENTRATE AU')\n",
    "plt.legend()\n",
    "plt.show()\n",
    "\n",
    "plt.figure(figsize=(12, 9))\n",
    "gr_full['rougher.output.concentrate_pb'].hist(bins=100, label='PB rougher')\n",
    "gr_full['primary_cleaner.output.concentrate_pb'].hist(bins=100, label='PB primary_cleaner')\n",
    "gr_full['final.output.concentrate_pb'].hist(bins=100, label='PB final')\n",
    "plt.title('CONCENTRATE PB')\n",
    "plt.legend()\n",
    "plt.show()"
   ]
  },
  {
   "cell_type": "code",
   "execution_count": 12,
   "metadata": {},
   "outputs": [
    {
     "data": {
      "image/png": "[encoded data removed]",
      "text/plain": [
       "<Figure size 864x648 with 1 Axes>"
      ]
     },
     "metadata": {
      "needs_background": "light"
     },
     "output_type": "display_data"
    },
    {
     "data": {
      "image/png": "[encoded data removed]",
      "text/plain": [
       "<Figure size 864x648 with 1 Axes>"
      ]
     },
     "metadata": {
      "needs_background": "light"
     },
     "output_type": "display_data"
    }
   ],
   "source": [
    "plt.figure(figsize=(12, 9))\n",
    "gr_full['rougher.output.concentrate_ag'].hist(bins=100, label='AG rougher')\n",
    "gr_full['primary_cleaner.output.concentrate_ag'].hist(bins=100, label='AG primary_cleaner')\n",
    "gr_full['final.output.concentrate_ag'].hist(bins=100, label='AG final')\n",
    "plt.title('CONCENTRATE AG')\n",
    "plt.legend()\n",
    "plt.show()\n",
    "\n",
    "plt.figure(figsize=(12, 9))\n",
    "gr_full['rougher.output.concentrate_sol'].hist(bins=100, label='SOL rougher')\n",
    "gr_full['primary_cleaner.output.concentrate_sol'].hist(bins=100, label='SOL primary_cleaner')\n",
    "gr_full['final.output.concentrate_sol'].hist(bins=100, label='SOL final')\n",
    "plt.title('CONCENTRATE SOl')\n",
    "plt.legend()\n",
    "plt.show()"
   ]
  },
  {
   "cell_type": "markdown",
   "metadata": {},
   "source": [
    "<div style=\"background-color: #fff0e0; padding: 10px; font-family: monospace; font-size: 15px\">\n",
    "На графиках с уже одинаковым масштабом можно заметить резкий рост au на последней стадии, рост ag, практически неизменную концентрацию pb и значительный спад sol</div>"
   ]
  },
  {
   "cell_type": "code",
   "execution_count": 13,
   "metadata": {},
   "outputs": [],
   "source": [
    "# для каждого этапа пропишем необходимые названия колонок концентрации\n",
    "primary_cleaner_concentrate = ['primary_cleaner.output.concentrate_ag',\n",
    "                               'primary_cleaner.output.concentrate_pb',\n",
    "                               'primary_cleaner.output.concentrate_sol',\n",
    "                               'primary_cleaner.output.concentrate_au']\n",
    "\n",
    "final_concentrate = ['final.output.concentrate_ag', \n",
    "                     'final.output.concentrate_pb',\n",
    "                     'final.output.concentrate_sol', \n",
    "                     'final.output.concentrate_au']\n",
    "\n",
    "rougher_concentrate = ['rougher.output.concentrate_ag',\n",
    "                       'rougher.output.concentrate_pb', \n",
    "                       'rougher.output.concentrate_sol',\n",
    "                       'rougher.output.concentrate_au']\n",
    "\n",
    "# положим все в один словарь\n",
    "full_concentrate = {'rougher': rougher_concentrate, \n",
    "                    'primary': primary_cleaner_concentrate, \n",
    "                    'final': final_concentrate}"
   ]
  },
  {
   "cell_type": "code",
   "execution_count": 14,
   "metadata": {},
   "outputs": [
    {
     "name": "stdout",
     "output_type": "stream",
     "text": [
      "rougher: 68.17860254823096\n",
      "ag: 11.99 (17.59%)\n",
      "pb: 7.61 (11.16%)\n",
      "sol: 28.81 (42.25%)\n",
      "au: 19.77 (29.0%)\n",
      "\n",
      "primary: 60.88083772573897\n",
      "ag: 8.44 (13.87%)\n",
      "pb: 9.83 (16.15%)\n",
      "sol: 10.49 (17.23%)\n",
      "au: 32.12 (52.76%)\n",
      "\n",
      "final: 68.72510242280688\n",
      "ag: 5.17 (7.52%)\n",
      "pb: 9.98 (14.52%)\n",
      "sol: 9.5 (13.82%)\n",
      "au: 44.08 (64.13%)\n",
      "\n"
     ]
    }
   ],
   "source": [
    "# создадим списки для хранения данных каждого вещества\n",
    "ag, pb, sol, au, full = [], [], [], [], []\n",
    "\n",
    "for step in full_concentrate:\n",
    "    # сохраним средние данные по веществам\n",
    "    concentrate = gr_full[full_concentrate[step]].mean()\n",
    "    # выведем суммарную концентрацию всех веществ\n",
    "    print(f'{step}: {concentrate.sum()}')\n",
    "    # и каждого в отдельности\n",
    "    print(f'ag: {round(concentrate[0], 2)} ({round(concentrate[0] / concentrate.sum() *100, 2)}%)\\n'\n",
    "          f'pb: {round(concentrate[1], 2)} ({round(concentrate[1] / concentrate.sum() *100, 2)}%)\\n'\n",
    "          f'sol: {round(concentrate[2], 2)} ({round(concentrate[2] / concentrate.sum() *100, 2)}%)\\n'\n",
    "          f'au: {round(concentrate[3], 2)} ({round(concentrate[3] / concentrate.sum() *100, 2)}%)\\n')\n",
    "    \n",
    "    # заполним списки\n",
    "    ag.append(round(concentrate[0], 2))\n",
    "    pb.append(round(concentrate[1], 2))\n",
    "    sol.append(round(concentrate[2], 2))\n",
    "    au.append(round(concentrate[3], 2))\n",
    "    full.append(concentrate.sum())"
   ]
  },
  {
   "cell_type": "markdown",
   "metadata": {},
   "source": [
    "<div style=\"background-color: #fff0e0; padding: 10px; font-family: monospace; font-size: 15px\">\n",
    "Здесь такая же картина - концентрация золота растет, остальные либо падают, либо остаются в пределах погрешности</div>"
   ]
  },
  {
   "cell_type": "markdown",
   "metadata": {},
   "source": [
    "## 1.3.   Модель"
   ]
  },
  {
   "cell_type": "markdown",
   "metadata": {},
   "source": [
    "### 1.3.1.   sMAPE"
   ]
  },
  {
   "cell_type": "markdown",
   "metadata": {},
   "source": [
    "<div style=\"background-color: #fff0e0; padding: 10px; font-family: monospace; font-size: 15px\">\n",
    "Напишем функцию, вычисляющую sMAPE</div>"
   ]
  },
  {
   "cell_type": "code",
   "execution_count": 15,
   "metadata": {},
   "outputs": [],
   "source": [
    "def sMAPE(target, predicted):\n",
    "    N = len(target)\n",
    "    y = pd.Series(target)\n",
    "    y_ = pd.Series(predicted)\n",
    "    numerator = abs(y - y_)\n",
    "    denominator = (abs(y) + abs(y_)) / 2 \n",
    "    return (numerator / denominator).sum() / N * 100"
   ]
  },
  {
   "cell_type": "markdown",
   "metadata": {},
   "source": [
    "<div style=\"background-color: #fff0e0; padding: 10px; font-family: monospace; font-size: 15px\">\n",
    "На основе этой функции, напишем функцию, вычисляющую итоговое sMAPE</div>"
   ]
  },
  {
   "cell_type": "code",
   "execution_count": 16,
   "metadata": {},
   "outputs": [],
   "source": [
    "def final_sMAPE(rougher_target, rougher_predicted, final_target, final_predicted):\n",
    "    return 0.25 * sMAPE(rougher_target, rougher_predicted) + 0.75 * sMAPE(final_target, final_predicted)"
   ]
  },
  {
   "cell_type": "markdown",
   "metadata": {},
   "source": [
    "### 1.3.2.   Преподготовка"
   ]
  },
  {
   "cell_type": "markdown",
   "metadata": {},
   "source": [
    "<div style=\"background-color: #fff0e0; padding: 10px; font-family: monospace; font-size: 15px\">\n",
    "Так как в тестовой выборке отсутствуют целевые признаки, для оценки работы лучшей модели необходимо их туда подтянуть</div>"
   ]
  },
  {
   "cell_type": "code",
   "execution_count": 17,
   "metadata": {},
   "outputs": [],
   "source": [
    "gr_test_added = (gr_test\n",
    "                 .merge(gr_full[['date', 'rougher.output.recovery']], on='date')\n",
    "                 .merge(gr_full[['date', 'final.output.recovery']], on='date'))"
   ]
  },
  {
   "cell_type": "code",
   "execution_count": 18,
   "metadata": {},
   "outputs": [
    {
     "data": {
      "text/html": [
       "<div>\n",
       "<style scoped>\n",
       "    .dataframe tbody tr th:only-of-type {\n",
       "        vertical-align: middle;\n",
       "    }\n",
       "\n",
       "    .dataframe tbody tr th {\n",
       "        vertical-align: top;\n",
       "    }\n",
       "\n",
       "    .dataframe thead th {\n",
       "        text-align: right;\n",
       "    }\n",
       "</style>\n",
       "<table border=\"1\" class=\"dataframe\">\n",
       "  <thead>\n",
       "    <tr style=\"text-align: right;\">\n",
       "      <th></th>\n",
       "      <th>date</th>\n",
       "      <th>primary_cleaner.input.sulfate</th>\n",
       "      <th>primary_cleaner.input.depressant</th>\n",
       "      <th>primary_cleaner.input.feed_size</th>\n",
       "      <th>primary_cleaner.input.xanthate</th>\n",
       "      <th>primary_cleaner.state.floatbank8_a_air</th>\n",
       "      <th>primary_cleaner.state.floatbank8_a_level</th>\n",
       "      <th>primary_cleaner.state.floatbank8_b_air</th>\n",
       "      <th>primary_cleaner.state.floatbank8_b_level</th>\n",
       "      <th>primary_cleaner.state.floatbank8_c_air</th>\n",
       "      <th>...</th>\n",
       "      <th>secondary_cleaner.state.floatbank4_b_air</th>\n",
       "      <th>secondary_cleaner.state.floatbank4_b_level</th>\n",
       "      <th>secondary_cleaner.state.floatbank5_a_air</th>\n",
       "      <th>secondary_cleaner.state.floatbank5_a_level</th>\n",
       "      <th>secondary_cleaner.state.floatbank5_b_air</th>\n",
       "      <th>secondary_cleaner.state.floatbank5_b_level</th>\n",
       "      <th>secondary_cleaner.state.floatbank6_a_air</th>\n",
       "      <th>secondary_cleaner.state.floatbank6_a_level</th>\n",
       "      <th>rougher.output.recovery</th>\n",
       "      <th>final.output.recovery</th>\n",
       "    </tr>\n",
       "  </thead>\n",
       "  <tbody>\n",
       "    <tr>\n",
       "      <th>0</th>\n",
       "      <td>2016-09-01 00:59:59</td>\n",
       "      <td>210.800909</td>\n",
       "      <td>14.993118</td>\n",
       "      <td>8.080000</td>\n",
       "      <td>1.005021</td>\n",
       "      <td>1398.981301</td>\n",
       "      <td>-500.225577</td>\n",
       "      <td>1399.144926</td>\n",
       "      <td>-499.919735</td>\n",
       "      <td>1400.102998</td>\n",
       "      <td>...</td>\n",
       "      <td>8.016656</td>\n",
       "      <td>-501.289139</td>\n",
       "      <td>7.946562</td>\n",
       "      <td>-432.317850</td>\n",
       "      <td>4.872511</td>\n",
       "      <td>-500.037437</td>\n",
       "      <td>26.705889</td>\n",
       "      <td>-499.709414</td>\n",
       "      <td>89.993421</td>\n",
       "      <td>70.273583</td>\n",
       "    </tr>\n",
       "    <tr>\n",
       "      <th>1</th>\n",
       "      <td>2016-09-01 01:59:59</td>\n",
       "      <td>215.392455</td>\n",
       "      <td>14.987471</td>\n",
       "      <td>8.080000</td>\n",
       "      <td>0.990469</td>\n",
       "      <td>1398.777912</td>\n",
       "      <td>-500.057435</td>\n",
       "      <td>1398.055362</td>\n",
       "      <td>-499.778182</td>\n",
       "      <td>1396.151033</td>\n",
       "      <td>...</td>\n",
       "      <td>8.130979</td>\n",
       "      <td>-499.634209</td>\n",
       "      <td>7.958270</td>\n",
       "      <td>-525.839648</td>\n",
       "      <td>4.878850</td>\n",
       "      <td>-500.162375</td>\n",
       "      <td>25.019940</td>\n",
       "      <td>-499.819438</td>\n",
       "      <td>88.089657</td>\n",
       "      <td>68.910432</td>\n",
       "    </tr>\n",
       "    <tr>\n",
       "      <th>2</th>\n",
       "      <td>2016-09-01 02:59:59</td>\n",
       "      <td>215.259946</td>\n",
       "      <td>12.884934</td>\n",
       "      <td>7.786667</td>\n",
       "      <td>0.996043</td>\n",
       "      <td>1398.493666</td>\n",
       "      <td>-500.868360</td>\n",
       "      <td>1398.860436</td>\n",
       "      <td>-499.764529</td>\n",
       "      <td>1398.075709</td>\n",
       "      <td>...</td>\n",
       "      <td>8.096893</td>\n",
       "      <td>-500.827423</td>\n",
       "      <td>8.071056</td>\n",
       "      <td>-500.801673</td>\n",
       "      <td>4.905125</td>\n",
       "      <td>-499.828510</td>\n",
       "      <td>24.994862</td>\n",
       "      <td>-500.622559</td>\n",
       "      <td>88.412756</td>\n",
       "      <td>68.143213</td>\n",
       "    </tr>\n",
       "    <tr>\n",
       "      <th>3</th>\n",
       "      <td>2016-09-01 03:59:59</td>\n",
       "      <td>215.336236</td>\n",
       "      <td>12.006805</td>\n",
       "      <td>7.640000</td>\n",
       "      <td>0.863514</td>\n",
       "      <td>1399.618111</td>\n",
       "      <td>-498.863574</td>\n",
       "      <td>1397.440120</td>\n",
       "      <td>-499.211024</td>\n",
       "      <td>1400.129303</td>\n",
       "      <td>...</td>\n",
       "      <td>8.074946</td>\n",
       "      <td>-499.474407</td>\n",
       "      <td>7.897085</td>\n",
       "      <td>-500.868509</td>\n",
       "      <td>4.931400</td>\n",
       "      <td>-499.963623</td>\n",
       "      <td>24.948919</td>\n",
       "      <td>-498.709987</td>\n",
       "      <td>87.360133</td>\n",
       "      <td>67.776393</td>\n",
       "    </tr>\n",
       "    <tr>\n",
       "      <th>4</th>\n",
       "      <td>2016-09-01 04:59:59</td>\n",
       "      <td>199.099327</td>\n",
       "      <td>10.682530</td>\n",
       "      <td>7.530000</td>\n",
       "      <td>0.805575</td>\n",
       "      <td>1401.268123</td>\n",
       "      <td>-500.808305</td>\n",
       "      <td>1398.128818</td>\n",
       "      <td>-499.504543</td>\n",
       "      <td>1402.172226</td>\n",
       "      <td>...</td>\n",
       "      <td>8.054678</td>\n",
       "      <td>-500.397500</td>\n",
       "      <td>8.107890</td>\n",
       "      <td>-509.526725</td>\n",
       "      <td>4.957674</td>\n",
       "      <td>-500.360026</td>\n",
       "      <td>25.003331</td>\n",
       "      <td>-500.856333</td>\n",
       "      <td>83.236367</td>\n",
       "      <td>61.467078</td>\n",
       "    </tr>\n",
       "  </tbody>\n",
       "</table>\n",
       "<p>5 rows × 55 columns</p>\n",
       "</div>"
      ],
      "text/plain": [
       "                  date  primary_cleaner.input.sulfate  \\\n",
       "0  2016-09-01 00:59:59                     210.800909   \n",
       "1  2016-09-01 01:59:59                     215.392455   \n",
       "2  2016-09-01 02:59:59                     215.259946   \n",
       "3  2016-09-01 03:59:59                     215.336236   \n",
       "4  2016-09-01 04:59:59                     199.099327   \n",
       "\n",
       "   primary_cleaner.input.depressant  primary_cleaner.input.feed_size  \\\n",
       "0                         14.993118                         8.080000   \n",
       "1                         14.987471                         8.080000   \n",
       "2                         12.884934                         7.786667   \n",
       "3                         12.006805                         7.640000   \n",
       "4                         10.682530                         7.530000   \n",
       "\n",
       "   primary_cleaner.input.xanthate  primary_cleaner.state.floatbank8_a_air  \\\n",
       "0                        1.005021                             1398.981301   \n",
       "1                        0.990469                             1398.777912   \n",
       "2                        0.996043                             1398.493666   \n",
       "3                        0.863514                             1399.618111   \n",
       "4                        0.805575                             1401.268123   \n",
       "\n",
       "   primary_cleaner.state.floatbank8_a_level  \\\n",
       "0                               -500.225577   \n",
       "1                               -500.057435   \n",
       "2                               -500.868360   \n",
       "3                               -498.863574   \n",
       "4                               -500.808305   \n",
       "\n",
       "   primary_cleaner.state.floatbank8_b_air  \\\n",
       "0                             1399.144926   \n",
       "1                             1398.055362   \n",
       "2                             1398.860436   \n",
       "3                             1397.440120   \n",
       "4                             1398.128818   \n",
       "\n",
       "   primary_cleaner.state.floatbank8_b_level  \\\n",
       "0                               -499.919735   \n",
       "1                               -499.778182   \n",
       "2                               -499.764529   \n",
       "3                               -499.211024   \n",
       "4                               -499.504543   \n",
       "\n",
       "   primary_cleaner.state.floatbank8_c_air  ...  \\\n",
       "0                             1400.102998  ...   \n",
       "1                             1396.151033  ...   \n",
       "2                             1398.075709  ...   \n",
       "3                             1400.129303  ...   \n",
       "4                             1402.172226  ...   \n",
       "\n",
       "   secondary_cleaner.state.floatbank4_b_air  \\\n",
       "0                                  8.016656   \n",
       "1                                  8.130979   \n",
       "2                                  8.096893   \n",
       "3                                  8.074946   \n",
       "4                                  8.054678   \n",
       "\n",
       "   secondary_cleaner.state.floatbank4_b_level  \\\n",
       "0                                 -501.289139   \n",
       "1                                 -499.634209   \n",
       "2                                 -500.827423   \n",
       "3                                 -499.474407   \n",
       "4                                 -500.397500   \n",
       "\n",
       "   secondary_cleaner.state.floatbank5_a_air  \\\n",
       "0                                  7.946562   \n",
       "1                                  7.958270   \n",
       "2                                  8.071056   \n",
       "3                                  7.897085   \n",
       "4                                  8.107890   \n",
       "\n",
       "   secondary_cleaner.state.floatbank5_a_level  \\\n",
       "0                                 -432.317850   \n",
       "1                                 -525.839648   \n",
       "2                                 -500.801673   \n",
       "3                                 -500.868509   \n",
       "4                                 -509.526725   \n",
       "\n",
       "   secondary_cleaner.state.floatbank5_b_air  \\\n",
       "0                                  4.872511   \n",
       "1                                  4.878850   \n",
       "2                                  4.905125   \n",
       "3                                  4.931400   \n",
       "4                                  4.957674   \n",
       "\n",
       "   secondary_cleaner.state.floatbank5_b_level  \\\n",
       "0                                 -500.037437   \n",
       "1                                 -500.162375   \n",
       "2                                 -499.828510   \n",
       "3                                 -499.963623   \n",
       "4                                 -500.360026   \n",
       "\n",
       "   secondary_cleaner.state.floatbank6_a_air  \\\n",
       "0                                 26.705889   \n",
       "1                                 25.019940   \n",
       "2                                 24.994862   \n",
       "3                                 24.948919   \n",
       "4                                 25.003331   \n",
       "\n",
       "   secondary_cleaner.state.floatbank6_a_level  rougher.output.recovery  \\\n",
       "0                                 -499.709414                89.993421   \n",
       "1                                 -499.819438                88.089657   \n",
       "2                                 -500.622559                88.412756   \n",
       "3                                 -498.709987                87.360133   \n",
       "4                                 -500.856333                83.236367   \n",
       "\n",
       "   final.output.recovery  \n",
       "0              70.273583  \n",
       "1              68.910432  \n",
       "2              68.143213  \n",
       "3              67.776393  \n",
       "4              61.467078  \n",
       "\n",
       "[5 rows x 55 columns]"
      ]
     },
     "execution_count": 18,
     "metadata": {},
     "output_type": "execute_result"
    }
   ],
   "source": [
    "gr_test_added.head()"
   ]
  },
  {
   "cell_type": "markdown",
   "metadata": {},
   "source": [
    "<div style=\"background-color: #fff0e0; padding: 10px; font-family: monospace; font-size: 15px\">\n",
    "Также пропишем функцию для кросс-валидации</div>"
   ]
  },
  {
   "cell_type": "code",
   "execution_count": 19,
   "metadata": {},
   "outputs": [],
   "source": [
    "def cross_val(model, X, y, cv=3):\n",
    "    scores = []\n",
    "    kf = KFold(n_splits=cv)\n",
    "    kf.get_n_splits(y)\n",
    "    for train_index, test_index in kf.split(y):\n",
    "        X_train, X_test = X.loc[train_index], X.loc[test_index]\n",
    "        y_train, y_test = y.loc[train_index], y.loc[test_index]\n",
    "        model.fit(X_train, y_train)\n",
    "        scores.append(sMAPE(y_test, model.predict(X_test)))\n",
    "    return pd.Series(scores).mean()"
   ]
  },
  {
   "cell_type": "markdown",
   "metadata": {},
   "source": [
    "### 1.3.3.   Прогнозирование"
   ]
  },
  {
   "cell_type": "markdown",
   "metadata": {},
   "source": [
    "#### 1.3.3.1.   Rougher Output Recovery"
   ]
  },
  {
   "cell_type": "markdown",
   "metadata": {},
   "source": [
    "##### 1.3.3.1.1.   Анализ колонок"
   ]
  },
  {
   "cell_type": "markdown",
   "metadata": {},
   "source": [
    "<div style=\"background-color: #fff0e0; padding: 10px; font-family: monospace; font-size: 15px\">\n",
    "На первом шаге нас интересует rougher.output.recovery – результат флотации. Таким образом, чтобы предсказывать его, нам доступны только данные, идущие ДО этого этапа: \n",
    "<br><br>- 'rougher.calculation.sulfate_to_au_concentrate'\n",
    "<br><br>- 'rougher.calculation.floatbank10_sulfate_to_au_feed'\n",
    "<br><br>- 'rougher.calculation.floatbank11_sulfate_to_au_feed'\n",
    "<br><br>- 'rougher.calculation.au_pb_ratio'\n",
    "<br><br>- 'rougher.input.feed_ag'\n",
    "<br><br>- 'rougher.input.feed_pb'\n",
    "<br><br>- 'rougher.input.feed_rate'\n",
    "<br><br>- 'rougher.input.feed_size'\n",
    "<br><br>- 'rougher.input.feed_sol'\n",
    "<br><br>- 'rougher.input.feed_au'\n",
    "<br><br>- 'rougher.input.floatbank10_sulfate'\n",
    "<br><br>- 'rougher.input.floatbank10_xanthate'\n",
    "<br><br>- 'rougher.input.floatbank11_sulfate'\n",
    "<br><br>- 'rougher.input.floatbank11_xanthate'\n",
    "<br><br>- 'rougher.output.concentrate_ag'\n",
    "<br><br>- 'rougher.output.concentrate_pb' \n",
    "<br><br>- 'rougher.output.concentrate_sol'\n",
    "<br><br>- 'rougher.output.concentrate_au'\n",
    "<br><br>\n",
    "<br><br>Немного очистив данные, выкинув результаты других показателей, а также рассчеты, получим следующий набор признаков:\n",
    "<br><br>- 'rougher.input.feed_ag'\n",
    "<br><br>- 'rougher.input.feed_pb'\n",
    "<br><br>- 'rougher.input.feed_rate'\n",
    "<br><br>- 'rougher.input.feed_size'\n",
    "<br><br>- 'rougher.input.feed_sol'\n",
    "<br><br>- 'rougher.input.feed_au'\n",
    "<br><br>- 'rougher.input.floatbank10_sulfate'\n",
    "<br><br>- 'rougher.input.floatbank10_xanthate'\n",
    "<br><br>- 'rougher.input.floatbank11_sulfate'\n",
    "<br><br>- 'rougher.input.floatbank11_xanthate'\n",
    "<br><br>\n",
    "<br><br>Собственно, все, что подается на вход</div>"
   ]
  },
  {
   "cell_type": "markdown",
   "metadata": {},
   "source": [
    "<div style=\"background-color: #fff0e0; padding: 10px; font-family: monospace; font-size: 15px\">\n",
    "Оставим только те колонки, которые есть в тестовой выборке</div>"
   ]
  },
  {
   "cell_type": "code",
   "execution_count": 20,
   "metadata": {},
   "outputs": [],
   "source": [
    "train_columns_rougher = ['rougher.input.feed_ag', 'rougher.input.feed_pb',\n",
    "                         'rougher.input.feed_rate', 'rougher.input.feed_size',\n",
    "                         'rougher.input.feed_sol', 'rougher.input.feed_au',\n",
    "                         'rougher.input.floatbank10_sulfate', 'rougher.input.floatbank10_xanthate',\n",
    "                         'rougher.input.floatbank11_sulfate', 'rougher.input.floatbank11_xanthate']\n",
    "\n",
    "result_columns_rougher = []\n",
    "for column in train_columns_rougher:\n",
    "    if column in gr_test:\n",
    "        result_columns_rougher.append(column)\n",
    "    else:\n",
    "        print(column)"
   ]
  },
  {
   "cell_type": "markdown",
   "metadata": {},
   "source": [
    "<div style=\"background-color: #fff0e0; padding: 10px; font-family: monospace; font-size: 15px\">\n",
    "Собственно, остались все, но лишним такой маневр не будет</div>"
   ]
  },
  {
   "cell_type": "code",
   "execution_count": 21,
   "metadata": {},
   "outputs": [],
   "source": [
    "gr_train = gr_train.dropna().reset_index(drop=True)\n",
    "gr_train_features_rougher = gr_train[result_columns_rougher]\n",
    "gr_train_target_rougher = gr_train['rougher.output.recovery']"
   ]
  },
  {
   "cell_type": "markdown",
   "metadata": {},
   "source": [
    "<div style=\"background-color: #fff0e0; padding: 10px; font-family: monospace; font-size: 15px\">\n",
    "Так как данные указывают на регрессию, будем использовать четыре основных регрессора:\n",
    "<br><br>- LinearRegression\n",
    "<br><br>- DecisionTreeRegressor\n",
    "<br><br>- RandomForestRegressor</div>"
   ]
  },
  {
   "cell_type": "markdown",
   "metadata": {},
   "source": [
    "### LinearRegression"
   ]
  },
  {
   "cell_type": "code",
   "execution_count": 22,
   "metadata": {},
   "outputs": [
    {
     "name": "stdout",
     "output_type": "stream",
     "text": [
      "3.399688153402923\n"
     ]
    }
   ],
   "source": [
    "best_Linear_model_rougher = LinearRegression()\n",
    "print(cross_val(best_Linear_model_rougher, gr_train_features_rougher, gr_train_target_rougher, 3))"
   ]
  },
  {
   "cell_type": "markdown",
   "metadata": {},
   "source": [
    "<div style=\"background-color: #fff0e0; padding: 10px; font-family: monospace; font-size: 15px\">\n",
    "Разброс в 3.4% - не самый большой, который мы могли иметь</div>"
   ]
  },
  {
   "cell_type": "markdown",
   "metadata": {},
   "source": [
    "### DecisionTreeRegressor"
   ]
  },
  {
   "cell_type": "code",
   "execution_count": 23,
   "metadata": {},
   "outputs": [
    {
     "data": {
      "text/plain": [
       "(3.254858242329988, 2)"
      ]
     },
     "execution_count": 23,
     "metadata": {},
     "output_type": "execute_result"
    }
   ],
   "source": [
    "best_dtr_model = None\n",
    "best_dtr_sMAPE = False\n",
    "best_dtr_depth = 0\n",
    "\n",
    "for depth in range(1, 21):\n",
    "    model = DecisionTreeRegressor(max_depth=depth, random_state=12345)\n",
    "    dtr_sMAPE = cross_val(model, gr_train_features_rougher, gr_train_target_rougher, 3)\n",
    "    if not best_dtr_sMAPE:\n",
    "        best_dtr_sMAPE = dtr_sMAPE\n",
    "    if dtr_sMAPE < best_dtr_sMAPE:\n",
    "        best_dtr_model = model\n",
    "        best_dtr_sMAPE = dtr_sMAPE\n",
    "        best_dtr_depth = depth\n",
    "\n",
    "best_dtr_sMAPE, best_dtr_depth"
   ]
  },
  {
   "cell_type": "markdown",
   "metadata": {},
   "source": [
    "<div style=\"background-color: #fff0e0; padding: 10px; font-family: monospace; font-size: 15px\">\n",
    "Здесь разброс чуть ближе к 3.25%, и всего 2 уровня, следовательно – модель плохо подходит для данной задачи</div>"
   ]
  },
  {
   "cell_type": "markdown",
   "metadata": {},
   "source": [
    "### RandomForestRegressor"
   ]
  },
  {
   "cell_type": "code",
   "execution_count": 24,
   "metadata": {},
   "outputs": [
    {
     "data": {
      "text/plain": [
       "(3.3777171547708815, 5, 100)"
      ]
     },
     "execution_count": 24,
     "metadata": {},
     "output_type": "execute_result"
    }
   ],
   "source": [
    "best_rfr_model = None\n",
    "best_rfr_sMAPE = False\n",
    "best_rfr_depth = 0\n",
    "\n",
    "for depth in range(1, 6):\n",
    "    for estimators in range(95, 106, 5):\n",
    "        model = RandomForestRegressor(n_estimators=estimators, \n",
    "                                      max_depth=depth, \n",
    "                                      random_state=12345)\n",
    "        rfr_sMAPE = cross_val(model, gr_train_features_rougher, gr_train_target_rougher, 3)\n",
    "        if not best_rfr_sMAPE:\n",
    "            best_rfr_sMAPE = rfr_sMAPE\n",
    "        if rfr_sMAPE < best_rfr_sMAPE:\n",
    "            best_rfr_model = model\n",
    "            best_rfr_sMAPE = rfr_sMAPE\n",
    "            best_rfr_depth = depth\n",
    "            best_rfr_estimators = estimators\n",
    "\n",
    "best_rfr_sMAPE, best_rfr_depth, best_rfr_estimators"
   ]
  },
  {
   "cell_type": "markdown",
   "metadata": {},
   "source": [
    "<div style=\"background-color: #fff0e0; padding: 10px; font-family: monospace; font-size: 15px\">\n",
    "Здесь примерно так же - 3.4% отклонений и 5 уровней</div>"
   ]
  },
  {
   "cell_type": "markdown",
   "metadata": {},
   "source": [
    "#### 1.3.3.2.   Final Output Recovery"
   ]
  },
  {
   "cell_type": "markdown",
   "metadata": {},
   "source": [
    "##### 1.3.3.2.1.   Анализ колонок"
   ]
  },
  {
   "cell_type": "markdown",
   "metadata": {},
   "source": [
    "<div style=\"background-color: #fff0e0; padding: 10px; font-family: monospace; font-size: 15px\">\n",
    "Так как это финальная стадия, добавим к уже существующим колонкам еще несколько:\n",
    "<br><br>- 'primary_cleaner.input.sulfate'\n",
    "<br><br>- 'primary_cleaner.input.depressant',\n",
    "<br><br>- 'primary_cleaner.input.feed_size'\n",
    "<br><br>- 'primary_cleaner.input.xanthate'</div>"
   ]
  },
  {
   "cell_type": "code",
   "execution_count": 25,
   "metadata": {},
   "outputs": [],
   "source": [
    "train_columns_final = train_columns_rougher + ['primary_cleaner.input.sulfate',\n",
    "                                               'primary_cleaner.input.depressant', \n",
    "                                               'primary_cleaner.input.feed_size', \n",
    "                                               'primary_cleaner.input.xanthate']\n",
    "\n",
    "result_columns_final = []\n",
    "\n",
    "for column in train_columns_final:\n",
    "    if column in gr_test:\n",
    "        result_columns_final.append(column)\n",
    "    else:\n",
    "        print(column)"
   ]
  },
  {
   "cell_type": "markdown",
   "metadata": {},
   "source": [
    "<div style=\"background-color: #fff0e0; padding: 10px; font-family: monospace; font-size: 15px\">\n",
    "Все значения вошли</div>"
   ]
  },
  {
   "cell_type": "code",
   "execution_count": 26,
   "metadata": {},
   "outputs": [],
   "source": [
    "gr_train_features_final = gr_train[result_columns_final]\n",
    "gr_train_target_final = gr_train['final.output.recovery']"
   ]
  },
  {
   "cell_type": "markdown",
   "metadata": {},
   "source": [
    "##### 1.3.3.2.2.   LinearRegression"
   ]
  },
  {
   "cell_type": "code",
   "execution_count": 27,
   "metadata": {},
   "outputs": [
    {
     "name": "stdout",
     "output_type": "stream",
     "text": [
      "3.1033350486199325\n"
     ]
    }
   ],
   "source": [
    "best_Linear_model_final = LinearRegression()\n",
    "print(cross_val(best_Linear_model_final, gr_train_features_final, gr_train_target_final, 3))"
   ]
  },
  {
   "cell_type": "markdown",
   "metadata": {},
   "source": [
    "<div style=\"background-color: #fff0e0; padding: 10px; font-family: monospace; font-size: 15px\">\n",
    "Значительно ниже - около 3%</div>"
   ]
  },
  {
   "cell_type": "markdown",
   "metadata": {},
   "source": [
    "##### 1.3.3.2.3.   DecisionTreeRegressor"
   ]
  },
  {
   "cell_type": "code",
   "execution_count": 28,
   "metadata": {},
   "outputs": [
    {
     "data": {
      "text/plain": [
       "(2.8392696825809485, 0)"
      ]
     },
     "execution_count": 28,
     "metadata": {},
     "output_type": "execute_result"
    }
   ],
   "source": [
    "best_dtr_model = None\n",
    "best_dtr_sMAPE = False\n",
    "best_dtr_depth = 0\n",
    "\n",
    "for depth in range(1, 21):\n",
    "    model = DecisionTreeRegressor(max_depth=depth, random_state=12345)\n",
    "    dtr_sMAPE = cross_val(model, gr_train_features_final, gr_train_target_final, 3)\n",
    "    if not best_dtr_sMAPE:\n",
    "        best_dtr_sMAPE = dtr_sMAPE\n",
    "    if dtr_sMAPE < best_dtr_sMAPE:\n",
    "        best_dtr_model = model\n",
    "        best_dtr_sMAPE = dtr_sMAPE\n",
    "        best_dtr_depth = depth\n",
    "\n",
    "best_dtr_sMAPE, best_dtr_depth"
   ]
  },
  {
   "cell_type": "markdown",
   "metadata": {},
   "source": [
    "<div style=\"background-color: #fff0e0; padding: 10px; font-family: monospace; font-size: 15px\">\n",
    "Разброс такой же небольшой, однако видно, что модель отвечала наугад - 0 уровней</div>"
   ]
  },
  {
   "cell_type": "markdown",
   "metadata": {},
   "source": [
    "##### 1.3.3.2.4.   RandomForestRegressor"
   ]
  },
  {
   "cell_type": "code",
   "execution_count": 29,
   "metadata": {},
   "outputs": [
    {
     "data": {
      "text/plain": [
       "(2.7958333865444565, 2, 105)"
      ]
     },
     "execution_count": 29,
     "metadata": {},
     "output_type": "execute_result"
    }
   ],
   "source": [
    "best_rfr_model = None\n",
    "best_rfr_sMAPE = False\n",
    "best_rfr_depth = 0\n",
    "\n",
    "for depth in range(1, 6):\n",
    "    for estimators in range(95, 106, 5):\n",
    "        model = RandomForestRegressor(n_estimators=estimators, \n",
    "                                      max_depth=depth, \n",
    "                                      random_state=12345)\n",
    "        rfr_sMAPE = cross_val(model, gr_train_features_final, gr_train_target_final, 3)\n",
    "        if not best_rfr_sMAPE:\n",
    "            best_rfr_sMAPE = rfr_sMAPE\n",
    "        if rfr_sMAPE < best_rfr_sMAPE:\n",
    "            best_rfr_model = model\n",
    "            best_rfr_sMAPE = rfr_sMAPE\n",
    "            best_rfr_depth = depth\n",
    "            best_rfr_estimators = estimators\n",
    "\n",
    "best_rfr_sMAPE, best_rfr_depth, best_rfr_estimators"
   ]
  },
  {
   "cell_type": "markdown",
   "metadata": {},
   "source": [
    "<div style=\"background-color: #fff0e0; padding: 10px; font-family: monospace; font-size: 15px\">\n",
    "Прогресс - четыре уровня, почти 3%</div>"
   ]
  },
  {
   "cell_type": "markdown",
   "metadata": {},
   "source": [
    "<div style=\"background-color: #fff0e0; padding: 10px; font-family: monospace; font-size: 15px\">\n",
    "Напишем функцию, которая будет вычислять результативный sMAPE, обучая лучшую модель на обоих датасетах</div>"
   ]
  },
  {
   "cell_type": "code",
   "execution_count": 30,
   "metadata": {},
   "outputs": [],
   "source": [
    "def result_modeling(best_model, \n",
    "                    rougher_features, rougher_target, \n",
    "                    final_features, final_target, \n",
    "                    hyper=()):\n",
    "    \n",
    "    rougher_model = best_model(*hyper)\n",
    "    rougher_sMAPE = cross_val(model, rougher_features.reset_index(drop=True), \n",
    "                              rougher_target.reset_index(drop=True), 3)\n",
    "    \n",
    "    final_model = best_model(*hyper)\n",
    "    final_sMAPE = cross_val(model, final_features.reset_index(drop=True), \n",
    "                            final_target.reset_index(drop=True), 3)\n",
    "    \n",
    "    return 0.25 * rougher_sMAPE + 0.75 * final_sMAPE"
   ]
  },
  {
   "cell_type": "code",
   "execution_count": 31,
   "metadata": {},
   "outputs": [
    {
     "data": {
      "text/plain": [
       "3.0302804415838187"
      ]
     },
     "execution_count": 31,
     "metadata": {},
     "output_type": "execute_result"
    }
   ],
   "source": [
    "result_modeling(LinearRegression, \n",
    "                gr_train_features_rougher, gr_train_target_rougher, \n",
    "                gr_train_features_final, gr_train_target_final)"
   ]
  },
  {
   "cell_type": "markdown",
   "metadata": {},
   "source": [
    "### 1.3.4.   Тестирование"
   ]
  },
  {
   "cell_type": "markdown",
   "metadata": {},
   "source": [
    "#### 1.3.4.1.   Разделение данных"
   ]
  },
  {
   "cell_type": "code",
   "execution_count": 32,
   "metadata": {},
   "outputs": [],
   "source": [
    "gr_test_added = gr_test_added.dropna().reset_index(drop=True)\n",
    "\n",
    "# данные для обучения\n",
    "gr_test_train_final = gr_test_added[result_columns_final]\n",
    "gr_test_train_rougher = gr_test_added[result_columns_rougher]\n",
    "\n",
    "# данные для проверки\n",
    "gr_test_target_rougher = gr_test_added['rougher.output.recovery']\n",
    "gr_test_target_final = gr_test_added['final.output.recovery']"
   ]
  },
  {
   "cell_type": "markdown",
   "metadata": {},
   "source": [
    "#### 1.3.4.2.   Final sMAPE"
   ]
  },
  {
   "cell_type": "markdown",
   "metadata": {},
   "source": [
    "<div style=\"background-color: #fff0e0; padding: 10px; font-family: monospace; font-size: 15px\">\n",
    "Во всех тестах лучше всех себя показала линейная регрессия – ей и будем пользоваться</div>"
   ]
  },
  {
   "cell_type": "code",
   "execution_count": 33,
   "metadata": {},
   "outputs": [],
   "source": [
    "# две обученные лучшие модели заставляем предсказывать на данных из тестовой выборки\n",
    "\n",
    "final_predicted = best_Linear_model_final.predict(gr_test_train_final)\n",
    "rougher_predicted = best_Linear_model_rougher.predict(gr_test_train_rougher)"
   ]
  },
  {
   "cell_type": "code",
   "execution_count": 34,
   "metadata": {},
   "outputs": [
    {
     "data": {
      "text/plain": [
       "9.906901621181206"
      ]
     },
     "execution_count": 34,
     "metadata": {},
     "output_type": "execute_result"
    }
   ],
   "source": [
    "final_sMAPE(gr_test_target_rougher, rougher_predicted, \n",
    "            gr_test_target_final, final_predicted)"
   ]
  },
  {
   "cell_type": "markdown",
   "metadata": {},
   "source": [
    "<div style=\"background-color: #fff0e0; padding: 10px; font-family: monospace; font-size: 15px\">\n",
    "Итог: лучше всего под задачу подходит модель линейной регрессии, разброс составляет 9.9% на тестовой выборке</div>"
   ]
  }
 ],
 "metadata": {
  "ExecuteTimeLog": [
   {
    "duration": 66,
    "start_time": "2022-06-10T21:31:05.793Z"
   },
   {
    "duration": 405,
    "start_time": "2022-06-10T21:31:12.915Z"
   },
   {
    "duration": 2093,
    "start_time": "2022-06-10T21:31:14.075Z"
   },
   {
    "duration": 30,
    "start_time": "2022-06-10T21:31:21.608Z"
   },
   {
    "duration": 5,
    "start_time": "2022-06-10T21:31:37.631Z"
   },
   {
    "duration": 5,
    "start_time": "2022-06-10T21:31:41.111Z"
   },
   {
    "duration": 24,
    "start_time": "2022-06-10T21:31:49.107Z"
   },
   {
    "duration": 37,
    "start_time": "2022-06-10T21:31:53.384Z"
   },
   {
    "duration": 36,
    "start_time": "2022-06-10T21:32:01.713Z"
   },
   {
    "duration": 5,
    "start_time": "2022-06-10T21:32:08.114Z"
   },
   {
    "duration": 39,
    "start_time": "2022-06-10T21:32:12.092Z"
   },
   {
    "duration": 4,
    "start_time": "2022-06-10T21:34:49.913Z"
   },
   {
    "duration": 5,
    "start_time": "2022-06-10T21:35:07.478Z"
   },
   {
    "duration": 4,
    "start_time": "2022-06-10T21:51:16.553Z"
   },
   {
    "duration": 819,
    "start_time": "2022-06-10T21:51:18.540Z"
   },
   {
    "duration": 5,
    "start_time": "2022-06-10T21:51:20.076Z"
   },
   {
    "duration": 6,
    "start_time": "2022-06-10T21:51:28.974Z"
   },
   {
    "duration": 6,
    "start_time": "2022-06-10T21:59:28.590Z"
   },
   {
    "duration": 7,
    "start_time": "2022-06-10T22:01:28.380Z"
   },
   {
    "duration": 7,
    "start_time": "2022-06-10T22:01:49.054Z"
   },
   {
    "duration": 3,
    "start_time": "2022-06-10T22:01:57.445Z"
   },
   {
    "duration": 63,
    "start_time": "2022-06-10T22:02:28.726Z"
   },
   {
    "duration": 9,
    "start_time": "2022-06-10T22:02:33.355Z"
   },
   {
    "duration": 42,
    "start_time": "2022-06-10T22:02:50.093Z"
   },
   {
    "duration": 6,
    "start_time": "2022-06-10T22:02:54.636Z"
   },
   {
    "duration": 4,
    "start_time": "2022-06-10T22:03:25.683Z"
   },
   {
    "duration": 8,
    "start_time": "2022-06-10T22:03:26.257Z"
   },
   {
    "duration": 6,
    "start_time": "2022-06-10T22:03:26.726Z"
   },
   {
    "duration": 7,
    "start_time": "2022-06-10T22:03:27.691Z"
   },
   {
    "duration": 786,
    "start_time": "2022-06-10T22:04:05.736Z"
   },
   {
    "duration": 7,
    "start_time": "2022-06-10T22:04:33.179Z"
   },
   {
    "duration": 4,
    "start_time": "2022-06-10T22:06:49.093Z"
   },
   {
    "duration": 6,
    "start_time": "2022-06-10T22:07:15.788Z"
   },
   {
    "duration": 3,
    "start_time": "2022-06-10T22:07:19.729Z"
   },
   {
    "duration": 6,
    "start_time": "2022-06-10T22:07:40.783Z"
   },
   {
    "duration": 18,
    "start_time": "2022-06-10T22:13:28.275Z"
   },
   {
    "duration": 31,
    "start_time": "2022-06-10T22:13:46.850Z"
   },
   {
    "duration": 42,
    "start_time": "2022-06-10T22:13:57.593Z"
   },
   {
    "duration": 52,
    "start_time": "2022-06-10T22:14:11.882Z"
   },
   {
    "duration": 38,
    "start_time": "2022-06-10T22:14:16.078Z"
   },
   {
    "duration": 44,
    "start_time": "2022-06-10T22:14:21.567Z"
   },
   {
    "duration": 48,
    "start_time": "2022-06-10T22:14:30.329Z"
   },
   {
    "duration": 30,
    "start_time": "2022-06-10T22:14:35.237Z"
   },
   {
    "duration": 29,
    "start_time": "2022-06-10T22:14:49.310Z"
   },
   {
    "duration": 10,
    "start_time": "2022-06-10T22:15:08.287Z"
   },
   {
    "duration": 11,
    "start_time": "2022-06-10T22:15:13.638Z"
   },
   {
    "duration": 30,
    "start_time": "2022-06-10T22:15:40.296Z"
   },
   {
    "duration": 28,
    "start_time": "2022-06-10T22:15:48.077Z"
   },
   {
    "duration": 10,
    "start_time": "2022-06-10T22:15:56.498Z"
   },
   {
    "duration": 24,
    "start_time": "2022-06-10T22:16:03.656Z"
   },
   {
    "duration": 48,
    "start_time": "2022-06-10T22:17:41.050Z"
   },
   {
    "duration": 6,
    "start_time": "2022-06-10T22:17:48.035Z"
   },
   {
    "duration": 6,
    "start_time": "2022-06-10T22:17:52.794Z"
   },
   {
    "duration": 6,
    "start_time": "2022-06-10T22:17:55.975Z"
   },
   {
    "duration": 8,
    "start_time": "2022-06-10T22:18:04.393Z"
   },
   {
    "duration": 4,
    "start_time": "2022-06-10T22:18:21.391Z"
   },
   {
    "duration": 7,
    "start_time": "2022-06-10T22:18:33.015Z"
   },
   {
    "duration": 7,
    "start_time": "2022-06-10T22:18:38.509Z"
   },
   {
    "duration": 5,
    "start_time": "2022-06-10T22:18:52.575Z"
   },
   {
    "duration": 6,
    "start_time": "2022-06-10T22:19:03.203Z"
   },
   {
    "duration": 8,
    "start_time": "2022-06-10T22:19:17.533Z"
   },
   {
    "duration": 5,
    "start_time": "2022-06-10T22:19:49.616Z"
   },
   {
    "duration": 3,
    "start_time": "2022-06-10T22:20:59.742Z"
   },
   {
    "duration": 56,
    "start_time": "2022-06-10T22:21:10.375Z"
   },
   {
    "duration": 26,
    "start_time": "2022-06-10T22:21:45.502Z"
   },
   {
    "duration": 75,
    "start_time": "2022-06-10T22:21:46.358Z"
   },
   {
    "duration": 4,
    "start_time": "2022-06-10T22:21:58.077Z"
   },
   {
    "duration": 65,
    "start_time": "2022-06-10T22:21:58.652Z"
   },
   {
    "duration": 5,
    "start_time": "2022-06-10T22:22:44.612Z"
   },
   {
    "duration": 63,
    "start_time": "2022-06-10T22:22:45.154Z"
   },
   {
    "duration": 3,
    "start_time": "2022-06-10T22:22:53.353Z"
   },
   {
    "duration": 42,
    "start_time": "2022-06-10T22:22:53.939Z"
   },
   {
    "duration": 2,
    "start_time": "2022-06-10T22:23:14.543Z"
   },
   {
    "duration": 3,
    "start_time": "2022-06-10T22:23:48.842Z"
   },
   {
    "duration": 4,
    "start_time": "2022-06-10T22:24:53.398Z"
   },
   {
    "duration": 22,
    "start_time": "2022-06-10T22:25:33.153Z"
   },
   {
    "duration": 5,
    "start_time": "2022-06-10T22:25:38.485Z"
   },
   {
    "duration": 30,
    "start_time": "2022-06-10T22:25:47.995Z"
   },
   {
    "duration": 5,
    "start_time": "2022-06-10T22:25:53.949Z"
   },
   {
    "duration": 5,
    "start_time": "2022-06-10T22:26:20.077Z"
   },
   {
    "duration": 4,
    "start_time": "2022-06-10T22:26:35.395Z"
   },
   {
    "duration": 4,
    "start_time": "2022-06-10T22:29:32.640Z"
   },
   {
    "duration": 4,
    "start_time": "2022-06-10T22:29:37.945Z"
   },
   {
    "duration": 4,
    "start_time": "2022-06-10T22:29:42.075Z"
   },
   {
    "duration": 5,
    "start_time": "2022-06-10T22:29:47.243Z"
   },
   {
    "duration": 5,
    "start_time": "2022-06-10T22:29:52.422Z"
   },
   {
    "duration": 3,
    "start_time": "2022-06-10T22:29:59.272Z"
   },
   {
    "duration": 10,
    "start_time": "2022-06-10T22:30:02.356Z"
   },
   {
    "duration": 6,
    "start_time": "2022-06-10T22:30:08.861Z"
   },
   {
    "duration": 1044,
    "start_time": "2022-06-11T06:47:31.142Z"
   },
   {
    "duration": 3105,
    "start_time": "2022-06-11T06:47:32.187Z"
   },
   {
    "duration": 9,
    "start_time": "2022-06-11T06:47:35.293Z"
   },
   {
    "duration": 7,
    "start_time": "2022-06-11T06:47:35.304Z"
   },
   {
    "duration": 4,
    "start_time": "2022-06-11T06:47:35.313Z"
   },
   {
    "duration": 4,
    "start_time": "2022-06-11T06:47:35.319Z"
   },
   {
    "duration": 9,
    "start_time": "2022-06-11T06:47:35.325Z"
   },
   {
    "duration": 5,
    "start_time": "2022-06-11T06:47:35.336Z"
   },
   {
    "duration": 3,
    "start_time": "2022-06-11T06:47:35.342Z"
   },
   {
    "duration": 5,
    "start_time": "2022-06-11T06:47:35.347Z"
   },
   {
    "duration": 4,
    "start_time": "2022-06-11T06:47:35.364Z"
   },
   {
    "duration": 5,
    "start_time": "2022-06-11T06:48:00.190Z"
   },
   {
    "duration": 6,
    "start_time": "2022-06-11T06:50:28.693Z"
   },
   {
    "duration": 518,
    "start_time": "2022-06-11T06:51:25.107Z"
   },
   {
    "duration": 3,
    "start_time": "2022-06-11T06:51:35.187Z"
   },
   {
    "duration": 9,
    "start_time": "2022-06-11T06:53:45.428Z"
   },
   {
    "duration": 3,
    "start_time": "2022-06-11T06:54:19.110Z"
   },
   {
    "duration": 148,
    "start_time": "2022-06-11T06:54:22.870Z"
   },
   {
    "duration": 104,
    "start_time": "2022-06-11T06:55:41.916Z"
   },
   {
    "duration": 134,
    "start_time": "2022-06-11T06:56:06.742Z"
   },
   {
    "duration": 142,
    "start_time": "2022-06-11T06:56:25.623Z"
   },
   {
    "duration": 165,
    "start_time": "2022-06-11T06:56:46.160Z"
   },
   {
    "duration": 173,
    "start_time": "2022-06-11T06:57:56.658Z"
   },
   {
    "duration": 167,
    "start_time": "2022-06-11T06:58:04.950Z"
   },
   {
    "duration": 249,
    "start_time": "2022-06-11T06:58:10.194Z"
   },
   {
    "duration": 155,
    "start_time": "2022-06-11T06:58:21.578Z"
   },
   {
    "duration": 170,
    "start_time": "2022-06-11T06:58:31.535Z"
   },
   {
    "duration": 5,
    "start_time": "2022-06-11T07:04:56.105Z"
   },
   {
    "duration": 4,
    "start_time": "2022-06-11T07:07:07.410Z"
   },
   {
    "duration": 112,
    "start_time": "2022-06-11T07:17:27.637Z"
   },
   {
    "duration": 143,
    "start_time": "2022-06-11T07:17:40.544Z"
   },
   {
    "duration": 28,
    "start_time": "2022-06-11T07:18:39.402Z"
   },
   {
    "duration": 129,
    "start_time": "2022-06-11T07:18:47.836Z"
   },
   {
    "duration": 100,
    "start_time": "2022-06-11T07:18:57.949Z"
   },
   {
    "duration": 90,
    "start_time": "2022-06-11T07:19:39.744Z"
   },
   {
    "duration": 12,
    "start_time": "2022-06-11T07:20:42.397Z"
   },
   {
    "duration": 129,
    "start_time": "2022-06-11T07:20:51.309Z"
   },
   {
    "duration": 147,
    "start_time": "2022-06-11T07:21:44.345Z"
   },
   {
    "duration": 111,
    "start_time": "2022-06-11T07:21:53.534Z"
   },
   {
    "duration": 276,
    "start_time": "2022-06-11T07:21:58.932Z"
   },
   {
    "duration": 10,
    "start_time": "2022-06-11T07:23:05.263Z"
   },
   {
    "duration": 13,
    "start_time": "2022-06-11T07:23:31.086Z"
   },
   {
    "duration": 12,
    "start_time": "2022-06-11T07:23:51.954Z"
   },
   {
    "duration": 12,
    "start_time": "2022-06-11T07:23:55.287Z"
   },
   {
    "duration": 7,
    "start_time": "2022-06-11T07:24:11.106Z"
   },
   {
    "duration": 159,
    "start_time": "2022-06-11T07:24:26.408Z"
   },
   {
    "duration": 113,
    "start_time": "2022-06-11T07:24:45.476Z"
   },
   {
    "duration": 142,
    "start_time": "2022-06-11T07:24:48.088Z"
   },
   {
    "duration": 233,
    "start_time": "2022-06-11T07:24:58.662Z"
   },
   {
    "duration": 14,
    "start_time": "2022-06-11T07:25:17.507Z"
   },
   {
    "duration": 248,
    "start_time": "2022-06-11T07:25:31.162Z"
   },
   {
    "duration": 248,
    "start_time": "2022-06-11T07:26:28.843Z"
   },
   {
    "duration": 3,
    "start_time": "2022-06-11T07:26:33.337Z"
   },
   {
    "duration": 749,
    "start_time": "2022-06-11T07:26:33.349Z"
   },
   {
    "duration": 6,
    "start_time": "2022-06-11T07:26:34.100Z"
   },
   {
    "duration": 6,
    "start_time": "2022-06-11T07:26:34.107Z"
   },
   {
    "duration": 5,
    "start_time": "2022-06-11T07:26:34.114Z"
   },
   {
    "duration": 5,
    "start_time": "2022-06-11T07:26:34.121Z"
   },
   {
    "duration": 9,
    "start_time": "2022-06-11T07:26:34.127Z"
   },
   {
    "duration": 7,
    "start_time": "2022-06-11T07:26:34.137Z"
   },
   {
    "duration": 18,
    "start_time": "2022-06-11T07:26:34.146Z"
   },
   {
    "duration": 5,
    "start_time": "2022-06-11T07:26:34.166Z"
   },
   {
    "duration": 195,
    "start_time": "2022-06-11T07:26:34.173Z"
   },
   {
    "duration": 6,
    "start_time": "2022-06-11T07:26:34.370Z"
   },
   {
    "duration": 242,
    "start_time": "2022-06-11T07:26:34.378Z"
   },
   {
    "duration": 1205,
    "start_time": "2022-06-11T07:26:50.096Z"
   },
   {
    "duration": 719,
    "start_time": "2022-06-11T07:26:51.303Z"
   },
   {
    "duration": 13,
    "start_time": "2022-06-11T07:26:52.024Z"
   },
   {
    "duration": 6,
    "start_time": "2022-06-11T07:26:52.039Z"
   },
   {
    "duration": 5,
    "start_time": "2022-06-11T07:26:52.047Z"
   },
   {
    "duration": 11,
    "start_time": "2022-06-11T07:26:52.054Z"
   },
   {
    "duration": 18,
    "start_time": "2022-06-11T07:26:52.066Z"
   },
   {
    "duration": 7,
    "start_time": "2022-06-11T07:26:52.085Z"
   },
   {
    "duration": 6,
    "start_time": "2022-06-11T07:26:52.094Z"
   },
   {
    "duration": 8,
    "start_time": "2022-06-11T07:26:52.101Z"
   },
   {
    "duration": 191,
    "start_time": "2022-06-11T07:26:52.110Z"
   },
   {
    "duration": 5,
    "start_time": "2022-06-11T07:26:52.303Z"
   },
   {
    "duration": 230,
    "start_time": "2022-06-11T07:26:52.309Z"
   },
   {
    "duration": 240,
    "start_time": "2022-06-11T07:27:01.705Z"
   },
   {
    "duration": 202,
    "start_time": "2022-06-11T07:27:20.393Z"
   },
   {
    "duration": 233,
    "start_time": "2022-06-11T07:27:35.399Z"
   },
   {
    "duration": 272,
    "start_time": "2022-06-11T07:28:01.012Z"
   },
   {
    "duration": 314,
    "start_time": "2022-06-11T07:28:11.505Z"
   },
   {
    "duration": 239,
    "start_time": "2022-06-11T07:28:15.481Z"
   },
   {
    "duration": 257,
    "start_time": "2022-06-11T07:28:19.731Z"
   },
   {
    "duration": 221,
    "start_time": "2022-06-11T07:28:41.305Z"
   },
   {
    "duration": 232,
    "start_time": "2022-06-11T07:28:46.927Z"
   },
   {
    "duration": 129,
    "start_time": "2022-06-11T07:28:56.124Z"
   },
   {
    "duration": 224,
    "start_time": "2022-06-11T07:28:59.706Z"
   },
   {
    "duration": 19,
    "start_time": "2022-06-11T07:29:20.290Z"
   },
   {
    "duration": 220,
    "start_time": "2022-06-11T07:29:23.953Z"
   },
   {
    "duration": 217,
    "start_time": "2022-06-11T07:29:33.329Z"
   },
   {
    "duration": 225,
    "start_time": "2022-06-11T07:29:44.092Z"
   },
   {
    "duration": 220,
    "start_time": "2022-06-11T07:29:52.009Z"
   },
   {
    "duration": 217,
    "start_time": "2022-06-11T07:39:38.295Z"
   },
   {
    "duration": 322,
    "start_time": "2022-06-11T07:40:12.395Z"
   },
   {
    "duration": 217,
    "start_time": "2022-06-11T07:40:22.298Z"
   },
   {
    "duration": 231,
    "start_time": "2022-06-11T07:40:32.709Z"
   },
   {
    "duration": 209,
    "start_time": "2022-06-11T07:40:45.631Z"
   },
   {
    "duration": 225,
    "start_time": "2022-06-11T07:40:51.661Z"
   },
   {
    "duration": 219,
    "start_time": "2022-06-11T07:40:57.881Z"
   },
   {
    "duration": 227,
    "start_time": "2022-06-11T07:41:05.098Z"
   },
   {
    "duration": 240,
    "start_time": "2022-06-11T07:41:15.481Z"
   },
   {
    "duration": 13,
    "start_time": "2022-06-11T07:41:28.434Z"
   },
   {
    "duration": 233,
    "start_time": "2022-06-11T07:41:31.035Z"
   },
   {
    "duration": 218,
    "start_time": "2022-06-11T07:44:57.880Z"
   },
   {
    "duration": 242,
    "start_time": "2022-06-11T07:45:03.548Z"
   },
   {
    "duration": 222,
    "start_time": "2022-06-11T07:46:04.865Z"
   },
   {
    "duration": 201,
    "start_time": "2022-06-11T07:46:12.998Z"
   },
   {
    "duration": 215,
    "start_time": "2022-06-11T07:46:23.263Z"
   },
   {
    "duration": 226,
    "start_time": "2022-06-11T07:46:30.574Z"
   },
   {
    "duration": 222,
    "start_time": "2022-06-11T07:46:47.079Z"
   },
   {
    "duration": 242,
    "start_time": "2022-06-11T07:47:13.870Z"
   },
   {
    "duration": 221,
    "start_time": "2022-06-11T07:47:19.922Z"
   },
   {
    "duration": 4,
    "start_time": "2022-06-11T07:52:14.040Z"
   },
   {
    "duration": 5,
    "start_time": "2022-06-11T08:06:53.552Z"
   },
   {
    "duration": 4,
    "start_time": "2022-06-11T08:12:26.894Z"
   },
   {
    "duration": 14,
    "start_time": "2022-06-11T08:12:56.017Z"
   },
   {
    "duration": 8,
    "start_time": "2022-06-11T08:13:00.123Z"
   },
   {
    "duration": 7,
    "start_time": "2022-06-11T08:13:08.348Z"
   },
   {
    "duration": 36,
    "start_time": "2022-06-11T08:13:10.853Z"
   },
   {
    "duration": 9,
    "start_time": "2022-06-11T08:13:12.416Z"
   },
   {
    "duration": 4,
    "start_time": "2022-06-11T08:14:04.184Z"
   },
   {
    "duration": 12,
    "start_time": "2022-06-11T08:14:32.878Z"
   },
   {
    "duration": 4,
    "start_time": "2022-06-11T08:20:31.777Z"
   },
   {
    "duration": 3,
    "start_time": "2022-06-11T08:20:59.721Z"
   },
   {
    "duration": 578,
    "start_time": "2022-06-11T08:21:00.250Z"
   },
   {
    "duration": 11,
    "start_time": "2022-06-11T08:21:19.917Z"
   },
   {
    "duration": 11,
    "start_time": "2022-06-11T08:21:25.805Z"
   },
   {
    "duration": 30,
    "start_time": "2022-06-11T08:23:10.351Z"
   },
   {
    "duration": 9,
    "start_time": "2022-06-11T08:23:25.414Z"
   },
   {
    "duration": 13,
    "start_time": "2022-06-11T08:24:19.112Z"
   },
   {
    "duration": 10,
    "start_time": "2022-06-11T08:24:45.779Z"
   },
   {
    "duration": 13,
    "start_time": "2022-06-11T08:25:54.704Z"
   },
   {
    "duration": 13,
    "start_time": "2022-06-11T08:26:12.805Z"
   },
   {
    "duration": 13,
    "start_time": "2022-06-11T08:26:53.728Z"
   },
   {
    "duration": 13,
    "start_time": "2022-06-11T08:29:11.111Z"
   },
   {
    "duration": 143,
    "start_time": "2022-06-11T08:29:31.140Z"
   },
   {
    "duration": 143,
    "start_time": "2022-06-11T08:29:51.144Z"
   },
   {
    "duration": 181,
    "start_time": "2022-06-11T08:30:07.234Z"
   },
   {
    "duration": 231,
    "start_time": "2022-06-11T08:30:33.704Z"
   },
   {
    "duration": 192,
    "start_time": "2022-06-11T08:31:42.245Z"
   },
   {
    "duration": 562,
    "start_time": "2022-06-11T08:31:48.937Z"
   },
   {
    "duration": 36,
    "start_time": "2022-06-11T08:32:06.434Z"
   },
   {
    "duration": 22,
    "start_time": "2022-06-11T08:32:15.606Z"
   },
   {
    "duration": 205,
    "start_time": "2022-06-11T08:32:19.516Z"
   },
   {
    "duration": 226,
    "start_time": "2022-06-11T08:32:23.014Z"
   },
   {
    "duration": 267,
    "start_time": "2022-06-11T08:32:31.657Z"
   },
   {
    "duration": 206,
    "start_time": "2022-06-11T08:32:51.349Z"
   },
   {
    "duration": 177,
    "start_time": "2022-06-11T08:32:55.941Z"
   },
   {
    "duration": 184,
    "start_time": "2022-06-11T08:33:00.453Z"
   },
   {
    "duration": 217,
    "start_time": "2022-06-11T08:33:02.841Z"
   },
   {
    "duration": 195,
    "start_time": "2022-06-11T08:33:07.304Z"
   },
   {
    "duration": 174,
    "start_time": "2022-06-11T08:33:12.279Z"
   },
   {
    "duration": 249,
    "start_time": "2022-06-11T08:33:15.958Z"
   },
   {
    "duration": 140,
    "start_time": "2022-06-11T08:33:38.696Z"
   },
   {
    "duration": 139,
    "start_time": "2022-06-11T08:33:41.177Z"
   },
   {
    "duration": 164,
    "start_time": "2022-06-11T08:33:43.604Z"
   },
   {
    "duration": 144,
    "start_time": "2022-06-11T08:33:47.484Z"
   },
   {
    "duration": 243,
    "start_time": "2022-06-11T08:33:49.466Z"
   },
   {
    "duration": 182,
    "start_time": "2022-06-11T08:34:58.412Z"
   },
   {
    "duration": 4,
    "start_time": "2022-06-11T08:36:18.951Z"
   },
   {
    "duration": 12,
    "start_time": "2022-06-11T08:37:33.825Z"
   },
   {
    "duration": 185,
    "start_time": "2022-06-11T08:37:55.134Z"
   },
   {
    "duration": 13,
    "start_time": "2022-06-11T08:39:41.577Z"
   },
   {
    "duration": 178,
    "start_time": "2022-06-11T08:39:54.835Z"
   },
   {
    "duration": 172,
    "start_time": "2022-06-11T08:40:21.678Z"
   },
   {
    "duration": 181,
    "start_time": "2022-06-11T08:40:26.530Z"
   },
   {
    "duration": 4,
    "start_time": "2022-06-11T09:25:32.919Z"
   },
   {
    "duration": 4,
    "start_time": "2022-06-11T09:27:55.191Z"
   },
   {
    "duration": 4,
    "start_time": "2022-06-11T09:33:31.995Z"
   },
   {
    "duration": 3,
    "start_time": "2022-06-11T09:36:04.702Z"
   },
   {
    "duration": 64,
    "start_time": "2022-06-11T09:36:06.864Z"
   },
   {
    "duration": 3,
    "start_time": "2022-06-11T09:36:14.028Z"
   },
   {
    "duration": 5,
    "start_time": "2022-06-11T09:36:31.024Z"
   },
   {
    "duration": 2,
    "start_time": "2022-06-11T09:36:32.969Z"
   },
   {
    "duration": 2,
    "start_time": "2022-06-11T09:41:14.226Z"
   },
   {
    "duration": 31,
    "start_time": "2022-06-11T09:41:25.237Z"
   },
   {
    "duration": 4,
    "start_time": "2022-06-11T09:41:59.787Z"
   },
   {
    "duration": 14,
    "start_time": "2022-06-11T09:48:36.177Z"
   },
   {
    "duration": 5,
    "start_time": "2022-06-11T09:48:46.539Z"
   },
   {
    "duration": 4,
    "start_time": "2022-06-11T09:49:23.506Z"
   },
   {
    "duration": 9,
    "start_time": "2022-06-11T09:51:52.991Z"
   },
   {
    "duration": 7,
    "start_time": "2022-06-11T09:52:28.484Z"
   },
   {
    "duration": 6,
    "start_time": "2022-06-11T09:52:49.515Z"
   },
   {
    "duration": 3,
    "start_time": "2022-06-11T09:53:05.640Z"
   },
   {
    "duration": 5,
    "start_time": "2022-06-11T09:53:28.889Z"
   },
   {
    "duration": 5,
    "start_time": "2022-06-11T10:02:28.309Z"
   },
   {
    "duration": 4,
    "start_time": "2022-06-11T10:02:38.213Z"
   },
   {
    "duration": 4,
    "start_time": "2022-06-11T10:02:41.915Z"
   },
   {
    "duration": 5,
    "start_time": "2022-06-11T10:03:40.373Z"
   },
   {
    "duration": 25,
    "start_time": "2022-06-11T10:08:06.077Z"
   },
   {
    "duration": 18,
    "start_time": "2022-06-11T10:09:35.558Z"
   },
   {
    "duration": 12,
    "start_time": "2022-06-11T10:09:40.078Z"
   },
   {
    "duration": 10,
    "start_time": "2022-06-11T10:09:47.392Z"
   },
   {
    "duration": 39,
    "start_time": "2022-06-11T10:09:52.336Z"
   },
   {
    "duration": 14,
    "start_time": "2022-06-11T10:10:04.759Z"
   },
   {
    "duration": 21,
    "start_time": "2022-06-11T10:10:18.983Z"
   },
   {
    "duration": 40,
    "start_time": "2022-06-11T10:10:37.677Z"
   },
   {
    "duration": 22,
    "start_time": "2022-06-11T10:11:50.121Z"
   },
   {
    "duration": 23,
    "start_time": "2022-06-11T10:12:00.492Z"
   },
   {
    "duration": 47,
    "start_time": "2022-06-11T10:13:18.287Z"
   },
   {
    "duration": 4,
    "start_time": "2022-06-11T10:13:28.177Z"
   },
   {
    "duration": 20,
    "start_time": "2022-06-11T10:15:29.720Z"
   },
   {
    "duration": 9,
    "start_time": "2022-06-11T10:16:22.131Z"
   },
   {
    "duration": 3,
    "start_time": "2022-06-11T10:16:23.320Z"
   },
   {
    "duration": 22,
    "start_time": "2022-06-11T10:16:26.358Z"
   },
   {
    "duration": 8,
    "start_time": "2022-06-11T10:16:47.241Z"
   },
   {
    "duration": 4,
    "start_time": "2022-06-11T10:16:50.352Z"
   },
   {
    "duration": 3,
    "start_time": "2022-06-11T10:18:32.619Z"
   },
   {
    "duration": 49,
    "start_time": "2022-06-11T10:18:35.326Z"
   },
   {
    "duration": 45,
    "start_time": "2022-06-11T10:19:17.500Z"
   },
   {
    "duration": 49,
    "start_time": "2022-06-11T10:19:32.691Z"
   },
   {
    "duration": 38,
    "start_time": "2022-06-11T10:19:49.515Z"
   },
   {
    "duration": 32,
    "start_time": "2022-06-11T10:19:59.003Z"
   },
   {
    "duration": 23,
    "start_time": "2022-06-11T10:20:09.234Z"
   },
   {
    "duration": 41,
    "start_time": "2022-06-11T10:20:14.681Z"
   },
   {
    "duration": 46,
    "start_time": "2022-06-11T10:20:21.154Z"
   },
   {
    "duration": 27,
    "start_time": "2022-06-11T10:20:30.552Z"
   },
   {
    "duration": 40,
    "start_time": "2022-06-11T10:20:35.754Z"
   },
   {
    "duration": 30,
    "start_time": "2022-06-11T10:20:43.577Z"
   },
   {
    "duration": 36,
    "start_time": "2022-06-11T10:20:56.724Z"
   },
   {
    "duration": 28,
    "start_time": "2022-06-11T10:21:19.760Z"
   },
   {
    "duration": 29,
    "start_time": "2022-06-11T10:21:24.678Z"
   },
   {
    "duration": 47,
    "start_time": "2022-06-11T10:21:32.951Z"
   },
   {
    "duration": 45,
    "start_time": "2022-06-11T10:21:39.686Z"
   },
   {
    "duration": 47,
    "start_time": "2022-06-11T10:21:57.156Z"
   },
   {
    "duration": 1294,
    "start_time": "2022-06-11T11:08:49.879Z"
   },
   {
    "duration": 776,
    "start_time": "2022-06-11T11:08:51.176Z"
   },
   {
    "duration": 4,
    "start_time": "2022-06-11T11:08:51.954Z"
   },
   {
    "duration": 6,
    "start_time": "2022-06-11T11:08:51.966Z"
   },
   {
    "duration": 22,
    "start_time": "2022-06-11T11:08:51.975Z"
   },
   {
    "duration": 6,
    "start_time": "2022-06-11T11:08:51.999Z"
   },
   {
    "duration": 11,
    "start_time": "2022-06-11T11:08:52.006Z"
   },
   {
    "duration": 18,
    "start_time": "2022-06-11T11:08:52.019Z"
   },
   {
    "duration": 193,
    "start_time": "2022-06-11T11:08:52.039Z"
   },
   {
    "duration": 249,
    "start_time": "2022-06-11T11:08:52.234Z"
   },
   {
    "duration": 235,
    "start_time": "2022-06-11T11:08:52.484Z"
   },
   {
    "duration": 5,
    "start_time": "2022-06-11T11:08:52.721Z"
   },
   {
    "duration": 20,
    "start_time": "2022-06-11T11:08:52.730Z"
   },
   {
    "duration": 191,
    "start_time": "2022-06-11T11:08:52.767Z"
   },
   {
    "duration": 10,
    "start_time": "2022-06-11T11:08:52.960Z"
   },
   {
    "duration": 17,
    "start_time": "2022-06-11T11:08:52.972Z"
   },
   {
    "duration": 27,
    "start_time": "2022-06-11T11:08:52.990Z"
   },
   {
    "duration": 117,
    "start_time": "2022-06-11T11:08:53.019Z"
   },
   {
    "duration": 2,
    "start_time": "2022-06-11T11:08:53.138Z"
   },
   {
    "duration": 7,
    "start_time": "2022-06-11T11:08:53.142Z"
   },
   {
    "duration": 18,
    "start_time": "2022-06-11T11:08:53.150Z"
   },
   {
    "duration": 29,
    "start_time": "2022-06-11T11:08:53.172Z"
   },
   {
    "duration": 5,
    "start_time": "2022-06-11T11:08:53.202Z"
   },
   {
    "duration": 118,
    "start_time": "2022-06-11T11:10:03.152Z"
   },
   {
    "duration": 17,
    "start_time": "2022-06-11T11:14:15.761Z"
   },
   {
    "duration": 9,
    "start_time": "2022-06-11T11:14:20.272Z"
   },
   {
    "duration": 4,
    "start_time": "2022-06-11T11:14:21.984Z"
   },
   {
    "duration": 24,
    "start_time": "2022-06-11T11:14:38.657Z"
   },
   {
    "duration": 15,
    "start_time": "2022-06-11T11:14:42.901Z"
   },
   {
    "duration": 13,
    "start_time": "2022-06-11T11:15:10.955Z"
   },
   {
    "duration": 18,
    "start_time": "2022-06-11T11:15:17.336Z"
   },
   {
    "duration": 17,
    "start_time": "2022-06-11T11:15:24.397Z"
   },
   {
    "duration": 17,
    "start_time": "2022-06-11T11:18:03.284Z"
   },
   {
    "duration": 24,
    "start_time": "2022-06-11T11:19:21.051Z"
   },
   {
    "duration": 14,
    "start_time": "2022-06-11T11:19:42.777Z"
   },
   {
    "duration": 17,
    "start_time": "2022-06-11T11:20:16.383Z"
   },
   {
    "duration": 21,
    "start_time": "2022-06-11T11:21:31.099Z"
   },
   {
    "duration": 6,
    "start_time": "2022-06-11T11:21:33.405Z"
   },
   {
    "duration": 5,
    "start_time": "2022-06-11T11:21:34.479Z"
   },
   {
    "duration": 22,
    "start_time": "2022-06-11T11:21:49.352Z"
   },
   {
    "duration": 463,
    "start_time": "2022-06-11T11:22:21.748Z"
   },
   {
    "duration": 11,
    "start_time": "2022-06-11T11:22:46.029Z"
   },
   {
    "duration": 4,
    "start_time": "2022-06-11T11:22:56.587Z"
   },
   {
    "duration": 8,
    "start_time": "2022-06-11T11:23:06.269Z"
   },
   {
    "duration": 5,
    "start_time": "2022-06-11T11:23:21.625Z"
   },
   {
    "duration": 4,
    "start_time": "2022-06-11T11:23:23.142Z"
   },
   {
    "duration": 8,
    "start_time": "2022-06-11T11:23:29.010Z"
   },
   {
    "duration": 2,
    "start_time": "2022-06-11T11:23:59.933Z"
   },
   {
    "duration": 6,
    "start_time": "2022-06-11T11:24:24.662Z"
   },
   {
    "duration": 4,
    "start_time": "2022-06-11T11:25:10.649Z"
   },
   {
    "duration": 22,
    "start_time": "2022-06-11T11:27:47.757Z"
   },
   {
    "duration": 14102,
    "start_time": "2022-06-11T11:27:55.899Z"
   },
   {
    "duration": 3,
    "start_time": "2022-06-11T11:29:15.704Z"
   },
   {
    "duration": 13611,
    "start_time": "2022-06-11T11:29:23.540Z"
   },
   {
    "duration": 13592,
    "start_time": "2022-06-11T11:30:04.967Z"
   },
   {
    "duration": 6,
    "start_time": "2022-06-11T11:32:02.935Z"
   },
   {
    "duration": 3764774,
    "start_time": "2022-06-11T11:32:07.164Z"
   },
   {
    "duration": 65787,
    "start_time": "2022-06-11T12:35:37.358Z"
   },
   {
    "duration": 65297,
    "start_time": "2022-06-11T12:38:52.090Z"
   },
   {
    "duration": 14014,
    "start_time": "2022-06-11T12:40:15.526Z"
   },
   {
    "duration": 4,
    "start_time": "2022-06-11T12:40:35.420Z"
   },
   {
    "duration": 827,
    "start_time": "2022-06-11T12:40:35.426Z"
   },
   {
    "duration": 4,
    "start_time": "2022-06-11T12:40:36.255Z"
   },
   {
    "duration": 13,
    "start_time": "2022-06-11T12:40:36.264Z"
   },
   {
    "duration": 14,
    "start_time": "2022-06-11T12:40:36.279Z"
   },
   {
    "duration": 6,
    "start_time": "2022-06-11T12:40:36.295Z"
   },
   {
    "duration": 8,
    "start_time": "2022-06-11T12:40:36.303Z"
   },
   {
    "duration": 179,
    "start_time": "2022-06-11T12:40:36.313Z"
   },
   {
    "duration": 234,
    "start_time": "2022-06-11T12:40:36.495Z"
   },
   {
    "duration": 234,
    "start_time": "2022-06-11T12:40:36.730Z"
   },
   {
    "duration": 4,
    "start_time": "2022-06-11T12:40:36.967Z"
   },
   {
    "duration": 26,
    "start_time": "2022-06-11T12:40:36.973Z"
   },
   {
    "duration": 200,
    "start_time": "2022-06-11T12:40:37.001Z"
   },
   {
    "duration": 5,
    "start_time": "2022-06-11T12:40:37.203Z"
   },
   {
    "duration": 8,
    "start_time": "2022-06-11T12:40:37.210Z"
   },
   {
    "duration": 25,
    "start_time": "2022-06-11T12:40:37.220Z"
   },
   {
    "duration": 42,
    "start_time": "2022-06-11T12:40:37.246Z"
   },
   {
    "duration": 5,
    "start_time": "2022-06-11T12:40:37.290Z"
   },
   {
    "duration": 6,
    "start_time": "2022-06-11T12:40:37.296Z"
   },
   {
    "duration": 23,
    "start_time": "2022-06-11T12:40:37.304Z"
   },
   {
    "duration": 6,
    "start_time": "2022-06-11T12:40:37.329Z"
   },
   {
    "duration": 5,
    "start_time": "2022-06-11T12:40:37.337Z"
   },
   {
    "duration": 17,
    "start_time": "2022-06-11T12:40:37.365Z"
   },
   {
    "duration": 186,
    "start_time": "2022-06-11T12:40:37.385Z"
   },
   {
    "duration": 14315,
    "start_time": "2022-06-11T12:40:37.575Z"
   },
   {
    "duration": 1283,
    "start_time": "2022-06-11T16:46:25.444Z"
   },
   {
    "duration": 5,
    "start_time": "2022-06-11T17:07:33.065Z"
   },
   {
    "duration": 4,
    "start_time": "2022-06-11T17:10:18.598Z"
   },
   {
    "duration": 4,
    "start_time": "2022-06-11T17:10:27.982Z"
   },
   {
    "duration": 98,
    "start_time": "2022-06-11T17:13:10.347Z"
   },
   {
    "duration": 3,
    "start_time": "2022-06-11T17:13:15.951Z"
   },
   {
    "duration": 2054,
    "start_time": "2022-06-11T17:13:15.956Z"
   },
   {
    "duration": 3,
    "start_time": "2022-06-11T17:13:18.013Z"
   },
   {
    "duration": 41,
    "start_time": "2022-06-11T17:13:18.018Z"
   },
   {
    "duration": 5,
    "start_time": "2022-06-11T17:13:18.060Z"
   },
   {
    "duration": 20,
    "start_time": "2022-06-11T17:13:18.066Z"
   },
   {
    "duration": 25,
    "start_time": "2022-06-11T17:13:18.088Z"
   },
   {
    "duration": 173,
    "start_time": "2022-06-11T17:13:18.115Z"
   },
   {
    "duration": 209,
    "start_time": "2022-06-11T17:13:18.291Z"
   },
   {
    "duration": 199,
    "start_time": "2022-06-11T17:13:18.502Z"
   },
   {
    "duration": 3,
    "start_time": "2022-06-11T17:13:18.703Z"
   },
   {
    "duration": 33,
    "start_time": "2022-06-11T17:13:18.707Z"
   },
   {
    "duration": 180,
    "start_time": "2022-06-11T17:13:18.742Z"
   },
   {
    "duration": 4,
    "start_time": "2022-06-11T17:13:18.924Z"
   },
   {
    "duration": 43,
    "start_time": "2022-06-11T17:13:18.929Z"
   },
   {
    "duration": 45,
    "start_time": "2022-06-11T17:13:18.973Z"
   },
   {
    "duration": 124,
    "start_time": "2022-06-11T17:13:19.019Z"
   },
   {
    "duration": 51,
    "start_time": "2022-06-11T17:13:19.144Z"
   },
   {
    "duration": 30,
    "start_time": "2022-06-11T17:13:19.197Z"
   },
   {
    "duration": 42,
    "start_time": "2022-06-11T17:13:19.229Z"
   },
   {
    "duration": 66,
    "start_time": "2022-06-11T17:13:19.273Z"
   },
   {
    "duration": 19,
    "start_time": "2022-06-11T17:13:19.341Z"
   },
   {
    "duration": 16,
    "start_time": "2022-06-11T17:14:55.102Z"
   },
   {
    "duration": 21,
    "start_time": "2022-06-11T17:14:56.468Z"
   },
   {
    "duration": 16,
    "start_time": "2022-06-11T17:20:21.652Z"
   },
   {
    "duration": 4,
    "start_time": "2022-06-11T17:26:45.889Z"
   },
   {
    "duration": 404,
    "start_time": "2022-06-11T17:26:50.428Z"
   },
   {
    "duration": 3,
    "start_time": "2022-06-11T17:27:53.614Z"
   },
   {
    "duration": 3547,
    "start_time": "2022-06-11T17:30:53.855Z"
   },
   {
    "duration": 32989,
    "start_time": "2022-06-11T17:32:59.319Z"
   },
   {
    "duration": 13,
    "start_time": "2022-06-11T17:35:21.394Z"
   },
   {
    "duration": 5,
    "start_time": "2022-06-11T17:35:30.496Z"
   },
   {
    "duration": 3,
    "start_time": "2022-06-11T17:36:15.012Z"
   },
   {
    "duration": 3,
    "start_time": "2022-06-11T17:38:21.727Z"
   },
   {
    "duration": 4,
    "start_time": "2022-06-11T17:39:36.622Z"
   },
   {
    "duration": 3,
    "start_time": "2022-06-11T17:39:37.389Z"
   },
   {
    "duration": 13,
    "start_time": "2022-06-11T17:39:40.014Z"
   },
   {
    "duration": 3,
    "start_time": "2022-06-11T17:39:44.559Z"
   },
   {
    "duration": 14,
    "start_time": "2022-06-11T17:40:00.345Z"
   },
   {
    "duration": 478,
    "start_time": "2022-06-11T17:40:38.050Z"
   },
   {
    "duration": 8430,
    "start_time": "2022-06-11T17:40:50.829Z"
   },
   {
    "duration": 8975,
    "start_time": "2022-06-11T17:42:10.478Z"
   },
   {
    "duration": 44992,
    "start_time": "2022-06-11T17:42:25.579Z"
   },
   {
    "duration": 3,
    "start_time": "2022-06-11T17:46:26.886Z"
   },
   {
    "duration": 3,
    "start_time": "2022-06-11T17:46:27.431Z"
   },
   {
    "duration": 12,
    "start_time": "2022-06-11T17:46:28.350Z"
   },
   {
    "duration": 10,
    "start_time": "2022-06-11T17:46:37.924Z"
   },
   {
    "duration": 955310,
    "start_time": "2022-06-11T17:46:57.266Z"
   },
   {
    "duration": 4,
    "start_time": "2022-06-11T18:03:24.721Z"
   },
   {
    "duration": 4,
    "start_time": "2022-06-11T18:03:38.644Z"
   },
   {
    "duration": 4,
    "start_time": "2022-06-11T18:04:40.530Z"
   },
   {
    "duration": 18,
    "start_time": "2022-06-11T18:04:50.252Z"
   },
   {
    "duration": 247,
    "start_time": "2022-06-11T18:04:53.488Z"
   },
   {
    "duration": 3485,
    "start_time": "2022-06-11T18:04:57.169Z"
   },
   {
    "duration": 31,
    "start_time": "2022-06-11T18:06:07.343Z"
   },
   {
    "duration": 3,
    "start_time": "2022-06-11T18:06:21.254Z"
   },
   {
    "duration": 4,
    "start_time": "2022-06-11T18:06:30.392Z"
   },
   {
    "duration": 470,
    "start_time": "2022-06-11T18:06:39.556Z"
   },
   {
    "duration": 3480,
    "start_time": "2022-06-11T18:07:39.528Z"
   },
   {
    "duration": 3419,
    "start_time": "2022-06-11T18:08:59.326Z"
   },
   {
    "duration": 2526,
    "start_time": "2022-06-11T18:09:25.707Z"
   },
   {
    "duration": 2,
    "start_time": "2022-06-11T18:09:31.726Z"
   },
   {
    "duration": 3,
    "start_time": "2022-06-11T18:09:47.110Z"
   },
   {
    "duration": 608,
    "start_time": "2022-06-11T18:09:55.919Z"
   },
   {
    "duration": 4715,
    "start_time": "2022-06-11T18:09:58.280Z"
   },
   {
    "duration": 20,
    "start_time": "2022-06-11T18:10:12.502Z"
   },
   {
    "duration": 4,
    "start_time": "2022-06-11T18:10:17.892Z"
   },
   {
    "duration": 404110,
    "start_time": "2022-06-11T18:10:59.509Z"
   },
   {
    "duration": 458,
    "start_time": "2022-06-11T18:17:43.620Z"
   },
   {
    "duration": 5,
    "start_time": "2022-06-11T18:18:30.861Z"
   },
   {
    "duration": 4,
    "start_time": "2022-06-11T18:18:33.379Z"
   },
   {
    "duration": 18,
    "start_time": "2022-06-11T18:19:00.885Z"
   },
   {
    "duration": 8,
    "start_time": "2022-06-11T18:19:52.115Z"
   },
   {
    "duration": 3,
    "start_time": "2022-06-11T18:19:53.292Z"
   },
   {
    "duration": 104,
    "start_time": "2022-06-11T18:19:53.630Z"
   },
   {
    "duration": 4,
    "start_time": "2022-06-11T18:20:16.302Z"
   },
   {
    "duration": 32,
    "start_time": "2022-06-11T18:20:28.493Z"
   },
   {
    "duration": 22,
    "start_time": "2022-06-11T18:22:09.029Z"
   },
   {
    "duration": 4,
    "start_time": "2022-06-11T18:22:17.254Z"
   },
   {
    "duration": 16,
    "start_time": "2022-06-11T18:22:17.786Z"
   },
   {
    "duration": 3,
    "start_time": "2022-06-11T18:22:33.635Z"
   },
   {
    "duration": 105,
    "start_time": "2022-06-11T18:22:34.024Z"
   },
   {
    "duration": 107,
    "start_time": "2022-06-11T18:23:15.820Z"
   },
   {
    "duration": 1124,
    "start_time": "2022-06-11T18:32:01.668Z"
   },
   {
    "duration": 636,
    "start_time": "2022-06-11T18:32:02.794Z"
   },
   {
    "duration": 4,
    "start_time": "2022-06-11T18:32:03.432Z"
   },
   {
    "duration": 7,
    "start_time": "2022-06-11T18:32:03.438Z"
   },
   {
    "duration": 9,
    "start_time": "2022-06-11T18:32:03.446Z"
   },
   {
    "duration": 4,
    "start_time": "2022-06-11T18:32:03.456Z"
   },
   {
    "duration": 7,
    "start_time": "2022-06-11T18:32:03.461Z"
   },
   {
    "duration": 180,
    "start_time": "2022-06-11T18:32:03.470Z"
   },
   {
    "duration": 215,
    "start_time": "2022-06-11T18:32:03.652Z"
   },
   {
    "duration": 217,
    "start_time": "2022-06-11T18:32:03.870Z"
   },
   {
    "duration": 4,
    "start_time": "2022-06-11T18:32:04.088Z"
   },
   {
    "duration": 24,
    "start_time": "2022-06-11T18:32:04.093Z"
   },
   {
    "duration": 166,
    "start_time": "2022-06-11T18:32:04.118Z"
   },
   {
    "duration": 4,
    "start_time": "2022-06-11T18:32:04.285Z"
   },
   {
    "duration": 6,
    "start_time": "2022-06-11T18:32:04.290Z"
   },
   {
    "duration": 37,
    "start_time": "2022-06-11T18:32:04.297Z"
   },
   {
    "duration": 97,
    "start_time": "2022-06-11T18:32:04.336Z"
   },
   {
    "duration": 3,
    "start_time": "2022-06-11T18:32:04.435Z"
   },
   {
    "duration": 103,
    "start_time": "2022-06-11T18:32:04.439Z"
   },
   {
    "duration": 0,
    "start_time": "2022-06-11T18:32:04.543Z"
   },
   {
    "duration": 0,
    "start_time": "2022-06-11T18:32:04.545Z"
   },
   {
    "duration": 0,
    "start_time": "2022-06-11T18:32:04.546Z"
   },
   {
    "duration": 0,
    "start_time": "2022-06-11T18:32:04.547Z"
   },
   {
    "duration": 0,
    "start_time": "2022-06-11T18:32:04.548Z"
   },
   {
    "duration": 0,
    "start_time": "2022-06-11T18:32:04.548Z"
   },
   {
    "duration": 0,
    "start_time": "2022-06-11T18:32:04.550Z"
   },
   {
    "duration": 0,
    "start_time": "2022-06-11T18:32:04.551Z"
   },
   {
    "duration": 0,
    "start_time": "2022-06-11T18:32:04.552Z"
   },
   {
    "duration": 0,
    "start_time": "2022-06-11T18:32:04.553Z"
   },
   {
    "duration": 0,
    "start_time": "2022-06-11T18:32:04.554Z"
   },
   {
    "duration": 0,
    "start_time": "2022-06-11T18:32:04.554Z"
   },
   {
    "duration": 0,
    "start_time": "2022-06-11T18:32:04.556Z"
   },
   {
    "duration": 0,
    "start_time": "2022-06-11T18:32:04.556Z"
   },
   {
    "duration": 3,
    "start_time": "2022-06-11T18:32:23.635Z"
   },
   {
    "duration": 1105,
    "start_time": "2022-06-11T18:32:45.312Z"
   },
   {
    "duration": 640,
    "start_time": "2022-06-11T18:32:46.419Z"
   },
   {
    "duration": 3,
    "start_time": "2022-06-11T18:32:47.061Z"
   },
   {
    "duration": 10,
    "start_time": "2022-06-11T18:32:47.065Z"
   },
   {
    "duration": 6,
    "start_time": "2022-06-11T18:32:47.077Z"
   },
   {
    "duration": 3,
    "start_time": "2022-06-11T18:32:47.084Z"
   },
   {
    "duration": 6,
    "start_time": "2022-06-11T18:32:47.088Z"
   },
   {
    "duration": 158,
    "start_time": "2022-06-11T18:32:47.095Z"
   },
   {
    "duration": 188,
    "start_time": "2022-06-11T18:32:47.254Z"
   },
   {
    "duration": 200,
    "start_time": "2022-06-11T18:32:47.443Z"
   },
   {
    "duration": 3,
    "start_time": "2022-06-11T18:32:47.644Z"
   },
   {
    "duration": 22,
    "start_time": "2022-06-11T18:32:47.649Z"
   },
   {
    "duration": 155,
    "start_time": "2022-06-11T18:32:47.672Z"
   },
   {
    "duration": 4,
    "start_time": "2022-06-11T18:32:47.829Z"
   },
   {
    "duration": 5,
    "start_time": "2022-06-11T18:32:47.834Z"
   },
   {
    "duration": 90,
    "start_time": "2022-06-11T18:32:47.841Z"
   },
   {
    "duration": 19,
    "start_time": "2022-06-11T18:32:47.932Z"
   },
   {
    "duration": 3,
    "start_time": "2022-06-11T18:32:47.953Z"
   },
   {
    "duration": 4,
    "start_time": "2022-06-11T18:32:47.958Z"
   },
   {
    "duration": 18,
    "start_time": "2022-06-11T18:32:47.963Z"
   },
   {
    "duration": 252,
    "start_time": "2022-06-11T18:32:47.982Z"
   },
   {
    "duration": 3657,
    "start_time": "2022-06-11T18:32:48.235Z"
   },
   {
    "duration": 2,
    "start_time": "2022-06-11T18:32:51.893Z"
   },
   {
    "duration": 7,
    "start_time": "2022-06-11T18:32:51.897Z"
   },
   {
    "duration": 229,
    "start_time": "2022-06-11T18:32:51.905Z"
   },
   {
    "duration": 3580,
    "start_time": "2022-06-11T18:32:52.225Z"
   },
   {
    "duration": 2,
    "start_time": "2022-06-11T18:32:55.807Z"
   },
   {
    "duration": 29,
    "start_time": "2022-06-11T18:32:55.811Z"
   },
   {
    "duration": 3,
    "start_time": "2022-06-11T18:32:55.841Z"
   },
   {
    "duration": 87,
    "start_time": "2022-06-11T18:32:55.845Z"
   },
   {
    "duration": 4,
    "start_time": "2022-06-11T18:32:56.025Z"
   },
   {
    "duration": 194,
    "start_time": "2022-06-11T18:32:56.030Z"
   },
   {
    "duration": 18,
    "start_time": "2022-06-11T18:32:56.227Z"
   },
   {
    "duration": 395199,
    "start_time": "2022-06-11T18:54:35.763Z"
   },
   {
    "duration": 53,
    "start_time": "2022-06-12T06:23:48.926Z"
   },
   {
    "duration": 1425,
    "start_time": "2022-06-12T06:23:56.531Z"
   },
   {
    "duration": 3315,
    "start_time": "2022-06-12T06:23:57.958Z"
   },
   {
    "duration": 4,
    "start_time": "2022-06-12T06:24:01.275Z"
   },
   {
    "duration": 36,
    "start_time": "2022-06-12T06:24:01.281Z"
   },
   {
    "duration": 12,
    "start_time": "2022-06-12T06:24:01.318Z"
   },
   {
    "duration": 31,
    "start_time": "2022-06-12T06:24:01.332Z"
   },
   {
    "duration": 20,
    "start_time": "2022-06-12T06:24:01.365Z"
   },
   {
    "duration": 202,
    "start_time": "2022-06-12T06:24:01.387Z"
   },
   {
    "duration": 241,
    "start_time": "2022-06-12T06:24:01.591Z"
   },
   {
    "duration": 246,
    "start_time": "2022-06-12T06:24:01.839Z"
   },
   {
    "duration": 4,
    "start_time": "2022-06-12T06:24:02.087Z"
   },
   {
    "duration": 95,
    "start_time": "2022-06-12T06:24:02.093Z"
   },
   {
    "duration": 174,
    "start_time": "2022-06-12T06:24:02.189Z"
   },
   {
    "duration": 4,
    "start_time": "2022-06-12T06:24:02.364Z"
   },
   {
    "duration": 26,
    "start_time": "2022-06-12T06:24:02.369Z"
   },
   {
    "duration": 55,
    "start_time": "2022-06-12T06:24:02.396Z"
   },
   {
    "duration": 107,
    "start_time": "2022-06-12T06:24:02.452Z"
   },
   {
    "duration": 9,
    "start_time": "2022-06-12T06:24:02.560Z"
   },
   {
    "duration": 29,
    "start_time": "2022-06-12T06:24:02.570Z"
   },
   {
    "duration": 31,
    "start_time": "2022-06-12T06:24:02.601Z"
   },
   {
    "duration": 22,
    "start_time": "2022-06-12T06:24:03.822Z"
   },
   {
    "duration": 5,
    "start_time": "2022-06-12T06:24:18.698Z"
   },
   {
    "duration": 3,
    "start_time": "2022-06-12T06:25:18.917Z"
   },
   {
    "duration": 700,
    "start_time": "2022-06-12T06:25:18.922Z"
   },
   {
    "duration": 3,
    "start_time": "2022-06-12T06:25:19.624Z"
   },
   {
    "duration": 34,
    "start_time": "2022-06-12T06:25:19.629Z"
   },
   {
    "duration": 10,
    "start_time": "2022-06-12T06:25:19.665Z"
   },
   {
    "duration": 22,
    "start_time": "2022-06-12T06:25:19.676Z"
   },
   {
    "duration": 20,
    "start_time": "2022-06-12T06:25:19.699Z"
   },
   {
    "duration": 168,
    "start_time": "2022-06-12T06:25:19.721Z"
   },
   {
    "duration": 206,
    "start_time": "2022-06-12T06:25:19.891Z"
   },
   {
    "duration": 216,
    "start_time": "2022-06-12T06:25:20.099Z"
   },
   {
    "duration": 3,
    "start_time": "2022-06-12T06:25:20.317Z"
   },
   {
    "duration": 28,
    "start_time": "2022-06-12T06:25:20.327Z"
   },
   {
    "duration": 211,
    "start_time": "2022-06-12T06:25:20.357Z"
   },
   {
    "duration": 4,
    "start_time": "2022-06-12T06:25:20.570Z"
   },
   {
    "duration": 34,
    "start_time": "2022-06-12T06:25:20.575Z"
   },
   {
    "duration": 57,
    "start_time": "2022-06-12T06:25:20.611Z"
   },
   {
    "duration": 32,
    "start_time": "2022-06-12T06:25:20.670Z"
   },
   {
    "duration": 17,
    "start_time": "2022-06-12T06:25:20.704Z"
   },
   {
    "duration": 20,
    "start_time": "2022-06-12T06:25:20.722Z"
   },
   {
    "duration": 38,
    "start_time": "2022-06-12T06:25:20.744Z"
   },
   {
    "duration": 450,
    "start_time": "2022-06-12T06:25:20.783Z"
   },
   {
    "duration": 3850,
    "start_time": "2022-06-12T06:25:21.236Z"
   },
   {
    "duration": 81881,
    "start_time": "2022-06-12T06:25:25.087Z"
   },
   {
    "duration": 0,
    "start_time": "2022-06-12T06:26:46.970Z"
   },
   {
    "duration": 0,
    "start_time": "2022-06-12T06:26:46.971Z"
   },
   {
    "duration": 0,
    "start_time": "2022-06-12T06:26:46.972Z"
   },
   {
    "duration": 4,
    "start_time": "2022-06-12T06:26:50.478Z"
   },
   {
    "duration": 449,
    "start_time": "2022-06-12T06:26:52.187Z"
   },
   {
    "duration": 89,
    "start_time": "2022-06-12T06:26:52.640Z"
   },
   {
    "duration": 20,
    "start_time": "2022-06-12T06:27:09.759Z"
   },
   {
    "duration": 6,
    "start_time": "2022-06-12T06:28:18.879Z"
   },
   {
    "duration": 4,
    "start_time": "2022-06-12T06:34:51.661Z"
   },
   {
    "duration": 1342,
    "start_time": "2022-06-14T01:24:01.011Z"
   },
   {
    "duration": 2830,
    "start_time": "2022-06-14T01:24:02.929Z"
   },
   {
    "duration": 4,
    "start_time": "2022-06-14T01:24:31.023Z"
   },
   {
    "duration": 6,
    "start_time": "2022-06-14T01:24:32.733Z"
   },
   {
    "duration": 6,
    "start_time": "2022-06-14T01:24:32.990Z"
   },
   {
    "duration": 2,
    "start_time": "2022-06-14T01:24:37.018Z"
   },
   {
    "duration": 4,
    "start_time": "2022-06-14T01:24:38.792Z"
   },
   {
    "duration": 4,
    "start_time": "2022-06-14T01:26:20.200Z"
   },
   {
    "duration": 664,
    "start_time": "2022-06-14T01:26:20.205Z"
   },
   {
    "duration": 3,
    "start_time": "2022-06-14T01:26:20.871Z"
   },
   {
    "duration": 10,
    "start_time": "2022-06-14T01:26:20.876Z"
   },
   {
    "duration": 7,
    "start_time": "2022-06-14T01:26:20.887Z"
   },
   {
    "duration": 3,
    "start_time": "2022-06-14T01:26:20.895Z"
   },
   {
    "duration": 6,
    "start_time": "2022-06-14T01:26:20.900Z"
   },
   {
    "duration": 181,
    "start_time": "2022-06-14T01:26:20.908Z"
   },
   {
    "duration": 196,
    "start_time": "2022-06-14T01:26:21.091Z"
   },
   {
    "duration": 198,
    "start_time": "2022-06-14T01:26:21.288Z"
   },
   {
    "duration": 4,
    "start_time": "2022-06-14T01:26:21.488Z"
   },
   {
    "duration": 27,
    "start_time": "2022-06-14T01:26:21.493Z"
   },
   {
    "duration": 156,
    "start_time": "2022-06-14T01:26:21.522Z"
   },
   {
    "duration": 4,
    "start_time": "2022-06-14T01:26:21.679Z"
   },
   {
    "duration": 4,
    "start_time": "2022-06-14T01:29:21.833Z"
   },
   {
    "duration": 4,
    "start_time": "2022-06-14T01:29:24.240Z"
   },
   {
    "duration": 20,
    "start_time": "2022-06-14T01:29:26.737Z"
   },
   {
    "duration": 88,
    "start_time": "2022-06-14T01:29:27.232Z"
   },
   {
    "duration": 5,
    "start_time": "2022-06-14T01:29:30.902Z"
   },
   {
    "duration": 4,
    "start_time": "2022-06-14T01:29:35.726Z"
   },
   {
    "duration": 18,
    "start_time": "2022-06-14T01:29:37.178Z"
   },
   {
    "duration": 281,
    "start_time": "2022-06-14T01:29:39.181Z"
   },
   {
    "duration": 225,
    "start_time": "2022-06-14T01:29:49.627Z"
   },
   {
    "duration": 288,
    "start_time": "2022-06-14T01:29:53.669Z"
   },
   {
    "duration": 3645,
    "start_time": "2022-06-14T01:29:57.185Z"
   },
   {
    "duration": 4,
    "start_time": "2022-06-14T01:31:47.862Z"
   },
   {
    "duration": 4,
    "start_time": "2022-06-14T01:31:59.025Z"
   },
   {
    "duration": 135,
    "start_time": "2022-06-14T01:32:03.326Z"
   },
   {
    "duration": 3626,
    "start_time": "2022-06-14T01:32:05.937Z"
   },
   {
    "duration": 4,
    "start_time": "2022-06-14T01:37:01.714Z"
   },
   {
    "duration": 3,
    "start_time": "2022-06-14T01:37:10.483Z"
   },
   {
    "duration": 126,
    "start_time": "2022-06-14T01:37:11.636Z"
   },
   {
    "duration": 3574,
    "start_time": "2022-06-14T01:37:17.224Z"
   },
   {
    "duration": 4,
    "start_time": "2022-06-14T01:38:06.662Z"
   },
   {
    "duration": 710,
    "start_time": "2022-06-14T01:38:06.669Z"
   },
   {
    "duration": 3,
    "start_time": "2022-06-14T01:38:07.381Z"
   },
   {
    "duration": 8,
    "start_time": "2022-06-14T01:38:07.386Z"
   },
   {
    "duration": 5,
    "start_time": "2022-06-14T01:38:07.396Z"
   },
   {
    "duration": 3,
    "start_time": "2022-06-14T01:38:07.403Z"
   },
   {
    "duration": 8,
    "start_time": "2022-06-14T01:38:07.407Z"
   },
   {
    "duration": 177,
    "start_time": "2022-06-14T01:38:07.416Z"
   },
   {
    "duration": 204,
    "start_time": "2022-06-14T01:38:07.594Z"
   },
   {
    "duration": 203,
    "start_time": "2022-06-14T01:38:07.799Z"
   },
   {
    "duration": 3,
    "start_time": "2022-06-14T01:38:08.004Z"
   },
   {
    "duration": 16,
    "start_time": "2022-06-14T01:38:08.009Z"
   },
   {
    "duration": 187,
    "start_time": "2022-06-14T01:38:08.026Z"
   },
   {
    "duration": 4,
    "start_time": "2022-06-14T01:38:08.214Z"
   },
   {
    "duration": 6,
    "start_time": "2022-06-14T01:38:08.220Z"
   },
   {
    "duration": 29,
    "start_time": "2022-06-14T01:38:08.228Z"
   },
   {
    "duration": 19,
    "start_time": "2022-06-14T01:38:08.258Z"
   },
   {
    "duration": 5,
    "start_time": "2022-06-14T01:38:08.279Z"
   },
   {
    "duration": 5,
    "start_time": "2022-06-14T01:38:08.286Z"
   },
   {
    "duration": 20,
    "start_time": "2022-06-14T01:38:08.292Z"
   },
   {
    "duration": 440,
    "start_time": "2022-06-14T01:38:08.314Z"
   },
   {
    "duration": 4,
    "start_time": "2022-06-14T01:38:36.768Z"
   },
   {
    "duration": 4,
    "start_time": "2022-06-14T01:38:42.522Z"
   },
   {
    "duration": 622,
    "start_time": "2022-06-14T01:38:42.528Z"
   },
   {
    "duration": 3,
    "start_time": "2022-06-14T01:38:43.152Z"
   },
   {
    "duration": 8,
    "start_time": "2022-06-14T01:38:43.156Z"
   },
   {
    "duration": 7,
    "start_time": "2022-06-14T01:38:43.165Z"
   },
   {
    "duration": 6,
    "start_time": "2022-06-14T01:38:43.173Z"
   },
   {
    "duration": 6,
    "start_time": "2022-06-14T01:38:43.180Z"
   },
   {
    "duration": 166,
    "start_time": "2022-06-14T01:38:43.188Z"
   },
   {
    "duration": 195,
    "start_time": "2022-06-14T01:38:43.357Z"
   },
   {
    "duration": 199,
    "start_time": "2022-06-14T01:38:43.553Z"
   },
   {
    "duration": 4,
    "start_time": "2022-06-14T01:38:43.753Z"
   },
   {
    "duration": 23,
    "start_time": "2022-06-14T01:38:43.758Z"
   },
   {
    "duration": 161,
    "start_time": "2022-06-14T01:38:43.783Z"
   },
   {
    "duration": 7,
    "start_time": "2022-06-14T01:38:43.945Z"
   },
   {
    "duration": 6,
    "start_time": "2022-06-14T01:38:43.954Z"
   },
   {
    "duration": 25,
    "start_time": "2022-06-14T01:38:43.961Z"
   },
   {
    "duration": 20,
    "start_time": "2022-06-14T01:38:43.988Z"
   },
   {
    "duration": 6,
    "start_time": "2022-06-14T01:38:44.009Z"
   },
   {
    "duration": 6,
    "start_time": "2022-06-14T01:38:44.016Z"
   },
   {
    "duration": 34,
    "start_time": "2022-06-14T01:38:44.023Z"
   },
   {
    "duration": 301,
    "start_time": "2022-06-14T01:38:44.058Z"
   },
   {
    "duration": 4,
    "start_time": "2022-06-14T01:41:08.359Z"
   },
   {
    "duration": 3,
    "start_time": "2022-06-14T01:41:29.181Z"
   },
   {
    "duration": 3,
    "start_time": "2022-06-14T01:41:38.381Z"
   },
   {
    "duration": 7,
    "start_time": "2022-06-14T01:41:43.173Z"
   },
   {
    "duration": 3,
    "start_time": "2022-06-14T01:41:52.423Z"
   },
   {
    "duration": 4,
    "start_time": "2022-06-14T01:41:52.864Z"
   },
   {
    "duration": 6,
    "start_time": "2022-06-14T01:41:53.616Z"
   },
   {
    "duration": 2,
    "start_time": "2022-06-14T01:42:00.686Z"
   },
   {
    "duration": 3,
    "start_time": "2022-06-14T01:42:01.031Z"
   },
   {
    "duration": 7,
    "start_time": "2022-06-14T01:42:01.482Z"
   },
   {
    "duration": 2,
    "start_time": "2022-06-14T01:42:07.550Z"
   },
   {
    "duration": 100,
    "start_time": "2022-06-14T01:42:07.807Z"
   },
   {
    "duration": 7,
    "start_time": "2022-06-14T01:42:08.804Z"
   },
   {
    "duration": 3,
    "start_time": "2022-06-14T01:42:15.817Z"
   },
   {
    "duration": 4,
    "start_time": "2022-06-14T01:42:16.243Z"
   },
   {
    "duration": 6,
    "start_time": "2022-06-14T01:42:16.729Z"
   },
   {
    "duration": 3,
    "start_time": "2022-06-14T01:42:23.862Z"
   },
   {
    "duration": 4,
    "start_time": "2022-06-14T01:42:24.129Z"
   },
   {
    "duration": 6,
    "start_time": "2022-06-14T01:42:24.464Z"
   },
   {
    "duration": 2,
    "start_time": "2022-06-14T01:42:31.671Z"
   },
   {
    "duration": 3,
    "start_time": "2022-06-14T01:42:31.895Z"
   },
   {
    "duration": 6,
    "start_time": "2022-06-14T01:42:32.371Z"
   },
   {
    "duration": 3,
    "start_time": "2022-06-14T01:42:47.626Z"
   },
   {
    "duration": 4,
    "start_time": "2022-06-14T01:42:48.532Z"
   },
   {
    "duration": 6,
    "start_time": "2022-06-14T01:42:48.885Z"
   },
   {
    "duration": 3,
    "start_time": "2022-06-14T01:42:57.463Z"
   },
   {
    "duration": 4,
    "start_time": "2022-06-14T01:42:57.691Z"
   },
   {
    "duration": 7,
    "start_time": "2022-06-14T01:42:58.117Z"
   },
   {
    "duration": 4,
    "start_time": "2022-06-14T01:43:08.222Z"
   },
   {
    "duration": 140,
    "start_time": "2022-06-14T01:43:30.220Z"
   },
   {
    "duration": 3,
    "start_time": "2022-06-14T08:45:02.089Z"
   },
   {
    "duration": 656,
    "start_time": "2022-06-14T08:45:02.094Z"
   },
   {
    "duration": 3,
    "start_time": "2022-06-14T08:45:02.752Z"
   },
   {
    "duration": 14,
    "start_time": "2022-06-14T08:45:02.756Z"
   },
   {
    "duration": 23,
    "start_time": "2022-06-14T08:45:02.772Z"
   },
   {
    "duration": 84,
    "start_time": "2022-06-14T08:45:02.797Z"
   },
   {
    "duration": 41,
    "start_time": "2022-06-14T08:45:02.883Z"
   },
   {
    "duration": 176,
    "start_time": "2022-06-14T08:45:02.926Z"
   },
   {
    "duration": 108,
    "start_time": "2022-06-14T08:47:49.881Z"
   },
   {
    "duration": 11,
    "start_time": "2022-06-14T08:47:55.523Z"
   },
   {
    "duration": 15,
    "start_time": "2022-06-14T08:48:06.011Z"
   },
   {
    "duration": 13,
    "start_time": "2022-06-14T08:48:10.883Z"
   },
   {
    "duration": 224,
    "start_time": "2022-06-14T08:48:32.662Z"
   },
   {
    "duration": 10,
    "start_time": "2022-06-14T08:48:40.969Z"
   },
   {
    "duration": 14,
    "start_time": "2022-06-14T08:48:56.588Z"
   },
   {
    "duration": 5,
    "start_time": "2022-06-14T08:49:16.379Z"
   },
   {
    "duration": 11,
    "start_time": "2022-06-14T08:50:22.924Z"
   },
   {
    "duration": 107961,
    "start_time": "2022-06-14T08:50:32.323Z"
   },
   {
    "duration": 157,
    "start_time": "2022-06-14T08:52:27.039Z"
   },
   {
    "duration": 219,
    "start_time": "2022-06-14T08:52:42.238Z"
   },
   {
    "duration": 470,
    "start_time": "2022-06-14T08:53:07.049Z"
   },
   {
    "duration": 477,
    "start_time": "2022-06-14T08:53:24.107Z"
   },
   {
    "duration": 228,
    "start_time": "2022-06-14T08:54:20.011Z"
   },
   {
    "duration": 588,
    "start_time": "2022-06-14T08:54:41.952Z"
   },
   {
    "duration": 473,
    "start_time": "2022-06-14T08:55:01.651Z"
   },
   {
    "duration": 559,
    "start_time": "2022-06-14T08:55:08.603Z"
   },
   {
    "duration": 659,
    "start_time": "2022-06-14T08:55:14.898Z"
   },
   {
    "duration": 611,
    "start_time": "2022-06-14T08:55:47.827Z"
   },
   {
    "duration": 656,
    "start_time": "2022-06-14T08:57:00.927Z"
   },
   {
    "duration": 576,
    "start_time": "2022-06-14T08:57:29.204Z"
   },
   {
    "duration": 608,
    "start_time": "2022-06-14T08:57:37.551Z"
   },
   {
    "duration": 1967,
    "start_time": "2022-06-14T08:57:58.479Z"
   },
   {
    "duration": 1197,
    "start_time": "2022-06-14T08:58:12.345Z"
   },
   {
    "duration": 1820,
    "start_time": "2022-06-14T08:58:24.493Z"
   },
   {
    "duration": 1719,
    "start_time": "2022-06-14T08:58:43.407Z"
   },
   {
    "duration": 1807,
    "start_time": "2022-06-14T08:59:14.435Z"
   },
   {
    "duration": 1864,
    "start_time": "2022-06-14T09:01:32.470Z"
   },
   {
    "duration": 1881,
    "start_time": "2022-06-14T09:02:01.182Z"
   },
   {
    "duration": 1849,
    "start_time": "2022-06-14T09:02:32.338Z"
   },
   {
    "duration": 3538,
    "start_time": "2022-06-14T09:02:47.233Z"
   },
   {
    "duration": 337,
    "start_time": "2022-06-14T09:09:28.850Z"
   },
   {
    "duration": 5,
    "start_time": "2022-06-14T09:09:39.352Z"
   },
   {
    "duration": 680,
    "start_time": "2022-06-14T09:09:39.359Z"
   },
   {
    "duration": 4,
    "start_time": "2022-06-14T09:09:40.041Z"
   },
   {
    "duration": 13,
    "start_time": "2022-06-14T09:09:40.051Z"
   },
   {
    "duration": 23,
    "start_time": "2022-06-14T09:09:40.066Z"
   },
   {
    "duration": 21,
    "start_time": "2022-06-14T09:09:40.091Z"
   },
   {
    "duration": 25,
    "start_time": "2022-06-14T09:09:40.114Z"
   },
   {
    "duration": 1776,
    "start_time": "2022-06-14T09:09:40.141Z"
   },
   {
    "duration": 1893,
    "start_time": "2022-06-14T09:09:41.918Z"
   },
   {
    "duration": 221,
    "start_time": "2022-06-14T09:09:43.813Z"
   },
   {
    "duration": 220,
    "start_time": "2022-06-14T09:09:44.037Z"
   },
   {
    "duration": 5,
    "start_time": "2022-06-14T09:09:44.258Z"
   },
   {
    "duration": 16,
    "start_time": "2022-06-14T09:09:44.264Z"
   },
   {
    "duration": 180,
    "start_time": "2022-06-14T09:09:44.282Z"
   },
   {
    "duration": 298,
    "start_time": "2022-06-14T09:09:44.464Z"
   },
   {
    "duration": 484,
    "start_time": "2022-06-14T09:12:45.686Z"
   },
   {
    "duration": 496,
    "start_time": "2022-06-14T09:12:53.927Z"
   },
   {
    "duration": 2410,
    "start_time": "2022-06-14T09:14:56.620Z"
   },
   {
    "duration": 1313,
    "start_time": "2022-06-14T09:15:15.981Z"
   },
   {
    "duration": 1249,
    "start_time": "2022-06-14T09:15:21.617Z"
   },
   {
    "duration": 4,
    "start_time": "2022-06-14T09:39:14.032Z"
   },
   {
    "duration": 693,
    "start_time": "2022-06-14T09:39:14.038Z"
   },
   {
    "duration": 3,
    "start_time": "2022-06-14T09:39:14.733Z"
   },
   {
    "duration": 15,
    "start_time": "2022-06-14T09:39:14.738Z"
   },
   {
    "duration": 9,
    "start_time": "2022-06-14T09:39:14.755Z"
   },
   {
    "duration": 4,
    "start_time": "2022-06-14T09:39:14.766Z"
   },
   {
    "duration": 7,
    "start_time": "2022-06-14T09:39:14.772Z"
   },
   {
    "duration": 3507,
    "start_time": "2022-06-14T09:39:14.781Z"
   },
   {
    "duration": 215,
    "start_time": "2022-06-14T09:39:18.290Z"
   },
   {
    "duration": 232,
    "start_time": "2022-06-14T09:39:18.507Z"
   },
   {
    "duration": 1243,
    "start_time": "2022-06-14T09:39:18.741Z"
   },
   {
    "duration": 1251,
    "start_time": "2022-06-14T09:39:19.986Z"
   },
   {
    "duration": 3,
    "start_time": "2022-06-14T09:39:21.239Z"
   },
   {
    "duration": 16,
    "start_time": "2022-06-14T09:39:21.251Z"
   },
   {
    "duration": 3,
    "start_time": "2022-06-14T09:39:21.269Z"
   },
   {
    "duration": 7,
    "start_time": "2022-06-14T09:39:21.273Z"
   },
   {
    "duration": 28,
    "start_time": "2022-06-14T09:39:21.281Z"
   },
   {
    "duration": 21,
    "start_time": "2022-06-14T09:39:21.311Z"
   },
   {
    "duration": 21,
    "start_time": "2022-06-14T09:39:21.334Z"
   },
   {
    "duration": 8,
    "start_time": "2022-06-14T09:39:21.357Z"
   },
   {
    "duration": 17,
    "start_time": "2022-06-14T09:39:21.366Z"
   },
   {
    "duration": 268,
    "start_time": "2022-06-14T09:39:21.385Z"
   },
   {
    "duration": 4017,
    "start_time": "2022-06-14T09:39:21.654Z"
   },
   {
    "duration": 984245,
    "start_time": "2022-06-14T09:39:25.673Z"
   },
   {
    "duration": 0,
    "start_time": "2022-06-14T09:55:49.920Z"
   },
   {
    "duration": 60065,
    "start_time": "2022-06-14T09:56:17.122Z"
   },
   {
    "duration": 59719,
    "start_time": "2022-06-14T09:58:17.246Z"
   },
   {
    "duration": 4,
    "start_time": "2022-06-14T10:00:01.445Z"
   },
   {
    "duration": 12,
    "start_time": "2022-06-14T10:00:02.295Z"
   },
   {
    "duration": 288,
    "start_time": "2022-06-14T10:00:03.465Z"
   },
   {
    "duration": 4106,
    "start_time": "2022-06-14T10:00:07.141Z"
   },
   {
    "duration": 4,
    "start_time": "2022-06-14T10:00:30.719Z"
   },
   {
    "duration": 4,
    "start_time": "2022-06-14T10:00:31.259Z"
   },
   {
    "duration": 257,
    "start_time": "2022-06-14T10:00:32.196Z"
   },
   {
    "duration": 3807,
    "start_time": "2022-06-14T10:00:38.757Z"
   },
   {
    "duration": 59555,
    "start_time": "2022-06-14T10:01:15.532Z"
   },
   {
    "duration": 3,
    "start_time": "2022-06-14T10:02:32.796Z"
   },
   {
    "duration": 22,
    "start_time": "2022-06-14T10:02:33.844Z"
   },
   {
    "duration": 13182,
    "start_time": "2022-06-14T10:02:37.390Z"
   },
   {
    "duration": 9,
    "start_time": "2022-06-14T10:05:01.032Z"
   },
   {
    "duration": 11,
    "start_time": "2022-06-14T10:05:03.963Z"
   },
   {
    "duration": 7303,
    "start_time": "2022-06-14T10:05:05.283Z"
   },
   {
    "duration": 1212,
    "start_time": "2022-06-14T10:09:34.307Z"
   },
   {
    "duration": 689,
    "start_time": "2022-06-14T10:09:35.520Z"
   },
   {
    "duration": 3,
    "start_time": "2022-06-14T10:09:36.211Z"
   },
   {
    "duration": 26,
    "start_time": "2022-06-14T10:09:36.216Z"
   },
   {
    "duration": 24,
    "start_time": "2022-06-14T10:09:36.244Z"
   },
   {
    "duration": 37,
    "start_time": "2022-06-14T10:09:36.270Z"
   },
   {
    "duration": 29,
    "start_time": "2022-06-14T10:09:36.309Z"
   },
   {
    "duration": 1971,
    "start_time": "2022-06-14T10:09:36.340Z"
   },
   {
    "duration": 221,
    "start_time": "2022-06-14T10:09:38.313Z"
   },
   {
    "duration": 325,
    "start_time": "2022-06-14T10:09:38.536Z"
   },
   {
    "duration": 1259,
    "start_time": "2022-06-14T10:09:38.863Z"
   },
   {
    "duration": 1358,
    "start_time": "2022-06-14T10:09:40.125Z"
   },
   {
    "duration": 4,
    "start_time": "2022-06-14T10:09:41.485Z"
   },
   {
    "duration": 20,
    "start_time": "2022-06-14T10:09:41.490Z"
   },
   {
    "duration": 3,
    "start_time": "2022-06-14T10:09:41.512Z"
   },
   {
    "duration": 6,
    "start_time": "2022-06-14T10:09:41.517Z"
   },
   {
    "duration": 43,
    "start_time": "2022-06-14T10:09:41.524Z"
   },
   {
    "duration": 23,
    "start_time": "2022-06-14T10:09:41.569Z"
   },
   {
    "duration": 4,
    "start_time": "2022-06-14T10:09:41.593Z"
   },
   {
    "duration": 6,
    "start_time": "2022-06-14T10:09:41.598Z"
   },
   {
    "duration": 21,
    "start_time": "2022-06-14T10:09:41.605Z"
   },
   {
    "duration": 329,
    "start_time": "2022-06-14T10:09:41.628Z"
   },
   {
    "duration": 4149,
    "start_time": "2022-06-14T10:09:41.960Z"
   },
   {
    "duration": 60867,
    "start_time": "2022-06-14T10:09:46.111Z"
   },
   {
    "duration": 3,
    "start_time": "2022-06-14T10:10:46.980Z"
   },
   {
    "duration": 9,
    "start_time": "2022-06-14T10:10:46.984Z"
   },
   {
    "duration": 258,
    "start_time": "2022-06-14T10:10:46.995Z"
   },
   {
    "duration": 4150,
    "start_time": "2022-06-14T10:10:47.257Z"
   },
   {
    "duration": 61615,
    "start_time": "2022-06-14T10:10:51.409Z"
   },
   {
    "duration": 3,
    "start_time": "2022-06-14T10:11:53.026Z"
   },
   {
    "duration": 13162,
    "start_time": "2022-06-14T10:11:53.030Z"
   },
   {
    "duration": 12,
    "start_time": "2022-06-14T10:12:06.194Z"
   },
   {
    "duration": 7446,
    "start_time": "2022-06-14T10:12:06.207Z"
   },
   {
    "duration": 1792,
    "start_time": "2022-06-14T20:18:17.944Z"
   },
   {
    "duration": 3233,
    "start_time": "2022-06-14T20:18:19.738Z"
   },
   {
    "duration": 5,
    "start_time": "2022-06-14T20:18:22.974Z"
   },
   {
    "duration": 20,
    "start_time": "2022-06-14T20:18:22.981Z"
   },
   {
    "duration": 11,
    "start_time": "2022-06-14T20:18:23.003Z"
   },
   {
    "duration": 3,
    "start_time": "2022-06-14T20:18:23.015Z"
   },
   {
    "duration": 14,
    "start_time": "2022-06-14T20:18:23.020Z"
   },
   {
    "duration": 2168,
    "start_time": "2022-06-14T20:18:23.036Z"
   },
   {
    "duration": 255,
    "start_time": "2022-06-14T20:18:25.207Z"
   },
   {
    "duration": 351,
    "start_time": "2022-06-14T20:18:25.464Z"
   },
   {
    "duration": 1353,
    "start_time": "2022-06-14T20:18:25.817Z"
   },
   {
    "duration": 1653,
    "start_time": "2022-06-14T20:18:27.172Z"
   },
   {
    "duration": 8,
    "start_time": "2022-06-14T20:18:28.826Z"
   },
   {
    "duration": 35,
    "start_time": "2022-06-14T20:18:28.838Z"
   },
   {
    "duration": 35,
    "start_time": "2022-06-14T20:18:28.874Z"
   },
   {
    "duration": 40,
    "start_time": "2022-06-14T20:18:28.912Z"
   },
   {
    "duration": 82,
    "start_time": "2022-06-14T20:18:28.954Z"
   },
   {
    "duration": 35,
    "start_time": "2022-06-14T20:18:29.039Z"
   },
   {
    "duration": 5,
    "start_time": "2022-06-14T20:18:35.736Z"
   },
   {
    "duration": 3,
    "start_time": "2022-06-14T20:18:39.336Z"
   },
   {
    "duration": 20,
    "start_time": "2022-06-14T20:18:41.236Z"
   },
   {
    "duration": 453,
    "start_time": "2022-06-14T20:18:45.334Z"
   },
   {
    "duration": 4,
    "start_time": "2022-06-14T20:20:12.463Z"
   },
   {
    "duration": 221,
    "start_time": "2022-06-14T20:20:13.849Z"
   },
   {
    "duration": 4,
    "start_time": "2022-06-14T20:20:16.275Z"
   },
   {
    "duration": 246,
    "start_time": "2022-06-14T20:20:17.121Z"
   },
   {
    "duration": 4,
    "start_time": "2022-06-14T20:20:51.702Z"
   },
   {
    "duration": 245,
    "start_time": "2022-06-14T20:20:52.226Z"
   },
   {
    "duration": 15,
    "start_time": "2022-06-14T20:21:44.223Z"
   },
   {
    "duration": 1404,
    "start_time": "2022-06-15T09:37:58.891Z"
   },
   {
    "duration": 1799,
    "start_time": "2022-06-15T09:38:00.297Z"
   },
   {
    "duration": 3,
    "start_time": "2022-06-15T09:38:02.098Z"
   },
   {
    "duration": 14,
    "start_time": "2022-06-15T09:38:02.102Z"
   },
   {
    "duration": 9,
    "start_time": "2022-06-15T09:38:02.117Z"
   },
   {
    "duration": 8,
    "start_time": "2022-06-15T09:38:02.128Z"
   },
   {
    "duration": 7,
    "start_time": "2022-06-15T09:38:02.138Z"
   },
   {
    "duration": 1874,
    "start_time": "2022-06-15T09:38:02.146Z"
   },
   {
    "duration": 223,
    "start_time": "2022-06-15T09:38:04.022Z"
   },
   {
    "duration": 300,
    "start_time": "2022-06-15T09:38:04.247Z"
   },
   {
    "duration": 1137,
    "start_time": "2022-06-15T09:38:04.549Z"
   },
   {
    "duration": 1231,
    "start_time": "2022-06-15T09:38:05.694Z"
   },
   {
    "duration": 3,
    "start_time": "2022-06-15T09:38:06.927Z"
   },
   {
    "duration": 13,
    "start_time": "2022-06-15T09:38:06.933Z"
   },
   {
    "duration": 4,
    "start_time": "2022-06-15T09:38:06.948Z"
   },
   {
    "duration": 3,
    "start_time": "2022-06-15T09:38:13.744Z"
   },
   {
    "duration": 5,
    "start_time": "2022-06-15T09:38:16.398Z"
   },
   {
    "duration": 4,
    "start_time": "2022-06-15T09:38:52.964Z"
   },
   {
    "duration": 2,
    "start_time": "2022-06-15T09:38:56.921Z"
   },
   {
    "duration": 22,
    "start_time": "2022-06-15T09:38:58.540Z"
   },
   {
    "duration": 25,
    "start_time": "2022-06-15T09:38:58.745Z"
   },
   {
    "duration": 3,
    "start_time": "2022-06-15T09:39:02.233Z"
   },
   {
    "duration": 3,
    "start_time": "2022-06-15T09:39:06.119Z"
   },
   {
    "duration": 16,
    "start_time": "2022-06-15T09:39:06.752Z"
   },
   {
    "duration": 305,
    "start_time": "2022-06-15T09:39:09.495Z"
   },
   {
    "duration": 3434,
    "start_time": "2022-06-15T09:39:12.198Z"
   },
   {
    "duration": 94,
    "start_time": "2022-06-15T09:42:44.744Z"
   },
   {
    "duration": 3,
    "start_time": "2022-06-15T09:42:48.288Z"
   },
   {
    "duration": 674,
    "start_time": "2022-06-15T09:42:48.293Z"
   },
   {
    "duration": 3,
    "start_time": "2022-06-15T09:42:48.969Z"
   },
   {
    "duration": 9,
    "start_time": "2022-06-15T09:42:48.973Z"
   },
   {
    "duration": 11,
    "start_time": "2022-06-15T09:42:48.984Z"
   },
   {
    "duration": 3,
    "start_time": "2022-06-15T09:42:48.996Z"
   },
   {
    "duration": 7,
    "start_time": "2022-06-15T09:42:49.000Z"
   },
   {
    "duration": 1994,
    "start_time": "2022-06-15T09:42:49.008Z"
   },
   {
    "duration": 207,
    "start_time": "2022-06-15T09:42:51.003Z"
   },
   {
    "duration": 200,
    "start_time": "2022-06-15T09:42:51.212Z"
   },
   {
    "duration": 1263,
    "start_time": "2022-06-15T09:42:51.413Z"
   },
   {
    "duration": 1389,
    "start_time": "2022-06-15T09:42:52.678Z"
   },
   {
    "duration": 3,
    "start_time": "2022-06-15T09:42:54.070Z"
   },
   {
    "duration": 26,
    "start_time": "2022-06-15T09:42:54.074Z"
   },
   {
    "duration": 4,
    "start_time": "2022-06-15T09:42:54.101Z"
   },
   {
    "duration": 5,
    "start_time": "2022-06-15T09:42:54.107Z"
   },
   {
    "duration": 23,
    "start_time": "2022-06-15T09:42:54.113Z"
   },
   {
    "duration": 20,
    "start_time": "2022-06-15T09:42:54.138Z"
   },
   {
    "duration": 6,
    "start_time": "2022-06-15T09:42:54.160Z"
   },
   {
    "duration": 4,
    "start_time": "2022-06-15T09:42:54.195Z"
   },
   {
    "duration": 20,
    "start_time": "2022-06-15T09:42:54.200Z"
   },
   {
    "duration": 381,
    "start_time": "2022-06-15T09:42:54.221Z"
   },
   {
    "duration": 3685,
    "start_time": "2022-06-15T09:42:54.604Z"
   },
   {
    "duration": 55153,
    "start_time": "2022-06-15T09:42:58.294Z"
   },
   {
    "duration": 3,
    "start_time": "2022-06-15T09:43:53.448Z"
   },
   {
    "duration": 7,
    "start_time": "2022-06-15T09:43:53.453Z"
   },
   {
    "duration": 4,
    "start_time": "2022-06-15T09:43:58.924Z"
   },
   {
    "duration": 13,
    "start_time": "2022-06-15T09:44:27.342Z"
   },
   {
    "duration": 8,
    "start_time": "2022-06-15T09:44:28.461Z"
   },
   {
    "duration": 5,
    "start_time": "2022-06-15T09:44:33.956Z"
   },
   {
    "duration": 14000,
    "start_time": "2022-06-15T09:44:34.597Z"
   },
   {
    "duration": 10,
    "start_time": "2022-06-15T09:44:52.153Z"
   },
   {
    "duration": 8,
    "start_time": "2022-06-15T09:44:52.947Z"
   },
   {
    "duration": 20,
    "start_time": "2022-06-15T09:45:05.188Z"
   },
   {
    "duration": 12,
    "start_time": "2022-06-15T09:46:12.887Z"
   },
   {
    "duration": 19,
    "start_time": "2022-06-15T09:46:16.352Z"
   },
   {
    "duration": 5,
    "start_time": "2022-06-15T09:47:32.589Z"
   },
   {
    "duration": 13931,
    "start_time": "2022-06-15T09:47:33.103Z"
   },
   {
    "duration": 11,
    "start_time": "2022-06-15T09:47:50.350Z"
   },
   {
    "duration": 6737,
    "start_time": "2022-06-15T09:47:51.381Z"
   },
   {
    "duration": 14,
    "start_time": "2022-06-15T09:49:35.743Z"
   },
   {
    "duration": 28,
    "start_time": "2022-06-15T09:49:36.800Z"
   },
   {
    "duration": 21,
    "start_time": "2022-06-15T09:50:03.327Z"
   },
   {
    "duration": 17,
    "start_time": "2022-06-15T09:50:13.981Z"
   },
   {
    "duration": 25,
    "start_time": "2022-06-15T09:50:21.407Z"
   },
   {
    "duration": 24,
    "start_time": "2022-06-15T09:52:51.352Z"
   },
   {
    "duration": 23,
    "start_time": "2022-06-15T09:53:02.342Z"
   },
   {
    "duration": 4,
    "start_time": "2022-06-15T09:53:31.780Z"
   },
   {
    "duration": 12,
    "start_time": "2022-06-15T09:53:37.611Z"
   },
   {
    "duration": 6683,
    "start_time": "2022-06-15T09:53:38.341Z"
   },
   {
    "duration": 3,
    "start_time": "2022-06-15T09:53:59.025Z"
   },
   {
    "duration": 655,
    "start_time": "2022-06-15T09:53:59.037Z"
   },
   {
    "duration": 3,
    "start_time": "2022-06-15T09:53:59.694Z"
   },
   {
    "duration": 8,
    "start_time": "2022-06-15T09:53:59.699Z"
   },
   {
    "duration": 13,
    "start_time": "2022-06-15T09:53:59.709Z"
   },
   {
    "duration": 4,
    "start_time": "2022-06-15T09:53:59.724Z"
   },
   {
    "duration": 6,
    "start_time": "2022-06-15T09:53:59.729Z"
   },
   {
    "duration": 1791,
    "start_time": "2022-06-15T09:53:59.736Z"
   },
   {
    "duration": 195,
    "start_time": "2022-06-15T09:54:01.528Z"
   },
   {
    "duration": 236,
    "start_time": "2022-06-15T09:54:01.724Z"
   },
   {
    "duration": 1256,
    "start_time": "2022-06-15T09:54:01.961Z"
   },
   {
    "duration": 1279,
    "start_time": "2022-06-15T09:54:03.218Z"
   },
   {
    "duration": 4,
    "start_time": "2022-06-15T09:54:04.499Z"
   },
   {
    "duration": 32,
    "start_time": "2022-06-15T09:54:04.504Z"
   },
   {
    "duration": 4,
    "start_time": "2022-06-15T09:54:04.538Z"
   },
   {
    "duration": 6,
    "start_time": "2022-06-15T09:54:04.543Z"
   },
   {
    "duration": 27,
    "start_time": "2022-06-15T09:54:04.550Z"
   },
   {
    "duration": 24,
    "start_time": "2022-06-15T09:54:04.578Z"
   },
   {
    "duration": 3,
    "start_time": "2022-06-15T09:54:04.604Z"
   },
   {
    "duration": 5,
    "start_time": "2022-06-15T09:54:04.609Z"
   },
   {
    "duration": 17,
    "start_time": "2022-06-15T09:54:04.616Z"
   },
   {
    "duration": 466,
    "start_time": "2022-06-15T09:54:04.634Z"
   },
   {
    "duration": 3722,
    "start_time": "2022-06-15T09:54:05.102Z"
   },
   {
    "duration": 55422,
    "start_time": "2022-06-15T09:54:08.826Z"
   },
   {
    "duration": 3,
    "start_time": "2022-06-15T09:55:04.249Z"
   },
   {
    "duration": 8,
    "start_time": "2022-06-15T09:55:04.254Z"
   },
   {
    "duration": 139,
    "start_time": "2022-06-15T09:55:04.264Z"
   },
   {
    "duration": 4899,
    "start_time": "2022-06-15T09:55:04.405Z"
   },
   {
    "duration": 72144,
    "start_time": "2022-06-15T09:55:09.306Z"
   },
   {
    "duration": 4,
    "start_time": "2022-06-15T09:56:21.451Z"
   },
   {
    "duration": 14060,
    "start_time": "2022-06-15T09:56:21.456Z"
   },
   {
    "duration": 10,
    "start_time": "2022-06-15T09:56:35.518Z"
   },
   {
    "duration": 6691,
    "start_time": "2022-06-15T09:56:35.530Z"
   },
   {
    "duration": 10,
    "start_time": "2022-06-15T09:58:19.150Z"
   },
   {
    "duration": 1172,
    "start_time": "2022-06-15T10:00:42.007Z"
   },
   {
    "duration": 590,
    "start_time": "2022-06-15T10:00:43.181Z"
   },
   {
    "duration": 4,
    "start_time": "2022-06-15T10:00:43.773Z"
   },
   {
    "duration": 40,
    "start_time": "2022-06-15T10:00:43.779Z"
   },
   {
    "duration": 16,
    "start_time": "2022-06-15T10:00:43.821Z"
   },
   {
    "duration": 44,
    "start_time": "2022-06-15T10:00:43.838Z"
   },
   {
    "duration": 30,
    "start_time": "2022-06-15T10:00:43.884Z"
   },
   {
    "duration": 1836,
    "start_time": "2022-06-15T10:00:43.916Z"
   },
   {
    "duration": 214,
    "start_time": "2022-06-15T10:00:45.754Z"
   },
   {
    "duration": 310,
    "start_time": "2022-06-15T10:00:45.970Z"
   },
   {
    "duration": 1188,
    "start_time": "2022-06-15T10:00:46.281Z"
   },
   {
    "duration": 1255,
    "start_time": "2022-06-15T10:00:47.471Z"
   },
   {
    "duration": 3,
    "start_time": "2022-06-15T10:00:48.728Z"
   },
   {
    "duration": 16,
    "start_time": "2022-06-15T10:00:48.733Z"
   },
   {
    "duration": 4,
    "start_time": "2022-06-15T10:00:48.751Z"
   },
   {
    "duration": 9,
    "start_time": "2022-06-15T10:00:48.756Z"
   },
   {
    "duration": 37,
    "start_time": "2022-06-15T10:00:48.767Z"
   },
   {
    "duration": 23,
    "start_time": "2022-06-15T10:00:48.806Z"
   },
   {
    "duration": 4,
    "start_time": "2022-06-15T10:00:48.830Z"
   },
   {
    "duration": 6,
    "start_time": "2022-06-15T10:00:48.836Z"
   },
   {
    "duration": 20,
    "start_time": "2022-06-15T10:00:48.843Z"
   },
   {
    "duration": 435,
    "start_time": "2022-06-15T10:00:48.864Z"
   },
   {
    "duration": 3817,
    "start_time": "2022-06-15T10:00:49.301Z"
   },
   {
    "duration": 55747,
    "start_time": "2022-06-15T10:00:53.120Z"
   },
   {
    "duration": 3,
    "start_time": "2022-06-15T10:01:48.868Z"
   },
   {
    "duration": 9,
    "start_time": "2022-06-15T10:01:48.872Z"
   },
   {
    "duration": 416,
    "start_time": "2022-06-15T10:01:48.882Z"
   },
   {
    "duration": 4652,
    "start_time": "2022-06-15T10:01:49.303Z"
   },
   {
    "duration": 72701,
    "start_time": "2022-06-15T10:01:53.957Z"
   },
   {
    "duration": 4,
    "start_time": "2022-06-15T10:03:06.659Z"
   },
   {
    "duration": 14238,
    "start_time": "2022-06-15T10:03:06.665Z"
   },
   {
    "duration": 12,
    "start_time": "2022-06-15T10:03:20.904Z"
   },
   {
    "duration": 6683,
    "start_time": "2022-06-15T10:03:20.918Z"
   },
   {
    "duration": 1694,
    "start_time": "2022-06-15T20:52:32.104Z"
   },
   {
    "duration": 3018,
    "start_time": "2022-06-15T20:52:33.801Z"
   },
   {
    "duration": 7,
    "start_time": "2022-06-15T20:52:36.821Z"
   },
   {
    "duration": 18,
    "start_time": "2022-06-15T20:52:36.830Z"
   },
   {
    "duration": 14,
    "start_time": "2022-06-15T20:52:36.850Z"
   },
   {
    "duration": 9,
    "start_time": "2022-06-15T20:52:36.866Z"
   },
   {
    "duration": 11,
    "start_time": "2022-06-15T20:52:36.877Z"
   },
   {
    "duration": 2167,
    "start_time": "2022-06-15T20:52:36.890Z"
   },
   {
    "duration": 298,
    "start_time": "2022-06-15T20:52:39.059Z"
   },
   {
    "duration": 347,
    "start_time": "2022-06-15T20:52:39.360Z"
   },
   {
    "duration": 1434,
    "start_time": "2022-06-15T20:52:39.709Z"
   },
   {
    "duration": 1549,
    "start_time": "2022-06-15T20:52:41.146Z"
   },
   {
    "duration": 4,
    "start_time": "2022-06-15T20:52:42.697Z"
   },
   {
    "duration": 17,
    "start_time": "2022-06-15T20:52:42.704Z"
   },
   {
    "duration": 5,
    "start_time": "2022-06-15T20:52:42.724Z"
   },
   {
    "duration": 10,
    "start_time": "2022-06-15T20:52:42.731Z"
   },
   {
    "duration": 51,
    "start_time": "2022-06-15T20:52:42.744Z"
   },
   {
    "duration": 27,
    "start_time": "2022-06-15T20:52:42.797Z"
   },
   {
    "duration": 6,
    "start_time": "2022-06-15T20:52:42.826Z"
   },
   {
    "duration": 7,
    "start_time": "2022-06-15T20:52:42.834Z"
   },
   {
    "duration": 51,
    "start_time": "2022-06-15T20:52:42.843Z"
   },
   {
    "duration": 130,
    "start_time": "2022-06-15T20:52:42.896Z"
   },
   {
    "duration": 323,
    "start_time": "2022-06-15T20:52:48.772Z"
   },
   {
    "duration": 207,
    "start_time": "2022-06-15T20:53:01.688Z"
   },
   {
    "duration": 4185,
    "start_time": "2022-06-15T20:53:10.862Z"
   },
   {
    "duration": 4,
    "start_time": "2022-06-15T20:53:22.479Z"
   },
   {
    "duration": 6,
    "start_time": "2022-06-15T20:53:23.455Z"
   },
   {
    "duration": 226,
    "start_time": "2022-06-15T20:53:34.979Z"
   },
   {
    "duration": 5547,
    "start_time": "2022-06-15T20:53:39.530Z"
   },
   {
    "duration": 5,
    "start_time": "2022-06-15T20:53:51.220Z"
   },
   {
    "duration": 750,
    "start_time": "2022-06-15T20:53:51.760Z"
   },
   {
    "duration": 13,
    "start_time": "2022-06-15T20:54:24.474Z"
   },
   {
    "duration": 5,
    "start_time": "2022-06-15T20:54:38.373Z"
   },
   {
    "duration": 12,
    "start_time": "2022-06-15T20:55:45.718Z"
   },
   {
    "duration": 68,
    "start_time": "2022-06-15T20:56:18.039Z"
   },
   {
    "duration": 10,
    "start_time": "2022-06-15T20:57:41.574Z"
   },
   {
    "duration": 8,
    "start_time": "2022-06-15T20:57:42.484Z"
   },
   {
    "duration": 13,
    "start_time": "2022-06-15T20:58:56.331Z"
   },
   {
    "duration": 9,
    "start_time": "2022-06-15T20:58:56.646Z"
   },
   {
    "duration": 1280,
    "start_time": "2022-06-15T20:59:06.987Z"
   },
   {
    "duration": 666,
    "start_time": "2022-06-15T20:59:08.269Z"
   },
   {
    "duration": 4,
    "start_time": "2022-06-15T20:59:08.938Z"
   },
   {
    "duration": 40,
    "start_time": "2022-06-15T20:59:08.945Z"
   },
   {
    "duration": 14,
    "start_time": "2022-06-15T20:59:08.988Z"
   },
   {
    "duration": 3,
    "start_time": "2022-06-15T20:59:09.004Z"
   },
   {
    "duration": 14,
    "start_time": "2022-06-15T20:59:09.008Z"
   },
   {
    "duration": 1970,
    "start_time": "2022-06-15T20:59:09.025Z"
   },
   {
    "duration": 238,
    "start_time": "2022-06-15T20:59:10.998Z"
   },
   {
    "duration": 321,
    "start_time": "2022-06-15T20:59:11.237Z"
   },
   {
    "duration": 1298,
    "start_time": "2022-06-15T20:59:11.559Z"
   },
   {
    "duration": 1404,
    "start_time": "2022-06-15T20:59:12.859Z"
   },
   {
    "duration": 4,
    "start_time": "2022-06-15T20:59:14.265Z"
   },
   {
    "duration": 26,
    "start_time": "2022-06-15T20:59:14.272Z"
   },
   {
    "duration": 4,
    "start_time": "2022-06-15T20:59:14.300Z"
   },
   {
    "duration": 7,
    "start_time": "2022-06-15T20:59:14.305Z"
   },
   {
    "duration": 31,
    "start_time": "2022-06-15T20:59:14.313Z"
   },
   {
    "duration": 25,
    "start_time": "2022-06-15T20:59:14.346Z"
   },
   {
    "duration": 5,
    "start_time": "2022-06-15T20:59:14.394Z"
   },
   {
    "duration": 19,
    "start_time": "2022-06-15T20:59:14.401Z"
   },
   {
    "duration": 28,
    "start_time": "2022-06-15T20:59:14.422Z"
   },
   {
    "duration": 251,
    "start_time": "2022-06-15T20:59:14.452Z"
   },
   {
    "duration": 4115,
    "start_time": "2022-06-15T20:59:14.705Z"
   },
   {
    "duration": 64896,
    "start_time": "2022-06-15T20:59:18.821Z"
   },
   {
    "duration": 4,
    "start_time": "2022-06-15T21:00:23.719Z"
   },
   {
    "duration": 32,
    "start_time": "2022-06-15T21:00:23.725Z"
   },
   {
    "duration": 339,
    "start_time": "2022-06-15T21:00:23.758Z"
   },
   {
    "duration": 5495,
    "start_time": "2022-06-15T21:00:24.102Z"
   },
   {
    "duration": 82901,
    "start_time": "2022-06-15T21:00:29.599Z"
   },
   {
    "duration": 7,
    "start_time": "2022-06-15T21:01:52.502Z"
   },
   {
    "duration": 16441,
    "start_time": "2022-06-15T21:01:52.511Z"
   },
   {
    "duration": 17,
    "start_time": "2022-06-15T21:02:08.954Z"
   },
   {
    "duration": 30,
    "start_time": "2022-06-15T21:02:08.974Z"
   },
   {
    "duration": 194,
    "start_time": "2022-06-15T21:02:09.007Z"
   }
  ],
  "kernelspec": {
   "display_name": "Python 3",
   "language": "python",
   "name": "python3"
  },
  "language_info": {
   "codemirror_mode": {
    "name": "ipython",
    "version": 3
   },
   "file_extension": ".py",
   "mimetype": "text/x-python",
   "name": "python",
   "nbconvert_exporter": "python",
   "pygments_lexer": "ipython3",
   "version": "3.8.8"
  },
  "toc": {
   "base_numbering": 1,
   "nav_menu": {},
   "number_sections": true,
   "sideBar": true,
   "skip_h1_title": true,
   "title_cell": "Содержание",
   "title_sidebar": "Contents",
   "toc_cell": true,
   "toc_position": {},
   "toc_section_display": true,
   "toc_window_display": true
  }
 },
 "nbformat": 4,
 "nbformat_minor": 4
}
