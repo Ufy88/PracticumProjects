{
 "cells": [
  {
   "cell_type": "markdown",
   "metadata": {},
   "source": [
    "# 1.   Вводные данные"
   ]
  },
  {
   "cell_type": "markdown",
   "metadata": {},
   "source": [
    "<div style=\"background-color: #fff0e0; padding: 10px; font-family: monospace; font-size: 15px\">\n",
    "У нас в распоряжении имеются данные о продаже игр за несколько лет – названия, продажи в разных регионах, рейтинги и оценки критиков и пользователей. Наша задача – проверить данные, проанализировать их и сделать соответствующие выводы. Мы рассмотрим:\n",
    "<br><br>- Сколько игр выпускалось в разные годы\n",
    "<br><br>- Как менялись продажи по платформам\n",
    "<br><br>- Рассмотрим платформы с наибольшими суммарными продажами\n",
    "<br><br>- Выделим актуальный период для исследования\n",
    "<br><br>- Посмотрим, как влияют на продажи отзывы пользователей и критиков\n",
    "<br><br>- Построим распределение игр по жанрам</div>"
   ]
  },
  {
   "cell_type": "code",
   "execution_count": 1,
   "metadata": {},
   "outputs": [],
   "source": [
    "import pandas as pd\n",
    "import numpy as np\n",
    "import matplotlib.pyplot as plt\n",
    "import seaborn as sb\n",
    "from scipy import stats as st"
   ]
  },
  {
   "cell_type": "code",
   "execution_count": 2,
   "metadata": {},
   "outputs": [],
   "source": [
    "df = pd.read_csv('/datasets/games.csv')"
   ]
  },
  {
   "cell_type": "code",
   "execution_count": 3,
   "metadata": {},
   "outputs": [
    {
     "data": {
      "text/html": [
       "<div>\n",
       "<style scoped>\n",
       "    .dataframe tbody tr th:only-of-type {\n",
       "        vertical-align: middle;\n",
       "    }\n",
       "\n",
       "    .dataframe tbody tr th {\n",
       "        vertical-align: top;\n",
       "    }\n",
       "\n",
       "    .dataframe thead th {\n",
       "        text-align: right;\n",
       "    }\n",
       "</style>\n",
       "<table border=\"1\" class=\"dataframe\">\n",
       "  <thead>\n",
       "    <tr style=\"text-align: right;\">\n",
       "      <th></th>\n",
       "      <th>Name</th>\n",
       "      <th>Platform</th>\n",
       "      <th>Year_of_Release</th>\n",
       "      <th>Genre</th>\n",
       "      <th>NA_sales</th>\n",
       "      <th>EU_sales</th>\n",
       "      <th>JP_sales</th>\n",
       "      <th>Other_sales</th>\n",
       "      <th>Critic_Score</th>\n",
       "      <th>User_Score</th>\n",
       "      <th>Rating</th>\n",
       "    </tr>\n",
       "  </thead>\n",
       "  <tbody>\n",
       "    <tr>\n",
       "      <th>0</th>\n",
       "      <td>Wii Sports</td>\n",
       "      <td>Wii</td>\n",
       "      <td>2006.0</td>\n",
       "      <td>Sports</td>\n",
       "      <td>41.36</td>\n",
       "      <td>28.96</td>\n",
       "      <td>3.77</td>\n",
       "      <td>8.45</td>\n",
       "      <td>76.0</td>\n",
       "      <td>8</td>\n",
       "      <td>E</td>\n",
       "    </tr>\n",
       "    <tr>\n",
       "      <th>1</th>\n",
       "      <td>Super Mario Bros.</td>\n",
       "      <td>NES</td>\n",
       "      <td>1985.0</td>\n",
       "      <td>Platform</td>\n",
       "      <td>29.08</td>\n",
       "      <td>3.58</td>\n",
       "      <td>6.81</td>\n",
       "      <td>0.77</td>\n",
       "      <td>NaN</td>\n",
       "      <td>NaN</td>\n",
       "      <td>NaN</td>\n",
       "    </tr>\n",
       "    <tr>\n",
       "      <th>2</th>\n",
       "      <td>Mario Kart Wii</td>\n",
       "      <td>Wii</td>\n",
       "      <td>2008.0</td>\n",
       "      <td>Racing</td>\n",
       "      <td>15.68</td>\n",
       "      <td>12.76</td>\n",
       "      <td>3.79</td>\n",
       "      <td>3.29</td>\n",
       "      <td>82.0</td>\n",
       "      <td>8.3</td>\n",
       "      <td>E</td>\n",
       "    </tr>\n",
       "    <tr>\n",
       "      <th>3</th>\n",
       "      <td>Wii Sports Resort</td>\n",
       "      <td>Wii</td>\n",
       "      <td>2009.0</td>\n",
       "      <td>Sports</td>\n",
       "      <td>15.61</td>\n",
       "      <td>10.93</td>\n",
       "      <td>3.28</td>\n",
       "      <td>2.95</td>\n",
       "      <td>80.0</td>\n",
       "      <td>8</td>\n",
       "      <td>E</td>\n",
       "    </tr>\n",
       "    <tr>\n",
       "      <th>4</th>\n",
       "      <td>Pokemon Red/Pokemon Blue</td>\n",
       "      <td>GB</td>\n",
       "      <td>1996.0</td>\n",
       "      <td>Role-Playing</td>\n",
       "      <td>11.27</td>\n",
       "      <td>8.89</td>\n",
       "      <td>10.22</td>\n",
       "      <td>1.00</td>\n",
       "      <td>NaN</td>\n",
       "      <td>NaN</td>\n",
       "      <td>NaN</td>\n",
       "    </tr>\n",
       "  </tbody>\n",
       "</table>\n",
       "</div>"
      ],
      "text/plain": [
       "                       Name Platform  Year_of_Release         Genre  NA_sales  \\\n",
       "0                Wii Sports      Wii           2006.0        Sports     41.36   \n",
       "1         Super Mario Bros.      NES           1985.0      Platform     29.08   \n",
       "2            Mario Kart Wii      Wii           2008.0        Racing     15.68   \n",
       "3         Wii Sports Resort      Wii           2009.0        Sports     15.61   \n",
       "4  Pokemon Red/Pokemon Blue       GB           1996.0  Role-Playing     11.27   \n",
       "\n",
       "   EU_sales  JP_sales  Other_sales  Critic_Score User_Score Rating  \n",
       "0     28.96      3.77         8.45          76.0          8      E  \n",
       "1      3.58      6.81         0.77           NaN        NaN    NaN  \n",
       "2     12.76      3.79         3.29          82.0        8.3      E  \n",
       "3     10.93      3.28         2.95          80.0          8      E  \n",
       "4      8.89     10.22         1.00           NaN        NaN    NaN  "
      ]
     },
     "metadata": {},
     "output_type": "display_data"
    },
    {
     "name": "stdout",
     "output_type": "stream",
     "text": [
      "(16715, 11)\n"
     ]
    }
   ],
   "source": [
    "display(df.head())\n",
    "print(df.shape)"
   ]
  },
  {
   "cell_type": "markdown",
   "metadata": {},
   "source": [
    "<div style=\"background-color: #fff0e0; padding: 10px; font-family: monospace; font-size: 15px\">\n",
    "Приведем все названия столбцов к нижнему регистру</div>"
   ]
  },
  {
   "cell_type": "code",
   "execution_count": 4,
   "metadata": {},
   "outputs": [],
   "source": [
    "df.columns = df.columns.str.lower()"
   ]
  },
  {
   "cell_type": "code",
   "execution_count": 5,
   "metadata": {},
   "outputs": [
    {
     "data": {
      "text/html": [
       "<div>\n",
       "<style scoped>\n",
       "    .dataframe tbody tr th:only-of-type {\n",
       "        vertical-align: middle;\n",
       "    }\n",
       "\n",
       "    .dataframe tbody tr th {\n",
       "        vertical-align: top;\n",
       "    }\n",
       "\n",
       "    .dataframe thead th {\n",
       "        text-align: right;\n",
       "    }\n",
       "</style>\n",
       "<table border=\"1\" class=\"dataframe\">\n",
       "  <thead>\n",
       "    <tr style=\"text-align: right;\">\n",
       "      <th></th>\n",
       "      <th>name</th>\n",
       "      <th>platform</th>\n",
       "      <th>year_of_release</th>\n",
       "      <th>genre</th>\n",
       "      <th>na_sales</th>\n",
       "      <th>eu_sales</th>\n",
       "      <th>jp_sales</th>\n",
       "      <th>other_sales</th>\n",
       "      <th>critic_score</th>\n",
       "      <th>user_score</th>\n",
       "      <th>rating</th>\n",
       "    </tr>\n",
       "  </thead>\n",
       "  <tbody>\n",
       "    <tr>\n",
       "      <th>0</th>\n",
       "      <td>Wii Sports</td>\n",
       "      <td>Wii</td>\n",
       "      <td>2006.0</td>\n",
       "      <td>Sports</td>\n",
       "      <td>41.36</td>\n",
       "      <td>28.96</td>\n",
       "      <td>3.77</td>\n",
       "      <td>8.45</td>\n",
       "      <td>76.0</td>\n",
       "      <td>8</td>\n",
       "      <td>E</td>\n",
       "    </tr>\n",
       "    <tr>\n",
       "      <th>1</th>\n",
       "      <td>Super Mario Bros.</td>\n",
       "      <td>NES</td>\n",
       "      <td>1985.0</td>\n",
       "      <td>Platform</td>\n",
       "      <td>29.08</td>\n",
       "      <td>3.58</td>\n",
       "      <td>6.81</td>\n",
       "      <td>0.77</td>\n",
       "      <td>NaN</td>\n",
       "      <td>NaN</td>\n",
       "      <td>NaN</td>\n",
       "    </tr>\n",
       "    <tr>\n",
       "      <th>2</th>\n",
       "      <td>Mario Kart Wii</td>\n",
       "      <td>Wii</td>\n",
       "      <td>2008.0</td>\n",
       "      <td>Racing</td>\n",
       "      <td>15.68</td>\n",
       "      <td>12.76</td>\n",
       "      <td>3.79</td>\n",
       "      <td>3.29</td>\n",
       "      <td>82.0</td>\n",
       "      <td>8.3</td>\n",
       "      <td>E</td>\n",
       "    </tr>\n",
       "    <tr>\n",
       "      <th>3</th>\n",
       "      <td>Wii Sports Resort</td>\n",
       "      <td>Wii</td>\n",
       "      <td>2009.0</td>\n",
       "      <td>Sports</td>\n",
       "      <td>15.61</td>\n",
       "      <td>10.93</td>\n",
       "      <td>3.28</td>\n",
       "      <td>2.95</td>\n",
       "      <td>80.0</td>\n",
       "      <td>8</td>\n",
       "      <td>E</td>\n",
       "    </tr>\n",
       "    <tr>\n",
       "      <th>4</th>\n",
       "      <td>Pokemon Red/Pokemon Blue</td>\n",
       "      <td>GB</td>\n",
       "      <td>1996.0</td>\n",
       "      <td>Role-Playing</td>\n",
       "      <td>11.27</td>\n",
       "      <td>8.89</td>\n",
       "      <td>10.22</td>\n",
       "      <td>1.00</td>\n",
       "      <td>NaN</td>\n",
       "      <td>NaN</td>\n",
       "      <td>NaN</td>\n",
       "    </tr>\n",
       "  </tbody>\n",
       "</table>\n",
       "</div>"
      ],
      "text/plain": [
       "                       name platform  year_of_release         genre  na_sales  \\\n",
       "0                Wii Sports      Wii           2006.0        Sports     41.36   \n",
       "1         Super Mario Bros.      NES           1985.0      Platform     29.08   \n",
       "2            Mario Kart Wii      Wii           2008.0        Racing     15.68   \n",
       "3         Wii Sports Resort      Wii           2009.0        Sports     15.61   \n",
       "4  Pokemon Red/Pokemon Blue       GB           1996.0  Role-Playing     11.27   \n",
       "\n",
       "   eu_sales  jp_sales  other_sales  critic_score user_score rating  \n",
       "0     28.96      3.77         8.45          76.0          8      E  \n",
       "1      3.58      6.81         0.77           NaN        NaN    NaN  \n",
       "2     12.76      3.79         3.29          82.0        8.3      E  \n",
       "3     10.93      3.28         2.95          80.0          8      E  \n",
       "4      8.89     10.22         1.00           NaN        NaN    NaN  "
      ]
     },
     "execution_count": 5,
     "metadata": {},
     "output_type": "execute_result"
    }
   ],
   "source": [
    "df.head()"
   ]
  },
  {
   "cell_type": "markdown",
   "metadata": {},
   "source": [
    "<div style=\"background-color: #fff0e0; padding: 10px; font-family: monospace; font-size: 15px\">\n",
    "Исследуем данные</div>"
   ]
  },
  {
   "cell_type": "code",
   "execution_count": 6,
   "metadata": {},
   "outputs": [
    {
     "name": "stdout",
     "output_type": "stream",
     "text": [
      "<class 'pandas.core.frame.DataFrame'>\n",
      "RangeIndex: 16715 entries, 0 to 16714\n",
      "Data columns (total 11 columns):\n",
      " #   Column           Non-Null Count  Dtype  \n",
      "---  ------           --------------  -----  \n",
      " 0   name             16713 non-null  object \n",
      " 1   platform         16715 non-null  object \n",
      " 2   year_of_release  16446 non-null  float64\n",
      " 3   genre            16713 non-null  object \n",
      " 4   na_sales         16715 non-null  float64\n",
      " 5   eu_sales         16715 non-null  float64\n",
      " 6   jp_sales         16715 non-null  float64\n",
      " 7   other_sales      16715 non-null  float64\n",
      " 8   critic_score     8137 non-null   float64\n",
      " 9   user_score       10014 non-null  object \n",
      " 10  rating           9949 non-null   object \n",
      "dtypes: float64(6), object(5)\n",
      "memory usage: 1.4+ MB\n"
     ]
    }
   ],
   "source": [
    "df.info()"
   ]
  },
  {
   "cell_type": "markdown",
   "metadata": {},
   "source": [
    "<div style=\"background-color: #fff0e0; padding: 10px; font-family: monospace; font-size: 15px\">\n",
    "Столбцы с названием, годом релиза, жанром, оценкой критиков, пользователей и возрастным рейтингом имеют ошибки. С них то мы и начнем</div>"
   ]
  },
  {
   "cell_type": "markdown",
   "metadata": {},
   "source": [
    "# 2.   Обработка данных"
   ]
  },
  {
   "cell_type": "markdown",
   "metadata": {},
   "source": [
    "## 2.1.   Год релиза"
   ]
  },
  {
   "cell_type": "markdown",
   "metadata": {},
   "source": [
    "<div style=\"background-color: #fff0e0; padding: 10px; font-family: monospace; font-size: 15px\">\n",
    "Выведем игры, в которых неизвестен год релиза</div>"
   ]
  },
  {
   "cell_type": "code",
   "execution_count": 7,
   "metadata": {},
   "outputs": [
    {
     "data": {
      "text/html": [
       "<div>\n",
       "<style scoped>\n",
       "    .dataframe tbody tr th:only-of-type {\n",
       "        vertical-align: middle;\n",
       "    }\n",
       "\n",
       "    .dataframe tbody tr th {\n",
       "        vertical-align: top;\n",
       "    }\n",
       "\n",
       "    .dataframe thead th {\n",
       "        text-align: right;\n",
       "    }\n",
       "</style>\n",
       "<table border=\"1\" class=\"dataframe\">\n",
       "  <thead>\n",
       "    <tr style=\"text-align: right;\">\n",
       "      <th></th>\n",
       "      <th>name</th>\n",
       "      <th>platform</th>\n",
       "      <th>year_of_release</th>\n",
       "      <th>genre</th>\n",
       "      <th>na_sales</th>\n",
       "      <th>eu_sales</th>\n",
       "      <th>jp_sales</th>\n",
       "      <th>other_sales</th>\n",
       "      <th>critic_score</th>\n",
       "      <th>user_score</th>\n",
       "      <th>rating</th>\n",
       "    </tr>\n",
       "  </thead>\n",
       "  <tbody>\n",
       "    <tr>\n",
       "      <th>183</th>\n",
       "      <td>Madden NFL 2004</td>\n",
       "      <td>PS2</td>\n",
       "      <td>NaN</td>\n",
       "      <td>Sports</td>\n",
       "      <td>4.26</td>\n",
       "      <td>0.26</td>\n",
       "      <td>0.01</td>\n",
       "      <td>0.71</td>\n",
       "      <td>94.0</td>\n",
       "      <td>8.5</td>\n",
       "      <td>E</td>\n",
       "    </tr>\n",
       "    <tr>\n",
       "      <th>377</th>\n",
       "      <td>FIFA Soccer 2004</td>\n",
       "      <td>PS2</td>\n",
       "      <td>NaN</td>\n",
       "      <td>Sports</td>\n",
       "      <td>0.59</td>\n",
       "      <td>2.36</td>\n",
       "      <td>0.04</td>\n",
       "      <td>0.51</td>\n",
       "      <td>84.0</td>\n",
       "      <td>6.4</td>\n",
       "      <td>E</td>\n",
       "    </tr>\n",
       "    <tr>\n",
       "      <th>456</th>\n",
       "      <td>LEGO Batman: The Videogame</td>\n",
       "      <td>Wii</td>\n",
       "      <td>NaN</td>\n",
       "      <td>Action</td>\n",
       "      <td>1.80</td>\n",
       "      <td>0.97</td>\n",
       "      <td>0.00</td>\n",
       "      <td>0.29</td>\n",
       "      <td>74.0</td>\n",
       "      <td>7.9</td>\n",
       "      <td>E10+</td>\n",
       "    </tr>\n",
       "    <tr>\n",
       "      <th>475</th>\n",
       "      <td>wwe Smackdown vs. Raw 2006</td>\n",
       "      <td>PS2</td>\n",
       "      <td>NaN</td>\n",
       "      <td>Fighting</td>\n",
       "      <td>1.57</td>\n",
       "      <td>1.02</td>\n",
       "      <td>0.00</td>\n",
       "      <td>0.41</td>\n",
       "      <td>NaN</td>\n",
       "      <td>NaN</td>\n",
       "      <td>NaN</td>\n",
       "    </tr>\n",
       "    <tr>\n",
       "      <th>609</th>\n",
       "      <td>Space Invaders</td>\n",
       "      <td>2600</td>\n",
       "      <td>NaN</td>\n",
       "      <td>Shooter</td>\n",
       "      <td>2.36</td>\n",
       "      <td>0.14</td>\n",
       "      <td>0.00</td>\n",
       "      <td>0.03</td>\n",
       "      <td>NaN</td>\n",
       "      <td>NaN</td>\n",
       "      <td>NaN</td>\n",
       "    </tr>\n",
       "  </tbody>\n",
       "</table>\n",
       "</div>"
      ],
      "text/plain": [
       "                           name platform  year_of_release     genre  na_sales  \\\n",
       "183             Madden NFL 2004      PS2              NaN    Sports      4.26   \n",
       "377            FIFA Soccer 2004      PS2              NaN    Sports      0.59   \n",
       "456  LEGO Batman: The Videogame      Wii              NaN    Action      1.80   \n",
       "475  wwe Smackdown vs. Raw 2006      PS2              NaN  Fighting      1.57   \n",
       "609              Space Invaders     2600              NaN   Shooter      2.36   \n",
       "\n",
       "     eu_sales  jp_sales  other_sales  critic_score user_score rating  \n",
       "183      0.26      0.01         0.71          94.0        8.5      E  \n",
       "377      2.36      0.04         0.51          84.0        6.4      E  \n",
       "456      0.97      0.00         0.29          74.0        7.9   E10+  \n",
       "475      1.02      0.00         0.41           NaN        NaN    NaN  \n",
       "609      0.14      0.00         0.03           NaN        NaN    NaN  "
      ]
     },
     "metadata": {},
     "output_type": "display_data"
    },
    {
     "name": "stdout",
     "output_type": "stream",
     "text": [
      "(269, 11)\n"
     ]
    }
   ],
   "source": [
    "display(df[df.year_of_release.isna()].head())\n",
    "print(df[df.year_of_release.isna()].shape)"
   ]
  },
  {
   "cell_type": "markdown",
   "metadata": {},
   "source": [
    "<div style=\"background-color: #fff0e0; padding: 10px; font-family: monospace; font-size: 15px\">\n",
    "269 пропусков из 16715 строк данных: год достать очень непросто, так что мы выкинем эти данные</div>"
   ]
  },
  {
   "cell_type": "code",
   "execution_count": 8,
   "metadata": {},
   "outputs": [],
   "source": [
    "df = df[df.year_of_release.notna()].reset_index(drop=True)"
   ]
  },
  {
   "cell_type": "code",
   "execution_count": 9,
   "metadata": {},
   "outputs": [
    {
     "data": {
      "text/html": [
       "<div>\n",
       "<style scoped>\n",
       "    .dataframe tbody tr th:only-of-type {\n",
       "        vertical-align: middle;\n",
       "    }\n",
       "\n",
       "    .dataframe tbody tr th {\n",
       "        vertical-align: top;\n",
       "    }\n",
       "\n",
       "    .dataframe thead th {\n",
       "        text-align: right;\n",
       "    }\n",
       "</style>\n",
       "<table border=\"1\" class=\"dataframe\">\n",
       "  <thead>\n",
       "    <tr style=\"text-align: right;\">\n",
       "      <th></th>\n",
       "      <th>name</th>\n",
       "      <th>platform</th>\n",
       "      <th>year_of_release</th>\n",
       "      <th>genre</th>\n",
       "      <th>na_sales</th>\n",
       "      <th>eu_sales</th>\n",
       "      <th>jp_sales</th>\n",
       "      <th>other_sales</th>\n",
       "      <th>critic_score</th>\n",
       "      <th>user_score</th>\n",
       "      <th>rating</th>\n",
       "    </tr>\n",
       "  </thead>\n",
       "  <tbody>\n",
       "  </tbody>\n",
       "</table>\n",
       "</div>"
      ],
      "text/plain": [
       "Empty DataFrame\n",
       "Columns: [name, platform, year_of_release, genre, na_sales, eu_sales, jp_sales, other_sales, critic_score, user_score, rating]\n",
       "Index: []"
      ]
     },
     "metadata": {},
     "output_type": "display_data"
    },
    {
     "name": "stdout",
     "output_type": "stream",
     "text": [
      "(0, 11)\n"
     ]
    }
   ],
   "source": [
    "display(df[df.year_of_release.isna()].head())\n",
    "print(df[df.year_of_release.isna()].shape)"
   ]
  },
  {
   "cell_type": "markdown",
   "metadata": {},
   "source": [
    "<div style=\"background-color: #fff0e0; padding: 10px; font-family: monospace; font-size: 15px\">\n",
    "Отлично, с годами разобрались</div>"
   ]
  },
  {
   "cell_type": "markdown",
   "metadata": {},
   "source": [
    "## 2.2.   Оценки"
   ]
  },
  {
   "cell_type": "markdown",
   "metadata": {},
   "source": [
    "<div style=\"background-color: #fff0e0; padding: 10px; font-family: monospace; font-size: 15px\">\n",
    "Посмотрим на уникальность пользовательских оценок</div>"
   ]
  },
  {
   "cell_type": "code",
   "execution_count": 11,
   "metadata": {},
   "outputs": [
    {
     "data": {
      "text/plain": [
       "array(['8', nan, '8.3', '8.5', '6.6', '8.4', '8.6', '7.7', '6.3', '7.4',\n",
       "       '8.2', '9', '7.9', '8.1', '8.7', '7.1', '3.4', '5.3', '4.8', '3.2',\n",
       "       '8.9', '6.4', '7.8', '7.5', '2.6', '7.2', '9.2', '7', '7.3', '4.3',\n",
       "       '7.6', '5.7', '5', '9.1', '6.5', 'tbd', '8.8', '6.9', '9.4', '6.8',\n",
       "       '6.1', '6.7', '5.4', '4', '4.9', '4.5', '9.3', '6.2', '4.2', '6',\n",
       "       '3.7', '4.1', '5.8', '5.6', '5.5', '4.4', '4.6', '5.9', '3.9',\n",
       "       '3.1', '2.9', '5.2', '3.3', '4.7', '5.1', '3.5', '2.5', '1.9', '3',\n",
       "       '2.7', '2.2', '2', '9.5', '2.1', '3.6', '2.8', '1.8', '3.8', '0',\n",
       "       '1.6', '9.6', '2.4', '1.7', '1.1', '0.3', '1.5', '0.7', '1.2',\n",
       "       '2.3', '0.5', '1.3', '0.2', '0.6', '1.4', '0.9', '1', '9.7'],\n",
       "      dtype=object)"
      ]
     },
     "execution_count": 11,
     "metadata": {},
     "output_type": "execute_result"
    }
   ],
   "source": [
    "df.user_score.unique()"
   ]
  },
  {
   "cell_type": "markdown",
   "metadata": {},
   "source": [
    "<div style=\"background-color: #fff0e0; padding: 10px; font-family: monospace; font-size: 15px\">\n",
    "nan – это, конечно, хорошо, но tbd лучше</div>\n",
    "\n",
    "<div style=\"background-color: #fff0e0; padding: 10px; font-family: monospace; font-size: 15px\">\n",
    "В интернетах пишут, что tbd – это от слова \"to be definition\", то есть еще не определено. Есть вероятность, что это совсем свежие, относительно данных, игры</div>"
   ]
  },
  {
   "cell_type": "code",
   "execution_count": 12,
   "metadata": {},
   "outputs": [
    {
     "data": {
      "text/plain": [
       "array([2010., 2005., 2011., 2009., 2004., 1999., 2001., 2008., 2007.,\n",
       "       2003., 2000., 2006., 2002., 2015., 2014., 2012., 2013., 2016.,\n",
       "       1997.])"
      ]
     },
     "execution_count": 12,
     "metadata": {},
     "output_type": "execute_result"
    }
   ],
   "source": [
    "df[df.user_score == 'tbd'].year_of_release.unique()"
   ]
  },
  {
   "cell_type": "markdown",
   "metadata": {},
   "source": [
    "<div style=\"background-color: #fff0e0; padding: 10px; font-family: monospace; font-size: 15px\">\n",
    "Теория не подтвердилась, и, скорее всего, оценка за эти игры либо не была выставлена вообще, либо просто не подтянулась в данные</div>"
   ]
  },
  {
   "cell_type": "code",
   "execution_count": 13,
   "metadata": {},
   "outputs": [
    {
     "data": {
      "text/plain": [
       "(2376, 11)"
      ]
     },
     "execution_count": 13,
     "metadata": {},
     "output_type": "execute_result"
    }
   ],
   "source": [
    "df[df.user_score == 'tbd'].shape"
   ]
  },
  {
   "cell_type": "code",
   "execution_count": 14,
   "metadata": {},
   "outputs": [
    {
     "data": {
      "text/plain": [
       "(6607, 11)"
      ]
     },
     "execution_count": 14,
     "metadata": {},
     "output_type": "execute_result"
    }
   ],
   "source": [
    "df[df.user_score.isna()].shape"
   ]
  },
  {
   "cell_type": "markdown",
   "metadata": {},
   "source": [
    "<div style=\"background-color: #fff0e0; padding: 10px; font-family: monospace; font-size: 15px\">\n",
    "Довольно много подобных строк, и оставлять их вообще без чистки будет вредно</div>\n",
    "\n",
    "<div style=\"background-color: #fff0e0; padding: 10px; font-family: monospace; font-size: 15px\">\n",
    "Фактически, для нас это – nan, а значит надо привести к этому типу, чтобы заполнять все и сразу</div>"
   ]
  },
  {
   "cell_type": "code",
   "execution_count": 15,
   "metadata": {},
   "outputs": [],
   "source": [
    "df.loc[df.user_score == 'tbd', 'user_score'] = np.nan"
   ]
  },
  {
   "cell_type": "code",
   "execution_count": 16,
   "metadata": {},
   "outputs": [],
   "source": [
    "df['user_score'] = df.user_score.astype(float)"
   ]
  },
  {
   "cell_type": "markdown",
   "metadata": {},
   "source": [
    "<div style=\"background-color: #fff0e0; padding: 10px; font-family: monospace; font-size: 15px\">\n",
    "Смотрим, сколько данных утеряно</div>"
   ]
  },
  {
   "cell_type": "code",
   "execution_count": 17,
   "metadata": {},
   "outputs": [
    {
     "data": {
      "text/plain": [
       "(8983, 11)"
      ]
     },
     "execution_count": 17,
     "metadata": {},
     "output_type": "execute_result"
    }
   ],
   "source": [
    "df[df.user_score.isna()].shape"
   ]
  },
  {
   "cell_type": "markdown",
   "metadata": {},
   "source": [
    "<div style=\"background-color: #fff0e0; padding: 10px; font-family: monospace; font-size: 15px\">\n",
    "Подставить оценки, основанные на каких либо данных – не вариант, пары игра-платформа уникальны по годам, так что опереться не на что. Мы можем просто фильтровать данные при анализе, чтобы работать с известными </div>"
   ]
  },
  {
   "cell_type": "code",
   "execution_count": 18,
   "metadata": {},
   "outputs": [
    {
     "data": {
      "text/plain": [
       "(9864, 11)"
      ]
     },
     "execution_count": 18,
     "metadata": {},
     "output_type": "execute_result"
    }
   ],
   "source": [
    "df[(df.critic_score.notna()) |\n",
    "   (df.user_score.notna()) | \n",
    "   (df.rating.notna())].shape"
   ]
  },
  {
   "cell_type": "markdown",
   "metadata": {},
   "source": [
    "<div style=\"background-color: #fff0e0; padding: 10px; font-family: monospace; font-size: 15px\">\n",
    "Небогато, но это лишь данные с оценками и рейтингами без пропусков всех их сразу</div>"
   ]
  },
  {
   "cell_type": "markdown",
   "metadata": {},
   "source": [
    "## 2.4.   Название"
   ]
  },
  {
   "cell_type": "code",
   "execution_count": 21,
   "metadata": {},
   "outputs": [
    {
     "data": {
      "text/html": [
       "<div>\n",
       "<style scoped>\n",
       "    .dataframe tbody tr th:only-of-type {\n",
       "        vertical-align: middle;\n",
       "    }\n",
       "\n",
       "    .dataframe tbody tr th {\n",
       "        vertical-align: top;\n",
       "    }\n",
       "\n",
       "    .dataframe thead th {\n",
       "        text-align: right;\n",
       "    }\n",
       "</style>\n",
       "<table border=\"1\" class=\"dataframe\">\n",
       "  <thead>\n",
       "    <tr style=\"text-align: right;\">\n",
       "      <th></th>\n",
       "      <th>name</th>\n",
       "      <th>platform</th>\n",
       "      <th>year_of_release</th>\n",
       "      <th>genre</th>\n",
       "      <th>na_sales</th>\n",
       "      <th>eu_sales</th>\n",
       "      <th>jp_sales</th>\n",
       "      <th>other_sales</th>\n",
       "      <th>critic_score</th>\n",
       "      <th>user_score</th>\n",
       "      <th>rating</th>\n",
       "      <th>summary_sales</th>\n",
       "    </tr>\n",
       "  </thead>\n",
       "  <tbody>\n",
       "    <tr>\n",
       "      <th>652</th>\n",
       "      <td>NaN</td>\n",
       "      <td>GEN</td>\n",
       "      <td>1993.0</td>\n",
       "      <td>NaN</td>\n",
       "      <td>1.78</td>\n",
       "      <td>0.53</td>\n",
       "      <td>0.00</td>\n",
       "      <td>0.08</td>\n",
       "      <td>NaN</td>\n",
       "      <td>NaN</td>\n",
       "      <td>NaN</td>\n",
       "      <td>2.39</td>\n",
       "    </tr>\n",
       "    <tr>\n",
       "      <th>14022</th>\n",
       "      <td>NaN</td>\n",
       "      <td>GEN</td>\n",
       "      <td>1993.0</td>\n",
       "      <td>NaN</td>\n",
       "      <td>0.00</td>\n",
       "      <td>0.00</td>\n",
       "      <td>0.03</td>\n",
       "      <td>0.00</td>\n",
       "      <td>NaN</td>\n",
       "      <td>NaN</td>\n",
       "      <td>NaN</td>\n",
       "      <td>0.03</td>\n",
       "    </tr>\n",
       "  </tbody>\n",
       "</table>\n",
       "</div>"
      ],
      "text/plain": [
       "      name platform  year_of_release genre  na_sales  eu_sales  jp_sales  \\\n",
       "652    NaN      GEN           1993.0   NaN      1.78      0.53      0.00   \n",
       "14022  NaN      GEN           1993.0   NaN      0.00      0.00      0.03   \n",
       "\n",
       "       other_sales  critic_score  user_score rating  summary_sales  \n",
       "652           0.08           NaN         NaN    NaN           2.39  \n",
       "14022         0.00           NaN         NaN    NaN           0.03  "
      ]
     },
     "execution_count": 21,
     "metadata": {},
     "output_type": "execute_result"
    }
   ],
   "source": [
    "df[df.name.isna()]"
   ]
  },
  {
   "cell_type": "markdown",
   "metadata": {},
   "source": [
    "<div style=\"background-color: #fff0e0; padding: 10px; font-family: monospace; font-size: 15px\">\n",
    "В этих данных неизвестно почти все: год и рейтинг есть, но нет жанра и оценок. С таким мы далеко не уйдем</div>\n",
    "\n",
    "<div style=\"background-color: #fff0e0; padding: 10px; font-family: monospace; font-size: 15px\">\n",
    "Решение изящное и элегантное – удаляем</div>"
   ]
  },
  {
   "cell_type": "code",
   "execution_count": 22,
   "metadata": {},
   "outputs": [],
   "source": [
    "df = df[df.name.notna()].reset_index(drop=True)"
   ]
  },
  {
   "cell_type": "code",
   "execution_count": 23,
   "metadata": {},
   "outputs": [
    {
     "data": {
      "text/html": [
       "<div>\n",
       "<style scoped>\n",
       "    .dataframe tbody tr th:only-of-type {\n",
       "        vertical-align: middle;\n",
       "    }\n",
       "\n",
       "    .dataframe tbody tr th {\n",
       "        vertical-align: top;\n",
       "    }\n",
       "\n",
       "    .dataframe thead th {\n",
       "        text-align: right;\n",
       "    }\n",
       "</style>\n",
       "<table border=\"1\" class=\"dataframe\">\n",
       "  <thead>\n",
       "    <tr style=\"text-align: right;\">\n",
       "      <th></th>\n",
       "      <th>name</th>\n",
       "      <th>platform</th>\n",
       "      <th>year_of_release</th>\n",
       "      <th>genre</th>\n",
       "      <th>na_sales</th>\n",
       "      <th>eu_sales</th>\n",
       "      <th>jp_sales</th>\n",
       "      <th>other_sales</th>\n",
       "      <th>critic_score</th>\n",
       "      <th>user_score</th>\n",
       "      <th>rating</th>\n",
       "      <th>summary_sales</th>\n",
       "    </tr>\n",
       "  </thead>\n",
       "  <tbody>\n",
       "  </tbody>\n",
       "</table>\n",
       "</div>"
      ],
      "text/plain": [
       "Empty DataFrame\n",
       "Columns: [name, platform, year_of_release, genre, na_sales, eu_sales, jp_sales, other_sales, critic_score, user_score, rating, summary_sales]\n",
       "Index: []"
      ]
     },
     "execution_count": 23,
     "metadata": {},
     "output_type": "execute_result"
    }
   ],
   "source": [
    "df[df.name.isna()]"
   ]
  },
  {
   "cell_type": "markdown",
   "metadata": {},
   "source": [
    "## 2.5.   Жанр"
   ]
  },
  {
   "cell_type": "code",
   "execution_count": 24,
   "metadata": {},
   "outputs": [
    {
     "data": {
      "text/html": [
       "<div>\n",
       "<style scoped>\n",
       "    .dataframe tbody tr th:only-of-type {\n",
       "        vertical-align: middle;\n",
       "    }\n",
       "\n",
       "    .dataframe tbody tr th {\n",
       "        vertical-align: top;\n",
       "    }\n",
       "\n",
       "    .dataframe thead th {\n",
       "        text-align: right;\n",
       "    }\n",
       "</style>\n",
       "<table border=\"1\" class=\"dataframe\">\n",
       "  <thead>\n",
       "    <tr style=\"text-align: right;\">\n",
       "      <th></th>\n",
       "      <th>name</th>\n",
       "      <th>platform</th>\n",
       "      <th>year_of_release</th>\n",
       "      <th>genre</th>\n",
       "      <th>na_sales</th>\n",
       "      <th>eu_sales</th>\n",
       "      <th>jp_sales</th>\n",
       "      <th>other_sales</th>\n",
       "      <th>critic_score</th>\n",
       "      <th>user_score</th>\n",
       "      <th>rating</th>\n",
       "      <th>summary_sales</th>\n",
       "    </tr>\n",
       "  </thead>\n",
       "  <tbody>\n",
       "  </tbody>\n",
       "</table>\n",
       "</div>"
      ],
      "text/plain": [
       "Empty DataFrame\n",
       "Columns: [name, platform, year_of_release, genre, na_sales, eu_sales, jp_sales, other_sales, critic_score, user_score, rating, summary_sales]\n",
       "Index: []"
      ]
     },
     "execution_count": 24,
     "metadata": {},
     "output_type": "execute_result"
    }
   ],
   "source": [
    "df[df.genre.isna()]"
   ]
  },
  {
   "cell_type": "markdown",
   "metadata": {},
   "source": [
    "<div style=\"background-color: #fff0e0; padding: 10px; font-family: monospace; font-size: 15px\">\n",
    "Видимо, ушли вместе с предыдущими строками</div>"
   ]
  },
  {
   "cell_type": "markdown",
   "metadata": {},
   "source": [
    "# 3.   Исследовательский анализ"
   ]
  },
  {
   "cell_type": "markdown",
   "metadata": {},
   "source": [
    "## 3.1.   Количество игр по годам"
   ]
  },
  {
   "cell_type": "code",
   "execution_count": 28,
   "metadata": {},
   "outputs": [
    {
     "data": {
      "text/plain": [
       "Text(0, 0.5, 'games_sales_count')"
      ]
     },
     "execution_count": 28,
     "metadata": {},
     "output_type": "execute_result"
    },
    {
     "data": {
      "image/png": "[encoded data removed]",
      "text/plain": [
       "<Figure size 864x648 with 1 Axes>"
      ]
     },
     "metadata": {
      "needs_background": "light"
     },
     "output_type": "display_data"
    }
   ],
   "source": [
    "ax = (df.pivot_table(index='year_of_release', \n",
    "                values='name', \n",
    "                aggfunc='count')\n",
    " .plot(kind='bar', \n",
    "       figsize=(12, 9)))\n",
    "ax.set_ylabel(\"games_sales_count\")"
   ]
  },
  {
   "cell_type": "markdown",
   "metadata": {},
   "source": [
    "<div style=\"background-color: #fff0e0; padding: 10px; font-family: monospace; font-size: 15px\">\n",
    "Допустим, нас в светлом будущем не очень интересуют данные о продажах в эпоху отсутствия Steam и иже с ними. Как минимум – хотя бы продажи более 200 копий</div>"
   ]
  },
  {
   "cell_type": "code",
   "execution_count": 29,
   "metadata": {},
   "outputs": [],
   "source": [
    "df = df.query('year_of_release > 1994')"
   ]
  },
  {
   "cell_type": "code",
   "execution_count": 30,
   "metadata": {},
   "outputs": [
    {
     "data": {
      "text/plain": [
       "Text(0, 0.5, 'games_sales_count')"
      ]
     },
     "execution_count": 30,
     "metadata": {},
     "output_type": "execute_result"
    },
    {
     "data": {
      "image/png": "[encoded data removed]",
      "text/plain": [
       "<Figure size 864x648 with 1 Axes>"
      ]
     },
     "metadata": {
      "needs_background": "light"
     },
     "output_type": "display_data"
    }
   ],
   "source": [
    "ax = (df.pivot_table(index='year_of_release', \n",
    "                values='name', \n",
    "                aggfunc='count')\n",
    " .plot(kind='bar', \n",
    "       figsize=(12, 9)))\n",
    "ax.set_ylabel(\"games_sales_count\")"
   ]
  },
  {
   "cell_type": "markdown",
   "metadata": {},
   "source": [
    "<div style=\"background-color: #fff0e0; padding: 10px; font-family: monospace; font-size: 15px\">\n",
    "Теперь мы хотя бы будем работать с данными, имеющими вес</div>"
   ]
  },
  {
   "cell_type": "markdown",
   "metadata": {},
   "source": [
    "## 3.2.   Популярные платформы"
   ]
  },
  {
   "cell_type": "code",
   "execution_count": 31,
   "metadata": {},
   "outputs": [
    {
     "data": {
      "text/html": [
       "<div>\n",
       "<style scoped>\n",
       "    .dataframe tbody tr th:only-of-type {\n",
       "        vertical-align: middle;\n",
       "    }\n",
       "\n",
       "    .dataframe tbody tr th {\n",
       "        vertical-align: top;\n",
       "    }\n",
       "\n",
       "    .dataframe thead th {\n",
       "        text-align: right;\n",
       "    }\n",
       "</style>\n",
       "<table border=\"1\" class=\"dataframe\">\n",
       "  <thead>\n",
       "    <tr style=\"text-align: right;\">\n",
       "      <th></th>\n",
       "      <th>year_of_release</th>\n",
       "      <th>platform</th>\n",
       "      <th>summary_sales</th>\n",
       "    </tr>\n",
       "  </thead>\n",
       "  <tbody>\n",
       "    <tr>\n",
       "      <th>116</th>\n",
       "      <td>1995.0</td>\n",
       "      <td>PS</td>\n",
       "      <td>35.96</td>\n",
       "    </tr>\n",
       "    <tr>\n",
       "      <th>152</th>\n",
       "      <td>1996.0</td>\n",
       "      <td>PS</td>\n",
       "      <td>94.70</td>\n",
       "    </tr>\n",
       "    <tr>\n",
       "      <th>169</th>\n",
       "      <td>1997.0</td>\n",
       "      <td>PS</td>\n",
       "      <td>136.17</td>\n",
       "    </tr>\n",
       "    <tr>\n",
       "      <th>180</th>\n",
       "      <td>1998.0</td>\n",
       "      <td>PS</td>\n",
       "      <td>169.49</td>\n",
       "    </tr>\n",
       "    <tr>\n",
       "      <th>173</th>\n",
       "      <td>1999.0</td>\n",
       "      <td>PS</td>\n",
       "      <td>144.53</td>\n",
       "    </tr>\n",
       "    <tr>\n",
       "      <th>154</th>\n",
       "      <td>2000.0</td>\n",
       "      <td>PS</td>\n",
       "      <td>96.37</td>\n",
       "    </tr>\n",
       "    <tr>\n",
       "      <th>179</th>\n",
       "      <td>2001.0</td>\n",
       "      <td>PS2</td>\n",
       "      <td>166.43</td>\n",
       "    </tr>\n",
       "    <tr>\n",
       "      <th>184</th>\n",
       "      <td>2002.0</td>\n",
       "      <td>PS2</td>\n",
       "      <td>205.38</td>\n",
       "    </tr>\n",
       "    <tr>\n",
       "      <th>183</th>\n",
       "      <td>2003.0</td>\n",
       "      <td>PS2</td>\n",
       "      <td>184.31</td>\n",
       "    </tr>\n",
       "    <tr>\n",
       "      <th>186</th>\n",
       "      <td>2004.0</td>\n",
       "      <td>PS2</td>\n",
       "      <td>211.81</td>\n",
       "    </tr>\n",
       "    <tr>\n",
       "      <th>178</th>\n",
       "      <td>2005.0</td>\n",
       "      <td>PS2</td>\n",
       "      <td>160.66</td>\n",
       "    </tr>\n",
       "    <tr>\n",
       "      <th>170</th>\n",
       "      <td>2006.0</td>\n",
       "      <td>Wii</td>\n",
       "      <td>137.15</td>\n",
       "    </tr>\n",
       "    <tr>\n",
       "      <th>176</th>\n",
       "      <td>2007.0</td>\n",
       "      <td>Wii</td>\n",
       "      <td>152.77</td>\n",
       "    </tr>\n",
       "    <tr>\n",
       "      <th>182</th>\n",
       "      <td>2008.0</td>\n",
       "      <td>Wii</td>\n",
       "      <td>171.32</td>\n",
       "    </tr>\n",
       "    <tr>\n",
       "      <th>185</th>\n",
       "      <td>2009.0</td>\n",
       "      <td>Wii</td>\n",
       "      <td>206.97</td>\n",
       "    </tr>\n",
       "    <tr>\n",
       "      <th>181</th>\n",
       "      <td>2010.0</td>\n",
       "      <td>X360</td>\n",
       "      <td>170.03</td>\n",
       "    </tr>\n",
       "    <tr>\n",
       "      <th>177</th>\n",
       "      <td>2011.0</td>\n",
       "      <td>PS3</td>\n",
       "      <td>156.78</td>\n",
       "    </tr>\n",
       "    <tr>\n",
       "      <th>158</th>\n",
       "      <td>2012.0</td>\n",
       "      <td>PS3</td>\n",
       "      <td>107.36</td>\n",
       "    </tr>\n",
       "    <tr>\n",
       "      <th>159</th>\n",
       "      <td>2013.0</td>\n",
       "      <td>PS3</td>\n",
       "      <td>113.25</td>\n",
       "    </tr>\n",
       "    <tr>\n",
       "      <th>156</th>\n",
       "      <td>2014.0</td>\n",
       "      <td>PS4</td>\n",
       "      <td>100.00</td>\n",
       "    </tr>\n",
       "    <tr>\n",
       "      <th>161</th>\n",
       "      <td>2015.0</td>\n",
       "      <td>PS4</td>\n",
       "      <td>118.90</td>\n",
       "    </tr>\n",
       "    <tr>\n",
       "      <th>145</th>\n",
       "      <td>2016.0</td>\n",
       "      <td>PS4</td>\n",
       "      <td>69.25</td>\n",
       "    </tr>\n",
       "  </tbody>\n",
       "</table>\n",
       "</div>"
      ],
      "text/plain": [
       "     year_of_release platform  summary_sales\n",
       "116           1995.0       PS          35.96\n",
       "152           1996.0       PS          94.70\n",
       "169           1997.0       PS         136.17\n",
       "180           1998.0       PS         169.49\n",
       "173           1999.0       PS         144.53\n",
       "154           2000.0       PS          96.37\n",
       "179           2001.0      PS2         166.43\n",
       "184           2002.0      PS2         205.38\n",
       "183           2003.0      PS2         184.31\n",
       "186           2004.0      PS2         211.81\n",
       "178           2005.0      PS2         160.66\n",
       "170           2006.0      Wii         137.15\n",
       "176           2007.0      Wii         152.77\n",
       "182           2008.0      Wii         171.32\n",
       "185           2009.0      Wii         206.97\n",
       "181           2010.0     X360         170.03\n",
       "177           2011.0      PS3         156.78\n",
       "158           2012.0      PS3         107.36\n",
       "159           2013.0      PS3         113.25\n",
       "156           2014.0      PS4         100.00\n",
       "161           2015.0      PS4         118.90\n",
       "145           2016.0      PS4          69.25"
      ]
     },
     "execution_count": 31,
     "metadata": {},
     "output_type": "execute_result"
    }
   ],
   "source": [
    "(df.pivot_table(index=['year_of_release', 'platform'], \n",
    "               values='summary_sales', \n",
    "               aggfunc='sum')\n",
    " # сортируем по продажам, чтобы оставить наибольшие продажи внизу\n",
    " .sort_values(by='summary_sales')\n",
    " # убираем мульти-индекс\n",
    " .reset_index()\n",
    " # удаляем дубликаты, оставляя только последние\n",
    " .drop_duplicates('year_of_release', keep='last')\n",
    " # сортируем в привычный порядок лет\n",
    " .sort_values(by='year_of_release'))"
   ]
  },
  {
   "cell_type": "markdown",
   "metadata": {},
   "source": [
    "<div style=\"background-color: #fff0e0; padding: 10px; font-family: monospace; font-size: 15px\">\n",
    "Визуальные выводы: лидирует в основном PlayStation на любых этапах, есть целых 4 года лидерства Wii, иногда место занимает Xbox, но незначительно</div>\n",
    "\n",
    "<div style=\"background-color: #fff0e0; padding: 10px; font-family: monospace; font-size: 15px\">\n",
    "Чуть интереснее – период смены поколений. Не уходя в анализ годов выпуска новых, можно заметить тенденцию на лидерство платформы в течении 4 лет</div>\n",
    "\n",
    "<div style=\"background-color: #fff0e0; padding: 10px; font-family: monospace; font-size: 15px\">\n",
    "Соответственно, для нас таким будет как раз период 4 лет: в 2014, 2015 и 2016 году лидирует PS4, предполагаем, что в 2017 будет так же</div>"
   ]
  },
  {
   "cell_type": "markdown",
   "metadata": {},
   "source": [
    "## 3.3.   Актуальный период"
   ]
  },
  {
   "cell_type": "markdown",
   "metadata": {},
   "source": [
    "<div style=\"background-color: #fff0e0; padding: 10px; font-family: monospace; font-size: 15px\">\n",
    "Срезаем не интересующие нас данные</div>"
   ]
  },
  {
   "cell_type": "code",
   "execution_count": 32,
   "metadata": {},
   "outputs": [],
   "source": [
    "df = df.query('year_of_release > 2013')"
   ]
  },
  {
   "cell_type": "code",
   "execution_count": 33,
   "metadata": {},
   "outputs": [
    {
     "data": {
      "text/plain": [
       "array([2015., 2014., 2016.])"
      ]
     },
     "execution_count": 33,
     "metadata": {},
     "output_type": "execute_result"
    }
   ],
   "source": [
    "df.year_of_release.unique()"
   ]
  },
  {
   "cell_type": "markdown",
   "metadata": {},
   "source": [
    "## 3.4.   Продажи по платформам"
   ]
  },
  {
   "cell_type": "markdown",
   "metadata": {},
   "source": [
    "<div style=\"background-color: #fff0e0; padding: 10px; font-family: monospace; font-size: 15px\">\n",
    "Так как платформ много, а исследовать все не имеет смысла, возьмем топ продаж – по визуальным прикидкам это более 50 </div>"
   ]
  },
  {
   "cell_type": "code",
   "execution_count": 34,
   "metadata": {},
   "outputs": [],
   "source": [
    "df_top_platform = (df.pivot_table(index=['year_of_release', 'platform'], \n",
    "               values='name', \n",
    "               aggfunc='count')\n",
    " .sort_values(by='name')\n",
    " .reset_index()\n",
    " # на этом моменте срезаем количество выше 50\n",
    " .query('name >= 50')\n",
    " .sort_values(by='year_of_release'))"
   ]
  },
  {
   "cell_type": "code",
   "execution_count": 35,
   "metadata": {},
   "outputs": [
    {
     "data": {
      "text/html": [
       "<div>\n",
       "<style scoped>\n",
       "    .dataframe tbody tr th:only-of-type {\n",
       "        vertical-align: middle;\n",
       "    }\n",
       "\n",
       "    .dataframe tbody tr th {\n",
       "        vertical-align: top;\n",
       "    }\n",
       "\n",
       "    .dataframe thead th {\n",
       "        text-align: right;\n",
       "    }\n",
       "</style>\n",
       "<table border=\"1\" class=\"dataframe\">\n",
       "  <thead>\n",
       "    <tr style=\"text-align: right;\">\n",
       "      <th></th>\n",
       "      <th>year_of_release</th>\n",
       "      <th>platform</th>\n",
       "      <th>name</th>\n",
       "    </tr>\n",
       "  </thead>\n",
       "  <tbody>\n",
       "    <tr>\n",
       "      <th>15</th>\n",
       "      <td>2014.0</td>\n",
       "      <td>XOne</td>\n",
       "      <td>61</td>\n",
       "    </tr>\n",
       "    <tr>\n",
       "      <th>16</th>\n",
       "      <td>2014.0</td>\n",
       "      <td>X360</td>\n",
       "      <td>63</td>\n",
       "    </tr>\n",
       "    <tr>\n",
       "      <th>18</th>\n",
       "      <td>2014.0</td>\n",
       "      <td>PS4</td>\n",
       "      <td>75</td>\n",
       "    </tr>\n",
       "    <tr>\n",
       "      <th>19</th>\n",
       "      <td>2014.0</td>\n",
       "      <td>3DS</td>\n",
       "      <td>80</td>\n",
       "    </tr>\n",
       "    <tr>\n",
       "      <th>24</th>\n",
       "      <td>2014.0</td>\n",
       "      <td>PSV</td>\n",
       "      <td>100</td>\n",
       "    </tr>\n",
       "    <tr>\n",
       "      <th>25</th>\n",
       "      <td>2014.0</td>\n",
       "      <td>PS3</td>\n",
       "      <td>108</td>\n",
       "    </tr>\n",
       "    <tr>\n",
       "      <th>13</th>\n",
       "      <td>2015.0</td>\n",
       "      <td>PC</td>\n",
       "      <td>50</td>\n",
       "    </tr>\n",
       "    <tr>\n",
       "      <th>17</th>\n",
       "      <td>2015.0</td>\n",
       "      <td>PS3</td>\n",
       "      <td>73</td>\n",
       "    </tr>\n",
       "    <tr>\n",
       "      <th>20</th>\n",
       "      <td>2015.0</td>\n",
       "      <td>XOne</td>\n",
       "      <td>80</td>\n",
       "    </tr>\n",
       "    <tr>\n",
       "      <th>22</th>\n",
       "      <td>2015.0</td>\n",
       "      <td>3DS</td>\n",
       "      <td>86</td>\n",
       "    </tr>\n",
       "    <tr>\n",
       "      <th>26</th>\n",
       "      <td>2015.0</td>\n",
       "      <td>PSV</td>\n",
       "      <td>110</td>\n",
       "    </tr>\n",
       "    <tr>\n",
       "      <th>27</th>\n",
       "      <td>2015.0</td>\n",
       "      <td>PS4</td>\n",
       "      <td>137</td>\n",
       "    </tr>\n",
       "    <tr>\n",
       "      <th>14</th>\n",
       "      <td>2016.0</td>\n",
       "      <td>PC</td>\n",
       "      <td>54</td>\n",
       "    </tr>\n",
       "    <tr>\n",
       "      <th>21</th>\n",
       "      <td>2016.0</td>\n",
       "      <td>PSV</td>\n",
       "      <td>85</td>\n",
       "    </tr>\n",
       "    <tr>\n",
       "      <th>23</th>\n",
       "      <td>2016.0</td>\n",
       "      <td>XOne</td>\n",
       "      <td>87</td>\n",
       "    </tr>\n",
       "    <tr>\n",
       "      <th>28</th>\n",
       "      <td>2016.0</td>\n",
       "      <td>PS4</td>\n",
       "      <td>164</td>\n",
       "    </tr>\n",
       "  </tbody>\n",
       "</table>\n",
       "</div>"
      ],
      "text/plain": [
       "    year_of_release platform  name\n",
       "15           2014.0     XOne    61\n",
       "16           2014.0     X360    63\n",
       "18           2014.0      PS4    75\n",
       "19           2014.0      3DS    80\n",
       "24           2014.0      PSV   100\n",
       "25           2014.0      PS3   108\n",
       "13           2015.0       PC    50\n",
       "17           2015.0      PS3    73\n",
       "20           2015.0     XOne    80\n",
       "22           2015.0      3DS    86\n",
       "26           2015.0      PSV   110\n",
       "27           2015.0      PS4   137\n",
       "14           2016.0       PC    54\n",
       "21           2016.0      PSV    85\n",
       "23           2016.0     XOne    87\n",
       "28           2016.0      PS4   164"
      ]
     },
     "execution_count": 35,
     "metadata": {},
     "output_type": "execute_result"
    }
   ],
   "source": [
    "df_top_platform"
   ]
  },
  {
   "cell_type": "markdown",
   "metadata": {},
   "source": [
    "<div style=\"background-color: #fff0e0; padding: 10px; font-family: monospace; font-size: 15px\">\n",
    "Данных много, визуально оценить сложно, нарисуем график</div>"
   ]
  },
  {
   "cell_type": "code",
   "execution_count": 36,
   "metadata": {},
   "outputs": [
    {
     "data": {
      "text/plain": [
       "Text(0, 0.5, 'consoles_sales_count')"
      ]
     },
     "execution_count": 36,
     "metadata": {},
     "output_type": "execute_result"
    },
    {
     "data": {
      "image/png": "[encoded data removed]",
      "text/plain": [
       "<Figure size 864x648 with 1 Axes>"
      ]
     },
     "metadata": {
      "needs_background": "light"
     },
     "output_type": "display_data"
    }
   ],
   "source": [
    "fig, ax = plt.subplots()\n",
    "for i in df_top_platform.platform.unique():\n",
    "    df_top_platform.query('platform == @i').plot(x='year_of_release', y='name', label=i, ax=ax, figsize=(12, 9))\n",
    "ax.set_ylabel(\"consoles_sales_count\")"
   ]
  },
  {
   "cell_type": "markdown",
   "metadata": {},
   "source": [
    "<div style=\"background-color: #fff0e0; padding: 10px; font-family: monospace; font-size: 15px\">\n",
    "Здесь можно более четко увидеть уверенный рост PS4, не такой уверенный, но все еще рост Xbox One, уверенное падение PS3 и PS Vita, и робкий рост PC</div>\n",
    "\n",
    "<div style=\"background-color: #fff0e0; padding: 10px; font-family: monospace; font-size: 15px\">\n",
    "Для себя делаем пометочку – обращать внимание в основном на Xbox One и PS4</div>"
   ]
  },
  {
   "cell_type": "markdown",
   "metadata": {},
   "source": [
    "## 3.5.   Ящик с усами"
   ]
  },
  {
   "cell_type": "markdown",
   "metadata": {},
   "source": [
    "<div style=\"background-color: #fff0e0; padding: 10px; font-family: monospace; font-size: 15px\">\n",
    "Посмотрим, кто у нас остался из платформ</div>"
   ]
  },
  {
   "cell_type": "code",
   "execution_count": 37,
   "metadata": {},
   "outputs": [
    {
     "data": {
      "text/plain": [
       "array(['PS4', '3DS', 'XOne', 'WiiU', 'PS3', 'X360', 'PC', 'Wii', 'PSV',\n",
       "       'PSP'], dtype=object)"
      ]
     },
     "execution_count": 37,
     "metadata": {},
     "output_type": "execute_result"
    }
   ],
   "source": [
    "df.platform.unique()"
   ]
  },
  {
   "cell_type": "markdown",
   "metadata": {},
   "source": [
    "<div style=\"background-color: #fff0e0; padding: 10px; font-family: monospace; font-size: 15px\">\n",
    "И построим по ним ящики с усами</div>"
   ]
  },
  {
   "cell_type": "code",
   "execution_count": 38,
   "metadata": {},
   "outputs": [
    {
     "data": {
      "text/plain": [
       "<AxesSubplot:title={'center':'summary_sales'}, xlabel='platform'>"
      ]
     },
     "execution_count": 38,
     "metadata": {},
     "output_type": "execute_result"
    },
    {
     "data": {
      "image/png": "[encoded data removed]",
      "text/plain": [
       "<Figure size 864x648 with 1 Axes>"
      ]
     },
     "metadata": {
      "needs_background": "light"
     },
     "output_type": "display_data"
    }
   ],
   "source": [
    "df.boxplot(column='summary_sales', by='platform', figsize=(12, 9))"
   ]
  },
  {
   "cell_type": "markdown",
   "metadata": {},
   "source": [
    "<div style=\"background-color: #fff0e0; padding: 10px; font-family: monospace; font-size: 15px\">\n",
    "Мелкий формат хорошо показывает выбросы, но учитывая эксклюзивы для различных платформ, сложности с наличием другие и подобные эксцессы – на них можно пока не обращать внимание</div>"
   ]
  },
  {
   "cell_type": "code",
   "execution_count": 39,
   "metadata": {},
   "outputs": [
    {
     "data": {
      "image/png": "[encoded data removed]",
      "text/plain": [
       "<Figure size 864x648 with 1 Axes>"
      ]
     },
     "metadata": {
      "needs_background": "light"
     },
     "output_type": "display_data"
    }
   ],
   "source": [
    "df.boxplot(column='summary_sales', by='platform', figsize=(12, 9))\n",
    "plt.ylim(0, 2)\n",
    "plt.show()"
   ]
  },
  {
   "cell_type": "markdown",
   "metadata": {},
   "source": [
    "<div style=\"background-color: #fff0e0; padding: 10px; font-family: monospace; font-size: 15px\">\n",
    "Здесь четко видны лидеры: Wii, WiiU, PS4, Xbox One</div>"
   ]
  },
  {
   "cell_type": "markdown",
   "metadata": {},
   "source": [
    "## 3.6.   Влияние отзывов на продажи"
   ]
  },
  {
   "cell_type": "markdown",
   "metadata": {},
   "source": [
    "<div style=\"background-color: #fff0e0; padding: 10px; font-family: monospace; font-size: 15px\">\n",
    "Пойдем простым путем - построим скаттер плот по распределению отзывов критиков и продажам</div>"
   ]
  },
  {
   "cell_type": "code",
   "execution_count": 40,
   "metadata": {},
   "outputs": [
    {
     "data": {
      "text/plain": [
       "<AxesSubplot:xlabel='critic_score', ylabel='summary_sales'>"
      ]
     },
     "execution_count": 40,
     "metadata": {},
     "output_type": "execute_result"
    },
    {
     "data": {
      "image/png": "[encoded data removed]",
      "text/plain": [
       "<Figure size 864x648 with 1 Axes>"
      ]
     },
     "metadata": {
      "needs_background": "light"
     },
     "output_type": "display_data"
    }
   ],
   "source": [
    "df.query('platform == \"PS4\" and critic_score.notna()').plot(x='critic_score', \n",
    "                                   y='summary_sales', \n",
    "                                   kind='scatter', \n",
    "                                   figsize=(12, 9))"
   ]
  },
  {
   "cell_type": "markdown",
   "metadata": {},
   "source": [
    "<div style=\"background-color: #fff0e0; padding: 10px; font-family: monospace; font-size: 15px\">\n",
    "Здесь видна логичная закономерность – чем выше ставят оценку критики, тем сильнее растут продажи, но большинство продаж все еще сконцентрировано внизу графика</div>\n",
    "\n",
    "<div style=\"background-color: #fff0e0; padding: 10px; font-family: monospace; font-size: 15px\">\n",
    "И посмотрим корреляцию</div>"
   ]
  },
  {
   "cell_type": "code",
   "execution_count": 41,
   "metadata": {},
   "outputs": [
    {
     "data": {
      "text/html": [
       "<div>\n",
       "<style scoped>\n",
       "    .dataframe tbody tr th:only-of-type {\n",
       "        vertical-align: middle;\n",
       "    }\n",
       "\n",
       "    .dataframe tbody tr th {\n",
       "        vertical-align: top;\n",
       "    }\n",
       "\n",
       "    .dataframe thead th {\n",
       "        text-align: right;\n",
       "    }\n",
       "</style>\n",
       "<table border=\"1\" class=\"dataframe\">\n",
       "  <thead>\n",
       "    <tr style=\"text-align: right;\">\n",
       "      <th></th>\n",
       "      <th>summary_sales</th>\n",
       "      <th>critic_score</th>\n",
       "    </tr>\n",
       "  </thead>\n",
       "  <tbody>\n",
       "    <tr>\n",
       "      <th>summary_sales</th>\n",
       "      <td>1.000000</td>\n",
       "      <td>0.402661</td>\n",
       "    </tr>\n",
       "    <tr>\n",
       "      <th>critic_score</th>\n",
       "      <td>0.402661</td>\n",
       "      <td>1.000000</td>\n",
       "    </tr>\n",
       "  </tbody>\n",
       "</table>\n",
       "</div>"
      ],
      "text/plain": [
       "               summary_sales  critic_score\n",
       "summary_sales       1.000000      0.402661\n",
       "critic_score        0.402661      1.000000"
      ]
     },
     "execution_count": 41,
     "metadata": {},
     "output_type": "execute_result"
    }
   ],
   "source": [
    "df.query('platform == \"PS4\" and critic_score.notna()')[['summary_sales', 'critic_score']].corr()"
   ]
  },
  {
   "cell_type": "markdown",
   "metadata": {},
   "source": [
    "<div style=\"background-color: #fff0e0; padding: 10px; font-family: monospace; font-size: 15px\">\n",
    "40% – не так много, корреляция слабее, чем визуально на графике</div>\n",
    "\n",
    "<div style=\"background-color: #fff0e0; padding: 10px; font-family: monospace; font-size: 15px\">\n",
    "Возьмем для сравнения другую платформу</div>"
   ]
  },
  {
   "cell_type": "code",
   "execution_count": 42,
   "metadata": {},
   "outputs": [
    {
     "data": {
      "text/plain": [
       "<AxesSubplot:xlabel='critic_score', ylabel='summary_sales'>"
      ]
     },
     "execution_count": 42,
     "metadata": {},
     "output_type": "execute_result"
    },
    {
     "data": {
      "image/png": "[encoded data removed]",
      "text/plain": [
       "<Figure size 864x648 with 1 Axes>"
      ]
     },
     "metadata": {
      "needs_background": "light"
     },
     "output_type": "display_data"
    }
   ],
   "source": [
    "df.query('platform == \"XOne\" and critic_score.notna()').plot(x='critic_score', \n",
    "                                   y='summary_sales', \n",
    "                                   kind='scatter', \n",
    "                                   figsize=(12, 9))"
   ]
  },
  {
   "cell_type": "markdown",
   "metadata": {},
   "source": [
    "<div style=\"background-color: #fff0e0; padding: 10px; font-family: monospace; font-size: 15px\">\n",
    "С графиком та же история</div>"
   ]
  },
  {
   "cell_type": "code",
   "execution_count": 43,
   "metadata": {},
   "outputs": [
    {
     "data": {
      "text/html": [
       "<div>\n",
       "<style scoped>\n",
       "    .dataframe tbody tr th:only-of-type {\n",
       "        vertical-align: middle;\n",
       "    }\n",
       "\n",
       "    .dataframe tbody tr th {\n",
       "        vertical-align: top;\n",
       "    }\n",
       "\n",
       "    .dataframe thead th {\n",
       "        text-align: right;\n",
       "    }\n",
       "</style>\n",
       "<table border=\"1\" class=\"dataframe\">\n",
       "  <thead>\n",
       "    <tr style=\"text-align: right;\">\n",
       "      <th></th>\n",
       "      <th>summary_sales</th>\n",
       "      <th>critic_score</th>\n",
       "    </tr>\n",
       "  </thead>\n",
       "  <tbody>\n",
       "    <tr>\n",
       "      <th>summary_sales</th>\n",
       "      <td>1.000000</td>\n",
       "      <td>0.428677</td>\n",
       "    </tr>\n",
       "    <tr>\n",
       "      <th>critic_score</th>\n",
       "      <td>0.428677</td>\n",
       "      <td>1.000000</td>\n",
       "    </tr>\n",
       "  </tbody>\n",
       "</table>\n",
       "</div>"
      ],
      "text/plain": [
       "               summary_sales  critic_score\n",
       "summary_sales       1.000000      0.428677\n",
       "critic_score        0.428677      1.000000"
      ]
     },
     "execution_count": 43,
     "metadata": {},
     "output_type": "execute_result"
    }
   ],
   "source": [
    "df.query('platform == \"XOne\" and critic_score.notna()')[['summary_sales', 'critic_score']].corr()"
   ]
  },
  {
   "cell_type": "markdown",
   "metadata": {},
   "source": [
    "<div style=\"background-color: #fff0e0; padding: 10px; font-family: monospace; font-size: 15px\">\n",
    "Корреляция примерно на том же уровне, чуть выше – 42%</div>\n",
    "\n",
    "<div style=\"background-color: #fff0e0; padding: 10px; font-family: monospace; font-size: 15px\">\n",
    "Для разнообразия посмотрим на график по всем платформам</div>"
   ]
  },
  {
   "cell_type": "code",
   "execution_count": 44,
   "metadata": {},
   "outputs": [
    {
     "data": {
      "text/plain": [
       "<AxesSubplot:xlabel='critic_score', ylabel='summary_sales'>"
      ]
     },
     "execution_count": 44,
     "metadata": {},
     "output_type": "execute_result"
    },
    {
     "data": {
      "image/png": "[encoded data removed]",
      "text/plain": [
       "<Figure size 1080x864 with 1 Axes>"
      ]
     },
     "metadata": {},
     "output_type": "display_data"
    }
   ],
   "source": [
    "sb.set(rc={'figure.figsize':(15, 12)})\n",
    "sb.scatterplot(x='critic_score', \n",
    "               y='summary_sales', \n",
    "               hue='platform', \n",
    "               data=df.query('critic_score.notna()'))"
   ]
  },
  {
   "cell_type": "markdown",
   "metadata": {},
   "source": [
    "<div style=\"background-color: #fff0e0; padding: 10px; font-family: monospace; font-size: 15px\">\n",
    "Отклонений от привычного уклада не наблюдается</div>"
   ]
  },
  {
   "cell_type": "code",
   "execution_count": 45,
   "metadata": {},
   "outputs": [
    {
     "data": {
      "text/html": [
       "<div>\n",
       "<style scoped>\n",
       "    .dataframe tbody tr th:only-of-type {\n",
       "        vertical-align: middle;\n",
       "    }\n",
       "\n",
       "    .dataframe tbody tr th {\n",
       "        vertical-align: top;\n",
       "    }\n",
       "\n",
       "    .dataframe thead th {\n",
       "        text-align: right;\n",
       "    }\n",
       "</style>\n",
       "<table border=\"1\" class=\"dataframe\">\n",
       "  <thead>\n",
       "    <tr style=\"text-align: right;\">\n",
       "      <th></th>\n",
       "      <th>summary_sales</th>\n",
       "      <th>critic_score</th>\n",
       "    </tr>\n",
       "  </thead>\n",
       "  <tbody>\n",
       "    <tr>\n",
       "      <th>summary_sales</th>\n",
       "      <td>1.000000</td>\n",
       "      <td>0.328105</td>\n",
       "    </tr>\n",
       "    <tr>\n",
       "      <th>critic_score</th>\n",
       "      <td>0.328105</td>\n",
       "      <td>1.000000</td>\n",
       "    </tr>\n",
       "  </tbody>\n",
       "</table>\n",
       "</div>"
      ],
      "text/plain": [
       "               summary_sales  critic_score\n",
       "summary_sales       1.000000      0.328105\n",
       "critic_score        0.328105      1.000000"
      ]
     },
     "execution_count": 45,
     "metadata": {},
     "output_type": "execute_result"
    }
   ],
   "source": [
    "df.query('critic_score.notna()')[['summary_sales', 'critic_score']].corr()"
   ]
  },
  {
   "cell_type": "markdown",
   "metadata": {},
   "source": [
    "<div style=\"background-color: #fff0e0; padding: 10px; font-family: monospace; font-size: 15px\">\n",
    "Общая корреляция довольно слабая, это говорит нам о том, что хоть при низких оценках игру вообще не покупают в больших тиражах, но высокие оценки критиков очень слабо влияют на количество продаж</div>"
   ]
  },
  {
   "cell_type": "markdown",
   "metadata": {},
   "source": [
    "## 3.7.   Распределение игр по жанрам"
   ]
  },
  {
   "cell_type": "markdown",
   "metadata": {},
   "source": [
    "<div style=\"background-color: #fff0e0; padding: 10px; font-family: monospace; font-size: 15px\">\n",
    "Посмотрим на самые продаваемые жанры</div>"
   ]
  },
  {
   "cell_type": "code",
   "execution_count": 46,
   "metadata": {},
   "outputs": [
    {
     "data": {
      "text/plain": [
       "Text(0, 0.5, 'summary_games_sales')"
      ]
     },
     "execution_count": 46,
     "metadata": {},
     "output_type": "execute_result"
    },
    {
     "data": {
      "image/png": "[encoded data removed]",
      "text/plain": [
       "<Figure size 1080x864 with 1 Axes>"
      ]
     },
     "metadata": {},
     "output_type": "display_data"
    }
   ],
   "source": [
    "ax = (df.pivot_table(index='genre', values='summary_sales', aggfunc='sum')\n",
    " .sort_values(by='summary_sales', ascending=False)\n",
    " .plot(kind='bar'))\n",
    "ax.set_ylabel(\"summary_games_sales\")"
   ]
  },
  {
   "cell_type": "markdown",
   "metadata": {},
   "source": [
    "<div style=\"background-color: #fff0e0; padding: 10px; font-family: monospace; font-size: 15px\">\n",
    "Лидируют Action и Shooter, уверенную планку держат Sports и Role-Playing</div>\n",
    "\n",
    "<div style=\"background-color: #fff0e0; padding: 10px; font-family: monospace; font-size: 15px\">\n",
    "Посмотрим на средние показатели продаж</div>"
   ]
  },
  {
   "cell_type": "code",
   "execution_count": 47,
   "metadata": {},
   "outputs": [
    {
     "data": {
      "text/plain": [
       "Text(0, 0.5, 'summary_games_sales')"
      ]
     },
     "execution_count": 47,
     "metadata": {},
     "output_type": "execute_result"
    },
    {
     "data": {
      "image/png": "[encoded data removed]",
      "text/plain": [
       "<Figure size 1080x864 with 1 Axes>"
      ]
     },
     "metadata": {},
     "output_type": "display_data"
    }
   ],
   "source": [
    "ax = (df.pivot_table(index='genre', values='summary_sales', aggfunc='mean')\n",
    " .sort_values(by='summary_sales', ascending=False)\n",
    " .plot(kind='bar'))\n",
    "ax.set_ylabel(\"summary_games_sales\")"
   ]
  },
  {
   "cell_type": "markdown",
   "metadata": {},
   "source": [
    "<div style=\"background-color: #fff0e0; padding: 10px; font-family: monospace; font-size: 15px\">\n",
    "Здесь картина интереснее: Shooter в лидерах, на втором месте, но с большим отрывом Sports, остальные показатели кратно меньше</div>\n",
    "\n",
    "<div style=\"background-color: #fff0e0; padding: 10px; font-family: monospace; font-size: 15px\">\n",
    "Можно сделать вывод, что суммарные данные и средние показатели сильно разнятся – могу сделать предположение, что вопрос цены, на Sports ценник выше, и среднее задирается, а на остальные жанры – ниже, хотя суммарно на них тратят больше, что говорит о большом количестве проданных копий</div>"
   ]
  },
  {
   "cell_type": "markdown",
   "metadata": {},
   "source": [
    "# 4.   Портрет пользователя по регионам"
   ]
  },
  {
   "cell_type": "markdown",
   "metadata": {},
   "source": [
    "<div style=\"background-color: #fff0e0; padding: 10px; font-family: monospace; font-size: 15px\">\n",
    "Проведем процедуру анализа игроков из разных регионов по доступным нам данным</div>"
   ]
  },
  {
   "cell_type": "code",
   "execution_count": 48,
   "metadata": {},
   "outputs": [],
   "source": [
    "temp = df.copy()\n",
    "temp.rating = temp.rating.fillna('Na in country')"
   ]
  },
  {
   "cell_type": "markdown",
   "metadata": {},
   "source": [
    "## 4.1.   Самые популярные платформы"
   ]
  },
  {
   "cell_type": "code",
   "execution_count": 49,
   "metadata": {},
   "outputs": [],
   "source": [
    "na_platform_data = temp.pivot_table(index='platform', \n",
    "               values='na_sales', \n",
    "               aggfunc='sum').sort_values(by='na_sales', \n",
    "              ascending=False).head()\n",
    "\n",
    "eu_platform_data = (temp.pivot_table(index='platform', \n",
    "               values='eu_sales', \n",
    "               aggfunc='sum').sort_values(by='eu_sales', \n",
    "              ascending=False)).head()\n",
    "\n",
    "jp_platform_data = (temp.pivot_table(index='platform', \n",
    "               values='jp_sales', \n",
    "               aggfunc='sum').sort_values(by='jp_sales', \n",
    "              ascending=False)).head()"
   ]
  },
  {
   "cell_type": "code",
   "execution_count": 50,
   "metadata": {
    "scrolled": true
   },
   "outputs": [
    {
     "data": {
      "image/png": "[encoded data removed]",
      "text/plain": [
       "<Figure size 1080x1080 with 3 Axes>"
      ]
     },
     "metadata": {},
     "output_type": "display_data"
    }
   ],
   "source": [
    "fig, ax = fig, (ax1, ax2, ax3) = plt.subplots(1, 3, figsize=(15, 15))\n",
    "ax1.pie(x=na_platform_data.na_sales, labels=na_platform_data.index)\n",
    "ax1.set_title(\"NA\")\n",
    "ax2.pie(x=eu_platform_data.eu_sales, labels=eu_platform_data.index)\n",
    "ax2.set_title(\"EU\")\n",
    "ax3.pie(x=jp_platform_data.jp_sales, labels=jp_platform_data.index)\n",
    "ax3.set_title(\"JP\")\n",
    "plt.show()"
   ]
  },
  {
   "cell_type": "markdown",
   "metadata": {},
   "source": [
    "<div style=\"background-color: #fff0e0; padding: 10px; font-family: monospace; font-size: 15px\">\n",
    "Игроки в na отдают предпочтение PS4 и Xbox One, остальные платформы сильно ниже по показателям</div>\n",
    "\n",
    "<div style=\"background-color: #fff0e0; padding: 10px; font-family: monospace; font-size: 15px\">\n",
    "В eu есть более четкий лидер – PS4, все другие платформы значительно ниже по показателям</div>\n",
    "\n",
    "<div style=\"background-color: #fff0e0; padding: 10px; font-family: monospace; font-size: 15px\">\n",
    "В далеком и таком непонятном jp лидирует 3DS; причем настолько, что остальные платформы нет смысла рассматривать как конкурентов</div>"
   ]
  },
  {
   "cell_type": "markdown",
   "metadata": {},
   "source": [
    "## 4.2.   Самые популярные жанры"
   ]
  },
  {
   "cell_type": "code",
   "execution_count": 51,
   "metadata": {},
   "outputs": [],
   "source": [
    "na_genre_data = temp.pivot_table(index='genre', \n",
    "               values='na_sales', \n",
    "               aggfunc='sum').sort_values(by='na_sales', \n",
    "              ascending=False).head()\n",
    "\n",
    "eu_genre_data = (temp.pivot_table(index='genre', \n",
    "               values='eu_sales', \n",
    "               aggfunc='sum').sort_values(by='eu_sales', \n",
    "              ascending=False)).head()\n",
    "\n",
    "jp_genre_data = (temp.pivot_table(index='genre', \n",
    "               values='jp_sales', \n",
    "               aggfunc='sum').sort_values(by='jp_sales', \n",
    "              ascending=False)).head()"
   ]
  },
  {
   "cell_type": "code",
   "execution_count": 52,
   "metadata": {
    "scrolled": true
   },
   "outputs": [
    {
     "data": {
      "image/png": "[encoded data removed]",
      "text/plain": [
       "<Figure size 1080x1080 with 3 Axes>"
      ]
     },
     "metadata": {},
     "output_type": "display_data"
    }
   ],
   "source": [
    "fig, ax = fig, (ax1, ax2, ax3) = plt.subplots(1, 3, figsize=(15, 15))\n",
    "ax1.pie(x=na_genre_data.na_sales, labels=na_genre_data.index)\n",
    "ax1.set_title(\"NA\")\n",
    "ax2.pie(x=eu_genre_data.eu_sales, labels=eu_genre_data.index)\n",
    "ax2.set_title(\"EU\")\n",
    "ax3.pie(x=jp_genre_data.jp_sales, labels=jp_genre_data.index)\n",
    "ax3.set_title(\"JP\")\n",
    "plt.show()"
   ]
  },
  {
   "cell_type": "markdown",
   "metadata": {},
   "source": [
    "<div style=\"background-color: #fff0e0; padding: 10px; font-family: monospace; font-size: 15px\">\n",
    "В na мы можем наблюдать плавный спад интереса – на первом месте Shooter, на втором с небольшим отставанием – Action. Остальные показатели идут с чуть большим разрывом</div>\n",
    "\n",
    "<div style=\"background-color: #fff0e0; padding: 10px; font-family: monospace; font-size: 15px\">\n",
    "По жанрам в eu – такой же плавный спад интереса, тройка лидеров: Action, Shooter, Sports</div>\n",
    "\n",
    "<div style=\"background-color: #fff0e0; padding: 10px; font-family: monospace; font-size: 15px\">\n",
    "У jp два четких, подавляющих лидера: Role_playing и Action</div>"
   ]
  },
  {
   "cell_type": "markdown",
   "metadata": {},
   "source": [
    "## 4.3.   Влияние рейтинга ESRB"
   ]
  },
  {
   "cell_type": "code",
   "execution_count": 53,
   "metadata": {},
   "outputs": [],
   "source": [
    "na_rating_data = (temp.pivot_table(index='rating', \n",
    "               values='na_sales', \n",
    "               aggfunc='sum').sort_values(by='na_sales', \n",
    "              ascending=False)).head()\n",
    "\n",
    "eu_rating_data = (temp.pivot_table(index='rating', \n",
    "               values='eu_sales', \n",
    "               aggfunc='sum').sort_values(by='eu_sales', \n",
    "              ascending=False)).head()\n",
    "\n",
    "jp_rating_data = (temp.pivot_table(index='rating', \n",
    "               values='jp_sales', \n",
    "               aggfunc='sum').sort_values(by='jp_sales', \n",
    "              ascending=False)).head()"
   ]
  },
  {
   "cell_type": "code",
   "execution_count": 54,
   "metadata": {},
   "outputs": [
    {
     "data": {
      "image/png": "[encoded data removed]",
      "text/plain": [
       "<Figure size 1080x1080 with 3 Axes>"
      ]
     },
     "metadata": {},
     "output_type": "display_data"
    }
   ],
   "source": [
    "fig, ax = fig, (ax1, ax2, ax3) = plt.subplots(1, 3, figsize=(15, 15))\n",
    "ax1.pie(x=na_rating_data.na_sales, labels=na_rating_data.index)\n",
    "ax1.set_title(\"NA\")\n",
    "ax2.pie(x=eu_rating_data.eu_sales, labels=eu_rating_data.index)\n",
    "ax2.set_title(\"EU\")\n",
    "ax3.pie(x=jp_rating_data.jp_sales, labels=jp_rating_data.index)\n",
    "ax3.set_title(\"JP\")\n",
    "plt.show()"
   ]
  },
  {
   "cell_type": "markdown",
   "metadata": {},
   "source": [
    "<div style=\"background-color: #fff0e0; padding: 10px; font-family: monospace; font-size: 15px\">\n",
    "Тренд: в na игры с рейтингом M продаются лучше всего, вторым по счету идут игры без доступного рейтинга, остальные рейтинги не имеют такого уровня продаж, но не отличаются друг от друга критически</div>\n",
    "\n",
    "<div style=\"background-color: #fff0e0; padding: 10px; font-family: monospace; font-size: 15px\">\n",
    "В eu история повторяется, но рейтинг Е имеет чуть больший вес</div>\n",
    "\n",
    "<div style=\"background-color: #fff0e0; padding: 10px; font-family: monospace; font-size: 15px\">\n",
    "jp отдают предпочтение играм, не имеющим рейтинг штатов, а остальные рейтинги суммарно дают меньше половины</div>"
   ]
  },
  {
   "cell_type": "markdown",
   "metadata": {},
   "source": [
    "## 4.4.   Общий вывод"
   ]
  },
  {
   "cell_type": "markdown",
   "metadata": {},
   "source": [
    "<div style=\"background-color: #fff0e0; padding: 10px; font-family: monospace; font-size: 15px\">\n",
    "В na и eu игроки в целом похожи – любимые платформы PS4 и Xbox One, самый популярный жанр – Shooter. С jр история чуть более интересная – там лидирует платформа 3DS и жанр Role-Playing, однако, Action их всех объединяет</div>"
   ]
  },
  {
   "cell_type": "markdown",
   "metadata": {},
   "source": [
    "# 5.   Проверка гипотез"
   ]
  },
  {
   "cell_type": "markdown",
   "metadata": {},
   "source": [
    "## 5.1.   Рейтинги платформ одинаковые"
   ]
  },
  {
   "cell_type": "markdown",
   "metadata": {},
   "source": [
    "<div style=\"background-color: #fff0e0; padding: 10px; font-family: monospace; font-size: 15px\">\n",
    "Нулевая гипотеза: рейтинг платформы Xbox One и Playstation 4 одинаковый</div>\n",
    "\n",
    "<div style=\"background-color: #fff0e0; padding: 10px; font-family: monospace; font-size: 15px\">\n",
    "Это предположение, которое мы будем считать истиным, если оно подтвердится статистическими тестами. В ином случае, за истиную будет принята альтернативная гипотеза: рейтинги платформ Xbox One и Playstation 4 различаются</div>\n",
    "\n",
    "<div style=\"background-color: #fff0e0; padding: 10px; font-family: monospace; font-size: 15px\">\n",
    "Рассчитаем средний рейтинг каждой платформы</div>"
   ]
  },
  {
   "cell_type": "code",
   "execution_count": 56,
   "metadata": {},
   "outputs": [
    {
     "data": {
      "text/plain": [
       "6.594545454545456"
      ]
     },
     "execution_count": 56,
     "metadata": {},
     "output_type": "execute_result"
    }
   ],
   "source": [
    "df.query('platform == \"XOne\" and user_score.notna()').loc[df.user_score.notnull(), 'user_score'].mean()"
   ]
  },
  {
   "cell_type": "code",
   "execution_count": 57,
   "metadata": {},
   "outputs": [
    {
     "data": {
      "text/plain": [
       "6.82809917355372"
      ]
     },
     "execution_count": 57,
     "metadata": {},
     "output_type": "execute_result"
    }
   ],
   "source": [
    "df.query('platform == \"PS4\"  and user_score.notna()').loc[df.user_score.notnull(), 'user_score'].mean()"
   ]
  },
  {
   "cell_type": "markdown",
   "metadata": {},
   "source": [
    "<div style=\"background-color: #fff0e0; padding: 10px; font-family: monospace; font-size: 15px\">\n",
    "Визуально они очень похожи, но не лишним будет провести т-тест</div>"
   ]
  },
  {
   "cell_type": "code",
   "execution_count": 58,
   "metadata": {},
   "outputs": [
    {
     "data": {
      "text/plain": [
       "0.09668975421672833"
      ]
     },
     "execution_count": 58,
     "metadata": {},
     "output_type": "execute_result"
    }
   ],
   "source": [
    "(st.ttest_ind(df.query('platform == \"XOne\" and user_score.notna()').loc[df.user_score.notnull(), \n",
    "                                                                        'user_score'], \n",
    "              df.query('platform == \"PS4\" and user_score.notna()').loc[df.user_score.notnull(), \n",
    "                                                                       'user_score'])\n",
    " .pvalue)"
   ]
  },
  {
   "cell_type": "markdown",
   "metadata": {},
   "source": [
    "<div style=\"background-color: #fff0e0; padding: 10px; font-family: monospace; font-size: 15px\">\n",
    "9% – в целом достаточно для положительного решения относительно нулевой гипотезы</div>\n",
    "\n",
    "<div style=\"background-color: #fff0e0; padding: 10px; font-family: monospace; font-size: 15px\">\n",
    "Ответ: да, средний рейтинг платформ Xbox One и Playstation 4 одинаковый</div>"
   ]
  },
  {
   "cell_type": "markdown",
   "metadata": {},
   "source": [
    "## 5.2.   Рейтинги жанров разные"
   ]
  },
  {
   "cell_type": "markdown",
   "metadata": {},
   "source": [
    "<div style=\"background-color: #fff0e0; padding: 10px; font-family: monospace; font-size: 15px\">\n",
    "Нулевая гипотеза: рейтинг жанра Action и жанра Sports разные</div>\n",
    "\n",
    "<div style=\"background-color: #fff0e0; padding: 10px; font-family: monospace; font-size: 15px\">\n",
    "Данную гипотезу будем считать истиной в случае подтверждения тестом, иначе за истину возьмем альтернативную гипотезу: рейтинги жанров Action и Sports одинаковы</div>"
   ]
  },
  {
   "cell_type": "code",
   "execution_count": 59,
   "metadata": {},
   "outputs": [
    {
     "data": {
      "text/plain": [
       "6.760606060606061"
      ]
     },
     "execution_count": 59,
     "metadata": {},
     "output_type": "execute_result"
    }
   ],
   "source": [
    "df.query('genre == \"Action\" and user_score.notna()').loc[df.user_score.notnull(), 'user_score'].mean()"
   ]
  },
  {
   "cell_type": "code",
   "execution_count": 60,
   "metadata": {},
   "outputs": [
    {
     "data": {
      "text/plain": [
       "5.2251968503937"
      ]
     },
     "execution_count": 60,
     "metadata": {},
     "output_type": "execute_result"
    }
   ],
   "source": [
    "df.query('genre == \"Sports\" and user_score.notna()').loc[df.user_score.notnull(), 'user_score'].mean()"
   ]
  },
  {
   "cell_type": "markdown",
   "metadata": {},
   "source": [
    "<div style=\"background-color: #fff0e0; padding: 10px; font-family: monospace; font-size: 15px\">\n",
    "Визуально они несколько отличаются, в масштабах 10-бальной шкалы довольно существенно, проведем тест</div>"
   ]
  },
  {
   "cell_type": "code",
   "execution_count": 61,
   "metadata": {},
   "outputs": [
    {
     "data": {
      "text/plain": [
       "2.8711147985105864e-19"
      ]
     },
     "execution_count": 61,
     "metadata": {},
     "output_type": "execute_result"
    }
   ],
   "source": [
    "(st.ttest_ind(df.query('genre == \"Action\" and user_score.notna()').loc[df.user_score.notnull(), \n",
    "                                                                       'user_score'], \n",
    "              df.query('genre == \"Sports\" and user_score.notna()').loc[df.user_score.notnull(), \n",
    "                                                                       'user_score'])\n",
    " .pvalue)"
   ]
  },
  {
   "cell_type": "markdown",
   "metadata": {},
   "source": [
    "<div style=\"background-color: #fff0e0; padding: 10px; font-family: monospace; font-size: 15px\">\n",
    "Крайне маленькое число с большим количеством нулей</div>\n",
    "\n",
    "<div style=\"background-color: #fff0e0; padding: 10px; font-family: monospace; font-size: 15px\">\n",
    "Очевидно, нулевая гипотеза оказалась верной, так как выборки очень различаются</div>\n",
    "\n",
    "<div style=\"background-color: #fff0e0; padding: 10px; font-family: monospace; font-size: 15px\">\n",
    "Ответ: да, средний рейтинг пользователей для жанров Action и Sports отличается</div>"
   ]
  },
  {
   "cell_type": "markdown",
   "metadata": {},
   "source": [
    "# 6.   Общий вывод"
   ]
  },
  {
   "cell_type": "markdown",
   "metadata": {},
   "source": [
    "<div style=\"background-color: #fff0e0; padding: 10px; font-family: monospace; font-size: 15px\">\n",
    "Мы получили массив данных, с которым провели следующую работу:</div>\n",
    "\n",
    "<div style=\"background-color: #fff0e0; padding: 10px; font-family: monospace; font-size: 15px\">\n",
    "Очистили данные от ошибок, заполнили пропуски логическими значениями, добавили столбец, суммирующий продажи во всех регионах</div>\n",
    "\n",
    "<div style=\"background-color: #fff0e0; padding: 10px; font-family: monospace; font-size: 15px\">\n",
    "В процессе исследовательского анализа выяснили, что актуальный период поколения консолей, в основном, 4 года, в следствие чего использовали в будущем срез с 2014 года для анализа данных</div>\n",
    "\n",
    "<div style=\"background-color: #fff0e0; padding: 10px; font-family: monospace; font-size: 15px\">\n",
    "Популярными платформами оказались ожидаемые PS4 и Xbox One, к ним присоеденились (по показателям продаж) Wii и WiiU, но это больше обусловлено не столько популярностью, сколько стоимостью игр (уже личный опыт)</div>\n",
    "\n",
    "<div style=\"background-color: #fff0e0; padding: 10px; font-family: monospace; font-size: 15px\">\n",
    "Было выяснено, что отзывы критиков не так сильно влияют на продажи игр; скорее, низкие оценки стимулируют отсутствие продаж, нежели рост при высоких</div>\n",
    "\n",
    "<div style=\"background-color: #fff0e0; padding: 10px; font-family: monospace; font-size: 15px\">\n",
    "Портреты пользователей из Америки и Европы оказались очень похожими: любимые платформы - PS4 и Xbox One, любимые жанры – Action и Sport; пользователи из Азии чуть более специфичны в своих вкусах – основной лидер в платформах 3DS, а в любимые жанры уверенно вмешивается Role-Playing</div>\n",
    "\n",
    "<div style=\"background-color: #fff0e0; padding: 10px; font-family: monospace; font-size: 15px\">\n",
    "Так же статистическими тестами проверили и выяснили, что рейтинги основных платформ (PS4 и Xbox One) очень близки к одинаковым, а рейтинги среди различных жанров довольно отличны друг от друга</div>"
   ]
  }
 ],
 "metadata": {
  "ExecuteTimeLog": [
   {
    "duration": 615,
    "start_time": "2022-05-14T12:16:32.902Z"
   },
   {
    "duration": 41,
    "start_time": "2022-05-14T12:16:48.897Z"
   },
   {
    "duration": 23,
    "start_time": "2022-05-14T12:16:49.482Z"
   },
   {
    "duration": 13,
    "start_time": "2022-05-14T12:16:53.815Z"
   },
   {
    "duration": 4,
    "start_time": "2022-05-14T12:17:04.177Z"
   },
   {
    "duration": 94,
    "start_time": "2022-05-14T12:17:07.755Z"
   },
   {
    "duration": 6,
    "start_time": "2022-05-14T12:17:12.149Z"
   },
   {
    "duration": 4,
    "start_time": "2022-05-14T12:17:16.495Z"
   },
   {
    "duration": 20,
    "start_time": "2022-05-14T12:17:19.593Z"
   },
   {
    "duration": 13,
    "start_time": "2022-05-14T12:18:23.162Z"
   },
   {
    "duration": 24,
    "start_time": "2022-05-14T12:18:41.504Z"
   },
   {
    "duration": 12,
    "start_time": "2022-05-14T12:20:00.261Z"
   },
   {
    "duration": 19,
    "start_time": "2022-05-14T12:21:38.692Z"
   },
   {
    "duration": 14,
    "start_time": "2022-05-14T12:22:10.725Z"
   },
   {
    "duration": 5,
    "start_time": "2022-05-14T12:26:38.336Z"
   },
   {
    "duration": 5,
    "start_time": "2022-05-14T12:26:45.148Z"
   },
   {
    "duration": 3,
    "start_time": "2022-05-14T12:26:52.518Z"
   },
   {
    "duration": 7,
    "start_time": "2022-05-14T12:26:55.709Z"
   },
   {
    "duration": 3,
    "start_time": "2022-05-14T12:27:00.930Z"
   },
   {
    "duration": 7,
    "start_time": "2022-05-14T12:27:04.887Z"
   },
   {
    "duration": 3,
    "start_time": "2022-05-14T12:27:12.786Z"
   },
   {
    "duration": 4,
    "start_time": "2022-05-14T12:27:14.938Z"
   },
   {
    "duration": 4,
    "start_time": "2022-05-14T12:27:18.971Z"
   },
   {
    "duration": 8,
    "start_time": "2022-05-14T12:27:20.704Z"
   },
   {
    "duration": 4,
    "start_time": "2022-05-14T12:27:27.103Z"
   },
   {
    "duration": 4,
    "start_time": "2022-05-14T12:27:31.788Z"
   },
   {
    "duration": 4,
    "start_time": "2022-05-14T12:27:35.132Z"
   },
   {
    "duration": 5,
    "start_time": "2022-05-14T12:27:38.475Z"
   },
   {
    "duration": 4,
    "start_time": "2022-05-14T12:27:41.904Z"
   },
   {
    "duration": 4,
    "start_time": "2022-05-14T12:27:45.496Z"
   },
   {
    "duration": 3,
    "start_time": "2022-05-14T12:27:47.510Z"
   },
   {
    "duration": 4,
    "start_time": "2022-05-14T12:27:49.704Z"
   },
   {
    "duration": 5,
    "start_time": "2022-05-14T12:27:52.986Z"
   },
   {
    "duration": 4,
    "start_time": "2022-05-14T12:27:55.673Z"
   },
   {
    "duration": 4,
    "start_time": "2022-05-14T12:27:58.660Z"
   },
   {
    "duration": 6,
    "start_time": "2022-05-14T12:28:10.951Z"
   },
   {
    "duration": 3,
    "start_time": "2022-05-14T12:28:13.420Z"
   },
   {
    "duration": 4,
    "start_time": "2022-05-14T12:28:25.238Z"
   },
   {
    "duration": 5,
    "start_time": "2022-05-14T12:28:27.930Z"
   },
   {
    "duration": 4,
    "start_time": "2022-05-14T12:28:30.464Z"
   },
   {
    "duration": 4,
    "start_time": "2022-05-14T12:28:33.329Z"
   },
   {
    "duration": 3,
    "start_time": "2022-05-14T12:28:35.367Z"
   },
   {
    "duration": 6,
    "start_time": "2022-05-14T12:28:45.567Z"
   },
   {
    "duration": 4,
    "start_time": "2022-05-14T12:28:57.942Z"
   },
   {
    "duration": 4,
    "start_time": "2022-05-14T12:29:09.572Z"
   },
   {
    "duration": 6,
    "start_time": "2022-05-14T12:30:56.207Z"
   },
   {
    "duration": 7,
    "start_time": "2022-05-14T12:30:59.606Z"
   },
   {
    "duration": 5,
    "start_time": "2022-05-14T12:31:37.351Z"
   },
   {
    "duration": 4,
    "start_time": "2022-05-14T12:31:38.158Z"
   },
   {
    "duration": 12,
    "start_time": "2022-05-14T12:31:48.935Z"
   },
   {
    "duration": 5,
    "start_time": "2022-05-14T12:31:54.816Z"
   },
   {
    "duration": 8,
    "start_time": "2022-05-14T12:31:59.936Z"
   },
   {
    "duration": 5,
    "start_time": "2022-05-14T12:32:05.456Z"
   },
   {
    "duration": 4,
    "start_time": "2022-05-14T12:32:07.778Z"
   },
   {
    "duration": 6,
    "start_time": "2022-05-14T12:32:24.895Z"
   },
   {
    "duration": 215,
    "start_time": "2022-05-14T12:32:42.460Z"
   },
   {
    "duration": 11,
    "start_time": "2022-05-14T12:32:47.885Z"
   },
   {
    "duration": 6,
    "start_time": "2022-05-14T12:32:52.416Z"
   },
   {
    "duration": 4,
    "start_time": "2022-05-14T12:32:57.171Z"
   },
   {
    "duration": 4,
    "start_time": "2022-05-14T12:33:01.334Z"
   },
   {
    "duration": 5,
    "start_time": "2022-05-14T12:34:20.170Z"
   },
   {
    "duration": 5,
    "start_time": "2022-05-14T12:34:30.500Z"
   },
   {
    "duration": 4,
    "start_time": "2022-05-14T12:34:37.570Z"
   },
   {
    "duration": 5,
    "start_time": "2022-05-14T12:34:58.161Z"
   },
   {
    "duration": 5,
    "start_time": "2022-05-14T12:34:58.674Z"
   },
   {
    "duration": 4,
    "start_time": "2022-05-14T12:35:01.945Z"
   },
   {
    "duration": 6,
    "start_time": "2022-05-14T12:35:05.740Z"
   },
   {
    "duration": 5,
    "start_time": "2022-05-14T12:35:12.026Z"
   },
   {
    "duration": 5,
    "start_time": "2022-05-14T12:35:12.201Z"
   },
   {
    "duration": 3,
    "start_time": "2022-05-14T12:36:15.881Z"
   },
   {
    "duration": 17,
    "start_time": "2022-05-14T12:36:43.468Z"
   },
   {
    "duration": 16,
    "start_time": "2022-05-14T12:37:00.927Z"
   },
   {
    "duration": 449,
    "start_time": "2022-05-14T12:37:04.360Z"
   },
   {
    "duration": 18,
    "start_time": "2022-05-14T12:37:06.486Z"
   },
   {
    "duration": 6,
    "start_time": "2022-05-14T12:37:52.969Z"
   },
   {
    "duration": 3,
    "start_time": "2022-05-14T12:38:27.983Z"
   },
   {
    "duration": 7682,
    "start_time": "2022-05-14T12:38:28.563Z"
   },
   {
    "duration": 2,
    "start_time": "2022-05-14T12:38:39.971Z"
   },
   {
    "duration": 44,
    "start_time": "2022-05-14T12:38:39.975Z"
   },
   {
    "duration": 13,
    "start_time": "2022-05-14T12:38:40.021Z"
   },
   {
    "duration": 5,
    "start_time": "2022-05-14T12:38:40.036Z"
   },
   {
    "duration": 16,
    "start_time": "2022-05-14T12:38:40.043Z"
   },
   {
    "duration": 15,
    "start_time": "2022-05-14T12:38:40.061Z"
   },
   {
    "duration": 35,
    "start_time": "2022-05-14T12:38:40.078Z"
   },
   {
    "duration": 15,
    "start_time": "2022-05-14T12:38:40.115Z"
   },
   {
    "duration": 5,
    "start_time": "2022-05-14T12:38:40.132Z"
   },
   {
    "duration": 689,
    "start_time": "2022-05-14T12:38:40.138Z"
   },
   {
    "duration": 5,
    "start_time": "2022-05-14T12:38:59.362Z"
   },
   {
    "duration": 6,
    "start_time": "2022-05-14T12:39:04.726Z"
   },
   {
    "duration": 17,
    "start_time": "2022-05-14T12:39:06.967Z"
   },
   {
    "duration": 3,
    "start_time": "2022-05-14T12:39:23.968Z"
   },
   {
    "duration": 42,
    "start_time": "2022-05-14T12:39:23.973Z"
   },
   {
    "duration": 14,
    "start_time": "2022-05-14T12:39:24.017Z"
   },
   {
    "duration": 5,
    "start_time": "2022-05-14T12:39:24.033Z"
   },
   {
    "duration": 23,
    "start_time": "2022-05-14T12:39:24.040Z"
   },
   {
    "duration": 15,
    "start_time": "2022-05-14T12:39:24.064Z"
   },
   {
    "duration": 31,
    "start_time": "2022-05-14T12:39:24.081Z"
   },
   {
    "duration": 42,
    "start_time": "2022-05-14T12:39:24.113Z"
   },
   {
    "duration": 5,
    "start_time": "2022-05-14T12:39:24.157Z"
   },
   {
    "duration": 589,
    "start_time": "2022-05-14T12:39:24.163Z"
   },
   {
    "duration": 2,
    "start_time": "2022-05-14T12:40:19.169Z"
   },
   {
    "duration": 19,
    "start_time": "2022-05-14T12:40:19.531Z"
   },
   {
    "duration": 4,
    "start_time": "2022-05-14T12:40:37.118Z"
   },
   {
    "duration": 54,
    "start_time": "2022-05-14T12:40:37.124Z"
   },
   {
    "duration": 18,
    "start_time": "2022-05-14T12:40:37.180Z"
   },
   {
    "duration": 14,
    "start_time": "2022-05-14T12:40:37.200Z"
   },
   {
    "duration": 40,
    "start_time": "2022-05-14T12:40:37.217Z"
   },
   {
    "duration": 40,
    "start_time": "2022-05-14T12:40:37.258Z"
   },
   {
    "duration": 45,
    "start_time": "2022-05-14T12:40:37.299Z"
   },
   {
    "duration": 28,
    "start_time": "2022-05-14T12:40:37.346Z"
   },
   {
    "duration": 16,
    "start_time": "2022-05-14T12:40:37.376Z"
   },
   {
    "duration": 24,
    "start_time": "2022-05-14T12:40:37.394Z"
   },
   {
    "duration": 729,
    "start_time": "2022-05-14T12:40:43.279Z"
   },
   {
    "duration": 4,
    "start_time": "2022-05-14T12:40:54.512Z"
   },
   {
    "duration": 509,
    "start_time": "2022-05-14T12:40:54.978Z"
   },
   {
    "duration": 3,
    "start_time": "2022-05-14T12:41:10.871Z"
   },
   {
    "duration": 18,
    "start_time": "2022-05-14T12:41:11.084Z"
   },
   {
    "duration": 3,
    "start_time": "2022-05-14T12:41:20.895Z"
   },
   {
    "duration": 525,
    "start_time": "2022-05-14T12:41:21.213Z"
   },
   {
    "duration": 3,
    "start_time": "2022-05-14T12:41:26.212Z"
   },
   {
    "duration": 567,
    "start_time": "2022-05-14T12:41:26.382Z"
   },
   {
    "duration": 3,
    "start_time": "2022-05-14T12:41:30.512Z"
   },
   {
    "duration": 502,
    "start_time": "2022-05-14T12:41:30.956Z"
   },
   {
    "duration": 2,
    "start_time": "2022-05-14T12:41:45.114Z"
   },
   {
    "duration": 552,
    "start_time": "2022-05-14T12:41:45.584Z"
   },
   {
    "duration": 3,
    "start_time": "2022-05-14T12:42:56.653Z"
   },
   {
    "duration": 507,
    "start_time": "2022-05-14T12:42:57.014Z"
   },
   {
    "duration": 4,
    "start_time": "2022-05-14T12:43:10.171Z"
   },
   {
    "duration": 21,
    "start_time": "2022-05-14T12:43:10.765Z"
   },
   {
    "duration": 3,
    "start_time": "2022-05-14T12:43:26.057Z"
   },
   {
    "duration": 498,
    "start_time": "2022-05-14T12:43:26.546Z"
   },
   {
    "duration": 3,
    "start_time": "2022-05-14T12:43:44.970Z"
   },
   {
    "duration": 490,
    "start_time": "2022-05-14T12:43:45.296Z"
   },
   {
    "duration": 3,
    "start_time": "2022-05-14T12:44:11.073Z"
   },
   {
    "duration": 19,
    "start_time": "2022-05-14T12:44:11.228Z"
   },
   {
    "duration": 2,
    "start_time": "2022-05-14T12:44:34.760Z"
   },
   {
    "duration": 484,
    "start_time": "2022-05-14T12:44:36.036Z"
   },
   {
    "duration": 3,
    "start_time": "2022-05-14T12:45:16.880Z"
   },
   {
    "duration": 19,
    "start_time": "2022-05-14T12:45:17.235Z"
   },
   {
    "duration": 3,
    "start_time": "2022-05-14T12:45:27.512Z"
   },
   {
    "duration": 504,
    "start_time": "2022-05-14T12:45:28.436Z"
   },
   {
    "duration": 3,
    "start_time": "2022-05-14T12:46:32.715Z"
   },
   {
    "duration": 513,
    "start_time": "2022-05-14T12:46:33.197Z"
   },
   {
    "duration": 4,
    "start_time": "2022-05-14T12:46:47.661Z"
   },
   {
    "duration": 532,
    "start_time": "2022-05-14T12:46:48.192Z"
   },
   {
    "duration": 3,
    "start_time": "2022-05-14T12:47:06.711Z"
   },
   {
    "duration": 533,
    "start_time": "2022-05-14T12:47:07.120Z"
   },
   {
    "duration": 3,
    "start_time": "2022-05-14T12:47:37.185Z"
   },
   {
    "duration": 506,
    "start_time": "2022-05-14T12:47:37.423Z"
   },
   {
    "duration": 4,
    "start_time": "2022-05-14T12:47:45.624Z"
   },
   {
    "duration": 518,
    "start_time": "2022-05-14T12:47:46.057Z"
   },
   {
    "duration": 4,
    "start_time": "2022-05-14T12:48:07.812Z"
   },
   {
    "duration": 23,
    "start_time": "2022-05-14T12:48:08.048Z"
   },
   {
    "duration": 3,
    "start_time": "2022-05-14T12:49:05.888Z"
   },
   {
    "duration": 468,
    "start_time": "2022-05-14T12:49:06.103Z"
   },
   {
    "duration": 3,
    "start_time": "2022-05-14T12:49:29.893Z"
   },
   {
    "duration": 442,
    "start_time": "2022-05-14T12:49:30.581Z"
   },
   {
    "duration": 4,
    "start_time": "2022-05-14T12:49:38.673Z"
   },
   {
    "duration": 439,
    "start_time": "2022-05-14T12:49:39.154Z"
   },
   {
    "duration": 15,
    "start_time": "2022-05-14T12:49:43.979Z"
   },
   {
    "duration": 3,
    "start_time": "2022-05-14T12:50:00.332Z"
   },
   {
    "duration": 478,
    "start_time": "2022-05-14T12:50:00.537Z"
   },
   {
    "duration": 3,
    "start_time": "2022-05-14T12:50:47.843Z"
   },
   {
    "duration": 431,
    "start_time": "2022-05-14T12:50:48.030Z"
   },
   {
    "duration": 18,
    "start_time": "2022-05-14T12:54:55.829Z"
   },
   {
    "duration": 6,
    "start_time": "2022-05-14T12:55:10.655Z"
   },
   {
    "duration": 6,
    "start_time": "2022-05-14T12:55:27.844Z"
   },
   {
    "duration": 25,
    "start_time": "2022-05-14T12:56:17.142Z"
   },
   {
    "duration": 1210,
    "start_time": "2022-05-14T12:56:35.818Z"
   },
   {
    "duration": 418,
    "start_time": "2022-05-14T12:56:55.843Z"
   },
   {
    "duration": 187,
    "start_time": "2022-05-14T12:58:13.692Z"
   },
   {
    "duration": 512,
    "start_time": "2022-05-14T12:58:17.182Z"
   },
   {
    "duration": 12,
    "start_time": "2022-05-14T12:58:23.430Z"
   },
   {
    "duration": 13,
    "start_time": "2022-05-14T12:58:36.822Z"
   },
   {
    "duration": 8,
    "start_time": "2022-05-14T12:59:13.334Z"
   },
   {
    "duration": 2252,
    "start_time": "2022-05-14T12:59:19.530Z"
   },
   {
    "duration": 653,
    "start_time": "2022-05-14T12:59:35.061Z"
   },
   {
    "duration": 7,
    "start_time": "2022-05-14T12:59:51.040Z"
   },
   {
    "duration": 14,
    "start_time": "2022-05-14T12:59:53.617Z"
   },
   {
    "duration": 27,
    "start_time": "2022-05-14T13:00:02.890Z"
   },
   {
    "duration": 10,
    "start_time": "2022-05-14T13:00:34.458Z"
   },
   {
    "duration": 11,
    "start_time": "2022-05-14T13:01:21.295Z"
   },
   {
    "duration": 35,
    "start_time": "2022-05-14T13:01:25.949Z"
   },
   {
    "duration": 5768,
    "start_time": "2022-05-14T13:01:44.392Z"
   },
   {
    "duration": 5676,
    "start_time": "2022-05-14T13:01:58.016Z"
   },
   {
    "duration": 4703,
    "start_time": "2022-05-14T13:02:24.971Z"
   },
   {
    "duration": 5249,
    "start_time": "2022-05-14T13:03:10.660Z"
   },
   {
    "duration": 10,
    "start_time": "2022-05-14T13:04:39.877Z"
   },
   {
    "duration": 20,
    "start_time": "2022-05-14T13:05:22.862Z"
   },
   {
    "duration": 20,
    "start_time": "2022-05-14T13:06:21.618Z"
   },
   {
    "duration": 22,
    "start_time": "2022-05-14T13:06:49.769Z"
   },
   {
    "duration": 16,
    "start_time": "2022-05-14T13:07:13.261Z"
   },
   {
    "duration": 17,
    "start_time": "2022-05-14T13:07:20.784Z"
   },
   {
    "duration": 27,
    "start_time": "2022-05-14T13:08:01.563Z"
   },
   {
    "duration": 19,
    "start_time": "2022-05-14T13:08:02.162Z"
   },
   {
    "duration": 12,
    "start_time": "2022-05-14T13:08:20.606Z"
   },
   {
    "duration": 8,
    "start_time": "2022-05-14T13:10:18.711Z"
   },
   {
    "duration": 10,
    "start_time": "2022-05-14T13:10:26.125Z"
   },
   {
    "duration": 10,
    "start_time": "2022-05-14T13:10:54.413Z"
   },
   {
    "duration": 20,
    "start_time": "2022-05-14T13:11:00.315Z"
   },
   {
    "duration": 3,
    "start_time": "2022-05-21T23:05:43.099Z"
   },
   {
    "duration": 39,
    "start_time": "2022-05-21T23:05:43.116Z"
   },
   {
    "duration": 13,
    "start_time": "2022-05-21T23:05:43.157Z"
   },
   {
    "duration": 6,
    "start_time": "2022-05-21T23:05:43.172Z"
   },
   {
    "duration": 14,
    "start_time": "2022-05-21T23:05:43.180Z"
   },
   {
    "duration": 14,
    "start_time": "2022-05-21T23:05:43.196Z"
   },
   {
    "duration": 25,
    "start_time": "2022-05-21T23:05:43.226Z"
   },
   {
    "duration": 15,
    "start_time": "2022-05-21T23:05:43.253Z"
   },
   {
    "duration": 26,
    "start_time": "2022-05-21T23:05:43.270Z"
   },
   {
    "duration": 37,
    "start_time": "2022-05-21T23:05:43.299Z"
   },
   {
    "duration": 7,
    "start_time": "2022-05-21T23:06:12.310Z"
   },
   {
    "duration": 16,
    "start_time": "2022-05-21T23:07:29.048Z"
   },
   {
    "duration": 16,
    "start_time": "2022-05-21T23:07:37.479Z"
   },
   {
    "duration": 19,
    "start_time": "2022-05-21T23:07:41.857Z"
   },
   {
    "duration": 14,
    "start_time": "2022-05-21T23:09:56.815Z"
   },
   {
    "duration": 15,
    "start_time": "2022-05-21T23:10:00.243Z"
   },
   {
    "duration": 2,
    "start_time": "2022-05-21T23:10:14.289Z"
   },
   {
    "duration": 55,
    "start_time": "2022-05-21T23:10:14.295Z"
   },
   {
    "duration": 18,
    "start_time": "2022-05-21T23:10:14.351Z"
   },
   {
    "duration": 22,
    "start_time": "2022-05-21T23:10:14.370Z"
   },
   {
    "duration": 22,
    "start_time": "2022-05-21T23:10:14.394Z"
   },
   {
    "duration": 34,
    "start_time": "2022-05-21T23:10:14.418Z"
   },
   {
    "duration": 30,
    "start_time": "2022-05-21T23:10:14.453Z"
   },
   {
    "duration": 70,
    "start_time": "2022-05-21T23:10:14.484Z"
   },
   {
    "duration": 36,
    "start_time": "2022-05-21T23:10:14.557Z"
   },
   {
    "duration": 20,
    "start_time": "2022-05-21T23:10:14.595Z"
   },
   {
    "duration": 33,
    "start_time": "2022-05-21T23:10:14.618Z"
   },
   {
    "duration": 15,
    "start_time": "2022-05-21T23:10:35.417Z"
   },
   {
    "duration": 20,
    "start_time": "2022-05-21T23:11:44.141Z"
   },
   {
    "duration": 14,
    "start_time": "2022-05-21T23:12:54.449Z"
   },
   {
    "duration": 28,
    "start_time": "2022-05-21T23:13:16.628Z"
   },
   {
    "duration": 3,
    "start_time": "2022-05-21T23:13:25.076Z"
   },
   {
    "duration": 10,
    "start_time": "2022-05-21T23:13:30.536Z"
   },
   {
    "duration": 10,
    "start_time": "2022-05-21T23:13:38.521Z"
   },
   {
    "duration": 23,
    "start_time": "2022-05-21T23:13:44.827Z"
   },
   {
    "duration": 9,
    "start_time": "2022-05-21T23:13:47.490Z"
   },
   {
    "duration": 9,
    "start_time": "2022-05-21T23:13:50.882Z"
   },
   {
    "duration": 14,
    "start_time": "2022-05-21T23:13:59.846Z"
   },
   {
    "duration": 32,
    "start_time": "2022-05-21T23:14:04.211Z"
   },
   {
    "duration": 24,
    "start_time": "2022-05-21T23:14:15.219Z"
   },
   {
    "duration": 21,
    "start_time": "2022-05-21T23:14:20.007Z"
   },
   {
    "duration": 21,
    "start_time": "2022-05-21T23:16:50.387Z"
   },
   {
    "duration": 5,
    "start_time": "2022-05-21T23:27:57.684Z"
   },
   {
    "duration": 5,
    "start_time": "2022-05-21T23:28:04.224Z"
   },
   {
    "duration": 21,
    "start_time": "2022-05-21T23:28:36.860Z"
   },
   {
    "duration": 7,
    "start_time": "2022-05-21T23:31:08.649Z"
   },
   {
    "duration": 8,
    "start_time": "2022-05-21T23:34:09.999Z"
   },
   {
    "duration": 6,
    "start_time": "2022-05-21T23:38:11.814Z"
   },
   {
    "duration": 19,
    "start_time": "2022-05-21T23:38:33.435Z"
   },
   {
    "duration": 17,
    "start_time": "2022-05-21T23:38:55.554Z"
   },
   {
    "duration": 17,
    "start_time": "2022-05-21T23:39:06.757Z"
   },
   {
    "duration": 14,
    "start_time": "2022-05-21T23:39:20.750Z"
   },
   {
    "duration": 13,
    "start_time": "2022-05-21T23:39:29.909Z"
   },
   {
    "duration": 29,
    "start_time": "2022-05-21T23:40:17.322Z"
   },
   {
    "duration": 24,
    "start_time": "2022-05-21T23:40:52.430Z"
   },
   {
    "duration": 26,
    "start_time": "2022-05-21T23:41:22.792Z"
   },
   {
    "duration": 8,
    "start_time": "2022-05-21T23:41:57.926Z"
   },
   {
    "duration": 9,
    "start_time": "2022-05-21T23:42:06.843Z"
   },
   {
    "duration": 7,
    "start_time": "2022-05-21T23:43:32.574Z"
   },
   {
    "duration": 6,
    "start_time": "2022-05-21T23:43:58.856Z"
   },
   {
    "duration": 528,
    "start_time": "2022-05-24T09:54:45.206Z"
   },
   {
    "duration": 111,
    "start_time": "2022-05-24T09:54:46.297Z"
   },
   {
    "duration": 21,
    "start_time": "2022-05-24T09:54:46.638Z"
   },
   {
    "duration": 3,
    "start_time": "2022-05-24T09:54:47.288Z"
   },
   {
    "duration": 19,
    "start_time": "2022-05-24T09:54:47.519Z"
   },
   {
    "duration": 18,
    "start_time": "2022-05-24T09:54:47.955Z"
   },
   {
    "duration": 18,
    "start_time": "2022-05-24T09:54:50.281Z"
   },
   {
    "duration": 17,
    "start_time": "2022-05-24T09:54:54.863Z"
   },
   {
    "duration": 21,
    "start_time": "2022-05-24T09:54:57.536Z"
   },
   {
    "duration": 23,
    "start_time": "2022-05-24T09:54:59.514Z"
   },
   {
    "duration": 9,
    "start_time": "2022-05-24T09:55:11.777Z"
   },
   {
    "duration": 6,
    "start_time": "2022-05-24T09:55:26.612Z"
   },
   {
    "duration": 8,
    "start_time": "2022-05-24T09:55:29.035Z"
   },
   {
    "duration": 7,
    "start_time": "2022-05-24T09:55:29.107Z"
   },
   {
    "duration": 11,
    "start_time": "2022-05-24T09:57:49.216Z"
   },
   {
    "duration": 7,
    "start_time": "2022-05-24T09:57:50.406Z"
   },
   {
    "duration": 34,
    "start_time": "2022-05-24T09:57:54.741Z"
   },
   {
    "duration": 26,
    "start_time": "2022-05-24T09:58:18.263Z"
   },
   {
    "duration": 15,
    "start_time": "2022-05-24T09:58:34.904Z"
   },
   {
    "duration": 18,
    "start_time": "2022-05-24T10:00:20.760Z"
   },
   {
    "duration": 865,
    "start_time": "2022-05-24T10:01:46.850Z"
   },
   {
    "duration": 18,
    "start_time": "2022-05-24T10:01:56.104Z"
   },
   {
    "duration": 14,
    "start_time": "2022-05-24T10:02:38.241Z"
   },
   {
    "duration": 18,
    "start_time": "2022-05-24T10:03:49.731Z"
   },
   {
    "duration": 17,
    "start_time": "2022-05-24T10:08:13.180Z"
   },
   {
    "duration": 34,
    "start_time": "2022-05-24T10:11:53.873Z"
   },
   {
    "duration": 5,
    "start_time": "2022-05-24T10:12:46.879Z"
   },
   {
    "duration": 10,
    "start_time": "2022-05-24T10:12:55.504Z"
   },
   {
    "duration": 10,
    "start_time": "2022-05-24T10:12:59.886Z"
   },
   {
    "duration": 6,
    "start_time": "2022-05-24T10:13:07.497Z"
   },
   {
    "duration": 5,
    "start_time": "2022-05-24T10:13:48.311Z"
   },
   {
    "duration": 8,
    "start_time": "2022-05-24T10:13:53.859Z"
   },
   {
    "duration": 14,
    "start_time": "2022-05-24T10:14:05.454Z"
   },
   {
    "duration": 16,
    "start_time": "2022-05-24T10:14:15.979Z"
   },
   {
    "duration": 31,
    "start_time": "2022-05-24T10:14:27.511Z"
   },
   {
    "duration": 12,
    "start_time": "2022-05-24T10:14:32.970Z"
   },
   {
    "duration": 12,
    "start_time": "2022-05-24T10:14:53.583Z"
   },
   {
    "duration": 110,
    "start_time": "2022-05-24T10:14:56.653Z"
   },
   {
    "duration": 134,
    "start_time": "2022-05-24T10:15:06.610Z"
   },
   {
    "duration": 9,
    "start_time": "2022-05-24T10:15:18.568Z"
   },
   {
    "duration": 16,
    "start_time": "2022-05-24T10:16:19.188Z"
   },
   {
    "duration": 11,
    "start_time": "2022-05-24T10:16:28.508Z"
   },
   {
    "duration": 23,
    "start_time": "2022-05-24T10:16:31.844Z"
   },
   {
    "duration": 19,
    "start_time": "2022-05-24T10:16:46.147Z"
   },
   {
    "duration": 5,
    "start_time": "2022-05-24T10:17:05.961Z"
   },
   {
    "duration": 25,
    "start_time": "2022-05-24T10:17:08.659Z"
   },
   {
    "duration": 7,
    "start_time": "2022-05-24T10:17:10.765Z"
   },
   {
    "duration": 7,
    "start_time": "2022-05-24T10:17:17.303Z"
   },
   {
    "duration": 31,
    "start_time": "2022-05-24T10:17:27.944Z"
   },
   {
    "duration": 3,
    "start_time": "2022-05-24T10:17:56.506Z"
   },
   {
    "duration": 109,
    "start_time": "2022-05-24T10:17:56.512Z"
   },
   {
    "duration": 26,
    "start_time": "2022-05-24T10:17:56.628Z"
   },
   {
    "duration": 24,
    "start_time": "2022-05-24T10:17:56.659Z"
   },
   {
    "duration": 26,
    "start_time": "2022-05-24T10:17:56.685Z"
   },
   {
    "duration": 34,
    "start_time": "2022-05-24T10:17:56.713Z"
   },
   {
    "duration": 56,
    "start_time": "2022-05-24T10:17:56.750Z"
   },
   {
    "duration": 22,
    "start_time": "2022-05-24T10:17:56.809Z"
   },
   {
    "duration": 55,
    "start_time": "2022-05-24T10:17:56.833Z"
   },
   {
    "duration": 30,
    "start_time": "2022-05-24T10:17:56.890Z"
   },
   {
    "duration": 27,
    "start_time": "2022-05-24T10:17:56.922Z"
   },
   {
    "duration": 17,
    "start_time": "2022-05-24T10:17:56.951Z"
   },
   {
    "duration": 7,
    "start_time": "2022-05-24T10:17:56.971Z"
   },
   {
    "duration": 13,
    "start_time": "2022-05-24T10:17:56.981Z"
   },
   {
    "duration": 9,
    "start_time": "2022-05-24T10:17:56.996Z"
   },
   {
    "duration": 48,
    "start_time": "2022-05-24T10:17:57.007Z"
   },
   {
    "duration": 25,
    "start_time": "2022-05-24T10:17:57.057Z"
   },
   {
    "duration": 13,
    "start_time": "2022-05-24T10:17:57.083Z"
   },
   {
    "duration": 17,
    "start_time": "2022-05-24T10:17:57.098Z"
   },
   {
    "duration": 0,
    "start_time": "2022-05-24T10:17:57.117Z"
   },
   {
    "duration": 6,
    "start_time": "2022-05-24T10:22:30.782Z"
   },
   {
    "duration": 5,
    "start_time": "2022-05-24T10:24:00.754Z"
   },
   {
    "duration": 145,
    "start_time": "2022-05-24T10:24:17.664Z"
   },
   {
    "duration": 28,
    "start_time": "2022-05-24T10:24:33.432Z"
   },
   {
    "duration": 12,
    "start_time": "2022-05-24T10:25:03.314Z"
   },
   {
    "duration": 21,
    "start_time": "2022-05-24T10:25:11.223Z"
   },
   {
    "duration": 4,
    "start_time": "2022-05-24T10:26:20.553Z"
   },
   {
    "duration": 16,
    "start_time": "2022-05-24T10:26:20.781Z"
   },
   {
    "duration": 20,
    "start_time": "2022-05-24T10:27:14.939Z"
   },
   {
    "duration": 7,
    "start_time": "2022-05-24T10:27:25.181Z"
   },
   {
    "duration": 2,
    "start_time": "2022-05-24T10:28:00.712Z"
   },
   {
    "duration": 83,
    "start_time": "2022-05-24T10:28:00.716Z"
   },
   {
    "duration": 14,
    "start_time": "2022-05-24T10:28:00.801Z"
   },
   {
    "duration": 75,
    "start_time": "2022-05-24T10:28:00.816Z"
   },
   {
    "duration": 36,
    "start_time": "2022-05-24T10:28:00.894Z"
   },
   {
    "duration": 42,
    "start_time": "2022-05-24T10:28:00.936Z"
   },
   {
    "duration": 44,
    "start_time": "2022-05-24T10:28:00.980Z"
   },
   {
    "duration": 20,
    "start_time": "2022-05-24T10:28:01.030Z"
   },
   {
    "duration": 25,
    "start_time": "2022-05-24T10:28:01.051Z"
   },
   {
    "duration": 27,
    "start_time": "2022-05-24T10:28:01.078Z"
   },
   {
    "duration": 39,
    "start_time": "2022-05-24T10:28:01.108Z"
   },
   {
    "duration": 20,
    "start_time": "2022-05-24T10:28:01.149Z"
   },
   {
    "duration": 21,
    "start_time": "2022-05-24T10:28:01.171Z"
   },
   {
    "duration": 52,
    "start_time": "2022-05-24T10:28:01.194Z"
   },
   {
    "duration": 30,
    "start_time": "2022-05-24T10:28:01.248Z"
   },
   {
    "duration": 29,
    "start_time": "2022-05-24T10:28:01.280Z"
   },
   {
    "duration": 45,
    "start_time": "2022-05-24T10:28:01.311Z"
   },
   {
    "duration": 19,
    "start_time": "2022-05-24T10:28:01.358Z"
   },
   {
    "duration": 32,
    "start_time": "2022-05-24T10:28:11.005Z"
   },
   {
    "duration": 7,
    "start_time": "2022-05-24T10:28:24.476Z"
   },
   {
    "duration": 5,
    "start_time": "2022-05-24T10:30:06.664Z"
   },
   {
    "duration": 21,
    "start_time": "2022-05-24T10:30:12.043Z"
   },
   {
    "duration": 7,
    "start_time": "2022-05-24T10:30:59.687Z"
   },
   {
    "duration": 22,
    "start_time": "2022-05-24T10:31:00.488Z"
   },
   {
    "duration": 10,
    "start_time": "2022-05-24T10:31:14.249Z"
   },
   {
    "duration": 15,
    "start_time": "2022-05-24T10:31:21.047Z"
   },
   {
    "duration": 36,
    "start_time": "2022-05-24T10:31:41.709Z"
   },
   {
    "duration": 16,
    "start_time": "2022-05-24T10:38:41.565Z"
   },
   {
    "duration": 15,
    "start_time": "2022-05-24T10:39:08.787Z"
   },
   {
    "duration": 15,
    "start_time": "2022-05-24T12:37:45.298Z"
   },
   {
    "duration": 18,
    "start_time": "2022-05-24T12:37:59.168Z"
   },
   {
    "duration": 7,
    "start_time": "2022-05-24T12:39:48.856Z"
   },
   {
    "duration": 15,
    "start_time": "2022-05-24T12:39:54.314Z"
   },
   {
    "duration": 7,
    "start_time": "2022-05-24T12:40:29.575Z"
   },
   {
    "duration": 7,
    "start_time": "2022-05-24T12:40:38.782Z"
   },
   {
    "duration": 7,
    "start_time": "2022-05-24T12:41:05.367Z"
   },
   {
    "duration": 6,
    "start_time": "2022-05-24T12:41:09.264Z"
   },
   {
    "duration": 4,
    "start_time": "2022-05-24T12:42:57.686Z"
   },
   {
    "duration": 172,
    "start_time": "2022-05-24T12:43:41.319Z"
   },
   {
    "duration": 299,
    "start_time": "2022-05-24T12:44:06.271Z"
   },
   {
    "duration": 17,
    "start_time": "2022-05-24T12:44:40.566Z"
   },
   {
    "duration": 225,
    "start_time": "2022-05-24T12:44:48.386Z"
   },
   {
    "duration": 17,
    "start_time": "2022-05-24T12:44:53.719Z"
   },
   {
    "duration": 7,
    "start_time": "2022-05-24T12:45:15.779Z"
   },
   {
    "duration": 10,
    "start_time": "2022-05-24T12:45:23.055Z"
   },
   {
    "duration": 14,
    "start_time": "2022-05-24T12:46:39.105Z"
   },
   {
    "duration": 22,
    "start_time": "2022-05-24T12:46:49.097Z"
   },
   {
    "duration": 18,
    "start_time": "2022-05-24T12:47:14.730Z"
   },
   {
    "duration": 7,
    "start_time": "2022-05-24T12:47:29.766Z"
   },
   {
    "duration": 11,
    "start_time": "2022-05-24T12:47:29.926Z"
   },
   {
    "duration": 11,
    "start_time": "2022-05-24T12:47:32.091Z"
   },
   {
    "duration": 6,
    "start_time": "2022-05-24T12:47:56.113Z"
   },
   {
    "duration": 3,
    "start_time": "2022-05-24T12:48:30.104Z"
   },
   {
    "duration": 68,
    "start_time": "2022-05-24T12:48:30.110Z"
   },
   {
    "duration": 14,
    "start_time": "2022-05-24T12:48:30.180Z"
   },
   {
    "duration": 15,
    "start_time": "2022-05-24T12:48:30.195Z"
   },
   {
    "duration": 20,
    "start_time": "2022-05-24T12:48:30.212Z"
   },
   {
    "duration": 23,
    "start_time": "2022-05-24T12:48:30.233Z"
   },
   {
    "duration": 34,
    "start_time": "2022-05-24T12:48:30.258Z"
   },
   {
    "duration": 16,
    "start_time": "2022-05-24T12:48:30.294Z"
   },
   {
    "duration": 25,
    "start_time": "2022-05-24T12:48:30.312Z"
   },
   {
    "duration": 33,
    "start_time": "2022-05-24T12:48:30.340Z"
   },
   {
    "duration": 30,
    "start_time": "2022-05-24T12:48:30.375Z"
   },
   {
    "duration": 9,
    "start_time": "2022-05-24T12:48:30.406Z"
   },
   {
    "duration": 23,
    "start_time": "2022-05-24T12:48:30.417Z"
   },
   {
    "duration": 16,
    "start_time": "2022-05-24T12:48:30.441Z"
   },
   {
    "duration": 26,
    "start_time": "2022-05-24T12:48:30.459Z"
   },
   {
    "duration": 16,
    "start_time": "2022-05-24T12:48:30.486Z"
   },
   {
    "duration": 16,
    "start_time": "2022-05-24T12:48:30.504Z"
   },
   {
    "duration": 40,
    "start_time": "2022-05-24T12:48:30.522Z"
   },
   {
    "duration": 0,
    "start_time": "2022-05-24T12:48:30.563Z"
   },
   {
    "duration": 0,
    "start_time": "2022-05-24T12:48:30.565Z"
   },
   {
    "duration": 0,
    "start_time": "2022-05-24T12:48:30.566Z"
   },
   {
    "duration": 0,
    "start_time": "2022-05-24T12:48:30.567Z"
   },
   {
    "duration": 3,
    "start_time": "2022-05-24T12:48:59.539Z"
   },
   {
    "duration": 52,
    "start_time": "2022-05-24T12:48:59.544Z"
   },
   {
    "duration": 14,
    "start_time": "2022-05-24T12:48:59.598Z"
   },
   {
    "duration": 5,
    "start_time": "2022-05-24T12:48:59.613Z"
   },
   {
    "duration": 18,
    "start_time": "2022-05-24T12:48:59.620Z"
   },
   {
    "duration": 17,
    "start_time": "2022-05-24T12:48:59.640Z"
   },
   {
    "duration": 37,
    "start_time": "2022-05-24T12:48:59.658Z"
   },
   {
    "duration": 28,
    "start_time": "2022-05-24T12:48:59.698Z"
   },
   {
    "duration": 18,
    "start_time": "2022-05-24T12:48:59.728Z"
   },
   {
    "duration": 19,
    "start_time": "2022-05-24T12:48:59.748Z"
   },
   {
    "duration": 16,
    "start_time": "2022-05-24T12:48:59.769Z"
   },
   {
    "duration": 8,
    "start_time": "2022-05-24T12:48:59.787Z"
   },
   {
    "duration": 6,
    "start_time": "2022-05-24T12:48:59.825Z"
   },
   {
    "duration": 11,
    "start_time": "2022-05-24T12:48:59.833Z"
   },
   {
    "duration": 17,
    "start_time": "2022-05-24T12:48:59.846Z"
   },
   {
    "duration": 14,
    "start_time": "2022-05-24T12:48:59.865Z"
   },
   {
    "duration": 6,
    "start_time": "2022-05-24T12:48:59.882Z"
   },
   {
    "duration": 33,
    "start_time": "2022-05-24T12:48:59.890Z"
   },
   {
    "duration": 6,
    "start_time": "2022-05-24T12:48:59.925Z"
   },
   {
    "duration": 28,
    "start_time": "2022-05-24T12:48:59.933Z"
   },
   {
    "duration": 7,
    "start_time": "2022-05-24T12:48:59.963Z"
   },
   {
    "duration": 10,
    "start_time": "2022-05-24T12:48:59.972Z"
   },
   {
    "duration": 19,
    "start_time": "2022-05-24T12:49:17.003Z"
   },
   {
    "duration": 18,
    "start_time": "2022-05-24T12:49:18.103Z"
   },
   {
    "duration": 3,
    "start_time": "2022-05-24T12:49:20.219Z"
   },
   {
    "duration": 5,
    "start_time": "2022-05-24T12:49:20.465Z"
   },
   {
    "duration": 9,
    "start_time": "2022-05-24T12:49:20.764Z"
   },
   {
    "duration": 8,
    "start_time": "2022-05-24T12:49:21.152Z"
   },
   {
    "duration": 6,
    "start_time": "2022-05-24T12:51:30.732Z"
   },
   {
    "duration": 6,
    "start_time": "2022-05-24T12:52:01.563Z"
   },
   {
    "duration": 6,
    "start_time": "2022-05-24T12:52:07.092Z"
   },
   {
    "duration": 7,
    "start_time": "2022-05-24T12:52:15.294Z"
   },
   {
    "duration": 5,
    "start_time": "2022-05-24T12:52:20.266Z"
   },
   {
    "duration": 29,
    "start_time": "2022-05-24T12:52:31.241Z"
   },
   {
    "duration": 20,
    "start_time": "2022-05-24T12:52:39.796Z"
   },
   {
    "duration": 2,
    "start_time": "2022-05-24T12:53:13.396Z"
   },
   {
    "duration": 427,
    "start_time": "2022-05-24T23:23:05.193Z"
   },
   {
    "duration": 104,
    "start_time": "2022-05-24T23:23:05.622Z"
   },
   {
    "duration": 19,
    "start_time": "2022-05-24T23:23:05.727Z"
   },
   {
    "duration": 3,
    "start_time": "2022-05-24T23:23:05.748Z"
   },
   {
    "duration": 16,
    "start_time": "2022-05-24T23:23:05.754Z"
   },
   {
    "duration": 16,
    "start_time": "2022-05-24T23:23:05.771Z"
   },
   {
    "duration": 52,
    "start_time": "2022-05-24T23:23:05.789Z"
   },
   {
    "duration": 16,
    "start_time": "2022-05-24T23:23:05.843Z"
   },
   {
    "duration": 19,
    "start_time": "2022-05-24T23:23:05.861Z"
   },
   {
    "duration": 20,
    "start_time": "2022-05-24T23:23:05.882Z"
   },
   {
    "duration": 35,
    "start_time": "2022-05-24T23:23:05.904Z"
   },
   {
    "duration": 15,
    "start_time": "2022-05-24T23:23:05.941Z"
   },
   {
    "duration": 16,
    "start_time": "2022-05-24T23:23:05.958Z"
   },
   {
    "duration": 8,
    "start_time": "2022-05-24T23:23:05.977Z"
   },
   {
    "duration": 26,
    "start_time": "2022-05-24T23:23:05.987Z"
   },
   {
    "duration": 35,
    "start_time": "2022-05-24T23:23:06.015Z"
   },
   {
    "duration": 8,
    "start_time": "2022-05-24T23:23:06.052Z"
   },
   {
    "duration": 10,
    "start_time": "2022-05-24T23:23:06.062Z"
   },
   {
    "duration": 9,
    "start_time": "2022-05-24T23:23:06.074Z"
   },
   {
    "duration": 22,
    "start_time": "2022-05-24T23:23:06.084Z"
   },
   {
    "duration": 20,
    "start_time": "2022-05-24T23:23:06.108Z"
   },
   {
    "duration": 9,
    "start_time": "2022-05-24T23:23:06.130Z"
   },
   {
    "duration": 16,
    "start_time": "2022-05-24T23:23:06.141Z"
   },
   {
    "duration": 19,
    "start_time": "2022-05-24T23:23:06.158Z"
   },
   {
    "duration": 8,
    "start_time": "2022-05-24T23:23:06.179Z"
   },
   {
    "duration": 68,
    "start_time": "2022-05-24T23:25:57.345Z"
   },
   {
    "duration": 23,
    "start_time": "2022-05-24T23:26:00.065Z"
   },
   {
    "duration": 17,
    "start_time": "2022-05-24T23:26:25.898Z"
   },
   {
    "duration": 918,
    "start_time": "2022-05-24T23:26:39.692Z"
   },
   {
    "duration": 342,
    "start_time": "2022-05-24T23:26:49.854Z"
   },
   {
    "duration": 362,
    "start_time": "2022-05-24T23:27:43.197Z"
   },
   {
    "duration": 360,
    "start_time": "2022-05-24T23:27:50.426Z"
   },
   {
    "duration": 3,
    "start_time": "2022-05-24T23:27:57.848Z"
   },
   {
    "duration": 14,
    "start_time": "2022-05-24T23:28:20.595Z"
   },
   {
    "duration": 15,
    "start_time": "2022-05-24T23:28:22.330Z"
   },
   {
    "duration": 440,
    "start_time": "2022-05-24T23:28:37.201Z"
   },
   {
    "duration": 10,
    "start_time": "2022-05-24T23:28:53.949Z"
   },
   {
    "duration": 451,
    "start_time": "2022-05-24T23:29:26.100Z"
   },
   {
    "duration": 37,
    "start_time": "2022-05-24T23:29:52.452Z"
   },
   {
    "duration": 9,
    "start_time": "2022-05-24T23:29:59.894Z"
   },
   {
    "duration": 26,
    "start_time": "2022-05-24T23:30:01.557Z"
   },
   {
    "duration": 334,
    "start_time": "2022-05-24T23:30:27.499Z"
   },
   {
    "duration": 255,
    "start_time": "2022-05-24T23:30:37.772Z"
   },
   {
    "duration": 34,
    "start_time": "2022-05-24T23:31:00.449Z"
   },
   {
    "duration": 20,
    "start_time": "2022-05-24T23:32:50.891Z"
   },
   {
    "duration": 21,
    "start_time": "2022-05-24T23:32:59.548Z"
   },
   {
    "duration": 23,
    "start_time": "2022-05-24T23:33:09.784Z"
   },
   {
    "duration": 183,
    "start_time": "2022-05-24T23:33:17.644Z"
   },
   {
    "duration": 32,
    "start_time": "2022-05-24T23:33:26.752Z"
   },
   {
    "duration": 28,
    "start_time": "2022-05-24T23:36:32.986Z"
   },
   {
    "duration": 22,
    "start_time": "2022-05-24T23:37:13.194Z"
   },
   {
    "duration": 21,
    "start_time": "2022-05-24T23:38:10.253Z"
   },
   {
    "duration": 18,
    "start_time": "2022-05-24T23:38:27.483Z"
   },
   {
    "duration": 21,
    "start_time": "2022-05-24T23:38:35.274Z"
   },
   {
    "duration": 16,
    "start_time": "2022-05-24T23:38:58.498Z"
   },
   {
    "duration": 14,
    "start_time": "2022-05-24T23:39:05.971Z"
   },
   {
    "duration": 13,
    "start_time": "2022-05-24T23:39:50.898Z"
   },
   {
    "duration": 15,
    "start_time": "2022-05-24T23:40:35.952Z"
   },
   {
    "duration": 29,
    "start_time": "2022-05-24T23:40:47.086Z"
   },
   {
    "duration": 5,
    "start_time": "2022-05-24T23:40:58.994Z"
   },
   {
    "duration": 14,
    "start_time": "2022-05-24T23:41:45.358Z"
   },
   {
    "duration": 2,
    "start_time": "2022-05-24T23:41:55.911Z"
   },
   {
    "duration": 14,
    "start_time": "2022-05-24T23:42:03.677Z"
   },
   {
    "duration": 24,
    "start_time": "2022-05-24T23:42:24.941Z"
   },
   {
    "duration": 20,
    "start_time": "2022-05-24T23:42:50.905Z"
   },
   {
    "duration": 17,
    "start_time": "2022-05-24T23:42:56.721Z"
   },
   {
    "duration": 9,
    "start_time": "2022-05-24T23:43:15.289Z"
   },
   {
    "duration": 8,
    "start_time": "2022-05-24T23:43:27.346Z"
   },
   {
    "duration": 19,
    "start_time": "2022-05-24T23:43:31.442Z"
   },
   {
    "duration": 21,
    "start_time": "2022-05-24T23:43:43.575Z"
   },
   {
    "duration": 18,
    "start_time": "2022-05-24T23:43:50.843Z"
   },
   {
    "duration": 58,
    "start_time": "2022-05-24T23:44:01.572Z"
   },
   {
    "duration": 22,
    "start_time": "2022-05-24T23:44:05.689Z"
   },
   {
    "duration": 26,
    "start_time": "2022-05-24T23:44:14.243Z"
   },
   {
    "duration": 19,
    "start_time": "2022-05-24T23:44:19.679Z"
   },
   {
    "duration": 24,
    "start_time": "2022-05-24T23:44:24.944Z"
   },
   {
    "duration": 27,
    "start_time": "2022-05-24T23:44:31.416Z"
   },
   {
    "duration": 27,
    "start_time": "2022-05-24T23:44:38.583Z"
   },
   {
    "duration": 24,
    "start_time": "2022-05-24T23:44:43.426Z"
   },
   {
    "duration": 22,
    "start_time": "2022-05-24T23:45:20.711Z"
   },
   {
    "duration": 20,
    "start_time": "2022-05-24T23:45:32.678Z"
   },
   {
    "duration": 24,
    "start_time": "2022-05-24T23:46:13.544Z"
   },
   {
    "duration": 20,
    "start_time": "2022-05-24T23:46:26.599Z"
   },
   {
    "duration": 20,
    "start_time": "2022-05-24T23:46:33.512Z"
   },
   {
    "duration": 32,
    "start_time": "2022-05-24T23:46:42.612Z"
   },
   {
    "duration": 20,
    "start_time": "2022-05-24T23:46:49.181Z"
   },
   {
    "duration": 22,
    "start_time": "2022-05-24T23:47:05.146Z"
   },
   {
    "duration": 21,
    "start_time": "2022-05-24T23:47:09.684Z"
   },
   {
    "duration": 23,
    "start_time": "2022-05-24T23:47:13.902Z"
   },
   {
    "duration": 20,
    "start_time": "2022-05-24T23:48:34.474Z"
   },
   {
    "duration": 29,
    "start_time": "2022-05-24T23:48:39.718Z"
   },
   {
    "duration": 22,
    "start_time": "2022-05-24T23:48:52.174Z"
   },
   {
    "duration": 36,
    "start_time": "2022-05-24T23:48:57.999Z"
   },
   {
    "duration": 20,
    "start_time": "2022-05-24T23:49:00.494Z"
   },
   {
    "duration": 22,
    "start_time": "2022-05-24T23:49:03.474Z"
   },
   {
    "duration": 37,
    "start_time": "2022-05-24T23:49:06.303Z"
   },
   {
    "duration": 32,
    "start_time": "2022-05-24T23:49:09.138Z"
   },
   {
    "duration": 21,
    "start_time": "2022-05-24T23:49:12.046Z"
   },
   {
    "duration": 39,
    "start_time": "2022-05-24T23:51:53.003Z"
   },
   {
    "duration": 25,
    "start_time": "2022-05-24T23:52:07.940Z"
   },
   {
    "duration": 7,
    "start_time": "2022-05-24T23:53:21.136Z"
   },
   {
    "duration": 38,
    "start_time": "2022-05-24T23:53:38.126Z"
   },
   {
    "duration": 21,
    "start_time": "2022-05-24T23:53:49.542Z"
   },
   {
    "duration": 20,
    "start_time": "2022-05-24T23:53:52.744Z"
   },
   {
    "duration": 17,
    "start_time": "2022-05-24T23:54:04.780Z"
   },
   {
    "duration": 15,
    "start_time": "2022-05-24T23:54:16.877Z"
   },
   {
    "duration": 15,
    "start_time": "2022-05-24T23:54:20.823Z"
   },
   {
    "duration": 20,
    "start_time": "2022-05-24T23:54:25.724Z"
   },
   {
    "duration": 15,
    "start_time": "2022-05-24T23:54:33.848Z"
   },
   {
    "duration": 15,
    "start_time": "2022-05-24T23:54:40.837Z"
   },
   {
    "duration": 143,
    "start_time": "2022-05-24T23:54:49.243Z"
   },
   {
    "duration": 5,
    "start_time": "2022-05-24T23:55:06.123Z"
   },
   {
    "duration": 3426,
    "start_time": "2022-05-24T23:55:42.409Z"
   },
   {
    "duration": 3442,
    "start_time": "2022-05-24T23:55:52.087Z"
   },
   {
    "duration": 3480,
    "start_time": "2022-05-24T23:56:49.721Z"
   },
   {
    "duration": 9,
    "start_time": "2022-05-25T00:00:37.831Z"
   },
   {
    "duration": 3,
    "start_time": "2022-05-25T00:00:52.045Z"
   },
   {
    "duration": 758,
    "start_time": "2022-05-25T00:00:59.949Z"
   },
   {
    "duration": 930,
    "start_time": "2022-05-25T00:01:24.788Z"
   },
   {
    "duration": 869,
    "start_time": "2022-05-25T00:02:06.800Z"
   },
   {
    "duration": 59,
    "start_time": "2022-05-25T13:39:38.041Z"
   },
   {
    "duration": 849,
    "start_time": "2022-05-25T13:39:44.269Z"
   },
   {
    "duration": 171,
    "start_time": "2022-05-25T13:39:45.120Z"
   },
   {
    "duration": 17,
    "start_time": "2022-05-25T13:39:45.293Z"
   },
   {
    "duration": 3,
    "start_time": "2022-05-25T13:39:45.312Z"
   },
   {
    "duration": 18,
    "start_time": "2022-05-25T13:39:45.317Z"
   },
   {
    "duration": 18,
    "start_time": "2022-05-25T13:39:45.336Z"
   },
   {
    "duration": 53,
    "start_time": "2022-05-25T13:39:45.356Z"
   },
   {
    "duration": 17,
    "start_time": "2022-05-25T13:39:45.410Z"
   },
   {
    "duration": 18,
    "start_time": "2022-05-25T13:39:45.428Z"
   },
   {
    "duration": 48,
    "start_time": "2022-05-25T13:39:45.448Z"
   },
   {
    "duration": 18,
    "start_time": "2022-05-25T13:39:45.498Z"
   },
   {
    "duration": 11,
    "start_time": "2022-05-25T13:39:45.518Z"
   },
   {
    "duration": 9,
    "start_time": "2022-05-25T13:39:45.531Z"
   },
   {
    "duration": 6,
    "start_time": "2022-05-25T13:39:45.542Z"
   },
   {
    "duration": 18,
    "start_time": "2022-05-25T13:39:45.550Z"
   },
   {
    "duration": 37,
    "start_time": "2022-05-25T13:39:45.569Z"
   },
   {
    "duration": 12,
    "start_time": "2022-05-25T13:39:45.607Z"
   },
   {
    "duration": 5,
    "start_time": "2022-05-25T13:39:45.621Z"
   },
   {
    "duration": 5,
    "start_time": "2022-05-25T13:39:45.628Z"
   },
   {
    "duration": 18,
    "start_time": "2022-05-25T13:39:45.634Z"
   },
   {
    "duration": 6,
    "start_time": "2022-05-25T13:39:45.654Z"
   },
   {
    "duration": 8,
    "start_time": "2022-05-25T13:39:45.661Z"
   },
   {
    "duration": 17,
    "start_time": "2022-05-25T13:39:45.695Z"
   },
   {
    "duration": 15,
    "start_time": "2022-05-25T13:39:45.714Z"
   },
   {
    "duration": 5,
    "start_time": "2022-05-25T13:39:45.731Z"
   },
   {
    "duration": 6,
    "start_time": "2022-05-25T13:39:45.738Z"
   },
   {
    "duration": 377,
    "start_time": "2022-05-25T13:39:45.746Z"
   },
   {
    "duration": 8,
    "start_time": "2022-05-25T13:39:46.124Z"
   },
   {
    "duration": 289,
    "start_time": "2022-05-25T13:39:46.133Z"
   },
   {
    "duration": 21,
    "start_time": "2022-05-25T13:39:46.424Z"
   },
   {
    "duration": 1003,
    "start_time": "2022-05-25T13:39:46.446Z"
   },
   {
    "duration": 194,
    "start_time": "2022-05-25T13:39:47.451Z"
   },
   {
    "duration": 197,
    "start_time": "2022-05-25T13:40:00.586Z"
   },
   {
    "duration": 57,
    "start_time": "2022-05-25T13:40:07.745Z"
   },
   {
    "duration": 212,
    "start_time": "2022-05-25T13:40:11.756Z"
   },
   {
    "duration": 48,
    "start_time": "2022-05-25T13:40:49.374Z"
   },
   {
    "duration": 25,
    "start_time": "2022-05-25T13:41:07.940Z"
   },
   {
    "duration": 156,
    "start_time": "2022-05-25T13:41:13.330Z"
   },
   {
    "duration": 137,
    "start_time": "2022-05-25T13:41:20.933Z"
   },
   {
    "duration": 24,
    "start_time": "2022-05-25T13:44:59.767Z"
   },
   {
    "duration": 362,
    "start_time": "2022-05-25T13:46:06.603Z"
   },
   {
    "duration": 48,
    "start_time": "2022-05-25T13:46:19.828Z"
   },
   {
    "duration": 21,
    "start_time": "2022-05-25T13:46:42.069Z"
   },
   {
    "duration": 25,
    "start_time": "2022-05-25T13:47:47.038Z"
   },
   {
    "duration": 21,
    "start_time": "2022-05-25T13:47:56.974Z"
   },
   {
    "duration": 25,
    "start_time": "2022-05-25T13:48:14.870Z"
   },
   {
    "duration": 20,
    "start_time": "2022-05-25T13:48:37.537Z"
   },
   {
    "duration": 20,
    "start_time": "2022-05-25T13:48:46.326Z"
   },
   {
    "duration": 23,
    "start_time": "2022-05-25T13:49:02.854Z"
   },
   {
    "duration": 18,
    "start_time": "2022-05-25T13:49:41.189Z"
   },
   {
    "duration": 21,
    "start_time": "2022-05-25T13:49:50.474Z"
   },
   {
    "duration": 18,
    "start_time": "2022-05-25T13:50:06.590Z"
   },
   {
    "duration": 17,
    "start_time": "2022-05-25T13:50:43.970Z"
   },
   {
    "duration": 22,
    "start_time": "2022-05-25T13:50:49.879Z"
   },
   {
    "duration": 23,
    "start_time": "2022-05-25T13:50:53.814Z"
   },
   {
    "duration": 21,
    "start_time": "2022-05-25T13:51:00.981Z"
   },
   {
    "duration": 21,
    "start_time": "2022-05-25T13:51:13.260Z"
   },
   {
    "duration": 21,
    "start_time": "2022-05-25T13:51:16.348Z"
   },
   {
    "duration": 14,
    "start_time": "2022-05-25T13:52:23.981Z"
   },
   {
    "duration": 18,
    "start_time": "2022-05-25T13:52:28.473Z"
   },
   {
    "duration": 21,
    "start_time": "2022-05-25T13:52:41.014Z"
   },
   {
    "duration": 22,
    "start_time": "2022-05-25T13:52:52.925Z"
   },
   {
    "duration": 18,
    "start_time": "2022-05-25T13:54:53.218Z"
   },
   {
    "duration": 18,
    "start_time": "2022-05-25T13:55:04.338Z"
   },
   {
    "duration": 18,
    "start_time": "2022-05-25T13:55:23.049Z"
   },
   {
    "duration": 158,
    "start_time": "2022-05-25T13:55:26.979Z"
   },
   {
    "duration": 21,
    "start_time": "2022-05-25T13:55:32.795Z"
   },
   {
    "duration": 20,
    "start_time": "2022-05-25T13:55:57.087Z"
   },
   {
    "duration": 23,
    "start_time": "2022-05-25T13:56:19.962Z"
   },
   {
    "duration": 20,
    "start_time": "2022-05-25T13:57:12.920Z"
   },
   {
    "duration": 20,
    "start_time": "2022-05-25T13:57:18.337Z"
   },
   {
    "duration": 20,
    "start_time": "2022-05-25T13:57:25.576Z"
   },
   {
    "duration": 21,
    "start_time": "2022-05-25T13:57:29.759Z"
   },
   {
    "duration": 23,
    "start_time": "2022-05-25T13:57:59.190Z"
   },
   {
    "duration": 22,
    "start_time": "2022-05-25T13:58:06.975Z"
   },
   {
    "duration": 17,
    "start_time": "2022-05-25T13:58:51.259Z"
   },
   {
    "duration": 9,
    "start_time": "2022-05-25T13:58:51.500Z"
   },
   {
    "duration": 19,
    "start_time": "2022-05-25T13:58:54.861Z"
   },
   {
    "duration": 22,
    "start_time": "2022-05-25T13:58:58.097Z"
   },
   {
    "duration": 18,
    "start_time": "2022-05-25T13:59:03.446Z"
   },
   {
    "duration": 20,
    "start_time": "2022-05-25T13:59:08.557Z"
   },
   {
    "duration": 23,
    "start_time": "2022-05-25T13:59:14.527Z"
   },
   {
    "duration": 21,
    "start_time": "2022-05-25T14:01:38.409Z"
   },
   {
    "duration": 22,
    "start_time": "2022-05-25T14:02:00.082Z"
   },
   {
    "duration": 22,
    "start_time": "2022-05-25T14:02:26.596Z"
   },
   {
    "duration": 25,
    "start_time": "2022-05-25T14:02:38.376Z"
   },
   {
    "duration": 292,
    "start_time": "2022-05-25T14:03:01.073Z"
   },
   {
    "duration": 61,
    "start_time": "2022-05-25T14:03:13.038Z"
   },
   {
    "duration": 29,
    "start_time": "2022-05-25T14:03:15.673Z"
   },
   {
    "duration": 465,
    "start_time": "2022-05-25T14:03:33.443Z"
   },
   {
    "duration": 231,
    "start_time": "2022-05-25T14:04:02.808Z"
   },
   {
    "duration": 31,
    "start_time": "2022-05-25T14:11:01.863Z"
   },
   {
    "duration": 240,
    "start_time": "2022-05-25T14:11:09.154Z"
   },
   {
    "duration": 24,
    "start_time": "2022-05-25T14:12:40.896Z"
   },
   {
    "duration": 6,
    "start_time": "2022-05-25T14:13:40.703Z"
   },
   {
    "duration": 18,
    "start_time": "2022-05-25T14:13:44.321Z"
   },
   {
    "duration": 385,
    "start_time": "2022-05-25T14:13:47.870Z"
   },
   {
    "duration": 27,
    "start_time": "2022-05-25T14:14:55.675Z"
   },
   {
    "duration": 18,
    "start_time": "2022-05-25T14:15:09.469Z"
   },
   {
    "duration": 20,
    "start_time": "2022-05-25T14:16:03.816Z"
   },
   {
    "duration": 20,
    "start_time": "2022-05-25T14:16:48.082Z"
   },
   {
    "duration": 15,
    "start_time": "2022-05-25T14:17:53.437Z"
   },
   {
    "duration": 160,
    "start_time": "2022-05-25T14:18:11.278Z"
   },
   {
    "duration": 9,
    "start_time": "2022-05-25T14:18:20.522Z"
   },
   {
    "duration": 136,
    "start_time": "2022-05-25T14:18:28.385Z"
   },
   {
    "duration": 178,
    "start_time": "2022-05-25T14:18:37.241Z"
   },
   {
    "duration": 110,
    "start_time": "2022-05-25T14:19:03.498Z"
   },
   {
    "duration": 241,
    "start_time": "2022-05-25T14:19:12.198Z"
   },
   {
    "duration": 284,
    "start_time": "2022-05-25T14:19:43.963Z"
   },
   {
    "duration": 290,
    "start_time": "2022-05-25T14:20:04.583Z"
   },
   {
    "duration": 286,
    "start_time": "2022-05-25T14:20:09.014Z"
   },
   {
    "duration": 13,
    "start_time": "2022-05-25T14:21:29.274Z"
   },
   {
    "duration": 190,
    "start_time": "2022-05-25T14:23:08.389Z"
   },
   {
    "duration": 177,
    "start_time": "2022-05-25T14:23:18.592Z"
   },
   {
    "duration": 292,
    "start_time": "2022-05-25T14:23:27.661Z"
   },
   {
    "duration": 308,
    "start_time": "2022-05-25T14:23:32.330Z"
   },
   {
    "duration": 325,
    "start_time": "2022-05-25T14:23:55.933Z"
   },
   {
    "duration": 291,
    "start_time": "2022-05-25T14:24:16.990Z"
   },
   {
    "duration": 307,
    "start_time": "2022-05-25T14:24:23.784Z"
   },
   {
    "duration": 8,
    "start_time": "2022-05-25T20:05:11.389Z"
   },
   {
    "duration": 53,
    "start_time": "2022-05-25T20:05:15.036Z"
   },
   {
    "duration": 825,
    "start_time": "2022-05-25T20:05:19.509Z"
   },
   {
    "duration": 186,
    "start_time": "2022-05-25T20:05:20.336Z"
   },
   {
    "duration": 18,
    "start_time": "2022-05-25T20:05:20.524Z"
   },
   {
    "duration": 3,
    "start_time": "2022-05-25T20:05:20.544Z"
   },
   {
    "duration": 16,
    "start_time": "2022-05-25T20:05:20.548Z"
   },
   {
    "duration": 16,
    "start_time": "2022-05-25T20:05:20.565Z"
   },
   {
    "duration": 28,
    "start_time": "2022-05-25T20:05:20.582Z"
   },
   {
    "duration": 16,
    "start_time": "2022-05-25T20:05:20.611Z"
   },
   {
    "duration": 18,
    "start_time": "2022-05-25T20:05:20.628Z"
   },
   {
    "duration": 38,
    "start_time": "2022-05-25T20:05:20.648Z"
   },
   {
    "duration": 19,
    "start_time": "2022-05-25T20:05:20.688Z"
   },
   {
    "duration": 5,
    "start_time": "2022-05-25T20:05:20.709Z"
   },
   {
    "duration": 8,
    "start_time": "2022-05-25T20:05:20.715Z"
   },
   {
    "duration": 5,
    "start_time": "2022-05-25T20:05:20.724Z"
   },
   {
    "duration": 15,
    "start_time": "2022-05-25T20:05:20.730Z"
   },
   {
    "duration": 38,
    "start_time": "2022-05-25T20:05:20.747Z"
   },
   {
    "duration": 7,
    "start_time": "2022-05-25T20:05:20.786Z"
   },
   {
    "duration": 7,
    "start_time": "2022-05-25T20:05:20.795Z"
   },
   {
    "duration": 7,
    "start_time": "2022-05-25T20:05:20.804Z"
   },
   {
    "duration": 14,
    "start_time": "2022-05-25T20:05:20.812Z"
   },
   {
    "duration": 5,
    "start_time": "2022-05-25T20:05:20.827Z"
   },
   {
    "duration": 10,
    "start_time": "2022-05-25T20:05:20.834Z"
   },
   {
    "duration": 38,
    "start_time": "2022-05-25T20:05:20.845Z"
   },
   {
    "duration": 15,
    "start_time": "2022-05-25T20:05:20.885Z"
   },
   {
    "duration": 6,
    "start_time": "2022-05-25T20:05:20.901Z"
   },
   {
    "duration": 4,
    "start_time": "2022-05-25T20:05:20.908Z"
   },
   {
    "duration": 368,
    "start_time": "2022-05-25T20:05:20.914Z"
   },
   {
    "duration": 7,
    "start_time": "2022-05-25T20:05:21.285Z"
   },
   {
    "duration": 254,
    "start_time": "2022-05-25T20:05:21.293Z"
   },
   {
    "duration": 26,
    "start_time": "2022-05-25T20:05:21.549Z"
   },
   {
    "duration": 18,
    "start_time": "2022-05-25T20:05:21.577Z"
   },
   {
    "duration": 13,
    "start_time": "2022-05-25T20:05:21.597Z"
   },
   {
    "duration": 11,
    "start_time": "2022-05-25T20:05:21.612Z"
   },
   {
    "duration": 294,
    "start_time": "2022-05-25T20:05:21.625Z"
   },
   {
    "duration": 21,
    "start_time": "2022-05-25T20:05:21.921Z"
   },
   {
    "duration": 5,
    "start_time": "2022-05-25T20:06:16.376Z"
   },
   {
    "duration": 21,
    "start_time": "2022-05-25T20:06:22.477Z"
   },
   {
    "duration": 9,
    "start_time": "2022-05-25T20:06:35.235Z"
   },
   {
    "duration": 22,
    "start_time": "2022-05-25T20:06:37.384Z"
   },
   {
    "duration": 184,
    "start_time": "2022-05-25T20:06:47.601Z"
   },
   {
    "duration": 22,
    "start_time": "2022-05-25T20:06:55.857Z"
   },
   {
    "duration": 214,
    "start_time": "2022-05-25T20:07:09.006Z"
   },
   {
    "duration": 105,
    "start_time": "2022-05-25T20:07:31.023Z"
   },
   {
    "duration": 135,
    "start_time": "2022-05-25T20:07:40.401Z"
   },
   {
    "duration": 41,
    "start_time": "2022-05-25T20:08:01.477Z"
   },
   {
    "duration": 128,
    "start_time": "2022-05-25T20:08:07.432Z"
   },
   {
    "duration": 194,
    "start_time": "2022-05-25T20:08:19.574Z"
   },
   {
    "duration": 199,
    "start_time": "2022-05-25T20:08:28.841Z"
   },
   {
    "duration": 16,
    "start_time": "2022-05-25T20:08:32.867Z"
   },
   {
    "duration": 223,
    "start_time": "2022-05-25T20:08:36.617Z"
   },
   {
    "duration": 130,
    "start_time": "2022-05-25T20:09:00.682Z"
   },
   {
    "duration": 12,
    "start_time": "2022-05-25T20:09:13.619Z"
   },
   {
    "duration": 192,
    "start_time": "2022-05-25T20:09:15.997Z"
   },
   {
    "duration": 123,
    "start_time": "2022-05-25T20:09:23.389Z"
   },
   {
    "duration": 130,
    "start_time": "2022-05-25T20:09:35.120Z"
   },
   {
    "duration": 20,
    "start_time": "2022-05-25T20:10:23.328Z"
   },
   {
    "duration": 104,
    "start_time": "2022-05-25T20:10:30.161Z"
   },
   {
    "duration": 17,
    "start_time": "2022-05-25T20:10:35.175Z"
   },
   {
    "duration": 12,
    "start_time": "2022-05-25T20:10:54.146Z"
   },
   {
    "duration": 88,
    "start_time": "2022-05-25T20:10:59.027Z"
   },
   {
    "duration": 13,
    "start_time": "2022-05-25T20:11:03.896Z"
   },
   {
    "duration": 11,
    "start_time": "2022-05-25T20:11:31.552Z"
   },
   {
    "duration": 150,
    "start_time": "2022-05-25T20:11:42.940Z"
   },
   {
    "duration": 138,
    "start_time": "2022-05-25T20:11:58.297Z"
   },
   {
    "duration": 148,
    "start_time": "2022-05-25T20:12:16.818Z"
   },
   {
    "duration": 133,
    "start_time": "2022-05-25T20:12:48.021Z"
   },
   {
    "duration": 143,
    "start_time": "2022-05-25T20:12:54.495Z"
   },
   {
    "duration": 145,
    "start_time": "2022-05-25T20:13:06.925Z"
   },
   {
    "duration": 131,
    "start_time": "2022-05-25T20:13:16.309Z"
   },
   {
    "duration": 218,
    "start_time": "2022-05-25T20:15:17.241Z"
   },
   {
    "duration": 323,
    "start_time": "2022-05-25T20:15:26.887Z"
   },
   {
    "duration": 246,
    "start_time": "2022-05-25T20:16:05.748Z"
   },
   {
    "duration": 268,
    "start_time": "2022-05-25T20:16:21.167Z"
   },
   {
    "duration": 2,
    "start_time": "2022-05-25T20:18:16.453Z"
   },
   {
    "duration": 21,
    "start_time": "2022-05-25T20:18:59.652Z"
   },
   {
    "duration": 9,
    "start_time": "2022-05-25T20:19:11.960Z"
   },
   {
    "duration": 23,
    "start_time": "2022-05-25T20:19:15.407Z"
   },
   {
    "duration": 12,
    "start_time": "2022-05-25T20:19:42.625Z"
   },
   {
    "duration": 18,
    "start_time": "2022-05-25T20:19:52.774Z"
   },
   {
    "duration": 129,
    "start_time": "2022-05-25T20:20:16.925Z"
   },
   {
    "duration": 216,
    "start_time": "2022-05-25T20:20:27.773Z"
   },
   {
    "duration": 185,
    "start_time": "2022-05-25T20:20:36.125Z"
   },
   {
    "duration": 159,
    "start_time": "2022-05-25T20:20:43.823Z"
   },
   {
    "duration": 151,
    "start_time": "2022-05-25T20:20:54.905Z"
   },
   {
    "duration": 161,
    "start_time": "2022-05-25T20:21:18.072Z"
   },
   {
    "duration": 158,
    "start_time": "2022-05-25T20:21:21.473Z"
   },
   {
    "duration": 286,
    "start_time": "2022-05-25T20:21:34.843Z"
   },
   {
    "duration": 287,
    "start_time": "2022-05-25T20:21:47.189Z"
   },
   {
    "duration": 290,
    "start_time": "2022-05-25T20:21:56.076Z"
   },
   {
    "duration": 293,
    "start_time": "2022-05-25T20:22:09.427Z"
   },
   {
    "duration": 145,
    "start_time": "2022-05-25T20:22:30.930Z"
   },
   {
    "duration": 199,
    "start_time": "2022-05-25T20:22:43.973Z"
   },
   {
    "duration": 180,
    "start_time": "2022-05-25T20:22:52.893Z"
   },
   {
    "duration": 268,
    "start_time": "2022-05-25T20:23:01.496Z"
   },
   {
    "duration": 153,
    "start_time": "2022-05-25T20:23:04.293Z"
   },
   {
    "duration": 7,
    "start_time": "2022-05-25T20:23:49.974Z"
   },
   {
    "duration": 8,
    "start_time": "2022-05-25T20:23:59.665Z"
   },
   {
    "duration": 10,
    "start_time": "2022-05-25T20:24:24.661Z"
   },
   {
    "duration": 141,
    "start_time": "2022-05-25T20:25:06.369Z"
   },
   {
    "duration": 146,
    "start_time": "2022-05-25T20:25:16.034Z"
   },
   {
    "duration": 10,
    "start_time": "2022-05-25T20:25:27.560Z"
   },
   {
    "duration": 3,
    "start_time": "2022-05-25T20:26:21.158Z"
   },
   {
    "duration": 4,
    "start_time": "2022-05-25T20:26:26.025Z"
   },
   {
    "duration": 115,
    "start_time": "2022-05-25T20:26:53.477Z"
   },
   {
    "duration": 98,
    "start_time": "2022-05-25T20:27:03.266Z"
   },
   {
    "duration": 712,
    "start_time": "2022-05-25T20:27:18.400Z"
   },
   {
    "duration": 33,
    "start_time": "2022-05-25T20:27:22.344Z"
   },
   {
    "duration": 328,
    "start_time": "2022-05-25T20:27:25.654Z"
   },
   {
    "duration": 109,
    "start_time": "2022-05-25T20:27:35.586Z"
   },
   {
    "duration": 18,
    "start_time": "2022-05-25T20:27:40.897Z"
   },
   {
    "duration": 14,
    "start_time": "2022-05-25T20:28:15.870Z"
   },
   {
    "duration": 407,
    "start_time": "2022-05-25T20:28:21.247Z"
   },
   {
    "duration": 387,
    "start_time": "2022-05-25T20:28:33.155Z"
   },
   {
    "duration": 402,
    "start_time": "2022-05-25T20:28:36.619Z"
   },
   {
    "duration": 414,
    "start_time": "2022-05-25T20:28:48.725Z"
   },
   {
    "duration": 3,
    "start_time": "2022-05-25T20:29:28.231Z"
   },
   {
    "duration": 22,
    "start_time": "2022-05-25T20:31:30.892Z"
   },
   {
    "duration": 29,
    "start_time": "2022-05-25T20:32:01.950Z"
   },
   {
    "duration": 312,
    "start_time": "2022-05-25T20:32:24.563Z"
   },
   {
    "duration": 436,
    "start_time": "2022-05-25T20:32:34.594Z"
   },
   {
    "duration": 222,
    "start_time": "2022-05-25T20:32:42.446Z"
   },
   {
    "duration": 359,
    "start_time": "2022-05-25T20:33:00.595Z"
   },
   {
    "duration": 298,
    "start_time": "2022-05-25T20:33:03.755Z"
   },
   {
    "duration": 316,
    "start_time": "2022-05-25T20:33:05.805Z"
   },
   {
    "duration": 28,
    "start_time": "2022-05-25T20:33:24.555Z"
   },
   {
    "duration": 236,
    "start_time": "2022-05-25T20:33:47.340Z"
   },
   {
    "duration": 245,
    "start_time": "2022-05-25T20:33:58.321Z"
   },
   {
    "duration": 257,
    "start_time": "2022-05-25T20:34:03.414Z"
   },
   {
    "duration": 251,
    "start_time": "2022-05-25T20:34:16.691Z"
   },
   {
    "duration": 3,
    "start_time": "2022-05-25T20:35:16.608Z"
   },
   {
    "duration": 55,
    "start_time": "2022-05-25T20:35:16.613Z"
   },
   {
    "duration": 15,
    "start_time": "2022-05-25T20:35:16.670Z"
   },
   {
    "duration": 9,
    "start_time": "2022-05-25T20:35:16.688Z"
   },
   {
    "duration": 16,
    "start_time": "2022-05-25T20:35:16.699Z"
   },
   {
    "duration": 16,
    "start_time": "2022-05-25T20:35:16.717Z"
   },
   {
    "duration": 53,
    "start_time": "2022-05-25T20:35:16.734Z"
   },
   {
    "duration": 14,
    "start_time": "2022-05-25T20:35:16.789Z"
   },
   {
    "duration": 15,
    "start_time": "2022-05-25T20:35:16.805Z"
   },
   {
    "duration": 20,
    "start_time": "2022-05-25T20:35:16.821Z"
   },
   {
    "duration": 47,
    "start_time": "2022-05-25T20:35:16.842Z"
   },
   {
    "duration": 8,
    "start_time": "2022-05-25T20:35:16.890Z"
   },
   {
    "duration": 8,
    "start_time": "2022-05-25T20:35:16.899Z"
   },
   {
    "duration": 6,
    "start_time": "2022-05-25T20:35:16.908Z"
   },
   {
    "duration": 23,
    "start_time": "2022-05-25T20:35:16.916Z"
   },
   {
    "duration": 51,
    "start_time": "2022-05-25T20:35:16.941Z"
   },
   {
    "duration": 7,
    "start_time": "2022-05-25T20:35:16.994Z"
   },
   {
    "duration": 13,
    "start_time": "2022-05-25T20:35:17.003Z"
   },
   {
    "duration": 5,
    "start_time": "2022-05-25T20:35:17.018Z"
   },
   {
    "duration": 25,
    "start_time": "2022-05-25T20:35:17.025Z"
   },
   {
    "duration": 7,
    "start_time": "2022-05-25T20:35:17.052Z"
   },
   {
    "duration": 13,
    "start_time": "2022-05-25T20:35:17.075Z"
   },
   {
    "duration": 25,
    "start_time": "2022-05-25T20:35:17.090Z"
   },
   {
    "duration": 19,
    "start_time": "2022-05-25T20:35:17.119Z"
   },
   {
    "duration": 14,
    "start_time": "2022-05-25T20:35:17.139Z"
   },
   {
    "duration": 28,
    "start_time": "2022-05-25T20:35:17.154Z"
   },
   {
    "duration": 404,
    "start_time": "2022-05-25T20:35:17.183Z"
   },
   {
    "duration": 6,
    "start_time": "2022-05-25T20:35:17.589Z"
   },
   {
    "duration": 300,
    "start_time": "2022-05-25T20:35:17.596Z"
   },
   {
    "duration": 30,
    "start_time": "2022-05-25T20:35:17.897Z"
   },
   {
    "duration": 6,
    "start_time": "2022-05-25T20:35:17.929Z"
   },
   {
    "duration": 18,
    "start_time": "2022-05-25T20:35:17.936Z"
   },
   {
    "duration": 23,
    "start_time": "2022-05-25T20:35:17.955Z"
   },
   {
    "duration": 324,
    "start_time": "2022-05-25T20:35:17.979Z"
   },
   {
    "duration": 5,
    "start_time": "2022-05-25T20:35:18.305Z"
   },
   {
    "duration": 266,
    "start_time": "2022-05-25T20:35:18.312Z"
   },
   {
    "duration": 280,
    "start_time": "2022-05-25T20:35:18.580Z"
   },
   {
    "duration": 402,
    "start_time": "2022-05-25T20:35:18.862Z"
   },
   {
    "duration": 18,
    "start_time": "2022-05-25T20:35:19.265Z"
   },
   {
    "duration": 215,
    "start_time": "2022-05-25T20:35:19.285Z"
   },
   {
    "duration": 11,
    "start_time": "2022-05-25T20:35:19.501Z"
   },
   {
    "duration": 465,
    "start_time": "2022-05-25T20:35:19.513Z"
   },
   {
    "duration": 268,
    "start_time": "2022-05-25T20:35:19.979Z"
   },
   {
    "duration": 268,
    "start_time": "2022-05-25T20:35:20.249Z"
   },
   {
    "duration": 200,
    "start_time": "2022-05-25T20:35:20.518Z"
   },
   {
    "duration": 19,
    "start_time": "2022-05-25T20:35:20.720Z"
   },
   {
    "duration": 34,
    "start_time": "2022-05-25T20:35:20.741Z"
   },
   {
    "duration": 19,
    "start_time": "2022-05-25T20:35:20.776Z"
   },
   {
    "duration": 17,
    "start_time": "2022-05-25T20:35:20.796Z"
   },
   {
    "duration": 22,
    "start_time": "2022-05-25T20:35:20.815Z"
   },
   {
    "duration": 40,
    "start_time": "2022-05-25T20:35:20.838Z"
   },
   {
    "duration": 18,
    "start_time": "2022-05-25T20:35:20.880Z"
   },
   {
    "duration": 18,
    "start_time": "2022-05-25T20:35:20.899Z"
   },
   {
    "duration": 54,
    "start_time": "2022-05-25T22:37:42.089Z"
   },
   {
    "duration": 1278,
    "start_time": "2022-05-25T22:37:46.381Z"
   },
   {
    "duration": 93,
    "start_time": "2022-05-25T22:37:47.661Z"
   },
   {
    "duration": 18,
    "start_time": "2022-05-25T22:37:47.755Z"
   },
   {
    "duration": 4,
    "start_time": "2022-05-25T22:37:47.775Z"
   },
   {
    "duration": 22,
    "start_time": "2022-05-25T22:37:47.781Z"
   },
   {
    "duration": 16,
    "start_time": "2022-05-25T22:37:47.805Z"
   },
   {
    "duration": 49,
    "start_time": "2022-05-25T22:37:47.823Z"
   },
   {
    "duration": 16,
    "start_time": "2022-05-25T22:37:47.873Z"
   },
   {
    "duration": 17,
    "start_time": "2022-05-25T22:37:47.890Z"
   },
   {
    "duration": 17,
    "start_time": "2022-05-25T22:37:47.909Z"
   },
   {
    "duration": 33,
    "start_time": "2022-05-25T22:37:47.928Z"
   },
   {
    "duration": 6,
    "start_time": "2022-05-25T22:37:47.963Z"
   },
   {
    "duration": 10,
    "start_time": "2022-05-25T22:37:47.970Z"
   },
   {
    "duration": 6,
    "start_time": "2022-05-25T22:37:47.983Z"
   },
   {
    "duration": 19,
    "start_time": "2022-05-25T22:37:47.991Z"
   },
   {
    "duration": 48,
    "start_time": "2022-05-25T22:37:48.012Z"
   },
   {
    "duration": 9,
    "start_time": "2022-05-25T22:37:48.062Z"
   },
   {
    "duration": 7,
    "start_time": "2022-05-25T22:37:48.072Z"
   },
   {
    "duration": 7,
    "start_time": "2022-05-25T22:37:48.081Z"
   },
   {
    "duration": 23,
    "start_time": "2022-05-25T22:37:48.089Z"
   },
   {
    "duration": 6,
    "start_time": "2022-05-25T22:37:48.114Z"
   },
   {
    "duration": 31,
    "start_time": "2022-05-25T22:37:48.122Z"
   },
   {
    "duration": 18,
    "start_time": "2022-05-25T22:37:48.155Z"
   },
   {
    "duration": 16,
    "start_time": "2022-05-25T22:37:48.174Z"
   },
   {
    "duration": 8,
    "start_time": "2022-05-25T22:37:48.192Z"
   },
   {
    "duration": 6,
    "start_time": "2022-05-25T22:37:48.201Z"
   },
   {
    "duration": 518,
    "start_time": "2022-05-25T22:37:48.209Z"
   },
   {
    "duration": 8,
    "start_time": "2022-05-25T22:37:48.728Z"
   },
   {
    "duration": 271,
    "start_time": "2022-05-25T22:37:48.738Z"
   },
   {
    "duration": 22,
    "start_time": "2022-05-25T22:37:49.011Z"
   },
   {
    "duration": 24,
    "start_time": "2022-05-25T22:37:49.035Z"
   },
   {
    "duration": 16,
    "start_time": "2022-05-25T22:37:49.061Z"
   },
   {
    "duration": 9,
    "start_time": "2022-05-25T22:37:49.079Z"
   },
   {
    "duration": 296,
    "start_time": "2022-05-25T22:37:49.090Z"
   },
   {
    "duration": 4,
    "start_time": "2022-05-25T22:37:49.387Z"
   },
   {
    "duration": 303,
    "start_time": "2022-05-25T22:37:49.393Z"
   },
   {
    "duration": 280,
    "start_time": "2022-05-25T22:37:49.698Z"
   },
   {
    "duration": 186,
    "start_time": "2022-05-25T22:37:49.980Z"
   },
   {
    "duration": 10,
    "start_time": "2022-05-25T22:37:50.168Z"
   },
   {
    "duration": 185,
    "start_time": "2022-05-25T22:37:50.180Z"
   },
   {
    "duration": 10,
    "start_time": "2022-05-25T22:37:50.369Z"
   },
   {
    "duration": 484,
    "start_time": "2022-05-25T22:37:50.380Z"
   },
   {
    "duration": 320,
    "start_time": "2022-05-25T22:37:50.866Z"
   },
   {
    "duration": 248,
    "start_time": "2022-05-25T22:37:51.188Z"
   },
   {
    "duration": 167,
    "start_time": "2022-05-25T22:37:51.437Z"
   },
   {
    "duration": 166,
    "start_time": "2022-05-25T22:38:51.332Z"
   },
   {
    "duration": 136,
    "start_time": "2022-05-25T22:38:57.490Z"
   },
   {
    "duration": 170,
    "start_time": "2022-05-25T22:39:01.689Z"
   },
   {
    "duration": 164,
    "start_time": "2022-05-25T22:39:13.972Z"
   },
   {
    "duration": 143,
    "start_time": "2022-05-25T22:39:25.907Z"
   },
   {
    "duration": 81,
    "start_time": "2022-05-25T22:39:38.040Z"
   },
   {
    "duration": 149,
    "start_time": "2022-05-25T22:39:41.965Z"
   },
   {
    "duration": 183,
    "start_time": "2022-05-25T22:40:03.239Z"
   },
   {
    "duration": 150,
    "start_time": "2022-05-25T22:40:21.938Z"
   },
   {
    "duration": 20,
    "start_time": "2022-05-25T22:41:01.456Z"
   },
   {
    "duration": 174,
    "start_time": "2022-05-25T22:41:12.200Z"
   },
   {
    "duration": 188,
    "start_time": "2022-05-25T22:41:31.804Z"
   },
   {
    "duration": 143,
    "start_time": "2022-05-25T22:42:02.672Z"
   },
   {
    "duration": 144,
    "start_time": "2022-05-25T22:42:28.839Z"
   },
   {
    "duration": 157,
    "start_time": "2022-05-25T22:42:44.356Z"
   },
   {
    "duration": 246,
    "start_time": "2022-05-25T22:43:04.039Z"
   },
   {
    "duration": 22,
    "start_time": "2022-05-25T22:53:49.291Z"
   },
   {
    "duration": 23,
    "start_time": "2022-05-25T22:54:02.366Z"
   },
   {
    "duration": 22,
    "start_time": "2022-05-25T22:54:12.989Z"
   },
   {
    "duration": 8,
    "start_time": "2022-05-25T22:54:21.588Z"
   },
   {
    "duration": 7,
    "start_time": "2022-05-25T22:54:42.554Z"
   },
   {
    "duration": 7,
    "start_time": "2022-05-25T22:55:07.223Z"
   },
   {
    "duration": 7,
    "start_time": "2022-05-25T22:55:15.496Z"
   },
   {
    "duration": 7,
    "start_time": "2022-05-25T22:55:24.068Z"
   },
   {
    "duration": 2,
    "start_time": "2022-05-25T22:59:15.658Z"
   },
   {
    "duration": 12,
    "start_time": "2022-05-25T23:00:09.023Z"
   },
   {
    "duration": 10,
    "start_time": "2022-05-25T23:00:40.360Z"
   },
   {
    "duration": 8,
    "start_time": "2022-05-25T23:03:49.242Z"
   },
   {
    "duration": 14,
    "start_time": "2022-05-25T23:04:45.500Z"
   },
   {
    "duration": 8,
    "start_time": "2022-05-25T23:04:57.213Z"
   },
   {
    "duration": 7,
    "start_time": "2022-05-25T23:05:00.585Z"
   },
   {
    "duration": 7,
    "start_time": "2022-05-25T23:09:53.967Z"
   },
   {
    "duration": 8,
    "start_time": "2022-05-25T23:10:01.844Z"
   },
   {
    "duration": 11,
    "start_time": "2022-05-25T23:10:29.382Z"
   },
   {
    "duration": 36,
    "start_time": "2022-05-25T23:12:57.647Z"
   },
   {
    "duration": 35,
    "start_time": "2022-05-25T23:17:47.265Z"
   },
   {
    "duration": 15,
    "start_time": "2022-05-25T23:19:41.137Z"
   },
   {
    "duration": 7,
    "start_time": "2022-05-25T23:25:53.958Z"
   },
   {
    "duration": 4,
    "start_time": "2022-05-25T23:26:16.535Z"
   },
   {
    "duration": 11,
    "start_time": "2022-05-25T23:26:25.999Z"
   },
   {
    "duration": 5,
    "start_time": "2022-05-25T23:26:27.633Z"
   },
   {
    "duration": 5,
    "start_time": "2022-05-25T23:26:47.836Z"
   },
   {
    "duration": 3,
    "start_time": "2022-05-25T23:27:19.218Z"
   },
   {
    "duration": 46,
    "start_time": "2022-05-25T23:27:19.240Z"
   },
   {
    "duration": 15,
    "start_time": "2022-05-25T23:27:19.288Z"
   },
   {
    "duration": 4,
    "start_time": "2022-05-25T23:27:19.305Z"
   },
   {
    "duration": 14,
    "start_time": "2022-05-25T23:27:19.311Z"
   },
   {
    "duration": 26,
    "start_time": "2022-05-25T23:27:19.327Z"
   },
   {
    "duration": 15,
    "start_time": "2022-05-25T23:27:19.355Z"
   },
   {
    "duration": 14,
    "start_time": "2022-05-25T23:27:19.372Z"
   },
   {
    "duration": 18,
    "start_time": "2022-05-25T23:27:19.388Z"
   },
   {
    "duration": 17,
    "start_time": "2022-05-25T23:27:19.408Z"
   },
   {
    "duration": 5,
    "start_time": "2022-05-25T23:27:19.451Z"
   },
   {
    "duration": 8,
    "start_time": "2022-05-25T23:27:19.457Z"
   },
   {
    "duration": 5,
    "start_time": "2022-05-25T23:27:19.467Z"
   },
   {
    "duration": 7,
    "start_time": "2022-05-25T23:27:19.473Z"
   },
   {
    "duration": 14,
    "start_time": "2022-05-25T23:27:19.482Z"
   },
   {
    "duration": 18,
    "start_time": "2022-05-25T23:27:19.497Z"
   },
   {
    "duration": 5,
    "start_time": "2022-05-25T23:27:19.517Z"
   },
   {
    "duration": 5,
    "start_time": "2022-05-25T23:27:19.551Z"
   },
   {
    "duration": 18,
    "start_time": "2022-05-25T23:27:19.557Z"
   },
   {
    "duration": 5,
    "start_time": "2022-05-25T23:27:19.577Z"
   },
   {
    "duration": 7,
    "start_time": "2022-05-25T23:27:23.523Z"
   },
   {
    "duration": 19,
    "start_time": "2022-05-25T23:28:44.986Z"
   },
   {
    "duration": 6,
    "start_time": "2022-05-25T23:28:45.565Z"
   },
   {
    "duration": 17,
    "start_time": "2022-05-25T23:28:49.075Z"
   },
   {
    "duration": 6,
    "start_time": "2022-05-25T23:28:49.532Z"
   },
   {
    "duration": 3,
    "start_time": "2022-05-25T23:30:04.858Z"
   },
   {
    "duration": 58,
    "start_time": "2022-05-25T23:30:04.863Z"
   },
   {
    "duration": 16,
    "start_time": "2022-05-25T23:30:04.924Z"
   },
   {
    "duration": 6,
    "start_time": "2022-05-25T23:30:04.942Z"
   },
   {
    "duration": 19,
    "start_time": "2022-05-25T23:30:04.950Z"
   },
   {
    "duration": 15,
    "start_time": "2022-05-25T23:30:04.970Z"
   },
   {
    "duration": 17,
    "start_time": "2022-05-25T23:30:04.987Z"
   },
   {
    "duration": 18,
    "start_time": "2022-05-25T23:30:05.006Z"
   },
   {
    "duration": 39,
    "start_time": "2022-05-25T23:30:05.026Z"
   },
   {
    "duration": 18,
    "start_time": "2022-05-25T23:30:05.067Z"
   },
   {
    "duration": 7,
    "start_time": "2022-05-25T23:30:05.088Z"
   },
   {
    "duration": 10,
    "start_time": "2022-05-25T23:30:05.097Z"
   },
   {
    "duration": 7,
    "start_time": "2022-05-25T23:30:05.108Z"
   },
   {
    "duration": 9,
    "start_time": "2022-05-25T23:30:05.117Z"
   },
   {
    "duration": 21,
    "start_time": "2022-05-25T23:30:05.152Z"
   },
   {
    "duration": 28,
    "start_time": "2022-05-25T23:30:05.175Z"
   },
   {
    "duration": 20,
    "start_time": "2022-05-25T23:30:05.205Z"
   },
   {
    "duration": 14,
    "start_time": "2022-05-25T23:30:05.227Z"
   },
   {
    "duration": 17,
    "start_time": "2022-05-25T23:30:05.243Z"
   },
   {
    "duration": 28,
    "start_time": "2022-05-25T23:30:05.262Z"
   },
   {
    "duration": 9,
    "start_time": "2022-05-25T23:30:05.292Z"
   },
   {
    "duration": 5,
    "start_time": "2022-05-25T23:30:41.423Z"
   },
   {
    "duration": 9,
    "start_time": "2022-05-25T23:32:33.927Z"
   },
   {
    "duration": 5,
    "start_time": "2022-05-25T23:32:39.456Z"
   },
   {
    "duration": 4,
    "start_time": "2022-05-25T23:33:12.387Z"
   },
   {
    "duration": 4,
    "start_time": "2022-05-25T23:33:16.724Z"
   },
   {
    "duration": 16,
    "start_time": "2022-05-25T23:33:19.028Z"
   },
   {
    "duration": 21,
    "start_time": "2022-05-25T23:33:32.717Z"
   },
   {
    "duration": 5,
    "start_time": "2022-05-25T23:35:23.408Z"
   },
   {
    "duration": 10,
    "start_time": "2022-05-25T23:35:26.508Z"
   },
   {
    "duration": 7,
    "start_time": "2022-05-25T23:35:31.489Z"
   },
   {
    "duration": 9,
    "start_time": "2022-05-25T23:35:31.949Z"
   },
   {
    "duration": 3,
    "start_time": "2022-05-25T23:35:58.170Z"
   },
   {
    "duration": 55,
    "start_time": "2022-05-25T23:35:58.177Z"
   },
   {
    "duration": 16,
    "start_time": "2022-05-25T23:35:58.235Z"
   },
   {
    "duration": 9,
    "start_time": "2022-05-25T23:35:58.253Z"
   },
   {
    "duration": 17,
    "start_time": "2022-05-25T23:35:58.264Z"
   },
   {
    "duration": 15,
    "start_time": "2022-05-25T23:35:58.283Z"
   },
   {
    "duration": 17,
    "start_time": "2022-05-25T23:35:58.300Z"
   },
   {
    "duration": 34,
    "start_time": "2022-05-25T23:35:58.318Z"
   },
   {
    "duration": 18,
    "start_time": "2022-05-25T23:35:58.354Z"
   },
   {
    "duration": 16,
    "start_time": "2022-05-25T23:35:58.373Z"
   },
   {
    "duration": 5,
    "start_time": "2022-05-25T23:35:58.390Z"
   },
   {
    "duration": 11,
    "start_time": "2022-05-25T23:35:58.396Z"
   },
   {
    "duration": 7,
    "start_time": "2022-05-25T23:35:58.408Z"
   },
   {
    "duration": 37,
    "start_time": "2022-05-25T23:35:58.416Z"
   },
   {
    "duration": 14,
    "start_time": "2022-05-25T23:35:58.455Z"
   },
   {
    "duration": 13,
    "start_time": "2022-05-25T23:35:58.471Z"
   },
   {
    "duration": 7,
    "start_time": "2022-05-25T23:35:58.486Z"
   },
   {
    "duration": 7,
    "start_time": "2022-05-25T23:35:58.495Z"
   },
   {
    "duration": 9,
    "start_time": "2022-05-25T23:35:58.503Z"
   },
   {
    "duration": 39,
    "start_time": "2022-05-25T23:35:58.513Z"
   },
   {
    "duration": 6,
    "start_time": "2022-05-25T23:35:58.554Z"
   },
   {
    "duration": 3,
    "start_time": "2022-05-25T23:35:58.561Z"
   },
   {
    "duration": 7,
    "start_time": "2022-05-25T23:35:58.565Z"
   },
   {
    "duration": 4,
    "start_time": "2022-05-25T23:35:58.573Z"
   },
   {
    "duration": 16,
    "start_time": "2022-05-25T23:35:58.578Z"
   },
   {
    "duration": 6,
    "start_time": "2022-05-25T23:35:58.596Z"
   },
   {
    "duration": 8,
    "start_time": "2022-05-25T23:35:58.603Z"
   },
   {
    "duration": 6,
    "start_time": "2022-05-25T23:36:10.430Z"
   },
   {
    "duration": 3,
    "start_time": "2022-05-25T23:36:28.427Z"
   },
   {
    "duration": 49,
    "start_time": "2022-05-25T23:36:28.432Z"
   },
   {
    "duration": 14,
    "start_time": "2022-05-25T23:36:28.483Z"
   },
   {
    "duration": 5,
    "start_time": "2022-05-25T23:36:28.498Z"
   },
   {
    "duration": 15,
    "start_time": "2022-05-25T23:36:28.505Z"
   },
   {
    "duration": 16,
    "start_time": "2022-05-25T23:36:28.521Z"
   },
   {
    "duration": 20,
    "start_time": "2022-05-25T23:36:28.538Z"
   },
   {
    "duration": 16,
    "start_time": "2022-05-25T23:36:28.559Z"
   },
   {
    "duration": 25,
    "start_time": "2022-05-25T23:36:28.576Z"
   },
   {
    "duration": 16,
    "start_time": "2022-05-25T23:36:28.602Z"
   },
   {
    "duration": 7,
    "start_time": "2022-05-25T23:36:28.619Z"
   },
   {
    "duration": 27,
    "start_time": "2022-05-25T23:36:28.628Z"
   },
   {
    "duration": 6,
    "start_time": "2022-05-25T23:36:28.656Z"
   },
   {
    "duration": 8,
    "start_time": "2022-05-25T23:36:28.664Z"
   },
   {
    "duration": 15,
    "start_time": "2022-05-25T23:36:28.674Z"
   },
   {
    "duration": 17,
    "start_time": "2022-05-25T23:36:28.690Z"
   },
   {
    "duration": 8,
    "start_time": "2022-05-25T23:36:28.709Z"
   },
   {
    "duration": 10,
    "start_time": "2022-05-25T23:36:28.718Z"
   },
   {
    "duration": 27,
    "start_time": "2022-05-25T23:36:28.729Z"
   },
   {
    "duration": 17,
    "start_time": "2022-05-25T23:36:28.757Z"
   },
   {
    "duration": 6,
    "start_time": "2022-05-25T23:36:28.775Z"
   },
   {
    "duration": 2,
    "start_time": "2022-05-25T23:36:28.783Z"
   },
   {
    "duration": 7,
    "start_time": "2022-05-25T23:36:28.787Z"
   },
   {
    "duration": 15,
    "start_time": "2022-05-25T23:36:41.473Z"
   },
   {
    "duration": 6,
    "start_time": "2022-05-25T23:37:31.198Z"
   },
   {
    "duration": 17,
    "start_time": "2022-05-25T23:37:38.942Z"
   },
   {
    "duration": 15,
    "start_time": "2022-05-25T23:37:40.220Z"
   },
   {
    "duration": 6,
    "start_time": "2022-05-25T23:37:43.255Z"
   },
   {
    "duration": 6,
    "start_time": "2022-05-25T23:37:44.225Z"
   },
   {
    "duration": 22,
    "start_time": "2022-05-25T23:38:39.009Z"
   },
   {
    "duration": 6,
    "start_time": "2022-05-25T23:38:49.538Z"
   },
   {
    "duration": 9,
    "start_time": "2022-05-25T23:38:54.613Z"
   },
   {
    "duration": 6,
    "start_time": "2022-05-25T23:38:55.081Z"
   },
   {
    "duration": 17,
    "start_time": "2022-05-25T23:38:58.382Z"
   },
   {
    "duration": 16,
    "start_time": "2022-05-25T23:38:59.328Z"
   },
   {
    "duration": 7,
    "start_time": "2022-05-25T23:39:01.721Z"
   },
   {
    "duration": 5,
    "start_time": "2022-05-25T23:39:02.338Z"
   },
   {
    "duration": 17,
    "start_time": "2022-05-25T23:41:03.916Z"
   },
   {
    "duration": 6,
    "start_time": "2022-05-25T23:41:09.862Z"
   },
   {
    "duration": 2,
    "start_time": "2022-05-25T23:41:16.453Z"
   },
   {
    "duration": 49,
    "start_time": "2022-05-25T23:41:16.481Z"
   },
   {
    "duration": 16,
    "start_time": "2022-05-25T23:41:16.532Z"
   },
   {
    "duration": 6,
    "start_time": "2022-05-25T23:41:16.549Z"
   },
   {
    "duration": 17,
    "start_time": "2022-05-25T23:41:16.556Z"
   },
   {
    "duration": 17,
    "start_time": "2022-05-25T23:41:16.575Z"
   },
   {
    "duration": 17,
    "start_time": "2022-05-25T23:41:16.594Z"
   },
   {
    "duration": 41,
    "start_time": "2022-05-25T23:41:16.612Z"
   },
   {
    "duration": 23,
    "start_time": "2022-05-25T23:41:16.655Z"
   },
   {
    "duration": 16,
    "start_time": "2022-05-25T23:41:16.680Z"
   },
   {
    "duration": 8,
    "start_time": "2022-05-25T23:41:16.698Z"
   },
   {
    "duration": 15,
    "start_time": "2022-05-25T23:41:16.707Z"
   },
   {
    "duration": 28,
    "start_time": "2022-05-25T23:41:16.725Z"
   },
   {
    "duration": 7,
    "start_time": "2022-05-25T23:41:16.755Z"
   },
   {
    "duration": 23,
    "start_time": "2022-05-25T23:41:16.766Z"
   },
   {
    "duration": 20,
    "start_time": "2022-05-25T23:41:16.791Z"
   },
   {
    "duration": 8,
    "start_time": "2022-05-25T23:41:16.813Z"
   },
   {
    "duration": 30,
    "start_time": "2022-05-25T23:41:16.823Z"
   },
   {
    "duration": 7,
    "start_time": "2022-05-25T23:41:16.855Z"
   },
   {
    "duration": 18,
    "start_time": "2022-05-25T23:41:16.864Z"
   },
   {
    "duration": 5,
    "start_time": "2022-05-25T23:41:16.884Z"
   },
   {
    "duration": 11,
    "start_time": "2022-05-25T23:41:16.891Z"
   },
   {
    "duration": 4,
    "start_time": "2022-05-25T23:41:16.904Z"
   },
   {
    "duration": 45,
    "start_time": "2022-05-25T23:41:16.909Z"
   },
   {
    "duration": 19,
    "start_time": "2022-05-25T23:41:16.956Z"
   },
   {
    "duration": 7,
    "start_time": "2022-05-25T23:41:16.976Z"
   },
   {
    "duration": 15,
    "start_time": "2022-05-25T23:42:16.819Z"
   },
   {
    "duration": 7,
    "start_time": "2022-05-25T23:42:19.203Z"
   },
   {
    "duration": 5,
    "start_time": "2022-05-25T23:42:21.038Z"
   },
   {
    "duration": 5,
    "start_time": "2022-05-25T23:42:38.271Z"
   },
   {
    "duration": 2,
    "start_time": "2022-05-25T23:43:26.008Z"
   },
   {
    "duration": 17,
    "start_time": "2022-05-25T23:43:36.179Z"
   },
   {
    "duration": 4,
    "start_time": "2022-05-25T23:44:05.021Z"
   },
   {
    "duration": 9,
    "start_time": "2022-05-25T23:44:12.279Z"
   },
   {
    "duration": 15,
    "start_time": "2022-05-25T23:44:45.083Z"
   },
   {
    "duration": 4,
    "start_time": "2022-05-25T23:45:15.679Z"
   },
   {
    "duration": 8,
    "start_time": "2022-05-25T23:45:22.448Z"
   },
   {
    "duration": 7,
    "start_time": "2022-05-25T23:47:18.541Z"
   },
   {
    "duration": 322,
    "start_time": "2022-05-25T23:47:20.250Z"
   },
   {
    "duration": 310,
    "start_time": "2022-05-25T23:47:24.767Z"
   },
   {
    "duration": 5,
    "start_time": "2022-05-25T23:52:04.243Z"
   },
   {
    "duration": 6,
    "start_time": "2022-05-25T23:52:08.626Z"
   },
   {
    "duration": 4,
    "start_time": "2022-05-25T23:52:08.926Z"
   },
   {
    "duration": 13,
    "start_time": "2022-05-25T23:52:14.495Z"
   },
   {
    "duration": 9,
    "start_time": "2022-05-25T23:52:15.416Z"
   },
   {
    "duration": 12,
    "start_time": "2022-05-25T23:53:27.830Z"
   },
   {
    "duration": 8,
    "start_time": "2022-05-25T23:53:28.573Z"
   },
   {
    "duration": 277,
    "start_time": "2022-05-25T23:56:59.116Z"
   },
   {
    "duration": 35,
    "start_time": "2022-05-26T00:22:27.997Z"
   },
   {
    "duration": 217,
    "start_time": "2022-05-26T00:23:02.115Z"
   },
   {
    "duration": 13,
    "start_time": "2022-05-26T00:23:15.210Z"
   },
   {
    "duration": 506,
    "start_time": "2022-05-26T00:25:30.110Z"
   },
   {
    "duration": 8,
    "start_time": "2022-05-26T00:26:07.384Z"
   },
   {
    "duration": 31,
    "start_time": "2022-05-26T00:28:05.355Z"
   },
   {
    "duration": 275,
    "start_time": "2022-05-26T00:28:32.550Z"
   },
   {
    "duration": 3,
    "start_time": "2022-05-26T00:44:10.089Z"
   },
   {
    "duration": 48,
    "start_time": "2022-05-26T00:44:10.097Z"
   },
   {
    "duration": 24,
    "start_time": "2022-05-26T00:44:10.147Z"
   },
   {
    "duration": 7,
    "start_time": "2022-05-26T00:44:10.173Z"
   },
   {
    "duration": 16,
    "start_time": "2022-05-26T00:44:10.183Z"
   },
   {
    "duration": 14,
    "start_time": "2022-05-26T00:44:10.201Z"
   },
   {
    "duration": 39,
    "start_time": "2022-05-26T00:44:10.217Z"
   },
   {
    "duration": 24,
    "start_time": "2022-05-26T00:44:10.263Z"
   },
   {
    "duration": 18,
    "start_time": "2022-05-26T00:44:10.289Z"
   },
   {
    "duration": 44,
    "start_time": "2022-05-26T00:44:10.308Z"
   },
   {
    "duration": 13,
    "start_time": "2022-05-26T00:44:10.355Z"
   },
   {
    "duration": 8,
    "start_time": "2022-05-26T00:44:10.370Z"
   },
   {
    "duration": 8,
    "start_time": "2022-05-26T00:44:10.380Z"
   },
   {
    "duration": 8,
    "start_time": "2022-05-26T00:44:10.390Z"
   },
   {
    "duration": 22,
    "start_time": "2022-05-26T00:44:10.400Z"
   },
   {
    "duration": 48,
    "start_time": "2022-05-26T00:44:10.424Z"
   },
   {
    "duration": 4,
    "start_time": "2022-05-26T00:44:10.474Z"
   },
   {
    "duration": 8,
    "start_time": "2022-05-26T00:44:10.479Z"
   },
   {
    "duration": 8,
    "start_time": "2022-05-26T00:44:10.488Z"
   },
   {
    "duration": 16,
    "start_time": "2022-05-26T00:44:10.497Z"
   },
   {
    "duration": 5,
    "start_time": "2022-05-26T00:44:10.515Z"
   },
   {
    "duration": 40,
    "start_time": "2022-05-26T00:44:10.522Z"
   },
   {
    "duration": 12,
    "start_time": "2022-05-26T00:44:10.563Z"
   },
   {
    "duration": 18,
    "start_time": "2022-05-26T00:44:10.577Z"
   },
   {
    "duration": 20,
    "start_time": "2022-05-26T00:44:10.596Z"
   },
   {
    "duration": 6,
    "start_time": "2022-05-26T00:44:10.618Z"
   },
   {
    "duration": 56,
    "start_time": "2022-05-26T00:44:10.626Z"
   },
   {
    "duration": 5,
    "start_time": "2022-05-26T00:44:10.684Z"
   },
   {
    "duration": 4,
    "start_time": "2022-05-26T00:44:10.693Z"
   },
   {
    "duration": 6,
    "start_time": "2022-05-26T00:44:10.699Z"
   },
   {
    "duration": 22,
    "start_time": "2022-05-26T00:44:10.706Z"
   },
   {
    "duration": 6,
    "start_time": "2022-05-26T00:44:10.730Z"
   },
   {
    "duration": 38,
    "start_time": "2022-05-26T00:44:10.738Z"
   },
   {
    "duration": 14,
    "start_time": "2022-05-26T00:44:10.778Z"
   },
   {
    "duration": 4,
    "start_time": "2022-05-26T00:44:10.793Z"
   },
   {
    "duration": 11,
    "start_time": "2022-05-26T00:44:10.798Z"
   },
   {
    "duration": 717,
    "start_time": "2022-05-26T00:44:10.811Z"
   },
   {
    "duration": 8,
    "start_time": "2022-05-26T00:44:11.530Z"
   },
   {
    "duration": 349,
    "start_time": "2022-05-26T00:44:11.540Z"
   },
   {
    "duration": 23,
    "start_time": "2022-05-26T00:44:11.891Z"
   },
   {
    "duration": 7,
    "start_time": "2022-05-26T00:44:11.916Z"
   },
   {
    "duration": 14,
    "start_time": "2022-05-26T00:44:11.925Z"
   },
   {
    "duration": 30,
    "start_time": "2022-05-26T00:44:11.941Z"
   },
   {
    "duration": 11,
    "start_time": "2022-05-26T00:44:11.974Z"
   },
   {
    "duration": 387,
    "start_time": "2022-05-26T00:44:11.986Z"
   },
   {
    "duration": 5,
    "start_time": "2022-05-26T00:44:12.375Z"
   },
   {
    "duration": 335,
    "start_time": "2022-05-26T00:44:12.381Z"
   },
   {
    "duration": 309,
    "start_time": "2022-05-26T00:44:12.718Z"
   },
   {
    "duration": 245,
    "start_time": "2022-05-26T00:44:13.029Z"
   },
   {
    "duration": 10,
    "start_time": "2022-05-26T00:44:13.277Z"
   },
   {
    "duration": 232,
    "start_time": "2022-05-26T00:44:13.289Z"
   },
   {
    "duration": 10,
    "start_time": "2022-05-26T00:44:13.523Z"
   },
   {
    "duration": 535,
    "start_time": "2022-05-26T00:44:13.535Z"
   },
   {
    "duration": 8,
    "start_time": "2022-05-26T00:44:14.072Z"
   },
   {
    "duration": 282,
    "start_time": "2022-05-26T00:44:14.082Z"
   },
   {
    "duration": 259,
    "start_time": "2022-05-26T00:44:14.367Z"
   },
   {
    "duration": 168,
    "start_time": "2022-05-26T00:44:14.628Z"
   },
   {
    "duration": 192,
    "start_time": "2022-05-26T00:44:14.798Z"
   },
   {
    "duration": 178,
    "start_time": "2022-05-26T00:44:14.992Z"
   },
   {
    "duration": 218,
    "start_time": "2022-05-26T00:44:15.172Z"
   },
   {
    "duration": 218,
    "start_time": "2022-05-26T00:44:15.392Z"
   },
   {
    "duration": 158,
    "start_time": "2022-05-26T00:44:15.612Z"
   },
   {
    "duration": 159,
    "start_time": "2022-05-26T00:44:15.771Z"
   },
   {
    "duration": 170,
    "start_time": "2022-05-26T00:44:15.932Z"
   },
   {
    "duration": 187,
    "start_time": "2022-05-26T00:44:16.104Z"
   },
   {
    "duration": 8,
    "start_time": "2022-05-26T00:44:16.292Z"
   },
   {
    "duration": 9,
    "start_time": "2022-05-26T00:44:16.302Z"
   },
   {
    "duration": 14,
    "start_time": "2022-05-26T00:44:16.312Z"
   },
   {
    "duration": 27,
    "start_time": "2022-05-26T00:44:16.328Z"
   },
   {
    "duration": 10,
    "start_time": "2022-05-26T00:44:16.356Z"
   },
   {
    "duration": 15,
    "start_time": "2022-05-26T00:44:16.368Z"
   },
   {
    "duration": 1167,
    "start_time": "2022-05-26T14:39:39.795Z"
   },
   {
    "duration": 52,
    "start_time": "2022-05-26T14:39:40.964Z"
   },
   {
    "duration": 18,
    "start_time": "2022-05-26T14:39:41.017Z"
   },
   {
    "duration": 3,
    "start_time": "2022-05-26T14:39:41.037Z"
   },
   {
    "duration": 17,
    "start_time": "2022-05-26T14:39:41.041Z"
   },
   {
    "duration": 16,
    "start_time": "2022-05-26T14:39:41.060Z"
   },
   {
    "duration": 14,
    "start_time": "2022-05-26T14:39:41.078Z"
   },
   {
    "duration": 35,
    "start_time": "2022-05-26T14:39:41.094Z"
   },
   {
    "duration": 19,
    "start_time": "2022-05-26T14:39:41.131Z"
   },
   {
    "duration": 14,
    "start_time": "2022-05-26T14:39:41.152Z"
   },
   {
    "duration": 6,
    "start_time": "2022-05-26T14:39:41.167Z"
   },
   {
    "duration": 12,
    "start_time": "2022-05-26T14:39:41.174Z"
   },
   {
    "duration": 6,
    "start_time": "2022-05-26T14:39:41.187Z"
   },
   {
    "duration": 29,
    "start_time": "2022-05-26T14:39:41.195Z"
   },
   {
    "duration": 15,
    "start_time": "2022-05-26T14:39:41.225Z"
   },
   {
    "duration": 14,
    "start_time": "2022-05-26T14:39:41.242Z"
   },
   {
    "duration": 6,
    "start_time": "2022-05-26T14:39:41.258Z"
   },
   {
    "duration": 6,
    "start_time": "2022-05-26T14:39:41.265Z"
   },
   {
    "duration": 7,
    "start_time": "2022-05-26T14:39:41.272Z"
   },
   {
    "duration": 17,
    "start_time": "2022-05-26T14:39:41.281Z"
   },
   {
    "duration": 27,
    "start_time": "2022-05-26T14:39:41.299Z"
   },
   {
    "duration": 12,
    "start_time": "2022-05-26T14:39:41.327Z"
   },
   {
    "duration": 5,
    "start_time": "2022-05-26T14:39:41.340Z"
   },
   {
    "duration": 18,
    "start_time": "2022-05-26T14:39:41.346Z"
   },
   {
    "duration": 17,
    "start_time": "2022-05-26T14:39:41.365Z"
   },
   {
    "duration": 5,
    "start_time": "2022-05-26T14:39:41.383Z"
   },
   {
    "duration": 47,
    "start_time": "2022-05-26T14:39:41.389Z"
   },
   {
    "duration": 108,
    "start_time": "2022-05-26T14:39:41.440Z"
   },
   {
    "duration": 0,
    "start_time": "2022-05-26T14:39:41.549Z"
   },
   {
    "duration": 0,
    "start_time": "2022-05-26T14:39:41.551Z"
   },
   {
    "duration": 0,
    "start_time": "2022-05-26T14:39:41.552Z"
   },
   {
    "duration": 0,
    "start_time": "2022-05-26T14:39:41.553Z"
   },
   {
    "duration": 0,
    "start_time": "2022-05-26T14:39:41.555Z"
   },
   {
    "duration": 0,
    "start_time": "2022-05-26T14:39:41.555Z"
   },
   {
    "duration": 0,
    "start_time": "2022-05-26T14:39:41.556Z"
   },
   {
    "duration": 0,
    "start_time": "2022-05-26T14:39:41.557Z"
   },
   {
    "duration": 0,
    "start_time": "2022-05-26T14:39:41.559Z"
   },
   {
    "duration": 0,
    "start_time": "2022-05-26T14:39:41.560Z"
   },
   {
    "duration": 0,
    "start_time": "2022-05-26T14:39:41.561Z"
   },
   {
    "duration": 0,
    "start_time": "2022-05-26T14:39:41.562Z"
   },
   {
    "duration": 0,
    "start_time": "2022-05-26T14:39:41.563Z"
   },
   {
    "duration": 0,
    "start_time": "2022-05-26T14:39:41.564Z"
   },
   {
    "duration": 0,
    "start_time": "2022-05-26T14:39:41.565Z"
   },
   {
    "duration": 0,
    "start_time": "2022-05-26T14:39:41.566Z"
   },
   {
    "duration": 0,
    "start_time": "2022-05-26T14:39:41.567Z"
   },
   {
    "duration": 0,
    "start_time": "2022-05-26T14:39:41.568Z"
   },
   {
    "duration": 0,
    "start_time": "2022-05-26T14:39:41.569Z"
   },
   {
    "duration": 0,
    "start_time": "2022-05-26T14:39:41.570Z"
   },
   {
    "duration": 0,
    "start_time": "2022-05-26T14:39:41.571Z"
   },
   {
    "duration": 0,
    "start_time": "2022-05-26T14:39:41.572Z"
   },
   {
    "duration": 0,
    "start_time": "2022-05-26T14:39:41.573Z"
   },
   {
    "duration": 0,
    "start_time": "2022-05-26T14:39:41.574Z"
   },
   {
    "duration": 0,
    "start_time": "2022-05-26T14:39:41.575Z"
   },
   {
    "duration": 0,
    "start_time": "2022-05-26T14:39:41.575Z"
   },
   {
    "duration": 0,
    "start_time": "2022-05-26T14:39:41.576Z"
   },
   {
    "duration": 0,
    "start_time": "2022-05-26T14:39:41.577Z"
   },
   {
    "duration": 0,
    "start_time": "2022-05-26T14:39:41.624Z"
   },
   {
    "duration": 0,
    "start_time": "2022-05-26T14:39:41.625Z"
   },
   {
    "duration": 0,
    "start_time": "2022-05-26T14:39:41.626Z"
   },
   {
    "duration": 0,
    "start_time": "2022-05-26T14:39:41.627Z"
   },
   {
    "duration": 0,
    "start_time": "2022-05-26T14:39:41.628Z"
   },
   {
    "duration": 0,
    "start_time": "2022-05-26T14:39:41.629Z"
   },
   {
    "duration": 0,
    "start_time": "2022-05-26T14:39:41.630Z"
   },
   {
    "duration": 0,
    "start_time": "2022-05-26T14:39:41.631Z"
   },
   {
    "duration": 0,
    "start_time": "2022-05-26T14:39:41.631Z"
   },
   {
    "duration": 0,
    "start_time": "2022-05-26T14:39:41.633Z"
   },
   {
    "duration": 0,
    "start_time": "2022-05-26T14:39:41.633Z"
   },
   {
    "duration": 0,
    "start_time": "2022-05-26T14:39:41.634Z"
   },
   {
    "duration": 0,
    "start_time": "2022-05-26T14:39:41.635Z"
   },
   {
    "duration": 0,
    "start_time": "2022-05-26T14:39:41.636Z"
   },
   {
    "duration": 0,
    "start_time": "2022-05-26T14:39:41.637Z"
   },
   {
    "duration": 310,
    "start_time": "2022-05-26T14:45:28.439Z"
   },
   {
    "duration": 54,
    "start_time": "2022-05-27T11:27:38.066Z"
   },
   {
    "duration": 1727,
    "start_time": "2022-05-27T11:27:42.358Z"
   },
   {
    "duration": 179,
    "start_time": "2022-05-27T11:27:44.087Z"
   },
   {
    "duration": 19,
    "start_time": "2022-05-27T11:27:44.268Z"
   },
   {
    "duration": 3,
    "start_time": "2022-05-27T11:27:44.288Z"
   },
   {
    "duration": 19,
    "start_time": "2022-05-27T11:27:44.293Z"
   },
   {
    "duration": 21,
    "start_time": "2022-05-27T11:27:44.313Z"
   },
   {
    "duration": 34,
    "start_time": "2022-05-27T11:27:44.336Z"
   },
   {
    "duration": 15,
    "start_time": "2022-05-27T11:28:23.898Z"
   },
   {
    "duration": 16,
    "start_time": "2022-05-27T11:29:17.275Z"
   },
   {
    "duration": 3,
    "start_time": "2022-05-27T11:30:59.613Z"
   },
   {
    "duration": 68,
    "start_time": "2022-05-27T11:31:34.081Z"
   },
   {
    "duration": 4,
    "start_time": "2022-05-27T11:31:58.000Z"
   },
   {
    "duration": 31,
    "start_time": "2022-05-27T11:31:58.677Z"
   },
   {
    "duration": 3,
    "start_time": "2022-05-27T11:32:31.130Z"
   },
   {
    "duration": 19,
    "start_time": "2022-05-27T11:32:31.328Z"
   },
   {
    "duration": 3,
    "start_time": "2022-05-27T11:32:57.591Z"
   },
   {
    "duration": 21,
    "start_time": "2022-05-27T11:32:58.092Z"
   },
   {
    "duration": 3,
    "start_time": "2022-05-27T11:33:21.161Z"
   },
   {
    "duration": 145,
    "start_time": "2022-05-27T11:33:34.323Z"
   },
   {
    "duration": 3,
    "start_time": "2022-05-27T11:33:54.154Z"
   },
   {
    "duration": 7,
    "start_time": "2022-05-27T11:33:54.289Z"
   },
   {
    "duration": 4,
    "start_time": "2022-05-27T11:34:23.910Z"
   },
   {
    "duration": 8,
    "start_time": "2022-05-27T11:34:24.373Z"
   },
   {
    "duration": 3,
    "start_time": "2022-05-27T11:34:30.016Z"
   },
   {
    "duration": 11,
    "start_time": "2022-05-27T11:34:30.431Z"
   },
   {
    "duration": 8,
    "start_time": "2022-05-27T11:34:41.935Z"
   },
   {
    "duration": 8,
    "start_time": "2022-05-27T11:34:45.109Z"
   },
   {
    "duration": 12,
    "start_time": "2022-05-27T11:34:53.927Z"
   },
   {
    "duration": 7,
    "start_time": "2022-05-27T11:35:01.534Z"
   },
   {
    "duration": 7,
    "start_time": "2022-05-27T11:35:05.070Z"
   },
   {
    "duration": 9,
    "start_time": "2022-05-27T11:35:35.240Z"
   },
   {
    "duration": 8,
    "start_time": "2022-05-27T11:35:46.214Z"
   },
   {
    "duration": 20,
    "start_time": "2022-05-27T11:35:52.566Z"
   },
   {
    "duration": 3,
    "start_time": "2022-05-27T11:36:53.692Z"
   },
   {
    "duration": 59,
    "start_time": "2022-05-27T11:36:53.697Z"
   },
   {
    "duration": 14,
    "start_time": "2022-05-27T11:36:53.758Z"
   },
   {
    "duration": 5,
    "start_time": "2022-05-27T11:36:53.774Z"
   },
   {
    "duration": 14,
    "start_time": "2022-05-27T11:36:53.781Z"
   },
   {
    "duration": 17,
    "start_time": "2022-05-27T11:36:53.796Z"
   },
   {
    "duration": 40,
    "start_time": "2022-05-27T11:36:53.814Z"
   },
   {
    "duration": 4,
    "start_time": "2022-05-27T11:36:53.855Z"
   },
   {
    "duration": 7,
    "start_time": "2022-05-27T11:36:53.860Z"
   },
   {
    "duration": 13,
    "start_time": "2022-05-27T11:36:53.868Z"
   },
   {
    "duration": 3,
    "start_time": "2022-05-27T11:37:11.778Z"
   },
   {
    "duration": 53,
    "start_time": "2022-05-27T11:37:11.783Z"
   },
   {
    "duration": 20,
    "start_time": "2022-05-27T11:37:11.838Z"
   },
   {
    "duration": 5,
    "start_time": "2022-05-27T11:37:11.860Z"
   },
   {
    "duration": 14,
    "start_time": "2022-05-27T11:37:11.867Z"
   },
   {
    "duration": 14,
    "start_time": "2022-05-27T11:37:11.882Z"
   },
   {
    "duration": 16,
    "start_time": "2022-05-27T11:37:11.898Z"
   },
   {
    "duration": 35,
    "start_time": "2022-05-27T11:37:11.916Z"
   },
   {
    "duration": 8,
    "start_time": "2022-05-27T11:37:11.953Z"
   },
   {
    "duration": 16,
    "start_time": "2022-05-27T11:37:11.963Z"
   },
   {
    "duration": 7,
    "start_time": "2022-05-27T11:44:16.064Z"
   },
   {
    "duration": 16,
    "start_time": "2022-05-27T11:44:29.433Z"
   },
   {
    "duration": 7,
    "start_time": "2022-05-27T11:44:32.837Z"
   },
   {
    "duration": 6,
    "start_time": "2022-05-27T11:45:55.732Z"
   },
   {
    "duration": 14,
    "start_time": "2022-05-27T11:46:03.659Z"
   },
   {
    "duration": 13,
    "start_time": "2022-05-27T11:46:11.879Z"
   },
   {
    "duration": 13,
    "start_time": "2022-05-27T11:46:27.029Z"
   },
   {
    "duration": 10,
    "start_time": "2022-05-27T11:46:58.096Z"
   },
   {
    "duration": 5,
    "start_time": "2022-05-27T11:47:41.534Z"
   },
   {
    "duration": 7,
    "start_time": "2022-05-27T11:47:45.502Z"
   },
   {
    "duration": 6,
    "start_time": "2022-05-27T11:47:47.299Z"
   },
   {
    "duration": 5,
    "start_time": "2022-05-27T11:47:47.868Z"
   },
   {
    "duration": 5,
    "start_time": "2022-05-27T11:50:08.938Z"
   },
   {
    "duration": 5,
    "start_time": "2022-05-27T11:50:17.414Z"
   },
   {
    "duration": 5,
    "start_time": "2022-05-27T11:50:31.158Z"
   },
   {
    "duration": 5,
    "start_time": "2022-05-27T11:51:50.984Z"
   },
   {
    "duration": 22,
    "start_time": "2022-05-27T11:53:41.817Z"
   },
   {
    "duration": 6,
    "start_time": "2022-05-27T11:54:37.388Z"
   },
   {
    "duration": 21,
    "start_time": "2022-05-27T11:54:42.280Z"
   },
   {
    "duration": 4,
    "start_time": "2022-05-27T11:54:47.625Z"
   },
   {
    "duration": 7,
    "start_time": "2022-05-27T11:55:25.941Z"
   },
   {
    "duration": 4,
    "start_time": "2022-05-27T11:55:26.500Z"
   },
   {
    "duration": 3,
    "start_time": "2022-05-27T11:58:42.985Z"
   },
   {
    "duration": 57,
    "start_time": "2022-05-27T11:58:42.989Z"
   },
   {
    "duration": 14,
    "start_time": "2022-05-27T11:58:43.048Z"
   },
   {
    "duration": 5,
    "start_time": "2022-05-27T11:58:43.063Z"
   },
   {
    "duration": 17,
    "start_time": "2022-05-27T11:58:43.070Z"
   },
   {
    "duration": 15,
    "start_time": "2022-05-27T11:58:43.088Z"
   },
   {
    "duration": 40,
    "start_time": "2022-05-27T11:58:43.104Z"
   },
   {
    "duration": 6,
    "start_time": "2022-05-27T11:58:43.145Z"
   },
   {
    "duration": 13,
    "start_time": "2022-05-27T11:58:43.153Z"
   },
   {
    "duration": 341,
    "start_time": "2022-05-27T11:58:43.167Z"
   },
   {
    "duration": 4,
    "start_time": "2022-05-27T11:58:43.510Z"
   },
   {
    "duration": 12,
    "start_time": "2022-05-27T11:58:43.516Z"
   },
   {
    "duration": 6,
    "start_time": "2022-05-27T11:58:43.529Z"
   },
   {
    "duration": 9,
    "start_time": "2022-05-27T11:58:43.536Z"
   },
   {
    "duration": 4,
    "start_time": "2022-05-27T11:58:43.546Z"
   },
   {
    "duration": 5,
    "start_time": "2022-05-27T11:58:43.552Z"
   },
   {
    "duration": 7,
    "start_time": "2022-05-27T11:58:43.559Z"
   },
   {
    "duration": 6,
    "start_time": "2022-05-27T11:58:43.568Z"
   },
   {
    "duration": 5,
    "start_time": "2022-05-27T11:58:43.575Z"
   },
   {
    "duration": 4,
    "start_time": "2022-05-27T11:58:43.582Z"
   },
   {
    "duration": 9,
    "start_time": "2022-05-27T11:58:43.587Z"
   },
   {
    "duration": 15,
    "start_time": "2022-05-27T11:58:43.597Z"
   },
   {
    "duration": 7,
    "start_time": "2022-05-27T12:00:23.766Z"
   },
   {
    "duration": 9,
    "start_time": "2022-05-27T12:00:24.313Z"
   },
   {
    "duration": 9,
    "start_time": "2022-05-27T12:00:29.356Z"
   },
   {
    "duration": 745,
    "start_time": "2022-05-27T12:00:56.416Z"
   },
   {
    "duration": 25,
    "start_time": "2022-05-27T12:02:01.501Z"
   },
   {
    "duration": 7,
    "start_time": "2022-05-27T12:02:04.682Z"
   },
   {
    "duration": 275,
    "start_time": "2022-05-27T12:02:04.843Z"
   },
   {
    "duration": 24,
    "start_time": "2022-05-27T12:02:08.523Z"
   },
   {
    "duration": 10,
    "start_time": "2022-05-27T12:02:32.194Z"
   },
   {
    "duration": 22,
    "start_time": "2022-05-27T12:02:52.922Z"
   },
   {
    "duration": 7,
    "start_time": "2022-05-27T12:02:58.166Z"
   },
   {
    "duration": 6,
    "start_time": "2022-05-27T12:03:00.254Z"
   },
   {
    "duration": 13,
    "start_time": "2022-05-27T12:03:13.709Z"
   },
   {
    "duration": 9,
    "start_time": "2022-05-27T12:03:14.436Z"
   },
   {
    "duration": 539,
    "start_time": "2022-05-27T12:03:23.895Z"
   },
   {
    "duration": 6,
    "start_time": "2022-05-27T12:03:29.880Z"
   },
   {
    "duration": 244,
    "start_time": "2022-05-27T12:03:31.582Z"
   },
   {
    "duration": 267,
    "start_time": "2022-05-27T12:03:34.746Z"
   },
   {
    "duration": 8,
    "start_time": "2022-05-27T12:04:03.332Z"
   },
   {
    "duration": 4,
    "start_time": "2022-05-27T12:04:04.712Z"
   },
   {
    "duration": 702,
    "start_time": "2022-05-27T12:05:19.919Z"
   },
   {
    "duration": 3,
    "start_time": "2022-05-27T12:05:32.449Z"
   },
   {
    "duration": 52,
    "start_time": "2022-05-27T12:05:32.454Z"
   },
   {
    "duration": 13,
    "start_time": "2022-05-27T12:05:32.508Z"
   },
   {
    "duration": 8,
    "start_time": "2022-05-27T12:05:32.523Z"
   },
   {
    "duration": 18,
    "start_time": "2022-05-27T12:05:32.532Z"
   },
   {
    "duration": 18,
    "start_time": "2022-05-27T12:05:32.552Z"
   },
   {
    "duration": 16,
    "start_time": "2022-05-27T12:05:32.572Z"
   },
   {
    "duration": 7,
    "start_time": "2022-05-27T12:05:32.590Z"
   },
   {
    "duration": 17,
    "start_time": "2022-05-27T12:05:32.598Z"
   },
   {
    "duration": 20,
    "start_time": "2022-05-27T12:05:32.642Z"
   },
   {
    "duration": 7,
    "start_time": "2022-05-27T12:05:32.664Z"
   },
   {
    "duration": 9,
    "start_time": "2022-05-27T12:05:32.673Z"
   },
   {
    "duration": 6,
    "start_time": "2022-05-27T12:05:32.686Z"
   },
   {
    "duration": 12,
    "start_time": "2022-05-27T12:05:32.694Z"
   },
   {
    "duration": 35,
    "start_time": "2022-05-27T12:05:32.708Z"
   },
   {
    "duration": 19,
    "start_time": "2022-05-27T12:05:32.745Z"
   },
   {
    "duration": 12,
    "start_time": "2022-05-27T12:05:32.765Z"
   },
   {
    "duration": 12,
    "start_time": "2022-05-27T12:05:32.778Z"
   },
   {
    "duration": 8,
    "start_time": "2022-05-27T12:05:32.792Z"
   },
   {
    "duration": 8,
    "start_time": "2022-05-27T12:05:32.802Z"
   },
   {
    "duration": 9,
    "start_time": "2022-05-27T12:05:32.812Z"
   },
   {
    "duration": 19,
    "start_time": "2022-05-27T12:05:32.823Z"
   },
   {
    "duration": 8,
    "start_time": "2022-05-27T12:05:32.844Z"
   },
   {
    "duration": 18,
    "start_time": "2022-05-27T12:05:32.854Z"
   },
   {
    "duration": 19,
    "start_time": "2022-05-27T12:05:32.873Z"
   },
   {
    "duration": 343,
    "start_time": "2022-05-27T12:05:32.894Z"
   },
   {
    "duration": 8,
    "start_time": "2022-05-27T12:05:33.239Z"
   },
   {
    "duration": 258,
    "start_time": "2022-05-27T12:05:33.249Z"
   },
   {
    "duration": 22,
    "start_time": "2022-05-27T12:05:33.509Z"
   },
   {
    "duration": 15,
    "start_time": "2022-05-27T12:05:33.532Z"
   },
   {
    "duration": 12,
    "start_time": "2022-05-27T12:05:33.549Z"
   },
   {
    "duration": 25,
    "start_time": "2022-05-27T12:05:33.563Z"
   },
   {
    "duration": 11,
    "start_time": "2022-05-27T12:05:33.589Z"
   },
   {
    "duration": 302,
    "start_time": "2022-05-27T12:05:33.602Z"
   },
   {
    "duration": 4,
    "start_time": "2022-05-27T12:05:33.906Z"
   },
   {
    "duration": 246,
    "start_time": "2022-05-27T12:05:33.911Z"
   },
   {
    "duration": 260,
    "start_time": "2022-05-27T12:05:34.160Z"
   },
   {
    "duration": 621,
    "start_time": "2022-05-27T12:05:34.422Z"
   },
   {
    "duration": 186,
    "start_time": "2022-05-27T12:05:43.059Z"
   },
   {
    "duration": 6,
    "start_time": "2022-05-27T12:06:29.976Z"
   },
   {
    "duration": 12,
    "start_time": "2022-05-27T12:07:46.385Z"
   },
   {
    "duration": 168,
    "start_time": "2022-05-27T12:08:02.487Z"
   },
   {
    "duration": 14,
    "start_time": "2022-05-27T12:08:09.915Z"
   },
   {
    "duration": 298,
    "start_time": "2022-05-27T12:08:45.472Z"
   },
   {
    "duration": 453,
    "start_time": "2022-05-27T12:08:57.659Z"
   },
   {
    "duration": 13,
    "start_time": "2022-05-27T12:09:09.544Z"
   },
   {
    "duration": 304,
    "start_time": "2022-05-27T12:09:27.321Z"
   },
   {
    "duration": 280,
    "start_time": "2022-05-27T12:09:35.153Z"
   },
   {
    "duration": 157,
    "start_time": "2022-05-27T12:09:43.266Z"
   },
   {
    "duration": 168,
    "start_time": "2022-05-27T12:09:49.197Z"
   },
   {
    "duration": 149,
    "start_time": "2022-05-27T12:09:51.264Z"
   },
   {
    "duration": 169,
    "start_time": "2022-05-27T12:09:54.530Z"
   },
   {
    "duration": 444,
    "start_time": "2022-05-27T12:09:57.063Z"
   },
   {
    "duration": 143,
    "start_time": "2022-05-27T12:09:59.470Z"
   },
   {
    "duration": 144,
    "start_time": "2022-05-27T12:10:02.061Z"
   },
   {
    "duration": 153,
    "start_time": "2022-05-27T12:10:04.361Z"
   },
   {
    "duration": 206,
    "start_time": "2022-05-27T12:10:06.938Z"
   },
   {
    "duration": 12,
    "start_time": "2022-05-27T12:10:28.165Z"
   },
   {
    "duration": 13,
    "start_time": "2022-05-27T12:10:42.170Z"
   },
   {
    "duration": 13,
    "start_time": "2022-05-27T12:11:32.916Z"
   },
   {
    "duration": 10,
    "start_time": "2022-05-27T12:11:54.297Z"
   },
   {
    "duration": 9,
    "start_time": "2022-05-27T12:11:54.981Z"
   },
   {
    "duration": 14,
    "start_time": "2022-05-27T12:12:20.352Z"
   },
   {
    "duration": 3,
    "start_time": "2022-05-27T12:13:24.025Z"
   },
   {
    "duration": 64,
    "start_time": "2022-05-27T12:13:24.031Z"
   },
   {
    "duration": 20,
    "start_time": "2022-05-27T12:13:24.097Z"
   },
   {
    "duration": 6,
    "start_time": "2022-05-27T12:13:24.119Z"
   },
   {
    "duration": 21,
    "start_time": "2022-05-27T12:13:24.128Z"
   },
   {
    "duration": 28,
    "start_time": "2022-05-27T12:13:24.150Z"
   },
   {
    "duration": 23,
    "start_time": "2022-05-27T12:13:24.180Z"
   },
   {
    "duration": 5,
    "start_time": "2022-05-27T12:13:24.205Z"
   },
   {
    "duration": 32,
    "start_time": "2022-05-27T12:13:24.212Z"
   },
   {
    "duration": 23,
    "start_time": "2022-05-27T12:13:24.245Z"
   },
   {
    "duration": 8,
    "start_time": "2022-05-27T12:13:24.270Z"
   },
   {
    "duration": 8,
    "start_time": "2022-05-27T12:13:24.280Z"
   },
   {
    "duration": 6,
    "start_time": "2022-05-27T12:13:24.290Z"
   },
   {
    "duration": 5,
    "start_time": "2022-05-27T12:13:24.298Z"
   },
   {
    "duration": 38,
    "start_time": "2022-05-27T12:13:24.305Z"
   },
   {
    "duration": 5,
    "start_time": "2022-05-27T12:13:24.344Z"
   },
   {
    "duration": 11,
    "start_time": "2022-05-27T12:13:24.351Z"
   },
   {
    "duration": 8,
    "start_time": "2022-05-27T12:13:24.364Z"
   },
   {
    "duration": 3,
    "start_time": "2022-05-27T12:13:24.374Z"
   },
   {
    "duration": 7,
    "start_time": "2022-05-27T12:13:24.379Z"
   },
   {
    "duration": 18,
    "start_time": "2022-05-27T12:13:24.387Z"
   },
   {
    "duration": 38,
    "start_time": "2022-05-27T12:13:24.407Z"
   },
   {
    "duration": 9,
    "start_time": "2022-05-27T12:13:24.447Z"
   },
   {
    "duration": 15,
    "start_time": "2022-05-27T12:13:24.458Z"
   },
   {
    "duration": 468,
    "start_time": "2022-05-27T12:13:24.474Z"
   },
   {
    "duration": 9,
    "start_time": "2022-05-27T12:13:24.944Z"
   },
   {
    "duration": 356,
    "start_time": "2022-05-27T12:13:24.954Z"
   },
   {
    "duration": 31,
    "start_time": "2022-05-27T12:13:25.312Z"
   },
   {
    "duration": 8,
    "start_time": "2022-05-27T12:13:25.347Z"
   },
   {
    "duration": 6,
    "start_time": "2022-05-27T12:13:25.357Z"
   },
   {
    "duration": 14,
    "start_time": "2022-05-27T12:13:25.365Z"
   },
   {
    "duration": 9,
    "start_time": "2022-05-27T12:13:25.380Z"
   },
   {
    "duration": 351,
    "start_time": "2022-05-27T12:13:25.391Z"
   },
   {
    "duration": 5,
    "start_time": "2022-05-27T12:13:25.744Z"
   },
   {
    "duration": 299,
    "start_time": "2022-05-27T12:13:25.751Z"
   },
   {
    "duration": 306,
    "start_time": "2022-05-27T12:13:26.052Z"
   },
   {
    "duration": 218,
    "start_time": "2022-05-27T12:13:26.360Z"
   },
   {
    "duration": 13,
    "start_time": "2022-05-27T12:13:26.579Z"
   },
   {
    "duration": 224,
    "start_time": "2022-05-27T12:13:26.593Z"
   },
   {
    "duration": 31,
    "start_time": "2022-05-27T12:13:26.819Z"
   },
   {
    "duration": 585,
    "start_time": "2022-05-27T12:13:26.854Z"
   },
   {
    "duration": 16,
    "start_time": "2022-05-27T12:13:27.441Z"
   },
   {
    "duration": 287,
    "start_time": "2022-05-27T12:13:27.458Z"
   },
   {
    "duration": 310,
    "start_time": "2022-05-27T12:13:27.747Z"
   },
   {
    "duration": 190,
    "start_time": "2022-05-27T12:13:28.058Z"
   },
   {
    "duration": 237,
    "start_time": "2022-05-27T12:13:28.250Z"
   },
   {
    "duration": 254,
    "start_time": "2022-05-27T12:13:28.489Z"
   },
   {
    "duration": 192,
    "start_time": "2022-05-27T12:13:28.745Z"
   },
   {
    "duration": 185,
    "start_time": "2022-05-27T12:13:28.941Z"
   },
   {
    "duration": 163,
    "start_time": "2022-05-27T12:13:29.128Z"
   },
   {
    "duration": 176,
    "start_time": "2022-05-27T12:13:29.292Z"
   },
   {
    "duration": 185,
    "start_time": "2022-05-27T12:13:29.471Z"
   },
   {
    "duration": 175,
    "start_time": "2022-05-27T12:13:29.657Z"
   },
   {
    "duration": 19,
    "start_time": "2022-05-27T12:13:29.834Z"
   },
   {
    "duration": 12,
    "start_time": "2022-05-27T12:13:29.855Z"
   },
   {
    "duration": 25,
    "start_time": "2022-05-27T12:13:29.869Z"
   },
   {
    "duration": 13,
    "start_time": "2022-05-27T12:13:29.896Z"
   },
   {
    "duration": 38,
    "start_time": "2022-05-27T12:13:29.911Z"
   },
   {
    "duration": 18,
    "start_time": "2022-05-27T12:13:29.951Z"
   },
   {
    "duration": 4,
    "start_time": "2022-05-27T12:14:12.562Z"
   },
   {
    "duration": 3,
    "start_time": "2022-05-27T12:14:22.072Z"
   },
   {
    "duration": 60,
    "start_time": "2022-05-27T12:14:22.078Z"
   },
   {
    "duration": 14,
    "start_time": "2022-05-27T12:14:22.140Z"
   },
   {
    "duration": 12,
    "start_time": "2022-05-27T12:14:22.156Z"
   },
   {
    "duration": 20,
    "start_time": "2022-05-27T12:14:22.171Z"
   },
   {
    "duration": 22,
    "start_time": "2022-05-27T12:14:22.192Z"
   },
   {
    "duration": 28,
    "start_time": "2022-05-27T12:14:22.216Z"
   },
   {
    "duration": 6,
    "start_time": "2022-05-27T12:14:22.246Z"
   },
   {
    "duration": 12,
    "start_time": "2022-05-27T12:14:22.253Z"
   },
   {
    "duration": 18,
    "start_time": "2022-05-27T12:14:22.266Z"
   },
   {
    "duration": 8,
    "start_time": "2022-05-27T12:14:22.286Z"
   },
   {
    "duration": 10,
    "start_time": "2022-05-27T12:14:22.295Z"
   },
   {
    "duration": 38,
    "start_time": "2022-05-27T12:14:22.306Z"
   },
   {
    "duration": 6,
    "start_time": "2022-05-27T12:14:22.347Z"
   },
   {
    "duration": 11,
    "start_time": "2022-05-27T12:14:22.355Z"
   },
   {
    "duration": 7,
    "start_time": "2022-05-27T12:14:22.367Z"
   },
   {
    "duration": 8,
    "start_time": "2022-05-27T12:14:22.375Z"
   },
   {
    "duration": 8,
    "start_time": "2022-05-27T12:14:22.384Z"
   },
   {
    "duration": 4,
    "start_time": "2022-05-27T12:14:22.393Z"
   },
   {
    "duration": 42,
    "start_time": "2022-05-27T12:14:22.399Z"
   },
   {
    "duration": 16,
    "start_time": "2022-05-27T12:14:22.443Z"
   },
   {
    "duration": 7,
    "start_time": "2022-05-27T12:14:22.461Z"
   },
   {
    "duration": 13,
    "start_time": "2022-05-27T12:14:22.469Z"
   },
   {
    "duration": 9,
    "start_time": "2022-05-27T12:14:22.484Z"
   },
   {
    "duration": 446,
    "start_time": "2022-05-27T12:14:22.495Z"
   },
   {
    "duration": 12,
    "start_time": "2022-05-27T12:14:22.943Z"
   },
   {
    "duration": 355,
    "start_time": "2022-05-27T12:14:22.957Z"
   },
   {
    "duration": 29,
    "start_time": "2022-05-27T12:14:23.313Z"
   },
   {
    "duration": 12,
    "start_time": "2022-05-27T12:14:23.345Z"
   },
   {
    "duration": 6,
    "start_time": "2022-05-27T12:14:23.359Z"
   },
   {
    "duration": 16,
    "start_time": "2022-05-27T12:14:23.367Z"
   },
   {
    "duration": 9,
    "start_time": "2022-05-27T12:14:23.384Z"
   },
   {
    "duration": 396,
    "start_time": "2022-05-27T12:14:23.395Z"
   },
   {
    "duration": 5,
    "start_time": "2022-05-27T12:14:23.792Z"
   },
   {
    "duration": 573,
    "start_time": "2022-05-27T12:14:23.799Z"
   },
   {
    "duration": 283,
    "start_time": "2022-05-27T12:14:24.374Z"
   },
   {
    "duration": 215,
    "start_time": "2022-05-27T12:14:24.658Z"
   },
   {
    "duration": 12,
    "start_time": "2022-05-27T12:14:24.874Z"
   },
   {
    "duration": 233,
    "start_time": "2022-05-27T12:14:24.888Z"
   },
   {
    "duration": 22,
    "start_time": "2022-05-27T12:14:25.122Z"
   },
   {
    "duration": 444,
    "start_time": "2022-05-27T12:14:25.148Z"
   },
   {
    "duration": 12,
    "start_time": "2022-05-27T12:14:25.593Z"
   },
   {
    "duration": 268,
    "start_time": "2022-05-27T12:14:25.606Z"
   },
   {
    "duration": 260,
    "start_time": "2022-05-27T12:14:25.875Z"
   },
   {
    "duration": 166,
    "start_time": "2022-05-27T12:14:26.136Z"
   },
   {
    "duration": 173,
    "start_time": "2022-05-27T12:14:26.304Z"
   },
   {
    "duration": 170,
    "start_time": "2022-05-27T12:14:26.478Z"
   },
   {
    "duration": 168,
    "start_time": "2022-05-27T12:14:26.650Z"
   },
   {
    "duration": 293,
    "start_time": "2022-05-27T12:14:26.820Z"
   },
   {
    "duration": 191,
    "start_time": "2022-05-27T12:14:27.116Z"
   },
   {
    "duration": 161,
    "start_time": "2022-05-27T12:14:27.309Z"
   },
   {
    "duration": 172,
    "start_time": "2022-05-27T12:14:27.472Z"
   },
   {
    "duration": 157,
    "start_time": "2022-05-27T12:14:27.646Z"
   },
   {
    "duration": 9,
    "start_time": "2022-05-27T12:14:27.805Z"
   },
   {
    "duration": 25,
    "start_time": "2022-05-27T12:14:27.816Z"
   },
   {
    "duration": 14,
    "start_time": "2022-05-27T12:14:27.843Z"
   },
   {
    "duration": 11,
    "start_time": "2022-05-27T12:14:27.858Z"
   },
   {
    "duration": 9,
    "start_time": "2022-05-27T12:14:27.870Z"
   },
   {
    "duration": 13,
    "start_time": "2022-05-27T12:14:27.881Z"
   },
   {
    "duration": 3,
    "start_time": "2022-05-27T12:14:49.132Z"
   },
   {
    "duration": 3,
    "start_time": "2022-05-27T12:24:39.786Z"
   },
   {
    "duration": 53,
    "start_time": "2022-05-27T12:24:39.791Z"
   },
   {
    "duration": 14,
    "start_time": "2022-05-27T12:24:39.846Z"
   },
   {
    "duration": 10,
    "start_time": "2022-05-27T12:24:39.862Z"
   },
   {
    "duration": 30,
    "start_time": "2022-05-27T12:24:39.875Z"
   },
   {
    "duration": 22,
    "start_time": "2022-05-27T12:24:39.907Z"
   },
   {
    "duration": 20,
    "start_time": "2022-05-27T12:24:39.944Z"
   },
   {
    "duration": 11,
    "start_time": "2022-05-27T12:24:39.966Z"
   },
   {
    "duration": 10,
    "start_time": "2022-05-27T12:24:39.979Z"
   },
   {
    "duration": 19,
    "start_time": "2022-05-27T12:24:39.991Z"
   },
   {
    "duration": 29,
    "start_time": "2022-05-27T12:24:40.013Z"
   },
   {
    "duration": 8,
    "start_time": "2022-05-27T12:24:40.044Z"
   },
   {
    "duration": 7,
    "start_time": "2022-05-27T12:24:40.053Z"
   },
   {
    "duration": 11,
    "start_time": "2022-05-27T12:24:40.062Z"
   },
   {
    "duration": 5,
    "start_time": "2022-05-27T12:24:40.075Z"
   },
   {
    "duration": 7,
    "start_time": "2022-05-27T12:24:40.081Z"
   },
   {
    "duration": 9,
    "start_time": "2022-05-27T12:24:40.089Z"
   },
   {
    "duration": 7,
    "start_time": "2022-05-27T12:24:40.100Z"
   },
   {
    "duration": 3,
    "start_time": "2022-05-27T12:24:40.142Z"
   },
   {
    "duration": 6,
    "start_time": "2022-05-27T12:24:40.146Z"
   },
   {
    "duration": 16,
    "start_time": "2022-05-27T12:24:40.153Z"
   },
   {
    "duration": 7,
    "start_time": "2022-05-27T12:24:40.170Z"
   },
   {
    "duration": 15,
    "start_time": "2022-05-27T12:24:40.178Z"
   },
   {
    "duration": 9,
    "start_time": "2022-05-27T12:24:40.195Z"
   },
   {
    "duration": 470,
    "start_time": "2022-05-27T12:24:40.205Z"
   },
   {
    "duration": 9,
    "start_time": "2022-05-27T12:24:40.677Z"
   },
   {
    "duration": 314,
    "start_time": "2022-05-27T12:24:40.688Z"
   },
   {
    "duration": 21,
    "start_time": "2022-05-27T12:24:41.004Z"
   },
   {
    "duration": 18,
    "start_time": "2022-05-27T12:24:41.029Z"
   },
   {
    "duration": 6,
    "start_time": "2022-05-27T12:24:41.049Z"
   },
   {
    "duration": 18,
    "start_time": "2022-05-27T12:24:41.056Z"
   },
   {
    "duration": 8,
    "start_time": "2022-05-27T12:24:41.076Z"
   },
   {
    "duration": 336,
    "start_time": "2022-05-27T12:24:41.086Z"
   },
   {
    "duration": 4,
    "start_time": "2022-05-27T12:24:41.424Z"
   },
   {
    "duration": 269,
    "start_time": "2022-05-27T12:24:41.430Z"
   },
   {
    "duration": 301,
    "start_time": "2022-05-27T12:24:41.701Z"
   },
   {
    "duration": 221,
    "start_time": "2022-05-27T12:24:42.004Z"
   },
   {
    "duration": 18,
    "start_time": "2022-05-27T12:24:42.226Z"
   },
   {
    "duration": 213,
    "start_time": "2022-05-27T12:24:42.246Z"
   },
   {
    "duration": 12,
    "start_time": "2022-05-27T12:24:42.461Z"
   },
   {
    "duration": 433,
    "start_time": "2022-05-27T12:24:42.474Z"
   },
   {
    "duration": 12,
    "start_time": "2022-05-27T12:24:42.909Z"
   },
   {
    "duration": 300,
    "start_time": "2022-05-27T12:24:42.923Z"
   },
   {
    "duration": 273,
    "start_time": "2022-05-27T12:24:43.225Z"
   },
   {
    "duration": 160,
    "start_time": "2022-05-27T12:24:43.500Z"
   },
   {
    "duration": 172,
    "start_time": "2022-05-27T12:24:43.662Z"
   },
   {
    "duration": 152,
    "start_time": "2022-05-27T12:24:43.835Z"
   },
   {
    "duration": 169,
    "start_time": "2022-05-27T12:24:43.989Z"
   },
   {
    "duration": 176,
    "start_time": "2022-05-27T12:24:44.160Z"
   },
   {
    "duration": 160,
    "start_time": "2022-05-27T12:24:44.337Z"
   },
   {
    "duration": 163,
    "start_time": "2022-05-27T12:24:44.499Z"
   },
   {
    "duration": 188,
    "start_time": "2022-05-27T12:24:44.665Z"
   },
   {
    "duration": 192,
    "start_time": "2022-05-27T12:24:44.855Z"
   },
   {
    "duration": 14,
    "start_time": "2022-05-27T12:24:45.049Z"
   },
   {
    "duration": 18,
    "start_time": "2022-05-27T12:24:45.065Z"
   },
   {
    "duration": 22,
    "start_time": "2022-05-27T12:24:45.084Z"
   },
   {
    "duration": 12,
    "start_time": "2022-05-27T12:24:45.108Z"
   },
   {
    "duration": 27,
    "start_time": "2022-05-27T12:24:45.122Z"
   },
   {
    "duration": 19,
    "start_time": "2022-05-27T12:24:45.151Z"
   },
   {
    "duration": 1147,
    "start_time": "2022-05-28T00:08:48.567Z"
   },
   {
    "duration": 54,
    "start_time": "2022-05-28T00:08:49.716Z"
   },
   {
    "duration": 18,
    "start_time": "2022-05-28T00:08:49.772Z"
   },
   {
    "duration": 3,
    "start_time": "2022-05-28T00:08:49.792Z"
   },
   {
    "duration": 17,
    "start_time": "2022-05-28T00:08:49.796Z"
   },
   {
    "duration": 16,
    "start_time": "2022-05-28T00:08:49.814Z"
   },
   {
    "duration": 14,
    "start_time": "2022-05-28T00:08:49.831Z"
   },
   {
    "duration": 8,
    "start_time": "2022-05-28T00:08:49.846Z"
   },
   {
    "duration": 9,
    "start_time": "2022-05-28T00:08:49.855Z"
   },
   {
    "duration": 40,
    "start_time": "2022-05-28T00:08:49.866Z"
   },
   {
    "duration": 5,
    "start_time": "2022-05-28T00:08:49.907Z"
   },
   {
    "duration": 11,
    "start_time": "2022-05-28T00:08:49.914Z"
   },
   {
    "duration": 5,
    "start_time": "2022-05-28T00:08:49.926Z"
   },
   {
    "duration": 8,
    "start_time": "2022-05-28T00:08:49.932Z"
   },
   {
    "duration": 4,
    "start_time": "2022-05-28T00:08:49.941Z"
   },
   {
    "duration": 6,
    "start_time": "2022-05-28T00:08:49.947Z"
   },
   {
    "duration": 13,
    "start_time": "2022-05-28T00:08:49.954Z"
   },
   {
    "duration": 26,
    "start_time": "2022-05-28T00:08:49.969Z"
   },
   {
    "duration": 9,
    "start_time": "2022-05-28T00:08:49.997Z"
   },
   {
    "duration": 9,
    "start_time": "2022-05-28T00:08:50.007Z"
   },
   {
    "duration": 19,
    "start_time": "2022-05-28T00:08:50.018Z"
   },
   {
    "duration": 6,
    "start_time": "2022-05-28T00:08:50.039Z"
   },
   {
    "duration": 10,
    "start_time": "2022-05-28T00:08:50.047Z"
   },
   {
    "duration": 11,
    "start_time": "2022-05-28T00:08:50.058Z"
   },
   {
    "duration": 426,
    "start_time": "2022-05-28T00:08:50.070Z"
   },
   {
    "duration": 105,
    "start_time": "2022-05-28T00:08:50.497Z"
   },
   {
    "duration": 0,
    "start_time": "2022-05-28T00:08:50.604Z"
   },
   {
    "duration": 0,
    "start_time": "2022-05-28T00:08:50.605Z"
   },
   {
    "duration": 0,
    "start_time": "2022-05-28T00:08:50.606Z"
   },
   {
    "duration": 0,
    "start_time": "2022-05-28T00:08:50.607Z"
   },
   {
    "duration": 0,
    "start_time": "2022-05-28T00:08:50.608Z"
   },
   {
    "duration": 0,
    "start_time": "2022-05-28T00:08:50.609Z"
   },
   {
    "duration": 0,
    "start_time": "2022-05-28T00:08:50.610Z"
   },
   {
    "duration": 0,
    "start_time": "2022-05-28T00:08:50.611Z"
   },
   {
    "duration": 0,
    "start_time": "2022-05-28T00:08:50.611Z"
   },
   {
    "duration": 0,
    "start_time": "2022-05-28T00:08:50.612Z"
   },
   {
    "duration": 0,
    "start_time": "2022-05-28T00:08:50.613Z"
   },
   {
    "duration": 0,
    "start_time": "2022-05-28T00:08:50.614Z"
   },
   {
    "duration": 0,
    "start_time": "2022-05-28T00:08:50.616Z"
   },
   {
    "duration": 0,
    "start_time": "2022-05-28T00:08:50.617Z"
   },
   {
    "duration": 0,
    "start_time": "2022-05-28T00:08:50.618Z"
   },
   {
    "duration": 1,
    "start_time": "2022-05-28T00:08:50.619Z"
   },
   {
    "duration": 0,
    "start_time": "2022-05-28T00:08:50.621Z"
   },
   {
    "duration": 0,
    "start_time": "2022-05-28T00:08:50.622Z"
   },
   {
    "duration": 0,
    "start_time": "2022-05-28T00:08:50.623Z"
   },
   {
    "duration": 0,
    "start_time": "2022-05-28T00:08:50.624Z"
   },
   {
    "duration": 0,
    "start_time": "2022-05-28T00:08:50.625Z"
   },
   {
    "duration": 0,
    "start_time": "2022-05-28T00:08:50.626Z"
   },
   {
    "duration": 0,
    "start_time": "2022-05-28T00:08:50.627Z"
   },
   {
    "duration": 0,
    "start_time": "2022-05-28T00:08:50.628Z"
   },
   {
    "duration": 0,
    "start_time": "2022-05-28T00:08:50.629Z"
   },
   {
    "duration": 0,
    "start_time": "2022-05-28T00:08:50.630Z"
   },
   {
    "duration": 0,
    "start_time": "2022-05-28T00:08:50.631Z"
   },
   {
    "duration": 0,
    "start_time": "2022-05-28T00:08:50.632Z"
   },
   {
    "duration": 0,
    "start_time": "2022-05-28T00:08:50.633Z"
   },
   {
    "duration": 0,
    "start_time": "2022-05-28T00:08:50.634Z"
   },
   {
    "duration": 0,
    "start_time": "2022-05-28T00:08:50.635Z"
   },
   {
    "duration": 0,
    "start_time": "2022-05-28T00:08:50.636Z"
   },
   {
    "duration": 0,
    "start_time": "2022-05-28T00:08:50.637Z"
   },
   {
    "duration": 81,
    "start_time": "2022-05-28T00:16:56.382Z"
   },
   {
    "duration": 1174,
    "start_time": "2022-05-28T00:17:12.196Z"
   },
   {
    "duration": 55,
    "start_time": "2022-05-28T00:17:13.373Z"
   },
   {
    "duration": 19,
    "start_time": "2022-05-28T00:17:13.430Z"
   },
   {
    "duration": 3,
    "start_time": "2022-05-28T00:17:13.450Z"
   },
   {
    "duration": 16,
    "start_time": "2022-05-28T00:17:13.456Z"
   },
   {
    "duration": 31,
    "start_time": "2022-05-28T00:17:13.473Z"
   },
   {
    "duration": 17,
    "start_time": "2022-05-28T00:17:13.506Z"
   },
   {
    "duration": 9,
    "start_time": "2022-05-28T00:17:13.524Z"
   },
   {
    "duration": 11,
    "start_time": "2022-05-28T00:17:13.534Z"
   },
   {
    "duration": 21,
    "start_time": "2022-05-28T00:17:13.547Z"
   },
   {
    "duration": 5,
    "start_time": "2022-05-28T00:17:13.595Z"
   },
   {
    "duration": 12,
    "start_time": "2022-05-28T00:17:13.601Z"
   },
   {
    "duration": 12,
    "start_time": "2022-05-28T00:17:13.614Z"
   },
   {
    "duration": 10,
    "start_time": "2022-05-28T00:17:13.628Z"
   },
   {
    "duration": 8,
    "start_time": "2022-05-28T00:17:13.640Z"
   },
   {
    "duration": 8,
    "start_time": "2022-05-28T00:17:13.649Z"
   },
   {
    "duration": 10,
    "start_time": "2022-05-28T00:17:13.658Z"
   },
   {
    "duration": 29,
    "start_time": "2022-05-28T00:17:13.670Z"
   },
   {
    "duration": 2,
    "start_time": "2022-05-28T00:17:13.701Z"
   },
   {
    "duration": 10,
    "start_time": "2022-05-28T00:17:13.704Z"
   },
   {
    "duration": 27,
    "start_time": "2022-05-28T00:17:13.716Z"
   },
   {
    "duration": 8,
    "start_time": "2022-05-28T00:17:13.745Z"
   },
   {
    "duration": 14,
    "start_time": "2022-05-28T00:17:13.754Z"
   },
   {
    "duration": 25,
    "start_time": "2022-05-28T00:17:13.770Z"
   },
   {
    "duration": 73,
    "start_time": "2022-05-28T00:17:13.797Z"
   },
   {
    "duration": 449,
    "start_time": "2022-05-28T00:17:13.871Z"
   },
   {
    "duration": 114,
    "start_time": "2022-05-28T00:17:14.322Z"
   },
   {
    "duration": 0,
    "start_time": "2022-05-28T00:17:14.438Z"
   },
   {
    "duration": 0,
    "start_time": "2022-05-28T00:17:14.439Z"
   },
   {
    "duration": 0,
    "start_time": "2022-05-28T00:17:14.440Z"
   },
   {
    "duration": 0,
    "start_time": "2022-05-28T00:17:14.441Z"
   },
   {
    "duration": 0,
    "start_time": "2022-05-28T00:17:14.442Z"
   },
   {
    "duration": 0,
    "start_time": "2022-05-28T00:17:14.444Z"
   },
   {
    "duration": 0,
    "start_time": "2022-05-28T00:17:14.445Z"
   },
   {
    "duration": 0,
    "start_time": "2022-05-28T00:17:14.446Z"
   },
   {
    "duration": 0,
    "start_time": "2022-05-28T00:17:14.447Z"
   },
   {
    "duration": 0,
    "start_time": "2022-05-28T00:17:14.448Z"
   },
   {
    "duration": 0,
    "start_time": "2022-05-28T00:17:14.449Z"
   },
   {
    "duration": 0,
    "start_time": "2022-05-28T00:17:14.450Z"
   },
   {
    "duration": 0,
    "start_time": "2022-05-28T00:17:14.451Z"
   },
   {
    "duration": 0,
    "start_time": "2022-05-28T00:17:14.452Z"
   },
   {
    "duration": 0,
    "start_time": "2022-05-28T00:17:14.453Z"
   },
   {
    "duration": 0,
    "start_time": "2022-05-28T00:17:14.454Z"
   },
   {
    "duration": 0,
    "start_time": "2022-05-28T00:17:14.455Z"
   },
   {
    "duration": 0,
    "start_time": "2022-05-28T00:17:14.456Z"
   },
   {
    "duration": 0,
    "start_time": "2022-05-28T00:17:14.457Z"
   },
   {
    "duration": 0,
    "start_time": "2022-05-28T00:17:14.458Z"
   },
   {
    "duration": 0,
    "start_time": "2022-05-28T00:17:14.459Z"
   },
   {
    "duration": 0,
    "start_time": "2022-05-28T00:17:14.460Z"
   },
   {
    "duration": 0,
    "start_time": "2022-05-28T00:17:14.495Z"
   },
   {
    "duration": 0,
    "start_time": "2022-05-28T00:17:14.496Z"
   },
   {
    "duration": 0,
    "start_time": "2022-05-28T00:17:14.498Z"
   },
   {
    "duration": 0,
    "start_time": "2022-05-28T00:17:14.499Z"
   },
   {
    "duration": 0,
    "start_time": "2022-05-28T00:17:14.500Z"
   },
   {
    "duration": 0,
    "start_time": "2022-05-28T00:17:14.501Z"
   },
   {
    "duration": 0,
    "start_time": "2022-05-28T00:17:14.503Z"
   },
   {
    "duration": 0,
    "start_time": "2022-05-28T00:17:14.504Z"
   },
   {
    "duration": 0,
    "start_time": "2022-05-28T00:17:14.506Z"
   },
   {
    "duration": 0,
    "start_time": "2022-05-28T00:17:14.507Z"
   },
   {
    "duration": 0,
    "start_time": "2022-05-28T00:17:14.508Z"
   },
   {
    "duration": 1340,
    "start_time": "2022-05-28T07:13:57.993Z"
   },
   {
    "duration": 99,
    "start_time": "2022-05-28T07:13:59.335Z"
   },
   {
    "duration": 27,
    "start_time": "2022-05-28T07:13:59.436Z"
   },
   {
    "duration": 3,
    "start_time": "2022-05-28T07:13:59.465Z"
   },
   {
    "duration": 19,
    "start_time": "2022-05-28T07:13:59.470Z"
   },
   {
    "duration": 27,
    "start_time": "2022-05-28T07:13:59.491Z"
   },
   {
    "duration": 38,
    "start_time": "2022-05-28T07:13:59.520Z"
   },
   {
    "duration": 8,
    "start_time": "2022-05-28T07:13:59.560Z"
   },
   {
    "duration": 12,
    "start_time": "2022-05-28T07:13:59.570Z"
   },
   {
    "duration": 22,
    "start_time": "2022-05-28T07:13:59.584Z"
   },
   {
    "duration": 5,
    "start_time": "2022-05-28T07:13:59.608Z"
   },
   {
    "duration": 15,
    "start_time": "2022-05-28T07:13:59.615Z"
   },
   {
    "duration": 33,
    "start_time": "2022-05-28T07:13:59.631Z"
   },
   {
    "duration": 7,
    "start_time": "2022-05-28T07:13:59.667Z"
   },
   {
    "duration": 6,
    "start_time": "2022-05-28T07:13:59.676Z"
   },
   {
    "duration": 8,
    "start_time": "2022-05-28T07:13:59.684Z"
   },
   {
    "duration": 18,
    "start_time": "2022-05-28T07:13:59.694Z"
   },
   {
    "duration": 8,
    "start_time": "2022-05-28T07:13:59.713Z"
   },
   {
    "duration": 6,
    "start_time": "2022-05-28T07:13:59.723Z"
   },
   {
    "duration": 32,
    "start_time": "2022-05-28T07:13:59.731Z"
   },
   {
    "duration": 5,
    "start_time": "2022-05-28T07:14:08.224Z"
   },
   {
    "duration": 14,
    "start_time": "2022-05-28T07:14:14.246Z"
   },
   {
    "duration": 12,
    "start_time": "2022-05-28T07:14:15.448Z"
   },
   {
    "duration": 14,
    "start_time": "2022-05-28T07:14:16.034Z"
   },
   {
    "duration": 9,
    "start_time": "2022-05-28T07:14:18.616Z"
   },
   {
    "duration": 73,
    "start_time": "2022-05-28T07:16:16.631Z"
   },
   {
    "duration": 17,
    "start_time": "2022-05-28T07:17:00.502Z"
   },
   {
    "duration": 24,
    "start_time": "2022-05-28T07:17:07.625Z"
   },
   {
    "duration": 27,
    "start_time": "2022-05-28T07:18:13.316Z"
   },
   {
    "duration": 38,
    "start_time": "2022-05-28T07:18:24.699Z"
   },
   {
    "duration": 35,
    "start_time": "2022-05-28T07:18:31.308Z"
   },
   {
    "duration": 5,
    "start_time": "2022-05-28T07:18:45.598Z"
   },
   {
    "duration": 17,
    "start_time": "2022-05-28T07:18:51.853Z"
   },
   {
    "duration": 21,
    "start_time": "2022-05-28T07:20:08.224Z"
   },
   {
    "duration": 14,
    "start_time": "2022-05-28T07:24:30.166Z"
   },
   {
    "duration": 6,
    "start_time": "2022-05-28T07:24:40.168Z"
   },
   {
    "duration": 5,
    "start_time": "2022-05-28T07:24:44.802Z"
   },
   {
    "duration": 6,
    "start_time": "2022-05-28T07:24:54.311Z"
   },
   {
    "duration": 8,
    "start_time": "2022-05-28T07:25:13.008Z"
   },
   {
    "duration": 6,
    "start_time": "2022-05-28T07:25:18.989Z"
   },
   {
    "duration": 8,
    "start_time": "2022-05-28T07:25:38.827Z"
   },
   {
    "duration": 3,
    "start_time": "2022-05-28T07:26:07.808Z"
   },
   {
    "duration": 74,
    "start_time": "2022-05-28T07:26:07.813Z"
   },
   {
    "duration": 15,
    "start_time": "2022-05-28T07:26:07.889Z"
   },
   {
    "duration": 5,
    "start_time": "2022-05-28T07:26:07.905Z"
   },
   {
    "duration": 19,
    "start_time": "2022-05-28T07:26:07.912Z"
   },
   {
    "duration": 14,
    "start_time": "2022-05-28T07:26:07.960Z"
   },
   {
    "duration": 16,
    "start_time": "2022-05-28T07:26:07.976Z"
   },
   {
    "duration": 7,
    "start_time": "2022-05-28T07:26:07.994Z"
   },
   {
    "duration": 13,
    "start_time": "2022-05-28T07:26:08.002Z"
   },
   {
    "duration": 20,
    "start_time": "2022-05-28T07:26:08.059Z"
   },
   {
    "duration": 6,
    "start_time": "2022-05-28T07:26:08.082Z"
   },
   {
    "duration": 12,
    "start_time": "2022-05-28T07:26:08.089Z"
   },
   {
    "duration": 10,
    "start_time": "2022-05-28T07:26:08.102Z"
   },
   {
    "duration": 9,
    "start_time": "2022-05-28T07:26:08.114Z"
   },
   {
    "duration": 6,
    "start_time": "2022-05-28T07:26:08.160Z"
   },
   {
    "duration": 10,
    "start_time": "2022-05-28T07:26:08.167Z"
   },
   {
    "duration": 12,
    "start_time": "2022-05-28T07:26:08.179Z"
   },
   {
    "duration": 14,
    "start_time": "2022-05-28T07:26:08.193Z"
   },
   {
    "duration": 6,
    "start_time": "2022-05-28T07:26:08.208Z"
   },
   {
    "duration": 9,
    "start_time": "2022-05-28T07:26:08.216Z"
   },
   {
    "duration": 33,
    "start_time": "2022-05-28T07:26:08.227Z"
   },
   {
    "duration": 8,
    "start_time": "2022-05-28T07:26:08.262Z"
   },
   {
    "duration": 15,
    "start_time": "2022-05-28T07:26:08.272Z"
   },
   {
    "duration": 23,
    "start_time": "2022-05-28T07:26:08.289Z"
   },
   {
    "duration": 144,
    "start_time": "2022-05-28T07:26:08.314Z"
   },
   {
    "duration": 5,
    "start_time": "2022-05-28T07:26:08.460Z"
   },
   {
    "duration": 9,
    "start_time": "2022-05-28T07:26:08.467Z"
   },
   {
    "duration": 794,
    "start_time": "2022-05-28T07:26:08.478Z"
   },
   {
    "duration": 9,
    "start_time": "2022-05-28T07:26:09.278Z"
   },
   {
    "duration": 308,
    "start_time": "2022-05-28T07:26:09.289Z"
   },
   {
    "duration": 26,
    "start_time": "2022-05-28T07:26:09.598Z"
   },
   {
    "duration": 6,
    "start_time": "2022-05-28T07:26:09.627Z"
   },
   {
    "duration": 26,
    "start_time": "2022-05-28T07:26:09.634Z"
   },
   {
    "duration": 13,
    "start_time": "2022-05-28T07:26:09.662Z"
   },
   {
    "duration": 9,
    "start_time": "2022-05-28T07:26:09.677Z"
   },
   {
    "duration": 328,
    "start_time": "2022-05-28T07:26:09.688Z"
   },
   {
    "duration": 7,
    "start_time": "2022-05-28T07:26:10.018Z"
   },
   {
    "duration": 280,
    "start_time": "2022-05-28T07:26:10.027Z"
   },
   {
    "duration": 277,
    "start_time": "2022-05-28T07:26:10.309Z"
   },
   {
    "duration": 188,
    "start_time": "2022-05-28T07:26:10.588Z"
   },
   {
    "duration": 14,
    "start_time": "2022-05-28T07:26:10.778Z"
   },
   {
    "duration": 190,
    "start_time": "2022-05-28T07:26:10.794Z"
   },
   {
    "duration": 12,
    "start_time": "2022-05-28T07:26:10.986Z"
   },
   {
    "duration": 560,
    "start_time": "2022-05-28T07:26:11.000Z"
   },
   {
    "duration": 17,
    "start_time": "2022-05-28T07:26:11.562Z"
   },
   {
    "duration": 293,
    "start_time": "2022-05-28T07:26:11.582Z"
   },
   {
    "duration": 299,
    "start_time": "2022-05-28T07:26:11.876Z"
   },
   {
    "duration": 164,
    "start_time": "2022-05-28T07:26:12.177Z"
   },
   {
    "duration": 198,
    "start_time": "2022-05-28T07:26:12.343Z"
   },
   {
    "duration": 184,
    "start_time": "2022-05-28T07:26:12.543Z"
   },
   {
    "duration": 215,
    "start_time": "2022-05-28T07:26:12.734Z"
   },
   {
    "duration": 204,
    "start_time": "2022-05-28T07:26:12.954Z"
   },
   {
    "duration": 165,
    "start_time": "2022-05-28T07:26:13.160Z"
   },
   {
    "duration": 161,
    "start_time": "2022-05-28T07:26:13.327Z"
   },
   {
    "duration": 217,
    "start_time": "2022-05-28T07:26:13.489Z"
   },
   {
    "duration": 183,
    "start_time": "2022-05-28T07:26:13.708Z"
   },
   {
    "duration": 11,
    "start_time": "2022-05-28T07:26:13.893Z"
   },
   {
    "duration": 16,
    "start_time": "2022-05-28T07:26:13.906Z"
   },
   {
    "duration": 44,
    "start_time": "2022-05-28T07:26:13.924Z"
   },
   {
    "duration": 9,
    "start_time": "2022-05-28T07:26:13.970Z"
   },
   {
    "duration": 12,
    "start_time": "2022-05-28T07:26:13.981Z"
   },
   {
    "duration": 24,
    "start_time": "2022-05-28T07:26:13.996Z"
   },
   {
    "duration": 55,
    "start_time": "2022-05-28T07:31:01.643Z"
   },
   {
    "duration": 176,
    "start_time": "2022-05-28T07:31:21.841Z"
   },
   {
    "duration": 198,
    "start_time": "2022-05-28T07:32:08.153Z"
   },
   {
    "duration": 359,
    "start_time": "2022-05-28T07:33:00.545Z"
   },
   {
    "duration": 465,
    "start_time": "2022-05-28T07:33:21.740Z"
   },
   {
    "duration": 275,
    "start_time": "2022-05-28T07:34:30.380Z"
   },
   {
    "duration": 305,
    "start_time": "2022-05-28T07:34:36.829Z"
   },
   {
    "duration": 179,
    "start_time": "2022-05-28T07:35:04.858Z"
   },
   {
    "duration": 188,
    "start_time": "2022-05-28T07:35:31.595Z"
   },
   {
    "duration": 171,
    "start_time": "2022-05-28T07:35:43.412Z"
   },
   {
    "duration": 196,
    "start_time": "2022-05-28T07:36:03.748Z"
   },
   {
    "duration": 192,
    "start_time": "2022-05-28T07:36:12.598Z"
   },
   {
    "duration": 176,
    "start_time": "2022-05-28T07:36:22.900Z"
   },
   {
    "duration": 155,
    "start_time": "2022-05-28T07:36:38.087Z"
   },
   {
    "duration": 200,
    "start_time": "2022-05-28T07:36:43.193Z"
   },
   {
    "duration": 173,
    "start_time": "2022-05-28T07:36:54.527Z"
   },
   {
    "duration": 11,
    "start_time": "2022-05-28T07:37:13.389Z"
   },
   {
    "duration": 9,
    "start_time": "2022-05-28T07:37:15.004Z"
   },
   {
    "duration": 17,
    "start_time": "2022-05-28T07:37:16.365Z"
   },
   {
    "duration": 11,
    "start_time": "2022-05-28T07:37:19.472Z"
   },
   {
    "duration": 9,
    "start_time": "2022-05-28T07:37:19.985Z"
   },
   {
    "duration": 15,
    "start_time": "2022-05-28T07:37:20.876Z"
   },
   {
    "duration": 1218,
    "start_time": "2022-05-28T07:38:16.080Z"
   },
   {
    "duration": 71,
    "start_time": "2022-05-28T07:38:17.301Z"
   },
   {
    "duration": 23,
    "start_time": "2022-05-28T07:38:17.374Z"
   },
   {
    "duration": 3,
    "start_time": "2022-05-28T07:38:17.401Z"
   },
   {
    "duration": 35,
    "start_time": "2022-05-28T07:38:17.407Z"
   },
   {
    "duration": 35,
    "start_time": "2022-05-28T07:38:17.444Z"
   },
   {
    "duration": 30,
    "start_time": "2022-05-28T07:38:17.484Z"
   },
   {
    "duration": 8,
    "start_time": "2022-05-28T07:38:17.516Z"
   },
   {
    "duration": 13,
    "start_time": "2022-05-28T07:38:17.526Z"
   },
   {
    "duration": 43,
    "start_time": "2022-05-28T07:38:17.541Z"
   },
   {
    "duration": 4,
    "start_time": "2022-05-28T07:38:17.586Z"
   },
   {
    "duration": 8,
    "start_time": "2022-05-28T07:38:17.592Z"
   },
   {
    "duration": 6,
    "start_time": "2022-05-28T07:38:17.601Z"
   },
   {
    "duration": 10,
    "start_time": "2022-05-28T07:38:17.608Z"
   },
   {
    "duration": 5,
    "start_time": "2022-05-28T07:38:17.619Z"
   },
   {
    "duration": 35,
    "start_time": "2022-05-28T07:38:17.626Z"
   },
   {
    "duration": 23,
    "start_time": "2022-05-28T07:38:17.663Z"
   },
   {
    "duration": 8,
    "start_time": "2022-05-28T07:38:17.688Z"
   },
   {
    "duration": 4,
    "start_time": "2022-05-28T07:38:17.698Z"
   },
   {
    "duration": 13,
    "start_time": "2022-05-28T07:38:17.704Z"
   },
   {
    "duration": 18,
    "start_time": "2022-05-28T07:38:17.718Z"
   },
   {
    "duration": 7,
    "start_time": "2022-05-28T07:38:17.738Z"
   },
   {
    "duration": 13,
    "start_time": "2022-05-28T07:38:17.760Z"
   },
   {
    "duration": 11,
    "start_time": "2022-05-28T07:38:17.776Z"
   },
   {
    "duration": 104,
    "start_time": "2022-05-28T07:38:17.789Z"
   },
   {
    "duration": 5,
    "start_time": "2022-05-28T07:38:17.895Z"
   },
   {
    "duration": 10,
    "start_time": "2022-05-28T07:38:17.902Z"
   },
   {
    "duration": 495,
    "start_time": "2022-05-28T07:38:17.917Z"
   },
   {
    "duration": 7,
    "start_time": "2022-05-28T07:38:18.414Z"
   },
   {
    "duration": 304,
    "start_time": "2022-05-28T07:38:18.423Z"
   },
   {
    "duration": 36,
    "start_time": "2022-05-28T07:38:18.729Z"
   },
   {
    "duration": 9,
    "start_time": "2022-05-28T07:38:18.767Z"
   },
   {
    "duration": 11,
    "start_time": "2022-05-28T07:38:18.779Z"
   },
   {
    "duration": 25,
    "start_time": "2022-05-28T07:38:18.792Z"
   },
   {
    "duration": 9,
    "start_time": "2022-05-28T07:38:18.819Z"
   },
   {
    "duration": 363,
    "start_time": "2022-05-28T07:38:18.830Z"
   },
   {
    "duration": 5,
    "start_time": "2022-05-28T07:38:19.194Z"
   },
   {
    "duration": 317,
    "start_time": "2022-05-28T07:38:19.201Z"
   },
   {
    "duration": 297,
    "start_time": "2022-05-28T07:38:19.520Z"
   },
   {
    "duration": 196,
    "start_time": "2022-05-28T07:38:19.818Z"
   },
   {
    "duration": 14,
    "start_time": "2022-05-28T07:38:20.016Z"
   },
   {
    "duration": 217,
    "start_time": "2022-05-28T07:38:20.031Z"
   },
   {
    "duration": 20,
    "start_time": "2022-05-28T07:38:20.250Z"
   },
   {
    "duration": 524,
    "start_time": "2022-05-28T07:38:20.272Z"
   },
   {
    "duration": 13,
    "start_time": "2022-05-28T07:38:20.797Z"
   },
   {
    "duration": 385,
    "start_time": "2022-05-28T07:38:20.812Z"
   },
   {
    "duration": 318,
    "start_time": "2022-05-28T07:38:21.199Z"
   },
   {
    "duration": 182,
    "start_time": "2022-05-28T07:38:21.519Z"
   },
   {
    "duration": 198,
    "start_time": "2022-05-28T07:38:21.703Z"
   },
   {
    "duration": 180,
    "start_time": "2022-05-28T07:38:21.903Z"
   },
   {
    "duration": 194,
    "start_time": "2022-05-28T07:38:22.085Z"
   },
   {
    "duration": 209,
    "start_time": "2022-05-28T07:38:22.281Z"
   },
   {
    "duration": 201,
    "start_time": "2022-05-28T07:38:22.492Z"
   },
   {
    "duration": 189,
    "start_time": "2022-05-28T07:38:22.695Z"
   },
   {
    "duration": 225,
    "start_time": "2022-05-28T07:38:22.886Z"
   },
   {
    "duration": 204,
    "start_time": "2022-05-28T07:38:23.113Z"
   },
   {
    "duration": 10,
    "start_time": "2022-05-28T07:38:23.318Z"
   },
   {
    "duration": 10,
    "start_time": "2022-05-28T07:38:23.330Z"
   },
   {
    "duration": 28,
    "start_time": "2022-05-28T07:38:23.358Z"
   },
   {
    "duration": 14,
    "start_time": "2022-05-28T07:38:23.388Z"
   },
   {
    "duration": 11,
    "start_time": "2022-05-28T07:38:23.404Z"
   },
   {
    "duration": 17,
    "start_time": "2022-05-28T07:38:23.417Z"
   },
   {
    "duration": 4,
    "start_time": "2022-05-28T07:42:06.704Z"
   },
   {
    "duration": 67,
    "start_time": "2022-05-28T07:42:15.787Z"
   },
   {
    "duration": 1159,
    "start_time": "2022-05-28T07:42:32.711Z"
   },
   {
    "duration": 53,
    "start_time": "2022-05-28T07:42:34.484Z"
   },
   {
    "duration": 20,
    "start_time": "2022-05-28T07:42:34.868Z"
   },
   {
    "duration": 4,
    "start_time": "2022-05-28T07:42:35.651Z"
   },
   {
    "duration": 14,
    "start_time": "2022-05-28T07:42:36.640Z"
   },
   {
    "duration": 20,
    "start_time": "2022-05-28T07:42:37.329Z"
   },
   {
    "duration": 23,
    "start_time": "2022-05-28T07:42:38.755Z"
   },
   {
    "duration": 7,
    "start_time": "2022-05-28T07:42:39.657Z"
   },
   {
    "duration": 12,
    "start_time": "2022-05-28T07:42:40.094Z"
   },
   {
    "duration": 28,
    "start_time": "2022-05-28T07:42:41.549Z"
   },
   {
    "duration": 5,
    "start_time": "2022-05-28T07:42:50.479Z"
   },
   {
    "duration": 8,
    "start_time": "2022-05-28T07:42:51.688Z"
   },
   {
    "duration": 8,
    "start_time": "2022-05-28T07:42:52.465Z"
   },
   {
    "duration": 9,
    "start_time": "2022-05-28T07:42:52.732Z"
   },
   {
    "duration": 6,
    "start_time": "2022-05-28T07:42:53.769Z"
   },
   {
    "duration": 6,
    "start_time": "2022-05-28T07:42:54.399Z"
   },
   {
    "duration": 6,
    "start_time": "2022-05-28T07:42:55.044Z"
   },
   {
    "duration": 8,
    "start_time": "2022-05-28T07:42:55.862Z"
   },
   {
    "duration": 6,
    "start_time": "2022-05-28T07:42:57.237Z"
   },
   {
    "duration": 7,
    "start_time": "2022-05-28T07:43:00.757Z"
   },
   {
    "duration": 17,
    "start_time": "2022-05-28T07:43:02.177Z"
   },
   {
    "duration": 8,
    "start_time": "2022-05-28T07:43:03.546Z"
   },
   {
    "duration": 10,
    "start_time": "2022-05-28T07:43:04.283Z"
   },
   {
    "duration": 10,
    "start_time": "2022-05-28T07:43:06.317Z"
   },
   {
    "duration": 88,
    "start_time": "2022-05-28T07:43:07.016Z"
   },
   {
    "duration": 5,
    "start_time": "2022-05-28T07:43:07.740Z"
   },
   {
    "duration": 6,
    "start_time": "2022-05-28T07:43:08.268Z"
   },
   {
    "duration": 485,
    "start_time": "2022-05-28T07:43:09.989Z"
   },
   {
    "duration": 9,
    "start_time": "2022-05-28T07:43:13.904Z"
   },
   {
    "duration": 292,
    "start_time": "2022-05-28T07:43:20.335Z"
   },
   {
    "duration": 25,
    "start_time": "2022-05-28T07:43:29.659Z"
   },
   {
    "duration": 7,
    "start_time": "2022-05-28T07:43:34.289Z"
   },
   {
    "duration": 5,
    "start_time": "2022-05-28T07:43:35.554Z"
   },
   {
    "duration": 18,
    "start_time": "2022-05-28T07:43:36.459Z"
   },
   {
    "duration": 10,
    "start_time": "2022-05-28T07:43:36.803Z"
   },
   {
    "duration": 328,
    "start_time": "2022-05-28T07:43:39.565Z"
   },
   {
    "duration": 5,
    "start_time": "2022-05-28T07:43:43.141Z"
   },
   {
    "duration": 271,
    "start_time": "2022-05-28T07:43:45.401Z"
   },
   {
    "duration": 285,
    "start_time": "2022-05-28T07:43:47.712Z"
   },
   {
    "duration": 228,
    "start_time": "2022-05-28T07:43:51.258Z"
   },
   {
    "duration": 14,
    "start_time": "2022-05-28T07:43:54.175Z"
   },
   {
    "duration": 186,
    "start_time": "2022-05-28T07:43:55.327Z"
   },
   {
    "duration": 13,
    "start_time": "2022-05-28T07:43:58.274Z"
   },
   {
    "duration": 540,
    "start_time": "2022-05-28T07:43:59.484Z"
   },
   {
    "duration": 13,
    "start_time": "2022-05-28T07:44:03.126Z"
   },
   {
    "duration": 428,
    "start_time": "2022-05-28T07:44:05.819Z"
   },
   {
    "duration": 348,
    "start_time": "2022-05-28T07:44:09.607Z"
   },
   {
    "duration": 188,
    "start_time": "2022-05-28T07:44:13.741Z"
   },
   {
    "duration": 249,
    "start_time": "2022-05-28T07:44:17.195Z"
   },
   {
    "duration": 154,
    "start_time": "2022-05-28T07:44:19.588Z"
   },
   {
    "duration": 204,
    "start_time": "2022-05-28T07:44:21.396Z"
   },
   {
    "duration": 175,
    "start_time": "2022-05-28T07:44:24.533Z"
   },
   {
    "duration": 231,
    "start_time": "2022-05-28T07:44:27.122Z"
   },
   {
    "duration": 183,
    "start_time": "2022-05-28T07:44:30.058Z"
   },
   {
    "duration": 199,
    "start_time": "2022-05-28T07:44:32.458Z"
   },
   {
    "duration": 187,
    "start_time": "2022-05-28T07:44:34.697Z"
   },
   {
    "duration": 9,
    "start_time": "2022-05-28T07:44:38.849Z"
   },
   {
    "duration": 11,
    "start_time": "2022-05-28T07:44:39.365Z"
   },
   {
    "duration": 15,
    "start_time": "2022-05-28T07:44:39.894Z"
   },
   {
    "duration": 11,
    "start_time": "2022-05-28T07:44:43.261Z"
   },
   {
    "duration": 12,
    "start_time": "2022-05-28T07:44:43.617Z"
   },
   {
    "duration": 16,
    "start_time": "2022-05-28T07:44:44.329Z"
   },
   {
    "duration": 1426,
    "start_time": "2022-05-28T20:09:54.894Z"
   },
   {
    "duration": 77,
    "start_time": "2022-05-28T20:09:56.324Z"
   },
   {
    "duration": 31,
    "start_time": "2022-05-28T20:09:56.404Z"
   },
   {
    "duration": 3,
    "start_time": "2022-05-28T20:09:56.436Z"
   },
   {
    "duration": 41,
    "start_time": "2022-05-28T20:09:56.441Z"
   },
   {
    "duration": 22,
    "start_time": "2022-05-28T20:09:56.484Z"
   },
   {
    "duration": 18,
    "start_time": "2022-05-28T20:09:56.508Z"
   },
   {
    "duration": 38,
    "start_time": "2022-05-28T20:09:56.528Z"
   },
   {
    "duration": 24,
    "start_time": "2022-05-28T20:09:56.568Z"
   },
   {
    "duration": 26,
    "start_time": "2022-05-28T20:09:56.594Z"
   },
   {
    "duration": 6,
    "start_time": "2022-05-28T20:09:56.621Z"
   },
   {
    "duration": 11,
    "start_time": "2022-05-28T20:09:56.628Z"
   },
   {
    "duration": 9,
    "start_time": "2022-05-28T20:09:56.660Z"
   },
   {
    "duration": 12,
    "start_time": "2022-05-28T20:09:56.674Z"
   },
   {
    "duration": 10,
    "start_time": "2022-05-28T20:09:56.688Z"
   },
   {
    "duration": 9,
    "start_time": "2022-05-28T20:09:56.700Z"
   },
   {
    "duration": 9,
    "start_time": "2022-05-28T20:09:56.711Z"
   },
   {
    "duration": 10,
    "start_time": "2022-05-28T20:09:56.721Z"
   },
   {
    "duration": 5,
    "start_time": "2022-05-28T20:09:56.760Z"
   },
   {
    "duration": 23,
    "start_time": "2022-05-28T20:09:56.767Z"
   },
   {
    "duration": 20,
    "start_time": "2022-05-28T20:09:56.792Z"
   },
   {
    "duration": 7,
    "start_time": "2022-05-28T20:09:56.814Z"
   },
   {
    "duration": 13,
    "start_time": "2022-05-28T20:09:56.822Z"
   },
   {
    "duration": 27,
    "start_time": "2022-05-28T20:09:56.837Z"
   },
   {
    "duration": 99,
    "start_time": "2022-05-28T20:09:56.866Z"
   },
   {
    "duration": 6,
    "start_time": "2022-05-28T20:09:56.968Z"
   },
   {
    "duration": 16,
    "start_time": "2022-05-28T20:09:56.977Z"
   },
   {
    "duration": 565,
    "start_time": "2022-05-28T20:09:56.995Z"
   },
   {
    "duration": 10,
    "start_time": "2022-05-28T20:09:57.562Z"
   },
   {
    "duration": 360,
    "start_time": "2022-05-28T20:09:57.574Z"
   },
   {
    "duration": 38,
    "start_time": "2022-05-28T20:09:57.936Z"
   },
   {
    "duration": 10,
    "start_time": "2022-05-28T20:09:57.977Z"
   },
   {
    "duration": 6,
    "start_time": "2022-05-28T20:09:57.988Z"
   },
   {
    "duration": 29,
    "start_time": "2022-05-28T20:09:57.996Z"
   },
   {
    "duration": 33,
    "start_time": "2022-05-28T20:09:58.028Z"
   },
   {
    "duration": 372,
    "start_time": "2022-05-28T20:09:58.064Z"
   },
   {
    "duration": 20,
    "start_time": "2022-05-28T20:09:58.439Z"
   },
   {
    "duration": 298,
    "start_time": "2022-05-28T20:09:58.461Z"
   },
   {
    "duration": 338,
    "start_time": "2022-05-28T20:09:58.762Z"
   },
   {
    "duration": 244,
    "start_time": "2022-05-28T20:09:59.102Z"
   },
   {
    "duration": 21,
    "start_time": "2022-05-28T20:09:59.351Z"
   },
   {
    "duration": 206,
    "start_time": "2022-05-28T20:09:59.374Z"
   },
   {
    "duration": 19,
    "start_time": "2022-05-28T20:09:59.582Z"
   },
   {
    "duration": 505,
    "start_time": "2022-05-28T20:09:59.604Z"
   },
   {
    "duration": 12,
    "start_time": "2022-05-28T20:10:00.111Z"
   },
   {
    "duration": 413,
    "start_time": "2022-05-28T20:10:00.125Z"
   },
   {
    "duration": 330,
    "start_time": "2022-05-28T20:10:00.540Z"
   },
   {
    "duration": 221,
    "start_time": "2022-05-28T20:10:00.874Z"
   },
   {
    "duration": 212,
    "start_time": "2022-05-28T20:10:01.097Z"
   },
   {
    "duration": 213,
    "start_time": "2022-05-28T20:10:01.311Z"
   },
   {
    "duration": 201,
    "start_time": "2022-05-28T20:10:01.526Z"
   },
   {
    "duration": 217,
    "start_time": "2022-05-28T20:10:01.729Z"
   },
   {
    "duration": 198,
    "start_time": "2022-05-28T20:10:01.947Z"
   },
   {
    "duration": 183,
    "start_time": "2022-05-28T20:10:02.147Z"
   },
   {
    "duration": 201,
    "start_time": "2022-05-28T20:10:02.332Z"
   },
   {
    "duration": 187,
    "start_time": "2022-05-28T20:10:02.535Z"
   },
   {
    "duration": 11,
    "start_time": "2022-05-28T20:10:02.724Z"
   },
   {
    "duration": 31,
    "start_time": "2022-05-28T20:10:02.737Z"
   },
   {
    "duration": 31,
    "start_time": "2022-05-28T20:10:02.770Z"
   },
   {
    "duration": 14,
    "start_time": "2022-05-28T20:10:02.803Z"
   },
   {
    "duration": 16,
    "start_time": "2022-05-28T20:10:02.819Z"
   },
   {
    "duration": 23,
    "start_time": "2022-05-28T20:10:02.837Z"
   },
   {
    "duration": 12,
    "start_time": "2022-05-28T20:46:30.155Z"
   },
   {
    "duration": 1551,
    "start_time": "2022-05-29T17:48:44.390Z"
   },
   {
    "duration": 113,
    "start_time": "2022-05-29T17:48:45.943Z"
   },
   {
    "duration": 26,
    "start_time": "2022-05-29T17:48:46.058Z"
   },
   {
    "duration": 4,
    "start_time": "2022-05-29T17:48:46.087Z"
   },
   {
    "duration": 17,
    "start_time": "2022-05-29T17:48:46.093Z"
   },
   {
    "duration": 21,
    "start_time": "2022-05-29T17:48:46.112Z"
   },
   {
    "duration": 40,
    "start_time": "2022-05-29T17:48:46.135Z"
   },
   {
    "duration": 17,
    "start_time": "2022-05-29T17:48:46.177Z"
   },
   {
    "duration": 12,
    "start_time": "2022-05-29T17:48:46.196Z"
   },
   {
    "duration": 27,
    "start_time": "2022-05-29T17:48:46.212Z"
   },
   {
    "duration": 37,
    "start_time": "2022-05-29T17:48:46.241Z"
   },
   {
    "duration": 11,
    "start_time": "2022-05-29T17:48:46.280Z"
   },
   {
    "duration": 6,
    "start_time": "2022-05-29T17:48:46.293Z"
   },
   {
    "duration": 7,
    "start_time": "2022-05-29T17:48:46.301Z"
   },
   {
    "duration": 5,
    "start_time": "2022-05-29T17:48:46.310Z"
   },
   {
    "duration": 6,
    "start_time": "2022-05-29T17:48:46.317Z"
   },
   {
    "duration": 8,
    "start_time": "2022-05-29T17:48:46.324Z"
   },
   {
    "duration": 48,
    "start_time": "2022-05-29T17:48:46.333Z"
   },
   {
    "duration": 4,
    "start_time": "2022-05-29T17:48:46.382Z"
   },
   {
    "duration": 7,
    "start_time": "2022-05-29T17:48:46.387Z"
   },
   {
    "duration": 20,
    "start_time": "2022-05-29T17:48:46.395Z"
   },
   {
    "duration": 7,
    "start_time": "2022-05-29T17:48:46.416Z"
   },
   {
    "duration": 10,
    "start_time": "2022-05-29T17:48:46.425Z"
   },
   {
    "duration": 33,
    "start_time": "2022-05-29T17:48:46.437Z"
   },
   {
    "duration": 78,
    "start_time": "2022-05-29T17:48:46.474Z"
   },
   {
    "duration": 13,
    "start_time": "2022-05-29T17:48:46.565Z"
   },
   {
    "duration": 27,
    "start_time": "2022-05-29T17:48:46.581Z"
   },
   {
    "duration": 496,
    "start_time": "2022-05-29T17:48:46.612Z"
   },
   {
    "duration": 7,
    "start_time": "2022-05-29T17:48:47.110Z"
   },
   {
    "duration": 338,
    "start_time": "2022-05-29T17:48:47.119Z"
   },
   {
    "duration": 32,
    "start_time": "2022-05-29T17:48:47.459Z"
   },
   {
    "duration": 7,
    "start_time": "2022-05-29T17:48:47.494Z"
   },
   {
    "duration": 8,
    "start_time": "2022-05-29T17:48:47.505Z"
   },
   {
    "duration": 15,
    "start_time": "2022-05-29T17:48:47.514Z"
   },
   {
    "duration": 43,
    "start_time": "2022-05-29T17:48:47.531Z"
   },
   {
    "duration": 336,
    "start_time": "2022-05-29T17:48:47.579Z"
   },
   {
    "duration": 4,
    "start_time": "2022-05-29T17:48:47.917Z"
   },
   {
    "duration": 307,
    "start_time": "2022-05-29T17:48:47.923Z"
   },
   {
    "duration": 128,
    "start_time": "2022-05-29T17:49:02.948Z"
   },
   {
    "duration": 194,
    "start_time": "2022-05-29T17:49:09.463Z"
   },
   {
    "duration": 4,
    "start_time": "2022-05-29T17:53:17.284Z"
   },
   {
    "duration": 5,
    "start_time": "2022-05-29T17:53:20.316Z"
   },
   {
    "duration": 9,
    "start_time": "2022-05-29T17:53:41.406Z"
   },
   {
    "duration": 142,
    "start_time": "2022-05-29T17:54:22.743Z"
   },
   {
    "duration": 334,
    "start_time": "2022-05-29T17:55:02.248Z"
   },
   {
    "duration": 436,
    "start_time": "2022-05-29T17:55:20.937Z"
   },
   {
    "duration": 3,
    "start_time": "2022-05-29T17:58:37.556Z"
   },
   {
    "duration": 75,
    "start_time": "2022-05-29T17:58:37.562Z"
   },
   {
    "duration": 15,
    "start_time": "2022-05-29T17:58:37.639Z"
   },
   {
    "duration": 8,
    "start_time": "2022-05-29T17:58:37.656Z"
   },
   {
    "duration": 20,
    "start_time": "2022-05-29T17:58:37.666Z"
   },
   {
    "duration": 18,
    "start_time": "2022-05-29T17:58:37.688Z"
   },
   {
    "duration": 24,
    "start_time": "2022-05-29T17:58:37.708Z"
   },
   {
    "duration": 35,
    "start_time": "2022-05-29T17:58:37.735Z"
   },
   {
    "duration": 12,
    "start_time": "2022-05-29T17:58:37.772Z"
   },
   {
    "duration": 28,
    "start_time": "2022-05-29T17:58:37.785Z"
   },
   {
    "duration": 6,
    "start_time": "2022-05-29T17:58:37.815Z"
   },
   {
    "duration": 48,
    "start_time": "2022-05-29T17:58:37.823Z"
   },
   {
    "duration": 7,
    "start_time": "2022-05-29T17:58:37.873Z"
   },
   {
    "duration": 7,
    "start_time": "2022-05-29T17:58:37.884Z"
   },
   {
    "duration": 8,
    "start_time": "2022-05-29T17:58:37.893Z"
   },
   {
    "duration": 13,
    "start_time": "2022-05-29T17:58:37.902Z"
   },
   {
    "duration": 13,
    "start_time": "2022-05-29T17:58:37.918Z"
   },
   {
    "duration": 11,
    "start_time": "2022-05-29T17:58:37.966Z"
   },
   {
    "duration": 4,
    "start_time": "2022-05-29T17:58:37.979Z"
   },
   {
    "duration": 11,
    "start_time": "2022-05-29T17:58:37.985Z"
   },
   {
    "duration": 27,
    "start_time": "2022-05-29T17:58:37.999Z"
   },
   {
    "duration": 9,
    "start_time": "2022-05-29T17:58:38.028Z"
   },
   {
    "duration": 33,
    "start_time": "2022-05-29T17:58:38.040Z"
   },
   {
    "duration": 11,
    "start_time": "2022-05-29T17:58:38.075Z"
   },
   {
    "duration": 98,
    "start_time": "2022-05-29T17:58:38.088Z"
   },
   {
    "duration": 5,
    "start_time": "2022-05-29T17:58:38.189Z"
   },
   {
    "duration": 10,
    "start_time": "2022-05-29T17:58:38.196Z"
   },
   {
    "duration": 410,
    "start_time": "2022-05-29T17:58:38.208Z"
   },
   {
    "duration": 8,
    "start_time": "2022-05-29T17:58:38.621Z"
   },
   {
    "duration": 322,
    "start_time": "2022-05-29T17:58:38.631Z"
   },
   {
    "duration": 42,
    "start_time": "2022-05-29T17:58:38.956Z"
   },
   {
    "duration": 8,
    "start_time": "2022-05-29T17:58:39.000Z"
   },
   {
    "duration": 11,
    "start_time": "2022-05-29T17:58:39.010Z"
   },
   {
    "duration": 23,
    "start_time": "2022-05-29T17:58:39.023Z"
   },
   {
    "duration": 17,
    "start_time": "2022-05-29T17:58:39.066Z"
   },
   {
    "duration": 374,
    "start_time": "2022-05-29T17:58:39.085Z"
   },
   {
    "duration": 6,
    "start_time": "2022-05-29T17:58:39.461Z"
   },
   {
    "duration": 302,
    "start_time": "2022-05-29T17:58:39.469Z"
   },
   {
    "duration": 286,
    "start_time": "2022-05-29T17:58:39.773Z"
   },
   {
    "duration": 208,
    "start_time": "2022-05-29T17:58:40.061Z"
   },
   {
    "duration": 13,
    "start_time": "2022-05-29T17:58:40.273Z"
   },
   {
    "duration": 226,
    "start_time": "2022-05-29T17:58:40.288Z"
   },
   {
    "duration": 19,
    "start_time": "2022-05-29T17:58:40.516Z"
   },
   {
    "duration": 542,
    "start_time": "2022-05-29T17:58:40.537Z"
   },
   {
    "duration": 14,
    "start_time": "2022-05-29T17:58:41.081Z"
   },
   {
    "duration": 303,
    "start_time": "2022-05-29T17:58:41.097Z"
   },
   {
    "duration": 307,
    "start_time": "2022-05-29T17:58:41.402Z"
   },
   {
    "duration": 188,
    "start_time": "2022-05-29T17:58:41.711Z"
   },
   {
    "duration": 344,
    "start_time": "2022-05-29T17:58:41.900Z"
   },
   {
    "duration": 232,
    "start_time": "2022-05-29T17:59:02.840Z"
   },
   {
    "duration": 203,
    "start_time": "2022-05-29T17:59:47.600Z"
   },
   {
    "duration": 54,
    "start_time": "2022-05-29T19:25:49.696Z"
   },
   {
    "duration": 1281,
    "start_time": "2022-05-29T19:25:54.294Z"
   },
   {
    "duration": 89,
    "start_time": "2022-05-29T19:25:55.580Z"
   },
   {
    "duration": 17,
    "start_time": "2022-05-29T19:25:55.671Z"
   },
   {
    "duration": 7,
    "start_time": "2022-05-29T19:25:55.690Z"
   },
   {
    "duration": 37,
    "start_time": "2022-05-29T19:25:55.699Z"
   },
   {
    "duration": 25,
    "start_time": "2022-05-29T19:25:55.738Z"
   },
   {
    "duration": 39,
    "start_time": "2022-05-29T19:25:55.765Z"
   },
   {
    "duration": 40,
    "start_time": "2022-05-29T19:25:55.806Z"
   },
   {
    "duration": 19,
    "start_time": "2022-05-29T19:25:55.848Z"
   },
   {
    "duration": 34,
    "start_time": "2022-05-29T19:25:55.869Z"
   },
   {
    "duration": 22,
    "start_time": "2022-05-29T19:25:55.904Z"
   },
   {
    "duration": 37,
    "start_time": "2022-05-29T19:25:55.928Z"
   },
   {
    "duration": 31,
    "start_time": "2022-05-29T19:25:55.967Z"
   },
   {
    "duration": 13,
    "start_time": "2022-05-29T19:25:56.000Z"
   },
   {
    "duration": 37,
    "start_time": "2022-05-29T19:25:56.014Z"
   },
   {
    "duration": 22,
    "start_time": "2022-05-29T19:25:56.053Z"
   },
   {
    "duration": 52,
    "start_time": "2022-05-29T19:25:56.077Z"
   },
   {
    "duration": 36,
    "start_time": "2022-05-29T19:25:56.131Z"
   },
   {
    "duration": 22,
    "start_time": "2022-05-29T19:25:56.169Z"
   },
   {
    "duration": 29,
    "start_time": "2022-05-29T19:25:56.193Z"
   },
   {
    "duration": 35,
    "start_time": "2022-05-29T19:25:56.224Z"
   },
   {
    "duration": 27,
    "start_time": "2022-05-29T19:25:56.260Z"
   },
   {
    "duration": 23,
    "start_time": "2022-05-29T19:25:56.289Z"
   },
   {
    "duration": 26,
    "start_time": "2022-05-29T19:25:56.313Z"
   },
   {
    "duration": 74,
    "start_time": "2022-05-29T19:25:56.341Z"
   },
   {
    "duration": 4,
    "start_time": "2022-05-29T19:25:56.417Z"
   },
   {
    "duration": 27,
    "start_time": "2022-05-29T19:25:56.423Z"
   },
   {
    "duration": 431,
    "start_time": "2022-05-29T19:25:56.453Z"
   },
   {
    "duration": 13,
    "start_time": "2022-05-29T19:25:56.886Z"
   },
   {
    "duration": 284,
    "start_time": "2022-05-29T19:25:56.900Z"
   },
   {
    "duration": 25,
    "start_time": "2022-05-29T19:25:57.186Z"
   },
   {
    "duration": 9,
    "start_time": "2022-05-29T19:25:57.213Z"
   },
   {
    "duration": 16,
    "start_time": "2022-05-29T19:25:57.223Z"
   },
   {
    "duration": 29,
    "start_time": "2022-05-29T19:25:57.241Z"
   },
   {
    "duration": 27,
    "start_time": "2022-05-29T19:25:57.272Z"
   },
   {
    "duration": 286,
    "start_time": "2022-05-29T19:25:57.300Z"
   },
   {
    "duration": 4,
    "start_time": "2022-05-29T19:25:57.593Z"
   },
   {
    "duration": 275,
    "start_time": "2022-05-29T19:25:57.599Z"
   },
   {
    "duration": 276,
    "start_time": "2022-05-29T19:25:57.876Z"
   },
   {
    "duration": 190,
    "start_time": "2022-05-29T19:25:58.154Z"
   },
   {
    "duration": 13,
    "start_time": "2022-05-29T19:25:58.345Z"
   },
   {
    "duration": 202,
    "start_time": "2022-05-29T19:25:58.360Z"
   },
   {
    "duration": 13,
    "start_time": "2022-05-29T19:25:58.564Z"
   },
   {
    "duration": 483,
    "start_time": "2022-05-29T19:25:58.578Z"
   },
   {
    "duration": 15,
    "start_time": "2022-05-29T19:25:59.063Z"
   },
   {
    "duration": 359,
    "start_time": "2022-05-29T19:25:59.081Z"
   },
   {
    "duration": 254,
    "start_time": "2022-05-29T19:25:59.441Z"
   },
   {
    "duration": 149,
    "start_time": "2022-05-29T19:25:59.696Z"
   },
   {
    "duration": 167,
    "start_time": "2022-05-29T19:25:59.847Z"
   },
   {
    "duration": 13,
    "start_time": "2022-05-29T19:26:00.016Z"
   },
   {
    "duration": 214,
    "start_time": "2022-05-29T19:27:05.967Z"
   },
   {
    "duration": 71,
    "start_time": "2022-05-29T19:27:32.353Z"
   },
   {
    "duration": 244,
    "start_time": "2022-05-29T19:27:50.601Z"
   },
   {
    "duration": 241,
    "start_time": "2022-05-29T19:28:28.705Z"
   },
   {
    "duration": 375,
    "start_time": "2022-05-29T19:28:37.126Z"
   },
   {
    "duration": 344,
    "start_time": "2022-05-29T19:29:20.463Z"
   },
   {
    "duration": 28,
    "start_time": "2022-05-29T19:29:30.993Z"
   },
   {
    "duration": 4,
    "start_time": "2022-05-29T19:29:33.445Z"
   },
   {
    "duration": 285,
    "start_time": "2022-05-29T19:29:36.529Z"
   },
   {
    "duration": 13,
    "start_time": "2022-05-29T19:31:10.307Z"
   },
   {
    "duration": 25,
    "start_time": "2022-05-29T19:31:15.177Z"
   },
   {
    "duration": 19,
    "start_time": "2022-05-29T19:31:18.298Z"
   },
   {
    "duration": 13,
    "start_time": "2022-05-29T19:31:21.264Z"
   },
   {
    "duration": 12,
    "start_time": "2022-05-29T19:31:26.693Z"
   },
   {
    "duration": 10,
    "start_time": "2022-05-29T19:31:29.197Z"
   },
   {
    "duration": 13,
    "start_time": "2022-05-29T19:31:31.565Z"
   },
   {
    "duration": 146,
    "start_time": "2022-05-29T19:31:58.984Z"
   },
   {
    "duration": 114,
    "start_time": "2022-05-29T19:32:34.635Z"
   },
   {
    "duration": 38,
    "start_time": "2022-05-29T19:33:08.445Z"
   },
   {
    "duration": 128,
    "start_time": "2022-05-29T19:33:17.025Z"
   },
   {
    "duration": 18,
    "start_time": "2022-05-29T19:34:32.072Z"
   },
   {
    "duration": 123,
    "start_time": "2022-05-29T19:34:35.556Z"
   },
   {
    "duration": 4,
    "start_time": "2022-05-29T19:34:55.096Z"
   },
   {
    "duration": 154,
    "start_time": "2022-05-29T19:35:35.855Z"
   },
   {
    "duration": 20,
    "start_time": "2022-05-29T19:35:40.530Z"
   },
   {
    "duration": 117,
    "start_time": "2022-05-29T19:36:06.306Z"
   },
   {
    "duration": 191,
    "start_time": "2022-05-29T19:36:16.510Z"
   },
   {
    "duration": 12,
    "start_time": "2022-05-29T19:36:38.999Z"
   },
   {
    "duration": 10,
    "start_time": "2022-05-29T19:36:47.088Z"
   },
   {
    "duration": 10,
    "start_time": "2022-05-29T19:36:56.866Z"
   },
   {
    "duration": 271,
    "start_time": "2022-05-29T19:37:00.673Z"
   },
   {
    "duration": 1311,
    "start_time": "2022-05-29T20:50:36.762Z"
   },
   {
    "duration": 93,
    "start_time": "2022-05-29T20:50:38.074Z"
   },
   {
    "duration": 18,
    "start_time": "2022-05-29T20:50:38.169Z"
   },
   {
    "duration": 3,
    "start_time": "2022-05-29T20:50:38.190Z"
   },
   {
    "duration": 34,
    "start_time": "2022-05-29T20:50:38.195Z"
   },
   {
    "duration": 29,
    "start_time": "2022-05-29T20:50:38.231Z"
   },
   {
    "duration": 35,
    "start_time": "2022-05-29T20:50:38.262Z"
   },
   {
    "duration": 6,
    "start_time": "2022-05-29T20:50:38.299Z"
   },
   {
    "duration": 33,
    "start_time": "2022-05-29T20:50:38.307Z"
   },
   {
    "duration": 24,
    "start_time": "2022-05-29T20:50:38.342Z"
   },
   {
    "duration": 13,
    "start_time": "2022-05-29T20:50:38.367Z"
   },
   {
    "duration": 18,
    "start_time": "2022-05-29T20:50:38.381Z"
   },
   {
    "duration": 23,
    "start_time": "2022-05-29T20:50:38.401Z"
   },
   {
    "duration": 33,
    "start_time": "2022-05-29T20:50:38.426Z"
   },
   {
    "duration": 16,
    "start_time": "2022-05-29T20:50:38.461Z"
   },
   {
    "duration": 27,
    "start_time": "2022-05-29T20:50:38.479Z"
   },
   {
    "duration": 11,
    "start_time": "2022-05-29T20:50:38.507Z"
   },
   {
    "duration": 28,
    "start_time": "2022-05-29T20:50:38.520Z"
   },
   {
    "duration": 12,
    "start_time": "2022-05-29T20:50:38.550Z"
   },
   {
    "duration": 27,
    "start_time": "2022-05-29T20:50:38.564Z"
   },
   {
    "duration": 24,
    "start_time": "2022-05-29T20:50:38.592Z"
   },
   {
    "duration": 12,
    "start_time": "2022-05-29T20:50:38.617Z"
   },
   {
    "duration": 33,
    "start_time": "2022-05-29T20:50:38.630Z"
   },
   {
    "duration": 17,
    "start_time": "2022-05-29T20:50:38.664Z"
   },
   {
    "duration": 101,
    "start_time": "2022-05-29T20:50:38.682Z"
   },
   {
    "duration": 4,
    "start_time": "2022-05-29T20:50:38.785Z"
   },
   {
    "duration": 19,
    "start_time": "2022-05-29T20:50:38.790Z"
   },
   {
    "duration": 445,
    "start_time": "2022-05-29T20:50:38.812Z"
   },
   {
    "duration": 8,
    "start_time": "2022-05-29T20:50:39.259Z"
   },
   {
    "duration": 271,
    "start_time": "2022-05-29T20:50:39.268Z"
   },
   {
    "duration": 22,
    "start_time": "2022-05-29T20:50:39.540Z"
   },
   {
    "duration": 5,
    "start_time": "2022-05-29T20:50:39.564Z"
   },
   {
    "duration": 6,
    "start_time": "2022-05-29T20:50:39.570Z"
   },
   {
    "duration": 14,
    "start_time": "2022-05-29T20:50:39.577Z"
   },
   {
    "duration": 35,
    "start_time": "2022-05-29T20:50:39.592Z"
   },
   {
    "duration": 281,
    "start_time": "2022-05-29T20:50:39.628Z"
   },
   {
    "duration": 12,
    "start_time": "2022-05-29T20:50:39.911Z"
   },
   {
    "duration": 276,
    "start_time": "2022-05-29T20:50:39.925Z"
   },
   {
    "duration": 260,
    "start_time": "2022-05-29T20:50:40.203Z"
   },
   {
    "duration": 172,
    "start_time": "2022-05-29T20:50:40.465Z"
   },
   {
    "duration": 12,
    "start_time": "2022-05-29T20:50:40.639Z"
   },
   {
    "duration": 175,
    "start_time": "2022-05-29T20:50:40.653Z"
   },
   {
    "duration": 12,
    "start_time": "2022-05-29T20:50:40.830Z"
   },
   {
    "duration": 459,
    "start_time": "2022-05-29T20:50:40.844Z"
   },
   {
    "duration": 12,
    "start_time": "2022-05-29T20:50:41.305Z"
   },
   {
    "duration": 365,
    "start_time": "2022-05-29T20:50:41.319Z"
   },
   {
    "duration": 279,
    "start_time": "2022-05-29T20:50:41.686Z"
   },
   {
    "duration": 178,
    "start_time": "2022-05-29T20:50:41.967Z"
   },
   {
    "duration": 2,
    "start_time": "2022-05-29T20:50:42.147Z"
   },
   {
    "duration": 37,
    "start_time": "2022-05-29T20:50:42.151Z"
   },
   {
    "duration": 181,
    "start_time": "2022-05-29T20:51:37.269Z"
   },
   {
    "duration": 201,
    "start_time": "2022-05-29T20:51:42.847Z"
   },
   {
    "duration": 207,
    "start_time": "2022-05-29T20:51:51.155Z"
   },
   {
    "duration": 471,
    "start_time": "2022-05-29T20:52:54.347Z"
   },
   {
    "duration": 411,
    "start_time": "2022-05-29T20:53:42.692Z"
   },
   {
    "duration": 214,
    "start_time": "2022-05-29T20:53:46.244Z"
   },
   {
    "duration": 204,
    "start_time": "2022-05-29T20:54:33.643Z"
   },
   {
    "duration": 336,
    "start_time": "2022-05-29T20:54:54.621Z"
   },
   {
    "duration": 215,
    "start_time": "2022-05-29T20:55:00.835Z"
   },
   {
    "duration": 212,
    "start_time": "2022-05-29T20:55:11.464Z"
   },
   {
    "duration": 204,
    "start_time": "2022-05-29T20:55:16.416Z"
   },
   {
    "duration": 355,
    "start_time": "2022-05-29T20:57:30.440Z"
   },
   {
    "duration": 30,
    "start_time": "2022-05-29T20:57:34.556Z"
   },
   {
    "duration": 207,
    "start_time": "2022-05-29T20:57:34.946Z"
   },
   {
    "duration": 27,
    "start_time": "2022-05-29T21:01:21.226Z"
   },
   {
    "duration": 23,
    "start_time": "2022-05-29T21:01:50.648Z"
   },
   {
    "duration": 178,
    "start_time": "2022-05-29T21:02:31.252Z"
   },
   {
    "duration": 3,
    "start_time": "2022-05-29T21:04:23.536Z"
   },
   {
    "duration": 52,
    "start_time": "2022-05-29T21:04:23.542Z"
   },
   {
    "duration": 15,
    "start_time": "2022-05-29T21:04:23.596Z"
   },
   {
    "duration": 5,
    "start_time": "2022-05-29T21:04:23.612Z"
   },
   {
    "duration": 20,
    "start_time": "2022-05-29T21:04:23.619Z"
   },
   {
    "duration": 15,
    "start_time": "2022-05-29T21:04:23.641Z"
   },
   {
    "duration": 16,
    "start_time": "2022-05-29T21:04:23.658Z"
   },
   {
    "duration": 7,
    "start_time": "2022-05-29T21:04:23.676Z"
   },
   {
    "duration": 49,
    "start_time": "2022-05-29T21:04:23.685Z"
   },
   {
    "duration": 21,
    "start_time": "2022-05-29T21:04:23.735Z"
   },
   {
    "duration": 4,
    "start_time": "2022-05-29T21:04:23.759Z"
   },
   {
    "duration": 8,
    "start_time": "2022-05-29T21:04:23.765Z"
   },
   {
    "duration": 5,
    "start_time": "2022-05-29T21:04:23.775Z"
   },
   {
    "duration": 5,
    "start_time": "2022-05-29T21:04:23.782Z"
   },
   {
    "duration": 41,
    "start_time": "2022-05-29T21:04:23.789Z"
   },
   {
    "duration": 8,
    "start_time": "2022-05-29T21:04:23.836Z"
   },
   {
    "duration": 9,
    "start_time": "2022-05-29T21:04:23.846Z"
   },
   {
    "duration": 10,
    "start_time": "2022-05-29T21:04:23.857Z"
   },
   {
    "duration": 4,
    "start_time": "2022-05-29T21:04:23.868Z"
   },
   {
    "duration": 8,
    "start_time": "2022-05-29T21:04:23.873Z"
   },
   {
    "duration": 16,
    "start_time": "2022-05-29T21:04:23.883Z"
   },
   {
    "duration": 37,
    "start_time": "2022-05-29T21:04:23.901Z"
   },
   {
    "duration": 17,
    "start_time": "2022-05-29T21:04:23.940Z"
   },
   {
    "duration": 14,
    "start_time": "2022-05-29T21:04:23.959Z"
   },
   {
    "duration": 98,
    "start_time": "2022-05-29T21:04:23.975Z"
   },
   {
    "duration": 5,
    "start_time": "2022-05-29T21:04:24.075Z"
   },
   {
    "duration": 7,
    "start_time": "2022-05-29T21:04:24.081Z"
   },
   {
    "duration": 466,
    "start_time": "2022-05-29T21:04:24.090Z"
   },
   {
    "duration": 7,
    "start_time": "2022-05-29T21:04:24.561Z"
   },
   {
    "duration": 328,
    "start_time": "2022-05-29T21:04:24.569Z"
   },
   {
    "duration": 40,
    "start_time": "2022-05-29T21:04:24.899Z"
   },
   {
    "duration": 6,
    "start_time": "2022-05-29T21:04:24.941Z"
   },
   {
    "duration": 8,
    "start_time": "2022-05-29T21:04:24.948Z"
   },
   {
    "duration": 14,
    "start_time": "2022-05-29T21:04:24.958Z"
   },
   {
    "duration": 8,
    "start_time": "2022-05-29T21:04:24.973Z"
   },
   {
    "duration": 465,
    "start_time": "2022-05-29T21:04:24.982Z"
   },
   {
    "duration": 5,
    "start_time": "2022-05-29T21:04:25.448Z"
   },
   {
    "duration": 295,
    "start_time": "2022-05-29T21:04:25.454Z"
   },
   {
    "duration": 265,
    "start_time": "2022-05-29T21:04:25.751Z"
   },
   {
    "duration": 220,
    "start_time": "2022-05-29T21:04:26.018Z"
   },
   {
    "duration": 12,
    "start_time": "2022-05-29T21:04:26.240Z"
   },
   {
    "duration": 203,
    "start_time": "2022-05-29T21:04:26.254Z"
   },
   {
    "duration": 11,
    "start_time": "2022-05-29T21:04:26.458Z"
   },
   {
    "duration": 409,
    "start_time": "2022-05-29T21:04:26.471Z"
   },
   {
    "duration": 13,
    "start_time": "2022-05-29T21:04:26.882Z"
   },
   {
    "duration": 281,
    "start_time": "2022-05-29T21:04:26.897Z"
   },
   {
    "duration": 280,
    "start_time": "2022-05-29T21:04:27.180Z"
   },
   {
    "duration": 20,
    "start_time": "2022-05-29T21:04:27.462Z"
   },
   {
    "duration": 220,
    "start_time": "2022-05-29T21:04:27.483Z"
   },
   {
    "duration": 31,
    "start_time": "2022-05-29T21:04:27.705Z"
   },
   {
    "duration": 213,
    "start_time": "2022-05-29T21:04:27.738Z"
   },
   {
    "duration": 22,
    "start_time": "2022-05-29T21:04:27.953Z"
   },
   {
    "duration": 322,
    "start_time": "2022-05-29T21:04:27.977Z"
   },
   {
    "duration": 8,
    "start_time": "2022-05-29T21:04:28.300Z"
   },
   {
    "duration": 8,
    "start_time": "2022-05-29T21:10:30.434Z"
   },
   {
    "duration": 8,
    "start_time": "2022-05-29T21:10:39.007Z"
   },
   {
    "duration": 7,
    "start_time": "2022-05-29T21:10:41.809Z"
   },
   {
    "duration": 10,
    "start_time": "2022-05-29T21:15:00.138Z"
   },
   {
    "duration": 6,
    "start_time": "2022-05-29T21:15:06.919Z"
   },
   {
    "duration": 28,
    "start_time": "2022-05-29T21:15:22.615Z"
   },
   {
    "duration": 202,
    "start_time": "2022-05-29T21:15:23.357Z"
   },
   {
    "duration": 24,
    "start_time": "2022-05-29T21:15:37.999Z"
   },
   {
    "duration": 202,
    "start_time": "2022-05-29T21:15:38.202Z"
   },
   {
    "duration": 21,
    "start_time": "2022-05-29T21:15:53.891Z"
   },
   {
    "duration": 219,
    "start_time": "2022-05-29T21:15:54.020Z"
   },
   {
    "duration": 3,
    "start_time": "2022-05-29T21:22:22.922Z"
   },
   {
    "duration": 4,
    "start_time": "2022-05-29T21:22:31.933Z"
   },
   {
    "duration": 56,
    "start_time": "2022-05-29T21:22:31.939Z"
   },
   {
    "duration": 14,
    "start_time": "2022-05-29T21:22:31.997Z"
   },
   {
    "duration": 10,
    "start_time": "2022-05-29T21:22:32.012Z"
   },
   {
    "duration": 16,
    "start_time": "2022-05-29T21:22:32.024Z"
   },
   {
    "duration": 15,
    "start_time": "2022-05-29T21:22:32.042Z"
   },
   {
    "duration": 16,
    "start_time": "2022-05-29T21:22:32.059Z"
   },
   {
    "duration": 5,
    "start_time": "2022-05-29T21:22:32.076Z"
   },
   {
    "duration": 9,
    "start_time": "2022-05-29T21:22:32.083Z"
   },
   {
    "duration": 21,
    "start_time": "2022-05-29T21:22:32.122Z"
   },
   {
    "duration": 6,
    "start_time": "2022-05-29T21:22:32.145Z"
   },
   {
    "duration": 8,
    "start_time": "2022-05-29T21:22:32.152Z"
   },
   {
    "duration": 7,
    "start_time": "2022-05-29T21:22:32.161Z"
   },
   {
    "duration": 6,
    "start_time": "2022-05-29T21:22:32.171Z"
   },
   {
    "duration": 5,
    "start_time": "2022-05-29T21:22:32.179Z"
   },
   {
    "duration": 46,
    "start_time": "2022-05-29T21:22:32.185Z"
   },
   {
    "duration": 10,
    "start_time": "2022-05-29T21:22:32.233Z"
   },
   {
    "duration": 7,
    "start_time": "2022-05-29T21:22:32.245Z"
   },
   {
    "duration": 6,
    "start_time": "2022-05-29T21:22:32.254Z"
   },
   {
    "duration": 9,
    "start_time": "2022-05-29T21:22:32.261Z"
   },
   {
    "duration": 20,
    "start_time": "2022-05-29T21:22:32.271Z"
   },
   {
    "duration": 5,
    "start_time": "2022-05-29T21:22:32.293Z"
   },
   {
    "duration": 29,
    "start_time": "2022-05-29T21:22:32.300Z"
   },
   {
    "duration": 12,
    "start_time": "2022-05-29T21:22:32.331Z"
   },
   {
    "duration": 85,
    "start_time": "2022-05-29T21:22:32.345Z"
   },
   {
    "duration": 3,
    "start_time": "2022-05-29T21:22:32.431Z"
   },
   {
    "duration": 12,
    "start_time": "2022-05-29T21:22:32.435Z"
   },
   {
    "duration": 474,
    "start_time": "2022-05-29T21:22:32.450Z"
   },
   {
    "duration": 8,
    "start_time": "2022-05-29T21:22:32.926Z"
   },
   {
    "duration": 297,
    "start_time": "2022-05-29T21:22:32.936Z"
   },
   {
    "duration": 23,
    "start_time": "2022-05-29T21:22:33.236Z"
   },
   {
    "duration": 6,
    "start_time": "2022-05-29T21:22:33.261Z"
   },
   {
    "duration": 6,
    "start_time": "2022-05-29T21:22:33.268Z"
   },
   {
    "duration": 14,
    "start_time": "2022-05-29T21:22:33.275Z"
   },
   {
    "duration": 33,
    "start_time": "2022-05-29T21:22:33.291Z"
   },
   {
    "duration": 316,
    "start_time": "2022-05-29T21:22:33.326Z"
   },
   {
    "duration": 4,
    "start_time": "2022-05-29T21:22:33.644Z"
   },
   {
    "duration": 259,
    "start_time": "2022-05-29T21:22:33.650Z"
   },
   {
    "duration": 424,
    "start_time": "2022-05-29T21:22:33.913Z"
   },
   {
    "duration": 220,
    "start_time": "2022-05-29T21:22:34.338Z"
   },
   {
    "duration": 14,
    "start_time": "2022-05-29T21:22:34.560Z"
   },
   {
    "duration": 216,
    "start_time": "2022-05-29T21:22:34.576Z"
   },
   {
    "duration": 12,
    "start_time": "2022-05-29T21:22:34.793Z"
   },
   {
    "duration": 405,
    "start_time": "2022-05-29T21:22:34.806Z"
   },
   {
    "duration": 16,
    "start_time": "2022-05-29T21:22:35.213Z"
   },
   {
    "duration": 255,
    "start_time": "2022-05-29T21:22:35.231Z"
   },
   {
    "duration": 269,
    "start_time": "2022-05-29T21:22:35.488Z"
   },
   {
    "duration": 5,
    "start_time": "2022-05-29T21:22:35.759Z"
   },
   {
    "duration": 20,
    "start_time": "2022-05-29T21:22:35.766Z"
   },
   {
    "duration": 217,
    "start_time": "2022-05-29T21:22:35.788Z"
   },
   {
    "duration": 27,
    "start_time": "2022-05-29T21:22:36.007Z"
   },
   {
    "duration": 221,
    "start_time": "2022-05-29T21:22:36.035Z"
   },
   {
    "duration": 22,
    "start_time": "2022-05-29T21:22:36.258Z"
   },
   {
    "duration": 216,
    "start_time": "2022-05-29T21:22:36.282Z"
   },
   {
    "duration": 1083,
    "start_time": "2022-05-29T21:44:41.379Z"
   },
   {
    "duration": 52,
    "start_time": "2022-05-29T21:44:42.464Z"
   },
   {
    "duration": 23,
    "start_time": "2022-05-29T21:44:42.519Z"
   },
   {
    "duration": 6,
    "start_time": "2022-05-29T21:44:42.545Z"
   },
   {
    "duration": 20,
    "start_time": "2022-05-29T21:44:42.554Z"
   },
   {
    "duration": 23,
    "start_time": "2022-05-29T21:44:42.575Z"
   },
   {
    "duration": 37,
    "start_time": "2022-05-29T21:44:42.600Z"
   },
   {
    "duration": 8,
    "start_time": "2022-05-29T21:44:42.639Z"
   },
   {
    "duration": 19,
    "start_time": "2022-05-29T21:44:42.649Z"
   },
   {
    "duration": 32,
    "start_time": "2022-05-29T21:44:42.670Z"
   },
   {
    "duration": 19,
    "start_time": "2022-05-29T21:44:42.705Z"
   },
   {
    "duration": 10,
    "start_time": "2022-05-29T21:44:42.727Z"
   },
   {
    "duration": 15,
    "start_time": "2022-05-29T21:44:42.739Z"
   },
   {
    "duration": 6,
    "start_time": "2022-05-29T21:44:42.756Z"
   },
   {
    "duration": 8,
    "start_time": "2022-05-29T21:44:42.763Z"
   },
   {
    "duration": 7,
    "start_time": "2022-05-29T21:44:42.772Z"
   },
   {
    "duration": 9,
    "start_time": "2022-05-29T21:44:42.780Z"
   },
   {
    "duration": 9,
    "start_time": "2022-05-29T21:44:42.790Z"
   },
   {
    "duration": 23,
    "start_time": "2022-05-29T21:44:42.801Z"
   },
   {
    "duration": 8,
    "start_time": "2022-05-29T21:44:42.826Z"
   },
   {
    "duration": 17,
    "start_time": "2022-05-29T21:44:42.836Z"
   },
   {
    "duration": 7,
    "start_time": "2022-05-29T21:44:42.855Z"
   },
   {
    "duration": 12,
    "start_time": "2022-05-29T21:44:42.863Z"
   },
   {
    "duration": 12,
    "start_time": "2022-05-29T21:44:42.877Z"
   },
   {
    "duration": 87,
    "start_time": "2022-05-29T21:44:42.890Z"
   },
   {
    "duration": 2,
    "start_time": "2022-05-29T21:44:42.979Z"
   },
   {
    "duration": 7,
    "start_time": "2022-05-29T21:44:42.982Z"
   },
   {
    "duration": 452,
    "start_time": "2022-05-29T21:44:42.991Z"
   },
   {
    "duration": 8,
    "start_time": "2022-05-29T21:44:43.445Z"
   },
   {
    "duration": 272,
    "start_time": "2022-05-29T21:44:43.454Z"
   },
   {
    "duration": 22,
    "start_time": "2022-05-29T21:44:43.728Z"
   },
   {
    "duration": 7,
    "start_time": "2022-05-29T21:44:43.752Z"
   },
   {
    "duration": 7,
    "start_time": "2022-05-29T21:44:43.760Z"
   },
   {
    "duration": 14,
    "start_time": "2022-05-29T21:44:43.771Z"
   },
   {
    "duration": 8,
    "start_time": "2022-05-29T21:44:43.787Z"
   },
   {
    "duration": 318,
    "start_time": "2022-05-29T21:44:43.797Z"
   },
   {
    "duration": 7,
    "start_time": "2022-05-29T21:44:44.117Z"
   },
   {
    "duration": 264,
    "start_time": "2022-05-29T21:44:44.125Z"
   },
   {
    "duration": 266,
    "start_time": "2022-05-29T21:44:44.390Z"
   },
   {
    "duration": 184,
    "start_time": "2022-05-29T21:44:44.658Z"
   },
   {
    "duration": 13,
    "start_time": "2022-05-29T21:44:44.847Z"
   },
   {
    "duration": 192,
    "start_time": "2022-05-29T21:44:44.862Z"
   },
   {
    "duration": 12,
    "start_time": "2022-05-29T21:44:45.056Z"
   },
   {
    "duration": 457,
    "start_time": "2022-05-29T21:44:45.070Z"
   },
   {
    "duration": 11,
    "start_time": "2022-05-29T21:44:45.529Z"
   },
   {
    "duration": 348,
    "start_time": "2022-05-29T21:44:45.542Z"
   },
   {
    "duration": 278,
    "start_time": "2022-05-29T21:44:45.892Z"
   },
   {
    "duration": 5,
    "start_time": "2022-05-29T21:44:46.171Z"
   },
   {
    "duration": 22,
    "start_time": "2022-05-29T21:44:46.178Z"
   },
   {
    "duration": 208,
    "start_time": "2022-05-29T21:44:46.201Z"
   },
   {
    "duration": 29,
    "start_time": "2022-05-29T21:44:46.411Z"
   },
   {
    "duration": 216,
    "start_time": "2022-05-29T21:44:46.441Z"
   },
   {
    "duration": 20,
    "start_time": "2022-05-29T21:44:46.658Z"
   },
   {
    "duration": 212,
    "start_time": "2022-05-29T21:44:46.680Z"
   },
   {
    "duration": 8,
    "start_time": "2022-05-29T21:44:46.893Z"
   },
   {
    "duration": 21,
    "start_time": "2022-05-29T21:44:46.903Z"
   },
   {
    "duration": 8,
    "start_time": "2022-05-29T21:44:46.925Z"
   },
   {
    "duration": 14,
    "start_time": "2022-05-29T21:44:46.934Z"
   },
   {
    "duration": 7,
    "start_time": "2022-05-29T21:44:46.950Z"
   },
   {
    "duration": 10,
    "start_time": "2022-05-29T21:44:46.959Z"
   },
   {
    "duration": 15,
    "start_time": "2022-05-29T21:44:46.971Z"
   },
   {
    "duration": 1223,
    "start_time": "2022-05-30T20:24:29.583Z"
   },
   {
    "duration": 67,
    "start_time": "2022-05-30T20:24:30.808Z"
   },
   {
    "duration": 19,
    "start_time": "2022-05-30T20:24:30.877Z"
   },
   {
    "duration": 5,
    "start_time": "2022-05-30T20:24:30.899Z"
   },
   {
    "duration": 25,
    "start_time": "2022-05-30T20:24:30.905Z"
   },
   {
    "duration": 34,
    "start_time": "2022-05-30T20:24:30.932Z"
   },
   {
    "duration": 41,
    "start_time": "2022-05-30T20:24:30.967Z"
   },
   {
    "duration": 33,
    "start_time": "2022-05-30T20:24:31.010Z"
   },
   {
    "duration": 22,
    "start_time": "2022-05-30T20:24:31.047Z"
   },
   {
    "duration": 20,
    "start_time": "2022-05-30T20:24:31.071Z"
   },
   {
    "duration": 5,
    "start_time": "2022-05-30T20:24:31.093Z"
   },
   {
    "duration": 15,
    "start_time": "2022-05-30T20:24:31.099Z"
   },
   {
    "duration": 47,
    "start_time": "2022-05-30T20:24:31.115Z"
   },
   {
    "duration": 10,
    "start_time": "2022-05-30T20:24:31.164Z"
   },
   {
    "duration": 28,
    "start_time": "2022-05-30T20:24:31.176Z"
   },
   {
    "duration": 46,
    "start_time": "2022-05-30T20:24:31.206Z"
   },
   {
    "duration": 54,
    "start_time": "2022-05-30T20:24:31.254Z"
   },
   {
    "duration": 55,
    "start_time": "2022-05-30T20:24:31.310Z"
   },
   {
    "duration": 12,
    "start_time": "2022-05-30T20:24:31.367Z"
   },
   {
    "duration": 25,
    "start_time": "2022-05-30T20:24:31.380Z"
   },
   {
    "duration": 31,
    "start_time": "2022-05-30T20:24:31.407Z"
   },
   {
    "duration": 29,
    "start_time": "2022-05-30T20:24:31.440Z"
   },
   {
    "duration": 17,
    "start_time": "2022-05-30T20:24:31.471Z"
   },
   {
    "duration": 30,
    "start_time": "2022-05-30T20:24:31.490Z"
   },
   {
    "duration": 121,
    "start_time": "2022-05-30T20:24:31.521Z"
   },
   {
    "duration": 3,
    "start_time": "2022-05-30T20:24:31.644Z"
   },
   {
    "duration": 11,
    "start_time": "2022-05-30T20:24:31.651Z"
   },
   {
    "duration": 526,
    "start_time": "2022-05-30T20:24:31.665Z"
   },
   {
    "duration": 7,
    "start_time": "2022-05-30T20:24:32.193Z"
   },
   {
    "duration": 315,
    "start_time": "2022-05-30T20:24:32.201Z"
   },
   {
    "duration": 43,
    "start_time": "2022-05-30T20:24:32.517Z"
   },
   {
    "duration": 5,
    "start_time": "2022-05-30T20:24:32.561Z"
   },
   {
    "duration": 7,
    "start_time": "2022-05-30T20:24:32.567Z"
   },
   {
    "duration": 16,
    "start_time": "2022-05-30T20:24:32.575Z"
   },
   {
    "duration": 47,
    "start_time": "2022-05-30T20:24:32.592Z"
   },
   {
    "duration": 393,
    "start_time": "2022-05-30T20:24:32.645Z"
   },
   {
    "duration": 6,
    "start_time": "2022-05-30T20:24:33.040Z"
   },
   {
    "duration": 318,
    "start_time": "2022-05-30T20:24:33.049Z"
   },
   {
    "duration": 302,
    "start_time": "2022-05-30T20:24:33.368Z"
   },
   {
    "duration": 203,
    "start_time": "2022-05-30T20:24:33.671Z"
   },
   {
    "duration": 12,
    "start_time": "2022-05-30T20:24:33.876Z"
   },
   {
    "duration": 194,
    "start_time": "2022-05-30T20:24:33.889Z"
   },
   {
    "duration": 13,
    "start_time": "2022-05-30T20:24:34.084Z"
   },
   {
    "duration": 484,
    "start_time": "2022-05-30T20:24:34.098Z"
   },
   {
    "duration": 12,
    "start_time": "2022-05-30T20:24:34.584Z"
   },
   {
    "duration": 414,
    "start_time": "2022-05-30T20:24:34.598Z"
   },
   {
    "duration": 289,
    "start_time": "2022-05-30T20:24:35.013Z"
   },
   {
    "duration": 4,
    "start_time": "2022-05-30T20:24:35.304Z"
   },
   {
    "duration": 36,
    "start_time": "2022-05-30T20:24:35.309Z"
   },
   {
    "duration": 233,
    "start_time": "2022-05-30T20:24:35.347Z"
   },
   {
    "duration": 19,
    "start_time": "2022-05-30T20:24:35.582Z"
   },
   {
    "duration": 250,
    "start_time": "2022-05-30T20:24:35.603Z"
   },
   {
    "duration": 20,
    "start_time": "2022-05-30T20:24:35.855Z"
   },
   {
    "duration": 279,
    "start_time": "2022-05-30T20:24:35.877Z"
   },
   {
    "duration": 8,
    "start_time": "2022-05-30T20:24:36.158Z"
   },
   {
    "duration": 19,
    "start_time": "2022-05-30T20:24:36.168Z"
   },
   {
    "duration": 18,
    "start_time": "2022-05-30T20:24:36.189Z"
   },
   {
    "duration": 21,
    "start_time": "2022-05-30T20:24:36.208Z"
   },
   {
    "duration": 34,
    "start_time": "2022-05-30T20:24:36.232Z"
   },
   {
    "duration": 14,
    "start_time": "2022-05-30T20:24:36.268Z"
   },
   {
    "duration": 17,
    "start_time": "2022-05-30T20:24:36.284Z"
   }
  ],
  "kernelspec": {
   "display_name": "Python 3",
   "language": "python",
   "name": "python3"
  },
  "language_info": {
   "codemirror_mode": {
    "name": "ipython",
    "version": 3
   },
   "file_extension": ".py",
   "mimetype": "text/x-python",
   "name": "python",
   "nbconvert_exporter": "python",
   "pygments_lexer": "ipython3",
   "version": "3.8.8"
  },
  "toc": {
   "base_numbering": 1,
   "nav_menu": {},
   "number_sections": true,
   "sideBar": true,
   "skip_h1_title": false,
   "title_cell": "Table of Contents",
   "title_sidebar": "Contents",
   "toc_cell": false,
   "toc_position": {
    "height": "calc(100% - 180px)",
    "left": "10px",
    "top": "150px",
    "width": "278.682px"
   },
   "toc_section_display": true,
   "toc_window_display": true
  }
 },
 "nbformat": 4,
 "nbformat_minor": 4
}
