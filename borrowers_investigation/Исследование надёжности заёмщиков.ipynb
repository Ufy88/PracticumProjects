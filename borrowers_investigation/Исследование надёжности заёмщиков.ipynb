{
 "cells": [
  {
   "cell_type": "markdown",
   "id": "0ee32447",
   "metadata": {},
   "source": [
    "# 1.   Исследование надежности заемщиков."
   ]
  },
  {
   "cell_type": "markdown",
   "id": "fc4b8460",
   "metadata": {},
   "source": [
    "<div style=\"background-color: #fff0e0; padding: 10px; font-family: monospace; font-size: 15px\">\n",
    "Заказчик — кредитный отдел банка. Нужно разобраться, влияет ли семейное положение и количество детей клиента на факт погашения кредита в срок. Входные данные от банка — статистика о платёжеспособности клиентов.\n",
    "Результаты исследования будут учтены при построении модели кредитного скоринга — специальной системы, которая оценивает способность потенциального заёмщика вернуть кредит банку.\n",
    "<br><br>\n",
    "Имеющиеся признаки:\n",
    "\n",
    "- children — количество детей в семье\n",
    "- days_employed — общий трудовой стаж в днях\n",
    "- dob_years — возраст клиента в годах\n",
    "- education — уровень образования клиента\n",
    "- education_id — идентификатор уровня образования\n",
    "- family_status — семейное положение\n",
    "- family_status_id — идентификатор семейного положения\n",
    "- gender — пол клиента\n",
    "- income_type — тип занятости\n",
    "- debt — имел ли задолженность по возврату кредитов\n",
    "- total_income — ежемесячный доход\n",
    "- purpose — цель получения кредита\n",
    "</div>"
   ]
  },
  {
   "cell_type": "markdown",
   "id": "5a1e1c08",
   "metadata": {},
   "source": [
    "### 1.0.2.   Шаг 1. Обзор данных"
   ]
  },
  {
   "cell_type": "code",
   "execution_count": 2,
   "id": "f2b0ca76",
   "metadata": {},
   "outputs": [],
   "source": [
    "import pandas as pd\n",
    "import warnings\n",
    "warnings.filterwarnings('ignore')"
   ]
  },
  {
   "cell_type": "code",
   "execution_count": 4,
   "id": "09d5ab7f",
   "metadata": {},
   "outputs": [
    {
     "data": {
      "text/html": [
       "<div>\n",
       "<style scoped>\n",
       "    .dataframe tbody tr th:only-of-type {\n",
       "        vertical-align: middle;\n",
       "    }\n",
       "\n",
       "    .dataframe tbody tr th {\n",
       "        vertical-align: top;\n",
       "    }\n",
       "\n",
       "    .dataframe thead th {\n",
       "        text-align: right;\n",
       "    }\n",
       "</style>\n",
       "<table border=\"1\" class=\"dataframe\">\n",
       "  <thead>\n",
       "    <tr style=\"text-align: right;\">\n",
       "      <th></th>\n",
       "      <th>children</th>\n",
       "      <th>days_employed</th>\n",
       "      <th>dob_years</th>\n",
       "      <th>education</th>\n",
       "      <th>education_id</th>\n",
       "      <th>family_status</th>\n",
       "      <th>family_status_id</th>\n",
       "      <th>gender</th>\n",
       "      <th>income_type</th>\n",
       "      <th>debt</th>\n",
       "      <th>total_income</th>\n",
       "      <th>purpose</th>\n",
       "    </tr>\n",
       "  </thead>\n",
       "  <tbody>\n",
       "    <tr>\n",
       "      <td>0</td>\n",
       "      <td>1</td>\n",
       "      <td>-8437.673028</td>\n",
       "      <td>42</td>\n",
       "      <td>высшее</td>\n",
       "      <td>0</td>\n",
       "      <td>женат / замужем</td>\n",
       "      <td>0</td>\n",
       "      <td>F</td>\n",
       "      <td>сотрудник</td>\n",
       "      <td>0</td>\n",
       "      <td>253875.639453</td>\n",
       "      <td>покупка жилья</td>\n",
       "    </tr>\n",
       "    <tr>\n",
       "      <td>1</td>\n",
       "      <td>1</td>\n",
       "      <td>-4024.803754</td>\n",
       "      <td>36</td>\n",
       "      <td>среднее</td>\n",
       "      <td>1</td>\n",
       "      <td>женат / замужем</td>\n",
       "      <td>0</td>\n",
       "      <td>F</td>\n",
       "      <td>сотрудник</td>\n",
       "      <td>0</td>\n",
       "      <td>112080.014102</td>\n",
       "      <td>приобретение автомобиля</td>\n",
       "    </tr>\n",
       "    <tr>\n",
       "      <td>2</td>\n",
       "      <td>0</td>\n",
       "      <td>-5623.422610</td>\n",
       "      <td>33</td>\n",
       "      <td>Среднее</td>\n",
       "      <td>1</td>\n",
       "      <td>женат / замужем</td>\n",
       "      <td>0</td>\n",
       "      <td>M</td>\n",
       "      <td>сотрудник</td>\n",
       "      <td>0</td>\n",
       "      <td>145885.952297</td>\n",
       "      <td>покупка жилья</td>\n",
       "    </tr>\n",
       "    <tr>\n",
       "      <td>3</td>\n",
       "      <td>3</td>\n",
       "      <td>-4124.747207</td>\n",
       "      <td>32</td>\n",
       "      <td>среднее</td>\n",
       "      <td>1</td>\n",
       "      <td>женат / замужем</td>\n",
       "      <td>0</td>\n",
       "      <td>M</td>\n",
       "      <td>сотрудник</td>\n",
       "      <td>0</td>\n",
       "      <td>267628.550329</td>\n",
       "      <td>дополнительное образование</td>\n",
       "    </tr>\n",
       "    <tr>\n",
       "      <td>4</td>\n",
       "      <td>0</td>\n",
       "      <td>340266.072047</td>\n",
       "      <td>53</td>\n",
       "      <td>среднее</td>\n",
       "      <td>1</td>\n",
       "      <td>гражданский брак</td>\n",
       "      <td>1</td>\n",
       "      <td>F</td>\n",
       "      <td>пенсионер</td>\n",
       "      <td>0</td>\n",
       "      <td>158616.077870</td>\n",
       "      <td>сыграть свадьбу</td>\n",
       "    </tr>\n",
       "    <tr>\n",
       "      <td>5</td>\n",
       "      <td>0</td>\n",
       "      <td>-926.185831</td>\n",
       "      <td>27</td>\n",
       "      <td>высшее</td>\n",
       "      <td>0</td>\n",
       "      <td>гражданский брак</td>\n",
       "      <td>1</td>\n",
       "      <td>M</td>\n",
       "      <td>компаньон</td>\n",
       "      <td>0</td>\n",
       "      <td>255763.565419</td>\n",
       "      <td>покупка жилья</td>\n",
       "    </tr>\n",
       "    <tr>\n",
       "      <td>6</td>\n",
       "      <td>0</td>\n",
       "      <td>-2879.202052</td>\n",
       "      <td>43</td>\n",
       "      <td>высшее</td>\n",
       "      <td>0</td>\n",
       "      <td>женат / замужем</td>\n",
       "      <td>0</td>\n",
       "      <td>F</td>\n",
       "      <td>компаньон</td>\n",
       "      <td>0</td>\n",
       "      <td>240525.971920</td>\n",
       "      <td>операции с жильем</td>\n",
       "    </tr>\n",
       "    <tr>\n",
       "      <td>7</td>\n",
       "      <td>0</td>\n",
       "      <td>-152.779569</td>\n",
       "      <td>50</td>\n",
       "      <td>СРЕДНЕЕ</td>\n",
       "      <td>1</td>\n",
       "      <td>женат / замужем</td>\n",
       "      <td>0</td>\n",
       "      <td>M</td>\n",
       "      <td>сотрудник</td>\n",
       "      <td>0</td>\n",
       "      <td>135823.934197</td>\n",
       "      <td>образование</td>\n",
       "    </tr>\n",
       "    <tr>\n",
       "      <td>8</td>\n",
       "      <td>2</td>\n",
       "      <td>-6929.865299</td>\n",
       "      <td>35</td>\n",
       "      <td>ВЫСШЕЕ</td>\n",
       "      <td>0</td>\n",
       "      <td>гражданский брак</td>\n",
       "      <td>1</td>\n",
       "      <td>F</td>\n",
       "      <td>сотрудник</td>\n",
       "      <td>0</td>\n",
       "      <td>95856.832424</td>\n",
       "      <td>на проведение свадьбы</td>\n",
       "    </tr>\n",
       "    <tr>\n",
       "      <td>9</td>\n",
       "      <td>0</td>\n",
       "      <td>-2188.756445</td>\n",
       "      <td>41</td>\n",
       "      <td>среднее</td>\n",
       "      <td>1</td>\n",
       "      <td>женат / замужем</td>\n",
       "      <td>0</td>\n",
       "      <td>M</td>\n",
       "      <td>сотрудник</td>\n",
       "      <td>0</td>\n",
       "      <td>144425.938277</td>\n",
       "      <td>покупка жилья для семьи</td>\n",
       "    </tr>\n",
       "  </tbody>\n",
       "</table>\n",
       "</div>"
      ],
      "text/plain": [
       "   children  days_employed  dob_years education  education_id  \\\n",
       "0         1   -8437.673028         42    высшее             0   \n",
       "1         1   -4024.803754         36   среднее             1   \n",
       "2         0   -5623.422610         33   Среднее             1   \n",
       "3         3   -4124.747207         32   среднее             1   \n",
       "4         0  340266.072047         53   среднее             1   \n",
       "5         0    -926.185831         27    высшее             0   \n",
       "6         0   -2879.202052         43    высшее             0   \n",
       "7         0    -152.779569         50   СРЕДНЕЕ             1   \n",
       "8         2   -6929.865299         35    ВЫСШЕЕ             0   \n",
       "9         0   -2188.756445         41   среднее             1   \n",
       "\n",
       "      family_status  family_status_id gender income_type  debt   total_income  \\\n",
       "0   женат / замужем                 0      F   сотрудник     0  253875.639453   \n",
       "1   женат / замужем                 0      F   сотрудник     0  112080.014102   \n",
       "2   женат / замужем                 0      M   сотрудник     0  145885.952297   \n",
       "3   женат / замужем                 0      M   сотрудник     0  267628.550329   \n",
       "4  гражданский брак                 1      F   пенсионер     0  158616.077870   \n",
       "5  гражданский брак                 1      M   компаньон     0  255763.565419   \n",
       "6   женат / замужем                 0      F   компаньон     0  240525.971920   \n",
       "7   женат / замужем                 0      M   сотрудник     0  135823.934197   \n",
       "8  гражданский брак                 1      F   сотрудник     0   95856.832424   \n",
       "9   женат / замужем                 0      M   сотрудник     0  144425.938277   \n",
       "\n",
       "                      purpose  \n",
       "0               покупка жилья  \n",
       "1     приобретение автомобиля  \n",
       "2               покупка жилья  \n",
       "3  дополнительное образование  \n",
       "4             сыграть свадьбу  \n",
       "5               покупка жилья  \n",
       "6           операции с жильем  \n",
       "7                 образование  \n",
       "8       на проведение свадьбы  \n",
       "9     покупка жилья для семьи  "
      ]
     },
     "metadata": {},
     "output_type": "display_data"
    }
   ],
   "source": [
    "data = pd.read_csv('/datasets/data.csv')\n",
    "display(data.head(10))"
   ]
  },
  {
   "cell_type": "markdown",
   "id": "14673ec8",
   "metadata": {},
   "source": [
    "<div style=\"background-color: #fff0e0; padding: 10px; font-family: monospace; font-size: 15px\">\n",
    "Рассмотрим данные чуть подробнее</div>"
   ]
  },
  {
   "cell_type": "code",
   "execution_count": 5,
   "id": "cd7c6193",
   "metadata": {},
   "outputs": [
    {
     "name": "stdout",
     "output_type": "stream",
     "text": [
      "<class 'pandas.core.frame.DataFrame'>\n",
      "RangeIndex: 21525 entries, 0 to 21524\n",
      "Data columns (total 12 columns):\n",
      "children            21525 non-null int64\n",
      "days_employed       19351 non-null float64\n",
      "dob_years           21525 non-null int64\n",
      "education           21525 non-null object\n",
      "education_id        21525 non-null int64\n",
      "family_status       21525 non-null object\n",
      "family_status_id    21525 non-null int64\n",
      "gender              21525 non-null object\n",
      "income_type         21525 non-null object\n",
      "debt                21525 non-null int64\n",
      "total_income        19351 non-null float64\n",
      "purpose             21525 non-null object\n",
      "dtypes: float64(2), int64(5), object(5)\n",
      "memory usage: 2.0+ MB\n"
     ]
    }
   ],
   "source": [
    "data.info()"
   ]
  },
  {
   "cell_type": "markdown",
   "id": "fa7ac603",
   "metadata": {},
   "source": [
    "<div style=\"background-color: #fff0e0; padding: 10px; font-family: monospace; font-size: 15px\">\n",
    "days_employed и total_income имеют пропуски, причем одинаковое количество</div>"
   ]
  },
  {
   "cell_type": "code",
   "execution_count": 6,
   "id": "9603841d",
   "metadata": {},
   "outputs": [
    {
     "name": "stdout",
     "output_type": "stream",
     "text": [
      "Пропусков в days_employed 10.1%\n"
     ]
    }
   ],
   "source": [
    "days_employed_null = data['days_employed'].isnull().sum()\n",
    "days_employed_total = len(data['days_employed'])\n",
    "print(f'Пропусков в days_employed {round(days_employed_null / days_employed_total * 100, 2)}%')"
   ]
  },
  {
   "cell_type": "code",
   "execution_count": 7,
   "id": "21489ce2",
   "metadata": {},
   "outputs": [
    {
     "name": "stdout",
     "output_type": "stream",
     "text": [
      "Пропусков в total_income 10.1%\n"
     ]
    }
   ],
   "source": [
    "total_income_null = data['total_income'].isnull().sum()\n",
    "total_income_total = len(data['total_income'])\n",
    "print(f'Пропусков в total_income {round(total_income_null / total_income_total * 100, 2)}%')"
   ]
  },
  {
   "cell_type": "code",
   "execution_count": 8,
   "id": "8fecbb2e",
   "metadata": {},
   "outputs": [
    {
     "data": {
      "text/html": [
       "<div>\n",
       "<style scoped>\n",
       "    .dataframe tbody tr th:only-of-type {\n",
       "        vertical-align: middle;\n",
       "    }\n",
       "\n",
       "    .dataframe tbody tr th {\n",
       "        vertical-align: top;\n",
       "    }\n",
       "\n",
       "    .dataframe thead th {\n",
       "        text-align: right;\n",
       "    }\n",
       "</style>\n",
       "<table border=\"1\" class=\"dataframe\">\n",
       "  <thead>\n",
       "    <tr style=\"text-align: right;\">\n",
       "      <th></th>\n",
       "      <th>children</th>\n",
       "      <th>days_employed</th>\n",
       "      <th>dob_years</th>\n",
       "      <th>education</th>\n",
       "      <th>education_id</th>\n",
       "      <th>family_status</th>\n",
       "      <th>family_status_id</th>\n",
       "      <th>gender</th>\n",
       "      <th>income_type</th>\n",
       "      <th>debt</th>\n",
       "      <th>total_income</th>\n",
       "      <th>purpose</th>\n",
       "    </tr>\n",
       "  </thead>\n",
       "  <tbody>\n",
       "    <tr>\n",
       "      <td>12</td>\n",
       "      <td>0</td>\n",
       "      <td>NaN</td>\n",
       "      <td>65</td>\n",
       "      <td>среднее</td>\n",
       "      <td>1</td>\n",
       "      <td>гражданский брак</td>\n",
       "      <td>1</td>\n",
       "      <td>M</td>\n",
       "      <td>пенсионер</td>\n",
       "      <td>0</td>\n",
       "      <td>NaN</td>\n",
       "      <td>сыграть свадьбу</td>\n",
       "    </tr>\n",
       "    <tr>\n",
       "      <td>26</td>\n",
       "      <td>0</td>\n",
       "      <td>NaN</td>\n",
       "      <td>41</td>\n",
       "      <td>среднее</td>\n",
       "      <td>1</td>\n",
       "      <td>женат / замужем</td>\n",
       "      <td>0</td>\n",
       "      <td>M</td>\n",
       "      <td>госслужащий</td>\n",
       "      <td>0</td>\n",
       "      <td>NaN</td>\n",
       "      <td>образование</td>\n",
       "    </tr>\n",
       "    <tr>\n",
       "      <td>29</td>\n",
       "      <td>0</td>\n",
       "      <td>NaN</td>\n",
       "      <td>63</td>\n",
       "      <td>среднее</td>\n",
       "      <td>1</td>\n",
       "      <td>Не женат / не замужем</td>\n",
       "      <td>4</td>\n",
       "      <td>F</td>\n",
       "      <td>пенсионер</td>\n",
       "      <td>0</td>\n",
       "      <td>NaN</td>\n",
       "      <td>строительство жилой недвижимости</td>\n",
       "    </tr>\n",
       "    <tr>\n",
       "      <td>41</td>\n",
       "      <td>0</td>\n",
       "      <td>NaN</td>\n",
       "      <td>50</td>\n",
       "      <td>среднее</td>\n",
       "      <td>1</td>\n",
       "      <td>женат / замужем</td>\n",
       "      <td>0</td>\n",
       "      <td>F</td>\n",
       "      <td>госслужащий</td>\n",
       "      <td>0</td>\n",
       "      <td>NaN</td>\n",
       "      <td>сделка с подержанным автомобилем</td>\n",
       "    </tr>\n",
       "    <tr>\n",
       "      <td>55</td>\n",
       "      <td>0</td>\n",
       "      <td>NaN</td>\n",
       "      <td>54</td>\n",
       "      <td>среднее</td>\n",
       "      <td>1</td>\n",
       "      <td>гражданский брак</td>\n",
       "      <td>1</td>\n",
       "      <td>F</td>\n",
       "      <td>пенсионер</td>\n",
       "      <td>1</td>\n",
       "      <td>NaN</td>\n",
       "      <td>сыграть свадьбу</td>\n",
       "    </tr>\n",
       "  </tbody>\n",
       "</table>\n",
       "</div>"
      ],
      "text/plain": [
       "    children  days_employed  dob_years education  education_id  \\\n",
       "12         0            NaN         65   среднее             1   \n",
       "26         0            NaN         41   среднее             1   \n",
       "29         0            NaN         63   среднее             1   \n",
       "41         0            NaN         50   среднее             1   \n",
       "55         0            NaN         54   среднее             1   \n",
       "\n",
       "            family_status  family_status_id gender  income_type  debt  \\\n",
       "12       гражданский брак                 1      M    пенсионер     0   \n",
       "26        женат / замужем                 0      M  госслужащий     0   \n",
       "29  Не женат / не замужем                 4      F    пенсионер     0   \n",
       "41        женат / замужем                 0      F  госслужащий     0   \n",
       "55       гражданский брак                 1      F    пенсионер     1   \n",
       "\n",
       "    total_income                           purpose  \n",
       "12           NaN                   сыграть свадьбу  \n",
       "26           NaN                       образование  \n",
       "29           NaN  строительство жилой недвижимости  \n",
       "41           NaN  сделка с подержанным автомобилем  \n",
       "55           NaN                   сыграть свадьбу  "
      ]
     },
     "metadata": {},
     "output_type": "display_data"
    }
   ],
   "source": [
    "display(data[data.days_employed.isnull()].head())"
   ]
  },
  {
   "cell_type": "code",
   "execution_count": 9,
   "id": "2453eec9",
   "metadata": {},
   "outputs": [
    {
     "data": {
      "text/html": [
       "<div>\n",
       "<style scoped>\n",
       "    .dataframe tbody tr th:only-of-type {\n",
       "        vertical-align: middle;\n",
       "    }\n",
       "\n",
       "    .dataframe tbody tr th {\n",
       "        vertical-align: top;\n",
       "    }\n",
       "\n",
       "    .dataframe thead th {\n",
       "        text-align: right;\n",
       "    }\n",
       "</style>\n",
       "<table border=\"1\" class=\"dataframe\">\n",
       "  <thead>\n",
       "    <tr style=\"text-align: right;\">\n",
       "      <th></th>\n",
       "      <th>children</th>\n",
       "      <th>days_employed</th>\n",
       "      <th>dob_years</th>\n",
       "      <th>education</th>\n",
       "      <th>education_id</th>\n",
       "      <th>family_status</th>\n",
       "      <th>family_status_id</th>\n",
       "      <th>gender</th>\n",
       "      <th>income_type</th>\n",
       "      <th>debt</th>\n",
       "      <th>total_income</th>\n",
       "      <th>purpose</th>\n",
       "    </tr>\n",
       "  </thead>\n",
       "  <tbody>\n",
       "    <tr>\n",
       "      <td>21489</td>\n",
       "      <td>2</td>\n",
       "      <td>NaN</td>\n",
       "      <td>47</td>\n",
       "      <td>Среднее</td>\n",
       "      <td>1</td>\n",
       "      <td>женат / замужем</td>\n",
       "      <td>0</td>\n",
       "      <td>M</td>\n",
       "      <td>компаньон</td>\n",
       "      <td>0</td>\n",
       "      <td>NaN</td>\n",
       "      <td>сделка с автомобилем</td>\n",
       "    </tr>\n",
       "    <tr>\n",
       "      <td>21495</td>\n",
       "      <td>1</td>\n",
       "      <td>NaN</td>\n",
       "      <td>50</td>\n",
       "      <td>среднее</td>\n",
       "      <td>1</td>\n",
       "      <td>гражданский брак</td>\n",
       "      <td>1</td>\n",
       "      <td>F</td>\n",
       "      <td>сотрудник</td>\n",
       "      <td>0</td>\n",
       "      <td>NaN</td>\n",
       "      <td>свадьба</td>\n",
       "    </tr>\n",
       "    <tr>\n",
       "      <td>21497</td>\n",
       "      <td>0</td>\n",
       "      <td>NaN</td>\n",
       "      <td>48</td>\n",
       "      <td>ВЫСШЕЕ</td>\n",
       "      <td>0</td>\n",
       "      <td>женат / замужем</td>\n",
       "      <td>0</td>\n",
       "      <td>F</td>\n",
       "      <td>компаньон</td>\n",
       "      <td>0</td>\n",
       "      <td>NaN</td>\n",
       "      <td>строительство недвижимости</td>\n",
       "    </tr>\n",
       "    <tr>\n",
       "      <td>21502</td>\n",
       "      <td>1</td>\n",
       "      <td>NaN</td>\n",
       "      <td>42</td>\n",
       "      <td>среднее</td>\n",
       "      <td>1</td>\n",
       "      <td>женат / замужем</td>\n",
       "      <td>0</td>\n",
       "      <td>F</td>\n",
       "      <td>сотрудник</td>\n",
       "      <td>0</td>\n",
       "      <td>NaN</td>\n",
       "      <td>строительство жилой недвижимости</td>\n",
       "    </tr>\n",
       "    <tr>\n",
       "      <td>21510</td>\n",
       "      <td>2</td>\n",
       "      <td>NaN</td>\n",
       "      <td>28</td>\n",
       "      <td>среднее</td>\n",
       "      <td>1</td>\n",
       "      <td>женат / замужем</td>\n",
       "      <td>0</td>\n",
       "      <td>F</td>\n",
       "      <td>сотрудник</td>\n",
       "      <td>0</td>\n",
       "      <td>NaN</td>\n",
       "      <td>приобретение автомобиля</td>\n",
       "    </tr>\n",
       "  </tbody>\n",
       "</table>\n",
       "</div>"
      ],
      "text/plain": [
       "       children  days_employed  dob_years education  education_id  \\\n",
       "21489         2            NaN         47   Среднее             1   \n",
       "21495         1            NaN         50   среднее             1   \n",
       "21497         0            NaN         48    ВЫСШЕЕ             0   \n",
       "21502         1            NaN         42   среднее             1   \n",
       "21510         2            NaN         28   среднее             1   \n",
       "\n",
       "          family_status  family_status_id gender income_type  debt  \\\n",
       "21489   женат / замужем                 0      M   компаньон     0   \n",
       "21495  гражданский брак                 1      F   сотрудник     0   \n",
       "21497   женат / замужем                 0      F   компаньон     0   \n",
       "21502   женат / замужем                 0      F   сотрудник     0   \n",
       "21510   женат / замужем                 0      F   сотрудник     0   \n",
       "\n",
       "       total_income                           purpose  \n",
       "21489           NaN              сделка с автомобилем  \n",
       "21495           NaN                           свадьба  \n",
       "21497           NaN        строительство недвижимости  \n",
       "21502           NaN  строительство жилой недвижимости  \n",
       "21510           NaN           приобретение автомобиля  "
      ]
     },
     "metadata": {},
     "output_type": "display_data"
    }
   ],
   "source": [
    "display(data[data.total_income.isnull()].tail())"
   ]
  },
  {
   "cell_type": "markdown",
   "id": "96d35e3a-a0f0-42f5-9919-8006194af86a",
   "metadata": {},
   "source": [
    "<div style=\"background-color: #fff0e0; padding: 10px; font-family: monospace; font-size: 15px\">\n",
    "Судя по всему, некоторые не указывают стаж работы, отсюда пропуски в days_employed</div>\n",
    "\n",
    "<div style=\"background-color: #fff0e0; padding: 10px; font-family: monospace; font-size: 15px\">\n",
    "Есть вероятность, что пропуски в одних и тех же строках: логично, что у неработающего человека будет отсутствовать доход</div>"
   ]
  },
  {
   "cell_type": "code",
   "execution_count": 10,
   "id": "39a68bd6",
   "metadata": {},
   "outputs": [
    {
     "data": {
      "text/plain": [
       "True"
      ]
     },
     "execution_count": 10,
     "metadata": {},
     "output_type": "execute_result"
    }
   ],
   "source": [
    "# сравним индексы строк с пропущенными значениями в обоих столбцах\n",
    "list(data[data.days_employed.isnull()].index) == list(data[data.total_income.isnull()].index)"
   ]
  },
  {
   "cell_type": "markdown",
   "id": "75e4a452-d65a-4b6a-9cc4-c3ab4883474d",
   "metadata": {},
   "source": [
    "<div style=\"background-color: #fff0e0; padding: 10px; font-family: monospace; font-size: 15px\">\n",
    "Действительно, пропуски встречаются только вместе</div>\n",
    "\n",
    "<div style=\"background-color: #fff0e0; padding: 10px; font-family: monospace; font-size: 15px\">\n",
    "Было бы неплохо удалить их, так как с данными о доходе, не зная стажа работы, работать трудно – его может не быть вовсе, а может быть очень большой, в обход налогов</div>\n",
    "\n",
    "<div style=\"background-color: #fff0e0; padding: 10px; font-family: monospace; font-size: 15px\">\n",
    "Но пропусков 10%, мы себе такую роскошь позволить не можем, следовательно, заполняем медианными значениями (также, можно еще ориентироваться на сферу деятельности)</div>"
   ]
  },
  {
   "cell_type": "markdown",
   "id": "86a7cb80",
   "metadata": {},
   "source": [
    "### 1.0.3.   Шаг 2.1 Заполнение пропусков"
   ]
  },
  {
   "cell_type": "code",
   "execution_count": 12,
   "id": "99009ee7",
   "metadata": {},
   "outputs": [],
   "source": [
    "# Создаем функцию заполнения пропусков по сферам деятельности\n",
    "def income_sphere(row):\n",
    "    if pd.isna(row['total_income']):\n",
    "        return data[data.income_type == row.income_type]['total_income'].median()\n",
    "    else:\n",
    "        return row['total_income']"
   ]
  },
  {
   "cell_type": "code",
   "execution_count": 13,
   "id": "94b8e90c",
   "metadata": {},
   "outputs": [
    {
     "data": {
      "text/plain": [
       "0"
      ]
     },
     "metadata": {},
     "output_type": "display_data"
    },
    {
     "data": {
      "text/plain": [
       "0"
      ]
     },
     "metadata": {},
     "output_type": "display_data"
    }
   ],
   "source": [
    "data['days_employed'] = data['days_employed'].fillna(data['days_employed'].median())\n",
    "data['total_income'] = data.apply(income_sphere, axis=1)\n",
    "display(data.days_employed.isna().sum())\n",
    "display(data.total_income.isna().sum())"
   ]
  },
  {
   "cell_type": "code",
   "execution_count": 14,
   "id": "98d9d079",
   "metadata": {},
   "outputs": [
    {
     "data": {
      "text/html": [
       "<div>\n",
       "<style scoped>\n",
       "    .dataframe tbody tr th:only-of-type {\n",
       "        vertical-align: middle;\n",
       "    }\n",
       "\n",
       "    .dataframe tbody tr th {\n",
       "        vertical-align: top;\n",
       "    }\n",
       "\n",
       "    .dataframe thead th {\n",
       "        text-align: right;\n",
       "    }\n",
       "</style>\n",
       "<table border=\"1\" class=\"dataframe\">\n",
       "  <thead>\n",
       "    <tr style=\"text-align: right;\">\n",
       "      <th></th>\n",
       "      <th>children</th>\n",
       "      <th>days_employed</th>\n",
       "      <th>dob_years</th>\n",
       "      <th>education</th>\n",
       "      <th>education_id</th>\n",
       "      <th>family_status</th>\n",
       "      <th>family_status_id</th>\n",
       "      <th>gender</th>\n",
       "      <th>income_type</th>\n",
       "      <th>debt</th>\n",
       "      <th>total_income</th>\n",
       "      <th>purpose</th>\n",
       "    </tr>\n",
       "  </thead>\n",
       "  <tbody>\n",
       "    <tr>\n",
       "      <td>0</td>\n",
       "      <td>1</td>\n",
       "      <td>-8437.673028</td>\n",
       "      <td>42</td>\n",
       "      <td>высшее</td>\n",
       "      <td>0</td>\n",
       "      <td>женат / замужем</td>\n",
       "      <td>0</td>\n",
       "      <td>F</td>\n",
       "      <td>сотрудник</td>\n",
       "      <td>0</td>\n",
       "      <td>253875.639453</td>\n",
       "      <td>покупка жилья</td>\n",
       "    </tr>\n",
       "    <tr>\n",
       "      <td>1</td>\n",
       "      <td>1</td>\n",
       "      <td>-4024.803754</td>\n",
       "      <td>36</td>\n",
       "      <td>среднее</td>\n",
       "      <td>1</td>\n",
       "      <td>женат / замужем</td>\n",
       "      <td>0</td>\n",
       "      <td>F</td>\n",
       "      <td>сотрудник</td>\n",
       "      <td>0</td>\n",
       "      <td>112080.014102</td>\n",
       "      <td>приобретение автомобиля</td>\n",
       "    </tr>\n",
       "    <tr>\n",
       "      <td>2</td>\n",
       "      <td>0</td>\n",
       "      <td>-5623.422610</td>\n",
       "      <td>33</td>\n",
       "      <td>Среднее</td>\n",
       "      <td>1</td>\n",
       "      <td>женат / замужем</td>\n",
       "      <td>0</td>\n",
       "      <td>M</td>\n",
       "      <td>сотрудник</td>\n",
       "      <td>0</td>\n",
       "      <td>145885.952297</td>\n",
       "      <td>покупка жилья</td>\n",
       "    </tr>\n",
       "    <tr>\n",
       "      <td>3</td>\n",
       "      <td>3</td>\n",
       "      <td>-4124.747207</td>\n",
       "      <td>32</td>\n",
       "      <td>среднее</td>\n",
       "      <td>1</td>\n",
       "      <td>женат / замужем</td>\n",
       "      <td>0</td>\n",
       "      <td>M</td>\n",
       "      <td>сотрудник</td>\n",
       "      <td>0</td>\n",
       "      <td>267628.550329</td>\n",
       "      <td>дополнительное образование</td>\n",
       "    </tr>\n",
       "    <tr>\n",
       "      <td>4</td>\n",
       "      <td>0</td>\n",
       "      <td>340266.072047</td>\n",
       "      <td>53</td>\n",
       "      <td>среднее</td>\n",
       "      <td>1</td>\n",
       "      <td>гражданский брак</td>\n",
       "      <td>1</td>\n",
       "      <td>F</td>\n",
       "      <td>пенсионер</td>\n",
       "      <td>0</td>\n",
       "      <td>158616.077870</td>\n",
       "      <td>сыграть свадьбу</td>\n",
       "    </tr>\n",
       "  </tbody>\n",
       "</table>\n",
       "</div>"
      ],
      "text/plain": [
       "   children  days_employed  dob_years education  education_id  \\\n",
       "0         1   -8437.673028         42    высшее             0   \n",
       "1         1   -4024.803754         36   среднее             1   \n",
       "2         0   -5623.422610         33   Среднее             1   \n",
       "3         3   -4124.747207         32   среднее             1   \n",
       "4         0  340266.072047         53   среднее             1   \n",
       "\n",
       "      family_status  family_status_id gender income_type  debt   total_income  \\\n",
       "0   женат / замужем                 0      F   сотрудник     0  253875.639453   \n",
       "1   женат / замужем                 0      F   сотрудник     0  112080.014102   \n",
       "2   женат / замужем                 0      M   сотрудник     0  145885.952297   \n",
       "3   женат / замужем                 0      M   сотрудник     0  267628.550329   \n",
       "4  гражданский брак                 1      F   пенсионер     0  158616.077870   \n",
       "\n",
       "                      purpose  \n",
       "0               покупка жилья  \n",
       "1     приобретение автомобиля  \n",
       "2               покупка жилья  \n",
       "3  дополнительное образование  \n",
       "4             сыграть свадьбу  "
      ]
     },
     "metadata": {},
     "output_type": "display_data"
    },
    {
     "data": {
      "text/html": [
       "<div>\n",
       "<style scoped>\n",
       "    .dataframe tbody tr th:only-of-type {\n",
       "        vertical-align: middle;\n",
       "    }\n",
       "\n",
       "    .dataframe tbody tr th {\n",
       "        vertical-align: top;\n",
       "    }\n",
       "\n",
       "    .dataframe thead th {\n",
       "        text-align: right;\n",
       "    }\n",
       "</style>\n",
       "<table border=\"1\" class=\"dataframe\">\n",
       "  <thead>\n",
       "    <tr style=\"text-align: right;\">\n",
       "      <th></th>\n",
       "      <th>children</th>\n",
       "      <th>days_employed</th>\n",
       "      <th>dob_years</th>\n",
       "      <th>education</th>\n",
       "      <th>education_id</th>\n",
       "      <th>family_status</th>\n",
       "      <th>family_status_id</th>\n",
       "      <th>gender</th>\n",
       "      <th>income_type</th>\n",
       "      <th>debt</th>\n",
       "      <th>total_income</th>\n",
       "      <th>purpose</th>\n",
       "    </tr>\n",
       "  </thead>\n",
       "  <tbody>\n",
       "    <tr>\n",
       "      <td>21520</td>\n",
       "      <td>1</td>\n",
       "      <td>-4529.316663</td>\n",
       "      <td>43</td>\n",
       "      <td>среднее</td>\n",
       "      <td>1</td>\n",
       "      <td>гражданский брак</td>\n",
       "      <td>1</td>\n",
       "      <td>F</td>\n",
       "      <td>компаньон</td>\n",
       "      <td>0</td>\n",
       "      <td>224791.862382</td>\n",
       "      <td>операции с жильем</td>\n",
       "    </tr>\n",
       "    <tr>\n",
       "      <td>21521</td>\n",
       "      <td>0</td>\n",
       "      <td>343937.404131</td>\n",
       "      <td>67</td>\n",
       "      <td>среднее</td>\n",
       "      <td>1</td>\n",
       "      <td>женат / замужем</td>\n",
       "      <td>0</td>\n",
       "      <td>F</td>\n",
       "      <td>пенсионер</td>\n",
       "      <td>0</td>\n",
       "      <td>155999.806512</td>\n",
       "      <td>сделка с автомобилем</td>\n",
       "    </tr>\n",
       "    <tr>\n",
       "      <td>21522</td>\n",
       "      <td>1</td>\n",
       "      <td>-2113.346888</td>\n",
       "      <td>38</td>\n",
       "      <td>среднее</td>\n",
       "      <td>1</td>\n",
       "      <td>гражданский брак</td>\n",
       "      <td>1</td>\n",
       "      <td>M</td>\n",
       "      <td>сотрудник</td>\n",
       "      <td>1</td>\n",
       "      <td>89672.561153</td>\n",
       "      <td>недвижимость</td>\n",
       "    </tr>\n",
       "    <tr>\n",
       "      <td>21523</td>\n",
       "      <td>3</td>\n",
       "      <td>-3112.481705</td>\n",
       "      <td>38</td>\n",
       "      <td>среднее</td>\n",
       "      <td>1</td>\n",
       "      <td>женат / замужем</td>\n",
       "      <td>0</td>\n",
       "      <td>M</td>\n",
       "      <td>сотрудник</td>\n",
       "      <td>1</td>\n",
       "      <td>244093.050500</td>\n",
       "      <td>на покупку своего автомобиля</td>\n",
       "    </tr>\n",
       "    <tr>\n",
       "      <td>21524</td>\n",
       "      <td>2</td>\n",
       "      <td>-1984.507589</td>\n",
       "      <td>40</td>\n",
       "      <td>среднее</td>\n",
       "      <td>1</td>\n",
       "      <td>женат / замужем</td>\n",
       "      <td>0</td>\n",
       "      <td>F</td>\n",
       "      <td>сотрудник</td>\n",
       "      <td>0</td>\n",
       "      <td>82047.418899</td>\n",
       "      <td>на покупку автомобиля</td>\n",
       "    </tr>\n",
       "  </tbody>\n",
       "</table>\n",
       "</div>"
      ],
      "text/plain": [
       "       children  days_employed  dob_years education  education_id  \\\n",
       "21520         1   -4529.316663         43   среднее             1   \n",
       "21521         0  343937.404131         67   среднее             1   \n",
       "21522         1   -2113.346888         38   среднее             1   \n",
       "21523         3   -3112.481705         38   среднее             1   \n",
       "21524         2   -1984.507589         40   среднее             1   \n",
       "\n",
       "          family_status  family_status_id gender income_type  debt  \\\n",
       "21520  гражданский брак                 1      F   компаньон     0   \n",
       "21521   женат / замужем                 0      F   пенсионер     0   \n",
       "21522  гражданский брак                 1      M   сотрудник     1   \n",
       "21523   женат / замужем                 0      M   сотрудник     1   \n",
       "21524   женат / замужем                 0      F   сотрудник     0   \n",
       "\n",
       "        total_income                       purpose  \n",
       "21520  224791.862382             операции с жильем  \n",
       "21521  155999.806512          сделка с автомобилем  \n",
       "21522   89672.561153                  недвижимость  \n",
       "21523  244093.050500  на покупку своего автомобиля  \n",
       "21524   82047.418899         на покупку автомобиля  "
      ]
     },
     "metadata": {},
     "output_type": "display_data"
    }
   ],
   "source": [
    "display(data.head())\n",
    "display(data.tail())"
   ]
  },
  {
   "cell_type": "markdown",
   "id": "6e22798a",
   "metadata": {},
   "source": [
    "<div style=\"background-color: #fff0e0; padding: 10px; font-family: monospace; font-size: 15px\">\n",
    "Вышли отрицательные значения, с ними и будем разбираться</div>"
   ]
  },
  {
   "cell_type": "markdown",
   "id": "1adbc645",
   "metadata": {},
   "source": [
    "### 1.0.4.   Шаг 2.2 Проверка данных на аномалии и исправления."
   ]
  },
  {
   "cell_type": "markdown",
   "id": "7f5aaef7",
   "metadata": {},
   "source": [
    "#### 1.0.4.1.   Общая проверка"
   ]
  },
  {
   "cell_type": "markdown",
   "id": "084906e4",
   "metadata": {},
   "source": [
    "<div style=\"background-color: #fff0e0; padding: 10px; font-family: monospace; font-size: 15px\">\n",
    "Посмотрим на основные данные, категориальные, где можно оценить ситуацию на глаз</div>"
   ]
  },
  {
   "cell_type": "code",
   "execution_count": 15,
   "id": "76be3456",
   "metadata": {},
   "outputs": [
    {
     "name": "stdout",
     "output_type": "stream",
     "text": [
      "children\n",
      "[ 1  0  3  2 -1  4 20  5]\n",
      "\n",
      "education\n",
      "['высшее' 'среднее' 'Среднее' 'СРЕДНЕЕ' 'ВЫСШЕЕ' 'неоконченное высшее'\n",
      " 'начальное' 'Высшее' 'НЕОКОНЧЕННОЕ ВЫСШЕЕ' 'Неоконченное высшее'\n",
      " 'НАЧАЛЬНОЕ' 'Начальное' 'Ученая степень' 'УЧЕНАЯ СТЕПЕНЬ'\n",
      " 'ученая степень']\n",
      "\n",
      "education_id\n",
      "[0 1 2 3 4]\n",
      "\n",
      "family_status\n",
      "['женат / замужем' 'гражданский брак' 'вдовец / вдова' 'в разводе'\n",
      " 'Не женат / не замужем']\n",
      "\n",
      "family_status_id\n",
      "[0 1 2 3 4]\n",
      "\n",
      "gender\n",
      "['F' 'M' 'XNA']\n",
      "\n",
      "income_type\n",
      "['сотрудник' 'пенсионер' 'компаньон' 'госслужащий' 'безработный'\n",
      " 'предприниматель' 'студент' 'в декрете']\n",
      "\n",
      "debt\n",
      "[0 1]\n",
      "\n",
      "purpose\n",
      "['покупка жилья' 'приобретение автомобиля' 'дополнительное образование'\n",
      " 'сыграть свадьбу' 'операции с жильем' 'образование'\n",
      " 'на проведение свадьбы' 'покупка жилья для семьи' 'покупка недвижимости'\n",
      " 'покупка коммерческой недвижимости' 'покупка жилой недвижимости'\n",
      " 'строительство собственной недвижимости' 'недвижимость'\n",
      " 'строительство недвижимости' 'на покупку подержанного автомобиля'\n",
      " 'на покупку своего автомобиля' 'операции с коммерческой недвижимостью'\n",
      " 'строительство жилой недвижимости' 'жилье'\n",
      " 'операции со своей недвижимостью' 'автомобили' 'заняться образованием'\n",
      " 'сделка с подержанным автомобилем' 'получение образования' 'автомобиль'\n",
      " 'свадьба' 'получение дополнительного образования' 'покупка своего жилья'\n",
      " 'операции с недвижимостью' 'получение высшего образования'\n",
      " 'свой автомобиль' 'сделка с автомобилем' 'профильное образование'\n",
      " 'высшее образование' 'покупка жилья для сдачи' 'на покупку автомобиля'\n",
      " 'ремонт жилью' 'заняться высшим образованием']\n",
      "\n"
     ]
    }
   ],
   "source": [
    "data_categorical_list = ['children', 'education', 'education_id', 'family_status', \n",
    "                         'family_status_id', 'gender', 'income_type', 'debt', 'purpose']\n",
    "\n",
    "for categoria in data_categorical_list:\n",
    "    print(categoria)\n",
    "    print(data[categoria].unique())\n",
    "    print()"
   ]
  },
  {
   "cell_type": "markdown",
   "id": "33170708",
   "metadata": {},
   "source": [
    "<div style=\"background-color: #fff0e0; padding: 10px; font-family: monospace; font-size: 15px\">\n",
    "Очень хочется посмотреть на семью счастливых XNA с -1 ребенком, но имеем что имеем</div>"
   ]
  },
  {
   "cell_type": "markdown",
   "id": "aad73eda",
   "metadata": {},
   "source": [
    "#### 1.0.4.2.   Дети и гендер"
   ]
  },
  {
   "cell_type": "markdown",
   "id": "72e5d251",
   "metadata": {},
   "source": [
    "<div style=\"background-color: #fff0e0; padding: 10px; font-family: monospace; font-size: 15px\">\n",
    "Оценим масштаб ошибок с детьми и полом</div>"
   ]
  },
  {
   "cell_type": "code",
   "execution_count": 16,
   "id": "84641c45",
   "metadata": {},
   "outputs": [
    {
     "name": "stdout",
     "output_type": "stream",
     "text": [
      "children\n",
      "\n",
      "-1: 47 (0.22%)\n",
      "20: 76 (0.35%)\n",
      "\n",
      "\n",
      "gender\n",
      "\n",
      "XNA: 1 (0.0%)\n",
      "\n",
      "\n"
     ]
    }
   ],
   "source": [
    "anomal_rows = {'children': [-1, 20],\n",
    "               'gender': ['XNA']}\n",
    "\n",
    "for row in anomal_rows:\n",
    "    print(row)\n",
    "    print()\n",
    "    for value in anomal_rows[row]:\n",
    "        value_count = len(data[data[row] == value])\n",
    "        print(f'{value}: {value_count} ({round(value_count / len(data[row]) * 100, 2)}%)')\n",
    "    print()\n",
    "    print()"
   ]
  },
  {
   "cell_type": "markdown",
   "id": "460d1795-50e1-4fff-82da-60788fcf94c8",
   "metadata": {},
   "source": [
    "<div style=\"background-color: #fff0e0; padding: 10px; font-family: monospace; font-size: 15px\">\n",
    "Можно предположить, что -1 ребенок появился из 1 ребенка, а 20 – из 2</div>\n",
    "\n",
    "<div style=\"background-color: #fff0e0; padding: 10px; font-family: monospace; font-size: 15px\">\n",
    "Но так как их сравнительно незначительное количество, проще -1 заменить на 1, а 20 – заменить медианой, округленной вниз</div>"
   ]
  },
  {
   "cell_type": "code",
   "execution_count": 17,
   "id": "22b25094",
   "metadata": {},
   "outputs": [
    {
     "name": "stdout",
     "output_type": "stream",
     "text": [
      "-1 детей: 0\n",
      "20 детей: 0\n"
     ]
    }
   ],
   "source": [
    "# Заменяем -1 детей на 1 детей\n",
    "data['children'] = data['children'].replace(-1, 1)\n",
    "print('-1 детей:', len(data[data['children'] == -1]))\n",
    "\n",
    "# Заменяем 20 детей на mean детей\n",
    "data['children'] = data['children'].replace(20, int(data['children'].mean()))\n",
    "print('20 детей:', len(data[data['children'] == 20]))"
   ]
  },
  {
   "cell_type": "markdown",
   "id": "c9346eac",
   "metadata": {},
   "source": [
    "<div style=\"background-color: #fff0e0; padding: 10px; font-family: monospace; font-size: 15px\">\n",
    "С неизвестным гендером работаем культурно и толерантно – убираем из выборки</div>"
   ]
  },
  {
   "cell_type": "code",
   "execution_count": 18,
   "id": "ee4c74cc",
   "metadata": {},
   "outputs": [
    {
     "name": "stdout",
     "output_type": "stream",
     "text": [
      "Удалили гендеров: 1\n"
     ]
    }
   ],
   "source": [
    "# Запомним сколько было\n",
    "gender_count_old = len(data['gender'])\n",
    "data = data[data['gender'] != 'XNA']\n",
    "# Метод костыльный, так что перестраховываемся\n",
    "gender_count_new = len(data['gender'])\n",
    "print('Удалили гендеров:', gender_count_old-gender_count_new)"
   ]
  },
  {
   "cell_type": "markdown",
   "id": "a60107b6",
   "metadata": {},
   "source": [
    "<div style=\"background-color: #fff0e0; padding: 10px; font-family: monospace; font-size: 15px\">\n",
    "Сверяемся:</div>"
   ]
  },
  {
   "cell_type": "code",
   "execution_count": 19,
   "id": "d5f6361b",
   "metadata": {},
   "outputs": [
    {
     "name": "stdout",
     "output_type": "stream",
     "text": [
      "children\n",
      "[1 0 3 2 4 5]\n",
      "\n",
      "gender\n",
      "['F' 'M']\n",
      "\n"
     ]
    }
   ],
   "source": [
    "data_categorical_list = ['children', 'gender']\n",
    "\n",
    "for categoria in data_categorical_list:\n",
    "    print(categoria)\n",
    "    print(data[categoria].unique())\n",
    "    print()"
   ]
  },
  {
   "cell_type": "markdown",
   "id": "366aa035",
   "metadata": {},
   "source": [
    "#### 1.0.4.3.   Образование"
   ]
  },
  {
   "cell_type": "markdown",
   "id": "97bcc910",
   "metadata": {},
   "source": [
    "<div style=\"background-color: #fff0e0; padding: 10px; font-family: monospace; font-size: 15px\">\n",
    "Разберемся с образованием: там все проще, у нас явные дубликаты из-за регистра – приведем все к нижнему</div>"
   ]
  },
  {
   "cell_type": "code",
   "execution_count": 20,
   "id": "30811ed7",
   "metadata": {},
   "outputs": [
    {
     "data": {
      "text/html": [
       "<div>\n",
       "<style scoped>\n",
       "    .dataframe tbody tr th:only-of-type {\n",
       "        vertical-align: middle;\n",
       "    }\n",
       "\n",
       "    .dataframe tbody tr th {\n",
       "        vertical-align: top;\n",
       "    }\n",
       "\n",
       "    .dataframe thead th {\n",
       "        text-align: right;\n",
       "    }\n",
       "</style>\n",
       "<table border=\"1\" class=\"dataframe\">\n",
       "  <thead>\n",
       "    <tr style=\"text-align: right;\">\n",
       "      <th></th>\n",
       "      <th>children</th>\n",
       "      <th>days_employed</th>\n",
       "      <th>dob_years</th>\n",
       "      <th>education</th>\n",
       "      <th>education_id</th>\n",
       "      <th>family_status</th>\n",
       "      <th>family_status_id</th>\n",
       "      <th>gender</th>\n",
       "      <th>income_type</th>\n",
       "      <th>debt</th>\n",
       "      <th>total_income</th>\n",
       "      <th>purpose</th>\n",
       "      <th>education_lower</th>\n",
       "    </tr>\n",
       "  </thead>\n",
       "  <tbody>\n",
       "    <tr>\n",
       "      <td>0</td>\n",
       "      <td>1</td>\n",
       "      <td>-8437.673028</td>\n",
       "      <td>42</td>\n",
       "      <td>высшее</td>\n",
       "      <td>0</td>\n",
       "      <td>женат / замужем</td>\n",
       "      <td>0</td>\n",
       "      <td>F</td>\n",
       "      <td>сотрудник</td>\n",
       "      <td>0</td>\n",
       "      <td>253875.639453</td>\n",
       "      <td>покупка жилья</td>\n",
       "      <td>высшее</td>\n",
       "    </tr>\n",
       "    <tr>\n",
       "      <td>1</td>\n",
       "      <td>1</td>\n",
       "      <td>-4024.803754</td>\n",
       "      <td>36</td>\n",
       "      <td>среднее</td>\n",
       "      <td>1</td>\n",
       "      <td>женат / замужем</td>\n",
       "      <td>0</td>\n",
       "      <td>F</td>\n",
       "      <td>сотрудник</td>\n",
       "      <td>0</td>\n",
       "      <td>112080.014102</td>\n",
       "      <td>приобретение автомобиля</td>\n",
       "      <td>среднее</td>\n",
       "    </tr>\n",
       "    <tr>\n",
       "      <td>2</td>\n",
       "      <td>0</td>\n",
       "      <td>-5623.422610</td>\n",
       "      <td>33</td>\n",
       "      <td>Среднее</td>\n",
       "      <td>1</td>\n",
       "      <td>женат / замужем</td>\n",
       "      <td>0</td>\n",
       "      <td>M</td>\n",
       "      <td>сотрудник</td>\n",
       "      <td>0</td>\n",
       "      <td>145885.952297</td>\n",
       "      <td>покупка жилья</td>\n",
       "      <td>среднее</td>\n",
       "    </tr>\n",
       "    <tr>\n",
       "      <td>3</td>\n",
       "      <td>3</td>\n",
       "      <td>-4124.747207</td>\n",
       "      <td>32</td>\n",
       "      <td>среднее</td>\n",
       "      <td>1</td>\n",
       "      <td>женат / замужем</td>\n",
       "      <td>0</td>\n",
       "      <td>M</td>\n",
       "      <td>сотрудник</td>\n",
       "      <td>0</td>\n",
       "      <td>267628.550329</td>\n",
       "      <td>дополнительное образование</td>\n",
       "      <td>среднее</td>\n",
       "    </tr>\n",
       "    <tr>\n",
       "      <td>4</td>\n",
       "      <td>0</td>\n",
       "      <td>340266.072047</td>\n",
       "      <td>53</td>\n",
       "      <td>среднее</td>\n",
       "      <td>1</td>\n",
       "      <td>гражданский брак</td>\n",
       "      <td>1</td>\n",
       "      <td>F</td>\n",
       "      <td>пенсионер</td>\n",
       "      <td>0</td>\n",
       "      <td>158616.077870</td>\n",
       "      <td>сыграть свадьбу</td>\n",
       "      <td>среднее</td>\n",
       "    </tr>\n",
       "    <tr>\n",
       "      <td>5</td>\n",
       "      <td>0</td>\n",
       "      <td>-926.185831</td>\n",
       "      <td>27</td>\n",
       "      <td>высшее</td>\n",
       "      <td>0</td>\n",
       "      <td>гражданский брак</td>\n",
       "      <td>1</td>\n",
       "      <td>M</td>\n",
       "      <td>компаньон</td>\n",
       "      <td>0</td>\n",
       "      <td>255763.565419</td>\n",
       "      <td>покупка жилья</td>\n",
       "      <td>высшее</td>\n",
       "    </tr>\n",
       "    <tr>\n",
       "      <td>6</td>\n",
       "      <td>0</td>\n",
       "      <td>-2879.202052</td>\n",
       "      <td>43</td>\n",
       "      <td>высшее</td>\n",
       "      <td>0</td>\n",
       "      <td>женат / замужем</td>\n",
       "      <td>0</td>\n",
       "      <td>F</td>\n",
       "      <td>компаньон</td>\n",
       "      <td>0</td>\n",
       "      <td>240525.971920</td>\n",
       "      <td>операции с жильем</td>\n",
       "      <td>высшее</td>\n",
       "    </tr>\n",
       "    <tr>\n",
       "      <td>7</td>\n",
       "      <td>0</td>\n",
       "      <td>-152.779569</td>\n",
       "      <td>50</td>\n",
       "      <td>СРЕДНЕЕ</td>\n",
       "      <td>1</td>\n",
       "      <td>женат / замужем</td>\n",
       "      <td>0</td>\n",
       "      <td>M</td>\n",
       "      <td>сотрудник</td>\n",
       "      <td>0</td>\n",
       "      <td>135823.934197</td>\n",
       "      <td>образование</td>\n",
       "      <td>среднее</td>\n",
       "    </tr>\n",
       "    <tr>\n",
       "      <td>8</td>\n",
       "      <td>2</td>\n",
       "      <td>-6929.865299</td>\n",
       "      <td>35</td>\n",
       "      <td>ВЫСШЕЕ</td>\n",
       "      <td>0</td>\n",
       "      <td>гражданский брак</td>\n",
       "      <td>1</td>\n",
       "      <td>F</td>\n",
       "      <td>сотрудник</td>\n",
       "      <td>0</td>\n",
       "      <td>95856.832424</td>\n",
       "      <td>на проведение свадьбы</td>\n",
       "      <td>высшее</td>\n",
       "    </tr>\n",
       "    <tr>\n",
       "      <td>9</td>\n",
       "      <td>0</td>\n",
       "      <td>-2188.756445</td>\n",
       "      <td>41</td>\n",
       "      <td>среднее</td>\n",
       "      <td>1</td>\n",
       "      <td>женат / замужем</td>\n",
       "      <td>0</td>\n",
       "      <td>M</td>\n",
       "      <td>сотрудник</td>\n",
       "      <td>0</td>\n",
       "      <td>144425.938277</td>\n",
       "      <td>покупка жилья для семьи</td>\n",
       "      <td>среднее</td>\n",
       "    </tr>\n",
       "  </tbody>\n",
       "</table>\n",
       "</div>"
      ],
      "text/plain": [
       "   children  days_employed  dob_years education  education_id  \\\n",
       "0         1   -8437.673028         42    высшее             0   \n",
       "1         1   -4024.803754         36   среднее             1   \n",
       "2         0   -5623.422610         33   Среднее             1   \n",
       "3         3   -4124.747207         32   среднее             1   \n",
       "4         0  340266.072047         53   среднее             1   \n",
       "5         0    -926.185831         27    высшее             0   \n",
       "6         0   -2879.202052         43    высшее             0   \n",
       "7         0    -152.779569         50   СРЕДНЕЕ             1   \n",
       "8         2   -6929.865299         35    ВЫСШЕЕ             0   \n",
       "9         0   -2188.756445         41   среднее             1   \n",
       "\n",
       "      family_status  family_status_id gender income_type  debt   total_income  \\\n",
       "0   женат / замужем                 0      F   сотрудник     0  253875.639453   \n",
       "1   женат / замужем                 0      F   сотрудник     0  112080.014102   \n",
       "2   женат / замужем                 0      M   сотрудник     0  145885.952297   \n",
       "3   женат / замужем                 0      M   сотрудник     0  267628.550329   \n",
       "4  гражданский брак                 1      F   пенсионер     0  158616.077870   \n",
       "5  гражданский брак                 1      M   компаньон     0  255763.565419   \n",
       "6   женат / замужем                 0      F   компаньон     0  240525.971920   \n",
       "7   женат / замужем                 0      M   сотрудник     0  135823.934197   \n",
       "8  гражданский брак                 1      F   сотрудник     0   95856.832424   \n",
       "9   женат / замужем                 0      M   сотрудник     0  144425.938277   \n",
       "\n",
       "                      purpose education_lower  \n",
       "0               покупка жилья          высшее  \n",
       "1     приобретение автомобиля         среднее  \n",
       "2               покупка жилья         среднее  \n",
       "3  дополнительное образование         среднее  \n",
       "4             сыграть свадьбу         среднее  \n",
       "5               покупка жилья          высшее  \n",
       "6           операции с жильем          высшее  \n",
       "7                 образование         среднее  \n",
       "8       на проведение свадьбы          высшее  \n",
       "9     покупка жилья для семьи         среднее  "
      ]
     },
     "metadata": {},
     "output_type": "display_data"
    }
   ],
   "source": [
    "data['education_lower'] = data['education'].str.lower()\n",
    "display(data.head(10))"
   ]
  },
  {
   "cell_type": "markdown",
   "id": "bbba2540",
   "metadata": {},
   "source": [
    "<div style=\"background-color: #fff0e0; padding: 10px; font-family: monospace; font-size: 15px\">\n",
    "Проверим новый столбец</div>"
   ]
  },
  {
   "cell_type": "code",
   "execution_count": 21,
   "id": "899f6377",
   "metadata": {},
   "outputs": [
    {
     "data": {
      "text/plain": [
       "array(['высшее', 'среднее', 'неоконченное высшее', 'начальное',\n",
       "       'ученая степень'], dtype=object)"
      ]
     },
     "metadata": {},
     "output_type": "display_data"
    }
   ],
   "source": [
    "display(data['education_lower'].unique())"
   ]
  },
  {
   "cell_type": "markdown",
   "id": "82a7cb30",
   "metadata": {},
   "source": [
    "### 1.0.5.   Шаг 2.7. Категоризация целей кредита."
   ]
  },
  {
   "cell_type": "markdown",
   "id": "eb4686a6",
   "metadata": {},
   "source": [
    "#### 1.0.5.1.   Цель кредита"
   ]
  },
  {
   "cell_type": "markdown",
   "id": "58bbb0f7",
   "metadata": {},
   "source": [
    "<div style=\"background-color: #fff0e0; padding: 10px; font-family: monospace; font-size: 15px\">\n",
    "Теперь разберемся с целью кредита</div>"
   ]
  },
  {
   "cell_type": "code",
   "execution_count": 22,
   "id": "f2d2f02e",
   "metadata": {},
   "outputs": [
    {
     "name": "stdout",
     "output_type": "stream",
     "text": [
      "покупка жилья\n",
      "приобретение автомобиля\n",
      "дополнительное образование\n",
      "сыграть свадьбу\n",
      "операции с жильем\n",
      "образование\n",
      "на проведение свадьбы\n",
      "покупка жилья для семьи\n",
      "покупка недвижимости\n",
      "покупка коммерческой недвижимости\n",
      "покупка жилой недвижимости\n",
      "строительство собственной недвижимости\n",
      "недвижимость\n",
      "строительство недвижимости\n",
      "на покупку подержанного автомобиля\n",
      "на покупку своего автомобиля\n",
      "операции с коммерческой недвижимостью\n",
      "строительство жилой недвижимости\n",
      "жилье\n",
      "операции со своей недвижимостью\n",
      "автомобили\n",
      "заняться образованием\n",
      "сделка с подержанным автомобилем\n",
      "получение образования\n",
      "автомобиль\n",
      "свадьба\n",
      "получение дополнительного образования\n",
      "покупка своего жилья\n",
      "операции с недвижимостью\n",
      "получение высшего образования\n",
      "свой автомобиль\n",
      "сделка с автомобилем\n",
      "профильное образование\n",
      "высшее образование\n",
      "покупка жилья для сдачи\n",
      "на покупку автомобиля\n",
      "ремонт жилью\n",
      "заняться высшим образованием\n"
     ]
    }
   ],
   "source": [
    "for row in data['purpose'].unique():\n",
    "    print(row)"
   ]
  },
  {
   "cell_type": "markdown",
   "id": "565141ad",
   "metadata": {},
   "source": [
    "<div style=\"background-color: #fff0e0; padding: 10px; font-family: monospace; font-size: 15px\">\n",
    "Попробуем хоть как то автоматизировать процесс</div>"
   ]
  },
  {
   "cell_type": "code",
   "execution_count": 23,
   "id": "babde225",
   "metadata": {},
   "outputs": [],
   "source": [
    "# Создаем функциб с подстановкой значений, которые выделили на глаз (куски основных слов)\n",
    "\n",
    "def purpose_dict_pred(row): \n",
    "    purposes = {\n",
    "        'жил': 'недвижимость',\n",
    "        'авто': 'автомобили',\n",
    "        'образов': 'образование',\n",
    "        'недвиж': 'недвижимость',\n",
    "        'свад': 'свадьба'\n",
    "    }\n",
    "    for word in purposes:\n",
    "        if word in row['purpose']:\n",
    "            return purposes[word]"
   ]
  },
  {
   "cell_type": "markdown",
   "id": "dff76357",
   "metadata": {},
   "source": [
    "#### 1.0.5.2.   Добавление столбцов"
   ]
  },
  {
   "cell_type": "markdown",
   "id": "856b22ae",
   "metadata": {},
   "source": [
    "<div style=\"background-color: #fff0e0; padding: 10px; font-family: monospace; font-size: 15px\">\n",
    "Дополняем и объединяем категории </div>"
   ]
  },
  {
   "cell_type": "code",
   "execution_count": 24,
   "id": "6aafa30b",
   "metadata": {},
   "outputs": [
    {
     "data": {
      "text/html": [
       "<div>\n",
       "<style scoped>\n",
       "    .dataframe tbody tr th:only-of-type {\n",
       "        vertical-align: middle;\n",
       "    }\n",
       "\n",
       "    .dataframe tbody tr th {\n",
       "        vertical-align: top;\n",
       "    }\n",
       "\n",
       "    .dataframe thead th {\n",
       "        text-align: right;\n",
       "    }\n",
       "</style>\n",
       "<table border=\"1\" class=\"dataframe\">\n",
       "  <thead>\n",
       "    <tr style=\"text-align: right;\">\n",
       "      <th></th>\n",
       "      <th>children</th>\n",
       "      <th>days_employed</th>\n",
       "      <th>dob_years</th>\n",
       "      <th>education</th>\n",
       "      <th>education_id</th>\n",
       "      <th>family_status</th>\n",
       "      <th>family_status_id</th>\n",
       "      <th>gender</th>\n",
       "      <th>income_type</th>\n",
       "      <th>debt</th>\n",
       "      <th>total_income</th>\n",
       "      <th>purpose</th>\n",
       "      <th>education_lower</th>\n",
       "      <th>purpose_total</th>\n",
       "    </tr>\n",
       "  </thead>\n",
       "  <tbody>\n",
       "    <tr>\n",
       "      <td>0</td>\n",
       "      <td>1</td>\n",
       "      <td>-8437.673028</td>\n",
       "      <td>42</td>\n",
       "      <td>высшее</td>\n",
       "      <td>0</td>\n",
       "      <td>женат / замужем</td>\n",
       "      <td>0</td>\n",
       "      <td>F</td>\n",
       "      <td>сотрудник</td>\n",
       "      <td>0</td>\n",
       "      <td>253875.639453</td>\n",
       "      <td>покупка жилья</td>\n",
       "      <td>высшее</td>\n",
       "      <td>недвижимость</td>\n",
       "    </tr>\n",
       "    <tr>\n",
       "      <td>1</td>\n",
       "      <td>1</td>\n",
       "      <td>-4024.803754</td>\n",
       "      <td>36</td>\n",
       "      <td>среднее</td>\n",
       "      <td>1</td>\n",
       "      <td>женат / замужем</td>\n",
       "      <td>0</td>\n",
       "      <td>F</td>\n",
       "      <td>сотрудник</td>\n",
       "      <td>0</td>\n",
       "      <td>112080.014102</td>\n",
       "      <td>приобретение автомобиля</td>\n",
       "      <td>среднее</td>\n",
       "      <td>автомобили</td>\n",
       "    </tr>\n",
       "    <tr>\n",
       "      <td>2</td>\n",
       "      <td>0</td>\n",
       "      <td>-5623.422610</td>\n",
       "      <td>33</td>\n",
       "      <td>Среднее</td>\n",
       "      <td>1</td>\n",
       "      <td>женат / замужем</td>\n",
       "      <td>0</td>\n",
       "      <td>M</td>\n",
       "      <td>сотрудник</td>\n",
       "      <td>0</td>\n",
       "      <td>145885.952297</td>\n",
       "      <td>покупка жилья</td>\n",
       "      <td>среднее</td>\n",
       "      <td>недвижимость</td>\n",
       "    </tr>\n",
       "    <tr>\n",
       "      <td>3</td>\n",
       "      <td>3</td>\n",
       "      <td>-4124.747207</td>\n",
       "      <td>32</td>\n",
       "      <td>среднее</td>\n",
       "      <td>1</td>\n",
       "      <td>женат / замужем</td>\n",
       "      <td>0</td>\n",
       "      <td>M</td>\n",
       "      <td>сотрудник</td>\n",
       "      <td>0</td>\n",
       "      <td>267628.550329</td>\n",
       "      <td>дополнительное образование</td>\n",
       "      <td>среднее</td>\n",
       "      <td>образование</td>\n",
       "    </tr>\n",
       "    <tr>\n",
       "      <td>4</td>\n",
       "      <td>0</td>\n",
       "      <td>340266.072047</td>\n",
       "      <td>53</td>\n",
       "      <td>среднее</td>\n",
       "      <td>1</td>\n",
       "      <td>гражданский брак</td>\n",
       "      <td>1</td>\n",
       "      <td>F</td>\n",
       "      <td>пенсионер</td>\n",
       "      <td>0</td>\n",
       "      <td>158616.077870</td>\n",
       "      <td>сыграть свадьбу</td>\n",
       "      <td>среднее</td>\n",
       "      <td>свадьба</td>\n",
       "    </tr>\n",
       "    <tr>\n",
       "      <td>5</td>\n",
       "      <td>0</td>\n",
       "      <td>-926.185831</td>\n",
       "      <td>27</td>\n",
       "      <td>высшее</td>\n",
       "      <td>0</td>\n",
       "      <td>гражданский брак</td>\n",
       "      <td>1</td>\n",
       "      <td>M</td>\n",
       "      <td>компаньон</td>\n",
       "      <td>0</td>\n",
       "      <td>255763.565419</td>\n",
       "      <td>покупка жилья</td>\n",
       "      <td>высшее</td>\n",
       "      <td>недвижимость</td>\n",
       "    </tr>\n",
       "    <tr>\n",
       "      <td>6</td>\n",
       "      <td>0</td>\n",
       "      <td>-2879.202052</td>\n",
       "      <td>43</td>\n",
       "      <td>высшее</td>\n",
       "      <td>0</td>\n",
       "      <td>женат / замужем</td>\n",
       "      <td>0</td>\n",
       "      <td>F</td>\n",
       "      <td>компаньон</td>\n",
       "      <td>0</td>\n",
       "      <td>240525.971920</td>\n",
       "      <td>операции с жильем</td>\n",
       "      <td>высшее</td>\n",
       "      <td>недвижимость</td>\n",
       "    </tr>\n",
       "    <tr>\n",
       "      <td>7</td>\n",
       "      <td>0</td>\n",
       "      <td>-152.779569</td>\n",
       "      <td>50</td>\n",
       "      <td>СРЕДНЕЕ</td>\n",
       "      <td>1</td>\n",
       "      <td>женат / замужем</td>\n",
       "      <td>0</td>\n",
       "      <td>M</td>\n",
       "      <td>сотрудник</td>\n",
       "      <td>0</td>\n",
       "      <td>135823.934197</td>\n",
       "      <td>образование</td>\n",
       "      <td>среднее</td>\n",
       "      <td>образование</td>\n",
       "    </tr>\n",
       "    <tr>\n",
       "      <td>8</td>\n",
       "      <td>2</td>\n",
       "      <td>-6929.865299</td>\n",
       "      <td>35</td>\n",
       "      <td>ВЫСШЕЕ</td>\n",
       "      <td>0</td>\n",
       "      <td>гражданский брак</td>\n",
       "      <td>1</td>\n",
       "      <td>F</td>\n",
       "      <td>сотрудник</td>\n",
       "      <td>0</td>\n",
       "      <td>95856.832424</td>\n",
       "      <td>на проведение свадьбы</td>\n",
       "      <td>высшее</td>\n",
       "      <td>свадьба</td>\n",
       "    </tr>\n",
       "    <tr>\n",
       "      <td>9</td>\n",
       "      <td>0</td>\n",
       "      <td>-2188.756445</td>\n",
       "      <td>41</td>\n",
       "      <td>среднее</td>\n",
       "      <td>1</td>\n",
       "      <td>женат / замужем</td>\n",
       "      <td>0</td>\n",
       "      <td>M</td>\n",
       "      <td>сотрудник</td>\n",
       "      <td>0</td>\n",
       "      <td>144425.938277</td>\n",
       "      <td>покупка жилья для семьи</td>\n",
       "      <td>среднее</td>\n",
       "      <td>недвижимость</td>\n",
       "    </tr>\n",
       "  </tbody>\n",
       "</table>\n",
       "</div>"
      ],
      "text/plain": [
       "   children  days_employed  dob_years education  education_id  \\\n",
       "0         1   -8437.673028         42    высшее             0   \n",
       "1         1   -4024.803754         36   среднее             1   \n",
       "2         0   -5623.422610         33   Среднее             1   \n",
       "3         3   -4124.747207         32   среднее             1   \n",
       "4         0  340266.072047         53   среднее             1   \n",
       "5         0    -926.185831         27    высшее             0   \n",
       "6         0   -2879.202052         43    высшее             0   \n",
       "7         0    -152.779569         50   СРЕДНЕЕ             1   \n",
       "8         2   -6929.865299         35    ВЫСШЕЕ             0   \n",
       "9         0   -2188.756445         41   среднее             1   \n",
       "\n",
       "      family_status  family_status_id gender income_type  debt   total_income  \\\n",
       "0   женат / замужем                 0      F   сотрудник     0  253875.639453   \n",
       "1   женат / замужем                 0      F   сотрудник     0  112080.014102   \n",
       "2   женат / замужем                 0      M   сотрудник     0  145885.952297   \n",
       "3   женат / замужем                 0      M   сотрудник     0  267628.550329   \n",
       "4  гражданский брак                 1      F   пенсионер     0  158616.077870   \n",
       "5  гражданский брак                 1      M   компаньон     0  255763.565419   \n",
       "6   женат / замужем                 0      F   компаньон     0  240525.971920   \n",
       "7   женат / замужем                 0      M   сотрудник     0  135823.934197   \n",
       "8  гражданский брак                 1      F   сотрудник     0   95856.832424   \n",
       "9   женат / замужем                 0      M   сотрудник     0  144425.938277   \n",
       "\n",
       "                      purpose education_lower purpose_total  \n",
       "0               покупка жилья          высшее  недвижимость  \n",
       "1     приобретение автомобиля         среднее    автомобили  \n",
       "2               покупка жилья         среднее  недвижимость  \n",
       "3  дополнительное образование         среднее   образование  \n",
       "4             сыграть свадьбу         среднее       свадьба  \n",
       "5               покупка жилья          высшее  недвижимость  \n",
       "6           операции с жильем          высшее  недвижимость  \n",
       "7                 образование         среднее   образование  \n",
       "8       на проведение свадьбы          высшее       свадьба  \n",
       "9     покупка жилья для семьи         среднее  недвижимость  "
      ]
     },
     "metadata": {},
     "output_type": "display_data"
    }
   ],
   "source": [
    "data['purpose_total'] = data.apply(purpose_dict_pred, axis=1)\n",
    "display(data.head(10))"
   ]
  },
  {
   "cell_type": "markdown",
   "id": "1d1ca035",
   "metadata": {},
   "source": [
    "<div style=\"background-color: #fff0e0; padding: 10px; font-family: monospace; font-size: 15px\">\n",
    "Ну и раз уж мы здесь, приведем к божескому виду еще и гендеры со статусами</div>"
   ]
  },
  {
   "cell_type": "code",
   "execution_count": 25,
   "id": "83aa8a57",
   "metadata": {},
   "outputs": [
    {
     "data": {
      "text/html": [
       "<div>\n",
       "<style scoped>\n",
       "    .dataframe tbody tr th:only-of-type {\n",
       "        vertical-align: middle;\n",
       "    }\n",
       "\n",
       "    .dataframe tbody tr th {\n",
       "        vertical-align: top;\n",
       "    }\n",
       "\n",
       "    .dataframe thead th {\n",
       "        text-align: right;\n",
       "    }\n",
       "</style>\n",
       "<table border=\"1\" class=\"dataframe\">\n",
       "  <thead>\n",
       "    <tr style=\"text-align: right;\">\n",
       "      <th></th>\n",
       "      <th>children</th>\n",
       "      <th>days_employed</th>\n",
       "      <th>dob_years</th>\n",
       "      <th>education</th>\n",
       "      <th>education_id</th>\n",
       "      <th>family_status</th>\n",
       "      <th>family_status_id</th>\n",
       "      <th>gender</th>\n",
       "      <th>income_type</th>\n",
       "      <th>debt</th>\n",
       "      <th>total_income</th>\n",
       "      <th>purpose</th>\n",
       "      <th>education_lower</th>\n",
       "      <th>purpose_total</th>\n",
       "      <th>gender_lower</th>\n",
       "      <th>family_status_lower</th>\n",
       "    </tr>\n",
       "  </thead>\n",
       "  <tbody>\n",
       "    <tr>\n",
       "      <td>0</td>\n",
       "      <td>1</td>\n",
       "      <td>-8437.673028</td>\n",
       "      <td>42</td>\n",
       "      <td>высшее</td>\n",
       "      <td>0</td>\n",
       "      <td>женат / замужем</td>\n",
       "      <td>0</td>\n",
       "      <td>F</td>\n",
       "      <td>сотрудник</td>\n",
       "      <td>0</td>\n",
       "      <td>253875.639453</td>\n",
       "      <td>покупка жилья</td>\n",
       "      <td>высшее</td>\n",
       "      <td>недвижимость</td>\n",
       "      <td>f</td>\n",
       "      <td>женат / замужем</td>\n",
       "    </tr>\n",
       "    <tr>\n",
       "      <td>1</td>\n",
       "      <td>1</td>\n",
       "      <td>-4024.803754</td>\n",
       "      <td>36</td>\n",
       "      <td>среднее</td>\n",
       "      <td>1</td>\n",
       "      <td>женат / замужем</td>\n",
       "      <td>0</td>\n",
       "      <td>F</td>\n",
       "      <td>сотрудник</td>\n",
       "      <td>0</td>\n",
       "      <td>112080.014102</td>\n",
       "      <td>приобретение автомобиля</td>\n",
       "      <td>среднее</td>\n",
       "      <td>автомобили</td>\n",
       "      <td>f</td>\n",
       "      <td>женат / замужем</td>\n",
       "    </tr>\n",
       "    <tr>\n",
       "      <td>2</td>\n",
       "      <td>0</td>\n",
       "      <td>-5623.422610</td>\n",
       "      <td>33</td>\n",
       "      <td>Среднее</td>\n",
       "      <td>1</td>\n",
       "      <td>женат / замужем</td>\n",
       "      <td>0</td>\n",
       "      <td>M</td>\n",
       "      <td>сотрудник</td>\n",
       "      <td>0</td>\n",
       "      <td>145885.952297</td>\n",
       "      <td>покупка жилья</td>\n",
       "      <td>среднее</td>\n",
       "      <td>недвижимость</td>\n",
       "      <td>m</td>\n",
       "      <td>женат / замужем</td>\n",
       "    </tr>\n",
       "    <tr>\n",
       "      <td>3</td>\n",
       "      <td>3</td>\n",
       "      <td>-4124.747207</td>\n",
       "      <td>32</td>\n",
       "      <td>среднее</td>\n",
       "      <td>1</td>\n",
       "      <td>женат / замужем</td>\n",
       "      <td>0</td>\n",
       "      <td>M</td>\n",
       "      <td>сотрудник</td>\n",
       "      <td>0</td>\n",
       "      <td>267628.550329</td>\n",
       "      <td>дополнительное образование</td>\n",
       "      <td>среднее</td>\n",
       "      <td>образование</td>\n",
       "      <td>m</td>\n",
       "      <td>женат / замужем</td>\n",
       "    </tr>\n",
       "    <tr>\n",
       "      <td>4</td>\n",
       "      <td>0</td>\n",
       "      <td>340266.072047</td>\n",
       "      <td>53</td>\n",
       "      <td>среднее</td>\n",
       "      <td>1</td>\n",
       "      <td>гражданский брак</td>\n",
       "      <td>1</td>\n",
       "      <td>F</td>\n",
       "      <td>пенсионер</td>\n",
       "      <td>0</td>\n",
       "      <td>158616.077870</td>\n",
       "      <td>сыграть свадьбу</td>\n",
       "      <td>среднее</td>\n",
       "      <td>свадьба</td>\n",
       "      <td>f</td>\n",
       "      <td>гражданский брак</td>\n",
       "    </tr>\n",
       "  </tbody>\n",
       "</table>\n",
       "</div>"
      ],
      "text/plain": [
       "   children  days_employed  dob_years education  education_id  \\\n",
       "0         1   -8437.673028         42    высшее             0   \n",
       "1         1   -4024.803754         36   среднее             1   \n",
       "2         0   -5623.422610         33   Среднее             1   \n",
       "3         3   -4124.747207         32   среднее             1   \n",
       "4         0  340266.072047         53   среднее             1   \n",
       "\n",
       "      family_status  family_status_id gender income_type  debt   total_income  \\\n",
       "0   женат / замужем                 0      F   сотрудник     0  253875.639453   \n",
       "1   женат / замужем                 0      F   сотрудник     0  112080.014102   \n",
       "2   женат / замужем                 0      M   сотрудник     0  145885.952297   \n",
       "3   женат / замужем                 0      M   сотрудник     0  267628.550329   \n",
       "4  гражданский брак                 1      F   пенсионер     0  158616.077870   \n",
       "\n",
       "                      purpose education_lower purpose_total gender_lower  \\\n",
       "0               покупка жилья          высшее  недвижимость            f   \n",
       "1     приобретение автомобиля         среднее    автомобили            f   \n",
       "2               покупка жилья         среднее  недвижимость            m   \n",
       "3  дополнительное образование         среднее   образование            m   \n",
       "4             сыграть свадьбу         среднее       свадьба            f   \n",
       "\n",
       "  family_status_lower  \n",
       "0     женат / замужем  \n",
       "1     женат / замужем  \n",
       "2     женат / замужем  \n",
       "3     женат / замужем  \n",
       "4    гражданский брак  "
      ]
     },
     "metadata": {},
     "output_type": "display_data"
    }
   ],
   "source": [
    "data['gender_lower'] = data['gender'].str.lower()\n",
    "data['family_status_lower'] = data['family_status'].str.lower()\n",
    "display(data.head())"
   ]
  },
  {
   "cell_type": "markdown",
   "id": "68658bd0",
   "metadata": {},
   "source": [
    "<div style=\"background-color: #fff0e0; padding: 10px; font-family: monospace; font-size: 15px\">\n",
    "Проведем повторную проверку данных</div>"
   ]
  },
  {
   "cell_type": "code",
   "execution_count": 26,
   "id": "b70d41b8",
   "metadata": {},
   "outputs": [
    {
     "name": "stdout",
     "output_type": "stream",
     "text": [
      "children\n",
      "[1 0 3 2 4 5]\n",
      "\n",
      "education_lower\n",
      "['высшее' 'среднее' 'неоконченное высшее' 'начальное' 'ученая степень']\n",
      "\n",
      "family_status_lower\n",
      "['женат / замужем' 'гражданский брак' 'вдовец / вдова' 'в разводе'\n",
      " 'не женат / не замужем']\n",
      "\n",
      "gender_lower\n",
      "['f' 'm']\n",
      "\n",
      "purpose_total\n",
      "['недвижимость' 'автомобили' 'образование' 'свадьба']\n",
      "\n"
     ]
    }
   ],
   "source": [
    "data_categorical_list = ['children', 'education_lower', 'family_status_lower', \n",
    "                         'gender_lower', 'purpose_total']\n",
    "\n",
    "for categoria in data_categorical_list:\n",
    "    print(categoria)\n",
    "    print(data[categoria].unique())\n",
    "    print()"
   ]
  },
  {
   "cell_type": "markdown",
   "id": "cf30ede7",
   "metadata": {},
   "source": [
    "#### 1.0.5.3.   Числовые значения – общая проверка"
   ]
  },
  {
   "cell_type": "markdown",
   "id": "b080b7b3",
   "metadata": {},
   "source": [
    "<div style=\"background-color: #fff0e0; padding: 10px; font-family: monospace; font-size: 15px\">\n",
    "Переходим к числовым значениям, проверим их на адекватность</div>"
   ]
  },
  {
   "cell_type": "code",
   "execution_count": 27,
   "id": "63213e30",
   "metadata": {},
   "outputs": [
    {
     "name": "stdout",
     "output_type": "stream",
     "text": [
      "days_employed\n",
      "Минимум: -18388.949900568383\n",
      "Максимум 401755.40047533\n",
      "Среднее 56560.0729182367\n",
      "Медиана -1203.369528770489\n",
      "Ошибок: 0\n",
      "\n",
      "dob_years\n",
      "Минимум: 0\n",
      "Максимум 75\n",
      "Среднее 43.29427615684817\n",
      "Медиана 42.0\n",
      "Ошибок: 0\n",
      "\n",
      "total_income\n",
      "Минимум: 20667.26379327158\n",
      "Максимум 2265604.028722744\n",
      "Среднее 165223.5274577049\n",
      "Медиана 142594.39684740017\n",
      "Ошибок: 0\n",
      "\n",
      "dob_years\n",
      "Минимум: 0\n",
      "Максимум 75\n",
      "Среднее 43.29427615684817\n",
      "Медиана 42.0\n",
      "Ошибок: 0\n",
      "\n",
      "<class 'pandas.core.frame.DataFrame'>\n",
      "Int64Index: 21524 entries, 0 to 21524\n",
      "Data columns (total 3 columns):\n",
      "days_employed    21524 non-null float64\n",
      "dob_years        21524 non-null int64\n",
      "total_income     21524 non-null float64\n",
      "dtypes: float64(2), int64(1)\n",
      "memory usage: 672.6 KB\n"
     ]
    }
   ],
   "source": [
    "digit_values = ['days_employed', 'dob_years', 'total_income', 'dob_years']\n",
    "for column in digit_values:\n",
    "    print(column)\n",
    "    print('Минимум:', data[column].min())\n",
    "    print('Максимум', data[column].max())\n",
    "    print('Среднее', data[column].mean())\n",
    "    print('Медиана', data[column].median())\n",
    "    print('Ошибок:', data[column].isna().sum())\n",
    "    print()\n",
    "\n",
    "data[['days_employed', 'dob_years', 'total_income']].info()"
   ]
  },
  {
   "cell_type": "markdown",
   "id": "31dc9d36",
   "metadata": {},
   "source": [
    "<div style=\"background-color: #fff0e0; padding: 10px; font-family: monospace; font-size: 15px\">\n",
    "Возраст клиентов выглядит не особо прилично, надо с ним разобраться</div>"
   ]
  },
  {
   "cell_type": "markdown",
   "id": "3296d9ea",
   "metadata": {},
   "source": [
    "#### 1.0.5.4.   Возраст клиентов"
   ]
  },
  {
   "cell_type": "markdown",
   "id": "2fd68aa1",
   "metadata": {},
   "source": [
    "<div style=\"background-color: #fff0e0; padding: 10px; font-family: monospace; font-size: 15px\">\n",
    "Выведем все возрасты по возрастанию (неожиданная тавтология)</div>"
   ]
  },
  {
   "cell_type": "code",
   "execution_count": 28,
   "id": "4cfa11d0",
   "metadata": {},
   "outputs": [
    {
     "name": "stdout",
     "output_type": "stream",
     "text": [
      "[0, 19, 20, 21, 22, 23, 24, 25, 26, 27, 28, 29, 30, 31, 32, 33, 34, 35, 36, 37, 38, 39, 40, 41, 42, 43, 44, 45, 46, 47, 48, 49, 50, 51, 52, 53, 54, 55, 56, 57, 58, 59, 60, 61, 62, 63, 64, 65, 66, 67, 68, 69, 70, 71, 72, 73, 74, 75]\n"
     ]
    }
   ],
   "source": [
    "print(sorted(list(data['dob_years'].unique())))"
   ]
  },
  {
   "cell_type": "markdown",
   "id": "a3062c3a",
   "metadata": {},
   "source": [
    "<div style=\"background-color: #fff0e0; padding: 10px; font-family: monospace; font-size: 15px\">\n",
    "Узнаем, сколько у нас 0-летних заемщиков</div>"
   ]
  },
  {
   "cell_type": "code",
   "execution_count": 29,
   "id": "9bdc8f52",
   "metadata": {},
   "outputs": [
    {
     "name": "stdout",
     "output_type": "stream",
     "text": [
      "101\n"
     ]
    }
   ],
   "source": [
    "print(len(data[data.dob_years == 0]))"
   ]
  },
  {
   "cell_type": "markdown",
   "id": "8f2c36a3",
   "metadata": {},
   "source": [
    "<div style=\"background-color: #fff0e0; padding: 10px; font-family: monospace; font-size: 15px\">\n",
    "Немало. Но тут ничего нельзя поделать, узнать, сколько им реально лет не получится, то ли 20, то ли 50... Игнорируем!</div>"
   ]
  },
  {
   "cell_type": "markdown",
   "id": "3bc0cb0d",
   "metadata": {},
   "source": [
    "#### 1.0.5.5.   Изменение days_employed"
   ]
  },
  {
   "cell_type": "markdown",
   "id": "92675c4e-ac04-44c3-a52c-e47ad61acff0",
   "metadata": {},
   "source": [
    "<div style=\"background-color: #fff0e0; padding: 10px; font-family: monospace; font-size: 15px\">\n",
    "Хотел бы я работать отрицательное количество дней, но раз у меня нет такой возможности, лишим ее всех</div>\n",
    "\n",
    "<div style=\"background-color: #fff0e0; padding: 10px; font-family: monospace; font-size: 15px\">\n",
    "Отрицательные значения заменим на положительные, скорее всего ошибка выгрузки, хотя и не факт, но обратиться к грузчикам возможности нет, работаем с тем что есть</div>"
   ]
  },
  {
   "cell_type": "code",
   "execution_count": 30,
   "id": "2ce793fa",
   "metadata": {},
   "outputs": [
    {
     "data": {
      "text/html": [
       "<div>\n",
       "<style scoped>\n",
       "    .dataframe tbody tr th:only-of-type {\n",
       "        vertical-align: middle;\n",
       "    }\n",
       "\n",
       "    .dataframe tbody tr th {\n",
       "        vertical-align: top;\n",
       "    }\n",
       "\n",
       "    .dataframe thead th {\n",
       "        text-align: right;\n",
       "    }\n",
       "</style>\n",
       "<table border=\"1\" class=\"dataframe\">\n",
       "  <thead>\n",
       "    <tr style=\"text-align: right;\">\n",
       "      <th></th>\n",
       "      <th>children</th>\n",
       "      <th>days_employed</th>\n",
       "      <th>dob_years</th>\n",
       "      <th>education</th>\n",
       "      <th>education_id</th>\n",
       "      <th>family_status</th>\n",
       "      <th>family_status_id</th>\n",
       "      <th>gender</th>\n",
       "      <th>income_type</th>\n",
       "      <th>debt</th>\n",
       "      <th>total_income</th>\n",
       "      <th>purpose</th>\n",
       "      <th>education_lower</th>\n",
       "      <th>purpose_total</th>\n",
       "      <th>gender_lower</th>\n",
       "      <th>family_status_lower</th>\n",
       "      <th>days_employed_integer</th>\n",
       "    </tr>\n",
       "  </thead>\n",
       "  <tbody>\n",
       "    <tr>\n",
       "      <td>0</td>\n",
       "      <td>1</td>\n",
       "      <td>-8437.673028</td>\n",
       "      <td>42</td>\n",
       "      <td>высшее</td>\n",
       "      <td>0</td>\n",
       "      <td>женат / замужем</td>\n",
       "      <td>0</td>\n",
       "      <td>F</td>\n",
       "      <td>сотрудник</td>\n",
       "      <td>0</td>\n",
       "      <td>253875.639453</td>\n",
       "      <td>покупка жилья</td>\n",
       "      <td>высшее</td>\n",
       "      <td>недвижимость</td>\n",
       "      <td>f</td>\n",
       "      <td>женат / замужем</td>\n",
       "      <td>8437.673028</td>\n",
       "    </tr>\n",
       "    <tr>\n",
       "      <td>1</td>\n",
       "      <td>1</td>\n",
       "      <td>-4024.803754</td>\n",
       "      <td>36</td>\n",
       "      <td>среднее</td>\n",
       "      <td>1</td>\n",
       "      <td>женат / замужем</td>\n",
       "      <td>0</td>\n",
       "      <td>F</td>\n",
       "      <td>сотрудник</td>\n",
       "      <td>0</td>\n",
       "      <td>112080.014102</td>\n",
       "      <td>приобретение автомобиля</td>\n",
       "      <td>среднее</td>\n",
       "      <td>автомобили</td>\n",
       "      <td>f</td>\n",
       "      <td>женат / замужем</td>\n",
       "      <td>4024.803754</td>\n",
       "    </tr>\n",
       "    <tr>\n",
       "      <td>2</td>\n",
       "      <td>0</td>\n",
       "      <td>-5623.422610</td>\n",
       "      <td>33</td>\n",
       "      <td>Среднее</td>\n",
       "      <td>1</td>\n",
       "      <td>женат / замужем</td>\n",
       "      <td>0</td>\n",
       "      <td>M</td>\n",
       "      <td>сотрудник</td>\n",
       "      <td>0</td>\n",
       "      <td>145885.952297</td>\n",
       "      <td>покупка жилья</td>\n",
       "      <td>среднее</td>\n",
       "      <td>недвижимость</td>\n",
       "      <td>m</td>\n",
       "      <td>женат / замужем</td>\n",
       "      <td>5623.422610</td>\n",
       "    </tr>\n",
       "    <tr>\n",
       "      <td>3</td>\n",
       "      <td>3</td>\n",
       "      <td>-4124.747207</td>\n",
       "      <td>32</td>\n",
       "      <td>среднее</td>\n",
       "      <td>1</td>\n",
       "      <td>женат / замужем</td>\n",
       "      <td>0</td>\n",
       "      <td>M</td>\n",
       "      <td>сотрудник</td>\n",
       "      <td>0</td>\n",
       "      <td>267628.550329</td>\n",
       "      <td>дополнительное образование</td>\n",
       "      <td>среднее</td>\n",
       "      <td>образование</td>\n",
       "      <td>m</td>\n",
       "      <td>женат / замужем</td>\n",
       "      <td>4124.747207</td>\n",
       "    </tr>\n",
       "    <tr>\n",
       "      <td>4</td>\n",
       "      <td>0</td>\n",
       "      <td>340266.072047</td>\n",
       "      <td>53</td>\n",
       "      <td>среднее</td>\n",
       "      <td>1</td>\n",
       "      <td>гражданский брак</td>\n",
       "      <td>1</td>\n",
       "      <td>F</td>\n",
       "      <td>пенсионер</td>\n",
       "      <td>0</td>\n",
       "      <td>158616.077870</td>\n",
       "      <td>сыграть свадьбу</td>\n",
       "      <td>среднее</td>\n",
       "      <td>свадьба</td>\n",
       "      <td>f</td>\n",
       "      <td>гражданский брак</td>\n",
       "      <td>340266.072047</td>\n",
       "    </tr>\n",
       "  </tbody>\n",
       "</table>\n",
       "</div>"
      ],
      "text/plain": [
       "   children  days_employed  dob_years education  education_id  \\\n",
       "0         1   -8437.673028         42    высшее             0   \n",
       "1         1   -4024.803754         36   среднее             1   \n",
       "2         0   -5623.422610         33   Среднее             1   \n",
       "3         3   -4124.747207         32   среднее             1   \n",
       "4         0  340266.072047         53   среднее             1   \n",
       "\n",
       "      family_status  family_status_id gender income_type  debt   total_income  \\\n",
       "0   женат / замужем                 0      F   сотрудник     0  253875.639453   \n",
       "1   женат / замужем                 0      F   сотрудник     0  112080.014102   \n",
       "2   женат / замужем                 0      M   сотрудник     0  145885.952297   \n",
       "3   женат / замужем                 0      M   сотрудник     0  267628.550329   \n",
       "4  гражданский брак                 1      F   пенсионер     0  158616.077870   \n",
       "\n",
       "                      purpose education_lower purpose_total gender_lower  \\\n",
       "0               покупка жилья          высшее  недвижимость            f   \n",
       "1     приобретение автомобиля         среднее    автомобили            f   \n",
       "2               покупка жилья         среднее  недвижимость            m   \n",
       "3  дополнительное образование         среднее   образование            m   \n",
       "4             сыграть свадьбу         среднее       свадьба            f   \n",
       "\n",
       "  family_status_lower  days_employed_integer  \n",
       "0     женат / замужем            8437.673028  \n",
       "1     женат / замужем            4024.803754  \n",
       "2     женат / замужем            5623.422610  \n",
       "3     женат / замужем            4124.747207  \n",
       "4    гражданский брак          340266.072047  "
      ]
     },
     "metadata": {},
     "output_type": "display_data"
    }
   ],
   "source": [
    "# как обычно – спасает apply, int спокойно вернет отрицательное\n",
    "data['days_employed_integer'] = data['days_employed'].apply(abs)\n",
    "display(data.head())"
   ]
  },
  {
   "cell_type": "markdown",
   "id": "bb837ef0",
   "metadata": {},
   "source": [
    "<div style=\"background-color: #fff0e0; padding: 10px; font-family: monospace; font-size: 15px\">\n",
    "Похоже, тут все неплохо, посмотрим снова</div>"
   ]
  },
  {
   "cell_type": "code",
   "execution_count": 31,
   "id": "fdcb1bfa",
   "metadata": {},
   "outputs": [
    {
     "name": "stdout",
     "output_type": "stream",
     "text": [
      "days_employed_integer\n",
      "Минимум: 24.14163324048118\n",
      "Максимум 401755.40047533\n",
      "Среднее 60280.6488492364\n",
      "Медиана 1807.8486042866098\n"
     ]
    }
   ],
   "source": [
    "column = 'days_employed_integer'\n",
    "print(column)\n",
    "print('Минимум:', data[column].min())\n",
    "print('Максимум', data[column].max())\n",
    "print('Среднее', data[column].mean())\n",
    "print('Медиана', data[column].median())"
   ]
  },
  {
   "cell_type": "code",
   "execution_count": 32,
   "id": "672b6696",
   "metadata": {},
   "outputs": [
    {
     "name": "stdout",
     "output_type": "stream",
     "text": [
      "401755 дней в годах это ~ 1100 лет\n"
     ]
    }
   ],
   "source": [
    "print(\"401755 дней в годах это ~\", int(401755 / 365), 'лет')"
   ]
  },
  {
   "cell_type": "code",
   "execution_count": 33,
   "id": "a3426f97",
   "metadata": {},
   "outputs": [
    {
     "data": {
      "text/html": [
       "<div>\n",
       "<style scoped>\n",
       "    .dataframe tbody tr th:only-of-type {\n",
       "        vertical-align: middle;\n",
       "    }\n",
       "\n",
       "    .dataframe tbody tr th {\n",
       "        vertical-align: top;\n",
       "    }\n",
       "\n",
       "    .dataframe thead th {\n",
       "        text-align: right;\n",
       "    }\n",
       "</style>\n",
       "<table border=\"1\" class=\"dataframe\">\n",
       "  <thead>\n",
       "    <tr style=\"text-align: right;\">\n",
       "      <th></th>\n",
       "      <th>children</th>\n",
       "      <th>days_employed</th>\n",
       "      <th>dob_years</th>\n",
       "      <th>education</th>\n",
       "      <th>education_id</th>\n",
       "      <th>family_status</th>\n",
       "      <th>family_status_id</th>\n",
       "      <th>gender</th>\n",
       "      <th>income_type</th>\n",
       "      <th>debt</th>\n",
       "      <th>total_income</th>\n",
       "      <th>purpose</th>\n",
       "      <th>education_lower</th>\n",
       "      <th>purpose_total</th>\n",
       "      <th>gender_lower</th>\n",
       "      <th>family_status_lower</th>\n",
       "      <th>days_employed_integer</th>\n",
       "    </tr>\n",
       "  </thead>\n",
       "  <tbody>\n",
       "    <tr>\n",
       "      <td>8369</td>\n",
       "      <td>0</td>\n",
       "      <td>401590.452231</td>\n",
       "      <td>58</td>\n",
       "      <td>среднее</td>\n",
       "      <td>1</td>\n",
       "      <td>женат / замужем</td>\n",
       "      <td>0</td>\n",
       "      <td>F</td>\n",
       "      <td>пенсионер</td>\n",
       "      <td>0</td>\n",
       "      <td>175306.312902</td>\n",
       "      <td>образование</td>\n",
       "      <td>среднее</td>\n",
       "      <td>образование</td>\n",
       "      <td>f</td>\n",
       "      <td>женат / замужем</td>\n",
       "      <td>401590.452231</td>\n",
       "    </tr>\n",
       "    <tr>\n",
       "      <td>10991</td>\n",
       "      <td>0</td>\n",
       "      <td>401591.828457</td>\n",
       "      <td>56</td>\n",
       "      <td>среднее</td>\n",
       "      <td>1</td>\n",
       "      <td>в разводе</td>\n",
       "      <td>3</td>\n",
       "      <td>F</td>\n",
       "      <td>пенсионер</td>\n",
       "      <td>0</td>\n",
       "      <td>39513.517543</td>\n",
       "      <td>получение дополнительного образования</td>\n",
       "      <td>среднее</td>\n",
       "      <td>образование</td>\n",
       "      <td>f</td>\n",
       "      <td>в разводе</td>\n",
       "      <td>401591.828457</td>\n",
       "    </tr>\n",
       "    <tr>\n",
       "      <td>17823</td>\n",
       "      <td>0</td>\n",
       "      <td>401614.475622</td>\n",
       "      <td>59</td>\n",
       "      <td>среднее</td>\n",
       "      <td>1</td>\n",
       "      <td>женат / замужем</td>\n",
       "      <td>0</td>\n",
       "      <td>F</td>\n",
       "      <td>пенсионер</td>\n",
       "      <td>0</td>\n",
       "      <td>152769.694536</td>\n",
       "      <td>покупка жилья для сдачи</td>\n",
       "      <td>среднее</td>\n",
       "      <td>недвижимость</td>\n",
       "      <td>f</td>\n",
       "      <td>женат / замужем</td>\n",
       "      <td>401614.475622</td>\n",
       "    </tr>\n",
       "    <tr>\n",
       "      <td>13420</td>\n",
       "      <td>0</td>\n",
       "      <td>401619.633298</td>\n",
       "      <td>63</td>\n",
       "      <td>Среднее</td>\n",
       "      <td>1</td>\n",
       "      <td>гражданский брак</td>\n",
       "      <td>1</td>\n",
       "      <td>F</td>\n",
       "      <td>пенсионер</td>\n",
       "      <td>0</td>\n",
       "      <td>51449.788325</td>\n",
       "      <td>сыграть свадьбу</td>\n",
       "      <td>среднее</td>\n",
       "      <td>свадьба</td>\n",
       "      <td>f</td>\n",
       "      <td>гражданский брак</td>\n",
       "      <td>401619.633298</td>\n",
       "    </tr>\n",
       "    <tr>\n",
       "      <td>4697</td>\n",
       "      <td>0</td>\n",
       "      <td>401635.032697</td>\n",
       "      <td>56</td>\n",
       "      <td>среднее</td>\n",
       "      <td>1</td>\n",
       "      <td>женат / замужем</td>\n",
       "      <td>0</td>\n",
       "      <td>F</td>\n",
       "      <td>пенсионер</td>\n",
       "      <td>0</td>\n",
       "      <td>48242.322502</td>\n",
       "      <td>покупка недвижимости</td>\n",
       "      <td>среднее</td>\n",
       "      <td>недвижимость</td>\n",
       "      <td>f</td>\n",
       "      <td>женат / замужем</td>\n",
       "      <td>401635.032697</td>\n",
       "    </tr>\n",
       "    <tr>\n",
       "      <td>7794</td>\n",
       "      <td>0</td>\n",
       "      <td>401663.850046</td>\n",
       "      <td>61</td>\n",
       "      <td>среднее</td>\n",
       "      <td>1</td>\n",
       "      <td>гражданский брак</td>\n",
       "      <td>1</td>\n",
       "      <td>F</td>\n",
       "      <td>пенсионер</td>\n",
       "      <td>0</td>\n",
       "      <td>48286.441362</td>\n",
       "      <td>свадьба</td>\n",
       "      <td>среднее</td>\n",
       "      <td>свадьба</td>\n",
       "      <td>f</td>\n",
       "      <td>гражданский брак</td>\n",
       "      <td>401663.850046</td>\n",
       "    </tr>\n",
       "    <tr>\n",
       "      <td>2156</td>\n",
       "      <td>0</td>\n",
       "      <td>401674.466633</td>\n",
       "      <td>60</td>\n",
       "      <td>среднее</td>\n",
       "      <td>1</td>\n",
       "      <td>женат / замужем</td>\n",
       "      <td>0</td>\n",
       "      <td>M</td>\n",
       "      <td>пенсионер</td>\n",
       "      <td>0</td>\n",
       "      <td>325395.724541</td>\n",
       "      <td>автомобили</td>\n",
       "      <td>среднее</td>\n",
       "      <td>автомобили</td>\n",
       "      <td>m</td>\n",
       "      <td>женат / замужем</td>\n",
       "      <td>401674.466633</td>\n",
       "    </tr>\n",
       "    <tr>\n",
       "      <td>7664</td>\n",
       "      <td>1</td>\n",
       "      <td>401675.093434</td>\n",
       "      <td>61</td>\n",
       "      <td>среднее</td>\n",
       "      <td>1</td>\n",
       "      <td>женат / замужем</td>\n",
       "      <td>0</td>\n",
       "      <td>F</td>\n",
       "      <td>пенсионер</td>\n",
       "      <td>0</td>\n",
       "      <td>126214.519212</td>\n",
       "      <td>операции с жильем</td>\n",
       "      <td>среднее</td>\n",
       "      <td>недвижимость</td>\n",
       "      <td>f</td>\n",
       "      <td>женат / замужем</td>\n",
       "      <td>401675.093434</td>\n",
       "    </tr>\n",
       "    <tr>\n",
       "      <td>10006</td>\n",
       "      <td>0</td>\n",
       "      <td>401715.811749</td>\n",
       "      <td>69</td>\n",
       "      <td>высшее</td>\n",
       "      <td>0</td>\n",
       "      <td>Не женат / не замужем</td>\n",
       "      <td>4</td>\n",
       "      <td>F</td>\n",
       "      <td>пенсионер</td>\n",
       "      <td>0</td>\n",
       "      <td>57390.256908</td>\n",
       "      <td>получение образования</td>\n",
       "      <td>высшее</td>\n",
       "      <td>образование</td>\n",
       "      <td>f</td>\n",
       "      <td>не женат / не замужем</td>\n",
       "      <td>401715.811749</td>\n",
       "    </tr>\n",
       "    <tr>\n",
       "      <td>6954</td>\n",
       "      <td>0</td>\n",
       "      <td>401755.400475</td>\n",
       "      <td>56</td>\n",
       "      <td>среднее</td>\n",
       "      <td>1</td>\n",
       "      <td>вдовец / вдова</td>\n",
       "      <td>2</td>\n",
       "      <td>F</td>\n",
       "      <td>пенсионер</td>\n",
       "      <td>0</td>\n",
       "      <td>176278.441171</td>\n",
       "      <td>ремонт жилью</td>\n",
       "      <td>среднее</td>\n",
       "      <td>недвижимость</td>\n",
       "      <td>f</td>\n",
       "      <td>вдовец / вдова</td>\n",
       "      <td>401755.400475</td>\n",
       "    </tr>\n",
       "  </tbody>\n",
       "</table>\n",
       "</div>"
      ],
      "text/plain": [
       "       children  days_employed  dob_years education  education_id  \\\n",
       "8369          0  401590.452231         58   среднее             1   \n",
       "10991         0  401591.828457         56   среднее             1   \n",
       "17823         0  401614.475622         59   среднее             1   \n",
       "13420         0  401619.633298         63   Среднее             1   \n",
       "4697          0  401635.032697         56   среднее             1   \n",
       "7794          0  401663.850046         61   среднее             1   \n",
       "2156          0  401674.466633         60   среднее             1   \n",
       "7664          1  401675.093434         61   среднее             1   \n",
       "10006         0  401715.811749         69    высшее             0   \n",
       "6954          0  401755.400475         56   среднее             1   \n",
       "\n",
       "               family_status  family_status_id gender income_type  debt  \\\n",
       "8369         женат / замужем                 0      F   пенсионер     0   \n",
       "10991              в разводе                 3      F   пенсионер     0   \n",
       "17823        женат / замужем                 0      F   пенсионер     0   \n",
       "13420       гражданский брак                 1      F   пенсионер     0   \n",
       "4697         женат / замужем                 0      F   пенсионер     0   \n",
       "7794        гражданский брак                 1      F   пенсионер     0   \n",
       "2156         женат / замужем                 0      M   пенсионер     0   \n",
       "7664         женат / замужем                 0      F   пенсионер     0   \n",
       "10006  Не женат / не замужем                 4      F   пенсионер     0   \n",
       "6954          вдовец / вдова                 2      F   пенсионер     0   \n",
       "\n",
       "        total_income                                purpose education_lower  \\\n",
       "8369   175306.312902                            образование         среднее   \n",
       "10991   39513.517543  получение дополнительного образования         среднее   \n",
       "17823  152769.694536                покупка жилья для сдачи         среднее   \n",
       "13420   51449.788325                        сыграть свадьбу         среднее   \n",
       "4697    48242.322502                   покупка недвижимости         среднее   \n",
       "7794    48286.441362                                свадьба         среднее   \n",
       "2156   325395.724541                             автомобили         среднее   \n",
       "7664   126214.519212                      операции с жильем         среднее   \n",
       "10006   57390.256908                  получение образования          высшее   \n",
       "6954   176278.441171                           ремонт жилью         среднее   \n",
       "\n",
       "      purpose_total gender_lower    family_status_lower  days_employed_integer  \n",
       "8369    образование            f        женат / замужем          401590.452231  \n",
       "10991   образование            f              в разводе          401591.828457  \n",
       "17823  недвижимость            f        женат / замужем          401614.475622  \n",
       "13420       свадьба            f       гражданский брак          401619.633298  \n",
       "4697   недвижимость            f        женат / замужем          401635.032697  \n",
       "7794        свадьба            f       гражданский брак          401663.850046  \n",
       "2156     автомобили            m        женат / замужем          401674.466633  \n",
       "7664   недвижимость            f        женат / замужем          401675.093434  \n",
       "10006   образование            f  не женат / не замужем          401715.811749  \n",
       "6954   недвижимость            f         вдовец / вдова          401755.400475  "
      ]
     },
     "metadata": {},
     "output_type": "display_data"
    }
   ],
   "source": [
    "display(data.sort_values(by='days_employed_integer').tail(10))"
   ]
  },
  {
   "cell_type": "markdown",
   "id": "e5bf7390-8b7a-49f1-9443-4e4f1b814604",
   "metadata": {},
   "source": [
    "<div style=\"background-color: #fff0e0; padding: 10px; font-family: monospace; font-size: 15px\">\n",
    "И такая ситуация не одна, людей буквально держат в вечном рабстве и пора это исправить</div>\n",
    "\n",
    "<div style=\"background-color: #fff0e0; padding: 10px; font-family: monospace; font-size: 15px\">\n",
    "Есть подозрение, что 1100 лет это на самом деле 11 лет, но мы попробуем исхитриться и оставить только тех, кто работает дольше своей жизни после 18 лет</div>"
   ]
  },
  {
   "cell_type": "code",
   "execution_count": 34,
   "id": "d9ccecad",
   "metadata": {},
   "outputs": [
    {
     "name": "stdout",
     "output_type": "stream",
     "text": [
      "3529\n"
     ]
    },
    {
     "data": {
      "text/html": [
       "<div>\n",
       "<style scoped>\n",
       "    .dataframe tbody tr th:only-of-type {\n",
       "        vertical-align: middle;\n",
       "    }\n",
       "\n",
       "    .dataframe tbody tr th {\n",
       "        vertical-align: top;\n",
       "    }\n",
       "\n",
       "    .dataframe thead th {\n",
       "        text-align: right;\n",
       "    }\n",
       "</style>\n",
       "<table border=\"1\" class=\"dataframe\">\n",
       "  <thead>\n",
       "    <tr style=\"text-align: right;\">\n",
       "      <th></th>\n",
       "      <th>children</th>\n",
       "      <th>days_employed</th>\n",
       "      <th>dob_years</th>\n",
       "      <th>education</th>\n",
       "      <th>education_id</th>\n",
       "      <th>family_status</th>\n",
       "      <th>family_status_id</th>\n",
       "      <th>gender</th>\n",
       "      <th>income_type</th>\n",
       "      <th>debt</th>\n",
       "      <th>total_income</th>\n",
       "      <th>purpose</th>\n",
       "      <th>education_lower</th>\n",
       "      <th>purpose_total</th>\n",
       "      <th>gender_lower</th>\n",
       "      <th>family_status_lower</th>\n",
       "      <th>days_employed_integer</th>\n",
       "    </tr>\n",
       "  </thead>\n",
       "  <tbody>\n",
       "    <tr>\n",
       "      <td>4</td>\n",
       "      <td>0</td>\n",
       "      <td>340266.072047</td>\n",
       "      <td>53</td>\n",
       "      <td>среднее</td>\n",
       "      <td>1</td>\n",
       "      <td>гражданский брак</td>\n",
       "      <td>1</td>\n",
       "      <td>F</td>\n",
       "      <td>пенсионер</td>\n",
       "      <td>0</td>\n",
       "      <td>158616.077870</td>\n",
       "      <td>сыграть свадьбу</td>\n",
       "      <td>среднее</td>\n",
       "      <td>свадьба</td>\n",
       "      <td>f</td>\n",
       "      <td>гражданский брак</td>\n",
       "      <td>340266.072047</td>\n",
       "    </tr>\n",
       "    <tr>\n",
       "      <td>18</td>\n",
       "      <td>0</td>\n",
       "      <td>400281.136913</td>\n",
       "      <td>53</td>\n",
       "      <td>среднее</td>\n",
       "      <td>1</td>\n",
       "      <td>вдовец / вдова</td>\n",
       "      <td>2</td>\n",
       "      <td>F</td>\n",
       "      <td>пенсионер</td>\n",
       "      <td>0</td>\n",
       "      <td>56823.777243</td>\n",
       "      <td>на покупку подержанного автомобиля</td>\n",
       "      <td>среднее</td>\n",
       "      <td>автомобили</td>\n",
       "      <td>f</td>\n",
       "      <td>вдовец / вдова</td>\n",
       "      <td>400281.136913</td>\n",
       "    </tr>\n",
       "    <tr>\n",
       "      <td>24</td>\n",
       "      <td>1</td>\n",
       "      <td>338551.952911</td>\n",
       "      <td>57</td>\n",
       "      <td>среднее</td>\n",
       "      <td>1</td>\n",
       "      <td>Не женат / не замужем</td>\n",
       "      <td>4</td>\n",
       "      <td>F</td>\n",
       "      <td>пенсионер</td>\n",
       "      <td>0</td>\n",
       "      <td>290547.235997</td>\n",
       "      <td>операции с коммерческой недвижимостью</td>\n",
       "      <td>среднее</td>\n",
       "      <td>недвижимость</td>\n",
       "      <td>f</td>\n",
       "      <td>не женат / не замужем</td>\n",
       "      <td>338551.952911</td>\n",
       "    </tr>\n",
       "    <tr>\n",
       "      <td>25</td>\n",
       "      <td>0</td>\n",
       "      <td>363548.489348</td>\n",
       "      <td>67</td>\n",
       "      <td>среднее</td>\n",
       "      <td>1</td>\n",
       "      <td>женат / замужем</td>\n",
       "      <td>0</td>\n",
       "      <td>M</td>\n",
       "      <td>пенсионер</td>\n",
       "      <td>0</td>\n",
       "      <td>55112.757732</td>\n",
       "      <td>покупка недвижимости</td>\n",
       "      <td>среднее</td>\n",
       "      <td>недвижимость</td>\n",
       "      <td>m</td>\n",
       "      <td>женат / замужем</td>\n",
       "      <td>363548.489348</td>\n",
       "    </tr>\n",
       "    <tr>\n",
       "      <td>30</td>\n",
       "      <td>1</td>\n",
       "      <td>335581.668515</td>\n",
       "      <td>62</td>\n",
       "      <td>среднее</td>\n",
       "      <td>1</td>\n",
       "      <td>женат / замужем</td>\n",
       "      <td>0</td>\n",
       "      <td>F</td>\n",
       "      <td>пенсионер</td>\n",
       "      <td>0</td>\n",
       "      <td>171456.067993</td>\n",
       "      <td>операции с коммерческой недвижимостью</td>\n",
       "      <td>среднее</td>\n",
       "      <td>недвижимость</td>\n",
       "      <td>f</td>\n",
       "      <td>женат / замужем</td>\n",
       "      <td>335581.668515</td>\n",
       "    </tr>\n",
       "    <tr>\n",
       "      <td>35</td>\n",
       "      <td>0</td>\n",
       "      <td>394021.072184</td>\n",
       "      <td>68</td>\n",
       "      <td>среднее</td>\n",
       "      <td>1</td>\n",
       "      <td>гражданский брак</td>\n",
       "      <td>1</td>\n",
       "      <td>M</td>\n",
       "      <td>пенсионер</td>\n",
       "      <td>0</td>\n",
       "      <td>77805.677436</td>\n",
       "      <td>на проведение свадьбы</td>\n",
       "      <td>среднее</td>\n",
       "      <td>свадьба</td>\n",
       "      <td>m</td>\n",
       "      <td>гражданский брак</td>\n",
       "      <td>394021.072184</td>\n",
       "    </tr>\n",
       "    <tr>\n",
       "      <td>50</td>\n",
       "      <td>0</td>\n",
       "      <td>353731.432338</td>\n",
       "      <td>63</td>\n",
       "      <td>среднее</td>\n",
       "      <td>1</td>\n",
       "      <td>женат / замужем</td>\n",
       "      <td>0</td>\n",
       "      <td>F</td>\n",
       "      <td>пенсионер</td>\n",
       "      <td>0</td>\n",
       "      <td>92342.730612</td>\n",
       "      <td>автомобили</td>\n",
       "      <td>среднее</td>\n",
       "      <td>автомобили</td>\n",
       "      <td>f</td>\n",
       "      <td>женат / замужем</td>\n",
       "      <td>353731.432338</td>\n",
       "    </tr>\n",
       "    <tr>\n",
       "      <td>56</td>\n",
       "      <td>0</td>\n",
       "      <td>370145.087237</td>\n",
       "      <td>64</td>\n",
       "      <td>среднее</td>\n",
       "      <td>1</td>\n",
       "      <td>вдовец / вдова</td>\n",
       "      <td>2</td>\n",
       "      <td>F</td>\n",
       "      <td>пенсионер</td>\n",
       "      <td>0</td>\n",
       "      <td>149141.043533</td>\n",
       "      <td>образование</td>\n",
       "      <td>среднее</td>\n",
       "      <td>образование</td>\n",
       "      <td>f</td>\n",
       "      <td>вдовец / вдова</td>\n",
       "      <td>370145.087237</td>\n",
       "    </tr>\n",
       "    <tr>\n",
       "      <td>71</td>\n",
       "      <td>0</td>\n",
       "      <td>338113.529892</td>\n",
       "      <td>62</td>\n",
       "      <td>среднее</td>\n",
       "      <td>1</td>\n",
       "      <td>женат / замужем</td>\n",
       "      <td>0</td>\n",
       "      <td>F</td>\n",
       "      <td>пенсионер</td>\n",
       "      <td>0</td>\n",
       "      <td>43929.696397</td>\n",
       "      <td>автомобили</td>\n",
       "      <td>среднее</td>\n",
       "      <td>автомобили</td>\n",
       "      <td>f</td>\n",
       "      <td>женат / замужем</td>\n",
       "      <td>338113.529892</td>\n",
       "    </tr>\n",
       "    <tr>\n",
       "      <td>78</td>\n",
       "      <td>0</td>\n",
       "      <td>359722.945074</td>\n",
       "      <td>61</td>\n",
       "      <td>высшее</td>\n",
       "      <td>0</td>\n",
       "      <td>женат / замужем</td>\n",
       "      <td>0</td>\n",
       "      <td>M</td>\n",
       "      <td>пенсионер</td>\n",
       "      <td>0</td>\n",
       "      <td>175127.646000</td>\n",
       "      <td>сделка с автомобилем</td>\n",
       "      <td>высшее</td>\n",
       "      <td>автомобили</td>\n",
       "      <td>m</td>\n",
       "      <td>женат / замужем</td>\n",
       "      <td>359722.945074</td>\n",
       "    </tr>\n",
       "  </tbody>\n",
       "</table>\n",
       "</div>"
      ],
      "text/plain": [
       "    children  days_employed  dob_years education  education_id  \\\n",
       "4          0  340266.072047         53   среднее             1   \n",
       "18         0  400281.136913         53   среднее             1   \n",
       "24         1  338551.952911         57   среднее             1   \n",
       "25         0  363548.489348         67   среднее             1   \n",
       "30         1  335581.668515         62   среднее             1   \n",
       "35         0  394021.072184         68   среднее             1   \n",
       "50         0  353731.432338         63   среднее             1   \n",
       "56         0  370145.087237         64   среднее             1   \n",
       "71         0  338113.529892         62   среднее             1   \n",
       "78         0  359722.945074         61    высшее             0   \n",
       "\n",
       "            family_status  family_status_id gender income_type  debt  \\\n",
       "4        гражданский брак                 1      F   пенсионер     0   \n",
       "18         вдовец / вдова                 2      F   пенсионер     0   \n",
       "24  Не женат / не замужем                 4      F   пенсионер     0   \n",
       "25        женат / замужем                 0      M   пенсионер     0   \n",
       "30        женат / замужем                 0      F   пенсионер     0   \n",
       "35       гражданский брак                 1      M   пенсионер     0   \n",
       "50        женат / замужем                 0      F   пенсионер     0   \n",
       "56         вдовец / вдова                 2      F   пенсионер     0   \n",
       "71        женат / замужем                 0      F   пенсионер     0   \n",
       "78        женат / замужем                 0      M   пенсионер     0   \n",
       "\n",
       "     total_income                                purpose education_lower  \\\n",
       "4   158616.077870                        сыграть свадьбу         среднее   \n",
       "18   56823.777243     на покупку подержанного автомобиля         среднее   \n",
       "24  290547.235997  операции с коммерческой недвижимостью         среднее   \n",
       "25   55112.757732                   покупка недвижимости         среднее   \n",
       "30  171456.067993  операции с коммерческой недвижимостью         среднее   \n",
       "35   77805.677436                  на проведение свадьбы         среднее   \n",
       "50   92342.730612                             автомобили         среднее   \n",
       "56  149141.043533                            образование         среднее   \n",
       "71   43929.696397                             автомобили         среднее   \n",
       "78  175127.646000                   сделка с автомобилем          высшее   \n",
       "\n",
       "   purpose_total gender_lower    family_status_lower  days_employed_integer  \n",
       "4        свадьба            f       гражданский брак          340266.072047  \n",
       "18    автомобили            f         вдовец / вдова          400281.136913  \n",
       "24  недвижимость            f  не женат / не замужем          338551.952911  \n",
       "25  недвижимость            m        женат / замужем          363548.489348  \n",
       "30  недвижимость            f        женат / замужем          335581.668515  \n",
       "35       свадьба            m       гражданский брак          394021.072184  \n",
       "50    автомобили            f        женат / замужем          353731.432338  \n",
       "56   образование            f         вдовец / вдова          370145.087237  \n",
       "71    автомобили            f        женат / замужем          338113.529892  \n",
       "78    автомобили            m        женат / замужем          359722.945074  "
      ]
     },
     "metadata": {},
     "output_type": "display_data"
    }
   ],
   "source": [
    "data_zombie = data[data['days_employed_integer'] / 365 > data['dob_years']]\n",
    "print(len(data_zombie['dob_years']))\n",
    "display(data_zombie.head(10))"
   ]
  },
  {
   "cell_type": "markdown",
   "id": "c164714c",
   "metadata": {},
   "source": [
    "<div style=\"background-color: #fff0e0; padding: 10px; font-family: monospace; font-size: 15px\">\n",
    "Пять с половиной тысяч несчастных, надо узнать, на сколько они переработали</div>"
   ]
  },
  {
   "cell_type": "code",
   "execution_count": 35,
   "id": "509a8df7",
   "metadata": {},
   "outputs": [
    {
     "data": {
      "text/plain": [
       "4      879\n",
       "18    1043\n",
       "24     870\n",
       "25     929\n",
       "30     857\n",
       "dtype: int64"
      ]
     },
     "metadata": {},
     "output_type": "display_data"
    }
   ],
   "source": [
    "def pererabotka(row):\n",
    "    return int(row['days_employed_integer'] / 365) - row['dob_years']\n",
    "\n",
    "hight_work = data_zombie.apply(pererabotka, axis=1)\n",
    "display(hight_work.head())"
   ]
  },
  {
   "cell_type": "markdown",
   "id": "96ea5a46",
   "metadata": {},
   "source": [
    "<div style=\"background-color: #fff0e0; padding: 10px; font-family: monospace; font-size: 15px\">\n",
    "Немало, узначем чуть глубже</div>"
   ]
  },
  {
   "cell_type": "code",
   "execution_count": 36,
   "id": "b6051ec7",
   "metadata": {},
   "outputs": [
    {
     "name": "stdout",
     "output_type": "stream",
     "text": [
      "Минимум: 0\n",
      "Максимум 1098\n",
      "Среднее 918.1320487390195\n",
      "Медиана 937.0\n"
     ]
    }
   ],
   "source": [
    "print('Минимум:', hight_work.min())\n",
    "print('Максимум', hight_work.max())\n",
    "print('Среднее', hight_work.mean())\n",
    "print('Медиана', hight_work.median())"
   ]
  },
  {
   "cell_type": "markdown",
   "id": "77ca9560-8ef6-42f2-b080-3a442f608027",
   "metadata": {},
   "source": [
    "<div style=\"background-color: #fff0e0; padding: 10px; font-family: monospace; font-size: 15px\">\n",
    "В целом, можно стандартно заменить средними значениями</div>\n",
    "\n",
    "<div style=\"background-color: #fff0e0; padding: 10px; font-family: monospace; font-size: 15px\">\n",
    "Возвращаем справедливость</div>"
   ]
  },
  {
   "cell_type": "code",
   "execution_count": 37,
   "id": "4460d907",
   "metadata": {},
   "outputs": [
    {
     "name": "stdout",
     "output_type": "stream",
     "text": [
      "days_employed_integer\n",
      "Минимум: 24.14163324048118\n",
      "Максимум 18388.949900568383\n",
      "Среднее 2215.391868119628\n",
      "Медиана 1347.6449313585415\n"
     ]
    }
   ],
   "source": [
    "data_mean = data[data['days_employed_integer'] / 365 < data['dob_years']].mean()\n",
    "data.loc[(data['days_employed_integer'] / 365 > data['dob_years']), 'days_employed_integer'] = data_mean\n",
    "\n",
    "column = 'days_employed_integer'\n",
    "print(column)\n",
    "print('Минимум:', data[column].min())\n",
    "print('Максимум', data[column].max())\n",
    "print('Среднее', data[column].mean())\n",
    "print('Медиана', data[column].median())"
   ]
  },
  {
   "cell_type": "code",
   "execution_count": 38,
   "id": "867caf63",
   "metadata": {},
   "outputs": [
    {
     "name": "stdout",
     "output_type": "stream",
     "text": [
      "18388 дней в годах это ~ 50 лет\n"
     ]
    }
   ],
   "source": [
    "print(\"18388 дней в годах это ~\", int(18388 / 365), 'лет')"
   ]
  },
  {
   "cell_type": "code",
   "execution_count": 39,
   "id": "186749ac",
   "metadata": {},
   "outputs": [
    {
     "data": {
      "text/html": [
       "<div>\n",
       "<style scoped>\n",
       "    .dataframe tbody tr th:only-of-type {\n",
       "        vertical-align: middle;\n",
       "    }\n",
       "\n",
       "    .dataframe tbody tr th {\n",
       "        vertical-align: top;\n",
       "    }\n",
       "\n",
       "    .dataframe thead th {\n",
       "        text-align: right;\n",
       "    }\n",
       "</style>\n",
       "<table border=\"1\" class=\"dataframe\">\n",
       "  <thead>\n",
       "    <tr style=\"text-align: right;\">\n",
       "      <th></th>\n",
       "      <th>children</th>\n",
       "      <th>days_employed</th>\n",
       "      <th>dob_years</th>\n",
       "      <th>education</th>\n",
       "      <th>education_id</th>\n",
       "      <th>family_status</th>\n",
       "      <th>family_status_id</th>\n",
       "      <th>gender</th>\n",
       "      <th>income_type</th>\n",
       "      <th>debt</th>\n",
       "      <th>total_income</th>\n",
       "      <th>purpose</th>\n",
       "      <th>education_lower</th>\n",
       "      <th>purpose_total</th>\n",
       "      <th>gender_lower</th>\n",
       "      <th>family_status_lower</th>\n",
       "      <th>days_employed_integer</th>\n",
       "    </tr>\n",
       "  </thead>\n",
       "  <tbody>\n",
       "    <tr>\n",
       "      <td>16335</td>\n",
       "      <td>1</td>\n",
       "      <td>-18388.949901</td>\n",
       "      <td>61</td>\n",
       "      <td>среднее</td>\n",
       "      <td>1</td>\n",
       "      <td>женат / замужем</td>\n",
       "      <td>0</td>\n",
       "      <td>F</td>\n",
       "      <td>сотрудник</td>\n",
       "      <td>0</td>\n",
       "      <td>186178.934089</td>\n",
       "      <td>операции с недвижимостью</td>\n",
       "      <td>среднее</td>\n",
       "      <td>недвижимость</td>\n",
       "      <td>f</td>\n",
       "      <td>женат / замужем</td>\n",
       "      <td>18388.949901</td>\n",
       "    </tr>\n",
       "  </tbody>\n",
       "</table>\n",
       "</div>"
      ],
      "text/plain": [
       "       children  days_employed  dob_years education  education_id  \\\n",
       "16335         1  -18388.949901         61   среднее             1   \n",
       "\n",
       "         family_status  family_status_id gender income_type  debt  \\\n",
       "16335  женат / замужем                 0      F   сотрудник     0   \n",
       "\n",
       "        total_income                   purpose education_lower purpose_total  \\\n",
       "16335  186178.934089  операции с недвижимостью         среднее  недвижимость   \n",
       "\n",
       "      gender_lower family_status_lower  days_employed_integer  \n",
       "16335            f     женат / замужем           18388.949901  "
      ]
     },
     "metadata": {},
     "output_type": "display_data"
    }
   ],
   "source": [
    "display(data[data.days_employed_integer == 18388.949900568383])"
   ]
  },
  {
   "cell_type": "markdown",
   "id": "b0d6d4de",
   "metadata": {},
   "source": [
    "<div style=\"background-color: #fff0e0; padding: 10px; font-family: monospace; font-size: 15px\">\n",
    "Странно начинать работать в 11 лет, но это уже чуть больше похоже на правду</div>"
   ]
  },
  {
   "cell_type": "code",
   "execution_count": 40,
   "id": "893c0166",
   "metadata": {},
   "outputs": [
    {
     "name": "stdout",
     "output_type": "stream",
     "text": [
      "days_employed_integer\n",
      "Минимум: 24.14163324048118\n",
      "Максимум 18388.949900568383\n",
      "Среднее 2215.391868119628\n",
      "Медиана 1347.6449313585415\n",
      "\n",
      "dob_years\n",
      "Минимум: 0\n",
      "Максимум 75\n",
      "Среднее 43.29427615684817\n",
      "Медиана 42.0\n",
      "\n",
      "total_income\n",
      "Минимум: 20667.26379327158\n",
      "Максимум 2265604.028722744\n",
      "Среднее 165223.5274577049\n",
      "Медиана 142594.39684740017\n",
      "\n",
      "<class 'pandas.core.frame.DataFrame'>\n",
      "Int64Index: 21524 entries, 0 to 21524\n",
      "Data columns (total 3 columns):\n",
      "days_employed    21524 non-null float64\n",
      "dob_years        21524 non-null int64\n",
      "total_income     21524 non-null float64\n",
      "dtypes: float64(2), int64(1)\n",
      "memory usage: 672.6 KB\n"
     ]
    }
   ],
   "source": [
    "digit_values = ['days_employed_integer', 'dob_years', 'total_income']\n",
    "for column in digit_values:\n",
    "    print(column)\n",
    "    print('Минимум:', data[column].min())\n",
    "    print('Максимум', data[column].max())\n",
    "    print('Среднее', data[column].mean())\n",
    "    print('Медиана', data[column].median())\n",
    "    print()\n",
    "\n",
    "data[['days_employed', 'dob_years', 'total_income']].info()"
   ]
  },
  {
   "cell_type": "markdown",
   "id": "5035ad62",
   "metadata": {},
   "source": [
    "### 1.0.6.   Шаг 2.3. Изменение типов данных."
   ]
  },
  {
   "cell_type": "markdown",
   "id": "25fe0a59",
   "metadata": {},
   "source": [
    "<div style=\"background-color: #fff0e0; padding: 10px; font-family: monospace; font-size: 15px\">\n",
    "Посмотрим какие у нас вообще есть типы данных</div>"
   ]
  },
  {
   "cell_type": "code",
   "execution_count": 41,
   "id": "86c917be",
   "metadata": {},
   "outputs": [
    {
     "name": "stdout",
     "output_type": "stream",
     "text": [
      "<class 'pandas.core.frame.DataFrame'>\n",
      "Int64Index: 21524 entries, 0 to 21524\n",
      "Data columns (total 17 columns):\n",
      "children                 21524 non-null int64\n",
      "days_employed            21524 non-null float64\n",
      "dob_years                21524 non-null int64\n",
      "education                21524 non-null object\n",
      "education_id             21524 non-null int64\n",
      "family_status            21524 non-null object\n",
      "family_status_id         21524 non-null int64\n",
      "gender                   21524 non-null object\n",
      "income_type              21524 non-null object\n",
      "debt                     21524 non-null int64\n",
      "total_income             21524 non-null float64\n",
      "purpose                  21524 non-null object\n",
      "education_lower          21524 non-null object\n",
      "purpose_total            21524 non-null object\n",
      "gender_lower             21524 non-null object\n",
      "family_status_lower      21524 non-null object\n",
      "days_employed_integer    17995 non-null float64\n",
      "dtypes: float64(3), int64(5), object(9)\n",
      "memory usage: 3.0+ MB\n"
     ]
    }
   ],
   "source": [
    "data.info()"
   ]
  },
  {
   "cell_type": "markdown",
   "id": "6e183e82",
   "metadata": {},
   "source": [
    "<div style=\"background-color: #fff0e0; padding: 10px; font-family: monospace; font-size: 15px\">\n",
    "Кстати, многовато столбцов вышло, оставим только необходимые</div>"
   ]
  },
  {
   "cell_type": "code",
   "execution_count": 42,
   "id": "554f2461",
   "metadata": {},
   "outputs": [],
   "source": [
    "data_cool = data.drop(['days_employed', 'education', 'family_status', 'gender'], axis=1)"
   ]
  },
  {
   "cell_type": "code",
   "execution_count": 43,
   "id": "8b00b5bc",
   "metadata": {},
   "outputs": [
    {
     "data": {
      "text/html": [
       "<div>\n",
       "<style scoped>\n",
       "    .dataframe tbody tr th:only-of-type {\n",
       "        vertical-align: middle;\n",
       "    }\n",
       "\n",
       "    .dataframe tbody tr th {\n",
       "        vertical-align: top;\n",
       "    }\n",
       "\n",
       "    .dataframe thead th {\n",
       "        text-align: right;\n",
       "    }\n",
       "</style>\n",
       "<table border=\"1\" class=\"dataframe\">\n",
       "  <thead>\n",
       "    <tr style=\"text-align: right;\">\n",
       "      <th></th>\n",
       "      <th>children</th>\n",
       "      <th>dob_years</th>\n",
       "      <th>education_id</th>\n",
       "      <th>family_status_id</th>\n",
       "      <th>income_type</th>\n",
       "      <th>debt</th>\n",
       "      <th>total_income</th>\n",
       "      <th>purpose</th>\n",
       "      <th>education_lower</th>\n",
       "      <th>purpose_total</th>\n",
       "      <th>gender_lower</th>\n",
       "      <th>family_status_lower</th>\n",
       "      <th>days_employed_integer</th>\n",
       "    </tr>\n",
       "  </thead>\n",
       "  <tbody>\n",
       "    <tr>\n",
       "      <td>0</td>\n",
       "      <td>1</td>\n",
       "      <td>42</td>\n",
       "      <td>0</td>\n",
       "      <td>0</td>\n",
       "      <td>сотрудник</td>\n",
       "      <td>0</td>\n",
       "      <td>253875.639453</td>\n",
       "      <td>покупка жилья</td>\n",
       "      <td>высшее</td>\n",
       "      <td>недвижимость</td>\n",
       "      <td>f</td>\n",
       "      <td>женат / замужем</td>\n",
       "      <td>8437.673028</td>\n",
       "    </tr>\n",
       "    <tr>\n",
       "      <td>1</td>\n",
       "      <td>1</td>\n",
       "      <td>36</td>\n",
       "      <td>1</td>\n",
       "      <td>0</td>\n",
       "      <td>сотрудник</td>\n",
       "      <td>0</td>\n",
       "      <td>112080.014102</td>\n",
       "      <td>приобретение автомобиля</td>\n",
       "      <td>среднее</td>\n",
       "      <td>автомобили</td>\n",
       "      <td>f</td>\n",
       "      <td>женат / замужем</td>\n",
       "      <td>4024.803754</td>\n",
       "    </tr>\n",
       "    <tr>\n",
       "      <td>2</td>\n",
       "      <td>0</td>\n",
       "      <td>33</td>\n",
       "      <td>1</td>\n",
       "      <td>0</td>\n",
       "      <td>сотрудник</td>\n",
       "      <td>0</td>\n",
       "      <td>145885.952297</td>\n",
       "      <td>покупка жилья</td>\n",
       "      <td>среднее</td>\n",
       "      <td>недвижимость</td>\n",
       "      <td>m</td>\n",
       "      <td>женат / замужем</td>\n",
       "      <td>5623.422610</td>\n",
       "    </tr>\n",
       "    <tr>\n",
       "      <td>3</td>\n",
       "      <td>3</td>\n",
       "      <td>32</td>\n",
       "      <td>1</td>\n",
       "      <td>0</td>\n",
       "      <td>сотрудник</td>\n",
       "      <td>0</td>\n",
       "      <td>267628.550329</td>\n",
       "      <td>дополнительное образование</td>\n",
       "      <td>среднее</td>\n",
       "      <td>образование</td>\n",
       "      <td>m</td>\n",
       "      <td>женат / замужем</td>\n",
       "      <td>4124.747207</td>\n",
       "    </tr>\n",
       "    <tr>\n",
       "      <td>4</td>\n",
       "      <td>0</td>\n",
       "      <td>53</td>\n",
       "      <td>1</td>\n",
       "      <td>1</td>\n",
       "      <td>пенсионер</td>\n",
       "      <td>0</td>\n",
       "      <td>158616.077870</td>\n",
       "      <td>сыграть свадьбу</td>\n",
       "      <td>среднее</td>\n",
       "      <td>свадьба</td>\n",
       "      <td>f</td>\n",
       "      <td>гражданский брак</td>\n",
       "      <td>NaN</td>\n",
       "    </tr>\n",
       "    <tr>\n",
       "      <td>5</td>\n",
       "      <td>0</td>\n",
       "      <td>27</td>\n",
       "      <td>0</td>\n",
       "      <td>1</td>\n",
       "      <td>компаньон</td>\n",
       "      <td>0</td>\n",
       "      <td>255763.565419</td>\n",
       "      <td>покупка жилья</td>\n",
       "      <td>высшее</td>\n",
       "      <td>недвижимость</td>\n",
       "      <td>m</td>\n",
       "      <td>гражданский брак</td>\n",
       "      <td>926.185831</td>\n",
       "    </tr>\n",
       "    <tr>\n",
       "      <td>6</td>\n",
       "      <td>0</td>\n",
       "      <td>43</td>\n",
       "      <td>0</td>\n",
       "      <td>0</td>\n",
       "      <td>компаньон</td>\n",
       "      <td>0</td>\n",
       "      <td>240525.971920</td>\n",
       "      <td>операции с жильем</td>\n",
       "      <td>высшее</td>\n",
       "      <td>недвижимость</td>\n",
       "      <td>f</td>\n",
       "      <td>женат / замужем</td>\n",
       "      <td>2879.202052</td>\n",
       "    </tr>\n",
       "    <tr>\n",
       "      <td>7</td>\n",
       "      <td>0</td>\n",
       "      <td>50</td>\n",
       "      <td>1</td>\n",
       "      <td>0</td>\n",
       "      <td>сотрудник</td>\n",
       "      <td>0</td>\n",
       "      <td>135823.934197</td>\n",
       "      <td>образование</td>\n",
       "      <td>среднее</td>\n",
       "      <td>образование</td>\n",
       "      <td>m</td>\n",
       "      <td>женат / замужем</td>\n",
       "      <td>152.779569</td>\n",
       "    </tr>\n",
       "    <tr>\n",
       "      <td>8</td>\n",
       "      <td>2</td>\n",
       "      <td>35</td>\n",
       "      <td>0</td>\n",
       "      <td>1</td>\n",
       "      <td>сотрудник</td>\n",
       "      <td>0</td>\n",
       "      <td>95856.832424</td>\n",
       "      <td>на проведение свадьбы</td>\n",
       "      <td>высшее</td>\n",
       "      <td>свадьба</td>\n",
       "      <td>f</td>\n",
       "      <td>гражданский брак</td>\n",
       "      <td>6929.865299</td>\n",
       "    </tr>\n",
       "    <tr>\n",
       "      <td>9</td>\n",
       "      <td>0</td>\n",
       "      <td>41</td>\n",
       "      <td>1</td>\n",
       "      <td>0</td>\n",
       "      <td>сотрудник</td>\n",
       "      <td>0</td>\n",
       "      <td>144425.938277</td>\n",
       "      <td>покупка жилья для семьи</td>\n",
       "      <td>среднее</td>\n",
       "      <td>недвижимость</td>\n",
       "      <td>m</td>\n",
       "      <td>женат / замужем</td>\n",
       "      <td>2188.756445</td>\n",
       "    </tr>\n",
       "  </tbody>\n",
       "</table>\n",
       "</div>"
      ],
      "text/plain": [
       "   children  dob_years  education_id  family_status_id income_type  debt  \\\n",
       "0         1         42             0                 0   сотрудник     0   \n",
       "1         1         36             1                 0   сотрудник     0   \n",
       "2         0         33             1                 0   сотрудник     0   \n",
       "3         3         32             1                 0   сотрудник     0   \n",
       "4         0         53             1                 1   пенсионер     0   \n",
       "5         0         27             0                 1   компаньон     0   \n",
       "6         0         43             0                 0   компаньон     0   \n",
       "7         0         50             1                 0   сотрудник     0   \n",
       "8         2         35             0                 1   сотрудник     0   \n",
       "9         0         41             1                 0   сотрудник     0   \n",
       "\n",
       "    total_income                     purpose education_lower purpose_total  \\\n",
       "0  253875.639453               покупка жилья          высшее  недвижимость   \n",
       "1  112080.014102     приобретение автомобиля         среднее    автомобили   \n",
       "2  145885.952297               покупка жилья         среднее  недвижимость   \n",
       "3  267628.550329  дополнительное образование         среднее   образование   \n",
       "4  158616.077870             сыграть свадьбу         среднее       свадьба   \n",
       "5  255763.565419               покупка жилья          высшее  недвижимость   \n",
       "6  240525.971920           операции с жильем          высшее  недвижимость   \n",
       "7  135823.934197                 образование         среднее   образование   \n",
       "8   95856.832424       на проведение свадьбы          высшее       свадьба   \n",
       "9  144425.938277     покупка жилья для семьи         среднее  недвижимость   \n",
       "\n",
       "  gender_lower family_status_lower  days_employed_integer  \n",
       "0            f     женат / замужем            8437.673028  \n",
       "1            f     женат / замужем            4024.803754  \n",
       "2            m     женат / замужем            5623.422610  \n",
       "3            m     женат / замужем            4124.747207  \n",
       "4            f    гражданский брак                    NaN  \n",
       "5            m    гражданский брак             926.185831  \n",
       "6            f     женат / замужем            2879.202052  \n",
       "7            m     женат / замужем             152.779569  \n",
       "8            f    гражданский брак            6929.865299  \n",
       "9            m     женат / замужем            2188.756445  "
      ]
     },
     "execution_count": 43,
     "metadata": {},
     "output_type": "execute_result"
    }
   ],
   "source": [
    "data_cool.head(10)"
   ]
  },
  {
   "cell_type": "code",
   "execution_count": 44,
   "id": "57d3824e",
   "metadata": {},
   "outputs": [
    {
     "name": "stdout",
     "output_type": "stream",
     "text": [
      "<class 'pandas.core.frame.DataFrame'>\n",
      "Int64Index: 21524 entries, 0 to 21524\n",
      "Data columns (total 13 columns):\n",
      "children                 21524 non-null int64\n",
      "dob_years                21524 non-null int64\n",
      "education_id             21524 non-null int64\n",
      "family_status_id         21524 non-null int64\n",
      "income_type              21524 non-null object\n",
      "debt                     21524 non-null int64\n",
      "total_income             21524 non-null float64\n",
      "purpose                  21524 non-null object\n",
      "education_lower          21524 non-null object\n",
      "purpose_total            21524 non-null object\n",
      "gender_lower             21524 non-null object\n",
      "family_status_lower      21524 non-null object\n",
      "days_employed_integer    17995 non-null float64\n",
      "dtypes: float64(2), int64(5), object(6)\n",
      "memory usage: 2.3+ MB\n"
     ]
    }
   ],
   "source": [
    "data_cool.info()"
   ]
  },
  {
   "cell_type": "markdown",
   "id": "ca7d1275",
   "metadata": {},
   "source": [
    "<div style=\"background-color: #fff0e0; padding: 10px; font-family: monospace; font-size: 15px\">\n",
    "Пора привести total_income, dob_years и days_employed_integer к божескому виду</div>"
   ]
  },
  {
   "cell_type": "code",
   "execution_count": 45,
   "id": "edeb802f",
   "metadata": {},
   "outputs": [
    {
     "data": {
      "text/plain": [
       "0        253875\n",
       "1        112080\n",
       "2        145885\n",
       "3        267628\n",
       "4        158616\n",
       "          ...  \n",
       "21520    224791\n",
       "21521    155999\n",
       "21522     89672\n",
       "21523    244093\n",
       "21524     82047\n",
       "Name: total_income, Length: 21524, dtype: int64"
      ]
     },
     "metadata": {},
     "output_type": "display_data"
    }
   ],
   "source": [
    "data_cool['total_income'] = data_cool['total_income'].astype('int64')\n",
    "display(data_cool['total_income'])"
   ]
  },
  {
   "cell_type": "code",
   "execution_count": 46,
   "id": "4f4ffeab",
   "metadata": {},
   "outputs": [
    {
     "data": {
      "text/plain": [
       "0        42\n",
       "1        36\n",
       "2        33\n",
       "3        32\n",
       "4        53\n",
       "         ..\n",
       "21520    43\n",
       "21521    67\n",
       "21522    38\n",
       "21523    38\n",
       "21524    40\n",
       "Name: dob_years, Length: 21524, dtype: int64"
      ]
     },
     "metadata": {},
     "output_type": "display_data"
    }
   ],
   "source": [
    "data_cool['dob_years'] = data_cool['dob_years'].astype('int64')\n",
    "display(data_cool['dob_years'])"
   ]
  },
  {
   "cell_type": "code",
   "execution_count": 48,
   "id": "d6839c36",
   "metadata": {},
   "outputs": [
    {
     "data": {
      "text/plain": [
       "3529"
      ]
     },
     "execution_count": 48,
     "metadata": {},
     "output_type": "execute_result"
    }
   ],
   "source": [
    "data_cool['days_employed_integer'].isna().sum()"
   ]
  },
  {
   "cell_type": "markdown",
   "id": "1713f801",
   "metadata": {},
   "source": [
    "<div style=\"background-color: #fff0e0; padding: 10px; font-family: monospace; font-size: 15px\">\n",
    "Заполняем средними значениями</div>"
   ]
  },
  {
   "cell_type": "code",
   "execution_count": 49,
   "id": "4ed05d11",
   "metadata": {},
   "outputs": [],
   "source": [
    "fixed_days = data_cool['days_employed_integer'].fillna(data_cool['days_employed_integer'].mean())\n",
    "data_cool['days_employed_integer'] = fixed_days"
   ]
  },
  {
   "cell_type": "code",
   "execution_count": 50,
   "id": "ea0db8f0",
   "metadata": {},
   "outputs": [
    {
     "data": {
      "text/plain": [
       "0"
      ]
     },
     "execution_count": 50,
     "metadata": {},
     "output_type": "execute_result"
    }
   ],
   "source": [
    "data_cool['days_employed_integer'].isna().sum()"
   ]
  },
  {
   "cell_type": "code",
   "execution_count": 51,
   "id": "0df4f4b5",
   "metadata": {},
   "outputs": [
    {
     "data": {
      "text/plain": [
       "0        8437\n",
       "1        4024\n",
       "2        5623\n",
       "3        4124\n",
       "4        2215\n",
       "         ... \n",
       "21520    4529\n",
       "21521    2215\n",
       "21522    2113\n",
       "21523    3112\n",
       "21524    1984\n",
       "Name: days_employed_integer, Length: 21524, dtype: int64"
      ]
     },
     "metadata": {},
     "output_type": "display_data"
    }
   ],
   "source": [
    "data_cool['days_employed_integer'] = data_cool['days_employed_integer'].astype('int64')\n",
    "display(data_cool['days_employed_integer'])"
   ]
  },
  {
   "cell_type": "code",
   "execution_count": 52,
   "id": "fedb4d6d",
   "metadata": {},
   "outputs": [
    {
     "name": "stdout",
     "output_type": "stream",
     "text": [
      "<class 'pandas.core.frame.DataFrame'>\n",
      "Int64Index: 21524 entries, 0 to 21524\n",
      "Data columns (total 13 columns):\n",
      "children                 21524 non-null int64\n",
      "dob_years                21524 non-null int64\n",
      "education_id             21524 non-null int64\n",
      "family_status_id         21524 non-null int64\n",
      "income_type              21524 non-null object\n",
      "debt                     21524 non-null int64\n",
      "total_income             21524 non-null int64\n",
      "purpose                  21524 non-null object\n",
      "education_lower          21524 non-null object\n",
      "purpose_total            21524 non-null object\n",
      "gender_lower             21524 non-null object\n",
      "family_status_lower      21524 non-null object\n",
      "days_employed_integer    21524 non-null int64\n",
      "dtypes: int64(7), object(6)\n",
      "memory usage: 2.3+ MB\n"
     ]
    }
   ],
   "source": [
    "data_cool.info()"
   ]
  },
  {
   "cell_type": "markdown",
   "id": "9b22ee01",
   "metadata": {},
   "source": [
    "<div style=\"background-color: #fff0e0; padding: 10px; font-family: monospace; font-size: 15px\">\n",
    "Выглядит культурно и прилично, а значит нам нравится. Оставляем</div>"
   ]
  },
  {
   "cell_type": "markdown",
   "id": "8e4f575d",
   "metadata": {},
   "source": [
    "### 1.0.8.   Шаг 2.5. Формирование дополнительных датафреймов словарей, декомпозиция исходного датафрейма."
   ]
  },
  {
   "cell_type": "markdown",
   "id": "5e4354dc",
   "metadata": {},
   "source": [
    "<div style=\"background-color: #fff0e0; padding: 10px; font-family: monospace; font-size: 15px\">\n",
    "Разберемся с делами насущными – с образованием</div>"
   ]
  },
  {
   "cell_type": "code",
   "execution_count": 54,
   "id": "96bde08e",
   "metadata": {},
   "outputs": [
    {
     "data": {
      "text/html": [
       "<div>\n",
       "<style scoped>\n",
       "    .dataframe tbody tr th:only-of-type {\n",
       "        vertical-align: middle;\n",
       "    }\n",
       "\n",
       "    .dataframe tbody tr th {\n",
       "        vertical-align: top;\n",
       "    }\n",
       "\n",
       "    .dataframe thead th {\n",
       "        text-align: right;\n",
       "    }\n",
       "</style>\n",
       "<table border=\"1\" class=\"dataframe\">\n",
       "  <thead>\n",
       "    <tr style=\"text-align: right;\">\n",
       "      <th></th>\n",
       "      <th>education_lower</th>\n",
       "      <th>education_id</th>\n",
       "    </tr>\n",
       "  </thead>\n",
       "  <tbody>\n",
       "    <tr>\n",
       "      <td>0</td>\n",
       "      <td>высшее</td>\n",
       "      <td>0</td>\n",
       "    </tr>\n",
       "    <tr>\n",
       "      <td>1</td>\n",
       "      <td>среднее</td>\n",
       "      <td>1</td>\n",
       "    </tr>\n",
       "    <tr>\n",
       "      <td>2</td>\n",
       "      <td>неоконченное высшее</td>\n",
       "      <td>2</td>\n",
       "    </tr>\n",
       "    <tr>\n",
       "      <td>3</td>\n",
       "      <td>начальное</td>\n",
       "      <td>3</td>\n",
       "    </tr>\n",
       "    <tr>\n",
       "      <td>4</td>\n",
       "      <td>ученая степень</td>\n",
       "      <td>4</td>\n",
       "    </tr>\n",
       "  </tbody>\n",
       "</table>\n",
       "</div>"
      ],
      "text/plain": [
       "       education_lower  education_id\n",
       "0               высшее             0\n",
       "1              среднее             1\n",
       "2  неоконченное высшее             2\n",
       "3            начальное             3\n",
       "4       ученая степень             4"
      ]
     },
     "metadata": {},
     "output_type": "display_data"
    }
   ],
   "source": [
    "data_education_only = data_cool[['education_lower', 'education_id']].drop_duplicates().reset_index(drop=True)\n",
    "display(data_education_only.head())"
   ]
  },
  {
   "cell_type": "markdown",
   "id": "15ee3fa5",
   "metadata": {},
   "source": [
    "<div style=\"background-color: #fff0e0; padding: 10px; font-family: monospace; font-size: 15px\">\n",
    "И с делами грядущими – семьей</div>"
   ]
  },
  {
   "cell_type": "code",
   "execution_count": 55,
   "id": "74d37430",
   "metadata": {},
   "outputs": [
    {
     "data": {
      "text/html": [
       "<div>\n",
       "<style scoped>\n",
       "    .dataframe tbody tr th:only-of-type {\n",
       "        vertical-align: middle;\n",
       "    }\n",
       "\n",
       "    .dataframe tbody tr th {\n",
       "        vertical-align: top;\n",
       "    }\n",
       "\n",
       "    .dataframe thead th {\n",
       "        text-align: right;\n",
       "    }\n",
       "</style>\n",
       "<table border=\"1\" class=\"dataframe\">\n",
       "  <thead>\n",
       "    <tr style=\"text-align: right;\">\n",
       "      <th></th>\n",
       "      <th>family_status_lower</th>\n",
       "      <th>family_status_id</th>\n",
       "    </tr>\n",
       "  </thead>\n",
       "  <tbody>\n",
       "    <tr>\n",
       "      <td>0</td>\n",
       "      <td>женат / замужем</td>\n",
       "      <td>0</td>\n",
       "    </tr>\n",
       "    <tr>\n",
       "      <td>1</td>\n",
       "      <td>гражданский брак</td>\n",
       "      <td>1</td>\n",
       "    </tr>\n",
       "    <tr>\n",
       "      <td>2</td>\n",
       "      <td>вдовец / вдова</td>\n",
       "      <td>2</td>\n",
       "    </tr>\n",
       "    <tr>\n",
       "      <td>3</td>\n",
       "      <td>в разводе</td>\n",
       "      <td>3</td>\n",
       "    </tr>\n",
       "    <tr>\n",
       "      <td>4</td>\n",
       "      <td>не женат / не замужем</td>\n",
       "      <td>4</td>\n",
       "    </tr>\n",
       "  </tbody>\n",
       "</table>\n",
       "</div>"
      ],
      "text/plain": [
       "     family_status_lower  family_status_id\n",
       "0        женат / замужем                 0\n",
       "1       гражданский брак                 1\n",
       "2         вдовец / вдова                 2\n",
       "3              в разводе                 3\n",
       "4  не женат / не замужем                 4"
      ]
     },
     "metadata": {},
     "output_type": "display_data"
    }
   ],
   "source": [
    "data_family_only = data_cool[['family_status_lower', 'family_status_id']].drop_duplicates().reset_index(drop=True)\n",
    "display(data_family_only.head())"
   ]
  },
  {
   "cell_type": "markdown",
   "id": "0dd31c6e",
   "metadata": {},
   "source": [
    "<div style=\"background-color: #fff0e0; padding: 10px; font-family: monospace; font-size: 15px\">\n",
    "Избавляемся от громоздких и ошибкоопасных столбцов в исходном датафрейме</div>"
   ]
  },
  {
   "cell_type": "code",
   "execution_count": 56,
   "id": "9348f9d0",
   "metadata": {},
   "outputs": [],
   "source": [
    "data_cool = data_cool.drop(['education_lower', 'family_status_lower'], axis=1)"
   ]
  },
  {
   "cell_type": "code",
   "execution_count": 57,
   "id": "b7233d49",
   "metadata": {},
   "outputs": [
    {
     "data": {
      "text/html": [
       "<div>\n",
       "<style scoped>\n",
       "    .dataframe tbody tr th:only-of-type {\n",
       "        vertical-align: middle;\n",
       "    }\n",
       "\n",
       "    .dataframe tbody tr th {\n",
       "        vertical-align: top;\n",
       "    }\n",
       "\n",
       "    .dataframe thead th {\n",
       "        text-align: right;\n",
       "    }\n",
       "</style>\n",
       "<table border=\"1\" class=\"dataframe\">\n",
       "  <thead>\n",
       "    <tr style=\"text-align: right;\">\n",
       "      <th></th>\n",
       "      <th>children</th>\n",
       "      <th>dob_years</th>\n",
       "      <th>education_id</th>\n",
       "      <th>family_status_id</th>\n",
       "      <th>income_type</th>\n",
       "      <th>debt</th>\n",
       "      <th>total_income</th>\n",
       "      <th>purpose</th>\n",
       "      <th>purpose_total</th>\n",
       "      <th>gender_lower</th>\n",
       "      <th>days_employed_integer</th>\n",
       "    </tr>\n",
       "  </thead>\n",
       "  <tbody>\n",
       "    <tr>\n",
       "      <td>0</td>\n",
       "      <td>1</td>\n",
       "      <td>42</td>\n",
       "      <td>0</td>\n",
       "      <td>0</td>\n",
       "      <td>сотрудник</td>\n",
       "      <td>0</td>\n",
       "      <td>253875</td>\n",
       "      <td>покупка жилья</td>\n",
       "      <td>недвижимость</td>\n",
       "      <td>f</td>\n",
       "      <td>8437</td>\n",
       "    </tr>\n",
       "    <tr>\n",
       "      <td>1</td>\n",
       "      <td>1</td>\n",
       "      <td>36</td>\n",
       "      <td>1</td>\n",
       "      <td>0</td>\n",
       "      <td>сотрудник</td>\n",
       "      <td>0</td>\n",
       "      <td>112080</td>\n",
       "      <td>приобретение автомобиля</td>\n",
       "      <td>автомобили</td>\n",
       "      <td>f</td>\n",
       "      <td>4024</td>\n",
       "    </tr>\n",
       "    <tr>\n",
       "      <td>2</td>\n",
       "      <td>0</td>\n",
       "      <td>33</td>\n",
       "      <td>1</td>\n",
       "      <td>0</td>\n",
       "      <td>сотрудник</td>\n",
       "      <td>0</td>\n",
       "      <td>145885</td>\n",
       "      <td>покупка жилья</td>\n",
       "      <td>недвижимость</td>\n",
       "      <td>m</td>\n",
       "      <td>5623</td>\n",
       "    </tr>\n",
       "    <tr>\n",
       "      <td>3</td>\n",
       "      <td>3</td>\n",
       "      <td>32</td>\n",
       "      <td>1</td>\n",
       "      <td>0</td>\n",
       "      <td>сотрудник</td>\n",
       "      <td>0</td>\n",
       "      <td>267628</td>\n",
       "      <td>дополнительное образование</td>\n",
       "      <td>образование</td>\n",
       "      <td>m</td>\n",
       "      <td>4124</td>\n",
       "    </tr>\n",
       "    <tr>\n",
       "      <td>4</td>\n",
       "      <td>0</td>\n",
       "      <td>53</td>\n",
       "      <td>1</td>\n",
       "      <td>1</td>\n",
       "      <td>пенсионер</td>\n",
       "      <td>0</td>\n",
       "      <td>158616</td>\n",
       "      <td>сыграть свадьбу</td>\n",
       "      <td>свадьба</td>\n",
       "      <td>f</td>\n",
       "      <td>2215</td>\n",
       "    </tr>\n",
       "  </tbody>\n",
       "</table>\n",
       "</div>"
      ],
      "text/plain": [
       "   children  dob_years  education_id  family_status_id income_type  debt  \\\n",
       "0         1         42             0                 0   сотрудник     0   \n",
       "1         1         36             1                 0   сотрудник     0   \n",
       "2         0         33             1                 0   сотрудник     0   \n",
       "3         3         32             1                 0   сотрудник     0   \n",
       "4         0         53             1                 1   пенсионер     0   \n",
       "\n",
       "   total_income                     purpose purpose_total gender_lower  \\\n",
       "0        253875               покупка жилья  недвижимость            f   \n",
       "1        112080     приобретение автомобиля    автомобили            f   \n",
       "2        145885               покупка жилья  недвижимость            m   \n",
       "3        267628  дополнительное образование   образование            m   \n",
       "4        158616             сыграть свадьбу       свадьба            f   \n",
       "\n",
       "   days_employed_integer  \n",
       "0                   8437  \n",
       "1                   4024  \n",
       "2                   5623  \n",
       "3                   4124  \n",
       "4                   2215  "
      ]
     },
     "execution_count": 57,
     "metadata": {},
     "output_type": "execute_result"
    }
   ],
   "source": [
    "data_cool.head()"
   ]
  },
  {
   "cell_type": "markdown",
   "id": "7e986802",
   "metadata": {},
   "source": [
    "### 1.0.9.   Шаг 2.6. Категоризация дохода."
   ]
  },
  {
   "cell_type": "markdown",
   "id": "d2840a07",
   "metadata": {},
   "source": [
    "<div style=\"background-color: #fff0e0; padding: 10px; font-family: monospace; font-size: 15px\">\n",
    "Создаем функцию, делаем apply</div>"
   ]
  },
  {
   "cell_type": "code",
   "execution_count": 58,
   "id": "5e8fb768",
   "metadata": {},
   "outputs": [
    {
     "data": {
      "text/html": [
       "<div>\n",
       "<style scoped>\n",
       "    .dataframe tbody tr th:only-of-type {\n",
       "        vertical-align: middle;\n",
       "    }\n",
       "\n",
       "    .dataframe tbody tr th {\n",
       "        vertical-align: top;\n",
       "    }\n",
       "\n",
       "    .dataframe thead th {\n",
       "        text-align: right;\n",
       "    }\n",
       "</style>\n",
       "<table border=\"1\" class=\"dataframe\">\n",
       "  <thead>\n",
       "    <tr style=\"text-align: right;\">\n",
       "      <th></th>\n",
       "      <th>children</th>\n",
       "      <th>dob_years</th>\n",
       "      <th>education_id</th>\n",
       "      <th>family_status_id</th>\n",
       "      <th>income_type</th>\n",
       "      <th>debt</th>\n",
       "      <th>total_income</th>\n",
       "      <th>purpose</th>\n",
       "      <th>purpose_total</th>\n",
       "      <th>gender_lower</th>\n",
       "      <th>days_employed_integer</th>\n",
       "      <th>total_income_category</th>\n",
       "    </tr>\n",
       "  </thead>\n",
       "  <tbody>\n",
       "    <tr>\n",
       "      <td>0</td>\n",
       "      <td>1</td>\n",
       "      <td>42</td>\n",
       "      <td>0</td>\n",
       "      <td>0</td>\n",
       "      <td>сотрудник</td>\n",
       "      <td>0</td>\n",
       "      <td>253875</td>\n",
       "      <td>покупка жилья</td>\n",
       "      <td>недвижимость</td>\n",
       "      <td>f</td>\n",
       "      <td>8437</td>\n",
       "      <td>B</td>\n",
       "    </tr>\n",
       "    <tr>\n",
       "      <td>1</td>\n",
       "      <td>1</td>\n",
       "      <td>36</td>\n",
       "      <td>1</td>\n",
       "      <td>0</td>\n",
       "      <td>сотрудник</td>\n",
       "      <td>0</td>\n",
       "      <td>112080</td>\n",
       "      <td>приобретение автомобиля</td>\n",
       "      <td>автомобили</td>\n",
       "      <td>f</td>\n",
       "      <td>4024</td>\n",
       "      <td>C</td>\n",
       "    </tr>\n",
       "    <tr>\n",
       "      <td>2</td>\n",
       "      <td>0</td>\n",
       "      <td>33</td>\n",
       "      <td>1</td>\n",
       "      <td>0</td>\n",
       "      <td>сотрудник</td>\n",
       "      <td>0</td>\n",
       "      <td>145885</td>\n",
       "      <td>покупка жилья</td>\n",
       "      <td>недвижимость</td>\n",
       "      <td>m</td>\n",
       "      <td>5623</td>\n",
       "      <td>C</td>\n",
       "    </tr>\n",
       "    <tr>\n",
       "      <td>3</td>\n",
       "      <td>3</td>\n",
       "      <td>32</td>\n",
       "      <td>1</td>\n",
       "      <td>0</td>\n",
       "      <td>сотрудник</td>\n",
       "      <td>0</td>\n",
       "      <td>267628</td>\n",
       "      <td>дополнительное образование</td>\n",
       "      <td>образование</td>\n",
       "      <td>m</td>\n",
       "      <td>4124</td>\n",
       "      <td>B</td>\n",
       "    </tr>\n",
       "    <tr>\n",
       "      <td>4</td>\n",
       "      <td>0</td>\n",
       "      <td>53</td>\n",
       "      <td>1</td>\n",
       "      <td>1</td>\n",
       "      <td>пенсионер</td>\n",
       "      <td>0</td>\n",
       "      <td>158616</td>\n",
       "      <td>сыграть свадьбу</td>\n",
       "      <td>свадьба</td>\n",
       "      <td>f</td>\n",
       "      <td>2215</td>\n",
       "      <td>C</td>\n",
       "    </tr>\n",
       "  </tbody>\n",
       "</table>\n",
       "</div>"
      ],
      "text/plain": [
       "   children  dob_years  education_id  family_status_id income_type  debt  \\\n",
       "0         1         42             0                 0   сотрудник     0   \n",
       "1         1         36             1                 0   сотрудник     0   \n",
       "2         0         33             1                 0   сотрудник     0   \n",
       "3         3         32             1                 0   сотрудник     0   \n",
       "4         0         53             1                 1   пенсионер     0   \n",
       "\n",
       "   total_income                     purpose purpose_total gender_lower  \\\n",
       "0        253875               покупка жилья  недвижимость            f   \n",
       "1        112080     приобретение автомобиля    автомобили            f   \n",
       "2        145885               покупка жилья  недвижимость            m   \n",
       "3        267628  дополнительное образование   образование            m   \n",
       "4        158616             сыграть свадьбу       свадьба            f   \n",
       "\n",
       "   days_employed_integer total_income_category  \n",
       "0                   8437                     B  \n",
       "1                   4024                     C  \n",
       "2                   5623                     C  \n",
       "3                   4124                     B  \n",
       "4                   2215                     C  "
      ]
     },
     "metadata": {},
     "output_type": "display_data"
    }
   ],
   "source": [
    "def total_income_categorization(row):\n",
    "    if row <= 30000:\n",
    "        return 'E'\n",
    "    if row <= 50000:\n",
    "        return 'D'\n",
    "    if row <= 200000:\n",
    "        return 'C'\n",
    "    if row <= 1000000:\n",
    "        return 'B'\n",
    "    return 'A'\n",
    "\n",
    "data_cool['total_income_category'] = data_cool['total_income'].apply(total_income_categorization)\n",
    "display(data_cool.head())"
   ]
  },
  {
   "cell_type": "markdown",
   "id": "c5ca9fcc",
   "metadata": {},
   "source": [
    "<div style=\"background-color: #fff0e0; padding: 10px; font-family: monospace; font-size: 15px\">\n",
    "И вот они уже как на ладони</div>"
   ]
  },
  {
   "cell_type": "markdown",
   "id": "42f293e4",
   "metadata": {},
   "source": [
    "### 1.0.10.   Пора исследовать"
   ]
  },
  {
   "cell_type": "markdown",
   "id": "77b6d9c3",
   "metadata": {},
   "source": [
    "<div style=\"background-color: #fff0e0; padding: 10px; font-family: monospace; font-size: 15px\">\n",
    "Посмотрим на неплательщиков</div>"
   ]
  },
  {
   "cell_type": "code",
   "execution_count": 59,
   "id": "d2de2dd1",
   "metadata": {},
   "outputs": [
    {
     "data": {
      "text/html": [
       "<div>\n",
       "<style scoped>\n",
       "    .dataframe tbody tr th:only-of-type {\n",
       "        vertical-align: middle;\n",
       "    }\n",
       "\n",
       "    .dataframe tbody tr th {\n",
       "        vertical-align: top;\n",
       "    }\n",
       "\n",
       "    .dataframe thead th {\n",
       "        text-align: right;\n",
       "    }\n",
       "</style>\n",
       "<table border=\"1\" class=\"dataframe\">\n",
       "  <thead>\n",
       "    <tr style=\"text-align: right;\">\n",
       "      <th></th>\n",
       "      <th>children</th>\n",
       "      <th>dob_years</th>\n",
       "      <th>education_id</th>\n",
       "      <th>family_status_id</th>\n",
       "      <th>income_type</th>\n",
       "      <th>debt</th>\n",
       "      <th>total_income</th>\n",
       "      <th>purpose</th>\n",
       "      <th>purpose_total</th>\n",
       "      <th>gender_lower</th>\n",
       "      <th>days_employed_integer</th>\n",
       "      <th>total_income_category</th>\n",
       "    </tr>\n",
       "  </thead>\n",
       "  <tbody>\n",
       "    <tr>\n",
       "      <td>14</td>\n",
       "      <td>0</td>\n",
       "      <td>56</td>\n",
       "      <td>0</td>\n",
       "      <td>1</td>\n",
       "      <td>компаньон</td>\n",
       "      <td>1</td>\n",
       "      <td>165127</td>\n",
       "      <td>покупка жилой недвижимости</td>\n",
       "      <td>недвижимость</td>\n",
       "      <td>f</td>\n",
       "      <td>1844</td>\n",
       "      <td>C</td>\n",
       "    </tr>\n",
       "    <tr>\n",
       "      <td>32</td>\n",
       "      <td>0</td>\n",
       "      <td>34</td>\n",
       "      <td>1</td>\n",
       "      <td>1</td>\n",
       "      <td>сотрудник</td>\n",
       "      <td>1</td>\n",
       "      <td>139057</td>\n",
       "      <td>на проведение свадьбы</td>\n",
       "      <td>свадьба</td>\n",
       "      <td>f</td>\n",
       "      <td>4649</td>\n",
       "      <td>C</td>\n",
       "    </tr>\n",
       "    <tr>\n",
       "      <td>38</td>\n",
       "      <td>0</td>\n",
       "      <td>25</td>\n",
       "      <td>0</td>\n",
       "      <td>4</td>\n",
       "      <td>сотрудник</td>\n",
       "      <td>1</td>\n",
       "      <td>192247</td>\n",
       "      <td>образование</td>\n",
       "      <td>образование</td>\n",
       "      <td>m</td>\n",
       "      <td>597</td>\n",
       "      <td>C</td>\n",
       "    </tr>\n",
       "    <tr>\n",
       "      <td>55</td>\n",
       "      <td>0</td>\n",
       "      <td>54</td>\n",
       "      <td>1</td>\n",
       "      <td>1</td>\n",
       "      <td>пенсионер</td>\n",
       "      <td>1</td>\n",
       "      <td>118514</td>\n",
       "      <td>сыграть свадьбу</td>\n",
       "      <td>свадьба</td>\n",
       "      <td>f</td>\n",
       "      <td>1203</td>\n",
       "      <td>C</td>\n",
       "    </tr>\n",
       "    <tr>\n",
       "      <td>75</td>\n",
       "      <td>1</td>\n",
       "      <td>38</td>\n",
       "      <td>1</td>\n",
       "      <td>0</td>\n",
       "      <td>сотрудник</td>\n",
       "      <td>1</td>\n",
       "      <td>81935</td>\n",
       "      <td>операции с недвижимостью</td>\n",
       "      <td>недвижимость</td>\n",
       "      <td>m</td>\n",
       "      <td>2953</td>\n",
       "      <td>C</td>\n",
       "    </tr>\n",
       "  </tbody>\n",
       "</table>\n",
       "</div>"
      ],
      "text/plain": [
       "    children  dob_years  education_id  family_status_id income_type  debt  \\\n",
       "14         0         56             0                 1   компаньон     1   \n",
       "32         0         34             1                 1   сотрудник     1   \n",
       "38         0         25             0                 4   сотрудник     1   \n",
       "55         0         54             1                 1   пенсионер     1   \n",
       "75         1         38             1                 0   сотрудник     1   \n",
       "\n",
       "    total_income                     purpose purpose_total gender_lower  \\\n",
       "14        165127  покупка жилой недвижимости  недвижимость            f   \n",
       "32        139057       на проведение свадьбы       свадьба            f   \n",
       "38        192247                 образование   образование            m   \n",
       "55        118514             сыграть свадьбу       свадьба            f   \n",
       "75         81935    операции с недвижимостью  недвижимость            m   \n",
       "\n",
       "    days_employed_integer total_income_category  \n",
       "14                   1844                     C  \n",
       "32                   4649                     C  \n",
       "38                    597                     C  \n",
       "55                   1203                     C  \n",
       "75                   2953                     C  "
      ]
     },
     "execution_count": 59,
     "metadata": {},
     "output_type": "execute_result"
    }
   ],
   "source": [
    "data_cool[data_cool.debt == 1].head()"
   ]
  },
  {
   "cell_type": "markdown",
   "id": "ea43b222",
   "metadata": {},
   "source": [
    "<div style=\"background-color: #fff0e0; padding: 10px; font-family: monospace; font-size: 15px\">\n",
    "Посмотрим на каждый параметр</div>"
   ]
  },
  {
   "cell_type": "code",
   "execution_count": 60,
   "id": "780a9839",
   "metadata": {},
   "outputs": [
    {
     "data": {
      "text/html": [
       "<div>\n",
       "<style scoped>\n",
       "    .dataframe tbody tr th:only-of-type {\n",
       "        vertical-align: middle;\n",
       "    }\n",
       "\n",
       "    .dataframe tbody tr th {\n",
       "        vertical-align: top;\n",
       "    }\n",
       "\n",
       "    .dataframe thead th {\n",
       "        text-align: right;\n",
       "    }\n",
       "</style>\n",
       "<table border=\"1\" class=\"dataframe\">\n",
       "  <thead>\n",
       "    <tr style=\"text-align: right;\">\n",
       "      <th></th>\n",
       "      <th>debt</th>\n",
       "    </tr>\n",
       "    <tr>\n",
       "      <th>children</th>\n",
       "      <th></th>\n",
       "    </tr>\n",
       "  </thead>\n",
       "  <tbody>\n",
       "    <tr>\n",
       "      <td>5</td>\n",
       "      <td>0.000000</td>\n",
       "    </tr>\n",
       "    <tr>\n",
       "      <td>0</td>\n",
       "      <td>0.075295</td>\n",
       "    </tr>\n",
       "    <tr>\n",
       "      <td>3</td>\n",
       "      <td>0.081818</td>\n",
       "    </tr>\n",
       "    <tr>\n",
       "      <td>1</td>\n",
       "      <td>0.091470</td>\n",
       "    </tr>\n",
       "    <tr>\n",
       "      <td>2</td>\n",
       "      <td>0.094404</td>\n",
       "    </tr>\n",
       "    <tr>\n",
       "      <td>4</td>\n",
       "      <td>0.097561</td>\n",
       "    </tr>\n",
       "  </tbody>\n",
       "</table>\n",
       "</div>"
      ],
      "text/plain": [
       "              debt\n",
       "children          \n",
       "5         0.000000\n",
       "0         0.075295\n",
       "3         0.081818\n",
       "1         0.091470\n",
       "2         0.094404\n",
       "4         0.097561"
      ]
     },
     "execution_count": 60,
     "metadata": {},
     "output_type": "execute_result"
    }
   ],
   "source": [
    "data_cool.pivot_table(index=['children'],\n",
    "                      values=['debt'],\n",
    "                      aggfunc='mean'\n",
    "                     ).sort_values(by='debt')"
   ]
  },
  {
   "cell_type": "markdown",
   "id": "312059f4",
   "metadata": {},
   "source": [
    "<div style=\"background-color: #fff0e0; padding: 10px; font-family: monospace; font-size: 15px\">\n",
    "Как видно, чаще всего не платят люди с 4 детьми, недалеко от них с 2 и с 1, после чего уже с отрывом идут с 3 и без детей. Абсолютно честные люди – с 5 детьми, скорее всего их просто было не так много</div>"
   ]
  },
  {
   "cell_type": "code",
   "execution_count": 61,
   "id": "ca77170d",
   "metadata": {},
   "outputs": [
    {
     "data": {
      "text/html": [
       "<div>\n",
       "<style scoped>\n",
       "    .dataframe tbody tr th:only-of-type {\n",
       "        vertical-align: middle;\n",
       "    }\n",
       "\n",
       "    .dataframe tbody tr th {\n",
       "        vertical-align: top;\n",
       "    }\n",
       "\n",
       "    .dataframe thead th {\n",
       "        text-align: right;\n",
       "    }\n",
       "</style>\n",
       "<table border=\"1\" class=\"dataframe\">\n",
       "  <thead>\n",
       "    <tr style=\"text-align: right;\">\n",
       "      <th></th>\n",
       "      <th>count</th>\n",
       "      <th>sum</th>\n",
       "      <th>mean</th>\n",
       "    </tr>\n",
       "    <tr>\n",
       "      <th>children</th>\n",
       "      <th></th>\n",
       "      <th></th>\n",
       "      <th></th>\n",
       "    </tr>\n",
       "  </thead>\n",
       "  <tbody>\n",
       "    <tr>\n",
       "      <td>0</td>\n",
       "      <td>14224</td>\n",
       "      <td>1071</td>\n",
       "      <td>0.075295</td>\n",
       "    </tr>\n",
       "    <tr>\n",
       "      <td>1</td>\n",
       "      <td>4865</td>\n",
       "      <td>445</td>\n",
       "      <td>0.091470</td>\n",
       "    </tr>\n",
       "    <tr>\n",
       "      <td>2</td>\n",
       "      <td>2055</td>\n",
       "      <td>194</td>\n",
       "      <td>0.094404</td>\n",
       "    </tr>\n",
       "    <tr>\n",
       "      <td>3</td>\n",
       "      <td>330</td>\n",
       "      <td>27</td>\n",
       "      <td>0.081818</td>\n",
       "    </tr>\n",
       "    <tr>\n",
       "      <td>4</td>\n",
       "      <td>41</td>\n",
       "      <td>4</td>\n",
       "      <td>0.097561</td>\n",
       "    </tr>\n",
       "    <tr>\n",
       "      <td>5</td>\n",
       "      <td>9</td>\n",
       "      <td>0</td>\n",
       "      <td>0.000000</td>\n",
       "    </tr>\n",
       "  </tbody>\n",
       "</table>\n",
       "</div>"
      ],
      "text/plain": [
       "          count   sum      mean\n",
       "children                       \n",
       "0         14224  1071  0.075295\n",
       "1          4865   445  0.091470\n",
       "2          2055   194  0.094404\n",
       "3           330    27  0.081818\n",
       "4            41     4  0.097561\n",
       "5             9     0  0.000000"
      ]
     },
     "execution_count": 61,
     "metadata": {},
     "output_type": "execute_result"
    }
   ],
   "source": [
    "data_cool.groupby('children')['debt'].agg(['count','sum','mean'])"
   ]
  },
  {
   "cell_type": "code",
   "execution_count": 62,
   "id": "8131606b",
   "metadata": {},
   "outputs": [
    {
     "data": {
      "text/html": [
       "<div>\n",
       "<style scoped>\n",
       "    .dataframe tbody tr th:only-of-type {\n",
       "        vertical-align: middle;\n",
       "    }\n",
       "\n",
       "    .dataframe tbody tr th {\n",
       "        vertical-align: top;\n",
       "    }\n",
       "\n",
       "    .dataframe thead th {\n",
       "        text-align: right;\n",
       "    }\n",
       "</style>\n",
       "<table border=\"1\" class=\"dataframe\">\n",
       "  <thead>\n",
       "    <tr style=\"text-align: right;\">\n",
       "      <th></th>\n",
       "      <th>count</th>\n",
       "      <th>sum</th>\n",
       "      <th>my_mean</th>\n",
       "    </tr>\n",
       "    <tr>\n",
       "      <th>children</th>\n",
       "      <th></th>\n",
       "      <th></th>\n",
       "      <th></th>\n",
       "    </tr>\n",
       "  </thead>\n",
       "  <tbody>\n",
       "    <tr>\n",
       "      <td>0</td>\n",
       "      <td>14224</td>\n",
       "      <td>1071</td>\n",
       "      <td>7.529528</td>\n",
       "    </tr>\n",
       "    <tr>\n",
       "      <td>1</td>\n",
       "      <td>4865</td>\n",
       "      <td>445</td>\n",
       "      <td>9.146968</td>\n",
       "    </tr>\n",
       "    <tr>\n",
       "      <td>2</td>\n",
       "      <td>2055</td>\n",
       "      <td>194</td>\n",
       "      <td>9.440389</td>\n",
       "    </tr>\n",
       "    <tr>\n",
       "      <td>3</td>\n",
       "      <td>330</td>\n",
       "      <td>27</td>\n",
       "      <td>8.181818</td>\n",
       "    </tr>\n",
       "    <tr>\n",
       "      <td>4</td>\n",
       "      <td>41</td>\n",
       "      <td>4</td>\n",
       "      <td>9.756098</td>\n",
       "    </tr>\n",
       "    <tr>\n",
       "      <td>5</td>\n",
       "      <td>9</td>\n",
       "      <td>0</td>\n",
       "      <td>0.000000</td>\n",
       "    </tr>\n",
       "  </tbody>\n",
       "</table>\n",
       "</div>"
      ],
      "text/plain": [
       "          count   sum   my_mean\n",
       "children                       \n",
       "0         14224  1071  7.529528\n",
       "1          4865   445  9.146968\n",
       "2          2055   194  9.440389\n",
       "3           330    27  8.181818\n",
       "4            41     4  9.756098\n",
       "5             9     0  0.000000"
      ]
     },
     "execution_count": 62,
     "metadata": {},
     "output_type": "execute_result"
    }
   ],
   "source": [
    "def my_mean(x): return x.mean()*100\n",
    "\n",
    "# В кач-ве агрегирования можно любую функцию брать.\n",
    "data_cool.groupby('children')['debt'].agg(['count', 'sum', my_mean])"
   ]
  },
  {
   "cell_type": "code",
   "execution_count": 63,
   "id": "68dac120",
   "metadata": {},
   "outputs": [
    {
     "data": {
      "text/html": [
       "<div>\n",
       "<style scoped>\n",
       "    .dataframe tbody tr th:only-of-type {\n",
       "        vertical-align: middle;\n",
       "    }\n",
       "\n",
       "    .dataframe tbody tr th {\n",
       "        vertical-align: top;\n",
       "    }\n",
       "\n",
       "    .dataframe thead th {\n",
       "        text-align: right;\n",
       "    }\n",
       "</style>\n",
       "<table border=\"1\" class=\"dataframe\">\n",
       "  <thead>\n",
       "    <tr style=\"text-align: right;\">\n",
       "      <th></th>\n",
       "      <th>count</th>\n",
       "      <th>sum</th>\n",
       "      <th>my_mean</th>\n",
       "    </tr>\n",
       "    <tr>\n",
       "      <th>children</th>\n",
       "      <th></th>\n",
       "      <th></th>\n",
       "      <th></th>\n",
       "    </tr>\n",
       "  </thead>\n",
       "  <tbody>\n",
       "    <tr>\n",
       "      <td>0</td>\n",
       "      <td>14224</td>\n",
       "      <td>1071</td>\n",
       "      <td>7.53%</td>\n",
       "    </tr>\n",
       "    <tr>\n",
       "      <td>1</td>\n",
       "      <td>4865</td>\n",
       "      <td>445</td>\n",
       "      <td>9.15%</td>\n",
       "    </tr>\n",
       "    <tr>\n",
       "      <td>2</td>\n",
       "      <td>2055</td>\n",
       "      <td>194</td>\n",
       "      <td>9.44%</td>\n",
       "    </tr>\n",
       "    <tr>\n",
       "      <td>3</td>\n",
       "      <td>330</td>\n",
       "      <td>27</td>\n",
       "      <td>8.18%</td>\n",
       "    </tr>\n",
       "    <tr>\n",
       "      <td>4</td>\n",
       "      <td>41</td>\n",
       "      <td>4</td>\n",
       "      <td>9.76%</td>\n",
       "    </tr>\n",
       "    <tr>\n",
       "      <td>5</td>\n",
       "      <td>9</td>\n",
       "      <td>0</td>\n",
       "      <td>0.0%</td>\n",
       "    </tr>\n",
       "  </tbody>\n",
       "</table>\n",
       "</div>"
      ],
      "text/plain": [
       "          count   sum my_mean\n",
       "children                     \n",
       "0         14224  1071   7.53%\n",
       "1          4865   445   9.15%\n",
       "2          2055   194   9.44%\n",
       "3           330    27   8.18%\n",
       "4            41     4   9.76%\n",
       "5             9     0    0.0%"
      ]
     },
     "execution_count": 63,
     "metadata": {},
     "output_type": "execute_result"
    }
   ],
   "source": [
    "def my_mean(x): return str(round(x.mean()*100,2)) +'%'\n",
    "\n",
    "data_cool.groupby('children')['debt'].agg(['count', 'sum', my_mean])"
   ]
  },
  {
   "cell_type": "code",
   "execution_count": 64,
   "id": "53df9cd0",
   "metadata": {},
   "outputs": [
    {
     "data": {
      "text/html": [
       "<div>\n",
       "<style scoped>\n",
       "    .dataframe tbody tr th:only-of-type {\n",
       "        vertical-align: middle;\n",
       "    }\n",
       "\n",
       "    .dataframe tbody tr th {\n",
       "        vertical-align: top;\n",
       "    }\n",
       "\n",
       "    .dataframe thead th {\n",
       "        text-align: right;\n",
       "    }\n",
       "</style>\n",
       "<table border=\"1\" class=\"dataframe\">\n",
       "  <thead>\n",
       "    <tr style=\"text-align: right;\">\n",
       "      <th></th>\n",
       "      <th>count</th>\n",
       "      <th>sum</th>\n",
       "      <th>my_mean</th>\n",
       "    </tr>\n",
       "    <tr>\n",
       "      <th>children</th>\n",
       "      <th></th>\n",
       "      <th></th>\n",
       "      <th></th>\n",
       "    </tr>\n",
       "  </thead>\n",
       "  <tbody>\n",
       "    <tr>\n",
       "      <td>0</td>\n",
       "      <td>14224</td>\n",
       "      <td>1071</td>\n",
       "      <td>7.53%</td>\n",
       "    </tr>\n",
       "    <tr>\n",
       "      <td>1</td>\n",
       "      <td>4865</td>\n",
       "      <td>445</td>\n",
       "      <td>9.15%</td>\n",
       "    </tr>\n",
       "    <tr>\n",
       "      <td>2</td>\n",
       "      <td>2055</td>\n",
       "      <td>194</td>\n",
       "      <td>9.44%</td>\n",
       "    </tr>\n",
       "    <tr>\n",
       "      <td>3</td>\n",
       "      <td>330</td>\n",
       "      <td>27</td>\n",
       "      <td>8.18%</td>\n",
       "    </tr>\n",
       "    <tr>\n",
       "      <td>4</td>\n",
       "      <td>41</td>\n",
       "      <td>4</td>\n",
       "      <td>9.76%</td>\n",
       "    </tr>\n",
       "    <tr>\n",
       "      <td>5</td>\n",
       "      <td>9</td>\n",
       "      <td>0</td>\n",
       "      <td>0.00%</td>\n",
       "    </tr>\n",
       "  </tbody>\n",
       "</table>\n",
       "</div>"
      ],
      "text/plain": [
       "          count   sum my_mean\n",
       "children                     \n",
       "0         14224  1071  7.53% \n",
       "1          4865   445  9.15% \n",
       "2          2055   194  9.44% \n",
       "3           330    27  8.18% \n",
       "4            41     4  9.76% \n",
       "5             9     0  0.00% "
      ]
     },
     "execution_count": 64,
     "metadata": {},
     "output_type": "execute_result"
    }
   ],
   "source": [
    "def my_mean(x): return '{:.2%} '.format(x.mean())\n",
    "\n",
    "data_cool.groupby('children')['debt'].agg(['count', 'sum', my_mean])"
   ]
  },
  {
   "cell_type": "code",
   "execution_count": 65,
   "id": "f731ba2f",
   "metadata": {},
   "outputs": [
    {
     "data": {
      "text/html": [
       "<div>\n",
       "<style scoped>\n",
       "    .dataframe tbody tr th:only-of-type {\n",
       "        vertical-align: middle;\n",
       "    }\n",
       "\n",
       "    .dataframe tbody tr th {\n",
       "        vertical-align: top;\n",
       "    }\n",
       "\n",
       "    .dataframe thead th {\n",
       "        text-align: right;\n",
       "    }\n",
       "</style>\n",
       "<table border=\"1\" class=\"dataframe\">\n",
       "  <thead>\n",
       "    <tr style=\"text-align: right;\">\n",
       "      <th></th>\n",
       "      <th>family_status_id</th>\n",
       "      <th>debt</th>\n",
       "      <th>family_status_lower</th>\n",
       "    </tr>\n",
       "  </thead>\n",
       "  <tbody>\n",
       "    <tr>\n",
       "      <td>0</td>\n",
       "      <td>2</td>\n",
       "      <td>0.065625</td>\n",
       "      <td>вдовец / вдова</td>\n",
       "    </tr>\n",
       "    <tr>\n",
       "      <td>1</td>\n",
       "      <td>3</td>\n",
       "      <td>0.071130</td>\n",
       "      <td>в разводе</td>\n",
       "    </tr>\n",
       "    <tr>\n",
       "      <td>2</td>\n",
       "      <td>0</td>\n",
       "      <td>0.075202</td>\n",
       "      <td>женат / замужем</td>\n",
       "    </tr>\n",
       "    <tr>\n",
       "      <td>3</td>\n",
       "      <td>1</td>\n",
       "      <td>0.092912</td>\n",
       "      <td>гражданский брак</td>\n",
       "    </tr>\n",
       "    <tr>\n",
       "      <td>4</td>\n",
       "      <td>4</td>\n",
       "      <td>0.097405</td>\n",
       "      <td>не женат / не замужем</td>\n",
       "    </tr>\n",
       "  </tbody>\n",
       "</table>\n",
       "</div>"
      ],
      "text/plain": [
       "   family_status_id      debt    family_status_lower\n",
       "0                 2  0.065625         вдовец / вдова\n",
       "1                 3  0.071130              в разводе\n",
       "2                 0  0.075202        женат / замужем\n",
       "3                 1  0.092912       гражданский брак\n",
       "4                 4  0.097405  не женат / не замужем"
      ]
     },
     "execution_count": 65,
     "metadata": {},
     "output_type": "execute_result"
    }
   ],
   "source": [
    "data_cool.pivot_table(index=['family_status_id'],\n",
    "                      values=['debt'],\n",
    "                      aggfunc='mean'\n",
    "                     ).sort_values(by='debt').merge(data_family_only, on='family_status_id')"
   ]
  },
  {
   "cell_type": "markdown",
   "id": "a9c836e0",
   "metadata": {},
   "source": [
    "<div style=\"background-color: #fff0e0; padding: 10px; font-family: monospace; font-size: 15px\">\n",
    "Самые частые задержки у холостых, самые редкие – у товарищей с браком в прошлом</div>"
   ]
  },
  {
   "cell_type": "code",
   "execution_count": 66,
   "id": "68fc72fe",
   "metadata": {},
   "outputs": [
    {
     "data": {
      "text/html": [
       "<div>\n",
       "<style scoped>\n",
       "    .dataframe tbody tr th:only-of-type {\n",
       "        vertical-align: middle;\n",
       "    }\n",
       "\n",
       "    .dataframe tbody tr th {\n",
       "        vertical-align: top;\n",
       "    }\n",
       "\n",
       "    .dataframe thead th {\n",
       "        text-align: right;\n",
       "    }\n",
       "</style>\n",
       "<table border=\"1\" class=\"dataframe\">\n",
       "  <thead>\n",
       "    <tr style=\"text-align: right;\">\n",
       "      <th></th>\n",
       "      <th>debt</th>\n",
       "    </tr>\n",
       "    <tr>\n",
       "      <th>total_income_category</th>\n",
       "      <th></th>\n",
       "    </tr>\n",
       "  </thead>\n",
       "  <tbody>\n",
       "    <tr>\n",
       "      <td>D</td>\n",
       "      <td>0.060000</td>\n",
       "    </tr>\n",
       "    <tr>\n",
       "      <td>B</td>\n",
       "      <td>0.070621</td>\n",
       "    </tr>\n",
       "    <tr>\n",
       "      <td>A</td>\n",
       "      <td>0.080000</td>\n",
       "    </tr>\n",
       "    <tr>\n",
       "      <td>C</td>\n",
       "      <td>0.084546</td>\n",
       "    </tr>\n",
       "    <tr>\n",
       "      <td>E</td>\n",
       "      <td>0.090909</td>\n",
       "    </tr>\n",
       "  </tbody>\n",
       "</table>\n",
       "</div>"
      ],
      "text/plain": [
       "                           debt\n",
       "total_income_category          \n",
       "D                      0.060000\n",
       "B                      0.070621\n",
       "A                      0.080000\n",
       "C                      0.084546\n",
       "E                      0.090909"
      ]
     },
     "execution_count": 66,
     "metadata": {},
     "output_type": "execute_result"
    }
   ],
   "source": [
    "data_cool.pivot_table(index=['total_income_category'],\n",
    "                      values=['debt'],\n",
    "                      aggfunc='mean'\n",
    "                     ).sort_values(by='debt')"
   ]
  },
  {
   "cell_type": "markdown",
   "id": "019f41db",
   "metadata": {},
   "source": [
    "<div style=\"background-color: #fff0e0; padding: 10px; font-family: monospace; font-size: 15px\">\n",
    "Можно сделать вывод, что ниже всего задержки у категории D, хотя самые высокие показатели невозврата – у E</div>"
   ]
  },
  {
   "cell_type": "code",
   "execution_count": 67,
   "id": "170970da",
   "metadata": {},
   "outputs": [
    {
     "data": {
      "text/html": [
       "<div>\n",
       "<style scoped>\n",
       "    .dataframe tbody tr th:only-of-type {\n",
       "        vertical-align: middle;\n",
       "    }\n",
       "\n",
       "    .dataframe tbody tr th {\n",
       "        vertical-align: top;\n",
       "    }\n",
       "\n",
       "    .dataframe thead th {\n",
       "        text-align: right;\n",
       "    }\n",
       "</style>\n",
       "<table border=\"1\" class=\"dataframe\">\n",
       "  <thead>\n",
       "    <tr style=\"text-align: right;\">\n",
       "      <th></th>\n",
       "      <th>debt</th>\n",
       "    </tr>\n",
       "    <tr>\n",
       "      <th>purpose_total</th>\n",
       "      <th></th>\n",
       "    </tr>\n",
       "  </thead>\n",
       "  <tbody>\n",
       "    <tr>\n",
       "      <td>недвижимость</td>\n",
       "      <td>0.072147</td>\n",
       "    </tr>\n",
       "    <tr>\n",
       "      <td>свадьба</td>\n",
       "      <td>0.079216</td>\n",
       "    </tr>\n",
       "    <tr>\n",
       "      <td>образование</td>\n",
       "      <td>0.091994</td>\n",
       "    </tr>\n",
       "    <tr>\n",
       "      <td>автомобили</td>\n",
       "      <td>0.093395</td>\n",
       "    </tr>\n",
       "  </tbody>\n",
       "</table>\n",
       "</div>"
      ],
      "text/plain": [
       "                   debt\n",
       "purpose_total          \n",
       "недвижимость   0.072147\n",
       "свадьба        0.079216\n",
       "образование    0.091994\n",
       "автомобили     0.093395"
      ]
     },
     "execution_count": 67,
     "metadata": {},
     "output_type": "execute_result"
    }
   ],
   "source": [
    "data_cool.pivot_table(index=['purpose_total'],\n",
    "                      values=['debt'],\n",
    "                      aggfunc='mean'\n",
    "                     ).sort_values(by='debt')"
   ]
  },
  {
   "cell_type": "markdown",
   "id": "3d0084d9",
   "metadata": {},
   "source": [
    "<div style=\"background-color: #fff0e0; padding: 10px; font-family: monospace; font-size: 15px\">\n",
    "Здесь можно составить рейтинг, который говорит о том, что самые честные – те кто работают с недвижимостью, а вот автомобили оставляют желать лучшего</div>"
   ]
  },
  {
   "cell_type": "code",
   "execution_count": 68,
   "id": "939ab6a6",
   "metadata": {},
   "outputs": [
    {
     "data": {
      "text/html": [
       "<div>\n",
       "<style scoped>\n",
       "    .dataframe tbody tr th:only-of-type {\n",
       "        vertical-align: middle;\n",
       "    }\n",
       "\n",
       "    .dataframe tbody tr th {\n",
       "        vertical-align: top;\n",
       "    }\n",
       "\n",
       "    .dataframe thead th {\n",
       "        text-align: right;\n",
       "    }\n",
       "</style>\n",
       "<table border=\"1\" class=\"dataframe\">\n",
       "  <thead>\n",
       "    <tr style=\"text-align: right;\">\n",
       "      <th></th>\n",
       "      <th>debt</th>\n",
       "    </tr>\n",
       "    <tr>\n",
       "      <th>purpose</th>\n",
       "      <th></th>\n",
       "    </tr>\n",
       "  </thead>\n",
       "  <tbody>\n",
       "    <tr>\n",
       "      <td>покупка своего жилья</td>\n",
       "      <td>0.054839</td>\n",
       "    </tr>\n",
       "    <tr>\n",
       "      <td>ремонт жилью</td>\n",
       "      <td>0.057190</td>\n",
       "    </tr>\n",
       "    <tr>\n",
       "      <td>строительство собственной недвижимости</td>\n",
       "      <td>0.066142</td>\n",
       "    </tr>\n",
       "    <tr>\n",
       "      <td>недвижимость</td>\n",
       "      <td>0.066246</td>\n",
       "    </tr>\n",
       "    <tr>\n",
       "      <td>покупка жилой недвижимости</td>\n",
       "      <td>0.067545</td>\n",
       "    </tr>\n",
       "    <tr>\n",
       "      <td>покупка недвижимости</td>\n",
       "      <td>0.069021</td>\n",
       "    </tr>\n",
       "    <tr>\n",
       "      <td>покупка жилья для семьи</td>\n",
       "      <td>0.070203</td>\n",
       "    </tr>\n",
       "    <tr>\n",
       "      <td>покупка коммерческой недвижимости</td>\n",
       "      <td>0.070783</td>\n",
       "    </tr>\n",
       "    <tr>\n",
       "      <td>жилье</td>\n",
       "      <td>0.071097</td>\n",
       "    </tr>\n",
       "    <tr>\n",
       "      <td>образование</td>\n",
       "      <td>0.071588</td>\n",
       "    </tr>\n",
       "    <tr>\n",
       "      <td>операции с жильем</td>\n",
       "      <td>0.073507</td>\n",
       "    </tr>\n",
       "    <tr>\n",
       "      <td>покупка жилья</td>\n",
       "      <td>0.074189</td>\n",
       "    </tr>\n",
       "    <tr>\n",
       "      <td>сыграть свадьбу</td>\n",
       "      <td>0.074935</td>\n",
       "    </tr>\n",
       "    <tr>\n",
       "      <td>на покупку подержанного автомобиля</td>\n",
       "      <td>0.075157</td>\n",
       "    </tr>\n",
       "    <tr>\n",
       "      <td>строительство жилой недвижимости</td>\n",
       "      <td>0.076677</td>\n",
       "    </tr>\n",
       "    <tr>\n",
       "      <td>операции со своей недвижимостью</td>\n",
       "      <td>0.079365</td>\n",
       "    </tr>\n",
       "    <tr>\n",
       "      <td>покупка жилья для сдачи</td>\n",
       "      <td>0.079632</td>\n",
       "    </tr>\n",
       "    <tr>\n",
       "      <td>операции с коммерческой недвижимостью</td>\n",
       "      <td>0.079877</td>\n",
       "    </tr>\n",
       "    <tr>\n",
       "      <td>свадьба</td>\n",
       "      <td>0.080301</td>\n",
       "    </tr>\n",
       "    <tr>\n",
       "      <td>операции с недвижимостью</td>\n",
       "      <td>0.081361</td>\n",
       "    </tr>\n",
       "    <tr>\n",
       "      <td>дополнительное образование</td>\n",
       "      <td>0.082251</td>\n",
       "    </tr>\n",
       "    <tr>\n",
       "      <td>на проведение свадьбы</td>\n",
       "      <td>0.082368</td>\n",
       "    </tr>\n",
       "    <tr>\n",
       "      <td>получение образования</td>\n",
       "      <td>0.083521</td>\n",
       "    </tr>\n",
       "    <tr>\n",
       "      <td>автомобиль</td>\n",
       "      <td>0.084848</td>\n",
       "    </tr>\n",
       "    <tr>\n",
       "      <td>заняться высшим образованием</td>\n",
       "      <td>0.086694</td>\n",
       "    </tr>\n",
       "    <tr>\n",
       "      <td>строительство недвижимости</td>\n",
       "      <td>0.087097</td>\n",
       "    </tr>\n",
       "    <tr>\n",
       "      <td>высшее образование</td>\n",
       "      <td>0.088300</td>\n",
       "    </tr>\n",
       "    <tr>\n",
       "      <td>приобретение автомобиля</td>\n",
       "      <td>0.090909</td>\n",
       "    </tr>\n",
       "    <tr>\n",
       "      <td>на покупку своего автомобиля</td>\n",
       "      <td>0.091089</td>\n",
       "    </tr>\n",
       "    <tr>\n",
       "      <td>автомобили</td>\n",
       "      <td>0.092050</td>\n",
       "    </tr>\n",
       "    <tr>\n",
       "      <td>на покупку автомобиля</td>\n",
       "      <td>0.093220</td>\n",
       "    </tr>\n",
       "    <tr>\n",
       "      <td>заняться образованием</td>\n",
       "      <td>0.094660</td>\n",
       "    </tr>\n",
       "    <tr>\n",
       "      <td>свой автомобиль</td>\n",
       "      <td>0.100000</td>\n",
       "    </tr>\n",
       "    <tr>\n",
       "      <td>профильное образование</td>\n",
       "      <td>0.100917</td>\n",
       "    </tr>\n",
       "    <tr>\n",
       "      <td>сделка с подержанным автомобилем</td>\n",
       "      <td>0.104294</td>\n",
       "    </tr>\n",
       "    <tr>\n",
       "      <td>получение высшего образования</td>\n",
       "      <td>0.107981</td>\n",
       "    </tr>\n",
       "    <tr>\n",
       "      <td>сделка с автомобилем</td>\n",
       "      <td>0.109890</td>\n",
       "    </tr>\n",
       "    <tr>\n",
       "      <td>получение дополнительного образования</td>\n",
       "      <td>0.114094</td>\n",
       "    </tr>\n",
       "  </tbody>\n",
       "</table>\n",
       "</div>"
      ],
      "text/plain": [
       "                                            debt\n",
       "purpose                                         \n",
       "покупка своего жилья                    0.054839\n",
       "ремонт жилью                            0.057190\n",
       "строительство собственной недвижимости  0.066142\n",
       "недвижимость                            0.066246\n",
       "покупка жилой недвижимости              0.067545\n",
       "покупка недвижимости                    0.069021\n",
       "покупка жилья для семьи                 0.070203\n",
       "покупка коммерческой недвижимости       0.070783\n",
       "жилье                                   0.071097\n",
       "образование                             0.071588\n",
       "операции с жильем                       0.073507\n",
       "покупка жилья                           0.074189\n",
       "сыграть свадьбу                         0.074935\n",
       "на покупку подержанного автомобиля      0.075157\n",
       "строительство жилой недвижимости        0.076677\n",
       "операции со своей недвижимостью         0.079365\n",
       "покупка жилья для сдачи                 0.079632\n",
       "операции с коммерческой недвижимостью   0.079877\n",
       "свадьба                                 0.080301\n",
       "операции с недвижимостью                0.081361\n",
       "дополнительное образование              0.082251\n",
       "на проведение свадьбы                   0.082368\n",
       "получение образования                   0.083521\n",
       "автомобиль                              0.084848\n",
       "заняться высшим образованием            0.086694\n",
       "строительство недвижимости              0.087097\n",
       "высшее образование                      0.088300\n",
       "приобретение автомобиля                 0.090909\n",
       "на покупку своего автомобиля            0.091089\n",
       "автомобили                              0.092050\n",
       "на покупку автомобиля                   0.093220\n",
       "заняться образованием                   0.094660\n",
       "свой автомобиль                         0.100000\n",
       "профильное образование                  0.100917\n",
       "сделка с подержанным автомобилем        0.104294\n",
       "получение высшего образования           0.107981\n",
       "сделка с автомобилем                    0.109890\n",
       "получение дополнительного образования   0.114094"
      ]
     },
     "execution_count": 68,
     "metadata": {},
     "output_type": "execute_result"
    }
   ],
   "source": [
    "data_cool.pivot_table(index=['purpose'],\n",
    "                      values=['debt'],\n",
    "                      aggfunc='mean'\n",
    "                     ).sort_values(by='debt')"
   ]
  },
  {
   "cell_type": "markdown",
   "id": "33b1bceb",
   "metadata": {},
   "source": [
    "<div style=\"background-color: #fff0e0; padding: 10px; font-family: monospace; font-size: 15px\">\n",
    "Здесь видно, что получение дополнительного образования является самым частым кредитом с задержками выплат, и получение высшего тоже недалеко. Однако, сделки с недвижимостью все таки определились верно – у них самые слабые показатели невозврата</div>"
   ]
  },
  {
   "cell_type": "markdown",
   "id": "1386a016",
   "metadata": {},
   "source": [
    "### 1.0.11.   Ответы на вопросы."
   ]
  },
  {
   "cell_type": "markdown",
   "id": "2a094e2d",
   "metadata": {},
   "source": [
    "###   Вопрос 1:"
   ]
  },
  {
   "cell_type": "markdown",
   "id": "a7cb553b",
   "metadata": {},
   "source": [
    "<div style=\"background-color: #fff0e0; padding: 10px; font-family: monospace; font-size: 15px\">\n",
    "Есть ли зависимость между количеством детей и возвратом кредита в срок?</div>"
   ]
  },
  {
   "cell_type": "markdown",
   "id": "e3c0a578",
   "metadata": {},
   "source": [
    "### Вывод 1:"
   ]
  },
  {
   "cell_type": "markdown",
   "id": "3227a87b",
   "metadata": {},
   "source": [
    "<div style=\"background-color: #fff0ee; padding: 10px; font-family: monospace; font-size: 15px\">\n",
    "Да, люди с 4 детьми, 1 ребенком и вообще без детей реже возвращают кредиты</div>"
   ]
  },
  {
   "cell_type": "markdown",
   "id": "0ee0a869",
   "metadata": {},
   "source": [
    "### Вопрос 2:"
   ]
  },
  {
   "cell_type": "markdown",
   "id": "a863e169",
   "metadata": {},
   "source": [
    "<div style=\"background-color: #fff0e0; padding: 10px; font-family: monospace; font-size: 15px\">\n",
    "Есть ли зависимость между семейным положением и возвратом кредита в срок?</div>"
   ]
  },
  {
   "cell_type": "markdown",
   "id": "a32f5256",
   "metadata": {},
   "source": [
    "### Вывод 2:"
   ]
  },
  {
   "cell_type": "markdown",
   "id": "a81cacc9",
   "metadata": {},
   "source": [
    "<div style=\"background-color: #fff0ee; padding: 10px; font-family: monospace; font-size: 15px\">\n",
    "Да, самые частые задержки – у людей, не закрепивших свой брак, а самые редкие – у тех, кто был со своей половинкой в прошлом</div>"
   ]
  },
  {
   "cell_type": "markdown",
   "id": "238a535a",
   "metadata": {},
   "source": [
    "### Вопрос 3:"
   ]
  },
  {
   "cell_type": "markdown",
   "id": "394427b3",
   "metadata": {},
   "source": [
    "<div style=\"background-color: #fff0e0; padding: 10px; font-family: monospace; font-size: 15px\">\n",
    "Есть ли зависимость между уровнем дохода и возвратом кредита в срок?</div>"
   ]
  },
  {
   "cell_type": "markdown",
   "id": "46d030c5",
   "metadata": {},
   "source": [
    "### Вывод 3:"
   ]
  },
  {
   "cell_type": "markdown",
   "id": "d4bcbf14",
   "metadata": {},
   "source": [
    "<div style=\"background-color: #fff0ee; padding: 10px; font-family: monospace; font-size: 15px\">\n",
    "Есть, однако топ-категории с задержками и без находятся очень рядом друг с другом</div>"
   ]
  },
  {
   "cell_type": "markdown",
   "id": "a90cd4c8",
   "metadata": {},
   "source": [
    "### Вопрос 4:"
   ]
  },
  {
   "cell_type": "markdown",
   "id": "6b235af7",
   "metadata": {},
   "source": [
    "<div style=\"background-color: #fff0e0; padding: 10px; font-family: monospace; font-size: 15px\">\n",
    "Как разные цели кредита влияют на его возврат в срок?</div>"
   ]
  },
  {
   "cell_type": "markdown",
   "id": "4bbc9401",
   "metadata": {},
   "source": [
    "### Вывод 4:"
   ]
  },
  {
   "cell_type": "markdown",
   "id": "5e105e75",
   "metadata": {},
   "source": [
    "<div style=\"background-color: #fff0e0; padding: 10px; font-family: monospace; font-size: 15px\">\n",
    "С недвижимости возвращают больше кредитов, с образованием и автомобилями – меньше</div>"
   ]
  },
  {
   "cell_type": "markdown",
   "id": "933e8244",
   "metadata": {},
   "source": [
    "## 1.1.   Общий вывод:"
   ]
  },
  {
   "cell_type": "markdown",
   "id": "de5083d2",
   "metadata": {},
   "source": [
    "<div style=\"background-color: #fff0e0; padding: 10px; font-family: monospace; font-size: 15px\">\n",
    "Каждый параметр влияет на показатели возврата кредита вовремя, портрет самого честного человека – человек в разводе, с 5 детьми и желающий взять кредит на операции с недвижимостью</div>"
   ]
  }
 ],
 "metadata": {
  "ExecuteTimeLog": [
   {
    "duration": 603,
    "start_time": "2022-02-24T08:45:01.440Z"
   },
   {
    "duration": 69,
    "start_time": "2022-02-24T08:45:44.484Z"
   },
   {
    "duration": 56,
    "start_time": "2022-02-24T08:45:49.988Z"
   },
   {
    "duration": 56,
    "start_time": "2022-02-24T08:45:54.280Z"
   },
   {
    "duration": 12,
    "start_time": "2022-02-24T08:47:22.830Z"
   },
   {
    "duration": 11,
    "start_time": "2022-02-24T08:47:33.922Z"
   },
   {
    "duration": 4,
    "start_time": "2022-02-24T08:50:36.975Z"
   },
   {
    "duration": 7,
    "start_time": "2022-02-24T08:50:48.483Z"
   },
   {
    "duration": 5,
    "start_time": "2022-02-24T08:53:56.067Z"
   },
   {
    "duration": 5,
    "start_time": "2022-02-24T08:55:11.233Z"
   },
   {
    "duration": 4,
    "start_time": "2022-02-24T08:55:46.616Z"
   },
   {
    "duration": 5,
    "start_time": "2022-02-24T08:55:51.872Z"
   },
   {
    "duration": 5,
    "start_time": "2022-02-24T08:56:07.391Z"
   },
   {
    "duration": 4,
    "start_time": "2022-02-24T08:56:20.472Z"
   },
   {
    "duration": 5,
    "start_time": "2022-02-24T08:56:33.673Z"
   },
   {
    "duration": 5,
    "start_time": "2022-02-24T08:56:58.694Z"
   },
   {
    "duration": 5,
    "start_time": "2022-02-24T08:57:33.196Z"
   },
   {
    "duration": 4,
    "start_time": "2022-02-24T08:57:33.374Z"
   },
   {
    "duration": 290,
    "start_time": "2022-02-24T08:58:32.302Z"
   },
   {
    "duration": 23,
    "start_time": "2022-02-24T08:58:42.145Z"
   },
   {
    "duration": 16,
    "start_time": "2022-02-24T08:58:54.014Z"
   },
   {
    "duration": 16,
    "start_time": "2022-02-24T08:59:15.628Z"
   },
   {
    "duration": 21,
    "start_time": "2022-02-24T08:59:19.357Z"
   },
   {
    "duration": 16,
    "start_time": "2022-02-24T08:59:24.526Z"
   },
   {
    "duration": 8,
    "start_time": "2022-02-24T09:13:40.918Z"
   },
   {
    "duration": 9,
    "start_time": "2022-02-24T09:13:57.994Z"
   },
   {
    "duration": 8,
    "start_time": "2022-02-24T09:14:05.666Z"
   },
   {
    "duration": 17,
    "start_time": "2022-02-24T09:14:17.214Z"
   },
   {
    "duration": 7,
    "start_time": "2022-02-24T09:14:24.286Z"
   },
   {
    "duration": 9,
    "start_time": "2022-02-24T09:14:44.428Z"
   },
   {
    "duration": 10,
    "start_time": "2022-02-24T09:20:23.799Z"
   },
   {
    "duration": 22,
    "start_time": "2022-02-24T09:20:42.593Z"
   },
   {
    "duration": 14,
    "start_time": "2022-02-24T09:27:25.218Z"
   },
   {
    "duration": 16,
    "start_time": "2022-02-24T09:27:39.092Z"
   },
   {
    "duration": 3,
    "start_time": "2022-02-24T09:32:10.406Z"
   },
   {
    "duration": 13,
    "start_time": "2022-02-24T09:32:17.317Z"
   },
   {
    "duration": 13,
    "start_time": "2022-02-24T09:35:21.664Z"
   },
   {
    "duration": 12,
    "start_time": "2022-02-24T09:35:32.694Z"
   },
   {
    "duration": 9,
    "start_time": "2022-02-24T09:35:46.972Z"
   },
   {
    "duration": 9,
    "start_time": "2022-02-24T09:37:27.267Z"
   },
   {
    "duration": 9,
    "start_time": "2022-02-24T09:37:41.877Z"
   },
   {
    "duration": 10,
    "start_time": "2022-02-24T13:57:12.761Z"
   },
   {
    "duration": 6,
    "start_time": "2022-02-24T13:57:19.974Z"
   },
   {
    "duration": 6,
    "start_time": "2022-02-24T13:57:33.071Z"
   },
   {
    "duration": 267,
    "start_time": "2022-02-24T19:18:26.061Z"
   },
   {
    "duration": 679,
    "start_time": "2022-02-24T19:18:32.176Z"
   },
   {
    "duration": 74,
    "start_time": "2022-02-24T19:18:33.636Z"
   },
   {
    "duration": 15,
    "start_time": "2022-02-24T19:18:34.332Z"
   },
   {
    "duration": 5,
    "start_time": "2022-02-24T19:18:34.875Z"
   },
   {
    "duration": 5,
    "start_time": "2022-02-24T19:18:35.015Z"
   },
   {
    "duration": 16,
    "start_time": "2022-02-24T19:18:35.239Z"
   },
   {
    "duration": 16,
    "start_time": "2022-02-24T19:18:35.465Z"
   },
   {
    "duration": 9,
    "start_time": "2022-02-24T19:18:36.380Z"
   },
   {
    "duration": 10,
    "start_time": "2022-02-24T19:18:37.664Z"
   },
   {
    "duration": 25,
    "start_time": "2022-02-24T19:18:38.050Z"
   },
   {
    "duration": 16,
    "start_time": "2022-02-24T19:18:39.324Z"
   },
   {
    "duration": 11,
    "start_time": "2022-02-24T19:18:40.574Z"
   },
   {
    "duration": 12,
    "start_time": "2022-02-24T19:18:42.052Z"
   },
   {
    "duration": 16,
    "start_time": "2022-02-24T19:19:08.309Z"
   },
   {
    "duration": 11,
    "start_time": "2022-02-24T19:19:20.355Z"
   },
   {
    "duration": 82,
    "start_time": "2022-02-24T19:19:58.655Z"
   },
   {
    "duration": 25,
    "start_time": "2022-02-24T19:21:35.197Z"
   },
   {
    "duration": 9,
    "start_time": "2022-02-24T19:21:51.140Z"
   },
   {
    "duration": 10,
    "start_time": "2022-02-24T19:21:54.934Z"
   },
   {
    "duration": 2,
    "start_time": "2022-02-24T19:21:59.742Z"
   },
   {
    "duration": 64,
    "start_time": "2022-02-24T19:21:59.746Z"
   },
   {
    "duration": 12,
    "start_time": "2022-02-24T19:21:59.812Z"
   },
   {
    "duration": 5,
    "start_time": "2022-02-24T19:22:00.542Z"
   },
   {
    "duration": 5,
    "start_time": "2022-02-24T19:22:00.696Z"
   },
   {
    "duration": 18,
    "start_time": "2022-02-24T19:22:01.020Z"
   },
   {
    "duration": 94,
    "start_time": "2022-02-24T19:22:01.069Z"
   },
   {
    "duration": 9,
    "start_time": "2022-02-24T19:22:01.916Z"
   },
   {
    "duration": 10,
    "start_time": "2022-02-24T19:22:03.285Z"
   },
   {
    "duration": 23,
    "start_time": "2022-02-24T19:22:03.546Z"
   },
   {
    "duration": 16,
    "start_time": "2022-02-24T19:22:05.435Z"
   },
   {
    "duration": 10,
    "start_time": "2022-02-24T19:22:07.352Z"
   },
   {
    "duration": 12,
    "start_time": "2022-02-24T19:22:09.964Z"
   },
   {
    "duration": 9,
    "start_time": "2022-02-24T19:22:41.241Z"
   },
   {
    "duration": 11,
    "start_time": "2022-02-24T19:23:05.427Z"
   },
   {
    "duration": 3,
    "start_time": "2022-02-24T19:23:14.850Z"
   },
   {
    "duration": 59,
    "start_time": "2022-02-24T19:23:15.264Z"
   },
   {
    "duration": 13,
    "start_time": "2022-02-24T19:23:15.591Z"
   },
   {
    "duration": 5,
    "start_time": "2022-02-24T19:23:15.925Z"
   },
   {
    "duration": 6,
    "start_time": "2022-02-24T19:23:16.101Z"
   },
   {
    "duration": 16,
    "start_time": "2022-02-24T19:23:16.285Z"
   },
   {
    "duration": 15,
    "start_time": "2022-02-24T19:23:16.427Z"
   },
   {
    "duration": 10,
    "start_time": "2022-02-24T19:23:16.978Z"
   },
   {
    "duration": 11,
    "start_time": "2022-02-24T19:23:18.668Z"
   },
   {
    "duration": 24,
    "start_time": "2022-02-24T19:23:18.842Z"
   },
   {
    "duration": 16,
    "start_time": "2022-02-24T19:23:19.581Z"
   },
   {
    "duration": 11,
    "start_time": "2022-02-24T19:23:20.965Z"
   },
   {
    "duration": 10,
    "start_time": "2022-02-24T19:23:24.935Z"
   },
   {
    "duration": 11,
    "start_time": "2022-02-24T19:23:26.478Z"
   },
   {
    "duration": 355,
    "start_time": "2022-02-24T22:23:31.266Z"
   },
   {
    "duration": 706,
    "start_time": "2022-02-24T22:23:35.017Z"
   },
   {
    "duration": 91,
    "start_time": "2022-02-24T22:23:36.106Z"
   },
   {
    "duration": 16,
    "start_time": "2022-02-24T22:23:36.440Z"
   },
   {
    "duration": 6,
    "start_time": "2022-02-24T22:23:36.777Z"
   },
   {
    "duration": 6,
    "start_time": "2022-02-24T22:23:36.971Z"
   },
   {
    "duration": 29,
    "start_time": "2022-02-24T22:23:37.122Z"
   },
   {
    "duration": 23,
    "start_time": "2022-02-24T22:23:37.304Z"
   },
   {
    "duration": 10,
    "start_time": "2022-02-24T22:23:37.874Z"
   },
   {
    "duration": 13,
    "start_time": "2022-02-24T22:23:38.810Z"
   },
   {
    "duration": 34,
    "start_time": "2022-02-24T22:23:38.971Z"
   },
   {
    "duration": 22,
    "start_time": "2022-02-24T22:23:40.715Z"
   },
   {
    "duration": 14,
    "start_time": "2022-02-24T22:23:41.462Z"
   },
   {
    "duration": 13,
    "start_time": "2022-02-24T22:23:42.385Z"
   },
   {
    "duration": 12,
    "start_time": "2022-02-24T22:23:42.904Z"
   },
   {
    "duration": 7,
    "start_time": "2022-02-24T22:23:44.281Z"
   },
   {
    "duration": 90,
    "start_time": "2022-02-24T22:26:45.175Z"
   },
   {
    "duration": 34,
    "start_time": "2022-02-24T22:27:42.923Z"
   },
   {
    "duration": 8,
    "start_time": "2022-02-24T22:28:23.618Z"
   },
   {
    "duration": 13,
    "start_time": "2022-02-24T22:31:07.077Z"
   },
   {
    "duration": 84,
    "start_time": "2022-02-24T22:31:36.649Z"
   },
   {
    "duration": 9,
    "start_time": "2022-02-24T22:35:59.240Z"
   },
   {
    "duration": 12,
    "start_time": "2022-02-24T22:36:33.493Z"
   },
   {
    "duration": 13,
    "start_time": "2022-02-24T22:38:23.865Z"
   },
   {
    "duration": 12,
    "start_time": "2022-02-24T22:40:34.030Z"
   },
   {
    "duration": 269,
    "start_time": "2022-02-24T22:42:08.859Z"
   },
   {
    "duration": 239,
    "start_time": "2022-02-24T22:42:20.155Z"
   },
   {
    "duration": 8,
    "start_time": "2022-02-24T22:42:25.907Z"
   },
   {
    "duration": 9,
    "start_time": "2022-02-24T22:42:35.383Z"
   },
   {
    "duration": 77,
    "start_time": "2022-02-24T22:42:48.237Z"
   },
   {
    "duration": 89,
    "start_time": "2022-02-24T22:43:38.972Z"
   },
   {
    "duration": 47,
    "start_time": "2022-02-24T22:46:41.573Z"
   },
   {
    "duration": 30,
    "start_time": "2022-02-24T22:48:50.734Z"
   },
   {
    "duration": 47,
    "start_time": "2022-02-24T22:49:26.130Z"
   },
   {
    "duration": 3,
    "start_time": "2022-02-24T22:50:04.544Z"
   },
   {
    "duration": 3,
    "start_time": "2022-02-24T22:51:45.361Z"
   },
   {
    "duration": 17,
    "start_time": "2022-02-24T22:54:47.923Z"
   },
   {
    "duration": 3,
    "start_time": "2022-02-24T22:57:26.825Z"
   },
   {
    "duration": 18,
    "start_time": "2022-02-24T23:00:13.083Z"
   },
   {
    "duration": 31,
    "start_time": "2022-02-24T23:02:19.853Z"
   },
   {
    "duration": 29,
    "start_time": "2022-02-24T23:06:39.298Z"
   },
   {
    "duration": 11,
    "start_time": "2022-02-24T23:07:30.741Z"
   },
   {
    "duration": 5,
    "start_time": "2022-02-24T23:08:22.118Z"
   },
   {
    "duration": 39,
    "start_time": "2022-02-24T23:10:08.568Z"
   },
   {
    "duration": 31,
    "start_time": "2022-02-24T23:15:12.705Z"
   },
   {
    "duration": 5,
    "start_time": "2022-02-24T23:17:20.088Z"
   },
   {
    "duration": 6,
    "start_time": "2022-02-24T23:17:57.264Z"
   },
   {
    "duration": 9,
    "start_time": "2022-02-24T23:19:01.838Z"
   },
   {
    "duration": 13,
    "start_time": "2022-02-24T23:19:12.197Z"
   },
   {
    "duration": 245,
    "start_time": "2022-02-24T23:20:41.751Z"
   },
   {
    "duration": 30,
    "start_time": "2022-02-24T23:21:06.160Z"
   },
   {
    "duration": 828,
    "start_time": "2022-02-24T23:25:20.522Z"
   },
   {
    "duration": 615,
    "start_time": "2022-02-24T23:25:28.715Z"
   },
   {
    "duration": 193,
    "start_time": "2022-02-24T23:25:50.501Z"
   },
   {
    "duration": 9,
    "start_time": "2022-02-24T23:26:44.146Z"
   },
   {
    "duration": 8110,
    "start_time": "2022-02-24T23:36:41.740Z"
   },
   {
    "duration": 5,
    "start_time": "2022-02-24T23:37:19.925Z"
   },
   {
    "duration": 5,
    "start_time": "2022-02-24T23:37:26.464Z"
   },
   {
    "duration": 14,
    "start_time": "2022-02-24T23:39:41.577Z"
   },
   {
    "duration": 22,
    "start_time": "2022-02-24T23:39:51.575Z"
   },
   {
    "duration": 27,
    "start_time": "2022-02-24T23:44:09.707Z"
   },
   {
    "duration": 27,
    "start_time": "2022-02-24T23:44:19.394Z"
   },
   {
    "duration": 31,
    "start_time": "2022-02-24T23:46:22.827Z"
   },
   {
    "duration": 266,
    "start_time": "2022-02-24T23:47:46.997Z"
   },
   {
    "duration": 333,
    "start_time": "2022-02-24T23:49:43.388Z"
   },
   {
    "duration": 270,
    "start_time": "2022-02-24T23:50:06.871Z"
   },
   {
    "duration": 970,
    "start_time": "2022-02-24T23:51:35.967Z"
   },
   {
    "duration": 36,
    "start_time": "2022-02-24T23:52:39.298Z"
   },
   {
    "duration": 931,
    "start_time": "2022-02-24T23:53:16.408Z"
   },
   {
    "duration": 345,
    "start_time": "2022-02-24T23:54:07.928Z"
   },
   {
    "duration": 37,
    "start_time": "2022-02-24T23:54:30.606Z"
   },
   {
    "duration": 255,
    "start_time": "2022-02-24T23:54:44.123Z"
   },
   {
    "duration": 27,
    "start_time": "2022-02-24T23:55:15.648Z"
   },
   {
    "duration": 27,
    "start_time": "2022-02-24T23:55:32.055Z"
   },
   {
    "duration": 19,
    "start_time": "2022-02-24T23:57:36.464Z"
   },
   {
    "duration": 6,
    "start_time": "2022-02-24T23:58:17.812Z"
   },
   {
    "duration": 5879,
    "start_time": "2022-02-24T23:59:51.309Z"
   },
   {
    "duration": 8,
    "start_time": "2022-02-25T00:00:00.485Z"
   },
   {
    "duration": 21,
    "start_time": "2022-02-25T00:00:06.787Z"
   },
   {
    "duration": 20,
    "start_time": "2022-02-25T00:00:53.547Z"
   },
   {
    "duration": 18,
    "start_time": "2022-02-25T00:00:59.919Z"
   },
   {
    "duration": 6,
    "start_time": "2022-02-25T00:02:37.277Z"
   },
   {
    "duration": 259,
    "start_time": "2022-02-25T00:02:53.258Z"
   },
   {
    "duration": 6,
    "start_time": "2022-02-25T00:03:01.431Z"
   },
   {
    "duration": 9,
    "start_time": "2022-02-25T00:03:12.156Z"
   },
   {
    "duration": 247,
    "start_time": "2022-02-25T00:03:17.386Z"
   },
   {
    "duration": 9,
    "start_time": "2022-02-25T00:03:21.311Z"
   },
   {
    "duration": 9,
    "start_time": "2022-02-25T00:03:41.535Z"
   },
   {
    "duration": 269,
    "start_time": "2022-02-25T00:04:22.976Z"
   },
   {
    "duration": 7,
    "start_time": "2022-02-25T00:05:08.839Z"
   },
   {
    "duration": 8,
    "start_time": "2022-02-25T00:05:49.818Z"
   },
   {
    "duration": 5,
    "start_time": "2022-02-25T00:05:59.037Z"
   },
   {
    "duration": 9,
    "start_time": "2022-02-25T00:06:01.796Z"
   },
   {
    "duration": 6,
    "start_time": "2022-02-25T00:06:07.788Z"
   },
   {
    "duration": 6,
    "start_time": "2022-02-25T00:06:49.633Z"
   },
   {
    "duration": 6,
    "start_time": "2022-02-25T00:06:51.942Z"
   },
   {
    "duration": 90,
    "start_time": "2022-02-25T00:06:59.098Z"
   },
   {
    "duration": 9,
    "start_time": "2022-02-25T00:07:12.204Z"
   },
   {
    "duration": 19,
    "start_time": "2022-02-25T00:07:29.401Z"
   },
   {
    "duration": 25,
    "start_time": "2022-02-25T00:09:12.264Z"
   },
   {
    "duration": 54,
    "start_time": "2022-02-25T00:10:47.433Z"
   },
   {
    "duration": 31,
    "start_time": "2022-02-25T00:10:54.174Z"
   },
   {
    "duration": 24,
    "start_time": "2022-02-25T00:10:58.935Z"
   },
   {
    "duration": 10,
    "start_time": "2022-02-25T00:18:17.006Z"
   },
   {
    "duration": 12,
    "start_time": "2022-02-25T00:19:03.367Z"
   },
   {
    "duration": 17,
    "start_time": "2022-02-25T00:19:33.883Z"
   },
   {
    "duration": 18,
    "start_time": "2022-02-25T00:19:40.464Z"
   },
   {
    "duration": 234,
    "start_time": "2022-02-25T00:20:49.460Z"
   },
   {
    "duration": 8,
    "start_time": "2022-02-25T00:20:59.752Z"
   },
   {
    "duration": 14,
    "start_time": "2022-02-25T00:21:05.662Z"
   },
   {
    "duration": 16,
    "start_time": "2022-02-25T00:21:08.612Z"
   },
   {
    "duration": 28,
    "start_time": "2022-02-25T00:25:06.621Z"
   },
   {
    "duration": 84,
    "start_time": "2022-02-25T00:25:47.195Z"
   },
   {
    "duration": 43,
    "start_time": "2022-02-25T00:33:23.003Z"
   },
   {
    "duration": 21,
    "start_time": "2022-02-25T00:33:27.937Z"
   },
   {
    "duration": 6,
    "start_time": "2022-02-25T00:34:40.920Z"
   },
   {
    "duration": 265,
    "start_time": "2022-02-25T00:36:21.832Z"
   },
   {
    "duration": -9,
    "start_time": "2022-02-25T00:37:57.090Z"
   },
   {
    "duration": 13077,
    "start_time": "2022-02-25T00:37:59.660Z"
   },
   {
    "duration": 267,
    "start_time": "2022-02-25T00:39:32.332Z"
   },
   {
    "duration": 237,
    "start_time": "2022-02-25T00:40:05.031Z"
   },
   {
    "duration": 321,
    "start_time": "2022-02-25T00:40:14.818Z"
   },
   {
    "duration": 271,
    "start_time": "2022-02-25T00:41:00.491Z"
   },
   {
    "duration": 89,
    "start_time": "2022-02-25T00:44:32.999Z"
   },
   {
    "duration": 247,
    "start_time": "2022-02-25T00:44:39.401Z"
   },
   {
    "duration": 169,
    "start_time": "2022-02-25T00:45:15.932Z"
   },
   {
    "duration": 264,
    "start_time": "2022-02-25T00:50:17.203Z"
   },
   {
    "duration": 78,
    "start_time": "2022-02-25T00:52:55.220Z"
   },
   {
    "duration": 4,
    "start_time": "2022-02-25T00:55:58.327Z"
   },
   {
    "duration": 556,
    "start_time": "2022-03-06T17:35:41.454Z"
   },
   {
    "duration": 66,
    "start_time": "2022-03-06T17:35:42.012Z"
   },
   {
    "duration": 10,
    "start_time": "2022-03-06T17:35:42.080Z"
   },
   {
    "duration": 4,
    "start_time": "2022-03-06T17:35:42.092Z"
   },
   {
    "duration": 6,
    "start_time": "2022-03-06T17:35:42.098Z"
   },
   {
    "duration": 34,
    "start_time": "2022-03-06T17:35:42.105Z"
   },
   {
    "duration": 12,
    "start_time": "2022-03-06T17:35:42.140Z"
   },
   {
    "duration": 7,
    "start_time": "2022-03-06T17:35:42.155Z"
   },
   {
    "duration": 9,
    "start_time": "2022-03-06T17:35:42.163Z"
   },
   {
    "duration": 20,
    "start_time": "2022-03-06T17:35:42.173Z"
   },
   {
    "duration": 46,
    "start_time": "2022-03-06T17:35:42.194Z"
   },
   {
    "duration": 9,
    "start_time": "2022-03-06T17:35:42.241Z"
   },
   {
    "duration": 10,
    "start_time": "2022-03-06T17:35:42.251Z"
   },
   {
    "duration": 7,
    "start_time": "2022-03-06T17:35:42.263Z"
   },
   {
    "duration": 6,
    "start_time": "2022-03-06T17:35:42.271Z"
   },
   {
    "duration": 22,
    "start_time": "2022-03-06T17:35:42.279Z"
   },
   {
    "duration": 39,
    "start_time": "2022-03-06T17:35:42.302Z"
   },
   {
    "duration": 9,
    "start_time": "2022-03-06T17:35:42.343Z"
   },
   {
    "duration": 8,
    "start_time": "2022-03-06T17:35:42.353Z"
   },
   {
    "duration": 8,
    "start_time": "2022-03-06T17:35:42.362Z"
   },
   {
    "duration": 28,
    "start_time": "2022-03-06T17:35:42.372Z"
   },
   {
    "duration": 63,
    "start_time": "2022-03-06T17:35:42.401Z"
   },
   {
    "duration": 12,
    "start_time": "2022-03-06T17:35:42.468Z"
   },
   {
    "duration": 26,
    "start_time": "2022-03-06T17:35:42.482Z"
   },
   {
    "duration": 28,
    "start_time": "2022-03-06T17:35:42.510Z"
   },
   {
    "duration": 8,
    "start_time": "2022-03-06T17:35:42.539Z"
   },
   {
    "duration": 14,
    "start_time": "2022-03-06T17:35:42.548Z"
   },
   {
    "duration": 18,
    "start_time": "2022-03-06T17:35:42.564Z"
   },
   {
    "duration": 7,
    "start_time": "2022-03-06T17:35:42.584Z"
   },
   {
    "duration": 3,
    "start_time": "2022-03-06T17:35:42.593Z"
   },
   {
    "duration": 63,
    "start_time": "2022-03-06T17:35:42.598Z"
   },
   {
    "duration": 21,
    "start_time": "2022-03-06T17:35:42.663Z"
   },
   {
    "duration": 125,
    "start_time": "2022-03-06T17:35:42.687Z"
   },
   {
    "duration": 5,
    "start_time": "2022-03-06T17:35:42.813Z"
   },
   {
    "duration": 5085,
    "start_time": "2022-03-06T17:35:42.820Z"
   },
   {
    "duration": 3,
    "start_time": "2022-03-06T17:35:47.906Z"
   },
   {
    "duration": 31,
    "start_time": "2022-03-06T17:35:47.911Z"
   },
   {
    "duration": 20,
    "start_time": "2022-03-06T17:35:47.944Z"
   },
   {
    "duration": 14,
    "start_time": "2022-03-06T17:35:47.966Z"
   },
   {
    "duration": 6,
    "start_time": "2022-03-06T17:35:47.982Z"
   },
   {
    "duration": 14,
    "start_time": "2022-03-06T17:35:47.990Z"
   },
   {
    "duration": 38,
    "start_time": "2022-03-06T17:35:48.006Z"
   },
   {
    "duration": 6,
    "start_time": "2022-03-06T17:35:48.046Z"
   },
   {
    "duration": 5,
    "start_time": "2022-03-06T17:35:48.053Z"
   },
   {
    "duration": 241,
    "start_time": "2022-03-06T17:35:48.059Z"
   },
   {
    "duration": -895,
    "start_time": "2022-03-06T17:35:49.197Z"
   },
   {
    "duration": -895,
    "start_time": "2022-03-06T17:35:49.198Z"
   },
   {
    "duration": -896,
    "start_time": "2022-03-06T17:35:49.200Z"
   },
   {
    "duration": -896,
    "start_time": "2022-03-06T17:35:49.201Z"
   },
   {
    "duration": -897,
    "start_time": "2022-03-06T17:35:49.203Z"
   },
   {
    "duration": -897,
    "start_time": "2022-03-06T17:35:49.204Z"
   },
   {
    "duration": -904,
    "start_time": "2022-03-06T17:35:49.212Z"
   },
   {
    "duration": -903,
    "start_time": "2022-03-06T17:35:49.213Z"
   },
   {
    "duration": -904,
    "start_time": "2022-03-06T17:35:49.215Z"
   },
   {
    "duration": -906,
    "start_time": "2022-03-06T17:35:49.218Z"
   },
   {
    "duration": -906,
    "start_time": "2022-03-06T17:35:49.220Z"
   },
   {
    "duration": -907,
    "start_time": "2022-03-06T17:35:49.222Z"
   },
   {
    "duration": -907,
    "start_time": "2022-03-06T17:35:49.224Z"
   },
   {
    "duration": -907,
    "start_time": "2022-03-06T17:35:49.225Z"
   },
   {
    "duration": -907,
    "start_time": "2022-03-06T17:35:49.227Z"
   },
   {
    "duration": -907,
    "start_time": "2022-03-06T17:35:49.228Z"
   },
   {
    "duration": 6,
    "start_time": "2022-03-06T17:44:22.602Z"
   },
   {
    "duration": 6,
    "start_time": "2022-03-06T17:44:22.611Z"
   },
   {
    "duration": 6,
    "start_time": "2022-03-06T17:44:22.619Z"
   },
   {
    "duration": 10,
    "start_time": "2022-03-06T17:44:22.627Z"
   },
   {
    "duration": 14,
    "start_time": "2022-03-06T17:44:22.639Z"
   },
   {
    "duration": 19,
    "start_time": "2022-03-06T17:44:22.654Z"
   },
   {
    "duration": 21,
    "start_time": "2022-03-06T17:44:22.674Z"
   },
   {
    "duration": 47,
    "start_time": "2022-03-06T17:44:22.698Z"
   },
   {
    "duration": 11,
    "start_time": "2022-03-06T17:44:22.747Z"
   },
   {
    "duration": 10,
    "start_time": "2022-03-06T17:44:22.760Z"
   },
   {
    "duration": 6,
    "start_time": "2022-03-06T17:44:22.772Z"
   },
   {
    "duration": 14,
    "start_time": "2022-03-06T17:44:22.779Z"
   },
   {
    "duration": 55,
    "start_time": "2022-03-06T17:44:22.795Z"
   },
   {
    "duration": 19,
    "start_time": "2022-03-06T17:44:22.853Z"
   },
   {
    "duration": 136,
    "start_time": "2022-03-06T17:44:22.874Z"
   },
   {
    "duration": 197,
    "start_time": "2022-03-06T17:44:23.013Z"
   },
   {
    "duration": 700,
    "start_time": "2022-03-08T10:29:22.701Z"
   },
   {
    "duration": 87,
    "start_time": "2022-03-08T10:29:23.845Z"
   },
   {
    "duration": 91,
    "start_time": "2022-03-08T10:33:53.675Z"
   },
   {
    "duration": 71,
    "start_time": "2022-03-08T10:35:17.923Z"
   },
   {
    "duration": 23,
    "start_time": "2022-03-08T10:35:19.455Z"
   },
   {
    "duration": 7,
    "start_time": "2022-03-08T10:35:20.447Z"
   },
   {
    "duration": 6,
    "start_time": "2022-03-08T10:35:20.889Z"
   },
   {
    "duration": 20,
    "start_time": "2022-03-08T10:35:21.516Z"
   },
   {
    "duration": 21,
    "start_time": "2022-03-08T10:35:25.241Z"
   },
   {
    "duration": 12,
    "start_time": "2022-03-08T10:35:32.860Z"
   },
   {
    "duration": 4,
    "start_time": "2022-03-08T10:40:16.756Z"
   },
   {
    "duration": 4,
    "start_time": "2022-03-08T10:45:59.588Z"
   },
   {
    "duration": 1359,
    "start_time": "2022-03-08T10:46:15.231Z"
   },
   {
    "duration": 3312,
    "start_time": "2022-03-08T10:46:47.360Z"
   },
   {
    "duration": 3,
    "start_time": "2022-03-08T10:47:19.017Z"
   },
   {
    "duration": 76,
    "start_time": "2022-03-08T10:47:19.337Z"
   },
   {
    "duration": 14,
    "start_time": "2022-03-08T10:47:19.942Z"
   },
   {
    "duration": 6,
    "start_time": "2022-03-08T10:47:20.411Z"
   },
   {
    "duration": 7,
    "start_time": "2022-03-08T10:47:20.638Z"
   },
   {
    "duration": 20,
    "start_time": "2022-03-08T10:47:20.851Z"
   },
   {
    "duration": 20,
    "start_time": "2022-03-08T10:47:21.102Z"
   },
   {
    "duration": 11,
    "start_time": "2022-03-08T10:47:22.354Z"
   },
   {
    "duration": 4,
    "start_time": "2022-03-08T10:47:24.166Z"
   },
   {
    "duration": 3247,
    "start_time": "2022-03-08T10:47:24.815Z"
   },
   {
    "duration": 480,
    "start_time": "2022-03-08T10:48:02.180Z"
   },
   {
    "duration": 5,
    "start_time": "2022-03-08T10:48:51.830Z"
   },
   {
    "duration": 5,
    "start_time": "2022-03-08T10:48:55.497Z"
   },
   {
    "duration": 626,
    "start_time": "2022-03-08T10:48:56.000Z"
   },
   {
    "duration": 588,
    "start_time": "2022-03-08T10:49:40.551Z"
   },
   {
    "duration": 570,
    "start_time": "2022-03-08T10:50:33.785Z"
   },
   {
    "duration": 581,
    "start_time": "2022-03-08T10:50:47.820Z"
   },
   {
    "duration": 588,
    "start_time": "2022-03-08T10:50:53.546Z"
   },
   {
    "duration": 591,
    "start_time": "2022-03-08T10:51:00.144Z"
   },
   {
    "duration": 580,
    "start_time": "2022-03-08T10:51:03.633Z"
   },
   {
    "duration": 4,
    "start_time": "2022-03-08T10:51:29.083Z"
   },
   {
    "duration": 583,
    "start_time": "2022-03-08T10:51:30.187Z"
   },
   {
    "duration": 562,
    "start_time": "2022-03-08T10:51:37.806Z"
   },
   {
    "duration": 4,
    "start_time": "2022-03-08T10:52:32.283Z"
   },
   {
    "duration": 512,
    "start_time": "2022-03-08T10:52:33.010Z"
   },
   {
    "duration": 4,
    "start_time": "2022-03-08T10:52:45.891Z"
   },
   {
    "duration": 519,
    "start_time": "2022-03-08T10:52:46.516Z"
   },
   {
    "duration": 4,
    "start_time": "2022-03-08T10:52:52.004Z"
   },
   {
    "duration": 574,
    "start_time": "2022-03-08T10:52:52.321Z"
   },
   {
    "duration": 5,
    "start_time": "2022-03-08T10:53:03.970Z"
   },
   {
    "duration": 566,
    "start_time": "2022-03-08T10:53:04.490Z"
   },
   {
    "duration": 7,
    "start_time": "2022-03-08T10:53:22.448Z"
   },
   {
    "duration": 6,
    "start_time": "2022-03-08T10:53:29.857Z"
   },
   {
    "duration": 6,
    "start_time": "2022-03-08T10:53:35.831Z"
   },
   {
    "duration": 4,
    "start_time": "2022-03-08T10:53:43.985Z"
   },
   {
    "duration": 5,
    "start_time": "2022-03-08T10:53:47.206Z"
   },
   {
    "duration": 5,
    "start_time": "2022-03-08T10:53:53.096Z"
   },
   {
    "duration": 5,
    "start_time": "2022-03-08T10:54:01.117Z"
   },
   {
    "duration": 4,
    "start_time": "2022-03-08T10:54:06.376Z"
   },
   {
    "duration": 6,
    "start_time": "2022-03-08T10:54:09.580Z"
   },
   {
    "duration": 5,
    "start_time": "2022-03-08T10:54:14.999Z"
   },
   {
    "duration": 4,
    "start_time": "2022-03-08T10:54:19.978Z"
   },
   {
    "duration": 257,
    "start_time": "2022-03-08T10:55:37.240Z"
   },
   {
    "duration": 262,
    "start_time": "2022-03-08T10:55:41.957Z"
   },
   {
    "duration": 6,
    "start_time": "2022-03-08T10:56:19.575Z"
   },
   {
    "duration": 4,
    "start_time": "2022-03-08T10:56:33.515Z"
   },
   {
    "duration": 8045,
    "start_time": "2022-03-08T10:56:33.879Z"
   },
   {
    "duration": 86,
    "start_time": "2022-03-08T10:57:33.625Z"
   },
   {
    "duration": 31,
    "start_time": "2022-03-08T10:59:40.266Z"
   },
   {
    "duration": 21,
    "start_time": "2022-03-08T10:59:43.559Z"
   },
   {
    "duration": 15,
    "start_time": "2022-03-08T10:59:45.604Z"
   },
   {
    "duration": 12,
    "start_time": "2022-03-08T10:59:47.325Z"
   },
   {
    "duration": 12,
    "start_time": "2022-03-08T10:59:48.345Z"
   },
   {
    "duration": 9,
    "start_time": "2022-03-08T10:59:49.089Z"
   },
   {
    "duration": 34,
    "start_time": "2022-03-08T10:59:52.618Z"
   },
   {
    "duration": 85,
    "start_time": "2022-03-08T11:00:36.046Z"
   },
   {
    "duration": 13,
    "start_time": "2022-03-08T11:00:46.005Z"
   },
   {
    "duration": 9,
    "start_time": "2022-03-08T11:00:50.978Z"
   },
   {
    "duration": 6,
    "start_time": "2022-03-08T11:05:18.271Z"
   },
   {
    "duration": 1198,
    "start_time": "2022-03-08T11:06:27.852Z"
   },
   {
    "duration": 3967,
    "start_time": "2022-03-08T11:06:35.134Z"
   },
   {
    "duration": 9,
    "start_time": "2022-03-08T11:08:04.701Z"
   },
   {
    "duration": 5,
    "start_time": "2022-03-08T11:08:07.436Z"
   },
   {
    "duration": 3538,
    "start_time": "2022-03-08T11:08:08.843Z"
   },
   {
    "duration": 786,
    "start_time": "2022-03-08T11:11:50.474Z"
   },
   {
    "duration": 306,
    "start_time": "2022-03-08T11:12:37.025Z"
   },
   {
    "duration": 44,
    "start_time": "2022-03-08T11:12:57.641Z"
   },
   {
    "duration": 18,
    "start_time": "2022-03-08T11:13:18.093Z"
   },
   {
    "duration": 47,
    "start_time": "2022-03-08T11:13:25.160Z"
   },
   {
    "duration": 7,
    "start_time": "2022-03-08T11:13:30.298Z"
   },
   {
    "duration": 7,
    "start_time": "2022-03-08T11:13:32.696Z"
   },
   {
    "duration": 7,
    "start_time": "2022-03-08T11:15:30.982Z"
   },
   {
    "duration": 29,
    "start_time": "2022-03-08T11:16:16.240Z"
   },
   {
    "duration": 9,
    "start_time": "2022-03-08T11:16:36.356Z"
   },
   {
    "duration": 5,
    "start_time": "2022-03-08T11:16:42.144Z"
   },
   {
    "duration": 36,
    "start_time": "2022-03-08T11:16:43.516Z"
   },
   {
    "duration": 36,
    "start_time": "2022-03-08T11:16:45.854Z"
   },
   {
    "duration": 165,
    "start_time": "2022-03-08T11:16:49.077Z"
   },
   {
    "duration": 10,
    "start_time": "2022-03-08T11:16:53.144Z"
   },
   {
    "duration": 8151,
    "start_time": "2022-03-08T11:17:00.244Z"
   },
   {
    "duration": 5,
    "start_time": "2022-03-08T11:17:13.375Z"
   },
   {
    "duration": 21,
    "start_time": "2022-03-08T11:17:16.791Z"
   },
   {
    "duration": 23,
    "start_time": "2022-03-08T11:17:31.714Z"
   },
   {
    "duration": 19,
    "start_time": "2022-03-08T11:17:51.316Z"
   },
   {
    "duration": 5,
    "start_time": "2022-03-08T11:18:44.593Z"
   },
   {
    "duration": 258,
    "start_time": "2022-03-08T11:19:13.811Z"
   },
   {
    "duration": 270,
    "start_time": "2022-03-08T11:19:22.799Z"
   },
   {
    "duration": 281,
    "start_time": "2022-03-08T11:19:32.388Z"
   },
   {
    "duration": 7,
    "start_time": "2022-03-08T11:19:35.801Z"
   },
   {
    "duration": 25,
    "start_time": "2022-03-08T11:19:45.491Z"
   },
   {
    "duration": 24,
    "start_time": "2022-03-08T11:19:52.880Z"
   },
   {
    "duration": 9,
    "start_time": "2022-03-08T11:19:58.096Z"
   },
   {
    "duration": 8,
    "start_time": "2022-03-08T11:20:00.463Z"
   },
   {
    "duration": 4,
    "start_time": "2022-03-08T11:20:22.576Z"
   },
   {
    "duration": 80,
    "start_time": "2022-03-08T11:20:28.626Z"
   },
   {
    "duration": 22,
    "start_time": "2022-03-08T11:20:28.710Z"
   },
   {
    "duration": 7,
    "start_time": "2022-03-08T11:20:28.737Z"
   },
   {
    "duration": 38,
    "start_time": "2022-03-08T11:20:28.748Z"
   },
   {
    "duration": 32,
    "start_time": "2022-03-08T11:20:28.789Z"
   },
   {
    "duration": 20,
    "start_time": "2022-03-08T11:20:28.957Z"
   },
   {
    "duration": 10,
    "start_time": "2022-03-08T11:20:30.970Z"
   },
   {
    "duration": 5,
    "start_time": "2022-03-08T11:20:31.757Z"
   },
   {
    "duration": 8690,
    "start_time": "2022-03-08T11:20:32.029Z"
   },
   {
    "duration": 60,
    "start_time": "2022-03-08T11:20:40.722Z"
   },
   {
    "duration": 21,
    "start_time": "2022-03-08T11:20:40.785Z"
   },
   {
    "duration": 14,
    "start_time": "2022-03-08T11:20:40.809Z"
   },
   {
    "duration": 56,
    "start_time": "2022-03-08T11:20:40.826Z"
   },
   {
    "duration": 16,
    "start_time": "2022-03-08T11:20:40.885Z"
   },
   {
    "duration": 13,
    "start_time": "2022-03-08T11:20:40.904Z"
   },
   {
    "duration": 65,
    "start_time": "2022-03-08T11:20:40.921Z"
   },
   {
    "duration": 9,
    "start_time": "2022-03-08T11:20:42.976Z"
   },
   {
    "duration": 23,
    "start_time": "2022-03-08T11:20:43.743Z"
   },
   {
    "duration": 6,
    "start_time": "2022-03-08T11:20:44.180Z"
   },
   {
    "duration": 795,
    "start_time": "2022-03-08T11:20:45.361Z"
   },
   {
    "duration": 44,
    "start_time": "2022-03-08T11:20:46.895Z"
   },
   {
    "duration": 17,
    "start_time": "2022-03-08T11:20:47.759Z"
   },
   {
    "duration": 41,
    "start_time": "2022-03-08T11:20:48.656Z"
   },
   {
    "duration": 7,
    "start_time": "2022-03-08T11:20:49.642Z"
   },
   {
    "duration": 6,
    "start_time": "2022-03-08T11:20:50.064Z"
   },
   {
    "duration": 29,
    "start_time": "2022-03-08T11:20:53.445Z"
   },
   {
    "duration": 11,
    "start_time": "2022-03-08T11:20:57.100Z"
   },
   {
    "duration": 5,
    "start_time": "2022-03-08T11:20:57.371Z"
   },
   {
    "duration": 37,
    "start_time": "2022-03-08T11:20:57.924Z"
   },
   {
    "duration": 36,
    "start_time": "2022-03-08T11:20:58.560Z"
   },
   {
    "duration": 184,
    "start_time": "2022-03-08T11:20:59.066Z"
   },
   {
    "duration": 11,
    "start_time": "2022-03-08T11:20:59.584Z"
   },
   {
    "duration": 8134,
    "start_time": "2022-03-08T11:21:00.418Z"
   },
   {
    "duration": 5,
    "start_time": "2022-03-08T11:21:08.554Z"
   },
   {
    "duration": 46,
    "start_time": "2022-03-08T11:21:08.561Z"
   },
   {
    "duration": 34,
    "start_time": "2022-03-08T11:21:10.204Z"
   },
   {
    "duration": 24,
    "start_time": "2022-03-08T11:21:11.488Z"
   },
   {
    "duration": 8,
    "start_time": "2022-03-08T11:21:12.464Z"
   },
   {
    "duration": 20,
    "start_time": "2022-03-08T11:21:13.053Z"
   },
   {
    "duration": 16,
    "start_time": "2022-03-08T11:21:14.531Z"
   },
   {
    "duration": 10,
    "start_time": "2022-03-08T11:21:15.895Z"
   },
   {
    "duration": 3,
    "start_time": "2022-03-08T11:21:36.797Z"
   },
   {
    "duration": 7,
    "start_time": "2022-03-08T11:21:44.058Z"
   },
   {
    "duration": 5,
    "start_time": "2022-03-08T11:21:46.741Z"
   },
   {
    "duration": 6,
    "start_time": "2022-03-08T11:21:48.321Z"
   },
   {
    "duration": 12,
    "start_time": "2022-03-08T11:21:49.783Z"
   },
   {
    "duration": 17,
    "start_time": "2022-03-08T11:21:51.413Z"
   },
   {
    "duration": 24,
    "start_time": "2022-03-08T11:21:57.056Z"
   },
   {
    "duration": 18,
    "start_time": "2022-03-08T11:22:58.274Z"
   },
   {
    "duration": 21,
    "start_time": "2022-03-08T11:22:59.874Z"
   },
   {
    "duration": 7,
    "start_time": "2022-03-08T11:23:01.319Z"
   },
   {
    "duration": 15,
    "start_time": "2022-03-08T11:23:01.429Z"
   },
   {
    "duration": 30,
    "start_time": "2022-03-08T11:23:04.566Z"
   },
   {
    "duration": 20,
    "start_time": "2022-03-08T11:25:00.598Z"
   },
   {
    "duration": 168,
    "start_time": "2022-03-08T11:25:06.332Z"
   },
   {
    "duration": 282,
    "start_time": "2022-03-08T11:25:08.343Z"
   },
   {
    "duration": 534,
    "start_time": "2022-03-08T19:52:06.344Z"
   },
   {
    "duration": 2,
    "start_time": "2022-03-08T19:52:07.773Z"
   },
   {
    "duration": 62,
    "start_time": "2022-03-08T19:52:08.337Z"
   },
   {
    "duration": 10,
    "start_time": "2022-03-08T19:52:09.213Z"
   },
   {
    "duration": 4,
    "start_time": "2022-03-08T19:52:09.747Z"
   },
   {
    "duration": 4,
    "start_time": "2022-03-08T19:52:09.987Z"
   },
   {
    "duration": 12,
    "start_time": "2022-03-08T19:52:10.245Z"
   },
   {
    "duration": 12,
    "start_time": "2022-03-08T19:52:10.648Z"
   },
   {
    "duration": 7,
    "start_time": "2022-03-08T19:52:11.451Z"
   },
   {
    "duration": 4,
    "start_time": "2022-03-08T19:52:12.945Z"
   },
   {
    "duration": 4773,
    "start_time": "2022-03-08T19:52:13.158Z"
   },
   {
    "duration": 17,
    "start_time": "2022-03-08T19:52:19.343Z"
   },
   {
    "duration": 14,
    "start_time": "2022-03-08T19:52:21.110Z"
   },
   {
    "duration": 9,
    "start_time": "2022-03-08T19:52:23.133Z"
   },
   {
    "duration": 8,
    "start_time": "2022-03-08T19:52:24.727Z"
   },
   {
    "duration": 7,
    "start_time": "2022-03-08T19:52:25.761Z"
   },
   {
    "duration": 6,
    "start_time": "2022-03-08T19:52:26.504Z"
   },
   {
    "duration": 24,
    "start_time": "2022-03-08T19:52:27.504Z"
   },
   {
    "duration": 6,
    "start_time": "2022-03-08T19:52:29.070Z"
   },
   {
    "duration": 7,
    "start_time": "2022-03-08T19:52:31.144Z"
   },
   {
    "duration": 3,
    "start_time": "2022-03-08T19:52:31.853Z"
   },
   {
    "duration": 419,
    "start_time": "2022-03-08T19:52:33.647Z"
   },
   {
    "duration": 29,
    "start_time": "2022-03-08T19:52:35.005Z"
   },
   {
    "duration": 12,
    "start_time": "2022-03-08T19:52:35.744Z"
   },
   {
    "duration": 23,
    "start_time": "2022-03-08T19:52:37.134Z"
   },
   {
    "duration": 3,
    "start_time": "2022-03-08T19:52:38.662Z"
   },
   {
    "duration": 4,
    "start_time": "2022-03-08T19:52:39.284Z"
   },
   {
    "duration": 17,
    "start_time": "2022-03-08T19:52:43.447Z"
   },
   {
    "duration": 6,
    "start_time": "2022-03-08T19:52:44.226Z"
   },
   {
    "duration": 3,
    "start_time": "2022-03-08T19:52:44.858Z"
   },
   {
    "duration": 23,
    "start_time": "2022-03-08T19:52:46.037Z"
   },
   {
    "duration": 21,
    "start_time": "2022-03-08T19:52:47.141Z"
   },
   {
    "duration": 94,
    "start_time": "2022-03-08T19:52:48.032Z"
   },
   {
    "duration": 5,
    "start_time": "2022-03-08T19:52:49.029Z"
   },
   {
    "duration": 4527,
    "start_time": "2022-03-08T19:52:49.883Z"
   },
   {
    "duration": 3,
    "start_time": "2022-03-08T19:52:55.464Z"
   },
   {
    "duration": 12,
    "start_time": "2022-03-08T19:52:55.992Z"
   },
   {
    "duration": 14,
    "start_time": "2022-03-08T19:52:57.871Z"
   },
   {
    "duration": 12,
    "start_time": "2022-03-08T19:52:59.263Z"
   },
   {
    "duration": 6,
    "start_time": "2022-03-08T19:53:00.108Z"
   },
   {
    "duration": 12,
    "start_time": "2022-03-08T19:53:00.788Z"
   },
   {
    "duration": 11,
    "start_time": "2022-03-08T19:53:01.581Z"
   },
   {
    "duration": 6,
    "start_time": "2022-03-08T19:53:04.096Z"
   },
   {
    "duration": 6,
    "start_time": "2022-03-08T19:53:04.786Z"
   },
   {
    "duration": 3,
    "start_time": "2022-03-08T19:53:06.487Z"
   },
   {
    "duration": 5,
    "start_time": "2022-03-08T19:53:07.880Z"
   },
   {
    "duration": 4,
    "start_time": "2022-03-08T19:53:08.409Z"
   },
   {
    "duration": 5,
    "start_time": "2022-03-08T19:53:08.666Z"
   },
   {
    "duration": 6,
    "start_time": "2022-03-08T19:53:09.300Z"
   },
   {
    "duration": 11,
    "start_time": "2022-03-08T19:53:09.668Z"
   },
   {
    "duration": 16,
    "start_time": "2022-03-08T19:53:10.939Z"
   },
   {
    "duration": 11,
    "start_time": "2022-03-08T19:53:12.840Z"
   },
   {
    "duration": 11,
    "start_time": "2022-03-08T19:53:13.545Z"
   },
   {
    "duration": 5,
    "start_time": "2022-03-08T19:53:14.501Z"
   },
   {
    "duration": 10,
    "start_time": "2022-03-08T19:53:14.783Z"
   },
   {
    "duration": 16,
    "start_time": "2022-03-08T19:53:17.567Z"
   },
   {
    "duration": 20,
    "start_time": "2022-03-08T19:58:08.256Z"
   },
   {
    "duration": 20,
    "start_time": "2022-03-08T19:58:38.958Z"
   },
   {
    "duration": 24,
    "start_time": "2022-03-08T19:59:46.813Z"
   },
   {
    "duration": 395,
    "start_time": "2022-03-08T20:00:55.437Z"
   },
   {
    "duration": 34,
    "start_time": "2022-03-08T20:01:24.700Z"
   },
   {
    "duration": 351,
    "start_time": "2022-03-08T20:01:42.128Z"
   },
   {
    "duration": 18,
    "start_time": "2022-03-08T20:01:46.089Z"
   },
   {
    "duration": 7234,
    "start_time": "2022-03-08T20:05:15.005Z"
   },
   {
    "duration": 7,
    "start_time": "2022-03-08T20:05:39.687Z"
   },
   {
    "duration": 7269,
    "start_time": "2022-03-08T20:05:43.447Z"
   },
   {
    "duration": 348,
    "start_time": "2022-03-08T20:06:51.300Z"
   },
   {
    "duration": 309,
    "start_time": "2022-03-08T20:07:00.915Z"
   },
   {
    "duration": -35,
    "start_time": "2022-03-08T20:07:01.261Z"
   },
   {
    "duration": 2027,
    "start_time": "2022-03-08T20:07:09.033Z"
   },
   {
    "duration": 20,
    "start_time": "2022-03-08T20:07:41.039Z"
   },
   {
    "duration": 18,
    "start_time": "2022-03-08T20:08:02.499Z"
   },
   {
    "duration": 22,
    "start_time": "2022-03-08T20:08:14.508Z"
   },
   {
    "duration": 26,
    "start_time": "2022-03-08T20:15:02.753Z"
   },
   {
    "duration": 17,
    "start_time": "2022-03-08T20:15:32.388Z"
   },
   {
    "duration": 810,
    "start_time": "2022-03-08T20:15:49.784Z"
   },
   {
    "duration": 31,
    "start_time": "2022-03-08T20:15:59.318Z"
   },
   {
    "duration": 16,
    "start_time": "2022-03-08T20:16:16.040Z"
   },
   {
    "duration": 22,
    "start_time": "2022-03-08T20:16:37.838Z"
   },
   {
    "duration": 19,
    "start_time": "2022-03-08T20:21:38.491Z"
   },
   {
    "duration": 12,
    "start_time": "2022-03-08T20:21:47.279Z"
   },
   {
    "duration": 13,
    "start_time": "2022-03-08T20:22:10.200Z"
   },
   {
    "duration": 22,
    "start_time": "2022-03-08T20:22:26.097Z"
   },
   {
    "duration": 20,
    "start_time": "2022-03-08T20:22:55.862Z"
   },
   {
    "duration": 18,
    "start_time": "2022-03-08T20:23:06.664Z"
   },
   {
    "duration": 19,
    "start_time": "2022-03-08T20:23:15.268Z"
   },
   {
    "duration": 319,
    "start_time": "2022-03-08T20:24:22.196Z"
   },
   {
    "duration": 316,
    "start_time": "2022-03-08T20:24:31.631Z"
   },
   {
    "duration": 300,
    "start_time": "2022-03-08T20:24:38.487Z"
   },
   {
    "duration": 17,
    "start_time": "2022-03-08T20:24:41.451Z"
   },
   {
    "duration": 307,
    "start_time": "2022-03-08T20:24:53.979Z"
   },
   {
    "duration": 19,
    "start_time": "2022-03-08T20:25:00.280Z"
   },
   {
    "duration": 16,
    "start_time": "2022-03-08T20:25:06.760Z"
   },
   {
    "duration": 17,
    "start_time": "2022-03-08T20:25:10.913Z"
   },
   {
    "duration": 17,
    "start_time": "2022-03-08T20:25:14.968Z"
   },
   {
    "duration": 19,
    "start_time": "2022-03-08T20:25:23.423Z"
   },
   {
    "duration": 19,
    "start_time": "2022-03-08T20:27:25.113Z"
   },
   {
    "duration": 19,
    "start_time": "2022-03-08T20:30:53.045Z"
   },
   {
    "duration": 284,
    "start_time": "2022-03-08T20:31:13.223Z"
   },
   {
    "duration": 20,
    "start_time": "2022-03-08T20:31:17.128Z"
   },
   {
    "duration": 21,
    "start_time": "2022-03-08T20:31:25.754Z"
   },
   {
    "duration": 17,
    "start_time": "2022-03-08T20:38:04.589Z"
   },
   {
    "duration": 304,
    "start_time": "2022-03-08T20:39:02.728Z"
   },
   {
    "duration": 21,
    "start_time": "2022-03-08T20:39:05.470Z"
   },
   {
    "duration": 17,
    "start_time": "2022-03-08T20:39:38.856Z"
   },
   {
    "duration": 11,
    "start_time": "2022-03-08T20:39:50.403Z"
   },
   {
    "duration": 12,
    "start_time": "2022-03-08T20:39:59.335Z"
   },
   {
    "duration": 100,
    "start_time": "2022-03-08T20:41:20.126Z"
   },
   {
    "duration": 41,
    "start_time": "2022-03-08T20:41:23.640Z"
   },
   {
    "duration": 95,
    "start_time": "2022-03-08T20:42:05.551Z"
   },
   {
    "duration": 19,
    "start_time": "2022-03-08T20:42:07.598Z"
   },
   {
    "duration": 20,
    "start_time": "2022-03-08T20:42:12.247Z"
   },
   {
    "duration": 13,
    "start_time": "2022-03-08T20:55:09.621Z"
   },
   {
    "duration": 92,
    "start_time": "2022-03-08T20:55:43.696Z"
   },
   {
    "duration": 20,
    "start_time": "2022-03-08T20:55:47.550Z"
   },
   {
    "duration": 13,
    "start_time": "2022-03-08T21:00:54.439Z"
   },
   {
    "duration": 14,
    "start_time": "2022-03-08T21:01:12.410Z"
   },
   {
    "duration": 15,
    "start_time": "2022-03-08T21:01:31.558Z"
   },
   {
    "duration": 15,
    "start_time": "2022-03-08T21:01:51.351Z"
   },
   {
    "duration": 13,
    "start_time": "2022-03-08T21:02:06.095Z"
   },
   {
    "duration": 13,
    "start_time": "2022-03-08T21:02:29.418Z"
   },
   {
    "duration": 13,
    "start_time": "2022-03-08T21:02:37.325Z"
   },
   {
    "duration": 13,
    "start_time": "2022-03-08T21:02:49.674Z"
   },
   {
    "duration": 16,
    "start_time": "2022-03-08T21:09:48.559Z"
   },
   {
    "duration": 311,
    "start_time": "2022-03-08T21:11:32.460Z"
   },
   {
    "duration": 13,
    "start_time": "2022-03-08T21:13:01.733Z"
   },
   {
    "duration": 260,
    "start_time": "2022-03-09T18:29:09.877Z"
   },
   {
    "duration": 237,
    "start_time": "2022-03-09T18:29:32.903Z"
   },
   {
    "duration": 837,
    "start_time": "2022-03-09T18:29:37.343Z"
   },
   {
    "duration": 2,
    "start_time": "2022-03-09T18:29:38.183Z"
   },
   {
    "duration": 77,
    "start_time": "2022-03-09T18:29:38.201Z"
   },
   {
    "duration": 12,
    "start_time": "2022-03-09T18:29:38.280Z"
   },
   {
    "duration": 9,
    "start_time": "2022-03-09T18:29:38.293Z"
   },
   {
    "duration": 6,
    "start_time": "2022-03-09T18:29:38.304Z"
   },
   {
    "duration": 15,
    "start_time": "2022-03-09T18:29:38.312Z"
   },
   {
    "duration": 13,
    "start_time": "2022-03-09T18:29:38.329Z"
   },
   {
    "duration": 9,
    "start_time": "2022-03-09T18:29:38.344Z"
   },
   {
    "duration": 21,
    "start_time": "2022-03-09T18:29:38.354Z"
   },
   {
    "duration": 24,
    "start_time": "2022-03-09T18:29:39.377Z"
   },
   {
    "duration": 3,
    "start_time": "2022-03-09T18:29:42.460Z"
   },
   {
    "duration": 6,
    "start_time": "2022-03-09T18:29:49.979Z"
   },
   {
    "duration": 6574,
    "start_time": "2022-03-09T18:30:04.884Z"
   },
   {
    "duration": 6,
    "start_time": "2022-03-09T18:30:32.466Z"
   },
   {
    "duration": 264,
    "start_time": "2022-03-09T18:31:13.824Z"
   },
   {
    "duration": 12,
    "start_time": "2022-03-09T18:31:20.033Z"
   },
   {
    "duration": 6,
    "start_time": "2022-03-09T18:32:46.077Z"
   },
   {
    "duration": 236,
    "start_time": "2022-03-09T18:40:01.926Z"
   },
   {
    "duration": 274,
    "start_time": "2022-03-09T18:40:02.222Z"
   },
   {
    "duration": -621,
    "start_time": "2022-03-09T18:40:03.120Z"
   },
   {
    "duration": 242,
    "start_time": "2022-03-09T18:40:03.858Z"
   },
   {
    "duration": 3,
    "start_time": "2022-03-09T18:40:10.969Z"
   },
   {
    "duration": 43,
    "start_time": "2022-03-09T18:40:10.974Z"
   },
   {
    "duration": 81,
    "start_time": "2022-03-09T18:40:11.020Z"
   },
   {
    "duration": 12,
    "start_time": "2022-03-09T18:40:11.103Z"
   },
   {
    "duration": 15,
    "start_time": "2022-03-09T18:40:11.117Z"
   },
   {
    "duration": 7,
    "start_time": "2022-03-09T18:40:11.134Z"
   },
   {
    "duration": 22,
    "start_time": "2022-03-09T18:40:11.143Z"
   },
   {
    "duration": 44,
    "start_time": "2022-03-09T18:40:11.169Z"
   },
   {
    "duration": 9,
    "start_time": "2022-03-09T18:40:11.216Z"
   },
   {
    "duration": 5,
    "start_time": "2022-03-09T18:40:11.227Z"
   },
   {
    "duration": 6489,
    "start_time": "2022-03-09T18:40:11.234Z"
   },
   {
    "duration": 22,
    "start_time": "2022-03-09T18:40:17.725Z"
   },
   {
    "duration": 27,
    "start_time": "2022-03-09T18:40:17.750Z"
   },
   {
    "duration": 30,
    "start_time": "2022-03-09T18:40:17.779Z"
   },
   {
    "duration": 23,
    "start_time": "2022-03-09T18:40:17.811Z"
   },
   {
    "duration": 10,
    "start_time": "2022-03-09T18:40:17.836Z"
   },
   {
    "duration": 20,
    "start_time": "2022-03-09T18:40:17.849Z"
   },
   {
    "duration": 40,
    "start_time": "2022-03-09T18:40:17.872Z"
   },
   {
    "duration": 32,
    "start_time": "2022-03-09T18:40:17.914Z"
   },
   {
    "duration": 20,
    "start_time": "2022-03-09T18:40:17.948Z"
   },
   {
    "duration": 17,
    "start_time": "2022-03-09T18:40:17.970Z"
   },
   {
    "duration": 503,
    "start_time": "2022-03-09T18:40:17.989Z"
   },
   {
    "duration": 33,
    "start_time": "2022-03-09T18:40:18.500Z"
   },
   {
    "duration": 18,
    "start_time": "2022-03-09T18:40:18.536Z"
   },
   {
    "duration": 52,
    "start_time": "2022-03-09T18:40:18.556Z"
   },
   {
    "duration": 4,
    "start_time": "2022-03-09T18:40:18.611Z"
   },
   {
    "duration": 18,
    "start_time": "2022-03-09T18:40:18.618Z"
   },
   {
    "duration": 40,
    "start_time": "2022-03-09T18:40:18.638Z"
   },
   {
    "duration": 17,
    "start_time": "2022-03-09T18:40:18.680Z"
   },
   {
    "duration": 21,
    "start_time": "2022-03-09T18:40:18.699Z"
   },
   {
    "duration": 41,
    "start_time": "2022-03-09T18:40:18.722Z"
   },
   {
    "duration": 25,
    "start_time": "2022-03-09T18:40:18.765Z"
   },
   {
    "duration": 108,
    "start_time": "2022-03-09T18:40:18.792Z"
   },
   {
    "duration": 7,
    "start_time": "2022-03-09T18:40:18.903Z"
   },
   {
    "duration": 5143,
    "start_time": "2022-03-09T18:40:18.912Z"
   },
   {
    "duration": 4,
    "start_time": "2022-03-09T18:40:24.057Z"
   },
   {
    "duration": 19,
    "start_time": "2022-03-09T18:40:24.062Z"
   },
   {
    "duration": 35,
    "start_time": "2022-03-09T18:40:24.082Z"
   },
   {
    "duration": 15,
    "start_time": "2022-03-09T18:40:24.119Z"
   },
   {
    "duration": 9,
    "start_time": "2022-03-09T18:40:24.136Z"
   },
   {
    "duration": 20,
    "start_time": "2022-03-09T18:40:24.147Z"
   },
   {
    "duration": 39,
    "start_time": "2022-03-09T18:40:24.169Z"
   },
   {
    "duration": 7,
    "start_time": "2022-03-09T18:40:24.210Z"
   },
   {
    "duration": 6,
    "start_time": "2022-03-09T18:40:24.219Z"
   },
   {
    "duration": 2,
    "start_time": "2022-03-09T18:40:24.227Z"
   },
   {
    "duration": 10,
    "start_time": "2022-03-09T18:40:24.231Z"
   },
   {
    "duration": 5,
    "start_time": "2022-03-09T18:40:24.243Z"
   },
   {
    "duration": 9,
    "start_time": "2022-03-09T18:40:24.250Z"
   },
   {
    "duration": 45,
    "start_time": "2022-03-09T18:40:24.261Z"
   },
   {
    "duration": 16,
    "start_time": "2022-03-09T18:40:24.308Z"
   },
   {
    "duration": 18,
    "start_time": "2022-03-09T18:40:24.326Z"
   },
   {
    "duration": 11,
    "start_time": "2022-03-09T18:40:24.346Z"
   },
   {
    "duration": 49,
    "start_time": "2022-03-09T18:40:24.359Z"
   },
   {
    "duration": 6,
    "start_time": "2022-03-09T18:40:24.409Z"
   },
   {
    "duration": 15,
    "start_time": "2022-03-09T18:40:24.416Z"
   },
   {
    "duration": 18,
    "start_time": "2022-03-09T18:40:24.433Z"
   },
   {
    "duration": 16,
    "start_time": "2022-03-09T18:40:24.453Z"
   },
   {
    "duration": 43,
    "start_time": "2022-03-09T18:40:24.471Z"
   },
   {
    "duration": 10,
    "start_time": "2022-03-09T18:40:24.516Z"
   },
   {
    "duration": 12,
    "start_time": "2022-03-09T18:40:24.529Z"
   },
   {
    "duration": 13,
    "start_time": "2022-03-09T18:40:24.544Z"
   },
   {
    "duration": 50,
    "start_time": "2022-03-09T18:40:24.559Z"
   },
   {
    "duration": 17,
    "start_time": "2022-03-09T18:40:24.611Z"
   },
   {
    "duration": 14,
    "start_time": "2022-03-09T18:40:24.630Z"
   },
   {
    "duration": 14,
    "start_time": "2022-03-09T18:40:24.645Z"
   },
   {
    "duration": 50,
    "start_time": "2022-03-09T18:40:24.661Z"
   },
   {
    "duration": 89,
    "start_time": "2022-03-09T20:41:25.678Z"
   },
   {
    "duration": 741,
    "start_time": "2022-03-09T20:41:50.483Z"
   },
   {
    "duration": 4,
    "start_time": "2022-03-09T20:41:51.819Z"
   },
   {
    "duration": 84,
    "start_time": "2022-03-09T20:41:52.760Z"
   },
   {
    "duration": 15,
    "start_time": "2022-03-09T20:41:53.311Z"
   },
   {
    "duration": 6,
    "start_time": "2022-03-09T20:41:53.734Z"
   },
   {
    "duration": 6,
    "start_time": "2022-03-09T20:41:54.155Z"
   },
   {
    "duration": 21,
    "start_time": "2022-03-09T20:41:54.369Z"
   },
   {
    "duration": 20,
    "start_time": "2022-03-09T20:41:54.701Z"
   },
   {
    "duration": 11,
    "start_time": "2022-03-09T20:41:55.859Z"
   },
   {
    "duration": 4,
    "start_time": "2022-03-09T20:41:57.599Z"
   },
   {
    "duration": 5,
    "start_time": "2022-03-09T20:42:14.708Z"
   },
   {
    "duration": 8643,
    "start_time": "2022-03-09T20:42:23.056Z"
   },
   {
    "duration": 32,
    "start_time": "2022-03-09T20:42:35.784Z"
   },
   {
    "duration": 20,
    "start_time": "2022-03-09T20:42:38.183Z"
   },
   {
    "duration": 13,
    "start_time": "2022-03-09T20:42:38.944Z"
   },
   {
    "duration": 12,
    "start_time": "2022-03-09T20:42:39.720Z"
   },
   {
    "duration": 11,
    "start_time": "2022-03-09T20:42:40.324Z"
   },
   {
    "duration": 8,
    "start_time": "2022-03-09T20:42:40.734Z"
   },
   {
    "duration": 32,
    "start_time": "2022-03-09T20:42:41.469Z"
   },
   {
    "duration": 10,
    "start_time": "2022-03-09T20:42:42.679Z"
   },
   {
    "duration": 13,
    "start_time": "2022-03-09T20:42:44.094Z"
   },
   {
    "duration": 5,
    "start_time": "2022-03-09T20:42:44.686Z"
   },
   {
    "duration": 788,
    "start_time": "2022-03-09T20:42:46.569Z"
   },
   {
    "duration": 58,
    "start_time": "2022-03-09T20:42:47.359Z"
   },
   {
    "duration": 18,
    "start_time": "2022-03-09T20:42:48.659Z"
   },
   {
    "duration": 36,
    "start_time": "2022-03-09T20:42:49.928Z"
   },
   {
    "duration": 6,
    "start_time": "2022-03-09T20:42:51.361Z"
   },
   {
    "duration": 6,
    "start_time": "2022-03-09T20:42:51.857Z"
   },
   {
    "duration": 28,
    "start_time": "2022-03-09T20:42:54.249Z"
   },
   {
    "duration": 10,
    "start_time": "2022-03-09T20:42:54.723Z"
   },
   {
    "duration": 5,
    "start_time": "2022-03-09T20:42:54.934Z"
   },
   {
    "duration": 38,
    "start_time": "2022-03-09T20:42:55.401Z"
   },
   {
    "duration": 34,
    "start_time": "2022-03-09T20:42:56.339Z"
   },
   {
    "duration": 111,
    "start_time": "2022-03-09T20:42:57.024Z"
   },
   {
    "duration": 10,
    "start_time": "2022-03-09T20:42:57.614Z"
   },
   {
    "duration": 10309,
    "start_time": "2022-03-09T20:42:58.574Z"
   },
   {
    "duration": 4,
    "start_time": "2022-03-09T20:43:08.886Z"
   },
   {
    "duration": 22,
    "start_time": "2022-03-09T20:43:08.894Z"
   },
   {
    "duration": 23,
    "start_time": "2022-03-09T20:43:11.514Z"
   },
   {
    "duration": 20,
    "start_time": "2022-03-09T20:43:12.808Z"
   },
   {
    "duration": 8,
    "start_time": "2022-03-09T20:43:13.715Z"
   },
   {
    "duration": 21,
    "start_time": "2022-03-09T20:43:14.177Z"
   },
   {
    "duration": 16,
    "start_time": "2022-03-09T20:43:14.595Z"
   },
   {
    "duration": 9,
    "start_time": "2022-03-09T20:43:15.067Z"
   },
   {
    "duration": 8,
    "start_time": "2022-03-09T20:43:15.659Z"
   },
   {
    "duration": 3,
    "start_time": "2022-03-09T20:43:16.120Z"
   },
   {
    "duration": 7,
    "start_time": "2022-03-09T20:43:18.060Z"
   },
   {
    "duration": 6,
    "start_time": "2022-03-09T20:43:18.360Z"
   },
   {
    "duration": 6,
    "start_time": "2022-03-09T20:43:18.535Z"
   },
   {
    "duration": 9,
    "start_time": "2022-03-09T20:43:19.255Z"
   },
   {
    "duration": 16,
    "start_time": "2022-03-09T20:43:19.439Z"
   },
   {
    "duration": 24,
    "start_time": "2022-03-09T20:43:20.380Z"
   },
   {
    "duration": 19,
    "start_time": "2022-03-09T20:43:21.284Z"
   },
   {
    "duration": 16,
    "start_time": "2022-03-09T20:43:21.882Z"
   },
   {
    "duration": 7,
    "start_time": "2022-03-09T20:43:22.084Z"
   },
   {
    "duration": 16,
    "start_time": "2022-03-09T20:43:22.309Z"
   },
   {
    "duration": 28,
    "start_time": "2022-03-09T20:47:07.177Z"
   },
   {
    "duration": 22,
    "start_time": "2022-03-09T20:47:09.005Z"
   },
   {
    "duration": 20,
    "start_time": "2022-03-09T20:47:09.756Z"
   },
   {
    "duration": 17,
    "start_time": "2022-03-09T20:47:10.608Z"
   },
   {
    "duration": 20,
    "start_time": "2022-03-09T20:47:10.808Z"
   },
   {
    "duration": 25,
    "start_time": "2022-03-09T20:47:11.154Z"
   },
   {
    "duration": 19,
    "start_time": "2022-03-09T20:47:11.396Z"
   },
   {
    "duration": 26,
    "start_time": "2022-03-09T20:47:11.630Z"
   },
   {
    "duration": 20,
    "start_time": "2022-03-09T20:47:12.710Z"
   },
   {
    "duration": 21,
    "start_time": "2022-03-09T20:47:13.631Z"
   },
   {
    "duration": 24,
    "start_time": "2022-03-09T20:47:14.042Z"
   }
  ],
  "kernelspec": {
   "display_name": "Python 3",
   "language": "python",
   "name": "python3"
  },
  "language_info": {
   "codemirror_mode": {
    "name": "ipython",
    "version": 3
   },
   "file_extension": ".py",
   "mimetype": "text/x-python",
   "name": "python",
   "nbconvert_exporter": "python",
   "pygments_lexer": "ipython3",
   "version": "3.8.8"
  },
  "toc": {
   "base_numbering": 1,
   "nav_menu": {},
   "number_sections": true,
   "sideBar": true,
   "skip_h1_title": true,
   "title_cell": "Table of Contents",
   "title_sidebar": "Contents",
   "toc_cell": false,
   "toc_position": {
    "height": "calc(100% - 180px)",
    "left": "10px",
    "top": "150px",
    "width": "291.81px"
   },
   "toc_section_display": true,
   "toc_window_display": false
  }
 },
 "nbformat": 4,
 "nbformat_minor": 5
}
