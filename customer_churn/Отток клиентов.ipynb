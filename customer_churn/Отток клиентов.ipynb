{
 "cells": [
  {
   "cell_type": "markdown",
   "metadata": {},
   "source": [
    "# 3.   Отток клиентов"
   ]
  },
  {
   "cell_type": "markdown",
   "metadata": {},
   "source": [
    "<div style=\"background-color: #fff0e0; padding: 10px; font-family: monospace; font-size: 15px\">\n",
    "Из «Бета-Банка» стали уходить клиенты. Каждый месяц. Немного, но заметно. Банковские маркетологи посчитали: сохранять текущих клиентов дешевле, чем привлекать новых.\n",
    "<br><br>Нужно спрогнозировать, уйдёт клиент из банка в ближайшее время или нет. Вам предоставлены исторические данные о поведении клиентов и расторжении договоров с банком. "
   ]
  },
  {
   "cell_type": "markdown",
   "metadata": {},
   "source": [
    "## 3.1.   Подготовка данных"
   ]
  },
  {
   "cell_type": "markdown",
   "metadata": {},
   "source": [
    "### 3.1.1.   Импорты"
   ]
  },
  {
   "cell_type": "markdown",
   "metadata": {},
   "source": [
    "<div style=\"background-color: #fff0e0; padding: 10px; font-family: monospace; font-size: 15px\">\n",
    "Импортируем все необходимые модули</div>"
   ]
  },
  {
   "cell_type": "code",
   "execution_count": 67,
   "metadata": {},
   "outputs": [],
   "source": [
    "import pandas as pd\n",
    "from sklearn.preprocessing import OneHotEncoder\n",
    "from sklearn.preprocessing import StandardScaler\n",
    "from sklearn.model_selection import train_test_split\n",
    "from sklearn.tree import DecisionTreeClassifier\n",
    "from sklearn.ensemble import RandomForestClassifier\n",
    "from sklearn.linear_model import LogisticRegression\n",
    "from sklearn.metrics import f1_score\n",
    "from sklearn.metrics import roc_auc_score\n",
    "from sklearn.utils import shuffle\n",
    "from sklearn.metrics import roc_curve\n",
    "import matplotlib.pyplot as plt"
   ]
  },
  {
   "cell_type": "code",
   "execution_count": 68,
   "metadata": {},
   "outputs": [],
   "source": [
    "data = pd.read_csv('/datasets/Churn.csv')"
   ]
  },
  {
   "cell_type": "markdown",
   "metadata": {},
   "source": [
    "### 3.1.2.   Знакомство с данными"
   ]
  },
  {
   "cell_type": "markdown",
   "metadata": {},
   "source": [
    "<div style=\"background-color: #fff0e0; padding: 10px; font-family: monospace; font-size: 15px\">\n",
    "Краткий взгляд на данные</div>"
   ]
  },
  {
   "cell_type": "code",
   "execution_count": 69,
   "metadata": {},
   "outputs": [
    {
     "data": {
      "text/html": [
       "<div>\n",
       "<style scoped>\n",
       "    .dataframe tbody tr th:only-of-type {\n",
       "        vertical-align: middle;\n",
       "    }\n",
       "\n",
       "    .dataframe tbody tr th {\n",
       "        vertical-align: top;\n",
       "    }\n",
       "\n",
       "    .dataframe thead th {\n",
       "        text-align: right;\n",
       "    }\n",
       "</style>\n",
       "<table border=\"1\" class=\"dataframe\">\n",
       "  <thead>\n",
       "    <tr style=\"text-align: right;\">\n",
       "      <th></th>\n",
       "      <th>RowNumber</th>\n",
       "      <th>CustomerId</th>\n",
       "      <th>Surname</th>\n",
       "      <th>CreditScore</th>\n",
       "      <th>Geography</th>\n",
       "      <th>Gender</th>\n",
       "      <th>Age</th>\n",
       "      <th>Tenure</th>\n",
       "      <th>Balance</th>\n",
       "      <th>NumOfProducts</th>\n",
       "      <th>HasCrCard</th>\n",
       "      <th>IsActiveMember</th>\n",
       "      <th>EstimatedSalary</th>\n",
       "      <th>Exited</th>\n",
       "    </tr>\n",
       "  </thead>\n",
       "  <tbody>\n",
       "    <tr>\n",
       "      <th>0</th>\n",
       "      <td>1</td>\n",
       "      <td>15634602</td>\n",
       "      <td>Hargrave</td>\n",
       "      <td>619</td>\n",
       "      <td>France</td>\n",
       "      <td>Female</td>\n",
       "      <td>42</td>\n",
       "      <td>2.0</td>\n",
       "      <td>0.00</td>\n",
       "      <td>1</td>\n",
       "      <td>1</td>\n",
       "      <td>1</td>\n",
       "      <td>101348.88</td>\n",
       "      <td>1</td>\n",
       "    </tr>\n",
       "    <tr>\n",
       "      <th>1</th>\n",
       "      <td>2</td>\n",
       "      <td>15647311</td>\n",
       "      <td>Hill</td>\n",
       "      <td>608</td>\n",
       "      <td>Spain</td>\n",
       "      <td>Female</td>\n",
       "      <td>41</td>\n",
       "      <td>1.0</td>\n",
       "      <td>83807.86</td>\n",
       "      <td>1</td>\n",
       "      <td>0</td>\n",
       "      <td>1</td>\n",
       "      <td>112542.58</td>\n",
       "      <td>0</td>\n",
       "    </tr>\n",
       "    <tr>\n",
       "      <th>2</th>\n",
       "      <td>3</td>\n",
       "      <td>15619304</td>\n",
       "      <td>Onio</td>\n",
       "      <td>502</td>\n",
       "      <td>France</td>\n",
       "      <td>Female</td>\n",
       "      <td>42</td>\n",
       "      <td>8.0</td>\n",
       "      <td>159660.80</td>\n",
       "      <td>3</td>\n",
       "      <td>1</td>\n",
       "      <td>0</td>\n",
       "      <td>113931.57</td>\n",
       "      <td>1</td>\n",
       "    </tr>\n",
       "    <tr>\n",
       "      <th>3</th>\n",
       "      <td>4</td>\n",
       "      <td>15701354</td>\n",
       "      <td>Boni</td>\n",
       "      <td>699</td>\n",
       "      <td>France</td>\n",
       "      <td>Female</td>\n",
       "      <td>39</td>\n",
       "      <td>1.0</td>\n",
       "      <td>0.00</td>\n",
       "      <td>2</td>\n",
       "      <td>0</td>\n",
       "      <td>0</td>\n",
       "      <td>93826.63</td>\n",
       "      <td>0</td>\n",
       "    </tr>\n",
       "    <tr>\n",
       "      <th>4</th>\n",
       "      <td>5</td>\n",
       "      <td>15737888</td>\n",
       "      <td>Mitchell</td>\n",
       "      <td>850</td>\n",
       "      <td>Spain</td>\n",
       "      <td>Female</td>\n",
       "      <td>43</td>\n",
       "      <td>2.0</td>\n",
       "      <td>125510.82</td>\n",
       "      <td>1</td>\n",
       "      <td>1</td>\n",
       "      <td>1</td>\n",
       "      <td>79084.10</td>\n",
       "      <td>0</td>\n",
       "    </tr>\n",
       "  </tbody>\n",
       "</table>\n",
       "</div>"
      ],
      "text/plain": [
       "   RowNumber  CustomerId   Surname  CreditScore Geography  Gender  Age  \\\n",
       "0          1    15634602  Hargrave          619    France  Female   42   \n",
       "1          2    15647311      Hill          608     Spain  Female   41   \n",
       "2          3    15619304      Onio          502    France  Female   42   \n",
       "3          4    15701354      Boni          699    France  Female   39   \n",
       "4          5    15737888  Mitchell          850     Spain  Female   43   \n",
       "\n",
       "   Tenure    Balance  NumOfProducts  HasCrCard  IsActiveMember  \\\n",
       "0     2.0       0.00              1          1               1   \n",
       "1     1.0   83807.86              1          0               1   \n",
       "2     8.0  159660.80              3          1               0   \n",
       "3     1.0       0.00              2          0               0   \n",
       "4     2.0  125510.82              1          1               1   \n",
       "\n",
       "   EstimatedSalary  Exited  \n",
       "0        101348.88       1  \n",
       "1        112542.58       0  \n",
       "2        113931.57       1  \n",
       "3         93826.63       0  \n",
       "4         79084.10       0  "
      ]
     },
     "metadata": {},
     "output_type": "display_data"
    },
    {
     "name": "stdout",
     "output_type": "stream",
     "text": [
      "\n",
      "\n",
      "\n",
      "<class 'pandas.core.frame.DataFrame'>\n",
      "RangeIndex: 10000 entries, 0 to 9999\n",
      "Data columns (total 14 columns):\n",
      " #   Column           Non-Null Count  Dtype  \n",
      "---  ------           --------------  -----  \n",
      " 0   RowNumber        10000 non-null  int64  \n",
      " 1   CustomerId       10000 non-null  int64  \n",
      " 2   Surname          10000 non-null  object \n",
      " 3   CreditScore      10000 non-null  int64  \n",
      " 4   Geography        10000 non-null  object \n",
      " 5   Gender           10000 non-null  object \n",
      " 6   Age              10000 non-null  int64  \n",
      " 7   Tenure           9091 non-null   float64\n",
      " 8   Balance          10000 non-null  float64\n",
      " 9   NumOfProducts    10000 non-null  int64  \n",
      " 10  HasCrCard        10000 non-null  int64  \n",
      " 11  IsActiveMember   10000 non-null  int64  \n",
      " 12  EstimatedSalary  10000 non-null  float64\n",
      " 13  Exited           10000 non-null  int64  \n",
      "dtypes: float64(3), int64(8), object(3)\n",
      "memory usage: 1.1+ MB\n",
      "None\n",
      "\n",
      "\n",
      "\n",
      "         RowNumber    CustomerId   CreditScore           Age       Tenure  \\\n",
      "count  10000.00000  1.000000e+04  10000.000000  10000.000000  9091.000000   \n",
      "mean    5000.50000  1.569094e+07    650.528800     38.921800     4.997690   \n",
      "std     2886.89568  7.193619e+04     96.653299     10.487806     2.894723   \n",
      "min        1.00000  1.556570e+07    350.000000     18.000000     0.000000   \n",
      "25%     2500.75000  1.562853e+07    584.000000     32.000000     2.000000   \n",
      "50%     5000.50000  1.569074e+07    652.000000     37.000000     5.000000   \n",
      "75%     7500.25000  1.575323e+07    718.000000     44.000000     7.000000   \n",
      "max    10000.00000  1.581569e+07    850.000000     92.000000    10.000000   \n",
      "\n",
      "             Balance  NumOfProducts    HasCrCard  IsActiveMember  \\\n",
      "count   10000.000000   10000.000000  10000.00000    10000.000000   \n",
      "mean    76485.889288       1.530200      0.70550        0.515100   \n",
      "std     62397.405202       0.581654      0.45584        0.499797   \n",
      "min         0.000000       1.000000      0.00000        0.000000   \n",
      "25%         0.000000       1.000000      0.00000        0.000000   \n",
      "50%     97198.540000       1.000000      1.00000        1.000000   \n",
      "75%    127644.240000       2.000000      1.00000        1.000000   \n",
      "max    250898.090000       4.000000      1.00000        1.000000   \n",
      "\n",
      "       EstimatedSalary        Exited  \n",
      "count     10000.000000  10000.000000  \n",
      "mean     100090.239881      0.203700  \n",
      "std       57510.492818      0.402769  \n",
      "min          11.580000      0.000000  \n",
      "25%       51002.110000      0.000000  \n",
      "50%      100193.915000      0.000000  \n",
      "75%      149388.247500      0.000000  \n",
      "max      199992.480000      1.000000  \n"
     ]
    }
   ],
   "source": [
    "display(data.head())\n",
    "print('\\n\\n')\n",
    "print(data.info())\n",
    "print('\\n\\n')\n",
    "print(data.describe())"
   ]
  },
  {
   "cell_type": "markdown",
   "metadata": {},
   "source": [
    "<div style=\"background-color: #fff0e0; padding: 10px; font-family: monospace; font-size: 15px\">\n",
    "Допустим, зарплата в 11 чего-бы-то-ни-было нас не смутит (хотя, вопрос остается)</div>\n",
    "\n",
    "<div style=\"background-color: #fff0e0; padding: 10px; font-family: monospace; font-size: 15px\">\n",
    "Имеем следующую картину:\n",
    "<br><br>- один бесполезный столбец \"RowNumber\"\n",
    "<br><br>- 9 числовых признаков\n",
    "<br><br>- 3 категориальных признака\n",
    "<br><br>- в одном столбце имеется 989 ошибочных данных</div>"
   ]
  },
  {
   "cell_type": "markdown",
   "metadata": {},
   "source": [
    "<div style=\"background-color: #fff0e0; padding: 10px; font-family: monospace; font-size: 15px\">\n",
    "Избавимся от RowNumber</div>"
   ]
  },
  {
   "cell_type": "code",
   "execution_count": 70,
   "metadata": {},
   "outputs": [],
   "source": [
    "data = data.drop('RowNumber', axis=1)"
   ]
  },
  {
   "cell_type": "markdown",
   "metadata": {},
   "source": [
    "<div style=\"background-color: #fff0e0; padding: 10px; font-family: monospace; font-size: 15px\">\n",
    "Фамилия и id человека, скорее всего, не несут никакой информации, поэтому их стоит исключить из датасета</div>"
   ]
  },
  {
   "cell_type": "code",
   "execution_count": 71,
   "metadata": {},
   "outputs": [],
   "source": [
    "data = data.drop(['Surname', 'CustomerId'], axis=1)"
   ]
  },
  {
   "cell_type": "markdown",
   "metadata": {},
   "source": [
    "### 3.1.3.   Заполнение пропусков"
   ]
  },
  {
   "cell_type": "markdown",
   "metadata": {},
   "source": [
    "<div style=\"background-color: #fff0e0; padding: 10px; font-family: monospace; font-size: 15px\">\n",
    "Tenure – показатель, сколько лет человек является клиентом банка. Если стоит пропуск, то, скорее всего, человек только что пришел в банк. </div>"
   ]
  },
  {
   "cell_type": "code",
   "execution_count": 72,
   "metadata": {},
   "outputs": [
    {
     "name": "stdout",
     "output_type": "stream",
     "text": [
      "Количество нулевых объектов: 382\n",
      "Минимальное значение 0.0\n",
      "Максимальное значение 10.0\n"
     ]
    }
   ],
   "source": [
    "print('Количество нулевых объектов:', data[data.Tenure == 0].Tenure.count())\n",
    "print('Минимальное значение', data.Tenure.min())\n",
    "print('Максимальное значение', data.Tenure.max())"
   ]
  },
  {
   "cell_type": "markdown",
   "metadata": {},
   "source": [
    "<div style=\"background-color: #fff0e0; padding: 10px; font-family: monospace; font-size: 15px\">\n",
    "Людей с нулевым количеством лет имеется в количестве 382 человека. Либо это пропуски совсем новых людей, либо надо уточнить – теория о том, что это люди с 10+ лет клиентства, но цифра не влезла не сработает – число 10 есть в таблице</div>\n",
    "\n",
    "<div style=\"background-color: #fff0e0; padding: 10px; font-family: monospace; font-size: 15px\">\n",
    "За неимением альтернатив, за правду берем теорию, что это новые люди</div>"
   ]
  },
  {
   "cell_type": "code",
   "execution_count": 73,
   "metadata": {
    "scrolled": true
   },
   "outputs": [
    {
     "name": "stdout",
     "output_type": "stream",
     "text": [
      "0\n"
     ]
    }
   ],
   "source": [
    "data.Tenure = data.Tenure.fillna(0)\n",
    "print(data[data.Tenure.isna()].Tenure.count())"
   ]
  },
  {
   "cell_type": "markdown",
   "metadata": {},
   "source": [
    "<div style=\"background-color: #fff0e0; padding: 10px; font-family: monospace; font-size: 15px\">\n",
    "Ошибок в датасете больше нет</div>"
   ]
  },
  {
   "cell_type": "markdown",
   "metadata": {},
   "source": [
    "### 3.1.4.   Приведение к нижнему регистру"
   ]
  },
  {
   "cell_type": "markdown",
   "metadata": {},
   "source": [
    "<div style=\"background-color: #fff0e0; padding: 10px; font-family: monospace; font-size: 15px\">\n",
    "Приведем названия столбцов к нижнему регистру и разделим нижним подчеркиванием</div>"
   ]
  },
  {
   "cell_type": "code",
   "execution_count": 74,
   "metadata": {},
   "outputs": [
    {
     "data": {
      "text/html": [
       "<div>\n",
       "<style scoped>\n",
       "    .dataframe tbody tr th:only-of-type {\n",
       "        vertical-align: middle;\n",
       "    }\n",
       "\n",
       "    .dataframe tbody tr th {\n",
       "        vertical-align: top;\n",
       "    }\n",
       "\n",
       "    .dataframe thead th {\n",
       "        text-align: right;\n",
       "    }\n",
       "</style>\n",
       "<table border=\"1\" class=\"dataframe\">\n",
       "  <thead>\n",
       "    <tr style=\"text-align: right;\">\n",
       "      <th></th>\n",
       "      <th>credit_score</th>\n",
       "      <th>geography</th>\n",
       "      <th>gender</th>\n",
       "      <th>age</th>\n",
       "      <th>tenure</th>\n",
       "      <th>balance</th>\n",
       "      <th>num_of_products</th>\n",
       "      <th>has_cr_card</th>\n",
       "      <th>is_active_member</th>\n",
       "      <th>estimated_salary</th>\n",
       "      <th>exited</th>\n",
       "    </tr>\n",
       "  </thead>\n",
       "  <tbody>\n",
       "    <tr>\n",
       "      <th>0</th>\n",
       "      <td>619</td>\n",
       "      <td>France</td>\n",
       "      <td>Female</td>\n",
       "      <td>42</td>\n",
       "      <td>2.0</td>\n",
       "      <td>0.00</td>\n",
       "      <td>1</td>\n",
       "      <td>1</td>\n",
       "      <td>1</td>\n",
       "      <td>101348.88</td>\n",
       "      <td>1</td>\n",
       "    </tr>\n",
       "    <tr>\n",
       "      <th>1</th>\n",
       "      <td>608</td>\n",
       "      <td>Spain</td>\n",
       "      <td>Female</td>\n",
       "      <td>41</td>\n",
       "      <td>1.0</td>\n",
       "      <td>83807.86</td>\n",
       "      <td>1</td>\n",
       "      <td>0</td>\n",
       "      <td>1</td>\n",
       "      <td>112542.58</td>\n",
       "      <td>0</td>\n",
       "    </tr>\n",
       "    <tr>\n",
       "      <th>2</th>\n",
       "      <td>502</td>\n",
       "      <td>France</td>\n",
       "      <td>Female</td>\n",
       "      <td>42</td>\n",
       "      <td>8.0</td>\n",
       "      <td>159660.80</td>\n",
       "      <td>3</td>\n",
       "      <td>1</td>\n",
       "      <td>0</td>\n",
       "      <td>113931.57</td>\n",
       "      <td>1</td>\n",
       "    </tr>\n",
       "    <tr>\n",
       "      <th>3</th>\n",
       "      <td>699</td>\n",
       "      <td>France</td>\n",
       "      <td>Female</td>\n",
       "      <td>39</td>\n",
       "      <td>1.0</td>\n",
       "      <td>0.00</td>\n",
       "      <td>2</td>\n",
       "      <td>0</td>\n",
       "      <td>0</td>\n",
       "      <td>93826.63</td>\n",
       "      <td>0</td>\n",
       "    </tr>\n",
       "    <tr>\n",
       "      <th>4</th>\n",
       "      <td>850</td>\n",
       "      <td>Spain</td>\n",
       "      <td>Female</td>\n",
       "      <td>43</td>\n",
       "      <td>2.0</td>\n",
       "      <td>125510.82</td>\n",
       "      <td>1</td>\n",
       "      <td>1</td>\n",
       "      <td>1</td>\n",
       "      <td>79084.10</td>\n",
       "      <td>0</td>\n",
       "    </tr>\n",
       "  </tbody>\n",
       "</table>\n",
       "</div>"
      ],
      "text/plain": [
       "   credit_score geography  gender  age  tenure    balance  num_of_products  \\\n",
       "0           619    France  Female   42     2.0       0.00                1   \n",
       "1           608     Spain  Female   41     1.0   83807.86                1   \n",
       "2           502    France  Female   42     8.0  159660.80                3   \n",
       "3           699    France  Female   39     1.0       0.00                2   \n",
       "4           850     Spain  Female   43     2.0  125510.82                1   \n",
       "\n",
       "   has_cr_card  is_active_member  estimated_salary  exited  \n",
       "0            1                 1         101348.88       1  \n",
       "1            0                 1         112542.58       0  \n",
       "2            1                 0         113931.57       1  \n",
       "3            0                 0          93826.63       0  \n",
       "4            1                 1          79084.10       0  "
      ]
     },
     "execution_count": 74,
     "metadata": {},
     "output_type": "execute_result"
    }
   ],
   "source": [
    "# переименуем колонки, которые надо разделить\n",
    "data = data.rename(columns={'CustomerId': 'customer_id', \n",
    "                            'CreditScore': 'credit_score', \n",
    "                            'NumOfProducts': 'num_of_products', \n",
    "                            'HasCrCard': 'has_cr_card', \n",
    "                            'IsActiveMember': 'is_active_member', \n",
    "                            'EstimatedSalary': 'estimated_salary'})\n",
    "\n",
    "# приведем все к нижнему регистру\n",
    "data.columns = data.columns.str.lower()\n",
    "\n",
    "# посмотрим на результат\n",
    "data.head()"
   ]
  },
  {
   "cell_type": "markdown",
   "metadata": {},
   "source": [
    "### 3.1.5.   Замена категориальных признаков"
   ]
  },
  {
   "cell_type": "markdown",
   "metadata": {},
   "source": [
    "<div style=\"background-color: #fff0e0; padding: 10px; font-family: monospace; font-size: 15px\">\n",
    "Осталось две колонки с категориальными признаками. Проверим их на адекватность</div>"
   ]
  },
  {
   "cell_type": "code",
   "execution_count": 75,
   "metadata": {},
   "outputs": [
    {
     "name": "stdout",
     "output_type": "stream",
     "text": [
      "geography unique: ['France' 'Spain' 'Germany']\n",
      "gender unique: ['Female' 'Male']\n"
     ]
    }
   ],
   "source": [
    "print(f'geography unique: {data.geography.unique()}')\n",
    "print(f'gender unique: {data.gender.unique()}')"
   ]
  },
  {
   "cell_type": "markdown",
   "metadata": {},
   "source": [
    "<div style=\"background-color: #fff0e0; padding: 10px; font-family: monospace; font-size: 15px\">\n",
    "Выглядит культурно, стоит заменить их числами при помощи OneHot-технологий</div>"
   ]
  },
  {
   "cell_type": "code",
   "execution_count": 76,
   "metadata": {},
   "outputs": [],
   "source": [
    "data_ordinal = (pd\n",
    "                # соединяем исходную таблицу с преобразованной\n",
    "                .concat([pd.get_dummies(data[['geography', 'gender']], drop_first=True), data], 1)\n",
    "                # убираем старые столбцы\n",
    "                .drop(['geography', 'gender'], axis=1))"
   ]
  },
  {
   "cell_type": "code",
   "execution_count": 77,
   "metadata": {},
   "outputs": [
    {
     "data": {
      "text/html": [
       "<div>\n",
       "<style scoped>\n",
       "    .dataframe tbody tr th:only-of-type {\n",
       "        vertical-align: middle;\n",
       "    }\n",
       "\n",
       "    .dataframe tbody tr th {\n",
       "        vertical-align: top;\n",
       "    }\n",
       "\n",
       "    .dataframe thead th {\n",
       "        text-align: right;\n",
       "    }\n",
       "</style>\n",
       "<table border=\"1\" class=\"dataframe\">\n",
       "  <thead>\n",
       "    <tr style=\"text-align: right;\">\n",
       "      <th></th>\n",
       "      <th>geography_Germany</th>\n",
       "      <th>geography_Spain</th>\n",
       "      <th>gender_Male</th>\n",
       "      <th>credit_score</th>\n",
       "      <th>age</th>\n",
       "      <th>tenure</th>\n",
       "      <th>balance</th>\n",
       "      <th>num_of_products</th>\n",
       "      <th>has_cr_card</th>\n",
       "      <th>is_active_member</th>\n",
       "      <th>estimated_salary</th>\n",
       "      <th>exited</th>\n",
       "    </tr>\n",
       "  </thead>\n",
       "  <tbody>\n",
       "    <tr>\n",
       "      <th>0</th>\n",
       "      <td>0</td>\n",
       "      <td>0</td>\n",
       "      <td>0</td>\n",
       "      <td>619</td>\n",
       "      <td>42</td>\n",
       "      <td>2.0</td>\n",
       "      <td>0.00</td>\n",
       "      <td>1</td>\n",
       "      <td>1</td>\n",
       "      <td>1</td>\n",
       "      <td>101348.88</td>\n",
       "      <td>1</td>\n",
       "    </tr>\n",
       "    <tr>\n",
       "      <th>1</th>\n",
       "      <td>0</td>\n",
       "      <td>1</td>\n",
       "      <td>0</td>\n",
       "      <td>608</td>\n",
       "      <td>41</td>\n",
       "      <td>1.0</td>\n",
       "      <td>83807.86</td>\n",
       "      <td>1</td>\n",
       "      <td>0</td>\n",
       "      <td>1</td>\n",
       "      <td>112542.58</td>\n",
       "      <td>0</td>\n",
       "    </tr>\n",
       "    <tr>\n",
       "      <th>2</th>\n",
       "      <td>0</td>\n",
       "      <td>0</td>\n",
       "      <td>0</td>\n",
       "      <td>502</td>\n",
       "      <td>42</td>\n",
       "      <td>8.0</td>\n",
       "      <td>159660.80</td>\n",
       "      <td>3</td>\n",
       "      <td>1</td>\n",
       "      <td>0</td>\n",
       "      <td>113931.57</td>\n",
       "      <td>1</td>\n",
       "    </tr>\n",
       "    <tr>\n",
       "      <th>3</th>\n",
       "      <td>0</td>\n",
       "      <td>0</td>\n",
       "      <td>0</td>\n",
       "      <td>699</td>\n",
       "      <td>39</td>\n",
       "      <td>1.0</td>\n",
       "      <td>0.00</td>\n",
       "      <td>2</td>\n",
       "      <td>0</td>\n",
       "      <td>0</td>\n",
       "      <td>93826.63</td>\n",
       "      <td>0</td>\n",
       "    </tr>\n",
       "    <tr>\n",
       "      <th>4</th>\n",
       "      <td>0</td>\n",
       "      <td>1</td>\n",
       "      <td>0</td>\n",
       "      <td>850</td>\n",
       "      <td>43</td>\n",
       "      <td>2.0</td>\n",
       "      <td>125510.82</td>\n",
       "      <td>1</td>\n",
       "      <td>1</td>\n",
       "      <td>1</td>\n",
       "      <td>79084.10</td>\n",
       "      <td>0</td>\n",
       "    </tr>\n",
       "  </tbody>\n",
       "</table>\n",
       "</div>"
      ],
      "text/plain": [
       "   geography_Germany  geography_Spain  gender_Male  credit_score  age  tenure  \\\n",
       "0                  0                0            0           619   42     2.0   \n",
       "1                  0                1            0           608   41     1.0   \n",
       "2                  0                0            0           502   42     8.0   \n",
       "3                  0                0            0           699   39     1.0   \n",
       "4                  0                1            0           850   43     2.0   \n",
       "\n",
       "     balance  num_of_products  has_cr_card  is_active_member  \\\n",
       "0       0.00                1            1                 1   \n",
       "1   83807.86                1            0                 1   \n",
       "2  159660.80                3            1                 0   \n",
       "3       0.00                2            0                 0   \n",
       "4  125510.82                1            1                 1   \n",
       "\n",
       "   estimated_salary  exited  \n",
       "0         101348.88       1  \n",
       "1         112542.58       0  \n",
       "2         113931.57       1  \n",
       "3          93826.63       0  \n",
       "4          79084.10       0  "
      ]
     },
     "execution_count": 77,
     "metadata": {},
     "output_type": "execute_result"
    }
   ],
   "source": [
    "data_ordinal.head()"
   ]
  },
  {
   "cell_type": "markdown",
   "metadata": {},
   "source": [
    "### 3.1.6.   Вывод"
   ]
  },
  {
   "cell_type": "markdown",
   "metadata": {},
   "source": [
    "<div style=\"background-color: #fff0e0; padding: 10px; font-family: monospace; font-size: 15px\">\n",
    "Краткий вывод: данные чистые, ошибочных значений 10% и только в одной строке. Бесполезных столбцов 3, были убраны. Категориальные признаки переведены в числовые, однако, остается вопрос о поведении модели при обнаружении другой страны</div>"
   ]
  },
  {
   "cell_type": "markdown",
   "metadata": {},
   "source": [
    "## 3.2.   Исследование задачи"
   ]
  },
  {
   "cell_type": "markdown",
   "metadata": {},
   "source": [
    "### 3.2.1.   Исследование дисбаланса"
   ]
  },
  {
   "cell_type": "markdown",
   "metadata": {},
   "source": [
    "<div style=\"background-color: #fff0e0; padding: 10px; font-family: monospace; font-size: 15px\">\n",
    "Проверим балансировку целевого признака: exited</div>"
   ]
  },
  {
   "cell_type": "code",
   "execution_count": 78,
   "metadata": {},
   "outputs": [
    {
     "data": {
      "text/plain": [
       "<AxesSubplot:>"
      ]
     },
     "execution_count": 78,
     "metadata": {},
     "output_type": "execute_result"
    },
    {
     "data": {
      "image/png": "[encoded data removed]",
      "text/plain": [
       "<Figure size 432x288 with 1 Axes>"
      ]
     },
     "metadata": {
      "needs_background": "light"
     },
     "output_type": "display_data"
    }
   ],
   "source": [
    "data_ordinal.exited.hist(bins=2)"
   ]
  },
  {
   "cell_type": "markdown",
   "metadata": {},
   "source": [
    "<div style=\"background-color: #fff0e0; padding: 10px; font-family: monospace; font-size: 15px\">\n",
    "В 4 раза больше преобладают нули, це явный дисбаланс. По сценарию мы наивно его игнорируем, но в голове держим</div>"
   ]
  },
  {
   "cell_type": "markdown",
   "metadata": {},
   "source": [
    "### 3.2.2.   Разделение данных"
   ]
  },
  {
   "cell_type": "markdown",
   "metadata": {},
   "source": [
    "<div style=\"background-color: #fff0e0; padding: 10px; font-family: monospace; font-size: 15px\">\n",
    "Выделим признаки для обучения и целевой признак</div>"
   ]
  },
  {
   "cell_type": "code",
   "execution_count": 79,
   "metadata": {},
   "outputs": [],
   "source": [
    "features = data_ordinal.drop('exited', axis=1)\n",
    "target = data_ordinal.exited"
   ]
  },
  {
   "cell_type": "markdown",
   "metadata": {},
   "source": [
    "<div style=\"background-color: #fff0e0; padding: 10px; font-family: monospace; font-size: 15px\">\n",
    "Разделим наши данные на тренировочную, валидационную и тестовую выборки в соотношении 3:1:1</div>"
   ]
  },
  {
   "cell_type": "code",
   "execution_count": 80,
   "metadata": {},
   "outputs": [],
   "source": [
    "Features_, features_test, Target_, target_test = train_test_split(features,\n",
    "                                                                    target, \n",
    "                                                                    test_size=0.2, \n",
    "                                                                    random_state=12345)"
   ]
  },
  {
   "cell_type": "code",
   "execution_count": 81,
   "metadata": {},
   "outputs": [],
   "source": [
    "features_train, features_valid, target_train, target_valid = train_test_split(Features_, \n",
    "                                                                              Target_, \n",
    "                                                                              test_size=0.2, \n",
    "                                                                              random_state=12345)"
   ]
  },
  {
   "cell_type": "code",
   "execution_count": 82,
   "metadata": {},
   "outputs": [
    {
     "name": "stderr",
     "output_type": "stream",
     "text": [
      "/tmp/ipykernel_25/2504254674.py:4: SettingWithCopyWarning: \n",
      "A value is trying to be set on a copy of a slice from a DataFrame.\n",
      "Try using .loc[row_indexer,col_indexer] = value instead\n",
      "\n",
      "See the caveats in the documentation: https://pandas.pydata.org/pandas-docs/stable/user_guide/indexing.html#returning-a-view-versus-a-copy\n",
      "  features_train[scalable_columns] = scaler.transform(features_train[scalable_columns])\n",
      "/opt/conda/lib/python3.9/site-packages/pandas/core/indexing.py:1738: SettingWithCopyWarning: \n",
      "A value is trying to be set on a copy of a slice from a DataFrame.\n",
      "Try using .loc[row_indexer,col_indexer] = value instead\n",
      "\n",
      "See the caveats in the documentation: https://pandas.pydata.org/pandas-docs/stable/user_guide/indexing.html#returning-a-view-versus-a-copy\n",
      "  self._setitem_single_column(loc, value[:, i].tolist(), pi)\n",
      "/tmp/ipykernel_25/2504254674.py:5: SettingWithCopyWarning: \n",
      "A value is trying to be set on a copy of a slice from a DataFrame.\n",
      "Try using .loc[row_indexer,col_indexer] = value instead\n",
      "\n",
      "See the caveats in the documentation: https://pandas.pydata.org/pandas-docs/stable/user_guide/indexing.html#returning-a-view-versus-a-copy\n",
      "  features_valid[scalable_columns] = scaler.transform(features_valid[scalable_columns])\n",
      "/opt/conda/lib/python3.9/site-packages/pandas/core/indexing.py:1738: SettingWithCopyWarning: \n",
      "A value is trying to be set on a copy of a slice from a DataFrame.\n",
      "Try using .loc[row_indexer,col_indexer] = value instead\n",
      "\n",
      "See the caveats in the documentation: https://pandas.pydata.org/pandas-docs/stable/user_guide/indexing.html#returning-a-view-versus-a-copy\n",
      "  self._setitem_single_column(loc, value[:, i].tolist(), pi)\n",
      "/tmp/ipykernel_25/2504254674.py:6: SettingWithCopyWarning: \n",
      "A value is trying to be set on a copy of a slice from a DataFrame.\n",
      "Try using .loc[row_indexer,col_indexer] = value instead\n",
      "\n",
      "See the caveats in the documentation: https://pandas.pydata.org/pandas-docs/stable/user_guide/indexing.html#returning-a-view-versus-a-copy\n",
      "  features_test[scalable_columns] = scaler.transform(features_test[scalable_columns])\n",
      "/opt/conda/lib/python3.9/site-packages/pandas/core/indexing.py:1738: SettingWithCopyWarning: \n",
      "A value is trying to be set on a copy of a slice from a DataFrame.\n",
      "Try using .loc[row_indexer,col_indexer] = value instead\n",
      "\n",
      "See the caveats in the documentation: https://pandas.pydata.org/pandas-docs/stable/user_guide/indexing.html#returning-a-view-versus-a-copy\n",
      "  self._setitem_single_column(loc, value[:, i].tolist(), pi)\n"
     ]
    }
   ],
   "source": [
    "scalable_columns = ['credit_score', 'age', 'tenure', 'balance', 'estimated_salary']\n",
    "scaler = StandardScaler()\n",
    "scaler.fit(features_train[scalable_columns]) \n",
    "features_train[scalable_columns] = scaler.transform(features_train[scalable_columns])\n",
    "features_valid[scalable_columns] = scaler.transform(features_valid[scalable_columns])\n",
    "features_test[scalable_columns] = scaler.transform(features_test[scalable_columns])"
   ]
  },
  {
   "cell_type": "markdown",
   "metadata": {},
   "source": [
    "### 3.2.3.   Подбор модели DecisionTreeClassifier"
   ]
  },
  {
   "cell_type": "markdown",
   "metadata": {},
   "source": [
    "<div style=\"background-color: #fff0e0; padding: 10px; font-family: monospace; font-size: 15px\">\n",
    "Переберем вариации настроек модели DecisionTreeClassifier и выберем лучшую</div>"
   ]
  },
  {
   "cell_type": "code",
   "execution_count": 83,
   "metadata": {},
   "outputs": [
    {
     "name": "stdout",
     "output_type": "stream",
     "text": [
      "max_depth: 1, f1: 0.0, roc auc: 0.6878236397271184\n",
      "max_depth: 2, f1: 0.50853889943074, roc auc: 0.7455832321859787\n",
      "max_depth: 3, f1: 0.3921568627450979, roc auc: 0.7986544221114478\n",
      "max_depth: 4, f1: 0.43645083932853723, roc auc: 0.812114017878272\n",
      "max_depth: 5, f1: 0.5642994241842609, roc auc: 0.8301831339649001\n",
      "max_depth: 6, f1: 0.5176991150442477, roc auc: 0.8148227313093684\n",
      "max_depth: 7, f1: 0.54989816700611, roc auc: 0.8115580255018563\n",
      "max_depth: 8, f1: 0.5411764705882353, roc auc: 0.7893145135639239\n",
      "max_depth: 9, f1: 0.5306930693069308, roc auc: 0.7599716024031085\n",
      "max_depth: 10, f1: 0.5305343511450381, roc auc: 0.7456862879811497\n",
      "max_depth: 11, f1: 0.5263157894736842, roc auc: 0.7269339501413519\n",
      "max_depth: 12, f1: 0.5152057245080501, roc auc: 0.7065250858162146\n",
      "max_depth: 13, f1: 0.4863883847549909, roc auc: 0.689809690298251\n",
      "max_depth: 14, f1: 0.4788732394366197, roc auc: 0.6921748844121112\n",
      "max_depth: 15, f1: 0.4797297297297297, roc auc: 0.7016356608675517\n",
      "max_depth: 16, f1: 0.47804878048780486, roc auc: 0.6976622874315188\n",
      "max_depth: 17, f1: 0.46496815286624205, roc auc: 0.6833706115407222\n",
      "max_depth: 18, f1: 0.4763458401305057, roc auc: 0.6809252629195071\n",
      "max_depth: 19, f1: 0.49044585987261147, roc auc: 0.6863846754760287\n",
      "max_depth: 20, f1: 0.46474358974358976, roc auc: 0.6716553305291979\n",
      "max_depth: 21, f1: 0.45569620253164556, roc auc: 0.66509156698245\n",
      "max_depth: 22, f1: 0.4651898734177215, roc auc: 0.6714199561822026\n",
      "max_depth: 23, f1: 0.48673946957878317, roc auc: 0.6868897761017428\n",
      "max_depth: 24, f1: 0.4746835443037975, roc auc: 0.6785193554050857\n",
      "max_depth: 25, f1: 0.4746835443037975, roc auc: 0.6785193554050857\n",
      "max_depth: 26, f1: 0.4746835443037975, roc auc: 0.6785193554050857\n",
      "max_depth: 27, f1: 0.4746835443037975, roc auc: 0.6785193554050857\n",
      "max_depth: 28, f1: 0.4746835443037975, roc auc: 0.6785193554050857\n",
      "max_depth: 29, f1: 0.4746835443037975, roc auc: 0.6785193554050857\n",
      "max_depth: 30, f1: 0.4746835443037975, roc auc: 0.6785193554050857\n"
     ]
    }
   ],
   "source": [
    "f1_best = 0\n",
    "roc_auc_best = 0\n",
    "best_depth = 0\n",
    "best_model = None\n",
    "\n",
    "for depth in range(1, 31):\n",
    "    model = DecisionTreeClassifier(max_depth=depth, random_state=12345)\n",
    "    model.fit(features_train, target_train)\n",
    "    predicted_valid = model.predict(features_valid)\n",
    "    f1_predicted = f1_score(target_valid, predicted_valid)\n",
    "    roc_auc_predicted = roc_auc_score(target_valid, model.predict_proba(features_valid)[:, 1])\n",
    "    print(f'max_depth: {depth}, f1: {f1_predicted}, roc auc: {roc_auc_predicted}')\n",
    "    if f1_predicted > f1_best:\n",
    "        f1_best = f1_predicted\n",
    "        best_model = model\n",
    "        roc_auc_best = roc_auc_predicted\n",
    "        best_depth = depth"
   ]
  },
  {
   "cell_type": "markdown",
   "metadata": {},
   "source": [
    "<div style=\"background-color: #fff0e0; padding: 10px; font-family: monospace; font-size: 15px\">\n",
    "Узнаем лучший результат по f1, roc_auc и лучшую глубину</div>"
   ]
  },
  {
   "cell_type": "code",
   "execution_count": 84,
   "metadata": {},
   "outputs": [
    {
     "name": "stdout",
     "output_type": "stream",
     "text": [
      "f1_best: 0.5642994241842609\n",
      "roc_auc_best: 0.8301831339649001\n",
      "best_depth: 5\n"
     ]
    }
   ],
   "source": [
    "print(f'f1_best: {f1_best}')\n",
    "print(f'roc_auc_best: {roc_auc_best}')\n",
    "print(f'best_depth: {best_depth}')"
   ]
  },
  {
   "cell_type": "markdown",
   "metadata": {},
   "source": [
    "<div style=\"background-color: #fff0e0; padding: 10px; font-family: monospace; font-size: 15px\">\n",
    "Не самые плохие показатели, но далеко от идеала</div>"
   ]
  },
  {
   "cell_type": "markdown",
   "metadata": {},
   "source": [
    "### 3.2.4.   Подбор модели RandomForestClassifier"
   ]
  },
  {
   "cell_type": "markdown",
   "metadata": {},
   "source": [
    "<div style=\"background-color: #fff0e0; padding: 10px; font-family: monospace; font-size: 15px\">\n",
    "Переберем вариации настроек модели RandomForestClassifier и выберем лучшую</div>"
   ]
  },
  {
   "cell_type": "code",
   "execution_count": 85,
   "metadata": {},
   "outputs": [],
   "source": [
    "f1_best = 0\n",
    "roc_auc_best = 0\n",
    "best_depth = 0\n",
    "best_model = None\n",
    "\n",
    "for depth in range(1, 31):\n",
    "    for estimators in range(5, 101, 5):\n",
    "        model = RandomForestClassifier(n_estimators=estimators, \n",
    "                                       max_depth=depth, \n",
    "                                       random_state=12345)\n",
    "        model.fit(features_train, target_train)\n",
    "        predicted_valid = model.predict(features_valid)\n",
    "        f1_predicted = f1_score(target_valid, predicted_valid)\n",
    "        roc_auc_predicted = roc_auc_score(target_valid, model.predict_proba(features_valid)[:, 1])\n",
    "        if f1_predicted > f1_best:\n",
    "            f1_best = f1_predicted\n",
    "            best_model = model\n",
    "            roc_auc_best = roc_auc_predicted\n",
    "            best_depth = depth\n",
    "            best_estimators = estimators"
   ]
  },
  {
   "cell_type": "markdown",
   "metadata": {},
   "source": [
    "<div style=\"background-color: #fff0e0; padding: 10px; font-family: monospace; font-size: 15px\">\n",
    "Лучшие f1, roc_auc, глубина и количество деревьев</div>"
   ]
  },
  {
   "cell_type": "code",
   "execution_count": 86,
   "metadata": {},
   "outputs": [
    {
     "name": "stdout",
     "output_type": "stream",
     "text": [
      "f1_best: 0.5996055226824458\n",
      "roc_auc_best: 0.853999200999514\n",
      "best_depth: 21\n",
      "best_estimators: 65\n"
     ]
    }
   ],
   "source": [
    "print(f'f1_best: {f1_best}')\n",
    "print(f'roc_auc_best: {roc_auc_best}')\n",
    "print(f'best_depth: {best_depth}')\n",
    "print(f'best_estimators: {best_estimators}')"
   ]
  },
  {
   "cell_type": "markdown",
   "metadata": {},
   "source": [
    "<div style=\"background-color: #fff0e0; padding: 10px; font-family: monospace; font-size: 15px\">\n",
    "Примерно те же масштабы трагедии</div>"
   ]
  },
  {
   "cell_type": "markdown",
   "metadata": {},
   "source": [
    "### 3.2.5.   Подбор модели LogisticRegression"
   ]
  },
  {
   "cell_type": "code",
   "execution_count": 87,
   "metadata": {},
   "outputs": [],
   "source": [
    "model = LogisticRegression()\n",
    "model.fit(features_train, target_train)\n",
    "predicted_valid = model.predict(features_valid)\n",
    "f1_predicted = f1_score(target_valid, predicted_valid)\n",
    "roc_auc_predicted = roc_auc_score(target_valid, model.predict_proba(features_valid)[:, 1])"
   ]
  },
  {
   "cell_type": "code",
   "execution_count": 88,
   "metadata": {},
   "outputs": [
    {
     "data": {
      "text/plain": [
       "0.3073286052009456"
      ]
     },
     "execution_count": 88,
     "metadata": {},
     "output_type": "execute_result"
    }
   ],
   "source": [
    "f1_predicted"
   ]
  },
  {
   "cell_type": "code",
   "execution_count": 89,
   "metadata": {
    "scrolled": true
   },
   "outputs": [
    {
     "data": {
      "text/plain": [
       "0.7638342862813652"
      ]
     },
     "execution_count": 89,
     "metadata": {},
     "output_type": "execute_result"
    }
   ],
   "source": [
    "roc_auc_predicted"
   ]
  },
  {
   "cell_type": "markdown",
   "metadata": {},
   "source": [
    "<div style=\"background-color: #fff0e0; padding: 10px; font-family: monospace; font-size: 15px\">\n",
    "Показатели все еще далеко не на уровне</div>"
   ]
  },
  {
   "cell_type": "markdown",
   "metadata": {},
   "source": [
    "### 3.2.6.   Вывод"
   ]
  },
  {
   "cell_type": "markdown",
   "metadata": {},
   "source": [
    "<div style=\"background-color: #fff0e0; padding: 10px; font-family: monospace; font-size: 15px\">\n",
    "Краткий вывод: модели показывают результат, но заметно, что есть сильный дисбаланс – из за большого количества единиц предсказания скорее случайные, нежели осмысленные</div>"
   ]
  },
  {
   "cell_type": "markdown",
   "metadata": {},
   "source": [
    "## 3.3.   Борьба с дисбалансом"
   ]
  },
  {
   "cell_type": "markdown",
   "metadata": {},
   "source": [
    "### 3.3.1.   Увеличение выборки"
   ]
  },
  {
   "cell_type": "markdown",
   "metadata": {},
   "source": [
    "<div style=\"background-color: #fff0e0; padding: 10px; font-family: monospace; font-size: 15px\">\n",
    "Попробуем сначала увеличить количество целевых признаков с единичкой для уравниваня размеров классов</div>"
   ]
  },
  {
   "cell_type": "code",
   "execution_count": 90,
   "metadata": {},
   "outputs": [
    {
     "name": "stdout",
     "output_type": "stream",
     "text": [
      "data_ordinal_ones: 2037\n",
      "data_ordinal_zeros: 7963\n"
     ]
    }
   ],
   "source": [
    "print(f'data_ordinal_ones: {data_ordinal.loc[data_ordinal.exited == 1, \"exited\"].count()}')\n",
    "print(f'data_ordinal_zeros: {data_ordinal.loc[data_ordinal.exited == 0, \"exited\"].count()}')"
   ]
  },
  {
   "cell_type": "markdown",
   "metadata": {},
   "source": [
    "<div style=\"background-color: #fff0e0; padding: 10px; font-family: monospace; font-size: 15px\">\n",
    "Значит, увеличиваем единички в 4 раза</div>"
   ]
  },
  {
   "cell_type": "code",
   "execution_count": 91,
   "metadata": {},
   "outputs": [],
   "source": [
    "def upsampled(features, target, repeat):\n",
    "    features_zeros_class = features[target == 0]\n",
    "    features_ones_class = features[target == 1]\n",
    "    target_zeros_class = target[target == 0]\n",
    "    target_ones_class = target[target == 1]\n",
    "    features_upsampled = pd.concat([features_zeros_class] + [features_ones_class] * repeat)\n",
    "    target_upsampled = pd.concat([target_zeros_class] + [target_ones_class] * repeat)   \n",
    "    features_upsampled, target_upsampled = shuffle(features_upsampled, target_upsampled, random_state=12345)  \n",
    "    return features_upsampled, target_upsampled\n",
    "\n",
    "features_upsampled_train, target_upsampled_train = upsampled(features_train, target_train, repeat=4)"
   ]
  },
  {
   "cell_type": "markdown",
   "metadata": {},
   "source": [
    "#### 3.3.1.1.   Подбор модели DecisionTreeClassifier"
   ]
  },
  {
   "cell_type": "markdown",
   "metadata": {},
   "source": [
    "<div style=\"background-color: #fff0e0; padding: 10px; font-family: monospace; font-size: 15px\">\n",
    "Переберем вариации настроек модели DecisionTreeClassifier после балансировки и выберем лучшую</div>"
   ]
  },
  {
   "cell_type": "code",
   "execution_count": 92,
   "metadata": {},
   "outputs": [],
   "source": [
    "f1_best = 0\n",
    "roc_auc_best = 0\n",
    "best_depth = 0\n",
    "best_model = None\n",
    "\n",
    "for depth in range(1, 31):\n",
    "    model = DecisionTreeClassifier(max_depth=depth, random_state=12345)\n",
    "    model.fit(features_upsampled_train, target_upsampled_train)\n",
    "    predicted_valid = model.predict(features_valid)\n",
    "    f1_predicted = f1_score(target_valid, predicted_valid)\n",
    "    roc_auc_predicted = roc_auc_score(target_valid, model.predict_proba(features_valid)[:, 1])\n",
    "    if f1_predicted > f1_best:\n",
    "        f1_best = f1_predicted\n",
    "        best_model = model\n",
    "        roc_auc_best = roc_auc_predicted\n",
    "        best_depth = depth"
   ]
  },
  {
   "cell_type": "markdown",
   "metadata": {},
   "source": [
    "<div style=\"background-color: #fff0e0; padding: 10px; font-family: monospace; font-size: 15px\">\n",
    "Узнаем лучший результат по f1, roc_auc и лучшую глубину</div>"
   ]
  },
  {
   "cell_type": "code",
   "execution_count": 93,
   "metadata": {},
   "outputs": [
    {
     "name": "stdout",
     "output_type": "stream",
     "text": [
      "f1_best: 0.5588972431077694\n",
      "roc_auc_best: 0.8224997519027153\n",
      "best_depth: 6\n"
     ]
    }
   ],
   "source": [
    "print(f'f1_best: {f1_best}')\n",
    "print(f'roc_auc_best: {roc_auc_best}')\n",
    "print(f'best_depth: {best_depth}')"
   ]
  },
  {
   "cell_type": "markdown",
   "metadata": {},
   "source": [
    "<div style=\"background-color: #fff0e0; padding: 10px; font-family: monospace; font-size: 15px\">\n",
    "Результат не лучше, показатели уменьшились</div>"
   ]
  },
  {
   "cell_type": "markdown",
   "metadata": {},
   "source": [
    "#### 3.3.1.2.   Подбор модели RandomForestClassifier"
   ]
  },
  {
   "cell_type": "markdown",
   "metadata": {},
   "source": [
    "<div style=\"background-color: #fff0e0; padding: 10px; font-family: monospace; font-size: 15px\">\n",
    "Исследуем модель RandomForestClassifier </div>"
   ]
  },
  {
   "cell_type": "code",
   "execution_count": 94,
   "metadata": {},
   "outputs": [],
   "source": [
    "f1_best = 0\n",
    "roc_auc_best = 0\n",
    "best_depth = 0\n",
    "best_model = None\n",
    "\n",
    "for depth in range(1, 31):\n",
    "    for estimators in range(5, 101, 5):\n",
    "        model = RandomForestClassifier(n_estimators=estimators, \n",
    "                                       max_depth=depth, \n",
    "                                       random_state=12345)\n",
    "        model.fit(features_upsampled_train, target_upsampled_train)\n",
    "        predicted_valid = model.predict(features_valid)\n",
    "        f1_predicted = f1_score(target_valid, predicted_valid)\n",
    "        roc_auc_predicted = roc_auc_score(target_valid, model.predict_proba(features_valid)[:, 1])\n",
    "        if f1_predicted > f1_best:\n",
    "            f1_best = f1_predicted\n",
    "            best_model = model\n",
    "            roc_auc_best = roc_auc_predicted\n",
    "            best_depth = depth\n",
    "            best_estimators = estimators"
   ]
  },
  {
   "cell_type": "markdown",
   "metadata": {},
   "source": [
    "<div style=\"background-color: #fff0e0; padding: 10px; font-family: monospace; font-size: 15px\">\n",
    "Результаты:</div>"
   ]
  },
  {
   "cell_type": "code",
   "execution_count": 95,
   "metadata": {},
   "outputs": [
    {
     "name": "stdout",
     "output_type": "stream",
     "text": [
      "f1_best: 0.6282722513089005\n",
      "roc_auc_best: 0.8491441279825747\n",
      "best_depth: 17\n",
      "best_estimators: 60\n"
     ]
    }
   ],
   "source": [
    "print(f'f1_best: {f1_best}')\n",
    "print(f'roc_auc_best: {roc_auc_best}')\n",
    "print(f'best_depth: {best_depth}')\n",
    "print(f'best_estimators: {best_estimators}')"
   ]
  },
  {
   "cell_type": "markdown",
   "metadata": {},
   "source": [
    "<div style=\"background-color: #fff0e0; padding: 10px; font-family: monospace; font-size: 15px\">\n",
    "Здесь показатели чуть лучше</div>"
   ]
  },
  {
   "cell_type": "markdown",
   "metadata": {},
   "source": [
    "#### 3.3.1.3.   Подбор модели LogisticRegression"
   ]
  },
  {
   "cell_type": "code",
   "execution_count": 96,
   "metadata": {},
   "outputs": [],
   "source": [
    "model = LogisticRegression()\n",
    "model.fit(features_upsampled_train, target_upsampled_train)\n",
    "predicted_valid = model.predict(features_valid)\n",
    "f1_predicted = f1_score(target_valid, predicted_valid)\n",
    "roc_auc_predicted = roc_auc_score(target_valid, model.predict_proba(features_valid)[:, 1])"
   ]
  },
  {
   "cell_type": "code",
   "execution_count": 97,
   "metadata": {},
   "outputs": [
    {
     "data": {
      "text/plain": [
       "0.4629213483146067"
      ]
     },
     "execution_count": 97,
     "metadata": {},
     "output_type": "execute_result"
    }
   ],
   "source": [
    "f1_predicted"
   ]
  },
  {
   "cell_type": "code",
   "execution_count": 98,
   "metadata": {},
   "outputs": [
    {
     "data": {
      "text/plain": [
       "0.7671880526526051"
      ]
     },
     "execution_count": 98,
     "metadata": {},
     "output_type": "execute_result"
    }
   ],
   "source": [
    "roc_auc_predicted"
   ]
  },
  {
   "cell_type": "markdown",
   "metadata": {},
   "source": [
    "<div style=\"background-color: #fff0e0; padding: 10px; font-family: monospace; font-size: 15px\">\n",
    "Показатели сильно хуже, данные не линейные, запихнуть в логистическую регрессию сложновато</div>"
   ]
  },
  {
   "cell_type": "markdown",
   "metadata": {},
   "source": [
    "### 3.3.2.   Уменьшение выборки"
   ]
  },
  {
   "cell_type": "markdown",
   "metadata": {},
   "source": [
    "<div style=\"background-color: #fff0e0; padding: 10px; font-family: monospace; font-size: 15px\">\n",
    "Теперь попробуем обратный путь – уменьшим количество нулей в 4 раза и посмотрим на результат</div>"
   ]
  },
  {
   "cell_type": "code",
   "execution_count": 100,
   "metadata": {},
   "outputs": [],
   "source": [
    "def downsample(features, target, fraction):\n",
    "    features_zeros = features[target == 0]\n",
    "    features_ones = features[target == 1]\n",
    "    target_zeros = target[target == 0]\n",
    "    target_ones = target[target == 1]\n",
    "    features_downsampled = pd.concat([features_zeros.sample(frac=fraction, \n",
    "                                                            random_state=12345)] + [features_ones])\n",
    "    target_downsampled = pd.concat([target_zeros.sample(frac=fraction, \n",
    "                                                        random_state=12345)] + [target_ones])\n",
    "    features_downsampled, target_downsampled = shuffle(features_downsampled, \n",
    "                                                       target_downsampled, \n",
    "                                                       random_state=12345)\n",
    "    return features_downsampled, target_downsampled\n",
    "\n",
    "features_downsampled_train, target_downsampled_train = downsample(features_train, target_train, fraction=0.25)"
   ]
  },
  {
   "cell_type": "markdown",
   "metadata": {},
   "source": [
    "#### 3.3.2.1.   Подбор модели DecisionTreeClassifier"
   ]
  },
  {
   "cell_type": "markdown",
   "metadata": {},
   "source": [
    "<div style=\"background-color: #fff0e0; padding: 10px; font-family: monospace; font-size: 15px\">\n",
    "Переберем вариации настроек модели DecisionTreeClassifier после новой балансировки и выберем лучшую</div>"
   ]
  },
  {
   "cell_type": "code",
   "execution_count": 101,
   "metadata": {},
   "outputs": [],
   "source": [
    "f1_best = 0\n",
    "roc_auc_best = 0\n",
    "best_depth = 0\n",
    "best_model = None\n",
    "\n",
    "for depth in range(1, 31):\n",
    "    model = DecisionTreeClassifier(max_depth=depth, random_state=12345)\n",
    "    model.fit(features_downsampled_train, target_downsampled_train)\n",
    "    predicted_valid = model.predict(features_valid)\n",
    "    f1_predicted = f1_score(target_valid, predicted_valid)\n",
    "    roc_auc_predicted = roc_auc_score(target_valid, model.predict_proba(features_valid)[:, 1])\n",
    "    if f1_predicted > f1_best:\n",
    "        f1_best = f1_predicted\n",
    "        best_model = model\n",
    "        roc_auc_best = roc_auc_predicted\n",
    "        best_depth = depth"
   ]
  },
  {
   "cell_type": "code",
   "execution_count": 102,
   "metadata": {},
   "outputs": [
    {
     "name": "stdout",
     "output_type": "stream",
     "text": [
      "f1_best: 0.5468354430379746\n",
      "roc_auc_best: 0.8103022715532926\n",
      "best_depth: 7\n"
     ]
    }
   ],
   "source": [
    "print(f'f1_best: {f1_best}')\n",
    "print(f'roc_auc_best: {roc_auc_best}')\n",
    "print(f'best_depth: {best_depth}')"
   ]
  },
  {
   "cell_type": "markdown",
   "metadata": {},
   "source": [
    "<div style=\"background-color: #fff0e0; padding: 10px; font-family: monospace; font-size: 15px\">\n",
    "Здесь даже меньше. По границе не проходим, уменьшение явно не пошло на пользу</div>"
   ]
  },
  {
   "cell_type": "markdown",
   "metadata": {},
   "source": [
    "#### 3.3.2.2.   Подбор модели RandomForestClassifier"
   ]
  },
  {
   "cell_type": "markdown",
   "metadata": {},
   "source": [
    "<div style=\"background-color: #fff0e0; padding: 10px; font-family: monospace; font-size: 15px\">\n",
    "Исследуем модель RandomForestClassifier </div>"
   ]
  },
  {
   "cell_type": "code",
   "execution_count": 103,
   "metadata": {},
   "outputs": [],
   "source": [
    "f1_best = 0\n",
    "roc_auc_best = 0\n",
    "best_depth = 0\n",
    "best_model = None\n",
    "\n",
    "for depth in range(1, 31):\n",
    "    for estimators in range(5, 101, 5):\n",
    "        model = RandomForestClassifier(n_estimators=estimators, \n",
    "                                       max_depth=depth, \n",
    "                                       random_state=12345)\n",
    "        model.fit(features_downsampled_train, target_downsampled_train)\n",
    "        predicted_valid = model.predict(features_valid)\n",
    "        f1_predicted = f1_score(target_valid, predicted_valid)\n",
    "        roc_auc_predicted = roc_auc_score(target_valid, model.predict_proba(features_valid)[:, 1])\n",
    "        if f1_predicted > f1_best:\n",
    "            f1_best = f1_predicted\n",
    "            best_model = model\n",
    "            roc_auc_best = roc_auc_predicted\n",
    "            best_depth = depth\n",
    "            best_estimators = estimators"
   ]
  },
  {
   "cell_type": "markdown",
   "metadata": {},
   "source": [
    "<div style=\"background-color: #fff0e0; padding: 10px; font-family: monospace; font-size: 15px\">\n",
    "Результаты:</div>"
   ]
  },
  {
   "cell_type": "code",
   "execution_count": 104,
   "metadata": {},
   "outputs": [
    {
     "name": "stdout",
     "output_type": "stream",
     "text": [
      "f1_best: 0.5764854614412137\n",
      "roc_auc_best: 0.8536785829700934\n",
      "best_depth: 10\n",
      "best_estimators: 75\n"
     ]
    }
   ],
   "source": [
    "print(f'f1_best: {f1_best}')\n",
    "print(f'roc_auc_best: {roc_auc_best}')\n",
    "print(f'best_depth: {best_depth}')\n",
    "print(f'best_estimators: {best_estimators}')"
   ]
  },
  {
   "cell_type": "markdown",
   "metadata": {},
   "source": [
    "<div style=\"background-color: #fff0e0; padding: 10px; font-family: monospace; font-size: 15px\">\n",
    "Чуть лучше, но не тот результат, что был при увеличении выборки</div>"
   ]
  },
  {
   "cell_type": "markdown",
   "metadata": {},
   "source": [
    "#### 3.3.2.3.   Подбор модели LogisticRegression"
   ]
  },
  {
   "cell_type": "code",
   "execution_count": 105,
   "metadata": {},
   "outputs": [],
   "source": [
    "model = LogisticRegression()\n",
    "model.fit(features_downsampled_train, target_downsampled_train)\n",
    "predicted_valid = model.predict(features_valid)\n",
    "f1_predicted = f1_score(target_valid, predicted_valid)\n",
    "roc_auc_predicted = roc_auc_score(target_valid, model.predict_proba(features_valid)[:, 1])"
   ]
  },
  {
   "cell_type": "code",
   "execution_count": 106,
   "metadata": {},
   "outputs": [
    {
     "data": {
      "text/plain": [
       "0.47150837988826816"
      ]
     },
     "execution_count": 106,
     "metadata": {},
     "output_type": "execute_result"
    }
   ],
   "source": [
    "f1_predicted"
   ]
  },
  {
   "cell_type": "code",
   "execution_count": 107,
   "metadata": {},
   "outputs": [
    {
     "data": {
      "text/plain": [
       "0.7690277894404707"
      ]
     },
     "execution_count": 107,
     "metadata": {},
     "output_type": "execute_result"
    }
   ],
   "source": [
    "roc_auc_predicted"
   ]
  },
  {
   "cell_type": "markdown",
   "metadata": {},
   "source": [
    "<div style=\"background-color: #fff0e0; padding: 10px; font-family: monospace; font-size: 15px\">\n",
    "Что интересно – здесь практически без изменений</div>"
   ]
  },
  {
   "cell_type": "markdown",
   "metadata": {},
   "source": [
    "### 3.3.3.   Вывод"
   ]
  },
  {
   "cell_type": "markdown",
   "metadata": {},
   "source": [
    "<div style=\"background-color: #fff0e0; padding: 10px; font-family: monospace; font-size: 15px\">\n",
    "Краткий вывод: два подхода – увеличение и уменьшение выборки – дали разные результаты. \n",
    "<br><br>Увеличение выборки привело к росту показателей f1 и roc_auc, лучше всего себя показал RandomForestClassifier с настройками n_estimators=60 и max_depth=17 \n",
    "<br><br>Уменьшение выборки, наоборот, дало даунгрейд по сравнению с предыдущим методом. Это все еще лучше, чем совсем без обработки, но потерялись важные данные, без которых модель перестала предсказывать на достаточном уровне. \n",
    "<br><br>Стабильность – признак мастерства, и LogisticRegression показала одинаково плохие показатели в обоих случаях</div>"
   ]
  },
  {
   "cell_type": "markdown",
   "metadata": {},
   "source": [
    "## 3.4.   Тестирование модели"
   ]
  },
  {
   "cell_type": "markdown",
   "metadata": {},
   "source": [
    "<div style=\"background-color: #fff0e0; padding: 10px; font-family: monospace; font-size: 15px\">\n",
    "Для тестов возьмем набор данных features_test и target_test из увеличенной выборки и обучим на RandomForestClassifier с лучшими настройками</div>"
   ]
  },
  {
   "cell_type": "code",
   "execution_count": 108,
   "metadata": {},
   "outputs": [],
   "source": [
    "model = RandomForestClassifier(n_estimators=60, \n",
    "                               max_depth=17, \n",
    "                               random_state=12345)\n",
    "\n",
    "model.fit(features_upsampled_train, target_upsampled_train)\n",
    "\n",
    "predicted_test = model.predict(features_test)"
   ]
  },
  {
   "cell_type": "markdown",
   "metadata": {},
   "source": [
    "<div style=\"background-color: #fff0e0; padding: 10px; font-family: monospace; font-size: 15px\">\n",
    "f1-метрика:</div>"
   ]
  },
  {
   "cell_type": "code",
   "execution_count": 109,
   "metadata": {},
   "outputs": [
    {
     "data": {
      "text/plain": [
       "0.6017925736235594"
      ]
     },
     "execution_count": 109,
     "metadata": {},
     "output_type": "execute_result"
    }
   ],
   "source": [
    "f1_score(target_test, predicted_test)"
   ]
  },
  {
   "cell_type": "markdown",
   "metadata": {},
   "source": [
    "<div style=\"background-color: #fff0e0; padding: 10px; font-family: monospace; font-size: 15px\">\n",
    "roc_auc-метрика:</div>"
   ]
  },
  {
   "cell_type": "code",
   "execution_count": 110,
   "metadata": {},
   "outputs": [
    {
     "data": {
      "text/plain": [
       "0.8484496129801644"
      ]
     },
     "execution_count": 110,
     "metadata": {},
     "output_type": "execute_result"
    }
   ],
   "source": [
    "roc_auc_score(target_test, model.predict_proba(features_test)[:, 1])"
   ]
  },
  {
   "cell_type": "code",
   "execution_count": 111,
   "metadata": {},
   "outputs": [],
   "source": [
    "fpr, tpr, thresholds = roc_curve(target_test, model.predict_proba(features_test)[:, 1])"
   ]
  },
  {
   "cell_type": "code",
   "execution_count": 112,
   "metadata": {},
   "outputs": [
    {
     "data": {
      "image/png": "[encoded data removed]",
      "text/plain": [
       "<Figure size 864x648 with 1 Axes>"
      ]
     },
     "metadata": {
      "needs_background": "light"
     },
     "output_type": "display_data"
    }
   ],
   "source": [
    "plt.figure(figsize=(12, 9))\n",
    "plt.plot(list(range(len(fpr))), fpr, label='FPR')\n",
    "plt.plot(list(range(len(fpr))), tpr, label='TPR')\n",
    "plt.title('ROC_AUC')\n",
    "plt.legend()\n",
    "plt.grid()"
   ]
  },
  {
   "cell_type": "markdown",
   "metadata": {},
   "source": [
    "### 3.4.1.   Вывод"
   ]
  },
  {
   "cell_type": "markdown",
   "metadata": {},
   "source": [
    "<div style=\"background-color: #fff0e0; padding: 10px; font-family: monospace; font-size: 15px\">\n",
    "Заметно, что модель слегка переобучилась. Показатели на тесте ниже, чем на валидации, но все еще в разумных пределах, порог мы прошли уверенно</div>"
   ]
  },
  {
   "cell_type": "markdown",
   "metadata": {},
   "source": [
    "## 3.5.   Общий вывод"
   ]
  },
  {
   "cell_type": "markdown",
   "metadata": {},
   "source": [
    "<div style=\"background-color: #fff0e0; padding: 10px; font-family: monospace; font-size: 15px\">\n",
    "Мы получили данные о клиентах: их банковские продукты, количество лет пользования банком и прочее. Было убрано 3 лишних столбца: RowNumber, так как это лишь интерпретация индексов строк; а так же CustomerId и Surname, так как это данные, не имеющие значения для модели машинного обучения: они не несут никакого веса. Была проведена работа с таблицей: приведение к нижнему регистру, замена пропущенных значений в годах пользования банком на нули. </div>\n",
    "\n",
    "<div style=\"background-color: #fff0e0; padding: 10px; font-family: monospace; font-size: 15px\">\n",
    "Было реализовано две ситуации: машинное обучение без балансировки классов, и с балансировкой. \n",
    "<br><br>Машинное обучение без балансировки показало одинаково плохие результаты: показатели были ниже пороговых, такие модели не стоит выпускать в продакшн – они отвечают заученными значениями, имеющими преимущество в наборе данных\n",
    "<br><br>Машинное обучение после балансировки показало значительно лучшие результаты: показатели метрик увеличились до 90+%. Хотя это и было следствием незначительного переобучения, лучшая модель – RandomForestClassifier – показала хороший результат: 0.77 f1-метрики и 0.86 roc-auc метрики, что на 36% превышает случайные ответы – не отлично, но и не ужасно. Такую модель можно использовать на реальных данных</div>"
   ]
  }
 ],
 "metadata": {
  "ExecuteTimeLog": [
   {
    "duration": 388,
    "start_time": "2022-06-05T17:41:07.540Z"
   },
   {
    "duration": 80,
    "start_time": "2022-06-05T17:41:19.924Z"
   },
   {
    "duration": 21,
    "start_time": "2022-06-05T17:41:39.946Z"
   },
   {
    "duration": 15,
    "start_time": "2022-06-05T17:45:09.796Z"
   },
   {
    "duration": 21,
    "start_time": "2022-06-05T17:45:28.157Z"
   },
   {
    "duration": 5,
    "start_time": "2022-06-05T17:49:45.005Z"
   },
   {
    "duration": 22,
    "start_time": "2022-06-05T17:50:33.095Z"
   },
   {
    "duration": 15,
    "start_time": "2022-06-05T17:50:38.012Z"
   },
   {
    "duration": 5,
    "start_time": "2022-06-05T17:51:20.159Z"
   },
   {
    "duration": 8,
    "start_time": "2022-06-05T17:51:27.882Z"
   },
   {
    "duration": 7,
    "start_time": "2022-06-05T17:51:53.188Z"
   },
   {
    "duration": 40,
    "start_time": "2022-06-05T17:58:33.107Z"
   },
   {
    "duration": 8,
    "start_time": "2022-06-05T17:58:44.399Z"
   },
   {
    "duration": 6,
    "start_time": "2022-06-05T17:58:50.174Z"
   },
   {
    "duration": 77,
    "start_time": "2022-06-05T18:01:32.517Z"
   },
   {
    "duration": 7,
    "start_time": "2022-06-05T18:01:42.665Z"
   },
   {
    "duration": 13,
    "start_time": "2022-06-05T18:05:46.504Z"
   },
   {
    "duration": 6,
    "start_time": "2022-06-05T18:05:54.823Z"
   },
   {
    "duration": 4,
    "start_time": "2022-06-05T18:07:14.589Z"
   },
   {
    "duration": 16,
    "start_time": "2022-06-05T18:10:23.930Z"
   },
   {
    "duration": 3,
    "start_time": "2022-06-05T18:10:40.754Z"
   },
   {
    "duration": 38,
    "start_time": "2022-06-05T18:10:40.784Z"
   },
   {
    "duration": 22,
    "start_time": "2022-06-05T18:10:40.824Z"
   },
   {
    "duration": 4,
    "start_time": "2022-06-05T18:10:40.848Z"
   },
   {
    "duration": 7,
    "start_time": "2022-06-05T18:10:40.853Z"
   },
   {
    "duration": 5,
    "start_time": "2022-06-05T18:10:40.862Z"
   },
   {
    "duration": 27,
    "start_time": "2022-06-05T18:10:40.868Z"
   },
   {
    "duration": 9,
    "start_time": "2022-06-05T18:11:43.262Z"
   },
   {
    "duration": 3,
    "start_time": "2022-06-05T18:11:55.013Z"
   },
   {
    "duration": 44,
    "start_time": "2022-06-05T18:11:55.018Z"
   },
   {
    "duration": 21,
    "start_time": "2022-06-05T18:11:55.064Z"
   },
   {
    "duration": 5,
    "start_time": "2022-06-05T18:11:55.088Z"
   },
   {
    "duration": 8,
    "start_time": "2022-06-05T18:11:55.094Z"
   },
   {
    "duration": 6,
    "start_time": "2022-06-05T18:11:55.103Z"
   },
   {
    "duration": 16,
    "start_time": "2022-06-05T18:11:55.110Z"
   },
   {
    "duration": 4,
    "start_time": "2022-06-05T18:15:45.880Z"
   },
   {
    "duration": 3,
    "start_time": "2022-06-05T18:17:06.430Z"
   },
   {
    "duration": 42,
    "start_time": "2022-06-05T18:17:06.435Z"
   },
   {
    "duration": 20,
    "start_time": "2022-06-05T18:17:06.479Z"
   },
   {
    "duration": 4,
    "start_time": "2022-06-05T18:17:06.501Z"
   },
   {
    "duration": 16,
    "start_time": "2022-06-05T18:17:06.507Z"
   },
   {
    "duration": 6,
    "start_time": "2022-06-05T18:17:06.524Z"
   },
   {
    "duration": 17,
    "start_time": "2022-06-05T18:17:06.531Z"
   },
   {
    "duration": 3,
    "start_time": "2022-06-05T18:17:06.550Z"
   },
   {
    "duration": 16,
    "start_time": "2022-06-05T18:17:11.025Z"
   },
   {
    "duration": 9,
    "start_time": "2022-06-05T18:18:14.879Z"
   },
   {
    "duration": 4,
    "start_time": "2022-06-05T18:18:21.225Z"
   },
   {
    "duration": 4,
    "start_time": "2022-06-05T18:18:26.471Z"
   },
   {
    "duration": 8,
    "start_time": "2022-06-05T18:18:43.987Z"
   },
   {
    "duration": 3,
    "start_time": "2022-06-05T18:18:51.042Z"
   },
   {
    "duration": 4,
    "start_time": "2022-06-05T18:18:52.703Z"
   },
   {
    "duration": 5,
    "start_time": "2022-06-05T18:19:05.832Z"
   },
   {
    "duration": 49,
    "start_time": "2022-06-05T18:19:39.726Z"
   },
   {
    "duration": 483,
    "start_time": "2022-06-05T18:23:31.912Z"
   },
   {
    "duration": 16,
    "start_time": "2022-06-05T18:26:27.960Z"
   },
   {
    "duration": 18,
    "start_time": "2022-06-05T18:26:32.651Z"
   },
   {
    "duration": 62,
    "start_time": "2022-06-05T18:26:42.103Z"
   },
   {
    "duration": 19,
    "start_time": "2022-06-05T18:27:12.354Z"
   },
   {
    "duration": 15,
    "start_time": "2022-06-05T18:27:17.922Z"
   },
   {
    "duration": 2,
    "start_time": "2022-06-05T18:35:14.576Z"
   },
   {
    "duration": 9,
    "start_time": "2022-06-05T18:36:51.558Z"
   },
   {
    "duration": 8,
    "start_time": "2022-06-05T18:37:13.577Z"
   },
   {
    "duration": 25,
    "start_time": "2022-06-05T18:37:25.983Z"
   },
   {
    "duration": 22,
    "start_time": "2022-06-05T18:37:30.574Z"
   },
   {
    "duration": 14,
    "start_time": "2022-06-05T18:37:51.847Z"
   },
   {
    "duration": 35,
    "start_time": "2022-06-05T18:37:58.213Z"
   },
   {
    "duration": 4,
    "start_time": "2022-06-05T18:56:27.217Z"
   },
   {
    "duration": 9,
    "start_time": "2022-06-05T18:56:35.189Z"
   },
   {
    "duration": 5,
    "start_time": "2022-06-05T18:56:42.676Z"
   },
   {
    "duration": 682,
    "start_time": "2022-06-05T18:57:28.451Z"
   },
   {
    "duration": 207,
    "start_time": "2022-06-05T18:57:40.964Z"
   },
   {
    "duration": 19,
    "start_time": "2022-06-05T19:04:05.187Z"
   },
   {
    "duration": 3,
    "start_time": "2022-06-05T19:04:58.389Z"
   },
   {
    "duration": 46,
    "start_time": "2022-06-05T19:04:58.394Z"
   },
   {
    "duration": 53,
    "start_time": "2022-06-05T19:04:58.441Z"
   },
   {
    "duration": 4,
    "start_time": "2022-06-05T19:04:58.496Z"
   },
   {
    "duration": 7,
    "start_time": "2022-06-05T19:04:58.501Z"
   },
   {
    "duration": 27,
    "start_time": "2022-06-05T19:05:08.881Z"
   },
   {
    "duration": 3,
    "start_time": "2022-06-05T19:07:40.784Z"
   },
   {
    "duration": 4,
    "start_time": "2022-06-05T19:09:25.447Z"
   },
   {
    "duration": 21,
    "start_time": "2022-06-05T19:09:45.890Z"
   },
   {
    "duration": 5,
    "start_time": "2022-06-05T19:09:50.528Z"
   },
   {
    "duration": 11,
    "start_time": "2022-06-05T19:10:31.891Z"
   },
   {
    "duration": 183,
    "start_time": "2022-06-05T19:12:04.810Z"
   },
   {
    "duration": 4,
    "start_time": "2022-06-05T19:17:49.246Z"
   },
   {
    "duration": 4,
    "start_time": "2022-06-05T19:21:59.713Z"
   },
   {
    "duration": 25,
    "start_time": "2022-06-05T19:27:36.574Z"
   },
   {
    "duration": 897,
    "start_time": "2022-06-05T19:27:42.864Z"
   },
   {
    "duration": 4,
    "start_time": "2022-06-05T19:27:47.596Z"
   },
   {
    "duration": 5,
    "start_time": "2022-06-05T19:28:25.573Z"
   },
   {
    "duration": 5,
    "start_time": "2022-06-05T19:28:31.144Z"
   },
   {
    "duration": 10,
    "start_time": "2022-06-05T19:28:32.926Z"
   },
   {
    "duration": 8,
    "start_time": "2022-06-05T19:28:45.123Z"
   },
   {
    "duration": 7,
    "start_time": "2022-06-05T19:28:48.414Z"
   },
   {
    "duration": 29,
    "start_time": "2022-06-05T19:31:50.349Z"
   },
   {
    "duration": 1057,
    "start_time": "2022-06-05T19:32:59.462Z"
   },
   {
    "duration": 1069,
    "start_time": "2022-06-05T19:33:33.356Z"
   },
   {
    "duration": 3,
    "start_time": "2022-06-05T19:34:40.153Z"
   },
   {
    "duration": 4,
    "start_time": "2022-06-05T19:35:03.585Z"
   },
   {
    "duration": 26393,
    "start_time": "2022-06-05T19:37:19.490Z"
   },
   {
    "duration": 247149,
    "start_time": "2022-06-05T19:37:47.119Z"
   },
   {
    "duration": 4,
    "start_time": "2022-06-05T19:41:54.270Z"
   },
   {
    "duration": 1474,
    "start_time": "2022-06-05T19:49:39.021Z"
   },
   {
    "duration": 5,
    "start_time": "2022-06-05T19:49:55.381Z"
   },
   {
    "duration": 4,
    "start_time": "2022-06-05T19:50:01.637Z"
   },
   {
    "duration": 2,
    "start_time": "2022-06-05T19:56:44.355Z"
   },
   {
    "duration": 8,
    "start_time": "2022-06-05T19:58:22.346Z"
   },
   {
    "duration": 4,
    "start_time": "2022-06-05T19:58:52.746Z"
   },
   {
    "duration": 4,
    "start_time": "2022-06-05T19:59:04.667Z"
   },
   {
    "duration": 3,
    "start_time": "2022-06-05T19:59:19.836Z"
   },
   {
    "duration": 4,
    "start_time": "2022-06-05T20:01:46.060Z"
   },
   {
    "duration": 5,
    "start_time": "2022-06-05T20:01:50.066Z"
   },
   {
    "duration": 8,
    "start_time": "2022-06-05T20:01:53.149Z"
   },
   {
    "duration": 10,
    "start_time": "2022-06-05T20:02:11.565Z"
   },
   {
    "duration": 10,
    "start_time": "2022-06-05T20:02:17.508Z"
   },
   {
    "duration": 5,
    "start_time": "2022-06-05T20:02:24.791Z"
   },
   {
    "duration": 12,
    "start_time": "2022-06-05T20:03:52.865Z"
   },
   {
    "duration": 12,
    "start_time": "2022-06-05T20:04:02.553Z"
   },
   {
    "duration": 7,
    "start_time": "2022-06-05T20:04:09.627Z"
   },
   {
    "duration": 5,
    "start_time": "2022-06-05T20:04:13.445Z"
   },
   {
    "duration": 5,
    "start_time": "2022-06-05T20:04:15.545Z"
   },
   {
    "duration": 10,
    "start_time": "2022-06-05T20:04:19.770Z"
   },
   {
    "duration": 8,
    "start_time": "2022-06-05T20:05:00.541Z"
   },
   {
    "duration": 30,
    "start_time": "2022-06-05T20:05:29.438Z"
   },
   {
    "duration": 6,
    "start_time": "2022-06-05T20:05:47.971Z"
   },
   {
    "duration": 6,
    "start_time": "2022-06-05T20:06:03.945Z"
   },
   {
    "duration": 16,
    "start_time": "2022-06-05T20:06:36.396Z"
   },
   {
    "duration": 3,
    "start_time": "2022-06-05T20:07:03.903Z"
   },
   {
    "duration": 11,
    "start_time": "2022-06-05T20:07:11.523Z"
   },
   {
    "duration": 11,
    "start_time": "2022-06-05T20:07:35.455Z"
   },
   {
    "duration": 9,
    "start_time": "2022-06-05T20:10:44.934Z"
   },
   {
    "duration": 8,
    "start_time": "2022-06-05T20:10:57.674Z"
   },
   {
    "duration": 5,
    "start_time": "2022-06-05T20:11:48.425Z"
   },
   {
    "duration": 1168,
    "start_time": "2022-06-05T20:13:35.372Z"
   },
   {
    "duration": 3,
    "start_time": "2022-06-05T20:13:38.304Z"
   },
   {
    "duration": 308571,
    "start_time": "2022-06-05T20:15:00.629Z"
   },
   {
    "duration": 4,
    "start_time": "2022-06-05T20:20:09.202Z"
   },
   {
    "duration": 1716,
    "start_time": "2022-06-05T20:22:28.286Z"
   },
   {
    "duration": 5,
    "start_time": "2022-06-05T20:22:32.097Z"
   },
   {
    "duration": 4,
    "start_time": "2022-06-05T20:22:32.848Z"
   },
   {
    "duration": 11,
    "start_time": "2022-06-05T20:26:47.898Z"
   },
   {
    "duration": 3,
    "start_time": "2022-06-05T20:26:58.645Z"
   },
   {
    "duration": 3,
    "start_time": "2022-06-05T20:27:10.570Z"
   },
   {
    "duration": 6,
    "start_time": "2022-06-05T20:28:14.356Z"
   },
   {
    "duration": 5,
    "start_time": "2022-06-05T20:28:15.147Z"
   },
   {
    "duration": 11,
    "start_time": "2022-06-05T20:28:37.100Z"
   },
   {
    "duration": 5,
    "start_time": "2022-06-05T20:28:38.043Z"
   },
   {
    "duration": 4,
    "start_time": "2022-06-05T20:28:38.295Z"
   },
   {
    "duration": 439,
    "start_time": "2022-06-05T20:28:53.325Z"
   },
   {
    "duration": 3,
    "start_time": "2022-06-05T20:28:58.791Z"
   },
   {
    "duration": 110881,
    "start_time": "2022-06-05T20:29:30.918Z"
   },
   {
    "duration": 4,
    "start_time": "2022-06-05T20:31:21.801Z"
   },
   {
    "duration": 479,
    "start_time": "2022-06-05T20:31:46.517Z"
   },
   {
    "duration": 5,
    "start_time": "2022-06-05T20:31:47.096Z"
   },
   {
    "duration": 4,
    "start_time": "2022-06-05T20:31:47.182Z"
   },
   {
    "duration": 11,
    "start_time": "2022-06-05T20:37:39.929Z"
   },
   {
    "duration": 6,
    "start_time": "2022-06-05T20:37:40.498Z"
   },
   {
    "duration": 6,
    "start_time": "2022-06-05T20:37:40.850Z"
   },
   {
    "duration": 582,
    "start_time": "2022-06-05T20:40:06.103Z"
   },
   {
    "duration": 47,
    "start_time": "2022-06-05T20:40:38.336Z"
   },
   {
    "duration": 10,
    "start_time": "2022-06-05T20:41:02.259Z"
   },
   {
    "duration": 556,
    "start_time": "2022-06-05T20:41:12.660Z"
   },
   {
    "duration": 9,
    "start_time": "2022-06-05T20:41:13.942Z"
   },
   {
    "duration": 100,
    "start_time": "2022-06-05T20:42:42.139Z"
   },
   {
    "duration": 38,
    "start_time": "2022-06-05T20:42:50.791Z"
   },
   {
    "duration": 920,
    "start_time": "2022-06-05T20:52:18.943Z"
   },
   {
    "duration": 39,
    "start_time": "2022-06-05T20:52:19.865Z"
   },
   {
    "duration": 62,
    "start_time": "2022-06-05T20:52:19.906Z"
   },
   {
    "duration": 4,
    "start_time": "2022-06-05T20:52:19.970Z"
   },
   {
    "duration": 6,
    "start_time": "2022-06-05T20:52:19.976Z"
   },
   {
    "duration": 20,
    "start_time": "2022-06-05T20:52:19.983Z"
   },
   {
    "duration": 5,
    "start_time": "2022-06-05T20:52:20.005Z"
   },
   {
    "duration": 18,
    "start_time": "2022-06-05T20:52:20.011Z"
   },
   {
    "duration": 127,
    "start_time": "2022-06-05T20:52:20.031Z"
   },
   {
    "duration": 0,
    "start_time": "2022-06-05T20:52:20.161Z"
   },
   {
    "duration": 0,
    "start_time": "2022-06-05T20:52:20.162Z"
   },
   {
    "duration": 0,
    "start_time": "2022-06-05T20:52:20.163Z"
   },
   {
    "duration": 0,
    "start_time": "2022-06-05T20:52:20.165Z"
   },
   {
    "duration": 0,
    "start_time": "2022-06-05T20:52:20.166Z"
   },
   {
    "duration": 0,
    "start_time": "2022-06-05T20:52:20.167Z"
   },
   {
    "duration": 0,
    "start_time": "2022-06-05T20:52:20.168Z"
   },
   {
    "duration": 0,
    "start_time": "2022-06-05T20:52:20.169Z"
   },
   {
    "duration": 0,
    "start_time": "2022-06-05T20:52:20.170Z"
   },
   {
    "duration": 0,
    "start_time": "2022-06-05T20:52:20.195Z"
   },
   {
    "duration": 0,
    "start_time": "2022-06-05T20:52:20.197Z"
   },
   {
    "duration": 0,
    "start_time": "2022-06-05T20:52:20.198Z"
   },
   {
    "duration": 0,
    "start_time": "2022-06-05T20:52:20.200Z"
   },
   {
    "duration": 0,
    "start_time": "2022-06-05T20:52:20.202Z"
   },
   {
    "duration": 0,
    "start_time": "2022-06-05T20:52:20.203Z"
   },
   {
    "duration": 0,
    "start_time": "2022-06-05T20:52:20.204Z"
   },
   {
    "duration": 0,
    "start_time": "2022-06-05T20:52:20.206Z"
   },
   {
    "duration": 0,
    "start_time": "2022-06-05T20:52:20.207Z"
   },
   {
    "duration": 0,
    "start_time": "2022-06-05T20:52:20.208Z"
   },
   {
    "duration": 0,
    "start_time": "2022-06-05T20:52:20.209Z"
   },
   {
    "duration": 0,
    "start_time": "2022-06-05T20:52:20.211Z"
   },
   {
    "duration": 0,
    "start_time": "2022-06-05T20:52:20.212Z"
   },
   {
    "duration": 0,
    "start_time": "2022-06-05T20:52:20.213Z"
   },
   {
    "duration": 0,
    "start_time": "2022-06-05T20:52:20.215Z"
   },
   {
    "duration": 0,
    "start_time": "2022-06-05T20:52:20.216Z"
   },
   {
    "duration": 0,
    "start_time": "2022-06-05T20:52:20.217Z"
   },
   {
    "duration": 0,
    "start_time": "2022-06-05T20:52:20.218Z"
   },
   {
    "duration": 0,
    "start_time": "2022-06-05T20:52:20.220Z"
   },
   {
    "duration": 0,
    "start_time": "2022-06-05T20:52:20.221Z"
   },
   {
    "duration": 0,
    "start_time": "2022-06-05T20:52:20.223Z"
   },
   {
    "duration": 0,
    "start_time": "2022-06-05T20:52:20.225Z"
   },
   {
    "duration": 0,
    "start_time": "2022-06-05T20:52:20.226Z"
   },
   {
    "duration": 0,
    "start_time": "2022-06-05T20:52:20.227Z"
   },
   {
    "duration": 0,
    "start_time": "2022-06-05T20:52:20.229Z"
   },
   {
    "duration": 0,
    "start_time": "2022-06-05T20:52:20.230Z"
   },
   {
    "duration": 0,
    "start_time": "2022-06-05T20:52:20.231Z"
   },
   {
    "duration": 0,
    "start_time": "2022-06-05T20:52:20.294Z"
   },
   {
    "duration": 0,
    "start_time": "2022-06-05T20:52:20.296Z"
   },
   {
    "duration": 949,
    "start_time": "2022-06-05T20:53:03.456Z"
   },
   {
    "duration": 41,
    "start_time": "2022-06-05T20:53:04.407Z"
   },
   {
    "duration": 60,
    "start_time": "2022-06-05T20:53:04.449Z"
   },
   {
    "duration": 3,
    "start_time": "2022-06-05T20:53:04.511Z"
   },
   {
    "duration": 16,
    "start_time": "2022-06-05T20:53:04.516Z"
   },
   {
    "duration": 10,
    "start_time": "2022-06-05T20:53:04.534Z"
   },
   {
    "duration": 4,
    "start_time": "2022-06-05T20:53:04.546Z"
   },
   {
    "duration": 16,
    "start_time": "2022-06-05T20:53:04.552Z"
   },
   {
    "duration": 7,
    "start_time": "2022-06-05T20:53:04.569Z"
   },
   {
    "duration": 46,
    "start_time": "2022-06-05T20:53:04.579Z"
   },
   {
    "duration": 426,
    "start_time": "2022-06-05T20:53:04.627Z"
   },
   {
    "duration": 5,
    "start_time": "2022-06-05T20:53:05.055Z"
   },
   {
    "duration": 25,
    "start_time": "2022-06-05T20:53:05.062Z"
   },
   {
    "duration": 1020,
    "start_time": "2022-06-05T20:53:05.088Z"
   },
   {
    "duration": 3,
    "start_time": "2022-06-05T20:53:06.110Z"
   },
   {
    "duration": 245410,
    "start_time": "2022-06-05T20:53:06.115Z"
   },
   {
    "duration": 5,
    "start_time": "2022-06-05T20:57:11.526Z"
   },
   {
    "duration": 1467,
    "start_time": "2022-06-05T20:57:11.532Z"
   },
   {
    "duration": 95,
    "start_time": "2022-06-05T20:57:13.002Z"
   },
   {
    "duration": 6,
    "start_time": "2022-06-05T20:57:13.098Z"
   },
   {
    "duration": 9,
    "start_time": "2022-06-05T20:57:13.105Z"
   },
   {
    "duration": 12,
    "start_time": "2022-06-05T20:57:13.194Z"
   },
   {
    "duration": 5,
    "start_time": "2022-06-05T20:57:13.208Z"
   },
   {
    "duration": 6,
    "start_time": "2022-06-05T20:57:13.215Z"
   },
   {
    "duration": 1200,
    "start_time": "2022-06-05T20:57:13.223Z"
   },
   {
    "duration": 3,
    "start_time": "2022-06-05T20:57:14.425Z"
   },
   {
    "duration": 316472,
    "start_time": "2022-06-05T20:57:14.430Z"
   },
   {
    "duration": 4,
    "start_time": "2022-06-05T21:02:30.905Z"
   },
   {
    "duration": 1590,
    "start_time": "2022-06-05T21:02:30.910Z"
   },
   {
    "duration": 94,
    "start_time": "2022-06-05T21:02:32.502Z"
   },
   {
    "duration": 5,
    "start_time": "2022-06-05T21:02:32.599Z"
   },
   {
    "duration": 95,
    "start_time": "2022-06-05T21:02:32.605Z"
   },
   {
    "duration": 5,
    "start_time": "2022-06-05T21:02:32.702Z"
   },
   {
    "duration": 5,
    "start_time": "2022-06-05T21:02:32.709Z"
   },
   {
    "duration": 445,
    "start_time": "2022-06-05T21:02:32.716Z"
   },
   {
    "duration": 4,
    "start_time": "2022-06-05T21:02:33.163Z"
   },
   {
    "duration": 112727,
    "start_time": "2022-06-05T21:02:33.168Z"
   },
   {
    "duration": 4,
    "start_time": "2022-06-05T21:04:25.896Z"
   },
   {
    "duration": 795,
    "start_time": "2022-06-05T21:04:25.902Z"
   },
   {
    "duration": 94,
    "start_time": "2022-06-05T21:04:26.700Z"
   },
   {
    "duration": 4,
    "start_time": "2022-06-05T21:04:26.796Z"
   },
   {
    "duration": 11,
    "start_time": "2022-06-05T21:04:26.802Z"
   },
   {
    "duration": 5,
    "start_time": "2022-06-05T21:04:26.814Z"
   },
   {
    "duration": 593,
    "start_time": "2022-06-05T21:04:26.821Z"
   },
   {
    "duration": 6,
    "start_time": "2022-06-05T21:04:27.416Z"
   },
   {
    "duration": 39,
    "start_time": "2022-06-05T21:04:27.424Z"
   },
   {
    "duration": 4,
    "start_time": "2022-06-05T21:06:01.246Z"
   },
   {
    "duration": 114,
    "start_time": "2022-06-05T21:06:08.351Z"
   },
   {
    "duration": 41,
    "start_time": "2022-06-05T21:06:28.494Z"
   },
   {
    "duration": 4,
    "start_time": "2022-06-05T21:06:48.694Z"
   },
   {
    "duration": 3,
    "start_time": "2022-06-05T21:07:04.548Z"
   },
   {
    "duration": 135,
    "start_time": "2022-06-05T21:07:33.549Z"
   },
   {
    "duration": 147,
    "start_time": "2022-06-05T21:07:39.998Z"
   },
   {
    "duration": 136,
    "start_time": "2022-06-05T21:07:43.889Z"
   },
   {
    "duration": 154,
    "start_time": "2022-06-05T21:08:05.276Z"
   },
   {
    "duration": 147,
    "start_time": "2022-06-05T21:08:14.607Z"
   },
   {
    "duration": 153,
    "start_time": "2022-06-05T21:08:27.212Z"
   },
   {
    "duration": 159,
    "start_time": "2022-06-05T21:08:55.417Z"
   },
   {
    "duration": 182,
    "start_time": "2022-06-05T21:09:28.357Z"
   },
   {
    "duration": 286,
    "start_time": "2022-06-05T21:09:35.428Z"
   },
   {
    "duration": 144,
    "start_time": "2022-06-05T21:09:43.102Z"
   },
   {
    "duration": 177,
    "start_time": "2022-06-05T21:09:48.391Z"
   },
   {
    "duration": 1531,
    "start_time": "2022-06-06T11:04:44.627Z"
   },
   {
    "duration": 4,
    "start_time": "2022-06-06T11:04:53.511Z"
   },
   {
    "duration": 271,
    "start_time": "2022-06-06T11:04:53.517Z"
   },
   {
    "duration": 78,
    "start_time": "2022-06-06T11:04:53.790Z"
   },
   {
    "duration": 5,
    "start_time": "2022-06-06T11:04:53.869Z"
   },
   {
    "duration": 20,
    "start_time": "2022-06-06T11:04:53.896Z"
   },
   {
    "duration": 17,
    "start_time": "2022-06-06T11:04:53.919Z"
   },
   {
    "duration": 29,
    "start_time": "2022-06-06T11:04:53.939Z"
   },
   {
    "duration": 40,
    "start_time": "2022-06-06T11:04:53.971Z"
   },
   {
    "duration": 30,
    "start_time": "2022-06-06T11:04:54.016Z"
   },
   {
    "duration": 233,
    "start_time": "2022-06-06T11:04:54.050Z"
   },
   {
    "duration": 15,
    "start_time": "2022-06-06T11:06:38.948Z"
   },
   {
    "duration": 48,
    "start_time": "2022-06-06T11:06:53.125Z"
   },
   {
    "duration": 13,
    "start_time": "2022-06-06T11:07:08.785Z"
   },
   {
    "duration": 10,
    "start_time": "2022-06-06T11:07:12.395Z"
   },
   {
    "duration": 11,
    "start_time": "2022-06-06T11:07:24.708Z"
   },
   {
    "duration": 21,
    "start_time": "2022-06-06T11:07:28.579Z"
   },
   {
    "duration": 38,
    "start_time": "2022-06-06T11:07:38.742Z"
   },
   {
    "duration": 41,
    "start_time": "2022-06-06T11:08:48.200Z"
   },
   {
    "duration": 31,
    "start_time": "2022-06-06T11:10:32.719Z"
   },
   {
    "duration": 12,
    "start_time": "2022-06-06T11:10:56.973Z"
   },
   {
    "duration": 18,
    "start_time": "2022-06-06T11:11:04.678Z"
   },
   {
    "duration": 13,
    "start_time": "2022-06-06T11:12:10.705Z"
   },
   {
    "duration": 19,
    "start_time": "2022-06-06T11:12:11.722Z"
   },
   {
    "duration": 197,
    "start_time": "2022-06-06T11:14:20.555Z"
   },
   {
    "duration": 13,
    "start_time": "2022-06-06T11:15:43.376Z"
   },
   {
    "duration": 11,
    "start_time": "2022-06-06T11:16:00.448Z"
   },
   {
    "duration": 5,
    "start_time": "2022-06-06T11:16:02.959Z"
   },
   {
    "duration": 7,
    "start_time": "2022-06-06T11:16:03.953Z"
   },
   {
    "duration": 8,
    "start_time": "2022-06-06T11:16:06.276Z"
   },
   {
    "duration": 11,
    "start_time": "2022-06-06T11:16:52.932Z"
   },
   {
    "duration": 4,
    "start_time": "2022-06-06T11:17:28.140Z"
   },
   {
    "duration": 10,
    "start_time": "2022-06-06T11:17:32.875Z"
   },
   {
    "duration": 19,
    "start_time": "2022-06-06T11:18:49.599Z"
   },
   {
    "duration": 31,
    "start_time": "2022-06-06T11:20:18.695Z"
   },
   {
    "duration": 17,
    "start_time": "2022-06-06T11:20:27.812Z"
   },
   {
    "duration": 15,
    "start_time": "2022-06-06T11:23:19.189Z"
   },
   {
    "duration": 3,
    "start_time": "2022-06-06T11:28:03.903Z"
   },
   {
    "duration": 44,
    "start_time": "2022-06-06T11:28:03.934Z"
   },
   {
    "duration": 60,
    "start_time": "2022-06-06T11:28:03.980Z"
   },
   {
    "duration": 5,
    "start_time": "2022-06-06T11:28:04.041Z"
   },
   {
    "duration": 8,
    "start_time": "2022-06-06T11:28:04.047Z"
   },
   {
    "duration": 36,
    "start_time": "2022-06-06T11:28:04.057Z"
   },
   {
    "duration": 6,
    "start_time": "2022-06-06T11:28:04.096Z"
   },
   {
    "duration": 16,
    "start_time": "2022-06-06T11:28:04.104Z"
   },
   {
    "duration": 10,
    "start_time": "2022-06-06T11:28:04.122Z"
   },
   {
    "duration": 14,
    "start_time": "2022-06-06T11:28:04.134Z"
   },
   {
    "duration": 49,
    "start_time": "2022-06-06T11:28:04.149Z"
   },
   {
    "duration": 185,
    "start_time": "2022-06-06T11:28:04.200Z"
   },
   {
    "duration": 4,
    "start_time": "2022-06-06T11:28:04.390Z"
   },
   {
    "duration": 11,
    "start_time": "2022-06-06T11:28:04.395Z"
   },
   {
    "duration": 7,
    "start_time": "2022-06-06T11:28:04.409Z"
   },
   {
    "duration": 39,
    "start_time": "2022-06-06T11:28:04.418Z"
   },
   {
    "duration": 1087,
    "start_time": "2022-06-06T11:28:04.459Z"
   },
   {
    "duration": 3,
    "start_time": "2022-06-06T11:28:05.548Z"
   },
   {
    "duration": 246527,
    "start_time": "2022-06-06T11:28:05.553Z"
   },
   {
    "duration": 4,
    "start_time": "2022-06-06T11:32:12.081Z"
   },
   {
    "duration": 603,
    "start_time": "2022-06-06T11:32:12.087Z"
   },
   {
    "duration": 93,
    "start_time": "2022-06-06T11:32:12.698Z"
   },
   {
    "duration": 15,
    "start_time": "2022-06-06T11:32:12.793Z"
   },
   {
    "duration": 9,
    "start_time": "2022-06-06T11:32:12.810Z"
   },
   {
    "duration": 13,
    "start_time": "2022-06-06T11:32:12.820Z"
   },
   {
    "duration": 1299,
    "start_time": "2022-06-06T11:32:12.835Z"
   },
   {
    "duration": 4,
    "start_time": "2022-06-06T11:32:14.137Z"
   },
   {
    "duration": 329752,
    "start_time": "2022-06-06T11:35:20.514Z"
   },
   {
    "duration": 5,
    "start_time": "2022-06-06T11:40:50.268Z"
   },
   {
    "duration": 4,
    "start_time": "2022-06-06T12:21:42.366Z"
   },
   {
    "duration": 51,
    "start_time": "2022-06-06T12:21:42.373Z"
   },
   {
    "duration": 68,
    "start_time": "2022-06-06T12:21:42.426Z"
   },
   {
    "duration": 4,
    "start_time": "2022-06-06T12:21:42.496Z"
   },
   {
    "duration": 7,
    "start_time": "2022-06-06T12:21:42.502Z"
   },
   {
    "duration": 9,
    "start_time": "2022-06-06T12:21:42.511Z"
   },
   {
    "duration": 5,
    "start_time": "2022-06-06T12:21:42.522Z"
   },
   {
    "duration": 20,
    "start_time": "2022-06-06T12:21:42.528Z"
   },
   {
    "duration": 5,
    "start_time": "2022-06-06T12:21:42.549Z"
   },
   {
    "duration": 43,
    "start_time": "2022-06-06T12:21:42.556Z"
   },
   {
    "duration": 12,
    "start_time": "2022-06-06T12:21:42.601Z"
   },
   {
    "duration": 169,
    "start_time": "2022-06-06T12:21:42.615Z"
   },
   {
    "duration": 4,
    "start_time": "2022-06-06T12:21:42.789Z"
   },
   {
    "duration": 9,
    "start_time": "2022-06-06T12:21:42.796Z"
   },
   {
    "duration": 10,
    "start_time": "2022-06-06T12:21:42.807Z"
   },
   {
    "duration": 30,
    "start_time": "2022-06-06T12:21:42.819Z"
   },
   {
    "duration": 1091,
    "start_time": "2022-06-06T12:21:42.851Z"
   },
   {
    "duration": 4,
    "start_time": "2022-06-06T12:21:43.943Z"
   },
   {
    "duration": 244173,
    "start_time": "2022-06-06T12:21:43.948Z"
   },
   {
    "duration": 4,
    "start_time": "2022-06-06T12:25:48.123Z"
   },
   {
    "duration": 761,
    "start_time": "2022-06-06T12:25:48.129Z"
   },
   {
    "duration": 5,
    "start_time": "2022-06-06T12:25:48.893Z"
   },
   {
    "duration": 6,
    "start_time": "2022-06-06T12:25:48.990Z"
   },
   {
    "duration": 8,
    "start_time": "2022-06-06T12:25:48.998Z"
   },
   {
    "duration": 13,
    "start_time": "2022-06-06T12:25:49.007Z"
   },
   {
    "duration": 1275,
    "start_time": "2022-06-06T12:25:49.022Z"
   },
   {
    "duration": 4,
    "start_time": "2022-06-06T12:25:50.299Z"
   },
   {
    "duration": 335393,
    "start_time": "2022-06-06T12:25:50.305Z"
   },
   {
    "duration": 4,
    "start_time": "2022-06-06T12:31:25.706Z"
   },
   {
    "duration": 599,
    "start_time": "2022-06-06T12:31:25.712Z"
   },
   {
    "duration": 18,
    "start_time": "2022-06-06T12:31:26.391Z"
   },
   {
    "duration": 99,
    "start_time": "2022-06-06T12:31:26.411Z"
   },
   {
    "duration": 11,
    "start_time": "2022-06-06T12:34:42.617Z"
   },
   {
    "duration": 13,
    "start_time": "2022-06-06T12:34:51.200Z"
   },
   {
    "duration": 556,
    "start_time": "2022-06-06T12:35:44.308Z"
   },
   {
    "duration": 4,
    "start_time": "2022-06-06T12:35:45.506Z"
   },
   {
    "duration": 145371,
    "start_time": "2022-06-06T12:36:09.189Z"
   },
   {
    "duration": 4,
    "start_time": "2022-06-06T12:38:34.562Z"
   },
   {
    "duration": 139,
    "start_time": "2022-06-06T12:39:23.667Z"
   },
   {
    "duration": 5,
    "start_time": "2022-06-06T12:39:24.311Z"
   },
   {
    "duration": 4,
    "start_time": "2022-06-06T12:39:24.837Z"
   },
   {
    "duration": 722,
    "start_time": "2022-06-06T12:42:12.420Z"
   },
   {
    "duration": 7,
    "start_time": "2022-06-06T12:42:15.317Z"
   },
   {
    "duration": 48,
    "start_time": "2022-06-06T12:42:17.263Z"
   },
   {
    "duration": 45,
    "start_time": "2022-06-06T12:42:32.103Z"
   },
   {
    "duration": 210,
    "start_time": "2022-06-06T12:42:32.746Z"
   }
  ],
  "kernelspec": {
   "display_name": "Python 3",
   "language": "python",
   "name": "python3"
  },
  "language_info": {
   "codemirror_mode": {
    "name": "ipython",
    "version": 3
   },
   "file_extension": ".py",
   "mimetype": "text/x-python",
   "name": "python",
   "nbconvert_exporter": "python",
   "pygments_lexer": "ipython3",
   "version": "3.8.8"
  },
  "toc": {
   "base_numbering": 1,
   "nav_menu": {},
   "number_sections": true,
   "sideBar": true,
   "skip_h1_title": true,
   "title_cell": "Содержание",
   "title_sidebar": "Contents",
   "toc_cell": true,
   "toc_position": {
    "height": "calc(100% - 180px)",
    "left": "10px",
    "top": "150px",
    "width": "165px"
   },
   "toc_section_display": true,
   "toc_window_display": true
  }
 },
 "nbformat": 4,
 "nbformat_minor": 4
}
