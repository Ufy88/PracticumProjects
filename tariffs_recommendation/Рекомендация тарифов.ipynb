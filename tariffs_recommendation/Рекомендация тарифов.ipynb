{
 "cells": [
  {
   "cell_type": "markdown",
   "id": "38881445-72cd-4370-94df-4b3183f6caa4",
   "metadata": {},
   "source": [
    "# 1.   Вводные"
   ]
  },
  {
   "cell_type": "markdown",
   "id": "8223a32b-fea6-43ce-844d-089f621ba95e",
   "metadata": {},
   "source": [
    "<div style=\"background-color: #fff0e0; padding: 10px; font-family: monospace; font-size: 15px\">\n",
    "  Многие клиенты оператора \"Мегалайн\" пользуются архивными тарифами. Необходимо построить систему для анализа поведения клиентов, чтобы предложить пользователям новый тариф: «Смарт» или «Ультра»\n",
    "<br><br>  Имеются данные о поведении клиентов на этих тарифах. Нужно подобрать наилучшую модель для классификации подходящего тарифа\n",
    "\n",
    "Данные признаки:\n",
    "- сalls — количество звонков,\n",
    "- minutes — суммарная длительность звонков в минутах,\n",
    "- messages — количество sms-сообщений,\n",
    "- mb_used — израсходованный интернет-трафик в Мб,\n",
    "- is_ultra — каким тарифом пользовался в течение месяца («Ультра» — 1, «Смарт» — 0).</div>"
   ]
  },
  {
   "cell_type": "markdown",
   "id": "75c65742-4ac5-404e-9664-1543e4514064",
   "metadata": {},
   "source": [
    "# 2.   Настройка пространства"
   ]
  },
  {
   "cell_type": "code",
   "execution_count": 1,
   "id": "ec8712cb-f418-49d3-b626-9c17effafb0b",
   "metadata": {},
   "outputs": [],
   "source": [
    "import pandas as pd\n",
    "from sklearn.tree import DecisionTreeClassifier\n",
    "from sklearn.ensemble import RandomForestClassifier\n",
    "from sklearn.linear_model import LogisticRegression\n",
    "from sklearn.model_selection import train_test_split\n",
    "from sklearn.metrics import accuracy_score\n",
    "from joblib import dump"
   ]
  },
  {
   "cell_type": "code",
   "execution_count": 2,
   "id": "41fcebca-8cde-49d9-bcef-4c04c36edaee",
   "metadata": {},
   "outputs": [],
   "source": [
    "data = pd.read_csv(r'/datasets/users_behavior.csv')"
   ]
  },
  {
   "cell_type": "markdown",
   "id": "61db8473-0a18-40fb-a015-da426ff5f840",
   "metadata": {},
   "source": [
    "# 3.   Знакомство с данными"
   ]
  },
  {
   "cell_type": "markdown",
   "id": "049d0490-1c25-4449-8ce3-70f3d88480ef",
   "metadata": {},
   "source": [
    "<div style=\"background-color: #fff0e0; padding: 10px; font-family: monospace; font-size: 15px\">\n",
    "Посмотрим на срез данных</div>"
   ]
  },
  {
   "cell_type": "code",
   "execution_count": 3,
   "id": "8124a590-940f-4221-9857-a81ae2335fed",
   "metadata": {},
   "outputs": [
    {
     "data": {
      "text/html": [
       "<div>\n",
       "<style scoped>\n",
       "    .dataframe tbody tr th:only-of-type {\n",
       "        vertical-align: middle;\n",
       "    }\n",
       "\n",
       "    .dataframe tbody tr th {\n",
       "        vertical-align: top;\n",
       "    }\n",
       "\n",
       "    .dataframe thead th {\n",
       "        text-align: right;\n",
       "    }\n",
       "</style>\n",
       "<table border=\"1\" class=\"dataframe\">\n",
       "  <thead>\n",
       "    <tr style=\"text-align: right;\">\n",
       "      <th></th>\n",
       "      <th>calls</th>\n",
       "      <th>minutes</th>\n",
       "      <th>messages</th>\n",
       "      <th>mb_used</th>\n",
       "      <th>is_ultra</th>\n",
       "    </tr>\n",
       "  </thead>\n",
       "  <tbody>\n",
       "    <tr>\n",
       "      <th>0</th>\n",
       "      <td>40.0</td>\n",
       "      <td>311.90</td>\n",
       "      <td>83.0</td>\n",
       "      <td>19915.42</td>\n",
       "      <td>0</td>\n",
       "    </tr>\n",
       "    <tr>\n",
       "      <th>1</th>\n",
       "      <td>85.0</td>\n",
       "      <td>516.75</td>\n",
       "      <td>56.0</td>\n",
       "      <td>22696.96</td>\n",
       "      <td>0</td>\n",
       "    </tr>\n",
       "    <tr>\n",
       "      <th>2</th>\n",
       "      <td>77.0</td>\n",
       "      <td>467.66</td>\n",
       "      <td>86.0</td>\n",
       "      <td>21060.45</td>\n",
       "      <td>0</td>\n",
       "    </tr>\n",
       "    <tr>\n",
       "      <th>3</th>\n",
       "      <td>106.0</td>\n",
       "      <td>745.53</td>\n",
       "      <td>81.0</td>\n",
       "      <td>8437.39</td>\n",
       "      <td>1</td>\n",
       "    </tr>\n",
       "    <tr>\n",
       "      <th>4</th>\n",
       "      <td>66.0</td>\n",
       "      <td>418.74</td>\n",
       "      <td>1.0</td>\n",
       "      <td>14502.75</td>\n",
       "      <td>0</td>\n",
       "    </tr>\n",
       "  </tbody>\n",
       "</table>\n",
       "</div>"
      ],
      "text/plain": [
       "   calls  minutes  messages   mb_used  is_ultra\n",
       "0   40.0   311.90      83.0  19915.42         0\n",
       "1   85.0   516.75      56.0  22696.96         0\n",
       "2   77.0   467.66      86.0  21060.45         0\n",
       "3  106.0   745.53      81.0   8437.39         1\n",
       "4   66.0   418.74       1.0  14502.75         0"
      ]
     },
     "execution_count": 3,
     "metadata": {},
     "output_type": "execute_result"
    }
   ],
   "source": [
    "data.head()"
   ]
  },
  {
   "cell_type": "markdown",
   "id": "b87f7b3e-dc1d-492b-b15f-335251e22a91",
   "metadata": {},
   "source": [
    "<div style=\"background-color: #fff0e0; padding: 10px; font-family: monospace; font-size: 15px\">\n",
    "Посмотрим на масштабы </div>"
   ]
  },
  {
   "cell_type": "code",
   "execution_count": 4,
   "id": "e8643139-4ac8-44b6-abc8-ccb4e9502f46",
   "metadata": {},
   "outputs": [
    {
     "data": {
      "text/plain": [
       "(3214, 5)"
      ]
     },
     "execution_count": 4,
     "metadata": {},
     "output_type": "execute_result"
    }
   ],
   "source": [
    "data.shape"
   ]
  },
  {
   "cell_type": "markdown",
   "id": "52f2be17-e977-4c26-9d19-d8c7c415cd0f",
   "metadata": {},
   "source": [
    "<div style=\"background-color: #fff0e0; padding: 10px; font-family: monospace; font-size: 15px\">\n",
    "Посмотрим на оценку безошибочности и типы данных</div>"
   ]
  },
  {
   "cell_type": "code",
   "execution_count": 5,
   "id": "ccee46fc-c660-43bd-b9f3-e8089c5c8fd2",
   "metadata": {},
   "outputs": [
    {
     "name": "stdout",
     "output_type": "stream",
     "text": [
      "<class 'pandas.core.frame.DataFrame'>\n",
      "RangeIndex: 3214 entries, 0 to 3213\n",
      "Data columns (total 5 columns):\n",
      " #   Column    Non-Null Count  Dtype  \n",
      "---  ------    --------------  -----  \n",
      " 0   calls     3214 non-null   float64\n",
      " 1   minutes   3214 non-null   float64\n",
      " 2   messages  3214 non-null   float64\n",
      " 3   mb_used   3214 non-null   float64\n",
      " 4   is_ultra  3214 non-null   int64  \n",
      "dtypes: float64(4), int64(1)\n",
      "memory usage: 125.7 KB\n"
     ]
    }
   ],
   "source": [
    "data.info()"
   ]
  },
  {
   "cell_type": "markdown",
   "id": "31693fe2-6f85-418a-8af9-da1dbe462162",
   "metadata": {},
   "source": [
    "<div style=\"background-color: #fff0e0; padding: 10px; font-family: monospace; font-size: 15px\">\n",
    "Ошибок нет. Проверим на адекватность</div>"
   ]
  },
  {
   "cell_type": "code",
   "execution_count": 6,
   "id": "f1621c75-c336-4aec-9c18-e827e03dd7ce",
   "metadata": {},
   "outputs": [
    {
     "data": {
      "text/html": [
       "<div>\n",
       "<style scoped>\n",
       "    .dataframe tbody tr th:only-of-type {\n",
       "        vertical-align: middle;\n",
       "    }\n",
       "\n",
       "    .dataframe tbody tr th {\n",
       "        vertical-align: top;\n",
       "    }\n",
       "\n",
       "    .dataframe thead th {\n",
       "        text-align: right;\n",
       "    }\n",
       "</style>\n",
       "<table border=\"1\" class=\"dataframe\">\n",
       "  <thead>\n",
       "    <tr style=\"text-align: right;\">\n",
       "      <th></th>\n",
       "      <th>calls</th>\n",
       "      <th>minutes</th>\n",
       "      <th>messages</th>\n",
       "      <th>mb_used</th>\n",
       "      <th>is_ultra</th>\n",
       "    </tr>\n",
       "  </thead>\n",
       "  <tbody>\n",
       "    <tr>\n",
       "      <th>count</th>\n",
       "      <td>3214.000000</td>\n",
       "      <td>3214.000000</td>\n",
       "      <td>3214.000000</td>\n",
       "      <td>3214.000000</td>\n",
       "      <td>3214.000000</td>\n",
       "    </tr>\n",
       "    <tr>\n",
       "      <th>mean</th>\n",
       "      <td>63.038892</td>\n",
       "      <td>438.208787</td>\n",
       "      <td>38.281269</td>\n",
       "      <td>17207.673836</td>\n",
       "      <td>0.306472</td>\n",
       "    </tr>\n",
       "    <tr>\n",
       "      <th>std</th>\n",
       "      <td>33.236368</td>\n",
       "      <td>234.569872</td>\n",
       "      <td>36.148326</td>\n",
       "      <td>7570.968246</td>\n",
       "      <td>0.461100</td>\n",
       "    </tr>\n",
       "    <tr>\n",
       "      <th>min</th>\n",
       "      <td>0.000000</td>\n",
       "      <td>0.000000</td>\n",
       "      <td>0.000000</td>\n",
       "      <td>0.000000</td>\n",
       "      <td>0.000000</td>\n",
       "    </tr>\n",
       "    <tr>\n",
       "      <th>25%</th>\n",
       "      <td>40.000000</td>\n",
       "      <td>274.575000</td>\n",
       "      <td>9.000000</td>\n",
       "      <td>12491.902500</td>\n",
       "      <td>0.000000</td>\n",
       "    </tr>\n",
       "    <tr>\n",
       "      <th>50%</th>\n",
       "      <td>62.000000</td>\n",
       "      <td>430.600000</td>\n",
       "      <td>30.000000</td>\n",
       "      <td>16943.235000</td>\n",
       "      <td>0.000000</td>\n",
       "    </tr>\n",
       "    <tr>\n",
       "      <th>75%</th>\n",
       "      <td>82.000000</td>\n",
       "      <td>571.927500</td>\n",
       "      <td>57.000000</td>\n",
       "      <td>21424.700000</td>\n",
       "      <td>1.000000</td>\n",
       "    </tr>\n",
       "    <tr>\n",
       "      <th>max</th>\n",
       "      <td>244.000000</td>\n",
       "      <td>1632.060000</td>\n",
       "      <td>224.000000</td>\n",
       "      <td>49745.730000</td>\n",
       "      <td>1.000000</td>\n",
       "    </tr>\n",
       "  </tbody>\n",
       "</table>\n",
       "</div>"
      ],
      "text/plain": [
       "             calls      minutes     messages       mb_used     is_ultra\n",
       "count  3214.000000  3214.000000  3214.000000   3214.000000  3214.000000\n",
       "mean     63.038892   438.208787    38.281269  17207.673836     0.306472\n",
       "std      33.236368   234.569872    36.148326   7570.968246     0.461100\n",
       "min       0.000000     0.000000     0.000000      0.000000     0.000000\n",
       "25%      40.000000   274.575000     9.000000  12491.902500     0.000000\n",
       "50%      62.000000   430.600000    30.000000  16943.235000     0.000000\n",
       "75%      82.000000   571.927500    57.000000  21424.700000     1.000000\n",
       "max     244.000000  1632.060000   224.000000  49745.730000     1.000000"
      ]
     },
     "execution_count": 6,
     "metadata": {},
     "output_type": "execute_result"
    }
   ],
   "source": [
    "data.describe()"
   ]
  },
  {
   "cell_type": "markdown",
   "id": "5516c4d3-6e8b-4991-adcb-21f569f5c8d4",
   "metadata": {},
   "source": [
    "<div style=\"background-color: #fff0e0; padding: 10px; font-family: monospace; font-size: 15px\">\n",
    "Все выглядит культурно и порядочно, предобработка не требуется</div>"
   ]
  },
  {
   "cell_type": "markdown",
   "id": "cb81369b-6752-45a4-ac6d-fda4aaeba944",
   "metadata": {},
   "source": [
    "# 4.   Разделение данных"
   ]
  },
  {
   "cell_type": "markdown",
   "id": "3a4a4ca5-44c4-4418-b416-22a0614291e3",
   "metadata": {},
   "source": [
    "<div style=\"background-color: #fff0e0; padding: 10px; font-family: monospace; font-size: 15px\">\n",
    "Целевой признак очевиден – это is_ultra</div>\n",
    "\n",
    "<div style=\"background-color: #fff0e0; padding: 10px; font-family: monospace; font-size: 15px\">\n",
    "С признаками для вопросов вроде тоже все понятно – все данные нам понадобятся, но при возникновении проблем с accuracy можно попробовать выкинуть некоторые столбцы, которые в теории могут создавать шум</div>\n",
    "\n",
    "<div style=\"background-color: #fff0e0; padding: 10px; font-family: monospace; font-size: 15px\">\n",
    "Разделим данные на тренировочную, валидационную и тестовую выборки, в соотношении 3:1:1</div>\n",
    "\n",
    "<div style=\"background-color: #fff0e0; padding: 10px; font-family: monospace; font-size: 15px\">\n",
    "Начнем с тестовой – ее должно быть 0.2, остальные данные положим во \"временные\" переменные</div>"
   ]
  },
  {
   "cell_type": "code",
   "execution_count": 7,
   "id": "d5e04a84-44af-413c-802f-0d51c364a7e9",
   "metadata": {},
   "outputs": [],
   "source": [
    "X_, X_test, Y_, Y_test = train_test_split(data[['calls', 'minutes', 'messages', 'mb_used']], \n",
    "                                          data['is_ultra'], \n",
    "                                          test_size=0.2, \n",
    "                                          random_state=12345)"
   ]
  },
  {
   "cell_type": "markdown",
   "id": "781fa1c5-e87d-48cc-a30f-6b80c87b367a",
   "metadata": {},
   "source": [
    "<div style=\"background-color: #fff0e0; padding: 10px; font-family: monospace; font-size: 15px\">\n",
    "Теперь разделим 0.8 данных на тренировочную и валидационную – пригодятся наши \"временные\" данные</div>"
   ]
  },
  {
   "cell_type": "code",
   "execution_count": 8,
   "id": "db697e72-1b92-4c93-b1dc-826b800924c8",
   "metadata": {},
   "outputs": [],
   "source": [
    "X_train, X_valid, Y_train, Y_valid = train_test_split(X_, Y_, test_size=0.25)"
   ]
  },
  {
   "cell_type": "code",
   "execution_count": 9,
   "id": "de185bc9",
   "metadata": {},
   "outputs": [
    {
     "data": {
      "text/plain": [
       "set()"
      ]
     },
     "metadata": {},
     "output_type": "display_data"
    },
    {
     "data": {
      "text/plain": [
       "set()"
      ]
     },
     "metadata": {},
     "output_type": "display_data"
    },
    {
     "data": {
      "text/plain": [
       "(1928, 4)"
      ]
     },
     "metadata": {},
     "output_type": "display_data"
    },
    {
     "data": {
      "text/plain": [
       "(643, 4)"
      ]
     },
     "metadata": {},
     "output_type": "display_data"
    },
    {
     "data": {
      "text/plain": [
       "(643, 4)"
      ]
     },
     "metadata": {},
     "output_type": "display_data"
    }
   ],
   "source": [
    "# проверка на пересечение\n",
    "\n",
    "display(set(X_train.index) & set(X_valid.index), set(X_valid.index) & set(X_test.index))\n",
    "display(X_train.shape, X_valid.shape, X_test.shape)"
   ]
  },
  {
   "cell_type": "markdown",
   "id": "cf4242d3-0178-440e-9e18-a894861c69fb",
   "metadata": {},
   "source": [
    "<div style=\"background-color: #fff0e0; padding: 10px; font-family: monospace; font-size: 15px\">\n",
    "Так как у нас осталось 0.8 данных, а нам нужно их разделить на 0.6 и 0.2, берем четверть от всего для валидации</div>"
   ]
  },
  {
   "cell_type": "markdown",
   "id": "cd3ea61a-d2a4-467e-b926-6bc53a0e55fb",
   "metadata": {},
   "source": [
    "# 5.   Модели"
   ]
  },
  {
   "cell_type": "markdown",
   "id": "4a4717e3-1109-44f0-ad76-7667569f9450",
   "metadata": {},
   "source": [
    "## 5.1.   DecisionTreeClassifier"
   ]
  },
  {
   "cell_type": "markdown",
   "id": "a6334976-d3f4-4e75-8e06-724076e18935",
   "metadata": {},
   "source": [
    "### 5.1.1.   Обучение"
   ]
  },
  {
   "cell_type": "markdown",
   "id": "6d5e58b6-b390-4f66-82f7-6a49e8714a3f",
   "metadata": {},
   "source": [
    "<div style=\"background-color: #fff0e0; padding: 10px; font-family: monospace; font-size: 15px\">\n",
    "Нам будет необходимо пробежаться по гиперпараметрам и проверить их работоспособность на деле. Имеем три основных:\n",
    "<br><br>- max_depth: зададим верх как квадрат количества признаков\n",
    "<br><br>- min_samples_split: зададим верх как количество признаков\n",
    "<br><br>- min_samples_leaf: зададим верх как количество признаков </div>\n",
    "\n",
    "<div style=\"background-color: #fff0e0; padding: 10px; font-family: monospace; font-size: 15px\">\n",
    "Лучший результат будем записывать в отдельную переменную best_DTC_result, лучшие настройки гиперпараметров – в best_DTC_hyper</div>"
   ]
  },
  {
   "cell_type": "code",
   "execution_count": 10,
   "id": "b4a1cb05-242d-4de5-812e-d35d52baf367",
   "metadata": {},
   "outputs": [],
   "source": [
    "# задаем исходный лучший результат – пока что 0\n",
    "best_DTC_result = 0\n",
    "features_count = X_train.shape[1]\n",
    "\n",
    "# тремя вложенными циклами перебираем все гиперпараметры во всех комбинациях:\n",
    "for max_depth in range(1, features_count**2+1):\n",
    "    for min_samples_split in range(2, features_count+1):\n",
    "        for min_samples_leaf in range(1, features_count+1):\n",
    "            # создаем модель с гиперпараметрами\n",
    "            DTC_model = DecisionTreeClassifier(random_state=12345, \n",
    "                                               max_depth=max_depth, \n",
    "                                               min_samples_split=min_samples_split, \n",
    "                                               min_samples_leaf=min_samples_leaf)\n",
    "            # обучаем модель и предсказываем\n",
    "            DTC_result = DTC_model.fit(X_train, Y_train)\n",
    "            DTC_predictions = DTC_model.predict(X_valid)\n",
    "            # считаем accuracy и сверяем полученный результат с предыдущими лидерами\n",
    "            DTC_accuracy = accuracy_score(DTC_predictions, Y_valid)\n",
    "            if DTC_accuracy > best_DTC_result:\n",
    "                # в случае нового короля перезаписываем рекорды и модель\n",
    "                best_DTC_result = DTC_accuracy\n",
    "                best_DTC_model = DTC_model\n",
    "                best_DTC_hyper = (max_depth, min_samples_split, min_samples_leaf)"
   ]
  },
  {
   "cell_type": "markdown",
   "id": "d8123b5c-46a9-47d5-91c1-2a7f4a447c8d",
   "metadata": {},
   "source": [
    "<div style=\"background-color: #fff0e0; padding: 10px; font-family: monospace; font-size: 15px\">\n",
    "Перебрав 192 модели, получили лучшую. Посмотрим на ее accuracy</div>"
   ]
  },
  {
   "cell_type": "code",
   "execution_count": 11,
   "id": "4f8ed714-1458-45d9-ba29-f9e6e56d7934",
   "metadata": {},
   "outputs": [
    {
     "data": {
      "text/plain": [
       "0.8102643856920684"
      ]
     },
     "execution_count": 11,
     "metadata": {},
     "output_type": "execute_result"
    }
   ],
   "source": [
    "best_DTC_result"
   ]
  },
  {
   "cell_type": "markdown",
   "id": "af91d568-e67c-4776-9c1a-adb08e6e5d7b",
   "metadata": {},
   "source": [
    "<div style=\"background-color: #fff0e0; padding: 10px; font-family: monospace; font-size: 15px\">\n",
    "Уже неплохо, 81% точности. Проверим гиперпараметры</div>"
   ]
  },
  {
   "cell_type": "code",
   "execution_count": 12,
   "id": "27593dfa-4341-436c-a186-fb8c08d10e21",
   "metadata": {},
   "outputs": [
    {
     "data": {
      "text/plain": [
       "(8, 2, 2)"
      ]
     },
     "execution_count": 12,
     "metadata": {},
     "output_type": "execute_result"
    }
   ],
   "source": [
    "best_DTC_hyper"
   ]
  },
  {
   "cell_type": "markdown",
   "id": "69ce034b-61d2-4fe1-b349-a6b68d284f3b",
   "metadata": {},
   "source": [
    "<div style=\"background-color: #fff0e0; padding: 10px; font-family: monospace; font-size: 15px\">\n",
    "Ожидаемо, минимальные гиперпараметры остались верны своим настройкам по умолчанию – там сложно что либо подкрутить в свою сторону, если не углубляться в специфику данных. Но мы хотя бы попробовали. Максимальной глубиной рекомендуется считать 5 уровней – не вижу причины этому не верить</div>"
   ]
  },
  {
   "cell_type": "markdown",
   "id": "b55c87a7-b2d5-4ce8-83ec-ea19846924a1",
   "metadata": {},
   "source": [
    "## 5.2.   RandomForestClassifier"
   ]
  },
  {
   "cell_type": "markdown",
   "id": "3db898e8-c839-4db8-9ce6-f7ea63c6d374",
   "metadata": {},
   "source": [
    "### 5.2.1.   Обучение"
   ]
  },
  {
   "cell_type": "markdown",
   "id": "4ac78bff-5371-432d-8285-16ba27d26c62",
   "metadata": {},
   "source": [
    "<div style=\"background-color: #fff0e0; padding: 10px; font-family: monospace; font-size: 15px\">\n",
    "Та же логика с перебором всех возможных конфигураций. Но имеем уже четыре основных гиперпараметра:\n",
    "<br><br>- n_estimators: будем перебирать от 1 до 10\n",
    "<br><br>- max_depth: зададим верх как квадрат количества признаков\n",
    "<br><br>- min_samples_split: зададим верх как количество признаков\n",
    "<br><br>- min_samples_leaf: зададим верх как количество признаков</div>\n",
    "\n",
    "<div style=\"background-color: #fff0e0; padding: 10px; font-family: monospace; font-size: 15px\">\n",
    "Лучший результат будем все так же записывать в best_RFC_result, лучшие настройки гиперпараметров – в best_RFC_hyper</div>"
   ]
  },
  {
   "cell_type": "code",
   "execution_count": 15,
   "id": "6ad27e5a-3761-49ea-ad17-c68e7d04cc4b",
   "metadata": {},
   "outputs": [],
   "source": [
    "# задаем исходный лучший результат – пока что 0\n",
    "best_RFC_result = 0\n",
    "features_count = X_train.shape[1]\n",
    "\n",
    "# тремя вложенными циклами перебираем все гиперпараметры во всех комбинациях:\n",
    "for n_estimators in range(1, 11):\n",
    "    for max_depth in range(1, features_count**2+1):\n",
    "        for min_samples_split in range(2, features_count+1):\n",
    "            for min_samples_leaf in range(1, features_count+1):\n",
    "                # создаем модель с гиперпараметрами\n",
    "                RFC_model = RandomForestClassifier(random_state=12345, \n",
    "                                                   n_estimators=n_estimators, \n",
    "                                                   max_depth=max_depth, \n",
    "                                                   min_samples_split=min_samples_split, \n",
    "                                                   min_samples_leaf=min_samples_leaf)\n",
    "                # обучаем модель и предсказываем\n",
    "                RFC_result = RFC_model.fit(X_train, Y_train)\n",
    "                RFC_predictions = RFC_model.predict(X_valid)\n",
    "                # считаем accuracy и сверяем полученный результат с предыдущими лидерами\n",
    "                RFC_accuracy = accuracy_score(RFC_predictions, Y_valid)\n",
    "                if RFC_accuracy > best_RFC_result:\n",
    "                    # в случае нового короля перезаписываем рекорды и модель\n",
    "                    best_RFC_result = RFC_accuracy\n",
    "                    best_RFC_model = RFC_model\n",
    "                    best_RFC_hyper = (n_estimators, max_depth, min_samples_split, min_samples_leaf)"
   ]
  },
  {
   "cell_type": "markdown",
   "id": "0b5e3fc4-94c0-4793-82cf-b4c9207f0af0",
   "metadata": {},
   "source": [
    "<div style=\"background-color: #fff0e0; padding: 10px; font-family: monospace; font-size: 15px\">\n",
    "Перебрав уже 1920 моделей, получили лучшую. Посмотрим на ее accuracy</div>"
   ]
  },
  {
   "cell_type": "code",
   "execution_count": 16,
   "id": "c469f11a-b275-478a-a909-25e47ec69611",
   "metadata": {},
   "outputs": [
    {
     "data": {
      "text/plain": [
       "0.8242612752721618"
      ]
     },
     "execution_count": 16,
     "metadata": {},
     "output_type": "execute_result"
    }
   ],
   "source": [
    "best_RFC_result"
   ]
  },
  {
   "cell_type": "markdown",
   "id": "95f52b91-f798-4d2c-b464-51e4ac2b22ac",
   "metadata": {},
   "source": [
    "<div style=\"background-color: #fff0e0; padding: 10px; font-family: monospace; font-size: 15px\">\n",
    "Чуть лучше, 82% точности</div>"
   ]
  },
  {
   "cell_type": "code",
   "execution_count": 17,
   "id": "0f4ed901-c3e6-4100-b961-d4af89c68150",
   "metadata": {},
   "outputs": [
    {
     "data": {
      "text/plain": [
       "(7, 7, 2, 4)"
      ]
     },
     "execution_count": 17,
     "metadata": {},
     "output_type": "execute_result"
    }
   ],
   "source": [
    "best_RFC_hyper"
   ]
  },
  {
   "cell_type": "markdown",
   "id": "f152cd90-3e5b-4ee2-904d-28dc1bb9bb17",
   "metadata": {},
   "source": [
    "<div style=\"background-color: #fff0e0; padding: 10px; font-family: monospace; font-size: 15px\">\n",
    "Все так же ожидаемо минимальные гиперпараметры остались теми же. Максимальной глубиной стало 10 уровней, оптимальным количеством деревьев – 7 штук</div>"
   ]
  },
  {
   "cell_type": "markdown",
   "id": "f99ce789-4fd1-4bdc-9f92-d2dc39a8ed28",
   "metadata": {},
   "source": [
    "## 5.3.   LogisticRegression"
   ]
  },
  {
   "cell_type": "markdown",
   "id": "176d8b8c-22ed-4d45-bf6f-5186a0aeeede",
   "metadata": {},
   "source": [
    "### 5.3.1.   Обучение"
   ]
  },
  {
   "cell_type": "markdown",
   "id": "5b61c34c-27ee-4d4f-9a0a-83d2c4fcaaef",
   "metadata": {},
   "source": [
    "<div style=\"background-color: #fff0e0; padding: 10px; font-family: monospace; font-size: 15px\">\n",
    "Здесь все намного скромнее – гиперпараметров мы не рассматриваем, построим такую модель, чтобы было с чем сравнить</div>"
   ]
  },
  {
   "cell_type": "markdown",
   "id": "3fe6c3a9-1057-4f36-9de1-ad3ed15d4dc4",
   "metadata": {},
   "source": [
    "<div style=\"background-color: #fff0e0; padding: 10px; font-family: monospace; font-size: 15px\">\n",
    "Лучший результат будет в best_LG_result, лучших настроек гиперпараметров – нет</div>"
   ]
  },
  {
   "cell_type": "code",
   "execution_count": 19,
   "id": "09a2170e-45ba-424b-9da6-5d8ff9fc7ad5",
   "metadata": {},
   "outputs": [],
   "source": [
    "best_LG_model = LogisticRegression(random_state=12345)"
   ]
  },
  {
   "cell_type": "code",
   "execution_count": 20,
   "id": "8bee0a5c-4e05-4195-b27e-93e57e382e6a",
   "metadata": {},
   "outputs": [],
   "source": [
    "# обучаем модель на тестовых данных \n",
    "best_LG_model.fit(X_train, Y_train)\n",
    "# предсказываем результаты\n",
    "best_LG_predictions = best_LG_model.predict(X_valid)\n",
    "# считаем accuracy\n",
    "best_LG_result = accuracy_score(best_LG_predictions, Y_valid)"
   ]
  },
  {
   "cell_type": "code",
   "execution_count": 21,
   "id": "307e3574-cfdc-40d7-956f-7b7bc07dedd4",
   "metadata": {},
   "outputs": [
    {
     "data": {
      "text/plain": [
       "0.71850699844479"
      ]
     },
     "execution_count": 21,
     "metadata": {},
     "output_type": "execute_result"
    }
   ],
   "source": [
    "best_LG_result"
   ]
  },
  {
   "cell_type": "markdown",
   "id": "d0cb5277-aee7-4943-ac15-885af11ae84f",
   "metadata": {},
   "source": [
    "## 5.4.   Тестирование"
   ]
  },
  {
   "cell_type": "markdown",
   "id": "6b39fcee",
   "metadata": {},
   "source": [
    "<div style=\"background-color: #fff0e0; padding: 10px; font-family: monospace; font-size: 15px\">\n",
    "Проверим лучшую модель – RandomForestClassifier – на тестовой выборке</div>"
   ]
  },
  {
   "cell_type": "code",
   "execution_count": 23,
   "id": "77c05890",
   "metadata": {},
   "outputs": [],
   "source": [
    "best_RFC_model_predictions = best_RFC_model.predict(X_test)"
   ]
  },
  {
   "cell_type": "code",
   "execution_count": 24,
   "id": "9996f1d8",
   "metadata": {},
   "outputs": [
    {
     "data": {
      "text/plain": [
       "0.807153965785381"
      ]
     },
     "execution_count": 24,
     "metadata": {},
     "output_type": "execute_result"
    }
   ],
   "source": [
    "accuracy_score(best_RFC_model_predictions, Y_test)"
   ]
  },
  {
   "cell_type": "markdown",
   "id": "486b14b7",
   "metadata": {},
   "source": [
    "<div style=\"background-color: #fff0e0; padding: 10px; font-family: monospace; font-size: 15px\">\n",
    "Здесь 80% точности. Неплохо, проходной балл есть, но однозначно есть куда стремиться. Эта модель отработала хорошо</div>\n",
    "\n",
    "<div style=\"background-color: #fff0e0; padding: 10px; font-family: monospace; font-size: 15px\">\n",
    "Попробуем переобучить лучшую модель с подобранными гиперпараметрами на выборке, состоящей из тренировочной и валидационной</div>"
   ]
  },
  {
   "cell_type": "code",
   "execution_count": 25,
   "id": "60180b66",
   "metadata": {},
   "outputs": [],
   "source": [
    "RFC_model = RandomForestClassifier(random_state=12345, \n",
    "                                                   n_estimators=9, \n",
    "                                                   max_depth=9, \n",
    "                                                   min_samples_split=3, \n",
    "                                                   min_samples_leaf=1)"
   ]
  },
  {
   "cell_type": "code",
   "execution_count": 26,
   "id": "cdab187e",
   "metadata": {},
   "outputs": [
    {
     "data": {
      "text/plain": [
       "RandomForestClassifier(max_depth=9, min_samples_split=3, n_estimators=9,\n",
       "                       random_state=12345)"
      ]
     },
     "execution_count": 26,
     "metadata": {},
     "output_type": "execute_result"
    }
   ],
   "source": [
    "RFC_model.fit(X_, Y_)"
   ]
  },
  {
   "cell_type": "code",
   "execution_count": 27,
   "id": "914ead92",
   "metadata": {},
   "outputs": [],
   "source": [
    "RFC_model_predictions = RFC_model.predict(X_test)"
   ]
  },
  {
   "cell_type": "code",
   "execution_count": 28,
   "id": "39fee539",
   "metadata": {},
   "outputs": [
    {
     "data": {
      "text/plain": [
       "0.807153965785381"
      ]
     },
     "execution_count": 28,
     "metadata": {},
     "output_type": "execute_result"
    }
   ],
   "source": [
    "accuracy_score(best_RFC_model_predictions, Y_test)"
   ]
  },
  {
   "cell_type": "markdown",
   "id": "bac8c1bb",
   "metadata": {},
   "source": [
    "<div style=\"background-color: #fff0e0; padding: 10px; font-family: monospace; font-size: 15px\">\n",
    "В целом, ничего не изменилось. В то же время, постоянство – признак мастерства</div>"
   ]
  },
  {
   "cell_type": "markdown",
   "id": "c0bec97a-3f1a-438b-afd2-7bf62bf003d4",
   "metadata": {},
   "source": [
    "# 6.   Общий вывод"
   ]
  },
  {
   "cell_type": "markdown",
   "id": "19bec575-b658-4934-8ea3-64131ac3dbfd",
   "metadata": {},
   "source": [
    "<div style=\"background-color: #fff0e0; padding: 10px; font-family: monospace; font-size: 15px\">\n",
    "Мы получили чистые, подготовленные данные с нужными колонками</div>\n",
    "\n",
    "<div style=\"background-color: #fff0e0; padding: 10px; font-family: monospace; font-size: 15px\">\n",
    "Разбили их на DataFrame с признаками (calls, minutes, messages, mb_used) и целевой признак is_ultra в виде Series. Разделили их на тренировочную, валидационную и тестовую выборки в соотношении 3:1:1</div>\n",
    "\n",
    "<div style=\"background-color: #fff0e0; padding: 10px; font-family: monospace; font-size: 15px\">\n",
    "Обучили и проверили 3 модели – DecisionTreeClassifier, RandomForestClassifier, LogisticRegression</div>\n",
    "\n",
    "<div style=\"background-color: #fff0e0; padding: 10px; font-family: monospace; font-size: 15px\">\n",
    "Первые два показали себя с хорошей стороны на боевых данных, последний не дал ожидаемых результатов</div>\n",
    "\n",
    "<div style=\"background-color: #fff0e0; padding: 10px; font-family: monospace; font-size: 15px\">\n",
    "DecisionTreeClassifier:\n",
    "<br><br>- Меняли гиперпарамтры max_depth, min_samples_split, min_samples_leaf \n",
    "<br><br>- Получили лучшую настройку как 5, 2, 1 соответственно\n",
    "<br><br>- На валидационных и на тестировочных данных показатель accuracy лучшей модели был 0.79\n",
    "<br><br>- Пороговое значение пройдено, модель можно применять для предсказаний</div>\n",
    "\n",
    "<div style=\"background-color: #fff0e0; padding: 10px; font-family: monospace; font-size: 15px\">\n",
    "RandomForestClassifier:\n",
    "<br><br>- Меняли гиперпарамтры n_estimators, max_depth, min_samples_split, min_samples_leaf \n",
    "<br><br>- Получили лучшую настройку как 7, 10, 2, 1 соответственно\n",
    "<br><br>- На валидационных данных показатель accuracy лучшей модели был 0.82, на тестировочных – 0.79\n",
    "<br><br>- Пороговое значение пройдено, модель можно применять для предсказаний</div>\n",
    "\n",
    "<div style=\"background-color: #fff0e0; padding: 10px; font-family: monospace; font-size: 15px\">\n",
    "LogisticRegression:\n",
    "<br><br>- Гиперпарамтры не меняли\n",
    "<br><br>- Лучшую настройку не получали\n",
    "<br><br>- На валидационных данных показатель accuracy лучшей модели был 0.69, на тестировочных – 0.70\n",
    "<br><br>- Пороговое значение не пройдено, модель нельзя применять для предсказаний</div>"
   ]
  }
 ],
 "metadata": {
  "ExecuteTimeLog": [
   {
    "duration": 56,
    "start_time": "2022-05-31T08:52:52.931Z"
   },
   {
    "duration": 1164,
    "start_time": "2022-05-31T08:52:56.602Z"
   },
   {
    "duration": 71,
    "start_time": "2022-05-31T08:52:57.768Z"
   },
   {
    "duration": 0,
    "start_time": "2022-05-31T08:52:57.841Z"
   },
   {
    "duration": 0,
    "start_time": "2022-05-31T08:52:57.842Z"
   },
   {
    "duration": 0,
    "start_time": "2022-05-31T08:52:57.844Z"
   },
   {
    "duration": 0,
    "start_time": "2022-05-31T08:52:57.851Z"
   },
   {
    "duration": 0,
    "start_time": "2022-05-31T08:52:57.852Z"
   },
   {
    "duration": 0,
    "start_time": "2022-05-31T08:52:57.854Z"
   },
   {
    "duration": 0,
    "start_time": "2022-05-31T08:52:57.856Z"
   },
   {
    "duration": 0,
    "start_time": "2022-05-31T08:52:57.857Z"
   },
   {
    "duration": 0,
    "start_time": "2022-05-31T08:52:57.858Z"
   },
   {
    "duration": 0,
    "start_time": "2022-05-31T08:52:57.860Z"
   },
   {
    "duration": 0,
    "start_time": "2022-05-31T08:52:57.861Z"
   },
   {
    "duration": 0,
    "start_time": "2022-05-31T08:52:57.862Z"
   },
   {
    "duration": 0,
    "start_time": "2022-05-31T08:52:57.864Z"
   },
   {
    "duration": 0,
    "start_time": "2022-05-31T08:52:57.865Z"
   },
   {
    "duration": 0,
    "start_time": "2022-05-31T08:52:57.866Z"
   },
   {
    "duration": 0,
    "start_time": "2022-05-31T08:52:57.868Z"
   },
   {
    "duration": 0,
    "start_time": "2022-05-31T08:52:57.869Z"
   },
   {
    "duration": 0,
    "start_time": "2022-05-31T08:52:57.871Z"
   },
   {
    "duration": 0,
    "start_time": "2022-05-31T08:52:57.873Z"
   },
   {
    "duration": 0,
    "start_time": "2022-05-31T08:52:57.874Z"
   },
   {
    "duration": 0,
    "start_time": "2022-05-31T08:52:57.875Z"
   },
   {
    "duration": 0,
    "start_time": "2022-05-31T08:52:57.876Z"
   },
   {
    "duration": 0,
    "start_time": "2022-05-31T08:52:57.878Z"
   },
   {
    "duration": 0,
    "start_time": "2022-05-31T08:52:57.879Z"
   },
   {
    "duration": 0,
    "start_time": "2022-05-31T08:52:57.880Z"
   },
   {
    "duration": 0,
    "start_time": "2022-05-31T08:52:57.882Z"
   },
   {
    "duration": 153,
    "start_time": "2022-05-31T08:54:01.201Z"
   },
   {
    "duration": 3,
    "start_time": "2022-05-31T08:54:05.116Z"
   },
   {
    "duration": 55,
    "start_time": "2022-05-31T08:54:05.121Z"
   },
   {
    "duration": 12,
    "start_time": "2022-05-31T08:54:05.179Z"
   },
   {
    "duration": 0,
    "start_time": "2022-05-31T08:54:05.194Z"
   },
   {
    "duration": 0,
    "start_time": "2022-05-31T08:54:05.195Z"
   },
   {
    "duration": 0,
    "start_time": "2022-05-31T08:54:05.196Z"
   },
   {
    "duration": 0,
    "start_time": "2022-05-31T08:54:05.197Z"
   },
   {
    "duration": 0,
    "start_time": "2022-05-31T08:54:05.200Z"
   },
   {
    "duration": 0,
    "start_time": "2022-05-31T08:54:05.201Z"
   },
   {
    "duration": 0,
    "start_time": "2022-05-31T08:54:05.204Z"
   },
   {
    "duration": 0,
    "start_time": "2022-05-31T08:54:05.205Z"
   },
   {
    "duration": 0,
    "start_time": "2022-05-31T08:54:05.206Z"
   },
   {
    "duration": 0,
    "start_time": "2022-05-31T08:54:05.208Z"
   },
   {
    "duration": 0,
    "start_time": "2022-05-31T08:54:05.209Z"
   },
   {
    "duration": 0,
    "start_time": "2022-05-31T08:54:05.210Z"
   },
   {
    "duration": 1,
    "start_time": "2022-05-31T08:54:05.211Z"
   },
   {
    "duration": 45,
    "start_time": "2022-05-31T08:54:05.214Z"
   },
   {
    "duration": 0,
    "start_time": "2022-05-31T08:54:05.261Z"
   },
   {
    "duration": 0,
    "start_time": "2022-05-31T08:54:05.263Z"
   },
   {
    "duration": 0,
    "start_time": "2022-05-31T08:54:05.265Z"
   },
   {
    "duration": 0,
    "start_time": "2022-05-31T08:54:05.267Z"
   },
   {
    "duration": 0,
    "start_time": "2022-05-31T08:54:05.269Z"
   },
   {
    "duration": 0,
    "start_time": "2022-05-31T08:54:05.270Z"
   },
   {
    "duration": 0,
    "start_time": "2022-05-31T08:54:05.272Z"
   },
   {
    "duration": 0,
    "start_time": "2022-05-31T08:54:05.273Z"
   },
   {
    "duration": 0,
    "start_time": "2022-05-31T08:54:05.275Z"
   },
   {
    "duration": 0,
    "start_time": "2022-05-31T08:54:05.277Z"
   },
   {
    "duration": 0,
    "start_time": "2022-05-31T08:54:05.278Z"
   },
   {
    "duration": 1073,
    "start_time": "2022-05-31T08:54:28.945Z"
   },
   {
    "duration": 35,
    "start_time": "2022-05-31T08:54:30.021Z"
   },
   {
    "duration": 25,
    "start_time": "2022-05-31T08:54:30.058Z"
   },
   {
    "duration": 5,
    "start_time": "2022-05-31T08:54:30.085Z"
   },
   {
    "duration": 18,
    "start_time": "2022-05-31T08:54:30.092Z"
   },
   {
    "duration": 48,
    "start_time": "2022-05-31T08:54:30.112Z"
   },
   {
    "duration": 9,
    "start_time": "2022-05-31T08:54:30.163Z"
   },
   {
    "duration": 14,
    "start_time": "2022-05-31T08:54:30.177Z"
   },
   {
    "duration": 29,
    "start_time": "2022-05-31T08:54:30.193Z"
   },
   {
    "duration": 1457,
    "start_time": "2022-05-31T08:54:30.225Z"
   },
   {
    "duration": 3,
    "start_time": "2022-05-31T08:54:31.684Z"
   },
   {
    "duration": 8,
    "start_time": "2022-05-31T08:54:31.689Z"
   },
   {
    "duration": 15,
    "start_time": "2022-05-31T08:54:31.699Z"
   },
   {
    "duration": 19,
    "start_time": "2022-05-31T08:54:31.715Z"
   },
   {
    "duration": 8,
    "start_time": "2022-05-31T08:54:31.736Z"
   },
   {
    "duration": 12,
    "start_time": "2022-05-31T08:54:31.745Z"
   },
   {
    "duration": 38675,
    "start_time": "2022-05-31T08:54:31.761Z"
   },
   {
    "duration": 3,
    "start_time": "2022-05-31T08:55:10.438Z"
   },
   {
    "duration": 13,
    "start_time": "2022-05-31T08:55:10.443Z"
   },
   {
    "duration": 19,
    "start_time": "2022-05-31T08:55:10.458Z"
   },
   {
    "duration": 7,
    "start_time": "2022-05-31T08:55:10.478Z"
   },
   {
    "duration": 5,
    "start_time": "2022-05-31T08:55:10.487Z"
   },
   {
    "duration": 16,
    "start_time": "2022-05-31T08:55:10.493Z"
   },
   {
    "duration": 42,
    "start_time": "2022-05-31T08:55:10.511Z"
   },
   {
    "duration": 4,
    "start_time": "2022-05-31T08:55:10.555Z"
   },
   {
    "duration": 8,
    "start_time": "2022-05-31T08:55:10.561Z"
   },
   {
    "duration": 10,
    "start_time": "2022-05-31T08:55:10.570Z"
   },
   {
    "duration": 13,
    "start_time": "2022-05-31T08:55:10.584Z"
   },
   {
    "duration": 18,
    "start_time": "2022-05-31T08:55:10.599Z"
   },
   {
    "duration": 1309,
    "start_time": "2022-06-01T22:22:15.777Z"
   },
   {
    "duration": 107,
    "start_time": "2022-06-01T22:22:17.088Z"
   },
   {
    "duration": 23,
    "start_time": "2022-06-01T22:22:17.197Z"
   },
   {
    "duration": 3,
    "start_time": "2022-06-01T22:22:17.223Z"
   },
   {
    "duration": 10,
    "start_time": "2022-06-01T22:22:17.228Z"
   },
   {
    "duration": 20,
    "start_time": "2022-06-01T22:22:17.239Z"
   },
   {
    "duration": 15,
    "start_time": "2022-06-01T22:22:17.260Z"
   },
   {
    "duration": 5,
    "start_time": "2022-06-01T22:22:17.277Z"
   },
   {
    "duration": 23,
    "start_time": "2022-06-01T22:22:17.285Z"
   },
   {
    "duration": 1312,
    "start_time": "2022-06-01T22:22:17.311Z"
   },
   {
    "duration": 4,
    "start_time": "2022-06-01T22:22:18.625Z"
   },
   {
    "duration": 5,
    "start_time": "2022-06-01T22:22:18.630Z"
   },
   {
    "duration": 6,
    "start_time": "2022-06-01T22:22:18.636Z"
   },
   {
    "duration": 4,
    "start_time": "2022-06-01T22:22:18.643Z"
   },
   {
    "duration": 31304,
    "start_time": "2022-06-01T22:22:18.648Z"
   },
   {
    "duration": 3,
    "start_time": "2022-06-01T22:22:49.953Z"
   },
   {
    "duration": 5,
    "start_time": "2022-06-01T22:22:49.958Z"
   },
   {
    "duration": 12,
    "start_time": "2022-06-01T22:22:49.964Z"
   },
   {
    "duration": 8,
    "start_time": "2022-06-01T22:22:49.977Z"
   },
   {
    "duration": 15,
    "start_time": "2022-06-01T22:22:49.986Z"
   },
   {
    "duration": 3,
    "start_time": "2022-06-01T22:22:50.003Z"
   },
   {
    "duration": 7,
    "start_time": "2022-06-01T22:27:41.546Z"
   },
   {
    "duration": 5,
    "start_time": "2022-06-01T22:27:50.766Z"
   },
   {
    "duration": 2,
    "start_time": "2022-06-01T22:33:06.472Z"
   },
   {
    "duration": 34,
    "start_time": "2022-06-01T22:33:32.582Z"
   },
   {
    "duration": 5,
    "start_time": "2022-06-01T22:33:50.912Z"
   },
   {
    "duration": 4,
    "start_time": "2022-06-01T22:33:55.480Z"
   },
   {
    "duration": 1294,
    "start_time": "2022-06-01T22:45:07.175Z"
   },
   {
    "duration": 31668,
    "start_time": "2022-06-01T22:47:45.376Z"
   },
   {
    "duration": 15,
    "start_time": "2022-06-01T22:48:33.915Z"
   },
   {
    "duration": 854,
    "start_time": "2022-06-01T22:49:09.134Z"
   },
   {
    "duration": 29,
    "start_time": "2022-06-01T22:49:09.990Z"
   },
   {
    "duration": 14,
    "start_time": "2022-06-01T22:49:10.020Z"
   },
   {
    "duration": 4,
    "start_time": "2022-06-01T22:49:10.035Z"
   },
   {
    "duration": 11,
    "start_time": "2022-06-01T22:49:10.041Z"
   },
   {
    "duration": 24,
    "start_time": "2022-06-01T22:49:10.054Z"
   },
   {
    "duration": 5,
    "start_time": "2022-06-01T22:49:10.079Z"
   },
   {
    "duration": 6,
    "start_time": "2022-06-01T22:49:10.086Z"
   },
   {
    "duration": 10,
    "start_time": "2022-06-01T22:49:10.093Z"
   },
   {
    "duration": 1243,
    "start_time": "2022-06-01T22:49:10.104Z"
   },
   {
    "duration": 3,
    "start_time": "2022-06-01T22:49:11.349Z"
   },
   {
    "duration": 7,
    "start_time": "2022-06-01T22:49:11.354Z"
   },
   {
    "duration": 3,
    "start_time": "2022-06-01T22:49:11.362Z"
   },
   {
    "duration": 2,
    "start_time": "2022-06-01T22:49:11.376Z"
   },
   {
    "duration": 31338,
    "start_time": "2022-06-01T22:49:11.379Z"
   },
   {
    "duration": 4,
    "start_time": "2022-06-01T22:49:42.719Z"
   },
   {
    "duration": 7,
    "start_time": "2022-06-01T22:49:42.724Z"
   },
   {
    "duration": 5,
    "start_time": "2022-06-01T22:49:42.732Z"
   },
   {
    "duration": 5,
    "start_time": "2022-06-01T22:49:42.738Z"
   },
   {
    "duration": 37,
    "start_time": "2022-06-01T22:49:42.744Z"
   },
   {
    "duration": 3,
    "start_time": "2022-06-01T22:49:42.783Z"
   },
   {
    "duration": 4,
    "start_time": "2022-06-01T22:49:42.787Z"
   },
   {
    "duration": 8,
    "start_time": "2022-06-01T22:49:42.792Z"
   },
   {
    "duration": 6,
    "start_time": "2022-06-01T22:49:42.802Z"
   },
   {
    "duration": 9,
    "start_time": "2022-06-01T22:49:42.809Z"
   },
   {
    "duration": 35,
    "start_time": "2022-06-01T22:49:42.819Z"
   },
   {
    "duration": 20,
    "start_time": "2022-06-01T22:49:42.855Z"
   },
   {
    "duration": 4,
    "start_time": "2022-06-01T22:49:42.876Z"
   },
   {
    "duration": 1033,
    "start_time": "2022-06-02T10:13:25.111Z"
   },
   {
    "duration": 41,
    "start_time": "2022-06-02T10:13:26.146Z"
   },
   {
    "duration": 15,
    "start_time": "2022-06-02T10:13:26.190Z"
   },
   {
    "duration": 4,
    "start_time": "2022-06-02T10:13:26.207Z"
   },
   {
    "duration": 20,
    "start_time": "2022-06-02T10:13:26.212Z"
   },
   {
    "duration": 28,
    "start_time": "2022-06-02T10:13:26.234Z"
   },
   {
    "duration": 6,
    "start_time": "2022-06-02T10:13:26.265Z"
   },
   {
    "duration": 10,
    "start_time": "2022-06-02T10:13:26.272Z"
   },
   {
    "duration": 11,
    "start_time": "2022-06-02T10:13:26.283Z"
   },
   {
    "duration": 1470,
    "start_time": "2022-06-02T10:13:26.296Z"
   },
   {
    "duration": 3,
    "start_time": "2022-06-02T10:13:27.768Z"
   },
   {
    "duration": 8,
    "start_time": "2022-06-02T10:13:27.773Z"
   },
   {
    "duration": 8,
    "start_time": "2022-06-02T10:13:27.782Z"
   },
   {
    "duration": 5,
    "start_time": "2022-06-02T10:13:27.791Z"
   },
   {
    "duration": 37482,
    "start_time": "2022-06-02T10:13:27.798Z"
   },
   {
    "duration": 4,
    "start_time": "2022-06-02T10:14:05.282Z"
   },
   {
    "duration": 10,
    "start_time": "2022-06-02T10:14:05.288Z"
   },
   {
    "duration": 8,
    "start_time": "2022-06-02T10:14:05.300Z"
   },
   {
    "duration": 24,
    "start_time": "2022-06-02T10:14:05.309Z"
   },
   {
    "duration": 28,
    "start_time": "2022-06-02T10:14:05.338Z"
   },
   {
    "duration": 3,
    "start_time": "2022-06-02T10:14:05.368Z"
   },
   {
    "duration": 6,
    "start_time": "2022-06-02T10:14:05.373Z"
   },
   {
    "duration": 16,
    "start_time": "2022-06-02T10:14:05.381Z"
   },
   {
    "duration": 10,
    "start_time": "2022-06-02T10:14:05.399Z"
   },
   {
    "duration": 9,
    "start_time": "2022-06-02T10:14:05.411Z"
   },
   {
    "duration": 47,
    "start_time": "2022-06-02T10:14:05.422Z"
   },
   {
    "duration": 8,
    "start_time": "2022-06-02T10:14:05.471Z"
   },
   {
    "duration": 7,
    "start_time": "2022-06-02T10:14:05.481Z"
   },
   {
    "duration": 4,
    "start_time": "2022-06-02T10:19:51.170Z"
   },
   {
    "duration": 127,
    "start_time": "2022-06-02T10:23:58.690Z"
   },
   {
    "duration": 20,
    "start_time": "2022-06-02T10:24:18.813Z"
   },
   {
    "duration": 54,
    "start_time": "2022-06-02T10:24:25.267Z"
   },
   {
    "duration": 6,
    "start_time": "2022-06-02T10:24:27.673Z"
   },
   {
    "duration": 6,
    "start_time": "2022-06-02T10:25:27.700Z"
   },
   {
    "duration": 7,
    "start_time": "2022-06-02T10:25:47.768Z"
   },
   {
    "duration": 6,
    "start_time": "2022-06-02T10:25:56.510Z"
   },
   {
    "duration": 20,
    "start_time": "2022-06-02T10:26:00.744Z"
   },
   {
    "duration": 5,
    "start_time": "2022-06-02T10:31:29.672Z"
   }
  ],
  "kernelspec": {
   "display_name": "Python 3",
   "language": "python",
   "name": "python3"
  },
  "language_info": {
   "codemirror_mode": {
    "name": "ipython",
    "version": 3
   },
   "file_extension": ".py",
   "mimetype": "text/x-python",
   "name": "python",
   "nbconvert_exporter": "python",
   "pygments_lexer": "ipython3",
   "version": "3.8.8"
  },
  "toc": {
   "base_numbering": 1,
   "nav_menu": {},
   "number_sections": true,
   "sideBar": true,
   "skip_h1_title": true,
   "title_cell": "Table of Contents",
   "title_sidebar": "Contents",
   "toc_cell": false,
   "toc_position": {},
   "toc_section_display": true,
   "toc_window_display": true
  }
 },
 "nbformat": 4,
 "nbformat_minor": 5
}
