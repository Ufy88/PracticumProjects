{
 "cells": [
  {
   "cell_type": "markdown",
   "metadata": {},
   "source": [
    "# 1.   Проект для «Викишоп»"
   ]
  },
  {
   "cell_type": "markdown",
   "metadata": {},
   "source": [
    "<div style=\"background-color: #fff0e0; padding: 10px; font-family: monospace; font-size: 15px\">\n",
    "Интернет-магазин «Викишоп» запускает новый сервис. Теперь пользователи могут редактировать и дополнять описания товаров, как в вики-сообществах. То есть клиенты предлагают свои правки и комментируют изменения других. Магазину нужен инструмент, который будет искать токсичные комментарии и отправлять их на модерацию. \n",
    "<br><br>Необходимо обучить модель классифицировать комментарии на позитивные и негативные. В вашем распоряжении набор данных с разметкой о токсичности правок.\n",
    "<br><br>\n",
    "Столбец *text* в нём содержит текст комментария, а *toxic* — целевой признак.</div>"
   ]
  },
  {
   "cell_type": "markdown",
   "metadata": {},
   "source": [
    "## 1.1.   Подготовка"
   ]
  },
  {
   "cell_type": "markdown",
   "metadata": {},
   "source": [
    "### 1.1.1.   Импорты библиотек"
   ]
  },
  {
   "cell_type": "code",
   "execution_count": 1,
   "metadata": {},
   "outputs": [
    {
     "name": "stderr",
     "output_type": "stream",
     "text": [
      "[nltk_data] Downloading package wordnet to /home/jovyan/nltk_data...\n",
      "[nltk_data]   Package wordnet is already up-to-date!\n",
      "[nltk_data] Downloading package stopwords to /home/jovyan/nltk_data...\n",
      "[nltk_data]   Package stopwords is already up-to-date!\n"
     ]
    },
    {
     "data": {
      "text/plain": [
       "True"
      ]
     },
     "execution_count": 1,
     "metadata": {},
     "output_type": "execute_result"
    }
   ],
   "source": [
    "import pandas as pd\n",
    "import numpy as np\n",
    "import re\n",
    "from tqdm import tqdm\n",
    "\n",
    "from sklearn.feature_extraction.text import TfidfVectorizer\n",
    "from sklearn.feature_extraction.text import TfidfTransformer\n",
    "from sklearn.feature_extraction.text import CountVectorizer\n",
    "from sklearn.model_selection import train_test_split\n",
    "from sklearn.metrics import f1_score\n",
    "\n",
    "from sklearn.tree import DecisionTreeClassifier\n",
    "from sklearn.ensemble import RandomForestClassifier\n",
    "from sklearn.linear_model import LogisticRegression\n",
    "from catboost import CatBoostClassifier\n",
    "from xgboost import XGBClassifier\n",
    "from sklearn.pipeline import Pipeline\n",
    "\n",
    "import spacy\n",
    "from nltk.stem.wordnet import WordNetLemmatizer\n",
    "from nltk.corpus import stopwords\n",
    "import nltk\n",
    "nltk.download('wordnet')\n",
    "nltk.download('stopwords')"
   ]
  },
  {
   "cell_type": "markdown",
   "metadata": {},
   "source": [
    "### 1.1.2.   Изучение данных"
   ]
  },
  {
   "cell_type": "code",
   "execution_count": 2,
   "metadata": {},
   "outputs": [],
   "source": [
    "data = pd.read_csv('/datasets/toxic_comments.csv')"
   ]
  },
  {
   "cell_type": "code",
   "execution_count": 3,
   "metadata": {},
   "outputs": [
    {
     "data": {
      "text/plain": [
       "(159571, 2)"
      ]
     },
     "execution_count": 3,
     "metadata": {},
     "output_type": "execute_result"
    }
   ],
   "source": [
    "data.shape"
   ]
  },
  {
   "cell_type": "code",
   "execution_count": 4,
   "metadata": {},
   "outputs": [
    {
     "data": {
      "text/plain": [
       "0    143346\n",
       "1     16225\n",
       "Name: toxic, dtype: int64"
      ]
     },
     "execution_count": 4,
     "metadata": {},
     "output_type": "execute_result"
    }
   ],
   "source": [
    "data['toxic'].value_counts()"
   ]
  },
  {
   "cell_type": "markdown",
   "metadata": {},
   "source": [
    "### 1.1.3.   Подготовка данных"
   ]
  },
  {
   "cell_type": "markdown",
   "metadata": {},
   "source": [
    "#### 1.1.3.1.   Срез данных"
   ]
  },
  {
   "cell_type": "markdown",
   "metadata": {},
   "source": [
    "#### 1.1.3.2.   Очистка текста"
   ]
  },
  {
   "cell_type": "markdown",
   "metadata": {},
   "source": [
    "<div style=\"background-color: #fff0e0; padding: 10px; font-family: monospace; font-size: 15px\">\n",
    "Создадим функции очистки текста – регулярные выражения и лемматизация</div>"
   ]
  },
  {
   "cell_type": "code",
   "execution_count": 6,
   "metadata": {},
   "outputs": [],
   "source": [
    "def clear_text(row):\n",
    "    return ' '.join(re.sub(r'[^a-zA-Z ]', ' ', row).split())"
   ]
  },
  {
   "cell_type": "code",
   "execution_count": 7,
   "metadata": {},
   "outputs": [],
   "source": [
    "def lemmatize_text(row):\n",
    "    lm = WordNetLemmatizer()\n",
    "    return ' '.join([lm.lemmatize(i) for i in nltk.word_tokenize(re.sub(r'[^a-zA-Z ]', ' ', row.lower()))])"
   ]
  },
  {
   "cell_type": "markdown",
   "metadata": {},
   "source": [
    "<div style=\"background-color: #fff0e0; padding: 10px; font-family: monospace; font-size: 15px\">\n",
    "Закачаем английский вариант лемматизации</div>"
   ]
  },
  {
   "cell_type": "code",
   "execution_count": 8,
   "metadata": {},
   "outputs": [],
   "source": [
    "nlp = spacy.load('en_core_web_sm')"
   ]
  },
  {
   "cell_type": "markdown",
   "metadata": {},
   "source": [
    "<div style=\"background-color: #fff0e0; padding: 10px; font-family: monospace; font-size: 15px\">\n",
    "И применим все к тексту</div>"
   ]
  },
  {
   "cell_type": "code",
   "execution_count": 9,
   "metadata": {},
   "outputs": [],
   "source": [
    "data['clear_text'] = data['text'].apply(clear_text).apply(lemmatize_text)"
   ]
  },
  {
   "cell_type": "code",
   "execution_count": 10,
   "metadata": {},
   "outputs": [
    {
     "data": {
      "text/html": [
       "<div>\n",
       "<style scoped>\n",
       "    .dataframe tbody tr th:only-of-type {\n",
       "        vertical-align: middle;\n",
       "    }\n",
       "\n",
       "    .dataframe tbody tr th {\n",
       "        vertical-align: top;\n",
       "    }\n",
       "\n",
       "    .dataframe thead th {\n",
       "        text-align: right;\n",
       "    }\n",
       "</style>\n",
       "<table border=\"1\" class=\"dataframe\">\n",
       "  <thead>\n",
       "    <tr style=\"text-align: right;\">\n",
       "      <th></th>\n",
       "      <th>text</th>\n",
       "      <th>toxic</th>\n",
       "      <th>clear_text</th>\n",
       "    </tr>\n",
       "  </thead>\n",
       "  <tbody>\n",
       "    <tr>\n",
       "      <th>0</th>\n",
       "      <td>Explanation\\nWhy the edits made under my usern...</td>\n",
       "      <td>0</td>\n",
       "      <td>explanation why the edits made under my userna...</td>\n",
       "    </tr>\n",
       "    <tr>\n",
       "      <th>1</th>\n",
       "      <td>D'aww! He matches this background colour I'm s...</td>\n",
       "      <td>0</td>\n",
       "      <td>d aww he match this background colour i m seem...</td>\n",
       "    </tr>\n",
       "    <tr>\n",
       "      <th>2</th>\n",
       "      <td>Hey man, I'm really not trying to edit war. It...</td>\n",
       "      <td>0</td>\n",
       "      <td>hey man i m really not trying to edit war it s...</td>\n",
       "    </tr>\n",
       "    <tr>\n",
       "      <th>3</th>\n",
       "      <td>\"\\nMore\\nI can't make any real suggestions on ...</td>\n",
       "      <td>0</td>\n",
       "      <td>more i can t make any real suggestion on impro...</td>\n",
       "    </tr>\n",
       "    <tr>\n",
       "      <th>4</th>\n",
       "      <td>You, sir, are my hero. Any chance you remember...</td>\n",
       "      <td>0</td>\n",
       "      <td>you sir are my hero any chance you remember wh...</td>\n",
       "    </tr>\n",
       "  </tbody>\n",
       "</table>\n",
       "</div>"
      ],
      "text/plain": [
       "                                                text  toxic  \\\n",
       "0  Explanation\\nWhy the edits made under my usern...      0   \n",
       "1  D'aww! He matches this background colour I'm s...      0   \n",
       "2  Hey man, I'm really not trying to edit war. It...      0   \n",
       "3  \"\\nMore\\nI can't make any real suggestions on ...      0   \n",
       "4  You, sir, are my hero. Any chance you remember...      0   \n",
       "\n",
       "                                          clear_text  \n",
       "0  explanation why the edits made under my userna...  \n",
       "1  d aww he match this background colour i m seem...  \n",
       "2  hey man i m really not trying to edit war it s...  \n",
       "3  more i can t make any real suggestion on impro...  \n",
       "4  you sir are my hero any chance you remember wh...  "
      ]
     },
     "execution_count": 10,
     "metadata": {},
     "output_type": "execute_result"
    }
   ],
   "source": [
    "data.head()"
   ]
  },
  {
   "cell_type": "markdown",
   "metadata": {},
   "source": [
    "<div style=\"background-color: #fff0e0; padding: 10px; font-family: monospace; font-size: 15px\">\n",
    "Проверка на адекватность – нет ли строк с бесконечной пустотой</div>"
   ]
  },
  {
   "cell_type": "code",
   "execution_count": 11,
   "metadata": {},
   "outputs": [
    {
     "data": {
      "text/html": [
       "<div>\n",
       "<style scoped>\n",
       "    .dataframe tbody tr th:only-of-type {\n",
       "        vertical-align: middle;\n",
       "    }\n",
       "\n",
       "    .dataframe tbody tr th {\n",
       "        vertical-align: top;\n",
       "    }\n",
       "\n",
       "    .dataframe thead th {\n",
       "        text-align: right;\n",
       "    }\n",
       "</style>\n",
       "<table border=\"1\" class=\"dataframe\">\n",
       "  <thead>\n",
       "    <tr style=\"text-align: right;\">\n",
       "      <th></th>\n",
       "      <th>text</th>\n",
       "      <th>toxic</th>\n",
       "      <th>clear_text</th>\n",
       "    </tr>\n",
       "  </thead>\n",
       "  <tbody>\n",
       "    <tr>\n",
       "      <th>4482</th>\n",
       "      <td>1993\\n\\n1994\\n\\n1995\\n\\n1996\\n\\n1997\\n\\n1998\\n...</td>\n",
       "      <td>0</td>\n",
       "      <td></td>\n",
       "    </tr>\n",
       "    <tr>\n",
       "      <th>6300</th>\n",
       "      <td>193.61.111.53  15:00</td>\n",
       "      <td>0</td>\n",
       "      <td></td>\n",
       "    </tr>\n",
       "    <tr>\n",
       "      <th>17311</th>\n",
       "      <td>~ \\n\\n68.193.147.157</td>\n",
       "      <td>0</td>\n",
       "      <td></td>\n",
       "    </tr>\n",
       "    <tr>\n",
       "      <th>52442</th>\n",
       "      <td>14:53,</td>\n",
       "      <td>0</td>\n",
       "      <td></td>\n",
       "    </tr>\n",
       "    <tr>\n",
       "      <th>53787</th>\n",
       "      <td>92.24.199.233|92.24.199.233]]</td>\n",
       "      <td>0</td>\n",
       "      <td></td>\n",
       "    </tr>\n",
       "    <tr>\n",
       "      <th>61758</th>\n",
       "      <td>\"\\n\\n 199.209.144.211  \"</td>\n",
       "      <td>0</td>\n",
       "      <td></td>\n",
       "    </tr>\n",
       "    <tr>\n",
       "      <th>82681</th>\n",
       "      <td>\"\\n '''''' 2010/2013 \"</td>\n",
       "      <td>0</td>\n",
       "      <td></td>\n",
       "    </tr>\n",
       "  </tbody>\n",
       "</table>\n",
       "</div>"
      ],
      "text/plain": [
       "                                                    text  toxic clear_text\n",
       "4482   1993\\n\\n1994\\n\\n1995\\n\\n1996\\n\\n1997\\n\\n1998\\n...      0           \n",
       "6300                                193.61.111.53  15:00      0           \n",
       "17311                               ~ \\n\\n68.193.147.157      0           \n",
       "52442                                             14:53,      0           \n",
       "53787                      92.24.199.233|92.24.199.233]]      0           \n",
       "61758                           \"\\n\\n 199.209.144.211  \"      0           \n",
       "82681                             \"\\n '''''' 2010/2013 \"      0           "
      ]
     },
     "execution_count": 11,
     "metadata": {},
     "output_type": "execute_result"
    }
   ],
   "source": [
    "data[data.clear_text == '']"
   ]
  },
  {
   "cell_type": "markdown",
   "metadata": {},
   "source": [
    "<div style=\"background-color: #fff0e0; padding: 10px; font-family: monospace; font-size: 15px\">\n",
    "Осталось некоторое количество пустых строк. Они нам могут помешать, так что стоит их убрать</div>"
   ]
  },
  {
   "cell_type": "code",
   "execution_count": 12,
   "metadata": {},
   "outputs": [],
   "source": [
    "data = data[data.clear_text != '']"
   ]
  },
  {
   "cell_type": "code",
   "execution_count": 13,
   "metadata": {},
   "outputs": [
    {
     "data": {
      "text/html": [
       "<div>\n",
       "<style scoped>\n",
       "    .dataframe tbody tr th:only-of-type {\n",
       "        vertical-align: middle;\n",
       "    }\n",
       "\n",
       "    .dataframe tbody tr th {\n",
       "        vertical-align: top;\n",
       "    }\n",
       "\n",
       "    .dataframe thead th {\n",
       "        text-align: right;\n",
       "    }\n",
       "</style>\n",
       "<table border=\"1\" class=\"dataframe\">\n",
       "  <thead>\n",
       "    <tr style=\"text-align: right;\">\n",
       "      <th></th>\n",
       "      <th>text</th>\n",
       "      <th>toxic</th>\n",
       "      <th>clear_text</th>\n",
       "    </tr>\n",
       "  </thead>\n",
       "  <tbody>\n",
       "  </tbody>\n",
       "</table>\n",
       "</div>"
      ],
      "text/plain": [
       "Empty DataFrame\n",
       "Columns: [text, toxic, clear_text]\n",
       "Index: []"
      ]
     },
     "execution_count": 13,
     "metadata": {},
     "output_type": "execute_result"
    }
   ],
   "source": [
    "data[data.clear_text == '']"
   ]
  },
  {
   "cell_type": "markdown",
   "metadata": {},
   "source": [
    "<div style=\"background-color: #fff0e0; padding: 10px; font-family: monospace; font-size: 15px\">\n",
    "Без пустых выглядит культурнее</div>\n",
    "\n",
    "<div style=\"background-color: #fff0e0; padding: 10px; font-family: monospace; font-size: 15px\">\n",
    "Текст готов, можно создавать признаки</div>"
   ]
  },
  {
   "cell_type": "markdown",
   "metadata": {},
   "source": [
    "### 1.1.4.   Создание признаков"
   ]
  },
  {
   "cell_type": "code",
   "execution_count": 14,
   "metadata": {},
   "outputs": [],
   "source": [
    "my_corpus = data.clear_text.values"
   ]
  },
  {
   "cell_type": "markdown",
   "metadata": {},
   "source": [
    "<div style=\"background-color: #fff0e0; padding: 10px; font-family: monospace; font-size: 15px\">\n",
    "Разделяем данные на тренировочную и валидационную выборки</div>"
   ]
  },
  {
   "cell_type": "markdown",
   "metadata": {},
   "source": [
    "#### 1.1.4.1.   Текстовый вариант признаков"
   ]
  },
  {
   "cell_type": "code",
   "execution_count": 15,
   "metadata": {},
   "outputs": [],
   "source": [
    "features_train, features_valid, target_train, target_valid = train_test_split(data['clear_text'], data['toxic'], \n",
    "                                                                              random_state=12345, \n",
    "                                                                              # stratify=data['toxic'],\n",
    "                                                                              test_size=0.2)"
   ]
  },
  {
   "cell_type": "markdown",
   "metadata": {},
   "source": [
    "<div style=\"background-color: #fff0e0; padding: 10px; font-family: monospace; font-size: 15px\">\n",
    "Закачиваем стоп-слова</div>"
   ]
  },
  {
   "cell_type": "code",
   "execution_count": 16,
   "metadata": {},
   "outputs": [],
   "source": [
    "stop_words = set(stopwords.words('english')) "
   ]
  },
  {
   "cell_type": "markdown",
   "metadata": {},
   "source": [
    "#### 1.1.4.2.   TF-IDF представление признаков"
   ]
  },
  {
   "cell_type": "markdown",
   "metadata": {},
   "source": [
    "<div style=\"background-color: #fff0e0; padding: 10px; font-family: monospace; font-size: 15px\">\n",
    "И создаем признаки на основе TF-IDF</div>"
   ]
  },
  {
   "cell_type": "code",
   "execution_count": 17,
   "metadata": {},
   "outputs": [],
   "source": [
    "count_tfidf = TfidfVectorizer(ngram_range=(1, 3), \n",
    "                              stop_words=stop_words)"
   ]
  },
  {
   "cell_type": "code",
   "execution_count": 18,
   "metadata": {},
   "outputs": [
    {
     "data": {
      "text/plain": [
       "TfidfVectorizer(ngram_range=(1, 3),\n",
       "                stop_words={'a', 'about', 'above', 'after', 'again', 'against',\n",
       "                            'ain', 'all', 'am', 'an', 'and', 'any', 'are',\n",
       "                            'aren', \"aren't\", 'as', 'at', 'be', 'because',\n",
       "                            'been', 'before', 'being', 'below', 'between',\n",
       "                            'both', 'but', 'by', 'can', 'couldn', \"couldn't\", ...})"
      ]
     },
     "execution_count": 18,
     "metadata": {},
     "output_type": "execute_result"
    }
   ],
   "source": [
    "count_tfidf.fit(features_train)"
   ]
  },
  {
   "cell_type": "code",
   "execution_count": 19,
   "metadata": {},
   "outputs": [],
   "source": [
    "tfidf_train = count_tfidf.transform(features_train)"
   ]
  },
  {
   "cell_type": "code",
   "execution_count": 20,
   "metadata": {},
   "outputs": [],
   "source": [
    "tfidf_valid = count_tfidf.transform(features_valid)"
   ]
  },
  {
   "cell_type": "markdown",
   "metadata": {},
   "source": [
    "#### 1.1.4.3.   Векторное представление признаков"
   ]
  },
  {
   "cell_type": "markdown",
   "metadata": {},
   "source": [
    "<div style=\"background-color: #fff0e0; padding: 10px; font-family: monospace; font-size: 15px\">\n",
    "Также, создаем признаки в виде вектора, для XGB</div>"
   ]
  },
  {
   "cell_type": "code",
   "execution_count": 21,
   "metadata": {},
   "outputs": [],
   "source": [
    "def return_nlp_vector(row):\n",
    "    return nlp(row).vector"
   ]
  },
  {
   "cell_type": "code",
   "execution_count": 22,
   "metadata": {},
   "outputs": [
    {
     "name": "stderr",
     "output_type": "stream",
     "text": [
      "100%|██████████| 127651/127651 [31:16<00:00, 68.01it/s]\n",
      "100%|██████████| 31913/31913 [07:43<00:00, 68.84it/s]\n"
     ]
    }
   ],
   "source": [
    "vector_train = []\n",
    "vector_valid = []\n",
    "\n",
    "for row in tqdm(features_train):\n",
    "    vector_train.append(nlp(row).vector)\n",
    "    \n",
    "for row in tqdm(features_valid):\n",
    "    vector_valid.append(nlp(row).vector)"
   ]
  },
  {
   "cell_type": "markdown",
   "metadata": {},
   "source": [
    "## 1.2.   Обучение"
   ]
  },
  {
   "cell_type": "markdown",
   "metadata": {},
   "source": [
    "### 1.2.1.   Decision Tree"
   ]
  },
  {
   "cell_type": "markdown",
   "metadata": {},
   "source": [
    "<div style=\"background-color: #fff0e0; padding: 10px; font-family: monospace; font-size: 15px\">\n",
    "Для начала обучим стандартное дерево решений</div>"
   ]
  },
  {
   "cell_type": "code",
   "execution_count": 23,
   "metadata": {},
   "outputs": [
    {
     "name": "stdout",
     "output_type": "stream",
     "text": [
      "0.6824013939489942\n",
      "CPU times: user 5min 39s, sys: 957 ms, total: 5min 40s\n",
      "Wall time: 5min 40s\n"
     ]
    }
   ],
   "source": [
    "%%time\n",
    "pipe = Pipeline([('vect', CountVectorizer()),\n",
    "                    ('tfidf', TfidfTransformer()),\n",
    "                    ('model', DecisionTreeClassifier(random_state=12345))])\n",
    "dtc_model = pipe.fit(features_train, target_train)\n",
    "\n",
    "predicted = dtc_model.predict(features_valid)\n",
    "f1 = f1_score(predicted, target_valid)\n",
    "print(f1)"
   ]
  },
  {
   "cell_type": "markdown",
   "metadata": {},
   "source": [
    "<div style=\"background-color: #fff0e0; padding: 10px; font-family: monospace; font-size: 15px\">\n",
    "Показатель уже хороший, но буквально чуть чуть не дотягивает до границы. Имеет смысл попробовать другую модель</div>"
   ]
  },
  {
   "cell_type": "markdown",
   "metadata": {},
   "source": [
    "### 1.2.2.   Random Forest"
   ]
  },
  {
   "cell_type": "markdown",
   "metadata": {},
   "source": [
    "<div style=\"background-color: #fff0e0; padding: 10px; font-family: monospace; font-size: 15px\">\n",
    "Возьмем RandoomForest и также запустим его со стандартными настройками – по опыту взаимодействия, показатели max_depth должны быть очень высокими, скорее всего даже четырехзначными, в то время как n_estimators при подборе гиперпараметров выдавал лучшие метрики на 3 деревьях</div>"
   ]
  },
  {
   "cell_type": "code",
   "execution_count": 24,
   "metadata": {},
   "outputs": [
    {
     "name": "stdout",
     "output_type": "stream",
     "text": [
      "0.5822079314040729\n",
      "CPU times: user 9min 24s, sys: 1.17 s, total: 9min 25s\n",
      "Wall time: 9min 25s\n"
     ]
    }
   ],
   "source": [
    "%%time\n",
    "pipe = Pipeline([('vect', CountVectorizer()),\n",
    "                    ('tfidf', TfidfTransformer()),\n",
    "                    ('model', RandomForestClassifier(random_state=12345))])\n",
    "rfc_model = pipe.fit(features_train, target_train)\n",
    "\n",
    "predicted = rfc_model.predict(features_valid)\n",
    "f1 = f1_score(predicted, target_valid)\n",
    "print(f1)"
   ]
  },
  {
   "cell_type": "markdown",
   "metadata": {},
   "source": [
    "<div style=\"background-color: #fff0e0; padding: 10px; font-family: monospace; font-size: 15px\">\n",
    "Показатель ниже, чем у Decision Tree</div>"
   ]
  },
  {
   "cell_type": "markdown",
   "metadata": {},
   "source": [
    "### 1.2.3.   Logistic Regression"
   ]
  },
  {
   "cell_type": "code",
   "execution_count": 25,
   "metadata": {},
   "outputs": [
    {
     "name": "stderr",
     "output_type": "stream",
     "text": [
      "/opt/conda/lib/python3.9/site-packages/sklearn/linear_model/_logistic.py:763: ConvergenceWarning: lbfgs failed to converge (status=1):\n",
      "STOP: TOTAL NO. of ITERATIONS REACHED LIMIT.\n",
      "\n",
      "Increase the number of iterations (max_iter) or scale the data as shown in:\n",
      "    https://scikit-learn.org/stable/modules/preprocessing.html\n",
      "Please also refer to the documentation for alternative solver options:\n",
      "    https://scikit-learn.org/stable/modules/linear_model.html#logistic-regression\n",
      "  n_iter_i = _check_optimize_result(\n"
     ]
    },
    {
     "name": "stdout",
     "output_type": "stream",
     "text": [
      "0.7521559805024373\n",
      "CPU times: user 33.8 s, sys: 28 s, total: 1min 1s\n",
      "Wall time: 1min 1s\n"
     ]
    }
   ],
   "source": [
    "%%time\n",
    "pipe = Pipeline([('vect', CountVectorizer()),\n",
    "                    ('tfidf', TfidfTransformer()),\n",
    "                    ('model', LogisticRegression())])\n",
    "lr_model = pipe.fit(features_train, target_train)\n",
    "\n",
    "predicted = lr_model.predict(features_valid)\n",
    "f1 = f1_score(predicted, target_valid)\n",
    "print(f1)"
   ]
  },
  {
   "cell_type": "markdown",
   "metadata": {},
   "source": [
    "<div style=\"background-color: #fff0e0; padding: 10px; font-family: monospace; font-size: 15px\">\n",
    "Нужный показатель метрики получен, но стоит проверить градиент</div>"
   ]
  },
  {
   "cell_type": "markdown",
   "metadata": {},
   "source": [
    "### 1.2.4.   XGBoost"
   ]
  },
  {
   "cell_type": "markdown",
   "metadata": {},
   "source": [
    "<div style=\"background-color: #fff0e0; padding: 10px; font-family: monospace; font-size: 15px\">\n",
    "И, также, применим чистый XGB</div>"
   ]
  },
  {
   "cell_type": "code",
   "execution_count": 26,
   "metadata": {},
   "outputs": [
    {
     "name": "stderr",
     "output_type": "stream",
     "text": [
      "/opt/conda/lib/python3.9/site-packages/xgboost/sklearn.py:1224: UserWarning: The use of label encoder in XGBClassifier is deprecated and will be removed in a future release. To remove this warning, do the following: 1) Pass option use_label_encoder=False when constructing XGBClassifier object; and 2) Encode your labels (y) as integers starting with 0, i.e. 0, 1, 2, ..., [num_class - 1].\n",
      "  warnings.warn(label_encoder_deprecation_msg, UserWarning)\n"
     ]
    },
    {
     "name": "stdout",
     "output_type": "stream",
     "text": [
      "[10:17:01] WARNING: ../src/learner.cc:1115: Starting in XGBoost 1.3.0, the default evaluation metric used with the objective 'binary:logistic' was changed from 'error' to 'logloss'. Explicitly set eval_metric if you'd like to restore the old behavior.\n",
      "0.37558896118465335\n",
      "CPU times: user 8min 15s, sys: 718 ms, total: 8min 16s\n",
      "Wall time: 8min 17s\n"
     ]
    }
   ],
   "source": [
    "%%time\n",
    "xgb_model = XGBClassifier()\n",
    "xgb_model.fit(pd.DataFrame(vector_train), target_train)\n",
    "\n",
    "predicted = xgb_model.predict(pd.DataFrame(vector_valid))\n",
    "f1 = f1_score(predicted, target_valid)\n",
    "print(f1)"
   ]
  },
  {
   "cell_type": "markdown",
   "metadata": {},
   "source": [
    "<div style=\"background-color: #fff0e0; padding: 10px; font-family: monospace; font-size: 15px\">\n",
    "Модель градиентного бустинга с данной задачей не справилась, ответы менее осмыслены, чем рандомные</div>"
   ]
  },
  {
   "cell_type": "markdown",
   "metadata": {},
   "source": [
    "## 1.3.   Выводы"
   ]
  },
  {
   "cell_type": "markdown",
   "metadata": {},
   "source": [
    "<div style=\"background-color: #fff0e0; padding: 10px; font-family: monospace; font-size: 15px\">\n",
    "Были исследованы классические модели машинного обучения с задачей классификации – DecisionTreeClassifier, RandomForestClassifier и LogisticRegression</div>\n",
    "\n",
    "<div style=\"background-color: #fff0e0; padding: 10px; font-family: monospace; font-size: 15px\">\n",
    "Также были взяты модели с градиентным бустингом – CatBoostClassifier и XGBClassifier</div>\n",
    "\n",
    "<div style=\"background-color: #fff0e0; padding: 10px; font-family: monospace; font-size: 15px\">\n",
    "Данное исследование показало, что лучше всех с данной задачей справляются пайплайны. Они и быстрее, и метрики качества у них намного более высокие</div>\n",
    "\n",
    "<div style=\"background-color: #fff0e0; padding: 10px; font-family: monospace; font-size: 15px\">\n",
    "Из всех проверенных моделей лучше всего справляется логистическая регрессия, рекомендуется к применению</div>"
   ]
  }
 ],
 "metadata": {
  "ExecuteTimeLog": [
   {
    "duration": 418,
    "start_time": "2022-07-17T14:22:47.076Z"
   },
   {
    "duration": 2943,
    "start_time": "2022-07-17T14:22:57.919Z"
   },
   {
    "duration": 11,
    "start_time": "2022-07-17T14:23:02.677Z"
   },
   {
    "duration": 573,
    "start_time": "2022-07-17T14:23:28.877Z"
   },
   {
    "duration": 4,
    "start_time": "2022-07-17T14:24:01.893Z"
   },
   {
    "duration": 709,
    "start_time": "2022-07-17T14:25:58.914Z"
   },
   {
    "duration": 3,
    "start_time": "2022-07-17T14:26:16.258Z"
   },
   {
    "duration": 5,
    "start_time": "2022-07-17T14:26:43.878Z"
   },
   {
    "duration": 6,
    "start_time": "2022-07-17T14:27:34.213Z"
   },
   {
    "duration": 5,
    "start_time": "2022-07-17T14:27:43.723Z"
   },
   {
    "duration": 7,
    "start_time": "2022-07-17T14:27:53.083Z"
   },
   {
    "duration": 5,
    "start_time": "2022-07-17T14:28:08.382Z"
   },
   {
    "duration": 50,
    "start_time": "2022-07-18T09:06:57.585Z"
   },
   {
    "duration": 1325,
    "start_time": "2022-07-18T09:07:03.383Z"
   },
   {
    "duration": 2402,
    "start_time": "2022-07-18T09:07:07.863Z"
   },
   {
    "duration": 12,
    "start_time": "2022-07-18T09:07:10.267Z"
   },
   {
    "duration": 286,
    "start_time": "2022-07-18T09:07:13.164Z"
   },
   {
    "duration": 95812,
    "start_time": "2022-07-18T09:07:14.386Z"
   },
   {
    "duration": 11,
    "start_time": "2022-07-18T09:09:32.355Z"
   },
   {
    "duration": 117134,
    "start_time": "2022-07-18T09:09:53.737Z"
   },
   {
    "duration": 9,
    "start_time": "2022-07-18T09:11:50.874Z"
   },
   {
    "duration": 3,
    "start_time": "2022-07-18T09:14:57.869Z"
   },
   {
    "duration": 3208,
    "start_time": "2022-07-18T09:15:16.055Z"
   },
   {
    "duration": 8,
    "start_time": "2022-07-18T09:15:34.841Z"
   },
   {
    "duration": 4,
    "start_time": "2022-07-18T09:15:54.154Z"
   },
   {
    "duration": 5,
    "start_time": "2022-07-18T09:17:35.238Z"
   },
   {
    "duration": 8,
    "start_time": "2022-07-18T09:17:57.851Z"
   },
   {
    "duration": 4,
    "start_time": "2022-07-18T09:19:02.638Z"
   },
   {
    "duration": 110,
    "start_time": "2022-07-18T09:19:15.442Z"
   },
   {
    "duration": 4,
    "start_time": "2022-07-18T09:19:23.281Z"
   },
   {
    "duration": 1518,
    "start_time": "2022-07-18T09:20:22.513Z"
   },
   {
    "duration": 9,
    "start_time": "2022-07-18T09:20:25.043Z"
   },
   {
    "duration": 5,
    "start_time": "2022-07-18T09:20:44.689Z"
   },
   {
    "duration": 64,
    "start_time": "2022-07-18T09:21:43.475Z"
   },
   {
    "duration": 16,
    "start_time": "2022-07-18T09:21:51.291Z"
   },
   {
    "duration": 4,
    "start_time": "2022-07-18T09:22:04.097Z"
   },
   {
    "duration": 3,
    "start_time": "2022-07-18T09:22:27.565Z"
   },
   {
    "duration": 6,
    "start_time": "2022-07-18T09:23:44.999Z"
   },
   {
    "duration": 810,
    "start_time": "2022-07-18T09:23:46.955Z"
   },
   {
    "duration": 6,
    "start_time": "2022-07-18T09:23:47.767Z"
   },
   {
    "duration": 3,
    "start_time": "2022-07-18T09:23:50.641Z"
   },
   {
    "duration": 1441,
    "start_time": "2022-07-18T09:23:54.692Z"
   },
   {
    "duration": 9,
    "start_time": "2022-07-18T09:23:57.432Z"
   },
   {
    "duration": 8,
    "start_time": "2022-07-18T09:24:04.006Z"
   },
   {
    "duration": 4,
    "start_time": "2022-07-18T09:24:04.861Z"
   },
   {
    "duration": 4,
    "start_time": "2022-07-18T09:27:12.274Z"
   },
   {
    "duration": 4,
    "start_time": "2022-07-18T09:27:27.566Z"
   },
   {
    "duration": 764,
    "start_time": "2022-07-18T09:27:38.245Z"
   },
   {
    "duration": 14,
    "start_time": "2022-07-18T09:27:39.011Z"
   },
   {
    "duration": 3,
    "start_time": "2022-07-18T09:27:41.798Z"
   },
   {
    "duration": 3,
    "start_time": "2022-07-18T09:27:47.942Z"
   },
   {
    "duration": 5,
    "start_time": "2022-07-18T09:27:52.513Z"
   },
   {
    "duration": 2,
    "start_time": "2022-07-18T09:29:24.248Z"
   },
   {
    "duration": 1305,
    "start_time": "2022-07-18T09:29:29.074Z"
   },
   {
    "duration": 9,
    "start_time": "2022-07-18T09:29:32.456Z"
   },
   {
    "duration": 10,
    "start_time": "2022-07-18T09:29:48.214Z"
   },
   {
    "duration": 3,
    "start_time": "2022-07-18T09:30:24.246Z"
   },
   {
    "duration": 2032,
    "start_time": "2022-07-18T09:30:24.817Z"
   },
   {
    "duration": 7,
    "start_time": "2022-07-18T09:30:26.851Z"
   },
   {
    "duration": 3,
    "start_time": "2022-07-18T09:30:31.936Z"
   },
   {
    "duration": 2032,
    "start_time": "2022-07-18T09:30:32.582Z"
   },
   {
    "duration": 11,
    "start_time": "2022-07-18T09:30:34.616Z"
   },
   {
    "duration": 3,
    "start_time": "2022-07-18T09:31:33.549Z"
   },
   {
    "duration": 7073,
    "start_time": "2022-07-18T09:31:52.613Z"
   },
   {
    "duration": 3,
    "start_time": "2022-07-18T09:32:27.716Z"
   },
   {
    "duration": 22012,
    "start_time": "2022-07-18T09:32:28.412Z"
   },
   {
    "duration": 3,
    "start_time": "2022-07-18T09:32:57.038Z"
   },
   {
    "duration": 22362,
    "start_time": "2022-07-18T09:32:57.623Z"
   },
   {
    "duration": 4,
    "start_time": "2022-07-18T09:34:11.991Z"
   },
   {
    "duration": 29,
    "start_time": "2022-07-18T09:35:40.393Z"
   },
   {
    "duration": 3,
    "start_time": "2022-07-18T09:35:48.234Z"
   },
   {
    "duration": 36,
    "start_time": "2022-07-18T09:36:03.133Z"
   },
   {
    "duration": 3,
    "start_time": "2022-07-18T09:36:04.209Z"
   },
   {
    "duration": 15488,
    "start_time": "2022-07-18T09:36:09.612Z"
   },
   {
    "duration": 8273,
    "start_time": "2022-07-18T09:36:42.829Z"
   },
   {
    "duration": 50,
    "start_time": "2022-07-18T09:37:28.322Z"
   },
   {
    "duration": 1406,
    "start_time": "2022-07-18T09:37:31.377Z"
   },
   {
    "duration": 2449,
    "start_time": "2022-07-18T09:37:32.785Z"
   },
   {
    "duration": 14,
    "start_time": "2022-07-18T09:37:35.236Z"
   },
   {
    "duration": 7,
    "start_time": "2022-07-18T09:37:35.251Z"
   },
   {
    "duration": 5,
    "start_time": "2022-07-18T09:37:35.261Z"
   },
   {
    "duration": 1923,
    "start_time": "2022-07-18T09:37:35.267Z"
   },
   {
    "duration": 9,
    "start_time": "2022-07-18T09:37:37.192Z"
   },
   {
    "duration": 64,
    "start_time": "2022-07-18T09:37:37.203Z"
   },
   {
    "duration": 6,
    "start_time": "2022-07-18T09:37:37.270Z"
   },
   {
    "duration": 16332,
    "start_time": "2022-07-18T09:37:37.278Z"
   },
   {
    "duration": 45,
    "start_time": "2022-07-18T09:38:21.666Z"
   },
   {
    "duration": 7,
    "start_time": "2022-07-18T09:38:38.690Z"
   },
   {
    "duration": 1439,
    "start_time": "2022-07-18T09:38:41.811Z"
   },
   {
    "duration": 2475,
    "start_time": "2022-07-18T09:38:43.252Z"
   },
   {
    "duration": 14,
    "start_time": "2022-07-18T09:38:45.729Z"
   },
   {
    "duration": 7,
    "start_time": "2022-07-18T09:38:45.745Z"
   },
   {
    "duration": 6,
    "start_time": "2022-07-18T09:38:45.754Z"
   },
   {
    "duration": 2103,
    "start_time": "2022-07-18T09:38:45.761Z"
   },
   {
    "duration": 8,
    "start_time": "2022-07-18T09:38:47.865Z"
   },
   {
    "duration": 68,
    "start_time": "2022-07-18T09:38:47.874Z"
   },
   {
    "duration": 4,
    "start_time": "2022-07-18T09:38:47.943Z"
   },
   {
    "duration": 16110,
    "start_time": "2022-07-18T09:38:47.948Z"
   },
   {
    "duration": 7835,
    "start_time": "2022-07-18T09:39:04.060Z"
   },
   {
    "duration": 435,
    "start_time": "2022-07-20T11:01:22.646Z"
   },
   {
    "duration": 2295,
    "start_time": "2022-07-20T11:01:24.205Z"
   },
   {
    "duration": 16,
    "start_time": "2022-07-20T11:01:26.539Z"
   },
   {
    "duration": 2,
    "start_time": "2022-07-20T11:01:43.822Z"
   },
   {
    "duration": 320,
    "start_time": "2022-07-20T11:01:46.426Z"
   },
   {
    "duration": 2,
    "start_time": "2022-07-20T11:01:54.002Z"
   },
   {
    "duration": 772,
    "start_time": "2022-07-20T11:01:54.621Z"
   },
   {
    "duration": 7,
    "start_time": "2022-07-20T11:01:55.395Z"
   },
   {
    "duration": 3,
    "start_time": "2022-07-20T11:01:56.121Z"
   },
   {
    "duration": 1928,
    "start_time": "2022-07-20T11:01:56.850Z"
   },
   {
    "duration": 8,
    "start_time": "2022-07-20T11:01:58.780Z"
   },
   {
    "duration": 3,
    "start_time": "2022-07-20T11:02:42.378Z"
   },
   {
    "duration": 4,
    "start_time": "2022-07-20T11:02:46.542Z"
   },
   {
    "duration": 793,
    "start_time": "2022-07-20T11:10:12.071Z"
   },
   {
    "duration": 17,
    "start_time": "2022-07-20T11:10:34.236Z"
   },
   {
    "duration": 32,
    "start_time": "2022-07-20T11:11:26.797Z"
   },
   {
    "duration": 445,
    "start_time": "2022-07-20T11:13:23.169Z"
   },
   {
    "duration": 5,
    "start_time": "2022-07-20T11:13:42.612Z"
   },
   {
    "duration": 3,
    "start_time": "2022-07-20T11:13:55.597Z"
   },
   {
    "duration": 21412,
    "start_time": "2022-07-20T11:14:21.449Z"
   },
   {
    "duration": 8711,
    "start_time": "2022-07-20T11:15:12.450Z"
   },
   {
    "duration": 61,
    "start_time": "2022-07-20T11:15:30.245Z"
   },
   {
    "duration": 2076,
    "start_time": "2022-07-20T11:15:34.533Z"
   },
   {
    "duration": 1935,
    "start_time": "2022-07-20T11:15:52.917Z"
   },
   {
    "duration": 3125,
    "start_time": "2022-07-20T11:15:54.857Z"
   },
   {
    "duration": 14,
    "start_time": "2022-07-20T11:15:57.985Z"
   },
   {
    "duration": 11,
    "start_time": "2022-07-20T11:15:58.001Z"
   },
   {
    "duration": 2134,
    "start_time": "2022-07-20T11:15:58.015Z"
   },
   {
    "duration": 16,
    "start_time": "2022-07-20T11:16:00.151Z"
   },
   {
    "duration": 10,
    "start_time": "2022-07-20T11:16:00.169Z"
   },
   {
    "duration": 55,
    "start_time": "2022-07-20T11:16:00.180Z"
   },
   {
    "duration": 6,
    "start_time": "2022-07-20T11:16:00.237Z"
   },
   {
    "duration": 11,
    "start_time": "2022-07-20T11:16:00.245Z"
   },
   {
    "duration": 22182,
    "start_time": "2022-07-20T11:16:00.258Z"
   },
   {
    "duration": 8551,
    "start_time": "2022-07-20T11:16:22.442Z"
   },
   {
    "duration": 2152,
    "start_time": "2022-07-20T11:16:30.995Z"
   },
   {
    "duration": 5,
    "start_time": "2022-07-20T11:18:05.533Z"
   },
   {
    "duration": 4,
    "start_time": "2022-07-20T11:18:37.156Z"
   },
   {
    "duration": 111,
    "start_time": "2022-07-20T11:18:49.888Z"
   },
   {
    "duration": 21336,
    "start_time": "2022-07-20T11:18:54.045Z"
   },
   {
    "duration": 10481,
    "start_time": "2022-07-20T11:19:17.626Z"
   },
   {
    "duration": 2094,
    "start_time": "2022-07-20T11:19:28.109Z"
   },
   {
    "duration": 4,
    "start_time": "2022-07-20T11:20:51.655Z"
   },
   {
    "duration": 5,
    "start_time": "2022-07-20T11:20:56.703Z"
   },
   {
    "duration": 4,
    "start_time": "2022-07-20T11:21:15.171Z"
   },
   {
    "duration": 4,
    "start_time": "2022-07-20T11:21:22.845Z"
   },
   {
    "duration": 6,
    "start_time": "2022-07-20T11:28:57.603Z"
   },
   {
    "duration": 2,
    "start_time": "2022-07-20T11:29:14.208Z"
   },
   {
    "duration": 10,
    "start_time": "2022-07-20T11:29:30.452Z"
   },
   {
    "duration": 3,
    "start_time": "2022-07-20T11:29:41.975Z"
   },
   {
    "duration": 267965,
    "start_time": "2022-07-20T11:29:42.614Z"
   },
   {
    "duration": 0,
    "start_time": "2022-07-20T11:34:10.581Z"
   },
   {
    "duration": 0,
    "start_time": "2022-07-20T11:34:10.582Z"
   },
   {
    "duration": 6,
    "start_time": "2022-07-20T11:34:31.218Z"
   },
   {
    "duration": 724,
    "start_time": "2022-07-20T11:34:44.145Z"
   },
   {
    "duration": 8,
    "start_time": "2022-07-20T11:34:46.023Z"
   },
   {
    "duration": 4,
    "start_time": "2022-07-20T11:34:51.010Z"
   },
   {
    "duration": 4,
    "start_time": "2022-07-20T11:34:53.209Z"
   },
   {
    "duration": 655,
    "start_time": "2022-07-20T11:34:54.718Z"
   },
   {
    "duration": 9,
    "start_time": "2022-07-20T11:34:56.510Z"
   },
   {
    "duration": 3,
    "start_time": "2022-07-20T11:34:57.124Z"
   },
   {
    "duration": 17,
    "start_time": "2022-07-20T11:34:57.695Z"
   },
   {
    "duration": 4,
    "start_time": "2022-07-20T11:34:58.732Z"
   },
   {
    "duration": 2,
    "start_time": "2022-07-20T11:34:59.459Z"
   },
   {
    "duration": 6295,
    "start_time": "2022-07-20T11:35:00.123Z"
   },
   {
    "duration": 2598,
    "start_time": "2022-07-20T11:35:07.168Z"
   },
   {
    "duration": 680,
    "start_time": "2022-07-20T11:35:09.768Z"
   },
   {
    "duration": 3,
    "start_time": "2022-07-20T11:35:10.451Z"
   },
   {
    "duration": 6107,
    "start_time": "2022-07-20T11:35:10.464Z"
   },
   {
    "duration": 3001,
    "start_time": "2022-07-20T11:35:16.572Z"
   },
   {
    "duration": 654,
    "start_time": "2022-07-20T11:35:19.575Z"
   },
   {
    "duration": 2,
    "start_time": "2022-07-20T11:35:22.210Z"
   },
   {
    "duration": 61646,
    "start_time": "2022-07-20T11:35:23.419Z"
   },
   {
    "duration": 6,
    "start_time": "2022-07-20T11:36:25.068Z"
   },
   {
    "duration": 106,
    "start_time": "2022-07-20T11:36:25.079Z"
   },
   {
    "duration": 6,
    "start_time": "2022-07-20T11:37:30.459Z"
   },
   {
    "duration": 4,
    "start_time": "2022-07-20T11:37:35.504Z"
   },
   {
    "duration": 6,
    "start_time": "2022-07-20T11:37:43.181Z"
   },
   {
    "duration": 5,
    "start_time": "2022-07-20T11:37:52.072Z"
   },
   {
    "duration": 34,
    "start_time": "2022-07-20T11:38:34.837Z"
   },
   {
    "duration": 3,
    "start_time": "2022-07-20T11:38:44.150Z"
   },
   {
    "duration": 6,
    "start_time": "2022-07-20T11:51:57.601Z"
   },
   {
    "duration": 846,
    "start_time": "2022-07-20T11:51:58.622Z"
   },
   {
    "duration": 9,
    "start_time": "2022-07-20T11:52:00.294Z"
   },
   {
    "duration": 5,
    "start_time": "2022-07-20T11:52:00.305Z"
   },
   {
    "duration": 648,
    "start_time": "2022-07-20T11:52:01.690Z"
   },
   {
    "duration": 9,
    "start_time": "2022-07-20T11:52:03.352Z"
   },
   {
    "duration": 3,
    "start_time": "2022-07-20T11:52:04.258Z"
   },
   {
    "duration": 13,
    "start_time": "2022-07-20T11:52:05.291Z"
   },
   {
    "duration": 5,
    "start_time": "2022-07-20T11:52:09.993Z"
   },
   {
    "duration": 3,
    "start_time": "2022-07-20T11:52:15.375Z"
   },
   {
    "duration": 5093,
    "start_time": "2022-07-20T11:52:16.126Z"
   },
   {
    "duration": 2435,
    "start_time": "2022-07-20T11:52:23.299Z"
   },
   {
    "duration": 694,
    "start_time": "2022-07-20T11:52:25.736Z"
   },
   {
    "duration": 3,
    "start_time": "2022-07-20T11:52:30.708Z"
   },
   {
    "duration": 5273,
    "start_time": "2022-07-20T11:52:32.559Z"
   },
   {
    "duration": 2832,
    "start_time": "2022-07-20T11:52:37.834Z"
   },
   {
    "duration": 761,
    "start_time": "2022-07-20T11:52:40.668Z"
   },
   {
    "duration": 3,
    "start_time": "2022-07-20T11:53:02.825Z"
   },
   {
    "duration": 1150643,
    "start_time": "2022-07-20T11:53:04.064Z"
   },
   {
    "duration": 272,
    "start_time": "2022-07-20T12:12:14.709Z"
   },
   {
    "duration": 8,
    "start_time": "2022-07-20T12:12:14.983Z"
   },
   {
    "duration": 3,
    "start_time": "2022-07-20T12:37:11.706Z"
   },
   {
    "duration": 3,
    "start_time": "2022-07-20T12:37:15.299Z"
   },
   {
    "duration": 641624,
    "start_time": "2022-07-20T12:37:29.534Z"
   },
   {
    "duration": 22460,
    "start_time": "2022-07-20T12:48:11.164Z"
   },
   {
    "duration": 10,
    "start_time": "2022-07-20T12:48:33.626Z"
   },
   {
    "duration": 228,
    "start_time": "2022-07-20T12:53:06.318Z"
   },
   {
    "duration": 3,
    "start_time": "2022-07-20T12:53:48.777Z"
   },
   {
    "duration": 2594977,
    "start_time": "2022-07-20T12:53:57.264Z"
   },
   {
    "duration": 1484,
    "start_time": "2022-07-20T13:37:12.244Z"
   },
   {
    "duration": 8,
    "start_time": "2022-07-20T13:37:13.730Z"
   },
   {
    "duration": 4,
    "start_time": "2022-07-20T13:52:17.411Z"
   },
   {
    "duration": 7703,
    "start_time": "2022-07-20T13:52:18.425Z"
   },
   {
    "duration": 3575,
    "start_time": "2022-07-20T13:52:26.130Z"
   },
   {
    "duration": 829,
    "start_time": "2022-07-20T13:52:29.708Z"
   },
   {
    "duration": 5,
    "start_time": "2022-07-20T13:52:30.539Z"
   },
   {
    "duration": 4747383,
    "start_time": "2022-07-20T13:52:30.546Z"
   },
   {
    "duration": 1677,
    "start_time": "2022-07-20T15:11:37.931Z"
   },
   {
    "duration": 13,
    "start_time": "2022-07-20T15:11:39.615Z"
   },
   {
    "duration": 4,
    "start_time": "2022-07-20T15:11:39.630Z"
   },
   {
    "duration": 1664526,
    "start_time": "2022-07-20T15:11:39.636Z"
   },
   {
    "duration": 132601,
    "start_time": "2022-07-20T15:39:24.172Z"
   },
   {
    "duration": 21,
    "start_time": "2022-07-20T15:41:36.775Z"
   },
   {
    "duration": 1743,
    "start_time": "2022-07-21T21:24:02.154Z"
   },
   {
    "duration": 4,
    "start_time": "2022-07-21T21:25:33.511Z"
   },
   {
    "duration": 8,
    "start_time": "2022-07-21T21:25:54.967Z"
   },
   {
    "duration": 2372,
    "start_time": "2022-07-21T21:25:54.977Z"
   },
   {
    "duration": 12,
    "start_time": "2022-07-21T21:25:57.351Z"
   },
   {
    "duration": 4,
    "start_time": "2022-07-21T21:25:57.364Z"
   },
   {
    "duration": 6,
    "start_time": "2022-07-21T21:25:57.370Z"
   },
   {
    "duration": 987,
    "start_time": "2022-07-21T21:25:57.378Z"
   },
   {
    "duration": 0,
    "start_time": "2022-07-21T21:25:58.367Z"
   },
   {
    "duration": 3,
    "start_time": "2022-07-21T21:26:06.753Z"
   },
   {
    "duration": 28665,
    "start_time": "2022-07-21T21:26:07.248Z"
   },
   {
    "duration": 7,
    "start_time": "2022-07-21T21:26:51.245Z"
   },
   {
    "duration": 3,
    "start_time": "2022-07-21T21:27:11.978Z"
   },
   {
    "duration": 11,
    "start_time": "2022-07-21T21:27:12.487Z"
   },
   {
    "duration": 4,
    "start_time": "2022-07-21T21:27:13.167Z"
   },
   {
    "duration": 3,
    "start_time": "2022-07-21T21:27:15.468Z"
   },
   {
    "duration": 6254,
    "start_time": "2022-07-21T21:27:25.945Z"
   },
   {
    "duration": 2801,
    "start_time": "2022-07-21T21:27:32.201Z"
   },
   {
    "duration": 744,
    "start_time": "2022-07-21T21:27:35.004Z"
   },
   {
    "duration": 3,
    "start_time": "2022-07-21T21:27:39.359Z"
   },
   {
    "duration": 1504,
    "start_time": "2022-07-21T21:43:48.168Z"
   },
   {
    "duration": 842,
    "start_time": "2022-07-21T21:43:49.674Z"
   },
   {
    "duration": 12,
    "start_time": "2022-07-21T21:43:50.517Z"
   },
   {
    "duration": 10,
    "start_time": "2022-07-21T21:43:50.530Z"
   },
   {
    "duration": 7,
    "start_time": "2022-07-21T21:43:50.542Z"
   },
   {
    "duration": 29876,
    "start_time": "2022-07-21T21:43:50.550Z"
   },
   {
    "duration": 7,
    "start_time": "2022-07-21T21:44:20.432Z"
   },
   {
    "duration": 5,
    "start_time": "2022-07-21T21:44:20.441Z"
   },
   {
    "duration": 18,
    "start_time": "2022-07-21T21:44:20.448Z"
   },
   {
    "duration": 9,
    "start_time": "2022-07-21T21:44:20.467Z"
   },
   {
    "duration": 48,
    "start_time": "2022-07-21T21:44:20.477Z"
   },
   {
    "duration": 5503,
    "start_time": "2022-07-21T21:44:20.528Z"
   },
   {
    "duration": 2988,
    "start_time": "2022-07-21T21:44:26.034Z"
   },
   {
    "duration": 923,
    "start_time": "2022-07-21T21:44:29.034Z"
   },
   {
    "duration": 8,
    "start_time": "2022-07-21T21:44:57.324Z"
   },
   {
    "duration": 928390,
    "start_time": "2022-07-21T21:44:58.308Z"
   },
   {
    "duration": 241,
    "start_time": "2022-07-21T22:00:26.699Z"
   },
   {
    "duration": 8,
    "start_time": "2022-07-21T22:00:26.942Z"
   },
   {
    "duration": 68957,
    "start_time": "2022-07-21T22:10:13.321Z"
   },
   {
    "duration": 364,
    "start_time": "2022-07-21T22:12:23.959Z"
   },
   {
    "duration": 654,
    "start_time": "2022-07-21T22:12:58.083Z"
   },
   {
    "duration": 54,
    "start_time": "2022-07-21T22:13:32.188Z"
   },
   {
    "duration": 14,
    "start_time": "2022-07-21T22:13:51.595Z"
   },
   {
    "duration": 12,
    "start_time": "2022-07-21T22:14:05.138Z"
   },
   {
    "duration": 11,
    "start_time": "2022-07-21T22:14:20.941Z"
   },
   {
    "duration": 58,
    "start_time": "2022-07-21T22:14:31.411Z"
   },
   {
    "duration": 759,
    "start_time": "2022-07-21T22:15:13.473Z"
   },
   {
    "duration": 4,
    "start_time": "2022-07-21T22:15:17.294Z"
   },
   {
    "duration": 8,
    "start_time": "2022-07-21T22:15:45.537Z"
   },
   {
    "duration": 250,
    "start_time": "2022-07-21T22:15:47.282Z"
   },
   {
    "duration": 861,
    "start_time": "2022-07-21T22:15:52.676Z"
   },
   {
    "duration": 6,
    "start_time": "2022-07-21T22:15:59.917Z"
   },
   {
    "duration": 18,
    "start_time": "2022-07-21T22:16:28.226Z"
   },
   {
    "duration": 8,
    "start_time": "2022-07-21T22:16:30.389Z"
   },
   {
    "duration": 6,
    "start_time": "2022-07-21T22:16:37.628Z"
   },
   {
    "duration": 3,
    "start_time": "2022-07-21T22:16:45.633Z"
   },
   {
    "duration": 3,
    "start_time": "2022-07-21T22:16:46.541Z"
   },
   {
    "duration": 24997,
    "start_time": "2022-07-21T22:16:47.364Z"
   },
   {
    "duration": 8,
    "start_time": "2022-07-21T22:17:13.454Z"
   },
   {
    "duration": 3,
    "start_time": "2022-07-21T22:17:17.319Z"
   },
   {
    "duration": 18,
    "start_time": "2022-07-21T22:17:18.101Z"
   },
   {
    "duration": 3,
    "start_time": "2022-07-21T22:17:18.971Z"
   },
   {
    "duration": 3,
    "start_time": "2022-07-21T22:17:19.736Z"
   },
   {
    "duration": 4825,
    "start_time": "2022-07-21T22:17:21.198Z"
   },
   {
    "duration": 2653,
    "start_time": "2022-07-21T22:17:26.026Z"
   },
   {
    "duration": 699,
    "start_time": "2022-07-21T22:17:28.681Z"
   },
   {
    "duration": 2,
    "start_time": "2022-07-21T22:17:33.561Z"
   },
   {
    "duration": 872409,
    "start_time": "2022-07-21T22:17:35.697Z"
   },
   {
    "duration": 297,
    "start_time": "2022-07-21T22:32:08.108Z"
   },
   {
    "duration": 13,
    "start_time": "2022-07-21T22:32:08.414Z"
   },
   {
    "duration": 4,
    "start_time": "2022-07-21T22:32:08.429Z"
   },
   {
    "duration": 852252,
    "start_time": "2022-07-21T22:32:08.435Z"
   },
   {
    "duration": 21490,
    "start_time": "2022-07-21T22:46:20.688Z"
   },
   {
    "duration": 7,
    "start_time": "2022-07-21T22:46:42.180Z"
   },
   {
    "duration": 4,
    "start_time": "2022-07-21T22:46:42.189Z"
   },
   {
    "duration": 2355292,
    "start_time": "2022-07-21T22:46:42.200Z"
   },
   {
    "duration": 1051,
    "start_time": "2022-07-21T23:25:57.495Z"
   },
   {
    "duration": 9,
    "start_time": "2022-07-21T23:25:58.548Z"
   },
   {
    "duration": 290209,
    "start_time": "2022-07-21T23:41:13.974Z"
   },
   {
    "duration": 464215,
    "start_time": "2022-07-21T23:46:04.184Z"
   },
   {
    "duration": 1687,
    "start_time": "2022-07-22T08:32:28.343Z"
   },
   {
    "duration": 3193,
    "start_time": "2022-07-22T08:32:30.032Z"
   },
   {
    "duration": 4,
    "start_time": "2022-07-22T08:32:33.227Z"
   },
   {
    "duration": 10,
    "start_time": "2022-07-22T08:32:33.233Z"
   },
   {
    "duration": 33,
    "start_time": "2022-07-22T08:32:33.246Z"
   },
   {
    "duration": 5,
    "start_time": "2022-07-22T08:32:33.280Z"
   },
   {
    "duration": 12,
    "start_time": "2022-07-22T08:32:33.287Z"
   },
   {
    "duration": 6,
    "start_time": "2022-07-22T08:32:33.300Z"
   },
   {
    "duration": 5,
    "start_time": "2022-07-22T08:32:33.307Z"
   },
   {
    "duration": 26690,
    "start_time": "2022-07-22T08:32:33.314Z"
   },
   {
    "duration": 8,
    "start_time": "2022-07-22T08:33:00.006Z"
   },
   {
    "duration": 15,
    "start_time": "2022-07-22T08:33:00.016Z"
   },
   {
    "duration": 15,
    "start_time": "2022-07-22T08:33:00.033Z"
   },
   {
    "duration": 4,
    "start_time": "2022-07-22T08:33:00.051Z"
   },
   {
    "duration": 6,
    "start_time": "2022-07-22T08:33:00.057Z"
   },
   {
    "duration": 4623,
    "start_time": "2022-07-22T08:33:00.064Z"
   },
   {
    "duration": 2834,
    "start_time": "2022-07-22T08:33:04.688Z"
   },
   {
    "duration": 737,
    "start_time": "2022-07-22T08:33:07.524Z"
   },
   {
    "duration": 315207,
    "start_time": "2022-07-22T08:33:08.263Z"
   },
   {
    "duration": 113044,
    "start_time": "2022-07-22T08:38:23.471Z"
   },
   {
    "duration": 3,
    "start_time": "2022-07-22T08:40:57.106Z"
   },
   {
    "duration": 4,
    "start_time": "2022-07-22T08:41:31.636Z"
   },
   {
    "duration": 5,
    "start_time": "2022-07-22T08:41:34.344Z"
   },
   {
    "duration": 10,
    "start_time": "2022-07-22T08:41:58.771Z"
   },
   {
    "duration": 625697,
    "start_time": "2022-07-22T08:42:36.526Z"
   },
   {
    "duration": 36871,
    "start_time": "2022-07-22T08:53:02.225Z"
   },
   {
    "duration": 29316,
    "start_time": "2022-07-22T08:53:50.389Z"
   },
   {
    "duration": 77213,
    "start_time": "2022-07-22T08:54:49.692Z"
   },
   {
    "duration": 110256,
    "start_time": "2022-07-22T08:56:38.661Z"
   },
   {
    "duration": 13602,
    "start_time": "2022-07-22T08:58:56.042Z"
   },
   {
    "duration": 73986,
    "start_time": "2022-07-22T08:59:20.798Z"
   },
   {
    "duration": 703750,
    "start_time": "2022-07-22T09:00:49.811Z"
   },
   {
    "duration": 89890,
    "start_time": "2022-07-22T09:12:33.563Z"
   },
   {
    "duration": 54264,
    "start_time": "2022-07-22T09:14:28.210Z"
   },
   {
    "duration": 46266,
    "start_time": "2022-07-22T09:18:38.328Z"
   },
   {
    "duration": 98298,
    "start_time": "2022-07-22T09:19:50.887Z"
   },
   {
    "duration": 728,
    "start_time": "2022-07-22T09:22:12.624Z"
   },
   {
    "duration": 4,
    "start_time": "2022-07-22T09:22:13.354Z"
   },
   {
    "duration": 7,
    "start_time": "2022-07-22T09:22:14.596Z"
   },
   {
    "duration": 23,
    "start_time": "2022-07-22T09:22:15.352Z"
   },
   {
    "duration": 6,
    "start_time": "2022-07-22T09:22:15.585Z"
   },
   {
    "duration": 12,
    "start_time": "2022-07-22T09:22:16.805Z"
   },
   {
    "duration": 3,
    "start_time": "2022-07-22T09:22:19.711Z"
   },
   {
    "duration": 4,
    "start_time": "2022-07-22T09:22:20.367Z"
   },
   {
    "duration": 827,
    "start_time": "2022-07-22T09:22:21.052Z"
   },
   {
    "duration": 46,
    "start_time": "2022-07-22T09:22:23.341Z"
   },
   {
    "duration": 11,
    "start_time": "2022-07-22T09:22:26.454Z"
   },
   {
    "duration": 13,
    "start_time": "2022-07-22T09:22:34.332Z"
   },
   {
    "duration": 13,
    "start_time": "2022-07-22T09:22:42.730Z"
   },
   {
    "duration": 522903,
    "start_time": "2022-07-22T09:23:20.599Z"
   },
   {
    "duration": 0,
    "start_time": "2022-07-22T09:32:03.505Z"
   },
   {
    "duration": 25700,
    "start_time": "2022-07-22T09:32:07.876Z"
   },
   {
    "duration": 8,
    "start_time": "2022-07-22T09:32:33.577Z"
   },
   {
    "duration": 3,
    "start_time": "2022-07-22T09:32:38.714Z"
   },
   {
    "duration": 78,
    "start_time": "2022-07-22T09:32:39.638Z"
   },
   {
    "duration": 31,
    "start_time": "2022-07-22T09:32:43.736Z"
   },
   {
    "duration": 4,
    "start_time": "2022-07-22T09:32:44.840Z"
   },
   {
    "duration": 3,
    "start_time": "2022-07-22T09:32:45.537Z"
   },
   {
    "duration": 4697,
    "start_time": "2022-07-22T09:32:46.323Z"
   },
   {
    "duration": 2607,
    "start_time": "2022-07-22T09:32:51.022Z"
   },
   {
    "duration": 750,
    "start_time": "2022-07-22T09:32:53.631Z"
   },
   {
    "duration": 2,
    "start_time": "2022-07-22T09:32:54.384Z"
   },
   {
    "duration": 102298,
    "start_time": "2022-07-22T09:32:54.388Z"
   },
   {
    "duration": 0,
    "start_time": "2022-07-22T09:34:36.688Z"
   },
   {
    "duration": 8,
    "start_time": "2022-07-22T09:34:45.331Z"
   },
   {
    "duration": 21,
    "start_time": "2022-07-22T09:36:00.695Z"
   },
   {
    "duration": 8,
    "start_time": "2022-07-22T09:36:35.409Z"
   },
   {
    "duration": 733811,
    "start_time": "2022-07-22T09:36:39.544Z"
   },
   {
    "duration": 3,
    "start_time": "2022-07-22T09:48:53.357Z"
   },
   {
    "duration": 68,
    "start_time": "2022-07-22T09:48:53.362Z"
   },
   {
    "duration": 0,
    "start_time": "2022-07-22T09:48:53.432Z"
   },
   {
    "duration": 0,
    "start_time": "2022-07-22T09:48:53.433Z"
   },
   {
    "duration": 63895,
    "start_time": "2022-07-22T10:50:39.836Z"
   },
   {
    "duration": 2292,
    "start_time": "2022-07-22T10:51:43.733Z"
   },
   {
    "duration": 5,
    "start_time": "2022-07-22T10:51:46.027Z"
   },
   {
    "duration": 22,
    "start_time": "2022-07-22T10:51:46.033Z"
   },
   {
    "duration": 23,
    "start_time": "2022-07-22T10:51:46.057Z"
   },
   {
    "duration": 5,
    "start_time": "2022-07-22T10:51:46.082Z"
   },
   {
    "duration": 17,
    "start_time": "2022-07-22T10:51:46.089Z"
   },
   {
    "duration": 3,
    "start_time": "2022-07-22T10:51:46.108Z"
   },
   {
    "duration": 12,
    "start_time": "2022-07-22T10:51:46.113Z"
   },
   {
    "duration": 658,
    "start_time": "2022-07-22T10:51:46.127Z"
   },
   {
    "duration": 28244,
    "start_time": "2022-07-22T10:51:46.787Z"
   },
   {
    "duration": 10,
    "start_time": "2022-07-22T10:52:15.033Z"
   },
   {
    "duration": 26,
    "start_time": "2022-07-22T10:52:15.045Z"
   },
   {
    "duration": 34,
    "start_time": "2022-07-22T10:52:15.074Z"
   },
   {
    "duration": 6,
    "start_time": "2022-07-22T10:52:15.110Z"
   },
   {
    "duration": 14,
    "start_time": "2022-07-22T10:52:15.117Z"
   },
   {
    "duration": 5295,
    "start_time": "2022-07-22T10:52:15.133Z"
   },
   {
    "duration": 2584,
    "start_time": "2022-07-22T10:52:20.430Z"
   },
   {
    "duration": 681,
    "start_time": "2022-07-22T10:52:23.016Z"
   },
   {
    "duration": 3,
    "start_time": "2022-07-22T10:52:23.699Z"
   },
   {
    "duration": 788904,
    "start_time": "2022-07-22T10:52:23.704Z"
   },
   {
    "duration": 4,
    "start_time": "2022-07-22T11:08:15.576Z"
   },
   {
    "duration": 384,
    "start_time": "2022-07-22T11:08:18.201Z"
   },
   {
    "duration": 36,
    "start_time": "2022-07-22T11:08:37.617Z"
   },
   {
    "duration": 9,
    "start_time": "2022-07-22T11:09:05.415Z"
   },
   {
    "duration": 44,
    "start_time": "2022-07-22T11:09:15.859Z"
   },
   {
    "duration": 64,
    "start_time": "2022-07-22T11:10:57.590Z"
   },
   {
    "duration": 47,
    "start_time": "2022-07-22T11:12:08.582Z"
   },
   {
    "duration": 788,
    "start_time": "2022-07-22T11:12:46.092Z"
   },
   {
    "duration": 391891,
    "start_time": "2022-07-22T11:13:32.761Z"
   },
   {
    "duration": 123,
    "start_time": "2022-07-22T11:20:04.654Z"
   },
   {
    "duration": 0,
    "start_time": "2022-07-22T11:20:04.779Z"
   },
   {
    "duration": 496,
    "start_time": "2022-07-22T11:21:46.187Z"
   },
   {
    "duration": 12,
    "start_time": "2022-07-22T11:21:47.408Z"
   },
   {
    "duration": 7077,
    "start_time": "2022-07-22T11:22:17.249Z"
   },
   {
    "duration": 6770,
    "start_time": "2022-07-22T11:22:38.082Z"
   },
   {
    "duration": 7089,
    "start_time": "2022-07-22T11:23:00.153Z"
   },
   {
    "duration": 63736,
    "start_time": "2022-07-22T11:23:20.559Z"
   },
   {
    "duration": 31,
    "start_time": "2022-07-22T11:27:20.491Z"
   },
   {
    "duration": 4,
    "start_time": "2022-07-22T11:27:38.459Z"
   },
   {
    "duration": 4,
    "start_time": "2022-07-22T11:27:48.853Z"
   },
   {
    "duration": 5,
    "start_time": "2022-07-22T11:28:17.651Z"
   },
   {
    "duration": 11,
    "start_time": "2022-07-22T11:28:20.790Z"
   },
   {
    "duration": 8,
    "start_time": "2022-07-22T11:28:35.993Z"
   },
   {
    "duration": 836,
    "start_time": "2022-07-22T11:28:36.004Z"
   },
   {
    "duration": 4,
    "start_time": "2022-07-22T11:28:36.843Z"
   },
   {
    "duration": 20,
    "start_time": "2022-07-22T11:28:36.849Z"
   },
   {
    "duration": 29,
    "start_time": "2022-07-22T11:28:36.872Z"
   },
   {
    "duration": 6,
    "start_time": "2022-07-22T11:28:36.904Z"
   },
   {
    "duration": 13,
    "start_time": "2022-07-22T11:28:36.912Z"
   },
   {
    "duration": 7,
    "start_time": "2022-07-22T11:28:36.927Z"
   },
   {
    "duration": 28,
    "start_time": "2022-07-22T11:28:36.936Z"
   },
   {
    "duration": 559,
    "start_time": "2022-07-22T11:28:36.966Z"
   },
   {
    "duration": 36667,
    "start_time": "2022-07-22T11:28:37.527Z"
   },
   {
    "duration": 12,
    "start_time": "2022-07-22T11:29:14.196Z"
   },
   {
    "duration": 21,
    "start_time": "2022-07-22T11:29:14.211Z"
   },
   {
    "duration": 41,
    "start_time": "2022-07-22T11:29:14.237Z"
   },
   {
    "duration": 4,
    "start_time": "2022-07-22T11:29:14.280Z"
   },
   {
    "duration": 15,
    "start_time": "2022-07-22T11:29:14.290Z"
   },
   {
    "duration": 7322,
    "start_time": "2022-07-22T11:29:14.310Z"
   },
   {
    "duration": 3981,
    "start_time": "2022-07-22T11:29:21.635Z"
   },
   {
    "duration": 1181,
    "start_time": "2022-07-22T11:29:25.624Z"
   },
   {
    "duration": 6,
    "start_time": "2022-07-22T11:29:26.808Z"
   },
   {
    "duration": 938017,
    "start_time": "2022-07-22T11:29:26.817Z"
   },
   {
    "duration": 758980,
    "start_time": "2022-07-22T11:45:04.836Z"
   },
   {
    "duration": 54786,
    "start_time": "2022-07-22T11:57:43.818Z"
   },
   {
    "duration": 3,
    "start_time": "2022-07-22T11:58:38.606Z"
   },
   {
    "duration": 180159,
    "start_time": "2022-07-22T11:58:38.610Z"
   },
   {
    "duration": 84,
    "start_time": "2022-07-22T12:01:38.772Z"
   },
   {
    "duration": 0,
    "start_time": "2022-07-22T12:01:38.864Z"
   },
   {
    "duration": 0,
    "start_time": "2022-07-22T12:01:38.865Z"
   },
   {
    "duration": 0,
    "start_time": "2022-07-22T12:01:38.867Z"
   },
   {
    "duration": 0,
    "start_time": "2022-07-22T12:01:38.868Z"
   },
   {
    "duration": 0,
    "start_time": "2022-07-22T12:01:38.870Z"
   },
   {
    "duration": 0,
    "start_time": "2022-07-22T12:01:38.874Z"
   },
   {
    "duration": 3,
    "start_time": "2022-07-22T12:01:47.696Z"
   },
   {
    "duration": 348327,
    "start_time": "2022-07-22T12:01:50.834Z"
   },
   {
    "duration": 415,
    "start_time": "2022-07-22T12:07:39.164Z"
   },
   {
    "duration": 9,
    "start_time": "2022-07-22T12:07:39.581Z"
   },
   {
    "duration": 240790,
    "start_time": "2022-07-22T12:08:03.156Z"
   },
   {
    "duration": 835614,
    "start_time": "2022-07-22T12:12:18.548Z"
   },
   {
    "duration": 893834,
    "start_time": "2022-07-22T12:27:46.148Z"
   },
   {
    "duration": 3,
    "start_time": "2022-07-22T12:42:39.984Z"
   },
   {
    "duration": 2496150,
    "start_time": "2022-07-22T12:42:39.989Z"
   },
   {
    "duration": 1202,
    "start_time": "2022-07-22T13:24:16.141Z"
   },
   {
    "duration": 8,
    "start_time": "2022-07-22T13:24:17.345Z"
   },
   {
    "duration": 9,
    "start_time": "2022-07-22T13:24:52.363Z"
   },
   {
    "duration": 76,
    "start_time": "2022-07-22T13:26:07.285Z"
   },
   {
    "duration": 206,
    "start_time": "2022-07-22T13:26:29.297Z"
   },
   {
    "duration": 1586,
    "start_time": "2022-07-22T13:26:46.281Z"
   },
   {
    "duration": 766,
    "start_time": "2022-07-22T13:27:24.102Z"
   },
   {
    "duration": 5,
    "start_time": "2022-07-22T13:27:24.871Z"
   },
   {
    "duration": 8,
    "start_time": "2022-07-22T13:27:25.324Z"
   },
   {
    "duration": 22,
    "start_time": "2022-07-22T13:27:25.496Z"
   },
   {
    "duration": 6,
    "start_time": "2022-07-22T13:27:25.710Z"
   },
   {
    "duration": 10,
    "start_time": "2022-07-22T13:27:26.025Z"
   },
   {
    "duration": 3,
    "start_time": "2022-07-22T13:27:26.141Z"
   },
   {
    "duration": 4,
    "start_time": "2022-07-22T13:27:26.505Z"
   },
   {
    "duration": 497,
    "start_time": "2022-07-22T13:27:27.027Z"
   },
   {
    "duration": 26190,
    "start_time": "2022-07-22T13:27:27.525Z"
   },
   {
    "duration": 8,
    "start_time": "2022-07-22T13:27:53.717Z"
   },
   {
    "duration": 6,
    "start_time": "2022-07-22T13:27:53.727Z"
   },
   {
    "duration": 48,
    "start_time": "2022-07-22T13:27:53.735Z"
   },
   {
    "duration": 3,
    "start_time": "2022-07-22T13:27:53.784Z"
   },
   {
    "duration": 6,
    "start_time": "2022-07-22T13:27:53.789Z"
   },
   {
    "duration": 10274,
    "start_time": "2022-07-22T13:27:53.797Z"
   },
   {
    "duration": 4303,
    "start_time": "2022-07-22T13:28:04.073Z"
   },
   {
    "duration": 1078,
    "start_time": "2022-07-22T13:28:08.378Z"
   },
   {
    "duration": 4,
    "start_time": "2022-07-22T13:28:09.463Z"
   },
   {
    "duration": 693236,
    "start_time": "2022-07-22T13:28:09.469Z"
   },
   {
    "duration": 66245,
    "start_time": "2022-07-24T21:33:30.399Z"
   },
   {
    "duration": 2126,
    "start_time": "2022-07-24T21:36:08.679Z"
   },
   {
    "duration": 4,
    "start_time": "2022-07-24T21:36:10.807Z"
   },
   {
    "duration": 6,
    "start_time": "2022-07-24T21:36:13.311Z"
   },
   {
    "duration": 20,
    "start_time": "2022-07-24T21:36:15.935Z"
   },
   {
    "duration": 5,
    "start_time": "2022-07-24T21:36:16.715Z"
   },
   {
    "duration": 6,
    "start_time": "2022-07-24T21:36:21.567Z"
   },
   {
    "duration": 48,
    "start_time": "2022-07-24T21:36:24.752Z"
   },
   {
    "duration": 6,
    "start_time": "2022-07-24T21:36:27.553Z"
   },
   {
    "duration": 7,
    "start_time": "2022-07-24T21:36:29.741Z"
   },
   {
    "duration": 5,
    "start_time": "2022-07-24T21:36:48.782Z"
   },
   {
    "duration": 10,
    "start_time": "2022-07-24T21:36:55.043Z"
   },
   {
    "duration": 5,
    "start_time": "2022-07-24T21:37:25.069Z"
   },
   {
    "duration": 9,
    "start_time": "2022-07-24T21:37:34.162Z"
   },
   {
    "duration": 4,
    "start_time": "2022-07-24T21:37:37.859Z"
   },
   {
    "duration": 5,
    "start_time": "2022-07-24T21:37:38.868Z"
   },
   {
    "duration": 701,
    "start_time": "2022-07-24T21:37:42.139Z"
   },
   {
    "duration": 37518,
    "start_time": "2022-07-24T21:37:46.647Z"
   },
   {
    "duration": 8,
    "start_time": "2022-07-24T21:38:24.167Z"
   },
   {
    "duration": 3,
    "start_time": "2022-07-24T21:38:33.289Z"
   },
   {
    "duration": 26,
    "start_time": "2022-07-24T21:38:34.185Z"
   },
   {
    "duration": 4,
    "start_time": "2022-07-24T21:38:35.771Z"
   },
   {
    "duration": 2,
    "start_time": "2022-07-24T21:38:36.577Z"
   },
   {
    "duration": 17304,
    "start_time": "2022-07-24T21:40:03.051Z"
   },
   {
    "duration": 7781,
    "start_time": "2022-07-24T21:40:20.358Z"
   },
   {
    "duration": 2272,
    "start_time": "2022-07-24T21:40:28.141Z"
   },
   {
    "duration": 11,
    "start_time": "2022-07-24T21:44:13.791Z"
   },
   {
    "duration": 337,
    "start_time": "2022-07-24T21:45:26.641Z"
   },
   {
    "duration": 7,
    "start_time": "2022-07-24T21:45:29.762Z"
   },
   {
    "duration": 8,
    "start_time": "2022-07-24T21:45:35.143Z"
   },
   {
    "duration": 8,
    "start_time": "2022-07-24T21:46:30.288Z"
   },
   {
    "duration": 16,
    "start_time": "2022-07-24T21:46:36.508Z"
   },
   {
    "duration": 3,
    "start_time": "2022-07-24T21:47:30.274Z"
   },
   {
    "duration": 2557,
    "start_time": "2022-07-24T21:48:20.049Z"
   },
   {
    "duration": 5,
    "start_time": "2022-07-24T21:49:13.769Z"
   },
   {
    "duration": 2726,
    "start_time": "2022-07-24T21:50:34.478Z"
   },
   {
    "duration": 26,
    "start_time": "2022-07-24T21:50:47.139Z"
   },
   {
    "duration": 14,
    "start_time": "2022-07-24T21:51:00.449Z"
   },
   {
    "duration": 2592,
    "start_time": "2022-07-24T21:51:00.501Z"
   },
   {
    "duration": 16,
    "start_time": "2022-07-24T21:51:07.483Z"
   },
   {
    "duration": 4,
    "start_time": "2022-07-24T21:51:14.778Z"
   },
   {
    "duration": 23,
    "start_time": "2022-07-24T21:53:26.881Z"
   },
   {
    "duration": 19,
    "start_time": "2022-07-24T21:54:32.670Z"
   },
   {
    "duration": 16,
    "start_time": "2022-07-24T21:54:36.575Z"
   },
   {
    "duration": 2,
    "start_time": "2022-07-24T21:56:27.868Z"
   },
   {
    "duration": 46,
    "start_time": "2022-07-24T21:56:28.626Z"
   },
   {
    "duration": 4,
    "start_time": "2022-07-24T21:56:29.745Z"
   },
   {
    "duration": 3,
    "start_time": "2022-07-24T21:56:30.562Z"
   },
   {
    "duration": 17284,
    "start_time": "2022-07-24T21:56:32.816Z"
   },
   {
    "duration": 8150,
    "start_time": "2022-07-24T21:56:50.102Z"
   },
   {
    "duration": 2255,
    "start_time": "2022-07-24T21:56:58.254Z"
   },
   {
    "duration": 3,
    "start_time": "2022-07-24T21:57:07.369Z"
   },
   {
    "duration": 2646,
    "start_time": "2022-07-24T21:57:13.029Z"
   },
   {
    "duration": 56,
    "start_time": "2022-07-24T21:57:27.308Z"
   },
   {
    "duration": 21,
    "start_time": "2022-07-24T21:57:32.848Z"
   },
   {
    "duration": 21,
    "start_time": "2022-07-24T21:57:36.147Z"
   },
   {
    "duration": 35,
    "start_time": "2022-07-24T21:58:02.568Z"
   },
   {
    "duration": 8,
    "start_time": "2022-07-24T21:59:12.774Z"
   },
   {
    "duration": 3,
    "start_time": "2022-07-24T21:59:24.422Z"
   },
   {
    "duration": 38206,
    "start_time": "2022-07-24T21:59:26.862Z"
   },
   {
    "duration": 834,
    "start_time": "2022-07-24T22:00:17.677Z"
   },
   {
    "duration": 838,
    "start_time": "2022-07-24T22:00:29.181Z"
   },
   {
    "duration": 130,
    "start_time": "2022-07-24T22:05:02.553Z"
   },
   {
    "duration": 79354,
    "start_time": "2022-07-24T22:05:24.561Z"
   },
   {
    "duration": 168254,
    "start_time": "2022-07-24T22:10:58.099Z"
   },
   {
    "duration": 55882,
    "start_time": "2022-07-24T22:16:13.488Z"
   },
   {
    "duration": 803,
    "start_time": "2022-07-24T22:17:09.372Z"
   },
   {
    "duration": 4,
    "start_time": "2022-07-24T22:17:10.177Z"
   },
   {
    "duration": 10,
    "start_time": "2022-07-24T22:17:10.182Z"
   },
   {
    "duration": 24,
    "start_time": "2022-07-24T22:17:10.194Z"
   },
   {
    "duration": 5,
    "start_time": "2022-07-24T22:17:10.220Z"
   },
   {
    "duration": 29,
    "start_time": "2022-07-24T22:17:10.226Z"
   },
   {
    "duration": 17,
    "start_time": "2022-07-24T22:17:10.257Z"
   },
   {
    "duration": 3,
    "start_time": "2022-07-24T22:17:10.276Z"
   },
   {
    "duration": 6,
    "start_time": "2022-07-24T22:17:10.280Z"
   },
   {
    "duration": 497,
    "start_time": "2022-07-24T22:17:10.287Z"
   },
   {
    "duration": 36757,
    "start_time": "2022-07-24T22:17:10.785Z"
   },
   {
    "duration": 11,
    "start_time": "2022-07-24T22:17:47.546Z"
   },
   {
    "duration": 51,
    "start_time": "2022-07-24T22:17:47.560Z"
   },
   {
    "duration": 23,
    "start_time": "2022-07-24T22:17:47.612Z"
   },
   {
    "duration": 31,
    "start_time": "2022-07-24T22:17:47.636Z"
   },
   {
    "duration": 3,
    "start_time": "2022-07-24T22:17:47.669Z"
   },
   {
    "duration": 31,
    "start_time": "2022-07-24T22:17:47.674Z"
   },
   {
    "duration": 4,
    "start_time": "2022-07-24T22:17:47.707Z"
   },
   {
    "duration": 8,
    "start_time": "2022-07-24T22:17:47.712Z"
   },
   {
    "duration": 18489,
    "start_time": "2022-07-24T22:17:47.721Z"
   },
   {
    "duration": 8303,
    "start_time": "2022-07-24T22:18:06.212Z"
   },
   {
    "duration": 2375,
    "start_time": "2022-07-24T22:18:14.516Z"
   },
   {
    "duration": 3,
    "start_time": "2022-07-24T22:18:16.893Z"
   },
   {
    "duration": 878172,
    "start_time": "2022-07-24T22:18:16.897Z"
   },
   {
    "duration": 78002,
    "start_time": "2022-07-24T22:32:55.070Z"
   },
   {
    "duration": 174060,
    "start_time": "2022-07-24T22:34:13.073Z"
   },
   {
    "duration": 38609,
    "start_time": "2022-07-24T22:37:07.134Z"
   },
   {
    "duration": 6,
    "start_time": "2022-07-24T22:54:18.795Z"
   },
   {
    "duration": 4,
    "start_time": "2022-07-24T22:54:24.907Z"
   },
   {
    "duration": 4,
    "start_time": "2022-07-24T22:54:36.538Z"
   },
   {
    "duration": 101938,
    "start_time": "2022-07-24T22:55:35.358Z"
   },
   {
    "duration": 4,
    "start_time": "2022-07-24T22:57:17.298Z"
   },
   {
    "duration": 34772,
    "start_time": "2022-07-24T22:57:45.469Z"
   },
   {
    "duration": 172879,
    "start_time": "2022-07-24T22:58:56.103Z"
   },
   {
    "duration": 3,
    "start_time": "2022-07-24T23:06:17.843Z"
   },
   {
    "duration": 12,
    "start_time": "2022-07-24T23:06:51.459Z"
   },
   {
    "duration": 41,
    "start_time": "2022-07-24T23:07:00.355Z"
   },
   {
    "duration": 74159,
    "start_time": "2022-07-24T23:07:37.066Z"
   },
   {
    "duration": 2153,
    "start_time": "2022-07-24T23:08:51.227Z"
   },
   {
    "duration": 3,
    "start_time": "2022-07-24T23:08:53.382Z"
   },
   {
    "duration": 9,
    "start_time": "2022-07-24T23:08:53.387Z"
   },
   {
    "duration": 25,
    "start_time": "2022-07-24T23:08:53.397Z"
   },
   {
    "duration": 5,
    "start_time": "2022-07-24T23:08:53.424Z"
   },
   {
    "duration": 11,
    "start_time": "2022-07-24T23:08:53.431Z"
   },
   {
    "duration": 10,
    "start_time": "2022-07-24T23:08:53.443Z"
   },
   {
    "duration": 2,
    "start_time": "2022-07-24T23:08:53.455Z"
   },
   {
    "duration": 9,
    "start_time": "2022-07-24T23:08:53.459Z"
   },
   {
    "duration": 642,
    "start_time": "2022-07-24T23:08:53.469Z"
   },
   {
    "duration": 32929,
    "start_time": "2022-07-24T23:08:54.112Z"
   },
   {
    "duration": 8,
    "start_time": "2022-07-24T23:09:27.042Z"
   },
   {
    "duration": 30,
    "start_time": "2022-07-24T23:09:27.051Z"
   },
   {
    "duration": 20,
    "start_time": "2022-07-24T23:09:27.083Z"
   },
   {
    "duration": 14,
    "start_time": "2022-07-24T23:09:27.105Z"
   },
   {
    "duration": 26,
    "start_time": "2022-07-24T23:09:27.121Z"
   },
   {
    "duration": 30,
    "start_time": "2022-07-24T23:09:27.148Z"
   },
   {
    "duration": 5,
    "start_time": "2022-07-24T23:09:27.180Z"
   },
   {
    "duration": 4,
    "start_time": "2022-07-24T23:09:27.186Z"
   },
   {
    "duration": 15951,
    "start_time": "2022-07-24T23:09:27.191Z"
   },
   {
    "duration": 7054,
    "start_time": "2022-07-24T23:09:43.146Z"
   },
   {
    "duration": 2023,
    "start_time": "2022-07-24T23:09:50.202Z"
   },
   {
    "duration": 2,
    "start_time": "2022-07-24T23:09:52.227Z"
   },
   {
    "duration": 846288,
    "start_time": "2022-07-24T23:09:52.231Z"
   },
   {
    "duration": 72655,
    "start_time": "2022-07-24T23:23:58.521Z"
   },
   {
    "duration": 152673,
    "start_time": "2022-07-24T23:25:11.178Z"
   },
   {
    "duration": 37682,
    "start_time": "2022-07-24T23:27:43.854Z"
   },
   {
    "duration": 3,
    "start_time": "2022-07-24T23:28:21.537Z"
   },
   {
    "duration": 170014,
    "start_time": "2022-07-24T23:28:21.546Z"
   },
   {
    "duration": 70156,
    "start_time": "2022-07-25T07:58:09.047Z"
   },
   {
    "duration": 2516,
    "start_time": "2022-07-25T07:59:19.205Z"
   },
   {
    "duration": 11,
    "start_time": "2022-07-25T07:59:21.723Z"
   },
   {
    "duration": 9,
    "start_time": "2022-07-25T07:59:21.740Z"
   },
   {
    "duration": 9,
    "start_time": "2022-07-25T07:59:21.751Z"
   },
   {
    "duration": 4,
    "start_time": "2022-07-25T07:59:21.761Z"
   },
   {
    "duration": 7,
    "start_time": "2022-07-25T07:59:21.766Z"
   },
   {
    "duration": 508,
    "start_time": "2022-07-25T07:59:21.774Z"
   },
   {
    "duration": 86203,
    "start_time": "2022-07-25T07:59:22.284Z"
   },
   {
    "duration": 7,
    "start_time": "2022-07-25T08:00:48.488Z"
   },
   {
    "duration": 61,
    "start_time": "2022-07-25T08:00:48.497Z"
   },
   {
    "duration": 39,
    "start_time": "2022-07-25T08:00:48.560Z"
   },
   {
    "duration": 39,
    "start_time": "2022-07-25T08:00:48.600Z"
   },
   {
    "duration": 7,
    "start_time": "2022-07-25T08:00:48.645Z"
   },
   {
    "duration": 61,
    "start_time": "2022-07-25T08:00:48.653Z"
   },
   {
    "duration": 4,
    "start_time": "2022-07-25T08:00:48.715Z"
   },
   {
    "duration": 15,
    "start_time": "2022-07-25T08:00:48.721Z"
   },
   {
    "duration": 39571,
    "start_time": "2022-07-25T08:00:48.738Z"
   },
   {
    "duration": 19865,
    "start_time": "2022-07-25T08:01:28.311Z"
   },
   {
    "duration": 5708,
    "start_time": "2022-07-25T08:01:48.178Z"
   },
   {
    "duration": 3,
    "start_time": "2022-07-25T08:01:53.887Z"
   },
   {
    "duration": 2314252,
    "start_time": "2022-07-25T08:01:53.891Z"
   },
   {
    "duration": 353556,
    "start_time": "2022-07-25T08:40:28.145Z"
   },
   {
    "duration": 532739,
    "start_time": "2022-07-25T08:46:21.703Z"
   },
   {
    "duration": 55595,
    "start_time": "2022-07-25T08:55:14.444Z"
   },
   {
    "duration": 2,
    "start_time": "2022-07-25T08:56:10.041Z"
   },
   {
    "duration": 22720,
    "start_time": "2022-07-25T08:56:10.045Z"
   },
   {
    "duration": 9,
    "start_time": "2022-07-25T08:57:08.195Z"
   },
   {
    "duration": 850,
    "start_time": "2022-07-25T08:57:16.942Z"
   },
   {
    "duration": 4,
    "start_time": "2022-07-25T08:57:18.504Z"
   },
   {
    "duration": 6,
    "start_time": "2022-07-25T08:57:19.553Z"
   },
   {
    "duration": 6,
    "start_time": "2022-07-25T08:57:20.601Z"
   },
   {
    "duration": 806,
    "start_time": "2022-07-25T08:57:25.408Z"
   },
   {
    "duration": 22,
    "start_time": "2022-07-25T08:57:26.216Z"
   },
   {
    "duration": 32,
    "start_time": "2022-07-25T08:57:26.240Z"
   },
   {
    "duration": 6,
    "start_time": "2022-07-25T08:57:26.893Z"
   },
   {
    "duration": 815,
    "start_time": "2022-07-25T08:57:33.259Z"
   },
   {
    "duration": 4,
    "start_time": "2022-07-25T08:57:34.076Z"
   },
   {
    "duration": 6,
    "start_time": "2022-07-25T08:57:34.312Z"
   },
   {
    "duration": 9,
    "start_time": "2022-07-25T08:57:35.284Z"
   },
   {
    "duration": 800,
    "start_time": "2022-07-25T08:57:41.696Z"
   },
   {
    "duration": 4,
    "start_time": "2022-07-25T08:57:42.498Z"
   },
   {
    "duration": 5,
    "start_time": "2022-07-25T08:57:42.671Z"
   },
   {
    "duration": 6,
    "start_time": "2022-07-25T08:57:43.670Z"
   },
   {
    "duration": 798,
    "start_time": "2022-07-25T08:57:55.962Z"
   },
   {
    "duration": 5,
    "start_time": "2022-07-25T08:57:56.762Z"
   },
   {
    "duration": 8,
    "start_time": "2022-07-25T08:57:57.307Z"
   },
   {
    "duration": 13,
    "start_time": "2022-07-25T08:57:57.930Z"
   },
   {
    "duration": 776,
    "start_time": "2022-07-25T08:58:09.885Z"
   },
   {
    "duration": 6,
    "start_time": "2022-07-25T08:58:11.535Z"
   },
   {
    "duration": 5,
    "start_time": "2022-07-25T08:58:13.056Z"
   },
   {
    "duration": 6,
    "start_time": "2022-07-25T08:58:14.084Z"
   },
   {
    "duration": 769,
    "start_time": "2022-07-25T08:58:18.476Z"
   },
   {
    "duration": 6,
    "start_time": "2022-07-25T08:58:19.248Z"
   },
   {
    "duration": 6,
    "start_time": "2022-07-25T08:58:19.845Z"
   },
   {
    "duration": 7,
    "start_time": "2022-07-25T08:58:20.487Z"
   },
   {
    "duration": 771,
    "start_time": "2022-07-25T08:58:22.538Z"
   },
   {
    "duration": 5,
    "start_time": "2022-07-25T08:58:23.312Z"
   },
   {
    "duration": 6,
    "start_time": "2022-07-25T08:58:23.517Z"
   },
   {
    "duration": 7,
    "start_time": "2022-07-25T08:58:24.567Z"
   },
   {
    "duration": 772,
    "start_time": "2022-07-25T08:58:34.596Z"
   },
   {
    "duration": 6,
    "start_time": "2022-07-25T08:58:36.155Z"
   },
   {
    "duration": 9,
    "start_time": "2022-07-25T08:58:37.156Z"
   },
   {
    "duration": 7,
    "start_time": "2022-07-25T08:58:38.198Z"
   },
   {
    "duration": 753,
    "start_time": "2022-07-25T08:58:46.064Z"
   },
   {
    "duration": 5,
    "start_time": "2022-07-25T08:58:46.820Z"
   },
   {
    "duration": 7,
    "start_time": "2022-07-25T08:58:47.115Z"
   },
   {
    "duration": 8,
    "start_time": "2022-07-25T08:58:47.691Z"
   },
   {
    "duration": 919,
    "start_time": "2022-07-25T08:59:41.642Z"
   },
   {
    "duration": 5,
    "start_time": "2022-07-25T08:59:42.564Z"
   },
   {
    "duration": 6,
    "start_time": "2022-07-25T08:59:42.683Z"
   },
   {
    "duration": 9,
    "start_time": "2022-07-25T08:59:43.360Z"
   },
   {
    "duration": 4,
    "start_time": "2022-07-25T08:59:49.703Z"
   },
   {
    "duration": 5,
    "start_time": "2022-07-25T08:59:50.038Z"
   },
   {
    "duration": 610,
    "start_time": "2022-07-25T08:59:51.157Z"
   },
   {
    "duration": 27857,
    "start_time": "2022-07-25T08:59:51.771Z"
   },
   {
    "duration": 11,
    "start_time": "2022-07-25T09:00:19.630Z"
   },
   {
    "duration": 27,
    "start_time": "2022-07-25T09:00:19.643Z"
   },
   {
    "duration": 16,
    "start_time": "2022-07-25T09:00:19.673Z"
   },
   {
    "duration": 35,
    "start_time": "2022-07-25T09:00:19.691Z"
   },
   {
    "duration": 23,
    "start_time": "2022-07-25T09:00:19.729Z"
   },
   {
    "duration": 40,
    "start_time": "2022-07-25T09:00:19.754Z"
   },
   {
    "duration": 3,
    "start_time": "2022-07-25T09:00:19.796Z"
   },
   {
    "duration": 7,
    "start_time": "2022-07-25T09:00:19.800Z"
   },
   {
    "duration": 13797,
    "start_time": "2022-07-25T09:00:19.809Z"
   },
   {
    "duration": 6545,
    "start_time": "2022-07-25T09:00:33.608Z"
   },
   {
    "duration": 1678,
    "start_time": "2022-07-25T09:00:40.154Z"
   },
   {
    "duration": 30326,
    "start_time": "2022-07-25T09:00:46.148Z"
   },
   {
    "duration": 28,
    "start_time": "2022-07-25T09:01:42.225Z"
   },
   {
    "duration": 32647,
    "start_time": "2022-07-25T09:01:49.056Z"
   },
   {
    "duration": 730,
    "start_time": "2022-07-25T09:03:23.409Z"
   },
   {
    "duration": 3,
    "start_time": "2022-07-25T09:03:24.141Z"
   },
   {
    "duration": 7,
    "start_time": "2022-07-25T09:03:24.485Z"
   },
   {
    "duration": 7,
    "start_time": "2022-07-25T09:03:27.078Z"
   },
   {
    "duration": 78275,
    "start_time": "2022-07-25T09:03:48.580Z"
   },
   {
    "duration": 9,
    "start_time": "2022-07-25T09:05:06.857Z"
   },
   {
    "duration": 62,
    "start_time": "2022-07-25T09:05:06.868Z"
   },
   {
    "duration": 41,
    "start_time": "2022-07-25T09:05:06.932Z"
   },
   {
    "duration": 27,
    "start_time": "2022-07-25T09:05:06.974Z"
   },
   {
    "duration": 111,
    "start_time": "2022-07-25T09:05:10.584Z"
   },
   {
    "duration": 60712,
    "start_time": "2022-07-25T09:05:17.705Z"
   },
   {
    "duration": 32,
    "start_time": "2022-07-25T09:07:15.197Z"
   },
   {
    "duration": 57726,
    "start_time": "2022-07-25T09:07:21.148Z"
   },
   {
    "duration": 32,
    "start_time": "2022-07-25T09:08:31.190Z"
   },
   {
    "duration": 59935,
    "start_time": "2022-07-25T09:08:34.389Z"
   },
   {
    "duration": 45,
    "start_time": "2022-07-25T09:10:30.717Z"
   },
   {
    "duration": 51930,
    "start_time": "2022-07-25T09:10:34.069Z"
   },
   {
    "duration": 6,
    "start_time": "2022-07-25T09:11:53.548Z"
   },
   {
    "duration": 39,
    "start_time": "2022-07-25T09:13:48.902Z"
   },
   {
    "duration": 17,
    "start_time": "2022-07-25T09:13:55.174Z"
   },
   {
    "duration": 145,
    "start_time": "2022-07-25T09:14:13.085Z"
   },
   {
    "duration": 103,
    "start_time": "2022-07-25T09:14:16.147Z"
   },
   {
    "duration": 96,
    "start_time": "2022-07-25T09:14:24.578Z"
   },
   {
    "duration": 152,
    "start_time": "2022-07-25T09:15:09.102Z"
   },
   {
    "duration": 797,
    "start_time": "2022-07-25T09:15:09.257Z"
   },
   {
    "duration": 5,
    "start_time": "2022-07-25T09:15:10.055Z"
   },
   {
    "duration": 18,
    "start_time": "2022-07-25T09:15:10.061Z"
   },
   {
    "duration": 10,
    "start_time": "2022-07-25T09:15:10.081Z"
   },
   {
    "duration": 3,
    "start_time": "2022-07-25T09:15:10.092Z"
   },
   {
    "duration": 8,
    "start_time": "2022-07-25T09:15:10.096Z"
   },
   {
    "duration": 540,
    "start_time": "2022-07-25T09:15:10.106Z"
   },
   {
    "duration": 90217,
    "start_time": "2022-07-25T09:15:10.647Z"
   },
   {
    "duration": 8,
    "start_time": "2022-07-25T09:16:40.866Z"
   },
   {
    "duration": 73,
    "start_time": "2022-07-25T09:16:40.876Z"
   },
   {
    "duration": 58,
    "start_time": "2022-07-25T09:16:40.951Z"
   },
   {
    "duration": 51,
    "start_time": "2022-07-25T09:16:41.012Z"
   },
   {
    "duration": 6,
    "start_time": "2022-07-25T09:16:41.067Z"
   },
   {
    "duration": 49,
    "start_time": "2022-07-25T09:16:41.075Z"
   },
   {
    "duration": 3,
    "start_time": "2022-07-25T09:16:41.126Z"
   },
   {
    "duration": 23,
    "start_time": "2022-07-25T09:16:41.131Z"
   },
   {
    "duration": 77720,
    "start_time": "2022-07-25T09:17:35.896Z"
   },
   {
    "duration": 2639,
    "start_time": "2022-07-25T09:18:53.618Z"
   },
   {
    "duration": 4,
    "start_time": "2022-07-25T09:18:56.259Z"
   },
   {
    "duration": 26,
    "start_time": "2022-07-25T09:18:56.265Z"
   },
   {
    "duration": 12,
    "start_time": "2022-07-25T09:18:56.294Z"
   },
   {
    "duration": 3,
    "start_time": "2022-07-25T09:18:56.308Z"
   },
   {
    "duration": 12,
    "start_time": "2022-07-25T09:18:56.313Z"
   },
   {
    "duration": 628,
    "start_time": "2022-07-25T09:18:56.327Z"
   },
   {
    "duration": 89134,
    "start_time": "2022-07-25T09:18:56.956Z"
   },
   {
    "duration": 11,
    "start_time": "2022-07-25T09:20:26.091Z"
   },
   {
    "duration": 64,
    "start_time": "2022-07-25T09:20:26.104Z"
   },
   {
    "duration": 54,
    "start_time": "2022-07-25T09:20:26.170Z"
   },
   {
    "duration": 32,
    "start_time": "2022-07-25T09:20:26.233Z"
   },
   {
    "duration": 15,
    "start_time": "2022-07-25T09:20:26.268Z"
   },
   {
    "duration": 41,
    "start_time": "2022-07-25T09:20:26.285Z"
   },
   {
    "duration": 14,
    "start_time": "2022-07-25T09:20:26.329Z"
   },
   {
    "duration": 4,
    "start_time": "2022-07-25T09:20:26.345Z"
   },
   {
    "duration": 46607,
    "start_time": "2022-07-25T09:20:26.351Z"
   },
   {
    "duration": 23095,
    "start_time": "2022-07-25T09:21:12.960Z"
   },
   {
    "duration": 4891,
    "start_time": "2022-07-25T09:21:36.057Z"
   },
   {
    "duration": 3,
    "start_time": "2022-07-25T09:21:40.949Z"
   },
   {
    "duration": 2340486,
    "start_time": "2022-07-25T09:21:40.954Z"
   },
   {
    "duration": 340611,
    "start_time": "2022-07-25T10:00:41.442Z"
   },
   {
    "duration": 565934,
    "start_time": "2022-07-25T10:06:22.055Z"
   },
   {
    "duration": 61928,
    "start_time": "2022-07-25T10:15:47.991Z"
   },
   {
    "duration": 497129,
    "start_time": "2022-07-25T10:16:49.921Z"
   },
   {
    "duration": 134,
    "start_time": "2022-07-25T10:25:07.051Z"
   },
   {
    "duration": 91,
    "start_time": "2022-07-26T05:10:27.203Z"
   }
  ],
  "kernelspec": {
   "display_name": "Python 3",
   "language": "python",
   "name": "python3"
  },
  "language_info": {
   "codemirror_mode": {
    "name": "ipython",
    "version": 3
   },
   "file_extension": ".py",
   "mimetype": "text/x-python",
   "name": "python",
   "nbconvert_exporter": "python",
   "pygments_lexer": "ipython3",
   "version": "3.8.8"
  },
  "toc": {
   "base_numbering": 1,
   "nav_menu": {},
   "number_sections": true,
   "sideBar": true,
   "skip_h1_title": true,
   "title_cell": "Содержание",
   "title_sidebar": "Contents",
   "toc_cell": true,
   "toc_position": {
    "height": "calc(100% - 180px)",
    "left": "10px",
    "top": "150px",
    "width": "302.391px"
   },
   "toc_section_display": true,
   "toc_window_display": false
  }
 },
 "nbformat": 4,
 "nbformat_minor": 4
}
