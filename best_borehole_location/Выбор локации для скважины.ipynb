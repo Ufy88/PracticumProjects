{
 "cells": [
  {
   "cell_type": "markdown",
   "metadata": {},
   "source": [
    "# 1.   Выбор локации для скважины"
   ]
  },
  {
   "cell_type": "markdown",
   "metadata": {},
   "source": [
    "<div style=\"background-color: #fff0e0; padding: 10px; font-family: monospace; font-size: 15px\">\n",
    "Допустим, вы работаете в добывающей компании «ГлавРосГосНефть». Нужно решить, где бурить новую скважину.\n",
    "<br><br>\n",
    "<br><br>Вам предоставлены пробы нефти в трёх регионах: в каждом 10 000 месторождений, где измерили качество нефти и объём её запасов. Постройте модель машинного обучения, которая поможет определить регион, где добыча принесёт наибольшую прибыль. Проанализируйте возможную прибыль и риски техникой *Bootstrap.*\n",
    "<br><br>\n",
    "<br><br>Шаги для выбора локации:\n",
    "<br><br>\n",
    "<br><br>- В избранном регионе ищут месторождения, для каждого определяют значения признаков;\n",
    "<br><br>- Строят модель и оценивают объём запасов;\n",
    "<br><br>- Выбирают месторождения с самым высокими оценками значений. Количество месторождений зависит от бюджета компании и стоимости разработки одной скважины;\n",
    "<br><br>- Прибыль равна суммарной прибыли отобранных месторождений.</div>"
   ]
  },
  {
   "cell_type": "markdown",
   "metadata": {},
   "source": [
    "## 1.1.   Загрузка и подготовка данных"
   ]
  },
  {
   "cell_type": "markdown",
   "metadata": {},
   "source": [
    "### 1.1.1.   Импорт модулей"
   ]
  },
  {
   "cell_type": "code",
   "execution_count": 1,
   "metadata": {},
   "outputs": [],
   "source": [
    "import pandas as pd\n",
    "import numpy as np\n",
    "from scipy import stats as st\n",
    "from sklearn.preprocessing import StandardScaler\n",
    "from sklearn.model_selection import train_test_split\n",
    "from sklearn.linear_model import LinearRegression\n",
    "from sklearn.metrics import mean_squared_error"
   ]
  },
  {
   "cell_type": "markdown",
   "metadata": {},
   "source": [
    "### 1.1.2.   Чтение и знакомство с данными"
   ]
  },
  {
   "cell_type": "code",
   "execution_count": 2,
   "metadata": {},
   "outputs": [],
   "source": [
    "data0 = pd.read_csv('/datasets/geo_data_0.csv')\n",
    "data1 = pd.read_csv('/datasets/geo_data_1.csv')\n",
    "data2 = pd.read_csv('/datasets/geo_data_2.csv')"
   ]
  },
  {
   "cell_type": "markdown",
   "metadata": {},
   "source": [
    "<div style=\"background-color: #fff0e0; padding: 10px; font-family: monospace; font-size: 15px\">\n",
    "Взглянем на датасеты и их характеристики</div>"
   ]
  },
  {
   "cell_type": "code",
   "execution_count": 3,
   "metadata": {},
   "outputs": [
    {
     "data": {
      "text/html": [
       "<div>\n",
       "<style scoped>\n",
       "    .dataframe tbody tr th:only-of-type {\n",
       "        vertical-align: middle;\n",
       "    }\n",
       "\n",
       "    .dataframe tbody tr th {\n",
       "        vertical-align: top;\n",
       "    }\n",
       "\n",
       "    .dataframe thead th {\n",
       "        text-align: right;\n",
       "    }\n",
       "</style>\n",
       "<table border=\"1\" class=\"dataframe\">\n",
       "  <thead>\n",
       "    <tr style=\"text-align: right;\">\n",
       "      <th></th>\n",
       "      <th>id</th>\n",
       "      <th>f0</th>\n",
       "      <th>f1</th>\n",
       "      <th>f2</th>\n",
       "      <th>product</th>\n",
       "    </tr>\n",
       "  </thead>\n",
       "  <tbody>\n",
       "    <tr>\n",
       "      <th>0</th>\n",
       "      <td>txEyH</td>\n",
       "      <td>0.705745</td>\n",
       "      <td>-0.497823</td>\n",
       "      <td>1.221170</td>\n",
       "      <td>105.280062</td>\n",
       "    </tr>\n",
       "    <tr>\n",
       "      <th>1</th>\n",
       "      <td>2acmU</td>\n",
       "      <td>1.334711</td>\n",
       "      <td>-0.340164</td>\n",
       "      <td>4.365080</td>\n",
       "      <td>73.037750</td>\n",
       "    </tr>\n",
       "    <tr>\n",
       "      <th>2</th>\n",
       "      <td>409Wp</td>\n",
       "      <td>1.022732</td>\n",
       "      <td>0.151990</td>\n",
       "      <td>1.419926</td>\n",
       "      <td>85.265647</td>\n",
       "    </tr>\n",
       "    <tr>\n",
       "      <th>3</th>\n",
       "      <td>iJLyR</td>\n",
       "      <td>-0.032172</td>\n",
       "      <td>0.139033</td>\n",
       "      <td>2.978566</td>\n",
       "      <td>168.620776</td>\n",
       "    </tr>\n",
       "    <tr>\n",
       "      <th>4</th>\n",
       "      <td>Xdl7t</td>\n",
       "      <td>1.988431</td>\n",
       "      <td>0.155413</td>\n",
       "      <td>4.751769</td>\n",
       "      <td>154.036647</td>\n",
       "    </tr>\n",
       "  </tbody>\n",
       "</table>\n",
       "</div>"
      ],
      "text/plain": [
       "      id        f0        f1        f2     product\n",
       "0  txEyH  0.705745 -0.497823  1.221170  105.280062\n",
       "1  2acmU  1.334711 -0.340164  4.365080   73.037750\n",
       "2  409Wp  1.022732  0.151990  1.419926   85.265647\n",
       "3  iJLyR -0.032172  0.139033  2.978566  168.620776\n",
       "4  Xdl7t  1.988431  0.155413  4.751769  154.036647"
      ]
     },
     "metadata": {},
     "output_type": "display_data"
    },
    {
     "data": {
      "text/plain": [
       "(100000, 5)"
      ]
     },
     "metadata": {},
     "output_type": "display_data"
    },
    {
     "data": {
      "text/html": [
       "<div>\n",
       "<style scoped>\n",
       "    .dataframe tbody tr th:only-of-type {\n",
       "        vertical-align: middle;\n",
       "    }\n",
       "\n",
       "    .dataframe tbody tr th {\n",
       "        vertical-align: top;\n",
       "    }\n",
       "\n",
       "    .dataframe thead th {\n",
       "        text-align: right;\n",
       "    }\n",
       "</style>\n",
       "<table border=\"1\" class=\"dataframe\">\n",
       "  <thead>\n",
       "    <tr style=\"text-align: right;\">\n",
       "      <th></th>\n",
       "      <th>id</th>\n",
       "      <th>f0</th>\n",
       "      <th>f1</th>\n",
       "      <th>f2</th>\n",
       "      <th>product</th>\n",
       "    </tr>\n",
       "  </thead>\n",
       "  <tbody>\n",
       "    <tr>\n",
       "      <th>0</th>\n",
       "      <td>kBEdx</td>\n",
       "      <td>-15.001348</td>\n",
       "      <td>-8.276000</td>\n",
       "      <td>-0.005876</td>\n",
       "      <td>3.179103</td>\n",
       "    </tr>\n",
       "    <tr>\n",
       "      <th>1</th>\n",
       "      <td>62mP7</td>\n",
       "      <td>14.272088</td>\n",
       "      <td>-3.475083</td>\n",
       "      <td>0.999183</td>\n",
       "      <td>26.953261</td>\n",
       "    </tr>\n",
       "    <tr>\n",
       "      <th>2</th>\n",
       "      <td>vyE1P</td>\n",
       "      <td>6.263187</td>\n",
       "      <td>-5.948386</td>\n",
       "      <td>5.001160</td>\n",
       "      <td>134.766305</td>\n",
       "    </tr>\n",
       "    <tr>\n",
       "      <th>3</th>\n",
       "      <td>KcrkZ</td>\n",
       "      <td>-13.081196</td>\n",
       "      <td>-11.506057</td>\n",
       "      <td>4.999415</td>\n",
       "      <td>137.945408</td>\n",
       "    </tr>\n",
       "    <tr>\n",
       "      <th>4</th>\n",
       "      <td>AHL4O</td>\n",
       "      <td>12.702195</td>\n",
       "      <td>-8.147433</td>\n",
       "      <td>5.004363</td>\n",
       "      <td>134.766305</td>\n",
       "    </tr>\n",
       "  </tbody>\n",
       "</table>\n",
       "</div>"
      ],
      "text/plain": [
       "      id         f0         f1        f2     product\n",
       "0  kBEdx -15.001348  -8.276000 -0.005876    3.179103\n",
       "1  62mP7  14.272088  -3.475083  0.999183   26.953261\n",
       "2  vyE1P   6.263187  -5.948386  5.001160  134.766305\n",
       "3  KcrkZ -13.081196 -11.506057  4.999415  137.945408\n",
       "4  AHL4O  12.702195  -8.147433  5.004363  134.766305"
      ]
     },
     "metadata": {},
     "output_type": "display_data"
    },
    {
     "data": {
      "text/plain": [
       "(100000, 5)"
      ]
     },
     "metadata": {},
     "output_type": "display_data"
    },
    {
     "data": {
      "text/html": [
       "<div>\n",
       "<style scoped>\n",
       "    .dataframe tbody tr th:only-of-type {\n",
       "        vertical-align: middle;\n",
       "    }\n",
       "\n",
       "    .dataframe tbody tr th {\n",
       "        vertical-align: top;\n",
       "    }\n",
       "\n",
       "    .dataframe thead th {\n",
       "        text-align: right;\n",
       "    }\n",
       "</style>\n",
       "<table border=\"1\" class=\"dataframe\">\n",
       "  <thead>\n",
       "    <tr style=\"text-align: right;\">\n",
       "      <th></th>\n",
       "      <th>id</th>\n",
       "      <th>f0</th>\n",
       "      <th>f1</th>\n",
       "      <th>f2</th>\n",
       "      <th>product</th>\n",
       "    </tr>\n",
       "  </thead>\n",
       "  <tbody>\n",
       "    <tr>\n",
       "      <th>0</th>\n",
       "      <td>fwXo0</td>\n",
       "      <td>-1.146987</td>\n",
       "      <td>0.963328</td>\n",
       "      <td>-0.828965</td>\n",
       "      <td>27.758673</td>\n",
       "    </tr>\n",
       "    <tr>\n",
       "      <th>1</th>\n",
       "      <td>WJtFt</td>\n",
       "      <td>0.262778</td>\n",
       "      <td>0.269839</td>\n",
       "      <td>-2.530187</td>\n",
       "      <td>56.069697</td>\n",
       "    </tr>\n",
       "    <tr>\n",
       "      <th>2</th>\n",
       "      <td>ovLUW</td>\n",
       "      <td>0.194587</td>\n",
       "      <td>0.289035</td>\n",
       "      <td>-5.586433</td>\n",
       "      <td>62.871910</td>\n",
       "    </tr>\n",
       "    <tr>\n",
       "      <th>3</th>\n",
       "      <td>q6cA6</td>\n",
       "      <td>2.236060</td>\n",
       "      <td>-0.553760</td>\n",
       "      <td>0.930038</td>\n",
       "      <td>114.572842</td>\n",
       "    </tr>\n",
       "    <tr>\n",
       "      <th>4</th>\n",
       "      <td>WPMUX</td>\n",
       "      <td>-0.515993</td>\n",
       "      <td>1.716266</td>\n",
       "      <td>5.899011</td>\n",
       "      <td>149.600746</td>\n",
       "    </tr>\n",
       "  </tbody>\n",
       "</table>\n",
       "</div>"
      ],
      "text/plain": [
       "      id        f0        f1        f2     product\n",
       "0  fwXo0 -1.146987  0.963328 -0.828965   27.758673\n",
       "1  WJtFt  0.262778  0.269839 -2.530187   56.069697\n",
       "2  ovLUW  0.194587  0.289035 -5.586433   62.871910\n",
       "3  q6cA6  2.236060 -0.553760  0.930038  114.572842\n",
       "4  WPMUX -0.515993  1.716266  5.899011  149.600746"
      ]
     },
     "metadata": {},
     "output_type": "display_data"
    },
    {
     "data": {
      "text/plain": [
       "(100000, 5)"
      ]
     },
     "metadata": {},
     "output_type": "display_data"
    }
   ],
   "source": [
    "display(data0.head(), data0.shape)\n",
    "display(data1.head(), data1.shape)\n",
    "display(data2.head(), data2.shape)"
   ]
  },
  {
   "cell_type": "markdown",
   "metadata": {},
   "source": [
    "<div style=\"background-color: #fff0e0; padding: 10px; font-family: monospace; font-size: 15px\">\n",
    "Здесь все культурно, имеется много данных, проверим на ошибки и соответствие типам данных</div>"
   ]
  },
  {
   "cell_type": "code",
   "execution_count": 4,
   "metadata": {},
   "outputs": [
    {
     "name": "stdout",
     "output_type": "stream",
     "text": [
      "<class 'pandas.core.frame.DataFrame'>\n",
      "RangeIndex: 100000 entries, 0 to 99999\n",
      "Data columns (total 5 columns):\n",
      " #   Column   Non-Null Count   Dtype  \n",
      "---  ------   --------------   -----  \n",
      " 0   id       100000 non-null  object \n",
      " 1   f0       100000 non-null  float64\n",
      " 2   f1       100000 non-null  float64\n",
      " 3   f2       100000 non-null  float64\n",
      " 4   product  100000 non-null  float64\n",
      "dtypes: float64(4), object(1)\n",
      "memory usage: 3.8+ MB\n",
      "None \n",
      "\n",
      "\n",
      "<class 'pandas.core.frame.DataFrame'>\n",
      "RangeIndex: 100000 entries, 0 to 99999\n",
      "Data columns (total 5 columns):\n",
      " #   Column   Non-Null Count   Dtype  \n",
      "---  ------   --------------   -----  \n",
      " 0   id       100000 non-null  object \n",
      " 1   f0       100000 non-null  float64\n",
      " 2   f1       100000 non-null  float64\n",
      " 3   f2       100000 non-null  float64\n",
      " 4   product  100000 non-null  float64\n",
      "dtypes: float64(4), object(1)\n",
      "memory usage: 3.8+ MB\n",
      "None \n",
      "\n",
      "\n",
      "<class 'pandas.core.frame.DataFrame'>\n",
      "RangeIndex: 100000 entries, 0 to 99999\n",
      "Data columns (total 5 columns):\n",
      " #   Column   Non-Null Count   Dtype  \n",
      "---  ------   --------------   -----  \n",
      " 0   id       100000 non-null  object \n",
      " 1   f0       100000 non-null  float64\n",
      " 2   f1       100000 non-null  float64\n",
      " 3   f2       100000 non-null  float64\n",
      " 4   product  100000 non-null  float64\n",
      "dtypes: float64(4), object(1)\n",
      "memory usage: 3.8+ MB\n",
      "None \n",
      "\n",
      "\n"
     ]
    }
   ],
   "source": [
    "print(data0.info(), '\\n\\n')\n",
    "print(data1.info(), '\\n\\n')\n",
    "print(data2.info(), '\\n\\n')"
   ]
  },
  {
   "cell_type": "markdown",
   "metadata": {},
   "source": [
    "<div style=\"background-color: #fff0e0; padding: 10px; font-family: monospace; font-size: 15px\">\n",
    "Здесь так же порядок – данные принадлежат нужным типам, ошибок нигде нет</div>"
   ]
  },
  {
   "cell_type": "markdown",
   "metadata": {},
   "source": [
    "## 1.2.   Обучение и проверка модели"
   ]
  },
  {
   "cell_type": "markdown",
   "metadata": {},
   "source": [
    "### 1.2.1.   Создание функции"
   ]
  },
  {
   "cell_type": "markdown",
   "metadata": {},
   "source": [
    "<div style=\"background-color: #fff0e0; padding: 10px; font-family: monospace; font-size: 15px\">\n",
    "Создадим функцию, которая будет автоматически разбивать данные и обучать модель</div>"
   ]
  },
  {
   "cell_type": "code",
   "execution_count": 5,
   "metadata": {},
   "outputs": [],
   "source": [
    "# функция принимает признаки, целевой признак, размеры выборок \n",
    "# и доп. параметр, долгоиграющий – нужен ли принт (в будущем может помешаться)\n",
    "def linear_auto_model(features, target, print_=True):\n",
    "    features_train, features_valid, target_train, target_valid = train_test_split(features, \n",
    "                                                                                  target, \n",
    "                                                                                  test_size=0.25, \n",
    "                                                                                  random_state=0)\n",
    "    #код ревьюера                                                                           random_state=0)\n",
    "    print(target_valid.shape)\n",
    "    model = LinearRegression()\n",
    "    model.fit(features_train, target_train)\n",
    "    predicted_valid = model.predict(features_valid)\n",
    "    if print_:\n",
    "        print(f'Средний запас по предсказанию: {predicted_valid.mean()}')\n",
    "        print(f'RMSE модели: {mean_squared_error(predicted_valid, target_valid)**0.5}')\n",
    "    # так как в будущем нам понадобятся эти модели – вернем их сразу после обучения\n",
    "    return model, (predicted_valid, target_valid)"
   ]
  },
  {
   "cell_type": "markdown",
   "metadata": {},
   "source": [
    "### 1.2.2.   Проверка моделей"
   ]
  },
  {
   "cell_type": "markdown",
   "metadata": {},
   "source": [
    "<div style=\"background-color: #fff0e0; padding: 10px; font-family: monospace; font-size: 15px\">\n",
    "Трансформируем признаки</div>"
   ]
  },
  {
   "cell_type": "code",
   "execution_count": 6,
   "metadata": {},
   "outputs": [],
   "source": [
    "# разделяем данные на выборки\n",
    "features_train, features_valid, target_train, target_valid = train_test_split(data0[['f0', 'f1', 'f2']], \n",
    "                                                                                  data0['product'], \n",
    "                                                                                  test_size=0.25, \n",
    "                                                                                  random_state=0)\n",
    "\n",
    "# обучаем Scaler на тренировочной выборке\n",
    "scaler = StandardScaler().fit(features_train)\n",
    "\n",
    "data0[['f0', 'f1', 'f2']] = scaler.transform(data0[['f0', 'f1', 'f2']])"
   ]
  },
  {
   "cell_type": "markdown",
   "metadata": {},
   "source": [
    "<div style=\"background-color: #fff0e0; padding: 10px; font-family: monospace; font-size: 15px\">\n",
    "И так со всеми</div>"
   ]
  },
  {
   "cell_type": "code",
   "execution_count": 7,
   "metadata": {},
   "outputs": [],
   "source": [
    "features_train, features_valid, target_train, target_valid = train_test_split(data1[['f0', 'f1', 'f2']], \n",
    "                                                                                  data1['product'], \n",
    "                                                                                  test_size=0.25, \n",
    "                                                                                  random_state=0)\n",
    "scaler = StandardScaler().fit(features_train)\n",
    "\n",
    "data1[['f0', 'f1', 'f2']] = StandardScaler().fit_transform(data1[['f0', 'f1', 'f2']])"
   ]
  },
  {
   "cell_type": "code",
   "execution_count": 8,
   "metadata": {},
   "outputs": [],
   "source": [
    "features_train, features_valid, target_train, target_valid = train_test_split(data2[['f0', 'f1', 'f2']], \n",
    "                                                                                  data2['product'], \n",
    "                                                                                  test_size=0.25, \n",
    "                                                                                  random_state=0)\n",
    "scaler = StandardScaler().fit(features_train)\n",
    "\n",
    "data2[['f0', 'f1', 'f2']] = StandardScaler().fit_transform(data2[['f0', 'f1', 'f2']])"
   ]
  },
  {
   "cell_type": "markdown",
   "metadata": {},
   "source": [
    "<div style=\"background-color: #fff0e0; padding: 10px; font-family: monospace; font-size: 15px\">\n",
    "Теперь проверим функцию на наших данных</div>"
   ]
  },
  {
   "cell_type": "code",
   "execution_count": 9,
   "metadata": {},
   "outputs": [
    {
     "name": "stdout",
     "output_type": "stream",
     "text": [
      "(25000,)\n",
      "Средний запас по предсказанию: 92.27144852242301\n",
      "RMSE модели: 37.48100896950594\n"
     ]
    },
    {
     "data": {
      "text/plain": [
       "LinearRegression()"
      ]
     },
     "execution_count": 9,
     "metadata": {},
     "output_type": "execute_result"
    }
   ],
   "source": [
    "linear_auto_model(data0.drop(['id', 'product'], axis=1), data0['product'])[0]"
   ]
  },
  {
   "cell_type": "markdown",
   "metadata": {},
   "source": [
    "<div style=\"background-color: #fff0e0; padding: 10px; font-family: monospace; font-size: 15px\">\n",
    "Разброс в районе 38 пунктов при среднем в 91 – очень немало, такая модель не может пойти в работу</div>"
   ]
  },
  {
   "cell_type": "code",
   "execution_count": 10,
   "metadata": {},
   "outputs": [
    {
     "name": "stdout",
     "output_type": "stream",
     "text": [
      "(25000,)\n",
      "Средний запас по предсказанию: 69.15162398290754\n",
      "RMSE модели: 0.887257305221933\n"
     ]
    },
    {
     "data": {
      "text/plain": [
       "LinearRegression()"
      ]
     },
     "execution_count": 10,
     "metadata": {},
     "output_type": "execute_result"
    }
   ],
   "source": [
    "linear_auto_model(data1.drop(['id', 'product'], axis=1), data1['product'])[0]"
   ]
  },
  {
   "cell_type": "markdown",
   "metadata": {},
   "source": [
    "<div style=\"background-color: #fff0e0; padding: 10px; font-family: monospace; font-size: 15px\">\n",
    "Здесь все намного более удачно - разброс малый, по сравнению с масштабом данных</div>"
   ]
  },
  {
   "cell_type": "code",
   "execution_count": 11,
   "metadata": {
    "scrolled": true
   },
   "outputs": [
    {
     "name": "stdout",
     "output_type": "stream",
     "text": [
      "(25000,)\n",
      "Средний запас по предсказанию: 94.70753129105672\n",
      "RMSE модели: 40.31290686044374\n"
     ]
    },
    {
     "data": {
      "text/plain": [
       "LinearRegression()"
      ]
     },
     "execution_count": 11,
     "metadata": {},
     "output_type": "execute_result"
    }
   ],
   "source": [
    "linear_auto_model(data2.drop(['id', 'product'], axis=1), data2['product'])[0]"
   ]
  },
  {
   "cell_type": "markdown",
   "metadata": {},
   "source": [
    "<div style=\"background-color: #fff0e0; padding: 10px; font-family: monospace; font-size: 15px\">\n",
    "История циклична, и в третьем регионе разброс по предсказаниям так же высок, как и в первом</div>\n",
    "\n",
    "<div style=\"background-color: #fff0e0; padding: 10px; font-family: monospace; font-size: 15px\">\n",
    "Вторая модель имеет аномально низкий показатель RMSE, по сравнению с остальными двумя параметрами. Стоит проверить ее данные на корреляцию</div>"
   ]
  },
  {
   "cell_type": "code",
   "execution_count": 12,
   "metadata": {},
   "outputs": [
    {
     "data": {
      "text/html": [
       "<div>\n",
       "<style scoped>\n",
       "    .dataframe tbody tr th:only-of-type {\n",
       "        vertical-align: middle;\n",
       "    }\n",
       "\n",
       "    .dataframe tbody tr th {\n",
       "        vertical-align: top;\n",
       "    }\n",
       "\n",
       "    .dataframe thead th {\n",
       "        text-align: right;\n",
       "    }\n",
       "</style>\n",
       "<table border=\"1\" class=\"dataframe\">\n",
       "  <thead>\n",
       "    <tr style=\"text-align: right;\">\n",
       "      <th></th>\n",
       "      <th>f0</th>\n",
       "      <th>f1</th>\n",
       "      <th>f2</th>\n",
       "      <th>product</th>\n",
       "    </tr>\n",
       "  </thead>\n",
       "  <tbody>\n",
       "    <tr>\n",
       "      <th>f0</th>\n",
       "      <td>1.000000</td>\n",
       "      <td>0.182287</td>\n",
       "      <td>-0.001777</td>\n",
       "      <td>-0.030491</td>\n",
       "    </tr>\n",
       "    <tr>\n",
       "      <th>f1</th>\n",
       "      <td>0.182287</td>\n",
       "      <td>1.000000</td>\n",
       "      <td>-0.002595</td>\n",
       "      <td>-0.010155</td>\n",
       "    </tr>\n",
       "    <tr>\n",
       "      <th>f2</th>\n",
       "      <td>-0.001777</td>\n",
       "      <td>-0.002595</td>\n",
       "      <td>1.000000</td>\n",
       "      <td>0.999397</td>\n",
       "    </tr>\n",
       "    <tr>\n",
       "      <th>product</th>\n",
       "      <td>-0.030491</td>\n",
       "      <td>-0.010155</td>\n",
       "      <td>0.999397</td>\n",
       "      <td>1.000000</td>\n",
       "    </tr>\n",
       "  </tbody>\n",
       "</table>\n",
       "</div>"
      ],
      "text/plain": [
       "               f0        f1        f2   product\n",
       "f0       1.000000  0.182287 -0.001777 -0.030491\n",
       "f1       0.182287  1.000000 -0.002595 -0.010155\n",
       "f2      -0.001777 -0.002595  1.000000  0.999397\n",
       "product -0.030491 -0.010155  0.999397  1.000000"
      ]
     },
     "execution_count": 12,
     "metadata": {},
     "output_type": "execute_result"
    }
   ],
   "source": [
    "data1.corr()"
   ]
  },
  {
   "cell_type": "markdown",
   "metadata": {},
   "source": [
    "<div style=\"background-color: #fff0e0; padding: 10px; font-family: monospace; font-size: 15px\">\n",
    "3%, 1%, 99% – это говорит о сильной связи третьего параметра с переменной product – отсюда и малый разброс: данные легко предсказать</div>"
   ]
  },
  {
   "cell_type": "markdown",
   "metadata": {},
   "source": [
    "### 1.2.3.   Вывод"
   ]
  },
  {
   "cell_type": "markdown",
   "metadata": {},
   "source": [
    "<div style=\"background-color: #fff0e0; padding: 10px; font-family: monospace; font-size: 15px\">\n",
    "Самый малый разброс показал второй регион, скорее всего, это связано с высокой корреляцией. Первый и третий регионы имеют очень большой RMSE, вследствие чего таким данным сложно доверять</div>"
   ]
  },
  {
   "cell_type": "markdown",
   "metadata": {},
   "source": [
    "## 1.3.   Подготовка к расчёту прибыли"
   ]
  },
  {
   "cell_type": "markdown",
   "metadata": {},
   "source": [
    "### 1.3.1.   Сохранение основных показателей"
   ]
  },
  {
   "cell_type": "markdown",
   "metadata": {},
   "source": [
    "<div style=\"background-color: #fff0e0; padding: 10px; font-family: monospace; font-size: 15px\">\n",
    "Сохраним основные данные для расчета</div>"
   ]
  },
  {
   "cell_type": "code",
   "execution_count": 13,
   "metadata": {},
   "outputs": [],
   "source": [
    "# бюджет для строительства скважин – 10 млрд\n",
    "BUDGET = 10*(10**9)\n",
    "# доход с единицы объема - 450 тыс\n",
    "PROFIT = 450000\n",
    "# количество скважин для строительства – 200\n",
    "BOREHOLES = 200"
   ]
  },
  {
   "cell_type": "markdown",
   "metadata": {},
   "source": [
    "### 1.3.2.   Расчет необходимого запаса"
   ]
  },
  {
   "cell_type": "markdown",
   "metadata": {},
   "source": [
    "<div style=\"background-color: #fff0e0; padding: 10px; font-family: monospace; font-size: 15px\">\n",
    "Создадим функцию для расчета необходимого запаса в одной скважине для выхода в ноль</div>"
   ]
  },
  {
   "cell_type": "code",
   "execution_count": 14,
   "metadata": {},
   "outputs": [],
   "source": [
    "def one_borehole_min_value(budget, one_point_profit, borehole_count):\n",
    "    return budget / one_point_profit / borehole_count"
   ]
  },
  {
   "cell_type": "markdown",
   "metadata": {},
   "source": [
    "<div style=\"background-color: #fff0e0; padding: 10px; font-family: monospace; font-size: 15px\">\n",
    "Посмотрим на результат при наших данных</div>"
   ]
  },
  {
   "cell_type": "code",
   "execution_count": 15,
   "metadata": {},
   "outputs": [
    {
     "data": {
      "text/plain": [
       "111.11111111111111"
      ]
     },
     "execution_count": 15,
     "metadata": {},
     "output_type": "execute_result"
    }
   ],
   "source": [
    "one_borehole_min_value(BUDGET, PROFIT, BOREHOLES)"
   ]
  },
  {
   "cell_type": "markdown",
   "metadata": {},
   "source": [
    "<div style=\"background-color: #fff0e0; padding: 10px; font-family: monospace; font-size: 15px\">\n",
    "111 единиц сырья – немало, учитывая имеющиеся малые объемы в других скважинах</div>"
   ]
  },
  {
   "cell_type": "markdown",
   "metadata": {},
   "source": [
    "### 1.3.3.   Сравнение значений"
   ]
  },
  {
   "cell_type": "markdown",
   "metadata": {},
   "source": [
    "<div style=\"background-color: #fff0e0; padding: 10px; font-family: monospace; font-size: 15px\">\n",
    "Теперь посмотрим на средние значения скважин в разных регионах</div>"
   ]
  },
  {
   "cell_type": "code",
   "execution_count": 16,
   "metadata": {},
   "outputs": [
    {
     "data": {
      "text/plain": [
       "92.50000000000001"
      ]
     },
     "execution_count": 16,
     "metadata": {},
     "output_type": "execute_result"
    }
   ],
   "source": [
    "data0['product'].mean()"
   ]
  },
  {
   "cell_type": "markdown",
   "metadata": {},
   "source": [
    "<div style=\"background-color: #fff0e0; padding: 10px; font-family: monospace; font-size: 15px\">\n",
    "В первом регионе, в среднем, 92 единицы сырья в скважине, что не очень далеко от требуемых значений</div>"
   ]
  },
  {
   "cell_type": "code",
   "execution_count": 17,
   "metadata": {},
   "outputs": [
    {
     "data": {
      "text/plain": [
       "68.82500000000002"
      ]
     },
     "execution_count": 17,
     "metadata": {},
     "output_type": "execute_result"
    }
   ],
   "source": [
    "data1['product'].mean()"
   ]
  },
  {
   "cell_type": "markdown",
   "metadata": {},
   "source": [
    "<div style=\"background-color: #fff0e0; padding: 10px; font-family: monospace; font-size: 15px\">\n",
    "Во втором регионе значительно меньший средний показатель – всего лишь 68 единиц сырья</div>"
   ]
  },
  {
   "cell_type": "code",
   "execution_count": 18,
   "metadata": {},
   "outputs": [
    {
     "data": {
      "text/plain": [
       "95.00000000000004"
      ]
     },
     "execution_count": 18,
     "metadata": {},
     "output_type": "execute_result"
    }
   ],
   "source": [
    "data2['product'].mean()"
   ]
  },
  {
   "cell_type": "markdown",
   "metadata": {},
   "source": [
    "<div style=\"background-color: #fff0e0; padding: 10px; font-family: monospace; font-size: 15px\">\n",
    "В третьем регионе среднее значение больше всех – 95 единиц сырья в скважине</div>"
   ]
  },
  {
   "cell_type": "markdown",
   "metadata": {},
   "source": [
    "### 1.3.4.   Функция поиска лучших скважин"
   ]
  },
  {
   "cell_type": "markdown",
   "metadata": {},
   "source": [
    "<div style=\"background-color: #fff0e0; padding: 10px; font-family: monospace; font-size: 15px\">\n",
    "Теперь создадим функцию, рассчитывающую прибыль с 200 самых удачных скважин в регионе</div>"
   ]
  },
  {
   "cell_type": "code",
   "execution_count": 19,
   "metadata": {},
   "outputs": [],
   "source": [
    "def best_boreholes_profit(region_data, predicted_boreholes_data):\n",
    "    # сортируем полученные значения по убыванию и берем первые 200 элементов\n",
    "    sorted_predicted = predicted_boreholes_data.sort_values(ascending=False)[:BOREHOLES]\n",
    "    return sum(region_data[sorted_predicted.index]) * PROFIT, sorted_predicted"
   ]
  },
  {
   "cell_type": "markdown",
   "metadata": {},
   "source": [
    "### 1.3.5.   Проверка на данных"
   ]
  },
  {
   "cell_type": "markdown",
   "metadata": {},
   "source": [
    "<div style=\"background-color: #fff0e0; padding: 10px; font-family: monospace; font-size: 15px\">\n",
    "Проверим их на наших регионах, предсказав прибыль с каждого </div>\n",
    "\n",
    "<div style=\"background-color: #fff0e0; padding: 10px; font-family: monospace; font-size: 15px\">\n",
    "Построим модель на данных из первого региона</div>"
   ]
  },
  {
   "cell_type": "code",
   "execution_count": 20,
   "metadata": {},
   "outputs": [
    {
     "name": "stdout",
     "output_type": "stream",
     "text": [
      "(25000,)\n"
     ]
    }
   ],
   "source": [
    "model, (predicted0_valid, target0_valid) = linear_auto_model(data0.drop(['id', 'product'], axis=1), \n",
    "                                                           data0['product'], \n",
    "                                                           print_=False)"
   ]
  },
  {
   "cell_type": "markdown",
   "metadata": {},
   "source": [
    "<div style=\"background-color: #fff0e0; padding: 10px; font-family: monospace; font-size: 15px\">\n",
    "По очереди для каждого региона рассчитаем 200 лучших скважин и их прибыль</div>"
   ]
  },
  {
   "cell_type": "code",
   "execution_count": 21,
   "metadata": {},
   "outputs": [],
   "source": [
    "region0_profit = best_boreholes_profit(pd.Series(target0_valid).reset_index(drop=True), pd.Series(predicted0_valid))"
   ]
  },
  {
   "cell_type": "code",
   "execution_count": 22,
   "metadata": {},
   "outputs": [
    {
     "name": "stdout",
     "output_type": "stream",
     "text": [
      "(25000,)\n"
     ]
    }
   ],
   "source": [
    "model, (predicted1_valid, target1_valid) = linear_auto_model(data1.drop(['id', 'product'], axis=1), \n",
    "                                                             data1['product'], \n",
    "                                                             print_=False)"
   ]
  },
  {
   "cell_type": "code",
   "execution_count": 23,
   "metadata": {},
   "outputs": [],
   "source": [
    "region1_profit = best_boreholes_profit(pd.Series(target1_valid).reset_index(drop=True), pd.Series(predicted1_valid))"
   ]
  },
  {
   "cell_type": "code",
   "execution_count": 24,
   "metadata": {},
   "outputs": [
    {
     "name": "stdout",
     "output_type": "stream",
     "text": [
      "(25000,)\n"
     ]
    }
   ],
   "source": [
    "model, (predicted2_valid, target2_valid) = linear_auto_model(data2.drop(['id', 'product'], axis=1), \n",
    "                                                             data2['product'], \n",
    "                                                             print_=False)"
   ]
  },
  {
   "cell_type": "code",
   "execution_count": 25,
   "metadata": {},
   "outputs": [],
   "source": [
    "region2_profit = best_boreholes_profit(pd.Series(target2_valid).reset_index(drop=True), pd.Series(predicted2_valid))"
   ]
  },
  {
   "cell_type": "markdown",
   "metadata": {},
   "source": [
    "<div style=\"background-color: #fff0e0; padding: 10px; font-family: monospace; font-size: 15px\">\n",
    "Проверим прибыль по каждому региону, сравнив с бюджетом на строительство скважин</div>"
   ]
  },
  {
   "cell_type": "code",
   "execution_count": 26,
   "metadata": {
    "scrolled": true
   },
   "outputs": [
    {
     "data": {
      "text/plain": [
       "3363408079.60795"
      ]
     },
     "execution_count": 26,
     "metadata": {},
     "output_type": "execute_result"
    }
   ],
   "source": [
    "region0_profit[0] - BUDGET"
   ]
  },
  {
   "cell_type": "markdown",
   "metadata": {},
   "source": [
    "<div style=\"background-color: #fff0e0; padding: 10px; font-family: monospace; font-size: 15px\">\n",
    "В первом регионе с 200 лучших скважин мы получим плюс на 3.3 млрд</div>"
   ]
  },
  {
   "cell_type": "code",
   "execution_count": 27,
   "metadata": {},
   "outputs": [
    {
     "data": {
      "text/plain": [
       "2415086696.681551"
      ]
     },
     "execution_count": 27,
     "metadata": {},
     "output_type": "execute_result"
    }
   ],
   "source": [
    "region1_profit[0] - BUDGET"
   ]
  },
  {
   "cell_type": "markdown",
   "metadata": {},
   "source": [
    "<div style=\"background-color: #fff0e0; padding: 10px; font-family: monospace; font-size: 15px\">\n",
    "Во втором регионе – также в плюс, но уже на 2.4 млрд</div>"
   ]
  },
  {
   "cell_type": "code",
   "execution_count": 28,
   "metadata": {},
   "outputs": [
    {
     "data": {
      "text/plain": [
       "2623878683.516424"
      ]
     },
     "execution_count": 28,
     "metadata": {},
     "output_type": "execute_result"
    }
   ],
   "source": [
    "region2_profit[0] - BUDGET"
   ]
  },
  {
   "cell_type": "markdown",
   "metadata": {},
   "source": [
    "<div style=\"background-color: #fff0e0; padding: 10px; font-family: monospace; font-size: 15px\">\n",
    "Третий регион выглядит чуть более привлекательно – плюс, хоть и всего на 2.6 млрд</div>"
   ]
  },
  {
   "cell_type": "markdown",
   "metadata": {},
   "source": [
    "### 1.3.6.   Вывод"
   ]
  },
  {
   "cell_type": "markdown",
   "metadata": {},
   "source": [
    "<div style=\"background-color: #fff0e0; padding: 10px; font-family: monospace; font-size: 15px\">\n",
    "По предсказанным моделью машинного обучения данным, самым выгодным регионом (из имеющихся данных) является третий регион. Однако, все они все еще убыточны</div>"
   ]
  },
  {
   "cell_type": "markdown",
   "metadata": {},
   "source": [
    "## 1.4.   Расчёт прибыли и рисков"
   ]
  },
  {
   "cell_type": "markdown",
   "metadata": {},
   "source": [
    "### 1.4.1.   Расчет Bootstrap"
   ]
  },
  {
   "cell_type": "markdown",
   "metadata": {},
   "source": [
    "<div style=\"background-color: #fff0e0; padding: 10px; font-family: monospace; font-size: 15px\">\n",
    "Применим Bootstrap для поиска среднего всего датасета</div>"
   ]
  },
  {
   "cell_type": "code",
   "execution_count": 29,
   "metadata": {},
   "outputs": [],
   "source": [
    "state = np.random.RandomState()\n",
    "\n",
    "def bootstrap(data, repeat):\n",
    "    samples_mean = []\n",
    "    for i in range(repeat):\n",
    "        sample_data = data.sample(n=500, replace=True, random_state=state)\n",
    "        samples_mean.append(best_boreholes_profit(data, sample_data)[0])\n",
    "    return samples_mean"
   ]
  },
  {
   "cell_type": "code",
   "execution_count": 30,
   "metadata": {},
   "outputs": [
    {
     "name": "stdout",
     "output_type": "stream",
     "text": [
      "[0.45234238 0.68501098 0.37413058 0.00407884 0.05250469]\n",
      "[0.19263683 0.75424956 0.49931257 0.51387144 0.82740393]\n"
     ]
    }
   ],
   "source": [
    "#код ревьюера\n",
    "rng = np.random.RandomState()\n",
    "print(rng.rand(5))\n",
    "rng = np.random.RandomState()\n",
    "print(rng.rand(5))"
   ]
  },
  {
   "cell_type": "markdown",
   "metadata": {},
   "source": [
    "### 1.4.2.   Применение Bootstrap"
   ]
  },
  {
   "cell_type": "markdown",
   "metadata": {},
   "source": [
    "<div style=\"background-color: #fff0e0; padding: 10px; font-family: monospace; font-size: 15px\">\n",
    "Проверим средние значения bootstrap на каждом регионе</div>"
   ]
  },
  {
   "cell_type": "code",
   "execution_count": 31,
   "metadata": {},
   "outputs": [
    {
     "name": "stdout",
     "output_type": "stream",
     "text": [
      "2385709119.823578\n"
     ]
    }
   ],
   "source": [
    "region0_bootstrap = bootstrap(data0['product'], 1000)\n",
    "print(pd.Series(region0_bootstrap).mean() - BUDGET)"
   ]
  },
  {
   "cell_type": "markdown",
   "metadata": {},
   "source": [
    "<div style=\"background-color: #fff0e0; padding: 10px; font-family: monospace; font-size: 15px\">\n",
    "В первом регионе в среднем мы бы получили прибыль в 2.4 млрд</div>"
   ]
  },
  {
   "cell_type": "code",
   "execution_count": 32,
   "metadata": {},
   "outputs": [
    {
     "name": "stdout",
     "output_type": "stream",
     "text": [
      "440478975.5426369\n"
     ]
    }
   ],
   "source": [
    "region1_bootstrap = bootstrap(data1['product'], 1000)\n",
    "print(pd.Series(region1_bootstrap).mean() - BUDGET)"
   ]
  },
  {
   "cell_type": "markdown",
   "metadata": {},
   "source": [
    "<div style=\"background-color: #fff0e0; padding: 10px; font-family: monospace; font-size: 15px\">\n",
    "Во втором регионе уже 0.44, заметно меньше</div>"
   ]
  },
  {
   "cell_type": "code",
   "execution_count": 33,
   "metadata": {},
   "outputs": [
    {
     "name": "stdout",
     "output_type": "stream",
     "text": [
      "2634145919.1002655\n"
     ]
    }
   ],
   "source": [
    "region2_bootstrap = bootstrap(data2['product'], 1000)\n",
    "print(pd.Series(region2_bootstrap).mean() - BUDGET)"
   ]
  },
  {
   "cell_type": "markdown",
   "metadata": {},
   "source": [
    "<div style=\"background-color: #fff0e0; padding: 10px; font-family: monospace; font-size: 15px\">\n",
    "Третий регион близок к первому – 2.6</div>\n",
    "\n",
    "<div style=\"background-color: #fff0e0; padding: 10px; font-family: monospace; font-size: 15px\">\n",
    "Эти данные выглядят чуть более обнадеживающе, ни один из регионов не оказался убыточным</div>"
   ]
  },
  {
   "cell_type": "markdown",
   "metadata": {},
   "source": [
    "### 1.4.3.   Доверительный интервал"
   ]
  },
  {
   "cell_type": "markdown",
   "metadata": {},
   "source": [
    "<div style=\"background-color: #fff0e0; padding: 10px; font-family: monospace; font-size: 15px\">\n",
    "Рассчитаем 95% доверительный интервал для каждого такого значения </div>\n",
    "\n",
    "<div style=\"background-color: #fff0e0; padding: 10px; font-family: monospace; font-size: 15px\">\n",
    "Проверим по регионам</div>"
   ]
  },
  {
   "cell_type": "code",
   "execution_count": 34,
   "metadata": {},
   "outputs": [
    {
     "data": {
      "text/plain": [
       "766436539.7390442"
      ]
     },
     "execution_count": 34,
     "metadata": {},
     "output_type": "execute_result"
    }
   ],
   "source": [
    "pd.Series(region0_bootstrap).quantile(0.975) - pd.Series(region0_bootstrap).quantile(0.025)"
   ]
  },
  {
   "cell_type": "markdown",
   "metadata": {},
   "source": [
    "<div style=\"background-color: #fff0e0; padding: 10px; font-family: monospace; font-size: 15px\">\n",
    "В первом регионе масштаб 95% доверительного интервала в 774 млн</div>"
   ]
  },
  {
   "cell_type": "code",
   "execution_count": 35,
   "metadata": {},
   "outputs": [
    {
     "data": {
      "text/plain": [
       "817902925.985405"
      ]
     },
     "execution_count": 35,
     "metadata": {},
     "output_type": "execute_result"
    }
   ],
   "source": [
    "pd.Series(region1_bootstrap).quantile(0.975) - pd.Series(region1_bootstrap).quantile(0.025)"
   ]
  },
  {
   "cell_type": "markdown",
   "metadata": {},
   "source": [
    "<div style=\"background-color: #fff0e0; padding: 10px; font-family: monospace; font-size: 15px\">\n",
    "Во втором регионе больше – 789 млн</div>"
   ]
  },
  {
   "cell_type": "code",
   "execution_count": 36,
   "metadata": {},
   "outputs": [
    {
     "data": {
      "text/plain": [
       "805562235.0681667"
      ]
     },
     "execution_count": 36,
     "metadata": {},
     "output_type": "execute_result"
    }
   ],
   "source": [
    "pd.Series(region2_bootstrap).quantile(0.975) - pd.Series(region2_bootstrap).quantile(0.025)"
   ]
  },
  {
   "cell_type": "markdown",
   "metadata": {},
   "source": [
    "<div style=\"background-color: #fff0e0; padding: 10px; font-family: monospace; font-size: 15px\">\n",
    "В третьем регионе лучший результат - 819 млн</div>"
   ]
  },
  {
   "cell_type": "markdown",
   "metadata": {},
   "source": [
    "### 1.4.4.   Вывод"
   ]
  },
  {
   "cell_type": "markdown",
   "metadata": {},
   "source": [
    "<div style=\"background-color: #fff0e0; padding: 10px; font-family: monospace; font-size: 15px\">\n",
    "По всем данным, которые мы смогли получить – выгоднее всего выглядит третий регион, в котором доверительный интервал на 95% выше остальных, а так же прибыль с работы скважин больше, чем в других регионах</div>"
   ]
  }
 ],
 "metadata": {
  "ExecuteTimeLog": [
   {
    "duration": 421,
    "start_time": "2022-06-07T21:45:37.354Z"
   },
   {
    "duration": 643,
    "start_time": "2022-06-07T21:45:50.337Z"
   },
   {
    "duration": 1706,
    "start_time": "2022-06-07T21:46:01.557Z"
   },
   {
    "duration": 19,
    "start_time": "2022-06-07T21:46:08.234Z"
   },
   {
    "duration": 22,
    "start_time": "2022-06-07T21:46:24.176Z"
   },
   {
    "duration": 84,
    "start_time": "2022-06-07T21:46:34.384Z"
   },
   {
    "duration": 22,
    "start_time": "2022-06-07T21:46:39.653Z"
   },
   {
    "duration": 31,
    "start_time": "2022-06-07T21:51:28.625Z"
   },
   {
    "duration": 24,
    "start_time": "2022-06-07T21:51:40.457Z"
   },
   {
    "duration": 14,
    "start_time": "2022-06-07T21:54:47.967Z"
   },
   {
    "duration": 456,
    "start_time": "2022-06-07T21:58:27.898Z"
   },
   {
    "duration": 95,
    "start_time": "2022-06-07T21:59:26.814Z"
   },
   {
    "duration": 2,
    "start_time": "2022-06-07T22:01:24.204Z"
   },
   {
    "duration": 4,
    "start_time": "2022-06-07T22:02:58.254Z"
   },
   {
    "duration": 41,
    "start_time": "2022-06-07T22:03:51.167Z"
   },
   {
    "duration": 30,
    "start_time": "2022-06-07T22:03:56.554Z"
   },
   {
    "duration": 25,
    "start_time": "2022-06-07T22:04:58.154Z"
   },
   {
    "duration": 26,
    "start_time": "2022-06-07T22:04:58.707Z"
   },
   {
    "duration": 18,
    "start_time": "2022-06-07T22:06:17.838Z"
   },
   {
    "duration": 33,
    "start_time": "2022-06-07T22:06:24.295Z"
   },
   {
    "duration": 36,
    "start_time": "2022-06-07T22:06:31.430Z"
   },
   {
    "duration": 31,
    "start_time": "2022-06-07T22:06:41.885Z"
   },
   {
    "duration": 4,
    "start_time": "2022-06-07T22:07:31.201Z"
   },
   {
    "duration": 25,
    "start_time": "2022-06-07T22:07:31.678Z"
   },
   {
    "duration": 27,
    "start_time": "2022-06-07T22:07:31.902Z"
   },
   {
    "duration": 25,
    "start_time": "2022-06-07T22:07:32.079Z"
   },
   {
    "duration": 28,
    "start_time": "2022-06-07T22:07:34.147Z"
   },
   {
    "duration": 25,
    "start_time": "2022-06-07T22:07:34.553Z"
   },
   {
    "duration": 30,
    "start_time": "2022-06-07T22:07:34.734Z"
   },
   {
    "duration": 25,
    "start_time": "2022-06-07T22:07:36.399Z"
   },
   {
    "duration": 27,
    "start_time": "2022-06-07T22:07:36.653Z"
   },
   {
    "duration": 29,
    "start_time": "2022-06-07T22:07:36.934Z"
   },
   {
    "duration": 25,
    "start_time": "2022-06-07T22:07:38.254Z"
   },
   {
    "duration": 28,
    "start_time": "2022-06-07T22:07:38.653Z"
   },
   {
    "duration": 29,
    "start_time": "2022-06-07T22:07:38.826Z"
   },
   {
    "duration": 26,
    "start_time": "2022-06-07T22:07:40.253Z"
   },
   {
    "duration": 25,
    "start_time": "2022-06-07T22:07:40.454Z"
   },
   {
    "duration": 25,
    "start_time": "2022-06-07T22:07:40.654Z"
   },
   {
    "duration": 25,
    "start_time": "2022-06-07T22:07:41.794Z"
   },
   {
    "duration": 25,
    "start_time": "2022-06-07T22:07:41.971Z"
   },
   {
    "duration": 32,
    "start_time": "2022-06-07T22:07:42.122Z"
   },
   {
    "duration": 28,
    "start_time": "2022-06-07T22:07:43.334Z"
   },
   {
    "duration": 25,
    "start_time": "2022-06-07T22:07:43.513Z"
   },
   {
    "duration": 25,
    "start_time": "2022-06-07T22:07:43.667Z"
   },
   {
    "duration": 25,
    "start_time": "2022-06-07T22:07:44.813Z"
   },
   {
    "duration": 24,
    "start_time": "2022-06-07T22:07:45.171Z"
   },
   {
    "duration": 25,
    "start_time": "2022-06-07T22:07:45.354Z"
   },
   {
    "duration": 4,
    "start_time": "2022-06-07T22:07:57.691Z"
   },
   {
    "duration": 27,
    "start_time": "2022-06-07T22:07:58.026Z"
   },
   {
    "duration": 26,
    "start_time": "2022-06-07T22:07:58.389Z"
   },
   {
    "duration": 31,
    "start_time": "2022-06-07T22:07:58.721Z"
   },
   {
    "duration": 4,
    "start_time": "2022-06-07T22:08:02.075Z"
   },
   {
    "duration": 24,
    "start_time": "2022-06-07T22:08:02.353Z"
   },
   {
    "duration": 25,
    "start_time": "2022-06-07T22:08:02.798Z"
   },
   {
    "duration": 27,
    "start_time": "2022-06-07T22:08:03.263Z"
   },
   {
    "duration": 29,
    "start_time": "2022-06-07T22:08:05.133Z"
   },
   {
    "duration": 25,
    "start_time": "2022-06-07T22:08:05.615Z"
   },
   {
    "duration": 26,
    "start_time": "2022-06-07T22:08:06.158Z"
   },
   {
    "duration": 27,
    "start_time": "2022-06-07T22:08:07.295Z"
   },
   {
    "duration": 26,
    "start_time": "2022-06-07T22:08:07.469Z"
   },
   {
    "duration": 25,
    "start_time": "2022-06-07T22:08:07.653Z"
   },
   {
    "duration": 4,
    "start_time": "2022-06-07T22:21:05.317Z"
   },
   {
    "duration": 4,
    "start_time": "2022-06-07T22:21:09.553Z"
   },
   {
    "duration": 4,
    "start_time": "2022-06-07T22:21:27.276Z"
   },
   {
    "duration": 3,
    "start_time": "2022-06-07T22:21:49.783Z"
   },
   {
    "duration": 9,
    "start_time": "2022-06-07T22:22:23.691Z"
   },
   {
    "duration": 5,
    "start_time": "2022-06-07T22:22:31.872Z"
   },
   {
    "duration": 5,
    "start_time": "2022-06-07T22:22:40.540Z"
   },
   {
    "duration": 4,
    "start_time": "2022-06-07T22:22:40.995Z"
   },
   {
    "duration": 6,
    "start_time": "2022-06-07T22:32:43.041Z"
   },
   {
    "duration": 28,
    "start_time": "2022-06-07T22:32:43.673Z"
   },
   {
    "duration": 33,
    "start_time": "2022-06-07T22:32:44.029Z"
   },
   {
    "duration": 26,
    "start_time": "2022-06-07T22:32:44.357Z"
   },
   {
    "duration": 2,
    "start_time": "2022-06-07T22:43:12.825Z"
   },
   {
    "duration": 4,
    "start_time": "2022-06-07T22:43:13.253Z"
   },
   {
    "duration": 3,
    "start_time": "2022-06-07T22:43:41.354Z"
   },
   {
    "duration": 4,
    "start_time": "2022-06-07T22:43:41.817Z"
   },
   {
    "duration": 3,
    "start_time": "2022-06-07T22:50:56.048Z"
   },
   {
    "duration": 2,
    "start_time": "2022-06-07T22:51:30.202Z"
   },
   {
    "duration": 3,
    "start_time": "2022-06-07T22:51:39.140Z"
   },
   {
    "duration": 4,
    "start_time": "2022-06-07T22:51:41.014Z"
   },
   {
    "duration": 5,
    "start_time": "2022-06-07T22:51:41.224Z"
   },
   {
    "duration": 5,
    "start_time": "2022-06-07T22:51:41.428Z"
   },
   {
    "duration": 3,
    "start_time": "2022-06-07T22:53:13.015Z"
   },
   {
    "duration": 215,
    "start_time": "2022-06-07T22:53:42.832Z"
   },
   {
    "duration": 4,
    "start_time": "2022-06-07T22:54:39.263Z"
   },
   {
    "duration": 222,
    "start_time": "2022-06-07T22:54:39.776Z"
   },
   {
    "duration": 219,
    "start_time": "2022-06-07T22:55:05.873Z"
   },
   {
    "duration": 268,
    "start_time": "2022-06-07T22:55:06.219Z"
   },
   {
    "duration": 4,
    "start_time": "2022-06-07T22:56:45.979Z"
   },
   {
    "duration": 260,
    "start_time": "2022-06-07T22:56:46.625Z"
   },
   {
    "duration": 270,
    "start_time": "2022-06-07T22:56:47.615Z"
   },
   {
    "duration": 228,
    "start_time": "2022-06-07T22:56:47.961Z"
   },
   {
    "duration": 269,
    "start_time": "2022-06-07T22:57:17.414Z"
   },
   {
    "duration": 4,
    "start_time": "2022-06-07T22:57:51.914Z"
   },
   {
    "duration": 252,
    "start_time": "2022-06-07T22:57:52.431Z"
   },
   {
    "duration": 228,
    "start_time": "2022-06-07T22:57:58.555Z"
   },
   {
    "duration": 231,
    "start_time": "2022-06-07T22:57:59.552Z"
   },
   {
    "duration": 3,
    "start_time": "2022-06-07T22:58:08.395Z"
   },
   {
    "duration": 216,
    "start_time": "2022-06-07T22:58:08.759Z"
   },
   {
    "duration": 248,
    "start_time": "2022-06-07T22:58:10.229Z"
   },
   {
    "duration": 219,
    "start_time": "2022-06-07T22:58:11.058Z"
   },
   {
    "duration": 265,
    "start_time": "2022-06-07T22:58:20.107Z"
   },
   {
    "duration": 217,
    "start_time": "2022-06-07T22:58:25.566Z"
   },
   {
    "duration": 245,
    "start_time": "2022-06-07T22:58:33.841Z"
   },
   {
    "duration": 238,
    "start_time": "2022-06-07T22:58:40.346Z"
   },
   {
    "duration": 210,
    "start_time": "2022-06-07T22:58:42.968Z"
   },
   {
    "duration": 3,
    "start_time": "2022-06-07T23:03:33.124Z"
   },
   {
    "duration": 214,
    "start_time": "2022-06-07T23:04:07.872Z"
   },
   {
    "duration": 225,
    "start_time": "2022-06-07T23:04:13.356Z"
   },
   {
    "duration": 211,
    "start_time": "2022-06-07T23:04:17.766Z"
   },
   {
    "duration": 4,
    "start_time": "2022-06-07T23:04:36.138Z"
   },
   {
    "duration": 4,
    "start_time": "2022-06-07T23:05:12.022Z"
   },
   {
    "duration": 4,
    "start_time": "2022-06-07T23:05:22.367Z"
   },
   {
    "duration": 4,
    "start_time": "2022-06-07T23:05:34.960Z"
   },
   {
    "duration": 4,
    "start_time": "2022-06-07T23:07:45.004Z"
   },
   {
    "duration": 30,
    "start_time": "2022-06-07T23:07:45.425Z"
   },
   {
    "duration": 29,
    "start_time": "2022-06-07T23:07:45.828Z"
   },
   {
    "duration": 30,
    "start_time": "2022-06-07T23:07:46.206Z"
   },
   {
    "duration": 4,
    "start_time": "2022-06-07T23:08:04.426Z"
   },
   {
    "duration": 246,
    "start_time": "2022-06-07T23:08:05.131Z"
   },
   {
    "duration": 209,
    "start_time": "2022-06-07T23:08:05.467Z"
   },
   {
    "duration": 263,
    "start_time": "2022-06-07T23:08:05.810Z"
   },
   {
    "duration": 5,
    "start_time": "2022-06-07T23:08:16.649Z"
   },
   {
    "duration": 29,
    "start_time": "2022-06-07T23:08:17.202Z"
   },
   {
    "duration": 32,
    "start_time": "2022-06-07T23:08:17.716Z"
   },
   {
    "duration": 32,
    "start_time": "2022-06-07T23:08:17.875Z"
   },
   {
    "duration": 4,
    "start_time": "2022-06-07T23:08:21.671Z"
   },
   {
    "duration": 198,
    "start_time": "2022-06-07T23:08:22.382Z"
   },
   {
    "duration": 221,
    "start_time": "2022-06-07T23:08:22.660Z"
   },
   {
    "duration": 228,
    "start_time": "2022-06-07T23:08:22.945Z"
   },
   {
    "duration": 730,
    "start_time": "2022-06-07T23:08:33.251Z"
   },
   {
    "duration": 4,
    "start_time": "2022-06-07T23:12:15.950Z"
   },
   {
    "duration": 4,
    "start_time": "2022-06-07T23:15:35.922Z"
   },
   {
    "duration": 4,
    "start_time": "2022-06-07T23:33:09.949Z"
   },
   {
    "duration": 639,
    "start_time": "2022-06-07T23:33:10.638Z"
   },
   {
    "duration": 9,
    "start_time": "2022-06-07T23:33:12.817Z"
   },
   {
    "duration": 3,
    "start_time": "2022-06-07T23:33:15.972Z"
   },
   {
    "duration": 4,
    "start_time": "2022-06-07T23:33:19.193Z"
   },
   {
    "duration": 4,
    "start_time": "2022-06-07T23:33:23.380Z"
   },
   {
    "duration": 4,
    "start_time": "2022-06-07T23:33:28.611Z"
   },
   {
    "duration": 7,
    "start_time": "2022-06-07T23:33:31.184Z"
   },
   {
    "duration": 3,
    "start_time": "2022-06-07T23:35:22.152Z"
   },
   {
    "duration": 3,
    "start_time": "2022-06-07T23:36:32.972Z"
   },
   {
    "duration": 9,
    "start_time": "2022-06-07T23:36:56.944Z"
   },
   {
    "duration": 13,
    "start_time": "2022-06-07T23:37:02.975Z"
   },
   {
    "duration": 3,
    "start_time": "2022-06-07T23:37:24.193Z"
   },
   {
    "duration": 12,
    "start_time": "2022-06-07T23:37:24.901Z"
   },
   {
    "duration": 896,
    "start_time": "2022-06-07T23:37:41.973Z"
   },
   {
    "duration": 3,
    "start_time": "2022-06-07T23:37:58.340Z"
   },
   {
    "duration": 164,
    "start_time": "2022-06-07T23:37:58.870Z"
   },
   {
    "duration": 172,
    "start_time": "2022-06-07T23:38:36.038Z"
   },
   {
    "duration": 155,
    "start_time": "2022-06-07T23:39:08.359Z"
   },
   {
    "duration": 153,
    "start_time": "2022-06-07T23:39:21.309Z"
   },
   {
    "duration": 3,
    "start_time": "2022-06-07T23:49:28.758Z"
   },
   {
    "duration": 33,
    "start_time": "2022-06-07T23:51:54.826Z"
   },
   {
    "duration": 6,
    "start_time": "2022-06-07T23:52:18.689Z"
   },
   {
    "duration": 4,
    "start_time": "2022-06-07T23:52:23.371Z"
   },
   {
    "duration": 12,
    "start_time": "2022-06-07T23:53:05.949Z"
   },
   {
    "duration": 4,
    "start_time": "2022-06-07T23:53:08.474Z"
   },
   {
    "duration": 4,
    "start_time": "2022-06-07T23:53:13.761Z"
   },
   {
    "duration": 3,
    "start_time": "2022-06-07T23:53:15.719Z"
   },
   {
    "duration": 3,
    "start_time": "2022-06-07T23:53:34.305Z"
   },
   {
    "duration": 3,
    "start_time": "2022-06-07T23:53:41.965Z"
   },
   {
    "duration": 4,
    "start_time": "2022-06-07T23:53:53.848Z"
   },
   {
    "duration": 3,
    "start_time": "2022-06-07T23:54:08.617Z"
   },
   {
    "duration": 2,
    "start_time": "2022-06-07T23:58:55.596Z"
   },
   {
    "duration": 4,
    "start_time": "2022-06-08T00:02:06.502Z"
   },
   {
    "duration": 842,
    "start_time": "2022-06-08T00:05:41.045Z"
   },
   {
    "duration": 362,
    "start_time": "2022-06-08T00:05:41.888Z"
   },
   {
    "duration": 95,
    "start_time": "2022-06-08T00:05:42.251Z"
   },
   {
    "duration": 33,
    "start_time": "2022-06-08T00:05:42.348Z"
   },
   {
    "duration": 4,
    "start_time": "2022-06-08T00:05:42.383Z"
   },
   {
    "duration": 46,
    "start_time": "2022-06-08T00:05:42.388Z"
   },
   {
    "duration": 30,
    "start_time": "2022-06-08T00:05:42.442Z"
   },
   {
    "duration": 29,
    "start_time": "2022-06-08T00:05:42.474Z"
   },
   {
    "duration": 3,
    "start_time": "2022-06-08T00:05:42.505Z"
   },
   {
    "duration": 4,
    "start_time": "2022-06-08T00:05:42.541Z"
   },
   {
    "duration": 9,
    "start_time": "2022-06-08T00:05:42.546Z"
   },
   {
    "duration": 16,
    "start_time": "2022-06-08T00:05:42.557Z"
   },
   {
    "duration": 7,
    "start_time": "2022-06-08T00:05:42.574Z"
   },
   {
    "duration": 7,
    "start_time": "2022-06-08T00:05:42.582Z"
   },
   {
    "duration": 7,
    "start_time": "2022-06-08T00:05:42.590Z"
   },
   {
    "duration": 678,
    "start_time": "2022-06-08T00:05:42.599Z"
   },
   {
    "duration": 4,
    "start_time": "2022-06-08T00:05:43.278Z"
   },
   {
    "duration": 6,
    "start_time": "2022-06-08T00:05:43.283Z"
   },
   {
    "duration": 6,
    "start_time": "2022-06-08T00:05:43.291Z"
   },
   {
    "duration": 7,
    "start_time": "2022-06-08T00:05:43.298Z"
   },
   {
    "duration": 174,
    "start_time": "2022-06-08T00:05:43.306Z"
   },
   {
    "duration": 150,
    "start_time": "2022-06-08T00:05:43.482Z"
   },
   {
    "duration": 161,
    "start_time": "2022-06-08T00:05:43.634Z"
   },
   {
    "duration": 11,
    "start_time": "2022-06-08T00:05:43.797Z"
   },
   {
    "duration": 10,
    "start_time": "2022-06-08T00:05:43.809Z"
   },
   {
    "duration": 9,
    "start_time": "2022-06-08T00:05:43.820Z"
   },
   {
    "duration": 3,
    "start_time": "2022-06-08T00:05:43.841Z"
   },
   {
    "duration": 1274,
    "start_time": "2022-06-08T19:50:55.074Z"
   },
   {
    "duration": 858,
    "start_time": "2022-06-08T19:50:56.353Z"
   },
   {
    "duration": 41,
    "start_time": "2022-06-08T19:50:57.213Z"
   },
   {
    "duration": 48,
    "start_time": "2022-06-08T19:50:57.266Z"
   },
   {
    "duration": 6,
    "start_time": "2022-06-08T19:50:57.317Z"
   },
   {
    "duration": 81,
    "start_time": "2022-06-08T19:50:57.325Z"
   },
   {
    "duration": 79,
    "start_time": "2022-06-08T19:50:57.408Z"
   },
   {
    "duration": 32,
    "start_time": "2022-06-08T19:50:57.489Z"
   },
   {
    "duration": 3,
    "start_time": "2022-06-08T19:50:57.523Z"
   },
   {
    "duration": 9,
    "start_time": "2022-06-08T19:50:57.528Z"
   },
   {
    "duration": 12,
    "start_time": "2022-06-08T19:50:57.539Z"
   },
   {
    "duration": 10,
    "start_time": "2022-06-08T19:50:57.565Z"
   },
   {
    "duration": 18,
    "start_time": "2022-06-08T19:50:57.577Z"
   },
   {
    "duration": 15,
    "start_time": "2022-06-08T19:50:57.598Z"
   },
   {
    "duration": 12,
    "start_time": "2022-06-08T19:50:57.615Z"
   },
   {
    "duration": 868,
    "start_time": "2022-06-08T19:50:57.629Z"
   },
   {
    "duration": 5,
    "start_time": "2022-06-08T19:50:58.499Z"
   },
   {
    "duration": 13,
    "start_time": "2022-06-08T19:50:58.506Z"
   },
   {
    "duration": 8,
    "start_time": "2022-06-08T19:50:58.521Z"
   },
   {
    "duration": 21,
    "start_time": "2022-06-08T19:50:58.531Z"
   },
   {
    "duration": 242,
    "start_time": "2022-06-08T19:50:58.554Z"
   },
   {
    "duration": 309,
    "start_time": "2022-06-08T19:50:58.797Z"
   },
   {
    "duration": 289,
    "start_time": "2022-06-08T19:50:59.109Z"
   },
   {
    "duration": 17,
    "start_time": "2022-06-08T19:50:59.400Z"
   },
   {
    "duration": 13,
    "start_time": "2022-06-08T19:50:59.419Z"
   },
   {
    "duration": 9,
    "start_time": "2022-06-08T19:50:59.434Z"
   },
   {
    "duration": 11,
    "start_time": "2022-06-08T19:50:59.445Z"
   },
   {
    "duration": 5,
    "start_time": "2022-06-08T19:52:12.195Z"
   },
   {
    "duration": 29,
    "start_time": "2022-06-08T19:52:17.031Z"
   },
   {
    "duration": 1042,
    "start_time": "2022-06-08T22:42:09.482Z"
   },
   {
    "duration": 899,
    "start_time": "2022-06-08T22:42:10.527Z"
   },
   {
    "duration": 38,
    "start_time": "2022-06-08T22:42:11.428Z"
   },
   {
    "duration": 41,
    "start_time": "2022-06-08T22:42:11.468Z"
   },
   {
    "duration": 4,
    "start_time": "2022-06-08T22:42:11.510Z"
   },
   {
    "duration": 158,
    "start_time": "2022-06-08T22:42:11.516Z"
   },
   {
    "duration": 31,
    "start_time": "2022-06-08T22:42:36.908Z"
   },
   {
    "duration": 78,
    "start_time": "2022-06-08T22:42:42.790Z"
   },
   {
    "duration": 3,
    "start_time": "2022-06-08T23:14:25.955Z"
   },
   {
    "duration": 12,
    "start_time": "2022-06-08T23:16:53.212Z"
   },
   {
    "duration": 11,
    "start_time": "2022-06-08T23:17:10.649Z"
   },
   {
    "duration": 108,
    "start_time": "2022-06-08T23:17:34.495Z"
   },
   {
    "duration": 10,
    "start_time": "2022-06-08T23:18:29.704Z"
   },
   {
    "duration": 9,
    "start_time": "2022-06-08T23:19:02.801Z"
   },
   {
    "duration": 51,
    "start_time": "2022-06-08T23:19:38.394Z"
   },
   {
    "duration": 15,
    "start_time": "2022-06-08T23:19:41.414Z"
   },
   {
    "duration": 160,
    "start_time": "2022-06-08T23:19:56.181Z"
   },
   {
    "duration": 137,
    "start_time": "2022-06-08T23:20:04.752Z"
   },
   {
    "duration": 42,
    "start_time": "2022-06-08T23:20:38.882Z"
   },
   {
    "duration": 58,
    "start_time": "2022-06-08T23:20:49.912Z"
   },
   {
    "duration": 49,
    "start_time": "2022-06-08T23:20:58.443Z"
   },
   {
    "duration": 17,
    "start_time": "2022-06-08T23:23:17.604Z"
   },
   {
    "duration": 3,
    "start_time": "2022-06-08T23:31:57.978Z"
   },
   {
    "duration": 9,
    "start_time": "2022-06-08T23:32:15.538Z"
   },
   {
    "duration": 3,
    "start_time": "2022-06-08T23:32:19.892Z"
   },
   {
    "duration": 453,
    "start_time": "2022-06-08T23:32:19.897Z"
   },
   {
    "duration": 36,
    "start_time": "2022-06-08T23:32:20.352Z"
   },
   {
    "duration": 48,
    "start_time": "2022-06-08T23:32:20.390Z"
   },
   {
    "duration": 5,
    "start_time": "2022-06-08T23:32:20.440Z"
   },
   {
    "duration": 198,
    "start_time": "2022-06-08T23:32:20.446Z"
   },
   {
    "duration": 45,
    "start_time": "2022-06-08T23:32:20.645Z"
   },
   {
    "duration": 130,
    "start_time": "2022-06-08T23:32:20.765Z"
   },
   {
    "duration": 180,
    "start_time": "2022-06-08T23:32:20.897Z"
   },
   {
    "duration": 215,
    "start_time": "2022-06-08T23:32:21.079Z"
   },
   {
    "duration": 3,
    "start_time": "2022-06-08T23:32:21.296Z"
   },
   {
    "duration": 5,
    "start_time": "2022-06-08T23:32:21.301Z"
   },
   {
    "duration": 7,
    "start_time": "2022-06-08T23:32:21.307Z"
   },
   {
    "duration": 5,
    "start_time": "2022-06-08T23:32:31.981Z"
   },
   {
    "duration": 5,
    "start_time": "2022-06-08T23:32:32.829Z"
   },
   {
    "duration": 4,
    "start_time": "2022-06-08T23:32:33.561Z"
   },
   {
    "duration": 3,
    "start_time": "2022-06-08T23:34:13.399Z"
   },
   {
    "duration": 10,
    "start_time": "2022-06-08T23:36:29.335Z"
   },
   {
    "duration": 11,
    "start_time": "2022-06-08T23:38:52.300Z"
   },
   {
    "duration": 344,
    "start_time": "2022-06-08T23:38:59.010Z"
   },
   {
    "duration": 3,
    "start_time": "2022-06-08T23:39:30.130Z"
   },
   {
    "duration": 359,
    "start_time": "2022-06-08T23:39:32.280Z"
   },
   {
    "duration": 351,
    "start_time": "2022-06-08T23:41:49.932Z"
   },
   {
    "duration": 362,
    "start_time": "2022-06-08T23:41:59.676Z"
   },
   {
    "duration": 3,
    "start_time": "2022-06-08T23:42:05.748Z"
   },
   {
    "duration": 415,
    "start_time": "2022-06-08T23:42:05.753Z"
   },
   {
    "duration": 29,
    "start_time": "2022-06-08T23:42:06.171Z"
   },
   {
    "duration": 34,
    "start_time": "2022-06-08T23:42:06.202Z"
   },
   {
    "duration": 29,
    "start_time": "2022-06-08T23:42:06.238Z"
   },
   {
    "duration": 172,
    "start_time": "2022-06-08T23:42:06.268Z"
   },
   {
    "duration": 28,
    "start_time": "2022-06-08T23:42:06.442Z"
   },
   {
    "duration": 104,
    "start_time": "2022-06-08T23:42:06.472Z"
   },
   {
    "duration": 195,
    "start_time": "2022-06-08T23:42:06.580Z"
   },
   {
    "duration": 113,
    "start_time": "2022-06-08T23:42:06.779Z"
   },
   {
    "duration": 3,
    "start_time": "2022-06-08T23:42:06.894Z"
   },
   {
    "duration": 10,
    "start_time": "2022-06-08T23:42:06.899Z"
   },
   {
    "duration": 6,
    "start_time": "2022-06-08T23:42:06.910Z"
   },
   {
    "duration": 6,
    "start_time": "2022-06-08T23:42:06.918Z"
   },
   {
    "duration": 6,
    "start_time": "2022-06-08T23:42:06.926Z"
   },
   {
    "duration": 4,
    "start_time": "2022-06-08T23:42:06.934Z"
   },
   {
    "duration": 5,
    "start_time": "2022-06-08T23:42:06.940Z"
   },
   {
    "duration": 364,
    "start_time": "2022-06-08T23:42:06.970Z"
   },
   {
    "duration": 27,
    "start_time": "2022-06-08T23:42:24.110Z"
   },
   {
    "duration": 35,
    "start_time": "2022-06-08T23:44:26.504Z"
   },
   {
    "duration": 318,
    "start_time": "2022-06-08T23:44:38.901Z"
   },
   {
    "duration": 331,
    "start_time": "2022-06-08T23:45:25.762Z"
   },
   {
    "duration": 4,
    "start_time": "2022-06-08T23:46:38.040Z"
   },
   {
    "duration": 307,
    "start_time": "2022-06-08T23:46:40.590Z"
   },
   {
    "duration": 11,
    "start_time": "2022-06-09T08:40:53.734Z"
   },
   {
    "duration": 1269,
    "start_time": "2022-06-09T08:41:01.232Z"
   },
   {
    "duration": 1510,
    "start_time": "2022-06-09T08:41:02.504Z"
   },
   {
    "duration": 37,
    "start_time": "2022-06-09T08:41:04.016Z"
   },
   {
    "duration": 63,
    "start_time": "2022-06-09T08:41:04.055Z"
   },
   {
    "duration": 4,
    "start_time": "2022-06-09T08:41:04.120Z"
   },
   {
    "duration": 212,
    "start_time": "2022-06-09T08:41:04.126Z"
   },
   {
    "duration": 156,
    "start_time": "2022-06-09T08:41:04.340Z"
   },
   {
    "duration": 115,
    "start_time": "2022-06-09T08:41:04.498Z"
   },
   {
    "duration": 250,
    "start_time": "2022-06-09T08:41:04.616Z"
   },
   {
    "duration": 135,
    "start_time": "2022-06-09T08:41:04.881Z"
   },
   {
    "duration": 3,
    "start_time": "2022-06-09T08:41:05.018Z"
   },
   {
    "duration": 9,
    "start_time": "2022-06-09T08:41:05.023Z"
   },
   {
    "duration": 9,
    "start_time": "2022-06-09T08:41:05.034Z"
   },
   {
    "duration": 8,
    "start_time": "2022-06-09T08:41:05.045Z"
   },
   {
    "duration": 52,
    "start_time": "2022-06-09T08:41:05.055Z"
   },
   {
    "duration": 9,
    "start_time": "2022-06-09T08:41:05.109Z"
   },
   {
    "duration": 7,
    "start_time": "2022-06-09T08:41:05.120Z"
   },
   {
    "duration": 491,
    "start_time": "2022-06-09T08:41:05.129Z"
   },
   {
    "duration": 21,
    "start_time": "2022-06-09T08:43:14.857Z"
   },
   {
    "duration": 260,
    "start_time": "2022-06-09T08:43:17.316Z"
   },
   {
    "duration": 4,
    "start_time": "2022-06-09T08:44:04.193Z"
   },
   {
    "duration": 122,
    "start_time": "2022-06-09T08:44:06.152Z"
   },
   {
    "duration": 4,
    "start_time": "2022-06-09T08:44:17.338Z"
   },
   {
    "duration": 237,
    "start_time": "2022-06-09T08:44:19.540Z"
   },
   {
    "duration": 5,
    "start_time": "2022-06-09T08:44:56.912Z"
   },
   {
    "duration": 109,
    "start_time": "2022-06-09T08:44:59.181Z"
   },
   {
    "duration": 154,
    "start_time": "2022-06-09T08:45:36.213Z"
   },
   {
    "duration": 201,
    "start_time": "2022-06-09T08:45:49.585Z"
   },
   {
    "duration": 190,
    "start_time": "2022-06-09T08:45:54.882Z"
   },
   {
    "duration": 89,
    "start_time": "2022-06-09T08:46:10.885Z"
   },
   {
    "duration": 3,
    "start_time": "2022-06-09T08:48:19.311Z"
   },
   {
    "duration": 71,
    "start_time": "2022-06-09T08:48:21.816Z"
   },
   {
    "duration": 4,
    "start_time": "2022-06-09T08:49:04.300Z"
   },
   {
    "duration": 93,
    "start_time": "2022-06-09T08:49:06.575Z"
   },
   {
    "duration": 4,
    "start_time": "2022-06-09T08:49:31.206Z"
   },
   {
    "duration": 43,
    "start_time": "2022-06-09T08:49:34.872Z"
   },
   {
    "duration": 28,
    "start_time": "2022-06-09T08:50:10.972Z"
   },
   {
    "duration": 86,
    "start_time": "2022-06-09T08:50:31.909Z"
   },
   {
    "duration": 181,
    "start_time": "2022-06-09T08:51:21.589Z"
   },
   {
    "duration": 106,
    "start_time": "2022-06-09T08:51:41.090Z"
   },
   {
    "duration": 0,
    "start_time": "2022-06-09T08:51:41.214Z"
   },
   {
    "duration": 98,
    "start_time": "2022-06-09T08:51:52.194Z"
   },
   {
    "duration": 47,
    "start_time": "2022-06-09T08:52:20.221Z"
   },
   {
    "duration": 40,
    "start_time": "2022-06-09T08:52:28.286Z"
   },
   {
    "duration": 19,
    "start_time": "2022-06-09T08:52:34.883Z"
   },
   {
    "duration": 5,
    "start_time": "2022-06-09T08:52:40.553Z"
   },
   {
    "duration": 8,
    "start_time": "2022-06-09T08:52:45.961Z"
   },
   {
    "duration": 13,
    "start_time": "2022-06-09T08:52:53.408Z"
   },
   {
    "duration": 5,
    "start_time": "2022-06-09T09:00:53.665Z"
   },
   {
    "duration": 610,
    "start_time": "2022-06-09T09:02:24.483Z"
   },
   {
    "duration": 12,
    "start_time": "2022-06-09T09:02:33.397Z"
   },
   {
    "duration": 6,
    "start_time": "2022-06-09T09:02:47.140Z"
   },
   {
    "duration": 702,
    "start_time": "2022-06-09T09:02:49.606Z"
   },
   {
    "duration": 646,
    "start_time": "2022-06-09T09:03:15.689Z"
   },
   {
    "duration": 897,
    "start_time": "2022-06-09T09:04:26.240Z"
   },
   {
    "duration": 6,
    "start_time": "2022-06-09T09:20:08.834Z"
   },
   {
    "duration": 15,
    "start_time": "2022-06-09T09:20:17.981Z"
   },
   {
    "duration": 7,
    "start_time": "2022-06-09T09:20:32.648Z"
   },
   {
    "duration": 10,
    "start_time": "2022-06-09T09:21:00.129Z"
   },
   {
    "duration": 4,
    "start_time": "2022-06-09T09:22:02.450Z"
   },
   {
    "duration": 504,
    "start_time": "2022-06-09T09:22:04.599Z"
   },
   {
    "duration": 449,
    "start_time": "2022-06-09T09:22:06.721Z"
   },
   {
    "duration": 484,
    "start_time": "2022-06-09T09:22:08.228Z"
   },
   {
    "duration": 26,
    "start_time": "2022-06-09T09:22:14.974Z"
   },
   {
    "duration": 22,
    "start_time": "2022-06-09T09:24:23.248Z"
   },
   {
    "duration": 12,
    "start_time": "2022-06-09T09:24:35.534Z"
   },
   {
    "duration": 3,
    "start_time": "2022-06-09T09:32:27.730Z"
   },
   {
    "duration": 30,
    "start_time": "2022-06-09T09:32:30.388Z"
   },
   {
    "duration": 112,
    "start_time": "2022-06-09T09:32:30.951Z"
   },
   {
    "duration": 3,
    "start_time": "2022-06-09T09:32:39.430Z"
   },
   {
    "duration": 213,
    "start_time": "2022-06-09T09:32:42.358Z"
   },
   {
    "duration": 3,
    "start_time": "2022-06-09T09:33:12.705Z"
   },
   {
    "duration": 47,
    "start_time": "2022-06-09T09:33:14.727Z"
   },
   {
    "duration": 28,
    "start_time": "2022-06-09T09:33:42.504Z"
   },
   {
    "duration": 3,
    "start_time": "2022-06-09T09:33:49.440Z"
   },
   {
    "duration": 47,
    "start_time": "2022-06-09T09:33:52.148Z"
   },
   {
    "duration": 33,
    "start_time": "2022-06-09T09:34:00.741Z"
   },
   {
    "duration": 26,
    "start_time": "2022-06-09T09:34:07.690Z"
   },
   {
    "duration": 11,
    "start_time": "2022-06-09T09:34:09.655Z"
   },
   {
    "duration": 5,
    "start_time": "2022-06-09T09:34:12.495Z"
   },
   {
    "duration": 13,
    "start_time": "2022-06-09T09:34:13.875Z"
   },
   {
    "duration": 27,
    "start_time": "2022-06-09T09:34:24.243Z"
   },
   {
    "duration": 46,
    "start_time": "2022-06-09T09:34:24.645Z"
   },
   {
    "duration": 33,
    "start_time": "2022-06-09T09:34:24.985Z"
   },
   {
    "duration": 20,
    "start_time": "2022-06-09T09:34:25.318Z"
   },
   {
    "duration": 5,
    "start_time": "2022-06-09T09:34:26.144Z"
   },
   {
    "duration": 5,
    "start_time": "2022-06-09T09:34:26.947Z"
   },
   {
    "duration": 4,
    "start_time": "2022-06-09T09:34:27.623Z"
   },
   {
    "duration": 4,
    "start_time": "2022-06-09T09:34:39.264Z"
   },
   {
    "duration": 28,
    "start_time": "2022-06-09T09:34:41.382Z"
   },
   {
    "duration": 31,
    "start_time": "2022-06-09T09:34:42.581Z"
   },
   {
    "duration": 57,
    "start_time": "2022-06-09T09:34:42.760Z"
   },
   {
    "duration": 4,
    "start_time": "2022-06-09T09:34:43.328Z"
   },
   {
    "duration": 4,
    "start_time": "2022-06-09T09:34:43.927Z"
   },
   {
    "duration": 8,
    "start_time": "2022-06-09T09:34:44.454Z"
   },
   {
    "duration": 33,
    "start_time": "2022-06-09T09:35:40.603Z"
   },
   {
    "duration": 10,
    "start_time": "2022-06-09T09:37:23.280Z"
   },
   {
    "duration": 768,
    "start_time": "2022-06-09T09:37:27.506Z"
   },
   {
    "duration": 747,
    "start_time": "2022-06-09T09:38:09.335Z"
   },
   {
    "duration": 828,
    "start_time": "2022-06-09T09:38:14.779Z"
   },
   {
    "duration": 809,
    "start_time": "2022-06-09T09:38:21.085Z"
   },
   {
    "duration": 890,
    "start_time": "2022-06-09T09:38:27.111Z"
   },
   {
    "duration": 6,
    "start_time": "2022-06-09T09:41:24.030Z"
   },
   {
    "duration": 18,
    "start_time": "2022-06-09T09:41:24.672Z"
   },
   {
    "duration": 18,
    "start_time": "2022-06-09T09:41:25.779Z"
   },
   {
    "duration": 8,
    "start_time": "2022-06-09T09:41:34.119Z"
   },
   {
    "duration": 7,
    "start_time": "2022-06-09T09:41:36.827Z"
   },
   {
    "duration": 3,
    "start_time": "2022-06-09T09:45:49.923Z"
   },
   {
    "duration": 69,
    "start_time": "2022-06-09T09:45:56.130Z"
   },
   {
    "duration": 46,
    "start_time": "2022-06-09T09:45:57.049Z"
   },
   {
    "duration": 23,
    "start_time": "2022-06-09T09:45:57.527Z"
   },
   {
    "duration": 23,
    "start_time": "2022-06-09T09:45:57.711Z"
   },
   {
    "duration": 12,
    "start_time": "2022-06-09T09:46:04.386Z"
   },
   {
    "duration": 4,
    "start_time": "2022-06-09T09:46:05.049Z"
   },
   {
    "duration": 4,
    "start_time": "2022-06-09T09:46:05.747Z"
   },
   {
    "duration": 1169,
    "start_time": "2022-06-09T09:46:53.032Z"
   },
   {
    "duration": 1229,
    "start_time": "2022-06-09T09:46:54.208Z"
   },
   {
    "duration": 61,
    "start_time": "2022-06-09T09:46:55.439Z"
   },
   {
    "duration": 40,
    "start_time": "2022-06-09T09:46:55.502Z"
   },
   {
    "duration": 5,
    "start_time": "2022-06-09T09:46:55.544Z"
   },
   {
    "duration": 196,
    "start_time": "2022-06-09T09:46:55.550Z"
   },
   {
    "duration": 118,
    "start_time": "2022-06-09T09:46:55.748Z"
   },
   {
    "duration": 191,
    "start_time": "2022-06-09T09:46:55.871Z"
   },
   {
    "duration": 157,
    "start_time": "2022-06-09T09:46:56.065Z"
   },
   {
    "duration": 157,
    "start_time": "2022-06-09T09:46:56.225Z"
   },
   {
    "duration": 24,
    "start_time": "2022-06-09T09:46:56.385Z"
   },
   {
    "duration": 11,
    "start_time": "2022-06-09T09:46:56.411Z"
   },
   {
    "duration": 7,
    "start_time": "2022-06-09T09:46:56.423Z"
   },
   {
    "duration": 8,
    "start_time": "2022-06-09T09:46:56.433Z"
   },
   {
    "duration": 4,
    "start_time": "2022-06-09T09:46:56.442Z"
   },
   {
    "duration": 10,
    "start_time": "2022-06-09T09:46:56.448Z"
   },
   {
    "duration": 46,
    "start_time": "2022-06-09T09:46:56.460Z"
   },
   {
    "duration": 31,
    "start_time": "2022-06-09T09:46:56.508Z"
   },
   {
    "duration": 16,
    "start_time": "2022-06-09T09:46:56.541Z"
   },
   {
    "duration": 150,
    "start_time": "2022-06-09T09:46:56.567Z"
   },
   {
    "duration": 116,
    "start_time": "2022-06-09T09:46:56.764Z"
   },
   {
    "duration": 122,
    "start_time": "2022-06-09T09:46:56.892Z"
   },
   {
    "duration": 10,
    "start_time": "2022-06-09T09:46:57.016Z"
   },
   {
    "duration": 7,
    "start_time": "2022-06-09T09:46:57.028Z"
   },
   {
    "duration": 17,
    "start_time": "2022-06-09T09:46:57.036Z"
   },
   {
    "duration": 871,
    "start_time": "2022-06-09T09:46:57.055Z"
   },
   {
    "duration": 819,
    "start_time": "2022-06-09T09:46:57.929Z"
   },
   {
    "duration": 679,
    "start_time": "2022-06-09T09:46:58.750Z"
   },
   {
    "duration": 6,
    "start_time": "2022-06-09T09:46:59.431Z"
   },
   {
    "duration": 23,
    "start_time": "2022-06-09T09:46:59.439Z"
   },
   {
    "duration": 17,
    "start_time": "2022-06-09T09:46:59.463Z"
   },
   {
    "duration": 44,
    "start_time": "2022-06-09T17:42:07.954Z"
   },
   {
    "duration": 982,
    "start_time": "2022-06-09T17:42:18.061Z"
   },
   {
    "duration": 4,
    "start_time": "2022-06-09T17:42:23.601Z"
   },
   {
    "duration": 46,
    "start_time": "2022-06-09T21:59:45.446Z"
   },
   {
    "duration": 978,
    "start_time": "2022-06-09T21:59:50.336Z"
   },
   {
    "duration": 780,
    "start_time": "2022-06-09T21:59:51.316Z"
   },
   {
    "duration": 30,
    "start_time": "2022-06-09T21:59:52.098Z"
   },
   {
    "duration": 34,
    "start_time": "2022-06-09T21:59:52.130Z"
   },
   {
    "duration": 4,
    "start_time": "2022-06-09T21:59:52.166Z"
   },
   {
    "duration": 92,
    "start_time": "2022-06-09T21:59:52.171Z"
   },
   {
    "duration": 37,
    "start_time": "2022-06-09T22:00:06.242Z"
   },
   {
    "duration": 74,
    "start_time": "2022-06-09T22:00:17.740Z"
   },
   {
    "duration": 72,
    "start_time": "2022-06-09T22:01:04.913Z"
   },
   {
    "duration": 66,
    "start_time": "2022-06-09T22:01:25.287Z"
   },
   {
    "duration": 37,
    "start_time": "2022-06-09T22:01:29.995Z"
   },
   {
    "duration": 32,
    "start_time": "2022-06-09T22:02:14.015Z"
   },
   {
    "duration": 15,
    "start_time": "2022-06-09T22:02:15.676Z"
   },
   {
    "duration": 5,
    "start_time": "2022-06-09T22:06:08.685Z"
   },
   {
    "duration": 30,
    "start_time": "2022-06-09T22:06:16.700Z"
   },
   {
    "duration": 26,
    "start_time": "2022-06-09T22:06:25.440Z"
   },
   {
    "duration": 35,
    "start_time": "2022-06-09T22:06:32.400Z"
   },
   {
    "duration": 28,
    "start_time": "2022-06-09T22:06:34.828Z"
   },
   {
    "duration": 31,
    "start_time": "2022-06-09T22:07:21.359Z"
   },
   {
    "duration": 23,
    "start_time": "2022-06-09T22:07:31.579Z"
   },
   {
    "duration": 8,
    "start_time": "2022-06-09T22:08:07.548Z"
   },
   {
    "duration": 3,
    "start_time": "2022-06-09T22:08:12.878Z"
   },
   {
    "duration": 400,
    "start_time": "2022-06-09T22:08:12.883Z"
   },
   {
    "duration": 34,
    "start_time": "2022-06-09T22:08:13.286Z"
   },
   {
    "duration": 38,
    "start_time": "2022-06-09T22:08:13.321Z"
   },
   {
    "duration": 5,
    "start_time": "2022-06-09T22:08:13.362Z"
   },
   {
    "duration": 78,
    "start_time": "2022-06-09T22:08:13.369Z"
   },
   {
    "duration": 62,
    "start_time": "2022-06-09T22:08:13.448Z"
   },
   {
    "duration": 70,
    "start_time": "2022-06-09T22:08:13.512Z"
   },
   {
    "duration": 46,
    "start_time": "2022-06-09T22:08:13.584Z"
   },
   {
    "duration": 107,
    "start_time": "2022-06-09T22:08:13.632Z"
   },
   {
    "duration": 112,
    "start_time": "2022-06-09T22:08:13.829Z"
   },
   {
    "duration": 186,
    "start_time": "2022-06-09T22:08:13.943Z"
   },
   {
    "duration": 2,
    "start_time": "2022-06-09T22:08:14.131Z"
   },
   {
    "duration": 10,
    "start_time": "2022-06-09T22:08:14.135Z"
   },
   {
    "duration": 7,
    "start_time": "2022-06-09T22:08:14.146Z"
   },
   {
    "duration": 7,
    "start_time": "2022-06-09T22:08:14.154Z"
   },
   {
    "duration": 10,
    "start_time": "2022-06-09T22:08:14.163Z"
   },
   {
    "duration": 5,
    "start_time": "2022-06-09T22:08:14.175Z"
   },
   {
    "duration": 4,
    "start_time": "2022-06-09T22:08:14.182Z"
   },
   {
    "duration": 49,
    "start_time": "2022-06-09T22:08:14.188Z"
   },
   {
    "duration": 19,
    "start_time": "2022-06-09T22:08:14.239Z"
   },
   {
    "duration": 5,
    "start_time": "2022-06-09T22:08:49.810Z"
   },
   {
    "duration": 5,
    "start_time": "2022-06-09T22:10:01.728Z"
   },
   {
    "duration": 110,
    "start_time": "2022-06-09T22:10:06.724Z"
   },
   {
    "duration": 25,
    "start_time": "2022-06-09T22:10:09.412Z"
   },
   {
    "duration": 24,
    "start_time": "2022-06-09T22:10:09.987Z"
   },
   {
    "duration": 3,
    "start_time": "2022-06-09T22:10:19.984Z"
   },
   {
    "duration": 21,
    "start_time": "2022-06-09T22:10:22.238Z"
   },
   {
    "duration": 8,
    "start_time": "2022-06-09T22:10:24.824Z"
   },
   {
    "duration": 21,
    "start_time": "2022-06-09T22:10:26.577Z"
   },
   {
    "duration": 7,
    "start_time": "2022-06-09T22:11:22.382Z"
   },
   {
    "duration": 21,
    "start_time": "2022-06-09T22:11:49.812Z"
   },
   {
    "duration": 7,
    "start_time": "2022-06-09T22:12:18.565Z"
   },
   {
    "duration": 4,
    "start_time": "2022-06-09T22:12:20.440Z"
   },
   {
    "duration": 5,
    "start_time": "2022-06-09T22:12:43.580Z"
   },
   {
    "duration": 4,
    "start_time": "2022-06-09T22:12:52.765Z"
   },
   {
    "duration": 5,
    "start_time": "2022-06-09T22:13:36.563Z"
   },
   {
    "duration": 5,
    "start_time": "2022-06-09T22:13:38.593Z"
   },
   {
    "duration": 6,
    "start_time": "2022-06-09T22:13:39.965Z"
   },
   {
    "duration": 6,
    "start_time": "2022-06-09T22:13:41.348Z"
   },
   {
    "duration": 90,
    "start_time": "2022-06-09T22:17:34.938Z"
   },
   {
    "duration": 1059,
    "start_time": "2022-06-09T22:20:21.301Z"
   },
   {
    "duration": 394,
    "start_time": "2022-06-09T22:20:22.363Z"
   },
   {
    "duration": 34,
    "start_time": "2022-06-09T22:20:22.759Z"
   },
   {
    "duration": 60,
    "start_time": "2022-06-09T22:20:22.796Z"
   },
   {
    "duration": 4,
    "start_time": "2022-06-09T22:20:22.858Z"
   },
   {
    "duration": 83,
    "start_time": "2022-06-09T22:20:22.864Z"
   },
   {
    "duration": 78,
    "start_time": "2022-06-09T22:20:22.949Z"
   },
   {
    "duration": 75,
    "start_time": "2022-06-09T22:20:23.029Z"
   },
   {
    "duration": 41,
    "start_time": "2022-06-09T22:20:23.106Z"
   },
   {
    "duration": 188,
    "start_time": "2022-06-09T22:20:23.151Z"
   },
   {
    "duration": 198,
    "start_time": "2022-06-09T22:20:23.342Z"
   },
   {
    "duration": 102,
    "start_time": "2022-06-09T22:20:23.627Z"
   },
   {
    "duration": 3,
    "start_time": "2022-06-09T22:20:23.731Z"
   },
   {
    "duration": 13,
    "start_time": "2022-06-09T22:20:23.735Z"
   },
   {
    "duration": 10,
    "start_time": "2022-06-09T22:20:23.750Z"
   },
   {
    "duration": 7,
    "start_time": "2022-06-09T22:20:23.762Z"
   },
   {
    "duration": 6,
    "start_time": "2022-06-09T22:20:23.771Z"
   },
   {
    "duration": 5,
    "start_time": "2022-06-09T22:20:23.779Z"
   },
   {
    "duration": 8,
    "start_time": "2022-06-09T22:20:23.786Z"
   },
   {
    "duration": 54,
    "start_time": "2022-06-09T22:20:23.796Z"
   },
   {
    "duration": 75,
    "start_time": "2022-06-09T22:20:23.852Z"
   },
   {
    "duration": 121,
    "start_time": "2022-06-09T22:20:23.930Z"
   },
   {
    "duration": 9,
    "start_time": "2022-06-09T22:20:24.053Z"
   },
   {
    "duration": 108,
    "start_time": "2022-06-09T22:20:24.135Z"
   },
   {
    "duration": 7,
    "start_time": "2022-06-09T22:20:24.247Z"
   },
   {
    "duration": 12,
    "start_time": "2022-06-09T22:20:24.328Z"
   },
   {
    "duration": 7,
    "start_time": "2022-06-09T22:20:24.428Z"
   },
   {
    "duration": 10,
    "start_time": "2022-06-09T22:20:24.438Z"
   },
   {
    "duration": 7,
    "start_time": "2022-06-09T22:20:24.450Z"
   },
   {
    "duration": 6,
    "start_time": "2022-06-09T22:20:24.459Z"
   },
   {
    "duration": 625,
    "start_time": "2022-06-09T22:20:24.467Z"
   },
   {
    "duration": 589,
    "start_time": "2022-06-09T22:20:25.094Z"
   },
   {
    "duration": 644,
    "start_time": "2022-06-09T22:20:25.685Z"
   },
   {
    "duration": 8,
    "start_time": "2022-06-09T22:20:26.331Z"
   },
   {
    "duration": 17,
    "start_time": "2022-06-09T22:20:26.341Z"
   },
   {
    "duration": 20,
    "start_time": "2022-06-09T22:20:26.360Z"
   }
  ],
  "kernelspec": {
   "display_name": "Python 3",
   "language": "python",
   "name": "python3"
  },
  "language_info": {
   "codemirror_mode": {
    "name": "ipython",
    "version": 3
   },
   "file_extension": ".py",
   "mimetype": "text/x-python",
   "name": "python",
   "nbconvert_exporter": "python",
   "pygments_lexer": "ipython3",
   "version": "3.8.8"
  },
  "toc": {
   "base_numbering": 1,
   "nav_menu": {},
   "number_sections": true,
   "sideBar": true,
   "skip_h1_title": true,
   "title_cell": "Table of Contents",
   "title_sidebar": "Contents",
   "toc_cell": false,
   "toc_position": {},
   "toc_section_display": true,
   "toc_window_display": true
  }
 },
 "nbformat": 4,
 "nbformat_minor": 4
}
