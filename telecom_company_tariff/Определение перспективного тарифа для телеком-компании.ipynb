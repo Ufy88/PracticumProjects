{
 "cells": [
  {
   "cell_type": "code",
   "execution_count": 1,
   "metadata": {},
   "outputs": [],
   "source": [
    "import pandas as pd\n",
    "import numpy as np\n",
    "import matplotlib.pyplot as plt\n",
    "from scipy import stats as st\n",
    "import warnings\n",
    "warnings.filterwarnings('ignore')"
   ]
  },
  {
   "cell_type": "code",
   "execution_count": 2,
   "metadata": {},
   "outputs": [],
   "source": [
    "calls = pd.read_csv('/datasets/calls.csv')\n",
    "internet = pd.read_csv('/datasets/internet.csv')\n",
    "messages = pd.read_csv('/datasets/messages.csv')\n",
    "tariffs = pd.read_csv('/datasets/tariffs.csv')\n",
    "users = pd.read_csv('/datasets/users.csv')"
   ]
  },
  {
   "cell_type": "markdown",
   "metadata": {},
   "source": [
    "# 1.   Основные тезисы"
   ]
  },
  {
   "cell_type": "markdown",
   "metadata": {},
   "source": [
    "<div style=\"background-color: #fff0e0; padding: 10px; font-family: monospace; font-size: 15px\">\n",
    "Клиент – компания «Мегалайн» \n",
    "<br><br>Основных тарифных плана два: «Смарт» и «Ультра» \n",
    "<br><br>Задача – сделать предварительный анализ тарифов на выборке из 500 клиентов, основываясь на их поведении как абонентов\n",
    "<br><br>Цель – выяснить, какой тариф приносит больше денег, для корректировки рекламного бюджета</div>"
   ]
  },
  {
   "cell_type": "markdown",
   "metadata": {},
   "source": [
    "# 2.   Знакомство с данными"
   ]
  },
  {
   "cell_type": "markdown",
   "metadata": {},
   "source": [
    "## 2.1.   Звонки"
   ]
  },
  {
   "cell_type": "markdown",
   "metadata": {},
   "source": [
    "<div style=\"background-color: #fff0e0; padding: 10px; font-family: monospace; font-size: 15px\">\n",
    "Смотрим данные по звонкам</div>"
   ]
  },
  {
   "cell_type": "code",
   "execution_count": 3,
   "metadata": {},
   "outputs": [
    {
     "data": {
      "text/html": [
       "<div>\n",
       "<style scoped>\n",
       "    .dataframe tbody tr th:only-of-type {\n",
       "        vertical-align: middle;\n",
       "    }\n",
       "\n",
       "    .dataframe tbody tr th {\n",
       "        vertical-align: top;\n",
       "    }\n",
       "\n",
       "    .dataframe thead th {\n",
       "        text-align: right;\n",
       "    }\n",
       "</style>\n",
       "<table border=\"1\" class=\"dataframe\">\n",
       "  <thead>\n",
       "    <tr style=\"text-align: right;\">\n",
       "      <th></th>\n",
       "      <th>id</th>\n",
       "      <th>call_date</th>\n",
       "      <th>duration</th>\n",
       "      <th>user_id</th>\n",
       "    </tr>\n",
       "  </thead>\n",
       "  <tbody>\n",
       "    <tr>\n",
       "      <th>0</th>\n",
       "      <td>1000_0</td>\n",
       "      <td>2018-07-25</td>\n",
       "      <td>0.00</td>\n",
       "      <td>1000</td>\n",
       "    </tr>\n",
       "    <tr>\n",
       "      <th>1</th>\n",
       "      <td>1000_1</td>\n",
       "      <td>2018-08-17</td>\n",
       "      <td>0.00</td>\n",
       "      <td>1000</td>\n",
       "    </tr>\n",
       "    <tr>\n",
       "      <th>2</th>\n",
       "      <td>1000_2</td>\n",
       "      <td>2018-06-11</td>\n",
       "      <td>2.85</td>\n",
       "      <td>1000</td>\n",
       "    </tr>\n",
       "    <tr>\n",
       "      <th>3</th>\n",
       "      <td>1000_3</td>\n",
       "      <td>2018-09-21</td>\n",
       "      <td>13.80</td>\n",
       "      <td>1000</td>\n",
       "    </tr>\n",
       "    <tr>\n",
       "      <th>4</th>\n",
       "      <td>1000_4</td>\n",
       "      <td>2018-12-15</td>\n",
       "      <td>5.18</td>\n",
       "      <td>1000</td>\n",
       "    </tr>\n",
       "  </tbody>\n",
       "</table>\n",
       "</div>"
      ],
      "text/plain": [
       "       id   call_date  duration  user_id\n",
       "0  1000_0  2018-07-25      0.00     1000\n",
       "1  1000_1  2018-08-17      0.00     1000\n",
       "2  1000_2  2018-06-11      2.85     1000\n",
       "3  1000_3  2018-09-21     13.80     1000\n",
       "4  1000_4  2018-12-15      5.18     1000"
      ]
     },
     "execution_count": 3,
     "metadata": {},
     "output_type": "execute_result"
    }
   ],
   "source": [
    "calls.head()"
   ]
  },
  {
   "cell_type": "markdown",
   "metadata": {},
   "source": [
    "<div style=\"background-color: #fff0e0; padding: 10px; font-family: monospace; font-size: 15px\">\n",
    "Изучаем информацию о них</div>"
   ]
  },
  {
   "cell_type": "code",
   "execution_count": 4,
   "metadata": {},
   "outputs": [
    {
     "name": "stdout",
     "output_type": "stream",
     "text": [
      "<class 'pandas.core.frame.DataFrame'>\n",
      "RangeIndex: 202607 entries, 0 to 202606\n",
      "Data columns (total 4 columns):\n",
      " #   Column     Non-Null Count   Dtype  \n",
      "---  ------     --------------   -----  \n",
      " 0   id         202607 non-null  object \n",
      " 1   call_date  202607 non-null  object \n",
      " 2   duration   202607 non-null  float64\n",
      " 3   user_id    202607 non-null  int64  \n",
      "dtypes: float64(1), int64(1), object(2)\n",
      "memory usage: 6.2+ MB\n"
     ]
    }
   ],
   "source": [
    "calls.info()"
   ]
  },
  {
   "cell_type": "markdown",
   "metadata": {},
   "source": [
    "<div style=\"background-color: #fff0e0; padding: 10px; font-family: monospace; font-size: 15px\">\n",
    "Явных пропусков нет</div>\n",
    "\n",
    "<div style=\"background-color: #fff0e0; padding: 10px; font-family: monospace; font-size: 15px\">\n",
    "Посмотрим describe</div>"
   ]
  },
  {
   "cell_type": "code",
   "execution_count": 5,
   "metadata": {},
   "outputs": [
    {
     "data": {
      "text/html": [
       "<div>\n",
       "<style scoped>\n",
       "    .dataframe tbody tr th:only-of-type {\n",
       "        vertical-align: middle;\n",
       "    }\n",
       "\n",
       "    .dataframe tbody tr th {\n",
       "        vertical-align: top;\n",
       "    }\n",
       "\n",
       "    .dataframe thead th {\n",
       "        text-align: right;\n",
       "    }\n",
       "</style>\n",
       "<table border=\"1\" class=\"dataframe\">\n",
       "  <thead>\n",
       "    <tr style=\"text-align: right;\">\n",
       "      <th></th>\n",
       "      <th>duration</th>\n",
       "      <th>user_id</th>\n",
       "    </tr>\n",
       "  </thead>\n",
       "  <tbody>\n",
       "    <tr>\n",
       "      <th>count</th>\n",
       "      <td>202607.000000</td>\n",
       "      <td>202607.000000</td>\n",
       "    </tr>\n",
       "    <tr>\n",
       "      <th>mean</th>\n",
       "      <td>6.755887</td>\n",
       "      <td>1253.940619</td>\n",
       "    </tr>\n",
       "    <tr>\n",
       "      <th>std</th>\n",
       "      <td>5.843365</td>\n",
       "      <td>144.722751</td>\n",
       "    </tr>\n",
       "    <tr>\n",
       "      <th>min</th>\n",
       "      <td>0.000000</td>\n",
       "      <td>1000.000000</td>\n",
       "    </tr>\n",
       "    <tr>\n",
       "      <th>25%</th>\n",
       "      <td>1.300000</td>\n",
       "      <td>1126.000000</td>\n",
       "    </tr>\n",
       "    <tr>\n",
       "      <th>50%</th>\n",
       "      <td>6.000000</td>\n",
       "      <td>1260.000000</td>\n",
       "    </tr>\n",
       "    <tr>\n",
       "      <th>75%</th>\n",
       "      <td>10.700000</td>\n",
       "      <td>1379.000000</td>\n",
       "    </tr>\n",
       "    <tr>\n",
       "      <th>max</th>\n",
       "      <td>38.000000</td>\n",
       "      <td>1499.000000</td>\n",
       "    </tr>\n",
       "  </tbody>\n",
       "</table>\n",
       "</div>"
      ],
      "text/plain": [
       "            duration        user_id\n",
       "count  202607.000000  202607.000000\n",
       "mean        6.755887    1253.940619\n",
       "std         5.843365     144.722751\n",
       "min         0.000000    1000.000000\n",
       "25%         1.300000    1126.000000\n",
       "50%         6.000000    1260.000000\n",
       "75%        10.700000    1379.000000\n",
       "max        38.000000    1499.000000"
      ]
     },
     "execution_count": 5,
     "metadata": {},
     "output_type": "execute_result"
    }
   ],
   "source": [
    "calls.describe()"
   ]
  },
  {
   "cell_type": "markdown",
   "metadata": {},
   "source": [
    "<div style=\"background-color: #fff0e0; padding: 10px; font-family: monospace; font-size: 15px\">\n",
    "Минимум 0, максимум 38 минут, выглядит разумно</div>"
   ]
  },
  {
   "cell_type": "code",
   "execution_count": 6,
   "metadata": {},
   "outputs": [
    {
     "name": "stdout",
     "output_type": "stream",
     "text": [
      "2018-01-01\n",
      "2018-12-31\n"
     ]
    }
   ],
   "source": [
    "print(calls.call_date.min())\n",
    "print(calls.call_date.max())"
   ]
  },
  {
   "cell_type": "markdown",
   "metadata": {},
   "source": [
    "<div style=\"background-color: #fff0e0; padding: 10px; font-family: monospace; font-size: 15px\">\n",
    "Даты логичные – с 1 января по 31 декабря, задействован весь год</div>\n",
    "\n",
    "<div style=\"background-color: #fff0e0; padding: 10px; font-family: monospace; font-size: 15px\">\n",
    "Сделаем культурно – переведем столбец с датами в соответствующий формат</div>"
   ]
  },
  {
   "cell_type": "code",
   "execution_count": 7,
   "metadata": {},
   "outputs": [],
   "source": [
    "calls['call_date'] = pd.to_datetime(calls.call_date)"
   ]
  },
  {
   "cell_type": "markdown",
   "metadata": {},
   "source": [
    "<div style=\"background-color: #fff0e0; padding: 10px; font-family: monospace; font-size: 15px\">\n",
    "И округлим звонки до минут хитрой схемой: целые числа оставим как есть, нецелые – вверх</div>"
   ]
  },
  {
   "cell_type": "code",
   "execution_count": 8,
   "metadata": {},
   "outputs": [],
   "source": [
    "calls['rounded_duration'] = np.ceil(calls.duration).astype(int)"
   ]
  },
  {
   "cell_type": "code",
   "execution_count": 9,
   "metadata": {},
   "outputs": [
    {
     "data": {
      "text/html": [
       "<div>\n",
       "<style scoped>\n",
       "    .dataframe tbody tr th:only-of-type {\n",
       "        vertical-align: middle;\n",
       "    }\n",
       "\n",
       "    .dataframe tbody tr th {\n",
       "        vertical-align: top;\n",
       "    }\n",
       "\n",
       "    .dataframe thead th {\n",
       "        text-align: right;\n",
       "    }\n",
       "</style>\n",
       "<table border=\"1\" class=\"dataframe\">\n",
       "  <thead>\n",
       "    <tr style=\"text-align: right;\">\n",
       "      <th></th>\n",
       "      <th>id</th>\n",
       "      <th>call_date</th>\n",
       "      <th>duration</th>\n",
       "      <th>user_id</th>\n",
       "      <th>rounded_duration</th>\n",
       "    </tr>\n",
       "  </thead>\n",
       "  <tbody>\n",
       "    <tr>\n",
       "      <th>0</th>\n",
       "      <td>1000_0</td>\n",
       "      <td>2018-07-25</td>\n",
       "      <td>0.00</td>\n",
       "      <td>1000</td>\n",
       "      <td>0</td>\n",
       "    </tr>\n",
       "    <tr>\n",
       "      <th>1</th>\n",
       "      <td>1000_1</td>\n",
       "      <td>2018-08-17</td>\n",
       "      <td>0.00</td>\n",
       "      <td>1000</td>\n",
       "      <td>0</td>\n",
       "    </tr>\n",
       "    <tr>\n",
       "      <th>2</th>\n",
       "      <td>1000_2</td>\n",
       "      <td>2018-06-11</td>\n",
       "      <td>2.85</td>\n",
       "      <td>1000</td>\n",
       "      <td>3</td>\n",
       "    </tr>\n",
       "    <tr>\n",
       "      <th>3</th>\n",
       "      <td>1000_3</td>\n",
       "      <td>2018-09-21</td>\n",
       "      <td>13.80</td>\n",
       "      <td>1000</td>\n",
       "      <td>14</td>\n",
       "    </tr>\n",
       "    <tr>\n",
       "      <th>4</th>\n",
       "      <td>1000_4</td>\n",
       "      <td>2018-12-15</td>\n",
       "      <td>5.18</td>\n",
       "      <td>1000</td>\n",
       "      <td>6</td>\n",
       "    </tr>\n",
       "  </tbody>\n",
       "</table>\n",
       "</div>"
      ],
      "text/plain": [
       "       id  call_date  duration  user_id  rounded_duration\n",
       "0  1000_0 2018-07-25      0.00     1000                 0\n",
       "1  1000_1 2018-08-17      0.00     1000                 0\n",
       "2  1000_2 2018-06-11      2.85     1000                 3\n",
       "3  1000_3 2018-09-21     13.80     1000                14\n",
       "4  1000_4 2018-12-15      5.18     1000                 6"
      ]
     },
     "execution_count": 9,
     "metadata": {},
     "output_type": "execute_result"
    }
   ],
   "source": [
    "calls.head()"
   ]
  },
  {
   "cell_type": "markdown",
   "metadata": {},
   "source": [
    "<div style=\"background-color: #fff0e0; padding: 10px; font-family: monospace; font-size: 15px\">\n",
    "Выглядит разумно</div>"
   ]
  },
  {
   "cell_type": "markdown",
   "metadata": {},
   "source": [
    "## 2.2.   Интернет"
   ]
  },
  {
   "cell_type": "markdown",
   "metadata": {},
   "source": [
    "<div style=\"background-color: #fff0e0; padding: 10px; font-family: monospace; font-size: 15px\">\n",
    "Проводим те же манипуляции</div>"
   ]
  },
  {
   "cell_type": "code",
   "execution_count": 10,
   "metadata": {},
   "outputs": [
    {
     "data": {
      "text/html": [
       "<div>\n",
       "<style scoped>\n",
       "    .dataframe tbody tr th:only-of-type {\n",
       "        vertical-align: middle;\n",
       "    }\n",
       "\n",
       "    .dataframe tbody tr th {\n",
       "        vertical-align: top;\n",
       "    }\n",
       "\n",
       "    .dataframe thead th {\n",
       "        text-align: right;\n",
       "    }\n",
       "</style>\n",
       "<table border=\"1\" class=\"dataframe\">\n",
       "  <thead>\n",
       "    <tr style=\"text-align: right;\">\n",
       "      <th></th>\n",
       "      <th>Unnamed: 0</th>\n",
       "      <th>id</th>\n",
       "      <th>mb_used</th>\n",
       "      <th>session_date</th>\n",
       "      <th>user_id</th>\n",
       "    </tr>\n",
       "  </thead>\n",
       "  <tbody>\n",
       "    <tr>\n",
       "      <th>0</th>\n",
       "      <td>0</td>\n",
       "      <td>1000_0</td>\n",
       "      <td>112.95</td>\n",
       "      <td>2018-11-25</td>\n",
       "      <td>1000</td>\n",
       "    </tr>\n",
       "    <tr>\n",
       "      <th>1</th>\n",
       "      <td>1</td>\n",
       "      <td>1000_1</td>\n",
       "      <td>1052.81</td>\n",
       "      <td>2018-09-07</td>\n",
       "      <td>1000</td>\n",
       "    </tr>\n",
       "    <tr>\n",
       "      <th>2</th>\n",
       "      <td>2</td>\n",
       "      <td>1000_2</td>\n",
       "      <td>1197.26</td>\n",
       "      <td>2018-06-25</td>\n",
       "      <td>1000</td>\n",
       "    </tr>\n",
       "    <tr>\n",
       "      <th>3</th>\n",
       "      <td>3</td>\n",
       "      <td>1000_3</td>\n",
       "      <td>550.27</td>\n",
       "      <td>2018-08-22</td>\n",
       "      <td>1000</td>\n",
       "    </tr>\n",
       "    <tr>\n",
       "      <th>4</th>\n",
       "      <td>4</td>\n",
       "      <td>1000_4</td>\n",
       "      <td>302.56</td>\n",
       "      <td>2018-09-24</td>\n",
       "      <td>1000</td>\n",
       "    </tr>\n",
       "  </tbody>\n",
       "</table>\n",
       "</div>"
      ],
      "text/plain": [
       "   Unnamed: 0      id  mb_used session_date  user_id\n",
       "0           0  1000_0   112.95   2018-11-25     1000\n",
       "1           1  1000_1  1052.81   2018-09-07     1000\n",
       "2           2  1000_2  1197.26   2018-06-25     1000\n",
       "3           3  1000_3   550.27   2018-08-22     1000\n",
       "4           4  1000_4   302.56   2018-09-24     1000"
      ]
     },
     "execution_count": 10,
     "metadata": {},
     "output_type": "execute_result"
    }
   ],
   "source": [
    "internet.head()"
   ]
  },
  {
   "cell_type": "markdown",
   "metadata": {},
   "source": [
    "<div style=\"background-color: #fff0e0; padding: 10px; font-family: monospace; font-size: 15px\">\n",
    "Замечаем непонятный столбец, и методом логических выводов понимаем, что это какой-то счетчик пользователей, смысла в данном случае не имеющий. Удаляем</div>"
   ]
  },
  {
   "cell_type": "code",
   "execution_count": 11,
   "metadata": {},
   "outputs": [],
   "source": [
    "internet = internet.drop('Unnamed: 0', axis=1)"
   ]
  },
  {
   "cell_type": "code",
   "execution_count": 12,
   "metadata": {},
   "outputs": [
    {
     "name": "stdout",
     "output_type": "stream",
     "text": [
      "<class 'pandas.core.frame.DataFrame'>\n",
      "RangeIndex: 149396 entries, 0 to 149395\n",
      "Data columns (total 4 columns):\n",
      " #   Column        Non-Null Count   Dtype  \n",
      "---  ------        --------------   -----  \n",
      " 0   id            149396 non-null  object \n",
      " 1   mb_used       149396 non-null  float64\n",
      " 2   session_date  149396 non-null  object \n",
      " 3   user_id       149396 non-null  int64  \n",
      "dtypes: float64(1), int64(1), object(2)\n",
      "memory usage: 4.6+ MB\n"
     ]
    }
   ],
   "source": [
    "internet.info()"
   ]
  },
  {
   "cell_type": "markdown",
   "metadata": {},
   "source": [
    "<div style=\"background-color: #fff0e0; padding: 10px; font-family: monospace; font-size: 15px\">\n",
    "Вновь ни одной ошибки</div>"
   ]
  },
  {
   "cell_type": "code",
   "execution_count": 13,
   "metadata": {},
   "outputs": [
    {
     "data": {
      "text/html": [
       "<div>\n",
       "<style scoped>\n",
       "    .dataframe tbody tr th:only-of-type {\n",
       "        vertical-align: middle;\n",
       "    }\n",
       "\n",
       "    .dataframe tbody tr th {\n",
       "        vertical-align: top;\n",
       "    }\n",
       "\n",
       "    .dataframe thead th {\n",
       "        text-align: right;\n",
       "    }\n",
       "</style>\n",
       "<table border=\"1\" class=\"dataframe\">\n",
       "  <thead>\n",
       "    <tr style=\"text-align: right;\">\n",
       "      <th></th>\n",
       "      <th>mb_used</th>\n",
       "      <th>user_id</th>\n",
       "    </tr>\n",
       "  </thead>\n",
       "  <tbody>\n",
       "    <tr>\n",
       "      <th>count</th>\n",
       "      <td>149396.000000</td>\n",
       "      <td>149396.000000</td>\n",
       "    </tr>\n",
       "    <tr>\n",
       "      <th>mean</th>\n",
       "      <td>370.192426</td>\n",
       "      <td>1252.099842</td>\n",
       "    </tr>\n",
       "    <tr>\n",
       "      <th>std</th>\n",
       "      <td>278.300951</td>\n",
       "      <td>144.050823</td>\n",
       "    </tr>\n",
       "    <tr>\n",
       "      <th>min</th>\n",
       "      <td>0.000000</td>\n",
       "      <td>1000.000000</td>\n",
       "    </tr>\n",
       "    <tr>\n",
       "      <th>25%</th>\n",
       "      <td>138.187500</td>\n",
       "      <td>1130.000000</td>\n",
       "    </tr>\n",
       "    <tr>\n",
       "      <th>50%</th>\n",
       "      <td>348.015000</td>\n",
       "      <td>1251.000000</td>\n",
       "    </tr>\n",
       "    <tr>\n",
       "      <th>75%</th>\n",
       "      <td>559.552500</td>\n",
       "      <td>1380.000000</td>\n",
       "    </tr>\n",
       "    <tr>\n",
       "      <th>max</th>\n",
       "      <td>1724.830000</td>\n",
       "      <td>1499.000000</td>\n",
       "    </tr>\n",
       "  </tbody>\n",
       "</table>\n",
       "</div>"
      ],
      "text/plain": [
       "             mb_used        user_id\n",
       "count  149396.000000  149396.000000\n",
       "mean      370.192426    1252.099842\n",
       "std       278.300951     144.050823\n",
       "min         0.000000    1000.000000\n",
       "25%       138.187500    1130.000000\n",
       "50%       348.015000    1251.000000\n",
       "75%       559.552500    1380.000000\n",
       "max      1724.830000    1499.000000"
      ]
     },
     "execution_count": 13,
     "metadata": {},
     "output_type": "execute_result"
    }
   ],
   "source": [
    "internet.describe()"
   ]
  },
  {
   "cell_type": "markdown",
   "metadata": {},
   "source": [
    "<div style=\"background-color: #fff0e0; padding: 10px; font-family: monospace; font-size: 15px\">\n",
    "Минимум 0, максимум 1.7 Гб за сессию, вроде ничего сверхъестественного</div>"
   ]
  },
  {
   "cell_type": "code",
   "execution_count": 14,
   "metadata": {},
   "outputs": [
    {
     "name": "stdout",
     "output_type": "stream",
     "text": [
      "2018-01-01\n",
      "2018-12-31\n"
     ]
    }
   ],
   "source": [
    "print(internet.session_date.min())\n",
    "print(internet.session_date.max())"
   ]
  },
  {
   "cell_type": "markdown",
   "metadata": {},
   "source": [
    "<div style=\"background-color: #fff0e0; padding: 10px; font-family: monospace; font-size: 15px\">\n",
    "Даты так же ведут себя прилично, следовательно, причесываем их в нужный формат</div>"
   ]
  },
  {
   "cell_type": "code",
   "execution_count": 15,
   "metadata": {},
   "outputs": [],
   "source": [
    "internet['session_date'] = pd.to_datetime(internet.session_date)"
   ]
  },
  {
   "cell_type": "markdown",
   "metadata": {},
   "source": [
    "## 2.3.   Сообщения"
   ]
  },
  {
   "cell_type": "markdown",
   "metadata": {},
   "source": [
    "<div style=\"background-color: #fff0e0; padding: 10px; font-family: monospace; font-size: 15px\">\n",
    "И вновь по знакомой схеме</div>"
   ]
  },
  {
   "cell_type": "code",
   "execution_count": 16,
   "metadata": {},
   "outputs": [
    {
     "data": {
      "text/html": [
       "<div>\n",
       "<style scoped>\n",
       "    .dataframe tbody tr th:only-of-type {\n",
       "        vertical-align: middle;\n",
       "    }\n",
       "\n",
       "    .dataframe tbody tr th {\n",
       "        vertical-align: top;\n",
       "    }\n",
       "\n",
       "    .dataframe thead th {\n",
       "        text-align: right;\n",
       "    }\n",
       "</style>\n",
       "<table border=\"1\" class=\"dataframe\">\n",
       "  <thead>\n",
       "    <tr style=\"text-align: right;\">\n",
       "      <th></th>\n",
       "      <th>id</th>\n",
       "      <th>message_date</th>\n",
       "      <th>user_id</th>\n",
       "    </tr>\n",
       "  </thead>\n",
       "  <tbody>\n",
       "    <tr>\n",
       "      <th>0</th>\n",
       "      <td>1000_0</td>\n",
       "      <td>2018-06-27</td>\n",
       "      <td>1000</td>\n",
       "    </tr>\n",
       "    <tr>\n",
       "      <th>1</th>\n",
       "      <td>1000_1</td>\n",
       "      <td>2018-10-08</td>\n",
       "      <td>1000</td>\n",
       "    </tr>\n",
       "    <tr>\n",
       "      <th>2</th>\n",
       "      <td>1000_2</td>\n",
       "      <td>2018-08-04</td>\n",
       "      <td>1000</td>\n",
       "    </tr>\n",
       "    <tr>\n",
       "      <th>3</th>\n",
       "      <td>1000_3</td>\n",
       "      <td>2018-06-16</td>\n",
       "      <td>1000</td>\n",
       "    </tr>\n",
       "    <tr>\n",
       "      <th>4</th>\n",
       "      <td>1000_4</td>\n",
       "      <td>2018-12-05</td>\n",
       "      <td>1000</td>\n",
       "    </tr>\n",
       "  </tbody>\n",
       "</table>\n",
       "</div>"
      ],
      "text/plain": [
       "       id message_date  user_id\n",
       "0  1000_0   2018-06-27     1000\n",
       "1  1000_1   2018-10-08     1000\n",
       "2  1000_2   2018-08-04     1000\n",
       "3  1000_3   2018-06-16     1000\n",
       "4  1000_4   2018-12-05     1000"
      ]
     },
     "execution_count": 16,
     "metadata": {},
     "output_type": "execute_result"
    }
   ],
   "source": [
    "messages.head()"
   ]
  },
  {
   "cell_type": "code",
   "execution_count": 17,
   "metadata": {},
   "outputs": [
    {
     "name": "stdout",
     "output_type": "stream",
     "text": [
      "<class 'pandas.core.frame.DataFrame'>\n",
      "RangeIndex: 123036 entries, 0 to 123035\n",
      "Data columns (total 3 columns):\n",
      " #   Column        Non-Null Count   Dtype \n",
      "---  ------        --------------   ----- \n",
      " 0   id            123036 non-null  object\n",
      " 1   message_date  123036 non-null  object\n",
      " 2   user_id       123036 non-null  int64 \n",
      "dtypes: int64(1), object(2)\n",
      "memory usage: 2.8+ MB\n"
     ]
    }
   ],
   "source": [
    "messages.info()"
   ]
  },
  {
   "cell_type": "markdown",
   "metadata": {},
   "source": [
    "<div style=\"background-color: #fff0e0; padding: 10px; font-family: monospace; font-size: 15px\">\n",
    "Снова ни одной ошибки, грузчикам премию, со времен первого проекта они сильно прокачались</div>"
   ]
  },
  {
   "cell_type": "code",
   "execution_count": 18,
   "metadata": {},
   "outputs": [
    {
     "name": "stdout",
     "output_type": "stream",
     "text": [
      "2018-01-02\n",
      "2018-12-31\n"
     ]
    }
   ],
   "source": [
    "print(messages.message_date.min())\n",
    "print(messages.message_date.max())"
   ]
  },
  {
   "cell_type": "markdown",
   "metadata": {},
   "source": [
    "<div style=\"background-color: #fff0e0; padding: 10px; font-family: monospace; font-size: 15px\">\n",
    "Вновь усредняем тип данных</div>"
   ]
  },
  {
   "cell_type": "code",
   "execution_count": 19,
   "metadata": {},
   "outputs": [],
   "source": [
    "messages['message_date'] = pd.to_datetime(messages.message_date)"
   ]
  },
  {
   "cell_type": "markdown",
   "metadata": {},
   "source": [
    "## 2.4.   Тарифы"
   ]
  },
  {
   "cell_type": "code",
   "execution_count": 20,
   "metadata": {},
   "outputs": [
    {
     "data": {
      "text/html": [
       "<div>\n",
       "<style scoped>\n",
       "    .dataframe tbody tr th:only-of-type {\n",
       "        vertical-align: middle;\n",
       "    }\n",
       "\n",
       "    .dataframe tbody tr th {\n",
       "        vertical-align: top;\n",
       "    }\n",
       "\n",
       "    .dataframe thead th {\n",
       "        text-align: right;\n",
       "    }\n",
       "</style>\n",
       "<table border=\"1\" class=\"dataframe\">\n",
       "  <thead>\n",
       "    <tr style=\"text-align: right;\">\n",
       "      <th></th>\n",
       "      <th>messages_included</th>\n",
       "      <th>mb_per_month_included</th>\n",
       "      <th>minutes_included</th>\n",
       "      <th>rub_monthly_fee</th>\n",
       "      <th>rub_per_gb</th>\n",
       "      <th>rub_per_message</th>\n",
       "      <th>rub_per_minute</th>\n",
       "      <th>tariff_name</th>\n",
       "    </tr>\n",
       "  </thead>\n",
       "  <tbody>\n",
       "    <tr>\n",
       "      <th>0</th>\n",
       "      <td>50</td>\n",
       "      <td>15360</td>\n",
       "      <td>500</td>\n",
       "      <td>550</td>\n",
       "      <td>200</td>\n",
       "      <td>3</td>\n",
       "      <td>3</td>\n",
       "      <td>smart</td>\n",
       "    </tr>\n",
       "    <tr>\n",
       "      <th>1</th>\n",
       "      <td>1000</td>\n",
       "      <td>30720</td>\n",
       "      <td>3000</td>\n",
       "      <td>1950</td>\n",
       "      <td>150</td>\n",
       "      <td>1</td>\n",
       "      <td>1</td>\n",
       "      <td>ultra</td>\n",
       "    </tr>\n",
       "  </tbody>\n",
       "</table>\n",
       "</div>"
      ],
      "text/plain": [
       "   messages_included  mb_per_month_included  minutes_included  \\\n",
       "0                 50                  15360               500   \n",
       "1               1000                  30720              3000   \n",
       "\n",
       "   rub_monthly_fee  rub_per_gb  rub_per_message  rub_per_minute tariff_name  \n",
       "0              550         200                3               3       smart  \n",
       "1             1950         150                1               1       ultra  "
      ]
     },
     "execution_count": 20,
     "metadata": {},
     "output_type": "execute_result"
    }
   ],
   "source": [
    "tariffs.head()"
   ]
  },
  {
   "cell_type": "markdown",
   "metadata": {},
   "source": [
    "<div style=\"background-color: #fff0e0; padding: 10px; font-family: monospace; font-size: 15px\">\n",
    "Ничего лишнего</div>"
   ]
  },
  {
   "cell_type": "markdown",
   "metadata": {},
   "source": [
    "## 2.5.   Пользователи"
   ]
  },
  {
   "cell_type": "code",
   "execution_count": 21,
   "metadata": {},
   "outputs": [
    {
     "data": {
      "text/html": [
       "<div>\n",
       "<style scoped>\n",
       "    .dataframe tbody tr th:only-of-type {\n",
       "        vertical-align: middle;\n",
       "    }\n",
       "\n",
       "    .dataframe tbody tr th {\n",
       "        vertical-align: top;\n",
       "    }\n",
       "\n",
       "    .dataframe thead th {\n",
       "        text-align: right;\n",
       "    }\n",
       "</style>\n",
       "<table border=\"1\" class=\"dataframe\">\n",
       "  <thead>\n",
       "    <tr style=\"text-align: right;\">\n",
       "      <th></th>\n",
       "      <th>user_id</th>\n",
       "      <th>age</th>\n",
       "      <th>churn_date</th>\n",
       "      <th>city</th>\n",
       "      <th>first_name</th>\n",
       "      <th>last_name</th>\n",
       "      <th>reg_date</th>\n",
       "      <th>tariff</th>\n",
       "    </tr>\n",
       "  </thead>\n",
       "  <tbody>\n",
       "    <tr>\n",
       "      <th>0</th>\n",
       "      <td>1000</td>\n",
       "      <td>52</td>\n",
       "      <td>NaN</td>\n",
       "      <td>Краснодар</td>\n",
       "      <td>Рафаил</td>\n",
       "      <td>Верещагин</td>\n",
       "      <td>2018-05-25</td>\n",
       "      <td>ultra</td>\n",
       "    </tr>\n",
       "    <tr>\n",
       "      <th>1</th>\n",
       "      <td>1001</td>\n",
       "      <td>41</td>\n",
       "      <td>NaN</td>\n",
       "      <td>Москва</td>\n",
       "      <td>Иван</td>\n",
       "      <td>Ежов</td>\n",
       "      <td>2018-11-01</td>\n",
       "      <td>smart</td>\n",
       "    </tr>\n",
       "    <tr>\n",
       "      <th>2</th>\n",
       "      <td>1002</td>\n",
       "      <td>59</td>\n",
       "      <td>NaN</td>\n",
       "      <td>Стерлитамак</td>\n",
       "      <td>Евгений</td>\n",
       "      <td>Абрамович</td>\n",
       "      <td>2018-06-17</td>\n",
       "      <td>smart</td>\n",
       "    </tr>\n",
       "    <tr>\n",
       "      <th>3</th>\n",
       "      <td>1003</td>\n",
       "      <td>23</td>\n",
       "      <td>NaN</td>\n",
       "      <td>Москва</td>\n",
       "      <td>Белла</td>\n",
       "      <td>Белякова</td>\n",
       "      <td>2018-08-17</td>\n",
       "      <td>ultra</td>\n",
       "    </tr>\n",
       "    <tr>\n",
       "      <th>4</th>\n",
       "      <td>1004</td>\n",
       "      <td>68</td>\n",
       "      <td>NaN</td>\n",
       "      <td>Новокузнецк</td>\n",
       "      <td>Татьяна</td>\n",
       "      <td>Авдеенко</td>\n",
       "      <td>2018-05-14</td>\n",
       "      <td>ultra</td>\n",
       "    </tr>\n",
       "  </tbody>\n",
       "</table>\n",
       "</div>"
      ],
      "text/plain": [
       "   user_id  age churn_date         city first_name  last_name    reg_date  \\\n",
       "0     1000   52        NaN    Краснодар     Рафаил  Верещагин  2018-05-25   \n",
       "1     1001   41        NaN       Москва       Иван       Ежов  2018-11-01   \n",
       "2     1002   59        NaN  Стерлитамак    Евгений  Абрамович  2018-06-17   \n",
       "3     1003   23        NaN       Москва      Белла   Белякова  2018-08-17   \n",
       "4     1004   68        NaN  Новокузнецк    Татьяна   Авдеенко  2018-05-14   \n",
       "\n",
       "  tariff  \n",
       "0  ultra  \n",
       "1  smart  \n",
       "2  smart  \n",
       "3  ultra  \n",
       "4  ultra  "
      ]
     },
     "execution_count": 21,
     "metadata": {},
     "output_type": "execute_result"
    }
   ],
   "source": [
    "users.head()"
   ]
  },
  {
   "cell_type": "code",
   "execution_count": 22,
   "metadata": {},
   "outputs": [
    {
     "name": "stdout",
     "output_type": "stream",
     "text": [
      "<class 'pandas.core.frame.DataFrame'>\n",
      "RangeIndex: 500 entries, 0 to 499\n",
      "Data columns (total 8 columns):\n",
      " #   Column      Non-Null Count  Dtype \n",
      "---  ------      --------------  ----- \n",
      " 0   user_id     500 non-null    int64 \n",
      " 1   age         500 non-null    int64 \n",
      " 2   churn_date  38 non-null     object\n",
      " 3   city        500 non-null    object\n",
      " 4   first_name  500 non-null    object\n",
      " 5   last_name   500 non-null    object\n",
      " 6   reg_date    500 non-null    object\n",
      " 7   tariff      500 non-null    object\n",
      "dtypes: int64(2), object(6)\n",
      "memory usage: 31.4+ KB\n"
     ]
    }
   ],
   "source": [
    "users.info()"
   ]
  },
  {
   "cell_type": "markdown",
   "metadata": {},
   "source": [
    "<div style=\"background-color: #fff0e0; padding: 10px; font-family: monospace; font-size: 15px\">\n",
    "Пропущенные данные с датами отключения – хороший знак, значит, никто не ушел</div>"
   ]
  },
  {
   "cell_type": "code",
   "execution_count": 23,
   "metadata": {},
   "outputs": [
    {
     "name": "stdout",
     "output_type": "stream",
     "text": [
      "18\n",
      "75\n"
     ]
    }
   ],
   "source": [
    "print(users.age.min())\n",
    "print(users.age.max())"
   ]
  },
  {
   "cell_type": "markdown",
   "metadata": {},
   "source": [
    "<div style=\"background-color: #fff0e0; padding: 10px; font-family: monospace; font-size: 15px\">\n",
    "Возраст соответствует действительности</div>"
   ]
  },
  {
   "cell_type": "code",
   "execution_count": 24,
   "metadata": {},
   "outputs": [
    {
     "data": {
      "text/plain": [
       "array(['Архангельск', 'Астрахань', 'Балашиха', 'Барнаул', 'Белгород',\n",
       "       'Брянск', 'Владивосток', 'Владикавказ', 'Владимир', 'Волгоград',\n",
       "       'Волжский', 'Вологда', 'Воронеж', 'Грозный', 'Екатеринбург',\n",
       "       'Иваново', 'Ижевск', 'Иркутск', 'Казань', 'Калининград', 'Калуга',\n",
       "       'Кемерово', 'Киров', 'Кострома', 'Краснодар', 'Красноярск',\n",
       "       'Курган', 'Курск', 'Липецк', 'Магнитогорск', 'Махачкала', 'Москва',\n",
       "       'Мурманск', 'Набережные Челны', 'Нижневартовск', 'Нижний Новгород',\n",
       "       'Нижний Тагил', 'Новокузнецк', 'Новороссийск', 'Новосибирск',\n",
       "       'Омск', 'Оренбург', 'Орёл', 'Пенза', 'Пермь', 'Петрозаводск',\n",
       "       'Подольск', 'Ростов-на-Дону', 'Рязань', 'Самара',\n",
       "       'Санкт-Петербург', 'Саранск', 'Саратов', 'Севастополь', 'Смоленск',\n",
       "       'Сочи', 'Ставрополь', 'Стерлитамак', 'Сургут', 'Тамбов', 'Тверь',\n",
       "       'Тольятти', 'Томск', 'Тула', 'Тюмень', 'Улан-Удэ', 'Ульяновск',\n",
       "       'Уфа', 'Хабаровск', 'Химки', 'Чебоксары', 'Челябинск', 'Череповец',\n",
       "       'Чита', 'Якутск', 'Ярославль'], dtype=object)"
      ]
     },
     "execution_count": 24,
     "metadata": {},
     "output_type": "execute_result"
    }
   ],
   "source": [
    "users.city.sort_values().unique()"
   ]
  },
  {
   "cell_type": "markdown",
   "metadata": {},
   "source": [
    "<div style=\"background-color: #fff0e0; padding: 10px; font-family: monospace; font-size: 15px\">\n",
    "В городах нет дубликатов</div>"
   ]
  },
  {
   "cell_type": "code",
   "execution_count": 25,
   "metadata": {},
   "outputs": [
    {
     "data": {
      "text/plain": [
       "array(['ultra', 'smart'], dtype=object)"
      ]
     },
     "execution_count": 25,
     "metadata": {},
     "output_type": "execute_result"
    }
   ],
   "source": [
    "users.tariff.unique()"
   ]
  },
  {
   "cell_type": "markdown",
   "metadata": {},
   "source": [
    "<div style=\"background-color: #fff0e0; padding: 10px; font-family: monospace; font-size: 15px\">\n",
    "Тарифы в порядке. Необычайно чистые данные</div>"
   ]
  },
  {
   "cell_type": "code",
   "execution_count": 26,
   "metadata": {},
   "outputs": [],
   "source": [
    "users['churn_date'] = pd.to_datetime(users.churn_date)\n",
    "users['reg_date'] = pd.to_datetime(users.reg_date)"
   ]
  },
  {
   "cell_type": "markdown",
   "metadata": {},
   "source": [
    "# 3.   Количество звонков и минут по месяцам"
   ]
  },
  {
   "cell_type": "markdown",
   "metadata": {},
   "source": [
    "<div style=\"background-color: #fff0e0; padding: 10px; font-family: monospace; font-size: 15px\">\n",
    "Для начала, выделим месяцы в звонках</div>"
   ]
  },
  {
   "cell_type": "code",
   "execution_count": 27,
   "metadata": {},
   "outputs": [],
   "source": [
    "calls['month'] = calls.call_date.dt.month"
   ]
  },
  {
   "cell_type": "code",
   "execution_count": 28,
   "metadata": {},
   "outputs": [
    {
     "data": {
      "text/html": [
       "<div>\n",
       "<style scoped>\n",
       "    .dataframe tbody tr th:only-of-type {\n",
       "        vertical-align: middle;\n",
       "    }\n",
       "\n",
       "    .dataframe tbody tr th {\n",
       "        vertical-align: top;\n",
       "    }\n",
       "\n",
       "    .dataframe thead th {\n",
       "        text-align: right;\n",
       "    }\n",
       "</style>\n",
       "<table border=\"1\" class=\"dataframe\">\n",
       "  <thead>\n",
       "    <tr style=\"text-align: right;\">\n",
       "      <th></th>\n",
       "      <th>id</th>\n",
       "      <th>call_date</th>\n",
       "      <th>duration</th>\n",
       "      <th>user_id</th>\n",
       "      <th>rounded_duration</th>\n",
       "      <th>month</th>\n",
       "    </tr>\n",
       "  </thead>\n",
       "  <tbody>\n",
       "    <tr>\n",
       "      <th>0</th>\n",
       "      <td>1000_0</td>\n",
       "      <td>2018-07-25</td>\n",
       "      <td>0.00</td>\n",
       "      <td>1000</td>\n",
       "      <td>0</td>\n",
       "      <td>7</td>\n",
       "    </tr>\n",
       "    <tr>\n",
       "      <th>1</th>\n",
       "      <td>1000_1</td>\n",
       "      <td>2018-08-17</td>\n",
       "      <td>0.00</td>\n",
       "      <td>1000</td>\n",
       "      <td>0</td>\n",
       "      <td>8</td>\n",
       "    </tr>\n",
       "    <tr>\n",
       "      <th>2</th>\n",
       "      <td>1000_2</td>\n",
       "      <td>2018-06-11</td>\n",
       "      <td>2.85</td>\n",
       "      <td>1000</td>\n",
       "      <td>3</td>\n",
       "      <td>6</td>\n",
       "    </tr>\n",
       "    <tr>\n",
       "      <th>3</th>\n",
       "      <td>1000_3</td>\n",
       "      <td>2018-09-21</td>\n",
       "      <td>13.80</td>\n",
       "      <td>1000</td>\n",
       "      <td>14</td>\n",
       "      <td>9</td>\n",
       "    </tr>\n",
       "    <tr>\n",
       "      <th>4</th>\n",
       "      <td>1000_4</td>\n",
       "      <td>2018-12-15</td>\n",
       "      <td>5.18</td>\n",
       "      <td>1000</td>\n",
       "      <td>6</td>\n",
       "      <td>12</td>\n",
       "    </tr>\n",
       "  </tbody>\n",
       "</table>\n",
       "</div>"
      ],
      "text/plain": [
       "       id  call_date  duration  user_id  rounded_duration  month\n",
       "0  1000_0 2018-07-25      0.00     1000                 0      7\n",
       "1  1000_1 2018-08-17      0.00     1000                 0      8\n",
       "2  1000_2 2018-06-11      2.85     1000                 3      6\n",
       "3  1000_3 2018-09-21     13.80     1000                14      9\n",
       "4  1000_4 2018-12-15      5.18     1000                 6     12"
      ]
     },
     "execution_count": 28,
     "metadata": {},
     "output_type": "execute_result"
    }
   ],
   "source": [
    "calls.head()"
   ]
  },
  {
   "cell_type": "markdown",
   "metadata": {},
   "source": [
    "<div style=\"background-color: #fff0e0; padding: 10px; font-family: monospace; font-size: 15px\">\n",
    "Отлично, теперь можно строить сводную по месяцам</div>"
   ]
  },
  {
   "cell_type": "code",
   "execution_count": 29,
   "metadata": {},
   "outputs": [],
   "source": [
    "calls_pivot = calls.pivot_table(index=['month', 'user_id'], \n",
    "                  values=['rounded_duration'], \n",
    "                  aggfunc=['sum', 'count'])"
   ]
  },
  {
   "cell_type": "code",
   "execution_count": 30,
   "metadata": {},
   "outputs": [
    {
     "data": {
      "text/html": [
       "<div>\n",
       "<style scoped>\n",
       "    .dataframe tbody tr th:only-of-type {\n",
       "        vertical-align: middle;\n",
       "    }\n",
       "\n",
       "    .dataframe tbody tr th {\n",
       "        vertical-align: top;\n",
       "    }\n",
       "\n",
       "    .dataframe thead tr th {\n",
       "        text-align: left;\n",
       "    }\n",
       "\n",
       "    .dataframe thead tr:last-of-type th {\n",
       "        text-align: right;\n",
       "    }\n",
       "</style>\n",
       "<table border=\"1\" class=\"dataframe\">\n",
       "  <thead>\n",
       "    <tr>\n",
       "      <th></th>\n",
       "      <th></th>\n",
       "      <th>sum</th>\n",
       "      <th>count</th>\n",
       "    </tr>\n",
       "    <tr>\n",
       "      <th></th>\n",
       "      <th></th>\n",
       "      <th>rounded_duration</th>\n",
       "      <th>rounded_duration</th>\n",
       "    </tr>\n",
       "    <tr>\n",
       "      <th>month</th>\n",
       "      <th>user_id</th>\n",
       "      <th></th>\n",
       "      <th></th>\n",
       "    </tr>\n",
       "  </thead>\n",
       "  <tbody>\n",
       "    <tr>\n",
       "      <th rowspan=\"5\" valign=\"top\">1</th>\n",
       "      <th>1005</th>\n",
       "      <td>95</td>\n",
       "      <td>15</td>\n",
       "    </tr>\n",
       "    <tr>\n",
       "      <th>1032</th>\n",
       "      <td>380</td>\n",
       "      <td>61</td>\n",
       "    </tr>\n",
       "    <tr>\n",
       "      <th>1045</th>\n",
       "      <td>9</td>\n",
       "      <td>1</td>\n",
       "    </tr>\n",
       "    <tr>\n",
       "      <th>1055</th>\n",
       "      <td>551</td>\n",
       "      <td>64</td>\n",
       "    </tr>\n",
       "    <tr>\n",
       "      <th>1071</th>\n",
       "      <td>194</td>\n",
       "      <td>24</td>\n",
       "    </tr>\n",
       "  </tbody>\n",
       "</table>\n",
       "</div>"
      ],
      "text/plain": [
       "                           sum            count\n",
       "              rounded_duration rounded_duration\n",
       "month user_id                                  \n",
       "1     1005                  95               15\n",
       "      1032                 380               61\n",
       "      1045                   9                1\n",
       "      1055                 551               64\n",
       "      1071                 194               24"
      ]
     },
     "execution_count": 30,
     "metadata": {},
     "output_type": "execute_result"
    }
   ],
   "source": [
    "calls_pivot.head()"
   ]
  },
  {
   "cell_type": "markdown",
   "metadata": {},
   "source": [
    "# 4.   Количество сообщений по месяцам"
   ]
  },
  {
   "cell_type": "markdown",
   "metadata": {},
   "source": [
    "<div style=\"background-color: #fff0e0; padding: 10px; font-family: monospace; font-size: 15px\">\n",
    "Так же выделяем месяцы в отдельный столбец</div>"
   ]
  },
  {
   "cell_type": "code",
   "execution_count": 31,
   "metadata": {},
   "outputs": [],
   "source": [
    "messages['month'] = messages.message_date.dt.month"
   ]
  },
  {
   "cell_type": "markdown",
   "metadata": {},
   "source": [
    "<div style=\"background-color: #fff0e0; padding: 10px; font-family: monospace; font-size: 15px\">\n",
    "И делаем сводную таблицу</div>"
   ]
  },
  {
   "cell_type": "code",
   "execution_count": 32,
   "metadata": {},
   "outputs": [],
   "source": [
    "messages_pivot = messages.pivot_table(index=['month', 'user_id'], \n",
    "                                      values=['message_date'], \n",
    "                                      aggfunc=['count'])"
   ]
  },
  {
   "cell_type": "code",
   "execution_count": 33,
   "metadata": {},
   "outputs": [
    {
     "data": {
      "text/html": [
       "<div>\n",
       "<style scoped>\n",
       "    .dataframe tbody tr th:only-of-type {\n",
       "        vertical-align: middle;\n",
       "    }\n",
       "\n",
       "    .dataframe tbody tr th {\n",
       "        vertical-align: top;\n",
       "    }\n",
       "\n",
       "    .dataframe thead tr th {\n",
       "        text-align: left;\n",
       "    }\n",
       "\n",
       "    .dataframe thead tr:last-of-type th {\n",
       "        text-align: right;\n",
       "    }\n",
       "</style>\n",
       "<table border=\"1\" class=\"dataframe\">\n",
       "  <thead>\n",
       "    <tr>\n",
       "      <th></th>\n",
       "      <th></th>\n",
       "      <th>count</th>\n",
       "    </tr>\n",
       "    <tr>\n",
       "      <th></th>\n",
       "      <th></th>\n",
       "      <th>message_date</th>\n",
       "    </tr>\n",
       "    <tr>\n",
       "      <th>month</th>\n",
       "      <th>user_id</th>\n",
       "      <th></th>\n",
       "    </tr>\n",
       "  </thead>\n",
       "  <tbody>\n",
       "    <tr>\n",
       "      <th rowspan=\"5\" valign=\"top\">1</th>\n",
       "      <th>1005</th>\n",
       "      <td>7</td>\n",
       "    </tr>\n",
       "    <tr>\n",
       "      <th>1032</th>\n",
       "      <td>38</td>\n",
       "    </tr>\n",
       "    <tr>\n",
       "      <th>1045</th>\n",
       "      <td>5</td>\n",
       "    </tr>\n",
       "    <tr>\n",
       "      <th>1055</th>\n",
       "      <td>30</td>\n",
       "    </tr>\n",
       "    <tr>\n",
       "      <th>1071</th>\n",
       "      <td>16</td>\n",
       "    </tr>\n",
       "  </tbody>\n",
       "</table>\n",
       "</div>"
      ],
      "text/plain": [
       "                     count\n",
       "              message_date\n",
       "month user_id             \n",
       "1     1005               7\n",
       "      1032              38\n",
       "      1045               5\n",
       "      1055              30\n",
       "      1071              16"
      ]
     },
     "execution_count": 33,
     "metadata": {},
     "output_type": "execute_result"
    }
   ],
   "source": [
    "messages_pivot.head()"
   ]
  },
  {
   "cell_type": "markdown",
   "metadata": {},
   "source": [
    "# 5.   Объем интернет-трафика по месяцам"
   ]
  },
  {
   "cell_type": "markdown",
   "metadata": {},
   "source": [
    "<div style=\"background-color: #fff0e0; padding: 10px; font-family: monospace; font-size: 15px\">\n",
    "Та же участь для месяцев</div>"
   ]
  },
  {
   "cell_type": "code",
   "execution_count": 34,
   "metadata": {},
   "outputs": [],
   "source": [
    "internet['month'] = internet.session_date.dt.month"
   ]
  },
  {
   "cell_type": "markdown",
   "metadata": {},
   "source": [
    "<div style=\"background-color: #fff0e0; padding: 10px; font-family: monospace; font-size: 15px\">\n",
    "Та же сводная таблица</div>"
   ]
  },
  {
   "cell_type": "code",
   "execution_count": 35,
   "metadata": {},
   "outputs": [],
   "source": [
    "internet_pivot = internet.pivot_table(index=['month', 'user_id'], \n",
    "                                      values=['mb_used'], \n",
    "                                      aggfunc=['sum'])"
   ]
  },
  {
   "cell_type": "markdown",
   "metadata": {},
   "source": [
    "<div style=\"background-color: #fff0e0; padding: 10px; font-family: monospace; font-size: 15px\">\n",
    "И еще округлим суммарные данные за месяц до круглых Гб с применением нашей хитрой методики</div>"
   ]
  },
  {
   "cell_type": "code",
   "execution_count": 36,
   "metadata": {},
   "outputs": [],
   "source": [
    "internet_pivot['rounded_gb_used'] = (internet_pivot['sum']['mb_used']\n",
    "                                     .apply(\n",
    "                                         lambda x: int(x) if x%1024 == 0 else int(x)//1024 + 1\n",
    "                                     )\n",
    "                                    )"
   ]
  },
  {
   "cell_type": "code",
   "execution_count": 37,
   "metadata": {},
   "outputs": [
    {
     "data": {
      "text/html": [
       "<div>\n",
       "<style scoped>\n",
       "    .dataframe tbody tr th:only-of-type {\n",
       "        vertical-align: middle;\n",
       "    }\n",
       "\n",
       "    .dataframe tbody tr th {\n",
       "        vertical-align: top;\n",
       "    }\n",
       "\n",
       "    .dataframe thead tr th {\n",
       "        text-align: left;\n",
       "    }\n",
       "\n",
       "    .dataframe thead tr:last-of-type th {\n",
       "        text-align: right;\n",
       "    }\n",
       "</style>\n",
       "<table border=\"1\" class=\"dataframe\">\n",
       "  <thead>\n",
       "    <tr>\n",
       "      <th></th>\n",
       "      <th></th>\n",
       "      <th>sum</th>\n",
       "      <th>rounded_gb_used</th>\n",
       "    </tr>\n",
       "    <tr>\n",
       "      <th></th>\n",
       "      <th></th>\n",
       "      <th>mb_used</th>\n",
       "      <th></th>\n",
       "    </tr>\n",
       "    <tr>\n",
       "      <th>month</th>\n",
       "      <th>user_id</th>\n",
       "      <th></th>\n",
       "      <th></th>\n",
       "    </tr>\n",
       "  </thead>\n",
       "  <tbody>\n",
       "    <tr>\n",
       "      <th rowspan=\"5\" valign=\"top\">1</th>\n",
       "      <th>1005</th>\n",
       "      <td>2727.97</td>\n",
       "      <td>3</td>\n",
       "    </tr>\n",
       "    <tr>\n",
       "      <th>1032</th>\n",
       "      <td>24127.69</td>\n",
       "      <td>24</td>\n",
       "    </tr>\n",
       "    <tr>\n",
       "      <th>1045</th>\n",
       "      <td>2346.71</td>\n",
       "      <td>3</td>\n",
       "    </tr>\n",
       "    <tr>\n",
       "      <th>1055</th>\n",
       "      <td>17090.88</td>\n",
       "      <td>17</td>\n",
       "    </tr>\n",
       "    <tr>\n",
       "      <th>1071</th>\n",
       "      <td>15604.34</td>\n",
       "      <td>16</td>\n",
       "    </tr>\n",
       "  </tbody>\n",
       "</table>\n",
       "</div>"
      ],
      "text/plain": [
       "                    sum rounded_gb_used\n",
       "                mb_used                \n",
       "month user_id                          \n",
       "1     1005      2727.97               3\n",
       "      1032     24127.69              24\n",
       "      1045      2346.71               3\n",
       "      1055     17090.88              17\n",
       "      1071     15604.34              16"
      ]
     },
     "execution_count": 37,
     "metadata": {},
     "output_type": "execute_result"
    }
   ],
   "source": [
    "internet_pivot.head()"
   ]
  },
  {
   "cell_type": "markdown",
   "metadata": {},
   "source": [
    "# 6.   Помесячная выручка"
   ]
  },
  {
   "cell_type": "markdown",
   "metadata": {},
   "source": [
    "<div style=\"background-color: #fff0e0; padding: 10px; font-family: monospace; font-size: 15px\">\n",
    "С каждого пользователя</div>\n",
    "\n",
    "<div style=\"background-color: #fff0e0; padding: 10px; font-family: monospace; font-size: 15px\">\n",
    "Нам перед глазами пригодятся две таблички</div>"
   ]
  },
  {
   "cell_type": "code",
   "execution_count": 38,
   "metadata": {},
   "outputs": [
    {
     "data": {
      "text/html": [
       "<div>\n",
       "<style scoped>\n",
       "    .dataframe tbody tr th:only-of-type {\n",
       "        vertical-align: middle;\n",
       "    }\n",
       "\n",
       "    .dataframe tbody tr th {\n",
       "        vertical-align: top;\n",
       "    }\n",
       "\n",
       "    .dataframe thead th {\n",
       "        text-align: right;\n",
       "    }\n",
       "</style>\n",
       "<table border=\"1\" class=\"dataframe\">\n",
       "  <thead>\n",
       "    <tr style=\"text-align: right;\">\n",
       "      <th></th>\n",
       "      <th>messages_included</th>\n",
       "      <th>mb_per_month_included</th>\n",
       "      <th>minutes_included</th>\n",
       "      <th>rub_monthly_fee</th>\n",
       "      <th>rub_per_gb</th>\n",
       "      <th>rub_per_message</th>\n",
       "      <th>rub_per_minute</th>\n",
       "      <th>tariff_name</th>\n",
       "    </tr>\n",
       "  </thead>\n",
       "  <tbody>\n",
       "    <tr>\n",
       "      <th>0</th>\n",
       "      <td>50</td>\n",
       "      <td>15360</td>\n",
       "      <td>500</td>\n",
       "      <td>550</td>\n",
       "      <td>200</td>\n",
       "      <td>3</td>\n",
       "      <td>3</td>\n",
       "      <td>smart</td>\n",
       "    </tr>\n",
       "    <tr>\n",
       "      <th>1</th>\n",
       "      <td>1000</td>\n",
       "      <td>30720</td>\n",
       "      <td>3000</td>\n",
       "      <td>1950</td>\n",
       "      <td>150</td>\n",
       "      <td>1</td>\n",
       "      <td>1</td>\n",
       "      <td>ultra</td>\n",
       "    </tr>\n",
       "  </tbody>\n",
       "</table>\n",
       "</div>"
      ],
      "text/plain": [
       "   messages_included  mb_per_month_included  minutes_included  \\\n",
       "0                 50                  15360               500   \n",
       "1               1000                  30720              3000   \n",
       "\n",
       "   rub_monthly_fee  rub_per_gb  rub_per_message  rub_per_minute tariff_name  \n",
       "0              550         200                3               3       smart  \n",
       "1             1950         150                1               1       ultra  "
      ]
     },
     "execution_count": 38,
     "metadata": {},
     "output_type": "execute_result"
    }
   ],
   "source": [
    "tariffs"
   ]
  },
  {
   "cell_type": "code",
   "execution_count": 39,
   "metadata": {},
   "outputs": [
    {
     "data": {
      "text/html": [
       "<div>\n",
       "<style scoped>\n",
       "    .dataframe tbody tr th:only-of-type {\n",
       "        vertical-align: middle;\n",
       "    }\n",
       "\n",
       "    .dataframe tbody tr th {\n",
       "        vertical-align: top;\n",
       "    }\n",
       "\n",
       "    .dataframe thead th {\n",
       "        text-align: right;\n",
       "    }\n",
       "</style>\n",
       "<table border=\"1\" class=\"dataframe\">\n",
       "  <thead>\n",
       "    <tr style=\"text-align: right;\">\n",
       "      <th></th>\n",
       "      <th>user_id</th>\n",
       "      <th>age</th>\n",
       "      <th>churn_date</th>\n",
       "      <th>city</th>\n",
       "      <th>first_name</th>\n",
       "      <th>last_name</th>\n",
       "      <th>reg_date</th>\n",
       "      <th>tariff</th>\n",
       "    </tr>\n",
       "  </thead>\n",
       "  <tbody>\n",
       "    <tr>\n",
       "      <th>0</th>\n",
       "      <td>1000</td>\n",
       "      <td>52</td>\n",
       "      <td>NaT</td>\n",
       "      <td>Краснодар</td>\n",
       "      <td>Рафаил</td>\n",
       "      <td>Верещагин</td>\n",
       "      <td>2018-05-25</td>\n",
       "      <td>ultra</td>\n",
       "    </tr>\n",
       "    <tr>\n",
       "      <th>1</th>\n",
       "      <td>1001</td>\n",
       "      <td>41</td>\n",
       "      <td>NaT</td>\n",
       "      <td>Москва</td>\n",
       "      <td>Иван</td>\n",
       "      <td>Ежов</td>\n",
       "      <td>2018-11-01</td>\n",
       "      <td>smart</td>\n",
       "    </tr>\n",
       "    <tr>\n",
       "      <th>2</th>\n",
       "      <td>1002</td>\n",
       "      <td>59</td>\n",
       "      <td>NaT</td>\n",
       "      <td>Стерлитамак</td>\n",
       "      <td>Евгений</td>\n",
       "      <td>Абрамович</td>\n",
       "      <td>2018-06-17</td>\n",
       "      <td>smart</td>\n",
       "    </tr>\n",
       "    <tr>\n",
       "      <th>3</th>\n",
       "      <td>1003</td>\n",
       "      <td>23</td>\n",
       "      <td>NaT</td>\n",
       "      <td>Москва</td>\n",
       "      <td>Белла</td>\n",
       "      <td>Белякова</td>\n",
       "      <td>2018-08-17</td>\n",
       "      <td>ultra</td>\n",
       "    </tr>\n",
       "    <tr>\n",
       "      <th>4</th>\n",
       "      <td>1004</td>\n",
       "      <td>68</td>\n",
       "      <td>NaT</td>\n",
       "      <td>Новокузнецк</td>\n",
       "      <td>Татьяна</td>\n",
       "      <td>Авдеенко</td>\n",
       "      <td>2018-05-14</td>\n",
       "      <td>ultra</td>\n",
       "    </tr>\n",
       "  </tbody>\n",
       "</table>\n",
       "</div>"
      ],
      "text/plain": [
       "   user_id  age churn_date         city first_name  last_name   reg_date  \\\n",
       "0     1000   52        NaT    Краснодар     Рафаил  Верещагин 2018-05-25   \n",
       "1     1001   41        NaT       Москва       Иван       Ежов 2018-11-01   \n",
       "2     1002   59        NaT  Стерлитамак    Евгений  Абрамович 2018-06-17   \n",
       "3     1003   23        NaT       Москва      Белла   Белякова 2018-08-17   \n",
       "4     1004   68        NaT  Новокузнецк    Татьяна   Авдеенко 2018-05-14   \n",
       "\n",
       "  tariff  \n",
       "0  ultra  \n",
       "1  smart  \n",
       "2  smart  \n",
       "3  ultra  \n",
       "4  ultra  "
      ]
     },
     "execution_count": 39,
     "metadata": {},
     "output_type": "execute_result"
    }
   ],
   "source": [
    "users.head()"
   ]
  },
  {
   "cell_type": "markdown",
   "metadata": {},
   "source": [
    "## 6.1.   Звонки"
   ]
  },
  {
   "cell_type": "markdown",
   "metadata": {},
   "source": [
    "<div style=\"background-color: #fff0e0; padding: 10px; font-family: monospace; font-size: 15px\">\n",
    "Выведем так же сводную по звонкам</div>"
   ]
  },
  {
   "cell_type": "code",
   "execution_count": 40,
   "metadata": {},
   "outputs": [
    {
     "data": {
      "text/html": [
       "<div>\n",
       "<style scoped>\n",
       "    .dataframe tbody tr th:only-of-type {\n",
       "        vertical-align: middle;\n",
       "    }\n",
       "\n",
       "    .dataframe tbody tr th {\n",
       "        vertical-align: top;\n",
       "    }\n",
       "\n",
       "    .dataframe thead tr th {\n",
       "        text-align: left;\n",
       "    }\n",
       "\n",
       "    .dataframe thead tr:last-of-type th {\n",
       "        text-align: right;\n",
       "    }\n",
       "</style>\n",
       "<table border=\"1\" class=\"dataframe\">\n",
       "  <thead>\n",
       "    <tr>\n",
       "      <th></th>\n",
       "      <th></th>\n",
       "      <th>sum</th>\n",
       "      <th>count</th>\n",
       "    </tr>\n",
       "    <tr>\n",
       "      <th></th>\n",
       "      <th></th>\n",
       "      <th>rounded_duration</th>\n",
       "      <th>rounded_duration</th>\n",
       "    </tr>\n",
       "    <tr>\n",
       "      <th>month</th>\n",
       "      <th>user_id</th>\n",
       "      <th></th>\n",
       "      <th></th>\n",
       "    </tr>\n",
       "  </thead>\n",
       "  <tbody>\n",
       "    <tr>\n",
       "      <th rowspan=\"5\" valign=\"top\">1</th>\n",
       "      <th>1005</th>\n",
       "      <td>95</td>\n",
       "      <td>15</td>\n",
       "    </tr>\n",
       "    <tr>\n",
       "      <th>1032</th>\n",
       "      <td>380</td>\n",
       "      <td>61</td>\n",
       "    </tr>\n",
       "    <tr>\n",
       "      <th>1045</th>\n",
       "      <td>9</td>\n",
       "      <td>1</td>\n",
       "    </tr>\n",
       "    <tr>\n",
       "      <th>1055</th>\n",
       "      <td>551</td>\n",
       "      <td>64</td>\n",
       "    </tr>\n",
       "    <tr>\n",
       "      <th>1071</th>\n",
       "      <td>194</td>\n",
       "      <td>24</td>\n",
       "    </tr>\n",
       "  </tbody>\n",
       "</table>\n",
       "</div>"
      ],
      "text/plain": [
       "                           sum            count\n",
       "              rounded_duration rounded_duration\n",
       "month user_id                                  \n",
       "1     1005                  95               15\n",
       "      1032                 380               61\n",
       "      1045                   9                1\n",
       "      1055                 551               64\n",
       "      1071                 194               24"
      ]
     },
     "execution_count": 40,
     "metadata": {},
     "output_type": "execute_result"
    }
   ],
   "source": [
    "calls_pivot.head()"
   ]
  },
  {
   "cell_type": "markdown",
   "metadata": {},
   "source": [
    "<div style=\"background-color: #fff0e0; padding: 10px; font-family: monospace; font-size: 15px\">\n",
    "Добавим в нее необходимую информацию</div>\n",
    "\n",
    "<div style=\"background-color: #fff0e0; padding: 10px; font-family: monospace; font-size: 15px\">\n",
    "Тариф:</div>"
   ]
  },
  {
   "cell_type": "code",
   "execution_count": 41,
   "metadata": {},
   "outputs": [],
   "source": [
    "calls_pivot['tariff_name'] = calls_pivot.merge(users, on='user_id', how='left')['tariff'].tolist()"
   ]
  },
  {
   "cell_type": "markdown",
   "metadata": {},
   "source": [
    "<div style=\"background-color: #fff0e0; padding: 10px; font-family: monospace; font-size: 15px\">\n",
    "Включенное количество минут:</div>"
   ]
  },
  {
   "cell_type": "code",
   "execution_count": 42,
   "metadata": {},
   "outputs": [],
   "source": [
    "calls_pivot['minutes_included'] = (calls_pivot\n",
    "                                   .merge(tariffs, on='tariff_name', how='left')['minutes_included']\n",
    "                                   .tolist())"
   ]
  },
  {
   "cell_type": "markdown",
   "metadata": {},
   "source": [
    "<div style=\"background-color: #fff0e0; padding: 10px; font-family: monospace; font-size: 15px\">\n",
    "Ежемесячную плату:</div>"
   ]
  },
  {
   "cell_type": "code",
   "execution_count": 43,
   "metadata": {},
   "outputs": [],
   "source": [
    "calls_pivot['rub_monthly_fee'] = calls_pivot.merge(tariffs, on='tariff_name', how='left')['rub_monthly_fee'].tolist()"
   ]
  },
  {
   "cell_type": "markdown",
   "metadata": {},
   "source": [
    "<div style=\"background-color: #fff0e0; padding: 10px; font-family: monospace; font-size: 15px\">\n",
    "И плату за превышение лимита:</div>"
   ]
  },
  {
   "cell_type": "code",
   "execution_count": 44,
   "metadata": {},
   "outputs": [],
   "source": [
    "calls_pivot['rub_per_minute'] = calls_pivot.merge(tariffs, on='tariff_name', how='left')['rub_per_minute'].tolist()"
   ]
  },
  {
   "cell_type": "markdown",
   "metadata": {},
   "source": [
    "<div style=\"background-color: #fff0e0; padding: 10px; font-family: monospace; font-size: 15px\">\n",
    "Рассчитаем тех, кто таки превысил и поплатился</div>"
   ]
  },
  {
   "cell_type": "code",
   "execution_count": 45,
   "metadata": {},
   "outputs": [],
   "source": [
    "calls_pivot['fee_over'] = calls_pivot['minutes_included'] - calls_pivot['sum']['rounded_duration']\n",
    "calls_pivot['fee_over'] = calls_pivot['fee_over'] * calls_pivot['rub_per_minute']\n",
    "calls_pivot['fee_over'] = calls_pivot['fee_over'].apply(lambda x: abs(x) if x < 0 else 0)"
   ]
  },
  {
   "cell_type": "code",
   "execution_count": 46,
   "metadata": {},
   "outputs": [
    {
     "data": {
      "text/html": [
       "<div>\n",
       "<style scoped>\n",
       "    .dataframe tbody tr th:only-of-type {\n",
       "        vertical-align: middle;\n",
       "    }\n",
       "\n",
       "    .dataframe tbody tr th {\n",
       "        vertical-align: top;\n",
       "    }\n",
       "\n",
       "    .dataframe thead tr th {\n",
       "        text-align: left;\n",
       "    }\n",
       "\n",
       "    .dataframe thead tr:last-of-type th {\n",
       "        text-align: right;\n",
       "    }\n",
       "</style>\n",
       "<table border=\"1\" class=\"dataframe\">\n",
       "  <thead>\n",
       "    <tr>\n",
       "      <th></th>\n",
       "      <th></th>\n",
       "      <th>sum</th>\n",
       "      <th>count</th>\n",
       "      <th>tariff_name</th>\n",
       "      <th>minutes_included</th>\n",
       "      <th>rub_monthly_fee</th>\n",
       "      <th>rub_per_minute</th>\n",
       "      <th>fee_over</th>\n",
       "    </tr>\n",
       "    <tr>\n",
       "      <th></th>\n",
       "      <th></th>\n",
       "      <th>rounded_duration</th>\n",
       "      <th>rounded_duration</th>\n",
       "      <th></th>\n",
       "      <th></th>\n",
       "      <th></th>\n",
       "      <th></th>\n",
       "      <th></th>\n",
       "    </tr>\n",
       "    <tr>\n",
       "      <th>month</th>\n",
       "      <th>user_id</th>\n",
       "      <th></th>\n",
       "      <th></th>\n",
       "      <th></th>\n",
       "      <th></th>\n",
       "      <th></th>\n",
       "      <th></th>\n",
       "      <th></th>\n",
       "    </tr>\n",
       "  </thead>\n",
       "  <tbody>\n",
       "    <tr>\n",
       "      <th rowspan=\"5\" valign=\"top\">1</th>\n",
       "      <th>1005</th>\n",
       "      <td>95</td>\n",
       "      <td>15</td>\n",
       "      <td>smart</td>\n",
       "      <td>500</td>\n",
       "      <td>550</td>\n",
       "      <td>3</td>\n",
       "      <td>0</td>\n",
       "    </tr>\n",
       "    <tr>\n",
       "      <th>1032</th>\n",
       "      <td>380</td>\n",
       "      <td>61</td>\n",
       "      <td>smart</td>\n",
       "      <td>500</td>\n",
       "      <td>550</td>\n",
       "      <td>3</td>\n",
       "      <td>0</td>\n",
       "    </tr>\n",
       "    <tr>\n",
       "      <th>1045</th>\n",
       "      <td>9</td>\n",
       "      <td>1</td>\n",
       "      <td>smart</td>\n",
       "      <td>500</td>\n",
       "      <td>550</td>\n",
       "      <td>3</td>\n",
       "      <td>0</td>\n",
       "    </tr>\n",
       "    <tr>\n",
       "      <th>1055</th>\n",
       "      <td>551</td>\n",
       "      <td>64</td>\n",
       "      <td>smart</td>\n",
       "      <td>500</td>\n",
       "      <td>550</td>\n",
       "      <td>3</td>\n",
       "      <td>153</td>\n",
       "    </tr>\n",
       "    <tr>\n",
       "      <th>1071</th>\n",
       "      <td>194</td>\n",
       "      <td>24</td>\n",
       "      <td>smart</td>\n",
       "      <td>500</td>\n",
       "      <td>550</td>\n",
       "      <td>3</td>\n",
       "      <td>0</td>\n",
       "    </tr>\n",
       "    <tr>\n",
       "      <th>...</th>\n",
       "      <th>...</th>\n",
       "      <td>...</td>\n",
       "      <td>...</td>\n",
       "      <td>...</td>\n",
       "      <td>...</td>\n",
       "      <td>...</td>\n",
       "      <td>...</td>\n",
       "      <td>...</td>\n",
       "    </tr>\n",
       "    <tr>\n",
       "      <th rowspan=\"5\" valign=\"top\">12</th>\n",
       "      <th>1494</th>\n",
       "      <td>418</td>\n",
       "      <td>62</td>\n",
       "      <td>smart</td>\n",
       "      <td>500</td>\n",
       "      <td>550</td>\n",
       "      <td>3</td>\n",
       "      <td>0</td>\n",
       "    </tr>\n",
       "    <tr>\n",
       "      <th>1495</th>\n",
       "      <td>1031</td>\n",
       "      <td>155</td>\n",
       "      <td>ultra</td>\n",
       "      <td>3000</td>\n",
       "      <td>1950</td>\n",
       "      <td>1</td>\n",
       "      <td>0</td>\n",
       "    </tr>\n",
       "    <tr>\n",
       "      <th>1496</th>\n",
       "      <td>518</td>\n",
       "      <td>80</td>\n",
       "      <td>smart</td>\n",
       "      <td>500</td>\n",
       "      <td>550</td>\n",
       "      <td>3</td>\n",
       "      <td>54</td>\n",
       "    </tr>\n",
       "    <tr>\n",
       "      <th>1497</th>\n",
       "      <td>545</td>\n",
       "      <td>71</td>\n",
       "      <td>smart</td>\n",
       "      <td>500</td>\n",
       "      <td>550</td>\n",
       "      <td>3</td>\n",
       "      <td>135</td>\n",
       "    </tr>\n",
       "    <tr>\n",
       "      <th>1499</th>\n",
       "      <td>492</td>\n",
       "      <td>69</td>\n",
       "      <td>smart</td>\n",
       "      <td>500</td>\n",
       "      <td>550</td>\n",
       "      <td>3</td>\n",
       "      <td>0</td>\n",
       "    </tr>\n",
       "  </tbody>\n",
       "</table>\n",
       "<p>3174 rows × 7 columns</p>\n",
       "</div>"
      ],
      "text/plain": [
       "                           sum            count tariff_name minutes_included  \\\n",
       "              rounded_duration rounded_duration                                \n",
       "month user_id                                                                  \n",
       "1     1005                  95               15       smart              500   \n",
       "      1032                 380               61       smart              500   \n",
       "      1045                   9                1       smart              500   \n",
       "      1055                 551               64       smart              500   \n",
       "      1071                 194               24       smart              500   \n",
       "...                        ...              ...         ...              ...   \n",
       "12    1494                 418               62       smart              500   \n",
       "      1495                1031              155       ultra             3000   \n",
       "      1496                 518               80       smart              500   \n",
       "      1497                 545               71       smart              500   \n",
       "      1499                 492               69       smart              500   \n",
       "\n",
       "              rub_monthly_fee rub_per_minute fee_over  \n",
       "                                                       \n",
       "month user_id                                          \n",
       "1     1005                550              3        0  \n",
       "      1032                550              3        0  \n",
       "      1045                550              3        0  \n",
       "      1055                550              3      153  \n",
       "      1071                550              3        0  \n",
       "...                       ...            ...      ...  \n",
       "12    1494                550              3        0  \n",
       "      1495               1950              1        0  \n",
       "      1496                550              3       54  \n",
       "      1497                550              3      135  \n",
       "      1499                550              3        0  \n",
       "\n",
       "[3174 rows x 7 columns]"
      ]
     },
     "execution_count": 46,
     "metadata": {},
     "output_type": "execute_result"
    }
   ],
   "source": [
    "calls_pivot"
   ]
  },
  {
   "cell_type": "markdown",
   "metadata": {},
   "source": [
    "## 6.2.   Сообщения"
   ]
  },
  {
   "cell_type": "code",
   "execution_count": 47,
   "metadata": {},
   "outputs": [
    {
     "data": {
      "text/html": [
       "<div>\n",
       "<style scoped>\n",
       "    .dataframe tbody tr th:only-of-type {\n",
       "        vertical-align: middle;\n",
       "    }\n",
       "\n",
       "    .dataframe tbody tr th {\n",
       "        vertical-align: top;\n",
       "    }\n",
       "\n",
       "    .dataframe thead tr th {\n",
       "        text-align: left;\n",
       "    }\n",
       "\n",
       "    .dataframe thead tr:last-of-type th {\n",
       "        text-align: right;\n",
       "    }\n",
       "</style>\n",
       "<table border=\"1\" class=\"dataframe\">\n",
       "  <thead>\n",
       "    <tr>\n",
       "      <th></th>\n",
       "      <th></th>\n",
       "      <th>count</th>\n",
       "    </tr>\n",
       "    <tr>\n",
       "      <th></th>\n",
       "      <th></th>\n",
       "      <th>message_date</th>\n",
       "    </tr>\n",
       "    <tr>\n",
       "      <th>month</th>\n",
       "      <th>user_id</th>\n",
       "      <th></th>\n",
       "    </tr>\n",
       "  </thead>\n",
       "  <tbody>\n",
       "    <tr>\n",
       "      <th rowspan=\"5\" valign=\"top\">1</th>\n",
       "      <th>1005</th>\n",
       "      <td>7</td>\n",
       "    </tr>\n",
       "    <tr>\n",
       "      <th>1032</th>\n",
       "      <td>38</td>\n",
       "    </tr>\n",
       "    <tr>\n",
       "      <th>1045</th>\n",
       "      <td>5</td>\n",
       "    </tr>\n",
       "    <tr>\n",
       "      <th>1055</th>\n",
       "      <td>30</td>\n",
       "    </tr>\n",
       "    <tr>\n",
       "      <th>1071</th>\n",
       "      <td>16</td>\n",
       "    </tr>\n",
       "  </tbody>\n",
       "</table>\n",
       "</div>"
      ],
      "text/plain": [
       "                     count\n",
       "              message_date\n",
       "month user_id             \n",
       "1     1005               7\n",
       "      1032              38\n",
       "      1045               5\n",
       "      1055              30\n",
       "      1071              16"
      ]
     },
     "execution_count": 47,
     "metadata": {},
     "output_type": "execute_result"
    }
   ],
   "source": [
    "messages_pivot.head()"
   ]
  },
  {
   "cell_type": "markdown",
   "metadata": {},
   "source": [
    "<div style=\"background-color: #fff0e0; padding: 10px; font-family: monospace; font-size: 15px\">\n",
    "Здесь логика такая же – и такой же алгоритм</div>"
   ]
  },
  {
   "cell_type": "code",
   "execution_count": 48,
   "metadata": {},
   "outputs": [],
   "source": [
    "messages_pivot['tariff_name'] = messages_pivot.merge(users, on='user_id')['tariff'].tolist()"
   ]
  },
  {
   "cell_type": "code",
   "execution_count": 49,
   "metadata": {},
   "outputs": [],
   "source": [
    "messages_pivot['messages_included'] = messages_pivot.merge(tariffs, on='tariff_name')['messages_included'].tolist()"
   ]
  },
  {
   "cell_type": "code",
   "execution_count": 50,
   "metadata": {},
   "outputs": [],
   "source": [
    "messages_pivot['rub_monthly_fee'] = messages_pivot.merge(tariffs, on='tariff_name')['rub_monthly_fee'].tolist()"
   ]
  },
  {
   "cell_type": "code",
   "execution_count": 51,
   "metadata": {},
   "outputs": [],
   "source": [
    "messages_pivot['rub_per_message'] = messages_pivot.merge(tariffs, on='tariff_name')['rub_per_message'].tolist()"
   ]
  },
  {
   "cell_type": "code",
   "execution_count": 52,
   "metadata": {},
   "outputs": [],
   "source": [
    "messages_pivot['fee_over'] = messages_pivot['messages_included'] - messages_pivot['count']['message_date']\n",
    "messages_pivot['fee_over'] = messages_pivot['fee_over'] * messages_pivot['rub_per_message']\n",
    "messages_pivot['fee_over'] = messages_pivot['fee_over'].apply(lambda x: abs(x) if x < 0 else 0)"
   ]
  },
  {
   "cell_type": "code",
   "execution_count": 53,
   "metadata": {},
   "outputs": [
    {
     "data": {
      "text/html": [
       "<div>\n",
       "<style scoped>\n",
       "    .dataframe tbody tr th:only-of-type {\n",
       "        vertical-align: middle;\n",
       "    }\n",
       "\n",
       "    .dataframe tbody tr th {\n",
       "        vertical-align: top;\n",
       "    }\n",
       "\n",
       "    .dataframe thead tr th {\n",
       "        text-align: left;\n",
       "    }\n",
       "\n",
       "    .dataframe thead tr:last-of-type th {\n",
       "        text-align: right;\n",
       "    }\n",
       "</style>\n",
       "<table border=\"1\" class=\"dataframe\">\n",
       "  <thead>\n",
       "    <tr>\n",
       "      <th></th>\n",
       "      <th></th>\n",
       "      <th>count</th>\n",
       "      <th>tariff_name</th>\n",
       "      <th>messages_included</th>\n",
       "      <th>rub_monthly_fee</th>\n",
       "      <th>rub_per_message</th>\n",
       "      <th>fee_over</th>\n",
       "    </tr>\n",
       "    <tr>\n",
       "      <th></th>\n",
       "      <th></th>\n",
       "      <th>message_date</th>\n",
       "      <th></th>\n",
       "      <th></th>\n",
       "      <th></th>\n",
       "      <th></th>\n",
       "      <th></th>\n",
       "    </tr>\n",
       "    <tr>\n",
       "      <th>month</th>\n",
       "      <th>user_id</th>\n",
       "      <th></th>\n",
       "      <th></th>\n",
       "      <th></th>\n",
       "      <th></th>\n",
       "      <th></th>\n",
       "      <th></th>\n",
       "    </tr>\n",
       "  </thead>\n",
       "  <tbody>\n",
       "    <tr>\n",
       "      <th rowspan=\"5\" valign=\"top\">1</th>\n",
       "      <th>1005</th>\n",
       "      <td>7</td>\n",
       "      <td>smart</td>\n",
       "      <td>50</td>\n",
       "      <td>550</td>\n",
       "      <td>3</td>\n",
       "      <td>0</td>\n",
       "    </tr>\n",
       "    <tr>\n",
       "      <th>1032</th>\n",
       "      <td>38</td>\n",
       "      <td>smart</td>\n",
       "      <td>50</td>\n",
       "      <td>550</td>\n",
       "      <td>3</td>\n",
       "      <td>0</td>\n",
       "    </tr>\n",
       "    <tr>\n",
       "      <th>1045</th>\n",
       "      <td>5</td>\n",
       "      <td>smart</td>\n",
       "      <td>50</td>\n",
       "      <td>550</td>\n",
       "      <td>3</td>\n",
       "      <td>0</td>\n",
       "    </tr>\n",
       "    <tr>\n",
       "      <th>1055</th>\n",
       "      <td>30</td>\n",
       "      <td>smart</td>\n",
       "      <td>50</td>\n",
       "      <td>550</td>\n",
       "      <td>3</td>\n",
       "      <td>0</td>\n",
       "    </tr>\n",
       "    <tr>\n",
       "      <th>1071</th>\n",
       "      <td>16</td>\n",
       "      <td>smart</td>\n",
       "      <td>50</td>\n",
       "      <td>550</td>\n",
       "      <td>3</td>\n",
       "      <td>0</td>\n",
       "    </tr>\n",
       "    <tr>\n",
       "      <th>...</th>\n",
       "      <th>...</th>\n",
       "      <td>...</td>\n",
       "      <td>...</td>\n",
       "      <td>...</td>\n",
       "      <td>...</td>\n",
       "      <td>...</td>\n",
       "      <td>...</td>\n",
       "    </tr>\n",
       "    <tr>\n",
       "      <th rowspan=\"5\" valign=\"top\">12</th>\n",
       "      <th>1493</th>\n",
       "      <td>78</td>\n",
       "      <td>smart</td>\n",
       "      <td>1000</td>\n",
       "      <td>1950</td>\n",
       "      <td>1</td>\n",
       "      <td>0</td>\n",
       "    </tr>\n",
       "    <tr>\n",
       "      <th>1495</th>\n",
       "      <td>84</td>\n",
       "      <td>smart</td>\n",
       "      <td>1000</td>\n",
       "      <td>1950</td>\n",
       "      <td>1</td>\n",
       "      <td>0</td>\n",
       "    </tr>\n",
       "    <tr>\n",
       "      <th>1496</th>\n",
       "      <td>51</td>\n",
       "      <td>smart</td>\n",
       "      <td>1000</td>\n",
       "      <td>1950</td>\n",
       "      <td>1</td>\n",
       "      <td>0</td>\n",
       "    </tr>\n",
       "    <tr>\n",
       "      <th>1497</th>\n",
       "      <td>17</td>\n",
       "      <td>smart</td>\n",
       "      <td>1000</td>\n",
       "      <td>1950</td>\n",
       "      <td>1</td>\n",
       "      <td>0</td>\n",
       "    </tr>\n",
       "    <tr>\n",
       "      <th>1499</th>\n",
       "      <td>66</td>\n",
       "      <td>ultra</td>\n",
       "      <td>1000</td>\n",
       "      <td>1950</td>\n",
       "      <td>1</td>\n",
       "      <td>0</td>\n",
       "    </tr>\n",
       "  </tbody>\n",
       "</table>\n",
       "<p>2717 rows × 6 columns</p>\n",
       "</div>"
      ],
      "text/plain": [
       "                     count tariff_name messages_included rub_monthly_fee  \\\n",
       "              message_date                                                 \n",
       "month user_id                                                              \n",
       "1     1005               7       smart                50             550   \n",
       "      1032              38       smart                50             550   \n",
       "      1045               5       smart                50             550   \n",
       "      1055              30       smart                50             550   \n",
       "      1071              16       smart                50             550   \n",
       "...                    ...         ...               ...             ...   \n",
       "12    1493              78       smart              1000            1950   \n",
       "      1495              84       smart              1000            1950   \n",
       "      1496              51       smart              1000            1950   \n",
       "      1497              17       smart              1000            1950   \n",
       "      1499              66       ultra              1000            1950   \n",
       "\n",
       "              rub_per_message fee_over  \n",
       "                                        \n",
       "month user_id                           \n",
       "1     1005                  3        0  \n",
       "      1032                  3        0  \n",
       "      1045                  3        0  \n",
       "      1055                  3        0  \n",
       "      1071                  3        0  \n",
       "...                       ...      ...  \n",
       "12    1493                  1        0  \n",
       "      1495                  1        0  \n",
       "      1496                  1        0  \n",
       "      1497                  1        0  \n",
       "      1499                  1        0  \n",
       "\n",
       "[2717 rows x 6 columns]"
      ]
     },
     "execution_count": 53,
     "metadata": {},
     "output_type": "execute_result"
    }
   ],
   "source": [
    "messages_pivot"
   ]
  },
  {
   "cell_type": "markdown",
   "metadata": {},
   "source": [
    "## 6.3.   Интернет"
   ]
  },
  {
   "cell_type": "code",
   "execution_count": 54,
   "metadata": {},
   "outputs": [
    {
     "data": {
      "text/html": [
       "<div>\n",
       "<style scoped>\n",
       "    .dataframe tbody tr th:only-of-type {\n",
       "        vertical-align: middle;\n",
       "    }\n",
       "\n",
       "    .dataframe tbody tr th {\n",
       "        vertical-align: top;\n",
       "    }\n",
       "\n",
       "    .dataframe thead tr th {\n",
       "        text-align: left;\n",
       "    }\n",
       "\n",
       "    .dataframe thead tr:last-of-type th {\n",
       "        text-align: right;\n",
       "    }\n",
       "</style>\n",
       "<table border=\"1\" class=\"dataframe\">\n",
       "  <thead>\n",
       "    <tr>\n",
       "      <th></th>\n",
       "      <th></th>\n",
       "      <th>sum</th>\n",
       "      <th>rounded_gb_used</th>\n",
       "    </tr>\n",
       "    <tr>\n",
       "      <th></th>\n",
       "      <th></th>\n",
       "      <th>mb_used</th>\n",
       "      <th></th>\n",
       "    </tr>\n",
       "    <tr>\n",
       "      <th>month</th>\n",
       "      <th>user_id</th>\n",
       "      <th></th>\n",
       "      <th></th>\n",
       "    </tr>\n",
       "  </thead>\n",
       "  <tbody>\n",
       "    <tr>\n",
       "      <th rowspan=\"5\" valign=\"top\">1</th>\n",
       "      <th>1005</th>\n",
       "      <td>2727.97</td>\n",
       "      <td>3</td>\n",
       "    </tr>\n",
       "    <tr>\n",
       "      <th>1032</th>\n",
       "      <td>24127.69</td>\n",
       "      <td>24</td>\n",
       "    </tr>\n",
       "    <tr>\n",
       "      <th>1045</th>\n",
       "      <td>2346.71</td>\n",
       "      <td>3</td>\n",
       "    </tr>\n",
       "    <tr>\n",
       "      <th>1055</th>\n",
       "      <td>17090.88</td>\n",
       "      <td>17</td>\n",
       "    </tr>\n",
       "    <tr>\n",
       "      <th>1071</th>\n",
       "      <td>15604.34</td>\n",
       "      <td>16</td>\n",
       "    </tr>\n",
       "  </tbody>\n",
       "</table>\n",
       "</div>"
      ],
      "text/plain": [
       "                    sum rounded_gb_used\n",
       "                mb_used                \n",
       "month user_id                          \n",
       "1     1005      2727.97               3\n",
       "      1032     24127.69              24\n",
       "      1045      2346.71               3\n",
       "      1055     17090.88              17\n",
       "      1071     15604.34              16"
      ]
     },
     "execution_count": 54,
     "metadata": {},
     "output_type": "execute_result"
    }
   ],
   "source": [
    "internet_pivot.head()"
   ]
  },
  {
   "cell_type": "code",
   "execution_count": 55,
   "metadata": {},
   "outputs": [],
   "source": [
    "internet_pivot['tariff_name'] = internet_pivot.merge(users, on='user_id')['tariff'].tolist()"
   ]
  },
  {
   "cell_type": "code",
   "execution_count": 56,
   "metadata": {},
   "outputs": [],
   "source": [
    "internet_pivot['gb_per_month_included'] = (internet_pivot\n",
    "                                        .merge(tariffs, on='tariff_name')['mb_per_month_included'] // 1024).tolist() "
   ]
  },
  {
   "cell_type": "code",
   "execution_count": 57,
   "metadata": {},
   "outputs": [],
   "source": [
    "internet_pivot['rub_monthly_fee'] = internet_pivot.merge(tariffs, on='tariff_name')['rub_monthly_fee'].tolist()"
   ]
  },
  {
   "cell_type": "code",
   "execution_count": 58,
   "metadata": {},
   "outputs": [],
   "source": [
    "internet_pivot['rub_per_gb'] = internet_pivot.merge(tariffs, on='tariff_name')['rub_per_gb'].tolist()"
   ]
  },
  {
   "cell_type": "code",
   "execution_count": 59,
   "metadata": {},
   "outputs": [],
   "source": [
    "internet_pivot['fee_over'] = internet_pivot['gb_per_month_included'] - internet_pivot['rounded_gb_used']\n",
    "internet_pivot['fee_over'] = internet_pivot['fee_over'] * internet_pivot['rub_per_gb']\n",
    "internet_pivot['fee_over'] = internet_pivot['fee_over'].apply(lambda x: abs(x) if x < 0 else 0)"
   ]
  },
  {
   "cell_type": "code",
   "execution_count": 60,
   "metadata": {},
   "outputs": [
    {
     "data": {
      "text/html": [
       "<div>\n",
       "<style scoped>\n",
       "    .dataframe tbody tr th:only-of-type {\n",
       "        vertical-align: middle;\n",
       "    }\n",
       "\n",
       "    .dataframe tbody tr th {\n",
       "        vertical-align: top;\n",
       "    }\n",
       "\n",
       "    .dataframe thead tr th {\n",
       "        text-align: left;\n",
       "    }\n",
       "\n",
       "    .dataframe thead tr:last-of-type th {\n",
       "        text-align: right;\n",
       "    }\n",
       "</style>\n",
       "<table border=\"1\" class=\"dataframe\">\n",
       "  <thead>\n",
       "    <tr>\n",
       "      <th></th>\n",
       "      <th></th>\n",
       "      <th>sum</th>\n",
       "      <th>rounded_gb_used</th>\n",
       "      <th>tariff_name</th>\n",
       "      <th>gb_per_month_included</th>\n",
       "      <th>rub_monthly_fee</th>\n",
       "      <th>rub_per_gb</th>\n",
       "      <th>fee_over</th>\n",
       "    </tr>\n",
       "    <tr>\n",
       "      <th></th>\n",
       "      <th></th>\n",
       "      <th>mb_used</th>\n",
       "      <th></th>\n",
       "      <th></th>\n",
       "      <th></th>\n",
       "      <th></th>\n",
       "      <th></th>\n",
       "      <th></th>\n",
       "    </tr>\n",
       "    <tr>\n",
       "      <th>month</th>\n",
       "      <th>user_id</th>\n",
       "      <th></th>\n",
       "      <th></th>\n",
       "      <th></th>\n",
       "      <th></th>\n",
       "      <th></th>\n",
       "      <th></th>\n",
       "      <th></th>\n",
       "    </tr>\n",
       "  </thead>\n",
       "  <tbody>\n",
       "    <tr>\n",
       "      <th rowspan=\"5\" valign=\"top\">1</th>\n",
       "      <th>1005</th>\n",
       "      <td>2727.97</td>\n",
       "      <td>3</td>\n",
       "      <td>smart</td>\n",
       "      <td>15</td>\n",
       "      <td>550</td>\n",
       "      <td>200</td>\n",
       "      <td>0</td>\n",
       "    </tr>\n",
       "    <tr>\n",
       "      <th>1032</th>\n",
       "      <td>24127.69</td>\n",
       "      <td>24</td>\n",
       "      <td>smart</td>\n",
       "      <td>15</td>\n",
       "      <td>550</td>\n",
       "      <td>200</td>\n",
       "      <td>1800</td>\n",
       "    </tr>\n",
       "    <tr>\n",
       "      <th>1045</th>\n",
       "      <td>2346.71</td>\n",
       "      <td>3</td>\n",
       "      <td>smart</td>\n",
       "      <td>15</td>\n",
       "      <td>550</td>\n",
       "      <td>200</td>\n",
       "      <td>0</td>\n",
       "    </tr>\n",
       "    <tr>\n",
       "      <th>1055</th>\n",
       "      <td>17090.88</td>\n",
       "      <td>17</td>\n",
       "      <td>smart</td>\n",
       "      <td>15</td>\n",
       "      <td>550</td>\n",
       "      <td>200</td>\n",
       "      <td>400</td>\n",
       "    </tr>\n",
       "    <tr>\n",
       "      <th>1071</th>\n",
       "      <td>15604.34</td>\n",
       "      <td>16</td>\n",
       "      <td>smart</td>\n",
       "      <td>15</td>\n",
       "      <td>550</td>\n",
       "      <td>200</td>\n",
       "      <td>200</td>\n",
       "    </tr>\n",
       "  </tbody>\n",
       "</table>\n",
       "</div>"
      ],
      "text/plain": [
       "                    sum rounded_gb_used tariff_name gb_per_month_included  \\\n",
       "                mb_used                                                     \n",
       "month user_id                                                               \n",
       "1     1005      2727.97               3       smart                    15   \n",
       "      1032     24127.69              24       smart                    15   \n",
       "      1045      2346.71               3       smart                    15   \n",
       "      1055     17090.88              17       smart                    15   \n",
       "      1071     15604.34              16       smart                    15   \n",
       "\n",
       "              rub_monthly_fee rub_per_gb fee_over  \n",
       "                                                   \n",
       "month user_id                                      \n",
       "1     1005                550        200        0  \n",
       "      1032                550        200     1800  \n",
       "      1045                550        200        0  \n",
       "      1055                550        200      400  \n",
       "      1071                550        200      200  "
      ]
     },
     "execution_count": 60,
     "metadata": {},
     "output_type": "execute_result"
    }
   ],
   "source": [
    "internet_pivot.head()"
   ]
  },
  {
   "cell_type": "markdown",
   "metadata": {},
   "source": [
    "## 6.4.   Общая выручка"
   ]
  },
  {
   "cell_type": "markdown",
   "metadata": {},
   "source": [
    "<div style=\"background-color: #fff0e0; padding: 10px; font-family: monospace; font-size: 15px\">\n",
    "Выведем основные таблицы и соединим уже по абонентам</div>"
   ]
  },
  {
   "cell_type": "code",
   "execution_count": 61,
   "metadata": {},
   "outputs": [
    {
     "data": {
      "text/html": [
       "<div>\n",
       "<style scoped>\n",
       "    .dataframe tbody tr th:only-of-type {\n",
       "        vertical-align: middle;\n",
       "    }\n",
       "\n",
       "    .dataframe tbody tr th {\n",
       "        vertical-align: top;\n",
       "    }\n",
       "\n",
       "    .dataframe thead tr th {\n",
       "        text-align: left;\n",
       "    }\n",
       "\n",
       "    .dataframe thead tr:last-of-type th {\n",
       "        text-align: right;\n",
       "    }\n",
       "</style>\n",
       "<table border=\"1\" class=\"dataframe\">\n",
       "  <thead>\n",
       "    <tr>\n",
       "      <th></th>\n",
       "      <th></th>\n",
       "      <th>fee_over</th>\n",
       "    </tr>\n",
       "    <tr>\n",
       "      <th></th>\n",
       "      <th></th>\n",
       "      <th></th>\n",
       "    </tr>\n",
       "    <tr>\n",
       "      <th>user_id</th>\n",
       "      <th>month</th>\n",
       "      <th></th>\n",
       "    </tr>\n",
       "  </thead>\n",
       "  <tbody>\n",
       "    <tr>\n",
       "      <th rowspan=\"8\" valign=\"top\">1000</th>\n",
       "      <th>5</th>\n",
       "      <td>0</td>\n",
       "    </tr>\n",
       "    <tr>\n",
       "      <th>6</th>\n",
       "      <td>0</td>\n",
       "    </tr>\n",
       "    <tr>\n",
       "      <th>7</th>\n",
       "      <td>0</td>\n",
       "    </tr>\n",
       "    <tr>\n",
       "      <th>8</th>\n",
       "      <td>0</td>\n",
       "    </tr>\n",
       "    <tr>\n",
       "      <th>9</th>\n",
       "      <td>0</td>\n",
       "    </tr>\n",
       "    <tr>\n",
       "      <th>10</th>\n",
       "      <td>0</td>\n",
       "    </tr>\n",
       "    <tr>\n",
       "      <th>11</th>\n",
       "      <td>0</td>\n",
       "    </tr>\n",
       "    <tr>\n",
       "      <th>12</th>\n",
       "      <td>0</td>\n",
       "    </tr>\n",
       "    <tr>\n",
       "      <th rowspan=\"2\" valign=\"top\">1001</th>\n",
       "      <th>11</th>\n",
       "      <td>0</td>\n",
       "    </tr>\n",
       "    <tr>\n",
       "      <th>12</th>\n",
       "      <td>0</td>\n",
       "    </tr>\n",
       "  </tbody>\n",
       "</table>\n",
       "</div>"
      ],
      "text/plain": [
       "              fee_over\n",
       "                      \n",
       "user_id month         \n",
       "1000    5            0\n",
       "        6            0\n",
       "        7            0\n",
       "        8            0\n",
       "        9            0\n",
       "        10           0\n",
       "        11           0\n",
       "        12           0\n",
       "1001    11           0\n",
       "        12           0"
      ]
     },
     "execution_count": 61,
     "metadata": {},
     "output_type": "execute_result"
    }
   ],
   "source": [
    "calls_pivot_by_user = calls_pivot.pivot_table(index=['user_id', 'month'], \n",
    "                                              values=['fee_over'], \n",
    "                                              aggfunc='sum')\n",
    "calls_pivot_by_user.head(10)"
   ]
  },
  {
   "cell_type": "code",
   "execution_count": 62,
   "metadata": {},
   "outputs": [
    {
     "data": {
      "text/html": [
       "<div>\n",
       "<style scoped>\n",
       "    .dataframe tbody tr th:only-of-type {\n",
       "        vertical-align: middle;\n",
       "    }\n",
       "\n",
       "    .dataframe tbody tr th {\n",
       "        vertical-align: top;\n",
       "    }\n",
       "\n",
       "    .dataframe thead tr th {\n",
       "        text-align: left;\n",
       "    }\n",
       "\n",
       "    .dataframe thead tr:last-of-type th {\n",
       "        text-align: right;\n",
       "    }\n",
       "</style>\n",
       "<table border=\"1\" class=\"dataframe\">\n",
       "  <thead>\n",
       "    <tr>\n",
       "      <th></th>\n",
       "      <th></th>\n",
       "      <th>fee_over</th>\n",
       "    </tr>\n",
       "    <tr>\n",
       "      <th></th>\n",
       "      <th></th>\n",
       "      <th></th>\n",
       "    </tr>\n",
       "    <tr>\n",
       "      <th>user_id</th>\n",
       "      <th>month</th>\n",
       "      <th></th>\n",
       "    </tr>\n",
       "  </thead>\n",
       "  <tbody>\n",
       "    <tr>\n",
       "      <th rowspan=\"8\" valign=\"top\">1000</th>\n",
       "      <th>5</th>\n",
       "      <td>0</td>\n",
       "    </tr>\n",
       "    <tr>\n",
       "      <th>6</th>\n",
       "      <td>30</td>\n",
       "    </tr>\n",
       "    <tr>\n",
       "      <th>7</th>\n",
       "      <td>75</td>\n",
       "    </tr>\n",
       "    <tr>\n",
       "      <th>8</th>\n",
       "      <td>93</td>\n",
       "    </tr>\n",
       "    <tr>\n",
       "      <th>9</th>\n",
       "      <td>21</td>\n",
       "    </tr>\n",
       "    <tr>\n",
       "      <th>10</th>\n",
       "      <td>69</td>\n",
       "    </tr>\n",
       "    <tr>\n",
       "      <th>11</th>\n",
       "      <td>0</td>\n",
       "    </tr>\n",
       "    <tr>\n",
       "      <th>12</th>\n",
       "      <td>0</td>\n",
       "    </tr>\n",
       "    <tr>\n",
       "      <th rowspan=\"2\" valign=\"top\">1002</th>\n",
       "      <th>6</th>\n",
       "      <td>0</td>\n",
       "    </tr>\n",
       "    <tr>\n",
       "      <th>7</th>\n",
       "      <td>0</td>\n",
       "    </tr>\n",
       "  </tbody>\n",
       "</table>\n",
       "</div>"
      ],
      "text/plain": [
       "              fee_over\n",
       "                      \n",
       "user_id month         \n",
       "1000    5            0\n",
       "        6           30\n",
       "        7           75\n",
       "        8           93\n",
       "        9           21\n",
       "        10          69\n",
       "        11           0\n",
       "        12           0\n",
       "1002    6            0\n",
       "        7            0"
      ]
     },
     "execution_count": 62,
     "metadata": {},
     "output_type": "execute_result"
    }
   ],
   "source": [
    "messages_pivot_by_user = messages_pivot.pivot_table(index=['user_id', 'month'], \n",
    "                                                    values=['fee_over'], \n",
    "                                                    aggfunc='sum')\n",
    "messages_pivot_by_user.head(10)"
   ]
  },
  {
   "cell_type": "code",
   "execution_count": 63,
   "metadata": {},
   "outputs": [
    {
     "data": {
      "text/html": [
       "<div>\n",
       "<style scoped>\n",
       "    .dataframe tbody tr th:only-of-type {\n",
       "        vertical-align: middle;\n",
       "    }\n",
       "\n",
       "    .dataframe tbody tr th {\n",
       "        vertical-align: top;\n",
       "    }\n",
       "\n",
       "    .dataframe thead tr th {\n",
       "        text-align: left;\n",
       "    }\n",
       "\n",
       "    .dataframe thead tr:last-of-type th {\n",
       "        text-align: right;\n",
       "    }\n",
       "</style>\n",
       "<table border=\"1\" class=\"dataframe\">\n",
       "  <thead>\n",
       "    <tr>\n",
       "      <th></th>\n",
       "      <th></th>\n",
       "      <th>fee_over</th>\n",
       "    </tr>\n",
       "    <tr>\n",
       "      <th></th>\n",
       "      <th></th>\n",
       "      <th></th>\n",
       "    </tr>\n",
       "    <tr>\n",
       "      <th>user_id</th>\n",
       "      <th>month</th>\n",
       "      <th></th>\n",
       "    </tr>\n",
       "  </thead>\n",
       "  <tbody>\n",
       "    <tr>\n",
       "      <th rowspan=\"8\" valign=\"top\">1000</th>\n",
       "      <th>5</th>\n",
       "      <td>0</td>\n",
       "    </tr>\n",
       "    <tr>\n",
       "      <th>6</th>\n",
       "      <td>1600</td>\n",
       "    </tr>\n",
       "    <tr>\n",
       "      <th>7</th>\n",
       "      <td>0</td>\n",
       "    </tr>\n",
       "    <tr>\n",
       "      <th>8</th>\n",
       "      <td>0</td>\n",
       "    </tr>\n",
       "    <tr>\n",
       "      <th>9</th>\n",
       "      <td>0</td>\n",
       "    </tr>\n",
       "    <tr>\n",
       "      <th>10</th>\n",
       "      <td>0</td>\n",
       "    </tr>\n",
       "    <tr>\n",
       "      <th>11</th>\n",
       "      <td>0</td>\n",
       "    </tr>\n",
       "    <tr>\n",
       "      <th>12</th>\n",
       "      <td>0</td>\n",
       "    </tr>\n",
       "    <tr>\n",
       "      <th rowspan=\"2\" valign=\"top\">1001</th>\n",
       "      <th>11</th>\n",
       "      <td>0</td>\n",
       "    </tr>\n",
       "    <tr>\n",
       "      <th>12</th>\n",
       "      <td>0</td>\n",
       "    </tr>\n",
       "  </tbody>\n",
       "</table>\n",
       "</div>"
      ],
      "text/plain": [
       "              fee_over\n",
       "                      \n",
       "user_id month         \n",
       "1000    5            0\n",
       "        6         1600\n",
       "        7            0\n",
       "        8            0\n",
       "        9            0\n",
       "        10           0\n",
       "        11           0\n",
       "        12           0\n",
       "1001    11           0\n",
       "        12           0"
      ]
     },
     "execution_count": 63,
     "metadata": {},
     "output_type": "execute_result"
    }
   ],
   "source": [
    "internet_pivot_by_user = internet_pivot.pivot_table(index=['user_id', 'month'], \n",
    "                                                    values=['fee_over'], \n",
    "                                                    aggfunc='sum')\n",
    "internet_pivot_by_user.head(10)"
   ]
  },
  {
   "cell_type": "markdown",
   "metadata": {},
   "source": [
    "<div style=\"background-color: #fff0e0; padding: 10px; font-family: monospace; font-size: 15px\">\n",
    "Присоеденим их всех в одну таблицу</div>"
   ]
  },
  {
   "cell_type": "code",
   "execution_count": 64,
   "metadata": {},
   "outputs": [
    {
     "data": {
      "text/html": [
       "<div>\n",
       "<style scoped>\n",
       "    .dataframe tbody tr th:only-of-type {\n",
       "        vertical-align: middle;\n",
       "    }\n",
       "\n",
       "    .dataframe tbody tr th {\n",
       "        vertical-align: top;\n",
       "    }\n",
       "\n",
       "    .dataframe thead th {\n",
       "        text-align: right;\n",
       "    }\n",
       "</style>\n",
       "<table border=\"1\" class=\"dataframe\">\n",
       "  <thead>\n",
       "    <tr style=\"text-align: right;\">\n",
       "      <th></th>\n",
       "      <th></th>\n",
       "      <th>fee_over_calls</th>\n",
       "      <th>fee_over_calls</th>\n",
       "      <th>fee_over</th>\n",
       "      <th>fee_over_sum</th>\n",
       "    </tr>\n",
       "    <tr>\n",
       "      <th>user_id</th>\n",
       "      <th>month</th>\n",
       "      <th></th>\n",
       "      <th></th>\n",
       "      <th></th>\n",
       "      <th></th>\n",
       "    </tr>\n",
       "  </thead>\n",
       "  <tbody>\n",
       "    <tr>\n",
       "      <th rowspan=\"5\" valign=\"top\">1000</th>\n",
       "      <th>5</th>\n",
       "      <td>0.0</td>\n",
       "      <td>0.0</td>\n",
       "      <td>0.0</td>\n",
       "      <td>0.0</td>\n",
       "    </tr>\n",
       "    <tr>\n",
       "      <th>6</th>\n",
       "      <td>0.0</td>\n",
       "      <td>30.0</td>\n",
       "      <td>1600.0</td>\n",
       "      <td>1630.0</td>\n",
       "    </tr>\n",
       "    <tr>\n",
       "      <th>7</th>\n",
       "      <td>0.0</td>\n",
       "      <td>75.0</td>\n",
       "      <td>0.0</td>\n",
       "      <td>75.0</td>\n",
       "    </tr>\n",
       "    <tr>\n",
       "      <th>8</th>\n",
       "      <td>0.0</td>\n",
       "      <td>93.0</td>\n",
       "      <td>0.0</td>\n",
       "      <td>93.0</td>\n",
       "    </tr>\n",
       "    <tr>\n",
       "      <th>9</th>\n",
       "      <td>0.0</td>\n",
       "      <td>21.0</td>\n",
       "      <td>0.0</td>\n",
       "      <td>21.0</td>\n",
       "    </tr>\n",
       "  </tbody>\n",
       "</table>\n",
       "</div>"
      ],
      "text/plain": [
       "               fee_over_calls  fee_over_calls  fee_over  fee_over_sum\n",
       "user_id month                                                        \n",
       "1000    5                 0.0             0.0       0.0           0.0\n",
       "        6                 0.0            30.0    1600.0        1630.0\n",
       "        7                 0.0            75.0       0.0          75.0\n",
       "        8                 0.0            93.0       0.0          93.0\n",
       "        9                 0.0            21.0       0.0          21.0"
      ]
     },
     "execution_count": 64,
     "metadata": {},
     "output_type": "execute_result"
    }
   ],
   "source": [
    "all_users_pivot = (calls_pivot_by_user\n",
    "                   .join(messages_pivot_by_user, \n",
    "                         lsuffix='_calls', \n",
    "                         rsuffix='_messages', \n",
    "                         how='outer')\n",
    "                   .join(internet_pivot_by_user, \n",
    "                         rsuffix='_internet', \n",
    "                         how='outer'))\n",
    "\n",
    "all_users_pivot['fee_over_sum'] = (all_users_pivot['fee_over_calls'] + \n",
    "                                   all_users_pivot['fee_over_messages'] + \n",
    "                                   all_users_pivot['fee_over'])\n",
    "\n",
    "all_users_pivot.columns = ['fee_over_calls', \n",
    "                           'fee_over_calls', \n",
    "                           'fee_over', \n",
    "                           'fee_over_sum']\n",
    "\n",
    "all_users_pivot.head()"
   ]
  },
  {
   "cell_type": "code",
   "execution_count": 65,
   "metadata": {},
   "outputs": [
    {
     "data": {
      "text/plain": [
       "498"
      ]
     },
     "execution_count": 65,
     "metadata": {},
     "output_type": "execute_result"
    }
   ],
   "source": [
    "all_users_pivot.index.get_level_values(0).nunique()"
   ]
  },
  {
   "cell_type": "markdown",
   "metadata": {},
   "source": [
    "<div style=\"background-color: #fff0e0; padding: 10px; font-family: monospace; font-size: 15px\">\n",
    "Кажется, у нас два человека не пользовались никакими услугами. Будем лояльны и тоже добавим их в эту таблицу</div>"
   ]
  },
  {
   "cell_type": "code",
   "execution_count": 66,
   "metadata": {},
   "outputs": [
    {
     "data": {
      "text/html": [
       "<div>\n",
       "<style scoped>\n",
       "    .dataframe tbody tr th:only-of-type {\n",
       "        vertical-align: middle;\n",
       "    }\n",
       "\n",
       "    .dataframe tbody tr th {\n",
       "        vertical-align: top;\n",
       "    }\n",
       "\n",
       "    .dataframe thead th {\n",
       "        text-align: right;\n",
       "    }\n",
       "</style>\n",
       "<table border=\"1\" class=\"dataframe\">\n",
       "  <thead>\n",
       "    <tr style=\"text-align: right;\">\n",
       "      <th></th>\n",
       "      <th>user_id</th>\n",
       "      <th>age</th>\n",
       "      <th>churn_date</th>\n",
       "      <th>city</th>\n",
       "      <th>first_name</th>\n",
       "      <th>last_name</th>\n",
       "      <th>reg_date</th>\n",
       "      <th>tariff</th>\n",
       "    </tr>\n",
       "  </thead>\n",
       "  <tbody>\n",
       "    <tr>\n",
       "      <th>128</th>\n",
       "      <td>1128</td>\n",
       "      <td>51</td>\n",
       "      <td>2018-12-23</td>\n",
       "      <td>Волжский</td>\n",
       "      <td>Ксения</td>\n",
       "      <td>Агаева</td>\n",
       "      <td>2018-12-15</td>\n",
       "      <td>ultra</td>\n",
       "    </tr>\n",
       "    <tr>\n",
       "      <th>371</th>\n",
       "      <td>1371</td>\n",
       "      <td>50</td>\n",
       "      <td>2018-12-30</td>\n",
       "      <td>Омск</td>\n",
       "      <td>Ириней</td>\n",
       "      <td>Трофимов</td>\n",
       "      <td>2018-12-25</td>\n",
       "      <td>smart</td>\n",
       "    </tr>\n",
       "  </tbody>\n",
       "</table>\n",
       "</div>"
      ],
      "text/plain": [
       "     user_id  age churn_date      city first_name last_name   reg_date tariff\n",
       "128     1128   51 2018-12-23  Волжский     Ксения    Агаева 2018-12-15  ultra\n",
       "371     1371   50 2018-12-30      Омск     Ириней  Трофимов 2018-12-25  smart"
      ]
     },
     "execution_count": 66,
     "metadata": {},
     "output_type": "execute_result"
    }
   ],
   "source": [
    "users.query('user_id not in @all_users_pivot.index.get_level_values(0)')"
   ]
  },
  {
   "cell_type": "code",
   "execution_count": 67,
   "metadata": {},
   "outputs": [
    {
     "data": {
      "text/html": [
       "<div>\n",
       "<style scoped>\n",
       "    .dataframe tbody tr th:only-of-type {\n",
       "        vertical-align: middle;\n",
       "    }\n",
       "\n",
       "    .dataframe tbody tr th {\n",
       "        vertical-align: top;\n",
       "    }\n",
       "\n",
       "    .dataframe thead th {\n",
       "        text-align: right;\n",
       "    }\n",
       "</style>\n",
       "<table border=\"1\" class=\"dataframe\">\n",
       "  <thead>\n",
       "    <tr style=\"text-align: right;\">\n",
       "      <th></th>\n",
       "      <th></th>\n",
       "      <th>fee_over_calls</th>\n",
       "      <th>fee_over_calls</th>\n",
       "      <th>fee_over</th>\n",
       "      <th>fee_over_sum</th>\n",
       "    </tr>\n",
       "    <tr>\n",
       "      <th>user_id</th>\n",
       "      <th>month</th>\n",
       "      <th></th>\n",
       "      <th></th>\n",
       "      <th></th>\n",
       "      <th></th>\n",
       "    </tr>\n",
       "  </thead>\n",
       "  <tbody>\n",
       "    <tr>\n",
       "      <th>1128</th>\n",
       "      <th>1</th>\n",
       "      <td>0</td>\n",
       "      <td>0</td>\n",
       "      <td>0</td>\n",
       "      <td>0</td>\n",
       "    </tr>\n",
       "    <tr>\n",
       "      <th>1371</th>\n",
       "      <th>1</th>\n",
       "      <td>0</td>\n",
       "      <td>0</td>\n",
       "      <td>0</td>\n",
       "      <td>0</td>\n",
       "    </tr>\n",
       "  </tbody>\n",
       "</table>\n",
       "</div>"
      ],
      "text/plain": [
       "               fee_over_calls  fee_over_calls  fee_over  fee_over_sum\n",
       "user_id month                                                        \n",
       "1128    1                   0               0         0             0\n",
       "1371    1                   0               0         0             0"
      ]
     },
     "execution_count": 67,
     "metadata": {},
     "output_type": "execute_result"
    }
   ],
   "source": [
    "temp_users = pd.DataFrame({'user_id': (users\n",
    "                                       .query('user_id not in @all_users_pivot.index.get_level_values(0)')['user_id']\n",
    "                                       .tolist()), \n",
    "                           'month': [1, 1], \n",
    "                           'fee_over_calls':[0, 0], \n",
    "                           'fee_over_messages': [0, 0], \n",
    "                           'fee_over': [0, 0], \n",
    "                           'fee_over_sum': [0, 0]})\n",
    "temp_users = temp_users.pivot_table(index=['user_id', 'month'], values=['fee_over_calls', \n",
    "                                                           'fee_over_calls', \n",
    "                                                           'fee_over', \n",
    "                                                           'fee_over_sum'], \n",
    "                       aggfunc='sum')\n",
    "temp_users.columns = all_users_pivot.columns\n",
    "temp_users"
   ]
  },
  {
   "cell_type": "code",
   "execution_count": 68,
   "metadata": {},
   "outputs": [],
   "source": [
    "all_users_pivot = pd.concat([all_users_pivot, temp_users], axis=0)"
   ]
  },
  {
   "cell_type": "markdown",
   "metadata": {},
   "source": [
    "<div style=\"background-color: #fff0e0; padding: 10px; font-family: monospace; font-size: 15px\">\n",
    "Так как мы соединяли всех принудительно, появились пропущенные значения, которые означают отсутствие оплаты.  Так и запишем</div>"
   ]
  },
  {
   "cell_type": "code",
   "execution_count": 69,
   "metadata": {},
   "outputs": [],
   "source": [
    "all_users_pivot = all_users_pivot.fillna(0)"
   ]
  },
  {
   "cell_type": "markdown",
   "metadata": {},
   "source": [
    "# 7.   Анализ полученных данных"
   ]
  },
  {
   "cell_type": "markdown",
   "metadata": {},
   "source": [
    "## 7.1.   Минуты разговора"
   ]
  },
  {
   "cell_type": "markdown",
   "metadata": {},
   "source": [
    "<div style=\"background-color: #fff0e0; padding: 10px; font-family: monospace; font-size: 15px\">\n",
    "Посмотрим основные известные данные</div>\n",
    "\n",
    "<div style=\"background-color: #fff0e0; padding: 10px; font-family: monospace; font-size: 15px\">\n",
    "Для smart</div>"
   ]
  },
  {
   "cell_type": "code",
   "execution_count": 70,
   "metadata": {},
   "outputs": [
    {
     "name": "stdout",
     "output_type": "stream",
     "text": [
      "Среднее значение:\n",
      "419.0629779577148 \n",
      "\n",
      "Дисперсия:\n",
      "35844.1895513438 \n",
      "\n",
      "Стандартное отклонение:\n",
      "189.3256177894154 \n",
      "\n",
      "Доступно бесплатно: \n",
      "500\n"
     ]
    }
   ],
   "source": [
    "print('Среднее значение:')\n",
    "print(calls_pivot[calls_pivot.tariff_name == 'smart']['sum']['rounded_duration'].mean(), '\\n')\n",
    "print('Дисперсия:')\n",
    "print(calls_pivot[calls_pivot.tariff_name == 'smart']['sum']['rounded_duration'].var(), '\\n')\n",
    "print('Стандартное отклонение:')\n",
    "print(calls_pivot[calls_pivot.tariff_name == 'smart']['sum']['rounded_duration'].var()**(1/2), '\\n')\n",
    "print('Доступно бесплатно:', '\\n500')"
   ]
  },
  {
   "cell_type": "markdown",
   "metadata": {},
   "source": [
    "<div style=\"background-color: #fff0e0; padding: 10px; font-family: monospace; font-size: 15px\">\n",
    "Для ultra</div>"
   ]
  },
  {
   "cell_type": "code",
   "execution_count": 71,
   "metadata": {},
   "outputs": [
    {
     "name": "stdout",
     "output_type": "stream",
     "text": [
      "Среднее значение:\n",
      "545.4511041009464 \n",
      "\n",
      "Дисперсия:\n",
      "94203.41839614809 \n",
      "\n",
      "Стандартное отклонение:\n",
      "306.9257538821858 \n",
      "\n",
      "Доступно бесплатно: \n",
      "3000\n"
     ]
    }
   ],
   "source": [
    "print('Среднее значение:')\n",
    "print(calls_pivot[calls_pivot.tariff_name == 'ultra']['sum']['rounded_duration'].mean(), '\\n')\n",
    "print('Дисперсия:')\n",
    "print(calls_pivot[calls_pivot.tariff_name == 'ultra']['sum']['rounded_duration'].var(), '\\n')\n",
    "print('Стандартное отклонение:')\n",
    "print(calls_pivot[calls_pivot.tariff_name == 'ultra']['sum']['rounded_duration'].var()**(1/2), '\\n')\n",
    "print('Доступно бесплатно:', '\\n3000')"
   ]
  },
  {
   "cell_type": "markdown",
   "metadata": {},
   "source": [
    "<div style=\"background-color: #fff0e0; padding: 10px; font-family: monospace; font-size: 15px\">\n",
    "Построим гистограмму</div>"
   ]
  },
  {
   "cell_type": "code",
   "execution_count": 72,
   "metadata": {},
   "outputs": [
    {
     "data": {
      "image/png": "[encoded data removed]",
      "text/plain": [
       "<Figure size 432x288 with 1 Axes>"
      ]
     },
     "metadata": {
      "needs_background": "light"
     },
     "output_type": "display_data"
    }
   ],
   "source": [
    "calls_pivot[calls_pivot.tariff_name == 'smart']['sum']['rounded_duration'].hist(bins=30)\n",
    "calls_pivot[calls_pivot.tariff_name == 'ultra']['sum']['rounded_duration'].hist(bins=30)\n",
    "\n",
    "plt.axvline(x=int(tariffs.query('tariff_name == \"smart\"')['minutes_included']), color =\"red\")\n",
    "plt.axvline(x=int(tariffs.query('tariff_name == \"ultra\"')['minutes_included']), color =\"black\")\n",
    "\n",
    "plt.xlabel('Количество минут')\n",
    "plt.ylabel('Количество вхождений')\n",
    "\n",
    "plt.show()"
   ]
  },
  {
   "cell_type": "markdown",
   "metadata": {},
   "source": [
    "<div style=\"background-color: #fff0e0; padding: 10px; font-family: monospace; font-size: 15px\">\n",
    "АНАЛИТИКА ПО SMART</div>\n",
    "\n",
    "<div style=\"background-color: #fff0e0; padding: 10px; font-family: monospace; font-size: 15px\">\n",
    "Заметна небольшая отрицательная скошенность</div>\n",
    "\n",
    "<div style=\"background-color: #fff0e0; padding: 10px; font-family: monospace; font-size: 15px\">\n",
    "Пользователям доступно 500 минут, и пик как раз приходится недалеко от этого значения</div>\n",
    "\n",
    "<div style=\"background-color: #fff0e0; padding: 10px; font-family: monospace; font-size: 15px\">\n",
    "Однако, можно заметить, что большая часть людей превышает свой лимит</div>"
   ]
  },
  {
   "cell_type": "markdown",
   "metadata": {},
   "source": [
    "<div style=\"background-color: #fff0e0; padding: 10px; font-family: monospace; font-size: 15px\">\n",
    "АНАЛИТИКА ПО ULTRA</div>\n",
    "\n",
    "<div style=\"background-color: #fff0e0; padding: 10px; font-family: monospace; font-size: 15px\">\n",
    "Здесь есть очень легкая отрицательная скошенность</div>\n",
    "\n",
    "<div style=\"background-color: #fff0e0; padding: 10px; font-family: monospace; font-size: 15px\">\n",
    "Однако, видно, что большинство людей не превышают в использовании ~870 минут разговора</div>\n",
    "\n",
    "<div style=\"background-color: #fff0e0; padding: 10px; font-family: monospace; font-size: 15px\">\n",
    "До 3000 минут, которые включены в тариф, не доходит вообще никто</div>"
   ]
  },
  {
   "cell_type": "markdown",
   "metadata": {},
   "source": [
    "## 7.2.   Сообщения"
   ]
  },
  {
   "cell_type": "markdown",
   "metadata": {},
   "source": [
    "<div style=\"background-color: #fff0e0; padding: 10px; font-family: monospace; font-size: 15px\">\n",
    "Для smart</div>"
   ]
  },
  {
   "cell_type": "code",
   "execution_count": 73,
   "metadata": {},
   "outputs": [
    {
     "name": "stdout",
     "output_type": "stream",
     "text": [
      "Среднее значение:\n",
      "45.04058272632674 \n",
      "\n",
      "Дисперсия:\n",
      "1215.8609237622834 \n",
      "\n",
      "Стандартное отклонение:\n",
      "34.86919734898243 \n",
      "\n",
      "Доступно бесплатно: \n",
      "50\n"
     ]
    }
   ],
   "source": [
    "print('Среднее значение:')\n",
    "print(messages_pivot[messages_pivot.tariff_name == 'smart']['count']['message_date'].mean(), '\\n')\n",
    "print('Дисперсия:')\n",
    "print(messages_pivot[messages_pivot.tariff_name == 'smart']['count']['message_date'].var(), '\\n')\n",
    "print('Стандартное отклонение:')\n",
    "print(messages_pivot[messages_pivot.tariff_name == 'smart']['count']['message_date'].var()**(1/2), '\\n')\n",
    "print('Доступно бесплатно:', '\\n50')"
   ]
  },
  {
   "cell_type": "markdown",
   "metadata": {},
   "source": [
    "<div style=\"background-color: #fff0e0; padding: 10px; font-family: monospace; font-size: 15px\">\n",
    "Для ultra</div>"
   ]
  },
  {
   "cell_type": "code",
   "execution_count": 74,
   "metadata": {},
   "outputs": [
    {
     "name": "stdout",
     "output_type": "stream",
     "text": [
      "Среднее значение:\n",
      "45.87169811320755 \n",
      "\n",
      "Дисперсия:\n",
      "1260.4721828810418 \n",
      "\n",
      "Стандартное отклонение:\n",
      "35.503129198438856 \n",
      "\n",
      "Доступно бесплатно: \n",
      "1000\n"
     ]
    }
   ],
   "source": [
    "print('Среднее значение:')\n",
    "print(messages_pivot[messages_pivot.tariff_name == 'ultra']['count']['message_date'].mean(), '\\n')\n",
    "print('Дисперсия:')\n",
    "print(messages_pivot[messages_pivot.tariff_name == 'ultra']['count']['message_date'].var(), '\\n')\n",
    "print('Стандартное отклонение:')\n",
    "print(messages_pivot[messages_pivot.tariff_name == 'ultra']['count']['message_date'].var()**(1/2), '\\n')\n",
    "print('Доступно бесплатно:', '\\n1000')"
   ]
  },
  {
   "cell_type": "markdown",
   "metadata": {},
   "source": [
    "<div style=\"background-color: #fff0e0; padding: 10px; font-family: monospace; font-size: 15px\">\n",
    "Гистограмма</div>"
   ]
  },
  {
   "cell_type": "code",
   "execution_count": 75,
   "metadata": {},
   "outputs": [
    {
     "data": {
      "image/png": "[encoded data removed]",
      "text/plain": [
       "<Figure size 432x288 with 1 Axes>"
      ]
     },
     "metadata": {
      "needs_background": "light"
     },
     "output_type": "display_data"
    }
   ],
   "source": [
    "messages_pivot[messages_pivot.tariff_name == 'smart']['count']['message_date'].hist(bins=30)\n",
    "messages_pivot[messages_pivot.tariff_name == 'ultra']['count']['message_date'].hist(bins=30)\n",
    "\n",
    "plt.axvline(x=int(tariffs.query('tariff_name == \"smart\"')['messages_included']), color =\"red\")\n",
    "plt.axvline(x=int(tariffs.query('tariff_name == \"ultra\"')['messages_included']), color =\"black\")\n",
    "\n",
    "plt.xlabel('Количество сообщений')\n",
    "plt.ylabel('Количество вхождений')\n",
    "\n",
    "plt.show()"
   ]
  },
  {
   "cell_type": "markdown",
   "metadata": {},
   "source": [
    "<div style=\"background-color: #fff0e0; padding: 10px; font-family: monospace; font-size: 15px\">\n",
    "Для наглядности уберем лимит сообщений для ultra</div>"
   ]
  },
  {
   "cell_type": "code",
   "execution_count": 76,
   "metadata": {},
   "outputs": [
    {
     "data": {
      "image/png": "[encoded data removed]",
      "text/plain": [
       "<Figure size 432x288 with 1 Axes>"
      ]
     },
     "metadata": {
      "needs_background": "light"
     },
     "output_type": "display_data"
    }
   ],
   "source": [
    "messages_pivot[messages_pivot.tariff_name == 'smart']['count']['message_date'].hist(bins=30)\n",
    "messages_pivot[messages_pivot.tariff_name == 'ultra']['count']['message_date'].hist(bins=30)\n",
    "\n",
    "plt.axvline(x=int(tariffs.query('tariff_name == \"smart\"')['messages_included']), color =\"red\")\n",
    "# plt.axvline(x=int(tariffs.query('tariff_name == \"ultra\"')['messages_included']), color =\"black\")\n",
    "\n",
    "plt.xlabel('Количество сообщений')\n",
    "plt.ylabel('Количество вхождений')\n",
    "\n",
    "plt.show()"
   ]
  },
  {
   "cell_type": "markdown",
   "metadata": {},
   "source": [
    "<div style=\"background-color: #fff0e0; padding: 10px; font-family: monospace; font-size: 15px\">\n",
    "АНАЛИТИКА ДЛЯ SMART</div>\n",
    "\n",
    "<div style=\"background-color: #fff0e0; padding: 10px; font-family: monospace; font-size: 15px\">\n",
    "Здесь видна сильная положительная скошенность</div>\n",
    "\n",
    "<div style=\"background-color: #fff0e0; padding: 10px; font-family: monospace; font-size: 15px\">\n",
    "Три пика – на 10, 24 и 45 минутах</div>\n",
    "\n",
    "<div style=\"background-color: #fff0e0; padding: 10px; font-family: monospace; font-size: 15px\">\n",
    "Меньше людей используют сообщения вне лимита, однако количество все еще внушительное</div>"
   ]
  },
  {
   "cell_type": "markdown",
   "metadata": {},
   "source": [
    "<div style=\"background-color: #fff0e0; padding: 10px; font-family: monospace; font-size: 15px\">\n",
    "АНАЛИТИКА ДЛЯ ULTRA</div>\n",
    "\n",
    "<div style=\"background-color: #fff0e0; padding: 10px; font-family: monospace; font-size: 15px\">\n",
    "Сильная отрицательная скошенность – люди на этом тарифе не любят отправлять сообщения</div>\n",
    "\n",
    "<div style=\"background-color: #fff0e0; padding: 10px; font-family: monospace; font-size: 15px\">\n",
    "Большинство людей ограничевается 50 сообщениями в месяц, крайне малое количество – 100 сообщениями</div>\n",
    "\n",
    "<div style=\"background-color: #fff0e0; padding: 10px; font-family: monospace; font-size: 15px\">\n",
    "До включенных в тариф 1000, опять же, никто не дошел</div>"
   ]
  },
  {
   "cell_type": "markdown",
   "metadata": {},
   "source": [
    "## 7.3.   Интернет"
   ]
  },
  {
   "cell_type": "markdown",
   "metadata": {},
   "source": [
    "<div style=\"background-color: #fff0e0; padding: 10px; font-family: monospace; font-size: 15px\">\n",
    "Для smart</div>"
   ]
  },
  {
   "cell_type": "code",
   "execution_count": 77,
   "metadata": {},
   "outputs": [
    {
     "name": "stdout",
     "output_type": "stream",
     "text": [
      "Среднее значение:\n",
      "17.232495511669658 \n",
      "\n",
      "Дисперсия:\n",
      "55.25261218004271 \n",
      "\n",
      "Стандартное отклонение:\n",
      "7.433210085827167 \n",
      "\n",
      "Доступно бесплатно: \n",
      "15\n"
     ]
    }
   ],
   "source": [
    "print('Среднее значение:')\n",
    "print(internet_pivot[internet_pivot.tariff_name == 'smart']['rounded_gb_used'].mean(), '\\n')\n",
    "print('Дисперсия:')\n",
    "print(internet_pivot[internet_pivot.tariff_name == 'smart']['rounded_gb_used'].var(), '\\n')\n",
    "print('Стандартное отклонение:')\n",
    "print(internet_pivot[internet_pivot.tariff_name == 'smart']['rounded_gb_used'].var()**(1/2), '\\n')\n",
    "print('Доступно бесплатно:', '\\n15')"
   ]
  },
  {
   "cell_type": "markdown",
   "metadata": {},
   "source": [
    "<div style=\"background-color: #fff0e0; padding: 10px; font-family: monospace; font-size: 15px\">\n",
    "Для ultra</div>"
   ]
  },
  {
   "cell_type": "code",
   "execution_count": 78,
   "metadata": {},
   "outputs": [
    {
     "name": "stdout",
     "output_type": "stream",
     "text": [
      "Среднее значение:\n",
      "17.646153846153847 \n",
      "\n",
      "Дисперсия:\n",
      "50.82640972990049 \n",
      "\n",
      "Стандартное отклонение:\n",
      "7.129264318981342 \n",
      "\n",
      "Доступно бесплатно: \n",
      "30\n"
     ]
    }
   ],
   "source": [
    "print('Среднее значение:')\n",
    "print(internet_pivot[internet_pivot.tariff_name == 'ultra']['rounded_gb_used'].mean(), '\\n')\n",
    "print('Дисперсия:')\n",
    "print(internet_pivot[internet_pivot.tariff_name == 'ultra']['rounded_gb_used'].var(), '\\n')\n",
    "print('Стандартное отклонение:')\n",
    "print(internet_pivot[internet_pivot.tariff_name == 'ultra']['rounded_gb_used'].var()**(1/2), '\\n')\n",
    "print('Доступно бесплатно:', '\\n30')"
   ]
  },
  {
   "cell_type": "markdown",
   "metadata": {},
   "source": [
    "<div style=\"background-color: #fff0e0; padding: 10px; font-family: monospace; font-size: 15px\">\n",
    "Гистограмма</div>"
   ]
  },
  {
   "cell_type": "code",
   "execution_count": 79,
   "metadata": {},
   "outputs": [
    {
     "data": {
      "image/png": "[encoded data removed]",
      "text/plain": [
       "<Figure size 432x288 with 1 Axes>"
      ]
     },
     "metadata": {
      "needs_background": "light"
     },
     "output_type": "display_data"
    }
   ],
   "source": [
    "internet_pivot[internet_pivot.tariff_name == 'smart']['rounded_gb_used'].hist(bins=30)\n",
    "internet_pivot[internet_pivot.tariff_name == 'ultra']['rounded_gb_used'].hist(bins=30)\n",
    "\n",
    "plt.axvline(x=int(tariffs.query('tariff_name == \"smart\"')['mb_per_month_included']//1024), color =\"red\")\n",
    "plt.axvline(x=int(tariffs.query('tariff_name == \"ultra\"')['mb_per_month_included']//1024), color =\"black\")\n",
    "\n",
    "plt.xlabel('Количество ГБ')\n",
    "plt.ylabel('Количество вхождений')\n",
    "\n",
    "plt.show()"
   ]
  },
  {
   "cell_type": "markdown",
   "metadata": {},
   "source": [
    "<div style=\"background-color: #fff0e0; padding: 10px; font-family: monospace; font-size: 15px\">\n",
    "АНАЛИТИКА ДЛЯ SMART</div>\n",
    "\n",
    "<div style=\"background-color: #fff0e0; padding: 10px; font-family: monospace; font-size: 15px\">\n",
    "Распределение почти нормальное, с заметными пиками</div>\n",
    "\n",
    "<div style=\"background-color: #fff0e0; padding: 10px; font-family: monospace; font-size: 15px\">\n",
    "Пики приходятся на крайние 14 Гб, но большинство докупает 5 Гб и дотягивает их</div>\n",
    "\n",
    "<div style=\"background-color: #fff0e0; padding: 10px; font-family: monospace; font-size: 15px\">\n",
    "Малое количество людей используют интернет до 14 и после 20 Гб</div>"
   ]
  },
  {
   "cell_type": "markdown",
   "metadata": {},
   "source": [
    "<div style=\"background-color: #fff0e0; padding: 10px; font-family: monospace; font-size: 15px\">\n",
    "АНАЛИТИКА ДЛЯ ULTRA</div>\n",
    "\n",
    "<div style=\"background-color: #fff0e0; padding: 10px; font-family: monospace; font-size: 15px\">\n",
    "Здесь почти нормальное распределение, с большими пиками на различных значениях</div>\n",
    "\n",
    "<div style=\"background-color: #fff0e0; padding: 10px; font-family: monospace; font-size: 15px\">\n",
    "Самый большой пик – на 20 Гб, после 30 Гб мало людей используют интернет</div>"
   ]
  },
  {
   "cell_type": "markdown",
   "metadata": {},
   "source": [
    "## 7.4.   Общий вывод"
   ]
  },
  {
   "cell_type": "markdown",
   "metadata": {},
   "source": [
    "<div style=\"background-color: #fff0e0; padding: 10px; font-family: monospace; font-size: 15px\">\n",
    "На тарифе smart все услуги имеют превышения лимита и значительная часть людей покупает допольнительные пакеты</div>\n",
    "\n",
    "<div style=\"background-color: #fff0e0; padding: 10px; font-family: monospace; font-size: 15px\">\n",
    "На тарифе ultra минуты и звонки по полной не использует никто, однако заметная часть людей покупает дополнительные Гб</div>"
   ]
  },
  {
   "cell_type": "markdown",
   "metadata": {},
   "source": [
    "# 8.   Гипотезы"
   ]
  },
  {
   "cell_type": "markdown",
   "metadata": {},
   "source": [
    "## 8.1.   Ручные рассчеты выручки"
   ]
  },
  {
   "cell_type": "markdown",
   "metadata": {},
   "source": [
    "### 8.1.1.   Средняя выручка звонков сверх лимита"
   ]
  },
  {
   "cell_type": "markdown",
   "metadata": {},
   "source": [
    "<div style=\"background-color: #fff0e0; padding: 10px; font-family: monospace; font-size: 15px\">\n",
    "Посмотрим на звонки всех абонентов</div>"
   ]
  },
  {
   "cell_type": "code",
   "execution_count": 80,
   "metadata": {},
   "outputs": [
    {
     "data": {
      "text/html": [
       "<div>\n",
       "<style scoped>\n",
       "    .dataframe tbody tr th:only-of-type {\n",
       "        vertical-align: middle;\n",
       "    }\n",
       "\n",
       "    .dataframe tbody tr th {\n",
       "        vertical-align: top;\n",
       "    }\n",
       "\n",
       "    .dataframe thead tr th {\n",
       "        text-align: left;\n",
       "    }\n",
       "\n",
       "    .dataframe thead tr:last-of-type th {\n",
       "        text-align: right;\n",
       "    }\n",
       "</style>\n",
       "<table border=\"1\" class=\"dataframe\">\n",
       "  <thead>\n",
       "    <tr>\n",
       "      <th></th>\n",
       "      <th></th>\n",
       "      <th>sum</th>\n",
       "      <th>count</th>\n",
       "      <th>tariff_name</th>\n",
       "      <th>minutes_included</th>\n",
       "      <th>rub_monthly_fee</th>\n",
       "      <th>rub_per_minute</th>\n",
       "      <th>fee_over</th>\n",
       "      <th>full_fee</th>\n",
       "    </tr>\n",
       "    <tr>\n",
       "      <th></th>\n",
       "      <th></th>\n",
       "      <th>rounded_duration</th>\n",
       "      <th>rounded_duration</th>\n",
       "      <th></th>\n",
       "      <th></th>\n",
       "      <th></th>\n",
       "      <th></th>\n",
       "      <th></th>\n",
       "      <th></th>\n",
       "    </tr>\n",
       "    <tr>\n",
       "      <th>month</th>\n",
       "      <th>user_id</th>\n",
       "      <th></th>\n",
       "      <th></th>\n",
       "      <th></th>\n",
       "      <th></th>\n",
       "      <th></th>\n",
       "      <th></th>\n",
       "      <th></th>\n",
       "      <th></th>\n",
       "    </tr>\n",
       "  </thead>\n",
       "  <tbody>\n",
       "    <tr>\n",
       "      <th rowspan=\"5\" valign=\"top\">1</th>\n",
       "      <th>1005</th>\n",
       "      <td>95</td>\n",
       "      <td>15</td>\n",
       "      <td>smart</td>\n",
       "      <td>500</td>\n",
       "      <td>550</td>\n",
       "      <td>3</td>\n",
       "      <td>0</td>\n",
       "      <td>550</td>\n",
       "    </tr>\n",
       "    <tr>\n",
       "      <th>1032</th>\n",
       "      <td>380</td>\n",
       "      <td>61</td>\n",
       "      <td>smart</td>\n",
       "      <td>500</td>\n",
       "      <td>550</td>\n",
       "      <td>3</td>\n",
       "      <td>0</td>\n",
       "      <td>550</td>\n",
       "    </tr>\n",
       "    <tr>\n",
       "      <th>1045</th>\n",
       "      <td>9</td>\n",
       "      <td>1</td>\n",
       "      <td>smart</td>\n",
       "      <td>500</td>\n",
       "      <td>550</td>\n",
       "      <td>3</td>\n",
       "      <td>0</td>\n",
       "      <td>550</td>\n",
       "    </tr>\n",
       "    <tr>\n",
       "      <th>1055</th>\n",
       "      <td>551</td>\n",
       "      <td>64</td>\n",
       "      <td>smart</td>\n",
       "      <td>500</td>\n",
       "      <td>550</td>\n",
       "      <td>3</td>\n",
       "      <td>153</td>\n",
       "      <td>703</td>\n",
       "    </tr>\n",
       "    <tr>\n",
       "      <th>1071</th>\n",
       "      <td>194</td>\n",
       "      <td>24</td>\n",
       "      <td>smart</td>\n",
       "      <td>500</td>\n",
       "      <td>550</td>\n",
       "      <td>3</td>\n",
       "      <td>0</td>\n",
       "      <td>550</td>\n",
       "    </tr>\n",
       "  </tbody>\n",
       "</table>\n",
       "</div>"
      ],
      "text/plain": [
       "                           sum            count tariff_name minutes_included  \\\n",
       "              rounded_duration rounded_duration                                \n",
       "month user_id                                                                  \n",
       "1     1005                  95               15       smart              500   \n",
       "      1032                 380               61       smart              500   \n",
       "      1045                   9                1       smart              500   \n",
       "      1055                 551               64       smart              500   \n",
       "      1071                 194               24       smart              500   \n",
       "\n",
       "              rub_monthly_fee rub_per_minute fee_over full_fee  \n",
       "                                                                \n",
       "month user_id                                                   \n",
       "1     1005                550              3        0      550  \n",
       "      1032                550              3        0      550  \n",
       "      1045                550              3        0      550  \n",
       "      1055                550              3      153      703  \n",
       "      1071                550              3        0      550  "
      ]
     },
     "execution_count": 80,
     "metadata": {},
     "output_type": "execute_result"
    }
   ],
   "source": [
    "calls_pivot['full_fee'] = calls_pivot['rub_monthly_fee'] + calls_pivot['fee_over']\n",
    "calls_pivot.head()"
   ]
  },
  {
   "cell_type": "markdown",
   "metadata": {},
   "source": [
    "<div style=\"background-color: #fff0e0; padding: 10px; font-family: monospace; font-size: 15px\">\n",
    "Разделим их по тарифам</div>"
   ]
  },
  {
   "cell_type": "code",
   "execution_count": 81,
   "metadata": {},
   "outputs": [],
   "source": [
    "calls_pivot_smart = calls_pivot[calls_pivot['tariff_name'] == 'smart']\n",
    "calls_pivot_ultra = calls_pivot[calls_pivot['tariff_name'] == 'ultra']"
   ]
  },
  {
   "cell_type": "markdown",
   "metadata": {},
   "source": [
    "<div style=\"background-color: #fff0e0; padding: 10px; font-family: monospace; font-size: 15px\">\n",
    "Выведем сренюю помесячную для смарта</div>"
   ]
  },
  {
   "cell_type": "code",
   "execution_count": 82,
   "metadata": {},
   "outputs": [
    {
     "data": {
      "text/plain": [
       "month\n",
       "1       4.500000\n",
       "2      44.482759\n",
       "3     103.480519\n",
       "4      80.651786\n",
       "5      82.531915\n",
       "6      88.766871\n",
       "7     103.358209\n",
       "8     122.564103\n",
       "9     129.544402\n",
       "10    133.382253\n",
       "11    131.961905\n",
       "12    204.526786\n",
       "Name: fee_over, dtype: float64"
      ]
     },
     "metadata": {},
     "output_type": "display_data"
    }
   ],
   "source": [
    "display(calls_pivot_smart.pivot_table(index='month', values='fee_over', aggfunc='mean'))"
   ]
  },
  {
   "cell_type": "markdown",
   "metadata": {},
   "source": [
    "<div style=\"background-color: #fff0e0; padding: 10px; font-family: monospace; font-size: 15px\">\n",
    "И так же для ультра</div>"
   ]
  },
  {
   "cell_type": "code",
   "execution_count": 83,
   "metadata": {},
   "outputs": [
    {
     "data": {
      "text/plain": [
       "month\n",
       "1     0\n",
       "2     0\n",
       "3     0\n",
       "4     0\n",
       "5     0\n",
       "6     0\n",
       "7     0\n",
       "8     0\n",
       "9     0\n",
       "10    0\n",
       "11    0\n",
       "12    0\n",
       "Name: fee_over, dtype: int64"
      ]
     },
     "metadata": {},
     "output_type": "display_data"
    }
   ],
   "source": [
    "display(calls_pivot_ultra.pivot_table(index='month', values='fee_over', aggfunc='mean'))"
   ]
  },
  {
   "cell_type": "markdown",
   "metadata": {},
   "source": [
    "<div style=\"background-color: #fff0e0; padding: 10px; font-family: monospace; font-size: 15px\">\n",
    "Построим барплот с ними обоими и сравним</div>"
   ]
  },
  {
   "cell_type": "code",
   "execution_count": 84,
   "metadata": {},
   "outputs": [
    {
     "data": {
      "image/png": "[encoded data removed]",
      "text/plain": [
       "<Figure size 432x288 with 1 Axes>"
      ]
     },
     "metadata": {
      "needs_background": "light"
     },
     "output_type": "display_data"
    }
   ],
   "source": [
    "calls_pivot_ultra.pivot_table(index='month', \n",
    "                              values='fee_over', \n",
    "                              aggfunc='mean').plot(kind='bar', \n",
    "                                                   color='black', \n",
    "                                                   label='ultra', \n",
    "                                                   width=1/3)\n",
    "calls_pivot_smart.pivot_table(index='month', \n",
    "                              values='fee_over', \n",
    "                              aggfunc='mean').plot(kind='bar', \n",
    "                                                   color='red', \n",
    "                                                   label='smart', \n",
    "                                                   alpha=0.5)\n",
    "plt.xlabel('Номер месяца')\n",
    "plt.ylabel('Средняя выручка')\n",
    "plt.legend(bbox_to_anchor=(1, 0.6))\n",
    "plt.show()"
   ]
  },
  {
   "cell_type": "markdown",
   "metadata": {},
   "source": [
    "<div style=\"background-color: #fff0e0; padding: 10px; font-family: monospace; font-size: 15px\">\n",
    "Как видно, пользователи тарифа ultra вообще не используют минуты сверх лимита, в то время как за год переплаты абонентов тарифа smart увеличились</div>"
   ]
  },
  {
   "cell_type": "markdown",
   "metadata": {},
   "source": [
    "### 8.1.2.   Средняя выручка сообщений сверх лимита"
   ]
  },
  {
   "cell_type": "markdown",
   "metadata": {},
   "source": [
    "<div style=\"background-color: #fff0e0; padding: 10px; font-family: monospace; font-size: 15px\">\n",
    "Действуем по той же схеме</div>"
   ]
  },
  {
   "cell_type": "code",
   "execution_count": 85,
   "metadata": {},
   "outputs": [
    {
     "data": {
      "text/html": [
       "<div>\n",
       "<style scoped>\n",
       "    .dataframe tbody tr th:only-of-type {\n",
       "        vertical-align: middle;\n",
       "    }\n",
       "\n",
       "    .dataframe tbody tr th {\n",
       "        vertical-align: top;\n",
       "    }\n",
       "\n",
       "    .dataframe thead tr th {\n",
       "        text-align: left;\n",
       "    }\n",
       "\n",
       "    .dataframe thead tr:last-of-type th {\n",
       "        text-align: right;\n",
       "    }\n",
       "</style>\n",
       "<table border=\"1\" class=\"dataframe\">\n",
       "  <thead>\n",
       "    <tr>\n",
       "      <th></th>\n",
       "      <th></th>\n",
       "      <th>count</th>\n",
       "      <th>tariff_name</th>\n",
       "      <th>messages_included</th>\n",
       "      <th>rub_monthly_fee</th>\n",
       "      <th>rub_per_message</th>\n",
       "      <th>fee_over</th>\n",
       "      <th>full_fee</th>\n",
       "    </tr>\n",
       "    <tr>\n",
       "      <th></th>\n",
       "      <th></th>\n",
       "      <th>message_date</th>\n",
       "      <th></th>\n",
       "      <th></th>\n",
       "      <th></th>\n",
       "      <th></th>\n",
       "      <th></th>\n",
       "      <th></th>\n",
       "    </tr>\n",
       "    <tr>\n",
       "      <th>month</th>\n",
       "      <th>user_id</th>\n",
       "      <th></th>\n",
       "      <th></th>\n",
       "      <th></th>\n",
       "      <th></th>\n",
       "      <th></th>\n",
       "      <th></th>\n",
       "      <th></th>\n",
       "    </tr>\n",
       "  </thead>\n",
       "  <tbody>\n",
       "    <tr>\n",
       "      <th rowspan=\"5\" valign=\"top\">1</th>\n",
       "      <th>1005</th>\n",
       "      <td>7</td>\n",
       "      <td>smart</td>\n",
       "      <td>50</td>\n",
       "      <td>550</td>\n",
       "      <td>3</td>\n",
       "      <td>0</td>\n",
       "      <td>550</td>\n",
       "    </tr>\n",
       "    <tr>\n",
       "      <th>1032</th>\n",
       "      <td>38</td>\n",
       "      <td>smart</td>\n",
       "      <td>50</td>\n",
       "      <td>550</td>\n",
       "      <td>3</td>\n",
       "      <td>0</td>\n",
       "      <td>550</td>\n",
       "    </tr>\n",
       "    <tr>\n",
       "      <th>1045</th>\n",
       "      <td>5</td>\n",
       "      <td>smart</td>\n",
       "      <td>50</td>\n",
       "      <td>550</td>\n",
       "      <td>3</td>\n",
       "      <td>0</td>\n",
       "      <td>550</td>\n",
       "    </tr>\n",
       "    <tr>\n",
       "      <th>1055</th>\n",
       "      <td>30</td>\n",
       "      <td>smart</td>\n",
       "      <td>50</td>\n",
       "      <td>550</td>\n",
       "      <td>3</td>\n",
       "      <td>0</td>\n",
       "      <td>550</td>\n",
       "    </tr>\n",
       "    <tr>\n",
       "      <th>1071</th>\n",
       "      <td>16</td>\n",
       "      <td>smart</td>\n",
       "      <td>50</td>\n",
       "      <td>550</td>\n",
       "      <td>3</td>\n",
       "      <td>0</td>\n",
       "      <td>550</td>\n",
       "    </tr>\n",
       "  </tbody>\n",
       "</table>\n",
       "</div>"
      ],
      "text/plain": [
       "                     count tariff_name messages_included rub_monthly_fee  \\\n",
       "              message_date                                                 \n",
       "month user_id                                                              \n",
       "1     1005               7       smart                50             550   \n",
       "      1032              38       smart                50             550   \n",
       "      1045               5       smart                50             550   \n",
       "      1055              30       smart                50             550   \n",
       "      1071              16       smart                50             550   \n",
       "\n",
       "              rub_per_message fee_over full_fee  \n",
       "                                                 \n",
       "month user_id                                    \n",
       "1     1005                  3        0      550  \n",
       "      1032                  3        0      550  \n",
       "      1045                  3        0      550  \n",
       "      1055                  3        0      550  \n",
       "      1071                  3        0      550  "
      ]
     },
     "execution_count": 85,
     "metadata": {},
     "output_type": "execute_result"
    }
   ],
   "source": [
    "messages_pivot['full_fee'] = messages_pivot['rub_monthly_fee'] + messages_pivot['fee_over']\n",
    "messages_pivot.head()"
   ]
  },
  {
   "cell_type": "code",
   "execution_count": 86,
   "metadata": {},
   "outputs": [],
   "source": [
    "messages_pivot_smart = messages_pivot[messages_pivot['tariff_name'] == 'smart']\n",
    "messages_pivot_ultra = messages_pivot[messages_pivot['tariff_name'] == 'ultra']"
   ]
  },
  {
   "cell_type": "code",
   "execution_count": 87,
   "metadata": {},
   "outputs": [
    {
     "data": {
      "text/plain": [
       "month\n",
       "1      6.157895\n",
       "2      6.777778\n",
       "3     23.268293\n",
       "4     20.545455\n",
       "5     25.218750\n",
       "6     29.727273\n",
       "7     35.338983\n",
       "8     37.277512\n",
       "9     34.663212\n",
       "10    42.932432\n",
       "11     0.000000\n",
       "12     0.000000\n",
       "Name: fee_over, dtype: float64"
      ]
     },
     "metadata": {},
     "output_type": "display_data"
    }
   ],
   "source": [
    "display(messages_pivot_smart.pivot_table(index='month', values='fee_over', aggfunc='mean'))"
   ]
  },
  {
   "cell_type": "code",
   "execution_count": 88,
   "metadata": {},
   "outputs": [
    {
     "data": {
      "text/plain": [
       "month\n",
       "2     12.250000\n",
       "3     38.250000\n",
       "4     20.750000\n",
       "5     31.043478\n",
       "6     32.909091\n",
       "7     35.400000\n",
       "8     29.566265\n",
       "9     37.608000\n",
       "10    36.866667\n",
       "11     0.000000\n",
       "12     0.000000\n",
       "Name: fee_over, dtype: float64"
      ]
     },
     "metadata": {},
     "output_type": "display_data"
    }
   ],
   "source": [
    "display(messages_pivot_ultra.pivot_table(index='month', values='fee_over', aggfunc='mean'))"
   ]
  },
  {
   "cell_type": "code",
   "execution_count": 89,
   "metadata": {},
   "outputs": [
    {
     "data": {
      "image/png": "[encoded data removed]",
      "text/plain": [
       "<Figure size 432x288 with 1 Axes>"
      ]
     },
     "metadata": {
      "needs_background": "light"
     },
     "output_type": "display_data"
    }
   ],
   "source": [
    "messages_pivot_ultra.pivot_table(index='month', \n",
    "                              values='fee_over', \n",
    "                              aggfunc='mean').plot(kind='bar', \n",
    "                                                   color='black', \n",
    "                                                   label='ultra',\n",
    "                                                   width=1/3)\n",
    "messages_pivot_smart.pivot_table(index='month', \n",
    "                              values='fee_over', \n",
    "                              aggfunc='mean').plot(kind='bar',\n",
    "                                                   color='red', \n",
    "                                                   label='smart', \n",
    "                                                   alpha=.5)\n",
    "plt.xlabel('Номер месяца')\n",
    "plt.ylabel('Средняя выручка')\n",
    "plt.legend(bbox_to_anchor=(1, 0.6))\n",
    "plt.show()"
   ]
  },
  {
   "cell_type": "markdown",
   "metadata": {},
   "source": [
    "<div style=\"background-color: #fff0e0; padding: 10px; font-family: monospace; font-size: 15px\">\n",
    "Здесь картина менее однозначная: в два последних месяца вообще никто не превышал лимиты, и в начале года тариф ultra превышал по выручке тариф smart</div>"
   ]
  },
  {
   "cell_type": "markdown",
   "metadata": {},
   "source": [
    "### 8.1.3.   Средняя выручка интернета сверх лимита"
   ]
  },
  {
   "cell_type": "code",
   "execution_count": 90,
   "metadata": {},
   "outputs": [
    {
     "data": {
      "text/html": [
       "<div>\n",
       "<style scoped>\n",
       "    .dataframe tbody tr th:only-of-type {\n",
       "        vertical-align: middle;\n",
       "    }\n",
       "\n",
       "    .dataframe tbody tr th {\n",
       "        vertical-align: top;\n",
       "    }\n",
       "\n",
       "    .dataframe thead tr th {\n",
       "        text-align: left;\n",
       "    }\n",
       "\n",
       "    .dataframe thead tr:last-of-type th {\n",
       "        text-align: right;\n",
       "    }\n",
       "</style>\n",
       "<table border=\"1\" class=\"dataframe\">\n",
       "  <thead>\n",
       "    <tr>\n",
       "      <th></th>\n",
       "      <th></th>\n",
       "      <th>sum</th>\n",
       "      <th>rounded_gb_used</th>\n",
       "      <th>tariff_name</th>\n",
       "      <th>gb_per_month_included</th>\n",
       "      <th>rub_monthly_fee</th>\n",
       "      <th>rub_per_gb</th>\n",
       "      <th>fee_over</th>\n",
       "      <th>full_fee</th>\n",
       "    </tr>\n",
       "    <tr>\n",
       "      <th></th>\n",
       "      <th></th>\n",
       "      <th>mb_used</th>\n",
       "      <th></th>\n",
       "      <th></th>\n",
       "      <th></th>\n",
       "      <th></th>\n",
       "      <th></th>\n",
       "      <th></th>\n",
       "      <th></th>\n",
       "    </tr>\n",
       "    <tr>\n",
       "      <th>month</th>\n",
       "      <th>user_id</th>\n",
       "      <th></th>\n",
       "      <th></th>\n",
       "      <th></th>\n",
       "      <th></th>\n",
       "      <th></th>\n",
       "      <th></th>\n",
       "      <th></th>\n",
       "      <th></th>\n",
       "    </tr>\n",
       "  </thead>\n",
       "  <tbody>\n",
       "    <tr>\n",
       "      <th rowspan=\"5\" valign=\"top\">1</th>\n",
       "      <th>1005</th>\n",
       "      <td>2727.97</td>\n",
       "      <td>3</td>\n",
       "      <td>smart</td>\n",
       "      <td>15</td>\n",
       "      <td>550</td>\n",
       "      <td>200</td>\n",
       "      <td>0</td>\n",
       "      <td>550</td>\n",
       "    </tr>\n",
       "    <tr>\n",
       "      <th>1032</th>\n",
       "      <td>24127.69</td>\n",
       "      <td>24</td>\n",
       "      <td>smart</td>\n",
       "      <td>15</td>\n",
       "      <td>550</td>\n",
       "      <td>200</td>\n",
       "      <td>1800</td>\n",
       "      <td>2350</td>\n",
       "    </tr>\n",
       "    <tr>\n",
       "      <th>1045</th>\n",
       "      <td>2346.71</td>\n",
       "      <td>3</td>\n",
       "      <td>smart</td>\n",
       "      <td>15</td>\n",
       "      <td>550</td>\n",
       "      <td>200</td>\n",
       "      <td>0</td>\n",
       "      <td>550</td>\n",
       "    </tr>\n",
       "    <tr>\n",
       "      <th>1055</th>\n",
       "      <td>17090.88</td>\n",
       "      <td>17</td>\n",
       "      <td>smart</td>\n",
       "      <td>15</td>\n",
       "      <td>550</td>\n",
       "      <td>200</td>\n",
       "      <td>400</td>\n",
       "      <td>950</td>\n",
       "    </tr>\n",
       "    <tr>\n",
       "      <th>1071</th>\n",
       "      <td>15604.34</td>\n",
       "      <td>16</td>\n",
       "      <td>smart</td>\n",
       "      <td>15</td>\n",
       "      <td>550</td>\n",
       "      <td>200</td>\n",
       "      <td>200</td>\n",
       "      <td>750</td>\n",
       "    </tr>\n",
       "  </tbody>\n",
       "</table>\n",
       "</div>"
      ],
      "text/plain": [
       "                    sum rounded_gb_used tariff_name gb_per_month_included  \\\n",
       "                mb_used                                                     \n",
       "month user_id                                                               \n",
       "1     1005      2727.97               3       smart                    15   \n",
       "      1032     24127.69              24       smart                    15   \n",
       "      1045      2346.71               3       smart                    15   \n",
       "      1055     17090.88              17       smart                    15   \n",
       "      1071     15604.34              16       smart                    15   \n",
       "\n",
       "              rub_monthly_fee rub_per_gb fee_over full_fee  \n",
       "                                                            \n",
       "month user_id                                               \n",
       "1     1005                550        200        0      550  \n",
       "      1032                550        200     1800     2350  \n",
       "      1045                550        200        0      550  \n",
       "      1055                550        200      400      950  \n",
       "      1071                550        200      200      750  "
      ]
     },
     "execution_count": 90,
     "metadata": {},
     "output_type": "execute_result"
    }
   ],
   "source": [
    "internet_pivot['full_fee'] = internet_pivot['rub_monthly_fee'] + internet_pivot['fee_over']\n",
    "internet_pivot.head()"
   ]
  },
  {
   "cell_type": "code",
   "execution_count": 91,
   "metadata": {},
   "outputs": [],
   "source": [
    "internet_pivot_smart = internet_pivot[internet_pivot['tariff_name'] == 'smart']\n",
    "internet_pivot_ultra = internet_pivot[internet_pivot['tariff_name'] == 'ultra']"
   ]
  },
  {
   "cell_type": "code",
   "execution_count": 92,
   "metadata": {},
   "outputs": [
    {
     "data": {
      "text/plain": [
       "month\n",
       "1     195.348837\n",
       "2     321.428571\n",
       "3     810.638298\n",
       "4     552.755906\n",
       "5     749.333333\n",
       "6     867.096774\n",
       "7     779.787234\n",
       "8     841.176471\n",
       "9     735.200000\n",
       "10    803.846154\n",
       "11     44.769231\n",
       "12     69.421488\n",
       "Name: fee_over, dtype: float64"
      ]
     },
     "metadata": {},
     "output_type": "display_data"
    }
   ],
   "source": [
    "display(internet_pivot_smart.pivot_table(index='month', values='fee_over', aggfunc='mean'))"
   ]
  },
  {
   "cell_type": "code",
   "execution_count": 93,
   "metadata": {},
   "outputs": [
    {
     "data": {
      "text/plain": [
       "month\n",
       "2     458.333333\n",
       "3     380.000000\n",
       "4     490.000000\n",
       "5     887.719298\n",
       "6     606.521739\n",
       "7     910.679612\n",
       "8     891.176471\n",
       "9     851.612903\n",
       "10    734.265734\n",
       "11     45.967742\n",
       "12     62.946429\n",
       "Name: fee_over, dtype: float64"
      ]
     },
     "metadata": {},
     "output_type": "display_data"
    }
   ],
   "source": [
    "display(internet_pivot_ultra.pivot_table(index='month', values='fee_over', aggfunc='mean'))"
   ]
  },
  {
   "cell_type": "code",
   "execution_count": 94,
   "metadata": {},
   "outputs": [
    {
     "data": {
      "image/png": "[encoded data removed]",
      "text/plain": [
       "<Figure size 432x288 with 1 Axes>"
      ]
     },
     "metadata": {
      "needs_background": "light"
     },
     "output_type": "display_data"
    }
   ],
   "source": [
    "internet_pivot_ultra.pivot_table(index='month', \n",
    "                              values='fee_over', \n",
    "                              aggfunc='mean').plot(kind='bar', \n",
    "                                                   color='black', \n",
    "                                                   label='ultra',\n",
    "                                                   width=1/3)\n",
    "internet_pivot_smart.pivot_table(index='month', \n",
    "                              values='fee_over', \n",
    "                              aggfunc='mean').plot(kind='bar',\n",
    "                                                   color='red', \n",
    "                                                   label='smart', \n",
    "                                                   alpha=.5)\n",
    "plt.xlabel('Номер месяца')\n",
    "plt.ylabel('Средняя выручка')\n",
    "plt.legend(bbox_to_anchor=(1, 0.6))\n",
    "plt.show()"
   ]
  },
  {
   "cell_type": "markdown",
   "metadata": {},
   "source": [
    "### 8.1.4.   Вывод"
   ]
  },
  {
   "cell_type": "markdown",
   "metadata": {},
   "source": [
    "<div style=\"background-color: #fff0e0; padding: 10px; font-family: monospace; font-size: 15px\">\n",
    "Выручка действительно отличается, но на тарифе smart она растет, а на ultra лишь интернет создает разницу в выручках помесячно</div>"
   ]
  },
  {
   "cell_type": "markdown",
   "metadata": {},
   "source": [
    "## 8.2.   Вероятностные рассчеты выручки"
   ]
  },
  {
   "cell_type": "markdown",
   "metadata": {},
   "source": [
    "### 8.2.1.   Гипотеза"
   ]
  },
  {
   "cell_type": "markdown",
   "metadata": {},
   "source": [
    "<div style=\"background-color: #fff0e0; padding: 10px; font-family: monospace; font-size: 15px\">\n",
    "Обозначим нулевую гипотезу: \n",
    "<br><br>- Средняя выручка пользователей тарифов \"Ультра\" и \"Смарт\" различаются\n",
    "<br><br>Тогда альтернативная будет:\n",
    "<br><br>- Средняя выручка пользователей тарифов \"Ультра\" и \"Смарт\" не различаются</div>\n",
    "\n",
    "<div style=\"background-color: #fff0e0; padding: 10px; font-family: monospace; font-size: 15px\">\n",
    "Если не подтвердится нулевая гипотеза, соответственно, выручка с пользователей разных тарифов не будет различаться, то за истинную мы примем альтернативную гипотезу</div>"
   ]
  },
  {
   "cell_type": "markdown",
   "metadata": {},
   "source": [
    "### 8.2.2.   Выручка с каждого пользователя за месяц"
   ]
  },
  {
   "cell_type": "code",
   "execution_count": 95,
   "metadata": {},
   "outputs": [
    {
     "data": {
      "text/html": [
       "<div>\n",
       "<style scoped>\n",
       "    .dataframe tbody tr th:only-of-type {\n",
       "        vertical-align: middle;\n",
       "    }\n",
       "\n",
       "    .dataframe tbody tr th {\n",
       "        vertical-align: top;\n",
       "    }\n",
       "\n",
       "    .dataframe thead th {\n",
       "        text-align: right;\n",
       "    }\n",
       "</style>\n",
       "<table border=\"1\" class=\"dataframe\">\n",
       "  <thead>\n",
       "    <tr style=\"text-align: right;\">\n",
       "      <th></th>\n",
       "      <th></th>\n",
       "      <th>fee_over_calls</th>\n",
       "      <th>fee_over_calls</th>\n",
       "      <th>fee_over</th>\n",
       "      <th>fee_over_sum</th>\n",
       "      <th>tariff</th>\n",
       "      <th>monthly_fee</th>\n",
       "      <th>city</th>\n",
       "      <th>month_fee</th>\n",
       "    </tr>\n",
       "    <tr>\n",
       "      <th>user_id</th>\n",
       "      <th>month</th>\n",
       "      <th></th>\n",
       "      <th></th>\n",
       "      <th></th>\n",
       "      <th></th>\n",
       "      <th></th>\n",
       "      <th></th>\n",
       "      <th></th>\n",
       "      <th></th>\n",
       "    </tr>\n",
       "  </thead>\n",
       "  <tbody>\n",
       "    <tr>\n",
       "      <th rowspan=\"5\" valign=\"top\">1000</th>\n",
       "      <th>5</th>\n",
       "      <td>0.0</td>\n",
       "      <td>0.0</td>\n",
       "      <td>0.0</td>\n",
       "      <td>0.0</td>\n",
       "      <td>ultra</td>\n",
       "      <td>1950</td>\n",
       "      <td>Краснодар</td>\n",
       "      <td>1950.0</td>\n",
       "    </tr>\n",
       "    <tr>\n",
       "      <th>6</th>\n",
       "      <td>0.0</td>\n",
       "      <td>30.0</td>\n",
       "      <td>1600.0</td>\n",
       "      <td>1630.0</td>\n",
       "      <td>ultra</td>\n",
       "      <td>1950</td>\n",
       "      <td>Краснодар</td>\n",
       "      <td>3580.0</td>\n",
       "    </tr>\n",
       "    <tr>\n",
       "      <th>7</th>\n",
       "      <td>0.0</td>\n",
       "      <td>75.0</td>\n",
       "      <td>0.0</td>\n",
       "      <td>75.0</td>\n",
       "      <td>ultra</td>\n",
       "      <td>1950</td>\n",
       "      <td>Краснодар</td>\n",
       "      <td>2025.0</td>\n",
       "    </tr>\n",
       "    <tr>\n",
       "      <th>8</th>\n",
       "      <td>0.0</td>\n",
       "      <td>93.0</td>\n",
       "      <td>0.0</td>\n",
       "      <td>93.0</td>\n",
       "      <td>ultra</td>\n",
       "      <td>1950</td>\n",
       "      <td>Краснодар</td>\n",
       "      <td>2043.0</td>\n",
       "    </tr>\n",
       "    <tr>\n",
       "      <th>9</th>\n",
       "      <td>0.0</td>\n",
       "      <td>21.0</td>\n",
       "      <td>0.0</td>\n",
       "      <td>21.0</td>\n",
       "      <td>ultra</td>\n",
       "      <td>1950</td>\n",
       "      <td>Краснодар</td>\n",
       "      <td>1971.0</td>\n",
       "    </tr>\n",
       "    <tr>\n",
       "      <th>...</th>\n",
       "      <th>...</th>\n",
       "      <td>...</td>\n",
       "      <td>...</td>\n",
       "      <td>...</td>\n",
       "      <td>...</td>\n",
       "      <td>...</td>\n",
       "      <td>...</td>\n",
       "      <td>...</td>\n",
       "      <td>...</td>\n",
       "    </tr>\n",
       "    <tr>\n",
       "      <th rowspan=\"3\" valign=\"top\">1499</th>\n",
       "      <th>10</th>\n",
       "      <td>0.0</td>\n",
       "      <td>0.0</td>\n",
       "      <td>0.0</td>\n",
       "      <td>0.0</td>\n",
       "      <td>smart</td>\n",
       "      <td>550</td>\n",
       "      <td>Пермь</td>\n",
       "      <td>550.0</td>\n",
       "    </tr>\n",
       "    <tr>\n",
       "      <th>11</th>\n",
       "      <td>336.0</td>\n",
       "      <td>0.0</td>\n",
       "      <td>0.0</td>\n",
       "      <td>336.0</td>\n",
       "      <td>smart</td>\n",
       "      <td>550</td>\n",
       "      <td>Пермь</td>\n",
       "      <td>886.0</td>\n",
       "    </tr>\n",
       "    <tr>\n",
       "      <th>12</th>\n",
       "      <td>0.0</td>\n",
       "      <td>0.0</td>\n",
       "      <td>0.0</td>\n",
       "      <td>0.0</td>\n",
       "      <td>smart</td>\n",
       "      <td>550</td>\n",
       "      <td>Пермь</td>\n",
       "      <td>550.0</td>\n",
       "    </tr>\n",
       "    <tr>\n",
       "      <th>1128</th>\n",
       "      <th>1</th>\n",
       "      <td>0.0</td>\n",
       "      <td>0.0</td>\n",
       "      <td>0.0</td>\n",
       "      <td>0.0</td>\n",
       "      <td>smart</td>\n",
       "      <td>550</td>\n",
       "      <td>Волжский</td>\n",
       "      <td>550.0</td>\n",
       "    </tr>\n",
       "    <tr>\n",
       "      <th>1371</th>\n",
       "      <th>1</th>\n",
       "      <td>0.0</td>\n",
       "      <td>0.0</td>\n",
       "      <td>0.0</td>\n",
       "      <td>0.0</td>\n",
       "      <td>smart</td>\n",
       "      <td>550</td>\n",
       "      <td>Омск</td>\n",
       "      <td>550.0</td>\n",
       "    </tr>\n",
       "  </tbody>\n",
       "</table>\n",
       "<p>3216 rows × 8 columns</p>\n",
       "</div>"
      ],
      "text/plain": [
       "               fee_over_calls  fee_over_calls  fee_over  fee_over_sum tariff  \\\n",
       "user_id month                                                                  \n",
       "1000    5                 0.0             0.0       0.0           0.0  ultra   \n",
       "        6                 0.0            30.0    1600.0        1630.0  ultra   \n",
       "        7                 0.0            75.0       0.0          75.0  ultra   \n",
       "        8                 0.0            93.0       0.0          93.0  ultra   \n",
       "        9                 0.0            21.0       0.0          21.0  ultra   \n",
       "...                       ...             ...       ...           ...    ...   \n",
       "1499    10                0.0             0.0       0.0           0.0  smart   \n",
       "        11              336.0             0.0       0.0         336.0  smart   \n",
       "        12                0.0             0.0       0.0           0.0  smart   \n",
       "1128    1                 0.0             0.0       0.0           0.0  smart   \n",
       "1371    1                 0.0             0.0       0.0           0.0  smart   \n",
       "\n",
       "               monthly_fee       city  month_fee  \n",
       "user_id month                                     \n",
       "1000    5             1950  Краснодар     1950.0  \n",
       "        6             1950  Краснодар     3580.0  \n",
       "        7             1950  Краснодар     2025.0  \n",
       "        8             1950  Краснодар     2043.0  \n",
       "        9             1950  Краснодар     1971.0  \n",
       "...                    ...        ...        ...  \n",
       "1499    10             550      Пермь      550.0  \n",
       "        11             550      Пермь      886.0  \n",
       "        12             550      Пермь      550.0  \n",
       "1128    1              550   Волжский      550.0  \n",
       "1371    1              550       Омск      550.0  \n",
       "\n",
       "[3216 rows x 8 columns]"
      ]
     },
     "execution_count": 95,
     "metadata": {},
     "output_type": "execute_result"
    }
   ],
   "source": [
    "# добавляем тариф каждого пользователя\n",
    "all_users_pivot['tariff'] = (all_users_pivot\n",
    " .merge(users[['user_id', 'tariff']], on='user_id', how='left')\n",
    " .merge(tariffs[['tariff_name', 'rub_monthly_fee']], left_on='tariff', right_on='tariff_name')['tariff_name']\n",
    " .tolist())\n",
    "\n",
    "# добавляем ежемесячную плату\n",
    "all_users_pivot['monthly_fee'] = (all_users_pivot\n",
    " .merge(tariffs[['tariff_name', 'rub_monthly_fee']], left_on='tariff', right_on='tariff_name')['rub_monthly_fee']\n",
    " .tolist())\n",
    "\n",
    "# добавляем город пользователя\n",
    "all_users_pivot['city'] = (all_users_pivot\n",
    " .merge(users[['user_id', 'city']], on='user_id', how='left')['city']\n",
    " .tolist())\n",
    "\n",
    "# рассчитываем доход от пользователя за месяц\n",
    "all_users_pivot['month_fee'] = all_users_pivot['monthly_fee'] + all_users_pivot['fee_over_sum']\n",
    "\n",
    "all_users_pivot"
   ]
  },
  {
   "cell_type": "code",
   "execution_count": 96,
   "metadata": {},
   "outputs": [],
   "source": [
    "smart_users_pivot = all_users_pivot.query('tariff == \"smart\"')\n",
    "ultra_users_pivot = all_users_pivot.query('tariff == \"ultra\"')\n",
    "\n",
    "smart_users_month_fee = smart_users_pivot['month_fee'].tolist()\n",
    "ultra_users_month_fee = ultra_users_pivot['month_fee'].tolist()"
   ]
  },
  {
   "cell_type": "markdown",
   "metadata": {},
   "source": [
    "### 8.2.3.   Расчеты"
   ]
  },
  {
   "cell_type": "code",
   "execution_count": 97,
   "metadata": {},
   "outputs": [],
   "source": [
    "results = st.ttest_ind(smart_users_month_fee,\n",
    "                       ultra_users_month_fee,\n",
    "                       equal_var = False)"
   ]
  },
  {
   "cell_type": "code",
   "execution_count": 98,
   "metadata": {},
   "outputs": [
    {
     "data": {
      "text/plain": [
       "3.8540514286984096e-288"
      ]
     },
     "execution_count": 98,
     "metadata": {},
     "output_type": "execute_result"
    }
   ],
   "source": [
    "results.pvalue"
   ]
  },
  {
   "cell_type": "markdown",
   "metadata": {},
   "source": [
    "### 8.2.4.   Вывод"
   ]
  },
  {
   "cell_type": "markdown",
   "metadata": {},
   "source": [
    "<div style=\"background-color: #fff0e0; padding: 10px; font-family: monospace; font-size: 15px\">\n",
    "Значения очень малы, так что при любом alpha гипотеза оказыается подтверждена</div>"
   ]
  },
  {
   "cell_type": "markdown",
   "metadata": {},
   "source": [
    "## 8.3.   Вероятностные расчеты регионов"
   ]
  },
  {
   "cell_type": "markdown",
   "metadata": {},
   "source": [
    "### 8.3.1.   Гипотеза"
   ]
  },
  {
   "cell_type": "markdown",
   "metadata": {},
   "source": [
    "<div style=\"background-color: #fff0e0; padding: 10px; font-family: monospace; font-size: 15px\">\n",
    "Нулевая гипотеза звучит следующим образом:\n",
    "<br><br>- Средняя выручка пользователей из Москвы отличается от выручки пользователей из других регионов\n",
    "<br><br>Альтернативную гипотезу сформулируем так:\n",
    "<br><br>- Средняя выручка пользователей из Москвы не отличается от выручки пользователей из других регионов</div>\n",
    "\n",
    "<div style=\"background-color: #fff0e0; padding: 10px; font-family: monospace; font-size: 15px\">\n",
    "Если не подтвердится нулевая гипотеза, соответственно, выручка с пользователей из Москвы не будет отличаться от выручки с пользователей из регионов, то за истинную мы примем альтернативную гипотезу</div>"
   ]
  },
  {
   "cell_type": "markdown",
   "metadata": {},
   "source": [
    "### 8.3.2.   Расчеты"
   ]
  },
  {
   "cell_type": "code",
   "execution_count": 99,
   "metadata": {},
   "outputs": [],
   "source": [
    "moscow_users_pivot = all_users_pivot.query('city == \"Москва\"')\n",
    "regions_users_pivot = all_users_pivot.query('city != \"Москва\"')\n",
    "\n",
    "moscow_users_pivot_fee = moscow_users_pivot['month_fee'].tolist()\n",
    "regions_users_pivot_fee = regions_users_pivot['month_fee'].tolist()"
   ]
  },
  {
   "cell_type": "code",
   "execution_count": 100,
   "metadata": {},
   "outputs": [],
   "source": [
    "regions_results = st.ttest_ind(moscow_users_pivot_fee,\n",
    "                       regions_users_pivot_fee,\n",
    "                       equal_var = False)"
   ]
  },
  {
   "cell_type": "code",
   "execution_count": 101,
   "metadata": {},
   "outputs": [
    {
     "data": {
      "text/plain": [
       "0.40844519197438356"
      ]
     },
     "execution_count": 101,
     "metadata": {},
     "output_type": "execute_result"
    }
   ],
   "source": [
    "regions_results.pvalue"
   ]
  },
  {
   "cell_type": "markdown",
   "metadata": {},
   "source": [
    "### 8.3.3.   Вывод"
   ]
  },
  {
   "cell_type": "markdown",
   "metadata": {},
   "source": [
    "<div style=\"background-color: #fff0e0; padding: 10px; font-family: monospace; font-size: 15px\">\n",
    "Очень высокий показатель p-value, вследствие чего мы принимаем за истину нулевую гипотезу</div>"
   ]
  },
  {
   "cell_type": "markdown",
   "metadata": {},
   "source": [
    "# 9.   Общий вывод"
   ]
  },
  {
   "cell_type": "markdown",
   "metadata": {},
   "source": [
    "## 9.1.   Полученные данные"
   ]
  },
  {
   "cell_type": "markdown",
   "metadata": {},
   "source": [
    "<div style=\"background-color: #fff0e0; padding: 10px; font-family: monospace; font-size: 15px\">\n",
    "Данные оказались чистыми, без ошибок и аномальных значений\n",
    "<br><br>Даты приведены к нужному формату, лишние столбцы выкинуты</div>"
   ]
  },
  {
   "cell_type": "markdown",
   "metadata": {},
   "source": [
    "## 9.2.   Анализ полученных данных"
   ]
  },
  {
   "cell_type": "markdown",
   "metadata": {},
   "source": [
    "<div style=\"background-color: #fff0e0; padding: 10px; font-family: monospace; font-size: 15px\">\n",
    "Тариф smart разумно подходит к своим лимитам – большинство людей остаются в их границах, используя по полной\n",
    "<br><br>Однако, и процет людей, приносящих дополнительную прибыль посредством покупки дополнительных пакетов, высок\n",
    "<br><br>Тариф ultra имеет излишний лимит сообщений и минут, который не расходуют даже на половину\n",
    "<br><br>На тарифе ultra разумным виден лимит интернета, так как достаточное количество людей докупают дополнительные Гб</div>"
   ]
  },
  {
   "cell_type": "markdown",
   "metadata": {},
   "source": [
    "## 9.3.   Гипотезы"
   ]
  },
  {
   "cell_type": "markdown",
   "metadata": {},
   "source": [
    "### 9.3.1.   Выручка по тарифам различается"
   ]
  },
  {
   "cell_type": "markdown",
   "metadata": {},
   "source": [
    "<div style=\"background-color: #fff0e0; padding: 10px; font-family: monospace; font-size: 15px\">\n",
    "Это действительно так, выручка на тарифе smart и на тарифе ultra различается – как правило, со smart выручка больше, что доказывают и ручные рассчеты, и встроенные решения</div>"
   ]
  },
  {
   "cell_type": "markdown",
   "metadata": {},
   "source": [
    "### 9.3.2.   Выручка по регионам отличается от Москвы"
   ]
  },
  {
   "cell_type": "markdown",
   "metadata": {},
   "source": [
    "<div style=\"background-color: #fff0e0; padding: 10px; font-family: monospace; font-size: 15px\">\n",
    "Эта гипотеза не подтвердилась, выручка по регионам отличается не так сильно</div>"
   ]
  },
  {
   "cell_type": "markdown",
   "metadata": {},
   "source": [
    "## 9.4.   Итог"
   ]
  },
  {
   "cell_type": "markdown",
   "metadata": {},
   "source": [
    "<div style=\"background-color: #fff0e0; padding: 10px; font-family: monospace; font-size: 15px\">\n",
    "Наилучшим тарифом является тариф smart, так как там более точно подобраны </div>"
   ]
  }
 ],
 "metadata": {
  "ExecuteTimeLog": [
   {
    "duration": 474,
    "start_time": "2022-04-10T22:46:50.193Z"
   },
   {
    "duration": 471,
    "start_time": "2022-04-10T22:48:15.164Z"
   },
   {
    "duration": 23,
    "start_time": "2022-04-10T22:48:21.131Z"
   },
   {
    "duration": 34,
    "start_time": "2022-04-10T22:48:27.327Z"
   },
   {
    "duration": 37,
    "start_time": "2022-04-10T22:48:42.010Z"
   },
   {
    "duration": 24,
    "start_time": "2022-04-10T22:49:23.049Z"
   },
   {
    "duration": 33,
    "start_time": "2022-04-10T22:49:31.590Z"
   },
   {
    "duration": 46,
    "start_time": "2022-04-10T22:50:38.735Z"
   },
   {
    "duration": 47,
    "start_time": "2022-04-10T22:50:52.564Z"
   },
   {
    "duration": 12,
    "start_time": "2022-04-10T22:50:56.005Z"
   },
   {
    "duration": 25,
    "start_time": "2022-04-10T22:51:01.393Z"
   },
   {
    "duration": 13,
    "start_time": "2022-04-10T22:51:19.410Z"
   },
   {
    "duration": 28,
    "start_time": "2022-04-10T22:51:26.102Z"
   },
   {
    "duration": 38,
    "start_time": "2022-04-10T22:52:17.088Z"
   },
   {
    "duration": 26,
    "start_time": "2022-04-10T22:53:20.439Z"
   },
   {
    "duration": 36,
    "start_time": "2022-04-10T22:56:12.466Z"
   },
   {
    "duration": 10,
    "start_time": "2022-04-10T22:56:23.826Z"
   },
   {
    "duration": 21,
    "start_time": "2022-04-10T22:56:53.542Z"
   },
   {
    "duration": 27,
    "start_time": "2022-04-10T22:57:05.314Z"
   },
   {
    "duration": 26,
    "start_time": "2022-04-10T22:57:05.366Z"
   },
   {
    "duration": 30,
    "start_time": "2022-04-10T22:57:26.601Z"
   },
   {
    "duration": 11,
    "start_time": "2022-04-10T22:57:34.601Z"
   },
   {
    "duration": 15,
    "start_time": "2022-04-10T22:57:46.546Z"
   },
   {
    "duration": 17,
    "start_time": "2022-04-10T22:58:44.348Z"
   },
   {
    "duration": 6,
    "start_time": "2022-04-10T22:59:10.540Z"
   },
   {
    "duration": 7,
    "start_time": "2022-04-10T22:59:25.510Z"
   },
   {
    "duration": 8,
    "start_time": "2022-04-10T22:59:35.205Z"
   },
   {
    "duration": 6,
    "start_time": "2022-04-10T23:00:28.242Z"
   },
   {
    "duration": 8,
    "start_time": "2022-04-10T23:01:16.491Z"
   },
   {
    "duration": 5,
    "start_time": "2022-04-10T23:03:53.451Z"
   },
   {
    "duration": 11,
    "start_time": "2022-04-10T23:03:56.857Z"
   },
   {
    "duration": 127,
    "start_time": "2022-04-10T23:04:58.082Z"
   },
   {
    "duration": 12,
    "start_time": "2022-04-10T23:04:58.877Z"
   },
   {
    "duration": 13,
    "start_time": "2022-04-10T23:10:58.580Z"
   },
   {
    "duration": 22,
    "start_time": "2022-04-10T23:10:59.278Z"
   },
   {
    "duration": 33,
    "start_time": "2022-04-10T23:11:01.313Z"
   },
   {
    "duration": 7,
    "start_time": "2022-04-10T23:11:03.259Z"
   },
   {
    "duration": 21,
    "start_time": "2022-04-10T23:11:06.980Z"
   },
   {
    "duration": 3,
    "start_time": "2022-04-10T23:13:17.694Z"
   },
   {
    "duration": 97,
    "start_time": "2022-04-10T23:13:50.692Z"
   },
   {
    "duration": 29,
    "start_time": "2022-04-10T23:15:02.336Z"
   },
   {
    "duration": 13,
    "start_time": "2022-04-10T23:15:06.619Z"
   },
   {
    "duration": 29,
    "start_time": "2022-04-10T23:16:24.695Z"
   },
   {
    "duration": 84,
    "start_time": "2022-04-10T23:16:34.883Z"
   },
   {
    "duration": 86,
    "start_time": "2022-04-10T23:17:01.684Z"
   },
   {
    "duration": 82,
    "start_time": "2022-04-10T23:17:20.226Z"
   },
   {
    "duration": 69,
    "start_time": "2022-04-10T23:17:48.487Z"
   },
   {
    "duration": 12,
    "start_time": "2022-04-10T23:17:57.891Z"
   },
   {
    "duration": 17,
    "start_time": "2022-04-10T23:18:17.306Z"
   },
   {
    "duration": 16,
    "start_time": "2022-04-10T23:18:49.773Z"
   },
   {
    "duration": 18,
    "start_time": "2022-04-10T23:19:55.709Z"
   },
   {
    "duration": 11,
    "start_time": "2022-04-10T23:20:01.669Z"
   },
   {
    "duration": 14,
    "start_time": "2022-04-10T23:20:15.862Z"
   },
   {
    "duration": 21,
    "start_time": "2022-04-10T23:20:52.051Z"
   },
   {
    "duration": 28,
    "start_time": "2022-04-10T23:21:01.341Z"
   },
   {
    "duration": 13,
    "start_time": "2022-04-10T23:21:02.037Z"
   },
   {
    "duration": 17,
    "start_time": "2022-04-10T23:21:02.813Z"
   },
   {
    "duration": 24,
    "start_time": "2022-04-10T23:21:57.897Z"
   },
   {
    "duration": 19,
    "start_time": "2022-04-10T23:22:02.106Z"
   },
   {
    "duration": 27,
    "start_time": "2022-04-10T23:23:16.624Z"
   },
   {
    "duration": 17,
    "start_time": "2022-04-10T23:23:24.531Z"
   },
   {
    "duration": 13,
    "start_time": "2022-04-10T23:24:56.279Z"
   },
   {
    "duration": 1572,
    "start_time": "2022-04-10T23:25:14.621Z"
   },
   {
    "duration": 20,
    "start_time": "2022-04-10T23:25:28.860Z"
   },
   {
    "duration": 1496,
    "start_time": "2022-04-10T23:25:36.245Z"
   },
   {
    "duration": 1808,
    "start_time": "2022-04-10T23:26:00.133Z"
   },
   {
    "duration": 9,
    "start_time": "2022-04-10T23:26:14.920Z"
   },
   {
    "duration": 14,
    "start_time": "2022-04-10T23:26:23.261Z"
   },
   {
    "duration": 11,
    "start_time": "2022-04-10T23:26:29.887Z"
   },
   {
    "duration": 14,
    "start_time": "2022-04-10T23:26:30.546Z"
   },
   {
    "duration": 7,
    "start_time": "2022-04-10T23:26:56.684Z"
   },
   {
    "duration": 14,
    "start_time": "2022-04-10T23:27:02.424Z"
   },
   {
    "duration": 18,
    "start_time": "2022-04-10T23:27:29.258Z"
   },
   {
    "duration": 14,
    "start_time": "2022-04-10T23:29:11.644Z"
   },
   {
    "duration": 13,
    "start_time": "2022-04-10T23:29:27.142Z"
   },
   {
    "duration": 126,
    "start_time": "2022-04-10T23:29:32.308Z"
   },
   {
    "duration": 11,
    "start_time": "2022-04-10T23:30:46.044Z"
   },
   {
    "duration": 20,
    "start_time": "2022-04-10T23:32:11.068Z"
   },
   {
    "duration": 43,
    "start_time": "2022-04-10T23:33:26.175Z"
   },
   {
    "duration": 1110,
    "start_time": "2022-04-10T23:34:11.276Z"
   },
   {
    "duration": 1139,
    "start_time": "2022-04-10T23:34:36.804Z"
   },
   {
    "duration": 1453,
    "start_time": "2022-04-10T23:35:07.300Z"
   },
   {
    "duration": 1684,
    "start_time": "2022-04-10T23:35:25.653Z"
   },
   {
    "duration": 1574,
    "start_time": "2022-04-10T23:35:32.585Z"
   },
   {
    "duration": 8,
    "start_time": "2022-04-10T23:58:52.896Z"
   },
   {
    "duration": 7,
    "start_time": "2022-04-10T23:59:08.648Z"
   },
   {
    "duration": 10,
    "start_time": "2022-04-10T23:59:57.033Z"
   },
   {
    "duration": 1645,
    "start_time": "2022-04-11T00:01:59.981Z"
   },
   {
    "duration": 24,
    "start_time": "2022-04-11T00:02:19.953Z"
   },
   {
    "duration": 1675,
    "start_time": "2022-04-11T00:02:30.509Z"
   },
   {
    "duration": 8757,
    "start_time": "2022-04-11T00:03:03.696Z"
   },
   {
    "duration": 22,
    "start_time": "2022-04-11T00:03:16.748Z"
   },
   {
    "duration": 15751,
    "start_time": "2022-04-11T00:06:16.869Z"
   },
   {
    "duration": 28,
    "start_time": "2022-04-11T00:06:33.580Z"
   },
   {
    "duration": 17275,
    "start_time": "2022-04-11T00:07:36.683Z"
   },
   {
    "duration": 22,
    "start_time": "2022-04-11T00:08:04.839Z"
   },
   {
    "duration": 13,
    "start_time": "2022-04-11T00:08:20.112Z"
   },
   {
    "duration": 10,
    "start_time": "2022-04-11T00:12:40.783Z"
   },
   {
    "duration": 15,
    "start_time": "2022-04-11T00:12:47.238Z"
   },
   {
    "duration": 14,
    "start_time": "2022-04-11T00:14:38.878Z"
   },
   {
    "duration": 14,
    "start_time": "2022-04-11T00:14:39.719Z"
   },
   {
    "duration": 11,
    "start_time": "2022-04-11T00:17:56.076Z"
   },
   {
    "duration": 16,
    "start_time": "2022-04-11T00:17:59.510Z"
   },
   {
    "duration": 15,
    "start_time": "2022-04-11T00:18:38.859Z"
   },
   {
    "duration": 15,
    "start_time": "2022-04-11T00:18:39.595Z"
   },
   {
    "duration": 9,
    "start_time": "2022-04-11T00:19:01.803Z"
   },
   {
    "duration": 16,
    "start_time": "2022-04-11T00:19:02.600Z"
   },
   {
    "duration": 9,
    "start_time": "2022-04-11T00:19:24.819Z"
   },
   {
    "duration": 15,
    "start_time": "2022-04-11T00:19:25.432Z"
   },
   {
    "duration": 13,
    "start_time": "2022-04-11T00:19:33.040Z"
   },
   {
    "duration": 15,
    "start_time": "2022-04-11T00:19:33.483Z"
   },
   {
    "duration": 579,
    "start_time": "2022-04-12T07:55:33.278Z"
   },
   {
    "duration": 580,
    "start_time": "2022-04-12T07:55:33.860Z"
   },
   {
    "duration": 32,
    "start_time": "2022-04-12T07:55:34.974Z"
   },
   {
    "duration": 48,
    "start_time": "2022-04-12T07:55:35.377Z"
   },
   {
    "duration": 40,
    "start_time": "2022-04-12T07:55:35.510Z"
   },
   {
    "duration": 36,
    "start_time": "2022-04-12T07:55:35.728Z"
   },
   {
    "duration": 51,
    "start_time": "2022-04-12T07:55:35.915Z"
   },
   {
    "duration": 153,
    "start_time": "2022-04-12T07:55:36.117Z"
   },
   {
    "duration": 23,
    "start_time": "2022-04-12T07:55:36.286Z"
   },
   {
    "duration": 12,
    "start_time": "2022-04-12T07:55:36.665Z"
   },
   {
    "duration": 12,
    "start_time": "2022-04-12T07:55:36.865Z"
   },
   {
    "duration": 28,
    "start_time": "2022-04-12T07:55:37.050Z"
   },
   {
    "duration": 35,
    "start_time": "2022-04-12T07:55:37.257Z"
   },
   {
    "duration": 29,
    "start_time": "2022-04-12T07:55:37.448Z"
   },
   {
    "duration": 39,
    "start_time": "2022-04-12T07:55:37.640Z"
   },
   {
    "duration": 10,
    "start_time": "2022-04-12T07:55:38.018Z"
   },
   {
    "duration": 26,
    "start_time": "2022-04-12T07:55:38.205Z"
   },
   {
    "duration": 24,
    "start_time": "2022-04-12T07:55:38.429Z"
   },
   {
    "duration": 31,
    "start_time": "2022-04-12T07:55:38.812Z"
   },
   {
    "duration": 16,
    "start_time": "2022-04-12T07:55:39.217Z"
   },
   {
    "duration": 16,
    "start_time": "2022-04-12T07:55:39.605Z"
   },
   {
    "duration": 17,
    "start_time": "2022-04-12T07:55:39.824Z"
   },
   {
    "duration": 6,
    "start_time": "2022-04-12T07:55:40.374Z"
   },
   {
    "duration": 7,
    "start_time": "2022-04-12T07:55:40.636Z"
   },
   {
    "duration": 6,
    "start_time": "2022-04-12T07:55:40.870Z"
   },
   {
    "duration": 10,
    "start_time": "2022-04-12T07:55:41.080Z"
   },
   {
    "duration": 4,
    "start_time": "2022-04-12T07:55:41.733Z"
   },
   {
    "duration": 33,
    "start_time": "2022-04-12T07:55:41.937Z"
   },
   {
    "duration": 13,
    "start_time": "2022-04-12T07:55:42.147Z"
   },
   {
    "duration": 89,
    "start_time": "2022-04-12T07:55:42.368Z"
   },
   {
    "duration": 13,
    "start_time": "2022-04-12T07:55:42.601Z"
   },
   {
    "duration": 4,
    "start_time": "2022-04-12T07:55:43.003Z"
   },
   {
    "duration": 21,
    "start_time": "2022-04-12T07:55:43.222Z"
   },
   {
    "duration": 30,
    "start_time": "2022-04-12T07:55:43.410Z"
   },
   {
    "duration": 11,
    "start_time": "2022-04-12T07:55:43.632Z"
   },
   {
    "duration": 25,
    "start_time": "2022-04-12T07:55:44.040Z"
   },
   {
    "duration": 29,
    "start_time": "2022-04-12T07:55:44.255Z"
   },
   {
    "duration": 11,
    "start_time": "2022-04-12T07:55:44.465Z"
   },
   {
    "duration": 13,
    "start_time": "2022-04-12T07:55:44.652Z"
   },
   {
    "duration": 24,
    "start_time": "2022-04-12T07:55:45.290Z"
   },
   {
    "duration": 16,
    "start_time": "2022-04-12T07:55:45.511Z"
   },
   {
    "duration": 15,
    "start_time": "2022-04-12T07:55:45.700Z"
   },
   {
    "duration": 19784,
    "start_time": "2022-04-12T07:55:45.903Z"
   },
   {
    "duration": 24,
    "start_time": "2022-04-12T07:56:05.690Z"
   },
   {
    "duration": 28,
    "start_time": "2022-04-12T07:56:05.717Z"
   },
   {
    "duration": 48,
    "start_time": "2022-04-12T07:56:05.748Z"
   },
   {
    "duration": 25,
    "start_time": "2022-04-12T07:57:29.139Z"
   },
   {
    "duration": 13,
    "start_time": "2022-04-12T07:57:36.407Z"
   },
   {
    "duration": 21065,
    "start_time": "2022-04-12T07:59:29.140Z"
   },
   {
    "duration": 17,
    "start_time": "2022-04-12T07:59:55.557Z"
   },
   {
    "duration": 118,
    "start_time": "2022-04-12T08:03:13.200Z"
   },
   {
    "duration": 14,
    "start_time": "2022-04-12T08:03:21.654Z"
   },
   {
    "duration": 15,
    "start_time": "2022-04-12T08:03:23.101Z"
   },
   {
    "duration": 15,
    "start_time": "2022-04-12T08:04:15.402Z"
   },
   {
    "duration": 21,
    "start_time": "2022-04-12T08:04:16.102Z"
   },
   {
    "duration": 22,
    "start_time": "2022-04-12T08:05:09.802Z"
   },
   {
    "duration": 14,
    "start_time": "2022-04-12T08:05:32.907Z"
   },
   {
    "duration": 21835,
    "start_time": "2022-04-12T08:06:18.671Z"
   },
   {
    "duration": 14,
    "start_time": "2022-04-12T08:06:47.798Z"
   },
   {
    "duration": 20826,
    "start_time": "2022-04-12T08:07:24.110Z"
   },
   {
    "duration": 15,
    "start_time": "2022-04-12T08:08:13.216Z"
   },
   {
    "duration": 30,
    "start_time": "2022-04-12T08:09:07.887Z"
   },
   {
    "duration": 27,
    "start_time": "2022-04-12T08:09:09.281Z"
   },
   {
    "duration": 23,
    "start_time": "2022-04-12T08:09:56.998Z"
   },
   {
    "duration": 17,
    "start_time": "2022-04-12T08:09:57.640Z"
   },
   {
    "duration": 14,
    "start_time": "2022-04-12T08:11:39.055Z"
   },
   {
    "duration": 14,
    "start_time": "2022-04-12T08:11:39.778Z"
   },
   {
    "duration": 22,
    "start_time": "2022-04-12T08:13:19.381Z"
   },
   {
    "duration": 15,
    "start_time": "2022-04-12T08:13:19.798Z"
   },
   {
    "duration": 33,
    "start_time": "2022-04-12T08:13:43.378Z"
   },
   {
    "duration": 16,
    "start_time": "2022-04-12T08:13:43.758Z"
   },
   {
    "duration": 4,
    "start_time": "2022-04-12T08:15:19.397Z"
   },
   {
    "duration": 22,
    "start_time": "2022-04-12T08:15:36.005Z"
   },
   {
    "duration": 50,
    "start_time": "2022-04-12T08:15:52.647Z"
   },
   {
    "duration": 42,
    "start_time": "2022-04-12T08:16:03.223Z"
   },
   {
    "duration": 22,
    "start_time": "2022-04-12T08:16:08.842Z"
   },
   {
    "duration": 66,
    "start_time": "2022-04-12T08:16:34.310Z"
   },
   {
    "duration": 12,
    "start_time": "2022-04-12T08:16:57.101Z"
   },
   {
    "duration": 23,
    "start_time": "2022-04-12T08:17:12.158Z"
   },
   {
    "duration": 15,
    "start_time": "2022-04-12T08:18:21.271Z"
   },
   {
    "duration": 898,
    "start_time": "2022-04-12T08:18:25.772Z"
   },
   {
    "duration": 348,
    "start_time": "2022-04-12T08:18:58.430Z"
   },
   {
    "duration": 257,
    "start_time": "2022-04-12T08:19:03.913Z"
   },
   {
    "duration": 249,
    "start_time": "2022-04-12T08:19:12.453Z"
   },
   {
    "duration": 254,
    "start_time": "2022-04-12T08:19:19.608Z"
   },
   {
    "duration": 22,
    "start_time": "2022-04-12T08:21:54.305Z"
   },
   {
    "duration": 290,
    "start_time": "2022-04-12T08:22:32.670Z"
   },
   {
    "duration": 3,
    "start_time": "2022-04-12T08:22:53.546Z"
   },
   {
    "duration": 3,
    "start_time": "2022-04-12T08:23:34.509Z"
   },
   {
    "duration": 4,
    "start_time": "2022-04-12T08:23:37.233Z"
   },
   {
    "duration": 33,
    "start_time": "2022-04-12T08:23:48.173Z"
   },
   {
    "duration": 263,
    "start_time": "2022-04-12T08:24:06.602Z"
   },
   {
    "duration": 285,
    "start_time": "2022-04-12T08:24:17.217Z"
   },
   {
    "duration": 267,
    "start_time": "2022-04-12T08:24:25.312Z"
   },
   {
    "duration": 368,
    "start_time": "2022-04-12T08:24:30.688Z"
   },
   {
    "duration": 10,
    "start_time": "2022-04-12T08:26:07.553Z"
   },
   {
    "duration": 12,
    "start_time": "2022-04-12T08:26:17.459Z"
   },
   {
    "duration": 10,
    "start_time": "2022-04-12T08:26:33.502Z"
   },
   {
    "duration": 17,
    "start_time": "2022-04-12T08:27:52.614Z"
   },
   {
    "duration": 16,
    "start_time": "2022-04-12T08:28:38.098Z"
   },
   {
    "duration": 15,
    "start_time": "2022-04-12T08:29:56.339Z"
   },
   {
    "duration": 270,
    "start_time": "2022-04-12T08:29:57.523Z"
   },
   {
    "duration": 1964,
    "start_time": "2022-04-12T08:30:37.062Z"
   },
   {
    "duration": 25,
    "start_time": "2022-04-12T08:30:46.718Z"
   },
   {
    "duration": 24,
    "start_time": "2022-04-12T08:31:02.151Z"
   },
   {
    "duration": 21,
    "start_time": "2022-04-12T08:35:17.097Z"
   },
   {
    "duration": 1780,
    "start_time": "2022-04-12T08:35:30.480Z"
   },
   {
    "duration": 28,
    "start_time": "2022-04-12T08:35:40.378Z"
   },
   {
    "duration": 4100,
    "start_time": "2022-04-12T08:35:45.846Z"
   },
   {
    "duration": 109,
    "start_time": "2022-04-12T08:35:54.502Z"
   },
   {
    "duration": 21,
    "start_time": "2022-04-12T08:35:58.951Z"
   },
   {
    "duration": 24,
    "start_time": "2022-04-12T08:36:11.315Z"
   },
   {
    "duration": 18,
    "start_time": "2022-04-12T08:36:54.292Z"
   },
   {
    "duration": 17,
    "start_time": "2022-04-12T08:37:25.297Z"
   },
   {
    "duration": 27,
    "start_time": "2022-04-12T08:37:36.216Z"
   },
   {
    "duration": 18,
    "start_time": "2022-04-12T08:38:27.568Z"
   },
   {
    "duration": 280,
    "start_time": "2022-04-12T08:38:52.640Z"
   },
   {
    "duration": 18,
    "start_time": "2022-04-12T08:39:10.065Z"
   },
   {
    "duration": 19,
    "start_time": "2022-04-12T08:39:25.598Z"
   },
   {
    "duration": 276,
    "start_time": "2022-04-12T08:39:29.981Z"
   },
   {
    "duration": 34,
    "start_time": "2022-04-12T08:39:54.888Z"
   },
   {
    "duration": 288,
    "start_time": "2022-04-12T08:40:01.481Z"
   },
   {
    "duration": 3,
    "start_time": "2022-04-12T08:47:39.735Z"
   },
   {
    "duration": 32,
    "start_time": "2022-04-12T08:47:46.619Z"
   },
   {
    "duration": 4050,
    "start_time": "2022-04-12T08:48:08.886Z"
   },
   {
    "duration": 34,
    "start_time": "2022-04-12T08:48:23.772Z"
   },
   {
    "duration": 8,
    "start_time": "2022-04-12T08:48:38.807Z"
   },
   {
    "duration": 23,
    "start_time": "2022-04-12T08:48:52.028Z"
   },
   {
    "duration": 11,
    "start_time": "2022-04-12T08:48:57.504Z"
   },
   {
    "duration": 23,
    "start_time": "2022-04-12T08:49:02.727Z"
   },
   {
    "duration": 36,
    "start_time": "2022-04-12T08:51:30.473Z"
   },
   {
    "duration": 12,
    "start_time": "2022-04-12T08:52:20.704Z"
   },
   {
    "duration": 11,
    "start_time": "2022-04-12T08:52:25.550Z"
   },
   {
    "duration": 3,
    "start_time": "2022-04-12T08:52:41.402Z"
   },
   {
    "duration": 54,
    "start_time": "2022-04-12T08:53:28.407Z"
   },
   {
    "duration": 3,
    "start_time": "2022-04-12T08:53:50.334Z"
   },
   {
    "duration": 8,
    "start_time": "2022-04-12T08:54:02.796Z"
   },
   {
    "duration": 3,
    "start_time": "2022-04-12T08:54:15.873Z"
   },
   {
    "duration": 3,
    "start_time": "2022-04-12T08:54:24.770Z"
   },
   {
    "duration": 4,
    "start_time": "2022-04-12T08:54:33.241Z"
   },
   {
    "duration": 47,
    "start_time": "2022-04-12T08:54:56.906Z"
   },
   {
    "duration": 25,
    "start_time": "2022-04-12T08:55:11.577Z"
   },
   {
    "duration": 50,
    "start_time": "2022-04-12T08:55:22.124Z"
   },
   {
    "duration": 118,
    "start_time": "2022-04-12T08:55:41.270Z"
   },
   {
    "duration": 140,
    "start_time": "2022-04-12T08:56:42.620Z"
   },
   {
    "duration": 129,
    "start_time": "2022-04-12T08:56:50.445Z"
   },
   {
    "duration": 85,
    "start_time": "2022-04-12T08:56:53.218Z"
   },
   {
    "duration": 9,
    "start_time": "2022-04-12T08:57:23.819Z"
   },
   {
    "duration": 98,
    "start_time": "2022-04-12T08:57:50.802Z"
   },
   {
    "duration": 3,
    "start_time": "2022-04-12T08:58:33.640Z"
   },
   {
    "duration": 9,
    "start_time": "2022-04-12T08:58:38.298Z"
   },
   {
    "duration": 4,
    "start_time": "2022-04-12T08:59:13.232Z"
   },
   {
    "duration": 10,
    "start_time": "2022-04-12T08:59:19.992Z"
   },
   {
    "duration": 10,
    "start_time": "2022-04-12T08:59:27.866Z"
   },
   {
    "duration": 12,
    "start_time": "2022-04-12T08:59:32.383Z"
   },
   {
    "duration": 12,
    "start_time": "2022-04-12T08:59:38.797Z"
   },
   {
    "duration": 200,
    "start_time": "2022-04-12T08:59:47.609Z"
   },
   {
    "duration": 231,
    "start_time": "2022-04-12T08:59:59.262Z"
   },
   {
    "duration": 241,
    "start_time": "2022-04-12T09:00:15.415Z"
   },
   {
    "duration": 5,
    "start_time": "2022-04-12T09:00:45.322Z"
   },
   {
    "duration": 82,
    "start_time": "2022-04-12T09:00:50.144Z"
   },
   {
    "duration": 81,
    "start_time": "2022-04-12T09:00:52.793Z"
   },
   {
    "duration": 1128,
    "start_time": "2022-04-13T13:01:08.792Z"
   },
   {
    "duration": 526,
    "start_time": "2022-04-13T13:01:09.923Z"
   },
   {
    "duration": 17,
    "start_time": "2022-04-13T13:01:10.451Z"
   },
   {
    "duration": 37,
    "start_time": "2022-04-13T13:01:10.471Z"
   },
   {
    "duration": 39,
    "start_time": "2022-04-13T13:01:10.510Z"
   },
   {
    "duration": 66,
    "start_time": "2022-04-13T13:01:10.551Z"
   },
   {
    "duration": 46,
    "start_time": "2022-04-13T13:01:10.619Z"
   },
   {
    "duration": 156,
    "start_time": "2022-04-13T13:01:10.667Z"
   },
   {
    "duration": 12,
    "start_time": "2022-04-13T13:01:10.825Z"
   },
   {
    "duration": 14,
    "start_time": "2022-04-13T13:01:10.841Z"
   },
   {
    "duration": 44,
    "start_time": "2022-04-13T13:01:10.859Z"
   },
   {
    "duration": 30,
    "start_time": "2022-04-13T13:01:10.907Z"
   },
   {
    "duration": 57,
    "start_time": "2022-04-13T13:01:10.940Z"
   },
   {
    "duration": 29,
    "start_time": "2022-04-13T13:01:10.999Z"
   },
   {
    "duration": 63,
    "start_time": "2022-04-13T13:01:11.030Z"
   },
   {
    "duration": 12,
    "start_time": "2022-04-13T13:01:11.095Z"
   },
   {
    "duration": 27,
    "start_time": "2022-04-13T13:01:11.110Z"
   },
   {
    "duration": 59,
    "start_time": "2022-04-13T13:01:11.139Z"
   },
   {
    "duration": 32,
    "start_time": "2022-04-13T13:01:11.202Z"
   },
   {
    "duration": 12,
    "start_time": "2022-04-13T13:01:11.236Z"
   },
   {
    "duration": 44,
    "start_time": "2022-04-13T13:01:11.251Z"
   },
   {
    "duration": 16,
    "start_time": "2022-04-13T13:01:11.297Z"
   },
   {
    "duration": 8,
    "start_time": "2022-04-13T13:01:11.315Z"
   },
   {
    "duration": 10,
    "start_time": "2022-04-13T13:01:11.325Z"
   },
   {
    "duration": 7,
    "start_time": "2022-04-13T13:01:11.337Z"
   },
   {
    "duration": 52,
    "start_time": "2022-04-13T13:01:11.346Z"
   },
   {
    "duration": 6,
    "start_time": "2022-04-13T13:01:11.400Z"
   },
   {
    "duration": 34,
    "start_time": "2022-04-13T13:01:11.413Z"
   },
   {
    "duration": 48,
    "start_time": "2022-04-13T13:01:11.449Z"
   },
   {
    "duration": 76,
    "start_time": "2022-04-13T13:01:11.500Z"
   },
   {
    "duration": 15,
    "start_time": "2022-04-13T13:01:11.594Z"
   },
   {
    "duration": 4,
    "start_time": "2022-04-13T13:01:11.612Z"
   },
   {
    "duration": 43,
    "start_time": "2022-04-13T13:01:11.618Z"
   },
   {
    "duration": 58,
    "start_time": "2022-04-13T13:01:11.664Z"
   },
   {
    "duration": 14,
    "start_time": "2022-04-13T13:01:11.724Z"
   },
   {
    "duration": 26,
    "start_time": "2022-04-13T13:01:11.740Z"
   },
   {
    "duration": 35,
    "start_time": "2022-04-13T13:01:11.793Z"
   },
   {
    "duration": 10,
    "start_time": "2022-04-13T13:01:11.830Z"
   },
   {
    "duration": 15,
    "start_time": "2022-04-13T13:01:11.843Z"
   },
   {
    "duration": 42,
    "start_time": "2022-04-13T13:01:11.860Z"
   },
   {
    "duration": 16,
    "start_time": "2022-04-13T13:01:11.906Z"
   },
   {
    "duration": 17,
    "start_time": "2022-04-13T13:01:11.924Z"
   },
   {
    "duration": 17308,
    "start_time": "2022-04-13T13:01:11.943Z"
   },
   {
    "duration": 17,
    "start_time": "2022-04-13T13:01:29.254Z"
   },
   {
    "duration": 35,
    "start_time": "2022-04-13T13:01:29.273Z"
   },
   {
    "duration": 16,
    "start_time": "2022-04-13T13:01:29.310Z"
   },
   {
    "duration": 13,
    "start_time": "2022-04-13T13:01:29.328Z"
   },
   {
    "duration": 14873,
    "start_time": "2022-04-13T13:01:29.344Z"
   },
   {
    "duration": 16,
    "start_time": "2022-04-13T13:01:44.220Z"
   },
   {
    "duration": 21,
    "start_time": "2022-04-13T13:01:44.238Z"
   },
   {
    "duration": 44,
    "start_time": "2022-04-13T13:01:44.261Z"
   },
   {
    "duration": 14,
    "start_time": "2022-04-13T13:01:44.308Z"
   },
   {
    "duration": 17447,
    "start_time": "2022-04-13T13:01:44.324Z"
   },
   {
    "duration": 31,
    "start_time": "2022-04-13T13:02:01.773Z"
   },
   {
    "duration": 26,
    "start_time": "2022-04-13T13:02:01.808Z"
   },
   {
    "duration": 16,
    "start_time": "2022-04-13T13:02:01.837Z"
   },
   {
    "duration": 21,
    "start_time": "2022-04-13T13:02:01.854Z"
   },
   {
    "duration": 17,
    "start_time": "2022-04-13T13:02:01.894Z"
   },
   {
    "duration": 293,
    "start_time": "2022-04-13T13:02:01.914Z"
   },
   {
    "duration": 4,
    "start_time": "2022-04-13T13:02:02.209Z"
   },
   {
    "duration": 8,
    "start_time": "2022-04-13T13:02:02.214Z"
   },
   {
    "duration": 23,
    "start_time": "2022-04-13T13:02:02.224Z"
   },
   {
    "duration": 347,
    "start_time": "2022-04-13T13:02:02.249Z"
   },
   {
    "duration": 4,
    "start_time": "2022-04-13T13:02:02.598Z"
   },
   {
    "duration": 28,
    "start_time": "2022-04-13T13:02:02.605Z"
   },
   {
    "duration": 289,
    "start_time": "2022-04-13T13:02:02.635Z"
   },
   {
    "duration": 4,
    "start_time": "2022-04-13T13:02:02.926Z"
   },
   {
    "duration": 17,
    "start_time": "2022-04-13T13:02:02.932Z"
   },
   {
    "duration": 287,
    "start_time": "2022-04-13T13:02:02.950Z"
   },
   {
    "duration": 3,
    "start_time": "2022-04-13T13:02:03.239Z"
   },
   {
    "duration": 17,
    "start_time": "2022-04-13T13:02:03.244Z"
   },
   {
    "duration": 281,
    "start_time": "2022-04-13T13:02:03.263Z"
   },
   {
    "duration": 4,
    "start_time": "2022-04-13T13:02:03.546Z"
   },
   {
    "duration": 48,
    "start_time": "2022-04-13T13:02:03.552Z"
   },
   {
    "duration": 270,
    "start_time": "2022-04-13T13:02:03.602Z"
   },
   {
    "duration": 3,
    "start_time": "2022-04-13T13:02:03.875Z"
   },
   {
    "duration": 15,
    "start_time": "2022-04-13T13:02:03.881Z"
   },
   {
    "duration": 26,
    "start_time": "2022-04-13T13:02:03.899Z"
   },
   {
    "duration": 102,
    "start_time": "2022-04-13T13:02:03.927Z"
   },
   {
    "duration": 3,
    "start_time": "2022-04-13T13:02:04.031Z"
   },
   {
    "duration": 20,
    "start_time": "2022-04-13T13:02:04.036Z"
   },
   {
    "duration": 3,
    "start_time": "2022-04-13T13:02:04.064Z"
   },
   {
    "duration": 6,
    "start_time": "2022-04-13T13:02:04.069Z"
   },
   {
    "duration": 81,
    "start_time": "2022-04-13T13:02:04.094Z"
   },
   {
    "duration": 16,
    "start_time": "2022-04-13T13:02:04.177Z"
   },
   {
    "duration": 13,
    "start_time": "2022-04-13T13:02:04.196Z"
   },
   {
    "duration": 265,
    "start_time": "2022-04-13T13:02:04.211Z"
   },
   {
    "duration": 3,
    "start_time": "2022-04-13T13:02:31.032Z"
   },
   {
    "duration": 3,
    "start_time": "2022-04-13T13:02:43.493Z"
   },
   {
    "duration": 184,
    "start_time": "2022-04-13T13:03:20.753Z"
   },
   {
    "duration": 33,
    "start_time": "2022-04-13T13:03:48.009Z"
   },
   {
    "duration": 113,
    "start_time": "2022-04-13T13:04:40.705Z"
   },
   {
    "duration": 2,
    "start_time": "2022-04-13T13:04:52.607Z"
   },
   {
    "duration": 9,
    "start_time": "2022-04-13T13:05:04.806Z"
   },
   {
    "duration": 85,
    "start_time": "2022-04-13T13:05:16.246Z"
   },
   {
    "duration": 9,
    "start_time": "2022-04-13T13:05:29.745Z"
   },
   {
    "duration": 3,
    "start_time": "2022-04-13T13:05:46.558Z"
   },
   {
    "duration": 4,
    "start_time": "2022-04-13T13:05:53.147Z"
   },
   {
    "duration": 82,
    "start_time": "2022-04-13T13:06:22.965Z"
   },
   {
    "duration": 4,
    "start_time": "2022-04-13T13:06:36.524Z"
   },
   {
    "duration": 10,
    "start_time": "2022-04-13T13:07:32.370Z"
   },
   {
    "duration": 228,
    "start_time": "2022-04-13T13:07:53.844Z"
   },
   {
    "duration": 4,
    "start_time": "2022-04-13T13:08:48.185Z"
   },
   {
    "duration": 106,
    "start_time": "2022-04-13T13:09:20.512Z"
   },
   {
    "duration": 10,
    "start_time": "2022-04-13T13:09:36.589Z"
   },
   {
    "duration": 13,
    "start_time": "2022-04-13T13:09:47.926Z"
   },
   {
    "duration": 4,
    "start_time": "2022-04-13T13:09:58.025Z"
   },
   {
    "duration": 79,
    "start_time": "2022-04-13T13:10:04.261Z"
   },
   {
    "duration": 9,
    "start_time": "2022-04-13T13:10:11.178Z"
   },
   {
    "duration": 110,
    "start_time": "2022-04-13T13:10:42.538Z"
   },
   {
    "duration": 14,
    "start_time": "2022-04-13T13:10:49.814Z"
   },
   {
    "duration": 222,
    "start_time": "2022-04-13T13:10:56.226Z"
   },
   {
    "duration": 4,
    "start_time": "2022-04-13T13:12:08.374Z"
   },
   {
    "duration": 8,
    "start_time": "2022-04-13T13:12:28.773Z"
   },
   {
    "duration": 9,
    "start_time": "2022-04-13T13:12:41.777Z"
   },
   {
    "duration": 9,
    "start_time": "2022-04-13T13:12:57.821Z"
   },
   {
    "duration": 9,
    "start_time": "2022-04-13T13:13:11.131Z"
   },
   {
    "duration": 12,
    "start_time": "2022-04-13T13:13:26.920Z"
   },
   {
    "duration": 14,
    "start_time": "2022-04-13T13:13:39.862Z"
   },
   {
    "duration": 5,
    "start_time": "2022-04-13T13:16:12.574Z"
   },
   {
    "duration": 10,
    "start_time": "2022-04-13T13:16:28.782Z"
   },
   {
    "duration": 5,
    "start_time": "2022-04-13T13:18:12.028Z"
   },
   {
    "duration": 3,
    "start_time": "2022-04-13T13:18:23.233Z"
   },
   {
    "duration": 6,
    "start_time": "2022-04-13T13:18:43.895Z"
   },
   {
    "duration": 3,
    "start_time": "2022-04-13T13:18:53.425Z"
   },
   {
    "duration": 15,
    "start_time": "2022-04-13T13:19:17.055Z"
   },
   {
    "duration": 4,
    "start_time": "2022-04-13T13:19:42.519Z"
   },
   {
    "duration": 4,
    "start_time": "2022-04-13T13:19:51.398Z"
   },
   {
    "duration": 4,
    "start_time": "2022-04-13T13:20:13.645Z"
   },
   {
    "duration": 288,
    "start_time": "2022-04-13T13:20:34.063Z"
   },
   {
    "duration": 206,
    "start_time": "2022-04-13T13:20:43.657Z"
   },
   {
    "duration": 3,
    "start_time": "2022-04-13T13:21:17.865Z"
   },
   {
    "duration": 23,
    "start_time": "2022-04-13T13:23:08.169Z"
   },
   {
    "duration": 68,
    "start_time": "2022-04-13T13:24:19.644Z"
   },
   {
    "duration": 19,
    "start_time": "2022-04-13T13:24:25.105Z"
   },
   {
    "duration": 17,
    "start_time": "2022-04-13T13:24:36.891Z"
   },
   {
    "duration": 25,
    "start_time": "2022-04-13T13:24:46.627Z"
   },
   {
    "duration": 15,
    "start_time": "2022-04-13T13:24:51.488Z"
   },
   {
    "duration": 7,
    "start_time": "2022-04-13T13:26:00.628Z"
   },
   {
    "duration": 21,
    "start_time": "2022-04-13T13:26:08.845Z"
   },
   {
    "duration": 188,
    "start_time": "2022-04-13T13:27:32.994Z"
   },
   {
    "duration": 231,
    "start_time": "2022-04-13T13:27:39.491Z"
   },
   {
    "duration": 1284,
    "start_time": "2022-04-13T13:28:19.631Z"
   },
   {
    "duration": 12,
    "start_time": "2022-04-13T13:28:45.389Z"
   },
   {
    "duration": 16,
    "start_time": "2022-04-13T13:28:47.804Z"
   },
   {
    "duration": 48,
    "start_time": "2022-04-13T13:30:31.794Z"
   },
   {
    "duration": 12,
    "start_time": "2022-04-13T13:31:15.637Z"
   },
   {
    "duration": 29,
    "start_time": "2022-04-13T13:31:55.740Z"
   },
   {
    "duration": 7290,
    "start_time": "2022-04-13T13:32:57.178Z"
   },
   {
    "duration": 24,
    "start_time": "2022-04-13T13:33:09.711Z"
   },
   {
    "duration": 6,
    "start_time": "2022-04-13T13:33:41.663Z"
   },
   {
    "duration": 4,
    "start_time": "2022-04-13T13:33:53.450Z"
   },
   {
    "duration": 24,
    "start_time": "2022-04-13T13:34:08.570Z"
   },
   {
    "duration": 21,
    "start_time": "2022-04-13T13:34:18.829Z"
   },
   {
    "duration": 23,
    "start_time": "2022-04-13T13:34:24.598Z"
   },
   {
    "duration": 4,
    "start_time": "2022-04-13T13:34:25.875Z"
   },
   {
    "duration": 4,
    "start_time": "2022-04-13T13:34:46.767Z"
   },
   {
    "duration": 3,
    "start_time": "2022-04-13T13:36:31.806Z"
   },
   {
    "duration": 3,
    "start_time": "2022-04-13T13:39:28.278Z"
   },
   {
    "duration": 3,
    "start_time": "2022-04-13T13:41:43.645Z"
   },
   {
    "duration": 47,
    "start_time": "2022-04-13T13:50:07.190Z"
   },
   {
    "duration": 3,
    "start_time": "2022-04-13T13:52:24.907Z"
   },
   {
    "duration": 194,
    "start_time": "2022-04-13T13:52:58.400Z"
   },
   {
    "duration": 18953,
    "start_time": "2022-04-13T13:55:57.430Z"
   },
   {
    "duration": 35,
    "start_time": "2022-04-13T13:58:18.221Z"
   },
   {
    "duration": 44,
    "start_time": "2022-04-13T13:58:53.914Z"
   },
   {
    "duration": 3,
    "start_time": "2022-04-13T13:59:57.622Z"
   },
   {
    "duration": 44,
    "start_time": "2022-04-14T21:47:57.439Z"
   },
   {
    "duration": 788,
    "start_time": "2022-04-14T21:48:06.026Z"
   },
   {
    "duration": 390,
    "start_time": "2022-04-14T21:48:06.816Z"
   },
   {
    "duration": 12,
    "start_time": "2022-04-14T21:48:07.208Z"
   },
   {
    "duration": 33,
    "start_time": "2022-04-14T21:48:07.222Z"
   },
   {
    "duration": 26,
    "start_time": "2022-04-14T21:48:07.258Z"
   },
   {
    "duration": 34,
    "start_time": "2022-04-14T21:48:07.286Z"
   },
   {
    "duration": 33,
    "start_time": "2022-04-14T21:48:07.322Z"
   },
   {
    "duration": 104,
    "start_time": "2022-04-14T21:48:07.357Z"
   },
   {
    "duration": 9,
    "start_time": "2022-04-14T21:48:07.463Z"
   },
   {
    "duration": 11,
    "start_time": "2022-04-14T21:48:07.474Z"
   },
   {
    "duration": 14,
    "start_time": "2022-04-14T21:48:07.487Z"
   },
   {
    "duration": 21,
    "start_time": "2022-04-14T21:48:07.502Z"
   },
   {
    "duration": 23,
    "start_time": "2022-04-14T21:48:07.524Z"
   },
   {
    "duration": 19,
    "start_time": "2022-04-14T21:48:07.550Z"
   },
   {
    "duration": 25,
    "start_time": "2022-04-14T21:48:07.600Z"
   },
   {
    "duration": 6,
    "start_time": "2022-04-14T21:48:07.627Z"
   },
   {
    "duration": 22,
    "start_time": "2022-04-14T21:48:07.634Z"
   },
   {
    "duration": 16,
    "start_time": "2022-04-14T21:48:07.657Z"
   },
   {
    "duration": 42,
    "start_time": "2022-04-14T21:48:07.675Z"
   },
   {
    "duration": 8,
    "start_time": "2022-04-14T21:48:07.719Z"
   },
   {
    "duration": 11,
    "start_time": "2022-04-14T21:48:07.728Z"
   },
   {
    "duration": 9,
    "start_time": "2022-04-14T21:48:07.741Z"
   },
   {
    "duration": 3,
    "start_time": "2022-04-14T21:48:07.752Z"
   },
   {
    "duration": 6,
    "start_time": "2022-04-14T21:48:07.756Z"
   },
   {
    "duration": 4,
    "start_time": "2022-04-14T21:48:07.763Z"
   },
   {
    "duration": 31,
    "start_time": "2022-04-14T21:48:07.769Z"
   },
   {
    "duration": 23,
    "start_time": "2022-04-14T21:48:07.802Z"
   },
   {
    "duration": 8,
    "start_time": "2022-04-14T21:48:07.827Z"
   },
   {
    "duration": 67,
    "start_time": "2022-04-14T21:48:07.836Z"
   },
   {
    "duration": 8,
    "start_time": "2022-04-14T21:48:07.904Z"
   },
   {
    "duration": 16,
    "start_time": "2022-04-14T21:48:07.913Z"
   },
   {
    "duration": 21,
    "start_time": "2022-04-14T21:48:07.930Z"
   },
   {
    "duration": 7,
    "start_time": "2022-04-14T21:48:07.952Z"
   },
   {
    "duration": 42,
    "start_time": "2022-04-14T21:48:07.960Z"
   },
   {
    "duration": 19,
    "start_time": "2022-04-14T21:48:08.004Z"
   },
   {
    "duration": 6,
    "start_time": "2022-04-14T21:48:08.025Z"
   },
   {
    "duration": 12,
    "start_time": "2022-04-14T21:48:08.032Z"
   },
   {
    "duration": 9,
    "start_time": "2022-04-14T21:48:08.045Z"
   },
   {
    "duration": 12,
    "start_time": "2022-04-14T21:48:08.056Z"
   },
   {
    "duration": 9,
    "start_time": "2022-04-14T21:48:08.070Z"
   },
   {
    "duration": 9982,
    "start_time": "2022-04-14T21:48:08.102Z"
   },
   {
    "duration": 17,
    "start_time": "2022-04-14T21:48:18.086Z"
   },
   {
    "duration": 11,
    "start_time": "2022-04-14T21:48:18.105Z"
   },
   {
    "duration": 9,
    "start_time": "2022-04-14T21:48:18.118Z"
   },
   {
    "duration": 11,
    "start_time": "2022-04-14T21:48:18.128Z"
   },
   {
    "duration": 8294,
    "start_time": "2022-04-14T21:48:18.140Z"
   },
   {
    "duration": 10,
    "start_time": "2022-04-14T21:48:26.436Z"
   },
   {
    "duration": 13,
    "start_time": "2022-04-14T21:48:26.448Z"
   },
   {
    "duration": 8,
    "start_time": "2022-04-14T21:48:26.463Z"
   },
   {
    "duration": 28,
    "start_time": "2022-04-14T21:48:26.472Z"
   },
   {
    "duration": 9962,
    "start_time": "2022-04-14T21:48:26.502Z"
   },
   {
    "duration": 10,
    "start_time": "2022-04-14T21:48:36.465Z"
   },
   {
    "duration": 29,
    "start_time": "2022-04-14T21:48:36.477Z"
   },
   {
    "duration": 10,
    "start_time": "2022-04-14T21:48:36.507Z"
   },
   {
    "duration": 11,
    "start_time": "2022-04-14T21:48:36.519Z"
   },
   {
    "duration": 232,
    "start_time": "2022-04-14T21:54:59.779Z"
   },
   {
    "duration": 35,
    "start_time": "2022-04-14T21:55:32.288Z"
   },
   {
    "duration": 193,
    "start_time": "2022-04-14T21:55:46.688Z"
   },
   {
    "duration": 2969,
    "start_time": "2022-04-14T21:55:57.212Z"
   },
   {
    "duration": 200,
    "start_time": "2022-04-14T21:56:15.469Z"
   },
   {
    "duration": 2965,
    "start_time": "2022-04-14T21:56:22.926Z"
   },
   {
    "duration": 14,
    "start_time": "2022-04-14T21:56:35.231Z"
   },
   {
    "duration": 11,
    "start_time": "2022-04-14T21:56:50.437Z"
   },
   {
    "duration": 234,
    "start_time": "2022-04-14T22:00:31.467Z"
   },
   {
    "duration": 2,
    "start_time": "2022-04-14T22:01:43.055Z"
   },
   {
    "duration": 10,
    "start_time": "2022-04-14T22:03:11.957Z"
   },
   {
    "duration": 2,
    "start_time": "2022-04-14T22:05:58.979Z"
   },
   {
    "duration": 2,
    "start_time": "2022-04-14T22:08:56.193Z"
   },
   {
    "duration": 3,
    "start_time": "2022-04-14T22:09:39.511Z"
   },
   {
    "duration": 2,
    "start_time": "2022-04-14T22:11:31.505Z"
   },
   {
    "duration": 3,
    "start_time": "2022-04-14T22:11:58.466Z"
   },
   {
    "duration": 370,
    "start_time": "2022-04-14T22:16:08.110Z"
   },
   {
    "duration": 28,
    "start_time": "2022-04-14T22:19:56.569Z"
   },
   {
    "duration": 3,
    "start_time": "2022-04-14T22:20:02.416Z"
   },
   {
    "duration": 436,
    "start_time": "2022-04-14T22:20:02.421Z"
   },
   {
    "duration": 7,
    "start_time": "2022-04-14T22:20:02.859Z"
   },
   {
    "duration": 28,
    "start_time": "2022-04-14T22:20:02.868Z"
   },
   {
    "duration": 23,
    "start_time": "2022-04-14T22:20:02.898Z"
   },
   {
    "duration": 26,
    "start_time": "2022-04-14T22:20:02.922Z"
   },
   {
    "duration": 55,
    "start_time": "2022-04-14T22:20:02.949Z"
   },
   {
    "duration": 83,
    "start_time": "2022-04-14T22:20:03.006Z"
   },
   {
    "duration": 8,
    "start_time": "2022-04-14T22:20:03.101Z"
   },
   {
    "duration": 9,
    "start_time": "2022-04-14T22:20:03.110Z"
   },
   {
    "duration": 10,
    "start_time": "2022-04-14T22:20:03.121Z"
   },
   {
    "duration": 20,
    "start_time": "2022-04-14T22:20:03.132Z"
   },
   {
    "duration": 23,
    "start_time": "2022-04-14T22:20:03.154Z"
   },
   {
    "duration": 37,
    "start_time": "2022-04-14T22:20:03.178Z"
   },
   {
    "duration": 22,
    "start_time": "2022-04-14T22:20:03.217Z"
   },
   {
    "duration": 7,
    "start_time": "2022-04-14T22:20:03.241Z"
   },
   {
    "duration": 19,
    "start_time": "2022-04-14T22:20:03.250Z"
   },
   {
    "duration": 45,
    "start_time": "2022-04-14T22:20:03.271Z"
   },
   {
    "duration": 18,
    "start_time": "2022-04-14T22:20:03.317Z"
   },
   {
    "duration": 7,
    "start_time": "2022-04-14T22:20:03.337Z"
   },
   {
    "duration": 33,
    "start_time": "2022-04-14T22:20:03.346Z"
   },
   {
    "duration": 21,
    "start_time": "2022-04-14T22:20:03.381Z"
   },
   {
    "duration": 3,
    "start_time": "2022-04-14T22:20:03.403Z"
   },
   {
    "duration": 17,
    "start_time": "2022-04-14T22:20:03.408Z"
   },
   {
    "duration": 18,
    "start_time": "2022-04-14T22:20:03.426Z"
   },
   {
    "duration": 40,
    "start_time": "2022-04-14T22:20:03.446Z"
   },
   {
    "duration": 34,
    "start_time": "2022-04-14T22:20:03.488Z"
   },
   {
    "duration": 8,
    "start_time": "2022-04-14T22:20:03.523Z"
   },
   {
    "duration": 50,
    "start_time": "2022-04-14T22:20:03.535Z"
   },
   {
    "duration": 15,
    "start_time": "2022-04-14T22:20:03.586Z"
   },
   {
    "duration": 17,
    "start_time": "2022-04-14T22:20:03.602Z"
   },
   {
    "duration": 18,
    "start_time": "2022-04-14T22:20:03.620Z"
   },
   {
    "duration": 7,
    "start_time": "2022-04-14T22:20:03.640Z"
   },
   {
    "duration": 25,
    "start_time": "2022-04-14T22:20:03.648Z"
   },
   {
    "duration": 37,
    "start_time": "2022-04-14T22:20:03.674Z"
   },
   {
    "duration": 6,
    "start_time": "2022-04-14T22:20:03.713Z"
   },
   {
    "duration": 10,
    "start_time": "2022-04-14T22:20:03.720Z"
   },
   {
    "duration": 20,
    "start_time": "2022-04-14T22:20:03.732Z"
   },
   {
    "duration": 11,
    "start_time": "2022-04-14T22:20:03.754Z"
   },
   {
    "duration": 7,
    "start_time": "2022-04-14T22:20:03.767Z"
   },
   {
    "duration": 10233,
    "start_time": "2022-04-14T22:20:03.776Z"
   },
   {
    "duration": 9,
    "start_time": "2022-04-14T22:20:14.011Z"
   },
   {
    "duration": 12,
    "start_time": "2022-04-14T22:20:14.022Z"
   },
   {
    "duration": 9,
    "start_time": "2022-04-14T22:20:14.035Z"
   },
   {
    "duration": 9,
    "start_time": "2022-04-14T22:20:14.046Z"
   },
   {
    "duration": 8550,
    "start_time": "2022-04-14T22:20:14.057Z"
   },
   {
    "duration": 10,
    "start_time": "2022-04-14T22:20:22.609Z"
   },
   {
    "duration": 12,
    "start_time": "2022-04-14T22:20:22.620Z"
   },
   {
    "duration": 9,
    "start_time": "2022-04-14T22:20:22.634Z"
   },
   {
    "duration": 9,
    "start_time": "2022-04-14T22:20:22.645Z"
   },
   {
    "duration": 10480,
    "start_time": "2022-04-14T22:20:22.656Z"
   },
   {
    "duration": 11,
    "start_time": "2022-04-14T22:20:33.138Z"
   },
   {
    "duration": 33,
    "start_time": "2022-04-14T22:20:33.150Z"
   },
   {
    "duration": 27,
    "start_time": "2022-04-14T22:20:33.185Z"
   },
   {
    "duration": 18,
    "start_time": "2022-04-14T22:20:33.214Z"
   },
   {
    "duration": 179,
    "start_time": "2022-04-14T22:20:33.233Z"
   },
   {
    "duration": 15,
    "start_time": "2022-04-14T22:20:33.414Z"
   },
   {
    "duration": 181,
    "start_time": "2022-04-14T22:20:33.431Z"
   },
   {
    "duration": 19,
    "start_time": "2022-04-14T22:20:33.614Z"
   },
   {
    "duration": 167,
    "start_time": "2022-04-14T22:20:33.635Z"
   },
   {
    "duration": 11,
    "start_time": "2022-04-14T22:20:33.804Z"
   },
   {
    "duration": 159,
    "start_time": "2022-04-14T22:20:33.817Z"
   },
   {
    "duration": 11,
    "start_time": "2022-04-14T22:20:33.977Z"
   },
   {
    "duration": 140,
    "start_time": "2022-04-14T22:20:34.000Z"
   },
   {
    "duration": 3,
    "start_time": "2022-04-14T22:20:34.142Z"
   },
   {
    "duration": 17,
    "start_time": "2022-04-14T22:20:34.147Z"
   },
   {
    "duration": 159,
    "start_time": "2022-04-14T22:20:34.165Z"
   },
   {
    "duration": 77,
    "start_time": "2022-04-14T22:20:34.326Z"
   },
   {
    "duration": 7,
    "start_time": "2022-04-14T22:20:34.404Z"
   },
   {
    "duration": 48,
    "start_time": "2022-04-14T22:20:34.413Z"
   },
   {
    "duration": 6,
    "start_time": "2022-04-14T22:20:34.463Z"
   },
   {
    "duration": 173,
    "start_time": "2022-04-14T22:20:34.471Z"
   },
   {
    "duration": 54,
    "start_time": "2022-04-14T22:20:34.646Z"
   },
   {
    "duration": 6,
    "start_time": "2022-04-14T22:20:34.702Z"
   },
   {
    "duration": 50,
    "start_time": "2022-04-14T22:20:34.710Z"
   },
   {
    "duration": 6,
    "start_time": "2022-04-14T22:20:34.761Z"
   },
   {
    "duration": 174,
    "start_time": "2022-04-14T22:20:34.768Z"
   },
   {
    "duration": 80,
    "start_time": "2022-04-14T22:20:34.944Z"
   },
   {
    "duration": 8,
    "start_time": "2022-04-14T22:20:35.026Z"
   },
   {
    "duration": 88,
    "start_time": "2022-04-14T22:20:35.036Z"
   },
   {
    "duration": 8,
    "start_time": "2022-04-14T22:20:35.126Z"
   },
   {
    "duration": 142,
    "start_time": "2022-04-14T22:20:35.136Z"
   },
   {
    "duration": 3,
    "start_time": "2022-04-14T22:20:35.283Z"
   },
   {
    "duration": 14,
    "start_time": "2022-04-14T22:20:35.288Z"
   },
   {
    "duration": 4,
    "start_time": "2022-04-14T22:20:35.303Z"
   },
   {
    "duration": 5,
    "start_time": "2022-04-14T22:20:35.309Z"
   },
   {
    "duration": 207,
    "start_time": "2022-04-14T22:20:35.317Z"
   },
   {
    "duration": 4,
    "start_time": "2022-04-14T22:20:35.526Z"
   },
   {
    "duration": 8,
    "start_time": "2022-04-14T22:20:44.964Z"
   },
   {
    "duration": 3,
    "start_time": "2022-04-14T22:20:52.395Z"
   },
   {
    "duration": 3,
    "start_time": "2022-04-14T22:21:29.681Z"
   },
   {
    "duration": 3,
    "start_time": "2022-04-14T22:21:31.889Z"
   },
   {
    "duration": 3,
    "start_time": "2022-04-14T22:22:02.876Z"
   },
   {
    "duration": 3,
    "start_time": "2022-04-14T22:22:05.781Z"
   },
   {
    "duration": 3,
    "start_time": "2022-04-14T22:22:44.191Z"
   },
   {
    "duration": 4,
    "start_time": "2022-04-14T22:22:50.706Z"
   },
   {
    "duration": 2,
    "start_time": "2022-04-14T22:24:23.165Z"
   },
   {
    "duration": 2,
    "start_time": "2022-04-14T22:26:38.152Z"
   },
   {
    "duration": 36,
    "start_time": "2022-04-14T22:27:09.121Z"
   },
   {
    "duration": 1895,
    "start_time": "2022-04-14T22:27:27.637Z"
   },
   {
    "duration": 14,
    "start_time": "2022-04-14T22:27:43.517Z"
   },
   {
    "duration": 3,
    "start_time": "2022-04-14T22:27:47.602Z"
   },
   {
    "duration": 13,
    "start_time": "2022-04-14T22:27:59.308Z"
   },
   {
    "duration": 3,
    "start_time": "2022-04-14T22:28:00.298Z"
   },
   {
    "duration": 13,
    "start_time": "2022-04-14T22:30:20.422Z"
   },
   {
    "duration": 4,
    "start_time": "2022-04-14T22:30:23.922Z"
   },
   {
    "duration": 12,
    "start_time": "2022-04-14T22:31:31.729Z"
   },
   {
    "duration": 4,
    "start_time": "2022-04-14T22:31:31.851Z"
   },
   {
    "duration": 4,
    "start_time": "2022-04-14T22:31:37.004Z"
   },
   {
    "duration": 13,
    "start_time": "2022-04-14T22:32:06.046Z"
   },
   {
    "duration": 12,
    "start_time": "2022-04-14T22:32:12.294Z"
   },
   {
    "duration": 4,
    "start_time": "2022-04-14T22:32:16.109Z"
   },
   {
    "duration": 4,
    "start_time": "2022-04-14T22:34:21.865Z"
   },
   {
    "duration": 3,
    "start_time": "2022-04-14T22:34:26.674Z"
   },
   {
    "duration": 2,
    "start_time": "2022-04-14T22:41:17.818Z"
   },
   {
    "duration": 3,
    "start_time": "2022-04-14T22:42:25.242Z"
   },
   {
    "duration": 401,
    "start_time": "2022-04-14T22:42:25.246Z"
   },
   {
    "duration": 9,
    "start_time": "2022-04-14T22:42:25.649Z"
   },
   {
    "duration": 23,
    "start_time": "2022-04-14T22:42:25.660Z"
   },
   {
    "duration": 24,
    "start_time": "2022-04-14T22:42:25.686Z"
   },
   {
    "duration": 27,
    "start_time": "2022-04-14T22:42:25.712Z"
   },
   {
    "duration": 29,
    "start_time": "2022-04-14T22:42:25.741Z"
   },
   {
    "duration": 111,
    "start_time": "2022-04-14T22:42:25.771Z"
   },
   {
    "duration": 21,
    "start_time": "2022-04-14T22:42:25.884Z"
   },
   {
    "duration": 9,
    "start_time": "2022-04-14T22:42:25.907Z"
   },
   {
    "duration": 6,
    "start_time": "2022-04-14T22:42:25.919Z"
   },
   {
    "duration": 21,
    "start_time": "2022-04-14T22:42:25.927Z"
   },
   {
    "duration": 57,
    "start_time": "2022-04-14T22:42:25.949Z"
   },
   {
    "duration": 21,
    "start_time": "2022-04-14T22:42:26.008Z"
   },
   {
    "duration": 24,
    "start_time": "2022-04-14T22:42:26.031Z"
   },
   {
    "duration": 7,
    "start_time": "2022-04-14T22:42:26.057Z"
   },
   {
    "duration": 41,
    "start_time": "2022-04-14T22:42:26.066Z"
   },
   {
    "duration": 17,
    "start_time": "2022-04-14T22:42:26.109Z"
   },
   {
    "duration": 22,
    "start_time": "2022-04-14T22:42:26.128Z"
   },
   {
    "duration": 7,
    "start_time": "2022-04-14T22:42:26.152Z"
   },
   {
    "duration": 10,
    "start_time": "2022-04-14T22:42:26.161Z"
   },
   {
    "duration": 33,
    "start_time": "2022-04-14T22:42:26.173Z"
   },
   {
    "duration": 3,
    "start_time": "2022-04-14T22:42:26.208Z"
   },
   {
    "duration": 7,
    "start_time": "2022-04-14T22:42:26.213Z"
   },
   {
    "duration": 5,
    "start_time": "2022-04-14T22:42:26.222Z"
   },
   {
    "duration": 7,
    "start_time": "2022-04-14T22:42:26.228Z"
   },
   {
    "duration": 21,
    "start_time": "2022-04-14T22:42:26.236Z"
   },
   {
    "duration": 8,
    "start_time": "2022-04-14T22:42:26.259Z"
   },
   {
    "duration": 47,
    "start_time": "2022-04-14T22:42:26.304Z"
   },
   {
    "duration": 8,
    "start_time": "2022-04-14T22:42:26.353Z"
   },
   {
    "duration": 15,
    "start_time": "2022-04-14T22:42:26.363Z"
   },
   {
    "duration": 18,
    "start_time": "2022-04-14T22:42:26.400Z"
   },
   {
    "duration": 8,
    "start_time": "2022-04-14T22:42:26.420Z"
   },
   {
    "duration": 17,
    "start_time": "2022-04-14T22:42:26.429Z"
   },
   {
    "duration": 17,
    "start_time": "2022-04-14T22:42:26.448Z"
   },
   {
    "duration": 7,
    "start_time": "2022-04-14T22:42:26.466Z"
   },
   {
    "duration": 34,
    "start_time": "2022-04-14T22:42:26.474Z"
   },
   {
    "duration": 7,
    "start_time": "2022-04-14T22:42:26.510Z"
   },
   {
    "duration": 11,
    "start_time": "2022-04-14T22:42:26.518Z"
   },
   {
    "duration": 14,
    "start_time": "2022-04-14T22:42:26.530Z"
   },
   {
    "duration": 10050,
    "start_time": "2022-04-14T22:42:26.545Z"
   },
   {
    "duration": 9,
    "start_time": "2022-04-14T22:42:36.597Z"
   },
   {
    "duration": 10,
    "start_time": "2022-04-14T22:42:36.607Z"
   },
   {
    "duration": 9,
    "start_time": "2022-04-14T22:42:36.618Z"
   },
   {
    "duration": 7,
    "start_time": "2022-04-14T22:42:36.628Z"
   },
   {
    "duration": 8478,
    "start_time": "2022-04-14T22:42:36.636Z"
   },
   {
    "duration": 9,
    "start_time": "2022-04-14T22:42:45.115Z"
   },
   {
    "duration": 9,
    "start_time": "2022-04-14T22:42:45.126Z"
   },
   {
    "duration": 8,
    "start_time": "2022-04-14T22:42:45.137Z"
   },
   {
    "duration": 10,
    "start_time": "2022-04-14T22:42:45.146Z"
   },
   {
    "duration": 10213,
    "start_time": "2022-04-14T22:42:45.157Z"
   },
   {
    "duration": 10,
    "start_time": "2022-04-14T22:42:55.371Z"
   },
   {
    "duration": 24,
    "start_time": "2022-04-14T22:42:55.383Z"
   },
   {
    "duration": 9,
    "start_time": "2022-04-14T22:42:55.409Z"
   },
   {
    "duration": 10,
    "start_time": "2022-04-14T22:42:55.419Z"
   },
   {
    "duration": 142,
    "start_time": "2022-04-14T22:42:55.431Z"
   },
   {
    "duration": 10,
    "start_time": "2022-04-14T22:42:55.575Z"
   },
   {
    "duration": 153,
    "start_time": "2022-04-14T22:42:55.587Z"
   },
   {
    "duration": 15,
    "start_time": "2022-04-14T22:42:55.742Z"
   },
   {
    "duration": 155,
    "start_time": "2022-04-14T22:42:55.758Z"
   },
   {
    "duration": 10,
    "start_time": "2022-04-14T22:42:55.914Z"
   },
   {
    "duration": 144,
    "start_time": "2022-04-14T22:42:55.926Z"
   },
   {
    "duration": 10,
    "start_time": "2022-04-14T22:42:56.071Z"
   },
   {
    "duration": 139,
    "start_time": "2022-04-14T22:42:56.083Z"
   },
   {
    "duration": 2,
    "start_time": "2022-04-14T22:42:56.224Z"
   },
   {
    "duration": 17,
    "start_time": "2022-04-14T22:42:56.227Z"
   },
   {
    "duration": 147,
    "start_time": "2022-04-14T22:42:56.246Z"
   },
   {
    "duration": 49,
    "start_time": "2022-04-14T22:42:56.394Z"
   },
   {
    "duration": 5,
    "start_time": "2022-04-14T22:42:56.445Z"
   },
   {
    "duration": 59,
    "start_time": "2022-04-14T22:42:56.451Z"
   },
   {
    "duration": 5,
    "start_time": "2022-04-14T22:42:56.511Z"
   },
   {
    "duration": 134,
    "start_time": "2022-04-14T22:42:56.517Z"
   },
   {
    "duration": 136,
    "start_time": "2022-04-14T22:42:56.652Z"
   },
   {
    "duration": 11,
    "start_time": "2022-04-14T22:42:56.789Z"
   },
   {
    "duration": 44,
    "start_time": "2022-04-14T22:42:56.802Z"
   },
   {
    "duration": 4,
    "start_time": "2022-04-14T22:42:56.848Z"
   },
   {
    "duration": 138,
    "start_time": "2022-04-14T22:42:56.854Z"
   },
   {
    "duration": 71,
    "start_time": "2022-04-14T22:42:56.993Z"
   },
   {
    "duration": 8,
    "start_time": "2022-04-14T22:42:57.065Z"
   },
   {
    "duration": 81,
    "start_time": "2022-04-14T22:42:57.075Z"
   },
   {
    "duration": 8,
    "start_time": "2022-04-14T22:42:57.158Z"
   },
   {
    "duration": 139,
    "start_time": "2022-04-14T22:42:57.167Z"
   },
   {
    "duration": 3,
    "start_time": "2022-04-14T22:42:57.312Z"
   },
   {
    "duration": 5,
    "start_time": "2022-04-14T22:42:57.317Z"
   },
   {
    "duration": 3,
    "start_time": "2022-04-14T22:42:57.324Z"
   },
   {
    "duration": 4,
    "start_time": "2022-04-14T22:42:57.329Z"
   },
   {
    "duration": 137,
    "start_time": "2022-04-14T22:42:57.335Z"
   },
   {
    "duration": 3,
    "start_time": "2022-04-14T22:42:57.474Z"
   },
   {
    "duration": 8,
    "start_time": "2022-04-14T22:42:57.478Z"
   },
   {
    "duration": 4,
    "start_time": "2022-04-14T22:42:57.487Z"
   },
   {
    "duration": 4,
    "start_time": "2022-04-14T22:42:57.500Z"
   },
   {
    "duration": 5,
    "start_time": "2022-04-14T22:42:57.505Z"
   },
   {
    "duration": 7,
    "start_time": "2022-04-14T22:42:57.512Z"
   },
   {
    "duration": 36,
    "start_time": "2022-04-14T22:42:57.521Z"
   },
   {
    "duration": 1899,
    "start_time": "2022-04-14T22:42:57.558Z"
   },
   {
    "duration": 14,
    "start_time": "2022-04-14T22:42:59.459Z"
   },
   {
    "duration": 21,
    "start_time": "2022-04-14T22:42:59.474Z"
   },
   {
    "duration": 15,
    "start_time": "2022-04-14T22:42:59.497Z"
   },
   {
    "duration": 3,
    "start_time": "2022-04-14T22:42:59.514Z"
   },
   {
    "duration": 12,
    "start_time": "2022-04-14T22:42:59.518Z"
   },
   {
    "duration": 3,
    "start_time": "2022-04-14T22:42:59.531Z"
   },
   {
    "duration": 11,
    "start_time": "2022-04-14T22:42:59.536Z"
   },
   {
    "duration": 4,
    "start_time": "2022-04-14T22:42:59.548Z"
   },
   {
    "duration": 11,
    "start_time": "2022-04-14T22:42:59.553Z"
   },
   {
    "duration": 4,
    "start_time": "2022-04-14T22:42:59.565Z"
   },
   {
    "duration": 1860,
    "start_time": "2022-04-24T09:34:43.725Z"
   },
   {
    "duration": 761,
    "start_time": "2022-04-24T09:34:45.592Z"
   },
   {
    "duration": 24,
    "start_time": "2022-04-24T09:34:46.356Z"
   },
   {
    "duration": 36,
    "start_time": "2022-04-24T09:34:46.383Z"
   },
   {
    "duration": 38,
    "start_time": "2022-04-24T09:34:46.421Z"
   },
   {
    "duration": 63,
    "start_time": "2022-04-24T09:34:46.462Z"
   },
   {
    "duration": 88,
    "start_time": "2022-04-24T09:34:46.528Z"
   },
   {
    "duration": 148,
    "start_time": "2022-04-24T09:34:46.618Z"
   },
   {
    "duration": 24,
    "start_time": "2022-04-24T09:34:46.769Z"
   },
   {
    "duration": 12,
    "start_time": "2022-04-24T09:34:46.799Z"
   },
   {
    "duration": 14,
    "start_time": "2022-04-24T09:34:46.813Z"
   },
   {
    "duration": 35,
    "start_time": "2022-04-24T09:34:46.829Z"
   },
   {
    "duration": 34,
    "start_time": "2022-04-24T09:34:46.894Z"
   },
   {
    "duration": 29,
    "start_time": "2022-04-24T09:34:46.933Z"
   },
   {
    "duration": 64,
    "start_time": "2022-04-24T09:34:46.964Z"
   },
   {
    "duration": 11,
    "start_time": "2022-04-24T09:34:47.030Z"
   },
   {
    "duration": 53,
    "start_time": "2022-04-24T09:34:47.044Z"
   },
   {
    "duration": 24,
    "start_time": "2022-04-24T09:34:47.100Z"
   },
   {
    "duration": 33,
    "start_time": "2022-04-24T09:34:47.126Z"
   },
   {
    "duration": 38,
    "start_time": "2022-04-24T09:34:47.161Z"
   },
   {
    "duration": 18,
    "start_time": "2022-04-24T09:34:47.201Z"
   },
   {
    "duration": 23,
    "start_time": "2022-04-24T09:34:47.222Z"
   },
   {
    "duration": 8,
    "start_time": "2022-04-24T09:34:47.248Z"
   },
   {
    "duration": 36,
    "start_time": "2022-04-24T09:34:47.259Z"
   },
   {
    "duration": 11,
    "start_time": "2022-04-24T09:34:47.298Z"
   },
   {
    "duration": 11,
    "start_time": "2022-04-24T09:34:47.311Z"
   },
   {
    "duration": 73,
    "start_time": "2022-04-24T09:34:47.325Z"
   },
   {
    "duration": 21,
    "start_time": "2022-04-24T09:34:47.410Z"
   },
   {
    "duration": 129,
    "start_time": "2022-04-24T09:34:47.434Z"
   },
   {
    "duration": 17,
    "start_time": "2022-04-24T09:34:47.565Z"
   },
   {
    "duration": 30,
    "start_time": "2022-04-24T09:34:47.585Z"
   },
   {
    "duration": 41,
    "start_time": "2022-04-24T09:34:47.617Z"
   },
   {
    "duration": 37,
    "start_time": "2022-04-24T09:34:47.662Z"
   },
   {
    "duration": 32,
    "start_time": "2022-04-24T09:34:47.702Z"
   },
   {
    "duration": 65,
    "start_time": "2022-04-24T09:34:47.737Z"
   },
   {
    "duration": 18,
    "start_time": "2022-04-24T09:34:47.805Z"
   },
   {
    "duration": 30,
    "start_time": "2022-04-24T09:34:47.826Z"
   },
   {
    "duration": 36,
    "start_time": "2022-04-24T09:34:47.859Z"
   },
   {
    "duration": 16,
    "start_time": "2022-04-24T09:34:47.897Z"
   },
   {
    "duration": 21,
    "start_time": "2022-04-24T09:34:47.916Z"
   },
   {
    "duration": 20809,
    "start_time": "2022-04-24T09:34:47.940Z"
   },
   {
    "duration": 24,
    "start_time": "2022-04-24T09:35:08.752Z"
   },
   {
    "duration": 25,
    "start_time": "2022-04-24T09:35:08.793Z"
   },
   {
    "duration": 21,
    "start_time": "2022-04-24T09:35:08.821Z"
   },
   {
    "duration": 51,
    "start_time": "2022-04-24T09:35:08.844Z"
   },
   {
    "duration": 15750,
    "start_time": "2022-04-24T09:35:08.898Z"
   },
   {
    "duration": 23,
    "start_time": "2022-04-24T09:35:24.652Z"
   },
   {
    "duration": 24,
    "start_time": "2022-04-24T09:35:24.692Z"
   },
   {
    "duration": 19,
    "start_time": "2022-04-24T09:35:24.720Z"
   },
   {
    "duration": 33,
    "start_time": "2022-04-24T09:35:24.742Z"
   },
   {
    "duration": 20025,
    "start_time": "2022-04-24T09:35:24.794Z"
   },
   {
    "duration": 23,
    "start_time": "2022-04-24T09:35:44.821Z"
   },
   {
    "duration": 61,
    "start_time": "2022-04-24T09:35:44.846Z"
   },
   {
    "duration": 22,
    "start_time": "2022-04-24T09:35:44.910Z"
   },
   {
    "duration": 20,
    "start_time": "2022-04-24T09:35:44.934Z"
   },
   {
    "duration": 425,
    "start_time": "2022-04-24T09:35:44.957Z"
   },
   {
    "duration": 22,
    "start_time": "2022-04-24T09:35:45.384Z"
   },
   {
    "duration": 279,
    "start_time": "2022-04-24T09:35:45.409Z"
   },
   {
    "duration": 27,
    "start_time": "2022-04-24T09:35:45.693Z"
   },
   {
    "duration": 280,
    "start_time": "2022-04-24T09:35:45.722Z"
   },
   {
    "duration": 20,
    "start_time": "2022-04-24T09:35:46.004Z"
   },
   {
    "duration": 391,
    "start_time": "2022-04-24T09:35:46.026Z"
   },
   {
    "duration": 17,
    "start_time": "2022-04-24T09:35:46.419Z"
   },
   {
    "duration": 331,
    "start_time": "2022-04-24T09:35:46.438Z"
   },
   {
    "duration": 4,
    "start_time": "2022-04-24T09:35:46.771Z"
   },
   {
    "duration": 28,
    "start_time": "2022-04-24T09:35:46.792Z"
   },
   {
    "duration": 271,
    "start_time": "2022-04-24T09:35:46.822Z"
   },
   {
    "duration": 81,
    "start_time": "2022-04-24T09:35:47.095Z"
   },
   {
    "duration": 8,
    "start_time": "2022-04-24T09:35:47.194Z"
   },
   {
    "duration": 106,
    "start_time": "2022-04-24T09:35:47.205Z"
   },
   {
    "duration": 8,
    "start_time": "2022-04-24T09:35:47.313Z"
   },
   {
    "duration": 255,
    "start_time": "2022-04-24T09:35:47.323Z"
   },
   {
    "duration": 85,
    "start_time": "2022-04-24T09:35:47.580Z"
   },
   {
    "duration": 8,
    "start_time": "2022-04-24T09:35:47.667Z"
   },
   {
    "duration": 79,
    "start_time": "2022-04-24T09:35:47.695Z"
   },
   {
    "duration": 9,
    "start_time": "2022-04-24T09:35:47.793Z"
   },
   {
    "duration": 253,
    "start_time": "2022-04-24T09:35:47.805Z"
   },
   {
    "duration": 126,
    "start_time": "2022-04-24T09:35:48.060Z"
   },
   {
    "duration": 13,
    "start_time": "2022-04-24T09:35:48.188Z"
   },
   {
    "duration": 137,
    "start_time": "2022-04-24T09:35:48.204Z"
   },
   {
    "duration": 12,
    "start_time": "2022-04-24T09:35:48.343Z"
   },
   {
    "duration": 256,
    "start_time": "2022-04-24T09:35:48.364Z"
   },
   {
    "duration": 6,
    "start_time": "2022-04-24T09:35:48.623Z"
   },
   {
    "duration": 12,
    "start_time": "2022-04-24T09:35:48.632Z"
   },
   {
    "duration": 11,
    "start_time": "2022-04-24T09:35:48.647Z"
   },
   {
    "duration": 38,
    "start_time": "2022-04-24T09:35:48.661Z"
   },
   {
    "duration": 220,
    "start_time": "2022-04-24T09:35:48.702Z"
   },
   {
    "duration": 4,
    "start_time": "2022-04-24T09:35:48.925Z"
   },
   {
    "duration": 7,
    "start_time": "2022-04-24T09:35:48.932Z"
   },
   {
    "duration": 7,
    "start_time": "2022-04-24T09:35:48.942Z"
   },
   {
    "duration": 10,
    "start_time": "2022-04-24T09:35:48.952Z"
   },
   {
    "duration": 5,
    "start_time": "2022-04-24T09:35:48.994Z"
   },
   {
    "duration": 9,
    "start_time": "2022-04-24T09:35:49.001Z"
   },
   {
    "duration": 87,
    "start_time": "2022-04-24T09:35:49.012Z"
   },
   {
    "duration": 3925,
    "start_time": "2022-04-24T09:35:49.101Z"
   },
   {
    "duration": 23,
    "start_time": "2022-04-24T09:35:53.028Z"
   },
   {
    "duration": 5,
    "start_time": "2022-04-24T09:35:53.053Z"
   },
   {
    "duration": 51,
    "start_time": "2022-04-24T09:35:53.060Z"
   },
   {
    "duration": 5,
    "start_time": "2022-04-24T09:35:53.113Z"
   },
   {
    "duration": 19,
    "start_time": "2022-04-24T09:35:53.120Z"
   },
   {
    "duration": 8,
    "start_time": "2022-04-24T09:35:53.142Z"
   },
   {
    "duration": 52,
    "start_time": "2022-04-24T09:35:53.152Z"
   },
   {
    "duration": 11,
    "start_time": "2022-04-24T09:35:53.206Z"
   },
   {
    "duration": 20,
    "start_time": "2022-04-24T09:35:53.219Z"
   },
   {
    "duration": 5,
    "start_time": "2022-04-24T09:35:53.241Z"
   },
   {
    "duration": 4,
    "start_time": "2022-04-24T09:47:38.237Z"
   },
   {
    "duration": 572,
    "start_time": "2022-04-24T09:47:38.244Z"
   },
   {
    "duration": 11,
    "start_time": "2022-04-24T09:47:38.819Z"
   },
   {
    "duration": 57,
    "start_time": "2022-04-24T09:47:38.833Z"
   },
   {
    "duration": 45,
    "start_time": "2022-04-24T09:47:38.895Z"
   },
   {
    "duration": 76,
    "start_time": "2022-04-24T09:47:38.943Z"
   },
   {
    "duration": 46,
    "start_time": "2022-04-24T09:47:39.021Z"
   },
   {
    "duration": 154,
    "start_time": "2022-04-24T09:47:39.070Z"
   },
   {
    "duration": 13,
    "start_time": "2022-04-24T09:47:39.226Z"
   },
   {
    "duration": 15,
    "start_time": "2022-04-24T09:47:39.242Z"
   },
   {
    "duration": 39,
    "start_time": "2022-04-24T09:47:39.263Z"
   },
   {
    "duration": 40,
    "start_time": "2022-04-24T09:47:39.305Z"
   },
   {
    "duration": 52,
    "start_time": "2022-04-24T09:47:39.348Z"
   },
   {
    "duration": 26,
    "start_time": "2022-04-24T09:47:39.403Z"
   },
   {
    "duration": 37,
    "start_time": "2022-04-24T09:47:39.431Z"
   },
   {
    "duration": 12,
    "start_time": "2022-04-24T09:47:39.493Z"
   },
   {
    "duration": 27,
    "start_time": "2022-04-24T09:47:39.508Z"
   },
   {
    "duration": 56,
    "start_time": "2022-04-24T09:47:39.538Z"
   },
   {
    "duration": 28,
    "start_time": "2022-04-24T09:47:39.597Z"
   },
   {
    "duration": 12,
    "start_time": "2022-04-24T09:47:39.628Z"
   },
   {
    "duration": 53,
    "start_time": "2022-04-24T09:47:39.642Z"
   },
   {
    "duration": 19,
    "start_time": "2022-04-24T09:47:39.697Z"
   },
   {
    "duration": 9,
    "start_time": "2022-04-24T09:47:39.719Z"
   },
   {
    "duration": 10,
    "start_time": "2022-04-24T09:47:39.730Z"
   },
   {
    "duration": 9,
    "start_time": "2022-04-24T09:47:39.743Z"
   },
   {
    "duration": 46,
    "start_time": "2022-04-24T09:47:39.754Z"
   },
   {
    "duration": 46,
    "start_time": "2022-04-24T09:47:39.802Z"
   },
   {
    "duration": 17,
    "start_time": "2022-04-24T09:47:39.850Z"
   },
   {
    "duration": 67,
    "start_time": "2022-04-24T09:47:39.892Z"
   },
   {
    "duration": 13,
    "start_time": "2022-04-24T09:47:39.961Z"
   },
   {
    "duration": 21,
    "start_time": "2022-04-24T09:47:39.994Z"
   },
   {
    "duration": 27,
    "start_time": "2022-04-24T09:47:40.017Z"
   },
   {
    "duration": 13,
    "start_time": "2022-04-24T09:47:40.046Z"
   },
   {
    "duration": 25,
    "start_time": "2022-04-24T09:47:40.095Z"
   },
   {
    "duration": 38,
    "start_time": "2022-04-24T09:47:40.123Z"
   },
   {
    "duration": 41,
    "start_time": "2022-04-24T09:47:40.163Z"
   },
   {
    "duration": 17,
    "start_time": "2022-04-24T09:47:40.206Z"
   },
   {
    "duration": 13,
    "start_time": "2022-04-24T09:47:40.225Z"
   },
   {
    "duration": 19,
    "start_time": "2022-04-24T09:47:40.240Z"
   },
   {
    "duration": 12,
    "start_time": "2022-04-24T09:47:40.294Z"
   },
   {
    "duration": 196,
    "start_time": "2022-04-24T09:48:42.836Z"
   },
   {
    "duration": 9,
    "start_time": "2022-04-24T09:48:54.169Z"
   },
   {
    "duration": 22,
    "start_time": "2022-04-24T09:49:29.022Z"
   },
   {
    "duration": 9264,
    "start_time": "2022-04-24T09:49:57.358Z"
   },
   {
    "duration": 20,
    "start_time": "2022-04-24T09:50:11.596Z"
   },
   {
    "duration": 8905,
    "start_time": "2022-04-24T09:50:18.550Z"
   },
   {
    "duration": 23,
    "start_time": "2022-04-24T09:50:46.847Z"
   },
   {
    "duration": 19560,
    "start_time": "2022-04-24T09:50:52.543Z"
   },
   {
    "duration": 22,
    "start_time": "2022-04-24T09:51:30.496Z"
   },
   {
    "duration": 21,
    "start_time": "2022-04-24T10:00:00.683Z"
   },
   {
    "duration": 23,
    "start_time": "2022-04-24T10:14:26.543Z"
   },
   {
    "duration": 6,
    "start_time": "2022-04-24T10:21:03.075Z"
   },
   {
    "duration": 1492,
    "start_time": "2022-04-24T10:38:52.727Z"
   },
   {
    "duration": 531,
    "start_time": "2022-04-24T10:38:54.222Z"
   },
   {
    "duration": 17,
    "start_time": "2022-04-24T10:38:54.756Z"
   },
   {
    "duration": 36,
    "start_time": "2022-04-24T10:38:54.777Z"
   },
   {
    "duration": 38,
    "start_time": "2022-04-24T10:38:54.815Z"
   },
   {
    "duration": 53,
    "start_time": "2022-04-24T10:38:54.855Z"
   },
   {
    "duration": 50,
    "start_time": "2022-04-24T10:38:54.910Z"
   },
   {
    "duration": 177,
    "start_time": "2022-04-24T10:38:54.963Z"
   },
   {
    "duration": 14,
    "start_time": "2022-04-24T10:38:55.142Z"
   },
   {
    "duration": 33,
    "start_time": "2022-04-24T10:38:55.160Z"
   },
   {
    "duration": 12,
    "start_time": "2022-04-24T10:38:55.195Z"
   },
   {
    "duration": 32,
    "start_time": "2022-04-24T10:38:55.209Z"
   },
   {
    "duration": 58,
    "start_time": "2022-04-24T10:38:55.244Z"
   },
   {
    "duration": 29,
    "start_time": "2022-04-24T10:38:55.305Z"
   },
   {
    "duration": 64,
    "start_time": "2022-04-24T10:38:55.337Z"
   },
   {
    "duration": 10,
    "start_time": "2022-04-24T10:38:55.403Z"
   },
   {
    "duration": 31,
    "start_time": "2022-04-24T10:38:55.416Z"
   },
   {
    "duration": 49,
    "start_time": "2022-04-24T10:38:55.450Z"
   },
   {
    "duration": 32,
    "start_time": "2022-04-24T10:38:55.501Z"
   },
   {
    "duration": 12,
    "start_time": "2022-04-24T10:38:55.535Z"
   },
   {
    "duration": 44,
    "start_time": "2022-04-24T10:38:55.550Z"
   },
   {
    "duration": 17,
    "start_time": "2022-04-24T10:38:55.596Z"
   },
   {
    "duration": 8,
    "start_time": "2022-04-24T10:38:55.615Z"
   },
   {
    "duration": 11,
    "start_time": "2022-04-24T10:38:55.625Z"
   },
   {
    "duration": 9,
    "start_time": "2022-04-24T10:38:55.638Z"
   },
   {
    "duration": 44,
    "start_time": "2022-04-24T10:38:55.649Z"
   },
   {
    "duration": 40,
    "start_time": "2022-04-24T10:38:55.695Z"
   },
   {
    "duration": 13,
    "start_time": "2022-04-24T10:38:55.742Z"
   },
   {
    "duration": 99,
    "start_time": "2022-04-24T10:38:55.758Z"
   },
   {
    "duration": 12,
    "start_time": "2022-04-24T10:38:55.859Z"
   },
   {
    "duration": 29,
    "start_time": "2022-04-24T10:38:55.874Z"
   },
   {
    "duration": 29,
    "start_time": "2022-04-24T10:38:55.905Z"
   },
   {
    "duration": 11,
    "start_time": "2022-04-24T10:38:55.936Z"
   },
   {
    "duration": 60,
    "start_time": "2022-04-24T10:38:55.949Z"
   },
   {
    "duration": 29,
    "start_time": "2022-04-24T10:38:56.011Z"
   },
   {
    "duration": 10,
    "start_time": "2022-04-24T10:38:56.042Z"
   },
   {
    "duration": 16,
    "start_time": "2022-04-24T10:38:56.054Z"
   },
   {
    "duration": 18,
    "start_time": "2022-04-24T10:38:56.094Z"
   },
   {
    "duration": 20,
    "start_time": "2022-04-24T10:38:56.114Z"
   },
   {
    "duration": 14,
    "start_time": "2022-04-24T10:38:56.137Z"
   },
   {
    "duration": 17594,
    "start_time": "2022-04-24T10:38:56.154Z"
   },
   {
    "duration": 15,
    "start_time": "2022-04-24T10:39:13.750Z"
   },
   {
    "duration": 37,
    "start_time": "2022-04-24T10:39:13.767Z"
   },
   {
    "duration": 17,
    "start_time": "2022-04-24T10:39:13.806Z"
   },
   {
    "duration": 13,
    "start_time": "2022-04-24T10:39:13.826Z"
   },
   {
    "duration": 15357,
    "start_time": "2022-04-24T10:39:13.841Z"
   },
   {
    "duration": 15,
    "start_time": "2022-04-24T10:39:29.200Z"
   },
   {
    "duration": 18,
    "start_time": "2022-04-24T10:39:29.217Z"
   },
   {
    "duration": 13,
    "start_time": "2022-04-24T10:39:29.241Z"
   },
   {
    "duration": 13,
    "start_time": "2022-04-24T10:39:29.293Z"
   },
   {
    "duration": 23467,
    "start_time": "2022-04-24T10:39:29.309Z"
   },
   {
    "duration": 21,
    "start_time": "2022-04-24T10:39:52.779Z"
   },
   {
    "duration": 29,
    "start_time": "2022-04-24T10:39:52.802Z"
   },
   {
    "duration": 17,
    "start_time": "2022-04-24T10:39:52.833Z"
   },
   {
    "duration": 52,
    "start_time": "2022-04-24T10:39:52.852Z"
   },
   {
    "duration": 284,
    "start_time": "2022-04-24T10:39:52.906Z"
   },
   {
    "duration": 19,
    "start_time": "2022-04-24T10:39:53.193Z"
   },
   {
    "duration": 287,
    "start_time": "2022-04-24T10:39:53.215Z"
   },
   {
    "duration": 29,
    "start_time": "2022-04-24T10:39:53.504Z"
   },
   {
    "duration": 289,
    "start_time": "2022-04-24T10:39:53.536Z"
   },
   {
    "duration": 19,
    "start_time": "2022-04-24T10:39:53.828Z"
   },
   {
    "duration": 289,
    "start_time": "2022-04-24T10:39:53.850Z"
   },
   {
    "duration": 18,
    "start_time": "2022-04-24T10:39:54.141Z"
   },
   {
    "duration": 336,
    "start_time": "2022-04-24T10:39:54.161Z"
   },
   {
    "duration": 4,
    "start_time": "2022-04-24T10:39:54.499Z"
   },
   {
    "duration": 29,
    "start_time": "2022-04-24T10:39:54.505Z"
   },
   {
    "duration": 281,
    "start_time": "2022-04-24T10:39:54.536Z"
   },
   {
    "duration": 97,
    "start_time": "2022-04-24T10:39:54.819Z"
   },
   {
    "duration": 8,
    "start_time": "2022-04-24T10:39:54.919Z"
   },
   {
    "duration": 113,
    "start_time": "2022-04-24T10:39:54.930Z"
   },
   {
    "duration": 10,
    "start_time": "2022-04-24T10:39:55.046Z"
   },
   {
    "duration": 260,
    "start_time": "2022-04-24T10:39:55.058Z"
   },
   {
    "duration": 100,
    "start_time": "2022-04-24T10:39:55.321Z"
   },
   {
    "duration": 9,
    "start_time": "2022-04-24T10:39:55.423Z"
   },
   {
    "duration": 107,
    "start_time": "2022-04-24T10:39:55.434Z"
   },
   {
    "duration": 8,
    "start_time": "2022-04-24T10:39:55.544Z"
   },
   {
    "duration": 361,
    "start_time": "2022-04-24T10:39:55.554Z"
   },
   {
    "duration": 167,
    "start_time": "2022-04-24T10:39:55.917Z"
   },
   {
    "duration": 18,
    "start_time": "2022-04-24T10:39:56.087Z"
   },
   {
    "duration": 177,
    "start_time": "2022-04-24T10:39:56.108Z"
   },
   {
    "duration": 16,
    "start_time": "2022-04-24T10:39:56.288Z"
   },
   {
    "duration": 364,
    "start_time": "2022-04-24T10:39:56.316Z"
   },
   {
    "duration": 12,
    "start_time": "2022-04-24T10:39:56.683Z"
   },
   {
    "duration": 10,
    "start_time": "2022-04-24T10:39:56.697Z"
   },
   {
    "duration": 8,
    "start_time": "2022-04-24T10:39:56.709Z"
   },
   {
    "duration": 8,
    "start_time": "2022-04-24T10:39:56.719Z"
   },
   {
    "duration": 333,
    "start_time": "2022-04-24T10:39:56.729Z"
   },
   {
    "duration": 4,
    "start_time": "2022-04-24T10:39:57.065Z"
   },
   {
    "duration": 22,
    "start_time": "2022-04-24T10:39:57.072Z"
   },
   {
    "duration": 4,
    "start_time": "2022-04-24T10:39:57.097Z"
   },
   {
    "duration": 8,
    "start_time": "2022-04-24T10:39:57.104Z"
   },
   {
    "duration": 6,
    "start_time": "2022-04-24T10:39:57.114Z"
   },
   {
    "duration": 8,
    "start_time": "2022-04-24T10:39:57.122Z"
   },
   {
    "duration": 138,
    "start_time": "2022-04-24T10:39:57.132Z"
   },
   {
    "duration": 6447,
    "start_time": "2022-04-24T10:39:57.273Z"
   },
   {
    "duration": 30,
    "start_time": "2022-04-24T10:40:03.722Z"
   },
   {
    "duration": 5,
    "start_time": "2022-04-24T10:40:03.755Z"
   },
   {
    "duration": 55,
    "start_time": "2022-04-24T10:40:03.763Z"
   },
   {
    "duration": 5,
    "start_time": "2022-04-24T10:40:03.821Z"
   },
   {
    "duration": 25,
    "start_time": "2022-04-24T10:40:03.829Z"
   },
   {
    "duration": 9,
    "start_time": "2022-04-24T10:40:03.857Z"
   },
   {
    "duration": 45,
    "start_time": "2022-04-24T10:40:03.868Z"
   },
   {
    "duration": 6,
    "start_time": "2022-04-24T10:40:03.917Z"
   },
   {
    "duration": 17,
    "start_time": "2022-04-24T10:40:03.926Z"
   },
   {
    "duration": 48,
    "start_time": "2022-04-24T10:40:03.945Z"
   },
   {
    "duration": 79,
    "start_time": "2022-04-29T09:51:19.134Z"
   },
   {
    "duration": 1314,
    "start_time": "2022-04-29T09:54:06.864Z"
   },
   {
    "duration": 423,
    "start_time": "2022-04-29T09:54:08.181Z"
   },
   {
    "duration": 14,
    "start_time": "2022-04-29T09:54:08.606Z"
   },
   {
    "duration": 32,
    "start_time": "2022-04-29T09:54:08.623Z"
   },
   {
    "duration": 60,
    "start_time": "2022-04-29T09:54:08.657Z"
   },
   {
    "duration": 42,
    "start_time": "2022-04-29T09:54:08.719Z"
   },
   {
    "duration": 80,
    "start_time": "2022-04-29T09:54:08.764Z"
   },
   {
    "duration": 110,
    "start_time": "2022-04-29T09:54:08.846Z"
   },
   {
    "duration": 0,
    "start_time": "2022-04-29T09:54:08.958Z"
   },
   {
    "duration": 3,
    "start_time": "2022-04-29T09:54:20.294Z"
   },
   {
    "duration": 6,
    "start_time": "2022-04-29T09:54:24.117Z"
   },
   {
    "duration": 16,
    "start_time": "2022-04-29T09:54:27.610Z"
   },
   {
    "duration": 93,
    "start_time": "2022-04-29T09:54:53.307Z"
   },
   {
    "duration": 10,
    "start_time": "2022-04-29T09:54:54.502Z"
   },
   {
    "duration": 12,
    "start_time": "2022-04-29T09:55:05.196Z"
   },
   {
    "duration": 12,
    "start_time": "2022-04-29T09:55:06.072Z"
   },
   {
    "duration": 38,
    "start_time": "2022-04-29T09:55:07.323Z"
   },
   {
    "duration": 34,
    "start_time": "2022-04-29T09:55:10.513Z"
   },
   {
    "duration": 45,
    "start_time": "2022-04-29T09:55:10.982Z"
   },
   {
    "duration": 49,
    "start_time": "2022-04-29T09:55:11.497Z"
   },
   {
    "duration": 11,
    "start_time": "2022-04-29T09:55:12.408Z"
   },
   {
    "duration": 21,
    "start_time": "2022-04-29T09:55:13.070Z"
   },
   {
    "duration": 33,
    "start_time": "2022-04-29T09:55:15.337Z"
   },
   {
    "duration": 37,
    "start_time": "2022-04-29T09:55:16.089Z"
   },
   {
    "duration": 9,
    "start_time": "2022-04-29T09:55:17.558Z"
   },
   {
    "duration": 15,
    "start_time": "2022-04-29T09:55:18.253Z"
   },
   {
    "duration": 12,
    "start_time": "2022-04-29T09:55:18.271Z"
   },
   {
    "duration": 6,
    "start_time": "2022-04-29T09:55:20.282Z"
   },
   {
    "duration": 6,
    "start_time": "2022-04-29T09:55:20.958Z"
   },
   {
    "duration": 4,
    "start_time": "2022-04-29T09:55:23.222Z"
   },
   {
    "duration": 8,
    "start_time": "2022-04-29T09:55:24.624Z"
   },
   {
    "duration": 31,
    "start_time": "2022-04-29T09:55:25.874Z"
   },
   {
    "duration": 14,
    "start_time": "2022-04-29T09:55:27.358Z"
   },
   {
    "duration": 81,
    "start_time": "2022-04-29T09:55:27.729Z"
   },
   {
    "duration": 13,
    "start_time": "2022-04-29T09:55:27.998Z"
   },
   {
    "duration": 22,
    "start_time": "2022-04-29T09:55:30.287Z"
   },
   {
    "duration": 22,
    "start_time": "2022-04-29T09:55:30.816Z"
   },
   {
    "duration": 9,
    "start_time": "2022-04-29T09:55:31.320Z"
   },
   {
    "duration": 36,
    "start_time": "2022-04-29T10:04:21.496Z"
   },
   {
    "duration": 24,
    "start_time": "2022-04-29T10:04:33.086Z"
   },
   {
    "duration": 15,
    "start_time": "2022-04-29T10:04:42.737Z"
   },
   {
    "duration": 20,
    "start_time": "2022-04-29T10:04:51.861Z"
   },
   {
    "duration": 12,
    "start_time": "2022-04-29T10:05:13.336Z"
   },
   {
    "duration": 14,
    "start_time": "2022-04-29T10:05:15.805Z"
   },
   {
    "duration": 68,
    "start_time": "2022-04-29T10:05:21.069Z"
   },
   {
    "duration": 75,
    "start_time": "2022-04-29T10:05:25.674Z"
   },
   {
    "duration": 19,
    "start_time": "2022-04-29T10:05:33.500Z"
   },
   {
    "duration": 19,
    "start_time": "2022-04-29T10:08:24.504Z"
   },
   {
    "duration": 18,
    "start_time": "2022-04-29T10:08:32.444Z"
   },
   {
    "duration": 24,
    "start_time": "2022-04-29T10:08:47.992Z"
   },
   {
    "duration": 9,
    "start_time": "2022-04-29T10:09:05.959Z"
   },
   {
    "duration": 1359,
    "start_time": "2022-04-29T10:09:12.102Z"
   },
   {
    "duration": 3,
    "start_time": "2022-04-29T10:09:42.317Z"
   },
   {
    "duration": 32,
    "start_time": "2022-04-29T10:09:54.328Z"
   },
   {
    "duration": 23,
    "start_time": "2022-04-29T10:10:05.641Z"
   },
   {
    "duration": 16,
    "start_time": "2022-04-29T10:10:25.888Z"
   },
   {
    "duration": 24,
    "start_time": "2022-04-29T10:10:43.148Z"
   },
   {
    "duration": 23,
    "start_time": "2022-04-29T10:11:56.924Z"
   },
   {
    "duration": 20,
    "start_time": "2022-04-29T10:17:28.014Z"
   },
   {
    "duration": 27,
    "start_time": "2022-04-29T10:17:44.257Z"
   },
   {
    "duration": 10,
    "start_time": "2022-04-29T10:17:57.377Z"
   },
   {
    "duration": 12,
    "start_time": "2022-04-29T10:18:01.954Z"
   },
   {
    "duration": 22,
    "start_time": "2022-04-29T10:18:04.904Z"
   },
   {
    "duration": 31,
    "start_time": "2022-04-29T10:18:27.460Z"
   },
   {
    "duration": 23,
    "start_time": "2022-04-29T10:20:15.506Z"
   },
   {
    "duration": 14,
    "start_time": "2022-04-29T10:20:25.975Z"
   },
   {
    "duration": 35,
    "start_time": "2022-04-29T10:20:32.697Z"
   },
   {
    "duration": 5,
    "start_time": "2022-04-29T10:21:21.790Z"
   },
   {
    "duration": 16,
    "start_time": "2022-04-29T10:21:24.548Z"
   },
   {
    "duration": 16,
    "start_time": "2022-04-29T10:21:30.265Z"
   },
   {
    "duration": 4,
    "start_time": "2022-04-29T10:25:47.094Z"
   },
   {
    "duration": 432,
    "start_time": "2022-04-29T10:25:47.100Z"
   },
   {
    "duration": 10,
    "start_time": "2022-04-29T10:25:47.534Z"
   },
   {
    "duration": 48,
    "start_time": "2022-04-29T10:25:47.546Z"
   },
   {
    "duration": 30,
    "start_time": "2022-04-29T10:25:47.596Z"
   },
   {
    "duration": 29,
    "start_time": "2022-04-29T10:25:47.628Z"
   },
   {
    "duration": 54,
    "start_time": "2022-04-29T10:25:47.659Z"
   },
   {
    "duration": 64,
    "start_time": "2022-04-29T10:25:47.715Z"
   },
   {
    "duration": 10,
    "start_time": "2022-04-29T10:25:47.781Z"
   },
   {
    "duration": 10,
    "start_time": "2022-04-29T10:25:47.808Z"
   },
   {
    "duration": 9,
    "start_time": "2022-04-29T10:25:47.821Z"
   },
   {
    "duration": 25,
    "start_time": "2022-04-29T10:25:47.832Z"
   },
   {
    "duration": 61,
    "start_time": "2022-04-29T10:25:47.859Z"
   },
   {
    "duration": 25,
    "start_time": "2022-04-29T10:25:47.921Z"
   },
   {
    "duration": 26,
    "start_time": "2022-04-29T10:25:47.948Z"
   },
   {
    "duration": 32,
    "start_time": "2022-04-29T10:25:47.976Z"
   },
   {
    "duration": 34,
    "start_time": "2022-04-29T10:25:48.010Z"
   },
   {
    "duration": 22,
    "start_time": "2022-04-29T10:25:48.045Z"
   },
   {
    "duration": 23,
    "start_time": "2022-04-29T10:25:48.069Z"
   },
   {
    "duration": 9,
    "start_time": "2022-04-29T10:25:48.107Z"
   },
   {
    "duration": 11,
    "start_time": "2022-04-29T10:25:48.117Z"
   },
   {
    "duration": 11,
    "start_time": "2022-04-29T10:25:48.130Z"
   },
   {
    "duration": 5,
    "start_time": "2022-04-29T10:25:48.143Z"
   },
   {
    "duration": 7,
    "start_time": "2022-04-29T10:25:48.150Z"
   },
   {
    "duration": 4,
    "start_time": "2022-04-29T10:25:48.159Z"
   },
   {
    "duration": 46,
    "start_time": "2022-04-29T10:25:48.165Z"
   },
   {
    "duration": 26,
    "start_time": "2022-04-29T10:25:48.213Z"
   },
   {
    "duration": 10,
    "start_time": "2022-04-29T10:25:48.241Z"
   },
   {
    "duration": 88,
    "start_time": "2022-04-29T10:25:48.254Z"
   },
   {
    "duration": 9,
    "start_time": "2022-04-29T10:25:48.343Z"
   },
   {
    "duration": 23,
    "start_time": "2022-04-29T10:25:48.354Z"
   },
   {
    "duration": 39,
    "start_time": "2022-04-29T10:25:48.379Z"
   },
   {
    "duration": 8,
    "start_time": "2022-04-29T10:25:48.420Z"
   },
   {
    "duration": 21,
    "start_time": "2022-04-29T10:25:48.429Z"
   },
   {
    "duration": 25,
    "start_time": "2022-04-29T10:25:48.452Z"
   },
   {
    "duration": 34,
    "start_time": "2022-04-29T10:25:48.479Z"
   },
   {
    "duration": 13,
    "start_time": "2022-04-29T10:25:48.515Z"
   },
   {
    "duration": 21,
    "start_time": "2022-04-29T10:25:48.530Z"
   },
   {
    "duration": 26,
    "start_time": "2022-04-29T10:25:48.553Z"
   },
   {
    "duration": 29,
    "start_time": "2022-04-29T10:25:48.581Z"
   },
   {
    "duration": 4,
    "start_time": "2022-04-29T10:26:43.873Z"
   },
   {
    "duration": 15,
    "start_time": "2022-04-29T10:26:51.246Z"
   },
   {
    "duration": 16,
    "start_time": "2022-04-29T10:27:19.032Z"
   },
   {
    "duration": 15,
    "start_time": "2022-04-29T10:29:30.245Z"
   },
   {
    "duration": 16,
    "start_time": "2022-04-29T10:29:39.483Z"
   },
   {
    "duration": 18,
    "start_time": "2022-04-29T10:29:42.694Z"
   },
   {
    "duration": 19,
    "start_time": "2022-04-29T10:29:48.694Z"
   },
   {
    "duration": 15,
    "start_time": "2022-04-29T10:29:55.586Z"
   },
   {
    "duration": 16,
    "start_time": "2022-04-29T10:30:33.197Z"
   },
   {
    "duration": 17,
    "start_time": "2022-04-29T10:30:42.635Z"
   },
   {
    "duration": 15,
    "start_time": "2022-04-29T10:31:38.316Z"
   },
   {
    "duration": 15,
    "start_time": "2022-04-29T10:31:51.957Z"
   },
   {
    "duration": 13,
    "start_time": "2022-04-29T10:31:57.971Z"
   },
   {
    "duration": 37,
    "start_time": "2022-04-29T10:32:16.689Z"
   },
   {
    "duration": 1743,
    "start_time": "2022-05-07T08:03:29.198Z"
   },
   {
    "duration": 516,
    "start_time": "2022-05-07T08:03:30.944Z"
   },
   {
    "duration": 17,
    "start_time": "2022-05-07T08:03:31.462Z"
   },
   {
    "duration": 49,
    "start_time": "2022-05-07T08:03:31.481Z"
   },
   {
    "duration": 35,
    "start_time": "2022-05-07T08:03:31.533Z"
   },
   {
    "duration": 38,
    "start_time": "2022-05-07T08:03:31.570Z"
   },
   {
    "duration": 47,
    "start_time": "2022-05-07T08:03:31.611Z"
   },
   {
    "duration": 105,
    "start_time": "2022-05-07T08:03:31.660Z"
   },
   {
    "duration": 12,
    "start_time": "2022-05-07T08:03:31.767Z"
   },
   {
    "duration": 14,
    "start_time": "2022-05-07T08:03:31.794Z"
   },
   {
    "duration": 22,
    "start_time": "2022-05-07T08:03:31.810Z"
   },
   {
    "duration": 31,
    "start_time": "2022-05-07T08:03:31.834Z"
   },
   {
    "duration": 44,
    "start_time": "2022-05-07T08:03:31.867Z"
   },
   {
    "duration": 26,
    "start_time": "2022-05-07T08:03:31.913Z"
   },
   {
    "duration": 62,
    "start_time": "2022-05-07T08:03:31.941Z"
   },
   {
    "duration": 11,
    "start_time": "2022-05-07T08:03:32.005Z"
   },
   {
    "duration": 30,
    "start_time": "2022-05-07T08:03:32.018Z"
   },
   {
    "duration": 24,
    "start_time": "2022-05-07T08:03:32.050Z"
   },
   {
    "duration": 29,
    "start_time": "2022-05-07T08:03:32.093Z"
   },
   {
    "duration": 13,
    "start_time": "2022-05-07T08:03:32.124Z"
   },
   {
    "duration": 24,
    "start_time": "2022-05-07T08:03:32.140Z"
   },
   {
    "duration": 40,
    "start_time": "2022-05-07T08:03:32.167Z"
   },
   {
    "duration": 10,
    "start_time": "2022-05-07T08:03:32.210Z"
   },
   {
    "duration": 17,
    "start_time": "2022-05-07T08:03:32.222Z"
   },
   {
    "duration": 22,
    "start_time": "2022-05-07T08:03:32.241Z"
   },
   {
    "duration": 18,
    "start_time": "2022-05-07T08:03:32.265Z"
   },
   {
    "duration": 44,
    "start_time": "2022-05-07T08:03:32.285Z"
   },
   {
    "duration": 12,
    "start_time": "2022-05-07T08:03:32.334Z"
   },
   {
    "duration": 92,
    "start_time": "2022-05-07T08:03:32.348Z"
   },
   {
    "duration": 12,
    "start_time": "2022-05-07T08:03:32.442Z"
   },
   {
    "duration": 41,
    "start_time": "2022-05-07T08:03:32.456Z"
   },
   {
    "duration": 30,
    "start_time": "2022-05-07T08:03:32.499Z"
   },
   {
    "duration": 13,
    "start_time": "2022-05-07T08:03:32.532Z"
   },
   {
    "duration": 56,
    "start_time": "2022-05-07T08:03:32.548Z"
   },
   {
    "duration": 30,
    "start_time": "2022-05-07T08:03:32.606Z"
   },
   {
    "duration": 10,
    "start_time": "2022-05-07T08:03:32.639Z"
   },
   {
    "duration": 42,
    "start_time": "2022-05-07T08:03:32.652Z"
   },
   {
    "duration": 15,
    "start_time": "2022-05-07T08:03:32.697Z"
   },
   {
    "duration": 25,
    "start_time": "2022-05-07T08:03:32.714Z"
   },
   {
    "duration": 17,
    "start_time": "2022-05-07T08:03:32.741Z"
   },
   {
    "duration": 12,
    "start_time": "2022-05-07T08:03:38.854Z"
   },
   {
    "duration": 18,
    "start_time": "2022-05-07T08:05:04.283Z"
   },
   {
    "duration": 24,
    "start_time": "2022-05-07T08:05:21.573Z"
   },
   {
    "duration": 149,
    "start_time": "2022-05-07T08:06:22.854Z"
   },
   {
    "duration": 34,
    "start_time": "2022-05-07T08:06:31.539Z"
   },
   {
    "duration": 33,
    "start_time": "2022-05-07T08:06:39.887Z"
   },
   {
    "duration": 16,
    "start_time": "2022-05-07T08:07:13.912Z"
   },
   {
    "duration": 21,
    "start_time": "2022-05-07T08:07:28.799Z"
   },
   {
    "duration": 14,
    "start_time": "2022-05-07T08:07:29.486Z"
   },
   {
    "duration": 23,
    "start_time": "2022-05-07T08:08:54.257Z"
   },
   {
    "duration": 16,
    "start_time": "2022-05-07T08:09:04.856Z"
   },
   {
    "duration": 36,
    "start_time": "2022-05-07T08:09:50.812Z"
   },
   {
    "duration": 36,
    "start_time": "2022-05-07T08:09:55.487Z"
   },
   {
    "duration": 29,
    "start_time": "2022-05-07T08:10:34.442Z"
   },
   {
    "duration": 24,
    "start_time": "2022-05-07T08:11:55.702Z"
   },
   {
    "duration": 21,
    "start_time": "2022-05-07T08:12:04.717Z"
   },
   {
    "duration": 6,
    "start_time": "2022-05-07T08:12:09.130Z"
   },
   {
    "duration": 21,
    "start_time": "2022-05-07T08:12:15.562Z"
   },
   {
    "duration": 28,
    "start_time": "2022-05-07T08:13:33.471Z"
   },
   {
    "duration": 12,
    "start_time": "2022-05-07T08:13:41.512Z"
   },
   {
    "duration": 22,
    "start_time": "2022-05-07T08:13:42.143Z"
   },
   {
    "duration": 11,
    "start_time": "2022-05-07T08:14:38.677Z"
   },
   {
    "duration": 18,
    "start_time": "2022-05-07T08:15:24.049Z"
   },
   {
    "duration": 17,
    "start_time": "2022-05-07T08:15:49.122Z"
   },
   {
    "duration": 18,
    "start_time": "2022-05-07T08:16:08.739Z"
   },
   {
    "duration": 13,
    "start_time": "2022-05-07T08:16:43.599Z"
   },
   {
    "duration": 15,
    "start_time": "2022-05-07T08:16:51.030Z"
   },
   {
    "duration": 27,
    "start_time": "2022-05-07T08:16:55.736Z"
   },
   {
    "duration": 16,
    "start_time": "2022-05-07T08:17:16.231Z"
   },
   {
    "duration": 27,
    "start_time": "2022-05-07T08:17:16.451Z"
   },
   {
    "duration": 4,
    "start_time": "2022-05-07T08:17:21.710Z"
   },
   {
    "duration": 563,
    "start_time": "2022-05-07T08:17:21.717Z"
   },
   {
    "duration": 12,
    "start_time": "2022-05-07T08:17:22.282Z"
   },
   {
    "duration": 35,
    "start_time": "2022-05-07T08:17:22.296Z"
   },
   {
    "duration": 59,
    "start_time": "2022-05-07T08:17:22.334Z"
   },
   {
    "duration": 35,
    "start_time": "2022-05-07T08:17:22.395Z"
   },
   {
    "duration": 70,
    "start_time": "2022-05-07T08:17:22.432Z"
   },
   {
    "duration": 99,
    "start_time": "2022-05-07T08:17:22.504Z"
   },
   {
    "duration": 13,
    "start_time": "2022-05-07T08:17:22.605Z"
   },
   {
    "duration": 21,
    "start_time": "2022-05-07T08:17:22.620Z"
   },
   {
    "duration": 10,
    "start_time": "2022-05-07T08:17:22.644Z"
   },
   {
    "duration": 49,
    "start_time": "2022-05-07T08:17:22.657Z"
   },
   {
    "duration": 28,
    "start_time": "2022-05-07T08:17:22.708Z"
   },
   {
    "duration": 56,
    "start_time": "2022-05-07T08:17:22.738Z"
   },
   {
    "duration": 35,
    "start_time": "2022-05-07T08:17:22.796Z"
   },
   {
    "duration": 12,
    "start_time": "2022-05-07T08:17:22.833Z"
   },
   {
    "duration": 60,
    "start_time": "2022-05-07T08:17:22.847Z"
   },
   {
    "duration": 24,
    "start_time": "2022-05-07T08:17:22.910Z"
   },
   {
    "duration": 56,
    "start_time": "2022-05-07T08:17:22.937Z"
   },
   {
    "duration": 13,
    "start_time": "2022-05-07T08:17:22.995Z"
   },
   {
    "duration": 16,
    "start_time": "2022-05-07T08:17:23.011Z"
   },
   {
    "duration": 16,
    "start_time": "2022-05-07T08:17:23.030Z"
   },
   {
    "duration": 46,
    "start_time": "2022-05-07T08:17:23.048Z"
   },
   {
    "duration": 11,
    "start_time": "2022-05-07T08:17:23.096Z"
   },
   {
    "duration": 7,
    "start_time": "2022-05-07T08:17:23.109Z"
   },
   {
    "duration": 10,
    "start_time": "2022-05-07T08:17:23.118Z"
   },
   {
    "duration": 32,
    "start_time": "2022-05-07T08:17:23.130Z"
   },
   {
    "duration": 13,
    "start_time": "2022-05-07T08:17:23.192Z"
   },
   {
    "duration": 69,
    "start_time": "2022-05-07T08:17:23.212Z"
   },
   {
    "duration": 12,
    "start_time": "2022-05-07T08:17:23.293Z"
   },
   {
    "duration": 21,
    "start_time": "2022-05-07T08:17:23.307Z"
   },
   {
    "duration": 25,
    "start_time": "2022-05-07T08:17:23.330Z"
   },
   {
    "duration": 38,
    "start_time": "2022-05-07T08:17:23.357Z"
   },
   {
    "duration": 26,
    "start_time": "2022-05-07T08:17:23.397Z"
   },
   {
    "duration": 27,
    "start_time": "2022-05-07T08:17:23.425Z"
   },
   {
    "duration": 39,
    "start_time": "2022-05-07T08:17:23.454Z"
   },
   {
    "duration": 17,
    "start_time": "2022-05-07T08:17:23.495Z"
   },
   {
    "duration": 20,
    "start_time": "2022-05-07T08:17:23.514Z"
   },
   {
    "duration": 22,
    "start_time": "2022-05-07T08:17:23.537Z"
   },
   {
    "duration": 38,
    "start_time": "2022-05-07T08:17:23.561Z"
   },
   {
    "duration": 14,
    "start_time": "2022-05-07T08:17:23.602Z"
   },
   {
    "duration": 15,
    "start_time": "2022-05-07T08:17:23.618Z"
   },
   {
    "duration": 27,
    "start_time": "2022-05-07T08:17:23.636Z"
   },
   {
    "duration": 18227,
    "start_time": "2022-05-07T08:17:23.666Z"
   },
   {
    "duration": 18,
    "start_time": "2022-05-07T08:17:41.895Z"
   },
   {
    "duration": 30,
    "start_time": "2022-05-07T08:17:41.918Z"
   },
   {
    "duration": 44,
    "start_time": "2022-05-07T08:17:41.951Z"
   },
   {
    "duration": 13,
    "start_time": "2022-05-07T08:17:41.997Z"
   },
   {
    "duration": 7566,
    "start_time": "2022-05-07T08:17:42.012Z"
   },
   {
    "duration": 0,
    "start_time": "2022-05-07T08:17:49.582Z"
   },
   {
    "duration": 0,
    "start_time": "2022-05-07T08:17:49.583Z"
   },
   {
    "duration": 0,
    "start_time": "2022-05-07T08:17:49.593Z"
   },
   {
    "duration": 0,
    "start_time": "2022-05-07T08:17:49.595Z"
   },
   {
    "duration": 0,
    "start_time": "2022-05-07T08:17:49.596Z"
   },
   {
    "duration": 0,
    "start_time": "2022-05-07T08:17:49.597Z"
   },
   {
    "duration": 0,
    "start_time": "2022-05-07T08:17:49.599Z"
   },
   {
    "duration": 0,
    "start_time": "2022-05-07T08:17:49.601Z"
   },
   {
    "duration": 0,
    "start_time": "2022-05-07T08:17:49.602Z"
   },
   {
    "duration": 0,
    "start_time": "2022-05-07T08:17:49.603Z"
   },
   {
    "duration": 0,
    "start_time": "2022-05-07T08:17:49.605Z"
   },
   {
    "duration": 0,
    "start_time": "2022-05-07T08:17:49.606Z"
   },
   {
    "duration": 0,
    "start_time": "2022-05-07T08:17:49.608Z"
   },
   {
    "duration": 0,
    "start_time": "2022-05-07T08:17:49.609Z"
   },
   {
    "duration": 0,
    "start_time": "2022-05-07T08:17:49.611Z"
   },
   {
    "duration": 0,
    "start_time": "2022-05-07T08:17:49.612Z"
   },
   {
    "duration": 0,
    "start_time": "2022-05-07T08:17:49.614Z"
   },
   {
    "duration": 0,
    "start_time": "2022-05-07T08:17:49.616Z"
   },
   {
    "duration": 0,
    "start_time": "2022-05-07T08:17:49.617Z"
   },
   {
    "duration": 0,
    "start_time": "2022-05-07T08:17:49.619Z"
   },
   {
    "duration": 0,
    "start_time": "2022-05-07T08:17:49.620Z"
   },
   {
    "duration": 0,
    "start_time": "2022-05-07T08:17:49.622Z"
   },
   {
    "duration": 0,
    "start_time": "2022-05-07T08:17:49.623Z"
   },
   {
    "duration": 0,
    "start_time": "2022-05-07T08:17:49.624Z"
   },
   {
    "duration": 0,
    "start_time": "2022-05-07T08:17:49.626Z"
   },
   {
    "duration": 0,
    "start_time": "2022-05-07T08:17:49.627Z"
   },
   {
    "duration": 0,
    "start_time": "2022-05-07T08:17:49.693Z"
   },
   {
    "duration": 0,
    "start_time": "2022-05-07T08:17:49.694Z"
   },
   {
    "duration": 0,
    "start_time": "2022-05-07T08:17:49.696Z"
   },
   {
    "duration": 0,
    "start_time": "2022-05-07T08:17:49.697Z"
   },
   {
    "duration": 0,
    "start_time": "2022-05-07T08:17:49.698Z"
   },
   {
    "duration": 0,
    "start_time": "2022-05-07T08:17:49.699Z"
   },
   {
    "duration": 0,
    "start_time": "2022-05-07T08:17:49.701Z"
   },
   {
    "duration": 0,
    "start_time": "2022-05-07T08:17:49.702Z"
   },
   {
    "duration": 0,
    "start_time": "2022-05-07T08:17:49.704Z"
   },
   {
    "duration": 0,
    "start_time": "2022-05-07T08:17:49.705Z"
   },
   {
    "duration": 0,
    "start_time": "2022-05-07T08:17:49.706Z"
   },
   {
    "duration": 0,
    "start_time": "2022-05-07T08:17:49.707Z"
   },
   {
    "duration": 0,
    "start_time": "2022-05-07T08:17:49.708Z"
   },
   {
    "duration": 0,
    "start_time": "2022-05-07T08:17:49.709Z"
   },
   {
    "duration": 0,
    "start_time": "2022-05-07T08:17:49.711Z"
   },
   {
    "duration": 0,
    "start_time": "2022-05-07T08:17:49.712Z"
   },
   {
    "duration": 0,
    "start_time": "2022-05-07T08:17:49.713Z"
   },
   {
    "duration": 0,
    "start_time": "2022-05-07T08:17:49.716Z"
   },
   {
    "duration": 0,
    "start_time": "2022-05-07T08:17:49.718Z"
   },
   {
    "duration": 0,
    "start_time": "2022-05-07T08:17:49.720Z"
   },
   {
    "duration": 0,
    "start_time": "2022-05-07T08:17:49.722Z"
   },
   {
    "duration": 0,
    "start_time": "2022-05-07T08:17:49.724Z"
   },
   {
    "duration": 0,
    "start_time": "2022-05-07T08:17:49.726Z"
   },
   {
    "duration": 0,
    "start_time": "2022-05-07T08:17:49.728Z"
   },
   {
    "duration": 0,
    "start_time": "2022-05-07T08:17:49.730Z"
   },
   {
    "duration": 0,
    "start_time": "2022-05-07T08:17:49.732Z"
   },
   {
    "duration": 0,
    "start_time": "2022-05-07T08:17:49.794Z"
   },
   {
    "duration": 0,
    "start_time": "2022-05-07T08:17:49.796Z"
   },
   {
    "duration": 0,
    "start_time": "2022-05-07T08:17:49.798Z"
   },
   {
    "duration": 0,
    "start_time": "2022-05-07T08:17:49.800Z"
   },
   {
    "duration": 0,
    "start_time": "2022-05-07T08:17:49.802Z"
   },
   {
    "duration": 0,
    "start_time": "2022-05-07T08:17:49.804Z"
   },
   {
    "duration": 0,
    "start_time": "2022-05-07T08:17:49.806Z"
   },
   {
    "duration": 4,
    "start_time": "2022-05-07T08:17:53.676Z"
   },
   {
    "duration": 508,
    "start_time": "2022-05-07T08:17:53.683Z"
   },
   {
    "duration": 11,
    "start_time": "2022-05-07T08:17:54.194Z"
   },
   {
    "duration": 33,
    "start_time": "2022-05-07T08:17:54.207Z"
   },
   {
    "duration": 55,
    "start_time": "2022-05-07T08:17:54.243Z"
   },
   {
    "duration": 33,
    "start_time": "2022-05-07T08:17:54.300Z"
   },
   {
    "duration": 60,
    "start_time": "2022-05-07T08:17:54.335Z"
   },
   {
    "duration": 157,
    "start_time": "2022-05-07T08:17:54.397Z"
   },
   {
    "duration": 13,
    "start_time": "2022-05-07T08:17:54.557Z"
   },
   {
    "duration": 25,
    "start_time": "2022-05-07T08:17:54.572Z"
   },
   {
    "duration": 10,
    "start_time": "2022-05-07T08:17:54.603Z"
   },
   {
    "duration": 29,
    "start_time": "2022-05-07T08:17:54.615Z"
   },
   {
    "duration": 66,
    "start_time": "2022-05-07T08:17:54.646Z"
   },
   {
    "duration": 26,
    "start_time": "2022-05-07T08:17:54.714Z"
   },
   {
    "duration": 54,
    "start_time": "2022-05-07T08:17:54.742Z"
   },
   {
    "duration": 10,
    "start_time": "2022-05-07T08:17:54.798Z"
   },
   {
    "duration": 27,
    "start_time": "2022-05-07T08:17:54.810Z"
   },
   {
    "duration": 22,
    "start_time": "2022-05-07T08:17:54.839Z"
   },
   {
    "duration": 55,
    "start_time": "2022-05-07T08:17:54.863Z"
   },
   {
    "duration": 11,
    "start_time": "2022-05-07T08:17:54.921Z"
   },
   {
    "duration": 19,
    "start_time": "2022-05-07T08:17:54.934Z"
   },
   {
    "duration": 40,
    "start_time": "2022-05-07T08:17:54.955Z"
   },
   {
    "duration": 9,
    "start_time": "2022-05-07T08:17:54.997Z"
   },
   {
    "duration": 8,
    "start_time": "2022-05-07T08:17:55.008Z"
   },
   {
    "duration": 8,
    "start_time": "2022-05-07T08:17:55.018Z"
   },
   {
    "duration": 11,
    "start_time": "2022-05-07T08:17:55.028Z"
   },
   {
    "duration": 70,
    "start_time": "2022-05-07T08:17:55.041Z"
   },
   {
    "duration": 13,
    "start_time": "2022-05-07T08:17:55.113Z"
   },
   {
    "duration": 80,
    "start_time": "2022-05-07T08:17:55.131Z"
   },
   {
    "duration": 13,
    "start_time": "2022-05-07T08:17:55.213Z"
   },
   {
    "duration": 24,
    "start_time": "2022-05-07T08:17:55.228Z"
   },
   {
    "duration": 49,
    "start_time": "2022-05-07T08:17:55.254Z"
   },
   {
    "duration": 11,
    "start_time": "2022-05-07T08:17:55.305Z"
   },
   {
    "duration": 25,
    "start_time": "2022-05-07T08:17:55.318Z"
   },
   {
    "duration": 52,
    "start_time": "2022-05-07T08:17:55.344Z"
   },
   {
    "duration": 10,
    "start_time": "2022-05-07T08:17:55.399Z"
   },
   {
    "duration": 15,
    "start_time": "2022-05-07T08:17:55.412Z"
   },
   {
    "duration": 13,
    "start_time": "2022-05-07T08:17:55.430Z"
   },
   {
    "duration": 57,
    "start_time": "2022-05-07T08:17:55.446Z"
   },
   {
    "duration": 14,
    "start_time": "2022-05-07T08:17:55.505Z"
   },
   {
    "duration": 17,
    "start_time": "2022-05-07T08:17:55.521Z"
   },
   {
    "duration": 15,
    "start_time": "2022-05-07T08:17:55.540Z"
   },
   {
    "duration": 55,
    "start_time": "2022-05-07T08:17:55.557Z"
   },
   {
    "duration": 12,
    "start_time": "2022-05-07T08:18:15.477Z"
   },
   {
    "duration": 16,
    "start_time": "2022-05-07T08:18:58.665Z"
   },
   {
    "duration": 25,
    "start_time": "2022-05-07T08:19:01.516Z"
   },
   {
    "duration": 16,
    "start_time": "2022-05-07T08:19:32.237Z"
   },
   {
    "duration": 26,
    "start_time": "2022-05-07T08:19:34.305Z"
   },
   {
    "duration": 14,
    "start_time": "2022-05-07T08:21:17.565Z"
   },
   {
    "duration": 24,
    "start_time": "2022-05-07T08:21:30.555Z"
   },
   {
    "duration": 13,
    "start_time": "2022-05-07T08:21:34.297Z"
   },
   {
    "duration": 14,
    "start_time": "2022-05-07T08:21:38.538Z"
   },
   {
    "duration": 14,
    "start_time": "2022-05-07T08:21:41.859Z"
   },
   {
    "duration": 16,
    "start_time": "2022-05-07T08:22:30.347Z"
   },
   {
    "duration": 198,
    "start_time": "2022-05-07T08:27:06.210Z"
   },
   {
    "duration": 18,
    "start_time": "2022-05-07T08:27:15.146Z"
   },
   {
    "duration": 16,
    "start_time": "2022-05-07T08:27:21.662Z"
   },
   {
    "duration": 27,
    "start_time": "2022-05-07T08:29:31.003Z"
   },
   {
    "duration": 11,
    "start_time": "2022-05-07T08:29:32.831Z"
   },
   {
    "duration": 28,
    "start_time": "2022-05-07T08:29:33.045Z"
   },
   {
    "duration": 28,
    "start_time": "2022-05-07T08:29:49.392Z"
   },
   {
    "duration": 11,
    "start_time": "2022-05-07T08:29:49.922Z"
   },
   {
    "duration": 29,
    "start_time": "2022-05-07T08:29:50.203Z"
   },
   {
    "duration": 17,
    "start_time": "2022-05-07T08:30:19.083Z"
   },
   {
    "duration": 5,
    "start_time": "2022-05-07T08:31:03.447Z"
   },
   {
    "duration": 546,
    "start_time": "2022-05-07T08:31:03.454Z"
   },
   {
    "duration": 13,
    "start_time": "2022-05-07T08:31:04.002Z"
   },
   {
    "duration": 37,
    "start_time": "2022-05-07T08:31:04.017Z"
   },
   {
    "duration": 63,
    "start_time": "2022-05-07T08:31:04.058Z"
   },
   {
    "duration": 35,
    "start_time": "2022-05-07T08:31:04.123Z"
   },
   {
    "duration": 46,
    "start_time": "2022-05-07T08:31:04.194Z"
   },
   {
    "duration": 103,
    "start_time": "2022-05-07T08:31:04.242Z"
   },
   {
    "duration": 15,
    "start_time": "2022-05-07T08:31:04.347Z"
   },
   {
    "duration": 35,
    "start_time": "2022-05-07T08:31:04.364Z"
   },
   {
    "duration": 10,
    "start_time": "2022-05-07T08:31:04.404Z"
   },
   {
    "duration": 29,
    "start_time": "2022-05-07T08:31:04.417Z"
   },
   {
    "duration": 61,
    "start_time": "2022-05-07T08:31:04.449Z"
   },
   {
    "duration": 28,
    "start_time": "2022-05-07T08:31:04.513Z"
   },
   {
    "duration": 61,
    "start_time": "2022-05-07T08:31:04.544Z"
   },
   {
    "duration": 10,
    "start_time": "2022-05-07T08:31:04.607Z"
   },
   {
    "duration": 29,
    "start_time": "2022-05-07T08:31:04.619Z"
   },
   {
    "duration": 43,
    "start_time": "2022-05-07T08:31:04.650Z"
   },
   {
    "duration": 26,
    "start_time": "2022-05-07T08:31:04.695Z"
   },
   {
    "duration": 11,
    "start_time": "2022-05-07T08:31:04.723Z"
   },
   {
    "duration": 16,
    "start_time": "2022-05-07T08:31:04.736Z"
   },
   {
    "duration": 47,
    "start_time": "2022-05-07T08:31:04.754Z"
   },
   {
    "duration": 13,
    "start_time": "2022-05-07T08:31:04.803Z"
   },
   {
    "duration": 16,
    "start_time": "2022-05-07T08:31:04.818Z"
   },
   {
    "duration": 7,
    "start_time": "2022-05-07T08:31:04.836Z"
   },
   {
    "duration": 12,
    "start_time": "2022-05-07T08:31:04.844Z"
   },
   {
    "duration": 55,
    "start_time": "2022-05-07T08:31:04.858Z"
   },
   {
    "duration": 12,
    "start_time": "2022-05-07T08:31:04.915Z"
   },
   {
    "duration": 78,
    "start_time": "2022-05-07T08:31:04.934Z"
   },
   {
    "duration": 12,
    "start_time": "2022-05-07T08:31:05.015Z"
   },
   {
    "duration": 26,
    "start_time": "2022-05-07T08:31:05.029Z"
   },
   {
    "duration": 51,
    "start_time": "2022-05-07T08:31:05.057Z"
   },
   {
    "duration": 12,
    "start_time": "2022-05-07T08:31:05.111Z"
   },
   {
    "duration": 26,
    "start_time": "2022-05-07T08:31:05.125Z"
   },
   {
    "duration": 53,
    "start_time": "2022-05-07T08:31:05.153Z"
   },
   {
    "duration": 10,
    "start_time": "2022-05-07T08:31:05.209Z"
   },
   {
    "duration": 32,
    "start_time": "2022-05-07T08:31:05.222Z"
   },
   {
    "duration": 17,
    "start_time": "2022-05-07T08:31:05.256Z"
   },
   {
    "duration": 20,
    "start_time": "2022-05-07T08:31:05.275Z"
   },
   {
    "duration": 13,
    "start_time": "2022-05-07T08:31:05.298Z"
   },
   {
    "duration": 15,
    "start_time": "2022-05-07T08:31:05.313Z"
   },
   {
    "duration": 16,
    "start_time": "2022-05-07T08:31:05.330Z"
   },
   {
    "duration": 54,
    "start_time": "2022-05-07T08:31:05.348Z"
   },
   {
    "duration": 17,
    "start_time": "2022-05-07T08:31:05.405Z"
   },
   {
    "duration": 26,
    "start_time": "2022-05-07T08:31:05.424Z"
   },
   {
    "duration": 51,
    "start_time": "2022-05-07T08:31:05.453Z"
   },
   {
    "duration": 18,
    "start_time": "2022-05-07T08:31:05.507Z"
   },
   {
    "duration": 14415,
    "start_time": "2022-05-07T08:31:05.527Z"
   },
   {
    "duration": 17,
    "start_time": "2022-05-07T08:31:19.944Z"
   },
   {
    "duration": 38,
    "start_time": "2022-05-07T08:31:19.963Z"
   },
   {
    "duration": 15,
    "start_time": "2022-05-07T08:31:20.003Z"
   },
   {
    "duration": 16,
    "start_time": "2022-05-07T08:31:20.021Z"
   },
   {
    "duration": 17492,
    "start_time": "2022-05-07T08:31:20.039Z"
   },
   {
    "duration": 16,
    "start_time": "2022-05-07T08:31:37.533Z"
   },
   {
    "duration": 42,
    "start_time": "2022-05-07T08:31:37.551Z"
   },
   {
    "duration": 15,
    "start_time": "2022-05-07T08:31:37.595Z"
   },
   {
    "duration": 16,
    "start_time": "2022-05-07T08:31:37.613Z"
   },
   {
    "duration": 0,
    "start_time": "2022-05-07T08:31:37.632Z"
   },
   {
    "duration": 0,
    "start_time": "2022-05-07T08:31:37.634Z"
   },
   {
    "duration": 0,
    "start_time": "2022-05-07T08:31:37.635Z"
   },
   {
    "duration": 0,
    "start_time": "2022-05-07T08:31:37.637Z"
   },
   {
    "duration": 0,
    "start_time": "2022-05-07T08:31:37.638Z"
   },
   {
    "duration": 0,
    "start_time": "2022-05-07T08:31:37.640Z"
   },
   {
    "duration": 0,
    "start_time": "2022-05-07T08:31:37.641Z"
   },
   {
    "duration": 0,
    "start_time": "2022-05-07T08:31:37.642Z"
   },
   {
    "duration": 0,
    "start_time": "2022-05-07T08:31:37.643Z"
   },
   {
    "duration": 0,
    "start_time": "2022-05-07T08:31:37.693Z"
   },
   {
    "duration": 0,
    "start_time": "2022-05-07T08:31:37.695Z"
   },
   {
    "duration": 0,
    "start_time": "2022-05-07T08:31:37.696Z"
   },
   {
    "duration": 1,
    "start_time": "2022-05-07T08:31:37.697Z"
   },
   {
    "duration": 0,
    "start_time": "2022-05-07T08:31:37.699Z"
   },
   {
    "duration": 0,
    "start_time": "2022-05-07T08:31:37.701Z"
   },
   {
    "duration": 0,
    "start_time": "2022-05-07T08:31:37.702Z"
   },
   {
    "duration": 0,
    "start_time": "2022-05-07T08:31:37.704Z"
   },
   {
    "duration": 0,
    "start_time": "2022-05-07T08:31:37.705Z"
   },
   {
    "duration": 0,
    "start_time": "2022-05-07T08:31:37.707Z"
   },
   {
    "duration": 0,
    "start_time": "2022-05-07T08:31:37.708Z"
   },
   {
    "duration": 0,
    "start_time": "2022-05-07T08:31:37.709Z"
   },
   {
    "duration": 0,
    "start_time": "2022-05-07T08:31:37.711Z"
   },
   {
    "duration": 0,
    "start_time": "2022-05-07T08:31:37.712Z"
   },
   {
    "duration": 0,
    "start_time": "2022-05-07T08:31:37.714Z"
   },
   {
    "duration": 0,
    "start_time": "2022-05-07T08:31:37.715Z"
   },
   {
    "duration": 0,
    "start_time": "2022-05-07T08:31:37.716Z"
   },
   {
    "duration": 0,
    "start_time": "2022-05-07T08:31:37.718Z"
   },
   {
    "duration": 0,
    "start_time": "2022-05-07T08:31:37.719Z"
   },
   {
    "duration": 0,
    "start_time": "2022-05-07T08:31:37.720Z"
   },
   {
    "duration": 0,
    "start_time": "2022-05-07T08:31:37.722Z"
   },
   {
    "duration": 0,
    "start_time": "2022-05-07T08:31:37.723Z"
   },
   {
    "duration": 0,
    "start_time": "2022-05-07T08:31:37.724Z"
   },
   {
    "duration": 0,
    "start_time": "2022-05-07T08:31:37.726Z"
   },
   {
    "duration": 0,
    "start_time": "2022-05-07T08:31:37.727Z"
   },
   {
    "duration": 0,
    "start_time": "2022-05-07T08:31:37.729Z"
   },
   {
    "duration": 0,
    "start_time": "2022-05-07T08:31:37.730Z"
   },
   {
    "duration": 0,
    "start_time": "2022-05-07T08:31:37.731Z"
   },
   {
    "duration": 0,
    "start_time": "2022-05-07T08:31:37.733Z"
   },
   {
    "duration": 0,
    "start_time": "2022-05-07T08:31:37.734Z"
   },
   {
    "duration": 0,
    "start_time": "2022-05-07T08:31:37.793Z"
   },
   {
    "duration": 0,
    "start_time": "2022-05-07T08:31:37.795Z"
   },
   {
    "duration": 0,
    "start_time": "2022-05-07T08:31:37.796Z"
   },
   {
    "duration": 0,
    "start_time": "2022-05-07T08:31:37.797Z"
   },
   {
    "duration": 0,
    "start_time": "2022-05-07T08:31:37.799Z"
   },
   {
    "duration": 0,
    "start_time": "2022-05-07T08:31:37.800Z"
   },
   {
    "duration": 0,
    "start_time": "2022-05-07T08:31:37.802Z"
   },
   {
    "duration": 0,
    "start_time": "2022-05-07T08:31:37.803Z"
   },
   {
    "duration": 0,
    "start_time": "2022-05-07T08:31:37.804Z"
   },
   {
    "duration": 0,
    "start_time": "2022-05-07T08:31:37.805Z"
   },
   {
    "duration": 0,
    "start_time": "2022-05-07T08:31:37.807Z"
   },
   {
    "duration": 12,
    "start_time": "2022-05-07T08:34:40.993Z"
   },
   {
    "duration": 15,
    "start_time": "2022-05-07T08:36:53.356Z"
   },
   {
    "duration": 11,
    "start_time": "2022-05-07T08:36:57.317Z"
   },
   {
    "duration": 14,
    "start_time": "2022-05-07T08:36:57.659Z"
   },
   {
    "duration": 16,
    "start_time": "2022-05-07T08:36:58.013Z"
   },
   {
    "duration": 15,
    "start_time": "2022-05-07T08:36:58.394Z"
   },
   {
    "duration": 25,
    "start_time": "2022-05-07T08:36:58.924Z"
   },
   {
    "duration": 11,
    "start_time": "2022-05-07T08:37:06.055Z"
   },
   {
    "duration": 30,
    "start_time": "2022-05-07T08:37:09.527Z"
   },
   {
    "duration": 4,
    "start_time": "2022-05-07T08:37:16.368Z"
   },
   {
    "duration": 548,
    "start_time": "2022-05-07T08:37:16.378Z"
   },
   {
    "duration": 12,
    "start_time": "2022-05-07T08:37:16.929Z"
   },
   {
    "duration": 34,
    "start_time": "2022-05-07T08:37:16.944Z"
   },
   {
    "duration": 33,
    "start_time": "2022-05-07T08:37:16.982Z"
   },
   {
    "duration": 34,
    "start_time": "2022-05-07T08:37:17.018Z"
   },
   {
    "duration": 64,
    "start_time": "2022-05-07T08:37:17.054Z"
   },
   {
    "duration": 92,
    "start_time": "2022-05-07T08:37:17.120Z"
   },
   {
    "duration": 12,
    "start_time": "2022-05-07T08:37:17.215Z"
   },
   {
    "duration": 14,
    "start_time": "2022-05-07T08:37:17.230Z"
   },
   {
    "duration": 13,
    "start_time": "2022-05-07T08:37:17.249Z"
   },
   {
    "duration": 52,
    "start_time": "2022-05-07T08:37:17.264Z"
   },
   {
    "duration": 27,
    "start_time": "2022-05-07T08:37:17.318Z"
   },
   {
    "duration": 54,
    "start_time": "2022-05-07T08:37:17.346Z"
   },
   {
    "duration": 37,
    "start_time": "2022-05-07T08:37:17.402Z"
   },
   {
    "duration": 13,
    "start_time": "2022-05-07T08:37:17.441Z"
   },
   {
    "duration": 51,
    "start_time": "2022-05-07T08:37:17.457Z"
   },
   {
    "duration": 24,
    "start_time": "2022-05-07T08:37:17.510Z"
   },
   {
    "duration": 27,
    "start_time": "2022-05-07T08:37:17.537Z"
   },
   {
    "duration": 36,
    "start_time": "2022-05-07T08:37:17.566Z"
   },
   {
    "duration": 15,
    "start_time": "2022-05-07T08:37:17.604Z"
   },
   {
    "duration": 17,
    "start_time": "2022-05-07T08:37:17.622Z"
   },
   {
    "duration": 6,
    "start_time": "2022-05-07T08:37:17.641Z"
   },
   {
    "duration": 47,
    "start_time": "2022-05-07T08:37:17.649Z"
   },
   {
    "duration": 6,
    "start_time": "2022-05-07T08:37:17.698Z"
   },
   {
    "duration": 15,
    "start_time": "2022-05-07T08:37:17.706Z"
   },
   {
    "duration": 41,
    "start_time": "2022-05-07T08:37:17.723Z"
   },
   {
    "duration": 28,
    "start_time": "2022-05-07T08:37:17.766Z"
   },
   {
    "duration": 63,
    "start_time": "2022-05-07T08:37:17.800Z"
   },
   {
    "duration": 30,
    "start_time": "2022-05-07T08:37:17.865Z"
   },
   {
    "duration": 25,
    "start_time": "2022-05-07T08:37:17.897Z"
   },
   {
    "duration": 22,
    "start_time": "2022-05-07T08:37:17.924Z"
   },
   {
    "duration": 43,
    "start_time": "2022-05-07T08:37:17.949Z"
   },
   {
    "duration": 24,
    "start_time": "2022-05-07T08:37:17.994Z"
   },
   {
    "duration": 28,
    "start_time": "2022-05-07T08:37:18.020Z"
   },
   {
    "duration": 10,
    "start_time": "2022-05-07T08:37:18.050Z"
   },
   {
    "duration": 41,
    "start_time": "2022-05-07T08:37:18.062Z"
   },
   {
    "duration": 21,
    "start_time": "2022-05-07T08:37:18.106Z"
   },
   {
    "duration": 29,
    "start_time": "2022-05-07T08:37:18.130Z"
   },
   {
    "duration": 37,
    "start_time": "2022-05-07T08:37:18.162Z"
   },
   {
    "duration": 14,
    "start_time": "2022-05-07T08:37:18.201Z"
   },
   {
    "duration": 14,
    "start_time": "2022-05-07T08:37:18.217Z"
   },
   {
    "duration": 23,
    "start_time": "2022-05-07T08:37:18.233Z"
   },
   {
    "duration": 52,
    "start_time": "2022-05-07T08:37:18.258Z"
   },
   {
    "duration": 27,
    "start_time": "2022-05-07T08:37:18.312Z"
   },
   {
    "duration": 17,
    "start_time": "2022-05-07T08:37:18.341Z"
   },
   {
    "duration": 46,
    "start_time": "2022-05-07T08:37:18.359Z"
   },
   {
    "duration": 14,
    "start_time": "2022-05-07T08:37:18.408Z"
   },
   {
    "duration": 15,
    "start_time": "2022-05-07T08:37:18.424Z"
   },
   {
    "duration": 15,
    "start_time": "2022-05-07T08:37:18.442Z"
   },
   {
    "duration": 50,
    "start_time": "2022-05-07T08:37:18.459Z"
   },
   {
    "duration": 26,
    "start_time": "2022-05-07T08:37:18.511Z"
   },
   {
    "duration": 55,
    "start_time": "2022-05-07T08:37:18.539Z"
   },
   {
    "duration": 11,
    "start_time": "2022-05-07T08:41:13.064Z"
   },
   {
    "duration": 15,
    "start_time": "2022-05-07T08:44:16.922Z"
   },
   {
    "duration": 21,
    "start_time": "2022-05-07T08:44:17.442Z"
   },
   {
    "duration": 16,
    "start_time": "2022-05-07T08:44:17.812Z"
   },
   {
    "duration": 17,
    "start_time": "2022-05-07T08:44:49.687Z"
   },
   {
    "duration": 18,
    "start_time": "2022-05-07T08:44:50.684Z"
   },
   {
    "duration": 16,
    "start_time": "2022-05-07T08:44:51.211Z"
   },
   {
    "duration": 26,
    "start_time": "2022-05-07T08:44:52.162Z"
   },
   {
    "duration": 29,
    "start_time": "2022-05-07T08:44:58.260Z"
   },
   {
    "duration": 18,
    "start_time": "2022-05-07T08:46:04.227Z"
   },
   {
    "duration": 25,
    "start_time": "2022-05-07T08:47:27.126Z"
   },
   {
    "duration": 12,
    "start_time": "2022-05-07T08:47:34.282Z"
   },
   {
    "duration": 13,
    "start_time": "2022-05-07T08:48:19.537Z"
   },
   {
    "duration": 13,
    "start_time": "2022-05-07T08:48:23.735Z"
   },
   {
    "duration": 12,
    "start_time": "2022-05-07T08:48:37.315Z"
   },
   {
    "duration": 1832,
    "start_time": "2022-05-09T10:13:35.663Z"
   },
   {
    "duration": 581,
    "start_time": "2022-05-09T10:13:37.499Z"
   },
   {
    "duration": 23,
    "start_time": "2022-05-09T10:13:38.083Z"
   },
   {
    "duration": 36,
    "start_time": "2022-05-09T10:13:38.109Z"
   },
   {
    "duration": 65,
    "start_time": "2022-05-09T10:13:38.147Z"
   },
   {
    "duration": 34,
    "start_time": "2022-05-09T10:13:38.215Z"
   },
   {
    "duration": 74,
    "start_time": "2022-05-09T10:13:38.251Z"
   },
   {
    "duration": 109,
    "start_time": "2022-05-09T10:13:38.327Z"
   },
   {
    "duration": 13,
    "start_time": "2022-05-09T10:13:38.438Z"
   },
   {
    "duration": 12,
    "start_time": "2022-05-09T10:13:38.454Z"
   },
   {
    "duration": 35,
    "start_time": "2022-05-09T10:13:38.468Z"
   },
   {
    "duration": 35,
    "start_time": "2022-05-09T10:13:38.505Z"
   },
   {
    "duration": 33,
    "start_time": "2022-05-09T10:13:38.542Z"
   },
   {
    "duration": 50,
    "start_time": "2022-05-09T10:13:38.577Z"
   },
   {
    "duration": 41,
    "start_time": "2022-05-09T10:13:38.630Z"
   },
   {
    "duration": 18,
    "start_time": "2022-05-09T10:13:38.692Z"
   },
   {
    "duration": 28,
    "start_time": "2022-05-09T10:13:38.712Z"
   },
   {
    "duration": 25,
    "start_time": "2022-05-09T10:13:38.742Z"
   },
   {
    "duration": 58,
    "start_time": "2022-05-09T10:13:38.769Z"
   },
   {
    "duration": 12,
    "start_time": "2022-05-09T10:13:38.829Z"
   },
   {
    "duration": 17,
    "start_time": "2022-05-09T10:13:38.843Z"
   },
   {
    "duration": 43,
    "start_time": "2022-05-09T10:13:38.862Z"
   },
   {
    "duration": 14,
    "start_time": "2022-05-09T10:13:38.907Z"
   },
   {
    "duration": 12,
    "start_time": "2022-05-09T10:13:38.923Z"
   },
   {
    "duration": 7,
    "start_time": "2022-05-09T10:13:38.937Z"
   },
   {
    "duration": 10,
    "start_time": "2022-05-09T10:13:38.946Z"
   },
   {
    "duration": 63,
    "start_time": "2022-05-09T10:13:38.958Z"
   },
   {
    "duration": 13,
    "start_time": "2022-05-09T10:13:39.027Z"
   },
   {
    "duration": 111,
    "start_time": "2022-05-09T10:13:39.042Z"
   },
   {
    "duration": 11,
    "start_time": "2022-05-09T10:13:39.155Z"
   },
   {
    "duration": 34,
    "start_time": "2022-05-09T10:13:39.168Z"
   },
   {
    "duration": 37,
    "start_time": "2022-05-09T10:13:39.204Z"
   },
   {
    "duration": 12,
    "start_time": "2022-05-09T10:13:39.243Z"
   },
   {
    "duration": 53,
    "start_time": "2022-05-09T10:13:39.257Z"
   },
   {
    "duration": 36,
    "start_time": "2022-05-09T10:13:39.313Z"
   },
   {
    "duration": 9,
    "start_time": "2022-05-09T10:13:39.351Z"
   },
   {
    "duration": 35,
    "start_time": "2022-05-09T10:13:39.362Z"
   },
   {
    "duration": 17,
    "start_time": "2022-05-09T10:13:39.401Z"
   },
   {
    "duration": 19,
    "start_time": "2022-05-09T10:13:39.421Z"
   },
   {
    "duration": 16,
    "start_time": "2022-05-09T10:13:39.442Z"
   },
   {
    "duration": 41,
    "start_time": "2022-05-09T10:13:39.460Z"
   },
   {
    "duration": 18,
    "start_time": "2022-05-09T10:13:39.503Z"
   },
   {
    "duration": 24,
    "start_time": "2022-05-09T10:13:39.524Z"
   },
   {
    "duration": 44,
    "start_time": "2022-05-09T10:13:39.551Z"
   },
   {
    "duration": 38,
    "start_time": "2022-05-09T10:13:39.603Z"
   },
   {
    "duration": 25,
    "start_time": "2022-05-09T10:13:39.644Z"
   },
   {
    "duration": 29,
    "start_time": "2022-05-09T10:13:39.671Z"
   },
   {
    "duration": 23,
    "start_time": "2022-05-09T10:13:39.704Z"
   },
   {
    "duration": 14,
    "start_time": "2022-05-09T10:13:39.729Z"
   },
   {
    "duration": 14,
    "start_time": "2022-05-09T10:13:39.745Z"
   },
   {
    "duration": 55,
    "start_time": "2022-05-09T10:13:39.762Z"
   },
   {
    "duration": 38,
    "start_time": "2022-05-09T10:13:39.821Z"
   },
   {
    "duration": 55,
    "start_time": "2022-05-09T10:13:39.862Z"
   },
   {
    "duration": 13,
    "start_time": "2022-05-09T10:13:39.920Z"
   },
   {
    "duration": 13,
    "start_time": "2022-05-09T10:13:39.935Z"
   },
   {
    "duration": 44,
    "start_time": "2022-05-09T10:13:39.950Z"
   },
   {
    "duration": 18,
    "start_time": "2022-05-09T10:13:39.999Z"
   },
   {
    "duration": 23,
    "start_time": "2022-05-09T10:13:40.019Z"
   },
   {
    "duration": 67,
    "start_time": "2022-05-09T10:13:40.044Z"
   },
   {
    "duration": 22,
    "start_time": "2022-05-09T10:13:40.113Z"
   },
   {
    "duration": 150,
    "start_time": "2022-05-09T10:13:44.274Z"
   },
   {
    "duration": 5,
    "start_time": "2022-05-09T10:24:48.953Z"
   },
   {
    "duration": 672,
    "start_time": "2022-05-09T10:24:48.961Z"
   },
   {
    "duration": 14,
    "start_time": "2022-05-09T10:24:49.635Z"
   },
   {
    "duration": 35,
    "start_time": "2022-05-09T10:24:49.651Z"
   },
   {
    "duration": 42,
    "start_time": "2022-05-09T10:24:49.690Z"
   },
   {
    "duration": 34,
    "start_time": "2022-05-09T10:24:49.734Z"
   },
   {
    "duration": 82,
    "start_time": "2022-05-09T10:24:49.770Z"
   },
   {
    "duration": 101,
    "start_time": "2022-05-09T10:24:49.854Z"
   },
   {
    "duration": 12,
    "start_time": "2022-05-09T10:24:49.957Z"
   },
   {
    "duration": 31,
    "start_time": "2022-05-09T10:24:49.971Z"
   },
   {
    "duration": 17,
    "start_time": "2022-05-09T10:24:50.009Z"
   },
   {
    "duration": 29,
    "start_time": "2022-05-09T10:24:50.029Z"
   },
   {
    "duration": 59,
    "start_time": "2022-05-09T10:24:50.060Z"
   },
   {
    "duration": 27,
    "start_time": "2022-05-09T10:24:50.121Z"
   },
   {
    "duration": 56,
    "start_time": "2022-05-09T10:24:50.150Z"
   },
   {
    "duration": 10,
    "start_time": "2022-05-09T10:24:50.208Z"
   },
   {
    "duration": 28,
    "start_time": "2022-05-09T10:24:50.221Z"
   },
   {
    "duration": 43,
    "start_time": "2022-05-09T10:24:50.252Z"
   },
   {
    "duration": 35,
    "start_time": "2022-05-09T10:24:50.300Z"
   },
   {
    "duration": 11,
    "start_time": "2022-05-09T10:24:50.338Z"
   },
   {
    "duration": 19,
    "start_time": "2022-05-09T10:24:50.351Z"
   },
   {
    "duration": 44,
    "start_time": "2022-05-09T10:24:50.372Z"
   },
   {
    "duration": 12,
    "start_time": "2022-05-09T10:24:50.419Z"
   },
   {
    "duration": 12,
    "start_time": "2022-05-09T10:24:50.433Z"
   },
   {
    "duration": 9,
    "start_time": "2022-05-09T10:24:50.447Z"
   },
   {
    "duration": 9,
    "start_time": "2022-05-09T10:24:50.458Z"
   },
   {
    "duration": 54,
    "start_time": "2022-05-09T10:24:50.470Z"
   },
   {
    "duration": 14,
    "start_time": "2022-05-09T10:24:50.526Z"
   },
   {
    "duration": 100,
    "start_time": "2022-05-09T10:24:50.548Z"
   },
   {
    "duration": 12,
    "start_time": "2022-05-09T10:24:50.650Z"
   },
   {
    "duration": 41,
    "start_time": "2022-05-09T10:24:50.664Z"
   },
   {
    "duration": 29,
    "start_time": "2022-05-09T10:24:50.707Z"
   },
   {
    "duration": 11,
    "start_time": "2022-05-09T10:24:50.738Z"
   },
   {
    "duration": 60,
    "start_time": "2022-05-09T10:24:50.752Z"
   },
   {
    "duration": 35,
    "start_time": "2022-05-09T10:24:50.815Z"
   },
   {
    "duration": 10,
    "start_time": "2022-05-09T10:24:50.852Z"
   },
   {
    "duration": 42,
    "start_time": "2022-05-09T10:24:50.864Z"
   },
   {
    "duration": 21,
    "start_time": "2022-05-09T10:24:50.909Z"
   },
   {
    "duration": 18,
    "start_time": "2022-05-09T10:24:50.932Z"
   },
   {
    "duration": 13,
    "start_time": "2022-05-09T10:24:50.953Z"
   },
   {
    "duration": 39,
    "start_time": "2022-05-09T10:24:50.968Z"
   },
   {
    "duration": 17,
    "start_time": "2022-05-09T10:24:51.010Z"
   },
   {
    "duration": 15,
    "start_time": "2022-05-09T10:24:51.029Z"
   },
   {
    "duration": 14,
    "start_time": "2022-05-09T10:24:51.046Z"
   },
   {
    "duration": 51,
    "start_time": "2022-05-09T10:24:51.062Z"
   },
   {
    "duration": 17,
    "start_time": "2022-05-09T10:24:51.116Z"
   },
   {
    "duration": 19,
    "start_time": "2022-05-09T10:24:51.135Z"
   },
   {
    "duration": 41,
    "start_time": "2022-05-09T10:24:51.156Z"
   },
   {
    "duration": 17,
    "start_time": "2022-05-09T10:24:51.199Z"
   },
   {
    "duration": 16,
    "start_time": "2022-05-09T10:24:51.218Z"
   },
   {
    "duration": 17,
    "start_time": "2022-05-09T10:24:51.236Z"
   },
   {
    "duration": 52,
    "start_time": "2022-05-09T10:24:51.255Z"
   },
   {
    "duration": 24,
    "start_time": "2022-05-09T10:24:51.312Z"
   },
   {
    "duration": 28,
    "start_time": "2022-05-09T10:24:51.340Z"
   },
   {
    "duration": 31,
    "start_time": "2022-05-09T10:24:51.371Z"
   },
   {
    "duration": 16,
    "start_time": "2022-05-09T10:24:51.404Z"
   },
   {
    "duration": 18,
    "start_time": "2022-05-09T10:24:51.422Z"
   },
   {
    "duration": 16,
    "start_time": "2022-05-09T10:24:51.443Z"
   },
   {
    "duration": 59,
    "start_time": "2022-05-09T10:24:51.461Z"
   },
   {
    "duration": 17,
    "start_time": "2022-05-09T10:24:51.523Z"
   },
   {
    "duration": 26,
    "start_time": "2022-05-09T10:25:06.611Z"
   },
   {
    "duration": 32,
    "start_time": "2022-05-09T10:26:14.736Z"
   },
   {
    "duration": 29,
    "start_time": "2022-05-09T10:26:29.692Z"
   },
   {
    "duration": 28,
    "start_time": "2022-05-09T10:27:25.255Z"
   },
   {
    "duration": 24,
    "start_time": "2022-05-09T10:28:02.547Z"
   },
   {
    "duration": 32,
    "start_time": "2022-05-09T10:28:28.291Z"
   },
   {
    "duration": 25,
    "start_time": "2022-05-09T10:29:24.046Z"
   },
   {
    "duration": 46,
    "start_time": "2022-05-09T10:30:38.844Z"
   },
   {
    "duration": 33,
    "start_time": "2022-05-09T10:30:54.639Z"
   },
   {
    "duration": 42,
    "start_time": "2022-05-09T10:31:35.877Z"
   },
   {
    "duration": 42,
    "start_time": "2022-05-09T10:33:41.010Z"
   },
   {
    "duration": 45,
    "start_time": "2022-05-09T10:33:53.494Z"
   },
   {
    "duration": 41,
    "start_time": "2022-05-09T10:34:15.871Z"
   },
   {
    "duration": 19,
    "start_time": "2022-05-09T10:40:42.639Z"
   },
   {
    "duration": 28,
    "start_time": "2022-05-09T10:41:17.799Z"
   },
   {
    "duration": 260,
    "start_time": "2022-05-09T10:41:32.146Z"
   },
   {
    "duration": 34,
    "start_time": "2022-05-09T10:42:13.382Z"
   },
   {
    "duration": 28,
    "start_time": "2022-05-09T10:42:55.017Z"
   },
   {
    "duration": 27,
    "start_time": "2022-05-09T10:42:59.343Z"
   },
   {
    "duration": 260,
    "start_time": "2022-05-09T10:43:11.417Z"
   },
   {
    "duration": 35,
    "start_time": "2022-05-09T10:43:52.479Z"
   },
   {
    "duration": 226,
    "start_time": "2022-05-09T10:43:59.581Z"
   },
   {
    "duration": 32,
    "start_time": "2022-05-09T10:44:21.392Z"
   },
   {
    "duration": 255,
    "start_time": "2022-05-09T10:44:26.249Z"
   },
   {
    "duration": 33,
    "start_time": "2022-05-09T10:44:44.611Z"
   },
   {
    "duration": 293,
    "start_time": "2022-05-09T10:44:49.688Z"
   },
   {
    "duration": 28,
    "start_time": "2022-05-09T10:44:59.926Z"
   },
   {
    "duration": 246,
    "start_time": "2022-05-09T10:45:03.938Z"
   },
   {
    "duration": 26,
    "start_time": "2022-05-09T10:45:16.555Z"
   },
   {
    "duration": 262,
    "start_time": "2022-05-09T10:45:20.736Z"
   },
   {
    "duration": 429,
    "start_time": "2022-05-09T10:46:25.322Z"
   },
   {
    "duration": 323,
    "start_time": "2022-05-09T10:46:48.758Z"
   },
   {
    "duration": 5,
    "start_time": "2022-05-09T10:47:28.886Z"
   },
   {
    "duration": 297,
    "start_time": "2022-05-09T10:48:45.912Z"
   },
   {
    "duration": 301,
    "start_time": "2022-05-09T10:48:54.316Z"
   },
   {
    "duration": 328,
    "start_time": "2022-05-09T10:49:19.587Z"
   },
   {
    "duration": 4,
    "start_time": "2022-05-09T10:49:25.667Z"
   },
   {
    "duration": 593,
    "start_time": "2022-05-09T10:49:25.674Z"
   },
   {
    "duration": 11,
    "start_time": "2022-05-09T10:49:26.270Z"
   },
   {
    "duration": 49,
    "start_time": "2022-05-09T10:49:26.283Z"
   },
   {
    "duration": 33,
    "start_time": "2022-05-09T10:49:26.335Z"
   },
   {
    "duration": 59,
    "start_time": "2022-05-09T10:49:26.370Z"
   },
   {
    "duration": 63,
    "start_time": "2022-05-09T10:49:26.432Z"
   },
   {
    "duration": 81,
    "start_time": "2022-05-09T10:49:26.503Z"
   },
   {
    "duration": 24,
    "start_time": "2022-05-09T10:49:26.587Z"
   },
   {
    "duration": 17,
    "start_time": "2022-05-09T10:49:26.614Z"
   },
   {
    "duration": 10,
    "start_time": "2022-05-09T10:49:26.636Z"
   },
   {
    "duration": 56,
    "start_time": "2022-05-09T10:49:26.648Z"
   },
   {
    "duration": 30,
    "start_time": "2022-05-09T10:49:26.706Z"
   },
   {
    "duration": 25,
    "start_time": "2022-05-09T10:49:26.739Z"
   },
   {
    "duration": 67,
    "start_time": "2022-05-09T10:49:26.766Z"
   },
   {
    "duration": 12,
    "start_time": "2022-05-09T10:49:26.835Z"
   },
   {
    "duration": 58,
    "start_time": "2022-05-09T10:49:26.850Z"
   },
   {
    "duration": 36,
    "start_time": "2022-05-09T10:49:26.910Z"
   },
   {
    "duration": 52,
    "start_time": "2022-05-09T10:49:26.948Z"
   },
   {
    "duration": 14,
    "start_time": "2022-05-09T10:49:27.002Z"
   },
   {
    "duration": 17,
    "start_time": "2022-05-09T10:49:27.018Z"
   },
   {
    "duration": 21,
    "start_time": "2022-05-09T10:49:27.038Z"
   },
   {
    "duration": 38,
    "start_time": "2022-05-09T10:49:27.062Z"
   },
   {
    "duration": 18,
    "start_time": "2022-05-09T10:49:27.106Z"
   },
   {
    "duration": 7,
    "start_time": "2022-05-09T10:49:27.127Z"
   },
   {
    "duration": 10,
    "start_time": "2022-05-09T10:49:27.137Z"
   },
   {
    "duration": 56,
    "start_time": "2022-05-09T10:49:27.149Z"
   },
   {
    "duration": 14,
    "start_time": "2022-05-09T10:49:27.207Z"
   },
   {
    "duration": 90,
    "start_time": "2022-05-09T10:49:27.227Z"
   },
   {
    "duration": 13,
    "start_time": "2022-05-09T10:49:27.319Z"
   },
   {
    "duration": 24,
    "start_time": "2022-05-09T10:49:27.335Z"
   },
   {
    "duration": 54,
    "start_time": "2022-05-09T10:49:27.361Z"
   },
   {
    "duration": 12,
    "start_time": "2022-05-09T10:49:27.417Z"
   },
   {
    "duration": 29,
    "start_time": "2022-05-09T10:49:27.431Z"
   },
   {
    "duration": 61,
    "start_time": "2022-05-09T10:49:27.462Z"
   },
   {
    "duration": 9,
    "start_time": "2022-05-09T10:49:27.526Z"
   },
   {
    "duration": 18,
    "start_time": "2022-05-09T10:49:27.538Z"
   },
   {
    "duration": 14,
    "start_time": "2022-05-09T10:49:27.558Z"
   },
   {
    "duration": 17,
    "start_time": "2022-05-09T10:49:27.596Z"
   },
   {
    "duration": 16,
    "start_time": "2022-05-09T10:49:27.616Z"
   },
   {
    "duration": 14,
    "start_time": "2022-05-09T10:49:27.634Z"
   },
   {
    "duration": 56,
    "start_time": "2022-05-09T10:49:27.650Z"
   },
   {
    "duration": 31,
    "start_time": "2022-05-09T10:49:27.708Z"
   },
   {
    "duration": 17,
    "start_time": "2022-05-09T10:49:27.741Z"
   },
   {
    "duration": 49,
    "start_time": "2022-05-09T10:49:27.760Z"
   },
   {
    "duration": 17,
    "start_time": "2022-05-09T10:49:27.812Z"
   },
   {
    "duration": 16,
    "start_time": "2022-05-09T10:49:27.831Z"
   },
   {
    "duration": 14,
    "start_time": "2022-05-09T10:49:27.850Z"
   },
   {
    "duration": 43,
    "start_time": "2022-05-09T10:49:27.866Z"
   },
   {
    "duration": 20,
    "start_time": "2022-05-09T10:49:27.911Z"
   },
   {
    "duration": 16,
    "start_time": "2022-05-09T10:49:27.933Z"
   },
   {
    "duration": 56,
    "start_time": "2022-05-09T10:49:27.951Z"
   },
   {
    "duration": 31,
    "start_time": "2022-05-09T10:49:28.012Z"
   },
   {
    "duration": 13,
    "start_time": "2022-05-09T10:49:28.045Z"
   },
   {
    "duration": 40,
    "start_time": "2022-05-09T10:49:28.060Z"
   },
   {
    "duration": 18,
    "start_time": "2022-05-09T10:49:28.103Z"
   },
   {
    "duration": 16,
    "start_time": "2022-05-09T10:49:28.124Z"
   },
   {
    "duration": 16,
    "start_time": "2022-05-09T10:49:28.142Z"
   },
   {
    "duration": 60,
    "start_time": "2022-05-09T10:49:28.160Z"
   },
   {
    "duration": 17,
    "start_time": "2022-05-09T10:49:28.222Z"
   },
   {
    "duration": 28,
    "start_time": "2022-05-09T10:49:28.241Z"
   },
   {
    "duration": 30,
    "start_time": "2022-05-09T10:49:28.298Z"
   },
   {
    "duration": 26,
    "start_time": "2022-05-09T10:49:28.330Z"
   },
   {
    "duration": 170,
    "start_time": "2022-05-09T10:49:28.358Z"
   },
   {
    "duration": 33,
    "start_time": "2022-05-09T10:49:28.531Z"
   },
   {
    "duration": 336,
    "start_time": "2022-05-09T10:49:33.432Z"
   },
   {
    "duration": 7,
    "start_time": "2022-05-09T10:49:48.304Z"
   },
   {
    "duration": 308,
    "start_time": "2022-05-09T10:49:51.241Z"
   },
   {
    "duration": 313,
    "start_time": "2022-05-09T10:50:03.721Z"
   },
   {
    "duration": 6,
    "start_time": "2022-05-09T11:30:44.570Z"
   },
   {
    "duration": 616,
    "start_time": "2022-05-09T11:30:44.579Z"
   },
   {
    "duration": 27,
    "start_time": "2022-05-09T11:30:45.198Z"
   },
   {
    "duration": 71,
    "start_time": "2022-05-09T11:30:45.228Z"
   },
   {
    "duration": 48,
    "start_time": "2022-05-09T11:30:45.303Z"
   },
   {
    "duration": 57,
    "start_time": "2022-05-09T11:30:45.353Z"
   },
   {
    "duration": 54,
    "start_time": "2022-05-09T11:30:45.414Z"
   },
   {
    "duration": 123,
    "start_time": "2022-05-09T11:30:45.470Z"
   },
   {
    "duration": 16,
    "start_time": "2022-05-09T11:30:45.595Z"
   },
   {
    "duration": 35,
    "start_time": "2022-05-09T11:30:45.615Z"
   },
   {
    "duration": 14,
    "start_time": "2022-05-09T11:30:45.653Z"
   },
   {
    "duration": 39,
    "start_time": "2022-05-09T11:30:45.669Z"
   },
   {
    "duration": 63,
    "start_time": "2022-05-09T11:30:45.711Z"
   },
   {
    "duration": 51,
    "start_time": "2022-05-09T11:30:45.778Z"
   },
   {
    "duration": 42,
    "start_time": "2022-05-09T11:30:45.836Z"
   },
   {
    "duration": 10,
    "start_time": "2022-05-09T11:30:45.880Z"
   },
   {
    "duration": 66,
    "start_time": "2022-05-09T11:30:45.895Z"
   },
   {
    "duration": 21,
    "start_time": "2022-05-09T11:30:45.964Z"
   },
   {
    "duration": 45,
    "start_time": "2022-05-09T11:30:45.988Z"
   },
   {
    "duration": 20,
    "start_time": "2022-05-09T11:30:46.039Z"
   },
   {
    "duration": 15,
    "start_time": "2022-05-09T11:30:46.062Z"
   },
   {
    "duration": 51,
    "start_time": "2022-05-09T11:30:46.079Z"
   },
   {
    "duration": 20,
    "start_time": "2022-05-09T11:30:46.133Z"
   },
   {
    "duration": 10,
    "start_time": "2022-05-09T11:30:46.156Z"
   },
   {
    "duration": 7,
    "start_time": "2022-05-09T11:30:46.169Z"
   },
   {
    "duration": 37,
    "start_time": "2022-05-09T11:30:46.178Z"
   },
   {
    "duration": 49,
    "start_time": "2022-05-09T11:30:46.218Z"
   },
   {
    "duration": 14,
    "start_time": "2022-05-09T11:30:46.270Z"
   },
   {
    "duration": 132,
    "start_time": "2022-05-09T11:30:46.286Z"
   },
   {
    "duration": 23,
    "start_time": "2022-05-09T11:30:46.426Z"
   },
   {
    "duration": 30,
    "start_time": "2022-05-09T11:30:46.452Z"
   },
   {
    "duration": 48,
    "start_time": "2022-05-09T11:30:46.485Z"
   },
   {
    "duration": 25,
    "start_time": "2022-05-09T11:30:46.536Z"
   },
   {
    "duration": 43,
    "start_time": "2022-05-09T11:30:46.563Z"
   },
   {
    "duration": 35,
    "start_time": "2022-05-09T11:30:46.611Z"
   },
   {
    "duration": 10,
    "start_time": "2022-05-09T11:30:46.649Z"
   },
   {
    "duration": 34,
    "start_time": "2022-05-09T11:30:46.661Z"
   },
   {
    "duration": 51,
    "start_time": "2022-05-09T11:30:46.698Z"
   },
   {
    "duration": 18,
    "start_time": "2022-05-09T11:30:46.751Z"
   },
   {
    "duration": 15,
    "start_time": "2022-05-09T11:30:46.771Z"
   },
   {
    "duration": 41,
    "start_time": "2022-05-09T11:30:46.801Z"
   },
   {
    "duration": 20,
    "start_time": "2022-05-09T11:30:46.845Z"
   },
   {
    "duration": 17,
    "start_time": "2022-05-09T11:30:46.868Z"
   },
   {
    "duration": 36,
    "start_time": "2022-05-09T11:30:46.887Z"
   },
   {
    "duration": 56,
    "start_time": "2022-05-09T11:30:46.928Z"
   },
   {
    "duration": 43,
    "start_time": "2022-05-09T11:30:46.987Z"
   },
   {
    "duration": 23,
    "start_time": "2022-05-09T11:30:47.036Z"
   },
   {
    "duration": 22,
    "start_time": "2022-05-09T11:30:47.062Z"
   },
   {
    "duration": 25,
    "start_time": "2022-05-09T11:30:47.087Z"
   },
   {
    "duration": 49,
    "start_time": "2022-05-09T11:30:47.120Z"
   },
   {
    "duration": 16,
    "start_time": "2022-05-09T11:30:47.172Z"
   },
   {
    "duration": 37,
    "start_time": "2022-05-09T11:30:47.190Z"
   },
   {
    "duration": 54,
    "start_time": "2022-05-09T11:30:47.235Z"
   },
   {
    "duration": 32,
    "start_time": "2022-05-09T11:30:47.291Z"
   },
   {
    "duration": 35,
    "start_time": "2022-05-09T11:30:47.326Z"
   },
   {
    "duration": 23,
    "start_time": "2022-05-09T11:30:47.364Z"
   },
   {
    "duration": 29,
    "start_time": "2022-05-09T11:30:47.389Z"
   },
   {
    "duration": 37,
    "start_time": "2022-05-09T11:30:47.421Z"
   },
   {
    "duration": 24,
    "start_time": "2022-05-09T11:30:47.461Z"
   },
   {
    "duration": 27,
    "start_time": "2022-05-09T11:30:47.488Z"
   },
   {
    "duration": 53,
    "start_time": "2022-05-09T11:30:47.517Z"
   },
   {
    "duration": 37,
    "start_time": "2022-05-09T11:30:47.573Z"
   },
   {
    "duration": 35,
    "start_time": "2022-05-09T11:30:47.612Z"
   },
   {
    "duration": 64,
    "start_time": "2022-05-09T11:30:47.650Z"
   },
   {
    "duration": 39,
    "start_time": "2022-05-09T11:30:47.719Z"
   },
   {
    "duration": 376,
    "start_time": "2022-05-09T11:30:47.760Z"
   },
   {
    "duration": 333,
    "start_time": "2022-05-09T11:30:58.129Z"
   },
   {
    "duration": 358,
    "start_time": "2022-05-09T11:31:04.717Z"
   },
   {
    "duration": 465,
    "start_time": "2022-05-09T11:31:21.181Z"
   },
   {
    "duration": 1619,
    "start_time": "2022-05-09T11:31:45.441Z"
   },
   {
    "duration": 661,
    "start_time": "2022-05-09T11:31:47.063Z"
   },
   {
    "duration": 25,
    "start_time": "2022-05-09T11:31:47.727Z"
   },
   {
    "duration": 67,
    "start_time": "2022-05-09T11:31:47.755Z"
   },
   {
    "duration": 53,
    "start_time": "2022-05-09T11:31:47.827Z"
   },
   {
    "duration": 69,
    "start_time": "2022-05-09T11:31:47.882Z"
   },
   {
    "duration": 104,
    "start_time": "2022-05-09T11:31:47.954Z"
   },
   {
    "duration": 119,
    "start_time": "2022-05-09T11:31:48.060Z"
   },
   {
    "duration": 27,
    "start_time": "2022-05-09T11:31:48.182Z"
   },
   {
    "duration": 39,
    "start_time": "2022-05-09T11:31:48.212Z"
   },
   {
    "duration": 11,
    "start_time": "2022-05-09T11:31:48.254Z"
   },
   {
    "duration": 34,
    "start_time": "2022-05-09T11:31:48.267Z"
   },
   {
    "duration": 52,
    "start_time": "2022-05-09T11:31:48.304Z"
   },
   {
    "duration": 67,
    "start_time": "2022-05-09T11:31:48.365Z"
   },
   {
    "duration": 53,
    "start_time": "2022-05-09T11:31:48.435Z"
   },
   {
    "duration": 26,
    "start_time": "2022-05-09T11:31:48.491Z"
   },
   {
    "duration": 82,
    "start_time": "2022-05-09T11:31:48.519Z"
   },
   {
    "duration": 86,
    "start_time": "2022-05-09T11:31:48.604Z"
   },
   {
    "duration": 43,
    "start_time": "2022-05-09T11:31:48.692Z"
   },
   {
    "duration": 19,
    "start_time": "2022-05-09T11:31:48.738Z"
   },
   {
    "duration": 16,
    "start_time": "2022-05-09T11:31:48.759Z"
   },
   {
    "duration": 25,
    "start_time": "2022-05-09T11:31:48.804Z"
   },
   {
    "duration": 23,
    "start_time": "2022-05-09T11:31:48.833Z"
   },
   {
    "duration": 7,
    "start_time": "2022-05-09T11:31:48.859Z"
   },
   {
    "duration": 8,
    "start_time": "2022-05-09T11:31:48.869Z"
   },
   {
    "duration": 34,
    "start_time": "2022-05-09T11:31:48.879Z"
   },
   {
    "duration": 66,
    "start_time": "2022-05-09T11:31:48.915Z"
   },
   {
    "duration": 17,
    "start_time": "2022-05-09T11:31:48.983Z"
   },
   {
    "duration": 160,
    "start_time": "2022-05-09T11:31:49.003Z"
   },
   {
    "duration": 13,
    "start_time": "2022-05-09T11:31:49.165Z"
   },
   {
    "duration": 33,
    "start_time": "2022-05-09T11:31:49.181Z"
   },
   {
    "duration": 36,
    "start_time": "2022-05-09T11:31:49.218Z"
   },
   {
    "duration": 43,
    "start_time": "2022-05-09T11:31:49.257Z"
   },
   {
    "duration": 38,
    "start_time": "2022-05-09T11:31:49.305Z"
   },
   {
    "duration": 30,
    "start_time": "2022-05-09T11:31:49.345Z"
   },
   {
    "duration": 28,
    "start_time": "2022-05-09T11:31:49.377Z"
   },
   {
    "duration": 21,
    "start_time": "2022-05-09T11:31:49.409Z"
   },
   {
    "duration": 23,
    "start_time": "2022-05-09T11:31:49.432Z"
   },
   {
    "duration": 14,
    "start_time": "2022-05-09T11:31:49.458Z"
   },
   {
    "duration": 38,
    "start_time": "2022-05-09T11:31:49.474Z"
   },
   {
    "duration": 23,
    "start_time": "2022-05-09T11:31:49.524Z"
   },
   {
    "duration": 22,
    "start_time": "2022-05-09T11:31:49.549Z"
   },
   {
    "duration": 16,
    "start_time": "2022-05-09T11:31:49.573Z"
   },
   {
    "duration": 24,
    "start_time": "2022-05-09T11:31:49.606Z"
   },
   {
    "duration": 30,
    "start_time": "2022-05-09T11:31:49.633Z"
   },
   {
    "duration": 16,
    "start_time": "2022-05-09T11:31:49.665Z"
   },
   {
    "duration": 12,
    "start_time": "2022-05-09T11:31:49.698Z"
   },
   {
    "duration": 30,
    "start_time": "2022-05-09T11:31:49.713Z"
   },
   {
    "duration": 16,
    "start_time": "2022-05-09T11:31:49.746Z"
   },
   {
    "duration": 15,
    "start_time": "2022-05-09T11:31:49.764Z"
   },
   {
    "duration": 24,
    "start_time": "2022-05-09T11:31:49.808Z"
   },
   {
    "duration": 26,
    "start_time": "2022-05-09T11:31:49.835Z"
   },
   {
    "duration": 39,
    "start_time": "2022-05-09T11:31:49.863Z"
   },
   {
    "duration": 18,
    "start_time": "2022-05-09T11:31:49.905Z"
   },
   {
    "duration": 31,
    "start_time": "2022-05-09T11:31:49.925Z"
   },
   {
    "duration": 15,
    "start_time": "2022-05-09T11:31:49.958Z"
   },
   {
    "duration": 30,
    "start_time": "2022-05-09T11:31:49.975Z"
   },
   {
    "duration": 29,
    "start_time": "2022-05-09T11:31:50.008Z"
   },
   {
    "duration": 28,
    "start_time": "2022-05-09T11:31:50.040Z"
   },
   {
    "duration": 17,
    "start_time": "2022-05-09T11:31:50.070Z"
   },
   {
    "duration": 39,
    "start_time": "2022-05-09T11:31:50.094Z"
   },
   {
    "duration": 29,
    "start_time": "2022-05-09T11:31:50.135Z"
   },
   {
    "duration": 54,
    "start_time": "2022-05-09T11:31:50.167Z"
   },
   {
    "duration": 40,
    "start_time": "2022-05-09T11:31:50.226Z"
   },
   {
    "duration": 58,
    "start_time": "2022-05-09T11:31:50.269Z"
   },
   {
    "duration": 288,
    "start_time": "2022-05-09T11:31:52.953Z"
   },
   {
    "duration": 309,
    "start_time": "2022-05-09T11:32:05.029Z"
   },
   {
    "duration": 494,
    "start_time": "2022-05-09T11:32:08.189Z"
   },
   {
    "duration": 374,
    "start_time": "2022-05-09T11:32:17.286Z"
   },
   {
    "duration": 280,
    "start_time": "2022-05-09T11:32:24.417Z"
   },
   {
    "duration": 371,
    "start_time": "2022-05-09T11:32:28.784Z"
   },
   {
    "duration": 342,
    "start_time": "2022-05-09T11:32:37.121Z"
   },
   {
    "duration": 445,
    "start_time": "2022-05-09T11:32:53.409Z"
   },
   {
    "duration": 599,
    "start_time": "2022-05-09T11:33:02.886Z"
   },
   {
    "duration": 358,
    "start_time": "2022-05-09T11:33:50.545Z"
   },
   {
    "duration": 557,
    "start_time": "2022-05-09T11:33:56.088Z"
   },
   {
    "duration": 337,
    "start_time": "2022-05-09T11:35:13.657Z"
   },
   {
    "duration": 469,
    "start_time": "2022-05-09T11:35:28.037Z"
   },
   {
    "duration": 354,
    "start_time": "2022-05-09T11:35:34.526Z"
   },
   {
    "duration": 443,
    "start_time": "2022-05-09T11:36:12.721Z"
   },
   {
    "duration": 370,
    "start_time": "2022-05-09T11:36:17.799Z"
   },
   {
    "duration": 373,
    "start_time": "2022-05-09T11:36:22.492Z"
   },
   {
    "duration": 368,
    "start_time": "2022-05-09T11:38:33.540Z"
   },
   {
    "duration": 15,
    "start_time": "2022-05-09T11:38:42.702Z"
   },
   {
    "duration": 68,
    "start_time": "2022-05-09T11:38:49.586Z"
   },
   {
    "duration": 12,
    "start_time": "2022-05-09T11:38:56.456Z"
   },
   {
    "duration": 110,
    "start_time": "2022-05-09T11:39:07.668Z"
   },
   {
    "duration": 359,
    "start_time": "2022-05-09T11:39:17.004Z"
   },
   {
    "duration": 482,
    "start_time": "2022-05-09T11:39:32.118Z"
   },
   {
    "duration": 474,
    "start_time": "2022-05-09T11:40:53.170Z"
   },
   {
    "duration": 462,
    "start_time": "2022-05-09T11:41:03.082Z"
   },
   {
    "duration": 347,
    "start_time": "2022-05-09T11:41:35.900Z"
   },
   {
    "duration": 579,
    "start_time": "2022-05-09T11:41:39.142Z"
   },
   {
    "duration": 465,
    "start_time": "2022-05-09T11:41:50.241Z"
   },
   {
    "duration": 470,
    "start_time": "2022-05-09T11:42:10.925Z"
   },
   {
    "duration": 26,
    "start_time": "2022-05-09T11:44:37.487Z"
   },
   {
    "duration": 459,
    "start_time": "2022-05-09T11:44:46.526Z"
   },
   {
    "duration": 453,
    "start_time": "2022-05-09T11:45:10.211Z"
   },
   {
    "duration": 426,
    "start_time": "2022-05-09T11:46:34.254Z"
   },
   {
    "duration": 536,
    "start_time": "2022-05-09T11:46:43.825Z"
   },
   {
    "duration": 497,
    "start_time": "2022-05-09T11:47:03.600Z"
   },
   {
    "duration": 3,
    "start_time": "2022-05-09T11:49:43.451Z"
   },
   {
    "duration": 244,
    "start_time": "2022-05-09T11:50:44.157Z"
   },
   {
    "duration": 332,
    "start_time": "2022-05-09T11:50:47.619Z"
   },
   {
    "duration": 12,
    "start_time": "2022-05-09T11:51:27.429Z"
   },
   {
    "duration": 467,
    "start_time": "2022-05-09T11:51:45.019Z"
   },
   {
    "duration": 29,
    "start_time": "2022-05-09T11:55:49.289Z"
   },
   {
    "duration": 37,
    "start_time": "2022-05-09T11:55:59.167Z"
   },
   {
    "duration": 27,
    "start_time": "2022-05-09T11:56:56.428Z"
   },
   {
    "duration": 33,
    "start_time": "2022-05-09T12:00:34.580Z"
   },
   {
    "duration": 60,
    "start_time": "2022-05-09T12:01:20.288Z"
   },
   {
    "duration": 28,
    "start_time": "2022-05-09T12:01:27.739Z"
   },
   {
    "duration": 12,
    "start_time": "2022-05-09T12:01:44.065Z"
   },
   {
    "duration": 38,
    "start_time": "2022-05-09T12:02:00.865Z"
   },
   {
    "duration": 53,
    "start_time": "2022-05-09T12:02:46.062Z"
   },
   {
    "duration": 40,
    "start_time": "2022-05-09T12:04:19.016Z"
   },
   {
    "duration": 32,
    "start_time": "2022-05-09T12:04:54.224Z"
   },
   {
    "duration": 37,
    "start_time": "2022-05-09T12:05:18.631Z"
   },
   {
    "duration": 44,
    "start_time": "2022-05-09T12:06:10.016Z"
   },
   {
    "duration": 38,
    "start_time": "2022-05-09T12:06:17.416Z"
   },
   {
    "duration": 5,
    "start_time": "2022-05-09T12:08:18.209Z"
   },
   {
    "duration": 602,
    "start_time": "2022-05-09T12:08:18.217Z"
   },
   {
    "duration": 16,
    "start_time": "2022-05-09T12:08:18.822Z"
   },
   {
    "duration": 39,
    "start_time": "2022-05-09T12:08:18.840Z"
   },
   {
    "duration": 39,
    "start_time": "2022-05-09T12:08:18.882Z"
   },
   {
    "duration": 42,
    "start_time": "2022-05-09T12:08:18.923Z"
   },
   {
    "duration": 70,
    "start_time": "2022-05-09T12:08:18.968Z"
   },
   {
    "duration": 116,
    "start_time": "2022-05-09T12:08:19.040Z"
   },
   {
    "duration": 12,
    "start_time": "2022-05-09T12:08:19.159Z"
   },
   {
    "duration": 30,
    "start_time": "2022-05-09T12:08:19.173Z"
   },
   {
    "duration": 18,
    "start_time": "2022-05-09T12:08:19.209Z"
   },
   {
    "duration": 32,
    "start_time": "2022-05-09T12:08:19.229Z"
   },
   {
    "duration": 56,
    "start_time": "2022-05-09T12:08:19.264Z"
   },
   {
    "duration": 27,
    "start_time": "2022-05-09T12:08:19.323Z"
   },
   {
    "duration": 69,
    "start_time": "2022-05-09T12:08:19.353Z"
   },
   {
    "duration": 12,
    "start_time": "2022-05-09T12:08:19.425Z"
   },
   {
    "duration": 27,
    "start_time": "2022-05-09T12:08:19.440Z"
   },
   {
    "duration": 38,
    "start_time": "2022-05-09T12:08:19.493Z"
   },
   {
    "duration": 28,
    "start_time": "2022-05-09T12:08:19.533Z"
   },
   {
    "duration": 52,
    "start_time": "2022-05-09T12:08:19.564Z"
   },
   {
    "duration": 19,
    "start_time": "2022-05-09T12:08:19.619Z"
   },
   {
    "duration": 18,
    "start_time": "2022-05-09T12:08:19.641Z"
   },
   {
    "duration": 7,
    "start_time": "2022-05-09T12:08:19.661Z"
   },
   {
    "duration": 13,
    "start_time": "2022-05-09T12:08:19.692Z"
   },
   {
    "duration": 12,
    "start_time": "2022-05-09T12:08:19.713Z"
   },
   {
    "duration": 10,
    "start_time": "2022-05-09T12:08:19.727Z"
   },
   {
    "duration": 61,
    "start_time": "2022-05-09T12:08:19.739Z"
   },
   {
    "duration": 14,
    "start_time": "2022-05-09T12:08:19.803Z"
   },
   {
    "duration": 92,
    "start_time": "2022-05-09T12:08:19.824Z"
   },
   {
    "duration": 13,
    "start_time": "2022-05-09T12:08:19.919Z"
   },
   {
    "duration": 24,
    "start_time": "2022-05-09T12:08:19.934Z"
   },
   {
    "duration": 58,
    "start_time": "2022-05-09T12:08:19.960Z"
   },
   {
    "duration": 12,
    "start_time": "2022-05-09T12:08:20.020Z"
   },
   {
    "duration": 37,
    "start_time": "2022-05-09T12:08:20.034Z"
   },
   {
    "duration": 54,
    "start_time": "2022-05-09T12:08:20.074Z"
   },
   {
    "duration": 11,
    "start_time": "2022-05-09T12:08:20.131Z"
   },
   {
    "duration": 17,
    "start_time": "2022-05-09T12:08:20.144Z"
   },
   {
    "duration": 34,
    "start_time": "2022-05-09T12:08:20.163Z"
   },
   {
    "duration": 19,
    "start_time": "2022-05-09T12:08:20.200Z"
   },
   {
    "duration": 13,
    "start_time": "2022-05-09T12:08:20.221Z"
   },
   {
    "duration": 19,
    "start_time": "2022-05-09T12:08:20.236Z"
   },
   {
    "duration": 49,
    "start_time": "2022-05-09T12:08:20.258Z"
   },
   {
    "duration": 18,
    "start_time": "2022-05-09T12:08:20.312Z"
   },
   {
    "duration": 19,
    "start_time": "2022-05-09T12:08:20.332Z"
   },
   {
    "duration": 62,
    "start_time": "2022-05-09T12:08:20.353Z"
   },
   {
    "duration": 21,
    "start_time": "2022-05-09T12:08:20.417Z"
   },
   {
    "duration": 13,
    "start_time": "2022-05-09T12:08:20.440Z"
   },
   {
    "duration": 45,
    "start_time": "2022-05-09T12:08:20.456Z"
   },
   {
    "duration": 20,
    "start_time": "2022-05-09T12:08:20.504Z"
   },
   {
    "duration": 19,
    "start_time": "2022-05-09T12:08:20.526Z"
   },
   {
    "duration": 17,
    "start_time": "2022-05-09T12:08:20.547Z"
   },
   {
    "duration": 53,
    "start_time": "2022-05-09T12:08:20.566Z"
   },
   {
    "duration": 33,
    "start_time": "2022-05-09T12:08:20.622Z"
   },
   {
    "duration": 17,
    "start_time": "2022-05-09T12:08:20.657Z"
   },
   {
    "duration": 34,
    "start_time": "2022-05-09T12:08:20.676Z"
   },
   {
    "duration": 31,
    "start_time": "2022-05-09T12:08:20.712Z"
   },
   {
    "duration": 15,
    "start_time": "2022-05-09T12:08:20.745Z"
   },
   {
    "duration": 19,
    "start_time": "2022-05-09T12:08:20.762Z"
   },
   {
    "duration": 42,
    "start_time": "2022-05-09T12:08:20.783Z"
   },
   {
    "duration": 18,
    "start_time": "2022-05-09T12:08:20.828Z"
   },
   {
    "duration": 76,
    "start_time": "2022-05-09T12:08:20.849Z"
   },
   {
    "duration": 31,
    "start_time": "2022-05-09T12:08:20.928Z"
   },
   {
    "duration": 39,
    "start_time": "2022-05-09T12:08:20.961Z"
   },
   {
    "duration": 47,
    "start_time": "2022-05-09T12:08:21.003Z"
   },
   {
    "duration": 38,
    "start_time": "2022-05-09T12:08:25.247Z"
   },
   {
    "duration": 37,
    "start_time": "2022-05-09T12:08:27.403Z"
   },
   {
    "duration": 39,
    "start_time": "2022-05-09T12:08:28.848Z"
   },
   {
    "duration": 42,
    "start_time": "2022-05-09T12:08:45.495Z"
   },
   {
    "duration": 38,
    "start_time": "2022-05-09T12:09:25.379Z"
   },
   {
    "duration": 4,
    "start_time": "2022-05-09T12:11:26.474Z"
   },
   {
    "duration": 645,
    "start_time": "2022-05-09T12:11:26.481Z"
   },
   {
    "duration": 12,
    "start_time": "2022-05-09T12:11:27.129Z"
   },
   {
    "duration": 33,
    "start_time": "2022-05-09T12:11:27.143Z"
   },
   {
    "duration": 45,
    "start_time": "2022-05-09T12:11:27.180Z"
   },
   {
    "duration": 45,
    "start_time": "2022-05-09T12:11:27.230Z"
   },
   {
    "duration": 72,
    "start_time": "2022-05-09T12:11:27.278Z"
   },
   {
    "duration": 104,
    "start_time": "2022-05-09T12:11:27.353Z"
   },
   {
    "duration": 12,
    "start_time": "2022-05-09T12:11:27.460Z"
   },
   {
    "duration": 23,
    "start_time": "2022-05-09T12:11:27.474Z"
   },
   {
    "duration": 31,
    "start_time": "2022-05-09T12:11:27.499Z"
   },
   {
    "duration": 38,
    "start_time": "2022-05-09T12:11:27.532Z"
   },
   {
    "duration": 60,
    "start_time": "2022-05-09T12:11:27.572Z"
   },
   {
    "duration": 27,
    "start_time": "2022-05-09T12:11:27.638Z"
   },
   {
    "duration": 57,
    "start_time": "2022-05-09T12:11:27.667Z"
   },
   {
    "duration": 16,
    "start_time": "2022-05-09T12:11:27.727Z"
   },
   {
    "duration": 31,
    "start_time": "2022-05-09T12:11:27.745Z"
   },
   {
    "duration": 36,
    "start_time": "2022-05-09T12:11:27.806Z"
   },
   {
    "duration": 27,
    "start_time": "2022-05-09T12:11:27.845Z"
   },
   {
    "duration": 27,
    "start_time": "2022-05-09T12:11:27.874Z"
   },
   {
    "duration": 39,
    "start_time": "2022-05-09T12:11:27.906Z"
   },
   {
    "duration": 17,
    "start_time": "2022-05-09T12:11:27.947Z"
   },
   {
    "duration": 6,
    "start_time": "2022-05-09T12:11:27.966Z"
   },
   {
    "duration": 8,
    "start_time": "2022-05-09T12:11:27.974Z"
   },
   {
    "duration": 22,
    "start_time": "2022-05-09T12:11:27.984Z"
   },
   {
    "duration": 38,
    "start_time": "2022-05-09T12:11:28.007Z"
   },
   {
    "duration": 38,
    "start_time": "2022-05-09T12:11:28.048Z"
   },
   {
    "duration": 20,
    "start_time": "2022-05-09T12:11:28.088Z"
   },
   {
    "duration": 79,
    "start_time": "2022-05-09T12:11:28.113Z"
   },
   {
    "duration": 14,
    "start_time": "2022-05-09T12:11:28.204Z"
   },
   {
    "duration": 55,
    "start_time": "2022-05-09T12:11:28.221Z"
   },
   {
    "duration": 28,
    "start_time": "2022-05-09T12:11:28.279Z"
   },
   {
    "duration": 15,
    "start_time": "2022-05-09T12:11:28.310Z"
   },
   {
    "duration": 44,
    "start_time": "2022-05-09T12:11:28.331Z"
   },
   {
    "duration": 39,
    "start_time": "2022-05-09T12:11:28.377Z"
   },
   {
    "duration": 22,
    "start_time": "2022-05-09T12:11:28.420Z"
   },
   {
    "duration": 16,
    "start_time": "2022-05-09T12:11:28.445Z"
   },
   {
    "duration": 15,
    "start_time": "2022-05-09T12:11:28.463Z"
   },
   {
    "duration": 36,
    "start_time": "2022-05-09T12:11:28.480Z"
   },
   {
    "duration": 31,
    "start_time": "2022-05-09T12:11:28.518Z"
   },
   {
    "duration": 14,
    "start_time": "2022-05-09T12:11:33.541Z"
   },
   {
    "duration": 14,
    "start_time": "2022-05-09T12:11:36.674Z"
   },
   {
    "duration": 13,
    "start_time": "2022-05-09T12:11:43.069Z"
   },
   {
    "duration": 35,
    "start_time": "2022-05-09T12:11:47.519Z"
   },
   {
    "duration": 27,
    "start_time": "2022-05-09T12:11:59.261Z"
   },
   {
    "duration": 22,
    "start_time": "2022-05-09T12:12:13.214Z"
   },
   {
    "duration": 19,
    "start_time": "2022-05-09T12:12:20.837Z"
   },
   {
    "duration": 17,
    "start_time": "2022-05-09T12:12:32.061Z"
   },
   {
    "duration": 28,
    "start_time": "2022-05-09T12:12:42.758Z"
   },
   {
    "duration": 38,
    "start_time": "2022-05-09T12:12:47.664Z"
   },
   {
    "duration": 19,
    "start_time": "2022-05-09T12:12:54.936Z"
   },
   {
    "duration": 16,
    "start_time": "2022-05-09T12:13:02.377Z"
   },
   {
    "duration": 29,
    "start_time": "2022-05-09T12:13:23.898Z"
   },
   {
    "duration": 40,
    "start_time": "2022-05-09T12:14:22.626Z"
   },
   {
    "duration": 49,
    "start_time": "2022-05-09T12:14:35.264Z"
   },
   {
    "duration": 20,
    "start_time": "2022-05-09T12:14:57.969Z"
   },
   {
    "duration": 3853,
    "start_time": "2022-05-09T12:15:34.300Z"
   },
   {
    "duration": 37,
    "start_time": "2022-05-09T12:17:21.025Z"
   },
   {
    "duration": 7,
    "start_time": "2022-05-09T12:17:58.767Z"
   },
   {
    "duration": 9,
    "start_time": "2022-05-09T12:18:28.337Z"
   },
   {
    "duration": 25,
    "start_time": "2022-05-09T12:18:45.493Z"
   },
   {
    "duration": 11,
    "start_time": "2022-05-09T12:18:51.468Z"
   },
   {
    "duration": 12,
    "start_time": "2022-05-09T12:18:53.926Z"
   },
   {
    "duration": 6,
    "start_time": "2022-05-09T12:18:56.934Z"
   },
   {
    "duration": 16,
    "start_time": "2022-05-09T12:18:59.804Z"
   },
   {
    "duration": 22,
    "start_time": "2022-05-09T12:20:04.634Z"
   },
   {
    "duration": 16,
    "start_time": "2022-05-09T12:20:11.566Z"
   },
   {
    "duration": 28,
    "start_time": "2022-05-09T12:20:24.336Z"
   },
   {
    "duration": 24,
    "start_time": "2022-05-09T12:20:30.746Z"
   },
   {
    "duration": 49,
    "start_time": "2022-05-09T12:20:47.815Z"
   },
   {
    "duration": 6,
    "start_time": "2022-05-09T12:22:33.029Z"
   },
   {
    "duration": 39,
    "start_time": "2022-05-09T12:22:33.589Z"
   },
   {
    "duration": 4,
    "start_time": "2022-05-09T12:22:59.643Z"
   },
   {
    "duration": 3034,
    "start_time": "2022-05-09T12:23:00.480Z"
   },
   {
    "duration": 3,
    "start_time": "2022-05-09T12:23:15.354Z"
   },
   {
    "duration": 22,
    "start_time": "2022-05-09T12:23:16.018Z"
   },
   {
    "duration": 5,
    "start_time": "2022-05-09T12:23:39.762Z"
   },
   {
    "duration": 3075,
    "start_time": "2022-05-09T12:23:40.066Z"
   },
   {
    "duration": 5,
    "start_time": "2022-05-09T12:23:46.193Z"
   },
   {
    "duration": 14,
    "start_time": "2022-05-09T12:23:46.565Z"
   },
   {
    "duration": 3,
    "start_time": "2022-05-09T12:24:43.338Z"
   },
   {
    "duration": 26,
    "start_time": "2022-05-09T12:24:43.344Z"
   },
   {
    "duration": 4,
    "start_time": "2022-05-09T12:25:17.018Z"
   },
   {
    "duration": 26,
    "start_time": "2022-05-09T12:25:17.214Z"
   },
   {
    "duration": 5762,
    "start_time": "2022-05-09T12:25:34.633Z"
   },
   {
    "duration": 4,
    "start_time": "2022-05-09T12:26:15.383Z"
   },
   {
    "duration": 956,
    "start_time": "2022-05-09T12:26:15.599Z"
   },
   {
    "duration": 5,
    "start_time": "2022-05-09T12:26:20.339Z"
   },
   {
    "duration": 1008,
    "start_time": "2022-05-09T12:26:20.860Z"
   },
   {
    "duration": 3,
    "start_time": "2022-05-09T12:27:07.231Z"
   },
   {
    "duration": 54,
    "start_time": "2022-05-09T12:27:08.179Z"
   },
   {
    "duration": 4,
    "start_time": "2022-05-09T12:27:15.919Z"
   },
   {
    "duration": 60610,
    "start_time": "2022-05-09T12:27:16.352Z"
   },
   {
    "duration": 4,
    "start_time": "2022-05-09T12:33:42.070Z"
   },
   {
    "duration": 660,
    "start_time": "2022-05-09T12:33:42.077Z"
   },
   {
    "duration": 14,
    "start_time": "2022-05-09T12:33:42.741Z"
   },
   {
    "duration": 48,
    "start_time": "2022-05-09T12:33:42.757Z"
   },
   {
    "duration": 39,
    "start_time": "2022-05-09T12:33:42.809Z"
   },
   {
    "duration": 79,
    "start_time": "2022-05-09T12:33:42.851Z"
   },
   {
    "duration": 67,
    "start_time": "2022-05-09T12:33:42.938Z"
   },
   {
    "duration": 173,
    "start_time": "2022-05-09T12:33:43.008Z"
   },
   {
    "duration": 36,
    "start_time": "2022-05-09T12:33:43.184Z"
   },
   {
    "duration": 35,
    "start_time": "2022-05-09T12:33:43.223Z"
   },
   {
    "duration": 11,
    "start_time": "2022-05-09T12:33:43.266Z"
   },
   {
    "duration": 51,
    "start_time": "2022-05-09T12:33:43.279Z"
   },
   {
    "duration": 42,
    "start_time": "2022-05-09T12:33:43.333Z"
   },
   {
    "duration": 58,
    "start_time": "2022-05-09T12:33:43.378Z"
   },
   {
    "duration": 54,
    "start_time": "2022-05-09T12:33:43.440Z"
   },
   {
    "duration": 13,
    "start_time": "2022-05-09T12:33:43.499Z"
   },
   {
    "duration": 63,
    "start_time": "2022-05-09T12:33:43.514Z"
   },
   {
    "duration": 34,
    "start_time": "2022-05-09T12:33:43.579Z"
   },
   {
    "duration": 55,
    "start_time": "2022-05-09T12:33:43.615Z"
   },
   {
    "duration": 12,
    "start_time": "2022-05-09T12:33:43.672Z"
   },
   {
    "duration": 51,
    "start_time": "2022-05-09T12:33:43.686Z"
   },
   {
    "duration": 18,
    "start_time": "2022-05-09T12:33:43.739Z"
   },
   {
    "duration": 7,
    "start_time": "2022-05-09T12:33:43.759Z"
   },
   {
    "duration": 8,
    "start_time": "2022-05-09T12:33:43.768Z"
   },
   {
    "duration": 7,
    "start_time": "2022-05-09T12:33:43.778Z"
   },
   {
    "duration": 20,
    "start_time": "2022-05-09T12:33:43.786Z"
   },
   {
    "duration": 65,
    "start_time": "2022-05-09T12:33:43.808Z"
   },
   {
    "duration": 13,
    "start_time": "2022-05-09T12:33:43.876Z"
   },
   {
    "duration": 92,
    "start_time": "2022-05-09T12:33:43.894Z"
   },
   {
    "duration": 23,
    "start_time": "2022-05-09T12:33:43.989Z"
   },
   {
    "duration": 51,
    "start_time": "2022-05-09T12:33:44.014Z"
   },
   {
    "duration": 24,
    "start_time": "2022-05-09T12:33:44.067Z"
   },
   {
    "duration": 19,
    "start_time": "2022-05-09T12:33:44.114Z"
   },
   {
    "duration": 34,
    "start_time": "2022-05-09T12:33:44.138Z"
   },
   {
    "duration": 26,
    "start_time": "2022-05-09T12:33:44.177Z"
   },
   {
    "duration": 12,
    "start_time": "2022-05-09T12:33:44.206Z"
   },
   {
    "duration": 28,
    "start_time": "2022-05-09T12:33:44.220Z"
   },
   {
    "duration": 11,
    "start_time": "2022-05-09T12:33:44.251Z"
   },
   {
    "duration": 35,
    "start_time": "2022-05-09T12:33:44.265Z"
   },
   {
    "duration": 27,
    "start_time": "2022-05-09T12:33:44.303Z"
   },
   {
    "duration": 18,
    "start_time": "2022-05-09T12:33:58.326Z"
   },
   {
    "duration": 29,
    "start_time": "2022-05-09T12:34:15.840Z"
   },
   {
    "duration": 112,
    "start_time": "2022-05-09T12:34:19.064Z"
   },
   {
    "duration": 11,
    "start_time": "2022-05-09T12:34:39.069Z"
   },
   {
    "duration": 27,
    "start_time": "2022-05-09T12:34:42.294Z"
   },
   {
    "duration": 19,
    "start_time": "2022-05-09T12:35:22.566Z"
   },
   {
    "duration": 130,
    "start_time": "2022-05-09T12:36:02.979Z"
   },
   {
    "duration": 210,
    "start_time": "2022-05-09T12:36:41.978Z"
   },
   {
    "duration": 188,
    "start_time": "2022-05-09T12:37:16.752Z"
   },
   {
    "duration": 209,
    "start_time": "2022-05-09T12:37:36.550Z"
   },
   {
    "duration": 238,
    "start_time": "2022-05-09T12:37:49.419Z"
   },
   {
    "duration": 208,
    "start_time": "2022-05-09T12:38:00.924Z"
   },
   {
    "duration": 199,
    "start_time": "2022-05-09T12:38:22.917Z"
   },
   {
    "duration": 24,
    "start_time": "2022-05-09T12:38:31.574Z"
   },
   {
    "duration": 22,
    "start_time": "2022-05-09T12:38:41.007Z"
   },
   {
    "duration": 23,
    "start_time": "2022-05-09T12:38:53.807Z"
   },
   {
    "duration": 25,
    "start_time": "2022-05-09T12:38:53.891Z"
   },
   {
    "duration": 21,
    "start_time": "2022-05-09T12:38:55.194Z"
   },
   {
    "duration": 27,
    "start_time": "2022-05-09T12:39:02.923Z"
   },
   {
    "duration": 34,
    "start_time": "2022-05-09T12:39:03.177Z"
   },
   {
    "duration": 203,
    "start_time": "2022-05-09T12:42:36.346Z"
   },
   {
    "duration": 23,
    "start_time": "2022-05-09T12:42:36.782Z"
   },
   {
    "duration": 16,
    "start_time": "2022-05-09T12:42:37.436Z"
   },
   {
    "duration": 19,
    "start_time": "2022-05-09T12:42:37.728Z"
   },
   {
    "duration": 33,
    "start_time": "2022-05-09T12:42:38.019Z"
   },
   {
    "duration": 26,
    "start_time": "2022-05-09T12:42:38.553Z"
   },
   {
    "duration": 15,
    "start_time": "2022-05-09T12:43:04.822Z"
   },
   {
    "duration": 50,
    "start_time": "2022-05-09T12:43:36.075Z"
   },
   {
    "duration": 51,
    "start_time": "2022-05-09T12:43:40.866Z"
   },
   {
    "duration": 20,
    "start_time": "2022-05-09T12:44:08.848Z"
   },
   {
    "duration": 41,
    "start_time": "2022-05-09T12:44:25.187Z"
   },
   {
    "duration": 27,
    "start_time": "2022-05-09T12:44:36.016Z"
   },
   {
    "duration": 36,
    "start_time": "2022-05-09T12:47:20.521Z"
   },
   {
    "duration": 8,
    "start_time": "2022-05-09T12:47:25.521Z"
   },
   {
    "duration": 6,
    "start_time": "2022-05-09T12:47:32.221Z"
   },
   {
    "duration": 6,
    "start_time": "2022-05-09T12:47:35.057Z"
   },
   {
    "duration": 7,
    "start_time": "2022-05-09T12:47:38.720Z"
   },
   {
    "duration": 19,
    "start_time": "2022-05-09T12:47:41.000Z"
   },
   {
    "duration": 28,
    "start_time": "2022-05-09T12:48:29.262Z"
   },
   {
    "duration": 23,
    "start_time": "2022-05-09T12:48:43.353Z"
   },
   {
    "duration": 44,
    "start_time": "2022-05-09T12:48:49.456Z"
   },
   {
    "duration": 73,
    "start_time": "2022-05-09T12:49:08.490Z"
   },
   {
    "duration": 31,
    "start_time": "2022-05-09T12:49:23.268Z"
   },
   {
    "duration": 22,
    "start_time": "2022-05-09T12:49:32.202Z"
   },
   {
    "duration": 27,
    "start_time": "2022-05-09T12:49:35.762Z"
   },
   {
    "duration": 30,
    "start_time": "2022-05-09T12:49:52.529Z"
   },
   {
    "duration": 47,
    "start_time": "2022-05-09T12:49:54.935Z"
   },
   {
    "duration": 77,
    "start_time": "2022-05-09T12:50:03.083Z"
   },
   {
    "duration": 5,
    "start_time": "2022-05-09T12:50:14.342Z"
   },
   {
    "duration": 626,
    "start_time": "2022-05-09T12:50:14.350Z"
   },
   {
    "duration": 12,
    "start_time": "2022-05-09T12:50:14.978Z"
   },
   {
    "duration": 87,
    "start_time": "2022-05-09T12:50:14.992Z"
   },
   {
    "duration": 42,
    "start_time": "2022-05-09T12:50:15.084Z"
   },
   {
    "duration": 39,
    "start_time": "2022-05-09T12:50:15.131Z"
   },
   {
    "duration": 80,
    "start_time": "2022-05-09T12:50:15.173Z"
   },
   {
    "duration": 124,
    "start_time": "2022-05-09T12:50:15.255Z"
   },
   {
    "duration": 16,
    "start_time": "2022-05-09T12:50:15.382Z"
   },
   {
    "duration": 52,
    "start_time": "2022-05-09T12:50:15.400Z"
   },
   {
    "duration": 10,
    "start_time": "2022-05-09T12:50:15.458Z"
   },
   {
    "duration": 31,
    "start_time": "2022-05-09T12:50:15.470Z"
   },
   {
    "duration": 36,
    "start_time": "2022-05-09T12:50:15.504Z"
   },
   {
    "duration": 55,
    "start_time": "2022-05-09T12:50:15.543Z"
   },
   {
    "duration": 51,
    "start_time": "2022-05-09T12:50:15.601Z"
   },
   {
    "duration": 12,
    "start_time": "2022-05-09T12:50:15.654Z"
   },
   {
    "duration": 72,
    "start_time": "2022-05-09T12:50:15.669Z"
   },
   {
    "duration": 23,
    "start_time": "2022-05-09T12:50:15.744Z"
   },
   {
    "duration": 50,
    "start_time": "2022-05-09T12:50:15.769Z"
   },
   {
    "duration": 20,
    "start_time": "2022-05-09T12:50:15.821Z"
   },
   {
    "duration": 16,
    "start_time": "2022-05-09T12:50:15.843Z"
   },
   {
    "duration": 44,
    "start_time": "2022-05-09T12:50:15.862Z"
   },
   {
    "duration": 32,
    "start_time": "2022-05-09T12:50:15.909Z"
   },
   {
    "duration": 9,
    "start_time": "2022-05-09T12:50:15.943Z"
   },
   {
    "duration": 7,
    "start_time": "2022-05-09T12:50:15.955Z"
   },
   {
    "duration": 10,
    "start_time": "2022-05-09T12:50:15.964Z"
   },
   {
    "duration": 64,
    "start_time": "2022-05-09T12:50:15.976Z"
   },
   {
    "duration": 13,
    "start_time": "2022-05-09T12:50:16.043Z"
   },
   {
    "duration": 71,
    "start_time": "2022-05-09T12:50:16.061Z"
   },
   {
    "duration": 12,
    "start_time": "2022-05-09T12:50:16.138Z"
   },
   {
    "duration": 25,
    "start_time": "2022-05-09T12:50:16.153Z"
   },
   {
    "duration": 36,
    "start_time": "2022-05-09T12:50:16.180Z"
   },
   {
    "duration": 35,
    "start_time": "2022-05-09T12:50:16.218Z"
   },
   {
    "duration": 26,
    "start_time": "2022-05-09T12:50:16.255Z"
   },
   {
    "duration": 41,
    "start_time": "2022-05-09T12:50:16.283Z"
   },
   {
    "duration": 16,
    "start_time": "2022-05-09T12:50:16.328Z"
   },
   {
    "duration": 19,
    "start_time": "2022-05-09T12:50:16.347Z"
   },
   {
    "duration": 30,
    "start_time": "2022-05-09T12:50:16.368Z"
   },
   {
    "duration": 26,
    "start_time": "2022-05-09T12:50:16.400Z"
   },
   {
    "duration": 25,
    "start_time": "2022-05-09T12:50:16.427Z"
   },
   {
    "duration": 4,
    "start_time": "2022-05-09T12:50:26.022Z"
   },
   {
    "duration": 14,
    "start_time": "2022-05-09T12:50:38.969Z"
   },
   {
    "duration": 27,
    "start_time": "2022-05-09T12:50:41.458Z"
   },
   {
    "duration": 22,
    "start_time": "2022-05-09T12:50:54.431Z"
   },
   {
    "duration": 24,
    "start_time": "2022-05-09T12:51:04.421Z"
   },
   {
    "duration": 25,
    "start_time": "2022-05-09T12:51:13.894Z"
   },
   {
    "duration": 32,
    "start_time": "2022-05-09T12:51:16.027Z"
   },
   {
    "duration": 27,
    "start_time": "2022-05-09T12:51:42.273Z"
   },
   {
    "duration": 38,
    "start_time": "2022-05-09T12:51:42.876Z"
   },
   {
    "duration": 1473,
    "start_time": "2022-05-09T14:50:22.413Z"
   },
   {
    "duration": 439,
    "start_time": "2022-05-09T14:50:23.888Z"
   },
   {
    "duration": 13,
    "start_time": "2022-05-09T14:50:24.328Z"
   },
   {
    "duration": 35,
    "start_time": "2022-05-09T14:50:24.343Z"
   },
   {
    "duration": 37,
    "start_time": "2022-05-09T14:50:24.382Z"
   },
   {
    "duration": 26,
    "start_time": "2022-05-09T14:50:24.421Z"
   },
   {
    "duration": 34,
    "start_time": "2022-05-09T14:50:24.449Z"
   },
   {
    "duration": 79,
    "start_time": "2022-05-09T14:50:24.485Z"
   },
   {
    "duration": 8,
    "start_time": "2022-05-09T14:50:24.566Z"
   },
   {
    "duration": 11,
    "start_time": "2022-05-09T14:50:24.575Z"
   },
   {
    "duration": 11,
    "start_time": "2022-05-09T14:50:24.601Z"
   },
   {
    "duration": 25,
    "start_time": "2022-05-09T14:50:24.615Z"
   },
   {
    "duration": 25,
    "start_time": "2022-05-09T14:50:24.642Z"
   },
   {
    "duration": 47,
    "start_time": "2022-05-09T14:50:24.672Z"
   },
   {
    "duration": 25,
    "start_time": "2022-05-09T14:50:24.721Z"
   },
   {
    "duration": 6,
    "start_time": "2022-05-09T14:50:24.748Z"
   },
   {
    "duration": 21,
    "start_time": "2022-05-09T14:50:24.756Z"
   },
   {
    "duration": 24,
    "start_time": "2022-05-09T14:50:24.801Z"
   },
   {
    "duration": 20,
    "start_time": "2022-05-09T14:50:24.826Z"
   },
   {
    "duration": 8,
    "start_time": "2022-05-09T14:50:24.847Z"
   },
   {
    "duration": 13,
    "start_time": "2022-05-09T14:50:24.857Z"
   },
   {
    "duration": 25,
    "start_time": "2022-05-09T14:50:24.899Z"
   },
   {
    "duration": 8,
    "start_time": "2022-05-09T14:50:24.926Z"
   },
   {
    "duration": 9,
    "start_time": "2022-05-09T14:50:24.936Z"
   },
   {
    "duration": 7,
    "start_time": "2022-05-09T14:50:24.948Z"
   },
   {
    "duration": 11,
    "start_time": "2022-05-09T14:50:24.957Z"
   },
   {
    "duration": 40,
    "start_time": "2022-05-09T14:50:24.969Z"
   },
   {
    "duration": 12,
    "start_time": "2022-05-09T14:50:25.011Z"
   },
   {
    "duration": 60,
    "start_time": "2022-05-09T14:50:25.025Z"
   },
   {
    "duration": 17,
    "start_time": "2022-05-09T14:50:25.087Z"
   },
   {
    "duration": 23,
    "start_time": "2022-05-09T14:50:25.106Z"
   },
   {
    "duration": 21,
    "start_time": "2022-05-09T14:50:25.131Z"
   },
   {
    "duration": 8,
    "start_time": "2022-05-09T14:50:25.153Z"
   },
   {
    "duration": 38,
    "start_time": "2022-05-09T14:50:25.162Z"
   },
   {
    "duration": 25,
    "start_time": "2022-05-09T14:50:25.202Z"
   },
   {
    "duration": 10,
    "start_time": "2022-05-09T14:50:25.230Z"
   },
   {
    "duration": 12,
    "start_time": "2022-05-09T14:50:25.242Z"
   },
   {
    "duration": 11,
    "start_time": "2022-05-09T14:50:25.256Z"
   },
   {
    "duration": 44,
    "start_time": "2022-05-09T14:50:25.269Z"
   },
   {
    "duration": 12,
    "start_time": "2022-05-09T14:50:25.315Z"
   },
   {
    "duration": 13,
    "start_time": "2022-05-09T14:50:25.333Z"
   },
   {
    "duration": 11,
    "start_time": "2022-05-09T14:50:25.347Z"
   },
   {
    "duration": 9,
    "start_time": "2022-05-09T14:50:25.360Z"
   },
   {
    "duration": 45,
    "start_time": "2022-05-09T14:50:25.371Z"
   },
   {
    "duration": 21,
    "start_time": "2022-05-09T14:50:25.418Z"
   },
   {
    "duration": 18,
    "start_time": "2022-05-09T14:50:25.440Z"
   },
   {
    "duration": 10,
    "start_time": "2022-05-09T14:50:25.460Z"
   },
   {
    "duration": 33,
    "start_time": "2022-05-09T14:50:25.472Z"
   },
   {
    "duration": 13,
    "start_time": "2022-05-09T14:50:25.507Z"
   },
   {
    "duration": 14,
    "start_time": "2022-05-09T14:50:25.522Z"
   },
   {
    "duration": 9,
    "start_time": "2022-05-09T14:50:25.539Z"
   },
   {
    "duration": 14,
    "start_time": "2022-05-09T14:50:25.550Z"
   },
   {
    "duration": 38,
    "start_time": "2022-05-09T14:50:25.566Z"
   },
   {
    "duration": 12,
    "start_time": "2022-05-09T14:50:25.607Z"
   },
   {
    "duration": 15,
    "start_time": "2022-05-09T14:50:25.621Z"
   },
   {
    "duration": 13,
    "start_time": "2022-05-09T14:50:25.638Z"
   },
   {
    "duration": 10,
    "start_time": "2022-05-09T14:50:25.653Z"
   },
   {
    "duration": 40,
    "start_time": "2022-05-09T14:50:25.664Z"
   },
   {
    "duration": 24,
    "start_time": "2022-05-09T14:50:25.706Z"
   },
   {
    "duration": 11,
    "start_time": "2022-05-09T14:50:25.732Z"
   },
   {
    "duration": 17,
    "start_time": "2022-05-09T14:50:25.745Z"
   },
   {
    "duration": 42,
    "start_time": "2022-05-09T14:50:25.764Z"
   },
   {
    "duration": 20,
    "start_time": "2022-05-09T14:50:25.808Z"
   },
   {
    "duration": 24,
    "start_time": "2022-05-09T14:50:25.830Z"
   },
   {
    "duration": 18,
    "start_time": "2022-05-09T14:50:25.855Z"
   },
   {
    "duration": 48,
    "start_time": "2022-05-09T14:50:25.875Z"
   },
   {
    "duration": 406,
    "start_time": "2022-05-09T14:50:25.926Z"
   },
   {
    "duration": 17,
    "start_time": "2022-05-09T14:50:26.334Z"
   },
   {
    "duration": 17,
    "start_time": "2022-05-09T14:50:26.353Z"
   },
   {
    "duration": 375,
    "start_time": "2022-05-09T14:50:26.372Z"
   },
   {
    "duration": 373,
    "start_time": "2022-05-09T14:50:26.749Z"
   },
   {
    "duration": 25,
    "start_time": "2022-05-09T14:50:27.125Z"
   },
   {
    "duration": 23,
    "start_time": "2022-05-09T14:50:27.152Z"
   },
   {
    "duration": 333,
    "start_time": "2022-05-09T14:50:27.177Z"
   },
   {
    "duration": 32,
    "start_time": "2022-05-09T14:50:27.512Z"
   },
   {
    "duration": 12,
    "start_time": "2022-05-09T14:52:41.463Z"
   },
   {
    "duration": 106,
    "start_time": "2022-05-09T14:53:12.696Z"
   },
   {
    "duration": 153,
    "start_time": "2022-05-09T14:53:24.376Z"
   },
   {
    "duration": 14,
    "start_time": "2022-05-09T14:53:36.285Z"
   },
   {
    "duration": 8,
    "start_time": "2022-05-09T14:54:16.915Z"
   },
   {
    "duration": 127,
    "start_time": "2022-05-09T14:54:44.808Z"
   },
   {
    "duration": 166,
    "start_time": "2022-05-09T14:55:02.973Z"
   },
   {
    "duration": 131,
    "start_time": "2022-05-09T14:55:11.721Z"
   },
   {
    "duration": 156,
    "start_time": "2022-05-09T14:55:34.340Z"
   },
   {
    "duration": 149,
    "start_time": "2022-05-09T14:55:37.472Z"
   },
   {
    "duration": 148,
    "start_time": "2022-05-09T14:55:43.966Z"
   },
   {
    "duration": 136,
    "start_time": "2022-05-09T14:56:04.862Z"
   },
   {
    "duration": 15,
    "start_time": "2022-05-09T14:56:54.040Z"
   },
   {
    "duration": 22,
    "start_time": "2022-05-09T14:57:05.197Z"
   },
   {
    "duration": 16,
    "start_time": "2022-05-09T14:57:31.696Z"
   },
   {
    "duration": 18,
    "start_time": "2022-05-09T14:57:38.213Z"
   },
   {
    "duration": 139,
    "start_time": "2022-05-09T14:57:48.947Z"
   },
   {
    "duration": 15,
    "start_time": "2022-05-09T14:58:16.119Z"
   },
   {
    "duration": 172,
    "start_time": "2022-05-09T14:58:31.712Z"
   },
   {
    "duration": 178,
    "start_time": "2022-05-09T14:58:37.606Z"
   },
   {
    "duration": 180,
    "start_time": "2022-05-09T14:58:41.360Z"
   },
   {
    "duration": 246,
    "start_time": "2022-05-09T14:58:51.942Z"
   },
   {
    "duration": 190,
    "start_time": "2022-05-09T14:58:57.249Z"
   },
   {
    "duration": 16,
    "start_time": "2022-05-09T14:59:11.224Z"
   },
   {
    "duration": 170,
    "start_time": "2022-05-09T14:59:28.651Z"
   },
   {
    "duration": 169,
    "start_time": "2022-05-09T14:59:37.428Z"
   },
   {
    "duration": 173,
    "start_time": "2022-05-09T14:59:41.375Z"
   },
   {
    "duration": 130,
    "start_time": "2022-05-09T14:59:46.435Z"
   },
   {
    "duration": 174,
    "start_time": "2022-05-09T15:00:03.166Z"
   },
   {
    "duration": 181,
    "start_time": "2022-05-09T15:00:11.773Z"
   },
   {
    "duration": 193,
    "start_time": "2022-05-09T15:00:24.648Z"
   },
   {
    "duration": 186,
    "start_time": "2022-05-09T15:00:32.888Z"
   },
   {
    "duration": 184,
    "start_time": "2022-05-09T15:00:39.389Z"
   },
   {
    "duration": 277,
    "start_time": "2022-05-09T15:00:51.106Z"
   },
   {
    "duration": 172,
    "start_time": "2022-05-09T15:00:57.567Z"
   },
   {
    "duration": 182,
    "start_time": "2022-05-09T15:01:10.524Z"
   },
   {
    "duration": 175,
    "start_time": "2022-05-09T15:01:14.386Z"
   },
   {
    "duration": 194,
    "start_time": "2022-05-09T15:03:45.887Z"
   },
   {
    "duration": 281,
    "start_time": "2022-05-09T15:04:04.709Z"
   },
   {
    "duration": 215,
    "start_time": "2022-05-09T15:04:51.422Z"
   },
   {
    "duration": 207,
    "start_time": "2022-05-09T15:07:01.223Z"
   },
   {
    "duration": 214,
    "start_time": "2022-05-09T15:07:50.002Z"
   },
   {
    "duration": 204,
    "start_time": "2022-05-09T15:08:05.716Z"
   },
   {
    "duration": 198,
    "start_time": "2022-05-09T15:08:09.408Z"
   },
   {
    "duration": 22,
    "start_time": "2022-05-09T15:09:06.432Z"
   },
   {
    "duration": 9,
    "start_time": "2022-05-09T15:09:30.815Z"
   },
   {
    "duration": 15,
    "start_time": "2022-05-09T15:09:31.368Z"
   },
   {
    "duration": 15,
    "start_time": "2022-05-09T15:09:31.885Z"
   },
   {
    "duration": 329,
    "start_time": "2022-05-09T15:10:01.539Z"
   },
   {
    "duration": 204,
    "start_time": "2022-05-09T15:11:31.235Z"
   },
   {
    "duration": 202,
    "start_time": "2022-05-09T15:11:37.475Z"
   },
   {
    "duration": 211,
    "start_time": "2022-05-09T15:12:21.499Z"
   },
   {
    "duration": 208,
    "start_time": "2022-05-09T15:12:27.965Z"
   },
   {
    "duration": 13,
    "start_time": "2022-05-09T15:12:28.174Z"
   },
   {
    "duration": 209,
    "start_time": "2022-05-09T15:12:37.190Z"
   },
   {
    "duration": 202,
    "start_time": "2022-05-09T15:12:48.126Z"
   },
   {
    "duration": 159,
    "start_time": "2022-05-09T15:12:53.596Z"
   },
   {
    "duration": 200,
    "start_time": "2022-05-09T15:12:59.869Z"
   },
   {
    "duration": 218,
    "start_time": "2022-05-09T15:13:07.311Z"
   },
   {
    "duration": 203,
    "start_time": "2022-05-09T15:13:18.825Z"
   },
   {
    "duration": 210,
    "start_time": "2022-05-09T15:13:32.421Z"
   },
   {
    "duration": 18,
    "start_time": "2022-05-09T15:16:15.814Z"
   },
   {
    "duration": 9,
    "start_time": "2022-05-09T15:16:29.275Z"
   },
   {
    "duration": 16,
    "start_time": "2022-05-09T15:16:36.283Z"
   },
   {
    "duration": 16,
    "start_time": "2022-05-09T15:16:36.723Z"
   },
   {
    "duration": 485,
    "start_time": "2022-05-09T15:16:45.948Z"
   },
   {
    "duration": 219,
    "start_time": "2022-05-09T15:16:54.235Z"
   },
   {
    "duration": 293,
    "start_time": "2022-05-09T15:16:59.110Z"
   },
   {
    "duration": 19,
    "start_time": "2022-05-09T15:23:42.304Z"
   },
   {
    "duration": 16,
    "start_time": "2022-05-09T15:23:46.106Z"
   },
   {
    "duration": 159,
    "start_time": "2022-05-09T15:23:50.788Z"
   },
   {
    "duration": 206,
    "start_time": "2022-05-09T15:23:53.289Z"
   },
   {
    "duration": 209,
    "start_time": "2022-05-09T15:24:21.165Z"
   },
   {
    "duration": 212,
    "start_time": "2022-05-09T15:24:29.886Z"
   },
   {
    "duration": 15,
    "start_time": "2022-05-09T15:24:45.210Z"
   },
   {
    "duration": 14,
    "start_time": "2022-05-09T15:24:47.048Z"
   },
   {
    "duration": 189,
    "start_time": "2022-05-09T15:24:56.361Z"
   },
   {
    "duration": 211,
    "start_time": "2022-05-09T15:25:13.660Z"
   },
   {
    "duration": 15,
    "start_time": "2022-05-09T15:25:25.068Z"
   },
   {
    "duration": 14,
    "start_time": "2022-05-09T15:25:27.984Z"
   },
   {
    "duration": 190,
    "start_time": "2022-05-09T15:25:33.230Z"
   },
   {
    "duration": 9,
    "start_time": "2022-05-09T15:33:07.633Z"
   },
   {
    "duration": 24,
    "start_time": "2022-05-09T15:33:14.851Z"
   },
   {
    "duration": 213,
    "start_time": "2022-05-09T15:34:35.775Z"
   },
   {
    "duration": 216,
    "start_time": "2022-05-09T15:34:54.942Z"
   },
   {
    "duration": 12,
    "start_time": "2022-05-09T15:35:04.330Z"
   },
   {
    "duration": 11,
    "start_time": "2022-05-09T15:35:27.186Z"
   },
   {
    "duration": 9,
    "start_time": "2022-05-09T15:36:17.139Z"
   },
   {
    "duration": 19,
    "start_time": "2022-05-09T15:36:41.049Z"
   },
   {
    "duration": 18,
    "start_time": "2022-05-09T15:36:42.835Z"
   },
   {
    "duration": 14,
    "start_time": "2022-05-09T15:36:50.615Z"
   },
   {
    "duration": 14,
    "start_time": "2022-05-09T15:36:56.416Z"
   },
   {
    "duration": 10,
    "start_time": "2022-05-09T15:37:14.465Z"
   },
   {
    "duration": 18,
    "start_time": "2022-05-09T15:37:19.550Z"
   },
   {
    "duration": 19,
    "start_time": "2022-05-09T15:37:19.926Z"
   },
   {
    "duration": 3379,
    "start_time": "2022-05-09T15:37:29.040Z"
   },
   {
    "duration": 3237,
    "start_time": "2022-05-09T15:37:33.931Z"
   },
   {
    "duration": 3308,
    "start_time": "2022-05-09T15:37:41.283Z"
   },
   {
    "duration": 14,
    "start_time": "2022-05-09T15:37:47.838Z"
   },
   {
    "duration": 13,
    "start_time": "2022-05-09T15:40:05.276Z"
   },
   {
    "duration": 13,
    "start_time": "2022-05-09T15:40:10.217Z"
   },
   {
    "duration": 15,
    "start_time": "2022-05-09T15:40:17.817Z"
   },
   {
    "duration": 14,
    "start_time": "2022-05-09T15:40:20.838Z"
   },
   {
    "duration": 15,
    "start_time": "2022-05-09T15:40:24.544Z"
   },
   {
    "duration": 19,
    "start_time": "2022-05-09T15:40:35.509Z"
   },
   {
    "duration": 19,
    "start_time": "2022-05-09T15:40:45.130Z"
   },
   {
    "duration": 5223,
    "start_time": "2022-05-09T15:40:49.982Z"
   },
   {
    "duration": 14,
    "start_time": "2022-05-09T15:41:06.963Z"
   },
   {
    "duration": 22,
    "start_time": "2022-05-09T15:41:20.689Z"
   },
   {
    "duration": 18,
    "start_time": "2022-05-09T15:41:24.480Z"
   },
   {
    "duration": 37,
    "start_time": "2022-05-09T15:41:26.394Z"
   },
   {
    "duration": 18,
    "start_time": "2022-05-09T15:41:31.030Z"
   },
   {
    "duration": 30,
    "start_time": "2022-05-09T15:41:33.697Z"
   },
   {
    "duration": 21,
    "start_time": "2022-05-09T15:41:36.769Z"
   },
   {
    "duration": 15,
    "start_time": "2022-05-09T15:41:48.089Z"
   },
   {
    "duration": 11,
    "start_time": "2022-05-09T15:42:16.745Z"
   },
   {
    "duration": 21,
    "start_time": "2022-05-09T15:43:03.197Z"
   },
   {
    "duration": 15,
    "start_time": "2022-05-09T15:43:21.914Z"
   },
   {
    "duration": 273,
    "start_time": "2022-05-09T15:43:25.665Z"
   },
   {
    "duration": 17,
    "start_time": "2022-05-09T15:43:28.310Z"
   },
   {
    "duration": 18,
    "start_time": "2022-05-09T15:44:23.909Z"
   },
   {
    "duration": 11,
    "start_time": "2022-05-09T15:44:28.559Z"
   },
   {
    "duration": 17,
    "start_time": "2022-05-09T15:44:37.686Z"
   },
   {
    "duration": 8,
    "start_time": "2022-05-09T15:44:49.160Z"
   },
   {
    "duration": 15,
    "start_time": "2022-05-09T15:44:56.555Z"
   },
   {
    "duration": 20,
    "start_time": "2022-05-09T15:45:06.807Z"
   },
   {
    "duration": 14,
    "start_time": "2022-05-09T15:45:07.380Z"
   },
   {
    "duration": 21,
    "start_time": "2022-05-09T15:45:44.715Z"
   },
   {
    "duration": 21,
    "start_time": "2022-05-09T15:45:57.656Z"
   },
   {
    "duration": 13,
    "start_time": "2022-05-09T15:46:12.729Z"
   },
   {
    "duration": 19,
    "start_time": "2022-05-09T15:46:15.905Z"
   },
   {
    "duration": 17,
    "start_time": "2022-05-09T15:46:27.815Z"
   },
   {
    "duration": 16,
    "start_time": "2022-05-09T15:46:35.635Z"
   },
   {
    "duration": 17,
    "start_time": "2022-05-09T15:46:42.427Z"
   },
   {
    "duration": 27,
    "start_time": "2022-05-09T15:47:31.581Z"
   },
   {
    "duration": 14,
    "start_time": "2022-05-09T15:47:37.417Z"
   },
   {
    "duration": 25,
    "start_time": "2022-05-09T15:47:37.906Z"
   },
   {
    "duration": 17,
    "start_time": "2022-05-09T15:47:46.724Z"
   },
   {
    "duration": 29,
    "start_time": "2022-05-09T15:47:52.901Z"
   },
   {
    "duration": 21,
    "start_time": "2022-05-09T15:47:55.210Z"
   },
   {
    "duration": 26,
    "start_time": "2022-05-09T15:47:55.438Z"
   },
   {
    "duration": 21,
    "start_time": "2022-05-09T15:48:35.522Z"
   },
   {
    "duration": 14,
    "start_time": "2022-05-09T15:48:47.627Z"
   },
   {
    "duration": 29,
    "start_time": "2022-05-09T15:48:48.094Z"
   },
   {
    "duration": 3437,
    "start_time": "2022-05-09T15:49:23.020Z"
   },
   {
    "duration": 14,
    "start_time": "2022-05-09T15:49:27.361Z"
   },
   {
    "duration": 20,
    "start_time": "2022-05-09T15:49:27.831Z"
   },
   {
    "duration": 15,
    "start_time": "2022-05-09T15:50:04.294Z"
   },
   {
    "duration": 34,
    "start_time": "2022-05-09T15:50:04.498Z"
   },
   {
    "duration": 24,
    "start_time": "2022-05-09T15:50:57.673Z"
   },
   {
    "duration": 14,
    "start_time": "2022-05-09T15:51:00.568Z"
   },
   {
    "duration": 20,
    "start_time": "2022-05-09T15:51:00.930Z"
   },
   {
    "duration": 26,
    "start_time": "2022-05-09T15:51:15.787Z"
   },
   {
    "duration": 17,
    "start_time": "2022-05-09T15:51:18.509Z"
   },
   {
    "duration": 19,
    "start_time": "2022-05-09T15:51:18.774Z"
   },
   {
    "duration": 5714,
    "start_time": "2022-05-09T15:52:53.247Z"
   },
   {
    "duration": 4035,
    "start_time": "2022-05-09T15:53:12.292Z"
   },
   {
    "duration": 212,
    "start_time": "2022-05-09T15:55:12.088Z"
   },
   {
    "duration": 238,
    "start_time": "2022-05-09T15:55:23.021Z"
   },
   {
    "duration": 10,
    "start_time": "2022-05-09T15:55:44.714Z"
   },
   {
    "duration": 6,
    "start_time": "2022-05-09T15:55:46.605Z"
   },
   {
    "duration": 7,
    "start_time": "2022-05-09T15:56:05.762Z"
   },
   {
    "duration": 4,
    "start_time": "2022-05-09T15:56:08.566Z"
   },
   {
    "duration": 14,
    "start_time": "2022-05-09T15:59:51.262Z"
   },
   {
    "duration": 27,
    "start_time": "2022-05-09T15:59:51.795Z"
   },
   {
    "duration": 10,
    "start_time": "2022-05-09T16:00:15.844Z"
   },
   {
    "duration": 7,
    "start_time": "2022-05-09T16:00:17.015Z"
   },
   {
    "duration": 7,
    "start_time": "2022-05-09T16:00:21.738Z"
   },
   {
    "duration": 4,
    "start_time": "2022-05-09T16:00:24.856Z"
   },
   {
    "duration": 182,
    "start_time": "2022-05-09T16:24:44.349Z"
   },
   {
    "duration": 17,
    "start_time": "2022-05-09T16:30:40.014Z"
   },
   {
    "duration": 11,
    "start_time": "2022-05-09T16:30:42.564Z"
   },
   {
    "duration": 19,
    "start_time": "2022-05-09T16:30:43.056Z"
   },
   {
    "duration": 20,
    "start_time": "2022-05-09T16:30:45.577Z"
   },
   {
    "duration": 264,
    "start_time": "2022-05-09T16:30:47.427Z"
   },
   {
    "duration": 35,
    "start_time": "2022-05-09T16:30:57.392Z"
   },
   {
    "duration": 23,
    "start_time": "2022-05-09T16:31:04.103Z"
   },
   {
    "duration": 4,
    "start_time": "2022-05-09T16:51:47.300Z"
   },
   {
    "duration": 103,
    "start_time": "2022-05-10T13:02:33.600Z"
   },
   {
    "duration": 0,
    "start_time": "2022-05-10T13:02:33.704Z"
   },
   {
    "duration": 0,
    "start_time": "2022-05-10T13:02:33.705Z"
   },
   {
    "duration": 0,
    "start_time": "2022-05-10T13:02:33.706Z"
   },
   {
    "duration": 0,
    "start_time": "2022-05-10T13:02:33.707Z"
   },
   {
    "duration": 0,
    "start_time": "2022-05-10T13:02:33.708Z"
   },
   {
    "duration": 0,
    "start_time": "2022-05-10T13:02:33.709Z"
   },
   {
    "duration": 0,
    "start_time": "2022-05-10T13:02:33.710Z"
   },
   {
    "duration": 0,
    "start_time": "2022-05-10T13:02:33.711Z"
   },
   {
    "duration": 0,
    "start_time": "2022-05-10T13:02:33.712Z"
   },
   {
    "duration": 0,
    "start_time": "2022-05-10T13:02:33.713Z"
   },
   {
    "duration": 0,
    "start_time": "2022-05-10T13:02:33.714Z"
   },
   {
    "duration": 0,
    "start_time": "2022-05-10T13:02:33.715Z"
   },
   {
    "duration": 0,
    "start_time": "2022-05-10T13:02:33.716Z"
   },
   {
    "duration": 0,
    "start_time": "2022-05-10T13:02:33.717Z"
   },
   {
    "duration": 69,
    "start_time": "2022-05-10T13:02:33.719Z"
   },
   {
    "duration": 0,
    "start_time": "2022-05-10T13:02:33.790Z"
   },
   {
    "duration": 0,
    "start_time": "2022-05-10T13:02:33.791Z"
   },
   {
    "duration": 0,
    "start_time": "2022-05-10T13:02:33.792Z"
   },
   {
    "duration": 0,
    "start_time": "2022-05-10T13:02:33.793Z"
   },
   {
    "duration": 0,
    "start_time": "2022-05-10T13:02:33.794Z"
   },
   {
    "duration": 0,
    "start_time": "2022-05-10T13:02:33.795Z"
   },
   {
    "duration": 0,
    "start_time": "2022-05-10T13:02:33.796Z"
   },
   {
    "duration": 0,
    "start_time": "2022-05-10T13:02:33.797Z"
   },
   {
    "duration": 0,
    "start_time": "2022-05-10T13:02:33.798Z"
   },
   {
    "duration": 0,
    "start_time": "2022-05-10T13:02:33.798Z"
   },
   {
    "duration": 0,
    "start_time": "2022-05-10T13:02:33.799Z"
   },
   {
    "duration": 0,
    "start_time": "2022-05-10T13:02:33.800Z"
   },
   {
    "duration": 0,
    "start_time": "2022-05-10T13:02:33.801Z"
   },
   {
    "duration": 7,
    "start_time": "2022-05-10T13:02:33.803Z"
   },
   {
    "duration": 0,
    "start_time": "2022-05-10T13:02:33.812Z"
   },
   {
    "duration": 0,
    "start_time": "2022-05-10T13:02:33.813Z"
   },
   {
    "duration": 59,
    "start_time": "2022-05-10T13:02:33.814Z"
   },
   {
    "duration": 19,
    "start_time": "2022-05-10T13:02:33.877Z"
   },
   {
    "duration": 0,
    "start_time": "2022-05-10T13:02:33.898Z"
   },
   {
    "duration": 0,
    "start_time": "2022-05-10T13:02:33.900Z"
   },
   {
    "duration": 0,
    "start_time": "2022-05-10T13:02:33.901Z"
   },
   {
    "duration": 0,
    "start_time": "2022-05-10T13:02:33.902Z"
   },
   {
    "duration": 0,
    "start_time": "2022-05-10T13:02:33.903Z"
   },
   {
    "duration": 0,
    "start_time": "2022-05-10T13:02:33.904Z"
   },
   {
    "duration": 0,
    "start_time": "2022-05-10T13:02:33.905Z"
   },
   {
    "duration": 0,
    "start_time": "2022-05-10T13:02:33.906Z"
   },
   {
    "duration": 0,
    "start_time": "2022-05-10T13:02:33.907Z"
   },
   {
    "duration": 0,
    "start_time": "2022-05-10T13:02:33.908Z"
   },
   {
    "duration": 0,
    "start_time": "2022-05-10T13:02:33.909Z"
   },
   {
    "duration": 6,
    "start_time": "2022-05-10T13:02:33.911Z"
   },
   {
    "duration": 0,
    "start_time": "2022-05-10T13:02:33.918Z"
   },
   {
    "duration": 55,
    "start_time": "2022-05-10T13:02:33.919Z"
   },
   {
    "duration": 0,
    "start_time": "2022-05-10T13:02:33.976Z"
   },
   {
    "duration": 0,
    "start_time": "2022-05-10T13:02:33.977Z"
   },
   {
    "duration": 0,
    "start_time": "2022-05-10T13:02:33.979Z"
   },
   {
    "duration": 0,
    "start_time": "2022-05-10T13:02:33.980Z"
   },
   {
    "duration": 0,
    "start_time": "2022-05-10T13:02:33.981Z"
   },
   {
    "duration": 0,
    "start_time": "2022-05-10T13:02:33.982Z"
   },
   {
    "duration": 0,
    "start_time": "2022-05-10T13:02:33.983Z"
   },
   {
    "duration": 0,
    "start_time": "2022-05-10T13:02:33.983Z"
   },
   {
    "duration": 0,
    "start_time": "2022-05-10T13:02:33.984Z"
   },
   {
    "duration": 0,
    "start_time": "2022-05-10T13:02:33.985Z"
   },
   {
    "duration": 0,
    "start_time": "2022-05-10T13:02:33.986Z"
   },
   {
    "duration": 0,
    "start_time": "2022-05-10T13:02:33.987Z"
   },
   {
    "duration": 7,
    "start_time": "2022-05-10T13:02:33.992Z"
   },
   {
    "duration": 0,
    "start_time": "2022-05-10T13:02:34.000Z"
   },
   {
    "duration": 0,
    "start_time": "2022-05-10T13:02:34.001Z"
   },
   {
    "duration": 6,
    "start_time": "2022-05-10T13:02:34.007Z"
   },
   {
    "duration": 56,
    "start_time": "2022-05-10T13:02:34.018Z"
   },
   {
    "duration": 0,
    "start_time": "2022-05-10T13:02:34.076Z"
   },
   {
    "duration": 8,
    "start_time": "2022-05-10T13:02:35.778Z"
   },
   {
    "duration": 9,
    "start_time": "2022-05-10T13:02:35.818Z"
   },
   {
    "duration": 0,
    "start_time": "2022-05-10T13:02:35.829Z"
   },
   {
    "duration": 7,
    "start_time": "2022-05-10T13:02:35.834Z"
   },
   {
    "duration": 0,
    "start_time": "2022-05-10T13:02:35.844Z"
   },
   {
    "duration": 0,
    "start_time": "2022-05-10T13:02:35.845Z"
   },
   {
    "duration": 0,
    "start_time": "2022-05-10T13:02:35.847Z"
   },
   {
    "duration": 8,
    "start_time": "2022-05-10T13:02:35.856Z"
   },
   {
    "duration": 0,
    "start_time": "2022-05-10T13:02:35.873Z"
   },
   {
    "duration": 0,
    "start_time": "2022-05-10T13:02:35.874Z"
   },
   {
    "duration": 0,
    "start_time": "2022-05-10T13:02:35.876Z"
   },
   {
    "duration": 0,
    "start_time": "2022-05-10T13:02:35.877Z"
   },
   {
    "duration": 0,
    "start_time": "2022-05-10T13:02:35.879Z"
   },
   {
    "duration": 0,
    "start_time": "2022-05-10T13:02:35.880Z"
   },
   {
    "duration": 0,
    "start_time": "2022-05-10T13:02:35.882Z"
   },
   {
    "duration": 0,
    "start_time": "2022-05-10T13:02:35.883Z"
   },
   {
    "duration": 0,
    "start_time": "2022-05-10T13:02:35.884Z"
   },
   {
    "duration": 0,
    "start_time": "2022-05-10T13:02:35.885Z"
   },
   {
    "duration": 0,
    "start_time": "2022-05-10T13:02:35.887Z"
   },
   {
    "duration": 0,
    "start_time": "2022-05-10T13:02:35.888Z"
   },
   {
    "duration": 0,
    "start_time": "2022-05-10T13:02:35.890Z"
   },
   {
    "duration": 0,
    "start_time": "2022-05-10T13:02:35.891Z"
   },
   {
    "duration": 0,
    "start_time": "2022-05-10T13:02:35.892Z"
   },
   {
    "duration": 0,
    "start_time": "2022-05-10T13:02:35.894Z"
   },
   {
    "duration": 0,
    "start_time": "2022-05-10T13:02:35.895Z"
   },
   {
    "duration": 9,
    "start_time": "2022-05-10T13:02:35.898Z"
   },
   {
    "duration": 0,
    "start_time": "2022-05-10T13:02:35.909Z"
   },
   {
    "duration": 0,
    "start_time": "2022-05-10T13:02:35.911Z"
   },
   {
    "duration": 0,
    "start_time": "2022-05-10T13:02:35.912Z"
   },
   {
    "duration": 0,
    "start_time": "2022-05-10T13:02:35.913Z"
   },
   {
    "duration": 1286,
    "start_time": "2022-05-10T13:03:04.144Z"
   },
   {
    "duration": 366,
    "start_time": "2022-05-10T13:03:05.433Z"
   },
   {
    "duration": 12,
    "start_time": "2022-05-10T13:03:05.800Z"
   },
   {
    "duration": 28,
    "start_time": "2022-05-10T13:03:05.814Z"
   },
   {
    "duration": 29,
    "start_time": "2022-05-10T13:03:05.843Z"
   },
   {
    "duration": 26,
    "start_time": "2022-05-10T13:03:05.874Z"
   },
   {
    "duration": 36,
    "start_time": "2022-05-10T13:03:05.902Z"
   },
   {
    "duration": 78,
    "start_time": "2022-05-10T13:03:05.940Z"
   },
   {
    "duration": 8,
    "start_time": "2022-05-10T13:03:06.020Z"
   },
   {
    "duration": 14,
    "start_time": "2022-05-10T13:03:06.031Z"
   },
   {
    "duration": 29,
    "start_time": "2022-05-10T13:03:06.046Z"
   },
   {
    "duration": 27,
    "start_time": "2022-05-10T13:03:06.077Z"
   },
   {
    "duration": 40,
    "start_time": "2022-05-10T13:03:06.106Z"
   },
   {
    "duration": 20,
    "start_time": "2022-05-10T13:03:06.148Z"
   },
   {
    "duration": 30,
    "start_time": "2022-05-10T13:03:06.169Z"
   },
   {
    "duration": 8,
    "start_time": "2022-05-10T13:03:06.200Z"
   },
   {
    "duration": 24,
    "start_time": "2022-05-10T13:03:06.209Z"
   },
   {
    "duration": 17,
    "start_time": "2022-05-10T13:03:06.234Z"
   },
   {
    "duration": 32,
    "start_time": "2022-05-10T13:03:06.252Z"
   },
   {
    "duration": 8,
    "start_time": "2022-05-10T13:03:06.285Z"
   },
   {
    "duration": 12,
    "start_time": "2022-05-10T13:03:06.295Z"
   },
   {
    "duration": 15,
    "start_time": "2022-05-10T13:03:06.309Z"
   },
   {
    "duration": 6,
    "start_time": "2022-05-10T13:03:06.326Z"
   },
   {
    "duration": 12,
    "start_time": "2022-05-10T13:03:06.333Z"
   },
   {
    "duration": 8,
    "start_time": "2022-05-10T13:03:06.346Z"
   },
   {
    "duration": 17,
    "start_time": "2022-05-10T13:03:06.356Z"
   },
   {
    "duration": 24,
    "start_time": "2022-05-10T13:03:06.374Z"
   },
   {
    "duration": 8,
    "start_time": "2022-05-10T13:03:06.403Z"
   },
   {
    "duration": 66,
    "start_time": "2022-05-10T13:03:06.412Z"
   },
   {
    "duration": 8,
    "start_time": "2022-05-10T13:03:06.480Z"
   },
   {
    "duration": 18,
    "start_time": "2022-05-10T13:03:06.489Z"
   },
   {
    "duration": 19,
    "start_time": "2022-05-10T13:03:06.509Z"
   },
   {
    "duration": 8,
    "start_time": "2022-05-10T13:03:06.529Z"
   },
   {
    "duration": 41,
    "start_time": "2022-05-10T13:03:06.538Z"
   },
   {
    "duration": 19,
    "start_time": "2022-05-10T13:03:06.581Z"
   },
   {
    "duration": 6,
    "start_time": "2022-05-10T13:03:06.602Z"
   },
   {
    "duration": 12,
    "start_time": "2022-05-10T13:03:06.610Z"
   },
   {
    "duration": 11,
    "start_time": "2022-05-10T13:03:06.623Z"
   },
   {
    "duration": 12,
    "start_time": "2022-05-10T13:03:06.635Z"
   },
   {
    "duration": 33,
    "start_time": "2022-05-10T13:03:06.648Z"
   },
   {
    "duration": 10,
    "start_time": "2022-05-10T13:03:06.683Z"
   },
   {
    "duration": 9,
    "start_time": "2022-05-10T13:03:06.694Z"
   },
   {
    "duration": 9,
    "start_time": "2022-05-10T13:03:06.705Z"
   },
   {
    "duration": 12,
    "start_time": "2022-05-10T13:03:06.715Z"
   },
   {
    "duration": 15,
    "start_time": "2022-05-10T13:03:06.728Z"
   },
   {
    "duration": 38,
    "start_time": "2022-05-10T13:03:06.745Z"
   },
   {
    "duration": 7,
    "start_time": "2022-05-10T13:03:06.784Z"
   },
   {
    "duration": 12,
    "start_time": "2022-05-10T13:03:06.792Z"
   },
   {
    "duration": 9,
    "start_time": "2022-05-10T13:03:06.806Z"
   },
   {
    "duration": 12,
    "start_time": "2022-05-10T13:03:06.816Z"
   },
   {
    "duration": 9,
    "start_time": "2022-05-10T13:03:06.830Z"
   },
   {
    "duration": 40,
    "start_time": "2022-05-10T13:03:06.840Z"
   },
   {
    "duration": 16,
    "start_time": "2022-05-10T13:03:06.882Z"
   },
   {
    "duration": 10,
    "start_time": "2022-05-10T13:03:06.899Z"
   },
   {
    "duration": 10,
    "start_time": "2022-05-10T13:03:06.911Z"
   },
   {
    "duration": 9,
    "start_time": "2022-05-10T13:03:06.923Z"
   },
   {
    "duration": 11,
    "start_time": "2022-05-10T13:03:06.934Z"
   },
   {
    "duration": 34,
    "start_time": "2022-05-10T13:03:06.947Z"
   },
   {
    "duration": 17,
    "start_time": "2022-05-10T13:03:06.983Z"
   },
   {
    "duration": 10,
    "start_time": "2022-05-10T13:03:07.001Z"
   },
   {
    "duration": 20,
    "start_time": "2022-05-10T13:03:07.013Z"
   },
   {
    "duration": 50,
    "start_time": "2022-05-10T13:03:07.035Z"
   },
   {
    "duration": 16,
    "start_time": "2022-05-10T13:03:07.086Z"
   },
   {
    "duration": 24,
    "start_time": "2022-05-10T13:03:07.104Z"
   },
   {
    "duration": 17,
    "start_time": "2022-05-10T13:03:07.129Z"
   },
   {
    "duration": 39,
    "start_time": "2022-05-10T13:03:07.148Z"
   },
   {
    "duration": 393,
    "start_time": "2022-05-10T13:03:07.188Z"
   },
   {
    "duration": 17,
    "start_time": "2022-05-10T13:03:07.583Z"
   },
   {
    "duration": 17,
    "start_time": "2022-05-10T13:03:07.601Z"
   },
   {
    "duration": 337,
    "start_time": "2022-05-10T13:03:07.619Z"
   },
   {
    "duration": 296,
    "start_time": "2022-05-10T13:03:07.958Z"
   },
   {
    "duration": 32,
    "start_time": "2022-05-10T13:03:08.255Z"
   },
   {
    "duration": 25,
    "start_time": "2022-05-10T13:03:08.289Z"
   },
   {
    "duration": 343,
    "start_time": "2022-05-10T13:03:08.316Z"
   },
   {
    "duration": 21,
    "start_time": "2022-05-10T13:03:08.660Z"
   },
   {
    "duration": 12,
    "start_time": "2022-05-10T13:03:08.683Z"
   },
   {
    "duration": 13,
    "start_time": "2022-05-10T13:03:08.697Z"
   },
   {
    "duration": 11,
    "start_time": "2022-05-10T13:03:08.711Z"
   },
   {
    "duration": 306,
    "start_time": "2022-05-10T13:03:08.724Z"
   },
   {
    "duration": 15,
    "start_time": "2022-05-10T13:03:09.032Z"
   },
   {
    "duration": 9,
    "start_time": "2022-05-10T13:03:09.048Z"
   },
   {
    "duration": 14,
    "start_time": "2022-05-10T13:03:09.075Z"
   },
   {
    "duration": 14,
    "start_time": "2022-05-10T13:03:09.091Z"
   },
   {
    "duration": 221,
    "start_time": "2022-05-10T13:03:09.107Z"
   },
   {
    "duration": 16,
    "start_time": "2022-05-10T13:03:09.330Z"
   },
   {
    "duration": 26,
    "start_time": "2022-05-10T13:03:09.348Z"
   },
   {
    "duration": 15,
    "start_time": "2022-05-10T13:03:09.375Z"
   },
   {
    "duration": 14,
    "start_time": "2022-05-10T13:03:09.391Z"
   },
   {
    "duration": 219,
    "start_time": "2022-05-10T13:03:09.406Z"
   },
   {
    "duration": 14,
    "start_time": "2022-05-10T13:03:09.627Z"
   },
   {
    "duration": 38,
    "start_time": "2022-05-10T13:03:09.643Z"
   },
   {
    "duration": 7,
    "start_time": "2022-05-10T13:03:09.683Z"
   },
   {
    "duration": 7,
    "start_time": "2022-05-10T13:03:09.692Z"
   },
   {
    "duration": 11,
    "start_time": "2022-05-10T13:03:09.700Z"
   },
   {
    "duration": 6,
    "start_time": "2022-05-10T13:03:09.712Z"
   },
   {
    "duration": 112,
    "start_time": "2022-05-10T13:03:09.720Z"
   },
   {
    "duration": 18,
    "start_time": "2022-05-10T13:09:58.986Z"
   },
   {
    "duration": 7,
    "start_time": "2022-05-10T13:10:07.580Z"
   },
   {
    "duration": 7,
    "start_time": "2022-05-10T13:18:07.809Z"
   },
   {
    "duration": 6,
    "start_time": "2022-05-10T13:18:40.531Z"
   },
   {
    "duration": 17,
    "start_time": "2022-05-10T13:20:07.622Z"
   },
   {
    "duration": 8,
    "start_time": "2022-05-10T13:20:15.472Z"
   },
   {
    "duration": 5,
    "start_time": "2022-05-10T13:20:23.743Z"
   },
   {
    "duration": 6,
    "start_time": "2022-05-10T13:20:28.492Z"
   },
   {
    "duration": 4,
    "start_time": "2022-05-10T13:21:08.486Z"
   },
   {
    "duration": 4,
    "start_time": "2022-05-10T13:22:11.921Z"
   },
   {
    "duration": 4,
    "start_time": "2022-05-10T13:22:16.542Z"
   },
   {
    "duration": 19,
    "start_time": "2022-05-10T13:24:36.580Z"
   },
   {
    "duration": 4,
    "start_time": "2022-05-10T13:25:01.967Z"
   },
   {
    "duration": 4,
    "start_time": "2022-05-10T13:25:11.463Z"
   },
   {
    "duration": 5,
    "start_time": "2022-05-10T13:25:46.507Z"
   },
   {
    "duration": 4,
    "start_time": "2022-05-10T13:27:06.684Z"
   },
   {
    "duration": 382,
    "start_time": "2022-05-10T13:27:06.689Z"
   },
   {
    "duration": 9,
    "start_time": "2022-05-10T13:27:07.073Z"
   },
   {
    "duration": 29,
    "start_time": "2022-05-10T13:27:07.083Z"
   },
   {
    "duration": 26,
    "start_time": "2022-05-10T13:27:07.114Z"
   },
   {
    "duration": 50,
    "start_time": "2022-05-10T13:27:07.141Z"
   },
   {
    "duration": 29,
    "start_time": "2022-05-10T13:27:07.192Z"
   },
   {
    "duration": 73,
    "start_time": "2022-05-10T13:27:07.223Z"
   },
   {
    "duration": 9,
    "start_time": "2022-05-10T13:27:07.298Z"
   },
   {
    "duration": 16,
    "start_time": "2022-05-10T13:27:07.308Z"
   },
   {
    "duration": 14,
    "start_time": "2022-05-10T13:27:07.327Z"
   },
   {
    "duration": 23,
    "start_time": "2022-05-10T13:27:07.343Z"
   },
   {
    "duration": 23,
    "start_time": "2022-05-10T13:27:07.374Z"
   },
   {
    "duration": 21,
    "start_time": "2022-05-10T13:27:07.399Z"
   },
   {
    "duration": 28,
    "start_time": "2022-05-10T13:27:07.422Z"
   },
   {
    "duration": 26,
    "start_time": "2022-05-10T13:27:07.452Z"
   },
   {
    "duration": 22,
    "start_time": "2022-05-10T13:27:07.480Z"
   },
   {
    "duration": 19,
    "start_time": "2022-05-10T13:27:07.504Z"
   },
   {
    "duration": 48,
    "start_time": "2022-05-10T13:27:07.525Z"
   },
   {
    "duration": 9,
    "start_time": "2022-05-10T13:27:07.575Z"
   },
   {
    "duration": 11,
    "start_time": "2022-05-10T13:27:07.585Z"
   },
   {
    "duration": 12,
    "start_time": "2022-05-10T13:27:07.598Z"
   },
   {
    "duration": 4,
    "start_time": "2022-05-10T13:27:07.611Z"
   },
   {
    "duration": 6,
    "start_time": "2022-05-10T13:27:07.617Z"
   },
   {
    "duration": 4,
    "start_time": "2022-05-10T13:27:07.625Z"
   },
   {
    "duration": 43,
    "start_time": "2022-05-10T13:27:07.631Z"
   },
   {
    "duration": 24,
    "start_time": "2022-05-10T13:27:07.676Z"
   },
   {
    "duration": 10,
    "start_time": "2022-05-10T13:27:07.702Z"
   },
   {
    "duration": 70,
    "start_time": "2022-05-10T13:27:07.717Z"
   },
   {
    "duration": 9,
    "start_time": "2022-05-10T13:27:07.788Z"
   },
   {
    "duration": 23,
    "start_time": "2022-05-10T13:27:07.799Z"
   },
   {
    "duration": 18,
    "start_time": "2022-05-10T13:27:07.824Z"
   },
   {
    "duration": 9,
    "start_time": "2022-05-10T13:27:07.843Z"
   },
   {
    "duration": 17,
    "start_time": "2022-05-10T13:27:07.874Z"
   },
   {
    "duration": 21,
    "start_time": "2022-05-10T13:27:07.892Z"
   },
   {
    "duration": 7,
    "start_time": "2022-05-10T13:27:07.914Z"
   },
   {
    "duration": 13,
    "start_time": "2022-05-10T13:27:07.922Z"
   },
   {
    "duration": 9,
    "start_time": "2022-05-10T13:27:07.936Z"
   },
   {
    "duration": 35,
    "start_time": "2022-05-10T13:27:07.947Z"
   },
   {
    "duration": 10,
    "start_time": "2022-05-10T13:27:07.983Z"
   },
   {
    "duration": 16,
    "start_time": "2022-05-10T13:27:07.995Z"
   },
   {
    "duration": 10,
    "start_time": "2022-05-10T13:27:08.013Z"
   },
   {
    "duration": 11,
    "start_time": "2022-05-10T13:27:08.024Z"
   },
   {
    "duration": 36,
    "start_time": "2022-05-10T13:27:08.037Z"
   },
   {
    "duration": 17,
    "start_time": "2022-05-10T13:27:08.075Z"
   },
   {
    "duration": 16,
    "start_time": "2022-05-10T13:27:08.094Z"
   },
   {
    "duration": 8,
    "start_time": "2022-05-10T13:27:08.112Z"
   },
   {
    "duration": 9,
    "start_time": "2022-05-10T13:27:08.122Z"
   },
   {
    "duration": 41,
    "start_time": "2022-05-10T13:27:08.132Z"
   },
   {
    "duration": 11,
    "start_time": "2022-05-10T13:27:08.175Z"
   },
   {
    "duration": 10,
    "start_time": "2022-05-10T13:27:08.188Z"
   },
   {
    "duration": 15,
    "start_time": "2022-05-10T13:27:08.200Z"
   },
   {
    "duration": 16,
    "start_time": "2022-05-10T13:27:08.217Z"
   },
   {
    "duration": 42,
    "start_time": "2022-05-10T13:27:08.234Z"
   },
   {
    "duration": 10,
    "start_time": "2022-05-10T13:27:08.278Z"
   },
   {
    "duration": 11,
    "start_time": "2022-05-10T13:27:08.290Z"
   },
   {
    "duration": 10,
    "start_time": "2022-05-10T13:27:08.303Z"
   },
   {
    "duration": 10,
    "start_time": "2022-05-10T13:27:08.315Z"
   },
   {
    "duration": 49,
    "start_time": "2022-05-10T13:27:08.327Z"
   },
   {
    "duration": 11,
    "start_time": "2022-05-10T13:27:08.377Z"
   },
   {
    "duration": 18,
    "start_time": "2022-05-10T13:27:08.390Z"
   },
   {
    "duration": 16,
    "start_time": "2022-05-10T13:27:08.410Z"
   },
   {
    "duration": 51,
    "start_time": "2022-05-10T13:27:08.427Z"
   },
   {
    "duration": 27,
    "start_time": "2022-05-10T13:27:08.481Z"
   },
   {
    "duration": 4,
    "start_time": "2022-05-10T13:27:08.510Z"
   },
   {
    "duration": 7,
    "start_time": "2022-05-10T13:27:08.515Z"
   },
   {
    "duration": 7,
    "start_time": "2022-05-10T13:27:08.523Z"
   },
   {
    "duration": 16,
    "start_time": "2022-05-10T13:29:00.090Z"
   },
   {
    "duration": 5,
    "start_time": "2022-05-10T13:29:11.568Z"
   },
   {
    "duration": 4,
    "start_time": "2022-05-10T13:39:09.750Z"
   },
   {
    "duration": 19,
    "start_time": "2022-05-10T13:55:31.341Z"
   },
   {
    "duration": 16,
    "start_time": "2022-05-10T13:57:49.736Z"
   },
   {
    "duration": 18,
    "start_time": "2022-05-10T13:58:52.394Z"
   },
   {
    "duration": 1208,
    "start_time": "2022-05-10T14:11:07.986Z"
   },
   {
    "duration": 458,
    "start_time": "2022-05-10T14:11:09.197Z"
   },
   {
    "duration": 11,
    "start_time": "2022-05-10T14:11:09.657Z"
   },
   {
    "duration": 26,
    "start_time": "2022-05-10T14:11:09.670Z"
   },
   {
    "duration": 31,
    "start_time": "2022-05-10T14:11:09.698Z"
   },
   {
    "duration": 43,
    "start_time": "2022-05-10T14:11:09.731Z"
   },
   {
    "duration": 38,
    "start_time": "2022-05-10T14:11:09.777Z"
   },
   {
    "duration": 79,
    "start_time": "2022-05-10T14:11:09.817Z"
   },
   {
    "duration": 10,
    "start_time": "2022-05-10T14:11:09.898Z"
   },
   {
    "duration": 9,
    "start_time": "2022-05-10T14:11:09.911Z"
   },
   {
    "duration": 10,
    "start_time": "2022-05-10T14:11:09.922Z"
   },
   {
    "duration": 49,
    "start_time": "2022-05-10T14:11:09.933Z"
   },
   {
    "duration": 28,
    "start_time": "2022-05-10T14:11:09.984Z"
   },
   {
    "duration": 21,
    "start_time": "2022-05-10T14:11:10.014Z"
   },
   {
    "duration": 51,
    "start_time": "2022-05-10T14:11:10.037Z"
   },
   {
    "duration": 7,
    "start_time": "2022-05-10T14:11:10.090Z"
   },
   {
    "duration": 20,
    "start_time": "2022-05-10T14:11:10.098Z"
   },
   {
    "duration": 18,
    "start_time": "2022-05-10T14:11:10.119Z"
   },
   {
    "duration": 42,
    "start_time": "2022-05-10T14:11:10.138Z"
   },
   {
    "duration": 8,
    "start_time": "2022-05-10T14:11:10.182Z"
   },
   {
    "duration": 11,
    "start_time": "2022-05-10T14:11:10.191Z"
   },
   {
    "duration": 11,
    "start_time": "2022-05-10T14:11:10.203Z"
   },
   {
    "duration": 5,
    "start_time": "2022-05-10T14:11:10.216Z"
   },
   {
    "duration": 7,
    "start_time": "2022-05-10T14:11:10.222Z"
   },
   {
    "duration": 6,
    "start_time": "2022-05-10T14:11:10.231Z"
   },
   {
    "duration": 39,
    "start_time": "2022-05-10T14:11:10.239Z"
   },
   {
    "duration": 25,
    "start_time": "2022-05-10T14:11:10.279Z"
   },
   {
    "duration": 9,
    "start_time": "2022-05-10T14:11:10.310Z"
   },
   {
    "duration": 80,
    "start_time": "2022-05-10T14:11:10.321Z"
   },
   {
    "duration": 9,
    "start_time": "2022-05-10T14:11:10.403Z"
   },
   {
    "duration": 17,
    "start_time": "2022-05-10T14:11:10.414Z"
   },
   {
    "duration": 22,
    "start_time": "2022-05-10T14:11:10.432Z"
   },
   {
    "duration": 9,
    "start_time": "2022-05-10T14:11:10.472Z"
   },
   {
    "duration": 19,
    "start_time": "2022-05-10T14:11:10.483Z"
   },
   {
    "duration": 23,
    "start_time": "2022-05-10T14:11:10.504Z"
   },
   {
    "duration": 8,
    "start_time": "2022-05-10T14:11:10.529Z"
   },
   {
    "duration": 41,
    "start_time": "2022-05-10T14:11:10.538Z"
   },
   {
    "duration": 12,
    "start_time": "2022-05-10T14:11:10.581Z"
   },
   {
    "duration": 19,
    "start_time": "2022-05-10T14:11:10.594Z"
   },
   {
    "duration": 9,
    "start_time": "2022-05-10T14:11:10.615Z"
   },
   {
    "duration": 10,
    "start_time": "2022-05-10T14:11:10.626Z"
   },
   {
    "duration": 11,
    "start_time": "2022-05-10T14:11:10.638Z"
   },
   {
    "duration": 29,
    "start_time": "2022-05-10T14:11:10.651Z"
   },
   {
    "duration": 10,
    "start_time": "2022-05-10T14:11:10.682Z"
   },
   {
    "duration": 15,
    "start_time": "2022-05-10T14:11:10.694Z"
   },
   {
    "duration": 17,
    "start_time": "2022-05-10T14:11:10.711Z"
   },
   {
    "duration": 9,
    "start_time": "2022-05-10T14:11:10.729Z"
   },
   {
    "duration": 35,
    "start_time": "2022-05-10T14:11:10.740Z"
   },
   {
    "duration": 12,
    "start_time": "2022-05-10T14:11:10.777Z"
   },
   {
    "duration": 13,
    "start_time": "2022-05-10T14:11:10.791Z"
   },
   {
    "duration": 11,
    "start_time": "2022-05-10T14:11:10.805Z"
   },
   {
    "duration": 15,
    "start_time": "2022-05-10T14:11:10.818Z"
   },
   {
    "duration": 48,
    "start_time": "2022-05-10T14:11:10.835Z"
   },
   {
    "duration": 11,
    "start_time": "2022-05-10T14:11:10.885Z"
   },
   {
    "duration": 10,
    "start_time": "2022-05-10T14:11:10.897Z"
   },
   {
    "duration": 9,
    "start_time": "2022-05-10T14:11:10.909Z"
   },
   {
    "duration": 10,
    "start_time": "2022-05-10T14:11:10.920Z"
   },
   {
    "duration": 42,
    "start_time": "2022-05-10T14:11:10.931Z"
   },
   {
    "duration": 17,
    "start_time": "2022-05-10T14:11:10.975Z"
   },
   {
    "duration": 12,
    "start_time": "2022-05-10T14:11:10.994Z"
   },
   {
    "duration": 18,
    "start_time": "2022-05-10T14:11:11.008Z"
   },
   {
    "duration": 45,
    "start_time": "2022-05-10T14:11:11.028Z"
   },
   {
    "duration": 18,
    "start_time": "2022-05-10T14:11:11.076Z"
   },
   {
    "duration": 26,
    "start_time": "2022-05-10T14:11:11.096Z"
   },
   {
    "duration": 17,
    "start_time": "2022-05-10T14:11:11.124Z"
   },
   {
    "duration": 21,
    "start_time": "2022-05-10T14:11:11.172Z"
   },
   {
    "duration": 352,
    "start_time": "2022-05-10T14:11:11.195Z"
   },
   {
    "duration": 29,
    "start_time": "2022-05-10T14:11:11.549Z"
   },
   {
    "duration": 18,
    "start_time": "2022-05-10T14:11:11.580Z"
   },
   {
    "duration": 358,
    "start_time": "2022-05-10T14:11:11.600Z"
   },
   {
    "duration": 314,
    "start_time": "2022-05-10T14:11:11.960Z"
   },
   {
    "duration": 17,
    "start_time": "2022-05-10T14:11:12.276Z"
   },
   {
    "duration": 17,
    "start_time": "2022-05-10T14:11:12.295Z"
   },
   {
    "duration": 339,
    "start_time": "2022-05-10T14:11:12.313Z"
   },
   {
    "duration": 26,
    "start_time": "2022-05-10T14:11:12.654Z"
   },
   {
    "duration": 11,
    "start_time": "2022-05-10T14:11:12.682Z"
   },
   {
    "duration": 14,
    "start_time": "2022-05-10T14:11:12.695Z"
   },
   {
    "duration": 12,
    "start_time": "2022-05-10T14:11:12.710Z"
   },
   {
    "duration": 324,
    "start_time": "2022-05-10T14:11:12.724Z"
   },
   {
    "duration": 27,
    "start_time": "2022-05-10T14:11:13.050Z"
   },
   {
    "duration": 11,
    "start_time": "2022-05-10T14:11:13.079Z"
   },
   {
    "duration": 18,
    "start_time": "2022-05-10T14:11:13.096Z"
   },
   {
    "duration": 15,
    "start_time": "2022-05-10T14:11:13.116Z"
   },
   {
    "duration": 219,
    "start_time": "2022-05-10T14:11:13.132Z"
   },
   {
    "duration": 21,
    "start_time": "2022-05-10T14:11:13.353Z"
   },
   {
    "duration": 9,
    "start_time": "2022-05-10T14:11:13.376Z"
   },
   {
    "duration": 16,
    "start_time": "2022-05-10T14:11:13.387Z"
   },
   {
    "duration": 14,
    "start_time": "2022-05-10T14:11:13.406Z"
   },
   {
    "duration": 222,
    "start_time": "2022-05-10T14:11:13.421Z"
   },
   {
    "duration": 14,
    "start_time": "2022-05-10T14:11:13.645Z"
   },
   {
    "duration": 29,
    "start_time": "2022-05-10T14:11:13.661Z"
   },
   {
    "duration": 7,
    "start_time": "2022-05-10T14:11:13.691Z"
   },
   {
    "duration": 7,
    "start_time": "2022-05-10T14:11:13.700Z"
   },
   {
    "duration": 9,
    "start_time": "2022-05-10T14:11:13.708Z"
   },
   {
    "duration": 8,
    "start_time": "2022-05-10T14:11:13.719Z"
   },
   {
    "duration": 1377,
    "start_time": "2022-05-11T04:43:02.156Z"
   },
   {
    "duration": 464,
    "start_time": "2022-05-11T04:43:03.535Z"
   },
   {
    "duration": 14,
    "start_time": "2022-05-11T04:43:04.001Z"
   },
   {
    "duration": 31,
    "start_time": "2022-05-11T04:43:04.017Z"
   },
   {
    "duration": 36,
    "start_time": "2022-05-11T04:43:04.050Z"
   },
   {
    "duration": 46,
    "start_time": "2022-05-11T04:43:04.088Z"
   },
   {
    "duration": 37,
    "start_time": "2022-05-11T04:43:04.136Z"
   },
   {
    "duration": 7,
    "start_time": "2022-05-11T04:43:04.175Z"
   },
   {
    "duration": 12,
    "start_time": "2022-05-11T04:43:04.183Z"
   },
   {
    "duration": 3,
    "start_time": "2022-05-11T04:48:09.348Z"
   },
   {
    "duration": 478,
    "start_time": "2022-05-11T04:48:09.353Z"
   },
   {
    "duration": 9,
    "start_time": "2022-05-11T04:48:09.833Z"
   },
   {
    "duration": 29,
    "start_time": "2022-05-11T04:48:09.844Z"
   },
   {
    "duration": 30,
    "start_time": "2022-05-11T04:48:09.875Z"
   },
   {
    "duration": 51,
    "start_time": "2022-05-11T04:48:09.907Z"
   },
   {
    "duration": 33,
    "start_time": "2022-05-11T04:48:09.959Z"
   },
   {
    "duration": 5,
    "start_time": "2022-05-11T04:48:09.994Z"
   },
   {
    "duration": 34,
    "start_time": "2022-05-11T04:48:10.000Z"
   },
   {
    "duration": 10,
    "start_time": "2022-05-11T04:48:10.036Z"
   },
   {
    "duration": 9,
    "start_time": "2022-05-11T04:48:10.050Z"
   },
   {
    "duration": 24,
    "start_time": "2022-05-11T04:48:10.061Z"
   },
   {
    "duration": 62,
    "start_time": "2022-05-11T04:48:10.087Z"
   },
   {
    "duration": 25,
    "start_time": "2022-05-11T04:48:10.150Z"
   },
   {
    "duration": 34,
    "start_time": "2022-05-11T04:48:10.176Z"
   },
   {
    "duration": 26,
    "start_time": "2022-05-11T04:48:10.211Z"
   },
   {
    "duration": 23,
    "start_time": "2022-05-11T04:48:10.239Z"
   },
   {
    "duration": 23,
    "start_time": "2022-05-11T04:48:10.263Z"
   },
   {
    "duration": 25,
    "start_time": "2022-05-11T04:48:10.287Z"
   },
   {
    "duration": 9,
    "start_time": "2022-05-11T04:48:10.333Z"
   },
   {
    "duration": 13,
    "start_time": "2022-05-11T04:48:10.343Z"
   },
   {
    "duration": 15,
    "start_time": "2022-05-11T04:48:10.358Z"
   },
   {
    "duration": 8,
    "start_time": "2022-05-11T04:48:10.375Z"
   },
   {
    "duration": 8,
    "start_time": "2022-05-11T04:48:10.385Z"
   },
   {
    "duration": 7,
    "start_time": "2022-05-11T04:48:10.395Z"
   },
   {
    "duration": 36,
    "start_time": "2022-05-11T04:48:10.403Z"
   },
   {
    "duration": 28,
    "start_time": "2022-05-11T04:48:10.441Z"
   },
   {
    "duration": 11,
    "start_time": "2022-05-11T04:48:10.470Z"
   },
   {
    "duration": 88,
    "start_time": "2022-05-11T04:48:10.486Z"
   },
   {
    "duration": 9,
    "start_time": "2022-05-11T04:48:10.576Z"
   },
   {
    "duration": 20,
    "start_time": "2022-05-11T04:48:10.587Z"
   },
   {
    "duration": 36,
    "start_time": "2022-05-11T04:48:10.609Z"
   },
   {
    "duration": 9,
    "start_time": "2022-05-11T04:48:10.647Z"
   },
   {
    "duration": 23,
    "start_time": "2022-05-11T04:48:10.657Z"
   },
   {
    "duration": 24,
    "start_time": "2022-05-11T04:48:10.681Z"
   },
   {
    "duration": 30,
    "start_time": "2022-05-11T04:48:10.707Z"
   },
   {
    "duration": 12,
    "start_time": "2022-05-11T04:48:10.739Z"
   },
   {
    "duration": 10,
    "start_time": "2022-05-11T04:48:10.753Z"
   },
   {
    "duration": 14,
    "start_time": "2022-05-11T04:48:10.765Z"
   },
   {
    "duration": 11,
    "start_time": "2022-05-11T04:48:10.781Z"
   },
   {
    "duration": 39,
    "start_time": "2022-05-11T04:48:10.794Z"
   },
   {
    "duration": 12,
    "start_time": "2022-05-11T04:48:10.835Z"
   },
   {
    "duration": 12,
    "start_time": "2022-05-11T04:48:10.848Z"
   },
   {
    "duration": 12,
    "start_time": "2022-05-11T04:48:10.862Z"
   },
   {
    "duration": 18,
    "start_time": "2022-05-11T04:48:10.876Z"
   },
   {
    "duration": 51,
    "start_time": "2022-05-11T04:48:10.895Z"
   },
   {
    "duration": 12,
    "start_time": "2022-05-11T04:48:10.948Z"
   },
   {
    "duration": 11,
    "start_time": "2022-05-11T04:48:10.962Z"
   },
   {
    "duration": 11,
    "start_time": "2022-05-11T04:48:10.975Z"
   },
   {
    "duration": 12,
    "start_time": "2022-05-11T04:48:10.988Z"
   },
   {
    "duration": 41,
    "start_time": "2022-05-11T04:48:11.002Z"
   },
   {
    "duration": 18,
    "start_time": "2022-05-11T04:48:11.045Z"
   },
   {
    "duration": 19,
    "start_time": "2022-05-11T04:48:11.065Z"
   },
   {
    "duration": 12,
    "start_time": "2022-05-11T04:48:11.086Z"
   },
   {
    "duration": 42,
    "start_time": "2022-05-11T04:48:11.099Z"
   },
   {
    "duration": 12,
    "start_time": "2022-05-11T04:48:11.144Z"
   },
   {
    "duration": 11,
    "start_time": "2022-05-11T04:48:11.158Z"
   },
   {
    "duration": 11,
    "start_time": "2022-05-11T04:48:11.171Z"
   },
   {
    "duration": 51,
    "start_time": "2022-05-11T04:48:11.184Z"
   },
   {
    "duration": 13,
    "start_time": "2022-05-11T04:48:11.237Z"
   },
   {
    "duration": 21,
    "start_time": "2022-05-11T04:48:11.251Z"
   },
   {
    "duration": 19,
    "start_time": "2022-05-11T04:48:11.274Z"
   },
   {
    "duration": 48,
    "start_time": "2022-05-11T04:48:11.296Z"
   },
   {
    "duration": 29,
    "start_time": "2022-05-11T04:48:11.346Z"
   },
   {
    "duration": 5,
    "start_time": "2022-05-11T04:48:29.849Z"
   },
   {
    "duration": 31,
    "start_time": "2022-05-11T04:49:09.074Z"
   },
   {
    "duration": 5,
    "start_time": "2022-05-11T04:49:10.053Z"
   },
   {
    "duration": 6,
    "start_time": "2022-05-11T04:50:50.507Z"
   },
   {
    "duration": 6,
    "start_time": "2022-05-11T04:50:55.890Z"
   },
   {
    "duration": 5,
    "start_time": "2022-05-11T04:51:02.940Z"
   },
   {
    "duration": 5,
    "start_time": "2022-05-11T04:51:37.549Z"
   },
   {
    "duration": 6,
    "start_time": "2022-05-11T04:57:51.183Z"
   },
   {
    "duration": 15,
    "start_time": "2022-05-11T04:58:23.985Z"
   },
   {
    "duration": 8,
    "start_time": "2022-05-11T04:59:28.545Z"
   },
   {
    "duration": 8,
    "start_time": "2022-05-11T04:59:37.870Z"
   },
   {
    "duration": 13,
    "start_time": "2022-05-11T05:02:17.622Z"
   },
   {
    "duration": 115,
    "start_time": "2022-05-11T05:03:02.086Z"
   },
   {
    "duration": 21,
    "start_time": "2022-05-11T05:04:52.830Z"
   },
   {
    "duration": 15,
    "start_time": "2022-05-11T05:05:17.743Z"
   },
   {
    "duration": 18,
    "start_time": "2022-05-11T05:05:20.010Z"
   },
   {
    "duration": 12,
    "start_time": "2022-05-11T05:06:08.838Z"
   },
   {
    "duration": 13,
    "start_time": "2022-05-11T05:06:58.960Z"
   },
   {
    "duration": 14,
    "start_time": "2022-05-11T05:07:35.217Z"
   },
   {
    "duration": 14,
    "start_time": "2022-05-11T05:07:41.571Z"
   },
   {
    "duration": 18,
    "start_time": "2022-05-11T05:07:49.257Z"
   },
   {
    "duration": 13,
    "start_time": "2022-05-11T05:09:14.214Z"
   },
   {
    "duration": 20,
    "start_time": "2022-05-11T05:10:19.734Z"
   },
   {
    "duration": 17,
    "start_time": "2022-05-11T05:10:23.557Z"
   },
   {
    "duration": 32,
    "start_time": "2022-05-11T05:10:34.234Z"
   },
   {
    "duration": 16,
    "start_time": "2022-05-11T05:10:43.695Z"
   },
   {
    "duration": 18,
    "start_time": "2022-05-11T05:11:38.317Z"
   },
   {
    "duration": 31,
    "start_time": "2022-05-11T05:14:09.983Z"
   },
   {
    "duration": 30,
    "start_time": "2022-05-11T05:15:07.378Z"
   },
   {
    "duration": 5,
    "start_time": "2022-05-11T05:15:10.967Z"
   },
   {
    "duration": 18,
    "start_time": "2022-05-11T05:15:12.275Z"
   },
   {
    "duration": 27,
    "start_time": "2022-05-11T05:15:13.027Z"
   },
   {
    "duration": 18,
    "start_time": "2022-05-11T05:15:15.483Z"
   },
   {
    "duration": 17,
    "start_time": "2022-05-11T05:15:29.001Z"
   },
   {
    "duration": 14,
    "start_time": "2022-05-11T05:16:51.277Z"
   },
   {
    "duration": 19,
    "start_time": "2022-05-11T05:19:30.433Z"
   },
   {
    "duration": 12,
    "start_time": "2022-05-11T05:19:56.155Z"
   },
   {
    "duration": 13,
    "start_time": "2022-05-11T05:20:09.524Z"
   },
   {
    "duration": 5,
    "start_time": "2022-05-11T05:21:36.990Z"
   },
   {
    "duration": 3,
    "start_time": "2022-05-11T05:21:56.370Z"
   },
   {
    "duration": 429,
    "start_time": "2022-05-11T05:21:56.375Z"
   },
   {
    "duration": 10,
    "start_time": "2022-05-11T05:21:56.806Z"
   },
   {
    "duration": 28,
    "start_time": "2022-05-11T05:21:56.817Z"
   },
   {
    "duration": 30,
    "start_time": "2022-05-11T05:21:56.847Z"
   },
   {
    "duration": 30,
    "start_time": "2022-05-11T05:21:56.878Z"
   },
   {
    "duration": 51,
    "start_time": "2022-05-11T05:21:56.909Z"
   },
   {
    "duration": 6,
    "start_time": "2022-05-11T05:21:56.961Z"
   },
   {
    "duration": 12,
    "start_time": "2022-05-11T05:21:56.968Z"
   },
   {
    "duration": 12,
    "start_time": "2022-05-11T05:21:56.982Z"
   },
   {
    "duration": 10,
    "start_time": "2022-05-11T05:21:56.997Z"
   },
   {
    "duration": 43,
    "start_time": "2022-05-11T05:21:57.009Z"
   },
   {
    "duration": 26,
    "start_time": "2022-05-11T05:21:57.054Z"
   },
   {
    "duration": 24,
    "start_time": "2022-05-11T05:21:57.083Z"
   },
   {
    "duration": 28,
    "start_time": "2022-05-11T05:21:57.134Z"
   },
   {
    "duration": 7,
    "start_time": "2022-05-11T05:21:57.164Z"
   },
   {
    "duration": 23,
    "start_time": "2022-05-11T05:21:57.173Z"
   },
   {
    "duration": 45,
    "start_time": "2022-05-11T05:21:57.197Z"
   },
   {
    "duration": 21,
    "start_time": "2022-05-11T05:21:57.243Z"
   },
   {
    "duration": 8,
    "start_time": "2022-05-11T05:21:57.266Z"
   },
   {
    "duration": 13,
    "start_time": "2022-05-11T05:21:57.276Z"
   },
   {
    "duration": 14,
    "start_time": "2022-05-11T05:21:57.291Z"
   },
   {
    "duration": 4,
    "start_time": "2022-05-11T05:21:57.333Z"
   },
   {
    "duration": 12,
    "start_time": "2022-05-11T05:21:57.338Z"
   },
   {
    "duration": 7,
    "start_time": "2022-05-11T05:21:57.351Z"
   },
   {
    "duration": 7,
    "start_time": "2022-05-11T05:21:57.360Z"
   },
   {
    "duration": 27,
    "start_time": "2022-05-11T05:21:57.369Z"
   },
   {
    "duration": 9,
    "start_time": "2022-05-11T05:21:57.398Z"
   },
   {
    "duration": 58,
    "start_time": "2022-05-11T05:21:57.433Z"
   },
   {
    "duration": 8,
    "start_time": "2022-05-11T05:21:57.493Z"
   },
   {
    "duration": 43,
    "start_time": "2022-05-11T05:21:57.503Z"
   },
   {
    "duration": 21,
    "start_time": "2022-05-11T05:21:57.548Z"
   },
   {
    "duration": 9,
    "start_time": "2022-05-11T05:21:57.571Z"
   },
   {
    "duration": 22,
    "start_time": "2022-05-11T05:21:57.581Z"
   },
   {
    "duration": 44,
    "start_time": "2022-05-11T05:21:57.605Z"
   },
   {
    "duration": 8,
    "start_time": "2022-05-11T05:21:57.651Z"
   },
   {
    "duration": 12,
    "start_time": "2022-05-11T05:21:57.660Z"
   },
   {
    "duration": 11,
    "start_time": "2022-05-11T05:21:57.674Z"
   },
   {
    "duration": 16,
    "start_time": "2022-05-11T05:21:57.687Z"
   },
   {
    "duration": 36,
    "start_time": "2022-05-11T05:21:57.705Z"
   },
   {
    "duration": 11,
    "start_time": "2022-05-11T05:21:57.743Z"
   },
   {
    "duration": 13,
    "start_time": "2022-05-11T05:21:57.756Z"
   },
   {
    "duration": 12,
    "start_time": "2022-05-11T05:21:57.771Z"
   },
   {
    "duration": 13,
    "start_time": "2022-05-11T05:21:57.785Z"
   },
   {
    "duration": 20,
    "start_time": "2022-05-11T05:21:57.834Z"
   },
   {
    "duration": 18,
    "start_time": "2022-05-11T05:21:57.856Z"
   },
   {
    "duration": 9,
    "start_time": "2022-05-11T05:21:57.876Z"
   },
   {
    "duration": 12,
    "start_time": "2022-05-11T05:21:57.887Z"
   },
   {
    "duration": 42,
    "start_time": "2022-05-11T05:21:57.900Z"
   },
   {
    "duration": 11,
    "start_time": "2022-05-11T05:21:57.944Z"
   },
   {
    "duration": 10,
    "start_time": "2022-05-11T05:21:57.957Z"
   },
   {
    "duration": 19,
    "start_time": "2022-05-11T05:21:57.969Z"
   },
   {
    "duration": 46,
    "start_time": "2022-05-11T05:21:57.989Z"
   },
   {
    "duration": 9,
    "start_time": "2022-05-11T05:21:58.037Z"
   },
   {
    "duration": 14,
    "start_time": "2022-05-11T05:21:58.047Z"
   },
   {
    "duration": 11,
    "start_time": "2022-05-11T05:21:58.063Z"
   },
   {
    "duration": 11,
    "start_time": "2022-05-11T05:21:58.076Z"
   },
   {
    "duration": 12,
    "start_time": "2022-05-11T05:21:58.089Z"
   },
   {
    "duration": 20,
    "start_time": "2022-05-11T05:21:58.134Z"
   },
   {
    "duration": 13,
    "start_time": "2022-05-11T05:21:58.155Z"
   },
   {
    "duration": 20,
    "start_time": "2022-05-11T05:21:58.170Z"
   },
   {
    "duration": 44,
    "start_time": "2022-05-11T05:21:58.192Z"
   },
   {
    "duration": 19,
    "start_time": "2022-05-11T05:21:58.238Z"
   },
   {
    "duration": 31,
    "start_time": "2022-05-11T05:21:58.258Z"
   },
   {
    "duration": 4,
    "start_time": "2022-05-11T05:21:58.291Z"
   },
   {
    "duration": 4,
    "start_time": "2022-05-11T05:22:05.647Z"
   },
   {
    "duration": 5,
    "start_time": "2022-05-11T05:22:06.480Z"
   },
   {
    "duration": 5,
    "start_time": "2022-05-11T05:22:08.162Z"
   },
   {
    "duration": 5,
    "start_time": "2022-05-11T05:22:11.387Z"
   },
   {
    "duration": 15,
    "start_time": "2022-05-11T05:22:12.254Z"
   },
   {
    "duration": 21,
    "start_time": "2022-05-11T05:22:21.287Z"
   },
   {
    "duration": 5,
    "start_time": "2022-05-11T05:22:25.774Z"
   },
   {
    "duration": 13,
    "start_time": "2022-05-11T05:22:29.539Z"
   },
   {
    "duration": 4,
    "start_time": "2022-05-11T05:22:34.798Z"
   },
   {
    "duration": 12,
    "start_time": "2022-05-11T05:22:46.176Z"
   },
   {
    "duration": 3,
    "start_time": "2022-05-11T05:22:50.877Z"
   },
   {
    "duration": 452,
    "start_time": "2022-05-11T05:22:50.885Z"
   },
   {
    "duration": 11,
    "start_time": "2022-05-11T05:22:51.342Z"
   },
   {
    "duration": 33,
    "start_time": "2022-05-11T05:22:51.355Z"
   },
   {
    "duration": 46,
    "start_time": "2022-05-11T05:22:51.391Z"
   },
   {
    "duration": 30,
    "start_time": "2022-05-11T05:22:51.438Z"
   },
   {
    "duration": 32,
    "start_time": "2022-05-11T05:22:51.470Z"
   },
   {
    "duration": 30,
    "start_time": "2022-05-11T05:22:51.504Z"
   },
   {
    "duration": 10,
    "start_time": "2022-05-11T05:22:51.536Z"
   },
   {
    "duration": 11,
    "start_time": "2022-05-11T05:22:51.548Z"
   },
   {
    "duration": 7,
    "start_time": "2022-05-11T05:22:51.563Z"
   },
   {
    "duration": 23,
    "start_time": "2022-05-11T05:22:51.571Z"
   },
   {
    "duration": 54,
    "start_time": "2022-05-11T05:22:51.596Z"
   },
   {
    "duration": 23,
    "start_time": "2022-05-11T05:22:51.652Z"
   },
   {
    "duration": 25,
    "start_time": "2022-05-11T05:22:51.677Z"
   },
   {
    "duration": 30,
    "start_time": "2022-05-11T05:22:51.704Z"
   },
   {
    "duration": 20,
    "start_time": "2022-05-11T05:22:51.736Z"
   },
   {
    "duration": 20,
    "start_time": "2022-05-11T05:22:51.758Z"
   },
   {
    "duration": 20,
    "start_time": "2022-05-11T05:22:51.780Z"
   },
   {
    "duration": 38,
    "start_time": "2022-05-11T05:22:51.801Z"
   },
   {
    "duration": 13,
    "start_time": "2022-05-11T05:22:51.842Z"
   },
   {
    "duration": 13,
    "start_time": "2022-05-11T05:22:51.857Z"
   },
   {
    "duration": 5,
    "start_time": "2022-05-11T05:22:51.872Z"
   },
   {
    "duration": 8,
    "start_time": "2022-05-11T05:22:51.879Z"
   },
   {
    "duration": 44,
    "start_time": "2022-05-11T05:22:51.889Z"
   },
   {
    "duration": 8,
    "start_time": "2022-05-11T05:22:51.935Z"
   },
   {
    "duration": 25,
    "start_time": "2022-05-11T05:22:51.945Z"
   },
   {
    "duration": 11,
    "start_time": "2022-05-11T05:22:51.972Z"
   },
   {
    "duration": 86,
    "start_time": "2022-05-11T05:22:51.989Z"
   },
   {
    "duration": 10,
    "start_time": "2022-05-11T05:22:52.077Z"
   },
   {
    "duration": 18,
    "start_time": "2022-05-11T05:22:52.089Z"
   },
   {
    "duration": 39,
    "start_time": "2022-05-11T05:22:52.108Z"
   },
   {
    "duration": 9,
    "start_time": "2022-05-11T05:22:52.149Z"
   },
   {
    "duration": 21,
    "start_time": "2022-05-11T05:22:52.160Z"
   },
   {
    "duration": 52,
    "start_time": "2022-05-11T05:22:52.182Z"
   },
   {
    "duration": 9,
    "start_time": "2022-05-11T05:22:52.236Z"
   },
   {
    "duration": 10,
    "start_time": "2022-05-11T05:22:52.246Z"
   },
   {
    "duration": 10,
    "start_time": "2022-05-11T05:22:52.258Z"
   },
   {
    "duration": 13,
    "start_time": "2022-05-11T05:22:52.270Z"
   },
   {
    "duration": 15,
    "start_time": "2022-05-11T05:22:52.284Z"
   },
   {
    "duration": 44,
    "start_time": "2022-05-11T05:22:52.300Z"
   },
   {
    "duration": 11,
    "start_time": "2022-05-11T05:22:52.346Z"
   },
   {
    "duration": 11,
    "start_time": "2022-05-11T05:22:52.359Z"
   },
   {
    "duration": 11,
    "start_time": "2022-05-11T05:22:52.372Z"
   },
   {
    "duration": 18,
    "start_time": "2022-05-11T05:22:52.385Z"
   },
   {
    "duration": 43,
    "start_time": "2022-05-11T05:22:52.405Z"
   },
   {
    "duration": 9,
    "start_time": "2022-05-11T05:22:52.450Z"
   },
   {
    "duration": 11,
    "start_time": "2022-05-11T05:22:52.461Z"
   },
   {
    "duration": 11,
    "start_time": "2022-05-11T05:22:52.474Z"
   },
   {
    "duration": 11,
    "start_time": "2022-05-11T05:22:52.486Z"
   },
   {
    "duration": 45,
    "start_time": "2022-05-11T05:22:52.499Z"
   },
   {
    "duration": 19,
    "start_time": "2022-05-11T05:22:52.546Z"
   },
   {
    "duration": 16,
    "start_time": "2022-05-11T05:22:52.567Z"
   },
   {
    "duration": 9,
    "start_time": "2022-05-11T05:22:52.585Z"
   },
   {
    "duration": 40,
    "start_time": "2022-05-11T05:22:52.596Z"
   },
   {
    "duration": 13,
    "start_time": "2022-05-11T05:22:52.638Z"
   },
   {
    "duration": 13,
    "start_time": "2022-05-11T05:22:52.652Z"
   },
   {
    "duration": 12,
    "start_time": "2022-05-11T05:22:52.667Z"
   },
   {
    "duration": 17,
    "start_time": "2022-05-11T05:22:52.681Z"
   },
   {
    "duration": 12,
    "start_time": "2022-05-11T05:22:52.734Z"
   },
   {
    "duration": 23,
    "start_time": "2022-05-11T05:22:52.748Z"
   },
   {
    "duration": 19,
    "start_time": "2022-05-11T05:22:52.772Z"
   },
   {
    "duration": 45,
    "start_time": "2022-05-11T05:22:52.793Z"
   },
   {
    "duration": 31,
    "start_time": "2022-05-11T05:22:52.839Z"
   },
   {
    "duration": 4,
    "start_time": "2022-05-11T05:22:52.872Z"
   },
   {
    "duration": 18,
    "start_time": "2022-05-11T05:22:52.878Z"
   },
   {
    "duration": 44,
    "start_time": "2022-05-11T05:22:52.898Z"
   },
   {
    "duration": 17,
    "start_time": "2022-05-11T05:22:52.944Z"
   },
   {
    "duration": 5,
    "start_time": "2022-05-11T05:23:01.729Z"
   },
   {
    "duration": 2331,
    "start_time": "2022-05-13T08:22:06.200Z"
   },
   {
    "duration": 644,
    "start_time": "2022-05-13T08:22:08.536Z"
   },
   {
    "duration": 20,
    "start_time": "2022-05-13T08:22:09.183Z"
   },
   {
    "duration": 57,
    "start_time": "2022-05-13T08:22:09.206Z"
   },
   {
    "duration": 67,
    "start_time": "2022-05-13T08:22:09.267Z"
   },
   {
    "duration": 64,
    "start_time": "2022-05-13T08:22:09.337Z"
   },
   {
    "duration": 78,
    "start_time": "2022-05-13T08:22:09.425Z"
   },
   {
    "duration": 22,
    "start_time": "2022-05-13T08:22:09.506Z"
   },
   {
    "duration": 22,
    "start_time": "2022-05-13T08:22:09.535Z"
   },
   {
    "duration": 16,
    "start_time": "2022-05-13T08:22:09.560Z"
   },
   {
    "duration": 46,
    "start_time": "2022-05-13T08:22:09.579Z"
   },
   {
    "duration": 42,
    "start_time": "2022-05-13T08:22:09.628Z"
   },
   {
    "duration": 59,
    "start_time": "2022-05-13T08:22:09.673Z"
   },
   {
    "duration": 34,
    "start_time": "2022-05-13T08:22:09.742Z"
   },
   {
    "duration": 80,
    "start_time": "2022-05-13T08:22:09.779Z"
   },
   {
    "duration": 13,
    "start_time": "2022-05-13T08:22:09.861Z"
   },
   {
    "duration": 62,
    "start_time": "2022-05-13T08:22:09.877Z"
   },
   {
    "duration": 43,
    "start_time": "2022-05-13T08:22:09.942Z"
   },
   {
    "duration": 77,
    "start_time": "2022-05-13T08:22:09.987Z"
   },
   {
    "duration": 14,
    "start_time": "2022-05-13T08:22:10.066Z"
   },
   {
    "duration": 42,
    "start_time": "2022-05-13T08:22:10.083Z"
   },
   {
    "duration": 34,
    "start_time": "2022-05-13T08:22:10.129Z"
   },
   {
    "duration": 13,
    "start_time": "2022-05-13T08:22:10.169Z"
   },
   {
    "duration": 11,
    "start_time": "2022-05-13T08:22:10.185Z"
   },
   {
    "duration": 8,
    "start_time": "2022-05-13T08:22:10.198Z"
   },
   {
    "duration": 13,
    "start_time": "2022-05-13T08:22:10.224Z"
   },
   {
    "duration": 36,
    "start_time": "2022-05-13T08:22:10.240Z"
   },
   {
    "duration": 13,
    "start_time": "2022-05-13T08:22:10.279Z"
   },
   {
    "duration": 111,
    "start_time": "2022-05-13T08:22:10.295Z"
   },
   {
    "duration": 32,
    "start_time": "2022-05-13T08:22:10.408Z"
   },
   {
    "duration": 27,
    "start_time": "2022-05-13T08:22:10.443Z"
   },
   {
    "duration": 53,
    "start_time": "2022-05-13T08:22:10.473Z"
   },
   {
    "duration": 15,
    "start_time": "2022-05-13T08:22:10.530Z"
   },
   {
    "duration": 39,
    "start_time": "2022-05-13T08:22:10.548Z"
   },
   {
    "duration": 57,
    "start_time": "2022-05-13T08:22:10.590Z"
   },
   {
    "duration": 15,
    "start_time": "2022-05-13T08:22:10.650Z"
   },
   {
    "duration": 19,
    "start_time": "2022-05-13T08:22:10.667Z"
   },
   {
    "duration": 37,
    "start_time": "2022-05-13T08:22:10.688Z"
   },
   {
    "duration": 36,
    "start_time": "2022-05-13T08:22:10.728Z"
   },
   {
    "duration": 16,
    "start_time": "2022-05-13T08:22:10.766Z"
   },
   {
    "duration": 36,
    "start_time": "2022-05-13T08:22:10.792Z"
   },
   {
    "duration": 24,
    "start_time": "2022-05-13T08:22:10.832Z"
   },
   {
    "duration": 22,
    "start_time": "2022-05-13T08:22:10.858Z"
   },
   {
    "duration": 49,
    "start_time": "2022-05-13T08:22:10.882Z"
   },
   {
    "duration": 34,
    "start_time": "2022-05-13T08:22:10.934Z"
   },
   {
    "duration": 29,
    "start_time": "2022-05-13T08:22:10.971Z"
   },
   {
    "duration": 20,
    "start_time": "2022-05-13T08:22:11.026Z"
   },
   {
    "duration": 14,
    "start_time": "2022-05-13T08:22:11.048Z"
   },
   {
    "duration": 18,
    "start_time": "2022-05-13T08:22:11.064Z"
   },
   {
    "duration": 57,
    "start_time": "2022-05-13T08:22:11.085Z"
   },
   {
    "duration": 20,
    "start_time": "2022-05-13T08:22:11.146Z"
   },
   {
    "duration": 27,
    "start_time": "2022-05-13T08:22:11.169Z"
   },
   {
    "duration": 55,
    "start_time": "2022-05-13T08:22:11.199Z"
   },
   {
    "duration": 15,
    "start_time": "2022-05-13T08:22:11.257Z"
   },
   {
    "duration": 20,
    "start_time": "2022-05-13T08:22:11.275Z"
   },
   {
    "duration": 46,
    "start_time": "2022-05-13T08:22:11.297Z"
   },
   {
    "duration": 18,
    "start_time": "2022-05-13T08:22:11.347Z"
   },
   {
    "duration": 20,
    "start_time": "2022-05-13T08:22:11.367Z"
   },
   {
    "duration": 66,
    "start_time": "2022-05-13T08:22:11.389Z"
   },
   {
    "duration": 25,
    "start_time": "2022-05-13T08:22:11.458Z"
   },
   {
    "duration": 57,
    "start_time": "2022-05-13T08:22:11.486Z"
   },
   {
    "duration": 30,
    "start_time": "2022-05-13T08:22:11.545Z"
   },
   {
    "duration": 73,
    "start_time": "2022-05-13T08:22:11.578Z"
   },
   {
    "duration": 43,
    "start_time": "2022-05-13T08:22:11.654Z"
   },
   {
    "duration": 25,
    "start_time": "2022-05-13T08:22:11.700Z"
   },
   {
    "duration": 27,
    "start_time": "2022-05-13T08:22:11.728Z"
   },
   {
    "duration": 72,
    "start_time": "2022-05-13T08:22:11.758Z"
   },
   {
    "duration": 161,
    "start_time": "2022-05-13T08:39:43.114Z"
   },
   {
    "duration": 31,
    "start_time": "2022-05-13T08:39:46.371Z"
   },
   {
    "duration": 4,
    "start_time": "2022-05-13T08:42:54.590Z"
   },
   {
    "duration": 578,
    "start_time": "2022-05-13T08:42:54.597Z"
   },
   {
    "duration": 12,
    "start_time": "2022-05-13T08:42:55.178Z"
   },
   {
    "duration": 38,
    "start_time": "2022-05-13T08:42:55.192Z"
   },
   {
    "duration": 35,
    "start_time": "2022-05-13T08:42:55.234Z"
   },
   {
    "duration": 56,
    "start_time": "2022-05-13T08:42:55.271Z"
   },
   {
    "duration": 51,
    "start_time": "2022-05-13T08:42:55.330Z"
   },
   {
    "duration": 7,
    "start_time": "2022-05-13T08:42:55.383Z"
   },
   {
    "duration": 48,
    "start_time": "2022-05-13T08:42:55.392Z"
   },
   {
    "duration": 13,
    "start_time": "2022-05-13T08:42:55.443Z"
   },
   {
    "duration": 23,
    "start_time": "2022-05-13T08:42:55.462Z"
   },
   {
    "duration": 45,
    "start_time": "2022-05-13T08:42:55.487Z"
   },
   {
    "duration": 36,
    "start_time": "2022-05-13T08:42:55.535Z"
   },
   {
    "duration": 53,
    "start_time": "2022-05-13T08:42:55.574Z"
   },
   {
    "duration": 40,
    "start_time": "2022-05-13T08:42:55.630Z"
   },
   {
    "duration": 11,
    "start_time": "2022-05-13T08:42:55.672Z"
   },
   {
    "duration": 64,
    "start_time": "2022-05-13T08:42:55.686Z"
   },
   {
    "duration": 26,
    "start_time": "2022-05-13T08:42:55.753Z"
   },
   {
    "duration": 58,
    "start_time": "2022-05-13T08:42:55.782Z"
   },
   {
    "duration": 13,
    "start_time": "2022-05-13T08:42:55.843Z"
   },
   {
    "duration": 17,
    "start_time": "2022-05-13T08:42:55.859Z"
   },
   {
    "duration": 48,
    "start_time": "2022-05-13T08:42:55.879Z"
   },
   {
    "duration": 13,
    "start_time": "2022-05-13T08:42:55.931Z"
   },
   {
    "duration": 13,
    "start_time": "2022-05-13T08:42:55.946Z"
   },
   {
    "duration": 9,
    "start_time": "2022-05-13T08:42:55.961Z"
   },
   {
    "duration": 12,
    "start_time": "2022-05-13T08:42:55.972Z"
   },
   {
    "duration": 70,
    "start_time": "2022-05-13T08:42:55.986Z"
   },
   {
    "duration": 14,
    "start_time": "2022-05-13T08:42:56.059Z"
   },
   {
    "duration": 95,
    "start_time": "2022-05-13T08:42:56.079Z"
   },
   {
    "duration": 13,
    "start_time": "2022-05-13T08:42:56.176Z"
   },
   {
    "duration": 37,
    "start_time": "2022-05-13T08:42:56.192Z"
   },
   {
    "duration": 28,
    "start_time": "2022-05-13T08:42:56.232Z"
   },
   {
    "duration": 12,
    "start_time": "2022-05-13T08:42:56.262Z"
   },
   {
    "duration": 56,
    "start_time": "2022-05-13T08:42:56.275Z"
   },
   {
    "duration": 31,
    "start_time": "2022-05-13T08:42:56.334Z"
   },
   {
    "duration": 10,
    "start_time": "2022-05-13T08:42:56.367Z"
   },
   {
    "duration": 20,
    "start_time": "2022-05-13T08:42:56.379Z"
   },
   {
    "duration": 31,
    "start_time": "2022-05-13T08:42:56.401Z"
   },
   {
    "duration": 28,
    "start_time": "2022-05-13T08:42:56.435Z"
   },
   {
    "duration": 16,
    "start_time": "2022-05-13T08:42:56.466Z"
   },
   {
    "duration": 47,
    "start_time": "2022-05-13T08:42:56.484Z"
   },
   {
    "duration": 17,
    "start_time": "2022-05-13T08:42:56.535Z"
   },
   {
    "duration": 16,
    "start_time": "2022-05-13T08:42:56.554Z"
   },
   {
    "duration": 16,
    "start_time": "2022-05-13T08:42:56.572Z"
   },
   {
    "duration": 59,
    "start_time": "2022-05-13T08:42:56.590Z"
   },
   {
    "duration": 26,
    "start_time": "2022-05-13T08:42:56.651Z"
   },
   {
    "duration": 15,
    "start_time": "2022-05-13T08:42:56.679Z"
   },
   {
    "duration": 27,
    "start_time": "2022-05-13T08:42:56.725Z"
   },
   {
    "duration": 14,
    "start_time": "2022-05-13T08:42:56.754Z"
   },
   {
    "duration": 15,
    "start_time": "2022-05-13T08:42:56.771Z"
   },
   {
    "duration": 44,
    "start_time": "2022-05-13T08:42:56.788Z"
   },
   {
    "duration": 31,
    "start_time": "2022-05-13T08:42:56.838Z"
   },
   {
    "duration": 26,
    "start_time": "2022-05-13T08:42:56.871Z"
   },
   {
    "duration": 34,
    "start_time": "2022-05-13T08:42:56.899Z"
   },
   {
    "duration": 20,
    "start_time": "2022-05-13T08:42:56.936Z"
   },
   {
    "duration": 17,
    "start_time": "2022-05-13T08:42:56.958Z"
   },
   {
    "duration": 50,
    "start_time": "2022-05-13T08:42:56.977Z"
   },
   {
    "duration": 19,
    "start_time": "2022-05-13T08:42:57.030Z"
   },
   {
    "duration": 26,
    "start_time": "2022-05-13T08:42:57.051Z"
   },
   {
    "duration": 51,
    "start_time": "2022-05-13T08:42:57.079Z"
   },
   {
    "duration": 40,
    "start_time": "2022-05-13T08:42:57.133Z"
   },
   {
    "duration": 25,
    "start_time": "2022-05-13T08:42:57.175Z"
   },
   {
    "duration": 53,
    "start_time": "2022-05-13T08:42:57.202Z"
   },
   {
    "duration": 40,
    "start_time": "2022-05-13T08:42:57.257Z"
   },
   {
    "duration": 51,
    "start_time": "2022-05-13T08:42:57.299Z"
   },
   {
    "duration": 26,
    "start_time": "2022-05-13T08:44:37.720Z"
   },
   {
    "duration": 32,
    "start_time": "2022-05-13T08:44:43.841Z"
   },
   {
    "duration": 17,
    "start_time": "2022-05-13T08:44:44.647Z"
   },
   {
    "duration": 36,
    "start_time": "2022-05-13T08:45:10.116Z"
   },
   {
    "duration": 29,
    "start_time": "2022-05-13T08:45:20.951Z"
   },
   {
    "duration": 20,
    "start_time": "2022-05-13T08:45:25.100Z"
   },
   {
    "duration": 40,
    "start_time": "2022-05-13T08:45:29.184Z"
   },
   {
    "duration": 26,
    "start_time": "2022-05-13T08:45:33.541Z"
   },
   {
    "duration": 176,
    "start_time": "2022-05-13T08:46:06.252Z"
   },
   {
    "duration": 25,
    "start_time": "2022-05-13T08:52:54.856Z"
   },
   {
    "duration": 7,
    "start_time": "2022-05-13T08:53:20.477Z"
   },
   {
    "duration": 30,
    "start_time": "2022-05-13T08:53:31.622Z"
   },
   {
    "duration": 32,
    "start_time": "2022-05-13T08:57:45.133Z"
   },
   {
    "duration": 41,
    "start_time": "2022-05-13T08:58:07.213Z"
   },
   {
    "duration": 33,
    "start_time": "2022-05-13T08:58:14.254Z"
   },
   {
    "duration": 33,
    "start_time": "2022-05-13T08:58:19.180Z"
   },
   {
    "duration": 28,
    "start_time": "2022-05-13T08:58:27.652Z"
   },
   {
    "duration": 28,
    "start_time": "2022-05-13T09:00:47.157Z"
   },
   {
    "duration": 19,
    "start_time": "2022-05-13T09:01:00.844Z"
   },
   {
    "duration": 39,
    "start_time": "2022-05-13T09:01:11.537Z"
   },
   {
    "duration": 21,
    "start_time": "2022-05-13T09:01:35.767Z"
   },
   {
    "duration": 35,
    "start_time": "2022-05-13T09:01:45.250Z"
   },
   {
    "duration": 25,
    "start_time": "2022-05-13T09:02:08.088Z"
   },
   {
    "duration": 35,
    "start_time": "2022-05-13T09:02:14.316Z"
   },
   {
    "duration": 31,
    "start_time": "2022-05-13T09:02:58.798Z"
   },
   {
    "duration": 41,
    "start_time": "2022-05-13T09:02:59.510Z"
   },
   {
    "duration": 31,
    "start_time": "2022-05-13T09:10:26.897Z"
   },
   {
    "duration": 28,
    "start_time": "2022-05-13T09:10:34.417Z"
   },
   {
    "duration": 459,
    "start_time": "2022-05-13T09:10:35.559Z"
   },
   {
    "duration": 39,
    "start_time": "2022-05-13T09:10:56.277Z"
   },
   {
    "duration": 29,
    "start_time": "2022-05-13T09:10:56.657Z"
   },
   {
    "duration": 1494,
    "start_time": "2022-05-13T09:11:50.033Z"
   },
   {
    "duration": 25,
    "start_time": "2022-05-13T09:11:56.933Z"
   },
   {
    "duration": 26,
    "start_time": "2022-05-13T09:12:04.763Z"
   },
   {
    "duration": 30,
    "start_time": "2022-05-13T09:12:08.113Z"
   },
   {
    "duration": 30,
    "start_time": "2022-05-13T09:12:45.044Z"
   },
   {
    "duration": 25,
    "start_time": "2022-05-13T09:13:02.236Z"
   },
   {
    "duration": 28,
    "start_time": "2022-05-13T09:13:03.344Z"
   },
   {
    "duration": 5,
    "start_time": "2022-05-13T09:13:29.156Z"
   },
   {
    "duration": 546,
    "start_time": "2022-05-13T09:13:29.164Z"
   },
   {
    "duration": 17,
    "start_time": "2022-05-13T09:13:29.713Z"
   },
   {
    "duration": 37,
    "start_time": "2022-05-13T09:13:29.732Z"
   },
   {
    "duration": 62,
    "start_time": "2022-05-13T09:13:29.772Z"
   },
   {
    "duration": 35,
    "start_time": "2022-05-13T09:13:29.836Z"
   },
   {
    "duration": 73,
    "start_time": "2022-05-13T09:13:29.873Z"
   },
   {
    "duration": 6,
    "start_time": "2022-05-13T09:13:29.948Z"
   },
   {
    "duration": 21,
    "start_time": "2022-05-13T09:13:29.957Z"
   },
   {
    "duration": 19,
    "start_time": "2022-05-13T09:13:29.981Z"
   },
   {
    "duration": 10,
    "start_time": "2022-05-13T09:13:30.026Z"
   },
   {
    "duration": 41,
    "start_time": "2022-05-13T09:13:30.038Z"
   },
   {
    "duration": 48,
    "start_time": "2022-05-13T09:13:30.082Z"
   },
   {
    "duration": 28,
    "start_time": "2022-05-13T09:13:30.132Z"
   },
   {
    "duration": 35,
    "start_time": "2022-05-13T09:13:30.162Z"
   },
   {
    "duration": 11,
    "start_time": "2022-05-13T09:13:30.225Z"
   },
   {
    "duration": 29,
    "start_time": "2022-05-13T09:13:30.239Z"
   },
   {
    "duration": 28,
    "start_time": "2022-05-13T09:13:30.270Z"
   },
   {
    "duration": 33,
    "start_time": "2022-05-13T09:13:30.325Z"
   },
   {
    "duration": 12,
    "start_time": "2022-05-13T09:13:30.360Z"
   },
   {
    "duration": 33,
    "start_time": "2022-05-13T09:13:30.374Z"
   },
   {
    "duration": 31,
    "start_time": "2022-05-13T09:13:30.409Z"
   },
   {
    "duration": 36,
    "start_time": "2022-05-13T09:13:30.442Z"
   },
   {
    "duration": 31,
    "start_time": "2022-05-13T09:13:30.480Z"
   },
   {
    "duration": 30,
    "start_time": "2022-05-13T09:13:30.513Z"
   },
   {
    "duration": 33,
    "start_time": "2022-05-13T09:13:30.545Z"
   },
   {
    "duration": 47,
    "start_time": "2022-05-13T09:13:30.580Z"
   },
   {
    "duration": 23,
    "start_time": "2022-05-13T09:13:30.629Z"
   },
   {
    "duration": 63,
    "start_time": "2022-05-13T09:13:30.778Z"
   },
   {
    "duration": 13,
    "start_time": "2022-05-13T09:13:30.843Z"
   },
   {
    "duration": 49,
    "start_time": "2022-05-13T09:13:30.858Z"
   },
   {
    "duration": 24,
    "start_time": "2022-05-13T09:13:30.909Z"
   },
   {
    "duration": 11,
    "start_time": "2022-05-13T09:13:30.935Z"
   },
   {
    "duration": 35,
    "start_time": "2022-05-13T09:13:30.948Z"
   },
   {
    "duration": 42,
    "start_time": "2022-05-13T09:13:30.985Z"
   },
   {
    "duration": 11,
    "start_time": "2022-05-13T09:13:31.029Z"
   },
   {
    "duration": 45,
    "start_time": "2022-05-13T09:13:31.043Z"
   },
   {
    "duration": 29,
    "start_time": "2022-05-13T09:13:31.090Z"
   },
   {
    "duration": 23,
    "start_time": "2022-05-13T09:13:31.121Z"
   },
   {
    "duration": 22,
    "start_time": "2022-05-13T09:13:31.147Z"
   },
   {
    "duration": 27,
    "start_time": "2022-05-13T09:13:31.172Z"
   },
   {
    "duration": 37,
    "start_time": "2022-05-13T09:13:31.201Z"
   },
   {
    "duration": 21,
    "start_time": "2022-05-13T09:13:31.240Z"
   },
   {
    "duration": 29,
    "start_time": "2022-05-13T09:13:31.263Z"
   },
   {
    "duration": 37,
    "start_time": "2022-05-13T09:13:31.295Z"
   },
   {
    "duration": 27,
    "start_time": "2022-05-13T09:13:31.334Z"
   },
   {
    "duration": 17,
    "start_time": "2022-05-13T09:13:31.363Z"
   },
   {
    "duration": 36,
    "start_time": "2022-05-13T09:13:31.382Z"
   },
   {
    "duration": 28,
    "start_time": "2022-05-13T09:13:31.420Z"
   },
   {
    "duration": 17,
    "start_time": "2022-05-13T09:13:31.450Z"
   },
   {
    "duration": 33,
    "start_time": "2022-05-13T09:13:31.469Z"
   },
   {
    "duration": 41,
    "start_time": "2022-05-13T09:13:31.504Z"
   },
   {
    "duration": 27,
    "start_time": "2022-05-13T09:13:31.547Z"
   },
   {
    "duration": 37,
    "start_time": "2022-05-13T09:13:31.577Z"
   },
   {
    "duration": 32,
    "start_time": "2022-05-13T09:13:31.617Z"
   },
   {
    "duration": 47,
    "start_time": "2022-05-13T09:13:31.651Z"
   },
   {
    "duration": 30,
    "start_time": "2022-05-13T09:13:31.701Z"
   },
   {
    "duration": 37,
    "start_time": "2022-05-13T09:13:31.733Z"
   },
   {
    "duration": 41,
    "start_time": "2022-05-13T09:13:31.772Z"
   },
   {
    "duration": 18,
    "start_time": "2022-05-13T09:13:31.815Z"
   },
   {
    "duration": 53,
    "start_time": "2022-05-13T09:13:31.835Z"
   },
   {
    "duration": 26,
    "start_time": "2022-05-13T09:13:31.891Z"
   },
   {
    "duration": 26,
    "start_time": "2022-05-13T09:13:31.919Z"
   },
   {
    "duration": 42,
    "start_time": "2022-05-13T09:13:31.947Z"
   },
   {
    "duration": 6,
    "start_time": "2022-05-13T09:13:31.991Z"
   },
   {
    "duration": 20,
    "start_time": "2022-05-13T09:13:32.025Z"
   },
   {
    "duration": 39,
    "start_time": "2022-05-13T09:13:32.048Z"
   },
   {
    "duration": 55,
    "start_time": "2022-05-13T09:13:32.089Z"
   },
   {
    "duration": 55,
    "start_time": "2022-05-13T09:13:32.147Z"
   },
   {
    "duration": 27,
    "start_time": "2022-05-13T09:13:32.205Z"
   },
   {
    "duration": 533,
    "start_time": "2022-05-13T09:13:32.234Z"
   },
   {
    "duration": 30,
    "start_time": "2022-05-13T09:13:32.770Z"
   },
   {
    "duration": 49,
    "start_time": "2022-05-13T09:13:32.802Z"
   },
   {
    "duration": 478,
    "start_time": "2022-05-13T09:13:32.854Z"
   },
   {
    "duration": 472,
    "start_time": "2022-05-13T09:13:33.335Z"
   },
   {
    "duration": 34,
    "start_time": "2022-05-13T09:13:33.809Z"
   },
   {
    "duration": 26,
    "start_time": "2022-05-13T09:13:33.845Z"
   },
   {
    "duration": 496,
    "start_time": "2022-05-13T09:13:33.874Z"
   },
   {
    "duration": 26,
    "start_time": "2022-05-13T09:13:34.373Z"
   },
   {
    "duration": 33,
    "start_time": "2022-05-13T09:13:34.401Z"
   },
   {
    "duration": 29,
    "start_time": "2022-05-13T09:13:34.437Z"
   },
   {
    "duration": 29,
    "start_time": "2022-05-13T09:13:34.468Z"
   },
   {
    "duration": 371,
    "start_time": "2022-05-13T09:13:34.505Z"
   },
   {
    "duration": 25,
    "start_time": "2022-05-13T09:13:34.878Z"
   },
   {
    "duration": 25,
    "start_time": "2022-05-13T09:13:34.905Z"
   },
   {
    "duration": 23,
    "start_time": "2022-05-13T09:13:34.933Z"
   },
   {
    "duration": 24,
    "start_time": "2022-05-13T09:13:34.959Z"
   },
   {
    "duration": 348,
    "start_time": "2022-05-13T09:13:35.025Z"
   },
   {
    "duration": 27,
    "start_time": "2022-05-13T09:13:35.376Z"
   },
   {
    "duration": 15,
    "start_time": "2022-05-13T09:13:35.424Z"
   },
   {
    "duration": 21,
    "start_time": "2022-05-13T09:13:35.441Z"
   },
   {
    "duration": 21,
    "start_time": "2022-05-13T09:13:35.465Z"
   },
   {
    "duration": 497,
    "start_time": "2022-05-13T09:13:35.488Z"
   },
   {
    "duration": 18,
    "start_time": "2022-05-13T09:13:35.987Z"
   },
   {
    "duration": 44,
    "start_time": "2022-05-13T09:13:36.008Z"
   },
   {
    "duration": 28,
    "start_time": "2022-05-13T09:13:36.054Z"
   },
   {
    "duration": 127,
    "start_time": "2022-05-13T09:15:35.822Z"
   },
   {
    "duration": 37,
    "start_time": "2022-05-13T09:15:40.283Z"
   },
   {
    "duration": 18,
    "start_time": "2022-05-13T09:16:16.200Z"
   },
   {
    "duration": 31,
    "start_time": "2022-05-13T09:16:26.808Z"
   },
   {
    "duration": 41,
    "start_time": "2022-05-13T09:18:09.350Z"
   },
   {
    "duration": 30,
    "start_time": "2022-05-13T09:18:41.619Z"
   },
   {
    "duration": 17,
    "start_time": "2022-05-13T09:18:45.964Z"
   },
   {
    "duration": 27,
    "start_time": "2022-05-13T09:18:51.250Z"
   },
   {
    "duration": 41,
    "start_time": "2022-05-13T09:19:00.640Z"
   },
   {
    "duration": 29,
    "start_time": "2022-05-13T09:19:04.489Z"
   },
   {
    "duration": 5,
    "start_time": "2022-05-13T09:19:32.666Z"
   },
   {
    "duration": 594,
    "start_time": "2022-05-13T09:19:32.673Z"
   },
   {
    "duration": 18,
    "start_time": "2022-05-13T09:19:33.271Z"
   },
   {
    "duration": 73,
    "start_time": "2022-05-13T09:19:33.291Z"
   },
   {
    "duration": 60,
    "start_time": "2022-05-13T09:19:33.368Z"
   },
   {
    "duration": 37,
    "start_time": "2022-05-13T09:19:33.431Z"
   },
   {
    "duration": 74,
    "start_time": "2022-05-13T09:19:33.470Z"
   },
   {
    "duration": 6,
    "start_time": "2022-05-13T09:19:33.546Z"
   },
   {
    "duration": 19,
    "start_time": "2022-05-13T09:19:33.554Z"
   },
   {
    "duration": 19,
    "start_time": "2022-05-13T09:19:33.576Z"
   },
   {
    "duration": 33,
    "start_time": "2022-05-13T09:19:33.599Z"
   },
   {
    "duration": 32,
    "start_time": "2022-05-13T09:19:33.634Z"
   },
   {
    "duration": 31,
    "start_time": "2022-05-13T09:19:33.668Z"
   },
   {
    "duration": 28,
    "start_time": "2022-05-13T09:19:33.725Z"
   },
   {
    "duration": 44,
    "start_time": "2022-05-13T09:19:33.755Z"
   },
   {
    "duration": 27,
    "start_time": "2022-05-13T09:19:33.801Z"
   },
   {
    "duration": 27,
    "start_time": "2022-05-13T09:19:33.830Z"
   },
   {
    "duration": 25,
    "start_time": "2022-05-13T09:19:33.859Z"
   },
   {
    "duration": 84,
    "start_time": "2022-05-13T09:19:33.887Z"
   },
   {
    "duration": 18,
    "start_time": "2022-05-13T09:19:33.974Z"
   },
   {
    "duration": 45,
    "start_time": "2022-05-13T09:19:33.995Z"
   },
   {
    "duration": 29,
    "start_time": "2022-05-13T09:19:34.043Z"
   },
   {
    "duration": 14,
    "start_time": "2022-05-13T09:19:34.075Z"
   },
   {
    "duration": 34,
    "start_time": "2022-05-13T09:19:34.092Z"
   },
   {
    "duration": 6,
    "start_time": "2022-05-13T09:19:34.128Z"
   },
   {
    "duration": 10,
    "start_time": "2022-05-13T09:19:34.137Z"
   },
   {
    "duration": 36,
    "start_time": "2022-05-13T09:19:34.149Z"
   },
   {
    "duration": 42,
    "start_time": "2022-05-13T09:19:34.187Z"
   },
   {
    "duration": 106,
    "start_time": "2022-05-13T09:19:34.242Z"
   },
   {
    "duration": 14,
    "start_time": "2022-05-13T09:19:34.352Z"
   },
   {
    "duration": 25,
    "start_time": "2022-05-13T09:19:34.369Z"
   },
   {
    "duration": 44,
    "start_time": "2022-05-13T09:19:34.396Z"
   },
   {
    "duration": 12,
    "start_time": "2022-05-13T09:19:34.442Z"
   },
   {
    "duration": 25,
    "start_time": "2022-05-13T09:19:34.457Z"
   },
   {
    "duration": 58,
    "start_time": "2022-05-13T09:19:34.484Z"
   },
   {
    "duration": 10,
    "start_time": "2022-05-13T09:19:34.545Z"
   },
   {
    "duration": 19,
    "start_time": "2022-05-13T09:19:34.558Z"
   },
   {
    "duration": 16,
    "start_time": "2022-05-13T09:19:34.580Z"
   },
   {
    "duration": 35,
    "start_time": "2022-05-13T09:19:34.598Z"
   },
   {
    "duration": 14,
    "start_time": "2022-05-13T09:19:34.636Z"
   },
   {
    "duration": 21,
    "start_time": "2022-05-13T09:19:34.652Z"
   },
   {
    "duration": 16,
    "start_time": "2022-05-13T09:19:34.675Z"
   },
   {
    "duration": 45,
    "start_time": "2022-05-13T09:19:34.694Z"
   },
   {
    "duration": 15,
    "start_time": "2022-05-13T09:19:34.741Z"
   },
   {
    "duration": 26,
    "start_time": "2022-05-13T09:19:34.758Z"
   },
   {
    "duration": 62,
    "start_time": "2022-05-13T09:19:34.787Z"
   },
   {
    "duration": 12,
    "start_time": "2022-05-13T09:19:34.852Z"
   },
   {
    "duration": 27,
    "start_time": "2022-05-13T09:19:34.867Z"
   },
   {
    "duration": 41,
    "start_time": "2022-05-13T09:19:34.898Z"
   },
   {
    "duration": 16,
    "start_time": "2022-05-13T09:19:34.942Z"
   },
   {
    "duration": 15,
    "start_time": "2022-05-13T09:19:34.961Z"
   },
   {
    "duration": 62,
    "start_time": "2022-05-13T09:19:34.979Z"
   },
   {
    "duration": 27,
    "start_time": "2022-05-13T09:19:35.044Z"
   },
   {
    "duration": 27,
    "start_time": "2022-05-13T09:19:35.073Z"
   },
   {
    "duration": 36,
    "start_time": "2022-05-13T09:19:35.102Z"
   },
   {
    "duration": 21,
    "start_time": "2022-05-13T09:19:35.141Z"
   },
   {
    "duration": 28,
    "start_time": "2022-05-13T09:19:35.164Z"
   },
   {
    "duration": 40,
    "start_time": "2022-05-13T09:19:35.194Z"
   },
   {
    "duration": 29,
    "start_time": "2022-05-13T09:19:35.237Z"
   },
   {
    "duration": 19,
    "start_time": "2022-05-13T09:19:35.268Z"
   },
   {
    "duration": 55,
    "start_time": "2022-05-13T09:19:35.289Z"
   },
   {
    "duration": 26,
    "start_time": "2022-05-13T09:19:35.346Z"
   },
   {
    "duration": 54,
    "start_time": "2022-05-13T09:19:35.374Z"
   },
   {
    "duration": 42,
    "start_time": "2022-05-13T09:19:35.431Z"
   },
   {
    "duration": 6,
    "start_time": "2022-05-13T09:19:35.475Z"
   },
   {
    "duration": 53,
    "start_time": "2022-05-13T09:19:35.483Z"
   },
   {
    "duration": 32,
    "start_time": "2022-05-13T09:19:35.538Z"
   },
   {
    "duration": 15,
    "start_time": "2022-05-13T09:19:35.572Z"
   },
   {
    "duration": 49,
    "start_time": "2022-05-13T09:19:35.590Z"
   },
   {
    "duration": 29,
    "start_time": "2022-05-13T09:19:35.641Z"
   },
   {
    "duration": 457,
    "start_time": "2022-05-13T09:19:35.673Z"
   },
   {
    "duration": 29,
    "start_time": "2022-05-13T09:19:36.133Z"
   },
   {
    "duration": 60,
    "start_time": "2022-05-13T09:19:36.165Z"
   },
   {
    "duration": 458,
    "start_time": "2022-05-13T09:19:36.227Z"
   },
   {
    "duration": 418,
    "start_time": "2022-05-13T09:19:36.687Z"
   },
   {
    "duration": 37,
    "start_time": "2022-05-13T09:19:37.107Z"
   },
   {
    "duration": 29,
    "start_time": "2022-05-13T09:19:37.147Z"
   },
   {
    "duration": 459,
    "start_time": "2022-05-13T09:19:37.178Z"
   },
   {
    "duration": 26,
    "start_time": "2022-05-13T09:19:37.640Z"
   },
   {
    "duration": 21,
    "start_time": "2022-05-13T09:19:37.668Z"
   },
   {
    "duration": 46,
    "start_time": "2022-05-13T09:19:37.691Z"
   },
   {
    "duration": 18,
    "start_time": "2022-05-13T09:19:37.739Z"
   },
   {
    "duration": 387,
    "start_time": "2022-05-13T09:19:37.766Z"
   },
   {
    "duration": 26,
    "start_time": "2022-05-13T09:19:38.155Z"
   },
   {
    "duration": 13,
    "start_time": "2022-05-13T09:19:38.183Z"
   },
   {
    "duration": 46,
    "start_time": "2022-05-13T09:19:38.198Z"
   },
   {
    "duration": 20,
    "start_time": "2022-05-13T09:19:38.247Z"
   },
   {
    "duration": 349,
    "start_time": "2022-05-13T09:19:38.270Z"
   },
   {
    "duration": 26,
    "start_time": "2022-05-13T09:19:38.624Z"
   },
   {
    "duration": 17,
    "start_time": "2022-05-13T09:19:38.652Z"
   },
   {
    "duration": 21,
    "start_time": "2022-05-13T09:19:38.671Z"
   },
   {
    "duration": 50,
    "start_time": "2022-05-13T09:19:38.695Z"
   },
   {
    "duration": 484,
    "start_time": "2022-05-13T09:19:38.747Z"
   },
   {
    "duration": 19,
    "start_time": "2022-05-13T09:19:39.233Z"
   },
   {
    "duration": 33,
    "start_time": "2022-05-13T09:19:39.254Z"
   },
   {
    "duration": 81,
    "start_time": "2022-05-13T09:19:39.289Z"
   },
   {
    "duration": 12,
    "start_time": "2022-05-13T09:20:53.805Z"
   },
   {
    "duration": 30,
    "start_time": "2022-05-13T09:21:01.120Z"
   },
   {
    "duration": 14,
    "start_time": "2022-05-13T09:21:45.638Z"
   },
   {
    "duration": 11,
    "start_time": "2022-05-13T09:21:52.595Z"
   },
   {
    "duration": 15,
    "start_time": "2022-05-13T09:22:01.493Z"
   },
   {
    "duration": 16,
    "start_time": "2022-05-13T09:22:02.012Z"
   },
   {
    "duration": 16,
    "start_time": "2022-05-13T09:22:12.571Z"
   },
   {
    "duration": 29,
    "start_time": "2022-05-13T09:22:23.187Z"
   },
   {
    "duration": 27,
    "start_time": "2022-05-13T09:22:30.187Z"
   },
   {
    "duration": 19,
    "start_time": "2022-05-13T09:23:44.036Z"
   },
   {
    "duration": 22,
    "start_time": "2022-05-13T09:23:51.286Z"
   },
   {
    "duration": 33,
    "start_time": "2022-05-13T09:24:04.254Z"
   },
   {
    "duration": 30,
    "start_time": "2022-05-13T09:24:08.432Z"
   },
   {
    "duration": 4,
    "start_time": "2022-05-13T09:24:29.091Z"
   },
   {
    "duration": 839,
    "start_time": "2022-05-13T09:24:29.099Z"
   },
   {
    "duration": 16,
    "start_time": "2022-05-13T09:24:29.942Z"
   },
   {
    "duration": 36,
    "start_time": "2022-05-13T09:24:29.962Z"
   },
   {
    "duration": 54,
    "start_time": "2022-05-13T09:24:30.001Z"
   },
   {
    "duration": 79,
    "start_time": "2022-05-13T09:24:30.057Z"
   },
   {
    "duration": 87,
    "start_time": "2022-05-13T09:24:30.139Z"
   },
   {
    "duration": 9,
    "start_time": "2022-05-13T09:24:30.229Z"
   },
   {
    "duration": 23,
    "start_time": "2022-05-13T09:24:30.241Z"
   },
   {
    "duration": 23,
    "start_time": "2022-05-13T09:24:30.267Z"
   },
   {
    "duration": 38,
    "start_time": "2022-05-13T09:24:30.296Z"
   },
   {
    "duration": 61,
    "start_time": "2022-05-13T09:24:30.337Z"
   },
   {
    "duration": 56,
    "start_time": "2022-05-13T09:24:30.401Z"
   },
   {
    "duration": 66,
    "start_time": "2022-05-13T09:24:30.460Z"
   },
   {
    "duration": 58,
    "start_time": "2022-05-13T09:24:30.530Z"
   },
   {
    "duration": 35,
    "start_time": "2022-05-13T09:24:30.591Z"
   },
   {
    "duration": 33,
    "start_time": "2022-05-13T09:24:30.629Z"
   },
   {
    "duration": 25,
    "start_time": "2022-05-13T09:24:30.664Z"
   },
   {
    "duration": 51,
    "start_time": "2022-05-13T09:24:30.691Z"
   },
   {
    "duration": 13,
    "start_time": "2022-05-13T09:24:30.745Z"
   },
   {
    "duration": 24,
    "start_time": "2022-05-13T09:24:30.760Z"
   },
   {
    "duration": 40,
    "start_time": "2022-05-13T09:24:30.786Z"
   },
   {
    "duration": 11,
    "start_time": "2022-05-13T09:24:30.829Z"
   },
   {
    "duration": 18,
    "start_time": "2022-05-13T09:24:30.842Z"
   },
   {
    "duration": 12,
    "start_time": "2022-05-13T09:24:30.863Z"
   },
   {
    "duration": 14,
    "start_time": "2022-05-13T09:24:30.877Z"
   },
   {
    "duration": 57,
    "start_time": "2022-05-13T09:24:30.894Z"
   },
   {
    "duration": 15,
    "start_time": "2022-05-13T09:24:30.954Z"
   },
   {
    "duration": 96,
    "start_time": "2022-05-13T09:24:30.976Z"
   },
   {
    "duration": 13,
    "start_time": "2022-05-13T09:24:31.074Z"
   },
   {
    "duration": 51,
    "start_time": "2022-05-13T09:24:31.089Z"
   },
   {
    "duration": 32,
    "start_time": "2022-05-13T09:24:31.143Z"
   },
   {
    "duration": 13,
    "start_time": "2022-05-13T09:24:31.178Z"
   },
   {
    "duration": 60,
    "start_time": "2022-05-13T09:24:31.194Z"
   },
   {
    "duration": 31,
    "start_time": "2022-05-13T09:24:31.257Z"
   },
   {
    "duration": 10,
    "start_time": "2022-05-13T09:24:31.291Z"
   },
   {
    "duration": 36,
    "start_time": "2022-05-13T09:24:31.304Z"
   },
   {
    "duration": 20,
    "start_time": "2022-05-13T09:24:31.342Z"
   },
   {
    "duration": 23,
    "start_time": "2022-05-13T09:24:31.365Z"
   },
   {
    "duration": 40,
    "start_time": "2022-05-13T09:24:31.390Z"
   },
   {
    "duration": 23,
    "start_time": "2022-05-13T09:24:31.432Z"
   },
   {
    "duration": 18,
    "start_time": "2022-05-13T09:24:31.457Z"
   },
   {
    "duration": 16,
    "start_time": "2022-05-13T09:24:31.477Z"
   },
   {
    "duration": 39,
    "start_time": "2022-05-13T09:24:31.496Z"
   },
   {
    "duration": 27,
    "start_time": "2022-05-13T09:24:31.537Z"
   },
   {
    "duration": 28,
    "start_time": "2022-05-13T09:24:31.567Z"
   },
   {
    "duration": 11,
    "start_time": "2022-05-13T09:24:31.625Z"
   },
   {
    "duration": 27,
    "start_time": "2022-05-13T09:24:31.639Z"
   },
   {
    "duration": 16,
    "start_time": "2022-05-13T09:24:31.669Z"
   },
   {
    "duration": 39,
    "start_time": "2022-05-13T09:24:31.688Z"
   },
   {
    "duration": 17,
    "start_time": "2022-05-13T09:24:31.729Z"
   },
   {
    "duration": 132,
    "start_time": "2022-05-13T09:24:31.748Z"
   },
   {
    "duration": 26,
    "start_time": "2022-05-13T09:24:31.882Z"
   },
   {
    "duration": 23,
    "start_time": "2022-05-13T09:24:31.910Z"
   },
   {
    "duration": 18,
    "start_time": "2022-05-13T09:24:31.935Z"
   },
   {
    "duration": 15,
    "start_time": "2022-05-13T09:24:31.955Z"
   },
   {
    "duration": 16,
    "start_time": "2022-05-13T09:24:31.972Z"
   },
   {
    "duration": 35,
    "start_time": "2022-05-13T09:24:31.990Z"
   },
   {
    "duration": 28,
    "start_time": "2022-05-13T09:24:32.027Z"
   },
   {
    "duration": 39,
    "start_time": "2022-05-13T09:24:32.057Z"
   },
   {
    "duration": 47,
    "start_time": "2022-05-13T09:24:32.099Z"
   },
   {
    "duration": 28,
    "start_time": "2022-05-13T09:24:32.148Z"
   },
   {
    "duration": 52,
    "start_time": "2022-05-13T09:24:32.178Z"
   },
   {
    "duration": 50,
    "start_time": "2022-05-13T09:24:32.232Z"
   },
   {
    "duration": 6,
    "start_time": "2022-05-13T09:24:32.284Z"
   },
   {
    "duration": 53,
    "start_time": "2022-05-13T09:24:32.292Z"
   },
   {
    "duration": 35,
    "start_time": "2022-05-13T09:24:32.348Z"
   },
   {
    "duration": 7,
    "start_time": "2022-05-13T09:24:32.385Z"
   },
   {
    "duration": 48,
    "start_time": "2022-05-13T09:24:32.394Z"
   },
   {
    "duration": 24,
    "start_time": "2022-05-13T09:24:40.150Z"
   },
   {
    "duration": 21,
    "start_time": "2022-05-13T09:24:47.534Z"
   },
   {
    "duration": 26,
    "start_time": "2022-05-13T09:24:54.040Z"
   },
   {
    "duration": 22,
    "start_time": "2022-05-13T09:25:12.224Z"
   },
   {
    "duration": 5,
    "start_time": "2022-05-13T09:25:21.106Z"
   },
   {
    "duration": 4,
    "start_time": "2022-05-13T09:25:39.633Z"
   },
   {
    "duration": 586,
    "start_time": "2022-05-13T09:25:39.640Z"
   },
   {
    "duration": 12,
    "start_time": "2022-05-13T09:25:40.229Z"
   },
   {
    "duration": 38,
    "start_time": "2022-05-13T09:25:40.244Z"
   },
   {
    "duration": 63,
    "start_time": "2022-05-13T09:25:40.286Z"
   },
   {
    "duration": 35,
    "start_time": "2022-05-13T09:25:40.351Z"
   },
   {
    "duration": 75,
    "start_time": "2022-05-13T09:25:40.388Z"
   },
   {
    "duration": 6,
    "start_time": "2022-05-13T09:25:40.466Z"
   },
   {
    "duration": 18,
    "start_time": "2022-05-13T09:25:40.474Z"
   },
   {
    "duration": 42,
    "start_time": "2022-05-13T09:25:40.494Z"
   },
   {
    "duration": 14,
    "start_time": "2022-05-13T09:25:40.538Z"
   },
   {
    "duration": 30,
    "start_time": "2022-05-13T09:25:40.555Z"
   },
   {
    "duration": 55,
    "start_time": "2022-05-13T09:25:40.587Z"
   },
   {
    "duration": 29,
    "start_time": "2022-05-13T09:25:40.646Z"
   },
   {
    "duration": 59,
    "start_time": "2022-05-13T09:25:40.677Z"
   },
   {
    "duration": 11,
    "start_time": "2022-05-13T09:25:40.739Z"
   },
   {
    "duration": 29,
    "start_time": "2022-05-13T09:25:40.752Z"
   },
   {
    "duration": 47,
    "start_time": "2022-05-13T09:25:40.783Z"
   },
   {
    "duration": 34,
    "start_time": "2022-05-13T09:25:40.832Z"
   },
   {
    "duration": 13,
    "start_time": "2022-05-13T09:25:40.869Z"
   },
   {
    "duration": 42,
    "start_time": "2022-05-13T09:25:40.884Z"
   },
   {
    "duration": 19,
    "start_time": "2022-05-13T09:25:40.929Z"
   },
   {
    "duration": 16,
    "start_time": "2022-05-13T09:25:40.951Z"
   },
   {
    "duration": 11,
    "start_time": "2022-05-13T09:25:40.969Z"
   },
   {
    "duration": 44,
    "start_time": "2022-05-13T09:25:40.983Z"
   },
   {
    "duration": 10,
    "start_time": "2022-05-13T09:25:41.030Z"
   },
   {
    "duration": 36,
    "start_time": "2022-05-13T09:25:41.042Z"
   },
   {
    "duration": 16,
    "start_time": "2022-05-13T09:25:41.080Z"
   },
   {
    "duration": 69,
    "start_time": "2022-05-13T09:25:41.126Z"
   },
   {
    "duration": 33,
    "start_time": "2022-05-13T09:25:41.197Z"
   },
   {
    "duration": 27,
    "start_time": "2022-05-13T09:25:41.233Z"
   },
   {
    "duration": 25,
    "start_time": "2022-05-13T09:25:41.263Z"
   },
   {
    "duration": 43,
    "start_time": "2022-05-13T09:25:41.291Z"
   },
   {
    "duration": 29,
    "start_time": "2022-05-13T09:25:41.336Z"
   },
   {
    "duration": 59,
    "start_time": "2022-05-13T09:25:41.368Z"
   },
   {
    "duration": 11,
    "start_time": "2022-05-13T09:25:41.429Z"
   },
   {
    "duration": 21,
    "start_time": "2022-05-13T09:25:41.442Z"
   },
   {
    "duration": 14,
    "start_time": "2022-05-13T09:25:41.465Z"
   },
   {
    "duration": 43,
    "start_time": "2022-05-13T09:25:41.481Z"
   },
   {
    "duration": 12,
    "start_time": "2022-05-13T09:25:41.527Z"
   },
   {
    "duration": 16,
    "start_time": "2022-05-13T09:25:41.547Z"
   },
   {
    "duration": 16,
    "start_time": "2022-05-13T09:25:41.565Z"
   },
   {
    "duration": 50,
    "start_time": "2022-05-13T09:25:41.584Z"
   },
   {
    "duration": 16,
    "start_time": "2022-05-13T09:25:41.637Z"
   },
   {
    "duration": 24,
    "start_time": "2022-05-13T09:25:41.655Z"
   },
   {
    "duration": 56,
    "start_time": "2022-05-13T09:25:41.682Z"
   },
   {
    "duration": 13,
    "start_time": "2022-05-13T09:25:41.740Z"
   },
   {
    "duration": 14,
    "start_time": "2022-05-13T09:25:41.755Z"
   },
   {
    "duration": 15,
    "start_time": "2022-05-13T09:25:41.772Z"
   },
   {
    "duration": 49,
    "start_time": "2022-05-13T09:25:41.789Z"
   },
   {
    "duration": 15,
    "start_time": "2022-05-13T09:25:41.841Z"
   },
   {
    "duration": 31,
    "start_time": "2022-05-13T09:25:41.858Z"
   },
   {
    "duration": 57,
    "start_time": "2022-05-13T09:25:41.892Z"
   },
   {
    "duration": 22,
    "start_time": "2022-05-13T09:25:41.951Z"
   },
   {
    "duration": 18,
    "start_time": "2022-05-13T09:25:41.975Z"
   },
   {
    "duration": 42,
    "start_time": "2022-05-13T09:25:41.995Z"
   },
   {
    "duration": 15,
    "start_time": "2022-05-13T09:25:42.040Z"
   },
   {
    "duration": 18,
    "start_time": "2022-05-13T09:25:42.058Z"
   },
   {
    "duration": 55,
    "start_time": "2022-05-13T09:25:42.079Z"
   },
   {
    "duration": 18,
    "start_time": "2022-05-13T09:25:42.136Z"
   },
   {
    "duration": 36,
    "start_time": "2022-05-13T09:25:42.156Z"
   },
   {
    "duration": 44,
    "start_time": "2022-05-13T09:25:42.194Z"
   },
   {
    "duration": 27,
    "start_time": "2022-05-13T09:25:42.241Z"
   },
   {
    "duration": 76,
    "start_time": "2022-05-13T09:25:42.271Z"
   },
   {
    "duration": 7,
    "start_time": "2022-05-13T09:25:42.349Z"
   },
   {
    "duration": 25,
    "start_time": "2022-05-13T09:25:42.358Z"
   },
   {
    "duration": 54,
    "start_time": "2022-05-13T09:25:42.385Z"
   },
   {
    "duration": 22,
    "start_time": "2022-05-13T09:25:42.441Z"
   },
   {
    "duration": 16,
    "start_time": "2022-05-13T09:25:42.465Z"
   },
   {
    "duration": 29,
    "start_time": "2022-05-13T09:25:42.484Z"
   },
   {
    "duration": 26,
    "start_time": "2022-05-13T09:25:42.524Z"
   },
   {
    "duration": 483,
    "start_time": "2022-05-13T09:25:42.552Z"
   },
   {
    "duration": 30,
    "start_time": "2022-05-13T09:25:43.038Z"
   },
   {
    "duration": 56,
    "start_time": "2022-05-13T09:25:43.070Z"
   },
   {
    "duration": 512,
    "start_time": "2022-05-13T09:25:43.128Z"
   },
   {
    "duration": 488,
    "start_time": "2022-05-13T09:25:43.642Z"
   },
   {
    "duration": 28,
    "start_time": "2022-05-13T09:25:44.132Z"
   },
   {
    "duration": 66,
    "start_time": "2022-05-13T09:25:44.162Z"
   },
   {
    "duration": 466,
    "start_time": "2022-05-13T09:25:44.231Z"
   },
   {
    "duration": 36,
    "start_time": "2022-05-13T09:25:44.699Z"
   },
   {
    "duration": 16,
    "start_time": "2022-05-13T09:25:44.737Z"
   },
   {
    "duration": 21,
    "start_time": "2022-05-13T09:25:44.755Z"
   },
   {
    "duration": 48,
    "start_time": "2022-05-13T09:25:44.778Z"
   },
   {
    "duration": 501,
    "start_time": "2022-05-13T09:25:44.829Z"
   },
   {
    "duration": 26,
    "start_time": "2022-05-13T09:25:45.332Z"
   },
   {
    "duration": 16,
    "start_time": "2022-05-13T09:25:45.360Z"
   },
   {
    "duration": 53,
    "start_time": "2022-05-13T09:25:45.378Z"
   },
   {
    "duration": 22,
    "start_time": "2022-05-13T09:25:45.433Z"
   },
   {
    "duration": 355,
    "start_time": "2022-05-13T09:25:45.457Z"
   },
   {
    "duration": 32,
    "start_time": "2022-05-13T09:25:45.814Z"
   },
   {
    "duration": 20,
    "start_time": "2022-05-13T09:25:45.848Z"
   },
   {
    "duration": 20,
    "start_time": "2022-05-13T09:25:45.870Z"
   },
   {
    "duration": 48,
    "start_time": "2022-05-13T09:25:45.892Z"
   },
   {
    "duration": 341,
    "start_time": "2022-05-13T09:25:45.942Z"
   },
   {
    "duration": 18,
    "start_time": "2022-05-13T09:25:46.285Z"
   },
   {
    "duration": 47,
    "start_time": "2022-05-13T09:25:46.306Z"
   },
   {
    "duration": 71,
    "start_time": "2022-05-13T09:25:46.355Z"
   },
   {
    "duration": 14,
    "start_time": "2022-05-13T09:25:46.428Z"
   },
   {
    "duration": 27,
    "start_time": "2022-05-13T09:25:46.444Z"
   },
   {
    "duration": 5,
    "start_time": "2022-05-13T09:39:06.838Z"
   },
   {
    "duration": 5,
    "start_time": "2022-05-13T09:39:07.864Z"
   },
   {
    "duration": 28,
    "start_time": "2022-05-13T09:44:12.044Z"
   },
   {
    "duration": 4,
    "start_time": "2022-05-13T09:44:16.363Z"
   },
   {
    "duration": 601,
    "start_time": "2022-05-13T09:44:16.371Z"
   },
   {
    "duration": 12,
    "start_time": "2022-05-13T09:44:16.975Z"
   },
   {
    "duration": 40,
    "start_time": "2022-05-13T09:44:16.989Z"
   },
   {
    "duration": 39,
    "start_time": "2022-05-13T09:44:17.034Z"
   },
   {
    "duration": 68,
    "start_time": "2022-05-13T09:44:17.076Z"
   },
   {
    "duration": 48,
    "start_time": "2022-05-13T09:44:17.146Z"
   },
   {
    "duration": 34,
    "start_time": "2022-05-13T09:44:17.196Z"
   },
   {
    "duration": 21,
    "start_time": "2022-05-13T09:44:17.235Z"
   },
   {
    "duration": 18,
    "start_time": "2022-05-13T09:44:17.258Z"
   },
   {
    "duration": 9,
    "start_time": "2022-05-13T09:44:17.282Z"
   },
   {
    "duration": 60,
    "start_time": "2022-05-13T09:44:17.293Z"
   },
   {
    "duration": 40,
    "start_time": "2022-05-13T09:44:17.355Z"
   },
   {
    "duration": 61,
    "start_time": "2022-05-13T09:44:17.398Z"
   },
   {
    "duration": 35,
    "start_time": "2022-05-13T09:44:17.461Z"
   },
   {
    "duration": 47,
    "start_time": "2022-05-13T09:44:17.499Z"
   },
   {
    "duration": 27,
    "start_time": "2022-05-13T09:44:17.548Z"
   },
   {
    "duration": 48,
    "start_time": "2022-05-13T09:44:17.577Z"
   },
   {
    "duration": 34,
    "start_time": "2022-05-13T09:44:17.628Z"
   },
   {
    "duration": 12,
    "start_time": "2022-05-13T09:44:17.665Z"
   },
   {
    "duration": 45,
    "start_time": "2022-05-13T09:44:17.679Z"
   },
   {
    "duration": 23,
    "start_time": "2022-05-13T09:44:17.730Z"
   },
   {
    "duration": 6,
    "start_time": "2022-05-13T09:44:17.755Z"
   },
   {
    "duration": 12,
    "start_time": "2022-05-13T09:44:17.763Z"
   },
   {
    "duration": 11,
    "start_time": "2022-05-13T09:44:17.777Z"
   },
   {
    "duration": 41,
    "start_time": "2022-05-13T09:44:17.790Z"
   },
   {
    "duration": 60,
    "start_time": "2022-05-13T09:44:17.834Z"
   },
   {
    "duration": 14,
    "start_time": "2022-05-13T09:44:17.898Z"
   },
   {
    "duration": 74,
    "start_time": "2022-05-13T09:44:17.928Z"
   },
   {
    "duration": 33,
    "start_time": "2022-05-13T09:44:18.005Z"
   },
   {
    "duration": 33,
    "start_time": "2022-05-13T09:44:18.045Z"
   },
   {
    "duration": 30,
    "start_time": "2022-05-13T09:44:18.081Z"
   },
   {
    "duration": 17,
    "start_time": "2022-05-13T09:44:18.128Z"
   },
   {
    "duration": 29,
    "start_time": "2022-05-13T09:44:18.147Z"
   },
   {
    "duration": 48,
    "start_time": "2022-05-13T09:44:18.178Z"
   },
   {
    "duration": 16,
    "start_time": "2022-05-13T09:44:18.229Z"
   },
   {
    "duration": 16,
    "start_time": "2022-05-13T09:44:18.248Z"
   },
   {
    "duration": 22,
    "start_time": "2022-05-13T09:44:18.266Z"
   },
   {
    "duration": 41,
    "start_time": "2022-05-13T09:44:18.290Z"
   },
   {
    "duration": 47,
    "start_time": "2022-05-13T09:44:18.334Z"
   },
   {
    "duration": 19,
    "start_time": "2022-05-13T09:44:18.384Z"
   },
   {
    "duration": 27,
    "start_time": "2022-05-13T09:44:18.405Z"
   },
   {
    "duration": 57,
    "start_time": "2022-05-13T09:44:18.435Z"
   },
   {
    "duration": 15,
    "start_time": "2022-05-13T09:44:18.494Z"
   },
   {
    "duration": 40,
    "start_time": "2022-05-13T09:44:18.511Z"
   },
   {
    "duration": 27,
    "start_time": "2022-05-13T09:44:18.554Z"
   },
   {
    "duration": 14,
    "start_time": "2022-05-13T09:44:18.583Z"
   },
   {
    "duration": 31,
    "start_time": "2022-05-13T09:44:18.599Z"
   },
   {
    "duration": 16,
    "start_time": "2022-05-13T09:44:18.633Z"
   },
   {
    "duration": 20,
    "start_time": "2022-05-13T09:44:18.652Z"
   },
   {
    "duration": 16,
    "start_time": "2022-05-13T09:44:18.675Z"
   },
   {
    "duration": 58,
    "start_time": "2022-05-13T09:44:18.693Z"
   },
   {
    "duration": 34,
    "start_time": "2022-05-13T09:44:18.753Z"
   },
   {
    "duration": 16,
    "start_time": "2022-05-13T09:44:18.789Z"
   },
   {
    "duration": 20,
    "start_time": "2022-05-13T09:44:18.827Z"
   },
   {
    "duration": 17,
    "start_time": "2022-05-13T09:44:18.849Z"
   },
   {
    "duration": 15,
    "start_time": "2022-05-13T09:44:18.869Z"
   },
   {
    "duration": 50,
    "start_time": "2022-05-13T09:44:18.886Z"
   },
   {
    "duration": 24,
    "start_time": "2022-05-13T09:44:18.939Z"
   },
   {
    "duration": 17,
    "start_time": "2022-05-13T09:44:18.966Z"
   },
   {
    "duration": 67,
    "start_time": "2022-05-13T09:44:18.987Z"
   },
   {
    "duration": 28,
    "start_time": "2022-05-13T09:44:19.056Z"
   },
   {
    "duration": 53,
    "start_time": "2022-05-13T09:44:19.086Z"
   },
   {
    "duration": 41,
    "start_time": "2022-05-13T09:44:19.142Z"
   },
   {
    "duration": 6,
    "start_time": "2022-05-13T09:44:19.185Z"
   },
   {
    "duration": 54,
    "start_time": "2022-05-13T09:44:19.194Z"
   },
   {
    "duration": 30,
    "start_time": "2022-05-13T09:44:19.250Z"
   },
   {
    "duration": 9,
    "start_time": "2022-05-13T09:44:19.283Z"
   },
   {
    "duration": 37,
    "start_time": "2022-05-13T09:44:19.295Z"
   },
   {
    "duration": 35,
    "start_time": "2022-05-13T09:44:19.335Z"
   },
   {
    "duration": 58,
    "start_time": "2022-05-13T09:44:19.373Z"
   },
   {
    "duration": 501,
    "start_time": "2022-05-13T09:44:19.435Z"
   },
   {
    "duration": 33,
    "start_time": "2022-05-13T09:44:19.939Z"
   },
   {
    "duration": 27,
    "start_time": "2022-05-13T09:44:19.974Z"
   },
   {
    "duration": 479,
    "start_time": "2022-05-13T09:44:20.032Z"
   },
   {
    "duration": 434,
    "start_time": "2022-05-13T09:44:20.513Z"
   },
   {
    "duration": 30,
    "start_time": "2022-05-13T09:44:20.949Z"
   },
   {
    "duration": 61,
    "start_time": "2022-05-13T09:44:20.981Z"
   },
   {
    "duration": 471,
    "start_time": "2022-05-13T09:44:21.045Z"
   },
   {
    "duration": 31,
    "start_time": "2022-05-13T09:44:21.518Z"
   },
   {
    "duration": 12,
    "start_time": "2022-05-13T09:44:21.552Z"
   },
   {
    "duration": 67,
    "start_time": "2022-05-13T09:44:21.567Z"
   },
   {
    "duration": 19,
    "start_time": "2022-05-13T09:44:21.643Z"
   },
   {
    "duration": 505,
    "start_time": "2022-05-13T09:44:21.665Z"
   },
   {
    "duration": 25,
    "start_time": "2022-05-13T09:44:22.172Z"
   },
   {
    "duration": 35,
    "start_time": "2022-05-13T09:44:22.200Z"
   },
   {
    "duration": 22,
    "start_time": "2022-05-13T09:44:22.238Z"
   },
   {
    "duration": 28,
    "start_time": "2022-05-13T09:44:22.262Z"
   },
   {
    "duration": 561,
    "start_time": "2022-05-13T09:44:22.293Z"
   },
   {
    "duration": 29,
    "start_time": "2022-05-13T09:44:22.857Z"
   },
   {
    "duration": 45,
    "start_time": "2022-05-13T09:44:22.888Z"
   },
   {
    "duration": 22,
    "start_time": "2022-05-13T09:44:22.937Z"
   },
   {
    "duration": 20,
    "start_time": "2022-05-13T09:44:22.961Z"
   },
   {
    "duration": 367,
    "start_time": "2022-05-13T09:44:22.983Z"
   },
   {
    "duration": 83,
    "start_time": "2022-05-13T09:44:23.353Z"
   },
   {
    "duration": 14,
    "start_time": "2022-05-13T09:44:30.676Z"
   },
   {
    "duration": 5,
    "start_time": "2022-05-13T09:44:31.509Z"
   },
   {
    "duration": 6,
    "start_time": "2022-05-13T09:44:32.010Z"
   },
   {
    "duration": 16,
    "start_time": "2022-05-13T09:46:02.993Z"
   },
   {
    "duration": 5,
    "start_time": "2022-05-13T09:46:13.301Z"
   },
   {
    "duration": 6,
    "start_time": "2022-05-13T09:46:13.876Z"
   },
   {
    "duration": 1353,
    "start_time": "2022-05-13T12:19:39.333Z"
   },
   {
    "duration": 562,
    "start_time": "2022-05-13T12:19:40.689Z"
   },
   {
    "duration": 20,
    "start_time": "2022-05-13T12:19:41.255Z"
   },
   {
    "duration": 33,
    "start_time": "2022-05-13T12:19:41.284Z"
   },
   {
    "duration": 33,
    "start_time": "2022-05-13T12:19:41.318Z"
   },
   {
    "duration": 49,
    "start_time": "2022-05-13T12:19:41.353Z"
   },
   {
    "duration": 53,
    "start_time": "2022-05-13T12:19:41.403Z"
   },
   {
    "duration": 11,
    "start_time": "2022-05-13T12:19:41.458Z"
   },
   {
    "duration": 29,
    "start_time": "2022-05-13T12:19:41.471Z"
   },
   {
    "duration": 11,
    "start_time": "2022-05-13T12:19:41.502Z"
   },
   {
    "duration": 10,
    "start_time": "2022-05-13T12:19:41.514Z"
   },
   {
    "duration": 30,
    "start_time": "2022-05-13T12:19:41.526Z"
   },
   {
    "duration": 58,
    "start_time": "2022-05-13T12:19:41.557Z"
   },
   {
    "duration": 23,
    "start_time": "2022-05-13T12:19:41.616Z"
   },
   {
    "duration": 49,
    "start_time": "2022-05-13T12:19:41.641Z"
   },
   {
    "duration": 10,
    "start_time": "2022-05-13T12:19:41.692Z"
   },
   {
    "duration": 22,
    "start_time": "2022-05-13T12:19:41.704Z"
   },
   {
    "duration": 49,
    "start_time": "2022-05-13T12:19:41.728Z"
   },
   {
    "duration": 28,
    "start_time": "2022-05-13T12:19:41.783Z"
   },
   {
    "duration": 9,
    "start_time": "2022-05-13T12:19:41.813Z"
   },
   {
    "duration": 11,
    "start_time": "2022-05-13T12:19:41.824Z"
   },
   {
    "duration": 18,
    "start_time": "2022-05-13T12:19:41.846Z"
   },
   {
    "duration": 32,
    "start_time": "2022-05-13T12:19:41.866Z"
   },
   {
    "duration": 7,
    "start_time": "2022-05-13T12:19:41.900Z"
   },
   {
    "duration": 8,
    "start_time": "2022-05-13T12:19:41.908Z"
   },
   {
    "duration": 6,
    "start_time": "2022-05-13T12:19:41.918Z"
   },
   {
    "duration": 37,
    "start_time": "2022-05-13T12:19:41.925Z"
   },
   {
    "duration": 11,
    "start_time": "2022-05-13T12:19:41.971Z"
   },
   {
    "duration": 76,
    "start_time": "2022-05-13T12:19:41.983Z"
   },
   {
    "duration": 13,
    "start_time": "2022-05-13T12:19:42.061Z"
   },
   {
    "duration": 35,
    "start_time": "2022-05-13T12:19:42.075Z"
   },
   {
    "duration": 20,
    "start_time": "2022-05-13T12:19:42.112Z"
   },
   {
    "duration": 10,
    "start_time": "2022-05-13T12:19:42.134Z"
   },
   {
    "duration": 65,
    "start_time": "2022-05-13T12:19:42.147Z"
   },
   {
    "duration": 35,
    "start_time": "2022-05-13T12:19:42.214Z"
   },
   {
    "duration": 16,
    "start_time": "2022-05-13T12:19:42.263Z"
   },
   {
    "duration": 24,
    "start_time": "2022-05-13T12:19:42.282Z"
   },
   {
    "duration": 12,
    "start_time": "2022-05-13T12:19:42.308Z"
   },
   {
    "duration": 12,
    "start_time": "2022-05-13T12:19:42.321Z"
   },
   {
    "duration": 10,
    "start_time": "2022-05-13T12:19:42.335Z"
   },
   {
    "duration": 56,
    "start_time": "2022-05-13T12:19:42.348Z"
   },
   {
    "duration": 11,
    "start_time": "2022-05-13T12:19:42.406Z"
   },
   {
    "duration": 11,
    "start_time": "2022-05-13T12:19:42.419Z"
   },
   {
    "duration": 17,
    "start_time": "2022-05-13T12:19:42.432Z"
   },
   {
    "duration": 45,
    "start_time": "2022-05-13T12:19:42.454Z"
   },
   {
    "duration": 20,
    "start_time": "2022-05-13T12:19:42.501Z"
   },
   {
    "duration": 6,
    "start_time": "2022-05-13T12:19:42.523Z"
   },
   {
    "duration": 11,
    "start_time": "2022-05-13T12:19:42.531Z"
   },
   {
    "duration": 25,
    "start_time": "2022-05-13T12:19:42.543Z"
   },
   {
    "duration": 37,
    "start_time": "2022-05-13T12:19:42.570Z"
   },
   {
    "duration": 11,
    "start_time": "2022-05-13T12:19:42.608Z"
   },
   {
    "duration": 17,
    "start_time": "2022-05-13T12:19:42.621Z"
   },
   {
    "duration": 26,
    "start_time": "2022-05-13T12:19:42.639Z"
   },
   {
    "duration": 41,
    "start_time": "2022-05-13T12:19:42.669Z"
   },
   {
    "duration": 13,
    "start_time": "2022-05-13T12:19:42.712Z"
   },
   {
    "duration": 14,
    "start_time": "2022-05-13T12:19:42.727Z"
   },
   {
    "duration": 25,
    "start_time": "2022-05-13T12:19:42.742Z"
   },
   {
    "duration": 23,
    "start_time": "2022-05-13T12:19:42.772Z"
   },
   {
    "duration": 19,
    "start_time": "2022-05-13T12:19:42.797Z"
   },
   {
    "duration": 12,
    "start_time": "2022-05-13T12:19:42.818Z"
   },
   {
    "duration": 35,
    "start_time": "2022-05-13T12:19:42.832Z"
   },
   {
    "duration": 44,
    "start_time": "2022-05-13T12:19:42.869Z"
   },
   {
    "duration": 17,
    "start_time": "2022-05-13T12:19:42.915Z"
   },
   {
    "duration": 34,
    "start_time": "2022-05-13T12:19:42.934Z"
   },
   {
    "duration": 33,
    "start_time": "2022-05-13T12:19:42.970Z"
   },
   {
    "duration": 14,
    "start_time": "2022-05-13T12:19:43.006Z"
   },
   {
    "duration": 19,
    "start_time": "2022-05-13T12:19:43.022Z"
   },
   {
    "duration": 47,
    "start_time": "2022-05-13T12:19:43.043Z"
   },
   {
    "duration": 3,
    "start_time": "2022-05-13T12:19:43.092Z"
   },
   {
    "duration": 22,
    "start_time": "2022-05-13T12:19:43.097Z"
   },
   {
    "duration": 19,
    "start_time": "2022-05-13T12:19:43.122Z"
   },
   {
    "duration": 355,
    "start_time": "2022-05-13T12:19:43.142Z"
   },
   {
    "duration": 24,
    "start_time": "2022-05-13T12:19:43.500Z"
   },
   {
    "duration": 45,
    "start_time": "2022-05-13T12:19:43.526Z"
   },
   {
    "duration": 342,
    "start_time": "2022-05-13T12:19:43.573Z"
   },
   {
    "duration": 334,
    "start_time": "2022-05-13T12:19:43.917Z"
   },
   {
    "duration": 35,
    "start_time": "2022-05-13T12:19:44.259Z"
   },
   {
    "duration": 18,
    "start_time": "2022-05-13T12:19:44.296Z"
   },
   {
    "duration": 336,
    "start_time": "2022-05-13T12:19:44.316Z"
   },
   {
    "duration": 23,
    "start_time": "2022-05-13T12:19:44.655Z"
   },
   {
    "duration": 20,
    "start_time": "2022-05-13T12:19:44.680Z"
   },
   {
    "duration": 16,
    "start_time": "2022-05-13T12:19:44.705Z"
   },
   {
    "duration": 12,
    "start_time": "2022-05-13T12:19:44.722Z"
   },
   {
    "duration": 339,
    "start_time": "2022-05-13T12:19:44.735Z"
   },
   {
    "duration": 23,
    "start_time": "2022-05-13T12:19:45.076Z"
   },
   {
    "duration": 9,
    "start_time": "2022-05-13T12:19:45.102Z"
   },
   {
    "duration": 14,
    "start_time": "2022-05-13T12:19:45.112Z"
   },
   {
    "duration": 40,
    "start_time": "2022-05-13T12:19:45.128Z"
   },
   {
    "duration": 230,
    "start_time": "2022-05-13T12:19:45.169Z"
   },
   {
    "duration": 16,
    "start_time": "2022-05-13T12:19:45.401Z"
   },
   {
    "duration": 40,
    "start_time": "2022-05-13T12:19:45.418Z"
   },
   {
    "duration": 45,
    "start_time": "2022-05-13T12:19:45.460Z"
   },
   {
    "duration": 13,
    "start_time": "2022-05-13T12:19:45.507Z"
   },
   {
    "duration": 248,
    "start_time": "2022-05-13T12:19:45.522Z"
   },
   {
    "duration": 65,
    "start_time": "2022-05-13T12:19:45.771Z"
   },
   {
    "duration": 13,
    "start_time": "2022-05-13T12:19:45.848Z"
   },
   {
    "duration": 32,
    "start_time": "2022-05-13T12:19:45.863Z"
   },
   {
    "duration": 14,
    "start_time": "2022-05-13T12:19:45.897Z"
   },
   {
    "duration": 13,
    "start_time": "2022-05-13T12:19:45.913Z"
   },
   {
    "duration": 6,
    "start_time": "2022-05-13T12:19:45.928Z"
   },
   {
    "duration": 6,
    "start_time": "2022-05-13T12:19:45.935Z"
   },
   {
    "duration": 12,
    "start_time": "2022-05-13T12:26:03.956Z"
   },
   {
    "duration": 8,
    "start_time": "2022-05-13T12:26:37.608Z"
   },
   {
    "duration": 21,
    "start_time": "2022-05-13T12:27:56.806Z"
   }
  ],
  "kernelspec": {
   "display_name": "Python 3",
   "language": "python",
   "name": "python3"
  },
  "language_info": {
   "codemirror_mode": {
    "name": "ipython",
    "version": 3
   },
   "file_extension": ".py",
   "mimetype": "text/x-python",
   "name": "python",
   "nbconvert_exporter": "python",
   "pygments_lexer": "ipython3",
   "version": "3.8.8"
  },
  "toc": {
   "base_numbering": 1,
   "nav_menu": {},
   "number_sections": true,
   "sideBar": true,
   "skip_h1_title": false,
   "title_cell": "Table of Contents",
   "title_sidebar": "Contents",
   "toc_cell": false,
   "toc_position": {
    "height": "calc(100% - 180px)",
    "left": "10px",
    "top": "150px",
    "width": "370px"
   },
   "toc_section_display": true,
   "toc_window_display": true
  }
 },
 "nbformat": 4,
 "nbformat_minor": 4
}
