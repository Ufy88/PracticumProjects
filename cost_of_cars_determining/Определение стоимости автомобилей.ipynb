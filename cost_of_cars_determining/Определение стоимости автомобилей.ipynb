{
 "cells": [
  {
   "cell_type": "markdown",
   "metadata": {},
   "source": [
    "# 1.   Определение стоимости автомобилей"
   ]
  },
  {
   "cell_type": "markdown",
   "metadata": {},
   "source": [
    "<div style=\"background-color: #fff0e0; padding: 10px; font-family: monospace; font-size: 15px\">\n",
    "Сервис по продаже автомобилей с пробегом «Не бит, не крашен» разрабатывает приложение для привлечения новых клиентов. В нём можно быстро узнать рыночную стоимость своего автомобиля. В вашем распоряжении исторические данные: технические характеристики, комплектации и цены автомобилей. Вам нужно построить модель для определения стоимости. \n",
    "<br><br>Заказчику важны:\n",
    "    \n",
    "- качество предсказания;\n",
    "- скорость предсказания;\n",
    "- время обучения.</div>\n",
    "\n",
    "<div style=\"background-color: #fff0e0; padding: 10px; font-family: monospace; font-size: 15px\">\n",
    "Данные представлены в виде датасета со многими параметрами и ключевым параметром цены. В данных много пропусков, также присутствуют ненужные для обучения параметры\n",
    "<br><br>Задачей проекта является очистка данных, подготовка к обучению моделей, а также обучение и сравнение полученных результатов\n",
    "<br><br>Целью проекта является определение лучшей модели машинного обучения для данной задачи\n",
    "<br><br>План работы:\n",
    "    \n",
    "- Подготовка данных, анализ и очистка\n",
    "- Обучение моделей, простых линейных и бустов\n",
    "- Анализ моделей для поиска подходящей</div>"
   ]
  },
  {
   "cell_type": "markdown",
   "metadata": {},
   "source": [
    "## 1.1.   Подготовка данных"
   ]
  },
  {
   "cell_type": "code",
   "execution_count": 1,
   "metadata": {},
   "outputs": [],
   "source": [
    "import pandas as pd\n",
    "from lightgbm import LGBMRegressor\n",
    "from sklearn.preprocessing import OrdinalEncoder\n",
    "from sklearn.model_selection import train_test_split\n",
    "from sklearn.metrics import mean_squared_error as mse\n",
    "from sklearn.linear_model import LinearRegression\n",
    "from sklearn.linear_model import LogisticRegression\n",
    "from catboost import CatBoostRegressor"
   ]
  },
  {
   "cell_type": "code",
   "execution_count": 2,
   "metadata": {},
   "outputs": [],
   "source": [
    "data = pd.read_csv('/datasets/autos.csv')"
   ]
  },
  {
   "cell_type": "code",
   "execution_count": 3,
   "metadata": {},
   "outputs": [
    {
     "data": {
      "text/html": [
       "<div>\n",
       "<style scoped>\n",
       "    .dataframe tbody tr th:only-of-type {\n",
       "        vertical-align: middle;\n",
       "    }\n",
       "\n",
       "    .dataframe tbody tr th {\n",
       "        vertical-align: top;\n",
       "    }\n",
       "\n",
       "    .dataframe thead th {\n",
       "        text-align: right;\n",
       "    }\n",
       "</style>\n",
       "<table border=\"1\" class=\"dataframe\">\n",
       "  <thead>\n",
       "    <tr style=\"text-align: right;\">\n",
       "      <th></th>\n",
       "      <th>DateCrawled</th>\n",
       "      <th>Price</th>\n",
       "      <th>VehicleType</th>\n",
       "      <th>RegistrationYear</th>\n",
       "      <th>Gearbox</th>\n",
       "      <th>Power</th>\n",
       "      <th>Model</th>\n",
       "      <th>Kilometer</th>\n",
       "      <th>RegistrationMonth</th>\n",
       "      <th>FuelType</th>\n",
       "      <th>Brand</th>\n",
       "      <th>NotRepaired</th>\n",
       "      <th>DateCreated</th>\n",
       "      <th>NumberOfPictures</th>\n",
       "      <th>PostalCode</th>\n",
       "      <th>LastSeen</th>\n",
       "    </tr>\n",
       "  </thead>\n",
       "  <tbody>\n",
       "    <tr>\n",
       "      <th>0</th>\n",
       "      <td>2016-03-24 11:52:17</td>\n",
       "      <td>480</td>\n",
       "      <td>NaN</td>\n",
       "      <td>1993</td>\n",
       "      <td>manual</td>\n",
       "      <td>0</td>\n",
       "      <td>golf</td>\n",
       "      <td>150000</td>\n",
       "      <td>0</td>\n",
       "      <td>petrol</td>\n",
       "      <td>volkswagen</td>\n",
       "      <td>NaN</td>\n",
       "      <td>2016-03-24 00:00:00</td>\n",
       "      <td>0</td>\n",
       "      <td>70435</td>\n",
       "      <td>2016-04-07 03:16:57</td>\n",
       "    </tr>\n",
       "    <tr>\n",
       "      <th>1</th>\n",
       "      <td>2016-03-24 10:58:45</td>\n",
       "      <td>18300</td>\n",
       "      <td>coupe</td>\n",
       "      <td>2011</td>\n",
       "      <td>manual</td>\n",
       "      <td>190</td>\n",
       "      <td>NaN</td>\n",
       "      <td>125000</td>\n",
       "      <td>5</td>\n",
       "      <td>gasoline</td>\n",
       "      <td>audi</td>\n",
       "      <td>yes</td>\n",
       "      <td>2016-03-24 00:00:00</td>\n",
       "      <td>0</td>\n",
       "      <td>66954</td>\n",
       "      <td>2016-04-07 01:46:50</td>\n",
       "    </tr>\n",
       "    <tr>\n",
       "      <th>2</th>\n",
       "      <td>2016-03-14 12:52:21</td>\n",
       "      <td>9800</td>\n",
       "      <td>suv</td>\n",
       "      <td>2004</td>\n",
       "      <td>auto</td>\n",
       "      <td>163</td>\n",
       "      <td>grand</td>\n",
       "      <td>125000</td>\n",
       "      <td>8</td>\n",
       "      <td>gasoline</td>\n",
       "      <td>jeep</td>\n",
       "      <td>NaN</td>\n",
       "      <td>2016-03-14 00:00:00</td>\n",
       "      <td>0</td>\n",
       "      <td>90480</td>\n",
       "      <td>2016-04-05 12:47:46</td>\n",
       "    </tr>\n",
       "    <tr>\n",
       "      <th>3</th>\n",
       "      <td>2016-03-17 16:54:04</td>\n",
       "      <td>1500</td>\n",
       "      <td>small</td>\n",
       "      <td>2001</td>\n",
       "      <td>manual</td>\n",
       "      <td>75</td>\n",
       "      <td>golf</td>\n",
       "      <td>150000</td>\n",
       "      <td>6</td>\n",
       "      <td>petrol</td>\n",
       "      <td>volkswagen</td>\n",
       "      <td>no</td>\n",
       "      <td>2016-03-17 00:00:00</td>\n",
       "      <td>0</td>\n",
       "      <td>91074</td>\n",
       "      <td>2016-03-17 17:40:17</td>\n",
       "    </tr>\n",
       "    <tr>\n",
       "      <th>4</th>\n",
       "      <td>2016-03-31 17:25:20</td>\n",
       "      <td>3600</td>\n",
       "      <td>small</td>\n",
       "      <td>2008</td>\n",
       "      <td>manual</td>\n",
       "      <td>69</td>\n",
       "      <td>fabia</td>\n",
       "      <td>90000</td>\n",
       "      <td>7</td>\n",
       "      <td>gasoline</td>\n",
       "      <td>skoda</td>\n",
       "      <td>no</td>\n",
       "      <td>2016-03-31 00:00:00</td>\n",
       "      <td>0</td>\n",
       "      <td>60437</td>\n",
       "      <td>2016-04-06 10:17:21</td>\n",
       "    </tr>\n",
       "  </tbody>\n",
       "</table>\n",
       "</div>"
      ],
      "text/plain": [
       "           DateCrawled  Price VehicleType  RegistrationYear Gearbox  Power  \\\n",
       "0  2016-03-24 11:52:17    480         NaN              1993  manual      0   \n",
       "1  2016-03-24 10:58:45  18300       coupe              2011  manual    190   \n",
       "2  2016-03-14 12:52:21   9800         suv              2004    auto    163   \n",
       "3  2016-03-17 16:54:04   1500       small              2001  manual     75   \n",
       "4  2016-03-31 17:25:20   3600       small              2008  manual     69   \n",
       "\n",
       "   Model  Kilometer  RegistrationMonth  FuelType       Brand NotRepaired  \\\n",
       "0   golf     150000                  0    petrol  volkswagen         NaN   \n",
       "1    NaN     125000                  5  gasoline        audi         yes   \n",
       "2  grand     125000                  8  gasoline        jeep         NaN   \n",
       "3   golf     150000                  6    petrol  volkswagen          no   \n",
       "4  fabia      90000                  7  gasoline       skoda          no   \n",
       "\n",
       "           DateCreated  NumberOfPictures  PostalCode             LastSeen  \n",
       "0  2016-03-24 00:00:00                 0       70435  2016-04-07 03:16:57  \n",
       "1  2016-03-24 00:00:00                 0       66954  2016-04-07 01:46:50  \n",
       "2  2016-03-14 00:00:00                 0       90480  2016-04-05 12:47:46  \n",
       "3  2016-03-17 00:00:00                 0       91074  2016-03-17 17:40:17  \n",
       "4  2016-03-31 00:00:00                 0       60437  2016-04-06 10:17:21  "
      ]
     },
     "execution_count": 3,
     "metadata": {},
     "output_type": "execute_result"
    }
   ],
   "source": [
    "data.head()"
   ]
  },
  {
   "cell_type": "code",
   "execution_count": 4,
   "metadata": {},
   "outputs": [
    {
     "name": "stdout",
     "output_type": "stream",
     "text": [
      "<class 'pandas.core.frame.DataFrame'>\n",
      "RangeIndex: 354369 entries, 0 to 354368\n",
      "Data columns (total 16 columns):\n",
      " #   Column             Non-Null Count   Dtype \n",
      "---  ------             --------------   ----- \n",
      " 0   DateCrawled        354369 non-null  object\n",
      " 1   Price              354369 non-null  int64 \n",
      " 2   VehicleType        316879 non-null  object\n",
      " 3   RegistrationYear   354369 non-null  int64 \n",
      " 4   Gearbox            334536 non-null  object\n",
      " 5   Power              354369 non-null  int64 \n",
      " 6   Model              334664 non-null  object\n",
      " 7   Kilometer          354369 non-null  int64 \n",
      " 8   RegistrationMonth  354369 non-null  int64 \n",
      " 9   FuelType           321474 non-null  object\n",
      " 10  Brand              354369 non-null  object\n",
      " 11  NotRepaired        283215 non-null  object\n",
      " 12  DateCreated        354369 non-null  object\n",
      " 13  NumberOfPictures   354369 non-null  int64 \n",
      " 14  PostalCode         354369 non-null  int64 \n",
      " 15  LastSeen           354369 non-null  object\n",
      "dtypes: int64(7), object(9)\n",
      "memory usage: 43.3+ MB\n"
     ]
    }
   ],
   "source": [
    "data.info()"
   ]
  },
  {
   "cell_type": "markdown",
   "metadata": {},
   "source": [
    "### 1.1.1.   Удаление колонок"
   ]
  },
  {
   "cell_type": "markdown",
   "metadata": {},
   "source": [
    "<div style=\"background-color: #fff0e0; padding: 10px; font-family: monospace; font-size: 15px\">\n",
    "Похоже, что в колонках DateCrawled, DateCreated и LastSeen надобности нет, и их можно удалить</div>"
   ]
  },
  {
   "cell_type": "code",
   "execution_count": 5,
   "metadata": {},
   "outputs": [],
   "source": [
    "data = data.drop(['DateCrawled', 'DateCreated', 'LastSeen', \n",
    "                  'PostalCode', 'RegistrationMonth'], axis=1)"
   ]
  },
  {
   "cell_type": "markdown",
   "metadata": {},
   "source": [
    "### 1.1.2.   Обработка ошибок"
   ]
  },
  {
   "cell_type": "markdown",
   "metadata": {},
   "source": [
    "<div style=\"background-color: #fff0e0; padding: 10px; font-family: monospace; font-size: 15px\">\n",
    "Сделаем краткий обзор колонок с пропущенными данными</div>"
   ]
  },
  {
   "cell_type": "code",
   "execution_count": 6,
   "metadata": {},
   "outputs": [
    {
     "name": "stdout",
     "output_type": "stream",
     "text": [
      "Количество ошибок в колонке:\n",
      "\n",
      "VehicleType: 37490, (11.0%)\n",
      "Gearbox: 19833, (6.0%)\n",
      "Model: 19705, (6.0%)\n",
      "FuelType: 32895, (9.0%)\n",
      "NotRepaired: 71154, (20.0%)\n"
     ]
    }
   ],
   "source": [
    "print('Количество ошибок в колонке:\\n')\n",
    "for column in data.columns:\n",
    "    nans = len(data[data[column].isna()][column])\n",
    "    if nans:\n",
    "        print(f'{column}: {nans}, ({round(nans/len(data), 2)*100}%)')"
   ]
  },
  {
   "cell_type": "markdown",
   "metadata": {},
   "source": [
    "<div style=\"background-color: #fff0e0; padding: 10px; font-family: monospace; font-size: 15px\">\n",
    "<br>Vehicle Type\n",
    "<br><br></div>"
   ]
  },
  {
   "cell_type": "code",
   "execution_count": 7,
   "metadata": {},
   "outputs": [
    {
     "data": {
      "text/plain": [
       "array([nan, 'coupe', 'suv', 'small', 'sedan', 'convertible', 'bus',\n",
       "       'wagon', 'other'], dtype=object)"
      ]
     },
     "execution_count": 7,
     "metadata": {},
     "output_type": "execute_result"
    }
   ],
   "source": [
    "data['VehicleType'].unique()"
   ]
  },
  {
   "cell_type": "markdown",
   "metadata": {},
   "source": [
    "<div style=\"background-color: #fff0e0; padding: 10px; font-family: monospace; font-size: 15px\">\n",
    "Здесь все достаточно просто – пропуски можно заменить на тип 'unknown', так как данные действительно неизвестны</div>"
   ]
  },
  {
   "cell_type": "code",
   "execution_count": 8,
   "metadata": {},
   "outputs": [],
   "source": [
    "data['VehicleType'] = data['VehicleType'].fillna('unknown')"
   ]
  },
  {
   "cell_type": "code",
   "execution_count": 9,
   "metadata": {},
   "outputs": [
    {
     "data": {
      "text/html": [
       "<div>\n",
       "<style scoped>\n",
       "    .dataframe tbody tr th:only-of-type {\n",
       "        vertical-align: middle;\n",
       "    }\n",
       "\n",
       "    .dataframe tbody tr th {\n",
       "        vertical-align: top;\n",
       "    }\n",
       "\n",
       "    .dataframe thead th {\n",
       "        text-align: right;\n",
       "    }\n",
       "</style>\n",
       "<table border=\"1\" class=\"dataframe\">\n",
       "  <thead>\n",
       "    <tr style=\"text-align: right;\">\n",
       "      <th></th>\n",
       "      <th>Price</th>\n",
       "      <th>VehicleType</th>\n",
       "      <th>RegistrationYear</th>\n",
       "      <th>Gearbox</th>\n",
       "      <th>Power</th>\n",
       "      <th>Model</th>\n",
       "      <th>Kilometer</th>\n",
       "      <th>FuelType</th>\n",
       "      <th>Brand</th>\n",
       "      <th>NotRepaired</th>\n",
       "      <th>NumberOfPictures</th>\n",
       "    </tr>\n",
       "  </thead>\n",
       "  <tbody>\n",
       "  </tbody>\n",
       "</table>\n",
       "</div>"
      ],
      "text/plain": [
       "Empty DataFrame\n",
       "Columns: [Price, VehicleType, RegistrationYear, Gearbox, Power, Model, Kilometer, FuelType, Brand, NotRepaired, NumberOfPictures]\n",
       "Index: []"
      ]
     },
     "execution_count": 9,
     "metadata": {},
     "output_type": "execute_result"
    }
   ],
   "source": [
    "data[data['VehicleType'].isna()]"
   ]
  },
  {
   "cell_type": "markdown",
   "metadata": {},
   "source": [
    "<div style=\"background-color: #fff0e0; padding: 10px; font-family: monospace; font-size: 15px\">\n",
    "<br>Gearbox\n",
    "<br><br></div>"
   ]
  },
  {
   "cell_type": "code",
   "execution_count": 10,
   "metadata": {},
   "outputs": [
    {
     "data": {
      "text/plain": [
       "array(['manual', 'auto', nan], dtype=object)"
      ]
     },
     "execution_count": 10,
     "metadata": {},
     "output_type": "execute_result"
    }
   ],
   "source": [
    "data['Gearbox'].unique()"
   ]
  },
  {
   "cell_type": "markdown",
   "metadata": {},
   "source": [
    "<div style=\"background-color: #fff0e0; padding: 10px; font-family: monospace; font-size: 15px\">\n",
    "Здесь, скорее всего, придется поступить тем же образом – заменить данные на 'unknown', но коробка, конечно, очень важна для оценки стоимости автомобиля</div>"
   ]
  },
  {
   "cell_type": "code",
   "execution_count": 11,
   "metadata": {},
   "outputs": [],
   "source": [
    "data['Gearbox'] = data['Gearbox'].fillna('unknown')"
   ]
  },
  {
   "cell_type": "code",
   "execution_count": 12,
   "metadata": {},
   "outputs": [
    {
     "data": {
      "text/html": [
       "<div>\n",
       "<style scoped>\n",
       "    .dataframe tbody tr th:only-of-type {\n",
       "        vertical-align: middle;\n",
       "    }\n",
       "\n",
       "    .dataframe tbody tr th {\n",
       "        vertical-align: top;\n",
       "    }\n",
       "\n",
       "    .dataframe thead th {\n",
       "        text-align: right;\n",
       "    }\n",
       "</style>\n",
       "<table border=\"1\" class=\"dataframe\">\n",
       "  <thead>\n",
       "    <tr style=\"text-align: right;\">\n",
       "      <th></th>\n",
       "      <th>Price</th>\n",
       "      <th>VehicleType</th>\n",
       "      <th>RegistrationYear</th>\n",
       "      <th>Gearbox</th>\n",
       "      <th>Power</th>\n",
       "      <th>Model</th>\n",
       "      <th>Kilometer</th>\n",
       "      <th>FuelType</th>\n",
       "      <th>Brand</th>\n",
       "      <th>NotRepaired</th>\n",
       "      <th>NumberOfPictures</th>\n",
       "    </tr>\n",
       "  </thead>\n",
       "  <tbody>\n",
       "  </tbody>\n",
       "</table>\n",
       "</div>"
      ],
      "text/plain": [
       "Empty DataFrame\n",
       "Columns: [Price, VehicleType, RegistrationYear, Gearbox, Power, Model, Kilometer, FuelType, Brand, NotRepaired, NumberOfPictures]\n",
       "Index: []"
      ]
     },
     "execution_count": 12,
     "metadata": {},
     "output_type": "execute_result"
    }
   ],
   "source": [
    "data[data['Gearbox'].isna()]"
   ]
  },
  {
   "cell_type": "markdown",
   "metadata": {},
   "source": [
    "<div style=\"background-color: #fff0e0; padding: 10px; font-family: monospace; font-size: 15px\">\n",
    "<br>Model\n",
    "<br><br></div>"
   ]
  },
  {
   "cell_type": "code",
   "execution_count": 13,
   "metadata": {},
   "outputs": [
    {
     "data": {
      "text/plain": [
       "250"
      ]
     },
     "execution_count": 13,
     "metadata": {},
     "output_type": "execute_result"
    }
   ],
   "source": [
    "data['Model'].nunique()"
   ]
  },
  {
   "cell_type": "markdown",
   "metadata": {},
   "source": [
    "<div style=\"background-color: #fff0e0; padding: 10px; font-family: monospace; font-size: 15px\">\n",
    "250 уникальных показателей, и, скорее всего, такая же методика обработки</div>"
   ]
  },
  {
   "cell_type": "code",
   "execution_count": 14,
   "metadata": {},
   "outputs": [],
   "source": [
    "data['Model'] = data['Model'].fillna('unknown')"
   ]
  },
  {
   "cell_type": "code",
   "execution_count": 15,
   "metadata": {},
   "outputs": [
    {
     "data": {
      "text/html": [
       "<div>\n",
       "<style scoped>\n",
       "    .dataframe tbody tr th:only-of-type {\n",
       "        vertical-align: middle;\n",
       "    }\n",
       "\n",
       "    .dataframe tbody tr th {\n",
       "        vertical-align: top;\n",
       "    }\n",
       "\n",
       "    .dataframe thead th {\n",
       "        text-align: right;\n",
       "    }\n",
       "</style>\n",
       "<table border=\"1\" class=\"dataframe\">\n",
       "  <thead>\n",
       "    <tr style=\"text-align: right;\">\n",
       "      <th></th>\n",
       "      <th>Price</th>\n",
       "      <th>VehicleType</th>\n",
       "      <th>RegistrationYear</th>\n",
       "      <th>Gearbox</th>\n",
       "      <th>Power</th>\n",
       "      <th>Model</th>\n",
       "      <th>Kilometer</th>\n",
       "      <th>FuelType</th>\n",
       "      <th>Brand</th>\n",
       "      <th>NotRepaired</th>\n",
       "      <th>NumberOfPictures</th>\n",
       "    </tr>\n",
       "  </thead>\n",
       "  <tbody>\n",
       "  </tbody>\n",
       "</table>\n",
       "</div>"
      ],
      "text/plain": [
       "Empty DataFrame\n",
       "Columns: [Price, VehicleType, RegistrationYear, Gearbox, Power, Model, Kilometer, FuelType, Brand, NotRepaired, NumberOfPictures]\n",
       "Index: []"
      ]
     },
     "execution_count": 15,
     "metadata": {},
     "output_type": "execute_result"
    }
   ],
   "source": [
    "data[data['Model'].isna()]"
   ]
  },
  {
   "cell_type": "markdown",
   "metadata": {},
   "source": [
    "<div style=\"background-color: #fff0e0; padding: 10px; font-family: monospace; font-size: 15px\">\n",
    "<br>FuelType\n",
    "<br><br></div>"
   ]
  },
  {
   "cell_type": "code",
   "execution_count": 16,
   "metadata": {},
   "outputs": [
    {
     "data": {
      "text/plain": [
       "array(['petrol', 'gasoline', nan, 'lpg', 'other', 'hybrid', 'cng',\n",
       "       'electric'], dtype=object)"
      ]
     },
     "execution_count": 16,
     "metadata": {},
     "output_type": "execute_result"
    }
   ],
   "source": [
    "data['FuelType'].unique()"
   ]
  },
  {
   "cell_type": "markdown",
   "metadata": {},
   "source": [
    "<div style=\"background-color: #fff0e0; padding: 10px; font-family: monospace; font-size: 15px\">\n",
    "Отработанными движениями заменяем неизвестные</div>"
   ]
  },
  {
   "cell_type": "code",
   "execution_count": 17,
   "metadata": {},
   "outputs": [],
   "source": [
    "data['FuelType'] = data['FuelType'].fillna('unknown')"
   ]
  },
  {
   "cell_type": "code",
   "execution_count": 18,
   "metadata": {},
   "outputs": [
    {
     "data": {
      "text/html": [
       "<div>\n",
       "<style scoped>\n",
       "    .dataframe tbody tr th:only-of-type {\n",
       "        vertical-align: middle;\n",
       "    }\n",
       "\n",
       "    .dataframe tbody tr th {\n",
       "        vertical-align: top;\n",
       "    }\n",
       "\n",
       "    .dataframe thead th {\n",
       "        text-align: right;\n",
       "    }\n",
       "</style>\n",
       "<table border=\"1\" class=\"dataframe\">\n",
       "  <thead>\n",
       "    <tr style=\"text-align: right;\">\n",
       "      <th></th>\n",
       "      <th>Price</th>\n",
       "      <th>VehicleType</th>\n",
       "      <th>RegistrationYear</th>\n",
       "      <th>Gearbox</th>\n",
       "      <th>Power</th>\n",
       "      <th>Model</th>\n",
       "      <th>Kilometer</th>\n",
       "      <th>FuelType</th>\n",
       "      <th>Brand</th>\n",
       "      <th>NotRepaired</th>\n",
       "      <th>NumberOfPictures</th>\n",
       "    </tr>\n",
       "  </thead>\n",
       "  <tbody>\n",
       "  </tbody>\n",
       "</table>\n",
       "</div>"
      ],
      "text/plain": [
       "Empty DataFrame\n",
       "Columns: [Price, VehicleType, RegistrationYear, Gearbox, Power, Model, Kilometer, FuelType, Brand, NotRepaired, NumberOfPictures]\n",
       "Index: []"
      ]
     },
     "execution_count": 18,
     "metadata": {},
     "output_type": "execute_result"
    }
   ],
   "source": [
    "data[data['FuelType'].isna()]"
   ]
  },
  {
   "cell_type": "markdown",
   "metadata": {},
   "source": [
    "<div style=\"background-color: #fff0e0; padding: 10px; font-family: monospace; font-size: 15px\">\n",
    "<br>NotRepaired\n",
    "<br><br></div>"
   ]
  },
  {
   "cell_type": "code",
   "execution_count": 19,
   "metadata": {},
   "outputs": [
    {
     "data": {
      "text/plain": [
       "array([nan, 'yes', 'no'], dtype=object)"
      ]
     },
     "execution_count": 19,
     "metadata": {},
     "output_type": "execute_result"
    }
   ],
   "source": [
    "data['NotRepaired'].unique()"
   ]
  },
  {
   "cell_type": "markdown",
   "metadata": {},
   "source": [
    "<div style=\"background-color: #fff0e0; padding: 10px; font-family: monospace; font-size: 15px\">\n",
    "Можно предположить, что если не указана информация о восстановлении, значит, это не восстановленный автомобиль</div>"
   ]
  },
  {
   "cell_type": "code",
   "execution_count": 20,
   "metadata": {},
   "outputs": [],
   "source": [
    "data['NotRepaired'] = data['NotRepaired'].fillna('no')"
   ]
  },
  {
   "cell_type": "code",
   "execution_count": 21,
   "metadata": {},
   "outputs": [
    {
     "data": {
      "text/html": [
       "<div>\n",
       "<style scoped>\n",
       "    .dataframe tbody tr th:only-of-type {\n",
       "        vertical-align: middle;\n",
       "    }\n",
       "\n",
       "    .dataframe tbody tr th {\n",
       "        vertical-align: top;\n",
       "    }\n",
       "\n",
       "    .dataframe thead th {\n",
       "        text-align: right;\n",
       "    }\n",
       "</style>\n",
       "<table border=\"1\" class=\"dataframe\">\n",
       "  <thead>\n",
       "    <tr style=\"text-align: right;\">\n",
       "      <th></th>\n",
       "      <th>Price</th>\n",
       "      <th>VehicleType</th>\n",
       "      <th>RegistrationYear</th>\n",
       "      <th>Gearbox</th>\n",
       "      <th>Power</th>\n",
       "      <th>Model</th>\n",
       "      <th>Kilometer</th>\n",
       "      <th>FuelType</th>\n",
       "      <th>Brand</th>\n",
       "      <th>NotRepaired</th>\n",
       "      <th>NumberOfPictures</th>\n",
       "    </tr>\n",
       "  </thead>\n",
       "  <tbody>\n",
       "  </tbody>\n",
       "</table>\n",
       "</div>"
      ],
      "text/plain": [
       "Empty DataFrame\n",
       "Columns: [Price, VehicleType, RegistrationYear, Gearbox, Power, Model, Kilometer, FuelType, Brand, NotRepaired, NumberOfPictures]\n",
       "Index: []"
      ]
     },
     "execution_count": 21,
     "metadata": {},
     "output_type": "execute_result"
    }
   ],
   "source": [
    "data[data['NotRepaired'].isna()]"
   ]
  },
  {
   "cell_type": "markdown",
   "metadata": {},
   "source": [
    "<div style=\"background-color: #fff0e0; padding: 10px; font-family: monospace; font-size: 15px\">\n",
    "Перепроверка</div>"
   ]
  },
  {
   "cell_type": "code",
   "execution_count": 22,
   "metadata": {},
   "outputs": [
    {
     "name": "stdout",
     "output_type": "stream",
     "text": [
      "Количество ошибок в колонке:\n",
      "\n"
     ]
    }
   ],
   "source": [
    "print('Количество ошибок в колонке:\\n')\n",
    "for column in data.columns:\n",
    "    nans = len(data[data[column].isna()][column])\n",
    "    if nans:\n",
    "        print(f'{column}: {nans}, ({round(nans/len(data), 2)*100}%)')"
   ]
  },
  {
   "cell_type": "markdown",
   "metadata": {},
   "source": [
    "<div style=\"background-color: #fff0e0; padding: 10px; font-family: monospace; font-size: 15px\">\n",
    "Ошибок нет</div>"
   ]
  },
  {
   "cell_type": "markdown",
   "metadata": {},
   "source": [
    "<div style=\"background-color: #fff0e0; padding: 10px; font-family: monospace; font-size: 15px\">\n",
    "<br>Price\n",
    "<br><br></div>"
   ]
  },
  {
   "cell_type": "code",
   "execution_count": 23,
   "metadata": {
    "scrolled": true
   },
   "outputs": [
    {
     "name": "stdout",
     "output_type": "stream",
     "text": [
      "[  0   1   2   3   4   5   7   8   9  10  11  12  13  14  15  16  17  18\n",
      "  19  20  21  24  25  26  27  29  30  32  33  35  38  39  40  45  47  49\n",
      "  50  55  58  59  60  65  66  69  70  74  75  77  79  80  85  88  89  90\n",
      "  95  98  99 100 101 105 106 108 110 111 112 115 117 119 120 121 122 123\n",
      " 125 126 127 128 129 130 132 133 135 139 140 142 145 149 150 155 156 157\n",
      " 158 159 160 162 165 166 169 170 173 175 177 179 180 181 185 188 189 190\n",
      " 192 193 195 196 198 199 200 202 205 209 210 211 215 217 219 220 222 224\n",
      " 225 229 230 233 235 236 238 240 243 245 248 249 250 251 252 253 255 259\n",
      " 260 261 263 265 266 269 270 272 273 274 275 277 278 279 280 281 284 285\n",
      " 288 289 290 293 295 298 299 300 301 305 308 309 310 315 316 319 320 321\n",
      " 323 325 329 330 331 332 333 335 338 339 340 341 344 345 348 349 350 355\n",
      " 356 359]\n"
     ]
    }
   ],
   "source": [
    "print(data.Price.sort_values().unique()[:200])"
   ]
  },
  {
   "cell_type": "markdown",
   "metadata": {},
   "source": [
    "<div style=\"background-color: #fff0e0; padding: 10px; font-family: monospace; font-size: 15px\">\n",
    "Много цен в евро, которые слабо соответствуют ценам даже самого простого автомобиля. Слабо понятно, откуда они взялись, но можно попробовать сделать срез данных начиная с 300 евро</div>"
   ]
  },
  {
   "cell_type": "code",
   "execution_count": 24,
   "metadata": {},
   "outputs": [],
   "source": [
    "data = data[data.Price >= 300]"
   ]
  },
  {
   "cell_type": "markdown",
   "metadata": {},
   "source": [
    "<div style=\"background-color: #fff0e0; padding: 10px; font-family: monospace; font-size: 15px\">\n",
    "<br>Power\n",
    "<br><br></div>"
   ]
  },
  {
   "cell_type": "code",
   "execution_count": 25,
   "metadata": {},
   "outputs": [
    {
     "name": "stdout",
     "output_type": "stream",
     "text": [
      "[ 0  1  2  3  4  5  6  7  8  9 10 11 12 13 14 15 16 17 18 19 20 21 22 23\n",
      " 24 25 26 27 28 29 30 31 32 33 34 35 36 37 38 39]\n",
      "\n",
      "[20000 19312 19211 19208 17932 17700 17410 17019 17011 16312 16311 16051\n",
      " 16011 15033 15020 15017 15001 14009 13636 13616 12512 12510 12012 11635\n",
      " 11530 11509 11025 11011 10912 10910 10710 10522 10520 10311 10218 10110\n",
      " 10000  9013  9012  9011]\n"
     ]
    }
   ],
   "source": [
    "print(data.Power.sort_values().unique()[:40])\n",
    "print()\n",
    "print(data.Power.sort_values(ascending=False).unique()[:40])"
   ]
  },
  {
   "cell_type": "markdown",
   "metadata": {},
   "source": [
    "<div style=\"background-color: #fff0e0; padding: 10px; font-family: monospace; font-size: 15px\">\n",
    "Очень странные показатели л.с. Можно оставить от 80 (малолитражки) до 400 (спорткары и премиум), большинство из остальных (даже если мощность реальная) все равно ценой слабо коррелируют со своими показателями</div>"
   ]
  },
  {
   "cell_type": "code",
   "execution_count": 26,
   "metadata": {},
   "outputs": [],
   "source": [
    "data = data[(data.Power >= 80) & (data.Power <= 400)]"
   ]
  },
  {
   "cell_type": "markdown",
   "metadata": {},
   "source": [
    "<div style=\"background-color: #fff0e0; padding: 10px; font-family: monospace; font-size: 15px\">\n",
    "    <br>RegistrationYear\n",
    "<br><br></div>"
   ]
  },
  {
   "cell_type": "code",
   "execution_count": 27,
   "metadata": {},
   "outputs": [
    {
     "data": {
      "text/plain": [
       "array([1000, 1500, 1800, 1910, 1937, 1947, 1948, 1949, 1950, 1951, 1952,\n",
       "       1954, 1955, 1956, 1957, 1958, 1959, 1960, 1961, 1962, 1963, 1964,\n",
       "       1965, 1966, 1967, 1968, 1969, 1970, 1971, 1972, 1973, 1974, 1975,\n",
       "       1976, 1977, 1978, 1979, 1980, 1981, 1982, 1983, 1984, 1985, 1986,\n",
       "       1987, 1988, 1989, 1990, 1991, 1992, 1993, 1994, 1995, 1996, 1997,\n",
       "       1998, 1999, 2000, 2001, 2002, 2003, 2004, 2005, 2006, 2007, 2008,\n",
       "       2009, 2010, 2011, 2012, 2013, 2014, 2015, 2016, 2017, 2018, 2019,\n",
       "       2800, 2900, 4500, 5000, 6000, 8200, 9999])"
      ]
     },
     "execution_count": 27,
     "metadata": {},
     "output_type": "execute_result"
    }
   ],
   "source": [
    "data.RegistrationYear.sort_values().unique()"
   ]
  },
  {
   "cell_type": "markdown",
   "metadata": {},
   "source": [
    "<div style=\"background-color: #fff0e0; padding: 10px; font-family: monospace; font-size: 15px\">\n",
    "Первые три значения все равно удалять – первый автомобиль был произведен в 1886 г. \n",
    "<br><br>Остальные можно срезать, например, с 1990 – допускаем, что 30-летние автомобили вполне на ходу. Остальное, скорее всего, будет считаться раритетом для коллекции, и ценой также слабо зависеть от показателей</div>"
   ]
  },
  {
   "cell_type": "code",
   "execution_count": 28,
   "metadata": {},
   "outputs": [],
   "source": [
    "data = data[(data.RegistrationYear >= 1990) & (data.RegistrationYear <= 2022)]"
   ]
  },
  {
   "cell_type": "markdown",
   "metadata": {},
   "source": [
    "<div style=\"background-color: #fff0e0; padding: 10px; font-family: monospace; font-size: 15px\">\n",
    "Reset индексов для отсутствия ошибок (объяснено в комментарии чуть ниже, на моменте OE)</div>"
   ]
  },
  {
   "cell_type": "code",
   "execution_count": 29,
   "metadata": {},
   "outputs": [],
   "source": [
    "data = data.reset_index(drop=True)"
   ]
  },
  {
   "cell_type": "markdown",
   "metadata": {},
   "source": [
    "### 1.1.3.   Типы данных"
   ]
  },
  {
   "cell_type": "code",
   "execution_count": 30,
   "metadata": {},
   "outputs": [
    {
     "name": "stdout",
     "output_type": "stream",
     "text": [
      "<class 'pandas.core.frame.DataFrame'>\n",
      "RangeIndex: 220375 entries, 0 to 220374\n",
      "Data columns (total 11 columns):\n",
      " #   Column            Non-Null Count   Dtype \n",
      "---  ------            --------------   ----- \n",
      " 0   Price             220375 non-null  int64 \n",
      " 1   VehicleType       220375 non-null  object\n",
      " 2   RegistrationYear  220375 non-null  int64 \n",
      " 3   Gearbox           220375 non-null  object\n",
      " 4   Power             220375 non-null  int64 \n",
      " 5   Model             220375 non-null  object\n",
      " 6   Kilometer         220375 non-null  int64 \n",
      " 7   FuelType          220375 non-null  object\n",
      " 8   Brand             220375 non-null  object\n",
      " 9   NotRepaired       220375 non-null  object\n",
      " 10  NumberOfPictures  220375 non-null  int64 \n",
      "dtypes: int64(5), object(6)\n",
      "memory usage: 18.5+ MB\n"
     ]
    }
   ],
   "source": [
    "data.info()"
   ]
  },
  {
   "cell_type": "markdown",
   "metadata": {},
   "source": [
    "<div style=\"background-color: #fff0e0; padding: 10px; font-family: monospace; font-size: 15px\">\n",
    "Посмотрим на количества уникальных значений в объектах (будем брать значение на 1 меньше, так как при OneHot можно выбросить первую колонку)</div>"
   ]
  },
  {
   "cell_type": "code",
   "execution_count": 31,
   "metadata": {},
   "outputs": [
    {
     "name": "stdout",
     "output_type": "stream",
     "text": [
      "Количество уникальных значений:\n",
      "\n",
      "VehicleType: 8\n",
      "Gearbox: 2\n",
      "Model: 241\n",
      "FuelType: 7\n",
      "Brand: 38\n",
      "NotRepaired: 1\n"
     ]
    }
   ],
   "source": [
    "print('Количество уникальных значений:\\n')\n",
    "for column in data.columns:\n",
    "    if data[column].dtype == 'object':\n",
    "        print(f'{column}: {data[column].nunique()-1}')"
   ]
  },
  {
   "cell_type": "markdown",
   "metadata": {},
   "source": [
    "<div style=\"background-color: #fff0e0; padding: 10px; font-family: monospace; font-size: 15px\">\n",
    "Столбцы Gearbox и NotRepaired точно подходят под OneHot, так как добавится лишь 3 новых столбца (при условии, что GearBox не будет пополняться новыми значениями), а остальные выгоднее декодировать в числа внутри столбца, так как ни 8, ни 250 новых колонок нет необходимости создавать</div>"
   ]
  },
  {
   "cell_type": "markdown",
   "metadata": {},
   "source": [
    "<div style=\"background-color: #fff0e0; padding: 10px; font-family: monospace; font-size: 15px\">\n",
    "<br>OHE\n",
    "<br><br></div>"
   ]
  },
  {
   "cell_type": "code",
   "execution_count": 32,
   "metadata": {},
   "outputs": [],
   "source": [
    "# перезаписываем data\n",
    "data = (pd\n",
    "        # добавляем новые столбцы OHE\n",
    "        .concat([data, pd.get_dummies(data[['Gearbox', 'NotRepaired']], \n",
    "                                      # выбрасываем первый\n",
    "                                      drop_first=True)], axis=1)\n",
    "        # удаляем старые\n",
    "        .drop(['Gearbox', 'NotRepaired'], axis=1))"
   ]
  },
  {
   "cell_type": "code",
   "execution_count": 33,
   "metadata": {},
   "outputs": [
    {
     "data": {
      "text/html": [
       "<div>\n",
       "<style scoped>\n",
       "    .dataframe tbody tr th:only-of-type {\n",
       "        vertical-align: middle;\n",
       "    }\n",
       "\n",
       "    .dataframe tbody tr th {\n",
       "        vertical-align: top;\n",
       "    }\n",
       "\n",
       "    .dataframe thead th {\n",
       "        text-align: right;\n",
       "    }\n",
       "</style>\n",
       "<table border=\"1\" class=\"dataframe\">\n",
       "  <thead>\n",
       "    <tr style=\"text-align: right;\">\n",
       "      <th></th>\n",
       "      <th>Price</th>\n",
       "      <th>VehicleType</th>\n",
       "      <th>RegistrationYear</th>\n",
       "      <th>Power</th>\n",
       "      <th>Model</th>\n",
       "      <th>Kilometer</th>\n",
       "      <th>FuelType</th>\n",
       "      <th>Brand</th>\n",
       "      <th>NumberOfPictures</th>\n",
       "      <th>Gearbox_manual</th>\n",
       "      <th>Gearbox_unknown</th>\n",
       "      <th>NotRepaired_yes</th>\n",
       "    </tr>\n",
       "  </thead>\n",
       "  <tbody>\n",
       "    <tr>\n",
       "      <th>0</th>\n",
       "      <td>18300</td>\n",
       "      <td>coupe</td>\n",
       "      <td>2011</td>\n",
       "      <td>190</td>\n",
       "      <td>unknown</td>\n",
       "      <td>125000</td>\n",
       "      <td>gasoline</td>\n",
       "      <td>audi</td>\n",
       "      <td>0</td>\n",
       "      <td>1</td>\n",
       "      <td>0</td>\n",
       "      <td>1</td>\n",
       "    </tr>\n",
       "    <tr>\n",
       "      <th>1</th>\n",
       "      <td>9800</td>\n",
       "      <td>suv</td>\n",
       "      <td>2004</td>\n",
       "      <td>163</td>\n",
       "      <td>grand</td>\n",
       "      <td>125000</td>\n",
       "      <td>gasoline</td>\n",
       "      <td>jeep</td>\n",
       "      <td>0</td>\n",
       "      <td>0</td>\n",
       "      <td>0</td>\n",
       "      <td>0</td>\n",
       "    </tr>\n",
       "    <tr>\n",
       "      <th>2</th>\n",
       "      <td>650</td>\n",
       "      <td>sedan</td>\n",
       "      <td>1995</td>\n",
       "      <td>102</td>\n",
       "      <td>3er</td>\n",
       "      <td>150000</td>\n",
       "      <td>petrol</td>\n",
       "      <td>bmw</td>\n",
       "      <td>0</td>\n",
       "      <td>1</td>\n",
       "      <td>0</td>\n",
       "      <td>1</td>\n",
       "    </tr>\n",
       "    <tr>\n",
       "      <th>3</th>\n",
       "      <td>2200</td>\n",
       "      <td>convertible</td>\n",
       "      <td>2004</td>\n",
       "      <td>109</td>\n",
       "      <td>2_reihe</td>\n",
       "      <td>150000</td>\n",
       "      <td>petrol</td>\n",
       "      <td>peugeot</td>\n",
       "      <td>0</td>\n",
       "      <td>1</td>\n",
       "      <td>0</td>\n",
       "      <td>0</td>\n",
       "    </tr>\n",
       "    <tr>\n",
       "      <th>4</th>\n",
       "      <td>14500</td>\n",
       "      <td>bus</td>\n",
       "      <td>2014</td>\n",
       "      <td>125</td>\n",
       "      <td>c_max</td>\n",
       "      <td>30000</td>\n",
       "      <td>petrol</td>\n",
       "      <td>ford</td>\n",
       "      <td>0</td>\n",
       "      <td>1</td>\n",
       "      <td>0</td>\n",
       "      <td>0</td>\n",
       "    </tr>\n",
       "  </tbody>\n",
       "</table>\n",
       "</div>"
      ],
      "text/plain": [
       "   Price  VehicleType  RegistrationYear  Power    Model  Kilometer  FuelType  \\\n",
       "0  18300        coupe              2011    190  unknown     125000  gasoline   \n",
       "1   9800          suv              2004    163    grand     125000  gasoline   \n",
       "2    650        sedan              1995    102      3er     150000    petrol   \n",
       "3   2200  convertible              2004    109  2_reihe     150000    petrol   \n",
       "4  14500          bus              2014    125    c_max      30000    petrol   \n",
       "\n",
       "     Brand  NumberOfPictures  Gearbox_manual  Gearbox_unknown  NotRepaired_yes  \n",
       "0     audi                 0               1                0                1  \n",
       "1     jeep                 0               0                0                0  \n",
       "2      bmw                 0               1                0                1  \n",
       "3  peugeot                 0               1                0                0  \n",
       "4     ford                 0               1                0                0  "
      ]
     },
     "execution_count": 33,
     "metadata": {},
     "output_type": "execute_result"
    }
   ],
   "source": [
    "data.head()"
   ]
  },
  {
   "cell_type": "markdown",
   "metadata": {},
   "source": [
    "<div style=\"background-color: #fff0e0; padding: 10px; font-family: monospace; font-size: 15px\">\n",
    "<br>Ordinal\n",
    "<br><br></div>"
   ]
  },
  {
   "cell_type": "code",
   "execution_count": 34,
   "metadata": {},
   "outputs": [],
   "source": [
    "encoder = OrdinalEncoder()"
   ]
  },
  {
   "cell_type": "code",
   "execution_count": 35,
   "metadata": {},
   "outputs": [
    {
     "data": {
      "text/plain": [
       "OrdinalEncoder()"
      ]
     },
     "execution_count": 35,
     "metadata": {},
     "output_type": "execute_result"
    }
   ],
   "source": [
    "encoder.fit(data[['VehicleType', 'Model', 'FuelType', 'Brand']])"
   ]
  },
  {
   "cell_type": "code",
   "execution_count": 36,
   "metadata": {},
   "outputs": [],
   "source": [
    "ordinal_data = pd.DataFrame(encoder.transform(data[['VehicleType', 'Model', 'FuelType', 'Brand']]), \n",
    "                            columns=['VehicleType', 'Model', 'FuelType', 'Brand'])"
   ]
  },
  {
   "cell_type": "code",
   "execution_count": 37,
   "metadata": {},
   "outputs": [
    {
     "data": {
      "text/html": [
       "<div>\n",
       "<style scoped>\n",
       "    .dataframe tbody tr th:only-of-type {\n",
       "        vertical-align: middle;\n",
       "    }\n",
       "\n",
       "    .dataframe tbody tr th {\n",
       "        vertical-align: top;\n",
       "    }\n",
       "\n",
       "    .dataframe thead th {\n",
       "        text-align: right;\n",
       "    }\n",
       "</style>\n",
       "<table border=\"1\" class=\"dataframe\">\n",
       "  <thead>\n",
       "    <tr style=\"text-align: right;\">\n",
       "      <th></th>\n",
       "      <th>VehicleType</th>\n",
       "      <th>Model</th>\n",
       "      <th>FuelType</th>\n",
       "      <th>Brand</th>\n",
       "    </tr>\n",
       "  </thead>\n",
       "  <tbody>\n",
       "    <tr>\n",
       "      <th>0</th>\n",
       "      <td>2.0</td>\n",
       "      <td>219.0</td>\n",
       "      <td>2.0</td>\n",
       "      <td>1.0</td>\n",
       "    </tr>\n",
       "    <tr>\n",
       "      <th>1</th>\n",
       "      <td>6.0</td>\n",
       "      <td>114.0</td>\n",
       "      <td>2.0</td>\n",
       "      <td>14.0</td>\n",
       "    </tr>\n",
       "    <tr>\n",
       "      <th>2</th>\n",
       "      <td>4.0</td>\n",
       "      <td>11.0</td>\n",
       "      <td>6.0</td>\n",
       "      <td>2.0</td>\n",
       "    </tr>\n",
       "    <tr>\n",
       "      <th>3</th>\n",
       "      <td>1.0</td>\n",
       "      <td>8.0</td>\n",
       "      <td>6.0</td>\n",
       "      <td>25.0</td>\n",
       "    </tr>\n",
       "    <tr>\n",
       "      <th>4</th>\n",
       "      <td>0.0</td>\n",
       "      <td>59.0</td>\n",
       "      <td>6.0</td>\n",
       "      <td>10.0</td>\n",
       "    </tr>\n",
       "  </tbody>\n",
       "</table>\n",
       "</div>"
      ],
      "text/plain": [
       "   VehicleType  Model  FuelType  Brand\n",
       "0          2.0  219.0       2.0    1.0\n",
       "1          6.0  114.0       2.0   14.0\n",
       "2          4.0   11.0       6.0    2.0\n",
       "3          1.0    8.0       6.0   25.0\n",
       "4          0.0   59.0       6.0   10.0"
      ]
     },
     "execution_count": 37,
     "metadata": {},
     "output_type": "execute_result"
    }
   ],
   "source": [
    "ordinal_data.head()"
   ]
  },
  {
   "cell_type": "markdown",
   "metadata": {},
   "source": [
    "<div style=\"background-color: #fff0e0; padding: 10px; font-family: monospace; font-size: 15px\">\n",
    "Похоже на то, что нам необходимо</div>"
   ]
  },
  {
   "cell_type": "code",
   "execution_count": 38,
   "metadata": {},
   "outputs": [],
   "source": [
    "data[['VehicleType', 'Model', 'FuelType', 'Brand']] = ordinal_data"
   ]
  },
  {
   "cell_type": "code",
   "execution_count": 39,
   "metadata": {},
   "outputs": [
    {
     "data": {
      "text/html": [
       "<div>\n",
       "<style scoped>\n",
       "    .dataframe tbody tr th:only-of-type {\n",
       "        vertical-align: middle;\n",
       "    }\n",
       "\n",
       "    .dataframe tbody tr th {\n",
       "        vertical-align: top;\n",
       "    }\n",
       "\n",
       "    .dataframe thead th {\n",
       "        text-align: right;\n",
       "    }\n",
       "</style>\n",
       "<table border=\"1\" class=\"dataframe\">\n",
       "  <thead>\n",
       "    <tr style=\"text-align: right;\">\n",
       "      <th></th>\n",
       "      <th>Price</th>\n",
       "      <th>VehicleType</th>\n",
       "      <th>RegistrationYear</th>\n",
       "      <th>Power</th>\n",
       "      <th>Model</th>\n",
       "      <th>Kilometer</th>\n",
       "      <th>FuelType</th>\n",
       "      <th>Brand</th>\n",
       "      <th>NumberOfPictures</th>\n",
       "      <th>Gearbox_manual</th>\n",
       "      <th>Gearbox_unknown</th>\n",
       "      <th>NotRepaired_yes</th>\n",
       "    </tr>\n",
       "  </thead>\n",
       "  <tbody>\n",
       "    <tr>\n",
       "      <th>0</th>\n",
       "      <td>18300</td>\n",
       "      <td>2.0</td>\n",
       "      <td>2011</td>\n",
       "      <td>190</td>\n",
       "      <td>219.0</td>\n",
       "      <td>125000</td>\n",
       "      <td>2.0</td>\n",
       "      <td>1.0</td>\n",
       "      <td>0</td>\n",
       "      <td>1</td>\n",
       "      <td>0</td>\n",
       "      <td>1</td>\n",
       "    </tr>\n",
       "    <tr>\n",
       "      <th>1</th>\n",
       "      <td>9800</td>\n",
       "      <td>6.0</td>\n",
       "      <td>2004</td>\n",
       "      <td>163</td>\n",
       "      <td>114.0</td>\n",
       "      <td>125000</td>\n",
       "      <td>2.0</td>\n",
       "      <td>14.0</td>\n",
       "      <td>0</td>\n",
       "      <td>0</td>\n",
       "      <td>0</td>\n",
       "      <td>0</td>\n",
       "    </tr>\n",
       "    <tr>\n",
       "      <th>2</th>\n",
       "      <td>650</td>\n",
       "      <td>4.0</td>\n",
       "      <td>1995</td>\n",
       "      <td>102</td>\n",
       "      <td>11.0</td>\n",
       "      <td>150000</td>\n",
       "      <td>6.0</td>\n",
       "      <td>2.0</td>\n",
       "      <td>0</td>\n",
       "      <td>1</td>\n",
       "      <td>0</td>\n",
       "      <td>1</td>\n",
       "    </tr>\n",
       "    <tr>\n",
       "      <th>3</th>\n",
       "      <td>2200</td>\n",
       "      <td>1.0</td>\n",
       "      <td>2004</td>\n",
       "      <td>109</td>\n",
       "      <td>8.0</td>\n",
       "      <td>150000</td>\n",
       "      <td>6.0</td>\n",
       "      <td>25.0</td>\n",
       "      <td>0</td>\n",
       "      <td>1</td>\n",
       "      <td>0</td>\n",
       "      <td>0</td>\n",
       "    </tr>\n",
       "    <tr>\n",
       "      <th>4</th>\n",
       "      <td>14500</td>\n",
       "      <td>0.0</td>\n",
       "      <td>2014</td>\n",
       "      <td>125</td>\n",
       "      <td>59.0</td>\n",
       "      <td>30000</td>\n",
       "      <td>6.0</td>\n",
       "      <td>10.0</td>\n",
       "      <td>0</td>\n",
       "      <td>1</td>\n",
       "      <td>0</td>\n",
       "      <td>0</td>\n",
       "    </tr>\n",
       "  </tbody>\n",
       "</table>\n",
       "</div>"
      ],
      "text/plain": [
       "   Price  VehicleType  RegistrationYear  Power  Model  Kilometer  FuelType  \\\n",
       "0  18300          2.0              2011    190  219.0     125000       2.0   \n",
       "1   9800          6.0              2004    163  114.0     125000       2.0   \n",
       "2    650          4.0              1995    102   11.0     150000       6.0   \n",
       "3   2200          1.0              2004    109    8.0     150000       6.0   \n",
       "4  14500          0.0              2014    125   59.0      30000       6.0   \n",
       "\n",
       "   Brand  NumberOfPictures  Gearbox_manual  Gearbox_unknown  NotRepaired_yes  \n",
       "0    1.0                 0               1                0                1  \n",
       "1   14.0                 0               0                0                0  \n",
       "2    2.0                 0               1                0                1  \n",
       "3   25.0                 0               1                0                0  \n",
       "4   10.0                 0               1                0                0  "
      ]
     },
     "execution_count": 39,
     "metadata": {},
     "output_type": "execute_result"
    }
   ],
   "source": [
    "data.head()"
   ]
  },
  {
   "cell_type": "code",
   "execution_count": 40,
   "metadata": {},
   "outputs": [
    {
     "name": "stdout",
     "output_type": "stream",
     "text": [
      "<class 'pandas.core.frame.DataFrame'>\n",
      "RangeIndex: 220375 entries, 0 to 220374\n",
      "Data columns (total 12 columns):\n",
      " #   Column            Non-Null Count   Dtype  \n",
      "---  ------            --------------   -----  \n",
      " 0   Price             220375 non-null  int64  \n",
      " 1   VehicleType       220375 non-null  float64\n",
      " 2   RegistrationYear  220375 non-null  int64  \n",
      " 3   Power             220375 non-null  int64  \n",
      " 4   Model             220375 non-null  float64\n",
      " 5   Kilometer         220375 non-null  int64  \n",
      " 6   FuelType          220375 non-null  float64\n",
      " 7   Brand             220375 non-null  float64\n",
      " 8   NumberOfPictures  220375 non-null  int64  \n",
      " 9   Gearbox_manual    220375 non-null  uint8  \n",
      " 10  Gearbox_unknown   220375 non-null  uint8  \n",
      " 11  NotRepaired_yes   220375 non-null  uint8  \n",
      "dtypes: float64(4), int64(5), uint8(3)\n",
      "memory usage: 15.8 MB\n"
     ]
    }
   ],
   "source": [
    "data.info()"
   ]
  },
  {
   "cell_type": "markdown",
   "metadata": {},
   "source": [
    "## 1.2.   Обучение моделей"
   ]
  },
  {
   "cell_type": "markdown",
   "metadata": {},
   "source": [
    "### 1.2.1.   Разделение данных"
   ]
  },
  {
   "cell_type": "markdown",
   "metadata": {},
   "source": [
    "<div style=\"background-color: #fff0e0; padding: 10px; font-family: monospace; font-size: 15px\">\n",
    "Разделим данные на тренировочную и валидационную части</div>"
   ]
  },
  {
   "cell_type": "code",
   "execution_count": 41,
   "metadata": {},
   "outputs": [],
   "source": [
    "Features = data.drop('Price', axis=1)\n",
    "Target = data['Price']"
   ]
  },
  {
   "cell_type": "code",
   "execution_count": 42,
   "metadata": {},
   "outputs": [],
   "source": [
    "features_train, features_valid_test, target_train, target_valid_test = train_test_split(Features, Target, \n",
    "                                                                            test_size=0.4, \n",
    "                                                                            random_state=12345)"
   ]
  },
  {
   "cell_type": "code",
   "execution_count": 43,
   "metadata": {},
   "outputs": [],
   "source": [
    "features_valid, features_test, target_valid, target_test = train_test_split(features_valid_test, target_valid_test, \n",
    "                                                                            test_size=0.5, \n",
    "                                                                            random_state=12345)"
   ]
  },
  {
   "cell_type": "code",
   "execution_count": 44,
   "metadata": {},
   "outputs": [
    {
     "name": "stdout",
     "output_type": "stream",
     "text": [
      "(132225, 11) (132225,)\n",
      "(44075, 11) (44075,)\n",
      "(44075, 11) (44075,)\n"
     ]
    }
   ],
   "source": [
    "print(features_train.shape, target_train.shape)\n",
    "print(features_valid.shape, target_valid.shape)\n",
    "print(features_test.shape, target_test.shape)"
   ]
  },
  {
   "cell_type": "markdown",
   "metadata": {},
   "source": [
    "<div style=\"background-color: #fff0e0; padding: 10px; font-family: monospace; font-size: 15px\">\n",
    "Размеры совпадают, можно обучать</div>"
   ]
  },
  {
   "cell_type": "markdown",
   "metadata": {},
   "source": [
    "### 1.2.2.   LinearRegression"
   ]
  },
  {
   "cell_type": "markdown",
   "metadata": {},
   "source": [
    "<div style=\"background-color: #fff0e0; padding: 10px; font-family: monospace; font-size: 15px\">\n",
    "Обучим сначала обычную линейную регрессию</div>"
   ]
  },
  {
   "cell_type": "code",
   "execution_count": 45,
   "metadata": {},
   "outputs": [],
   "source": [
    "linear_model = LinearRegression()"
   ]
  },
  {
   "cell_type": "code",
   "execution_count": 46,
   "metadata": {},
   "outputs": [
    {
     "name": "stdout",
     "output_type": "stream",
     "text": [
      "CPU times: user 42.8 ms, sys: 27.7 ms, total: 70.5 ms\n",
      "Wall time: 52 ms\n"
     ]
    },
    {
     "data": {
      "text/plain": [
       "LinearRegression()"
      ]
     },
     "execution_count": 46,
     "metadata": {},
     "output_type": "execute_result"
    }
   ],
   "source": [
    "%%time\n",
    "linear_model.fit(features_train, target_train)"
   ]
  },
  {
   "cell_type": "code",
   "execution_count": 47,
   "metadata": {},
   "outputs": [],
   "source": [
    "predicted = linear_model.predict(features_valid)"
   ]
  },
  {
   "cell_type": "code",
   "execution_count": 48,
   "metadata": {},
   "outputs": [
    {
     "data": {
      "text/plain": [
       "2921.638862562086"
      ]
     },
     "execution_count": 48,
     "metadata": {},
     "output_type": "execute_result"
    }
   ],
   "source": [
    "mse(predicted, target_valid)**0.5"
   ]
  },
  {
   "cell_type": "markdown",
   "metadata": {},
   "source": [
    "<div style=\"background-color: #fff0e0; padding: 10px; font-family: monospace; font-size: 15px\">\n",
    "Довольно большой разброс при максимальной цене в 20000</div>"
   ]
  },
  {
   "cell_type": "markdown",
   "metadata": {},
   "source": [
    "### 1.2.4.   CatBoostRegressor"
   ]
  },
  {
   "cell_type": "code",
   "execution_count": 54,
   "metadata": {},
   "outputs": [],
   "source": [
    "best_mse = None\n",
    "best_depth = None\n",
    "best_estimators = None\n",
    "i = 0\n",
    "\n",
    "for max_depth in range(14, 17):\n",
    "    for n_estimators in range(1040, 1061, 10):\n",
    "        catboost_model = CatBoostRegressor(loss_function='RMSE', \n",
    "                                           max_depth=max_depth, \n",
    "                                           n_estimators=n_estimators)\n",
    "        catboost_model.fit(features_train, target_train, verbose=0)\n",
    "        predicted = catboost_model.predict(features_valid)\n",
    "        catboost_mse = mse(predicted, target_valid)**0.5\n",
    "        if not best_mse:\n",
    "            best_mse = catboost_mse\n",
    "        elif catboost_mse < best_mse:\n",
    "            best_mse = catboost_mse\n",
    "            best_depth = max_depth\n",
    "            best_estimators = n_estimators\n",
    "        i += 1\n",
    "        print(i, end=' ... ')\n",
    "        \n",
    "print(f'\\nbest mse: {best_mse}, best depth: {best_depth}, best estimators: {best_estimators}')"
   ]
  },
  {
   "cell_type": "markdown",
   "metadata": {},
   "source": [
    "<div style=\"background-color: #fff0e0; padding: 10px; font-family: monospace; font-size: 15px\">\n",
    "Лучшие результаты:\n",
    "<br><br>- max_depth: 16 (максимальное значение)\n",
    "<br><br>- n_estimators: 1050 (чуть больше, чем стандартный)</div>"
   ]
  },
  {
   "cell_type": "markdown",
   "metadata": {},
   "source": [
    "### 1.2.5.   LGBMRegressor"
   ]
  },
  {
   "cell_type": "code",
   "execution_count": 59,
   "metadata": {},
   "outputs": [],
   "source": [
    "lightgbm_model = LGBMRegressor()"
   ]
  },
  {
   "cell_type": "code",
   "execution_count": 60,
   "metadata": {},
   "outputs": [
    {
     "name": "stdout",
     "output_type": "stream",
     "text": [
      "CPU times: user 7min 1s, sys: 3.29 s, total: 7min 4s\n",
      "Wall time: 7min 6s\n"
     ]
    },
    {
     "data": {
      "text/plain": [
       "LGBMRegressor()"
      ]
     },
     "execution_count": 60,
     "metadata": {},
     "output_type": "execute_result"
    }
   ],
   "source": [
    "%%time\n",
    "lightgbm_model.fit(features_train, target_train)"
   ]
  },
  {
   "cell_type": "code",
   "execution_count": 61,
   "metadata": {},
   "outputs": [],
   "source": [
    "predicted = lightgbm_model.predict(features_valid)\n",
    "light_mse = mse(predicted, target_valid)"
   ]
  },
  {
   "cell_type": "code",
   "execution_count": 62,
   "metadata": {},
   "outputs": [
    {
     "data": {
      "text/plain": [
       "1818.5899242247274"
      ]
     },
     "execution_count": 62,
     "metadata": {},
     "output_type": "execute_result"
    }
   ],
   "source": [
    "light_mse**0.5"
   ]
  },
  {
   "cell_type": "markdown",
   "metadata": {},
   "source": [
    "<div style=\"background-color: #fff0e0; padding: 10px; font-family: monospace; font-size: 15px\">\n",
    "RMSE повыше, но времени затрачено 7 минут</div>"
   ]
  },
  {
   "cell_type": "markdown",
   "metadata": {},
   "source": [
    "## 1.3.   Анализ моделей"
   ]
  },
  {
   "cell_type": "markdown",
   "metadata": {},
   "source": [
    "### 1.3.1.   Тренировка на тестовой выборке"
   ]
  },
  {
   "cell_type": "code",
   "execution_count": 63,
   "metadata": {},
   "outputs": [],
   "source": [
    "test_predicted = lightgbm_model.predict(features_test)\n",
    "test_light_mse = mse(test_predicted, target_test)"
   ]
  },
  {
   "cell_type": "code",
   "execution_count": 64,
   "metadata": {},
   "outputs": [
    {
     "data": {
      "text/plain": [
       "1783.2263021033582"
      ]
     },
     "execution_count": 64,
     "metadata": {},
     "output_type": "execute_result"
    }
   ],
   "source": [
    "test_light_mse**0.5"
   ]
  },
  {
   "cell_type": "markdown",
   "metadata": {},
   "source": [
    "<div style=\"background-color: #fff0e0; padding: 10px; font-family: monospace; font-size: 15px\">\n",
    "На тестовой выборке уважаемые показатели, и даже RMSE чуть ниже </div>\n",
    "\n",
    "<div style=\"background-color: #fff0e0; padding: 10px; font-family: monospace; font-size: 15px\">\n",
    "LinearRegression, конечно имеет самую высокую скорость работы, но получившийся MSE никак не соответствует ограничениям</div>\n",
    "\n",
    "<div style=\"background-color: #fff0e0; padding: 10px; font-family: monospace; font-size: 15px\">\n",
    "CatBoost показывает хороший MSE, но обучается ~39 секунд, что~ достаточно долго (учитывая, конечно, объемы данных)</div>\n",
    "\n",
    "<div style=\"background-color: #fff0e0; padding: 10px; font-family: monospace; font-size: 15px\">\n",
    "LightGBM обучается намного быстрее, однако, почти на 100 превышает RMSE CatBoost</div>\n",
    "\n",
    "<div style=\"background-color: #fff0e0; padding: 10px; font-family: monospace; font-size: 15px\">\n",
    "Фактически, сравнение можно проводить между двумя моделями бустинга, и при сопоставимом в масштабе времени, LightGBM выглядит более пригодным для данной задачи</div>"
   ]
  }
 ],
 "metadata": {
  "ExecuteTimeLog": [
   {
    "duration": 390,
    "start_time": "2022-06-30T12:35:39.879Z"
   },
   {
    "duration": 3315,
    "start_time": "2022-06-30T12:35:55.910Z"
   },
   {
    "duration": 26,
    "start_time": "2022-06-30T12:36:02.164Z"
   },
   {
    "duration": 159,
    "start_time": "2022-06-30T12:36:25.517Z"
   },
   {
    "duration": 32,
    "start_time": "2022-06-30T12:40:08.201Z"
   },
   {
    "duration": 26,
    "start_time": "2022-06-30T12:45:36.753Z"
   },
   {
    "duration": 4,
    "start_time": "2022-06-30T12:45:41.271Z"
   },
   {
    "duration": 7,
    "start_time": "2022-06-30T12:45:48.805Z"
   },
   {
    "duration": 9,
    "start_time": "2022-06-30T12:45:52.493Z"
   },
   {
    "duration": 33,
    "start_time": "2022-06-30T12:46:07.099Z"
   },
   {
    "duration": 27,
    "start_time": "2022-06-30T12:46:13.368Z"
   },
   {
    "duration": 28,
    "start_time": "2022-06-30T12:46:15.464Z"
   },
   {
    "duration": 23,
    "start_time": "2022-06-30T12:46:36.454Z"
   },
   {
    "duration": 46,
    "start_time": "2022-06-30T12:46:44.869Z"
   },
   {
    "duration": 30,
    "start_time": "2022-06-30T12:46:52.840Z"
   },
   {
    "duration": 38,
    "start_time": "2022-06-30T12:46:56.899Z"
   },
   {
    "duration": 31,
    "start_time": "2022-06-30T12:46:59.261Z"
   },
   {
    "duration": 117,
    "start_time": "2022-06-30T12:47:02.154Z"
   },
   {
    "duration": 53,
    "start_time": "2022-06-30T12:47:04.829Z"
   },
   {
    "duration": 37,
    "start_time": "2022-06-30T12:47:08.477Z"
   },
   {
    "duration": 135,
    "start_time": "2022-06-30T12:48:36.651Z"
   },
   {
    "duration": 37,
    "start_time": "2022-06-30T12:50:32.589Z"
   },
   {
    "duration": 19,
    "start_time": "2022-06-30T12:50:39.346Z"
   },
   {
    "duration": 28,
    "start_time": "2022-06-30T12:51:37.999Z"
   },
   {
    "duration": 20,
    "start_time": "2022-06-30T12:51:49.542Z"
   },
   {
    "duration": 18,
    "start_time": "2022-06-30T12:52:40.497Z"
   },
   {
    "duration": 102,
    "start_time": "2022-06-30T12:53:24.673Z"
   },
   {
    "duration": 25,
    "start_time": "2022-06-30T12:54:24.941Z"
   },
   {
    "duration": 19,
    "start_time": "2022-06-30T12:54:33.845Z"
   },
   {
    "duration": 20,
    "start_time": "2022-06-30T12:55:00.642Z"
   },
   {
    "duration": 40,
    "start_time": "2022-06-30T12:55:12.252Z"
   },
   {
    "duration": 12,
    "start_time": "2022-06-30T12:56:16.895Z"
   },
   {
    "duration": 12,
    "start_time": "2022-06-30T12:56:20.871Z"
   },
   {
    "duration": 39,
    "start_time": "2022-06-30T12:56:24.118Z"
   },
   {
    "duration": 32,
    "start_time": "2022-06-30T12:56:31.883Z"
   },
   {
    "duration": 32,
    "start_time": "2022-06-30T12:56:36.683Z"
   },
   {
    "duration": 35,
    "start_time": "2022-06-30T12:56:40.269Z"
   },
   {
    "duration": 2626,
    "start_time": "2022-06-30T12:56:44.987Z"
   },
   {
    "duration": 35,
    "start_time": "2022-06-30T12:56:59.617Z"
   },
   {
    "duration": 30,
    "start_time": "2022-06-30T12:57:24.473Z"
   },
   {
    "duration": 51,
    "start_time": "2022-06-30T12:57:28.059Z"
   },
   {
    "duration": 18,
    "start_time": "2022-06-30T12:58:32.874Z"
   },
   {
    "duration": 22,
    "start_time": "2022-06-30T12:58:41.057Z"
   },
   {
    "duration": 32,
    "start_time": "2022-06-30T12:59:07.888Z"
   },
   {
    "duration": 19,
    "start_time": "2022-06-30T12:59:10.364Z"
   },
   {
    "duration": 18,
    "start_time": "2022-06-30T12:59:37.950Z"
   },
   {
    "duration": 19,
    "start_time": "2022-06-30T12:59:40.752Z"
   },
   {
    "duration": 31,
    "start_time": "2022-06-30T13:00:03.114Z"
   },
   {
    "duration": 29,
    "start_time": "2022-06-30T13:00:07.465Z"
   },
   {
    "duration": 21,
    "start_time": "2022-06-30T13:00:53.083Z"
   },
   {
    "duration": 23,
    "start_time": "2022-06-30T13:01:00.062Z"
   },
   {
    "duration": 82,
    "start_time": "2022-06-30T13:01:15.235Z"
   },
   {
    "duration": 82,
    "start_time": "2022-06-30T13:01:50.796Z"
   },
   {
    "duration": 4,
    "start_time": "2022-06-30T13:02:49.269Z"
   },
   {
    "duration": 3,
    "start_time": "2022-06-30T13:02:55.496Z"
   },
   {
    "duration": 80,
    "start_time": "2022-06-30T13:03:28.057Z"
   },
   {
    "duration": 188,
    "start_time": "2022-06-30T13:03:40.255Z"
   },
   {
    "duration": 199,
    "start_time": "2022-06-30T13:04:10.924Z"
   },
   {
    "duration": 197,
    "start_time": "2022-06-30T13:04:29.952Z"
   },
   {
    "duration": 191,
    "start_time": "2022-06-30T13:04:41.515Z"
   },
   {
    "duration": 79,
    "start_time": "2022-06-30T13:05:05.454Z"
   },
   {
    "duration": 79,
    "start_time": "2022-06-30T13:05:17.761Z"
   },
   {
    "duration": 200,
    "start_time": "2022-06-30T13:06:09.934Z"
   },
   {
    "duration": 788,
    "start_time": "2022-06-30T13:14:48.382Z"
   },
   {
    "duration": 55,
    "start_time": "2022-06-30T13:15:55.545Z"
   },
   {
    "duration": 73,
    "start_time": "2022-06-30T13:16:00.578Z"
   },
   {
    "duration": 62,
    "start_time": "2022-06-30T13:16:11.488Z"
   },
   {
    "duration": 13,
    "start_time": "2022-06-30T13:16:28.050Z"
   },
   {
    "duration": 73,
    "start_time": "2022-06-30T13:16:36.700Z"
   },
   {
    "duration": 228,
    "start_time": "2022-06-30T13:17:02.723Z"
   },
   {
    "duration": 118,
    "start_time": "2022-06-30T13:17:25.279Z"
   },
   {
    "duration": 175,
    "start_time": "2022-06-30T13:20:00.801Z"
   },
   {
    "duration": 16,
    "start_time": "2022-06-30T13:20:03.280Z"
   },
   {
    "duration": 11,
    "start_time": "2022-06-30T13:20:15.912Z"
   },
   {
    "duration": 2,
    "start_time": "2022-06-30T13:20:57.960Z"
   },
   {
    "duration": 67,
    "start_time": "2022-06-30T13:22:30.306Z"
   },
   {
    "duration": 9,
    "start_time": "2022-06-30T13:23:05.389Z"
   },
   {
    "duration": 282,
    "start_time": "2022-06-30T13:23:10.432Z"
   },
   {
    "duration": 283,
    "start_time": "2022-06-30T13:23:33.087Z"
   },
   {
    "duration": 311,
    "start_time": "2022-06-30T13:23:48.347Z"
   },
   {
    "duration": 271,
    "start_time": "2022-06-30T13:24:24.226Z"
   },
   {
    "duration": 9,
    "start_time": "2022-06-30T13:24:29.987Z"
   },
   {
    "duration": 18,
    "start_time": "2022-06-30T13:24:50.570Z"
   },
   {
    "duration": 13,
    "start_time": "2022-06-30T13:24:53.954Z"
   },
   {
    "duration": 19,
    "start_time": "2022-06-30T13:25:08.647Z"
   },
   {
    "duration": 172,
    "start_time": "2022-06-30T13:25:44.619Z"
   },
   {
    "duration": 77,
    "start_time": "2022-06-30T13:28:22.400Z"
   },
   {
    "duration": 9,
    "start_time": "2022-06-30T13:28:51.895Z"
   },
   {
    "duration": 10,
    "start_time": "2022-06-30T13:29:00.677Z"
   },
   {
    "duration": 9,
    "start_time": "2022-06-30T13:29:08.079Z"
   },
   {
    "duration": 1027,
    "start_time": "2022-07-05T11:13:00.851Z"
   },
   {
    "duration": 1166,
    "start_time": "2022-07-05T11:13:01.880Z"
   },
   {
    "duration": 20,
    "start_time": "2022-07-05T11:13:03.047Z"
   },
   {
    "duration": 141,
    "start_time": "2022-07-05T11:13:03.069Z"
   },
   {
    "duration": 27,
    "start_time": "2022-07-05T11:13:03.212Z"
   },
   {
    "duration": 136,
    "start_time": "2022-07-05T11:13:03.241Z"
   },
   {
    "duration": 24,
    "start_time": "2022-07-05T11:13:03.378Z"
   },
   {
    "duration": 46,
    "start_time": "2022-07-05T11:13:03.404Z"
   },
   {
    "duration": 28,
    "start_time": "2022-07-05T11:13:03.452Z"
   },
   {
    "duration": 21,
    "start_time": "2022-07-05T11:13:03.482Z"
   },
   {
    "duration": 31,
    "start_time": "2022-07-05T11:13:03.505Z"
   },
   {
    "duration": 38,
    "start_time": "2022-07-05T11:13:03.537Z"
   },
   {
    "duration": 45,
    "start_time": "2022-07-05T11:13:03.576Z"
   },
   {
    "duration": 20,
    "start_time": "2022-07-05T11:13:03.624Z"
   },
   {
    "duration": 19,
    "start_time": "2022-07-05T11:13:03.646Z"
   },
   {
    "duration": 35,
    "start_time": "2022-07-05T11:13:03.667Z"
   },
   {
    "duration": 27,
    "start_time": "2022-07-05T11:13:03.704Z"
   },
   {
    "duration": 27,
    "start_time": "2022-07-05T11:13:03.733Z"
   },
   {
    "duration": 23,
    "start_time": "2022-07-05T11:13:03.761Z"
   },
   {
    "duration": 32,
    "start_time": "2022-07-05T11:13:03.785Z"
   },
   {
    "duration": 18,
    "start_time": "2022-07-05T11:13:03.819Z"
   },
   {
    "duration": 95,
    "start_time": "2022-07-05T11:13:03.839Z"
   },
   {
    "duration": 99,
    "start_time": "2022-07-05T11:13:03.936Z"
   },
   {
    "duration": 234,
    "start_time": "2022-07-05T11:13:04.037Z"
   },
   {
    "duration": 219,
    "start_time": "2022-07-05T11:13:04.273Z"
   },
   {
    "duration": 13,
    "start_time": "2022-07-05T11:13:04.494Z"
   },
   {
    "duration": 6,
    "start_time": "2022-07-05T11:13:04.509Z"
   },
   {
    "duration": 85,
    "start_time": "2022-07-05T11:13:04.517Z"
   },
   {
    "duration": 325,
    "start_time": "2022-07-05T11:13:04.604Z"
   },
   {
    "duration": 13,
    "start_time": "2022-07-05T11:13:04.931Z"
   },
   {
    "duration": 20,
    "start_time": "2022-07-05T11:13:04.946Z"
   },
   {
    "duration": 33,
    "start_time": "2022-07-05T11:13:04.968Z"
   },
   {
    "duration": 27,
    "start_time": "2022-07-05T11:13:05.003Z"
   },
   {
    "duration": 3,
    "start_time": "2022-07-05T11:15:24.412Z"
   },
   {
    "duration": 3,
    "start_time": "2022-07-05T11:18:01.528Z"
   },
   {
    "duration": 20,
    "start_time": "2022-07-05T11:18:17.148Z"
   },
   {
    "duration": 25,
    "start_time": "2022-07-05T11:18:53.332Z"
   },
   {
    "duration": 65,
    "start_time": "2022-07-05T11:19:55.619Z"
   },
   {
    "duration": 14,
    "start_time": "2022-07-05T11:20:16.391Z"
   },
   {
    "duration": 13,
    "start_time": "2022-07-05T11:20:20.050Z"
   },
   {
    "duration": 5,
    "start_time": "2022-07-05T11:20:25.386Z"
   },
   {
    "duration": 5,
    "start_time": "2022-07-05T11:20:39.126Z"
   },
   {
    "duration": 21,
    "start_time": "2022-07-05T11:21:02.750Z"
   },
   {
    "duration": 23,
    "start_time": "2022-07-05T11:21:51.317Z"
   },
   {
    "duration": 3,
    "start_time": "2022-07-05T11:22:05.995Z"
   },
   {
    "duration": 111,
    "start_time": "2022-07-05T11:22:24.416Z"
   },
   {
    "duration": 131,
    "start_time": "2022-07-05T11:22:32.691Z"
   },
   {
    "duration": 14,
    "start_time": "2022-07-05T11:22:50.590Z"
   },
   {
    "duration": 107,
    "start_time": "2022-07-05T11:23:18.447Z"
   },
   {
    "duration": 15,
    "start_time": "2022-07-05T11:23:24.593Z"
   },
   {
    "duration": 4,
    "start_time": "2022-07-05T11:23:52.786Z"
   },
   {
    "duration": 6,
    "start_time": "2022-07-05T11:24:06.945Z"
   },
   {
    "duration": 6,
    "start_time": "2022-07-05T11:24:14.852Z"
   },
   {
    "duration": 12,
    "start_time": "2022-07-05T11:25:14.241Z"
   },
   {
    "duration": 186,
    "start_time": "2022-07-05T11:25:16.998Z"
   },
   {
    "duration": 5,
    "start_time": "2022-07-05T11:26:16.033Z"
   },
   {
    "duration": 3,
    "start_time": "2022-07-05T11:27:32.048Z"
   },
   {
    "duration": 3,
    "start_time": "2022-07-05T11:27:44.727Z"
   },
   {
    "duration": 2,
    "start_time": "2022-07-05T11:27:46.731Z"
   },
   {
    "duration": 2243,
    "start_time": "2022-07-05T11:28:37.036Z"
   },
   {
    "duration": 1147,
    "start_time": "2022-07-05T11:28:39.281Z"
   },
   {
    "duration": 22,
    "start_time": "2022-07-05T11:28:40.430Z"
   },
   {
    "duration": 131,
    "start_time": "2022-07-05T11:28:40.454Z"
   },
   {
    "duration": 35,
    "start_time": "2022-07-05T11:28:40.588Z"
   },
   {
    "duration": 129,
    "start_time": "2022-07-05T11:28:40.625Z"
   },
   {
    "duration": 21,
    "start_time": "2022-07-05T11:28:40.755Z"
   },
   {
    "duration": 35,
    "start_time": "2022-07-05T11:28:40.778Z"
   },
   {
    "duration": 20,
    "start_time": "2022-07-05T11:28:40.815Z"
   },
   {
    "duration": 25,
    "start_time": "2022-07-05T11:28:40.838Z"
   },
   {
    "duration": 43,
    "start_time": "2022-07-05T11:28:40.864Z"
   },
   {
    "duration": 18,
    "start_time": "2022-07-05T11:28:40.908Z"
   },
   {
    "duration": 45,
    "start_time": "2022-07-05T11:28:40.928Z"
   },
   {
    "duration": 36,
    "start_time": "2022-07-05T11:28:40.974Z"
   },
   {
    "duration": 18,
    "start_time": "2022-07-05T11:28:41.012Z"
   },
   {
    "duration": 21,
    "start_time": "2022-07-05T11:28:41.031Z"
   },
   {
    "duration": 52,
    "start_time": "2022-07-05T11:28:41.054Z"
   },
   {
    "duration": 19,
    "start_time": "2022-07-05T11:28:41.107Z"
   },
   {
    "duration": 25,
    "start_time": "2022-07-05T11:28:41.127Z"
   },
   {
    "duration": 53,
    "start_time": "2022-07-05T11:28:41.154Z"
   },
   {
    "duration": 19,
    "start_time": "2022-07-05T11:28:41.209Z"
   },
   {
    "duration": 88,
    "start_time": "2022-07-05T11:28:41.230Z"
   },
   {
    "duration": 90,
    "start_time": "2022-07-05T11:28:41.319Z"
   },
   {
    "duration": 227,
    "start_time": "2022-07-05T11:28:41.411Z"
   },
   {
    "duration": 218,
    "start_time": "2022-07-05T11:28:41.640Z"
   },
   {
    "duration": 13,
    "start_time": "2022-07-05T11:28:41.859Z"
   },
   {
    "duration": 7,
    "start_time": "2022-07-05T11:28:41.874Z"
   },
   {
    "duration": 97,
    "start_time": "2022-07-05T11:28:41.886Z"
   },
   {
    "duration": 287,
    "start_time": "2022-07-05T11:28:41.985Z"
   },
   {
    "duration": 11,
    "start_time": "2022-07-05T11:28:42.275Z"
   },
   {
    "duration": 23,
    "start_time": "2022-07-05T11:28:42.288Z"
   },
   {
    "duration": 12,
    "start_time": "2022-07-05T11:28:42.313Z"
   },
   {
    "duration": 35,
    "start_time": "2022-07-05T11:28:42.327Z"
   },
   {
    "duration": 39,
    "start_time": "2022-07-05T11:28:42.364Z"
   },
   {
    "duration": 66,
    "start_time": "2022-07-05T11:28:42.406Z"
   },
   {
    "duration": 4,
    "start_time": "2022-07-05T11:28:42.474Z"
   },
   {
    "duration": 21,
    "start_time": "2022-07-05T11:28:42.480Z"
   },
   {
    "duration": 142,
    "start_time": "2022-07-05T11:28:42.503Z"
   },
   {
    "duration": 13,
    "start_time": "2022-07-05T11:28:42.703Z"
   },
   {
    "duration": 113,
    "start_time": "2022-07-05T11:28:42.802Z"
   },
   {
    "duration": 26,
    "start_time": "2022-07-05T11:28:42.916Z"
   },
   {
    "duration": 48,
    "start_time": "2022-07-05T11:29:24.959Z"
   },
   {
    "duration": 2044,
    "start_time": "2022-07-05T11:29:33.346Z"
   },
   {
    "duration": 1169,
    "start_time": "2022-07-05T11:29:35.392Z"
   },
   {
    "duration": 22,
    "start_time": "2022-07-05T11:29:36.562Z"
   },
   {
    "duration": 116,
    "start_time": "2022-07-05T11:29:36.587Z"
   },
   {
    "duration": 28,
    "start_time": "2022-07-05T11:29:36.705Z"
   },
   {
    "duration": 142,
    "start_time": "2022-07-05T11:29:36.736Z"
   },
   {
    "duration": 24,
    "start_time": "2022-07-05T11:29:36.880Z"
   },
   {
    "duration": 44,
    "start_time": "2022-07-05T11:29:36.907Z"
   },
   {
    "duration": 45,
    "start_time": "2022-07-05T11:29:36.953Z"
   },
   {
    "duration": 24,
    "start_time": "2022-07-05T11:29:37.001Z"
   },
   {
    "duration": 49,
    "start_time": "2022-07-05T11:29:37.027Z"
   },
   {
    "duration": 33,
    "start_time": "2022-07-05T11:29:37.078Z"
   },
   {
    "duration": 65,
    "start_time": "2022-07-05T11:29:37.114Z"
   },
   {
    "duration": 30,
    "start_time": "2022-07-05T11:29:37.181Z"
   },
   {
    "duration": 65,
    "start_time": "2022-07-05T11:29:37.212Z"
   },
   {
    "duration": 62,
    "start_time": "2022-07-05T11:29:37.279Z"
   },
   {
    "duration": 51,
    "start_time": "2022-07-05T11:29:37.343Z"
   },
   {
    "duration": 40,
    "start_time": "2022-07-05T11:29:37.395Z"
   },
   {
    "duration": 37,
    "start_time": "2022-07-05T11:29:37.437Z"
   },
   {
    "duration": 66,
    "start_time": "2022-07-05T11:29:37.476Z"
   },
   {
    "duration": 37,
    "start_time": "2022-07-05T11:29:37.544Z"
   },
   {
    "duration": 99,
    "start_time": "2022-07-05T11:29:37.583Z"
   },
   {
    "duration": 77,
    "start_time": "2022-07-05T11:29:37.684Z"
   },
   {
    "duration": 193,
    "start_time": "2022-07-05T11:29:37.762Z"
   },
   {
    "duration": 190,
    "start_time": "2022-07-05T11:29:37.957Z"
   },
   {
    "duration": 12,
    "start_time": "2022-07-05T11:29:38.148Z"
   },
   {
    "duration": 38,
    "start_time": "2022-07-05T11:29:38.162Z"
   },
   {
    "duration": 75,
    "start_time": "2022-07-05T11:29:38.203Z"
   },
   {
    "duration": 296,
    "start_time": "2022-07-05T11:29:38.280Z"
   },
   {
    "duration": 11,
    "start_time": "2022-07-05T11:29:38.577Z"
   },
   {
    "duration": 33,
    "start_time": "2022-07-05T11:29:38.590Z"
   },
   {
    "duration": 13,
    "start_time": "2022-07-05T11:29:38.625Z"
   },
   {
    "duration": 22,
    "start_time": "2022-07-05T11:29:38.640Z"
   },
   {
    "duration": 40,
    "start_time": "2022-07-05T11:29:38.664Z"
   },
   {
    "duration": 66,
    "start_time": "2022-07-05T11:29:38.705Z"
   },
   {
    "duration": 5,
    "start_time": "2022-07-05T11:29:38.772Z"
   },
   {
    "duration": 5,
    "start_time": "2022-07-05T11:29:38.779Z"
   },
   {
    "duration": 143,
    "start_time": "2022-07-05T11:29:38.786Z"
   },
   {
    "duration": 173,
    "start_time": "2022-07-05T11:29:38.931Z"
   },
   {
    "duration": 97,
    "start_time": "2022-07-05T11:29:39.105Z"
   },
   {
    "duration": 3,
    "start_time": "2022-07-05T11:29:39.204Z"
   },
   {
    "duration": 3,
    "start_time": "2022-07-05T11:29:58.653Z"
   },
   {
    "duration": 3,
    "start_time": "2022-07-05T11:29:59.456Z"
   },
   {
    "duration": 1947,
    "start_time": "2022-07-05T11:30:26.873Z"
   },
   {
    "duration": 1237,
    "start_time": "2022-07-05T11:30:28.822Z"
   },
   {
    "duration": 21,
    "start_time": "2022-07-05T11:30:30.061Z"
   },
   {
    "duration": 128,
    "start_time": "2022-07-05T11:30:30.084Z"
   },
   {
    "duration": 29,
    "start_time": "2022-07-05T11:30:30.213Z"
   },
   {
    "duration": 164,
    "start_time": "2022-07-05T11:30:30.244Z"
   },
   {
    "duration": 20,
    "start_time": "2022-07-05T11:30:30.410Z"
   },
   {
    "duration": 73,
    "start_time": "2022-07-05T11:30:30.432Z"
   },
   {
    "duration": 115,
    "start_time": "2022-07-05T11:30:30.507Z"
   },
   {
    "duration": 43,
    "start_time": "2022-07-05T11:30:30.625Z"
   },
   {
    "duration": 85,
    "start_time": "2022-07-05T11:30:30.669Z"
   },
   {
    "duration": 45,
    "start_time": "2022-07-05T11:30:30.755Z"
   },
   {
    "duration": 56,
    "start_time": "2022-07-05T11:30:30.802Z"
   },
   {
    "duration": 67,
    "start_time": "2022-07-05T11:30:30.860Z"
   },
   {
    "duration": 52,
    "start_time": "2022-07-05T11:30:30.929Z"
   },
   {
    "duration": 50,
    "start_time": "2022-07-05T11:30:30.983Z"
   },
   {
    "duration": 70,
    "start_time": "2022-07-05T11:30:31.035Z"
   },
   {
    "duration": 40,
    "start_time": "2022-07-05T11:30:31.107Z"
   },
   {
    "duration": 36,
    "start_time": "2022-07-05T11:30:31.148Z"
   },
   {
    "duration": 112,
    "start_time": "2022-07-05T11:30:31.185Z"
   },
   {
    "duration": 41,
    "start_time": "2022-07-05T11:30:31.299Z"
   },
   {
    "duration": 115,
    "start_time": "2022-07-05T11:30:31.341Z"
   },
   {
    "duration": 77,
    "start_time": "2022-07-05T11:30:31.458Z"
   },
   {
    "duration": 203,
    "start_time": "2022-07-05T11:30:31.537Z"
   },
   {
    "duration": 197,
    "start_time": "2022-07-05T11:30:31.741Z"
   },
   {
    "duration": 11,
    "start_time": "2022-07-05T11:30:31.940Z"
   },
   {
    "duration": 102,
    "start_time": "2022-07-05T11:30:31.952Z"
   },
   {
    "duration": 100,
    "start_time": "2022-07-05T11:30:32.059Z"
   },
   {
    "duration": 273,
    "start_time": "2022-07-05T11:30:32.161Z"
   },
   {
    "duration": 10,
    "start_time": "2022-07-05T11:30:32.436Z"
   },
   {
    "duration": 52,
    "start_time": "2022-07-05T11:30:32.448Z"
   },
   {
    "duration": 20,
    "start_time": "2022-07-05T11:30:32.502Z"
   },
   {
    "duration": 42,
    "start_time": "2022-07-05T11:30:32.524Z"
   },
   {
    "duration": 33,
    "start_time": "2022-07-05T11:30:32.568Z"
   },
   {
    "duration": 66,
    "start_time": "2022-07-05T11:30:32.603Z"
   },
   {
    "duration": 3,
    "start_time": "2022-07-05T11:30:32.671Z"
   },
   {
    "duration": 16,
    "start_time": "2022-07-05T11:30:32.676Z"
   },
   {
    "duration": 140,
    "start_time": "2022-07-05T11:30:32.694Z"
   },
   {
    "duration": 100,
    "start_time": "2022-07-05T11:30:32.901Z"
   },
   {
    "duration": 110,
    "start_time": "2022-07-05T11:30:33.004Z"
   },
   {
    "duration": 42,
    "start_time": "2022-07-05T11:30:33.116Z"
   },
   {
    "duration": 28,
    "start_time": "2022-07-05T11:30:33.160Z"
   },
   {
    "duration": 108,
    "start_time": "2022-07-05T11:30:44.717Z"
   },
   {
    "duration": 6,
    "start_time": "2022-07-05T11:30:51.392Z"
   },
   {
    "duration": 1930,
    "start_time": "2022-07-05T11:30:57.115Z"
   },
   {
    "duration": 1106,
    "start_time": "2022-07-05T11:30:59.047Z"
   },
   {
    "duration": 21,
    "start_time": "2022-07-05T11:31:00.154Z"
   },
   {
    "duration": 135,
    "start_time": "2022-07-05T11:31:00.176Z"
   },
   {
    "duration": 31,
    "start_time": "2022-07-05T11:31:00.313Z"
   },
   {
    "duration": 140,
    "start_time": "2022-07-05T11:31:00.346Z"
   },
   {
    "duration": 20,
    "start_time": "2022-07-05T11:31:00.487Z"
   },
   {
    "duration": 33,
    "start_time": "2022-07-05T11:31:00.509Z"
   },
   {
    "duration": 21,
    "start_time": "2022-07-05T11:31:00.544Z"
   },
   {
    "duration": 24,
    "start_time": "2022-07-05T11:31:00.566Z"
   },
   {
    "duration": 74,
    "start_time": "2022-07-05T11:31:00.591Z"
   },
   {
    "duration": 19,
    "start_time": "2022-07-05T11:31:00.666Z"
   },
   {
    "duration": 52,
    "start_time": "2022-07-05T11:31:00.688Z"
   },
   {
    "duration": 18,
    "start_time": "2022-07-05T11:31:00.743Z"
   },
   {
    "duration": 27,
    "start_time": "2022-07-05T11:31:00.763Z"
   },
   {
    "duration": 24,
    "start_time": "2022-07-05T11:31:00.792Z"
   },
   {
    "duration": 35,
    "start_time": "2022-07-05T11:31:00.818Z"
   },
   {
    "duration": 27,
    "start_time": "2022-07-05T11:31:00.855Z"
   },
   {
    "duration": 42,
    "start_time": "2022-07-05T11:31:00.884Z"
   },
   {
    "duration": 46,
    "start_time": "2022-07-05T11:31:00.928Z"
   },
   {
    "duration": 24,
    "start_time": "2022-07-05T11:31:00.976Z"
   },
   {
    "duration": 100,
    "start_time": "2022-07-05T11:31:01.002Z"
   },
   {
    "duration": 105,
    "start_time": "2022-07-05T11:31:01.105Z"
   },
   {
    "duration": 227,
    "start_time": "2022-07-05T11:31:01.212Z"
   },
   {
    "duration": 232,
    "start_time": "2022-07-05T11:31:01.441Z"
   },
   {
    "duration": 21,
    "start_time": "2022-07-05T11:31:01.676Z"
   },
   {
    "duration": 87,
    "start_time": "2022-07-05T11:31:01.699Z"
   },
   {
    "duration": 173,
    "start_time": "2022-07-05T11:31:01.788Z"
   },
   {
    "duration": 276,
    "start_time": "2022-07-05T11:31:01.963Z"
   },
   {
    "duration": 12,
    "start_time": "2022-07-05T11:31:02.241Z"
   },
   {
    "duration": 44,
    "start_time": "2022-07-05T11:31:02.254Z"
   },
   {
    "duration": 16,
    "start_time": "2022-07-05T11:31:02.300Z"
   },
   {
    "duration": 31,
    "start_time": "2022-07-05T11:31:02.318Z"
   },
   {
    "duration": 115,
    "start_time": "2022-07-05T11:31:02.351Z"
   },
   {
    "duration": 65,
    "start_time": "2022-07-05T11:31:02.468Z"
   },
   {
    "duration": 4,
    "start_time": "2022-07-05T11:31:02.535Z"
   },
   {
    "duration": 12,
    "start_time": "2022-07-05T11:31:02.541Z"
   },
   {
    "duration": 153,
    "start_time": "2022-07-05T11:31:02.555Z"
   },
   {
    "duration": 101,
    "start_time": "2022-07-05T11:31:02.710Z"
   },
   {
    "duration": 103,
    "start_time": "2022-07-05T11:31:02.812Z"
   },
   {
    "duration": 32,
    "start_time": "2022-07-05T11:31:02.918Z"
   },
   {
    "duration": 21,
    "start_time": "2022-07-05T11:31:02.952Z"
   },
   {
    "duration": 3,
    "start_time": "2022-07-05T11:31:44.974Z"
   },
   {
    "duration": 47,
    "start_time": "2022-07-05T11:33:30.382Z"
   },
   {
    "duration": 1323,
    "start_time": "2022-07-05T11:33:34.247Z"
   },
   {
    "duration": 1192,
    "start_time": "2022-07-05T11:33:35.573Z"
   },
   {
    "duration": 22,
    "start_time": "2022-07-05T11:33:36.767Z"
   },
   {
    "duration": 124,
    "start_time": "2022-07-05T11:33:36.790Z"
   },
   {
    "duration": 33,
    "start_time": "2022-07-05T11:33:36.917Z"
   },
   {
    "duration": 194,
    "start_time": "2022-07-05T11:33:36.952Z"
   },
   {
    "duration": 53,
    "start_time": "2022-07-05T11:33:37.149Z"
   },
   {
    "duration": 34,
    "start_time": "2022-07-05T11:33:37.204Z"
   },
   {
    "duration": 34,
    "start_time": "2022-07-05T11:33:37.240Z"
   },
   {
    "duration": 56,
    "start_time": "2022-07-05T11:33:37.276Z"
   },
   {
    "duration": 26,
    "start_time": "2022-07-05T11:33:37.334Z"
   },
   {
    "duration": 23,
    "start_time": "2022-07-05T11:33:37.362Z"
   },
   {
    "duration": 45,
    "start_time": "2022-07-05T11:33:37.402Z"
   },
   {
    "duration": 18,
    "start_time": "2022-07-05T11:33:37.450Z"
   },
   {
    "duration": 47,
    "start_time": "2022-07-05T11:33:37.470Z"
   },
   {
    "duration": 27,
    "start_time": "2022-07-05T11:33:37.524Z"
   },
   {
    "duration": 28,
    "start_time": "2022-07-05T11:33:37.553Z"
   },
   {
    "duration": 38,
    "start_time": "2022-07-05T11:33:37.583Z"
   },
   {
    "duration": 32,
    "start_time": "2022-07-05T11:33:37.624Z"
   },
   {
    "duration": 44,
    "start_time": "2022-07-05T11:33:37.658Z"
   },
   {
    "duration": 30,
    "start_time": "2022-07-05T11:33:37.704Z"
   },
   {
    "duration": 81,
    "start_time": "2022-07-05T11:33:37.736Z"
   },
   {
    "duration": 98,
    "start_time": "2022-07-05T11:33:37.819Z"
   },
   {
    "duration": 271,
    "start_time": "2022-07-05T11:33:37.920Z"
   },
   {
    "duration": 207,
    "start_time": "2022-07-05T11:33:38.203Z"
   },
   {
    "duration": 13,
    "start_time": "2022-07-05T11:33:38.412Z"
   },
   {
    "duration": 11,
    "start_time": "2022-07-05T11:33:38.426Z"
   },
   {
    "duration": 91,
    "start_time": "2022-07-05T11:33:38.439Z"
   },
   {
    "duration": 294,
    "start_time": "2022-07-05T11:33:38.532Z"
   },
   {
    "duration": 12,
    "start_time": "2022-07-05T11:33:38.828Z"
   },
   {
    "duration": 31,
    "start_time": "2022-07-05T11:33:38.842Z"
   },
   {
    "duration": 13,
    "start_time": "2022-07-05T11:33:38.875Z"
   },
   {
    "duration": 18,
    "start_time": "2022-07-05T11:33:38.901Z"
   },
   {
    "duration": 25,
    "start_time": "2022-07-05T11:33:38.921Z"
   },
   {
    "duration": 87,
    "start_time": "2022-07-05T11:33:38.948Z"
   },
   {
    "duration": 4,
    "start_time": "2022-07-05T11:33:39.037Z"
   },
   {
    "duration": 13,
    "start_time": "2022-07-05T11:33:39.043Z"
   },
   {
    "duration": 155,
    "start_time": "2022-07-05T11:33:39.058Z"
   },
   {
    "duration": 90,
    "start_time": "2022-07-05T11:33:39.215Z"
   },
   {
    "duration": 94,
    "start_time": "2022-07-05T11:33:39.310Z"
   },
   {
    "duration": 6,
    "start_time": "2022-07-05T11:33:39.408Z"
   },
   {
    "duration": 8,
    "start_time": "2022-07-05T11:33:39.415Z"
   },
   {
    "duration": 20,
    "start_time": "2022-07-05T11:33:39.424Z"
   },
   {
    "duration": 7,
    "start_time": "2022-07-05T11:33:39.445Z"
   },
   {
    "duration": 40557,
    "start_time": "2022-07-05T11:33:55.788Z"
   },
   {
    "duration": 4,
    "start_time": "2022-07-05T11:34:52.446Z"
   },
   {
    "duration": 39024,
    "start_time": "2022-07-05T11:35:24.753Z"
   },
   {
    "duration": 2,
    "start_time": "2022-07-05T11:36:29.154Z"
   },
   {
    "duration": 2,
    "start_time": "2022-07-05T11:36:49.930Z"
   },
   {
    "duration": 96,
    "start_time": "2022-07-05T11:37:10.936Z"
   },
   {
    "duration": 2,
    "start_time": "2022-07-05T11:37:20.628Z"
   },
   {
    "duration": 6,
    "start_time": "2022-07-05T11:37:29.828Z"
   },
   {
    "duration": 76,
    "start_time": "2022-07-05T11:42:33.633Z"
   },
   {
    "duration": 3,
    "start_time": "2022-07-05T11:43:22.335Z"
   },
   {
    "duration": 844385,
    "start_time": "2022-07-05T11:51:10.191Z"
   },
   {
    "duration": 87958,
    "start_time": "2022-07-05T12:05:42.458Z"
   },
   {
    "duration": 60149,
    "start_time": "2022-07-05T12:07:43.970Z"
   },
   {
    "duration": 80,
    "start_time": "2022-07-05T12:08:44.127Z"
   },
   {
    "duration": 37471,
    "start_time": "2022-07-05T12:24:09.640Z"
   },
   {
    "duration": 4,
    "start_time": "2022-07-05T12:24:47.113Z"
   },
   {
    "duration": 1103,
    "start_time": "2022-07-05T12:29:38.362Z"
   },
   {
    "duration": 770,
    "start_time": "2022-07-05T12:29:39.467Z"
   },
   {
    "duration": 21,
    "start_time": "2022-07-05T12:29:40.238Z"
   },
   {
    "duration": 119,
    "start_time": "2022-07-05T12:29:40.260Z"
   },
   {
    "duration": 34,
    "start_time": "2022-07-05T12:29:40.380Z"
   },
   {
    "duration": 110,
    "start_time": "2022-07-05T12:29:40.416Z"
   },
   {
    "duration": 19,
    "start_time": "2022-07-05T12:29:40.528Z"
   },
   {
    "duration": 20,
    "start_time": "2022-07-05T12:29:40.549Z"
   },
   {
    "duration": 31,
    "start_time": "2022-07-05T12:29:40.570Z"
   },
   {
    "duration": 19,
    "start_time": "2022-07-05T12:29:40.603Z"
   },
   {
    "duration": 21,
    "start_time": "2022-07-05T12:29:40.624Z"
   },
   {
    "duration": 18,
    "start_time": "2022-07-05T12:29:40.647Z"
   },
   {
    "duration": 61,
    "start_time": "2022-07-05T12:29:40.666Z"
   },
   {
    "duration": 17,
    "start_time": "2022-07-05T12:29:40.730Z"
   },
   {
    "duration": 17,
    "start_time": "2022-07-05T12:29:40.749Z"
   },
   {
    "duration": 36,
    "start_time": "2022-07-05T12:29:40.767Z"
   },
   {
    "duration": 18,
    "start_time": "2022-07-05T12:29:40.805Z"
   },
   {
    "duration": 19,
    "start_time": "2022-07-05T12:29:40.825Z"
   },
   {
    "duration": 20,
    "start_time": "2022-07-05T12:29:40.845Z"
   },
   {
    "duration": 42,
    "start_time": "2022-07-05T12:29:40.867Z"
   },
   {
    "duration": 17,
    "start_time": "2022-07-05T12:29:40.910Z"
   },
   {
    "duration": 80,
    "start_time": "2022-07-05T12:29:40.928Z"
   },
   {
    "duration": 70,
    "start_time": "2022-07-05T12:29:41.010Z"
   },
   {
    "duration": 196,
    "start_time": "2022-07-05T12:29:41.082Z"
   },
   {
    "duration": 191,
    "start_time": "2022-07-05T12:29:41.280Z"
   },
   {
    "duration": 12,
    "start_time": "2022-07-05T12:29:41.473Z"
   },
   {
    "duration": 13,
    "start_time": "2022-07-05T12:29:41.486Z"
   },
   {
    "duration": 74,
    "start_time": "2022-07-05T12:29:41.501Z"
   },
   {
    "duration": 275,
    "start_time": "2022-07-05T12:29:41.577Z"
   },
   {
    "duration": 11,
    "start_time": "2022-07-05T12:29:41.854Z"
   },
   {
    "duration": 20,
    "start_time": "2022-07-05T12:29:41.866Z"
   },
   {
    "duration": 22,
    "start_time": "2022-07-05T12:29:41.888Z"
   },
   {
    "duration": 20,
    "start_time": "2022-07-05T12:29:41.911Z"
   },
   {
    "duration": 23,
    "start_time": "2022-07-05T12:29:41.933Z"
   },
   {
    "duration": 72,
    "start_time": "2022-07-05T12:29:41.957Z"
   },
   {
    "duration": 3,
    "start_time": "2022-07-05T12:29:42.031Z"
   },
   {
    "duration": 6,
    "start_time": "2022-07-05T12:29:42.036Z"
   },
   {
    "duration": 170,
    "start_time": "2022-07-05T12:29:42.043Z"
   },
   {
    "duration": 189,
    "start_time": "2022-07-05T12:29:42.215Z"
   },
   {
    "duration": 100,
    "start_time": "2022-07-05T12:29:42.406Z"
   },
   {
    "duration": 14,
    "start_time": "2022-07-05T12:29:42.509Z"
   },
   {
    "duration": 25,
    "start_time": "2022-07-05T12:29:42.524Z"
   },
   {
    "duration": 8,
    "start_time": "2022-07-05T12:29:42.551Z"
   },
   {
    "duration": 4,
    "start_time": "2022-07-05T12:29:42.561Z"
   },
   {
    "duration": 19,
    "start_time": "2022-07-05T12:29:42.566Z"
   },
   {
    "duration": 7,
    "start_time": "2022-07-05T12:29:42.587Z"
   },
   {
    "duration": 36993,
    "start_time": "2022-07-05T12:29:42.595Z"
   },
   {
    "duration": 92,
    "start_time": "2022-07-05T12:30:19.589Z"
   },
   {
    "duration": 5,
    "start_time": "2022-07-05T12:30:19.683Z"
   },
   {
    "duration": 7121,
    "start_time": "2022-07-05T12:30:19.689Z"
   },
   {
    "duration": 4,
    "start_time": "2022-07-05T12:30:26.812Z"
   },
   {
    "duration": 1354,
    "start_time": "2022-07-06T10:01:27.617Z"
   },
   {
    "duration": 126,
    "start_time": "2022-07-06T10:03:26.706Z"
   },
   {
    "duration": 4,
    "start_time": "2022-07-06T10:03:30.961Z"
   },
   {
    "duration": 1331,
    "start_time": "2022-07-06T10:03:30.967Z"
   },
   {
    "duration": 21,
    "start_time": "2022-07-06T10:03:32.300Z"
   },
   {
    "duration": 148,
    "start_time": "2022-07-06T10:03:32.326Z"
   },
   {
    "duration": 29,
    "start_time": "2022-07-06T10:03:32.478Z"
   },
   {
    "duration": 157,
    "start_time": "2022-07-06T10:03:32.509Z"
   },
   {
    "duration": 20,
    "start_time": "2022-07-06T10:03:32.668Z"
   },
   {
    "duration": 47,
    "start_time": "2022-07-06T10:03:32.690Z"
   },
   {
    "duration": 30,
    "start_time": "2022-07-06T10:03:32.740Z"
   },
   {
    "duration": 19,
    "start_time": "2022-07-06T10:03:32.771Z"
   },
   {
    "duration": 29,
    "start_time": "2022-07-06T10:03:32.792Z"
   },
   {
    "duration": 32,
    "start_time": "2022-07-06T10:03:32.823Z"
   },
   {
    "duration": 41,
    "start_time": "2022-07-06T10:03:32.857Z"
   },
   {
    "duration": 30,
    "start_time": "2022-07-06T10:03:32.901Z"
   },
   {
    "duration": 30,
    "start_time": "2022-07-06T10:03:32.939Z"
   },
   {
    "duration": 25,
    "start_time": "2022-07-06T10:03:32.971Z"
   },
   {
    "duration": 41,
    "start_time": "2022-07-06T10:03:32.998Z"
   },
   {
    "duration": 22,
    "start_time": "2022-07-06T10:03:33.045Z"
   },
   {
    "duration": 20,
    "start_time": "2022-07-06T10:03:33.069Z"
   },
   {
    "duration": 41,
    "start_time": "2022-07-06T10:03:33.091Z"
   },
   {
    "duration": 21,
    "start_time": "2022-07-06T10:03:33.145Z"
   },
   {
    "duration": 96,
    "start_time": "2022-07-06T10:03:33.168Z"
   },
   {
    "duration": 4,
    "start_time": "2022-07-06T10:03:33.265Z"
   },
   {
    "duration": 10,
    "start_time": "2022-07-06T10:03:39.812Z"
   },
   {
    "duration": 47,
    "start_time": "2022-07-06T10:03:47.682Z"
   },
   {
    "duration": 67,
    "start_time": "2022-07-06T10:03:54.675Z"
   },
   {
    "duration": 54,
    "start_time": "2022-07-06T10:03:58.679Z"
   },
   {
    "duration": 52,
    "start_time": "2022-07-06T10:04:11.998Z"
   },
   {
    "duration": 44,
    "start_time": "2022-07-06T10:04:23.660Z"
   },
   {
    "duration": 46,
    "start_time": "2022-07-06T10:04:27.661Z"
   },
   {
    "duration": 50,
    "start_time": "2022-07-06T10:04:31.552Z"
   },
   {
    "duration": 52,
    "start_time": "2022-07-06T10:05:40.019Z"
   },
   {
    "duration": 58,
    "start_time": "2022-07-06T10:07:23.284Z"
   },
   {
    "duration": 57,
    "start_time": "2022-07-06T10:07:33.013Z"
   },
   {
    "duration": 7,
    "start_time": "2022-07-06T10:08:00.189Z"
   },
   {
    "duration": 4,
    "start_time": "2022-07-06T10:08:04.893Z"
   },
   {
    "duration": 1060,
    "start_time": "2022-07-06T10:08:04.899Z"
   },
   {
    "duration": 21,
    "start_time": "2022-07-06T10:08:05.961Z"
   },
   {
    "duration": 166,
    "start_time": "2022-07-06T10:08:05.984Z"
   },
   {
    "duration": 25,
    "start_time": "2022-07-06T10:08:06.151Z"
   },
   {
    "duration": 176,
    "start_time": "2022-07-06T10:08:06.178Z"
   },
   {
    "duration": 24,
    "start_time": "2022-07-06T10:08:06.356Z"
   },
   {
    "duration": 38,
    "start_time": "2022-07-06T10:08:06.382Z"
   },
   {
    "duration": 53,
    "start_time": "2022-07-06T10:08:06.422Z"
   },
   {
    "duration": 56,
    "start_time": "2022-07-06T10:08:06.478Z"
   },
   {
    "duration": 36,
    "start_time": "2022-07-06T10:08:06.539Z"
   },
   {
    "duration": 20,
    "start_time": "2022-07-06T10:08:06.576Z"
   },
   {
    "duration": 57,
    "start_time": "2022-07-06T10:08:06.599Z"
   },
   {
    "duration": 18,
    "start_time": "2022-07-06T10:08:06.657Z"
   },
   {
    "duration": 22,
    "start_time": "2022-07-06T10:08:06.677Z"
   },
   {
    "duration": 48,
    "start_time": "2022-07-06T10:08:06.701Z"
   },
   {
    "duration": 25,
    "start_time": "2022-07-06T10:08:06.750Z"
   },
   {
    "duration": 24,
    "start_time": "2022-07-06T10:08:06.777Z"
   },
   {
    "duration": 27,
    "start_time": "2022-07-06T10:08:06.804Z"
   },
   {
    "duration": 42,
    "start_time": "2022-07-06T10:08:06.836Z"
   },
   {
    "duration": 20,
    "start_time": "2022-07-06T10:08:06.880Z"
   },
   {
    "duration": 96,
    "start_time": "2022-07-06T10:08:06.902Z"
   },
   {
    "duration": 55,
    "start_time": "2022-07-06T10:08:06.999Z"
   },
   {
    "duration": 11,
    "start_time": "2022-07-06T10:08:07.057Z"
   },
   {
    "duration": 45,
    "start_time": "2022-07-06T10:08:07.069Z"
   },
   {
    "duration": 7,
    "start_time": "2022-07-06T10:08:12.350Z"
   },
   {
    "duration": 3,
    "start_time": "2022-07-06T10:08:14.807Z"
   },
   {
    "duration": 969,
    "start_time": "2022-07-06T10:08:14.812Z"
   },
   {
    "duration": 14,
    "start_time": "2022-07-06T10:08:15.782Z"
   },
   {
    "duration": 154,
    "start_time": "2022-07-06T10:08:15.798Z"
   },
   {
    "duration": 25,
    "start_time": "2022-07-06T10:08:15.954Z"
   },
   {
    "duration": 158,
    "start_time": "2022-07-06T10:08:15.981Z"
   },
   {
    "duration": 23,
    "start_time": "2022-07-06T10:08:16.145Z"
   },
   {
    "duration": 43,
    "start_time": "2022-07-06T10:08:16.169Z"
   },
   {
    "duration": 37,
    "start_time": "2022-07-06T10:08:16.214Z"
   },
   {
    "duration": 40,
    "start_time": "2022-07-06T10:08:16.253Z"
   },
   {
    "duration": 24,
    "start_time": "2022-07-06T10:08:16.295Z"
   },
   {
    "duration": 47,
    "start_time": "2022-07-06T10:08:16.321Z"
   },
   {
    "duration": 116,
    "start_time": "2022-07-06T10:08:16.370Z"
   },
   {
    "duration": 19,
    "start_time": "2022-07-06T10:08:16.488Z"
   },
   {
    "duration": 63,
    "start_time": "2022-07-06T10:08:16.509Z"
   },
   {
    "duration": 25,
    "start_time": "2022-07-06T10:08:16.574Z"
   },
   {
    "duration": 70,
    "start_time": "2022-07-06T10:08:16.601Z"
   },
   {
    "duration": 27,
    "start_time": "2022-07-06T10:08:16.673Z"
   },
   {
    "duration": 41,
    "start_time": "2022-07-06T10:08:16.702Z"
   },
   {
    "duration": 47,
    "start_time": "2022-07-06T10:08:16.744Z"
   },
   {
    "duration": 22,
    "start_time": "2022-07-06T10:08:16.793Z"
   },
   {
    "duration": 122,
    "start_time": "2022-07-06T10:08:16.816Z"
   },
   {
    "duration": 50,
    "start_time": "2022-07-06T10:08:16.951Z"
   },
   {
    "duration": 12,
    "start_time": "2022-07-06T10:08:17.003Z"
   },
   {
    "duration": 10,
    "start_time": "2022-07-06T10:08:20.988Z"
   },
   {
    "duration": 11,
    "start_time": "2022-07-06T10:08:27.182Z"
   },
   {
    "duration": 10,
    "start_time": "2022-07-06T10:08:36.508Z"
   },
   {
    "duration": 12,
    "start_time": "2022-07-06T10:08:38.897Z"
   },
   {
    "duration": 12,
    "start_time": "2022-07-06T10:08:41.573Z"
   },
   {
    "duration": 13,
    "start_time": "2022-07-06T10:08:45.959Z"
   },
   {
    "duration": 12,
    "start_time": "2022-07-06T10:08:49.163Z"
   },
   {
    "duration": 36,
    "start_time": "2022-07-06T10:09:23.651Z"
   },
   {
    "duration": 39,
    "start_time": "2022-07-06T10:09:29.947Z"
   },
   {
    "duration": 44,
    "start_time": "2022-07-06T10:09:34.305Z"
   },
   {
    "duration": 34,
    "start_time": "2022-07-06T10:09:37.846Z"
   },
   {
    "duration": 44,
    "start_time": "2022-07-06T10:09:43.503Z"
   },
   {
    "duration": 68,
    "start_time": "2022-07-06T10:10:00.411Z"
   },
   {
    "duration": 65,
    "start_time": "2022-07-06T10:10:06.719Z"
   },
   {
    "duration": 20,
    "start_time": "2022-07-06T10:14:11.724Z"
   },
   {
    "duration": 26,
    "start_time": "2022-07-06T10:14:34.064Z"
   },
   {
    "duration": 4,
    "start_time": "2022-07-06T10:14:37.679Z"
   },
   {
    "duration": 47,
    "start_time": "2022-07-06T10:15:34.819Z"
   },
   {
    "duration": 44,
    "start_time": "2022-07-06T10:15:43.763Z"
   },
   {
    "duration": 36,
    "start_time": "2022-07-06T10:15:58.494Z"
   },
   {
    "duration": 33,
    "start_time": "2022-07-06T10:16:07.761Z"
   },
   {
    "duration": 22,
    "start_time": "2022-07-06T10:16:10.170Z"
   },
   {
    "duration": 27,
    "start_time": "2022-07-06T10:16:11.865Z"
   },
   {
    "duration": 60,
    "start_time": "2022-07-06T10:16:14.984Z"
   },
   {
    "duration": 4,
    "start_time": "2022-07-06T10:16:20.257Z"
   },
   {
    "duration": 1036,
    "start_time": "2022-07-06T10:16:20.263Z"
   },
   {
    "duration": 23,
    "start_time": "2022-07-06T10:16:21.301Z"
   },
   {
    "duration": 175,
    "start_time": "2022-07-06T10:16:21.326Z"
   },
   {
    "duration": 23,
    "start_time": "2022-07-06T10:16:21.504Z"
   },
   {
    "duration": 160,
    "start_time": "2022-07-06T10:16:21.532Z"
   },
   {
    "duration": 23,
    "start_time": "2022-07-06T10:16:21.694Z"
   },
   {
    "duration": 54,
    "start_time": "2022-07-06T10:16:21.725Z"
   },
   {
    "duration": 20,
    "start_time": "2022-07-06T10:16:21.780Z"
   },
   {
    "duration": 34,
    "start_time": "2022-07-06T10:16:21.802Z"
   },
   {
    "duration": 32,
    "start_time": "2022-07-06T10:16:21.841Z"
   },
   {
    "duration": 31,
    "start_time": "2022-07-06T10:16:21.875Z"
   },
   {
    "duration": 49,
    "start_time": "2022-07-06T10:16:21.908Z"
   },
   {
    "duration": 19,
    "start_time": "2022-07-06T10:16:21.961Z"
   },
   {
    "duration": 19,
    "start_time": "2022-07-06T10:16:21.982Z"
   },
   {
    "duration": 47,
    "start_time": "2022-07-06T10:16:22.003Z"
   },
   {
    "duration": 37,
    "start_time": "2022-07-06T10:16:22.053Z"
   },
   {
    "duration": 48,
    "start_time": "2022-07-06T10:16:22.092Z"
   },
   {
    "duration": 27,
    "start_time": "2022-07-06T10:16:22.141Z"
   },
   {
    "duration": 32,
    "start_time": "2022-07-06T10:16:22.170Z"
   },
   {
    "duration": 53,
    "start_time": "2022-07-06T10:16:22.203Z"
   },
   {
    "duration": 99,
    "start_time": "2022-07-06T10:16:22.258Z"
   },
   {
    "duration": 39,
    "start_time": "2022-07-06T10:16:22.358Z"
   },
   {
    "duration": 47,
    "start_time": "2022-07-06T10:16:22.399Z"
   },
   {
    "duration": 62,
    "start_time": "2022-07-06T10:16:22.450Z"
   },
   {
    "duration": 26,
    "start_time": "2022-07-06T10:16:27.718Z"
   },
   {
    "duration": 55,
    "start_time": "2022-07-06T10:16:29.324Z"
   },
   {
    "duration": 6,
    "start_time": "2022-07-06T10:16:54.573Z"
   },
   {
    "duration": 6,
    "start_time": "2022-07-06T10:16:56.154Z"
   },
   {
    "duration": 25,
    "start_time": "2022-07-06T10:17:02.309Z"
   },
   {
    "duration": 20,
    "start_time": "2022-07-06T10:19:19.895Z"
   },
   {
    "duration": 4,
    "start_time": "2022-07-06T10:19:23.714Z"
   },
   {
    "duration": 4,
    "start_time": "2022-07-06T10:21:37.809Z"
   },
   {
    "duration": 938,
    "start_time": "2022-07-06T10:21:37.815Z"
   },
   {
    "duration": 17,
    "start_time": "2022-07-06T10:21:38.760Z"
   },
   {
    "duration": 161,
    "start_time": "2022-07-06T10:21:38.779Z"
   },
   {
    "duration": 42,
    "start_time": "2022-07-06T10:21:38.948Z"
   },
   {
    "duration": 179,
    "start_time": "2022-07-06T10:21:38.992Z"
   },
   {
    "duration": 31,
    "start_time": "2022-07-06T10:21:39.175Z"
   },
   {
    "duration": 72,
    "start_time": "2022-07-06T10:21:39.208Z"
   },
   {
    "duration": 27,
    "start_time": "2022-07-06T10:21:39.282Z"
   },
   {
    "duration": 39,
    "start_time": "2022-07-06T10:21:39.311Z"
   },
   {
    "duration": 58,
    "start_time": "2022-07-06T10:21:39.353Z"
   },
   {
    "duration": 26,
    "start_time": "2022-07-06T10:21:39.413Z"
   },
   {
    "duration": 58,
    "start_time": "2022-07-06T10:21:39.451Z"
   },
   {
    "duration": 21,
    "start_time": "2022-07-06T10:21:39.511Z"
   },
   {
    "duration": 58,
    "start_time": "2022-07-06T10:21:39.536Z"
   },
   {
    "duration": 54,
    "start_time": "2022-07-06T10:21:39.596Z"
   },
   {
    "duration": 25,
    "start_time": "2022-07-06T10:21:39.656Z"
   },
   {
    "duration": 20,
    "start_time": "2022-07-06T10:21:39.683Z"
   },
   {
    "duration": 31,
    "start_time": "2022-07-06T10:21:39.705Z"
   },
   {
    "duration": 48,
    "start_time": "2022-07-06T10:21:39.737Z"
   },
   {
    "duration": 24,
    "start_time": "2022-07-06T10:21:39.786Z"
   },
   {
    "duration": 121,
    "start_time": "2022-07-06T10:21:39.812Z"
   },
   {
    "duration": 45,
    "start_time": "2022-07-06T10:21:39.934Z"
   },
   {
    "duration": 24,
    "start_time": "2022-07-06T10:21:39.980Z"
   },
   {
    "duration": 86,
    "start_time": "2022-07-06T10:21:40.006Z"
   },
   {
    "duration": 29,
    "start_time": "2022-07-06T10:21:40.094Z"
   },
   {
    "duration": 25,
    "start_time": "2022-07-06T10:21:40.130Z"
   },
   {
    "duration": 26,
    "start_time": "2022-07-06T10:21:40.159Z"
   },
   {
    "duration": 67,
    "start_time": "2022-07-06T10:21:40.189Z"
   },
   {
    "duration": 21,
    "start_time": "2022-07-06T10:31:14.749Z"
   },
   {
    "duration": 5,
    "start_time": "2022-07-06T10:32:22.550Z"
   },
   {
    "duration": 892,
    "start_time": "2022-07-06T10:32:22.557Z"
   },
   {
    "duration": 16,
    "start_time": "2022-07-06T10:32:23.456Z"
   },
   {
    "duration": 137,
    "start_time": "2022-07-06T10:32:23.475Z"
   },
   {
    "duration": 38,
    "start_time": "2022-07-06T10:32:23.614Z"
   },
   {
    "duration": 135,
    "start_time": "2022-07-06T10:32:23.660Z"
   },
   {
    "duration": 48,
    "start_time": "2022-07-06T10:32:23.797Z"
   },
   {
    "duration": 25,
    "start_time": "2022-07-06T10:32:23.852Z"
   },
   {
    "duration": 29,
    "start_time": "2022-07-06T10:32:23.880Z"
   },
   {
    "duration": 43,
    "start_time": "2022-07-06T10:32:23.912Z"
   },
   {
    "duration": 21,
    "start_time": "2022-07-06T10:32:23.957Z"
   },
   {
    "duration": 21,
    "start_time": "2022-07-06T10:32:23.979Z"
   },
   {
    "duration": 55,
    "start_time": "2022-07-06T10:32:24.001Z"
   },
   {
    "duration": 22,
    "start_time": "2022-07-06T10:32:24.058Z"
   },
   {
    "duration": 21,
    "start_time": "2022-07-06T10:32:24.082Z"
   },
   {
    "duration": 37,
    "start_time": "2022-07-06T10:32:24.105Z"
   },
   {
    "duration": 33,
    "start_time": "2022-07-06T10:32:24.144Z"
   },
   {
    "duration": 19,
    "start_time": "2022-07-06T10:32:24.179Z"
   },
   {
    "duration": 48,
    "start_time": "2022-07-06T10:32:24.200Z"
   },
   {
    "duration": 25,
    "start_time": "2022-07-06T10:32:24.252Z"
   },
   {
    "duration": 22,
    "start_time": "2022-07-06T10:32:24.279Z"
   },
   {
    "duration": 92,
    "start_time": "2022-07-06T10:32:24.302Z"
   },
   {
    "duration": 57,
    "start_time": "2022-07-06T10:32:24.396Z"
   },
   {
    "duration": 25,
    "start_time": "2022-07-06T10:32:24.455Z"
   },
   {
    "duration": 75,
    "start_time": "2022-07-06T10:32:24.482Z"
   },
   {
    "duration": 21,
    "start_time": "2022-07-06T10:32:24.559Z"
   },
   {
    "duration": 23,
    "start_time": "2022-07-06T10:32:24.582Z"
   },
   {
    "duration": 26,
    "start_time": "2022-07-06T10:32:24.632Z"
   },
   {
    "duration": 53,
    "start_time": "2022-07-06T10:32:24.660Z"
   },
   {
    "duration": 159,
    "start_time": "2022-07-06T10:32:24.714Z"
   },
   {
    "duration": 99,
    "start_time": "2022-07-06T10:32:24.875Z"
   },
   {
    "duration": 13,
    "start_time": "2022-07-06T10:32:24.976Z"
   },
   {
    "duration": 6,
    "start_time": "2022-07-06T10:32:24.990Z"
   },
   {
    "duration": 80,
    "start_time": "2022-07-06T10:32:24.998Z"
   },
   {
    "duration": 198,
    "start_time": "2022-07-06T10:32:25.080Z"
   },
   {
    "duration": 11,
    "start_time": "2022-07-06T10:32:25.280Z"
   },
   {
    "duration": 50,
    "start_time": "2022-07-06T10:32:25.293Z"
   },
   {
    "duration": 17,
    "start_time": "2022-07-06T10:32:25.345Z"
   },
   {
    "duration": 17,
    "start_time": "2022-07-06T10:32:25.364Z"
   },
   {
    "duration": 11,
    "start_time": "2022-07-06T10:32:25.382Z"
   },
   {
    "duration": 70,
    "start_time": "2022-07-06T10:32:25.394Z"
   },
   {
    "duration": 22,
    "start_time": "2022-07-06T10:32:25.466Z"
   },
   {
    "duration": 4,
    "start_time": "2022-07-06T10:32:25.490Z"
   },
   {
    "duration": 7,
    "start_time": "2022-07-06T10:33:26.620Z"
   },
   {
    "duration": 72,
    "start_time": "2022-07-06T10:33:27.662Z"
   },
   {
    "duration": 13,
    "start_time": "2022-07-06T10:33:40.856Z"
   },
   {
    "duration": 4,
    "start_time": "2022-07-06T10:36:34.060Z"
   },
   {
    "duration": 985,
    "start_time": "2022-07-06T10:36:34.066Z"
   },
   {
    "duration": 14,
    "start_time": "2022-07-06T10:36:35.053Z"
   },
   {
    "duration": 136,
    "start_time": "2022-07-06T10:36:35.069Z"
   },
   {
    "duration": 31,
    "start_time": "2022-07-06T10:36:35.209Z"
   },
   {
    "duration": 136,
    "start_time": "2022-07-06T10:36:35.243Z"
   },
   {
    "duration": 19,
    "start_time": "2022-07-06T10:36:35.381Z"
   },
   {
    "duration": 33,
    "start_time": "2022-07-06T10:36:35.402Z"
   },
   {
    "duration": 45,
    "start_time": "2022-07-06T10:36:35.437Z"
   },
   {
    "duration": 26,
    "start_time": "2022-07-06T10:36:35.484Z"
   },
   {
    "duration": 32,
    "start_time": "2022-07-06T10:36:35.512Z"
   },
   {
    "duration": 30,
    "start_time": "2022-07-06T10:36:35.549Z"
   },
   {
    "duration": 37,
    "start_time": "2022-07-06T10:36:35.581Z"
   },
   {
    "duration": 37,
    "start_time": "2022-07-06T10:36:35.622Z"
   },
   {
    "duration": 32,
    "start_time": "2022-07-06T10:36:35.661Z"
   },
   {
    "duration": 21,
    "start_time": "2022-07-06T10:36:35.694Z"
   },
   {
    "duration": 28,
    "start_time": "2022-07-06T10:36:35.716Z"
   },
   {
    "duration": 38,
    "start_time": "2022-07-06T10:36:35.753Z"
   },
   {
    "duration": 25,
    "start_time": "2022-07-06T10:36:35.793Z"
   },
   {
    "duration": 51,
    "start_time": "2022-07-06T10:36:35.819Z"
   },
   {
    "duration": 31,
    "start_time": "2022-07-06T10:36:35.872Z"
   },
   {
    "duration": 107,
    "start_time": "2022-07-06T10:36:35.905Z"
   },
   {
    "duration": 45,
    "start_time": "2022-07-06T10:36:36.014Z"
   },
   {
    "duration": 38,
    "start_time": "2022-07-06T10:36:36.063Z"
   },
   {
    "duration": 75,
    "start_time": "2022-07-06T10:36:36.102Z"
   },
   {
    "duration": 20,
    "start_time": "2022-07-06T10:36:36.179Z"
   },
   {
    "duration": 36,
    "start_time": "2022-07-06T10:36:36.201Z"
   },
   {
    "duration": 21,
    "start_time": "2022-07-06T10:36:36.238Z"
   },
   {
    "duration": 63,
    "start_time": "2022-07-06T10:36:36.261Z"
   },
   {
    "duration": 147,
    "start_time": "2022-07-06T10:36:36.327Z"
   },
   {
    "duration": 100,
    "start_time": "2022-07-06T10:36:36.475Z"
   },
   {
    "duration": 11,
    "start_time": "2022-07-06T10:36:36.577Z"
   },
   {
    "duration": 5,
    "start_time": "2022-07-06T10:36:36.590Z"
   },
   {
    "duration": 75,
    "start_time": "2022-07-06T10:36:36.597Z"
   },
   {
    "duration": 204,
    "start_time": "2022-07-06T10:36:36.674Z"
   },
   {
    "duration": 31,
    "start_time": "2022-07-06T10:36:40.211Z"
   },
   {
    "duration": 15,
    "start_time": "2022-07-06T10:36:48.599Z"
   },
   {
    "duration": 36,
    "start_time": "2022-07-06T10:36:57.554Z"
   },
   {
    "duration": 14,
    "start_time": "2022-07-06T10:36:58.251Z"
   },
   {
    "duration": 17,
    "start_time": "2022-07-06T10:36:58.556Z"
   },
   {
    "duration": 7,
    "start_time": "2022-07-06T10:37:48.509Z"
   },
   {
    "duration": 14,
    "start_time": "2022-07-06T10:37:52.694Z"
   },
   {
    "duration": 3,
    "start_time": "2022-07-06T10:38:00.097Z"
   },
   {
    "duration": 985,
    "start_time": "2022-07-06T10:38:00.103Z"
   },
   {
    "duration": 16,
    "start_time": "2022-07-06T10:38:01.090Z"
   },
   {
    "duration": 175,
    "start_time": "2022-07-06T10:38:01.108Z"
   },
   {
    "duration": 17,
    "start_time": "2022-07-06T10:38:01.286Z"
   },
   {
    "duration": 135,
    "start_time": "2022-07-06T10:38:01.305Z"
   },
   {
    "duration": 27,
    "start_time": "2022-07-06T10:38:01.441Z"
   },
   {
    "duration": 26,
    "start_time": "2022-07-06T10:38:01.470Z"
   },
   {
    "duration": 35,
    "start_time": "2022-07-06T10:38:01.498Z"
   },
   {
    "duration": 28,
    "start_time": "2022-07-06T10:38:01.535Z"
   },
   {
    "duration": 18,
    "start_time": "2022-07-06T10:38:01.565Z"
   },
   {
    "duration": 18,
    "start_time": "2022-07-06T10:38:01.585Z"
   },
   {
    "duration": 49,
    "start_time": "2022-07-06T10:38:01.625Z"
   },
   {
    "duration": 18,
    "start_time": "2022-07-06T10:38:01.677Z"
   },
   {
    "duration": 41,
    "start_time": "2022-07-06T10:38:01.697Z"
   },
   {
    "duration": 51,
    "start_time": "2022-07-06T10:38:01.740Z"
   },
   {
    "duration": 21,
    "start_time": "2022-07-06T10:38:01.793Z"
   },
   {
    "duration": 73,
    "start_time": "2022-07-06T10:38:01.816Z"
   },
   {
    "duration": 33,
    "start_time": "2022-07-06T10:38:01.891Z"
   },
   {
    "duration": 52,
    "start_time": "2022-07-06T10:38:01.928Z"
   },
   {
    "duration": 19,
    "start_time": "2022-07-06T10:38:01.982Z"
   },
   {
    "duration": 100,
    "start_time": "2022-07-06T10:38:02.003Z"
   },
   {
    "duration": 51,
    "start_time": "2022-07-06T10:38:02.105Z"
   },
   {
    "duration": 39,
    "start_time": "2022-07-06T10:38:02.158Z"
   },
   {
    "duration": 76,
    "start_time": "2022-07-06T10:38:02.198Z"
   },
   {
    "duration": 20,
    "start_time": "2022-07-06T10:38:02.275Z"
   },
   {
    "duration": 46,
    "start_time": "2022-07-06T10:38:02.297Z"
   },
   {
    "duration": 21,
    "start_time": "2022-07-06T10:38:02.344Z"
   },
   {
    "duration": 11,
    "start_time": "2022-07-06T10:38:02.367Z"
   },
   {
    "duration": 71,
    "start_time": "2022-07-06T10:38:02.380Z"
   },
   {
    "duration": 147,
    "start_time": "2022-07-06T10:38:02.453Z"
   },
   {
    "duration": 96,
    "start_time": "2022-07-06T10:38:02.603Z"
   },
   {
    "duration": 10,
    "start_time": "2022-07-06T10:38:02.701Z"
   },
   {
    "duration": 41,
    "start_time": "2022-07-06T10:38:02.713Z"
   },
   {
    "duration": 51,
    "start_time": "2022-07-06T10:38:02.755Z"
   },
   {
    "duration": 217,
    "start_time": "2022-07-06T10:38:02.808Z"
   },
   {
    "duration": 12,
    "start_time": "2022-07-06T10:38:03.030Z"
   },
   {
    "duration": 28,
    "start_time": "2022-07-06T10:38:03.044Z"
   },
   {
    "duration": 22,
    "start_time": "2022-07-06T10:38:03.074Z"
   },
   {
    "duration": 20,
    "start_time": "2022-07-06T10:38:03.097Z"
   },
   {
    "duration": 4,
    "start_time": "2022-07-06T10:39:40.886Z"
   },
   {
    "duration": 963,
    "start_time": "2022-07-06T10:39:40.892Z"
   },
   {
    "duration": 15,
    "start_time": "2022-07-06T10:39:41.857Z"
   },
   {
    "duration": 135,
    "start_time": "2022-07-06T10:39:41.874Z"
   },
   {
    "duration": 31,
    "start_time": "2022-07-06T10:39:42.011Z"
   },
   {
    "duration": 130,
    "start_time": "2022-07-06T10:39:42.049Z"
   },
   {
    "duration": 22,
    "start_time": "2022-07-06T10:39:42.181Z"
   },
   {
    "duration": 46,
    "start_time": "2022-07-06T10:39:42.205Z"
   },
   {
    "duration": 22,
    "start_time": "2022-07-06T10:39:42.257Z"
   },
   {
    "duration": 24,
    "start_time": "2022-07-06T10:39:42.281Z"
   },
   {
    "duration": 29,
    "start_time": "2022-07-06T10:39:42.307Z"
   },
   {
    "duration": 43,
    "start_time": "2022-07-06T10:39:42.338Z"
   },
   {
    "duration": 38,
    "start_time": "2022-07-06T10:39:42.383Z"
   },
   {
    "duration": 29,
    "start_time": "2022-07-06T10:39:42.426Z"
   },
   {
    "duration": 30,
    "start_time": "2022-07-06T10:39:42.460Z"
   },
   {
    "duration": 23,
    "start_time": "2022-07-06T10:39:42.491Z"
   },
   {
    "duration": 46,
    "start_time": "2022-07-06T10:39:42.515Z"
   },
   {
    "duration": 21,
    "start_time": "2022-07-06T10:39:42.563Z"
   },
   {
    "duration": 21,
    "start_time": "2022-07-06T10:39:42.585Z"
   },
   {
    "duration": 46,
    "start_time": "2022-07-06T10:39:42.608Z"
   },
   {
    "duration": 25,
    "start_time": "2022-07-06T10:39:42.656Z"
   },
   {
    "duration": 99,
    "start_time": "2022-07-06T10:39:42.683Z"
   },
   {
    "duration": 53,
    "start_time": "2022-07-06T10:39:42.784Z"
   },
   {
    "duration": 47,
    "start_time": "2022-07-06T10:39:42.839Z"
   },
   {
    "duration": 86,
    "start_time": "2022-07-06T10:39:42.888Z"
   },
   {
    "duration": 24,
    "start_time": "2022-07-06T10:39:42.977Z"
   },
   {
    "duration": 34,
    "start_time": "2022-07-06T10:39:43.003Z"
   },
   {
    "duration": 23,
    "start_time": "2022-07-06T10:39:43.041Z"
   },
   {
    "duration": 15,
    "start_time": "2022-07-06T10:39:43.066Z"
   },
   {
    "duration": 90,
    "start_time": "2022-07-06T10:39:43.084Z"
   },
   {
    "duration": 165,
    "start_time": "2022-07-06T10:39:43.177Z"
   },
   {
    "duration": 101,
    "start_time": "2022-07-06T10:39:43.343Z"
   },
   {
    "duration": 16,
    "start_time": "2022-07-06T10:39:43.452Z"
   },
   {
    "duration": 8,
    "start_time": "2022-07-06T10:39:43.470Z"
   },
   {
    "duration": 85,
    "start_time": "2022-07-06T10:39:43.480Z"
   },
   {
    "duration": 224,
    "start_time": "2022-07-06T10:39:43.567Z"
   },
   {
    "duration": 11,
    "start_time": "2022-07-06T10:39:43.793Z"
   },
   {
    "duration": 31,
    "start_time": "2022-07-06T10:39:43.806Z"
   },
   {
    "duration": 19,
    "start_time": "2022-07-06T10:39:43.847Z"
   },
   {
    "duration": 18,
    "start_time": "2022-07-06T10:39:43.868Z"
   },
   {
    "duration": 4,
    "start_time": "2022-07-06T10:42:45.685Z"
   },
   {
    "duration": 983,
    "start_time": "2022-07-06T10:42:45.691Z"
   },
   {
    "duration": 14,
    "start_time": "2022-07-06T10:42:46.676Z"
   },
   {
    "duration": 143,
    "start_time": "2022-07-06T10:42:46.692Z"
   },
   {
    "duration": 28,
    "start_time": "2022-07-06T10:42:46.840Z"
   },
   {
    "duration": 139,
    "start_time": "2022-07-06T10:42:46.870Z"
   },
   {
    "duration": 39,
    "start_time": "2022-07-06T10:42:47.011Z"
   },
   {
    "duration": 35,
    "start_time": "2022-07-06T10:42:47.057Z"
   },
   {
    "duration": 26,
    "start_time": "2022-07-06T10:42:47.094Z"
   },
   {
    "duration": 65,
    "start_time": "2022-07-06T10:42:47.122Z"
   },
   {
    "duration": 37,
    "start_time": "2022-07-06T10:42:47.190Z"
   },
   {
    "duration": 59,
    "start_time": "2022-07-06T10:42:47.237Z"
   },
   {
    "duration": 90,
    "start_time": "2022-07-06T10:42:47.297Z"
   },
   {
    "duration": 20,
    "start_time": "2022-07-06T10:42:47.389Z"
   },
   {
    "duration": 57,
    "start_time": "2022-07-06T10:42:47.411Z"
   },
   {
    "duration": 25,
    "start_time": "2022-07-06T10:42:47.470Z"
   },
   {
    "duration": 67,
    "start_time": "2022-07-06T10:42:47.498Z"
   },
   {
    "duration": 36,
    "start_time": "2022-07-06T10:42:47.567Z"
   },
   {
    "duration": 38,
    "start_time": "2022-07-06T10:42:47.605Z"
   },
   {
    "duration": 44,
    "start_time": "2022-07-06T10:42:47.648Z"
   },
   {
    "duration": 51,
    "start_time": "2022-07-06T10:42:47.694Z"
   },
   {
    "duration": 98,
    "start_time": "2022-07-06T10:42:47.753Z"
   },
   {
    "duration": 41,
    "start_time": "2022-07-06T10:42:47.852Z"
   },
   {
    "duration": 60,
    "start_time": "2022-07-06T10:42:47.895Z"
   },
   {
    "duration": 61,
    "start_time": "2022-07-06T10:42:47.957Z"
   },
   {
    "duration": 26,
    "start_time": "2022-07-06T10:42:48.031Z"
   },
   {
    "duration": 32,
    "start_time": "2022-07-06T10:42:48.059Z"
   },
   {
    "duration": 21,
    "start_time": "2022-07-06T10:42:48.093Z"
   },
   {
    "duration": 13,
    "start_time": "2022-07-06T10:42:48.118Z"
   },
   {
    "duration": 103,
    "start_time": "2022-07-06T10:42:48.133Z"
   },
   {
    "duration": 167,
    "start_time": "2022-07-06T10:42:48.245Z"
   },
   {
    "duration": 108,
    "start_time": "2022-07-06T10:42:48.414Z"
   },
   {
    "duration": 23,
    "start_time": "2022-07-06T10:42:48.529Z"
   },
   {
    "duration": 28,
    "start_time": "2022-07-06T10:42:48.554Z"
   },
   {
    "duration": 91,
    "start_time": "2022-07-06T10:42:48.584Z"
   },
   {
    "duration": 240,
    "start_time": "2022-07-06T10:42:48.677Z"
   },
   {
    "duration": 19,
    "start_time": "2022-07-06T10:42:48.920Z"
   },
   {
    "duration": 63,
    "start_time": "2022-07-06T10:42:48.952Z"
   },
   {
    "duration": 66,
    "start_time": "2022-07-06T10:42:49.018Z"
   },
   {
    "duration": 49,
    "start_time": "2022-07-06T10:42:49.086Z"
   },
   {
    "duration": 45,
    "start_time": "2022-07-06T10:42:49.139Z"
   },
   {
    "duration": 87,
    "start_time": "2022-07-06T10:42:49.187Z"
   },
   {
    "duration": 19,
    "start_time": "2022-07-06T10:42:49.276Z"
   },
   {
    "duration": 11,
    "start_time": "2022-07-06T10:42:49.297Z"
   },
   {
    "duration": 52,
    "start_time": "2022-07-06T10:42:49.310Z"
   },
   {
    "duration": 76,
    "start_time": "2022-07-06T10:42:49.364Z"
   },
   {
    "duration": 7,
    "start_time": "2022-07-06T10:43:37.405Z"
   },
   {
    "duration": 7,
    "start_time": "2022-07-06T10:43:38.881Z"
   },
   {
    "duration": 3,
    "start_time": "2022-07-06T10:44:30.191Z"
   },
   {
    "duration": 5,
    "start_time": "2022-07-06T10:44:32.447Z"
   },
   {
    "duration": 4,
    "start_time": "2022-07-06T10:44:46.258Z"
   },
   {
    "duration": 1777,
    "start_time": "2022-07-06T10:44:55.112Z"
   },
   {
    "duration": 1573,
    "start_time": "2022-07-06T10:44:56.891Z"
   },
   {
    "duration": 22,
    "start_time": "2022-07-06T10:44:58.466Z"
   },
   {
    "duration": 151,
    "start_time": "2022-07-06T10:44:58.490Z"
   },
   {
    "duration": 30,
    "start_time": "2022-07-06T10:44:58.647Z"
   },
   {
    "duration": 129,
    "start_time": "2022-07-06T10:44:58.679Z"
   },
   {
    "duration": 32,
    "start_time": "2022-07-06T10:44:58.809Z"
   },
   {
    "duration": 44,
    "start_time": "2022-07-06T10:44:58.843Z"
   },
   {
    "duration": 23,
    "start_time": "2022-07-06T10:44:58.890Z"
   },
   {
    "duration": 38,
    "start_time": "2022-07-06T10:44:58.916Z"
   },
   {
    "duration": 45,
    "start_time": "2022-07-06T10:44:58.959Z"
   },
   {
    "duration": 33,
    "start_time": "2022-07-06T10:44:59.007Z"
   },
   {
    "duration": 75,
    "start_time": "2022-07-06T10:44:59.045Z"
   },
   {
    "duration": 44,
    "start_time": "2022-07-06T10:44:59.124Z"
   },
   {
    "duration": 27,
    "start_time": "2022-07-06T10:44:59.170Z"
   },
   {
    "duration": 43,
    "start_time": "2022-07-06T10:44:59.199Z"
   },
   {
    "duration": 47,
    "start_time": "2022-07-06T10:44:59.248Z"
   },
   {
    "duration": 50,
    "start_time": "2022-07-06T10:44:59.298Z"
   },
   {
    "duration": 55,
    "start_time": "2022-07-06T10:44:59.350Z"
   },
   {
    "duration": 37,
    "start_time": "2022-07-06T10:44:59.406Z"
   },
   {
    "duration": 26,
    "start_time": "2022-07-06T10:44:59.451Z"
   },
   {
    "duration": 104,
    "start_time": "2022-07-06T10:44:59.479Z"
   },
   {
    "duration": 51,
    "start_time": "2022-07-06T10:44:59.584Z"
   },
   {
    "duration": 44,
    "start_time": "2022-07-06T10:44:59.641Z"
   },
   {
    "duration": 72,
    "start_time": "2022-07-06T10:44:59.687Z"
   },
   {
    "duration": 30,
    "start_time": "2022-07-06T10:44:59.761Z"
   },
   {
    "duration": 46,
    "start_time": "2022-07-06T10:44:59.793Z"
   },
   {
    "duration": 29,
    "start_time": "2022-07-06T10:44:59.846Z"
   },
   {
    "duration": 11,
    "start_time": "2022-07-06T10:44:59.877Z"
   },
   {
    "duration": 73,
    "start_time": "2022-07-06T10:44:59.890Z"
   },
   {
    "duration": 150,
    "start_time": "2022-07-06T10:44:59.965Z"
   },
   {
    "duration": 143,
    "start_time": "2022-07-06T10:45:00.117Z"
   },
   {
    "duration": 17,
    "start_time": "2022-07-06T10:45:00.265Z"
   },
   {
    "duration": 10,
    "start_time": "2022-07-06T10:45:00.284Z"
   },
   {
    "duration": 76,
    "start_time": "2022-07-06T10:45:00.296Z"
   },
   {
    "duration": 233,
    "start_time": "2022-07-06T10:45:00.374Z"
   },
   {
    "duration": 26,
    "start_time": "2022-07-06T10:45:00.609Z"
   },
   {
    "duration": 47,
    "start_time": "2022-07-06T10:45:00.637Z"
   },
   {
    "duration": 85,
    "start_time": "2022-07-06T10:45:00.686Z"
   },
   {
    "duration": 47,
    "start_time": "2022-07-06T10:45:00.773Z"
   },
   {
    "duration": 29,
    "start_time": "2022-07-06T10:45:00.834Z"
   },
   {
    "duration": 61,
    "start_time": "2022-07-06T10:45:00.866Z"
   },
   {
    "duration": 29,
    "start_time": "2022-07-06T10:45:00.929Z"
   },
   {
    "duration": 23,
    "start_time": "2022-07-06T10:45:00.966Z"
   },
   {
    "duration": 22,
    "start_time": "2022-07-06T10:45:00.992Z"
   },
   {
    "duration": 120,
    "start_time": "2022-07-06T10:45:01.016Z"
   },
   {
    "duration": 16,
    "start_time": "2022-07-06T10:45:01.138Z"
   },
   {
    "duration": 200,
    "start_time": "2022-07-06T10:45:01.157Z"
   },
   {
    "duration": 10,
    "start_time": "2022-07-06T10:45:01.360Z"
   },
   {
    "duration": 23,
    "start_time": "2022-07-06T10:45:01.372Z"
   },
   {
    "duration": 19,
    "start_time": "2022-07-06T10:45:01.397Z"
   },
   {
    "duration": 60,
    "start_time": "2022-07-06T10:45:01.418Z"
   },
   {
    "duration": 14,
    "start_time": "2022-07-06T10:45:01.480Z"
   },
   {
    "duration": 30,
    "start_time": "2022-07-06T10:45:01.496Z"
   },
   {
    "duration": 1925,
    "start_time": "2022-07-06T10:51:16.872Z"
   },
   {
    "duration": 34678,
    "start_time": "2022-07-06T10:51:44.387Z"
   },
   {
    "duration": 564,
    "start_time": "2022-07-06T10:52:56.297Z"
   },
   {
    "duration": 19854,
    "start_time": "2022-07-06T10:53:04.965Z"
   },
   {
    "duration": 5787283,
    "start_time": "2022-07-06T10:54:12.279Z"
   },
   {
    "duration": 323012,
    "start_time": "2022-07-06T12:32:04.251Z"
   },
   {
    "duration": 3,
    "start_time": "2022-07-06T12:37:31.903Z"
   },
   {
    "duration": 60,
    "start_time": "2022-07-06T12:37:38.757Z"
   },
   {
    "duration": 7812,
    "start_time": "2022-07-06T12:38:01.979Z"
   },
   {
    "duration": 10,
    "start_time": "2022-07-06T12:38:13.901Z"
   },
   {
    "duration": 136432,
    "start_time": "2022-07-06T12:38:17.716Z"
   },
   {
    "duration": 3,
    "start_time": "2022-07-06T12:40:52.788Z"
   },
   {
    "duration": 943,
    "start_time": "2022-07-06T12:40:52.794Z"
   },
   {
    "duration": 15,
    "start_time": "2022-07-06T12:40:53.744Z"
   },
   {
    "duration": 130,
    "start_time": "2022-07-06T12:40:53.762Z"
   },
   {
    "duration": 47,
    "start_time": "2022-07-06T12:40:53.895Z"
   },
   {
    "duration": 133,
    "start_time": "2022-07-06T12:40:53.944Z"
   },
   {
    "duration": 22,
    "start_time": "2022-07-06T12:40:54.078Z"
   },
   {
    "duration": 37,
    "start_time": "2022-07-06T12:40:54.101Z"
   },
   {
    "duration": 33,
    "start_time": "2022-07-06T12:40:54.141Z"
   },
   {
    "duration": 21,
    "start_time": "2022-07-06T12:40:54.175Z"
   },
   {
    "duration": 18,
    "start_time": "2022-07-06T12:40:54.199Z"
   },
   {
    "duration": 38,
    "start_time": "2022-07-06T12:40:54.231Z"
   },
   {
    "duration": 38,
    "start_time": "2022-07-06T12:40:54.271Z"
   },
   {
    "duration": 20,
    "start_time": "2022-07-06T12:40:54.310Z"
   },
   {
    "duration": 41,
    "start_time": "2022-07-06T12:40:54.332Z"
   },
   {
    "duration": 23,
    "start_time": "2022-07-06T12:40:54.375Z"
   },
   {
    "duration": 24,
    "start_time": "2022-07-06T12:40:54.399Z"
   },
   {
    "duration": 43,
    "start_time": "2022-07-06T12:40:54.425Z"
   },
   {
    "duration": 20,
    "start_time": "2022-07-06T12:40:54.469Z"
   },
   {
    "duration": 21,
    "start_time": "2022-07-06T12:40:54.490Z"
   },
   {
    "duration": 24,
    "start_time": "2022-07-06T12:40:54.513Z"
   },
   {
    "duration": 88,
    "start_time": "2022-07-06T12:40:54.539Z"
   },
   {
    "duration": 43,
    "start_time": "2022-07-06T12:40:54.629Z"
   },
   {
    "duration": 28,
    "start_time": "2022-07-06T12:40:54.674Z"
   },
   {
    "duration": 80,
    "start_time": "2022-07-06T12:40:54.704Z"
   },
   {
    "duration": 42,
    "start_time": "2022-07-06T12:40:54.786Z"
   },
   {
    "duration": 27,
    "start_time": "2022-07-06T12:40:54.830Z"
   },
   {
    "duration": 18,
    "start_time": "2022-07-06T12:40:54.859Z"
   },
   {
    "duration": 11,
    "start_time": "2022-07-06T12:40:54.881Z"
   },
   {
    "duration": 80,
    "start_time": "2022-07-06T12:40:54.894Z"
   },
   {
    "duration": 150,
    "start_time": "2022-07-06T12:40:54.976Z"
   },
   {
    "duration": 133,
    "start_time": "2022-07-06T12:40:55.128Z"
   },
   {
    "duration": 30,
    "start_time": "2022-07-06T12:40:55.263Z"
   },
   {
    "duration": 19,
    "start_time": "2022-07-06T12:40:55.295Z"
   },
   {
    "duration": 81,
    "start_time": "2022-07-06T12:40:55.316Z"
   },
   {
    "duration": 207,
    "start_time": "2022-07-06T12:40:55.399Z"
   },
   {
    "duration": 17,
    "start_time": "2022-07-06T12:40:55.608Z"
   },
   {
    "duration": 38,
    "start_time": "2022-07-06T12:40:55.627Z"
   },
   {
    "duration": 15,
    "start_time": "2022-07-06T12:40:55.667Z"
   },
   {
    "duration": 19,
    "start_time": "2022-07-06T12:40:55.684Z"
   },
   {
    "duration": 10,
    "start_time": "2022-07-06T12:40:55.705Z"
   },
   {
    "duration": 49,
    "start_time": "2022-07-06T12:40:55.717Z"
   },
   {
    "duration": 15,
    "start_time": "2022-07-06T12:40:55.769Z"
   },
   {
    "duration": 4,
    "start_time": "2022-07-06T12:40:55.786Z"
   },
   {
    "duration": 7,
    "start_time": "2022-07-06T12:40:55.792Z"
   },
   {
    "duration": 69,
    "start_time": "2022-07-06T12:40:55.801Z"
   },
   {
    "duration": 166,
    "start_time": "2022-07-06T12:40:55.872Z"
   },
   {
    "duration": 23,
    "start_time": "2022-07-06T12:40:56.040Z"
   },
   {
    "duration": 5,
    "start_time": "2022-07-06T12:40:56.065Z"
   },
   {
    "duration": 10,
    "start_time": "2022-07-06T12:40:56.071Z"
   },
   {
    "duration": 13,
    "start_time": "2022-07-06T12:40:56.083Z"
   },
   {
    "duration": 11,
    "start_time": "2022-07-06T12:40:56.099Z"
   },
   {
    "duration": 6,
    "start_time": "2022-07-06T12:40:56.112Z"
   },
   {
    "duration": 38,
    "start_time": "2022-07-06T12:40:56.120Z"
   },
   {
    "duration": 5,
    "start_time": "2022-07-06T12:40:56.160Z"
   },
   {
    "duration": 6780,
    "start_time": "2022-07-06T12:40:56.167Z"
   },
   {
    "duration": 0,
    "start_time": "2022-07-06T12:41:02.949Z"
   },
   {
    "duration": 0,
    "start_time": "2022-07-06T12:41:02.951Z"
   },
   {
    "duration": 1340,
    "start_time": "2022-07-06T12:41:12.159Z"
   },
   {
    "duration": 987,
    "start_time": "2022-07-06T12:41:13.501Z"
   },
   {
    "duration": 22,
    "start_time": "2022-07-06T12:41:14.489Z"
   },
   {
    "duration": 147,
    "start_time": "2022-07-06T12:41:14.513Z"
   },
   {
    "duration": 27,
    "start_time": "2022-07-06T12:41:14.663Z"
   },
   {
    "duration": 145,
    "start_time": "2022-07-06T12:41:14.692Z"
   },
   {
    "duration": 23,
    "start_time": "2022-07-06T12:41:14.846Z"
   },
   {
    "duration": 24,
    "start_time": "2022-07-06T12:41:14.871Z"
   },
   {
    "duration": 32,
    "start_time": "2022-07-06T12:41:14.897Z"
   },
   {
    "duration": 30,
    "start_time": "2022-07-06T12:41:14.936Z"
   },
   {
    "duration": 30,
    "start_time": "2022-07-06T12:41:14.967Z"
   },
   {
    "duration": 49,
    "start_time": "2022-07-06T12:41:14.999Z"
   },
   {
    "duration": 64,
    "start_time": "2022-07-06T12:41:15.052Z"
   },
   {
    "duration": 34,
    "start_time": "2022-07-06T12:41:15.121Z"
   },
   {
    "duration": 26,
    "start_time": "2022-07-06T12:41:15.157Z"
   },
   {
    "duration": 23,
    "start_time": "2022-07-06T12:41:15.185Z"
   },
   {
    "duration": 39,
    "start_time": "2022-07-06T12:41:15.210Z"
   },
   {
    "duration": 26,
    "start_time": "2022-07-06T12:41:15.252Z"
   },
   {
    "duration": 23,
    "start_time": "2022-07-06T12:41:15.280Z"
   },
   {
    "duration": 46,
    "start_time": "2022-07-06T12:41:15.305Z"
   },
   {
    "duration": 21,
    "start_time": "2022-07-06T12:41:15.353Z"
   },
   {
    "duration": 97,
    "start_time": "2022-07-06T12:41:15.376Z"
   },
   {
    "duration": 48,
    "start_time": "2022-07-06T12:41:15.475Z"
   },
   {
    "duration": 45,
    "start_time": "2022-07-06T12:41:15.528Z"
   },
   {
    "duration": 81,
    "start_time": "2022-07-06T12:41:15.574Z"
   },
   {
    "duration": 29,
    "start_time": "2022-07-06T12:41:15.657Z"
   },
   {
    "duration": 45,
    "start_time": "2022-07-06T12:41:15.688Z"
   },
   {
    "duration": 30,
    "start_time": "2022-07-06T12:41:15.736Z"
   },
   {
    "duration": 11,
    "start_time": "2022-07-06T12:41:15.767Z"
   },
   {
    "duration": 79,
    "start_time": "2022-07-06T12:41:15.780Z"
   },
   {
    "duration": 152,
    "start_time": "2022-07-06T12:41:15.861Z"
   },
   {
    "duration": 137,
    "start_time": "2022-07-06T12:41:16.015Z"
   },
   {
    "duration": 13,
    "start_time": "2022-07-06T12:41:16.154Z"
   },
   {
    "duration": 13,
    "start_time": "2022-07-06T12:41:16.170Z"
   },
   {
    "duration": 68,
    "start_time": "2022-07-06T12:41:16.185Z"
   },
   {
    "duration": 216,
    "start_time": "2022-07-06T12:41:16.254Z"
   },
   {
    "duration": 11,
    "start_time": "2022-07-06T12:41:16.472Z"
   },
   {
    "duration": 15,
    "start_time": "2022-07-06T12:41:16.485Z"
   },
   {
    "duration": 97,
    "start_time": "2022-07-06T12:41:16.502Z"
   },
   {
    "duration": 27,
    "start_time": "2022-07-06T12:41:16.601Z"
   },
   {
    "duration": 18,
    "start_time": "2022-07-06T12:41:16.635Z"
   },
   {
    "duration": 36,
    "start_time": "2022-07-06T12:41:16.655Z"
   },
   {
    "duration": 40,
    "start_time": "2022-07-06T12:41:16.693Z"
   },
   {
    "duration": 9,
    "start_time": "2022-07-06T12:41:16.742Z"
   },
   {
    "duration": 4,
    "start_time": "2022-07-06T12:41:16.753Z"
   },
   {
    "duration": 73,
    "start_time": "2022-07-06T12:41:16.759Z"
   },
   {
    "duration": 20,
    "start_time": "2022-07-06T12:41:16.834Z"
   },
   {
    "duration": 195,
    "start_time": "2022-07-06T12:41:16.860Z"
   },
   {
    "duration": 5,
    "start_time": "2022-07-06T12:41:17.057Z"
   },
   {
    "duration": 6,
    "start_time": "2022-07-06T12:41:17.063Z"
   },
   {
    "duration": 5,
    "start_time": "2022-07-06T12:41:17.071Z"
   },
   {
    "duration": 7,
    "start_time": "2022-07-06T12:41:17.077Z"
   },
   {
    "duration": 6,
    "start_time": "2022-07-06T12:41:17.086Z"
   },
   {
    "duration": 7,
    "start_time": "2022-07-06T12:41:17.094Z"
   },
   {
    "duration": 5,
    "start_time": "2022-07-06T12:41:17.103Z"
   },
   {
    "duration": 197,
    "start_time": "2022-07-06T13:02:14.274Z"
   },
   {
    "duration": 2,
    "start_time": "2022-07-06T13:02:58.107Z"
   },
   {
    "duration": 1930,
    "start_time": "2022-07-06T13:03:50.891Z"
   },
   {
    "duration": 1890,
    "start_time": "2022-07-06T13:03:52.823Z"
   },
   {
    "duration": 34,
    "start_time": "2022-07-06T13:03:54.715Z"
   },
   {
    "duration": 177,
    "start_time": "2022-07-06T13:03:54.752Z"
   },
   {
    "duration": 34,
    "start_time": "2022-07-06T13:03:54.931Z"
   },
   {
    "duration": 196,
    "start_time": "2022-07-06T13:03:54.967Z"
   },
   {
    "duration": 44,
    "start_time": "2022-07-06T13:03:55.165Z"
   },
   {
    "duration": 42,
    "start_time": "2022-07-06T13:03:55.212Z"
   },
   {
    "duration": 53,
    "start_time": "2022-07-06T13:03:55.257Z"
   },
   {
    "duration": 46,
    "start_time": "2022-07-06T13:03:55.314Z"
   },
   {
    "duration": 43,
    "start_time": "2022-07-06T13:03:55.370Z"
   },
   {
    "duration": 52,
    "start_time": "2022-07-06T13:03:55.415Z"
   },
   {
    "duration": 49,
    "start_time": "2022-07-06T13:03:55.476Z"
   },
   {
    "duration": 38,
    "start_time": "2022-07-06T13:03:55.528Z"
   },
   {
    "duration": 42,
    "start_time": "2022-07-06T13:03:55.573Z"
   },
   {
    "duration": 48,
    "start_time": "2022-07-06T13:03:55.617Z"
   },
   {
    "duration": 31,
    "start_time": "2022-07-06T13:03:55.667Z"
   },
   {
    "duration": 23,
    "start_time": "2022-07-06T13:03:55.700Z"
   },
   {
    "duration": 32,
    "start_time": "2022-07-06T13:03:55.729Z"
   },
   {
    "duration": 35,
    "start_time": "2022-07-06T13:03:55.762Z"
   },
   {
    "duration": 64,
    "start_time": "2022-07-06T13:03:55.800Z"
   },
   {
    "duration": 147,
    "start_time": "2022-07-06T13:03:55.867Z"
   },
   {
    "duration": 59,
    "start_time": "2022-07-06T13:03:56.016Z"
   },
   {
    "duration": 60,
    "start_time": "2022-07-06T13:03:56.078Z"
   },
   {
    "duration": 98,
    "start_time": "2022-07-06T13:03:56.146Z"
   },
   {
    "duration": 33,
    "start_time": "2022-07-06T13:03:56.245Z"
   },
   {
    "duration": 31,
    "start_time": "2022-07-06T13:03:56.281Z"
   },
   {
    "duration": 46,
    "start_time": "2022-07-06T13:03:56.318Z"
   },
   {
    "duration": 18,
    "start_time": "2022-07-06T13:03:56.366Z"
   },
   {
    "duration": 101,
    "start_time": "2022-07-06T13:03:56.386Z"
   },
   {
    "duration": 180,
    "start_time": "2022-07-06T13:03:56.490Z"
   },
   {
    "duration": 114,
    "start_time": "2022-07-06T13:03:56.672Z"
   },
   {
    "duration": 11,
    "start_time": "2022-07-06T13:03:56.788Z"
   },
   {
    "duration": 5,
    "start_time": "2022-07-06T13:03:56.801Z"
   },
   {
    "duration": 84,
    "start_time": "2022-07-06T13:03:56.807Z"
   },
   {
    "duration": 226,
    "start_time": "2022-07-06T13:03:56.893Z"
   },
   {
    "duration": 21,
    "start_time": "2022-07-06T13:03:57.123Z"
   },
   {
    "duration": 32,
    "start_time": "2022-07-06T13:03:57.146Z"
   },
   {
    "duration": 14,
    "start_time": "2022-07-06T13:03:57.179Z"
   },
   {
    "duration": 111,
    "start_time": "2022-07-06T13:03:57.195Z"
   },
   {
    "duration": 12,
    "start_time": "2022-07-06T13:03:57.308Z"
   },
   {
    "duration": 42,
    "start_time": "2022-07-06T13:03:57.326Z"
   },
   {
    "duration": 19,
    "start_time": "2022-07-06T13:03:57.370Z"
   },
   {
    "duration": 6,
    "start_time": "2022-07-06T13:03:57.391Z"
   },
   {
    "duration": 25,
    "start_time": "2022-07-06T13:03:57.399Z"
   },
   {
    "duration": 81,
    "start_time": "2022-07-06T13:03:57.426Z"
   },
   {
    "duration": 49,
    "start_time": "2022-07-06T13:03:57.509Z"
   },
   {
    "duration": 32,
    "start_time": "2022-07-06T13:03:57.640Z"
   },
   {
    "duration": 4,
    "start_time": "2022-07-06T13:03:57.723Z"
   },
   {
    "duration": 39,
    "start_time": "2022-07-06T13:03:57.729Z"
   },
   {
    "duration": 5,
    "start_time": "2022-07-06T13:03:57.770Z"
   },
   {
    "duration": 5,
    "start_time": "2022-07-06T13:03:57.776Z"
   },
   {
    "duration": 6,
    "start_time": "2022-07-06T13:03:57.782Z"
   },
   {
    "duration": 3,
    "start_time": "2022-07-06T13:04:07.101Z"
   },
   {
    "duration": 78633,
    "start_time": "2022-07-06T13:04:07.660Z"
   },
   {
    "duration": 13,
    "start_time": "2022-07-06T13:05:26.295Z"
   },
   {
    "duration": 0,
    "start_time": "2022-07-06T13:05:26.310Z"
   },
   {
    "duration": 1466,
    "start_time": "2022-07-06T13:05:51.272Z"
   },
   {
    "duration": 1131,
    "start_time": "2022-07-06T13:05:52.740Z"
   },
   {
    "duration": 28,
    "start_time": "2022-07-06T13:05:53.874Z"
   },
   {
    "duration": 181,
    "start_time": "2022-07-06T13:05:53.904Z"
   },
   {
    "duration": 56,
    "start_time": "2022-07-06T13:05:54.088Z"
   },
   {
    "duration": 182,
    "start_time": "2022-07-06T13:05:54.153Z"
   },
   {
    "duration": 36,
    "start_time": "2022-07-06T13:05:54.339Z"
   },
   {
    "duration": 33,
    "start_time": "2022-07-06T13:05:54.378Z"
   },
   {
    "duration": 32,
    "start_time": "2022-07-06T13:05:54.414Z"
   },
   {
    "duration": 52,
    "start_time": "2022-07-06T13:05:54.448Z"
   },
   {
    "duration": 28,
    "start_time": "2022-07-06T13:05:54.503Z"
   },
   {
    "duration": 58,
    "start_time": "2022-07-06T13:05:54.533Z"
   },
   {
    "duration": 53,
    "start_time": "2022-07-06T13:05:54.594Z"
   },
   {
    "duration": 29,
    "start_time": "2022-07-06T13:05:54.651Z"
   },
   {
    "duration": 35,
    "start_time": "2022-07-06T13:05:54.683Z"
   },
   {
    "duration": 78,
    "start_time": "2022-07-06T13:05:54.721Z"
   },
   {
    "duration": 52,
    "start_time": "2022-07-06T13:05:54.801Z"
   },
   {
    "duration": 63,
    "start_time": "2022-07-06T13:05:54.855Z"
   },
   {
    "duration": 48,
    "start_time": "2022-07-06T13:05:54.921Z"
   },
   {
    "duration": 64,
    "start_time": "2022-07-06T13:05:54.974Z"
   },
   {
    "duration": 61,
    "start_time": "2022-07-06T13:05:55.045Z"
   },
   {
    "duration": 132,
    "start_time": "2022-07-06T13:05:55.108Z"
   },
   {
    "duration": 62,
    "start_time": "2022-07-06T13:05:55.243Z"
   },
   {
    "duration": 69,
    "start_time": "2022-07-06T13:05:55.308Z"
   },
   {
    "duration": 86,
    "start_time": "2022-07-06T13:05:55.381Z"
   },
   {
    "duration": 31,
    "start_time": "2022-07-06T13:05:55.479Z"
   },
   {
    "duration": 36,
    "start_time": "2022-07-06T13:05:55.512Z"
   },
   {
    "duration": 32,
    "start_time": "2022-07-06T13:05:55.550Z"
   },
   {
    "duration": 60,
    "start_time": "2022-07-06T13:05:55.587Z"
   },
   {
    "duration": 134,
    "start_time": "2022-07-06T13:05:55.656Z"
   },
   {
    "duration": 190,
    "start_time": "2022-07-06T13:05:55.793Z"
   },
   {
    "duration": 163,
    "start_time": "2022-07-06T13:05:55.985Z"
   },
   {
    "duration": 14,
    "start_time": "2022-07-06T13:05:56.157Z"
   },
   {
    "duration": 33,
    "start_time": "2022-07-06T13:05:56.177Z"
   },
   {
    "duration": 96,
    "start_time": "2022-07-06T13:05:56.213Z"
   },
   {
    "duration": 282,
    "start_time": "2022-07-06T13:05:56.311Z"
   },
   {
    "duration": 15,
    "start_time": "2022-07-06T13:05:56.595Z"
   },
   {
    "duration": 24,
    "start_time": "2022-07-06T13:05:56.612Z"
   },
   {
    "duration": 63,
    "start_time": "2022-07-06T13:05:56.638Z"
   },
   {
    "duration": 132,
    "start_time": "2022-07-06T13:05:56.703Z"
   },
   {
    "duration": 81,
    "start_time": "2022-07-06T13:05:56.840Z"
   },
   {
    "duration": 174,
    "start_time": "2022-07-06T13:05:56.923Z"
   },
   {
    "duration": 33,
    "start_time": "2022-07-06T13:05:57.100Z"
   },
   {
    "duration": 65,
    "start_time": "2022-07-06T13:05:57.136Z"
   },
   {
    "duration": 9,
    "start_time": "2022-07-06T13:05:57.204Z"
   },
   {
    "duration": 101,
    "start_time": "2022-07-06T13:05:57.217Z"
   },
   {
    "duration": 166,
    "start_time": "2022-07-06T13:05:57.321Z"
   },
   {
    "duration": 44,
    "start_time": "2022-07-06T13:05:57.492Z"
   },
   {
    "duration": 55,
    "start_time": "2022-07-06T13:05:57.538Z"
   },
   {
    "duration": 10,
    "start_time": "2022-07-06T13:05:57.597Z"
   },
   {
    "duration": 28,
    "start_time": "2022-07-06T13:05:57.610Z"
   },
   {
    "duration": 38,
    "start_time": "2022-07-06T13:05:57.640Z"
   },
   {
    "duration": 17,
    "start_time": "2022-07-06T13:05:57.680Z"
   },
   {
    "duration": 8,
    "start_time": "2022-07-06T13:05:57.700Z"
   },
   {
    "duration": 13,
    "start_time": "2022-07-06T13:05:57.710Z"
   },
   {
    "duration": 53,
    "start_time": "2022-07-06T13:05:57.731Z"
   },
   {
    "duration": 19,
    "start_time": "2022-07-06T13:05:57.786Z"
   },
   {
    "duration": 6,
    "start_time": "2022-07-06T13:05:57.807Z"
   },
   {
    "duration": 11,
    "start_time": "2022-07-06T13:05:57.816Z"
   },
   {
    "duration": 426728,
    "start_time": "2022-07-06T13:05:57.828Z"
   },
   {
    "duration": 412,
    "start_time": "2022-07-06T13:13:04.558Z"
   },
   {
    "duration": 5,
    "start_time": "2022-07-06T13:13:04.972Z"
   },
   {
    "duration": 302,
    "start_time": "2022-07-06T13:16:09.168Z"
   },
   {
    "duration": 4,
    "start_time": "2022-07-06T13:16:15.152Z"
   }
  ],
  "kernelspec": {
   "display_name": "Python 3",
   "language": "python",
   "name": "python3"
  },
  "language_info": {
   "codemirror_mode": {
    "name": "ipython",
    "version": 3
   },
   "file_extension": ".py",
   "mimetype": "text/x-python",
   "name": "python",
   "nbconvert_exporter": "python",
   "pygments_lexer": "ipython3",
   "version": "3.8.8"
  },
  "toc": {
   "base_numbering": 1,
   "nav_menu": {},
   "number_sections": true,
   "sideBar": true,
   "skip_h1_title": true,
   "title_cell": "Table of Contents",
   "title_sidebar": "Contents",
   "toc_cell": false,
   "toc_position": {
    "height": "calc(100% - 180px)",
    "left": "10px",
    "top": "150px",
    "width": "252.002px"
   },
   "toc_section_display": true,
   "toc_window_display": false
  }
 },
 "nbformat": 4,
 "nbformat_minor": 4
}
