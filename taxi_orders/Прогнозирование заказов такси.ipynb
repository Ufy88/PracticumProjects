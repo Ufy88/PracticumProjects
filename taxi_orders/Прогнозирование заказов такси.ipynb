{
 "cells": [
  {
   "cell_type": "markdown",
   "metadata": {},
   "source": [
    "# 1.   Прогнозирование заказов такси"
   ]
  },
  {
   "cell_type": "markdown",
   "metadata": {},
   "source": [
    "### 1.1   Цель работы"
   ]
  },
  {
   "cell_type": "markdown",
   "metadata": {},
   "source": [
    "<div style=\"background-color: #fff0e0; padding: 10px; font-family: monospace; font-size: 15px\">\n",
    "Компания «Чётенькое такси» собрала исторические данные о заказах такси в аэропортах. Чтобы привлекать больше водителей в период пиковой нагрузки, нужно спрогнозировать количество заказов такси на следующий час. Необходимо проанализировать данные, представить их в удобном виде, выявить тренд и сезонность данных, обучить несколько моделей на разных алгоритмах с меняющимися гиперпараметрами и выбрать наилучшую модель для прогнозирования. Количество заказов находится в столбце 'num_orders'</div>"
   ]
  },
  {
   "cell_type": "markdown",
   "metadata": {},
   "source": [
    "# 2.   Работа с данными"
   ]
  },
  {
   "cell_type": "markdown",
   "metadata": {},
   "source": [
    "## 2.1.   Подготовка"
   ]
  },
  {
   "cell_type": "code",
   "execution_count": 1,
   "metadata": {},
   "outputs": [],
   "source": [
    "import pandas as pd\n",
    "from statsmodels.tsa.seasonal import seasonal_decompose\n",
    "from sklearn.metrics import mean_squared_error\n",
    "from sklearn.model_selection import train_test_split\n",
    "from sklearn.linear_model import LinearRegression\n",
    "from sklearn.tree import DecisionTreeRegressor\n",
    "from sklearn.ensemble import RandomForestRegressor\n",
    "from catboost import CatBoostRegressor"
   ]
  },
  {
   "cell_type": "code",
   "execution_count": 2,
   "metadata": {},
   "outputs": [],
   "source": [
    "data = pd.read_csv('/datasets/taxi.csv')"
   ]
  },
  {
   "cell_type": "code",
   "execution_count": 3,
   "metadata": {},
   "outputs": [
    {
     "data": {
      "text/html": [
       "<div>\n",
       "<style scoped>\n",
       "    .dataframe tbody tr th:only-of-type {\n",
       "        vertical-align: middle;\n",
       "    }\n",
       "\n",
       "    .dataframe tbody tr th {\n",
       "        vertical-align: top;\n",
       "    }\n",
       "\n",
       "    .dataframe thead th {\n",
       "        text-align: right;\n",
       "    }\n",
       "</style>\n",
       "<table border=\"1\" class=\"dataframe\">\n",
       "  <thead>\n",
       "    <tr style=\"text-align: right;\">\n",
       "      <th></th>\n",
       "      <th>datetime</th>\n",
       "      <th>num_orders</th>\n",
       "    </tr>\n",
       "  </thead>\n",
       "  <tbody>\n",
       "    <tr>\n",
       "      <th>0</th>\n",
       "      <td>2018-03-01 00:00:00</td>\n",
       "      <td>9</td>\n",
       "    </tr>\n",
       "    <tr>\n",
       "      <th>1</th>\n",
       "      <td>2018-03-01 00:10:00</td>\n",
       "      <td>14</td>\n",
       "    </tr>\n",
       "    <tr>\n",
       "      <th>2</th>\n",
       "      <td>2018-03-01 00:20:00</td>\n",
       "      <td>28</td>\n",
       "    </tr>\n",
       "    <tr>\n",
       "      <th>3</th>\n",
       "      <td>2018-03-01 00:30:00</td>\n",
       "      <td>20</td>\n",
       "    </tr>\n",
       "    <tr>\n",
       "      <th>4</th>\n",
       "      <td>2018-03-01 00:40:00</td>\n",
       "      <td>32</td>\n",
       "    </tr>\n",
       "  </tbody>\n",
       "</table>\n",
       "</div>"
      ],
      "text/plain": [
       "              datetime  num_orders\n",
       "0  2018-03-01 00:00:00           9\n",
       "1  2018-03-01 00:10:00          14\n",
       "2  2018-03-01 00:20:00          28\n",
       "3  2018-03-01 00:30:00          20\n",
       "4  2018-03-01 00:40:00          32"
      ]
     },
     "metadata": {},
     "output_type": "display_data"
    },
    {
     "data": {
      "text/html": [
       "<div>\n",
       "<style scoped>\n",
       "    .dataframe tbody tr th:only-of-type {\n",
       "        vertical-align: middle;\n",
       "    }\n",
       "\n",
       "    .dataframe tbody tr th {\n",
       "        vertical-align: top;\n",
       "    }\n",
       "\n",
       "    .dataframe thead th {\n",
       "        text-align: right;\n",
       "    }\n",
       "</style>\n",
       "<table border=\"1\" class=\"dataframe\">\n",
       "  <thead>\n",
       "    <tr style=\"text-align: right;\">\n",
       "      <th></th>\n",
       "      <th>datetime</th>\n",
       "      <th>num_orders</th>\n",
       "    </tr>\n",
       "  </thead>\n",
       "  <tbody>\n",
       "  </tbody>\n",
       "</table>\n",
       "</div>"
      ],
      "text/plain": [
       "Empty DataFrame\n",
       "Columns: [datetime, num_orders]\n",
       "Index: []"
      ]
     },
     "metadata": {},
     "output_type": "display_data"
    }
   ],
   "source": [
    "display(data.head())\n",
    "display(data[data['num_orders'].isna()])"
   ]
  },
  {
   "cell_type": "markdown",
   "metadata": {},
   "source": [
    "<div style=\"background-color: #fff0e0; padding: 10px; font-family: monospace; font-size: 15px\">\n",
    "На первый взгляд данные чистые</div>"
   ]
  },
  {
   "cell_type": "code",
   "execution_count": 4,
   "metadata": {},
   "outputs": [
    {
     "name": "stdout",
     "output_type": "stream",
     "text": [
      "<class 'pandas.core.frame.DataFrame'>\n",
      "RangeIndex: 26496 entries, 0 to 26495\n",
      "Data columns (total 2 columns):\n",
      " #   Column      Non-Null Count  Dtype \n",
      "---  ------      --------------  ----- \n",
      " 0   datetime    26496 non-null  object\n",
      " 1   num_orders  26496 non-null  int64 \n",
      "dtypes: int64(1), object(1)\n",
      "memory usage: 414.1+ KB\n"
     ]
    }
   ],
   "source": [
    "data.info()"
   ]
  },
  {
   "cell_type": "markdown",
   "metadata": {},
   "source": [
    "<div style=\"background-color: #fff0e0; padding: 10px; font-family: monospace; font-size: 15px\">\n",
    "Превратим datetime в соответствующий тип данных</div>"
   ]
  },
  {
   "cell_type": "code",
   "execution_count": 5,
   "metadata": {},
   "outputs": [],
   "source": [
    "data['datetime'] = pd.to_datetime(data['datetime'])"
   ]
  },
  {
   "cell_type": "code",
   "execution_count": 6,
   "metadata": {},
   "outputs": [
    {
     "name": "stdout",
     "output_type": "stream",
     "text": [
      "<class 'pandas.core.frame.DataFrame'>\n",
      "RangeIndex: 26496 entries, 0 to 26495\n",
      "Data columns (total 2 columns):\n",
      " #   Column      Non-Null Count  Dtype         \n",
      "---  ------      --------------  -----         \n",
      " 0   datetime    26496 non-null  datetime64[ns]\n",
      " 1   num_orders  26496 non-null  int64         \n",
      "dtypes: datetime64[ns](1), int64(1)\n",
      "memory usage: 414.1 KB\n"
     ]
    }
   ],
   "source": [
    "data.info()"
   ]
  },
  {
   "cell_type": "markdown",
   "metadata": {},
   "source": [
    "<div style=\"background-color: #fff0e0; padding: 10px; font-family: monospace; font-size: 15px\">\n",
    "Внесем данные времени в индексы</div>"
   ]
  },
  {
   "cell_type": "code",
   "execution_count": 7,
   "metadata": {},
   "outputs": [],
   "source": [
    "data.set_index('datetime', inplace=True)"
   ]
  },
  {
   "cell_type": "code",
   "execution_count": 8,
   "metadata": {},
   "outputs": [
    {
     "data": {
      "text/html": [
       "<div>\n",
       "<style scoped>\n",
       "    .dataframe tbody tr th:only-of-type {\n",
       "        vertical-align: middle;\n",
       "    }\n",
       "\n",
       "    .dataframe tbody tr th {\n",
       "        vertical-align: top;\n",
       "    }\n",
       "\n",
       "    .dataframe thead th {\n",
       "        text-align: right;\n",
       "    }\n",
       "</style>\n",
       "<table border=\"1\" class=\"dataframe\">\n",
       "  <thead>\n",
       "    <tr style=\"text-align: right;\">\n",
       "      <th></th>\n",
       "      <th>num_orders</th>\n",
       "    </tr>\n",
       "    <tr>\n",
       "      <th>datetime</th>\n",
       "      <th></th>\n",
       "    </tr>\n",
       "  </thead>\n",
       "  <tbody>\n",
       "    <tr>\n",
       "      <th>2018-03-01 00:00:00</th>\n",
       "      <td>9</td>\n",
       "    </tr>\n",
       "    <tr>\n",
       "      <th>2018-03-01 00:10:00</th>\n",
       "      <td>14</td>\n",
       "    </tr>\n",
       "    <tr>\n",
       "      <th>2018-03-01 00:20:00</th>\n",
       "      <td>28</td>\n",
       "    </tr>\n",
       "    <tr>\n",
       "      <th>2018-03-01 00:30:00</th>\n",
       "      <td>20</td>\n",
       "    </tr>\n",
       "    <tr>\n",
       "      <th>2018-03-01 00:40:00</th>\n",
       "      <td>32</td>\n",
       "    </tr>\n",
       "  </tbody>\n",
       "</table>\n",
       "</div>"
      ],
      "text/plain": [
       "                     num_orders\n",
       "datetime                       \n",
       "2018-03-01 00:00:00           9\n",
       "2018-03-01 00:10:00          14\n",
       "2018-03-01 00:20:00          28\n",
       "2018-03-01 00:30:00          20\n",
       "2018-03-01 00:40:00          32"
      ]
     },
     "execution_count": 8,
     "metadata": {},
     "output_type": "execute_result"
    }
   ],
   "source": [
    "data.head()"
   ]
  },
  {
   "cell_type": "markdown",
   "metadata": {},
   "source": [
    "<div style=\"background-color: #fff0e0; padding: 10px; font-family: monospace; font-size: 15px\">\n",
    "Шаг в 10 минут. Ресемплирование будем выполнять по часу, с агрегацией среднего</div>"
   ]
  },
  {
   "cell_type": "code",
   "execution_count": 9,
   "metadata": {},
   "outputs": [],
   "source": [
    "data = data.resample('1H').sum()"
   ]
  },
  {
   "cell_type": "code",
   "execution_count": 10,
   "metadata": {},
   "outputs": [
    {
     "data": {
      "text/html": [
       "<div>\n",
       "<style scoped>\n",
       "    .dataframe tbody tr th:only-of-type {\n",
       "        vertical-align: middle;\n",
       "    }\n",
       "\n",
       "    .dataframe tbody tr th {\n",
       "        vertical-align: top;\n",
       "    }\n",
       "\n",
       "    .dataframe thead th {\n",
       "        text-align: right;\n",
       "    }\n",
       "</style>\n",
       "<table border=\"1\" class=\"dataframe\">\n",
       "  <thead>\n",
       "    <tr style=\"text-align: right;\">\n",
       "      <th></th>\n",
       "      <th>num_orders</th>\n",
       "    </tr>\n",
       "    <tr>\n",
       "      <th>datetime</th>\n",
       "      <th></th>\n",
       "    </tr>\n",
       "  </thead>\n",
       "  <tbody>\n",
       "    <tr>\n",
       "      <th>2018-03-01 00:00:00</th>\n",
       "      <td>124</td>\n",
       "    </tr>\n",
       "    <tr>\n",
       "      <th>2018-03-01 01:00:00</th>\n",
       "      <td>85</td>\n",
       "    </tr>\n",
       "    <tr>\n",
       "      <th>2018-03-01 02:00:00</th>\n",
       "      <td>71</td>\n",
       "    </tr>\n",
       "    <tr>\n",
       "      <th>2018-03-01 03:00:00</th>\n",
       "      <td>66</td>\n",
       "    </tr>\n",
       "    <tr>\n",
       "      <th>2018-03-01 04:00:00</th>\n",
       "      <td>43</td>\n",
       "    </tr>\n",
       "  </tbody>\n",
       "</table>\n",
       "</div>"
      ],
      "text/plain": [
       "                     num_orders\n",
       "datetime                       \n",
       "2018-03-01 00:00:00         124\n",
       "2018-03-01 01:00:00          85\n",
       "2018-03-01 02:00:00          71\n",
       "2018-03-01 03:00:00          66\n",
       "2018-03-01 04:00:00          43"
      ]
     },
     "execution_count": 10,
     "metadata": {},
     "output_type": "execute_result"
    }
   ],
   "source": [
    "data.head()"
   ]
  },
  {
   "cell_type": "markdown",
   "metadata": {},
   "source": [
    "<div style=\"background-color: #fff0e0; padding: 10px; font-family: monospace; font-size: 15px\">\n",
    "Для комфортного анализа отсортируем индексы</div>"
   ]
  },
  {
   "cell_type": "code",
   "execution_count": 11,
   "metadata": {},
   "outputs": [],
   "source": [
    "data.sort_index(inplace=True)"
   ]
  },
  {
   "cell_type": "code",
   "execution_count": 12,
   "metadata": {},
   "outputs": [
    {
     "data": {
      "text/plain": [
       "True"
      ]
     },
     "execution_count": 12,
     "metadata": {},
     "output_type": "execute_result"
    }
   ],
   "source": [
    "data.index.is_monotonic"
   ]
  },
  {
   "cell_type": "markdown",
   "metadata": {},
   "source": [
    "<div style=\"background-color: #fff0e0; padding: 10px; font-family: monospace; font-size: 15px\">\n",
    "Отлично, время находится там, где нужно, шаг в один час, данные отсортированы</div>"
   ]
  },
  {
   "cell_type": "code",
   "execution_count": 13,
   "metadata": {},
   "outputs": [
    {
     "name": "stdout",
     "output_type": "stream",
     "text": [
      "min: 2018-03-01 00:00:00\n",
      "max: 2018-08-31 23:00:00\n"
     ]
    }
   ],
   "source": [
    "print(f'min: {data.index.min()}')\n",
    "print(f'max: {data.index.max()}')"
   ]
  },
  {
   "cell_type": "markdown",
   "metadata": {},
   "source": [
    "<div style=\"background-color: #fff0e0; padding: 10px; font-family: monospace; font-size: 15px\">\n",
    "Имеем данные за полгода – с начала марта 2018 до конца августа 2018</div>"
   ]
  },
  {
   "cell_type": "markdown",
   "metadata": {},
   "source": [
    "## 2.2.   Анализ"
   ]
  },
  {
   "cell_type": "markdown",
   "metadata": {},
   "source": [
    "### 2.2.1.   Технический анализ"
   ]
  },
  {
   "cell_type": "markdown",
   "metadata": {},
   "source": [
    "<div style=\"background-color: #fff0e0; padding: 10px; font-family: monospace; font-size: 15px\">\n",
    "Посмотрим данные на графике</div>"
   ]
  },
  {
   "cell_type": "code",
   "execution_count": 14,
   "metadata": {},
   "outputs": [
    {
     "data": {
      "text/plain": [
       "<AxesSubplot:xlabel='datetime'>"
      ]
     },
     "execution_count": 14,
     "metadata": {},
     "output_type": "execute_result"
    },
    {
     "data": {
      "image/png": "[encoded data removed]",
      "text/plain": [
       "<Figure size 864x648 with 1 Axes>"
      ]
     },
     "metadata": {
      "needs_background": "light"
     },
     "output_type": "display_data"
    }
   ],
   "source": [
    "data.plot(figsize=(12, 9))"
   ]
  },
  {
   "cell_type": "markdown",
   "metadata": {},
   "source": [
    "<div style=\"background-color: #fff0e0; padding: 10px; font-family: monospace; font-size: 15px\">\n",
    "Видно, что тренд (довольно слабый) присутствует, обеспечивая стационарность. На первый взгляд сезонность имеется, однако, стоит провести чуть более глубокий анализ</div>\n",
    "\n",
    "<div style=\"background-color: #fff0e0; padding: 10px; font-family: monospace; font-size: 15px\">\n",
    "Посмотрим на скользящее среднее с окном в 1 и 5 дней</div>"
   ]
  },
  {
   "cell_type": "code",
   "execution_count": 15,
   "metadata": {},
   "outputs": [],
   "source": [
    "data['1_roll'] = data['num_orders'].rolling(24).mean()\n",
    "data['5_roll'] = data['num_orders'].rolling(24*5).mean()"
   ]
  },
  {
   "cell_type": "code",
   "execution_count": 16,
   "metadata": {},
   "outputs": [
    {
     "data": {
      "text/plain": [
       "<AxesSubplot:xlabel='datetime'>"
      ]
     },
     "execution_count": 16,
     "metadata": {},
     "output_type": "execute_result"
    },
    {
     "data": {
      "image/png": "[encoded data removed]",
      "text/plain": [
       "<Figure size 864x648 with 1 Axes>"
      ]
     },
     "metadata": {
      "needs_background": "light"
     },
     "output_type": "display_data"
    }
   ],
   "source": [
    "data.plot(figsize=(12, 9))"
   ]
  },
  {
   "cell_type": "markdown",
   "metadata": {},
   "source": [
    "<div style=\"background-color: #fff0e0; padding: 10px; font-family: monospace; font-size: 15px\">\n",
    "Определенно, тренд заметен. Попробуем узнать сезонность с помощью seasonal_decompose</div>"
   ]
  },
  {
   "cell_type": "code",
   "execution_count": 17,
   "metadata": {},
   "outputs": [
    {
     "data": {
      "text/plain": [
       "<AxesSubplot:xlabel='datetime'>"
      ]
     },
     "execution_count": 17,
     "metadata": {},
     "output_type": "execute_result"
    },
    {
     "data": {
      "image/png": "[encoded data removed]",
      "text/plain": [
       "<Figure size 864x648 with 1 Axes>"
      ]
     },
     "metadata": {
      "needs_background": "light"
     },
     "output_type": "display_data"
    }
   ],
   "source": [
    "seasonal_decompose(data['num_orders']).trend.plot(figsize=(12, 9))"
   ]
  },
  {
   "cell_type": "code",
   "execution_count": 18,
   "metadata": {},
   "outputs": [
    {
     "data": {
      "text/plain": [
       "<AxesSubplot:xlabel='datetime'>"
      ]
     },
     "execution_count": 18,
     "metadata": {},
     "output_type": "execute_result"
    },
    {
     "data": {
      "image/png": "[encoded data removed]",
      "text/plain": [
       "<Figure size 864x648 with 1 Axes>"
      ]
     },
     "metadata": {
      "needs_background": "light"
     },
     "output_type": "display_data"
    }
   ],
   "source": [
    "seasonal_decompose(data['num_orders']).seasonal.plot(figsize=(12, 9))"
   ]
  },
  {
   "cell_type": "markdown",
   "metadata": {},
   "source": [
    "<div style=\"background-color: #fff0e0; padding: 10px; font-family: monospace; font-size: 15px\">\n",
    "Сезонность стабильна, но посмотрим на нее чуть внимательнее</div>"
   ]
  },
  {
   "cell_type": "code",
   "execution_count": 19,
   "metadata": {},
   "outputs": [
    {
     "data": {
      "text/plain": [
       "<AxesSubplot:xlabel='datetime'>"
      ]
     },
     "execution_count": 19,
     "metadata": {},
     "output_type": "execute_result"
    },
    {
     "data": {
      "image/png": "[encoded data removed]",
      "text/plain": [
       "<Figure size 864x648 with 1 Axes>"
      ]
     },
     "metadata": {
      "needs_background": "light"
     },
     "output_type": "display_data"
    }
   ],
   "source": [
    "seasonal_decompose(data['num_orders'].iloc[:48]).seasonal.plot(figsize=(12, 9))"
   ]
  },
  {
   "cell_type": "markdown",
   "metadata": {},
   "source": [
    "<div style=\"background-color: #fff0e0; padding: 10px; font-family: monospace; font-size: 15px\">\n",
    "Спад в 6 утра и пик в полночь, похоже на аэропорт</div>\n",
    "\n",
    "<div style=\"background-color: #fff0e0; padding: 10px; font-family: monospace; font-size: 15px\">\n",
    "Посмотрим на разности</div>"
   ]
  },
  {
   "cell_type": "code",
   "execution_count": 20,
   "metadata": {},
   "outputs": [],
   "source": [
    "data['time_shift'] = data['num_orders'] - data['num_orders'].shift(24)"
   ]
  },
  {
   "cell_type": "code",
   "execution_count": 21,
   "metadata": {},
   "outputs": [
    {
     "data": {
      "text/plain": [
       "<AxesSubplot:xlabel='datetime'>"
      ]
     },
     "execution_count": 21,
     "metadata": {},
     "output_type": "execute_result"
    },
    {
     "data": {
      "image/png": "[encoded data removed]",
      "text/plain": [
       "<Figure size 864x648 with 1 Axes>"
      ]
     },
     "metadata": {
      "needs_background": "light"
     },
     "output_type": "display_data"
    }
   ],
   "source": [
    "data['time_shift'].plot(figsize=(12, 9))"
   ]
  },
  {
   "cell_type": "markdown",
   "metadata": {},
   "source": [
    "<div style=\"background-color: #fff0e0; padding: 10px; font-family: monospace; font-size: 15px\">\n",
    "Уверенная стационарность, за исключением стандартного отклонения – под конец оно выше, да и в процессе, бывает, встречается</div>"
   ]
  },
  {
   "cell_type": "markdown",
   "metadata": {},
   "source": [
    "### 2.2.2.   Выделение признаков"
   ]
  },
  {
   "cell_type": "markdown",
   "metadata": {},
   "source": [
    "<div style=\"background-color: #fff0e0; padding: 10px; font-family: monospace; font-size: 15px\">\n",
    "Очистим данные, полученные при анализе</div>"
   ]
  },
  {
   "cell_type": "code",
   "execution_count": 22,
   "metadata": {},
   "outputs": [],
   "source": [
    "data = data[['num_orders']]"
   ]
  },
  {
   "cell_type": "markdown",
   "metadata": {},
   "source": [
    "<div style=\"background-color: #fff0e0; padding: 10px; font-family: monospace; font-size: 15px\">\n",
    "Создадим функцию, выделяющую основные признаки</div>"
   ]
  },
  {
   "cell_type": "code",
   "execution_count": 23,
   "metadata": {},
   "outputs": [],
   "source": [
    "def create_features(data, lags=3, roll=3):    \n",
    "    data.loc[:, 'day'] = data.index.day\n",
    "    data.loc[:, 'dayofweek'] = data.index.dayofweek\n",
    "    data.loc[:, 'hour'] = data.index.hour\n",
    "    \n",
    "    for lag in range(1, lags+1):\n",
    "        data[f'lag_{lag}'] = data['num_orders'].shift(lag)\n",
    "    \n",
    "    data[f'rolling_{roll}'] = data['num_orders'].shift().rolling(roll).mean()\n",
    "    \n",
    "    return data"
   ]
  },
  {
   "cell_type": "markdown",
   "metadata": {},
   "source": [
    "<div style=\"background-color: #fff0e0; padding: 10px; font-family: monospace; font-size: 15px\">\n",
    "Отлично, теперь можно переходить к обучению</div>"
   ]
  },
  {
   "cell_type": "markdown",
   "metadata": {},
   "source": [
    "## 2.3.   Обучение"
   ]
  },
  {
   "cell_type": "markdown",
   "metadata": {},
   "source": [
    "### 2.3.1.   Универсальная функция"
   ]
  },
  {
   "cell_type": "markdown",
   "metadata": {},
   "source": [
    "<div style=\"background-color: #fff0e0; padding: 10px; font-family: monospace; font-size: 15px\">\n",
    "При разделении train : valid : test будем использовать соотношение 75 : 15 : 10</div>"
   ]
  },
  {
   "cell_type": "code",
   "execution_count": 24,
   "metadata": {},
   "outputs": [],
   "source": [
    "def make_split(data, lag, roll):\n",
    "    # разделяю данные на выборки\n",
    "    new_data = create_features(data, lag, roll)\n",
    "    train, valitest = train_test_split(new_data, shuffle=False, train_size=0.75)\n",
    "    train = train.dropna()\n",
    "    valid, test = train_test_split(valitest, shuffle=False, test_size=0.4)\n",
    "\n",
    "    # делю выборки на features и target\n",
    "    features_train = train.drop('num_orders', axis=1)\n",
    "    target_train = train['num_orders']\n",
    "    features_valid = valid.drop('num_orders', axis=1)\n",
    "    target_valid = valid['num_orders']\n",
    "    return features_train, target_train, features_valid, target_valid"
   ]
  },
  {
   "cell_type": "markdown",
   "metadata": {},
   "source": [
    "<div style=\"background-color: #fff0e0; padding: 10px; font-family: monospace; font-size: 15px\">\n",
    "Функция, в которой обучаем модель, предсказываем и отдаем RMSE</div>"
   ]
  },
  {
   "cell_type": "code",
   "execution_count": 25,
   "metadata": {},
   "outputs": [],
   "source": [
    "def make_pred(Algo, features_train, target_train, features_valid, target_valid):\n",
    "    model = Algo\n",
    "    model.fit(features_train, target_train)\n",
    "\n",
    "    # предсказываю и считаю RMSE\n",
    "    predicted = model.predict(features_valid)\n",
    "    model_rmse = mean_squared_error(predicted, target_valid)**0.5\n",
    "    return model_rmse"
   ]
  },
  {
   "cell_type": "markdown",
   "metadata": {},
   "source": [
    "### 2.3.2.   LinearRegression"
   ]
  },
  {
   "cell_type": "markdown",
   "metadata": {},
   "source": [
    "<div style=\"background-color: #fff0e0; padding: 10px; font-family: monospace; font-size: 15px\">\n",
    "Начнем с классики – линейная регрессия. Будем перебирать значения лагов и роллинга от 1 до 10, выберем то что даст лучший результат по RMSE</div>"
   ]
  },
  {
   "cell_type": "code",
   "execution_count": 26,
   "metadata": {},
   "outputs": [
    {
     "name": "stdout",
     "output_type": "stream",
     "text": [
      "(39.18269053575869, 9, 48)\n",
      "\n",
      "CPU times: user 2.18 s, sys: 1.31 s, total: 3.49 s\n",
      "Wall time: 3.5 s\n"
     ]
    }
   ],
   "source": [
    "%%time\n",
    "\n",
    "best_rmse = None\n",
    "best_lag = None\n",
    "best_roll = None\n",
    "\n",
    "for lag in range(1, 11):\n",
    "    for roll in [3, 6, 12, 24, 48]:\n",
    "        \n",
    "        features_train, target_train, features_valid, target_valid = make_split(data.copy(), \n",
    "                                                                                lag, \n",
    "                                                                                roll)\n",
    "        model = LinearRegression()\n",
    "        model_rmse = make_pred(model, features_train, target_train, \n",
    "                               features_valid, target_valid)\n",
    "\n",
    "        if not best_rmse:\n",
    "            best_rmse = model_rmse\n",
    "        if model_rmse < best_rmse:\n",
    "            best_rmse = model_rmse\n",
    "            best_lag = lag\n",
    "            best_roll = roll\n",
    "\n",
    "print((best_rmse, best_lag, best_roll), end='\\n\\n')"
   ]
  },
  {
   "cell_type": "markdown",
   "metadata": {},
   "source": [
    "<div style=\"background-color: #fff0e0; padding: 10px; font-family: monospace; font-size: 15px\">\n",
    "3 секунды, RMSE на уровне 39, лучший лаг 9, лучший ролл 48</div>"
   ]
  },
  {
   "cell_type": "markdown",
   "metadata": {},
   "source": [
    "### 2.3.3.   DecisionTreeRegressor"
   ]
  },
  {
   "cell_type": "markdown",
   "metadata": {},
   "source": [
    "<div style=\"background-color: #fff0e0; padding: 10px; font-family: monospace; font-size: 15px\">\n",
    "Здесь будем перебирать еще так же max_depth</div>"
   ]
  },
  {
   "cell_type": "code",
   "execution_count": 27,
   "metadata": {},
   "outputs": [
    {
     "name": "stdout",
     "output_type": "stream",
     "text": [
      "(34.1007839781787, 3, 48, 10)\n",
      "\n",
      "CPU times: user 12.1 s, sys: 54.5 ms, total: 12.1 s\n",
      "Wall time: 12.2 s\n"
     ]
    }
   ],
   "source": [
    "%%time\n",
    "\n",
    "best_rmse = None\n",
    "best_lag = None\n",
    "best_roll = None\n",
    "best_depth = None\n",
    "\n",
    "for lag in range(1, 11):\n",
    "    for roll in [3, 6, 12, 24, 48]:\n",
    "        for max_depth in range(4, 17, 2):\n",
    "\n",
    "            features_train, target_train, features_valid, target_valid = make_split(data.copy(), \n",
    "                                                                                    lag, \n",
    "                                                                                    roll)\n",
    "            model = DecisionTreeRegressor(random_state=12345, max_depth=max_depth)\n",
    "            model_rmse = make_pred(model, features_train, target_train, \n",
    "                                          features_valid, target_valid)\n",
    "\n",
    "            if not best_rmse:\n",
    "                best_rmse = model_rmse\n",
    "            if model_rmse < best_rmse:\n",
    "                best_rmse = model_rmse\n",
    "                best_lag = lag\n",
    "                best_roll = roll\n",
    "                best_depth = max_depth\n",
    "\n",
    "print((best_rmse, best_lag, best_roll, best_depth), end='\\n\\n')"
   ]
  },
  {
   "cell_type": "markdown",
   "metadata": {},
   "source": [
    "<div style=\"background-color: #fff0e0; padding: 10px; font-family: monospace; font-size: 15px\">\n",
    "Довольно точный – показатель RMSE 34</div>"
   ]
  },
  {
   "cell_type": "markdown",
   "metadata": {},
   "source": [
    "### 2.3.4.   RandomForestRegressor"
   ]
  },
  {
   "cell_type": "markdown",
   "metadata": {},
   "source": [
    "<div style=\"background-color: #fff0e0; padding: 10px; font-family: monospace; font-size: 15px\">\n",
    "Данный показатель ограничим в глубине обучения, так как при высоких настройках это будет супердолго. Однако, добавляются еще n_estimators</div>"
   ]
  },
  {
   "cell_type": "code",
   "execution_count": 28,
   "metadata": {},
   "outputs": [
    {
     "name": "stdout",
     "output_type": "stream",
     "text": [
      "(29.85219692218834, 5, 60, 24, 105)\n",
      "\n",
      "CPU times: user 3min 1s, sys: 580 ms, total: 3min 1s\n",
      "Wall time: 3min 3s\n"
     ]
    }
   ],
   "source": [
    "%%time\n",
    "\n",
    "best_rmse = None\n",
    "best_lag = None\n",
    "best_roll = None\n",
    "best_depth = None\n",
    "best_n_estimators = None\n",
    "\n",
    "for lag in range(4, 7):\n",
    "    for roll in [24, 36, 48, 60]:\n",
    "        for max_depth in range(20, 25, 2):\n",
    "            for n_estimators in range(95, 106, 5):\n",
    "\n",
    "                features_train, target_train, features_valid, target_valid = make_split(data.copy(), \n",
    "                                                                                        lag, \n",
    "                                                                                        roll)\n",
    "                model = RandomForestRegressor(random_state=12345, \n",
    "                                              max_depth=max_depth, \n",
    "                                              n_estimators=n_estimators)\n",
    "                model_rmse = make_pred(model, features_train, target_train, \n",
    "                                              features_valid, target_valid)\n",
    "\n",
    "                if not best_rmse:\n",
    "                    best_rmse = model_rmse\n",
    "                if model_rmse < best_rmse:\n",
    "                    best_rmse = model_rmse\n",
    "                    best_lag = lag\n",
    "                    best_roll = roll\n",
    "                    best_depth = max_depth\n",
    "                    best_n_estimators = n_estimators\n",
    "\n",
    "print((best_rmse, best_lag, best_roll, best_depth, best_n_estimators), end='\\n\\n')"
   ]
  },
  {
   "cell_type": "markdown",
   "metadata": {},
   "source": [
    "<div style=\"background-color: #fff0e0; padding: 10px; font-family: monospace; font-size: 15px\">\n",
    "Еще точнее, долгий, но RMSE 30</div>"
   ]
  },
  {
   "cell_type": "markdown",
   "metadata": {},
   "source": [
    "### 2.3.5.   CatBoostRegressor"
   ]
  },
  {
   "cell_type": "markdown",
   "metadata": {},
   "source": [
    "<div style=\"background-color: #fff0e0; padding: 10px; font-family: monospace; font-size: 15px\">\n",
    "Этот алгоритм мы так же ограничим, чтобы не тратить так много времени</div>"
   ]
  },
  {
   "cell_type": "code",
   "execution_count": 29,
   "metadata": {},
   "outputs": [
    {
     "name": "stdout",
     "output_type": "stream",
     "text": [
      "(31.17168166258607, 2, 24, 120)\n",
      "\n",
      "CPU times: user 13.8 s, sys: 1 s, total: 14.8 s\n",
      "Wall time: 1min 19s\n"
     ]
    }
   ],
   "source": [
    "%%time\n",
    "\n",
    "best_rmse = None\n",
    "best_lag = None\n",
    "best_roll = None\n",
    "best_n_estimators = None\n",
    "\n",
    "for lag in range(1, 5):\n",
    "    for roll in [3, 6, 12, 24, 48]:\n",
    "        for n_estimators in range(115, 126, 5):\n",
    "\n",
    "            features_train, target_train, features_valid, target_valid = make_split(data.copy(), \n",
    "                                                                                    lag, \n",
    "                                                                                    roll)\n",
    "            model = CatBoostRegressor(random_state=12345, \n",
    "                                      n_estimators=n_estimators, \n",
    "                                      verbose=0)\n",
    "            model_rmse = make_pred(model, features_train, target_train, \n",
    "                                          features_valid, target_valid)\n",
    "\n",
    "            if not best_rmse:\n",
    "                best_rmse = model_rmse\n",
    "            if model_rmse < best_rmse:\n",
    "                best_rmse = model_rmse\n",
    "                best_lag = lag\n",
    "                best_roll = roll\n",
    "                best_n_estimators = n_estimators\n",
    "\n",
    "print((best_rmse, best_lag, best_roll, best_n_estimators), end='\\n\\n')"
   ]
  },
  {
   "cell_type": "markdown",
   "metadata": {},
   "source": [
    "<div style=\"background-color: #fff0e0; padding: 10px; font-family: monospace; font-size: 15px\">\n",
    "Чуть меньшая точность, но более быстрое время работы</div>"
   ]
  },
  {
   "cell_type": "markdown",
   "metadata": {},
   "source": [
    "### 2.3.6.   Вывод"
   ]
  },
  {
   "cell_type": "markdown",
   "metadata": {},
   "source": [
    "<div style=\"background-color: #fff0e0; padding: 10px; font-family: monospace; font-size: 15px\">\n",
    "Берем CatBoostRegressor (ограничения по времени не было, но чуть более низкая точность не перекрывает скорости) с настройками лаги = 2, роллинг = 24, n_estimators = 120</div>"
   ]
  },
  {
   "cell_type": "markdown",
   "metadata": {},
   "source": [
    "## 2.4.   Тестирование"
   ]
  },
  {
   "cell_type": "code",
   "execution_count": 30,
   "metadata": {},
   "outputs": [],
   "source": [
    "new_data = create_features(data.copy(), 5, 60)\n",
    "train, test = train_test_split(new_data, shuffle=False, train_size=0.9)\n",
    "train = train.dropna()\n",
    "\n",
    "# делю выборки на features и target\n",
    "features_train = train.drop('num_orders', axis=1)\n",
    "target_train = train['num_orders']\n",
    "features_test = test.drop('num_orders', axis=1)\n",
    "target_test = test['num_orders']"
   ]
  },
  {
   "cell_type": "code",
   "execution_count": 31,
   "metadata": {},
   "outputs": [],
   "source": [
    "test_model = RandomForestRegressor(random_state=12345, max_depth=24, n_estimators=105)\n",
    "\n",
    "test_model.fit(features_train, target_train)\n",
    "\n",
    "predicted = test_model.predict(features_test)"
   ]
  },
  {
   "cell_type": "code",
   "execution_count": 34,
   "metadata": {},
   "outputs": [],
   "source": [
    "test_rmse = mean_squared_error(predicted, target_test)**0.5\n",
    "\n",
    "print(test_rmse)"
   ]
  },
  {
   "cell_type": "markdown",
   "metadata": {},
   "source": [
    "## 2.5.   Вывод"
   ]
  },
  {
   "cell_type": "markdown",
   "metadata": {},
   "source": [
    "<div style=\"background-color: #fff0e0; padding: 10px; font-family: monospace; font-size: 15px\">\n",
    "Были проверены 4 модели машинного обучения:\n",
    "<br><br>- Линейная регрессия\n",
    "<br><br>- Дерево решений\n",
    "<br><br>- Рандомный лес деревьев\n",
    "<br><br>- Регрессор CatBoost</div>\n",
    "\n",
    "<div style=\"background-color: #fff0e0; padding: 10px; font-family: monospace; font-size: 15px\">\n",
    "Лучше всех себя показал CatBoostRegressor с доп. настройками. На тестовых данных значение RMSE составило 9.5</div>"
   ]
  }
 ],
 "metadata": {
  "ExecuteTimeLog": [
   {
    "duration": 440,
    "start_time": "2022-07-07T11:59:16.829Z"
   },
   {
    "duration": 85,
    "start_time": "2022-07-07T11:59:30.473Z"
   },
   {
    "duration": 14,
    "start_time": "2022-07-07T11:59:33.938Z"
   },
   {
    "duration": 75,
    "start_time": "2022-07-07T12:01:27.735Z"
   },
   {
    "duration": 8,
    "start_time": "2022-07-07T12:01:35.777Z"
   },
   {
    "duration": 11,
    "start_time": "2022-07-07T12:01:44.649Z"
   },
   {
    "duration": 8,
    "start_time": "2022-07-07T12:02:26.385Z"
   },
   {
    "duration": 12,
    "start_time": "2022-07-07T12:02:27.651Z"
   },
   {
    "duration": 9,
    "start_time": "2022-07-07T12:02:32.453Z"
   },
   {
    "duration": 11,
    "start_time": "2022-07-07T12:03:01.539Z"
   },
   {
    "duration": 8,
    "start_time": "2022-07-07T12:03:10.947Z"
   },
   {
    "duration": 12,
    "start_time": "2022-07-07T12:03:17.153Z"
   },
   {
    "duration": 35,
    "start_time": "2022-07-07T12:03:28.103Z"
   },
   {
    "duration": 8,
    "start_time": "2022-07-07T12:03:28.488Z"
   },
   {
    "duration": 14,
    "start_time": "2022-07-07T12:03:32.595Z"
   },
   {
    "duration": 14,
    "start_time": "2022-07-07T12:04:09.734Z"
   },
   {
    "duration": 14,
    "start_time": "2022-07-07T12:04:15.995Z"
   },
   {
    "duration": 5,
    "start_time": "2022-07-07T12:04:19.541Z"
   },
   {
    "duration": 10,
    "start_time": "2022-07-07T12:04:20.030Z"
   },
   {
    "duration": 21,
    "start_time": "2022-07-07T12:04:21.951Z"
   },
   {
    "duration": 8,
    "start_time": "2022-07-07T12:04:26.255Z"
   },
   {
    "duration": 9,
    "start_time": "2022-07-07T12:04:28.796Z"
   },
   {
    "duration": 3,
    "start_time": "2022-07-07T12:05:24.436Z"
   },
   {
    "duration": 9,
    "start_time": "2022-07-07T12:05:37.079Z"
   },
   {
    "duration": 9,
    "start_time": "2022-07-07T12:05:40.342Z"
   },
   {
    "duration": 4,
    "start_time": "2022-07-07T12:05:43.151Z"
   },
   {
    "duration": 3,
    "start_time": "2022-07-07T12:06:48.555Z"
   },
   {
    "duration": 4,
    "start_time": "2022-07-07T12:07:03.403Z"
   },
   {
    "duration": 600,
    "start_time": "2022-07-07T12:08:05.550Z"
   },
   {
    "duration": 955,
    "start_time": "2022-07-07T12:10:53.346Z"
   },
   {
    "duration": 7,
    "start_time": "2022-07-07T12:11:18.546Z"
   },
   {
    "duration": 356,
    "start_time": "2022-07-07T12:11:29.488Z"
   },
   {
    "duration": 343,
    "start_time": "2022-07-07T12:11:50.440Z"
   },
   {
    "duration": 842,
    "start_time": "2022-07-07T12:12:34.744Z"
   },
   {
    "duration": 10,
    "start_time": "2022-07-07T12:13:23.239Z"
   },
   {
    "duration": 38,
    "start_time": "2022-07-07T12:13:27.047Z"
   },
   {
    "duration": 224,
    "start_time": "2022-07-07T12:13:31.334Z"
   },
   {
    "duration": 337,
    "start_time": "2022-07-07T12:13:46.139Z"
   },
   {
    "duration": 187,
    "start_time": "2022-07-07T12:13:53.595Z"
   },
   {
    "duration": 281,
    "start_time": "2022-07-07T12:13:56.250Z"
   },
   {
    "duration": 196,
    "start_time": "2022-07-07T12:13:57.645Z"
   },
   {
    "duration": 89,
    "start_time": "2022-07-07T12:16:05.249Z"
   },
   {
    "duration": 179,
    "start_time": "2022-07-07T12:16:09.758Z"
   },
   {
    "duration": 145,
    "start_time": "2022-07-07T12:16:15.941Z"
   },
   {
    "duration": 12,
    "start_time": "2022-07-07T12:16:23.877Z"
   },
   {
    "duration": 144,
    "start_time": "2022-07-07T12:16:30.804Z"
   },
   {
    "duration": 5,
    "start_time": "2022-07-07T12:18:14.250Z"
   },
   {
    "duration": 188,
    "start_time": "2022-07-07T12:18:23.540Z"
   },
   {
    "duration": 225,
    "start_time": "2022-07-07T12:18:33.674Z"
   },
   {
    "duration": 284,
    "start_time": "2022-07-07T12:18:36.740Z"
   },
   {
    "duration": 179,
    "start_time": "2022-07-07T12:18:40.752Z"
   },
   {
    "duration": 379,
    "start_time": "2022-07-07T12:18:46.246Z"
   },
   {
    "duration": 3,
    "start_time": "2022-07-07T12:20:18.737Z"
   },
   {
    "duration": 4,
    "start_time": "2022-07-07T12:25:16.060Z"
   },
   {
    "duration": 1341,
    "start_time": "2022-07-07T12:25:24.642Z"
   },
   {
    "duration": 7,
    "start_time": "2022-07-07T12:25:50.056Z"
   },
   {
    "duration": 2,
    "start_time": "2022-07-07T12:26:22.251Z"
   },
   {
    "duration": 42,
    "start_time": "2022-07-07T12:26:22.255Z"
   },
   {
    "duration": 7,
    "start_time": "2022-07-07T12:26:22.299Z"
   },
   {
    "duration": 35,
    "start_time": "2022-07-07T12:26:22.308Z"
   },
   {
    "duration": 29,
    "start_time": "2022-07-07T12:26:22.345Z"
   },
   {
    "duration": 21,
    "start_time": "2022-07-07T12:26:22.376Z"
   },
   {
    "duration": 14,
    "start_time": "2022-07-07T12:26:22.399Z"
   },
   {
    "duration": 19,
    "start_time": "2022-07-07T12:26:22.415Z"
   },
   {
    "duration": 30,
    "start_time": "2022-07-07T12:26:22.436Z"
   },
   {
    "duration": 29,
    "start_time": "2022-07-07T12:26:22.468Z"
   },
   {
    "duration": 31,
    "start_time": "2022-07-07T12:26:22.499Z"
   },
   {
    "duration": 29,
    "start_time": "2022-07-07T12:26:22.532Z"
   },
   {
    "duration": 24,
    "start_time": "2022-07-07T12:26:22.562Z"
   },
   {
    "duration": 297,
    "start_time": "2022-07-07T12:26:22.587Z"
   },
   {
    "duration": 6,
    "start_time": "2022-07-07T12:26:22.886Z"
   },
   {
    "duration": 594,
    "start_time": "2022-07-07T12:26:22.894Z"
   },
   {
    "duration": 225,
    "start_time": "2022-07-07T12:26:23.490Z"
   },
   {
    "duration": 295,
    "start_time": "2022-07-07T12:26:23.716Z"
   },
   {
    "duration": 178,
    "start_time": "2022-07-07T12:26:24.013Z"
   },
   {
    "duration": 4,
    "start_time": "2022-07-07T12:26:24.193Z"
   },
   {
    "duration": 249,
    "start_time": "2022-07-07T12:26:24.198Z"
   },
   {
    "duration": 13,
    "start_time": "2022-07-07T12:26:24.450Z"
   },
   {
    "duration": 27,
    "start_time": "2022-07-07T12:26:24.465Z"
   },
   {
    "duration": 18,
    "start_time": "2022-07-07T12:26:24.494Z"
   },
   {
    "duration": 10,
    "start_time": "2022-07-07T12:26:26.039Z"
   },
   {
    "duration": 5,
    "start_time": "2022-07-07T12:26:41.657Z"
   },
   {
    "duration": 15,
    "start_time": "2022-07-07T12:26:46.351Z"
   },
   {
    "duration": 24,
    "start_time": "2022-07-07T12:26:48.422Z"
   },
   {
    "duration": 5,
    "start_time": "2022-07-07T12:27:01.384Z"
   },
   {
    "duration": 11,
    "start_time": "2022-07-07T12:27:01.937Z"
   },
   {
    "duration": 17,
    "start_time": "2022-07-07T12:27:03.008Z"
   },
   {
    "duration": 4,
    "start_time": "2022-07-07T12:27:22.957Z"
   },
   {
    "duration": 11,
    "start_time": "2022-07-07T12:27:23.403Z"
   },
   {
    "duration": 18,
    "start_time": "2022-07-07T12:27:23.711Z"
   },
   {
    "duration": 10,
    "start_time": "2022-07-07T12:27:31.037Z"
   },
   {
    "duration": 16,
    "start_time": "2022-07-07T12:27:48.038Z"
   },
   {
    "duration": 26,
    "start_time": "2022-07-07T12:27:49.290Z"
   },
   {
    "duration": 14,
    "start_time": "2022-07-07T12:27:51.372Z"
   },
   {
    "duration": 16,
    "start_time": "2022-07-07T12:27:54.273Z"
   },
   {
    "duration": 17,
    "start_time": "2022-07-07T12:28:16.161Z"
   },
   {
    "duration": 5,
    "start_time": "2022-07-07T12:28:24.264Z"
   },
   {
    "duration": 15,
    "start_time": "2022-07-07T12:28:28.040Z"
   },
   {
    "duration": 419,
    "start_time": "2022-07-07T12:30:12.592Z"
   },
   {
    "duration": 3,
    "start_time": "2022-07-07T12:30:23.540Z"
   },
   {
    "duration": 13,
    "start_time": "2022-07-07T12:31:50.534Z"
   },
   {
    "duration": 3,
    "start_time": "2022-07-07T12:31:55.063Z"
   },
   {
    "duration": 4,
    "start_time": "2022-07-07T12:32:44.780Z"
   },
   {
    "duration": 10,
    "start_time": "2022-07-07T12:44:10.778Z"
   },
   {
    "duration": 6,
    "start_time": "2022-07-07T12:44:17.229Z"
   },
   {
    "duration": 22,
    "start_time": "2022-07-07T12:44:18.880Z"
   },
   {
    "duration": 3,
    "start_time": "2022-07-07T12:44:35.789Z"
   },
   {
    "duration": 102,
    "start_time": "2022-07-07T12:44:40.538Z"
   },
   {
    "duration": 5,
    "start_time": "2022-07-07T12:46:17.677Z"
   },
   {
    "duration": 28,
    "start_time": "2022-07-07T12:46:18.926Z"
   },
   {
    "duration": 6,
    "start_time": "2022-07-07T12:46:25.681Z"
   },
   {
    "duration": 9299,
    "start_time": "2022-07-07T12:46:26.685Z"
   },
   {
    "duration": 8765,
    "start_time": "2022-07-07T12:46:43.320Z"
   },
   {
    "duration": 134,
    "start_time": "2022-07-07T12:47:47.615Z"
   },
   {
    "duration": 7,
    "start_time": "2022-07-07T12:48:06.360Z"
   },
   {
    "duration": 114,
    "start_time": "2022-07-07T12:48:08.259Z"
   },
   {
    "duration": 10,
    "start_time": "2022-07-07T12:48:30.643Z"
   },
   {
    "duration": 8607,
    "start_time": "2022-07-07T12:48:47.777Z"
   },
   {
    "duration": 4,
    "start_time": "2022-07-07T12:49:08.631Z"
   },
   {
    "duration": 39,
    "start_time": "2022-07-07T12:49:08.637Z"
   },
   {
    "duration": 12,
    "start_time": "2022-07-07T12:49:08.679Z"
   },
   {
    "duration": 18,
    "start_time": "2022-07-07T12:49:08.694Z"
   },
   {
    "duration": 25,
    "start_time": "2022-07-07T12:49:08.714Z"
   },
   {
    "duration": 16,
    "start_time": "2022-07-07T12:49:08.742Z"
   },
   {
    "duration": 13,
    "start_time": "2022-07-07T12:49:08.764Z"
   },
   {
    "duration": 27,
    "start_time": "2022-07-07T12:49:08.779Z"
   },
   {
    "duration": 10,
    "start_time": "2022-07-07T12:49:08.810Z"
   },
   {
    "duration": 11,
    "start_time": "2022-07-07T12:49:08.822Z"
   },
   {
    "duration": 8,
    "start_time": "2022-07-07T12:49:08.835Z"
   },
   {
    "duration": 10,
    "start_time": "2022-07-07T12:49:08.845Z"
   },
   {
    "duration": 23,
    "start_time": "2022-07-07T12:49:08.857Z"
   },
   {
    "duration": 336,
    "start_time": "2022-07-07T12:49:08.882Z"
   },
   {
    "duration": 7,
    "start_time": "2022-07-07T12:49:09.220Z"
   },
   {
    "duration": 374,
    "start_time": "2022-07-07T12:49:09.229Z"
   },
   {
    "duration": 278,
    "start_time": "2022-07-07T12:49:09.605Z"
   },
   {
    "duration": 330,
    "start_time": "2022-07-07T12:49:09.885Z"
   },
   {
    "duration": 205,
    "start_time": "2022-07-07T12:49:10.217Z"
   },
   {
    "duration": 5,
    "start_time": "2022-07-07T12:49:10.424Z"
   },
   {
    "duration": 608,
    "start_time": "2022-07-07T12:49:10.431Z"
   },
   {
    "duration": 5,
    "start_time": "2022-07-07T12:49:11.040Z"
   },
   {
    "duration": 17,
    "start_time": "2022-07-07T12:49:11.046Z"
   },
   {
    "duration": 6,
    "start_time": "2022-07-07T12:49:11.069Z"
   },
   {
    "duration": 17683,
    "start_time": "2022-07-07T12:49:11.077Z"
   },
   {
    "duration": 90,
    "start_time": "2022-07-07T12:49:28.762Z"
   },
   {
    "duration": 6,
    "start_time": "2022-07-07T12:49:52.475Z"
   },
   {
    "duration": 19907,
    "start_time": "2022-07-07T12:49:54.277Z"
   },
   {
    "duration": 87,
    "start_time": "2022-07-07T12:50:54.379Z"
   },
   {
    "duration": 9,
    "start_time": "2022-07-07T12:52:36.761Z"
   },
   {
    "duration": 20475,
    "start_time": "2022-07-07T12:52:41.604Z"
   },
   {
    "duration": 4,
    "start_time": "2022-07-07T12:53:26.036Z"
   },
   {
    "duration": 50,
    "start_time": "2022-07-07T12:53:26.042Z"
   },
   {
    "duration": 8,
    "start_time": "2022-07-07T12:53:26.094Z"
   },
   {
    "duration": 22,
    "start_time": "2022-07-07T12:53:26.103Z"
   },
   {
    "duration": 17,
    "start_time": "2022-07-07T12:53:26.128Z"
   },
   {
    "duration": 23,
    "start_time": "2022-07-07T12:53:26.147Z"
   },
   {
    "duration": 21,
    "start_time": "2022-07-07T12:53:26.171Z"
   },
   {
    "duration": 35,
    "start_time": "2022-07-07T12:53:26.195Z"
   },
   {
    "duration": 35,
    "start_time": "2022-07-07T12:53:26.232Z"
   },
   {
    "duration": 23,
    "start_time": "2022-07-07T12:53:26.272Z"
   },
   {
    "duration": 16,
    "start_time": "2022-07-07T12:53:26.296Z"
   },
   {
    "duration": 28,
    "start_time": "2022-07-07T12:53:26.314Z"
   },
   {
    "duration": 12,
    "start_time": "2022-07-07T12:53:26.344Z"
   },
   {
    "duration": 357,
    "start_time": "2022-07-07T12:53:26.359Z"
   },
   {
    "duration": 12,
    "start_time": "2022-07-07T12:53:26.719Z"
   },
   {
    "duration": 445,
    "start_time": "2022-07-07T12:53:26.733Z"
   },
   {
    "duration": 238,
    "start_time": "2022-07-07T12:53:27.180Z"
   },
   {
    "duration": 312,
    "start_time": "2022-07-07T12:53:27.420Z"
   },
   {
    "duration": 198,
    "start_time": "2022-07-07T12:53:27.734Z"
   },
   {
    "duration": 5,
    "start_time": "2022-07-07T12:53:27.933Z"
   },
   {
    "duration": 258,
    "start_time": "2022-07-07T12:53:27.939Z"
   },
   {
    "duration": 5,
    "start_time": "2022-07-07T12:53:28.198Z"
   },
   {
    "duration": 7,
    "start_time": "2022-07-07T12:53:28.204Z"
   },
   {
    "duration": 6,
    "start_time": "2022-07-07T12:53:28.212Z"
   },
   {
    "duration": 17249,
    "start_time": "2022-07-07T12:53:28.219Z"
   },
   {
    "duration": 20000,
    "start_time": "2022-07-07T12:54:07.376Z"
   },
   {
    "duration": 72,
    "start_time": "2022-07-07T12:55:06.826Z"
   },
   {
    "duration": 159,
    "start_time": "2022-07-07T12:55:12.052Z"
   },
   {
    "duration": 1218,
    "start_time": "2022-07-07T12:56:24.900Z"
   },
   {
    "duration": 32,
    "start_time": "2022-07-07T12:56:26.121Z"
   },
   {
    "duration": 14,
    "start_time": "2022-07-07T12:56:26.154Z"
   },
   {
    "duration": 25,
    "start_time": "2022-07-07T12:56:26.170Z"
   },
   {
    "duration": 18,
    "start_time": "2022-07-07T12:56:26.198Z"
   },
   {
    "duration": 17,
    "start_time": "2022-07-07T12:56:26.219Z"
   },
   {
    "duration": 10,
    "start_time": "2022-07-07T12:56:26.239Z"
   },
   {
    "duration": 17,
    "start_time": "2022-07-07T12:56:26.251Z"
   },
   {
    "duration": 43,
    "start_time": "2022-07-07T12:56:26.270Z"
   },
   {
    "duration": 28,
    "start_time": "2022-07-07T12:56:26.315Z"
   },
   {
    "duration": 32,
    "start_time": "2022-07-07T12:56:26.346Z"
   },
   {
    "duration": 13,
    "start_time": "2022-07-07T12:56:26.381Z"
   },
   {
    "duration": 19,
    "start_time": "2022-07-07T12:56:26.396Z"
   },
   {
    "duration": 600,
    "start_time": "2022-07-07T12:56:26.419Z"
   },
   {
    "duration": 8,
    "start_time": "2022-07-07T12:56:27.021Z"
   },
   {
    "duration": 478,
    "start_time": "2022-07-07T12:56:27.030Z"
   },
   {
    "duration": 238,
    "start_time": "2022-07-07T12:56:27.510Z"
   },
   {
    "duration": 315,
    "start_time": "2022-07-07T12:56:27.749Z"
   },
   {
    "duration": 205,
    "start_time": "2022-07-07T12:56:28.073Z"
   },
   {
    "duration": 6,
    "start_time": "2022-07-07T12:56:28.280Z"
   },
   {
    "duration": 260,
    "start_time": "2022-07-07T12:56:28.288Z"
   },
   {
    "duration": 4,
    "start_time": "2022-07-07T12:56:28.550Z"
   },
   {
    "duration": 17,
    "start_time": "2022-07-07T12:56:28.562Z"
   },
   {
    "duration": 6,
    "start_time": "2022-07-07T12:56:28.581Z"
   },
   {
    "duration": 17202,
    "start_time": "2022-07-07T12:56:28.588Z"
   },
   {
    "duration": 5,
    "start_time": "2022-07-07T12:57:18.877Z"
   },
   {
    "duration": 5,
    "start_time": "2022-07-07T12:57:20.444Z"
   },
   {
    "duration": 20784,
    "start_time": "2022-07-07T12:57:21.494Z"
   },
   {
    "duration": 28,
    "start_time": "2022-07-07T12:57:46.101Z"
   },
   {
    "duration": 5,
    "start_time": "2022-07-07T12:59:30.598Z"
   },
   {
    "duration": 4,
    "start_time": "2022-07-07T12:59:36.773Z"
   },
   {
    "duration": 7,
    "start_time": "2022-07-07T12:59:38.862Z"
   },
   {
    "duration": 18169,
    "start_time": "2022-07-07T12:59:44.099Z"
   },
   {
    "duration": 30,
    "start_time": "2022-07-07T13:00:17.091Z"
   },
   {
    "duration": 4,
    "start_time": "2022-07-07T13:00:28.477Z"
   },
   {
    "duration": 19520,
    "start_time": "2022-07-07T13:00:35.545Z"
   },
   {
    "duration": 39,
    "start_time": "2022-07-07T13:00:58.630Z"
   },
   {
    "duration": 4,
    "start_time": "2022-07-07T13:01:04.637Z"
   },
   {
    "duration": 11,
    "start_time": "2022-07-07T13:01:14.940Z"
   },
   {
    "duration": 18206,
    "start_time": "2022-07-07T13:01:19.679Z"
   },
   {
    "duration": 12,
    "start_time": "2022-07-07T13:01:40.954Z"
   },
   {
    "duration": 350,
    "start_time": "2022-07-07T13:02:07.883Z"
   },
   {
    "duration": 3,
    "start_time": "2022-07-07T13:02:27.749Z"
   },
   {
    "duration": 122705,
    "start_time": "2022-07-07T13:02:45.152Z"
   },
   {
    "duration": 6,
    "start_time": "2022-07-07T13:04:50.386Z"
   },
   {
    "duration": 851,
    "start_time": "2022-07-07T13:04:58.185Z"
   },
   {
    "duration": 11709,
    "start_time": "2022-07-07T13:05:05.311Z"
   },
   {
    "duration": 24061,
    "start_time": "2022-07-07T13:05:30.334Z"
   },
   {
    "duration": 43597,
    "start_time": "2022-07-07T13:06:09.650Z"
   },
   {
    "duration": 7,
    "start_time": "2022-07-07T13:08:16.660Z"
   },
   {
    "duration": 6124,
    "start_time": "2022-07-07T13:08:46.558Z"
   },
   {
    "duration": 43373,
    "start_time": "2022-07-07T13:09:16.090Z"
   },
   {
    "duration": 6,
    "start_time": "2022-07-07T13:12:10.402Z"
   },
   {
    "duration": 6,
    "start_time": "2022-07-07T13:14:12.073Z"
   },
   {
    "duration": 6072,
    "start_time": "2022-07-07T13:14:26.052Z"
   },
   {
    "duration": 17246,
    "start_time": "2022-07-07T13:14:34.853Z"
   },
   {
    "duration": 43858,
    "start_time": "2022-07-07T13:15:15.701Z"
   },
   {
    "duration": 9340,
    "start_time": "2022-07-07T13:17:14.074Z"
   },
   {
    "duration": 6,
    "start_time": "2022-07-07T13:18:14.296Z"
   },
   {
    "duration": 8603,
    "start_time": "2022-07-07T13:18:26.052Z"
   },
   {
    "duration": 86698,
    "start_time": "2022-07-07T13:18:47.311Z"
   },
   {
    "duration": 3,
    "start_time": "2022-07-07T13:22:18.755Z"
   },
   {
    "duration": 3,
    "start_time": "2022-07-07T13:22:20.542Z"
   },
   {
    "duration": 6,
    "start_time": "2022-07-07T13:22:37.343Z"
   },
   {
    "duration": 20,
    "start_time": "2022-07-07T13:23:24.463Z"
   },
   {
    "duration": 21,
    "start_time": "2022-07-07T13:23:30.368Z"
   },
   {
    "duration": 10,
    "start_time": "2022-07-07T13:24:04.289Z"
   },
   {
    "duration": 3,
    "start_time": "2022-07-07T13:24:14.176Z"
   },
   {
    "duration": 1329,
    "start_time": "2022-07-07T13:24:14.956Z"
   },
   {
    "duration": 25,
    "start_time": "2022-07-07T13:24:29.240Z"
   },
   {
    "duration": 4,
    "start_time": "2022-07-07T13:24:53.943Z"
   },
   {
    "duration": 4,
    "start_time": "2022-07-07T13:24:57.015Z"
   },
   {
    "duration": 29,
    "start_time": "2022-07-07T13:25:31.392Z"
   },
   {
    "duration": 3,
    "start_time": "2022-07-07T13:25:37.699Z"
   },
   {
    "duration": 28,
    "start_time": "2022-07-07T13:25:39.888Z"
   },
   {
    "duration": 3,
    "start_time": "2022-07-07T13:25:40.316Z"
   },
   {
    "duration": 2359,
    "start_time": "2022-07-07T13:25:42.160Z"
   },
   {
    "duration": 4,
    "start_time": "2022-07-07T13:25:46.909Z"
   },
   {
    "duration": 4,
    "start_time": "2022-07-07T13:25:47.306Z"
   },
   {
    "duration": 4,
    "start_time": "2022-07-07T13:25:47.587Z"
   },
   {
    "duration": 1258,
    "start_time": "2022-07-07T13:26:06.673Z"
   },
   {
    "duration": 43,
    "start_time": "2022-07-07T13:26:07.933Z"
   },
   {
    "duration": 14,
    "start_time": "2022-07-07T13:26:07.978Z"
   },
   {
    "duration": 12,
    "start_time": "2022-07-07T13:26:07.994Z"
   },
   {
    "duration": 9,
    "start_time": "2022-07-07T13:26:08.008Z"
   },
   {
    "duration": 17,
    "start_time": "2022-07-07T13:26:08.018Z"
   },
   {
    "duration": 12,
    "start_time": "2022-07-07T13:26:08.037Z"
   },
   {
    "duration": 18,
    "start_time": "2022-07-07T13:26:08.050Z"
   },
   {
    "duration": 18,
    "start_time": "2022-07-07T13:26:08.072Z"
   },
   {
    "duration": 8,
    "start_time": "2022-07-07T13:26:08.092Z"
   },
   {
    "duration": 8,
    "start_time": "2022-07-07T13:26:08.101Z"
   },
   {
    "duration": 8,
    "start_time": "2022-07-07T13:26:08.111Z"
   },
   {
    "duration": 8,
    "start_time": "2022-07-07T13:26:08.121Z"
   },
   {
    "duration": 651,
    "start_time": "2022-07-07T13:26:08.133Z"
   },
   {
    "duration": 9,
    "start_time": "2022-07-07T13:26:08.786Z"
   },
   {
    "duration": 477,
    "start_time": "2022-07-07T13:26:08.797Z"
   },
   {
    "duration": 236,
    "start_time": "2022-07-07T13:26:09.276Z"
   },
   {
    "duration": 314,
    "start_time": "2022-07-07T13:26:09.514Z"
   },
   {
    "duration": 198,
    "start_time": "2022-07-07T13:26:09.830Z"
   },
   {
    "duration": 5,
    "start_time": "2022-07-07T13:26:10.029Z"
   },
   {
    "duration": 269,
    "start_time": "2022-07-07T13:26:10.036Z"
   },
   {
    "duration": 6,
    "start_time": "2022-07-07T13:26:10.307Z"
   },
   {
    "duration": 6,
    "start_time": "2022-07-07T13:26:10.315Z"
   },
   {
    "duration": 10,
    "start_time": "2022-07-07T13:26:10.324Z"
   },
   {
    "duration": 17623,
    "start_time": "2022-07-07T13:26:10.361Z"
   },
   {
    "duration": 6191,
    "start_time": "2022-07-07T13:26:28.061Z"
   },
   {
    "duration": 44653,
    "start_time": "2022-07-07T13:26:34.254Z"
   },
   {
    "duration": 83234,
    "start_time": "2022-07-07T13:27:18.908Z"
   },
   {
    "duration": 13,
    "start_time": "2022-07-07T13:29:14.161Z"
   },
   {
    "duration": 13537,
    "start_time": "2022-07-07T13:29:15.848Z"
   },
   {
    "duration": 6457,
    "start_time": "2022-07-07T13:29:36.982Z"
   },
   {
    "duration": 47657,
    "start_time": "2022-07-07T13:30:05.512Z"
   },
   {
    "duration": 4,
    "start_time": "2022-07-07T13:32:39.354Z"
   },
   {
    "duration": 4,
    "start_time": "2022-07-07T13:34:00.802Z"
   },
   {
    "duration": 3,
    "start_time": "2022-07-07T13:36:26.077Z"
   },
   {
    "duration": 10087,
    "start_time": "2022-07-07T13:37:50.275Z"
   },
   {
    "duration": 9482,
    "start_time": "2022-07-07T13:38:16.486Z"
   },
   {
    "duration": 9874,
    "start_time": "2022-07-07T13:38:46.198Z"
   },
   {
    "duration": 16885,
    "start_time": "2022-07-07T13:40:07.049Z"
   },
   {
    "duration": 17185,
    "start_time": "2022-07-07T13:41:27.453Z"
   },
   {
    "duration": 24275,
    "start_time": "2022-07-07T13:42:04.823Z"
   },
   {
    "duration": 1175278,
    "start_time": "2022-07-07T13:44:06.278Z"
   },
   {
    "duration": 111990,
    "start_time": "2022-07-07T14:04:00.503Z"
   },
   {
    "duration": 141751,
    "start_time": "2022-07-07T14:06:53.219Z"
   },
   {
    "duration": 171772,
    "start_time": "2022-07-07T14:10:06.975Z"
   },
   {
    "duration": 232165,
    "start_time": "2022-07-07T14:13:44.749Z"
   },
   {
    "duration": 48372,
    "start_time": "2022-07-07T14:20:46.269Z"
   },
   {
    "duration": 34019,
    "start_time": "2022-07-07T14:22:21.239Z"
   },
   {
    "duration": 32543,
    "start_time": "2022-07-07T14:23:21.567Z"
   },
   {
    "duration": 11,
    "start_time": "2022-07-07T14:24:31.885Z"
   },
   {
    "duration": 5,
    "start_time": "2022-07-07T14:24:45.574Z"
   },
   {
    "duration": 11,
    "start_time": "2022-07-07T14:24:49.187Z"
   },
   {
    "duration": 10,
    "start_time": "2022-07-07T14:24:54.374Z"
   },
   {
    "duration": 8,
    "start_time": "2022-07-07T14:24:57.909Z"
   },
   {
    "duration": 5,
    "start_time": "2022-07-07T14:25:24.343Z"
   },
   {
    "duration": 13,
    "start_time": "2022-07-07T14:25:24.854Z"
   },
   {
    "duration": 5,
    "start_time": "2022-07-07T14:25:30.620Z"
   },
   {
    "duration": 10,
    "start_time": "2022-07-07T14:25:30.745Z"
   },
   {
    "duration": 5,
    "start_time": "2022-07-07T14:25:41.816Z"
   },
   {
    "duration": 9,
    "start_time": "2022-07-07T14:25:42.354Z"
   },
   {
    "duration": 24,
    "start_time": "2022-07-07T14:26:54.052Z"
   },
   {
    "duration": 3,
    "start_time": "2022-07-07T14:27:02.447Z"
   },
   {
    "duration": 907,
    "start_time": "2022-07-07T14:27:02.989Z"
   },
   {
    "duration": 4,
    "start_time": "2022-07-07T14:27:04.573Z"
   },
   {
    "duration": 3,
    "start_time": "2022-07-07T14:27:05.147Z"
   },
   {
    "duration": 4,
    "start_time": "2022-07-07T14:27:05.781Z"
   },
   {
    "duration": 4,
    "start_time": "2022-07-07T14:27:15.023Z"
   },
   {
    "duration": 4,
    "start_time": "2022-07-07T14:27:15.196Z"
   },
   {
    "duration": 1234,
    "start_time": "2022-07-07T14:27:30.455Z"
   },
   {
    "duration": 32,
    "start_time": "2022-07-07T14:27:31.692Z"
   },
   {
    "duration": 14,
    "start_time": "2022-07-07T14:27:31.725Z"
   },
   {
    "duration": 23,
    "start_time": "2022-07-07T14:27:31.741Z"
   },
   {
    "duration": 21,
    "start_time": "2022-07-07T14:27:31.769Z"
   },
   {
    "duration": 32,
    "start_time": "2022-07-07T14:27:31.792Z"
   },
   {
    "duration": 7,
    "start_time": "2022-07-07T14:27:31.825Z"
   },
   {
    "duration": 21,
    "start_time": "2022-07-07T14:27:31.834Z"
   },
   {
    "duration": 29,
    "start_time": "2022-07-07T14:27:31.857Z"
   },
   {
    "duration": 14,
    "start_time": "2022-07-07T14:27:31.889Z"
   },
   {
    "duration": 13,
    "start_time": "2022-07-07T14:27:31.904Z"
   },
   {
    "duration": 15,
    "start_time": "2022-07-07T14:27:31.918Z"
   },
   {
    "duration": 17,
    "start_time": "2022-07-07T14:27:31.935Z"
   },
   {
    "duration": 577,
    "start_time": "2022-07-07T14:27:31.954Z"
   },
   {
    "duration": 7,
    "start_time": "2022-07-07T14:27:32.533Z"
   },
   {
    "duration": 462,
    "start_time": "2022-07-07T14:27:32.542Z"
   },
   {
    "duration": 247,
    "start_time": "2022-07-07T14:27:33.006Z"
   },
   {
    "duration": 310,
    "start_time": "2022-07-07T14:27:33.254Z"
   },
   {
    "duration": 213,
    "start_time": "2022-07-07T14:27:33.566Z"
   },
   {
    "duration": 4,
    "start_time": "2022-07-07T14:27:33.783Z"
   },
   {
    "duration": 254,
    "start_time": "2022-07-07T14:27:33.789Z"
   },
   {
    "duration": 5,
    "start_time": "2022-07-07T14:27:34.045Z"
   },
   {
    "duration": 30,
    "start_time": "2022-07-07T14:27:34.051Z"
   },
   {
    "duration": 14,
    "start_time": "2022-07-07T14:27:34.083Z"
   },
   {
    "duration": 6,
    "start_time": "2022-07-07T14:27:34.099Z"
   },
   {
    "duration": 8854,
    "start_time": "2022-07-07T14:27:34.107Z"
   },
   {
    "duration": 23036,
    "start_time": "2022-07-07T14:27:42.963Z"
   },
   {
    "duration": 226576,
    "start_time": "2022-07-07T14:28:06.002Z"
   },
   {
    "duration": 33025,
    "start_time": "2022-07-07T14:31:52.580Z"
   },
   {
    "duration": 20,
    "start_time": "2022-07-07T14:32:25.608Z"
   },
   {
    "duration": 3,
    "start_time": "2022-07-07T14:32:25.631Z"
   },
   {
    "duration": 1067,
    "start_time": "2022-07-07T14:32:25.635Z"
   },
   {
    "duration": 8,
    "start_time": "2022-07-07T14:32:26.704Z"
   },
   {
    "duration": 14,
    "start_time": "2022-07-07T14:32:26.724Z"
   },
   {
    "duration": 6,
    "start_time": "2022-07-07T14:32:26.740Z"
   },
   {
    "duration": 30,
    "start_time": "2022-07-07T14:37:36.044Z"
   },
   {
    "duration": 14,
    "start_time": "2022-07-07T14:37:45.315Z"
   },
   {
    "duration": 130,
    "start_time": "2022-07-08T09:36:48.437Z"
   },
   {
    "duration": 62,
    "start_time": "2022-07-08T12:54:50.405Z"
   },
   {
    "duration": 1118,
    "start_time": "2022-07-08T12:55:31.967Z"
   },
   {
    "duration": 88,
    "start_time": "2022-07-08T12:55:33.087Z"
   },
   {
    "duration": 14,
    "start_time": "2022-07-08T12:55:33.176Z"
   },
   {
    "duration": 21,
    "start_time": "2022-07-08T12:55:33.191Z"
   },
   {
    "duration": 12,
    "start_time": "2022-07-08T12:55:33.213Z"
   },
   {
    "duration": 33,
    "start_time": "2022-07-08T12:55:33.227Z"
   },
   {
    "duration": 7,
    "start_time": "2022-07-08T12:55:33.262Z"
   },
   {
    "duration": 25,
    "start_time": "2022-07-08T12:55:33.270Z"
   },
   {
    "duration": 18,
    "start_time": "2022-07-08T12:55:33.296Z"
   },
   {
    "duration": 6,
    "start_time": "2022-07-08T12:57:57.659Z"
   },
   {
    "duration": 2,
    "start_time": "2022-07-08T12:57:58.496Z"
   },
   {
    "duration": 4,
    "start_time": "2022-07-08T12:57:58.762Z"
   },
   {
    "duration": 3,
    "start_time": "2022-07-08T12:57:59.281Z"
   },
   {
    "duration": 3,
    "start_time": "2022-07-08T12:58:37.192Z"
   },
   {
    "duration": 32,
    "start_time": "2022-07-08T12:58:37.197Z"
   },
   {
    "duration": 9,
    "start_time": "2022-07-08T12:58:37.230Z"
   },
   {
    "duration": 22,
    "start_time": "2022-07-08T12:58:37.241Z"
   },
   {
    "duration": 12,
    "start_time": "2022-07-08T12:58:37.486Z"
   },
   {
    "duration": 16,
    "start_time": "2022-07-08T12:58:37.500Z"
   },
   {
    "duration": 21,
    "start_time": "2022-07-08T12:58:37.518Z"
   },
   {
    "duration": 22,
    "start_time": "2022-07-08T12:58:37.541Z"
   },
   {
    "duration": 22,
    "start_time": "2022-07-08T12:58:37.565Z"
   },
   {
    "duration": 9,
    "start_time": "2022-07-08T12:58:37.588Z"
   },
   {
    "duration": 22,
    "start_time": "2022-07-08T12:58:37.598Z"
   },
   {
    "duration": 9,
    "start_time": "2022-07-08T12:58:37.621Z"
   },
   {
    "duration": 30,
    "start_time": "2022-07-08T12:58:37.631Z"
   },
   {
    "duration": 661,
    "start_time": "2022-07-08T12:58:37.663Z"
   },
   {
    "duration": 7,
    "start_time": "2022-07-08T12:58:38.325Z"
   },
   {
    "duration": 408,
    "start_time": "2022-07-08T12:58:38.333Z"
   },
   {
    "duration": 249,
    "start_time": "2022-07-08T12:58:38.752Z"
   },
   {
    "duration": 271,
    "start_time": "2022-07-08T12:58:39.004Z"
   },
   {
    "duration": 181,
    "start_time": "2022-07-08T12:58:39.276Z"
   },
   {
    "duration": 5,
    "start_time": "2022-07-08T12:58:39.459Z"
   },
   {
    "duration": 243,
    "start_time": "2022-07-08T12:58:39.465Z"
   },
   {
    "duration": 4,
    "start_time": "2022-07-08T12:58:39.710Z"
   },
   {
    "duration": 16,
    "start_time": "2022-07-08T12:58:39.715Z"
   },
   {
    "duration": 3,
    "start_time": "2022-07-08T13:03:13.618Z"
   },
   {
    "duration": 43,
    "start_time": "2022-07-08T13:03:13.623Z"
   },
   {
    "duration": 9,
    "start_time": "2022-07-08T13:03:13.668Z"
   },
   {
    "duration": 12,
    "start_time": "2022-07-08T13:03:13.678Z"
   },
   {
    "duration": 10,
    "start_time": "2022-07-08T13:03:13.692Z"
   },
   {
    "duration": 12,
    "start_time": "2022-07-08T13:03:13.704Z"
   },
   {
    "duration": 3,
    "start_time": "2022-07-08T13:03:13.718Z"
   },
   {
    "duration": 34,
    "start_time": "2022-07-08T13:03:13.722Z"
   },
   {
    "duration": 8,
    "start_time": "2022-07-08T13:03:13.929Z"
   },
   {
    "duration": 12,
    "start_time": "2022-07-08T13:03:13.939Z"
   },
   {
    "duration": 14,
    "start_time": "2022-07-08T13:03:13.952Z"
   },
   {
    "duration": 6,
    "start_time": "2022-07-08T13:03:13.968Z"
   },
   {
    "duration": 5,
    "start_time": "2022-07-08T13:03:13.976Z"
   },
   {
    "duration": 248,
    "start_time": "2022-07-08T13:03:13.983Z"
   },
   {
    "duration": 15,
    "start_time": "2022-07-08T13:03:14.233Z"
   },
   {
    "duration": 427,
    "start_time": "2022-07-08T13:03:14.250Z"
   },
   {
    "duration": 279,
    "start_time": "2022-07-08T13:03:14.678Z"
   },
   {
    "duration": 271,
    "start_time": "2022-07-08T13:03:14.958Z"
   },
   {
    "duration": 188,
    "start_time": "2022-07-08T13:03:15.231Z"
   },
   {
    "duration": 4,
    "start_time": "2022-07-08T13:03:15.420Z"
   },
   {
    "duration": 254,
    "start_time": "2022-07-08T13:03:15.426Z"
   },
   {
    "duration": 5,
    "start_time": "2022-07-08T13:03:15.682Z"
   },
   {
    "duration": 7,
    "start_time": "2022-07-08T13:03:15.689Z"
   },
   {
    "duration": 8,
    "start_time": "2022-07-08T13:03:15.698Z"
   },
   {
    "duration": 6,
    "start_time": "2022-07-08T13:03:15.708Z"
   },
   {
    "duration": 292,
    "start_time": "2022-07-08T13:03:15.715Z"
   },
   {
    "duration": 95,
    "start_time": "2022-07-08T13:03:16.008Z"
   },
   {
    "duration": 110,
    "start_time": "2022-07-08T13:03:16.105Z"
   },
   {
    "duration": 107,
    "start_time": "2022-07-08T13:03:16.217Z"
   },
   {
    "duration": 16,
    "start_time": "2022-07-08T13:03:16.327Z"
   },
   {
    "duration": 6,
    "start_time": "2022-07-08T13:03:16.345Z"
   },
   {
    "duration": 894,
    "start_time": "2022-07-08T13:03:16.357Z"
   },
   {
    "duration": 4,
    "start_time": "2022-07-08T13:03:17.261Z"
   },
   {
    "duration": 6,
    "start_time": "2022-07-08T13:03:17.266Z"
   },
   {
    "duration": 7,
    "start_time": "2022-07-08T13:03:17.273Z"
   },
   {
    "duration": 1132,
    "start_time": "2022-07-08T13:06:11.141Z"
   },
   {
    "duration": 33,
    "start_time": "2022-07-08T13:06:12.275Z"
   },
   {
    "duration": 17,
    "start_time": "2022-07-08T13:06:12.310Z"
   },
   {
    "duration": 32,
    "start_time": "2022-07-08T13:06:12.330Z"
   },
   {
    "duration": 13,
    "start_time": "2022-07-08T13:06:12.364Z"
   },
   {
    "duration": 17,
    "start_time": "2022-07-08T13:06:12.379Z"
   },
   {
    "duration": 4,
    "start_time": "2022-07-08T13:06:12.398Z"
   },
   {
    "duration": 10,
    "start_time": "2022-07-08T13:06:12.404Z"
   },
   {
    "duration": 12,
    "start_time": "2022-07-08T13:06:12.416Z"
   },
   {
    "duration": 7,
    "start_time": "2022-07-08T13:06:12.454Z"
   },
   {
    "duration": 8,
    "start_time": "2022-07-08T13:06:12.463Z"
   },
   {
    "duration": 8,
    "start_time": "2022-07-08T13:06:12.473Z"
   },
   {
    "duration": 6,
    "start_time": "2022-07-08T13:06:12.483Z"
   },
   {
    "duration": 526,
    "start_time": "2022-07-08T13:06:12.491Z"
   },
   {
    "duration": 7,
    "start_time": "2022-07-08T13:06:13.019Z"
   },
   {
    "duration": 410,
    "start_time": "2022-07-08T13:06:13.027Z"
   },
   {
    "duration": 244,
    "start_time": "2022-07-08T13:06:13.439Z"
   },
   {
    "duration": 304,
    "start_time": "2022-07-08T13:06:13.685Z"
   },
   {
    "duration": 184,
    "start_time": "2022-07-08T13:06:13.991Z"
   },
   {
    "duration": 5,
    "start_time": "2022-07-08T13:06:14.176Z"
   },
   {
    "duration": 293,
    "start_time": "2022-07-08T13:06:14.183Z"
   },
   {
    "duration": 6,
    "start_time": "2022-07-08T13:06:14.478Z"
   },
   {
    "duration": 23,
    "start_time": "2022-07-08T13:06:14.486Z"
   },
   {
    "duration": 10,
    "start_time": "2022-07-08T13:06:14.512Z"
   },
   {
    "duration": 8,
    "start_time": "2022-07-08T13:06:14.527Z"
   },
   {
    "duration": 2920,
    "start_time": "2022-07-08T13:06:14.538Z"
   },
   {
    "duration": 9907,
    "start_time": "2022-07-08T13:06:17.461Z"
   },
   {
    "duration": 243092,
    "start_time": "2022-07-08T13:06:27.371Z"
   },
   {
    "duration": 39460,
    "start_time": "2022-07-08T13:10:30.464Z"
   },
   {
    "duration": 15,
    "start_time": "2022-07-08T13:11:09.925Z"
   },
   {
    "duration": 11,
    "start_time": "2022-07-08T13:11:09.941Z"
   },
   {
    "duration": 613,
    "start_time": "2022-07-08T13:11:09.954Z"
   },
   {
    "duration": 4,
    "start_time": "2022-07-08T13:11:10.568Z"
   },
   {
    "duration": 5,
    "start_time": "2022-07-08T13:11:10.573Z"
   },
   {
    "duration": 6,
    "start_time": "2022-07-08T13:11:10.580Z"
   },
   {
    "duration": 35612,
    "start_time": "2022-07-08T13:12:43.986Z"
   },
   {
    "duration": 14,
    "start_time": "2022-07-08T13:15:40.295Z"
   },
   {
    "duration": 3,
    "start_time": "2022-07-08T13:15:43.409Z"
   },
   {
    "duration": 652,
    "start_time": "2022-07-08T13:15:44.321Z"
   },
   {
    "duration": 4,
    "start_time": "2022-07-08T13:15:46.113Z"
   },
   {
    "duration": 4,
    "start_time": "2022-07-08T13:15:46.501Z"
   },
   {
    "duration": 4,
    "start_time": "2022-07-08T13:15:46.961Z"
   },
   {
    "duration": 1590,
    "start_time": "2022-07-09T18:55:37.334Z"
   },
   {
    "duration": 310,
    "start_time": "2022-07-09T18:55:38.927Z"
   },
   {
    "duration": 41,
    "start_time": "2022-07-09T18:55:39.240Z"
   },
   {
    "duration": 25,
    "start_time": "2022-07-09T18:55:39.292Z"
   },
   {
    "duration": 33,
    "start_time": "2022-07-09T18:55:39.320Z"
   },
   {
    "duration": 67,
    "start_time": "2022-07-09T18:55:39.355Z"
   },
   {
    "duration": 9,
    "start_time": "2022-07-09T18:55:39.428Z"
   },
   {
    "duration": 15,
    "start_time": "2022-07-09T18:55:39.439Z"
   },
   {
    "duration": 50,
    "start_time": "2022-07-09T18:55:39.457Z"
   },
   {
    "duration": 67,
    "start_time": "2022-07-09T18:55:39.510Z"
   },
   {
    "duration": 65,
    "start_time": "2022-07-09T18:55:39.588Z"
   },
   {
    "duration": 7,
    "start_time": "2022-07-09T18:55:39.655Z"
   },
   {
    "duration": 66,
    "start_time": "2022-07-09T18:55:39.664Z"
   },
   {
    "duration": 949,
    "start_time": "2022-07-09T18:55:39.733Z"
   },
   {
    "duration": 12,
    "start_time": "2022-07-09T18:55:40.684Z"
   },
   {
    "duration": 809,
    "start_time": "2022-07-09T18:55:40.698Z"
   },
   {
    "duration": 324,
    "start_time": "2022-07-09T18:55:41.512Z"
   },
   {
    "duration": 373,
    "start_time": "2022-07-09T18:55:41.838Z"
   },
   {
    "duration": 238,
    "start_time": "2022-07-09T18:55:42.213Z"
   },
   {
    "duration": 14,
    "start_time": "2022-07-09T18:55:42.454Z"
   },
   {
    "duration": 422,
    "start_time": "2022-07-09T18:55:42.470Z"
   },
   {
    "duration": 6,
    "start_time": "2022-07-09T18:55:42.896Z"
   },
   {
    "duration": 33,
    "start_time": "2022-07-09T18:55:42.904Z"
   },
   {
    "duration": 7,
    "start_time": "2022-07-09T18:55:42.939Z"
   },
   {
    "duration": 10,
    "start_time": "2022-07-09T18:55:42.948Z"
   },
   {
    "duration": 19,
    "start_time": "2022-07-09T18:56:18.629Z"
   },
   {
    "duration": 22,
    "start_time": "2022-07-09T18:56:45.439Z"
   },
   {
    "duration": 11,
    "start_time": "2022-07-09T18:56:46.412Z"
   },
   {
    "duration": 1566,
    "start_time": "2022-07-09T18:56:47.164Z"
   },
   {
    "duration": 22,
    "start_time": "2022-07-09T18:56:51.119Z"
   },
   {
    "duration": 18,
    "start_time": "2022-07-09T18:56:52.188Z"
   },
   {
    "duration": 12,
    "start_time": "2022-07-09T18:56:52.746Z"
   },
   {
    "duration": 198049,
    "start_time": "2022-07-09T18:58:12.396Z"
   },
   {
    "duration": 39,
    "start_time": "2022-07-09T19:02:41.881Z"
   },
   {
    "duration": 16,
    "start_time": "2022-07-09T19:02:46.788Z"
   },
   {
    "duration": 2243,
    "start_time": "2022-07-09T19:02:47.205Z"
   },
   {
    "duration": 58,
    "start_time": "2022-07-09T19:02:49.450Z"
   },
   {
    "duration": 24,
    "start_time": "2022-07-09T19:02:49.514Z"
   },
   {
    "duration": 90,
    "start_time": "2022-07-09T19:02:49.541Z"
   },
   {
    "duration": 1529,
    "start_time": "2022-07-09T19:06:05.298Z"
   },
   {
    "duration": 54,
    "start_time": "2022-07-09T19:06:06.830Z"
   },
   {
    "duration": 27,
    "start_time": "2022-07-09T19:06:06.891Z"
   },
   {
    "duration": 39,
    "start_time": "2022-07-09T19:06:06.920Z"
   },
   {
    "duration": 70,
    "start_time": "2022-07-09T19:06:06.969Z"
   },
   {
    "duration": 28,
    "start_time": "2022-07-09T19:06:07.042Z"
   },
   {
    "duration": 62,
    "start_time": "2022-07-09T19:06:07.074Z"
   },
   {
    "duration": 32,
    "start_time": "2022-07-09T19:06:07.139Z"
   },
   {
    "duration": 72,
    "start_time": "2022-07-09T19:06:07.173Z"
   },
   {
    "duration": 19,
    "start_time": "2022-07-09T19:06:07.247Z"
   },
   {
    "duration": 56,
    "start_time": "2022-07-09T19:06:07.269Z"
   },
   {
    "duration": 30,
    "start_time": "2022-07-09T19:06:07.326Z"
   },
   {
    "duration": 48,
    "start_time": "2022-07-09T19:06:07.358Z"
   },
   {
    "duration": 661,
    "start_time": "2022-07-09T19:06:07.413Z"
   },
   {
    "duration": 10,
    "start_time": "2022-07-09T19:06:08.076Z"
   },
   {
    "duration": 592,
    "start_time": "2022-07-09T19:06:08.088Z"
   },
   {
    "duration": 344,
    "start_time": "2022-07-09T19:06:08.688Z"
   },
   {
    "duration": 437,
    "start_time": "2022-07-09T19:06:09.035Z"
   },
   {
    "duration": 256,
    "start_time": "2022-07-09T19:06:09.479Z"
   },
   {
    "duration": 6,
    "start_time": "2022-07-09T19:06:09.737Z"
   },
   {
    "duration": 367,
    "start_time": "2022-07-09T19:06:09.745Z"
   },
   {
    "duration": 8,
    "start_time": "2022-07-09T19:06:10.114Z"
   },
   {
    "duration": 9,
    "start_time": "2022-07-09T19:06:10.125Z"
   },
   {
    "duration": 9,
    "start_time": "2022-07-09T19:06:10.136Z"
   },
   {
    "duration": 16,
    "start_time": "2022-07-09T19:06:10.147Z"
   },
   {
    "duration": 3535,
    "start_time": "2022-07-09T19:06:10.164Z"
   },
   {
    "duration": 12248,
    "start_time": "2022-07-09T19:06:13.705Z"
   },
   {
    "duration": 183639,
    "start_time": "2022-07-09T19:06:25.955Z"
   },
   {
    "duration": 79372,
    "start_time": "2022-07-09T19:09:29.596Z"
   },
   {
    "duration": 39,
    "start_time": "2022-07-09T19:10:48.978Z"
   },
   {
    "duration": 19,
    "start_time": "2022-07-09T19:10:49.021Z"
   },
   {
    "duration": 2408,
    "start_time": "2022-07-09T19:10:49.042Z"
   },
   {
    "duration": 35,
    "start_time": "2022-07-09T19:10:51.452Z"
   },
   {
    "duration": 57,
    "start_time": "2022-07-09T19:10:51.492Z"
   },
   {
    "duration": 84,
    "start_time": "2022-07-09T19:10:51.552Z"
   }
  ],
  "kernelspec": {
   "display_name": "Python 3",
   "language": "python",
   "name": "python3"
  },
  "language_info": {
   "codemirror_mode": {
    "name": "ipython",
    "version": 3
   },
   "file_extension": ".py",
   "mimetype": "text/x-python",
   "name": "python",
   "nbconvert_exporter": "python",
   "pygments_lexer": "ipython3",
   "version": "3.8.8"
  },
  "toc": {
   "base_numbering": 1,
   "nav_menu": {},
   "number_sections": true,
   "sideBar": true,
   "skip_h1_title": true,
   "title_cell": "Содержание",
   "title_sidebar": "Contents",
   "toc_cell": true,
   "toc_position": {},
   "toc_section_display": true,
   "toc_window_display": false
  }
 },
 "nbformat": 4,
 "nbformat_minor": 4
}